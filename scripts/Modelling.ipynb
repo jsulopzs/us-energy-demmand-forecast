{
 "cells": [
  {
   "attachments": {},
   "cell_type": "markdown",
   "metadata": {},
   "source": [
    "## Load data"
   ]
  },
  {
   "cell_type": "code",
   "execution_count": 2,
   "metadata": {},
   "outputs": [],
   "source": [
    "import pandas as pd"
   ]
  },
  {
   "cell_type": "code",
   "execution_count": 3,
   "metadata": {},
   "outputs": [
    {
     "data": {
      "text/html": [
       "<div>\n",
       "<style scoped>\n",
       "    .dataframe tbody tr th:only-of-type {\n",
       "        vertical-align: middle;\n",
       "    }\n",
       "\n",
       "    .dataframe tbody tr th {\n",
       "        vertical-align: top;\n",
       "    }\n",
       "\n",
       "    .dataframe thead th {\n",
       "        text-align: right;\n",
       "    }\n",
       "</style>\n",
       "<table border=\"1\" class=\"dataframe\">\n",
       "  <thead>\n",
       "    <tr style=\"text-align: right;\">\n",
       "      <th></th>\n",
       "      <th>AE</th>\n",
       "      <th>AEP</th>\n",
       "      <th>AP</th>\n",
       "      <th>ATSI</th>\n",
       "      <th>BC</th>\n",
       "      <th>CE</th>\n",
       "      <th>DAY</th>\n",
       "      <th>DEOK</th>\n",
       "      <th>DOM</th>\n",
       "      <th>DPL</th>\n",
       "      <th>DUQ</th>\n",
       "      <th>EKPC</th>\n",
       "      <th>JC</th>\n",
       "      <th>ME</th>\n",
       "      <th>PE</th>\n",
       "      <th>PEP</th>\n",
       "      <th>PL</th>\n",
       "      <th>PN</th>\n",
       "      <th>PS</th>\n",
       "      <th>RECO</th>\n",
       "    </tr>\n",
       "    <tr>\n",
       "      <th>period</th>\n",
       "      <th></th>\n",
       "      <th></th>\n",
       "      <th></th>\n",
       "      <th></th>\n",
       "      <th></th>\n",
       "      <th></th>\n",
       "      <th></th>\n",
       "      <th></th>\n",
       "      <th></th>\n",
       "      <th></th>\n",
       "      <th></th>\n",
       "      <th></th>\n",
       "      <th></th>\n",
       "      <th></th>\n",
       "      <th></th>\n",
       "      <th></th>\n",
       "      <th></th>\n",
       "      <th></th>\n",
       "      <th></th>\n",
       "      <th></th>\n",
       "    </tr>\n",
       "  </thead>\n",
       "  <tbody>\n",
       "    <tr>\n",
       "      <th>2018-07-01 05:00:00</th>\n",
       "      <td>1301</td>\n",
       "      <td>12187</td>\n",
       "      <td>4384</td>\n",
       "      <td>6960</td>\n",
       "      <td>3134</td>\n",
       "      <td>12136</td>\n",
       "      <td>1619</td>\n",
       "      <td>2895</td>\n",
       "      <td>9775</td>\n",
       "      <td>1919</td>\n",
       "      <td>1466</td>\n",
       "      <td>1209</td>\n",
       "      <td>2388</td>\n",
       "      <td>1442</td>\n",
       "      <td>4397</td>\n",
       "      <td>3165</td>\n",
       "      <td>3835</td>\n",
       "      <td>1611</td>\n",
       "      <td>5009</td>\n",
       "      <td>186</td>\n",
       "    </tr>\n",
       "    <tr>\n",
       "      <th>2018-07-01 06:00:00</th>\n",
       "      <td>1314</td>\n",
       "      <td>11946</td>\n",
       "      <td>4391</td>\n",
       "      <td>6762</td>\n",
       "      <td>3139</td>\n",
       "      <td>11872</td>\n",
       "      <td>1605</td>\n",
       "      <td>2857</td>\n",
       "      <td>9787</td>\n",
       "      <td>1950</td>\n",
       "      <td>1455</td>\n",
       "      <td>1197</td>\n",
       "      <td>2416</td>\n",
       "      <td>1465</td>\n",
       "      <td>4423</td>\n",
       "      <td>3156</td>\n",
       "      <td>3901</td>\n",
       "      <td>1641</td>\n",
       "      <td>4990</td>\n",
       "      <td>187</td>\n",
       "    </tr>\n",
       "    <tr>\n",
       "      <th>2018-07-01 07:00:00</th>\n",
       "      <td>1410</td>\n",
       "      <td>12664</td>\n",
       "      <td>4757</td>\n",
       "      <td>6670</td>\n",
       "      <td>3377</td>\n",
       "      <td>11992</td>\n",
       "      <td>1707</td>\n",
       "      <td>2997</td>\n",
       "      <td>10453</td>\n",
       "      <td>2160</td>\n",
       "      <td>1528</td>\n",
       "      <td>1273</td>\n",
       "      <td>2644</td>\n",
       "      <td>1605</td>\n",
       "      <td>4743</td>\n",
       "      <td>3332</td>\n",
       "      <td>4232</td>\n",
       "      <td>1728</td>\n",
       "      <td>5267</td>\n",
       "      <td>202</td>\n",
       "    </tr>\n",
       "    <tr>\n",
       "      <th>2018-07-01 08:00:00</th>\n",
       "      <td>1567</td>\n",
       "      <td>14069</td>\n",
       "      <td>5308</td>\n",
       "      <td>7065</td>\n",
       "      <td>3788</td>\n",
       "      <td>12860</td>\n",
       "      <td>1916</td>\n",
       "      <td>3331</td>\n",
       "      <td>11734</td>\n",
       "      <td>2470</td>\n",
       "      <td>1688</td>\n",
       "      <td>1472</td>\n",
       "      <td>3064</td>\n",
       "      <td>1784</td>\n",
       "      <td>5230</td>\n",
       "      <td>3679</td>\n",
       "      <td>4613</td>\n",
       "      <td>1899</td>\n",
       "      <td>5735</td>\n",
       "      <td>230</td>\n",
       "    </tr>\n",
       "    <tr>\n",
       "      <th>2018-07-01 09:00:00</th>\n",
       "      <td>1749</td>\n",
       "      <td>15610</td>\n",
       "      <td>5862</td>\n",
       "      <td>7833</td>\n",
       "      <td>4262</td>\n",
       "      <td>14212</td>\n",
       "      <td>2145</td>\n",
       "      <td>3703</td>\n",
       "      <td>13084</td>\n",
       "      <td>2765</td>\n",
       "      <td>1875</td>\n",
       "      <td>1656</td>\n",
       "      <td>3569</td>\n",
       "      <td>1972</td>\n",
       "      <td>5752</td>\n",
       "      <td>4085</td>\n",
       "      <td>5014</td>\n",
       "      <td>2055</td>\n",
       "      <td>6299</td>\n",
       "      <td>259</td>\n",
       "    </tr>\n",
       "  </tbody>\n",
       "</table>\n",
       "</div>"
      ],
      "text/plain": [
       "                       AE    AEP    AP  ATSI    BC     CE   DAY  DEOK    DOM  \\\n",
       "period                                                                         \n",
       "2018-07-01 05:00:00  1301  12187  4384  6960  3134  12136  1619  2895   9775   \n",
       "2018-07-01 06:00:00  1314  11946  4391  6762  3139  11872  1605  2857   9787   \n",
       "2018-07-01 07:00:00  1410  12664  4757  6670  3377  11992  1707  2997  10453   \n",
       "2018-07-01 08:00:00  1567  14069  5308  7065  3788  12860  1916  3331  11734   \n",
       "2018-07-01 09:00:00  1749  15610  5862  7833  4262  14212  2145  3703  13084   \n",
       "\n",
       "                      DPL   DUQ  EKPC    JC    ME    PE   PEP    PL    PN  \\\n",
       "period                                                                      \n",
       "2018-07-01 05:00:00  1919  1466  1209  2388  1442  4397  3165  3835  1611   \n",
       "2018-07-01 06:00:00  1950  1455  1197  2416  1465  4423  3156  3901  1641   \n",
       "2018-07-01 07:00:00  2160  1528  1273  2644  1605  4743  3332  4232  1728   \n",
       "2018-07-01 08:00:00  2470  1688  1472  3064  1784  5230  3679  4613  1899   \n",
       "2018-07-01 09:00:00  2765  1875  1656  3569  1972  5752  4085  5014  2055   \n",
       "\n",
       "                       PS  RECO  \n",
       "period                           \n",
       "2018-07-01 05:00:00  5009   186  \n",
       "2018-07-01 06:00:00  4990   187  \n",
       "2018-07-01 07:00:00  5267   202  \n",
       "2018-07-01 08:00:00  5735   230  \n",
       "2018-07-01 09:00:00  6299   259  "
      ]
     },
     "execution_count": 3,
     "metadata": {},
     "output_type": "execute_result"
    }
   ],
   "source": [
    "df_base = pd.read_csv('../data/general/pjm_pivot.csv', index_col=0, parse_dates=True)\n",
    "df_base.head()"
   ]
  },
  {
   "attachments": {},
   "cell_type": "markdown",
   "metadata": {},
   "source": [
    "## Select region"
   ]
  },
  {
   "cell_type": "code",
   "execution_count": 4,
   "metadata": {
    "tags": [
     "parameters"
    ]
   },
   "outputs": [],
   "source": [
    "region = 'AE'"
   ]
  },
  {
   "cell_type": "code",
   "execution_count": 5,
   "metadata": {},
   "outputs": [
    {
     "data": {
      "text/html": [
       "<div>\n",
       "<style scoped>\n",
       "    .dataframe tbody tr th:only-of-type {\n",
       "        vertical-align: middle;\n",
       "    }\n",
       "\n",
       "    .dataframe tbody tr th {\n",
       "        vertical-align: top;\n",
       "    }\n",
       "\n",
       "    .dataframe thead th {\n",
       "        text-align: right;\n",
       "    }\n",
       "</style>\n",
       "<table border=\"1\" class=\"dataframe\">\n",
       "  <thead>\n",
       "    <tr style=\"text-align: right;\">\n",
       "      <th></th>\n",
       "      <th>AE</th>\n",
       "    </tr>\n",
       "    <tr>\n",
       "      <th>period</th>\n",
       "      <th></th>\n",
       "    </tr>\n",
       "  </thead>\n",
       "  <tbody>\n",
       "    <tr>\n",
       "      <th>2018-07-01 05:00:00</th>\n",
       "      <td>1301</td>\n",
       "    </tr>\n",
       "    <tr>\n",
       "      <th>2018-07-01 06:00:00</th>\n",
       "      <td>1314</td>\n",
       "    </tr>\n",
       "    <tr>\n",
       "      <th>2018-07-01 07:00:00</th>\n",
       "      <td>1410</td>\n",
       "    </tr>\n",
       "    <tr>\n",
       "      <th>2018-07-01 08:00:00</th>\n",
       "      <td>1567</td>\n",
       "    </tr>\n",
       "    <tr>\n",
       "      <th>2018-07-01 09:00:00</th>\n",
       "      <td>1749</td>\n",
       "    </tr>\n",
       "    <tr>\n",
       "      <th>...</th>\n",
       "      <td>...</td>\n",
       "    </tr>\n",
       "    <tr>\n",
       "      <th>2023-11-01 00:00:00</th>\n",
       "      <td>1160</td>\n",
       "    </tr>\n",
       "    <tr>\n",
       "      <th>2023-11-01 01:00:00</th>\n",
       "      <td>1152</td>\n",
       "    </tr>\n",
       "    <tr>\n",
       "      <th>2023-11-01 02:00:00</th>\n",
       "      <td>1113</td>\n",
       "    </tr>\n",
       "    <tr>\n",
       "      <th>2023-11-01 03:00:00</th>\n",
       "      <td>1049</td>\n",
       "    </tr>\n",
       "    <tr>\n",
       "      <th>2023-11-01 04:00:00</th>\n",
       "      <td>990</td>\n",
       "    </tr>\n",
       "  </tbody>\n",
       "</table>\n",
       "<p>44904 rows × 1 columns</p>\n",
       "</div>"
      ],
      "text/plain": [
       "                       AE\n",
       "period                   \n",
       "2018-07-01 05:00:00  1301\n",
       "2018-07-01 06:00:00  1314\n",
       "2018-07-01 07:00:00  1410\n",
       "2018-07-01 08:00:00  1567\n",
       "2018-07-01 09:00:00  1749\n",
       "...                   ...\n",
       "2023-11-01 00:00:00  1160\n",
       "2023-11-01 01:00:00  1152\n",
       "2023-11-01 02:00:00  1113\n",
       "2023-11-01 03:00:00  1049\n",
       "2023-11-01 04:00:00   990\n",
       "\n",
       "[44904 rows x 1 columns]"
      ]
     },
     "execution_count": 5,
     "metadata": {},
     "output_type": "execute_result"
    }
   ],
   "source": [
    "df = df_base.loc[:, [region]]\n",
    "df"
   ]
  },
  {
   "attachments": {},
   "cell_type": "markdown",
   "metadata": {},
   "source": [
    "## Data Preprocessing"
   ]
  },
  {
   "cell_type": "markdown",
   "metadata": {},
   "source": [
    "### Train Test Split"
   ]
  },
  {
   "cell_type": "code",
   "execution_count": 6,
   "metadata": {},
   "outputs": [],
   "source": [
    "from sklearn.model_selection import train_test_split\n",
    "\n",
    "train, test = train_test_split(df, test_size=0.3, shuffle=False)\n",
    "test, prod = train_test_split(test, test_size=0.5, shuffle=False)"
   ]
  },
  {
   "cell_type": "markdown",
   "metadata": {},
   "source": [
    "### Export Data"
   ]
  },
  {
   "cell_type": "code",
   "execution_count": 7,
   "metadata": {},
   "outputs": [],
   "source": [
    "import os\n",
    "\n",
    "path_region = f'../data/regions/{region}'\n",
    "\n",
    "if not os.path.exists(path_region):\n",
    "    os.makedirs(path_region)\n",
    "\n",
    "for df, name in zip([train, test, prod], ['train', 'test', 'prod']):\n",
    "    df.to_csv(f'{path_region}/{name}.csv')"
   ]
  },
  {
   "attachments": {},
   "cell_type": "markdown",
   "metadata": {},
   "source": [
    "### Scale Data"
   ]
  },
  {
   "cell_type": "code",
   "execution_count": 8,
   "metadata": {},
   "outputs": [],
   "source": [
    "from sklearn.preprocessing import MinMaxScaler\n",
    "\n",
    "scaler = MinMaxScaler(feature_range=(0, 1))\n",
    "\n",
    "train_norm = scaler.fit_transform(train)\n",
    "test_norm = scaler.transform(test)"
   ]
  },
  {
   "attachments": {},
   "cell_type": "markdown",
   "metadata": {},
   "source": [
    "### Create Sequences"
   ]
  },
  {
   "cell_type": "code",
   "execution_count": 9,
   "metadata": {},
   "outputs": [],
   "source": [
    "import numpy as np\n",
    "\n",
    "def create_sequences(data, sequence_length):\n",
    "    X, y = [], []\n",
    "    for i in range(len(data) - sequence_length):\n",
    "        X.append(data[i:i+sequence_length])\n",
    "        y.append(data[i+sequence_length])\n",
    "    return np.array(X), np.array(y)\n",
    "\n",
    "sequence_length = 24 # Use 24 hours prior to predict the following hour\n",
    "X_train, y_train = create_sequences(train_norm, sequence_length)\n",
    "X_test, y_test = create_sequences(test_norm, sequence_length)"
   ]
  },
  {
   "attachments": {},
   "cell_type": "markdown",
   "metadata": {},
   "source": [
    "## Modelling"
   ]
  },
  {
   "attachments": {},
   "cell_type": "markdown",
   "metadata": {},
   "source": [
    "### Design NN Architecture"
   ]
  },
  {
   "cell_type": "code",
   "execution_count": 11,
   "metadata": {},
   "outputs": [
    {
     "name": "stdout",
     "output_type": "stream",
     "text": [
      "WARNING:tensorflow:From c:\\Users\\jesus\\miniconda3\\envs\\tf-base\\lib\\site-packages\\tensorflow\\python\\ops\\init_ops.py:1251: calling VarianceScaling.__init__ (from tensorflow.python.ops.init_ops) with dtype is deprecated and will be removed in a future version.\n",
      "Instructions for updating:\n",
      "Call initializer instance with the dtype argument instead of passing it to the constructor\n"
     ]
    }
   ],
   "source": [
    "from tensorflow.keras.models import Sequential\n",
    "from tensorflow.keras.layers import LSTM, Dense\n",
    "\n",
    "model = Sequential()\n",
    "model.add(LSTM(50, input_shape=(X_train.shape[1], X_train.shape[2])))\n",
    "model.add(Dense(1))\n",
    "model.compile(optimizer='adam', loss='mean_squared_error')"
   ]
  },
  {
   "attachments": {},
   "cell_type": "markdown",
   "metadata": {},
   "source": [
    "### Train Model"
   ]
  },
  {
   "cell_type": "code",
   "execution_count": 12,
   "metadata": {},
   "outputs": [
    {
     "name": "stdout",
     "output_type": "stream",
     "text": [
      "WARNING:tensorflow:From c:\\Users\\jesus\\miniconda3\\envs\\tf-base\\lib\\site-packages\\tensorflow\\python\\ops\\math_grad.py:1250: add_dispatch_support.<locals>.wrapper (from tensorflow.python.ops.array_ops) is deprecated and will be removed in a future version.\n",
      "Instructions for updating:\n",
      "Use tf.where in 2.0, which has the same broadcast rule as np.where\n"
     ]
    }
   ],
   "source": [
    "from tensorflow.keras.callbacks import EarlyStopping\n",
    "\n",
    "early_stop = EarlyStopping(monitor='val_loss', patience=5)\n",
    "\n",
    "history = model.fit(\n",
    "    X_train, y_train, epochs=50, batch_size=64, verbose=0,\n",
    "    validation_data=(X_test, y_test), callbacks=[early_stop])"
   ]
  },
  {
   "attachments": {},
   "cell_type": "markdown",
   "metadata": {},
   "source": [
    "### Calculate Predictions"
   ]
  },
  {
   "cell_type": "code",
   "execution_count": 13,
   "metadata": {},
   "outputs": [
    {
     "data": {
      "text/plain": [
       "array([[0.11617891],\n",
       "       [0.15235904],\n",
       "       [0.19788644],\n",
       "       ...,\n",
       "       [0.22454396],\n",
       "       [0.25258493],\n",
       "       [0.29553095]], dtype=float32)"
      ]
     },
     "execution_count": 13,
     "metadata": {},
     "output_type": "execute_result"
    }
   ],
   "source": [
    "y_pred = model.predict(X_test)\n",
    "y_pred"
   ]
  },
  {
   "attachments": {},
   "cell_type": "markdown",
   "metadata": {},
   "source": [
    "### Comparison: Real Data & Prediction"
   ]
  },
  {
   "attachments": {},
   "cell_type": "markdown",
   "metadata": {},
   "source": [
    "#### Descale Data"
   ]
  },
  {
   "cell_type": "code",
   "execution_count": 14,
   "metadata": {},
   "outputs": [],
   "source": [
    "y_pred_scaled_inverse = scaler.inverse_transform(y_pred)\n",
    "y_true = scaler.inverse_transform(y_test)"
   ]
  },
  {
   "attachments": {},
   "cell_type": "markdown",
   "metadata": {},
   "source": [
    "#### Create DataFrame"
   ]
  },
  {
   "cell_type": "code",
   "execution_count": 15,
   "metadata": {},
   "outputs": [
    {
     "data": {
      "text/html": [
       "<div>\n",
       "<style scoped>\n",
       "    .dataframe tbody tr th:only-of-type {\n",
       "        vertical-align: middle;\n",
       "    }\n",
       "\n",
       "    .dataframe tbody tr th {\n",
       "        vertical-align: top;\n",
       "    }\n",
       "\n",
       "    .dataframe thead th {\n",
       "        text-align: right;\n",
       "    }\n",
       "</style>\n",
       "<table border=\"1\" class=\"dataframe\">\n",
       "  <thead>\n",
       "    <tr style=\"text-align: right;\">\n",
       "      <th></th>\n",
       "      <th>y_pred</th>\n",
       "      <th>y_pred_scaled_inverse</th>\n",
       "      <th>y_true</th>\n",
       "    </tr>\n",
       "  </thead>\n",
       "  <tbody>\n",
       "    <tr>\n",
       "      <th>0</th>\n",
       "      <td>0.116179</td>\n",
       "      <td>769.605652</td>\n",
       "      <td>782.0</td>\n",
       "    </tr>\n",
       "    <tr>\n",
       "      <th>1</th>\n",
       "      <td>0.152359</td>\n",
       "      <td>853.254089</td>\n",
       "      <td>889.0</td>\n",
       "    </tr>\n",
       "    <tr>\n",
       "      <th>2</th>\n",
       "      <td>0.197886</td>\n",
       "      <td>958.513428</td>\n",
       "      <td>986.0</td>\n",
       "    </tr>\n",
       "    <tr>\n",
       "      <th>3</th>\n",
       "      <td>0.229340</td>\n",
       "      <td>1031.235229</td>\n",
       "      <td>1055.0</td>\n",
       "    </tr>\n",
       "    <tr>\n",
       "      <th>4</th>\n",
       "      <td>0.246754</td>\n",
       "      <td>1071.495361</td>\n",
       "      <td>1041.0</td>\n",
       "    </tr>\n",
       "    <tr>\n",
       "      <th>...</th>\n",
       "      <td>...</td>\n",
       "      <td>...</td>\n",
       "      <td>...</td>\n",
       "    </tr>\n",
       "    <tr>\n",
       "      <th>6707</th>\n",
       "      <td>0.201757</td>\n",
       "      <td>967.461060</td>\n",
       "      <td>969.0</td>\n",
       "    </tr>\n",
       "    <tr>\n",
       "      <th>6708</th>\n",
       "      <td>0.206564</td>\n",
       "      <td>978.576538</td>\n",
       "      <td>992.0</td>\n",
       "    </tr>\n",
       "    <tr>\n",
       "      <th>6709</th>\n",
       "      <td>0.224544</td>\n",
       "      <td>1020.145630</td>\n",
       "      <td>1046.0</td>\n",
       "    </tr>\n",
       "    <tr>\n",
       "      <th>6710</th>\n",
       "      <td>0.252585</td>\n",
       "      <td>1084.976318</td>\n",
       "      <td>1136.0</td>\n",
       "    </tr>\n",
       "    <tr>\n",
       "      <th>6711</th>\n",
       "      <td>0.295531</td>\n",
       "      <td>1184.267578</td>\n",
       "      <td>1194.0</td>\n",
       "    </tr>\n",
       "  </tbody>\n",
       "</table>\n",
       "<p>6712 rows × 3 columns</p>\n",
       "</div>"
      ],
      "text/plain": [
       "        y_pred  y_pred_scaled_inverse  y_true\n",
       "0     0.116179             769.605652   782.0\n",
       "1     0.152359             853.254089   889.0\n",
       "2     0.197886             958.513428   986.0\n",
       "3     0.229340            1031.235229  1055.0\n",
       "4     0.246754            1071.495361  1041.0\n",
       "...        ...                    ...     ...\n",
       "6707  0.201757             967.461060   969.0\n",
       "6708  0.206564             978.576538   992.0\n",
       "6709  0.224544            1020.145630  1046.0\n",
       "6710  0.252585            1084.976318  1136.0\n",
       "6711  0.295531            1184.267578  1194.0\n",
       "\n",
       "[6712 rows x 3 columns]"
      ]
     },
     "execution_count": 15,
     "metadata": {},
     "output_type": "execute_result"
    }
   ],
   "source": [
    "dic_pred = {\n",
    "    'y_pred': y_pred.flatten(),\n",
    "    'y_pred_scaled_inverse': y_pred_scaled_inverse.flatten(),\n",
    "    'y_true': y_true.flatten(),\n",
    "}\n",
    "\n",
    "df_pred = pd.DataFrame(dic_pred)\n",
    "df_pred"
   ]
  },
  {
   "attachments": {},
   "cell_type": "markdown",
   "metadata": {},
   "source": [
    "#### Evaluate Model"
   ]
  },
  {
   "cell_type": "code",
   "execution_count": 16,
   "metadata": {},
   "outputs": [],
   "source": [
    "from sklearn.metrics import mean_squared_error"
   ]
  },
  {
   "cell_type": "code",
   "execution_count": 17,
   "metadata": {},
   "outputs": [
    {
     "data": {
      "text/plain": [
       "26.697341518137467"
      ]
     },
     "execution_count": 17,
     "metadata": {},
     "output_type": "execute_result"
    }
   ],
   "source": [
    "mean_squared_error(df_pred.y_true, df_pred.y_pred_scaled_inverse, squared=False)"
   ]
  },
  {
   "cell_type": "code",
   "execution_count": 18,
   "metadata": {},
   "outputs": [],
   "source": [
    "model.save(f'../models/{region}.keras')"
   ]
  }
 ],
 "metadata": {
  "kernelspec": {
   "display_name": "deep-learning",
   "language": "python",
   "name": "python3"
  },
  "language_info": {
   "codemirror_mode": {
    "name": "ipython",
    "version": 3
   },
   "file_extension": ".py",
   "mimetype": "text/x-python",
   "name": "python",
   "nbconvert_exporter": "python",
   "pygments_lexer": "ipython3",
   "version": "3.7.12"
  },
  "orig_nbformat": 4
 },
 "nbformat": 4,
 "nbformat_minor": 2
}
