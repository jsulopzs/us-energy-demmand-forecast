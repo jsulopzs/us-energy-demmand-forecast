{
 "cells": [
  {
   "attachments": {},
   "cell_type": "markdown",
   "id": "f17f6fc4",
   "metadata": {
    "papermill": {
     "duration": 0.002522,
     "end_time": "2023-12-13T13:44:33.573133",
     "exception": false,
     "start_time": "2023-12-13T13:44:33.570611",
     "status": "completed"
    },
    "tags": []
   },
   "source": [
    "## Load data"
   ]
  },
  {
   "cell_type": "code",
   "execution_count": 1,
   "id": "2bace1df",
   "metadata": {
    "execution": {
     "iopub.execute_input": "2023-12-13T13:44:33.593346Z",
     "iopub.status.busy": "2023-12-13T13:44:33.593346Z",
     "iopub.status.idle": "2023-12-13T13:44:33.939224Z",
     "shell.execute_reply": "2023-12-13T13:44:33.939224Z"
    },
    "papermill": {
     "duration": 0.366091,
     "end_time": "2023-12-13T13:44:33.939224",
     "exception": false,
     "start_time": "2023-12-13T13:44:33.573133",
     "status": "completed"
    },
    "tags": []
   },
   "outputs": [],
   "source": [
    "import pandas as pd"
   ]
  },
  {
   "cell_type": "code",
   "execution_count": 2,
   "id": "46ce1e00",
   "metadata": {
    "execution": {
     "iopub.execute_input": "2023-12-13T13:44:33.956061Z",
     "iopub.status.busy": "2023-12-13T13:44:33.955373Z",
     "iopub.status.idle": "2023-12-13T13:44:34.068758Z",
     "shell.execute_reply": "2023-12-13T13:44:34.068758Z"
    },
    "papermill": {
     "duration": 0.131538,
     "end_time": "2023-12-13T13:44:34.070762",
     "exception": false,
     "start_time": "2023-12-13T13:44:33.939224",
     "status": "completed"
    },
    "tags": []
   },
   "outputs": [
    {
     "data": {
      "text/html": [
       "<div>\n",
       "<style scoped>\n",
       "    .dataframe tbody tr th:only-of-type {\n",
       "        vertical-align: middle;\n",
       "    }\n",
       "\n",
       "    .dataframe tbody tr th {\n",
       "        vertical-align: top;\n",
       "    }\n",
       "\n",
       "    .dataframe thead th {\n",
       "        text-align: right;\n",
       "    }\n",
       "</style>\n",
       "<table border=\"1\" class=\"dataframe\">\n",
       "  <thead>\n",
       "    <tr style=\"text-align: right;\">\n",
       "      <th></th>\n",
       "      <th>AE</th>\n",
       "      <th>AEP</th>\n",
       "      <th>AP</th>\n",
       "      <th>ATSI</th>\n",
       "      <th>BC</th>\n",
       "      <th>CE</th>\n",
       "      <th>DAY</th>\n",
       "      <th>DEOK</th>\n",
       "      <th>DOM</th>\n",
       "      <th>DPL</th>\n",
       "      <th>DUQ</th>\n",
       "      <th>EKPC</th>\n",
       "      <th>JC</th>\n",
       "      <th>ME</th>\n",
       "      <th>PE</th>\n",
       "      <th>PEP</th>\n",
       "      <th>PL</th>\n",
       "      <th>PN</th>\n",
       "      <th>PS</th>\n",
       "      <th>RECO</th>\n",
       "    </tr>\n",
       "    <tr>\n",
       "      <th>period</th>\n",
       "      <th></th>\n",
       "      <th></th>\n",
       "      <th></th>\n",
       "      <th></th>\n",
       "      <th></th>\n",
       "      <th></th>\n",
       "      <th></th>\n",
       "      <th></th>\n",
       "      <th></th>\n",
       "      <th></th>\n",
       "      <th></th>\n",
       "      <th></th>\n",
       "      <th></th>\n",
       "      <th></th>\n",
       "      <th></th>\n",
       "      <th></th>\n",
       "      <th></th>\n",
       "      <th></th>\n",
       "      <th></th>\n",
       "      <th></th>\n",
       "    </tr>\n",
       "  </thead>\n",
       "  <tbody>\n",
       "    <tr>\n",
       "      <th>2018-07-01 05:00:00</th>\n",
       "      <td>1301</td>\n",
       "      <td>12187</td>\n",
       "      <td>4384</td>\n",
       "      <td>6960</td>\n",
       "      <td>3134</td>\n",
       "      <td>12136</td>\n",
       "      <td>1619</td>\n",
       "      <td>2895</td>\n",
       "      <td>9775</td>\n",
       "      <td>1919</td>\n",
       "      <td>1466</td>\n",
       "      <td>1209</td>\n",
       "      <td>2388</td>\n",
       "      <td>1442</td>\n",
       "      <td>4397</td>\n",
       "      <td>3165</td>\n",
       "      <td>3835</td>\n",
       "      <td>1611</td>\n",
       "      <td>5009</td>\n",
       "      <td>186</td>\n",
       "    </tr>\n",
       "    <tr>\n",
       "      <th>2018-07-01 06:00:00</th>\n",
       "      <td>1314</td>\n",
       "      <td>11946</td>\n",
       "      <td>4391</td>\n",
       "      <td>6762</td>\n",
       "      <td>3139</td>\n",
       "      <td>11872</td>\n",
       "      <td>1605</td>\n",
       "      <td>2857</td>\n",
       "      <td>9787</td>\n",
       "      <td>1950</td>\n",
       "      <td>1455</td>\n",
       "      <td>1197</td>\n",
       "      <td>2416</td>\n",
       "      <td>1465</td>\n",
       "      <td>4423</td>\n",
       "      <td>3156</td>\n",
       "      <td>3901</td>\n",
       "      <td>1641</td>\n",
       "      <td>4990</td>\n",
       "      <td>187</td>\n",
       "    </tr>\n",
       "    <tr>\n",
       "      <th>2018-07-01 07:00:00</th>\n",
       "      <td>1410</td>\n",
       "      <td>12664</td>\n",
       "      <td>4757</td>\n",
       "      <td>6670</td>\n",
       "      <td>3377</td>\n",
       "      <td>11992</td>\n",
       "      <td>1707</td>\n",
       "      <td>2997</td>\n",
       "      <td>10453</td>\n",
       "      <td>2160</td>\n",
       "      <td>1528</td>\n",
       "      <td>1273</td>\n",
       "      <td>2644</td>\n",
       "      <td>1605</td>\n",
       "      <td>4743</td>\n",
       "      <td>3332</td>\n",
       "      <td>4232</td>\n",
       "      <td>1728</td>\n",
       "      <td>5267</td>\n",
       "      <td>202</td>\n",
       "    </tr>\n",
       "    <tr>\n",
       "      <th>2018-07-01 08:00:00</th>\n",
       "      <td>1567</td>\n",
       "      <td>14069</td>\n",
       "      <td>5308</td>\n",
       "      <td>7065</td>\n",
       "      <td>3788</td>\n",
       "      <td>12860</td>\n",
       "      <td>1916</td>\n",
       "      <td>3331</td>\n",
       "      <td>11734</td>\n",
       "      <td>2470</td>\n",
       "      <td>1688</td>\n",
       "      <td>1472</td>\n",
       "      <td>3064</td>\n",
       "      <td>1784</td>\n",
       "      <td>5230</td>\n",
       "      <td>3679</td>\n",
       "      <td>4613</td>\n",
       "      <td>1899</td>\n",
       "      <td>5735</td>\n",
       "      <td>230</td>\n",
       "    </tr>\n",
       "    <tr>\n",
       "      <th>2018-07-01 09:00:00</th>\n",
       "      <td>1749</td>\n",
       "      <td>15610</td>\n",
       "      <td>5862</td>\n",
       "      <td>7833</td>\n",
       "      <td>4262</td>\n",
       "      <td>14212</td>\n",
       "      <td>2145</td>\n",
       "      <td>3703</td>\n",
       "      <td>13084</td>\n",
       "      <td>2765</td>\n",
       "      <td>1875</td>\n",
       "      <td>1656</td>\n",
       "      <td>3569</td>\n",
       "      <td>1972</td>\n",
       "      <td>5752</td>\n",
       "      <td>4085</td>\n",
       "      <td>5014</td>\n",
       "      <td>2055</td>\n",
       "      <td>6299</td>\n",
       "      <td>259</td>\n",
       "    </tr>\n",
       "  </tbody>\n",
       "</table>\n",
       "</div>"
      ],
      "text/plain": [
       "                       AE    AEP    AP  ATSI    BC     CE   DAY  DEOK    DOM  \\\n",
       "period                                                                         \n",
       "2018-07-01 05:00:00  1301  12187  4384  6960  3134  12136  1619  2895   9775   \n",
       "2018-07-01 06:00:00  1314  11946  4391  6762  3139  11872  1605  2857   9787   \n",
       "2018-07-01 07:00:00  1410  12664  4757  6670  3377  11992  1707  2997  10453   \n",
       "2018-07-01 08:00:00  1567  14069  5308  7065  3788  12860  1916  3331  11734   \n",
       "2018-07-01 09:00:00  1749  15610  5862  7833  4262  14212  2145  3703  13084   \n",
       "\n",
       "                      DPL   DUQ  EKPC    JC    ME    PE   PEP    PL    PN  \\\n",
       "period                                                                      \n",
       "2018-07-01 05:00:00  1919  1466  1209  2388  1442  4397  3165  3835  1611   \n",
       "2018-07-01 06:00:00  1950  1455  1197  2416  1465  4423  3156  3901  1641   \n",
       "2018-07-01 07:00:00  2160  1528  1273  2644  1605  4743  3332  4232  1728   \n",
       "2018-07-01 08:00:00  2470  1688  1472  3064  1784  5230  3679  4613  1899   \n",
       "2018-07-01 09:00:00  2765  1875  1656  3569  1972  5752  4085  5014  2055   \n",
       "\n",
       "                       PS  RECO  \n",
       "period                           \n",
       "2018-07-01 05:00:00  5009   186  \n",
       "2018-07-01 06:00:00  4990   187  \n",
       "2018-07-01 07:00:00  5267   202  \n",
       "2018-07-01 08:00:00  5735   230  \n",
       "2018-07-01 09:00:00  6299   259  "
      ]
     },
     "execution_count": 2,
     "metadata": {},
     "output_type": "execute_result"
    }
   ],
   "source": [
    "df_base = pd.read_csv('../data/general/pjm_pivot.csv', index_col=0, parse_dates=True)\n",
    "df_base.head()"
   ]
  },
  {
   "attachments": {},
   "cell_type": "markdown",
   "id": "7390843d",
   "metadata": {
    "papermill": {
     "duration": 0.006002,
     "end_time": "2023-12-13T13:44:34.083765",
     "exception": false,
     "start_time": "2023-12-13T13:44:34.077763",
     "status": "completed"
    },
    "tags": []
   },
   "source": [
    "## Select region"
   ]
  },
  {
   "cell_type": "code",
   "execution_count": 3,
   "id": "6e4fd31a",
   "metadata": {
    "execution": {
     "iopub.execute_input": "2023-12-13T13:44:34.099768Z",
     "iopub.status.busy": "2023-12-13T13:44:34.098768Z",
     "iopub.status.idle": "2023-12-13T13:44:34.114979Z",
     "shell.execute_reply": "2023-12-13T13:44:34.114979Z"
    },
    "papermill": {
     "duration": 0.025212,
     "end_time": "2023-12-13T13:44:34.116979",
     "exception": false,
     "start_time": "2023-12-13T13:44:34.091767",
     "status": "completed"
    },
    "tags": [
     "parameters"
    ]
   },
   "outputs": [],
   "source": [
    "region = 'AE'"
   ]
  },
  {
   "cell_type": "code",
   "execution_count": 4,
   "id": "1fc58a51",
   "metadata": {
    "execution": {
     "iopub.execute_input": "2023-12-13T13:44:34.125172Z",
     "iopub.status.busy": "2023-12-13T13:44:34.125172Z",
     "iopub.status.idle": "2023-12-13T13:44:34.140867Z",
     "shell.execute_reply": "2023-12-13T13:44:34.140867Z"
    },
    "papermill": {
     "duration": 0.019887,
     "end_time": "2023-12-13T13:44:34.142868",
     "exception": false,
     "start_time": "2023-12-13T13:44:34.122981",
     "status": "completed"
    },
    "tags": [
     "injected-parameters"
    ]
   },
   "outputs": [],
   "source": [
    "# Parameters\n",
    "region = \"PN\"\n"
   ]
  },
  {
   "cell_type": "code",
   "execution_count": 5,
   "id": "472bc3ec",
   "metadata": {
    "execution": {
     "iopub.execute_input": "2023-12-13T13:44:34.159872Z",
     "iopub.status.busy": "2023-12-13T13:44:34.159872Z",
     "iopub.status.idle": "2023-12-13T13:44:34.173237Z",
     "shell.execute_reply": "2023-12-13T13:44:34.172799Z"
    },
    "papermill": {
     "duration": 0.024367,
     "end_time": "2023-12-13T13:44:34.173237",
     "exception": false,
     "start_time": "2023-12-13T13:44:34.148870",
     "status": "completed"
    },
    "tags": []
   },
   "outputs": [
    {
     "data": {
      "text/html": [
       "<div>\n",
       "<style scoped>\n",
       "    .dataframe tbody tr th:only-of-type {\n",
       "        vertical-align: middle;\n",
       "    }\n",
       "\n",
       "    .dataframe tbody tr th {\n",
       "        vertical-align: top;\n",
       "    }\n",
       "\n",
       "    .dataframe thead th {\n",
       "        text-align: right;\n",
       "    }\n",
       "</style>\n",
       "<table border=\"1\" class=\"dataframe\">\n",
       "  <thead>\n",
       "    <tr style=\"text-align: right;\">\n",
       "      <th></th>\n",
       "      <th>PN</th>\n",
       "    </tr>\n",
       "    <tr>\n",
       "      <th>period</th>\n",
       "      <th></th>\n",
       "    </tr>\n",
       "  </thead>\n",
       "  <tbody>\n",
       "    <tr>\n",
       "      <th>2018-07-01 05:00:00</th>\n",
       "      <td>1611</td>\n",
       "    </tr>\n",
       "    <tr>\n",
       "      <th>2018-07-01 06:00:00</th>\n",
       "      <td>1641</td>\n",
       "    </tr>\n",
       "    <tr>\n",
       "      <th>2018-07-01 07:00:00</th>\n",
       "      <td>1728</td>\n",
       "    </tr>\n",
       "    <tr>\n",
       "      <th>2018-07-01 08:00:00</th>\n",
       "      <td>1899</td>\n",
       "    </tr>\n",
       "    <tr>\n",
       "      <th>2018-07-01 09:00:00</th>\n",
       "      <td>2055</td>\n",
       "    </tr>\n",
       "    <tr>\n",
       "      <th>...</th>\n",
       "      <td>...</td>\n",
       "    </tr>\n",
       "    <tr>\n",
       "      <th>2023-11-01 00:00:00</th>\n",
       "      <td>2047</td>\n",
       "    </tr>\n",
       "    <tr>\n",
       "      <th>2023-11-01 01:00:00</th>\n",
       "      <td>2035</td>\n",
       "    </tr>\n",
       "    <tr>\n",
       "      <th>2023-11-01 02:00:00</th>\n",
       "      <td>1968</td>\n",
       "    </tr>\n",
       "    <tr>\n",
       "      <th>2023-11-01 03:00:00</th>\n",
       "      <td>1917</td>\n",
       "    </tr>\n",
       "    <tr>\n",
       "      <th>2023-11-01 04:00:00</th>\n",
       "      <td>1823</td>\n",
       "    </tr>\n",
       "  </tbody>\n",
       "</table>\n",
       "<p>44904 rows × 1 columns</p>\n",
       "</div>"
      ],
      "text/plain": [
       "                       PN\n",
       "period                   \n",
       "2018-07-01 05:00:00  1611\n",
       "2018-07-01 06:00:00  1641\n",
       "2018-07-01 07:00:00  1728\n",
       "2018-07-01 08:00:00  1899\n",
       "2018-07-01 09:00:00  2055\n",
       "...                   ...\n",
       "2023-11-01 00:00:00  2047\n",
       "2023-11-01 01:00:00  2035\n",
       "2023-11-01 02:00:00  1968\n",
       "2023-11-01 03:00:00  1917\n",
       "2023-11-01 04:00:00  1823\n",
       "\n",
       "[44904 rows x 1 columns]"
      ]
     },
     "execution_count": 5,
     "metadata": {},
     "output_type": "execute_result"
    }
   ],
   "source": [
    "df = df_base.loc[:, [region]]\n",
    "df"
   ]
  },
  {
   "attachments": {},
   "cell_type": "markdown",
   "id": "8a916645",
   "metadata": {
    "papermill": {
     "duration": 0.0,
     "end_time": "2023-12-13T13:44:34.173237",
     "exception": false,
     "start_time": "2023-12-13T13:44:34.173237",
     "status": "completed"
    },
    "tags": []
   },
   "source": [
    "## Data Preprocessing"
   ]
  },
  {
   "cell_type": "markdown",
   "id": "ffe08f41",
   "metadata": {
    "papermill": {
     "duration": 0.013355,
     "end_time": "2023-12-13T13:44:34.203143",
     "exception": false,
     "start_time": "2023-12-13T13:44:34.189788",
     "status": "completed"
    },
    "tags": []
   },
   "source": [
    "### Train Test Split"
   ]
  },
  {
   "cell_type": "code",
   "execution_count": 6,
   "id": "b94ef675",
   "metadata": {
    "execution": {
     "iopub.execute_input": "2023-12-13T13:44:34.218592Z",
     "iopub.status.busy": "2023-12-13T13:44:34.218592Z",
     "iopub.status.idle": "2023-12-13T13:44:34.654451Z",
     "shell.execute_reply": "2023-12-13T13:44:34.654451Z"
    },
    "papermill": {
     "duration": 0.445419,
     "end_time": "2023-12-13T13:44:34.656450",
     "exception": false,
     "start_time": "2023-12-13T13:44:34.211031",
     "status": "completed"
    },
    "tags": []
   },
   "outputs": [],
   "source": [
    "from sklearn.model_selection import train_test_split\n",
    "\n",
    "train, test = train_test_split(df, test_size=0.3, shuffle=False)\n",
    "test, prod = train_test_split(test, test_size=0.5, shuffle=False)"
   ]
  },
  {
   "cell_type": "markdown",
   "id": "47d457c8",
   "metadata": {
    "papermill": {
     "duration": 0.007002,
     "end_time": "2023-12-13T13:44:34.670454",
     "exception": false,
     "start_time": "2023-12-13T13:44:34.663452",
     "status": "completed"
    },
    "tags": []
   },
   "source": [
    "### Export Data"
   ]
  },
  {
   "cell_type": "code",
   "execution_count": 7,
   "id": "32dcd272",
   "metadata": {
    "execution": {
     "iopub.execute_input": "2023-12-13T13:44:34.689646Z",
     "iopub.status.busy": "2023-12-13T13:44:34.688646Z",
     "iopub.status.idle": "2023-12-13T13:44:34.806875Z",
     "shell.execute_reply": "2023-12-13T13:44:34.805905Z"
    },
    "papermill": {
     "duration": 0.12723,
     "end_time": "2023-12-13T13:44:34.806875",
     "exception": false,
     "start_time": "2023-12-13T13:44:34.679645",
     "status": "completed"
    },
    "tags": []
   },
   "outputs": [],
   "source": [
    "import os\n",
    "\n",
    "path_region = f'../data/regions/{region}'\n",
    "\n",
    "if not os.path.exists(path_region):\n",
    "    os.makedirs(path_region)\n",
    "\n",
    "for df, name in zip([train, test, prod], ['train', 'test', 'prod']):\n",
    "    df.to_csv(f'{path_region}/{name}.csv')"
   ]
  },
  {
   "attachments": {},
   "cell_type": "markdown",
   "id": "1a87bdee",
   "metadata": {
    "papermill": {
     "duration": 0.0,
     "end_time": "2023-12-13T13:44:34.806875",
     "exception": false,
     "start_time": "2023-12-13T13:44:34.806875",
     "status": "completed"
    },
    "tags": []
   },
   "source": [
    "### Scale Data"
   ]
  },
  {
   "cell_type": "code",
   "execution_count": 8,
   "id": "65f5bcda",
   "metadata": {
    "execution": {
     "iopub.execute_input": "2023-12-13T13:44:34.823390Z",
     "iopub.status.busy": "2023-12-13T13:44:34.823390Z",
     "iopub.status.idle": "2023-12-13T13:44:34.856724Z",
     "shell.execute_reply": "2023-12-13T13:44:34.856724Z"
    },
    "papermill": {
     "duration": 0.035209,
     "end_time": "2023-12-13T13:44:34.858599",
     "exception": false,
     "start_time": "2023-12-13T13:44:34.823390",
     "status": "completed"
    },
    "tags": []
   },
   "outputs": [],
   "source": [
    "from sklearn.preprocessing import MinMaxScaler\n",
    "\n",
    "scaler = MinMaxScaler(feature_range=(0, 1))\n",
    "\n",
    "train_norm = scaler.fit_transform(train)\n",
    "test_norm = scaler.transform(test)"
   ]
  },
  {
   "attachments": {},
   "cell_type": "markdown",
   "id": "2a615a5d",
   "metadata": {
    "papermill": {
     "duration": 0.0,
     "end_time": "2023-12-13T13:44:34.861049",
     "exception": false,
     "start_time": "2023-12-13T13:44:34.861049",
     "status": "completed"
    },
    "tags": []
   },
   "source": [
    "### Create Sequences"
   ]
  },
  {
   "cell_type": "code",
   "execution_count": 9,
   "id": "eb0112a0",
   "metadata": {
    "execution": {
     "iopub.execute_input": "2023-12-13T13:44:34.888875Z",
     "iopub.status.busy": "2023-12-13T13:44:34.888875Z",
     "iopub.status.idle": "2023-12-13T13:44:34.959024Z",
     "shell.execute_reply": "2023-12-13T13:44:34.959024Z"
    },
    "papermill": {
     "duration": 0.07815,
     "end_time": "2023-12-13T13:44:34.959024",
     "exception": false,
     "start_time": "2023-12-13T13:44:34.880874",
     "status": "completed"
    },
    "tags": []
   },
   "outputs": [],
   "source": [
    "import numpy as np\n",
    "\n",
    "def create_sequences(data, sequence_length):\n",
    "    X, y = [], []\n",
    "    for i in range(len(data) - sequence_length):\n",
    "        X.append(data[i:i+sequence_length])\n",
    "        y.append(data[i+sequence_length])\n",
    "    return np.array(X), np.array(y)\n",
    "\n",
    "sequence_length = 24 # Use 24 hours prior to predict the following hour\n",
    "X_train, y_train = create_sequences(train_norm, sequence_length)\n",
    "X_test, y_test = create_sequences(test_norm, sequence_length)"
   ]
  },
  {
   "attachments": {},
   "cell_type": "markdown",
   "id": "0ab4d0c9",
   "metadata": {
    "papermill": {
     "duration": 0.014607,
     "end_time": "2023-12-13T13:44:34.973631",
     "exception": false,
     "start_time": "2023-12-13T13:44:34.959024",
     "status": "completed"
    },
    "tags": []
   },
   "source": [
    "## Modelling"
   ]
  },
  {
   "attachments": {},
   "cell_type": "markdown",
   "id": "8ae47c26",
   "metadata": {
    "papermill": {
     "duration": 0.018982,
     "end_time": "2023-12-13T13:44:34.992613",
     "exception": false,
     "start_time": "2023-12-13T13:44:34.973631",
     "status": "completed"
    },
    "tags": []
   },
   "source": [
    "### Design NN Architecture"
   ]
  },
  {
   "cell_type": "code",
   "execution_count": 10,
   "id": "a7654022",
   "metadata": {
    "execution": {
     "iopub.execute_input": "2023-12-13T13:44:35.012334Z",
     "iopub.status.busy": "2023-12-13T13:44:35.011334Z",
     "iopub.status.idle": "2023-12-13T13:44:36.393683Z",
     "shell.execute_reply": "2023-12-13T13:44:36.393683Z"
    },
    "papermill": {
     "duration": 1.401764,
     "end_time": "2023-12-13T13:44:36.395709",
     "exception": false,
     "start_time": "2023-12-13T13:44:34.993945",
     "status": "completed"
    },
    "tags": []
   },
   "outputs": [
    {
     "name": "stderr",
     "output_type": "stream",
     "text": [
      "c:\\Users\\jesus\\miniconda3\\envs\\tf-base\\lib\\site-packages\\tensorflow\\python\\framework\\dtypes.py:516: FutureWarning: Passing (type, 1) or '1type' as a synonym of type is deprecated; in a future version of numpy, it will be understood as (type, (1,)) / '(1,)type'.\n",
      "  _np_qint8 = np.dtype([(\"qint8\", np.int8, 1)])\n",
      "c:\\Users\\jesus\\miniconda3\\envs\\tf-base\\lib\\site-packages\\tensorflow\\python\\framework\\dtypes.py:517: FutureWarning: Passing (type, 1) or '1type' as a synonym of type is deprecated; in a future version of numpy, it will be understood as (type, (1,)) / '(1,)type'.\n",
      "  _np_quint8 = np.dtype([(\"quint8\", np.uint8, 1)])\n",
      "c:\\Users\\jesus\\miniconda3\\envs\\tf-base\\lib\\site-packages\\tensorflow\\python\\framework\\dtypes.py:518: FutureWarning: Passing (type, 1) or '1type' as a synonym of type is deprecated; in a future version of numpy, it will be understood as (type, (1,)) / '(1,)type'.\n",
      "  _np_qint16 = np.dtype([(\"qint16\", np.int16, 1)])\n",
      "c:\\Users\\jesus\\miniconda3\\envs\\tf-base\\lib\\site-packages\\tensorflow\\python\\framework\\dtypes.py:519: FutureWarning: Passing (type, 1) or '1type' as a synonym of type is deprecated; in a future version of numpy, it will be understood as (type, (1,)) / '(1,)type'.\n",
      "  _np_quint16 = np.dtype([(\"quint16\", np.uint16, 1)])\n",
      "c:\\Users\\jesus\\miniconda3\\envs\\tf-base\\lib\\site-packages\\tensorflow\\python\\framework\\dtypes.py:520: FutureWarning: Passing (type, 1) or '1type' as a synonym of type is deprecated; in a future version of numpy, it will be understood as (type, (1,)) / '(1,)type'.\n",
      "  _np_qint32 = np.dtype([(\"qint32\", np.int32, 1)])\n",
      "c:\\Users\\jesus\\miniconda3\\envs\\tf-base\\lib\\site-packages\\tensorflow\\python\\framework\\dtypes.py:525: FutureWarning: Passing (type, 1) or '1type' as a synonym of type is deprecated; in a future version of numpy, it will be understood as (type, (1,)) / '(1,)type'.\n",
      "  np_resource = np.dtype([(\"resource\", np.ubyte, 1)])\n"
     ]
    },
    {
     "name": "stdout",
     "output_type": "stream",
     "text": [
      "WARNING:tensorflow:From c:\\Users\\jesus\\miniconda3\\envs\\tf-base\\lib\\site-packages\\tensorflow\\python\\ops\\init_ops.py:1251: calling VarianceScaling.__init__ (from tensorflow.python.ops.init_ops) with dtype is deprecated and will be removed in a future version.\n",
      "Instructions for updating:\n",
      "Call initializer instance with the dtype argument instead of passing it to the constructor\n"
     ]
    },
    {
     "name": "stderr",
     "output_type": "stream",
     "text": [
      "c:\\Users\\jesus\\miniconda3\\envs\\tf-base\\lib\\site-packages\\tensorboard\\compat\\tensorflow_stub\\dtypes.py:541: FutureWarning: Passing (type, 1) or '1type' as a synonym of type is deprecated; in a future version of numpy, it will be understood as (type, (1,)) / '(1,)type'.\n",
      "  _np_qint8 = np.dtype([(\"qint8\", np.int8, 1)])\n",
      "c:\\Users\\jesus\\miniconda3\\envs\\tf-base\\lib\\site-packages\\tensorboard\\compat\\tensorflow_stub\\dtypes.py:542: FutureWarning: Passing (type, 1) or '1type' as a synonym of type is deprecated; in a future version of numpy, it will be understood as (type, (1,)) / '(1,)type'.\n",
      "  _np_quint8 = np.dtype([(\"quint8\", np.uint8, 1)])\n",
      "c:\\Users\\jesus\\miniconda3\\envs\\tf-base\\lib\\site-packages\\tensorboard\\compat\\tensorflow_stub\\dtypes.py:543: FutureWarning: Passing (type, 1) or '1type' as a synonym of type is deprecated; in a future version of numpy, it will be understood as (type, (1,)) / '(1,)type'.\n",
      "  _np_qint16 = np.dtype([(\"qint16\", np.int16, 1)])\n",
      "c:\\Users\\jesus\\miniconda3\\envs\\tf-base\\lib\\site-packages\\tensorboard\\compat\\tensorflow_stub\\dtypes.py:544: FutureWarning: Passing (type, 1) or '1type' as a synonym of type is deprecated; in a future version of numpy, it will be understood as (type, (1,)) / '(1,)type'.\n",
      "  _np_quint16 = np.dtype([(\"quint16\", np.uint16, 1)])\n",
      "c:\\Users\\jesus\\miniconda3\\envs\\tf-base\\lib\\site-packages\\tensorboard\\compat\\tensorflow_stub\\dtypes.py:545: FutureWarning: Passing (type, 1) or '1type' as a synonym of type is deprecated; in a future version of numpy, it will be understood as (type, (1,)) / '(1,)type'.\n",
      "  _np_qint32 = np.dtype([(\"qint32\", np.int32, 1)])\n",
      "c:\\Users\\jesus\\miniconda3\\envs\\tf-base\\lib\\site-packages\\tensorboard\\compat\\tensorflow_stub\\dtypes.py:550: FutureWarning: Passing (type, 1) or '1type' as a synonym of type is deprecated; in a future version of numpy, it will be understood as (type, (1,)) / '(1,)type'.\n",
      "  np_resource = np.dtype([(\"resource\", np.ubyte, 1)])\n"
     ]
    }
   ],
   "source": [
    "from tensorflow.keras.models import Sequential\n",
    "from tensorflow.keras.layers import LSTM, Dense\n",
    "\n",
    "model = Sequential()\n",
    "model.add(LSTM(50, input_shape=(X_train.shape[1], X_train.shape[2])))\n",
    "model.add(Dense(1))\n",
    "model.compile(optimizer='adam', loss='mean_squared_error')"
   ]
  },
  {
   "attachments": {},
   "cell_type": "markdown",
   "id": "4eb8ea8f",
   "metadata": {
    "papermill": {
     "duration": 0.007954,
     "end_time": "2023-12-13T13:44:36.410531",
     "exception": false,
     "start_time": "2023-12-13T13:44:36.402577",
     "status": "completed"
    },
    "tags": []
   },
   "source": [
    "### Train Model"
   ]
  },
  {
   "cell_type": "code",
   "execution_count": 11,
   "id": "af417154",
   "metadata": {
    "execution": {
     "iopub.execute_input": "2023-12-13T13:44:36.434534Z",
     "iopub.status.busy": "2023-12-13T13:44:36.433410Z",
     "iopub.status.idle": "2023-12-13T13:48:14.679086Z",
     "shell.execute_reply": "2023-12-13T13:48:14.679019Z"
    },
    "papermill": {
     "duration": 218.259732,
     "end_time": "2023-12-13T13:48:14.681204",
     "exception": false,
     "start_time": "2023-12-13T13:44:36.421472",
     "status": "completed"
    },
    "tags": []
   },
   "outputs": [
    {
     "name": "stdout",
     "output_type": "stream",
     "text": [
      "WARNING:tensorflow:From c:\\Users\\jesus\\miniconda3\\envs\\tf-base\\lib\\site-packages\\tensorflow\\python\\ops\\math_grad.py:1250: add_dispatch_support.<locals>.wrapper (from tensorflow.python.ops.array_ops) is deprecated and will be removed in a future version.\n",
      "Instructions for updating:\n",
      "Use tf.where in 2.0, which has the same broadcast rule as np.where\n"
     ]
    }
   ],
   "source": [
    "from tensorflow.keras.callbacks import EarlyStopping\n",
    "\n",
    "early_stop = EarlyStopping(monitor='val_loss', patience=5)\n",
    "\n",
    "history = model.fit(\n",
    "    X_train, y_train, epochs=50, batch_size=64, verbose=0,\n",
    "    validation_data=(X_test, y_test), callbacks=[early_stop])"
   ]
  },
  {
   "attachments": {},
   "cell_type": "markdown",
   "id": "b714170e",
   "metadata": {
    "papermill": {
     "duration": 0.0,
     "end_time": "2023-12-13T13:48:14.682202",
     "exception": false,
     "start_time": "2023-12-13T13:48:14.682202",
     "status": "completed"
    },
    "tags": []
   },
   "source": [
    "### Calculate Predictions"
   ]
  },
  {
   "cell_type": "code",
   "execution_count": 12,
   "id": "ff6e0a48",
   "metadata": {
    "execution": {
     "iopub.execute_input": "2023-12-13T13:48:14.712063Z",
     "iopub.status.busy": "2023-12-13T13:48:14.711062Z",
     "iopub.status.idle": "2023-12-13T13:48:15.277304Z",
     "shell.execute_reply": "2023-12-13T13:48:15.276418Z"
    },
    "papermill": {
     "duration": 0.575297,
     "end_time": "2023-12-13T13:48:15.278357",
     "exception": false,
     "start_time": "2023-12-13T13:48:14.703060",
     "status": "completed"
    },
    "tags": []
   },
   "outputs": [
    {
     "data": {
      "text/plain": [
       "array([[0.24851462],\n",
       "       [0.25957137],\n",
       "       [0.27619871],\n",
       "       ...,\n",
       "       [0.42887238],\n",
       "       [0.5065618 ],\n",
       "       [0.58097905]], dtype=float32)"
      ]
     },
     "execution_count": 12,
     "metadata": {},
     "output_type": "execute_result"
    }
   ],
   "source": [
    "y_pred = model.predict(X_test)\n",
    "y_pred"
   ]
  },
  {
   "attachments": {},
   "cell_type": "markdown",
   "id": "a387241a",
   "metadata": {
    "papermill": {
     "duration": 0.007002,
     "end_time": "2023-12-13T13:48:15.293843",
     "exception": false,
     "start_time": "2023-12-13T13:48:15.286841",
     "status": "completed"
    },
    "tags": []
   },
   "source": [
    "### Comparison: Real Data & Prediction"
   ]
  },
  {
   "attachments": {},
   "cell_type": "markdown",
   "id": "e78cbc60",
   "metadata": {
    "papermill": {
     "duration": 0.008001,
     "end_time": "2023-12-13T13:48:15.308847",
     "exception": false,
     "start_time": "2023-12-13T13:48:15.300846",
     "status": "completed"
    },
    "tags": []
   },
   "source": [
    "#### Descale Data"
   ]
  },
  {
   "cell_type": "code",
   "execution_count": 13,
   "id": "8ae45866",
   "metadata": {
    "execution": {
     "iopub.execute_input": "2023-12-13T13:48:15.316106Z",
     "iopub.status.busy": "2023-12-13T13:48:15.316106Z",
     "iopub.status.idle": "2023-12-13T13:48:15.332003Z",
     "shell.execute_reply": "2023-12-13T13:48:15.332003Z"
    },
    "papermill": {
     "duration": 0.017898,
     "end_time": "2023-12-13T13:48:15.334004",
     "exception": false,
     "start_time": "2023-12-13T13:48:15.316106",
     "status": "completed"
    },
    "tags": []
   },
   "outputs": [],
   "source": [
    "y_pred_scaled_inverse = scaler.inverse_transform(y_pred)\n",
    "y_true = scaler.inverse_transform(y_test)"
   ]
  },
  {
   "attachments": {},
   "cell_type": "markdown",
   "id": "3993f3dc",
   "metadata": {
    "papermill": {
     "duration": 0.007003,
     "end_time": "2023-12-13T13:48:15.348007",
     "exception": false,
     "start_time": "2023-12-13T13:48:15.341004",
     "status": "completed"
    },
    "tags": []
   },
   "source": [
    "#### Create DataFrame"
   ]
  },
  {
   "cell_type": "code",
   "execution_count": 14,
   "id": "beb62d2f",
   "metadata": {
    "execution": {
     "iopub.execute_input": "2023-12-13T13:48:15.364010Z",
     "iopub.status.busy": "2023-12-13T13:48:15.364010Z",
     "iopub.status.idle": "2023-12-13T13:48:15.378939Z",
     "shell.execute_reply": "2023-12-13T13:48:15.378676Z"
    },
    "papermill": {
     "duration": 0.025017,
     "end_time": "2023-12-13T13:48:15.381026",
     "exception": false,
     "start_time": "2023-12-13T13:48:15.356009",
     "status": "completed"
    },
    "tags": []
   },
   "outputs": [
    {
     "data": {
      "text/html": [
       "<div>\n",
       "<style scoped>\n",
       "    .dataframe tbody tr th:only-of-type {\n",
       "        vertical-align: middle;\n",
       "    }\n",
       "\n",
       "    .dataframe tbody tr th {\n",
       "        vertical-align: top;\n",
       "    }\n",
       "\n",
       "    .dataframe thead th {\n",
       "        text-align: right;\n",
       "    }\n",
       "</style>\n",
       "<table border=\"1\" class=\"dataframe\">\n",
       "  <thead>\n",
       "    <tr style=\"text-align: right;\">\n",
       "      <th></th>\n",
       "      <th>y_pred</th>\n",
       "      <th>y_pred_scaled_inverse</th>\n",
       "      <th>y_true</th>\n",
       "    </tr>\n",
       "  </thead>\n",
       "  <tbody>\n",
       "    <tr>\n",
       "      <th>0</th>\n",
       "      <td>0.248515</td>\n",
       "      <td>1554.413452</td>\n",
       "      <td>1566.0</td>\n",
       "    </tr>\n",
       "    <tr>\n",
       "      <th>1</th>\n",
       "      <td>0.259571</td>\n",
       "      <td>1577.389282</td>\n",
       "      <td>1587.0</td>\n",
       "    </tr>\n",
       "    <tr>\n",
       "      <th>2</th>\n",
       "      <td>0.276199</td>\n",
       "      <td>1611.940918</td>\n",
       "      <td>1750.0</td>\n",
       "    </tr>\n",
       "    <tr>\n",
       "      <th>3</th>\n",
       "      <td>0.354836</td>\n",
       "      <td>1775.350098</td>\n",
       "      <td>1857.0</td>\n",
       "    </tr>\n",
       "    <tr>\n",
       "      <th>4</th>\n",
       "      <td>0.372178</td>\n",
       "      <td>1811.386108</td>\n",
       "      <td>1820.0</td>\n",
       "    </tr>\n",
       "    <tr>\n",
       "      <th>...</th>\n",
       "      <td>...</td>\n",
       "      <td>...</td>\n",
       "      <td>...</td>\n",
       "    </tr>\n",
       "    <tr>\n",
       "      <th>6707</th>\n",
       "      <td>0.394699</td>\n",
       "      <td>1858.183960</td>\n",
       "      <td>1869.0</td>\n",
       "    </tr>\n",
       "    <tr>\n",
       "      <th>6708</th>\n",
       "      <td>0.418075</td>\n",
       "      <td>1906.759155</td>\n",
       "      <td>1876.0</td>\n",
       "    </tr>\n",
       "    <tr>\n",
       "      <th>6709</th>\n",
       "      <td>0.428872</td>\n",
       "      <td>1929.196777</td>\n",
       "      <td>1988.0</td>\n",
       "    </tr>\n",
       "    <tr>\n",
       "      <th>6710</th>\n",
       "      <td>0.506562</td>\n",
       "      <td>2090.635498</td>\n",
       "      <td>2158.0</td>\n",
       "    </tr>\n",
       "    <tr>\n",
       "      <th>6711</th>\n",
       "      <td>0.580979</td>\n",
       "      <td>2245.274658</td>\n",
       "      <td>2271.0</td>\n",
       "    </tr>\n",
       "  </tbody>\n",
       "</table>\n",
       "<p>6712 rows × 3 columns</p>\n",
       "</div>"
      ],
      "text/plain": [
       "        y_pred  y_pred_scaled_inverse  y_true\n",
       "0     0.248515            1554.413452  1566.0\n",
       "1     0.259571            1577.389282  1587.0\n",
       "2     0.276199            1611.940918  1750.0\n",
       "3     0.354836            1775.350098  1857.0\n",
       "4     0.372178            1811.386108  1820.0\n",
       "...        ...                    ...     ...\n",
       "6707  0.394699            1858.183960  1869.0\n",
       "6708  0.418075            1906.759155  1876.0\n",
       "6709  0.428872            1929.196777  1988.0\n",
       "6710  0.506562            2090.635498  2158.0\n",
       "6711  0.580979            2245.274658  2271.0\n",
       "\n",
       "[6712 rows x 3 columns]"
      ]
     },
     "execution_count": 14,
     "metadata": {},
     "output_type": "execute_result"
    }
   ],
   "source": [
    "dic_pred = {\n",
    "    'y_pred': y_pred.flatten(),\n",
    "    'y_pred_scaled_inverse': y_pred_scaled_inverse.flatten(),\n",
    "    'y_true': y_true.flatten(),\n",
    "}\n",
    "\n",
    "df_pred = pd.DataFrame(dic_pred)\n",
    "df_pred"
   ]
  },
  {
   "attachments": {},
   "cell_type": "markdown",
   "id": "e88b3fb3",
   "metadata": {
    "papermill": {
     "duration": 0.008003,
     "end_time": "2023-12-13T13:48:15.398441",
     "exception": false,
     "start_time": "2023-12-13T13:48:15.390438",
     "status": "completed"
    },
    "tags": []
   },
   "source": [
    "#### Evaluate Model"
   ]
  },
  {
   "cell_type": "code",
   "execution_count": 15,
   "id": "4c2a8c96",
   "metadata": {
    "execution": {
     "iopub.execute_input": "2023-12-13T13:48:15.423446Z",
     "iopub.status.busy": "2023-12-13T13:48:15.423446Z",
     "iopub.status.idle": "2023-12-13T13:48:15.433448Z",
     "shell.execute_reply": "2023-12-13T13:48:15.432447Z"
    },
    "papermill": {
     "duration": 0.026007,
     "end_time": "2023-12-13T13:48:15.435449",
     "exception": false,
     "start_time": "2023-12-13T13:48:15.409442",
     "status": "completed"
    },
    "tags": []
   },
   "outputs": [],
   "source": [
    "from sklearn.metrics import mean_squared_error"
   ]
  },
  {
   "cell_type": "code",
   "execution_count": 16,
   "id": "a7a942b6",
   "metadata": {
    "execution": {
     "iopub.execute_input": "2023-12-13T13:48:15.451452Z",
     "iopub.status.busy": "2023-12-13T13:48:15.451452Z",
     "iopub.status.idle": "2023-12-13T13:48:15.465308Z",
     "shell.execute_reply": "2023-12-13T13:48:15.464452Z"
    },
    "papermill": {
     "duration": 0.022858,
     "end_time": "2023-12-13T13:48:15.465308",
     "exception": false,
     "start_time": "2023-12-13T13:48:15.442450",
     "status": "completed"
    },
    "tags": []
   },
   "outputs": [
    {
     "data": {
      "text/plain": [
       "40.82893178764228"
      ]
     },
     "execution_count": 16,
     "metadata": {},
     "output_type": "execute_result"
    }
   ],
   "source": [
    "mean_squared_error(df_pred.y_true, df_pred.y_pred_scaled_inverse, squared=False)"
   ]
  },
  {
   "cell_type": "code",
   "execution_count": 17,
   "id": "568cd5db",
   "metadata": {
    "execution": {
     "iopub.execute_input": "2023-12-13T13:48:15.489037Z",
     "iopub.status.busy": "2023-12-13T13:48:15.489037Z",
     "iopub.status.idle": "2023-12-13T13:48:15.584014Z",
     "shell.execute_reply": "2023-12-13T13:48:15.583131Z"
    },
    "papermill": {
     "duration": 0.118706,
     "end_time": "2023-12-13T13:48:15.584014",
     "exception": false,
     "start_time": "2023-12-13T13:48:15.465308",
     "status": "completed"
    },
    "tags": []
   },
   "outputs": [],
   "source": [
    "model.save(f'../models/{region}.keras')"
   ]
  }
 ],
 "metadata": {
  "kernelspec": {
   "display_name": "deep-learning",
   "language": "python",
   "name": "python3"
  },
  "language_info": {
   "codemirror_mode": {
    "name": "ipython",
    "version": 3
   },
   "file_extension": ".py",
   "mimetype": "text/x-python",
   "name": "python",
   "nbconvert_exporter": "python",
   "pygments_lexer": "ipython3",
   "version": "3.7.12"
  },
  "papermill": {
   "default_parameters": {},
   "duration": 223.755391,
   "end_time": "2023-12-13T13:48:16.031979",
   "environment_variables": {},
   "exception": null,
   "input_path": "Modelling.ipynb",
   "output_path": "outputs/PN.ipynb",
   "parameters": {
    "region": "PN"
   },
   "start_time": "2023-12-13T13:44:32.276588",
   "version": "2.4.0"
  }
 },
 "nbformat": 4,
 "nbformat_minor": 5
}