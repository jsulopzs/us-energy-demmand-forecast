{
 "cells": [
  {
   "attachments": {},
   "cell_type": "markdown",
   "id": "0da8a18c",
   "metadata": {
    "papermill": {
     "duration": 0.010636,
     "end_time": "2023-11-26T17:32:14.398878",
     "exception": false,
     "start_time": "2023-11-26T17:32:14.388242",
     "status": "completed"
    },
    "tags": []
   },
   "source": [
    "## Load data"
   ]
  },
  {
   "cell_type": "code",
   "execution_count": 1,
   "id": "7254b7ad",
   "metadata": {
    "execution": {
     "iopub.execute_input": "2023-11-26T17:32:14.415491Z",
     "iopub.status.busy": "2023-11-26T17:32:14.415130Z",
     "iopub.status.idle": "2023-11-26T17:32:14.799871Z",
     "shell.execute_reply": "2023-11-26T17:32:14.799062Z"
    },
    "papermill": {
     "duration": 0.397708,
     "end_time": "2023-11-26T17:32:14.803939",
     "exception": false,
     "start_time": "2023-11-26T17:32:14.406231",
     "status": "completed"
    },
    "tags": []
   },
   "outputs": [],
   "source": [
    "import pandas as pd"
   ]
  },
  {
   "cell_type": "code",
   "execution_count": 2,
   "id": "0f417085",
   "metadata": {
    "execution": {
     "iopub.execute_input": "2023-11-26T17:32:14.819255Z",
     "iopub.status.busy": "2023-11-26T17:32:14.818872Z",
     "iopub.status.idle": "2023-11-26T17:32:14.952184Z",
     "shell.execute_reply": "2023-11-26T17:32:14.951301Z"
    },
    "papermill": {
     "duration": 0.141975,
     "end_time": "2023-11-26T17:32:14.954090",
     "exception": false,
     "start_time": "2023-11-26T17:32:14.812115",
     "status": "completed"
    },
    "tags": []
   },
   "outputs": [
    {
     "data": {
      "text/html": [
       "<div>\n",
       "<style scoped>\n",
       "    .dataframe tbody tr th:only-of-type {\n",
       "        vertical-align: middle;\n",
       "    }\n",
       "\n",
       "    .dataframe tbody tr th {\n",
       "        vertical-align: top;\n",
       "    }\n",
       "\n",
       "    .dataframe thead th {\n",
       "        text-align: right;\n",
       "    }\n",
       "</style>\n",
       "<table border=\"1\" class=\"dataframe\">\n",
       "  <thead>\n",
       "    <tr style=\"text-align: right;\">\n",
       "      <th></th>\n",
       "      <th>AE</th>\n",
       "      <th>AEP</th>\n",
       "      <th>AP</th>\n",
       "      <th>ATSI</th>\n",
       "      <th>BC</th>\n",
       "      <th>CE</th>\n",
       "      <th>DAY</th>\n",
       "      <th>DEOK</th>\n",
       "      <th>DOM</th>\n",
       "      <th>DPL</th>\n",
       "      <th>DUQ</th>\n",
       "      <th>EKPC</th>\n",
       "      <th>JC</th>\n",
       "      <th>ME</th>\n",
       "      <th>PE</th>\n",
       "      <th>PEP</th>\n",
       "      <th>PL</th>\n",
       "      <th>PN</th>\n",
       "      <th>PS</th>\n",
       "      <th>RECO</th>\n",
       "    </tr>\n",
       "    <tr>\n",
       "      <th>period</th>\n",
       "      <th></th>\n",
       "      <th></th>\n",
       "      <th></th>\n",
       "      <th></th>\n",
       "      <th></th>\n",
       "      <th></th>\n",
       "      <th></th>\n",
       "      <th></th>\n",
       "      <th></th>\n",
       "      <th></th>\n",
       "      <th></th>\n",
       "      <th></th>\n",
       "      <th></th>\n",
       "      <th></th>\n",
       "      <th></th>\n",
       "      <th></th>\n",
       "      <th></th>\n",
       "      <th></th>\n",
       "      <th></th>\n",
       "      <th></th>\n",
       "    </tr>\n",
       "  </thead>\n",
       "  <tbody>\n",
       "    <tr>\n",
       "      <th>2018-07-01 05:00:00</th>\n",
       "      <td>1301</td>\n",
       "      <td>12187</td>\n",
       "      <td>4384</td>\n",
       "      <td>6960</td>\n",
       "      <td>3134</td>\n",
       "      <td>12136</td>\n",
       "      <td>1619</td>\n",
       "      <td>2895</td>\n",
       "      <td>9775</td>\n",
       "      <td>1919</td>\n",
       "      <td>1466</td>\n",
       "      <td>1209</td>\n",
       "      <td>2388</td>\n",
       "      <td>1442</td>\n",
       "      <td>4397</td>\n",
       "      <td>3165</td>\n",
       "      <td>3835</td>\n",
       "      <td>1611</td>\n",
       "      <td>5009</td>\n",
       "      <td>186</td>\n",
       "    </tr>\n",
       "    <tr>\n",
       "      <th>2018-07-01 06:00:00</th>\n",
       "      <td>1314</td>\n",
       "      <td>11946</td>\n",
       "      <td>4391</td>\n",
       "      <td>6762</td>\n",
       "      <td>3139</td>\n",
       "      <td>11872</td>\n",
       "      <td>1605</td>\n",
       "      <td>2857</td>\n",
       "      <td>9787</td>\n",
       "      <td>1950</td>\n",
       "      <td>1455</td>\n",
       "      <td>1197</td>\n",
       "      <td>2416</td>\n",
       "      <td>1465</td>\n",
       "      <td>4423</td>\n",
       "      <td>3156</td>\n",
       "      <td>3901</td>\n",
       "      <td>1641</td>\n",
       "      <td>4990</td>\n",
       "      <td>187</td>\n",
       "    </tr>\n",
       "    <tr>\n",
       "      <th>2018-07-01 07:00:00</th>\n",
       "      <td>1410</td>\n",
       "      <td>12664</td>\n",
       "      <td>4757</td>\n",
       "      <td>6670</td>\n",
       "      <td>3377</td>\n",
       "      <td>11992</td>\n",
       "      <td>1707</td>\n",
       "      <td>2997</td>\n",
       "      <td>10453</td>\n",
       "      <td>2160</td>\n",
       "      <td>1528</td>\n",
       "      <td>1273</td>\n",
       "      <td>2644</td>\n",
       "      <td>1605</td>\n",
       "      <td>4743</td>\n",
       "      <td>3332</td>\n",
       "      <td>4232</td>\n",
       "      <td>1728</td>\n",
       "      <td>5267</td>\n",
       "      <td>202</td>\n",
       "    </tr>\n",
       "    <tr>\n",
       "      <th>2018-07-01 08:00:00</th>\n",
       "      <td>1567</td>\n",
       "      <td>14069</td>\n",
       "      <td>5308</td>\n",
       "      <td>7065</td>\n",
       "      <td>3788</td>\n",
       "      <td>12860</td>\n",
       "      <td>1916</td>\n",
       "      <td>3331</td>\n",
       "      <td>11734</td>\n",
       "      <td>2470</td>\n",
       "      <td>1688</td>\n",
       "      <td>1472</td>\n",
       "      <td>3064</td>\n",
       "      <td>1784</td>\n",
       "      <td>5230</td>\n",
       "      <td>3679</td>\n",
       "      <td>4613</td>\n",
       "      <td>1899</td>\n",
       "      <td>5735</td>\n",
       "      <td>230</td>\n",
       "    </tr>\n",
       "    <tr>\n",
       "      <th>2018-07-01 09:00:00</th>\n",
       "      <td>1749</td>\n",
       "      <td>15610</td>\n",
       "      <td>5862</td>\n",
       "      <td>7833</td>\n",
       "      <td>4262</td>\n",
       "      <td>14212</td>\n",
       "      <td>2145</td>\n",
       "      <td>3703</td>\n",
       "      <td>13084</td>\n",
       "      <td>2765</td>\n",
       "      <td>1875</td>\n",
       "      <td>1656</td>\n",
       "      <td>3569</td>\n",
       "      <td>1972</td>\n",
       "      <td>5752</td>\n",
       "      <td>4085</td>\n",
       "      <td>5014</td>\n",
       "      <td>2055</td>\n",
       "      <td>6299</td>\n",
       "      <td>259</td>\n",
       "    </tr>\n",
       "  </tbody>\n",
       "</table>\n",
       "</div>"
      ],
      "text/plain": [
       "                       AE    AEP    AP  ATSI    BC     CE   DAY  DEOK    DOM  \\\n",
       "period                                                                         \n",
       "2018-07-01 05:00:00  1301  12187  4384  6960  3134  12136  1619  2895   9775   \n",
       "2018-07-01 06:00:00  1314  11946  4391  6762  3139  11872  1605  2857   9787   \n",
       "2018-07-01 07:00:00  1410  12664  4757  6670  3377  11992  1707  2997  10453   \n",
       "2018-07-01 08:00:00  1567  14069  5308  7065  3788  12860  1916  3331  11734   \n",
       "2018-07-01 09:00:00  1749  15610  5862  7833  4262  14212  2145  3703  13084   \n",
       "\n",
       "                      DPL   DUQ  EKPC    JC    ME    PE   PEP    PL    PN  \\\n",
       "period                                                                      \n",
       "2018-07-01 05:00:00  1919  1466  1209  2388  1442  4397  3165  3835  1611   \n",
       "2018-07-01 06:00:00  1950  1455  1197  2416  1465  4423  3156  3901  1641   \n",
       "2018-07-01 07:00:00  2160  1528  1273  2644  1605  4743  3332  4232  1728   \n",
       "2018-07-01 08:00:00  2470  1688  1472  3064  1784  5230  3679  4613  1899   \n",
       "2018-07-01 09:00:00  2765  1875  1656  3569  1972  5752  4085  5014  2055   \n",
       "\n",
       "                       PS  RECO  \n",
       "period                           \n",
       "2018-07-01 05:00:00  5009   186  \n",
       "2018-07-01 06:00:00  4990   187  \n",
       "2018-07-01 07:00:00  5267   202  \n",
       "2018-07-01 08:00:00  5735   230  \n",
       "2018-07-01 09:00:00  6299   259  "
      ]
     },
     "execution_count": 2,
     "metadata": {},
     "output_type": "execute_result"
    }
   ],
   "source": [
    "df_base = pd.read_csv('../data/pjm_pivot.csv', index_col=0, parse_dates=True)\n",
    "df_base.head()"
   ]
  },
  {
   "attachments": {},
   "cell_type": "markdown",
   "id": "52326287",
   "metadata": {
    "papermill": {
     "duration": 0.004958,
     "end_time": "2023-11-26T17:32:14.963841",
     "exception": false,
     "start_time": "2023-11-26T17:32:14.958883",
     "status": "completed"
    },
    "tags": []
   },
   "source": [
    "## Select region"
   ]
  },
  {
   "cell_type": "code",
   "execution_count": 3,
   "id": "80ad18db",
   "metadata": {
    "execution": {
     "iopub.execute_input": "2023-11-26T17:32:14.972835Z",
     "iopub.status.busy": "2023-11-26T17:32:14.972521Z",
     "iopub.status.idle": "2023-11-26T17:32:14.976392Z",
     "shell.execute_reply": "2023-11-26T17:32:14.975527Z"
    },
    "papermill": {
     "duration": 0.011468,
     "end_time": "2023-11-26T17:32:14.978979",
     "exception": false,
     "start_time": "2023-11-26T17:32:14.967511",
     "status": "completed"
    },
    "tags": [
     "parameters"
    ]
   },
   "outputs": [],
   "source": [
    "region = 'AE'"
   ]
  },
  {
   "cell_type": "code",
   "execution_count": 4,
   "id": "c3e39d24",
   "metadata": {
    "execution": {
     "iopub.execute_input": "2023-11-26T17:32:15.020234Z",
     "iopub.status.busy": "2023-11-26T17:32:15.019502Z",
     "iopub.status.idle": "2023-11-26T17:32:15.026651Z",
     "shell.execute_reply": "2023-11-26T17:32:15.025097Z"
    },
    "papermill": {
     "duration": 0.035387,
     "end_time": "2023-11-26T17:32:15.029843",
     "exception": false,
     "start_time": "2023-11-26T17:32:14.994456",
     "status": "completed"
    },
    "tags": [
     "injected-parameters"
    ]
   },
   "outputs": [],
   "source": [
    "# Parameters\n",
    "region = \"PN\"\n"
   ]
  },
  {
   "cell_type": "code",
   "execution_count": 5,
   "id": "f192decf",
   "metadata": {
    "execution": {
     "iopub.execute_input": "2023-11-26T17:32:15.068606Z",
     "iopub.status.busy": "2023-11-26T17:32:15.067731Z",
     "iopub.status.idle": "2023-11-26T17:32:15.079110Z",
     "shell.execute_reply": "2023-11-26T17:32:15.078451Z"
    },
    "papermill": {
     "duration": 0.04036,
     "end_time": "2023-11-26T17:32:15.081610",
     "exception": false,
     "start_time": "2023-11-26T17:32:15.041250",
     "status": "completed"
    },
    "tags": []
   },
   "outputs": [
    {
     "data": {
      "text/html": [
       "<div>\n",
       "<style scoped>\n",
       "    .dataframe tbody tr th:only-of-type {\n",
       "        vertical-align: middle;\n",
       "    }\n",
       "\n",
       "    .dataframe tbody tr th {\n",
       "        vertical-align: top;\n",
       "    }\n",
       "\n",
       "    .dataframe thead th {\n",
       "        text-align: right;\n",
       "    }\n",
       "</style>\n",
       "<table border=\"1\" class=\"dataframe\">\n",
       "  <thead>\n",
       "    <tr style=\"text-align: right;\">\n",
       "      <th></th>\n",
       "      <th>PN</th>\n",
       "    </tr>\n",
       "    <tr>\n",
       "      <th>period</th>\n",
       "      <th></th>\n",
       "    </tr>\n",
       "  </thead>\n",
       "  <tbody>\n",
       "    <tr>\n",
       "      <th>2018-07-01 05:00:00</th>\n",
       "      <td>1611</td>\n",
       "    </tr>\n",
       "    <tr>\n",
       "      <th>2018-07-01 06:00:00</th>\n",
       "      <td>1641</td>\n",
       "    </tr>\n",
       "    <tr>\n",
       "      <th>2018-07-01 07:00:00</th>\n",
       "      <td>1728</td>\n",
       "    </tr>\n",
       "    <tr>\n",
       "      <th>2018-07-01 08:00:00</th>\n",
       "      <td>1899</td>\n",
       "    </tr>\n",
       "    <tr>\n",
       "      <th>2018-07-01 09:00:00</th>\n",
       "      <td>2055</td>\n",
       "    </tr>\n",
       "    <tr>\n",
       "      <th>...</th>\n",
       "      <td>...</td>\n",
       "    </tr>\n",
       "    <tr>\n",
       "      <th>2023-11-01 00:00:00</th>\n",
       "      <td>2047</td>\n",
       "    </tr>\n",
       "    <tr>\n",
       "      <th>2023-11-01 01:00:00</th>\n",
       "      <td>2035</td>\n",
       "    </tr>\n",
       "    <tr>\n",
       "      <th>2023-11-01 02:00:00</th>\n",
       "      <td>1968</td>\n",
       "    </tr>\n",
       "    <tr>\n",
       "      <th>2023-11-01 03:00:00</th>\n",
       "      <td>1917</td>\n",
       "    </tr>\n",
       "    <tr>\n",
       "      <th>2023-11-01 04:00:00</th>\n",
       "      <td>1823</td>\n",
       "    </tr>\n",
       "  </tbody>\n",
       "</table>\n",
       "<p>44904 rows × 1 columns</p>\n",
       "</div>"
      ],
      "text/plain": [
       "                       PN\n",
       "period                   \n",
       "2018-07-01 05:00:00  1611\n",
       "2018-07-01 06:00:00  1641\n",
       "2018-07-01 07:00:00  1728\n",
       "2018-07-01 08:00:00  1899\n",
       "2018-07-01 09:00:00  2055\n",
       "...                   ...\n",
       "2023-11-01 00:00:00  2047\n",
       "2023-11-01 01:00:00  2035\n",
       "2023-11-01 02:00:00  1968\n",
       "2023-11-01 03:00:00  1917\n",
       "2023-11-01 04:00:00  1823\n",
       "\n",
       "[44904 rows x 1 columns]"
      ]
     },
     "execution_count": 5,
     "metadata": {},
     "output_type": "execute_result"
    }
   ],
   "source": [
    "df = df_base.loc[:, [region]]\n",
    "df"
   ]
  },
  {
   "attachments": {},
   "cell_type": "markdown",
   "id": "7cdc1b10",
   "metadata": {
    "papermill": {
     "duration": 0.024446,
     "end_time": "2023-11-26T17:32:15.116675",
     "exception": false,
     "start_time": "2023-11-26T17:32:15.092229",
     "status": "completed"
    },
    "tags": []
   },
   "source": [
    "## Data Preprocessing"
   ]
  },
  {
   "attachments": {},
   "cell_type": "markdown",
   "id": "21dc37cc",
   "metadata": {
    "papermill": {
     "duration": 0.031245,
     "end_time": "2023-11-26T17:32:15.172421",
     "exception": false,
     "start_time": "2023-11-26T17:32:15.141176",
     "status": "completed"
    },
    "tags": []
   },
   "source": [
    "### Scale Data"
   ]
  },
  {
   "cell_type": "code",
   "execution_count": 6,
   "id": "53e94e65",
   "metadata": {
    "execution": {
     "iopub.execute_input": "2023-11-26T17:32:15.232499Z",
     "iopub.status.busy": "2023-11-26T17:32:15.231788Z",
     "iopub.status.idle": "2023-11-26T17:32:15.743837Z",
     "shell.execute_reply": "2023-11-26T17:32:15.742674Z"
    },
    "papermill": {
     "duration": 0.546004,
     "end_time": "2023-11-26T17:32:15.746878",
     "exception": false,
     "start_time": "2023-11-26T17:32:15.200874",
     "status": "completed"
    },
    "tags": []
   },
   "outputs": [],
   "source": [
    "from sklearn.preprocessing import MinMaxScaler\n",
    "\n",
    "# Normalize data\n",
    "scaler = MinMaxScaler(feature_range=(0, 1))\n",
    "data_norm = scaler.fit_transform(df)"
   ]
  },
  {
   "attachments": {},
   "cell_type": "markdown",
   "id": "ec4eccf9",
   "metadata": {
    "papermill": {
     "duration": 0.004125,
     "end_time": "2023-11-26T17:32:15.755865",
     "exception": false,
     "start_time": "2023-11-26T17:32:15.751740",
     "status": "completed"
    },
    "tags": []
   },
   "source": [
    "### Train Test Split"
   ]
  },
  {
   "cell_type": "code",
   "execution_count": 7,
   "id": "81d81bca",
   "metadata": {
    "execution": {
     "iopub.execute_input": "2023-11-26T17:32:15.767905Z",
     "iopub.status.busy": "2023-11-26T17:32:15.767504Z",
     "iopub.status.idle": "2023-11-26T17:32:15.801602Z",
     "shell.execute_reply": "2023-11-26T17:32:15.800900Z"
    },
    "papermill": {
     "duration": 0.043075,
     "end_time": "2023-11-26T17:32:15.803604",
     "exception": false,
     "start_time": "2023-11-26T17:32:15.760529",
     "status": "completed"
    },
    "tags": []
   },
   "outputs": [],
   "source": [
    "from sklearn.model_selection import train_test_split\n",
    "\n",
    "train, test = train_test_split(data_norm, test_size=0.2, shuffle=False)"
   ]
  },
  {
   "attachments": {},
   "cell_type": "markdown",
   "id": "10744caa",
   "metadata": {
    "papermill": {
     "duration": 0.005148,
     "end_time": "2023-11-26T17:32:15.812857",
     "exception": false,
     "start_time": "2023-11-26T17:32:15.807709",
     "status": "completed"
    },
    "tags": []
   },
   "source": [
    "### Create Sequences"
   ]
  },
  {
   "cell_type": "code",
   "execution_count": 8,
   "id": "9cd522f8",
   "metadata": {
    "execution": {
     "iopub.execute_input": "2023-11-26T17:32:15.867840Z",
     "iopub.status.busy": "2023-11-26T17:32:15.867263Z",
     "iopub.status.idle": "2023-11-26T17:32:15.949123Z",
     "shell.execute_reply": "2023-11-26T17:32:15.948250Z"
    },
    "papermill": {
     "duration": 0.113882,
     "end_time": "2023-11-26T17:32:15.951215",
     "exception": false,
     "start_time": "2023-11-26T17:32:15.837333",
     "status": "completed"
    },
    "tags": []
   },
   "outputs": [],
   "source": [
    "import numpy as np\n",
    "\n",
    "def create_sequences(data, sequence_length):\n",
    "    X, y = [], []\n",
    "    for i in range(len(data) - sequence_length):\n",
    "        X.append(data[i:i+sequence_length])\n",
    "        y.append(data[i+sequence_length])\n",
    "    return np.array(X), np.array(y)\n",
    "\n",
    "sequence_length = 24 # Use 24 hours prior to predict the following hour\n",
    "X_train, y_train = create_sequences(train, sequence_length)\n",
    "X_test, y_test = create_sequences(test, sequence_length)"
   ]
  },
  {
   "attachments": {},
   "cell_type": "markdown",
   "id": "06caea92",
   "metadata": {
    "papermill": {
     "duration": 0.005047,
     "end_time": "2023-11-26T17:32:15.960929",
     "exception": false,
     "start_time": "2023-11-26T17:32:15.955882",
     "status": "completed"
    },
    "tags": []
   },
   "source": [
    "## Modelling"
   ]
  },
  {
   "attachments": {},
   "cell_type": "markdown",
   "id": "232bb8ee",
   "metadata": {
    "papermill": {
     "duration": 0.004693,
     "end_time": "2023-11-26T17:32:15.969934",
     "exception": false,
     "start_time": "2023-11-26T17:32:15.965241",
     "status": "completed"
    },
    "tags": []
   },
   "source": [
    "### Design NN Architecture"
   ]
  },
  {
   "cell_type": "code",
   "execution_count": 9,
   "id": "f5254c46",
   "metadata": {
    "execution": {
     "iopub.execute_input": "2023-11-26T17:32:15.981665Z",
     "iopub.status.busy": "2023-11-26T17:32:15.980891Z",
     "iopub.status.idle": "2023-11-26T17:32:20.200558Z",
     "shell.execute_reply": "2023-11-26T17:32:20.199414Z"
    },
    "papermill": {
     "duration": 4.229017,
     "end_time": "2023-11-26T17:32:20.202636",
     "exception": false,
     "start_time": "2023-11-26T17:32:15.973619",
     "status": "completed"
    },
    "tags": []
   },
   "outputs": [
    {
     "name": "stderr",
     "output_type": "stream",
     "text": [
      "2023-11-26 18:32:18.217254: I tensorflow/core/platform/cpu_feature_guard.cc:182] This TensorFlow binary is optimized to use available CPU instructions in performance-critical operations.\n",
      "To enable the following instructions: AVX2 FMA, in other operations, rebuild TensorFlow with the appropriate compiler flags.\n"
     ]
    }
   ],
   "source": [
    "from keras.models import Sequential\n",
    "from keras.layers import LSTM, Dense\n",
    "\n",
    "model = Sequential()\n",
    "model.add(LSTM(50, input_shape=(X_train.shape[1], X_train.shape[2])))\n",
    "model.add(Dense(1))\n",
    "model.compile(optimizer='adam', loss='mean_squared_error')"
   ]
  },
  {
   "attachments": {},
   "cell_type": "markdown",
   "id": "4714b9a1",
   "metadata": {
    "papermill": {
     "duration": 0.005752,
     "end_time": "2023-11-26T17:32:20.213416",
     "exception": false,
     "start_time": "2023-11-26T17:32:20.207664",
     "status": "completed"
    },
    "tags": []
   },
   "source": [
    "### Train Model"
   ]
  },
  {
   "cell_type": "code",
   "execution_count": 10,
   "id": "9f5a19ae",
   "metadata": {
    "execution": {
     "iopub.execute_input": "2023-11-26T17:32:20.223470Z",
     "iopub.status.busy": "2023-11-26T17:32:20.223153Z",
     "iopub.status.idle": "2023-11-26T17:35:28.296483Z",
     "shell.execute_reply": "2023-11-26T17:35:28.294129Z"
    },
    "papermill": {
     "duration": 188.081654,
     "end_time": "2023-11-26T17:35:28.299755",
     "exception": false,
     "start_time": "2023-11-26T17:32:20.218101",
     "status": "completed"
    },
    "tags": []
   },
   "outputs": [],
   "source": [
    "from keras.callbacks import EarlyStopping\n",
    "\n",
    "early_stop = EarlyStopping(monitor='val_loss', patience=5)\n",
    "\n",
    "history = model.fit(\n",
    "    X_train, y_train, epochs=50, batch_size=64, verbose=0,\n",
    "    validation_data=(X_test, y_test), callbacks=[early_stop])"
   ]
  },
  {
   "attachments": {},
   "cell_type": "markdown",
   "id": "bc6b05ed",
   "metadata": {
    "papermill": {
     "duration": 0.005236,
     "end_time": "2023-11-26T17:35:28.314640",
     "exception": false,
     "start_time": "2023-11-26T17:35:28.309404",
     "status": "completed"
    },
    "tags": []
   },
   "source": [
    "### Calculate Predictions"
   ]
  },
  {
   "cell_type": "code",
   "execution_count": 11,
   "id": "c9e2769e",
   "metadata": {
    "execution": {
     "iopub.execute_input": "2023-11-26T17:35:28.328968Z",
     "iopub.status.busy": "2023-11-26T17:35:28.328412Z",
     "iopub.status.idle": "2023-11-26T17:35:29.699801Z",
     "shell.execute_reply": "2023-11-26T17:35:29.699172Z"
    },
    "papermill": {
     "duration": 1.383028,
     "end_time": "2023-11-26T17:35:29.702379",
     "exception": false,
     "start_time": "2023-11-26T17:35:28.319351",
     "status": "completed"
    },
    "tags": []
   },
   "outputs": [
    {
     "name": "stdout",
     "output_type": "stream",
     "text": [
      "\r",
      "  1/280 [..............................] - ETA: 2:09"
     ]
    },
    {
     "name": "stdout",
     "output_type": "stream",
     "text": [
      "\b\b\b\b\b\b\b\b\b\b\b\b\b\b\b\b\b\b\b\b\b\b\b\b\b\b\b\b\b\b\b\b\b\b\b\b\b\b\b\b\b\b\b\b\b\b\b\b\b\b\b\b\r",
      " 21/280 [=>............................] - ETA: 0s  "
     ]
    },
    {
     "name": "stdout",
     "output_type": "stream",
     "text": [
      "\b\b\b\b\b\b\b\b\b\b\b\b\b\b\b\b\b\b\b\b\b\b\b\b\b\b\b\b\b\b\b\b\b\b\b\b\b\b\b\b\b\b\b\b\b\b\b\b\b\b\r",
      " 40/280 [===>..........................] - ETA: 0s"
     ]
    },
    {
     "name": "stdout",
     "output_type": "stream",
     "text": [
      "\b\b\b\b\b\b\b\b\b\b\b\b\b\b\b\b\b\b\b\b\b\b\b\b\b\b\b\b\b\b\b\b\b\b\b\b\b\b\b\b\b\b\b\b\b\b\b\b\b\b\r",
      " 60/280 [=====>........................] - ETA: 0s"
     ]
    },
    {
     "name": "stdout",
     "output_type": "stream",
     "text": [
      "\b\b\b\b\b\b\b\b\b\b\b\b\b\b\b\b\b\b\b\b\b\b\b\b\b\b\b\b\b\b\b\b\b\b\b\b\b\b\b\b\b\b\b\b\b\b\b\b\b\b\r",
      " 79/280 [=======>......................] - ETA: 0s"
     ]
    },
    {
     "name": "stdout",
     "output_type": "stream",
     "text": [
      "\b\b\b\b\b\b\b\b\b\b\b\b\b\b\b\b\b\b\b\b\b\b\b\b\b\b\b\b\b\b\b\b\b\b\b\b\b\b\b\b\b\b\b\b\b\b\b\b\b\b\r",
      " 98/280 [=========>....................] - ETA: 0s"
     ]
    },
    {
     "name": "stdout",
     "output_type": "stream",
     "text": [
      "\b\b\b\b\b\b\b\b\b\b\b\b\b\b\b\b\b\b\b\b\b\b\b\b\b\b\b\b\b\b\b\b\b\b\b\b\b\b\b\b\b\b\b\b\b\b\b\b\b\b\r",
      "118/280 [===========>..................] - ETA: 0s"
     ]
    },
    {
     "name": "stdout",
     "output_type": "stream",
     "text": [
      "\b\b\b\b\b\b\b\b\b\b\b\b\b\b\b\b\b\b\b\b\b\b\b\b\b\b\b\b\b\b\b\b\b\b\b\b\b\b\b\b\b\b\b\b\b\b\b\b\b\b\r",
      "137/280 [=============>................] - ETA: 0s"
     ]
    },
    {
     "name": "stdout",
     "output_type": "stream",
     "text": [
      "\b\b\b\b\b\b\b\b\b\b\b\b\b\b\b\b\b\b\b\b\b\b\b\b\b\b\b\b\b\b\b\b\b\b\b\b\b\b\b\b\b\b\b\b\b\b\b\b\b\b\r",
      "156/280 [===============>..............] - ETA: 0s"
     ]
    },
    {
     "name": "stdout",
     "output_type": "stream",
     "text": [
      "\b\b\b\b\b\b\b\b\b\b\b\b\b\b\b\b\b\b\b\b\b\b\b\b\b\b\b\b\b\b\b\b\b\b\b\b\b\b\b\b\b\b\b\b\b\b\b\b\b\b\r",
      "176/280 [=================>............] - ETA: 0s"
     ]
    },
    {
     "name": "stdout",
     "output_type": "stream",
     "text": [
      "\b\b\b\b\b\b\b\b\b\b\b\b\b\b\b\b\b\b\b\b\b\b\b\b\b\b\b\b\b\b\b\b\b\b\b\b\b\b\b\b\b\b\b\b\b\b\b\b\b\b\r",
      "196/280 [====================>.........] - ETA: 0s"
     ]
    },
    {
     "name": "stdout",
     "output_type": "stream",
     "text": [
      "\b\b\b\b\b\b\b\b\b\b\b\b\b\b\b\b\b\b\b\b\b\b\b\b\b\b\b\b\b\b\b\b\b\b\b\b\b\b\b\b\b\b\b\b\b\b\b\b\b\b\r",
      "216/280 [======================>.......] - ETA: 0s"
     ]
    },
    {
     "name": "stdout",
     "output_type": "stream",
     "text": [
      "\b\b\b\b\b\b\b\b\b\b\b\b\b\b\b\b\b\b\b\b\b\b\b\b\b\b\b\b\b\b\b\b\b\b\b\b\b\b\b\b\b\b\b\b\b\b\b\b\b\b\r",
      "235/280 [========================>.....] - ETA: 0s"
     ]
    },
    {
     "name": "stdout",
     "output_type": "stream",
     "text": [
      "\b\b\b\b\b\b\b\b\b\b\b\b\b\b\b\b\b\b\b\b\b\b\b\b\b\b\b\b\b\b\b\b\b\b\b\b\b\b\b\b\b\b\b\b\b\b\b\b\b\b\r",
      "255/280 [==========================>...] - ETA: 0s"
     ]
    },
    {
     "name": "stdout",
     "output_type": "stream",
     "text": [
      "\b\b\b\b\b\b\b\b\b\b\b\b\b\b\b\b\b\b\b\b\b\b\b\b\b\b\b\b\b\b\b\b\b\b\b\b\b\b\b\b\b\b\b\b\b\b\b\b\b\b\r",
      "273/280 [============================>.] - ETA: 0s"
     ]
    },
    {
     "name": "stdout",
     "output_type": "stream",
     "text": [
      "\b\b\b\b\b\b\b\b\b\b\b\b\b\b\b\b\b\b\b\b\b\b\b\b\b\b\b\b\b\b\b\b\b\b\b\b\b\b\b\b\b\b\b\b\b\b\b\b\b\b\r",
      "280/280 [==============================] - 1s 3ms/step\n"
     ]
    },
    {
     "data": {
      "text/plain": [
       "array([[0.40196642],\n",
       "       [0.3583578 ],\n",
       "       [0.31801286],\n",
       "       ...,\n",
       "       [0.44174945],\n",
       "       [0.39694428],\n",
       "       [0.38697326]], dtype=float32)"
      ]
     },
     "execution_count": 11,
     "metadata": {},
     "output_type": "execute_result"
    }
   ],
   "source": [
    "y_pred = model.predict(X_test)\n",
    "y_pred"
   ]
  },
  {
   "attachments": {},
   "cell_type": "markdown",
   "id": "fe0a676d",
   "metadata": {
    "papermill": {
     "duration": 0.005742,
     "end_time": "2023-11-26T17:35:29.715950",
     "exception": false,
     "start_time": "2023-11-26T17:35:29.710208",
     "status": "completed"
    },
    "tags": []
   },
   "source": [
    "### Comparison: Real Data & Prediction"
   ]
  },
  {
   "attachments": {},
   "cell_type": "markdown",
   "id": "19c6e5f9",
   "metadata": {
    "papermill": {
     "duration": 0.023138,
     "end_time": "2023-11-26T17:35:29.744566",
     "exception": false,
     "start_time": "2023-11-26T17:35:29.721428",
     "status": "completed"
    },
    "tags": []
   },
   "source": [
    "#### Descale Data"
   ]
  },
  {
   "cell_type": "code",
   "execution_count": 12,
   "id": "7fc8caae",
   "metadata": {
    "execution": {
     "iopub.execute_input": "2023-11-26T17:35:29.776373Z",
     "iopub.status.busy": "2023-11-26T17:35:29.776085Z",
     "iopub.status.idle": "2023-11-26T17:35:29.780912Z",
     "shell.execute_reply": "2023-11-26T17:35:29.780378Z"
    },
    "papermill": {
     "duration": 0.013472,
     "end_time": "2023-11-26T17:35:29.782654",
     "exception": false,
     "start_time": "2023-11-26T17:35:29.769182",
     "status": "completed"
    },
    "tags": []
   },
   "outputs": [],
   "source": [
    "y_pred_scaled_inverse = scaler.inverse_transform(y_pred)\n",
    "y_true = scaler.inverse_transform(y_test)"
   ]
  },
  {
   "attachments": {},
   "cell_type": "markdown",
   "id": "be9116a2",
   "metadata": {
    "papermill": {
     "duration": 0.00576,
     "end_time": "2023-11-26T17:35:29.793696",
     "exception": false,
     "start_time": "2023-11-26T17:35:29.787936",
     "status": "completed"
    },
    "tags": []
   },
   "source": [
    "#### Create DataFrame"
   ]
  },
  {
   "cell_type": "code",
   "execution_count": 13,
   "id": "5ff3e7e4",
   "metadata": {
    "execution": {
     "iopub.execute_input": "2023-11-26T17:35:29.807231Z",
     "iopub.status.busy": "2023-11-26T17:35:29.806715Z",
     "iopub.status.idle": "2023-11-26T17:35:29.826804Z",
     "shell.execute_reply": "2023-11-26T17:35:29.825954Z"
    },
    "papermill": {
     "duration": 0.029176,
     "end_time": "2023-11-26T17:35:29.828557",
     "exception": false,
     "start_time": "2023-11-26T17:35:29.799381",
     "status": "completed"
    },
    "tags": []
   },
   "outputs": [
    {
     "data": {
      "text/html": [
       "<div>\n",
       "<style scoped>\n",
       "    .dataframe tbody tr th:only-of-type {\n",
       "        vertical-align: middle;\n",
       "    }\n",
       "\n",
       "    .dataframe tbody tr th {\n",
       "        vertical-align: top;\n",
       "    }\n",
       "\n",
       "    .dataframe thead th {\n",
       "        text-align: right;\n",
       "    }\n",
       "</style>\n",
       "<table border=\"1\" class=\"dataframe\">\n",
       "  <thead>\n",
       "    <tr style=\"text-align: right;\">\n",
       "      <th></th>\n",
       "      <th>y_pred</th>\n",
       "      <th>y_pred_scaled_inverse</th>\n",
       "      <th>y_true</th>\n",
       "    </tr>\n",
       "  </thead>\n",
       "  <tbody>\n",
       "    <tr>\n",
       "      <th>0</th>\n",
       "      <td>0.401966</td>\n",
       "      <td>1873.286255</td>\n",
       "      <td>1833.0</td>\n",
       "    </tr>\n",
       "    <tr>\n",
       "      <th>1</th>\n",
       "      <td>0.358358</td>\n",
       "      <td>1782.667480</td>\n",
       "      <td>1777.0</td>\n",
       "    </tr>\n",
       "    <tr>\n",
       "      <th>2</th>\n",
       "      <td>0.318013</td>\n",
       "      <td>1698.830811</td>\n",
       "      <td>1699.0</td>\n",
       "    </tr>\n",
       "    <tr>\n",
       "      <th>3</th>\n",
       "      <td>0.285879</td>\n",
       "      <td>1632.056396</td>\n",
       "      <td>1622.0</td>\n",
       "    </tr>\n",
       "    <tr>\n",
       "      <th>4</th>\n",
       "      <td>0.257726</td>\n",
       "      <td>1573.553589</td>\n",
       "      <td>1578.0</td>\n",
       "    </tr>\n",
       "    <tr>\n",
       "      <th>...</th>\n",
       "      <td>...</td>\n",
       "      <td>...</td>\n",
       "      <td>...</td>\n",
       "    </tr>\n",
       "    <tr>\n",
       "      <th>8952</th>\n",
       "      <td>0.488750</td>\n",
       "      <td>2053.622070</td>\n",
       "      <td>2047.0</td>\n",
       "    </tr>\n",
       "    <tr>\n",
       "      <th>8953</th>\n",
       "      <td>0.471974</td>\n",
       "      <td>2018.762085</td>\n",
       "      <td>2035.0</td>\n",
       "    </tr>\n",
       "    <tr>\n",
       "      <th>8954</th>\n",
       "      <td>0.441749</td>\n",
       "      <td>1955.955322</td>\n",
       "      <td>1968.0</td>\n",
       "    </tr>\n",
       "    <tr>\n",
       "      <th>8955</th>\n",
       "      <td>0.396944</td>\n",
       "      <td>1862.850220</td>\n",
       "      <td>1917.0</td>\n",
       "    </tr>\n",
       "    <tr>\n",
       "      <th>8956</th>\n",
       "      <td>0.386973</td>\n",
       "      <td>1842.130371</td>\n",
       "      <td>1823.0</td>\n",
       "    </tr>\n",
       "  </tbody>\n",
       "</table>\n",
       "<p>8957 rows × 3 columns</p>\n",
       "</div>"
      ],
      "text/plain": [
       "        y_pred  y_pred_scaled_inverse  y_true\n",
       "0     0.401966            1873.286255  1833.0\n",
       "1     0.358358            1782.667480  1777.0\n",
       "2     0.318013            1698.830811  1699.0\n",
       "3     0.285879            1632.056396  1622.0\n",
       "4     0.257726            1573.553589  1578.0\n",
       "...        ...                    ...     ...\n",
       "8952  0.488750            2053.622070  2047.0\n",
       "8953  0.471974            2018.762085  2035.0\n",
       "8954  0.441749            1955.955322  1968.0\n",
       "8955  0.396944            1862.850220  1917.0\n",
       "8956  0.386973            1842.130371  1823.0\n",
       "\n",
       "[8957 rows x 3 columns]"
      ]
     },
     "execution_count": 13,
     "metadata": {},
     "output_type": "execute_result"
    }
   ],
   "source": [
    "dic_pred = {\n",
    "    'y_pred': y_pred.flatten(),\n",
    "    'y_pred_scaled_inverse': y_pred_scaled_inverse.flatten(),\n",
    "    'y_true': y_true.flatten(),\n",
    "}\n",
    "\n",
    "df_pred = pd.DataFrame(dic_pred)\n",
    "df_pred"
   ]
  },
  {
   "attachments": {},
   "cell_type": "markdown",
   "id": "62f8405a",
   "metadata": {
    "papermill": {
     "duration": 0.027516,
     "end_time": "2023-11-26T17:35:29.879365",
     "exception": false,
     "start_time": "2023-11-26T17:35:29.851849",
     "status": "completed"
    },
    "tags": []
   },
   "source": [
    "#### Evaluate Model"
   ]
  },
  {
   "cell_type": "code",
   "execution_count": 14,
   "id": "43060ebe",
   "metadata": {
    "execution": {
     "iopub.execute_input": "2023-11-26T17:35:29.894249Z",
     "iopub.status.busy": "2023-11-26T17:35:29.893856Z",
     "iopub.status.idle": "2023-11-26T17:35:29.897716Z",
     "shell.execute_reply": "2023-11-26T17:35:29.897064Z"
    },
    "papermill": {
     "duration": 0.013981,
     "end_time": "2023-11-26T17:35:29.899333",
     "exception": false,
     "start_time": "2023-11-26T17:35:29.885352",
     "status": "completed"
    },
    "tags": []
   },
   "outputs": [],
   "source": [
    "from sklearn.metrics import mean_squared_error"
   ]
  },
  {
   "cell_type": "code",
   "execution_count": 15,
   "id": "854523b3",
   "metadata": {
    "execution": {
     "iopub.execute_input": "2023-11-26T17:35:29.911631Z",
     "iopub.status.busy": "2023-11-26T17:35:29.911355Z",
     "iopub.status.idle": "2023-11-26T17:35:29.917592Z",
     "shell.execute_reply": "2023-11-26T17:35:29.916990Z"
    },
    "papermill": {
     "duration": 0.015069,
     "end_time": "2023-11-26T17:35:29.919798",
     "exception": false,
     "start_time": "2023-11-26T17:35:29.904729",
     "status": "completed"
    },
    "tags": []
   },
   "outputs": [
    {
     "data": {
      "text/plain": [
       "29.236162871762936"
      ]
     },
     "execution_count": 15,
     "metadata": {},
     "output_type": "execute_result"
    }
   ],
   "source": [
    "mean_squared_error(df_pred.y_true, df_pred.y_pred_scaled_inverse, squared=False)"
   ]
  },
  {
   "cell_type": "code",
   "execution_count": 16,
   "id": "29db39b4",
   "metadata": {
    "execution": {
     "iopub.execute_input": "2023-11-26T17:35:29.973663Z",
     "iopub.status.busy": "2023-11-26T17:35:29.973144Z",
     "iopub.status.idle": "2023-11-26T17:35:30.012273Z",
     "shell.execute_reply": "2023-11-26T17:35:30.011613Z"
    },
    "papermill": {
     "duration": 0.070047,
     "end_time": "2023-11-26T17:35:30.014305",
     "exception": false,
     "start_time": "2023-11-26T17:35:29.944258",
     "status": "completed"
    },
    "tags": []
   },
   "outputs": [],
   "source": [
    "model.save(f'../models/{region}.keras')"
   ]
  }
 ],
 "metadata": {
  "kernelspec": {
   "display_name": "deep-learning",
   "language": "python",
   "name": "python3"
  },
  "language_info": {
   "codemirror_mode": {
    "name": "ipython",
    "version": 3
   },
   "file_extension": ".py",
   "mimetype": "text/x-python",
   "name": "python",
   "nbconvert_exporter": "python",
   "pygments_lexer": "ipython3",
   "version": "3.9.18"
  },
  "papermill": {
   "default_parameters": {},
   "duration": 197.909668,
   "end_time": "2023-11-26T17:35:31.149546",
   "environment_variables": {},
   "exception": null,
   "input_path": "Modelling.ipynb",
   "output_path": "outputs/PN.ipynb",
   "parameters": {
    "region": "PN"
   },
   "start_time": "2023-11-26T17:32:13.239878",
   "version": "2.5.0"
  }
 },
 "nbformat": 4,
 "nbformat_minor": 5
}