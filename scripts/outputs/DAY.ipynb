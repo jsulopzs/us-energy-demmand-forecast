{
 "cells": [
  {
   "attachments": {},
   "cell_type": "markdown",
   "id": "ea00b672",
   "metadata": {
    "papermill": {
     "duration": 0.007009,
     "end_time": "2023-11-26T17:07:11.192601",
     "exception": false,
     "start_time": "2023-11-26T17:07:11.185592",
     "status": "completed"
    },
    "tags": []
   },
   "source": [
    "## Load data"
   ]
  },
  {
   "cell_type": "code",
   "execution_count": 1,
   "id": "5979cac5",
   "metadata": {
    "execution": {
     "iopub.execute_input": "2023-11-26T17:07:11.206949Z",
     "iopub.status.busy": "2023-11-26T17:07:11.205912Z",
     "iopub.status.idle": "2023-11-26T17:07:11.792255Z",
     "shell.execute_reply": "2023-11-26T17:07:11.791581Z"
    },
    "papermill": {
     "duration": 0.595368,
     "end_time": "2023-11-26T17:07:11.794711",
     "exception": false,
     "start_time": "2023-11-26T17:07:11.199343",
     "status": "completed"
    },
    "tags": []
   },
   "outputs": [],
   "source": [
    "import pandas as pd"
   ]
  },
  {
   "cell_type": "code",
   "execution_count": 2,
   "id": "c7bad43b",
   "metadata": {
    "execution": {
     "iopub.execute_input": "2023-11-26T17:07:11.805696Z",
     "iopub.status.busy": "2023-11-26T17:07:11.805319Z",
     "iopub.status.idle": "2023-11-26T17:07:11.962065Z",
     "shell.execute_reply": "2023-11-26T17:07:11.961440Z"
    },
    "papermill": {
     "duration": 0.164909,
     "end_time": "2023-11-26T17:07:11.964016",
     "exception": false,
     "start_time": "2023-11-26T17:07:11.799107",
     "status": "completed"
    },
    "tags": []
   },
   "outputs": [
    {
     "data": {
      "text/html": [
       "<div>\n",
       "<style scoped>\n",
       "    .dataframe tbody tr th:only-of-type {\n",
       "        vertical-align: middle;\n",
       "    }\n",
       "\n",
       "    .dataframe tbody tr th {\n",
       "        vertical-align: top;\n",
       "    }\n",
       "\n",
       "    .dataframe thead th {\n",
       "        text-align: right;\n",
       "    }\n",
       "</style>\n",
       "<table border=\"1\" class=\"dataframe\">\n",
       "  <thead>\n",
       "    <tr style=\"text-align: right;\">\n",
       "      <th></th>\n",
       "      <th>AE</th>\n",
       "      <th>AEP</th>\n",
       "      <th>AP</th>\n",
       "      <th>ATSI</th>\n",
       "      <th>BC</th>\n",
       "      <th>CE</th>\n",
       "      <th>DAY</th>\n",
       "      <th>DEOK</th>\n",
       "      <th>DOM</th>\n",
       "      <th>DPL</th>\n",
       "      <th>DUQ</th>\n",
       "      <th>EKPC</th>\n",
       "      <th>JC</th>\n",
       "      <th>ME</th>\n",
       "      <th>PE</th>\n",
       "      <th>PEP</th>\n",
       "      <th>PL</th>\n",
       "      <th>PN</th>\n",
       "      <th>PS</th>\n",
       "      <th>RECO</th>\n",
       "    </tr>\n",
       "    <tr>\n",
       "      <th>period</th>\n",
       "      <th></th>\n",
       "      <th></th>\n",
       "      <th></th>\n",
       "      <th></th>\n",
       "      <th></th>\n",
       "      <th></th>\n",
       "      <th></th>\n",
       "      <th></th>\n",
       "      <th></th>\n",
       "      <th></th>\n",
       "      <th></th>\n",
       "      <th></th>\n",
       "      <th></th>\n",
       "      <th></th>\n",
       "      <th></th>\n",
       "      <th></th>\n",
       "      <th></th>\n",
       "      <th></th>\n",
       "      <th></th>\n",
       "      <th></th>\n",
       "    </tr>\n",
       "  </thead>\n",
       "  <tbody>\n",
       "    <tr>\n",
       "      <th>2018-07-01 05:00:00</th>\n",
       "      <td>1301</td>\n",
       "      <td>12187</td>\n",
       "      <td>4384</td>\n",
       "      <td>6960</td>\n",
       "      <td>3134</td>\n",
       "      <td>12136</td>\n",
       "      <td>1619</td>\n",
       "      <td>2895</td>\n",
       "      <td>9775</td>\n",
       "      <td>1919</td>\n",
       "      <td>1466</td>\n",
       "      <td>1209</td>\n",
       "      <td>2388</td>\n",
       "      <td>1442</td>\n",
       "      <td>4397</td>\n",
       "      <td>3165</td>\n",
       "      <td>3835</td>\n",
       "      <td>1611</td>\n",
       "      <td>5009</td>\n",
       "      <td>186</td>\n",
       "    </tr>\n",
       "    <tr>\n",
       "      <th>2018-07-01 06:00:00</th>\n",
       "      <td>1314</td>\n",
       "      <td>11946</td>\n",
       "      <td>4391</td>\n",
       "      <td>6762</td>\n",
       "      <td>3139</td>\n",
       "      <td>11872</td>\n",
       "      <td>1605</td>\n",
       "      <td>2857</td>\n",
       "      <td>9787</td>\n",
       "      <td>1950</td>\n",
       "      <td>1455</td>\n",
       "      <td>1197</td>\n",
       "      <td>2416</td>\n",
       "      <td>1465</td>\n",
       "      <td>4423</td>\n",
       "      <td>3156</td>\n",
       "      <td>3901</td>\n",
       "      <td>1641</td>\n",
       "      <td>4990</td>\n",
       "      <td>187</td>\n",
       "    </tr>\n",
       "    <tr>\n",
       "      <th>2018-07-01 07:00:00</th>\n",
       "      <td>1410</td>\n",
       "      <td>12664</td>\n",
       "      <td>4757</td>\n",
       "      <td>6670</td>\n",
       "      <td>3377</td>\n",
       "      <td>11992</td>\n",
       "      <td>1707</td>\n",
       "      <td>2997</td>\n",
       "      <td>10453</td>\n",
       "      <td>2160</td>\n",
       "      <td>1528</td>\n",
       "      <td>1273</td>\n",
       "      <td>2644</td>\n",
       "      <td>1605</td>\n",
       "      <td>4743</td>\n",
       "      <td>3332</td>\n",
       "      <td>4232</td>\n",
       "      <td>1728</td>\n",
       "      <td>5267</td>\n",
       "      <td>202</td>\n",
       "    </tr>\n",
       "    <tr>\n",
       "      <th>2018-07-01 08:00:00</th>\n",
       "      <td>1567</td>\n",
       "      <td>14069</td>\n",
       "      <td>5308</td>\n",
       "      <td>7065</td>\n",
       "      <td>3788</td>\n",
       "      <td>12860</td>\n",
       "      <td>1916</td>\n",
       "      <td>3331</td>\n",
       "      <td>11734</td>\n",
       "      <td>2470</td>\n",
       "      <td>1688</td>\n",
       "      <td>1472</td>\n",
       "      <td>3064</td>\n",
       "      <td>1784</td>\n",
       "      <td>5230</td>\n",
       "      <td>3679</td>\n",
       "      <td>4613</td>\n",
       "      <td>1899</td>\n",
       "      <td>5735</td>\n",
       "      <td>230</td>\n",
       "    </tr>\n",
       "    <tr>\n",
       "      <th>2018-07-01 09:00:00</th>\n",
       "      <td>1749</td>\n",
       "      <td>15610</td>\n",
       "      <td>5862</td>\n",
       "      <td>7833</td>\n",
       "      <td>4262</td>\n",
       "      <td>14212</td>\n",
       "      <td>2145</td>\n",
       "      <td>3703</td>\n",
       "      <td>13084</td>\n",
       "      <td>2765</td>\n",
       "      <td>1875</td>\n",
       "      <td>1656</td>\n",
       "      <td>3569</td>\n",
       "      <td>1972</td>\n",
       "      <td>5752</td>\n",
       "      <td>4085</td>\n",
       "      <td>5014</td>\n",
       "      <td>2055</td>\n",
       "      <td>6299</td>\n",
       "      <td>259</td>\n",
       "    </tr>\n",
       "  </tbody>\n",
       "</table>\n",
       "</div>"
      ],
      "text/plain": [
       "                       AE    AEP    AP  ATSI    BC     CE   DAY  DEOK    DOM  \\\n",
       "period                                                                         \n",
       "2018-07-01 05:00:00  1301  12187  4384  6960  3134  12136  1619  2895   9775   \n",
       "2018-07-01 06:00:00  1314  11946  4391  6762  3139  11872  1605  2857   9787   \n",
       "2018-07-01 07:00:00  1410  12664  4757  6670  3377  11992  1707  2997  10453   \n",
       "2018-07-01 08:00:00  1567  14069  5308  7065  3788  12860  1916  3331  11734   \n",
       "2018-07-01 09:00:00  1749  15610  5862  7833  4262  14212  2145  3703  13084   \n",
       "\n",
       "                      DPL   DUQ  EKPC    JC    ME    PE   PEP    PL    PN  \\\n",
       "period                                                                      \n",
       "2018-07-01 05:00:00  1919  1466  1209  2388  1442  4397  3165  3835  1611   \n",
       "2018-07-01 06:00:00  1950  1455  1197  2416  1465  4423  3156  3901  1641   \n",
       "2018-07-01 07:00:00  2160  1528  1273  2644  1605  4743  3332  4232  1728   \n",
       "2018-07-01 08:00:00  2470  1688  1472  3064  1784  5230  3679  4613  1899   \n",
       "2018-07-01 09:00:00  2765  1875  1656  3569  1972  5752  4085  5014  2055   \n",
       "\n",
       "                       PS  RECO  \n",
       "period                           \n",
       "2018-07-01 05:00:00  5009   186  \n",
       "2018-07-01 06:00:00  4990   187  \n",
       "2018-07-01 07:00:00  5267   202  \n",
       "2018-07-01 08:00:00  5735   230  \n",
       "2018-07-01 09:00:00  6299   259  "
      ]
     },
     "execution_count": 2,
     "metadata": {},
     "output_type": "execute_result"
    }
   ],
   "source": [
    "df_base = pd.read_csv('../data/pjm_pivot.csv', index_col=0, parse_dates=True)\n",
    "df_base.head()"
   ]
  },
  {
   "attachments": {},
   "cell_type": "markdown",
   "id": "72cabc4b",
   "metadata": {
    "papermill": {
     "duration": 0.005974,
     "end_time": "2023-11-26T17:07:11.974813",
     "exception": false,
     "start_time": "2023-11-26T17:07:11.968839",
     "status": "completed"
    },
    "tags": []
   },
   "source": [
    "## Select region"
   ]
  },
  {
   "cell_type": "code",
   "execution_count": 3,
   "id": "213628fe",
   "metadata": {
    "execution": {
     "iopub.execute_input": "2023-11-26T17:07:11.984157Z",
     "iopub.status.busy": "2023-11-26T17:07:11.983874Z",
     "iopub.status.idle": "2023-11-26T17:07:11.987380Z",
     "shell.execute_reply": "2023-11-26T17:07:11.986564Z"
    },
    "papermill": {
     "duration": 0.011795,
     "end_time": "2023-11-26T17:07:11.990873",
     "exception": false,
     "start_time": "2023-11-26T17:07:11.979078",
     "status": "completed"
    },
    "tags": [
     "parameters"
    ]
   },
   "outputs": [],
   "source": [
    "region = 'AE'"
   ]
  },
  {
   "cell_type": "code",
   "execution_count": 4,
   "id": "2666ee82",
   "metadata": {
    "execution": {
     "iopub.execute_input": "2023-11-26T17:07:12.001346Z",
     "iopub.status.busy": "2023-11-26T17:07:12.001060Z",
     "iopub.status.idle": "2023-11-26T17:07:12.004642Z",
     "shell.execute_reply": "2023-11-26T17:07:12.003662Z"
    },
    "papermill": {
     "duration": 0.01104,
     "end_time": "2023-11-26T17:07:12.006929",
     "exception": false,
     "start_time": "2023-11-26T17:07:11.995889",
     "status": "completed"
    },
    "tags": [
     "injected-parameters"
    ]
   },
   "outputs": [],
   "source": [
    "# Parameters\n",
    "region = \"DAY\"\n"
   ]
  },
  {
   "cell_type": "code",
   "execution_count": 5,
   "id": "4c8e8069",
   "metadata": {
    "execution": {
     "iopub.execute_input": "2023-11-26T17:07:12.038472Z",
     "iopub.status.busy": "2023-11-26T17:07:12.037579Z",
     "iopub.status.idle": "2023-11-26T17:07:12.049245Z",
     "shell.execute_reply": "2023-11-26T17:07:12.048634Z"
    },
    "papermill": {
     "duration": 0.040522,
     "end_time": "2023-11-26T17:07:12.051298",
     "exception": false,
     "start_time": "2023-11-26T17:07:12.010776",
     "status": "completed"
    },
    "tags": []
   },
   "outputs": [
    {
     "data": {
      "text/html": [
       "<div>\n",
       "<style scoped>\n",
       "    .dataframe tbody tr th:only-of-type {\n",
       "        vertical-align: middle;\n",
       "    }\n",
       "\n",
       "    .dataframe tbody tr th {\n",
       "        vertical-align: top;\n",
       "    }\n",
       "\n",
       "    .dataframe thead th {\n",
       "        text-align: right;\n",
       "    }\n",
       "</style>\n",
       "<table border=\"1\" class=\"dataframe\">\n",
       "  <thead>\n",
       "    <tr style=\"text-align: right;\">\n",
       "      <th></th>\n",
       "      <th>DAY</th>\n",
       "    </tr>\n",
       "    <tr>\n",
       "      <th>period</th>\n",
       "      <th></th>\n",
       "    </tr>\n",
       "  </thead>\n",
       "  <tbody>\n",
       "    <tr>\n",
       "      <th>2018-07-01 05:00:00</th>\n",
       "      <td>1619</td>\n",
       "    </tr>\n",
       "    <tr>\n",
       "      <th>2018-07-01 06:00:00</th>\n",
       "      <td>1605</td>\n",
       "    </tr>\n",
       "    <tr>\n",
       "      <th>2018-07-01 07:00:00</th>\n",
       "      <td>1707</td>\n",
       "    </tr>\n",
       "    <tr>\n",
       "      <th>2018-07-01 08:00:00</th>\n",
       "      <td>1916</td>\n",
       "    </tr>\n",
       "    <tr>\n",
       "      <th>2018-07-01 09:00:00</th>\n",
       "      <td>2145</td>\n",
       "    </tr>\n",
       "    <tr>\n",
       "      <th>...</th>\n",
       "      <td>...</td>\n",
       "    </tr>\n",
       "    <tr>\n",
       "      <th>2023-11-01 00:00:00</th>\n",
       "      <td>2156</td>\n",
       "    </tr>\n",
       "    <tr>\n",
       "      <th>2023-11-01 01:00:00</th>\n",
       "      <td>2167</td>\n",
       "    </tr>\n",
       "    <tr>\n",
       "      <th>2023-11-01 02:00:00</th>\n",
       "      <td>2116</td>\n",
       "    </tr>\n",
       "    <tr>\n",
       "      <th>2023-11-01 03:00:00</th>\n",
       "      <td>2046</td>\n",
       "    </tr>\n",
       "    <tr>\n",
       "      <th>2023-11-01 04:00:00</th>\n",
       "      <td>1962</td>\n",
       "    </tr>\n",
       "  </tbody>\n",
       "</table>\n",
       "<p>44904 rows × 1 columns</p>\n",
       "</div>"
      ],
      "text/plain": [
       "                      DAY\n",
       "period                   \n",
       "2018-07-01 05:00:00  1619\n",
       "2018-07-01 06:00:00  1605\n",
       "2018-07-01 07:00:00  1707\n",
       "2018-07-01 08:00:00  1916\n",
       "2018-07-01 09:00:00  2145\n",
       "...                   ...\n",
       "2023-11-01 00:00:00  2156\n",
       "2023-11-01 01:00:00  2167\n",
       "2023-11-01 02:00:00  2116\n",
       "2023-11-01 03:00:00  2046\n",
       "2023-11-01 04:00:00  1962\n",
       "\n",
       "[44904 rows x 1 columns]"
      ]
     },
     "execution_count": 5,
     "metadata": {},
     "output_type": "execute_result"
    }
   ],
   "source": [
    "df = df_base.loc[:, [region]]\n",
    "df"
   ]
  },
  {
   "attachments": {},
   "cell_type": "markdown",
   "id": "3c46aa2b",
   "metadata": {
    "papermill": {
     "duration": 0.005139,
     "end_time": "2023-11-26T17:07:12.065910",
     "exception": false,
     "start_time": "2023-11-26T17:07:12.060771",
     "status": "completed"
    },
    "tags": []
   },
   "source": [
    "## Data Preprocessing"
   ]
  },
  {
   "attachments": {},
   "cell_type": "markdown",
   "id": "d6cadea4",
   "metadata": {
    "papermill": {
     "duration": 0.005561,
     "end_time": "2023-11-26T17:07:12.076939",
     "exception": false,
     "start_time": "2023-11-26T17:07:12.071378",
     "status": "completed"
    },
    "tags": []
   },
   "source": [
    "### Scale Data"
   ]
  },
  {
   "cell_type": "code",
   "execution_count": 6,
   "id": "0c2ee545",
   "metadata": {
    "execution": {
     "iopub.execute_input": "2023-11-26T17:07:12.086264Z",
     "iopub.status.busy": "2023-11-26T17:07:12.085695Z",
     "iopub.status.idle": "2023-11-26T17:07:12.762358Z",
     "shell.execute_reply": "2023-11-26T17:07:12.761430Z"
    },
    "papermill": {
     "duration": 0.683805,
     "end_time": "2023-11-26T17:07:12.764629",
     "exception": false,
     "start_time": "2023-11-26T17:07:12.080824",
     "status": "completed"
    },
    "tags": []
   },
   "outputs": [],
   "source": [
    "from sklearn.preprocessing import MinMaxScaler\n",
    "\n",
    "# Normalize data\n",
    "scaler = MinMaxScaler(feature_range=(0, 1))\n",
    "data_norm = scaler.fit_transform(df)"
   ]
  },
  {
   "attachments": {},
   "cell_type": "markdown",
   "id": "3068772f",
   "metadata": {
    "papermill": {
     "duration": 0.005197,
     "end_time": "2023-11-26T17:07:12.774061",
     "exception": false,
     "start_time": "2023-11-26T17:07:12.768864",
     "status": "completed"
    },
    "tags": []
   },
   "source": [
    "### Train Test Split"
   ]
  },
  {
   "cell_type": "code",
   "execution_count": 7,
   "id": "4e023d60",
   "metadata": {
    "execution": {
     "iopub.execute_input": "2023-11-26T17:07:12.786518Z",
     "iopub.status.busy": "2023-11-26T17:07:12.785767Z",
     "iopub.status.idle": "2023-11-26T17:07:12.844553Z",
     "shell.execute_reply": "2023-11-26T17:07:12.843510Z"
    },
    "papermill": {
     "duration": 0.067821,
     "end_time": "2023-11-26T17:07:12.847097",
     "exception": false,
     "start_time": "2023-11-26T17:07:12.779276",
     "status": "completed"
    },
    "tags": []
   },
   "outputs": [],
   "source": [
    "from sklearn.model_selection import train_test_split\n",
    "\n",
    "train, test = train_test_split(data_norm, test_size=0.2, shuffle=False)"
   ]
  },
  {
   "attachments": {},
   "cell_type": "markdown",
   "id": "4ee86736",
   "metadata": {
    "papermill": {
     "duration": 0.025003,
     "end_time": "2023-11-26T17:07:12.889700",
     "exception": false,
     "start_time": "2023-11-26T17:07:12.864697",
     "status": "completed"
    },
    "tags": []
   },
   "source": [
    "### Create Sequences"
   ]
  },
  {
   "cell_type": "code",
   "execution_count": 8,
   "id": "f1360b27",
   "metadata": {
    "execution": {
     "iopub.execute_input": "2023-11-26T17:07:12.947874Z",
     "iopub.status.busy": "2023-11-26T17:07:12.947370Z",
     "iopub.status.idle": "2023-11-26T17:07:13.028340Z",
     "shell.execute_reply": "2023-11-26T17:07:13.027621Z"
    },
    "papermill": {
     "duration": 0.111362,
     "end_time": "2023-11-26T17:07:13.030415",
     "exception": false,
     "start_time": "2023-11-26T17:07:12.919053",
     "status": "completed"
    },
    "tags": []
   },
   "outputs": [],
   "source": [
    "import numpy as np\n",
    "\n",
    "def create_sequences(data, sequence_length):\n",
    "    X, y = [], []\n",
    "    for i in range(len(data) - sequence_length):\n",
    "        X.append(data[i:i+sequence_length])\n",
    "        y.append(data[i+sequence_length])\n",
    "    return np.array(X), np.array(y)\n",
    "\n",
    "sequence_length = 24 # Use 24 hours prior to predict the following hour\n",
    "X_train, y_train = create_sequences(train, sequence_length)\n",
    "X_test, y_test = create_sequences(test, sequence_length)"
   ]
  },
  {
   "attachments": {},
   "cell_type": "markdown",
   "id": "1c8decda",
   "metadata": {
    "papermill": {
     "duration": 0.023394,
     "end_time": "2023-11-26T17:07:13.071322",
     "exception": false,
     "start_time": "2023-11-26T17:07:13.047928",
     "status": "completed"
    },
    "tags": []
   },
   "source": [
    "## Modelling"
   ]
  },
  {
   "attachments": {},
   "cell_type": "markdown",
   "id": "ebb96574",
   "metadata": {
    "papermill": {
     "duration": 0.025861,
     "end_time": "2023-11-26T17:07:13.106139",
     "exception": false,
     "start_time": "2023-11-26T17:07:13.080278",
     "status": "completed"
    },
    "tags": []
   },
   "source": [
    "### Design NN Architecture"
   ]
  },
  {
   "cell_type": "code",
   "execution_count": 9,
   "id": "9cac4492",
   "metadata": {
    "execution": {
     "iopub.execute_input": "2023-11-26T17:07:13.157204Z",
     "iopub.status.busy": "2023-11-26T17:07:13.156115Z",
     "iopub.status.idle": "2023-11-26T17:07:18.611630Z",
     "shell.execute_reply": "2023-11-26T17:07:18.610725Z"
    },
    "papermill": {
     "duration": 5.486064,
     "end_time": "2023-11-26T17:07:18.614094",
     "exception": false,
     "start_time": "2023-11-26T17:07:13.128030",
     "status": "completed"
    },
    "tags": []
   },
   "outputs": [
    {
     "name": "stderr",
     "output_type": "stream",
     "text": [
      "2023-11-26 18:07:15.480731: I tensorflow/core/platform/cpu_feature_guard.cc:182] This TensorFlow binary is optimized to use available CPU instructions in performance-critical operations.\n",
      "To enable the following instructions: AVX2 FMA, in other operations, rebuild TensorFlow with the appropriate compiler flags.\n"
     ]
    }
   ],
   "source": [
    "from keras.models import Sequential\n",
    "from keras.layers import LSTM, Dense\n",
    "\n",
    "model = Sequential()\n",
    "model.add(LSTM(50, input_shape=(X_train.shape[1], X_train.shape[2])))\n",
    "model.add(Dense(1))\n",
    "model.compile(optimizer='adam', loss='mean_squared_error')"
   ]
  },
  {
   "attachments": {},
   "cell_type": "markdown",
   "id": "4cb4fb78",
   "metadata": {
    "papermill": {
     "duration": 0.007062,
     "end_time": "2023-11-26T17:07:18.626071",
     "exception": false,
     "start_time": "2023-11-26T17:07:18.619009",
     "status": "completed"
    },
    "tags": []
   },
   "source": [
    "### Train Model"
   ]
  },
  {
   "cell_type": "code",
   "execution_count": 10,
   "id": "f53ca9df",
   "metadata": {
    "execution": {
     "iopub.execute_input": "2023-11-26T17:07:18.658668Z",
     "iopub.status.busy": "2023-11-26T17:07:18.658088Z",
     "iopub.status.idle": "2023-11-26T17:10:36.890001Z",
     "shell.execute_reply": "2023-11-26T17:10:36.889201Z"
    },
    "papermill": {
     "duration": 198.261428,
     "end_time": "2023-11-26T17:10:36.892035",
     "exception": false,
     "start_time": "2023-11-26T17:07:18.630607",
     "status": "completed"
    },
    "tags": []
   },
   "outputs": [],
   "source": [
    "from keras.callbacks import EarlyStopping\n",
    "\n",
    "early_stop = EarlyStopping(monitor='val_loss', patience=5)\n",
    "\n",
    "history = model.fit(\n",
    "    X_train, y_train, epochs=50, batch_size=64, verbose=0,\n",
    "    validation_data=(X_test, y_test), callbacks=[early_stop])"
   ]
  },
  {
   "attachments": {},
   "cell_type": "markdown",
   "id": "534a6bed",
   "metadata": {
    "papermill": {
     "duration": 0.007596,
     "end_time": "2023-11-26T17:10:36.905450",
     "exception": false,
     "start_time": "2023-11-26T17:10:36.897854",
     "status": "completed"
    },
    "tags": []
   },
   "source": [
    "### Calculate Predictions"
   ]
  },
  {
   "cell_type": "code",
   "execution_count": 11,
   "id": "f4ad4446",
   "metadata": {
    "execution": {
     "iopub.execute_input": "2023-11-26T17:10:36.916074Z",
     "iopub.status.busy": "2023-11-26T17:10:36.915751Z",
     "iopub.status.idle": "2023-11-26T17:10:38.149244Z",
     "shell.execute_reply": "2023-11-26T17:10:38.148530Z"
    },
    "papermill": {
     "duration": 1.240855,
     "end_time": "2023-11-26T17:10:38.151323",
     "exception": false,
     "start_time": "2023-11-26T17:10:36.910468",
     "status": "completed"
    },
    "tags": []
   },
   "outputs": [
    {
     "name": "stdout",
     "output_type": "stream",
     "text": [
      "\r",
      "  1/280 [..............................] - ETA: 1:47"
     ]
    },
    {
     "name": "stdout",
     "output_type": "stream",
     "text": [
      "\b\b\b\b\b\b\b\b\b\b\b\b\b\b\b\b\b\b\b\b\b\b\b\b\b\b\b\b\b\b\b\b\b\b\b\b\b\b\b\b\b\b\b\b\b\b\b\b\b\b\b\b\r",
      " 21/280 [=>............................] - ETA: 0s  "
     ]
    },
    {
     "name": "stdout",
     "output_type": "stream",
     "text": [
      "\b\b\b\b\b\b\b\b\b\b\b\b\b\b\b\b\b\b\b\b\b\b\b\b\b\b\b\b\b\b\b\b\b\b\b\b\b\b\b\b\b\b\b\b\b\b\b\b\b\b\r",
      " 42/280 [===>..........................] - ETA: 0s"
     ]
    },
    {
     "name": "stdout",
     "output_type": "stream",
     "text": [
      "\b\b\b\b\b\b\b\b\b\b\b\b\b\b\b\b\b\b\b\b\b\b\b\b\b\b\b\b\b\b\b\b\b\b\b\b\b\b\b\b\b\b\b\b\b\b\b\b\b\b\r",
      " 62/280 [=====>........................] - ETA: 0s"
     ]
    },
    {
     "name": "stdout",
     "output_type": "stream",
     "text": [
      "\b\b\b\b\b\b\b\b\b\b\b\b\b\b\b\b\b\b\b\b\b\b\b\b\b\b\b\b\b\b\b\b\b\b\b\b\b\b\b\b\b\b\b\b\b\b\b\b\b\b\r",
      " 82/280 [=======>......................] - ETA: 0s"
     ]
    },
    {
     "name": "stdout",
     "output_type": "stream",
     "text": [
      "\b\b\b\b\b\b\b\b\b\b\b\b\b\b\b\b\b\b\b\b\b\b\b\b\b\b\b\b\b\b\b\b\b\b\b\b\b\b\b\b\b\b\b\b\b\b\b\b\b\b\r",
      " 96/280 [=========>....................] - ETA: 0s"
     ]
    },
    {
     "name": "stdout",
     "output_type": "stream",
     "text": [
      "\b\b\b\b\b\b\b\b\b\b\b\b\b\b\b\b\b\b\b\b\b\b\b\b\b\b\b\b\b\b\b\b\b\b\b\b\b\b\b\b\b\b\b\b\b\b\b\b\b\b\r",
      "117/280 [===========>..................] - ETA: 0s"
     ]
    },
    {
     "name": "stdout",
     "output_type": "stream",
     "text": [
      "\b\b\b\b\b\b\b\b\b\b\b\b\b\b\b\b\b\b\b\b\b\b\b\b\b\b\b\b\b\b\b\b\b\b\b\b\b\b\b\b\b\b\b\b\b\b\b\b\b\b\r",
      "138/280 [=============>................] - ETA: 0s"
     ]
    },
    {
     "name": "stdout",
     "output_type": "stream",
     "text": [
      "\b\b\b\b\b\b\b\b\b\b\b\b\b\b\b\b\b\b\b\b\b\b\b\b\b\b\b\b\b\b\b\b\b\b\b\b\b\b\b\b\b\b\b\b\b\b\b\b\b\b\r",
      "159/280 [================>.............] - ETA: 0s"
     ]
    },
    {
     "name": "stdout",
     "output_type": "stream",
     "text": [
      "\b\b\b\b\b\b\b\b\b\b\b\b\b\b\b\b\b\b\b\b\b\b\b\b\b\b\b\b\b\b\b\b\b\b\b\b\b\b\b\b\b\b\b\b\b\b\b\b\b\b\r",
      "180/280 [==================>...........] - ETA: 0s"
     ]
    },
    {
     "name": "stdout",
     "output_type": "stream",
     "text": [
      "\b\b\b\b\b\b\b\b\b\b\b\b\b\b\b\b\b\b\b\b\b\b\b\b\b\b\b\b\b\b\b\b\b\b\b\b\b\b\b\b\b\b\b\b\b\b\b\b\b\b\r",
      "202/280 [====================>.........] - ETA: 0s"
     ]
    },
    {
     "name": "stdout",
     "output_type": "stream",
     "text": [
      "\b\b\b\b\b\b\b\b\b\b\b\b\b\b\b\b\b\b\b\b\b\b\b\b\b\b\b\b\b\b\b\b\b\b\b\b\b\b\b\b\b\b\b\b\b\b\b\b\b\b\r",
      "224/280 [=======================>......] - ETA: 0s"
     ]
    },
    {
     "name": "stdout",
     "output_type": "stream",
     "text": [
      "\b\b\b\b\b\b\b\b\b\b\b\b\b\b\b\b\b\b\b\b\b\b\b\b\b\b\b\b\b\b\b\b\b\b\b\b\b\b\b\b\b\b\b\b\b\b\b\b\b\b\r",
      "245/280 [=========================>....] - ETA: 0s"
     ]
    },
    {
     "name": "stdout",
     "output_type": "stream",
     "text": [
      "\b\b\b\b\b\b\b\b\b\b\b\b\b\b\b\b\b\b\b\b\b\b\b\b\b\b\b\b\b\b\b\b\b\b\b\b\b\b\b\b\b\b\b\b\b\b\b\b\b\b\r",
      "266/280 [===========================>..] - ETA: 0s"
     ]
    },
    {
     "name": "stdout",
     "output_type": "stream",
     "text": [
      "\b\b\b\b\b\b\b\b\b\b\b\b\b\b\b\b\b\b\b\b\b\b\b\b\b\b\b\b\b\b\b\b\b\b\b\b\b\b\b\b\b\b\b\b\b\b\b\b\b\b\r",
      "280/280 [==============================] - 1s 3ms/step\n"
     ]
    },
    {
     "data": {
      "text/plain": [
       "array([[0.28422493],\n",
       "       [0.23029697],\n",
       "       [0.20179003],\n",
       "       ...,\n",
       "       [0.40629825],\n",
       "       [0.38027295],\n",
       "       [0.35870844]], dtype=float32)"
      ]
     },
     "execution_count": 11,
     "metadata": {},
     "output_type": "execute_result"
    }
   ],
   "source": [
    "y_pred = model.predict(X_test)\n",
    "y_pred"
   ]
  },
  {
   "attachments": {},
   "cell_type": "markdown",
   "id": "5d32f996",
   "metadata": {
    "papermill": {
     "duration": 0.005533,
     "end_time": "2023-11-26T17:10:38.163537",
     "exception": false,
     "start_time": "2023-11-26T17:10:38.158004",
     "status": "completed"
    },
    "tags": []
   },
   "source": [
    "### Comparison: Real Data & Prediction"
   ]
  },
  {
   "attachments": {},
   "cell_type": "markdown",
   "id": "c6403af5",
   "metadata": {
    "papermill": {
     "duration": 0.005744,
     "end_time": "2023-11-26T17:10:38.174535",
     "exception": false,
     "start_time": "2023-11-26T17:10:38.168791",
     "status": "completed"
    },
    "tags": []
   },
   "source": [
    "#### Descale Data"
   ]
  },
  {
   "cell_type": "code",
   "execution_count": 12,
   "id": "b4f8f7b1",
   "metadata": {
    "execution": {
     "iopub.execute_input": "2023-11-26T17:10:38.187400Z",
     "iopub.status.busy": "2023-11-26T17:10:38.186992Z",
     "iopub.status.idle": "2023-11-26T17:10:38.191619Z",
     "shell.execute_reply": "2023-11-26T17:10:38.191036Z"
    },
    "papermill": {
     "duration": 0.013665,
     "end_time": "2023-11-26T17:10:38.193381",
     "exception": false,
     "start_time": "2023-11-26T17:10:38.179716",
     "status": "completed"
    },
    "tags": []
   },
   "outputs": [],
   "source": [
    "y_pred_scaled_inverse = scaler.inverse_transform(y_pred)\n",
    "y_true = scaler.inverse_transform(y_test)"
   ]
  },
  {
   "attachments": {},
   "cell_type": "markdown",
   "id": "14778696",
   "metadata": {
    "papermill": {
     "duration": 0.006047,
     "end_time": "2023-11-26T17:10:38.204453",
     "exception": false,
     "start_time": "2023-11-26T17:10:38.198406",
     "status": "completed"
    },
    "tags": []
   },
   "source": [
    "#### Create DataFrame"
   ]
  },
  {
   "cell_type": "code",
   "execution_count": 13,
   "id": "4e5a8798",
   "metadata": {
    "execution": {
     "iopub.execute_input": "2023-11-26T17:10:38.216267Z",
     "iopub.status.busy": "2023-11-26T17:10:38.215792Z",
     "iopub.status.idle": "2023-11-26T17:10:38.227369Z",
     "shell.execute_reply": "2023-11-26T17:10:38.226804Z"
    },
    "papermill": {
     "duration": 0.019709,
     "end_time": "2023-11-26T17:10:38.229099",
     "exception": false,
     "start_time": "2023-11-26T17:10:38.209390",
     "status": "completed"
    },
    "tags": []
   },
   "outputs": [
    {
     "data": {
      "text/html": [
       "<div>\n",
       "<style scoped>\n",
       "    .dataframe tbody tr th:only-of-type {\n",
       "        vertical-align: middle;\n",
       "    }\n",
       "\n",
       "    .dataframe tbody tr th {\n",
       "        vertical-align: top;\n",
       "    }\n",
       "\n",
       "    .dataframe thead th {\n",
       "        text-align: right;\n",
       "    }\n",
       "</style>\n",
       "<table border=\"1\" class=\"dataframe\">\n",
       "  <thead>\n",
       "    <tr style=\"text-align: right;\">\n",
       "      <th></th>\n",
       "      <th>y_pred</th>\n",
       "      <th>y_pred_scaled_inverse</th>\n",
       "      <th>y_true</th>\n",
       "    </tr>\n",
       "  </thead>\n",
       "  <tbody>\n",
       "    <tr>\n",
       "      <th>0</th>\n",
       "      <td>0.284225</td>\n",
       "      <td>1801.191895</td>\n",
       "      <td>1747.0</td>\n",
       "    </tr>\n",
       "    <tr>\n",
       "      <th>1</th>\n",
       "      <td>0.230297</td>\n",
       "      <td>1673.652344</td>\n",
       "      <td>1688.0</td>\n",
       "    </tr>\n",
       "    <tr>\n",
       "      <th>2</th>\n",
       "      <td>0.201790</td>\n",
       "      <td>1606.233398</td>\n",
       "      <td>1617.0</td>\n",
       "    </tr>\n",
       "    <tr>\n",
       "      <th>3</th>\n",
       "      <td>0.173458</td>\n",
       "      <td>1539.228149</td>\n",
       "      <td>1520.0</td>\n",
       "    </tr>\n",
       "    <tr>\n",
       "      <th>4</th>\n",
       "      <td>0.132753</td>\n",
       "      <td>1442.960205</td>\n",
       "      <td>1451.0</td>\n",
       "    </tr>\n",
       "    <tr>\n",
       "      <th>...</th>\n",
       "      <td>...</td>\n",
       "      <td>...</td>\n",
       "      <td>...</td>\n",
       "    </tr>\n",
       "    <tr>\n",
       "      <th>8952</th>\n",
       "      <td>0.403271</td>\n",
       "      <td>2082.736572</td>\n",
       "      <td>2156.0</td>\n",
       "    </tr>\n",
       "    <tr>\n",
       "      <th>8953</th>\n",
       "      <td>0.430974</td>\n",
       "      <td>2148.253418</td>\n",
       "      <td>2167.0</td>\n",
       "    </tr>\n",
       "    <tr>\n",
       "      <th>8954</th>\n",
       "      <td>0.406298</td>\n",
       "      <td>2089.895508</td>\n",
       "      <td>2116.0</td>\n",
       "    </tr>\n",
       "    <tr>\n",
       "      <th>8955</th>\n",
       "      <td>0.380273</td>\n",
       "      <td>2028.345581</td>\n",
       "      <td>2046.0</td>\n",
       "    </tr>\n",
       "    <tr>\n",
       "      <th>8956</th>\n",
       "      <td>0.358708</td>\n",
       "      <td>1977.345459</td>\n",
       "      <td>1962.0</td>\n",
       "    </tr>\n",
       "  </tbody>\n",
       "</table>\n",
       "<p>8957 rows × 3 columns</p>\n",
       "</div>"
      ],
      "text/plain": [
       "        y_pred  y_pred_scaled_inverse  y_true\n",
       "0     0.284225            1801.191895  1747.0\n",
       "1     0.230297            1673.652344  1688.0\n",
       "2     0.201790            1606.233398  1617.0\n",
       "3     0.173458            1539.228149  1520.0\n",
       "4     0.132753            1442.960205  1451.0\n",
       "...        ...                    ...     ...\n",
       "8952  0.403271            2082.736572  2156.0\n",
       "8953  0.430974            2148.253418  2167.0\n",
       "8954  0.406298            2089.895508  2116.0\n",
       "8955  0.380273            2028.345581  2046.0\n",
       "8956  0.358708            1977.345459  1962.0\n",
       "\n",
       "[8957 rows x 3 columns]"
      ]
     },
     "execution_count": 13,
     "metadata": {},
     "output_type": "execute_result"
    }
   ],
   "source": [
    "dic_pred = {\n",
    "    'y_pred': y_pred.flatten(),\n",
    "    'y_pred_scaled_inverse': y_pred_scaled_inverse.flatten(),\n",
    "    'y_true': y_true.flatten(),\n",
    "}\n",
    "\n",
    "df_pred = pd.DataFrame(dic_pred)\n",
    "df_pred"
   ]
  },
  {
   "attachments": {},
   "cell_type": "markdown",
   "id": "66d1a1e3",
   "metadata": {
    "papermill": {
     "duration": 0.005783,
     "end_time": "2023-11-26T17:10:38.240498",
     "exception": false,
     "start_time": "2023-11-26T17:10:38.234715",
     "status": "completed"
    },
    "tags": []
   },
   "source": [
    "#### Evaluate Model"
   ]
  },
  {
   "cell_type": "code",
   "execution_count": 14,
   "id": "dbabc471",
   "metadata": {
    "execution": {
     "iopub.execute_input": "2023-11-26T17:10:38.252800Z",
     "iopub.status.busy": "2023-11-26T17:10:38.252352Z",
     "iopub.status.idle": "2023-11-26T17:10:38.256370Z",
     "shell.execute_reply": "2023-11-26T17:10:38.255551Z"
    },
    "papermill": {
     "duration": 0.012933,
     "end_time": "2023-11-26T17:10:38.258455",
     "exception": false,
     "start_time": "2023-11-26T17:10:38.245522",
     "status": "completed"
    },
    "tags": []
   },
   "outputs": [],
   "source": [
    "from sklearn.metrics import mean_squared_error"
   ]
  },
  {
   "cell_type": "code",
   "execution_count": 15,
   "id": "8a87da4f",
   "metadata": {
    "execution": {
     "iopub.execute_input": "2023-11-26T17:10:38.306318Z",
     "iopub.status.busy": "2023-11-26T17:10:38.305767Z",
     "iopub.status.idle": "2023-11-26T17:10:38.314185Z",
     "shell.execute_reply": "2023-11-26T17:10:38.313397Z"
    },
    "papermill": {
     "duration": 0.040729,
     "end_time": "2023-11-26T17:10:38.317355",
     "exception": false,
     "start_time": "2023-11-26T17:10:38.276626",
     "status": "completed"
    },
    "tags": []
   },
   "outputs": [
    {
     "data": {
      "text/plain": [
       "23.9924738578068"
      ]
     },
     "execution_count": 15,
     "metadata": {},
     "output_type": "execute_result"
    }
   ],
   "source": [
    "mean_squared_error(df_pred.y_true, df_pred.y_pred_scaled_inverse, squared=False)"
   ]
  },
  {
   "cell_type": "code",
   "execution_count": 16,
   "id": "cfb767e9",
   "metadata": {
    "execution": {
     "iopub.execute_input": "2023-11-26T17:10:38.343309Z",
     "iopub.status.busy": "2023-11-26T17:10:38.342940Z",
     "iopub.status.idle": "2023-11-26T17:10:38.376992Z",
     "shell.execute_reply": "2023-11-26T17:10:38.376310Z"
    },
    "papermill": {
     "duration": 0.048836,
     "end_time": "2023-11-26T17:10:38.378917",
     "exception": false,
     "start_time": "2023-11-26T17:10:38.330081",
     "status": "completed"
    },
    "tags": []
   },
   "outputs": [],
   "source": [
    "model.save(f'../models/{region}.keras')"
   ]
  }
 ],
 "metadata": {
  "kernelspec": {
   "display_name": "deep-learning",
   "language": "python",
   "name": "python3"
  },
  "language_info": {
   "codemirror_mode": {
    "name": "ipython",
    "version": 3
   },
   "file_extension": ".py",
   "mimetype": "text/x-python",
   "name": "python",
   "nbconvert_exporter": "python",
   "pygments_lexer": "ipython3",
   "version": "3.9.18"
  },
  "papermill": {
   "default_parameters": {},
   "duration": 209.632433,
   "end_time": "2023-11-26T17:10:39.433236",
   "environment_variables": {},
   "exception": null,
   "input_path": "Modelling.ipynb",
   "output_path": "outputs/DAY.ipynb",
   "parameters": {
    "region": "DAY"
   },
   "start_time": "2023-11-26T17:07:09.800803",
   "version": "2.5.0"
  }
 },
 "nbformat": 4,
 "nbformat_minor": 5
}