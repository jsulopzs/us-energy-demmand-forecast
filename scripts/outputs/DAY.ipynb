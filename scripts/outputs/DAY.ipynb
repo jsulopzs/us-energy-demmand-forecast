{
 "cells": [
  {
   "attachments": {},
   "cell_type": "markdown",
   "id": "24c3ca9a",
   "metadata": {
    "papermill": {
     "duration": 0.006248,
     "end_time": "2023-12-13T13:05:42.948449",
     "exception": false,
     "start_time": "2023-12-13T13:05:42.942201",
     "status": "completed"
    },
    "tags": []
   },
   "source": [
    "## Load data"
   ]
  },
  {
   "cell_type": "code",
   "execution_count": 1,
   "id": "4f80f341",
   "metadata": {
    "execution": {
     "iopub.execute_input": "2023-12-13T13:05:42.963403Z",
     "iopub.status.busy": "2023-12-13T13:05:42.963403Z",
     "iopub.status.idle": "2023-12-13T13:05:43.314377Z",
     "shell.execute_reply": "2023-12-13T13:05:43.314377Z"
    },
    "papermill": {
     "duration": 0.360068,
     "end_time": "2023-12-13T13:05:43.315600",
     "exception": false,
     "start_time": "2023-12-13T13:05:42.955532",
     "status": "completed"
    },
    "tags": []
   },
   "outputs": [],
   "source": [
    "import pandas as pd"
   ]
  },
  {
   "cell_type": "code",
   "execution_count": 2,
   "id": "1fb05969",
   "metadata": {
    "execution": {
     "iopub.execute_input": "2023-12-13T13:05:43.331125Z",
     "iopub.status.busy": "2023-12-13T13:05:43.315600Z",
     "iopub.status.idle": "2023-12-13T13:05:43.446579Z",
     "shell.execute_reply": "2023-12-13T13:05:43.446579Z"
    },
    "papermill": {
     "duration": 0.132982,
     "end_time": "2023-12-13T13:05:43.448582",
     "exception": false,
     "start_time": "2023-12-13T13:05:43.315600",
     "status": "completed"
    },
    "tags": []
   },
   "outputs": [
    {
     "data": {
      "text/html": [
       "<div>\n",
       "<style scoped>\n",
       "    .dataframe tbody tr th:only-of-type {\n",
       "        vertical-align: middle;\n",
       "    }\n",
       "\n",
       "    .dataframe tbody tr th {\n",
       "        vertical-align: top;\n",
       "    }\n",
       "\n",
       "    .dataframe thead th {\n",
       "        text-align: right;\n",
       "    }\n",
       "</style>\n",
       "<table border=\"1\" class=\"dataframe\">\n",
       "  <thead>\n",
       "    <tr style=\"text-align: right;\">\n",
       "      <th></th>\n",
       "      <th>AE</th>\n",
       "      <th>AEP</th>\n",
       "      <th>AP</th>\n",
       "      <th>ATSI</th>\n",
       "      <th>BC</th>\n",
       "      <th>CE</th>\n",
       "      <th>DAY</th>\n",
       "      <th>DEOK</th>\n",
       "      <th>DOM</th>\n",
       "      <th>DPL</th>\n",
       "      <th>DUQ</th>\n",
       "      <th>EKPC</th>\n",
       "      <th>JC</th>\n",
       "      <th>ME</th>\n",
       "      <th>PE</th>\n",
       "      <th>PEP</th>\n",
       "      <th>PL</th>\n",
       "      <th>PN</th>\n",
       "      <th>PS</th>\n",
       "      <th>RECO</th>\n",
       "    </tr>\n",
       "    <tr>\n",
       "      <th>period</th>\n",
       "      <th></th>\n",
       "      <th></th>\n",
       "      <th></th>\n",
       "      <th></th>\n",
       "      <th></th>\n",
       "      <th></th>\n",
       "      <th></th>\n",
       "      <th></th>\n",
       "      <th></th>\n",
       "      <th></th>\n",
       "      <th></th>\n",
       "      <th></th>\n",
       "      <th></th>\n",
       "      <th></th>\n",
       "      <th></th>\n",
       "      <th></th>\n",
       "      <th></th>\n",
       "      <th></th>\n",
       "      <th></th>\n",
       "      <th></th>\n",
       "    </tr>\n",
       "  </thead>\n",
       "  <tbody>\n",
       "    <tr>\n",
       "      <th>2018-07-01 05:00:00</th>\n",
       "      <td>1301</td>\n",
       "      <td>12187</td>\n",
       "      <td>4384</td>\n",
       "      <td>6960</td>\n",
       "      <td>3134</td>\n",
       "      <td>12136</td>\n",
       "      <td>1619</td>\n",
       "      <td>2895</td>\n",
       "      <td>9775</td>\n",
       "      <td>1919</td>\n",
       "      <td>1466</td>\n",
       "      <td>1209</td>\n",
       "      <td>2388</td>\n",
       "      <td>1442</td>\n",
       "      <td>4397</td>\n",
       "      <td>3165</td>\n",
       "      <td>3835</td>\n",
       "      <td>1611</td>\n",
       "      <td>5009</td>\n",
       "      <td>186</td>\n",
       "    </tr>\n",
       "    <tr>\n",
       "      <th>2018-07-01 06:00:00</th>\n",
       "      <td>1314</td>\n",
       "      <td>11946</td>\n",
       "      <td>4391</td>\n",
       "      <td>6762</td>\n",
       "      <td>3139</td>\n",
       "      <td>11872</td>\n",
       "      <td>1605</td>\n",
       "      <td>2857</td>\n",
       "      <td>9787</td>\n",
       "      <td>1950</td>\n",
       "      <td>1455</td>\n",
       "      <td>1197</td>\n",
       "      <td>2416</td>\n",
       "      <td>1465</td>\n",
       "      <td>4423</td>\n",
       "      <td>3156</td>\n",
       "      <td>3901</td>\n",
       "      <td>1641</td>\n",
       "      <td>4990</td>\n",
       "      <td>187</td>\n",
       "    </tr>\n",
       "    <tr>\n",
       "      <th>2018-07-01 07:00:00</th>\n",
       "      <td>1410</td>\n",
       "      <td>12664</td>\n",
       "      <td>4757</td>\n",
       "      <td>6670</td>\n",
       "      <td>3377</td>\n",
       "      <td>11992</td>\n",
       "      <td>1707</td>\n",
       "      <td>2997</td>\n",
       "      <td>10453</td>\n",
       "      <td>2160</td>\n",
       "      <td>1528</td>\n",
       "      <td>1273</td>\n",
       "      <td>2644</td>\n",
       "      <td>1605</td>\n",
       "      <td>4743</td>\n",
       "      <td>3332</td>\n",
       "      <td>4232</td>\n",
       "      <td>1728</td>\n",
       "      <td>5267</td>\n",
       "      <td>202</td>\n",
       "    </tr>\n",
       "    <tr>\n",
       "      <th>2018-07-01 08:00:00</th>\n",
       "      <td>1567</td>\n",
       "      <td>14069</td>\n",
       "      <td>5308</td>\n",
       "      <td>7065</td>\n",
       "      <td>3788</td>\n",
       "      <td>12860</td>\n",
       "      <td>1916</td>\n",
       "      <td>3331</td>\n",
       "      <td>11734</td>\n",
       "      <td>2470</td>\n",
       "      <td>1688</td>\n",
       "      <td>1472</td>\n",
       "      <td>3064</td>\n",
       "      <td>1784</td>\n",
       "      <td>5230</td>\n",
       "      <td>3679</td>\n",
       "      <td>4613</td>\n",
       "      <td>1899</td>\n",
       "      <td>5735</td>\n",
       "      <td>230</td>\n",
       "    </tr>\n",
       "    <tr>\n",
       "      <th>2018-07-01 09:00:00</th>\n",
       "      <td>1749</td>\n",
       "      <td>15610</td>\n",
       "      <td>5862</td>\n",
       "      <td>7833</td>\n",
       "      <td>4262</td>\n",
       "      <td>14212</td>\n",
       "      <td>2145</td>\n",
       "      <td>3703</td>\n",
       "      <td>13084</td>\n",
       "      <td>2765</td>\n",
       "      <td>1875</td>\n",
       "      <td>1656</td>\n",
       "      <td>3569</td>\n",
       "      <td>1972</td>\n",
       "      <td>5752</td>\n",
       "      <td>4085</td>\n",
       "      <td>5014</td>\n",
       "      <td>2055</td>\n",
       "      <td>6299</td>\n",
       "      <td>259</td>\n",
       "    </tr>\n",
       "  </tbody>\n",
       "</table>\n",
       "</div>"
      ],
      "text/plain": [
       "                       AE    AEP    AP  ATSI    BC     CE   DAY  DEOK    DOM  \\\n",
       "period                                                                         \n",
       "2018-07-01 05:00:00  1301  12187  4384  6960  3134  12136  1619  2895   9775   \n",
       "2018-07-01 06:00:00  1314  11946  4391  6762  3139  11872  1605  2857   9787   \n",
       "2018-07-01 07:00:00  1410  12664  4757  6670  3377  11992  1707  2997  10453   \n",
       "2018-07-01 08:00:00  1567  14069  5308  7065  3788  12860  1916  3331  11734   \n",
       "2018-07-01 09:00:00  1749  15610  5862  7833  4262  14212  2145  3703  13084   \n",
       "\n",
       "                      DPL   DUQ  EKPC    JC    ME    PE   PEP    PL    PN  \\\n",
       "period                                                                      \n",
       "2018-07-01 05:00:00  1919  1466  1209  2388  1442  4397  3165  3835  1611   \n",
       "2018-07-01 06:00:00  1950  1455  1197  2416  1465  4423  3156  3901  1641   \n",
       "2018-07-01 07:00:00  2160  1528  1273  2644  1605  4743  3332  4232  1728   \n",
       "2018-07-01 08:00:00  2470  1688  1472  3064  1784  5230  3679  4613  1899   \n",
       "2018-07-01 09:00:00  2765  1875  1656  3569  1972  5752  4085  5014  2055   \n",
       "\n",
       "                       PS  RECO  \n",
       "period                           \n",
       "2018-07-01 05:00:00  5009   186  \n",
       "2018-07-01 06:00:00  4990   187  \n",
       "2018-07-01 07:00:00  5267   202  \n",
       "2018-07-01 08:00:00  5735   230  \n",
       "2018-07-01 09:00:00  6299   259  "
      ]
     },
     "execution_count": 2,
     "metadata": {},
     "output_type": "execute_result"
    }
   ],
   "source": [
    "df_base = pd.read_csv('../data/general/pjm_pivot.csv', index_col=0, parse_dates=True)\n",
    "df_base.head()"
   ]
  },
  {
   "attachments": {},
   "cell_type": "markdown",
   "id": "0c23233d",
   "metadata": {
    "papermill": {
     "duration": 0.007002,
     "end_time": "2023-12-13T13:05:43.461584",
     "exception": false,
     "start_time": "2023-12-13T13:05:43.454582",
     "status": "completed"
    },
    "tags": []
   },
   "source": [
    "## Select region"
   ]
  },
  {
   "cell_type": "code",
   "execution_count": 3,
   "id": "29585cc8",
   "metadata": {
    "execution": {
     "iopub.execute_input": "2023-12-13T13:05:43.477587Z",
     "iopub.status.busy": "2023-12-13T13:05:43.477587Z",
     "iopub.status.idle": "2023-12-13T13:05:43.482253Z",
     "shell.execute_reply": "2023-12-13T13:05:43.482063Z"
    },
    "papermill": {
     "duration": 0.0157,
     "end_time": "2023-12-13T13:05:43.484286",
     "exception": false,
     "start_time": "2023-12-13T13:05:43.468586",
     "status": "completed"
    },
    "tags": [
     "parameters"
    ]
   },
   "outputs": [],
   "source": [
    "region = 'AE'"
   ]
  },
  {
   "cell_type": "code",
   "execution_count": 4,
   "id": "75c19cd2",
   "metadata": {
    "execution": {
     "iopub.execute_input": "2023-12-13T13:05:43.497993Z",
     "iopub.status.busy": "2023-12-13T13:05:43.497993Z",
     "iopub.status.idle": "2023-12-13T13:05:43.512671Z",
     "shell.execute_reply": "2023-12-13T13:05:43.512671Z"
    },
    "papermill": {
     "duration": 0.02527,
     "end_time": "2023-12-13T13:05:43.515558",
     "exception": false,
     "start_time": "2023-12-13T13:05:43.490288",
     "status": "completed"
    },
    "tags": [
     "injected-parameters"
    ]
   },
   "outputs": [],
   "source": [
    "# Parameters\n",
    "region = \"DAY\"\n"
   ]
  },
  {
   "cell_type": "code",
   "execution_count": 5,
   "id": "1a214a1b",
   "metadata": {
    "execution": {
     "iopub.execute_input": "2023-12-13T13:05:43.529593Z",
     "iopub.status.busy": "2023-12-13T13:05:43.528594Z",
     "iopub.status.idle": "2023-12-13T13:05:43.545984Z",
     "shell.execute_reply": "2023-12-13T13:05:43.545984Z"
    },
    "papermill": {
     "duration": 0.027393,
     "end_time": "2023-12-13T13:05:43.547984",
     "exception": false,
     "start_time": "2023-12-13T13:05:43.520591",
     "status": "completed"
    },
    "tags": []
   },
   "outputs": [
    {
     "data": {
      "text/html": [
       "<div>\n",
       "<style scoped>\n",
       "    .dataframe tbody tr th:only-of-type {\n",
       "        vertical-align: middle;\n",
       "    }\n",
       "\n",
       "    .dataframe tbody tr th {\n",
       "        vertical-align: top;\n",
       "    }\n",
       "\n",
       "    .dataframe thead th {\n",
       "        text-align: right;\n",
       "    }\n",
       "</style>\n",
       "<table border=\"1\" class=\"dataframe\">\n",
       "  <thead>\n",
       "    <tr style=\"text-align: right;\">\n",
       "      <th></th>\n",
       "      <th>DAY</th>\n",
       "    </tr>\n",
       "    <tr>\n",
       "      <th>period</th>\n",
       "      <th></th>\n",
       "    </tr>\n",
       "  </thead>\n",
       "  <tbody>\n",
       "    <tr>\n",
       "      <th>2018-07-01 05:00:00</th>\n",
       "      <td>1619</td>\n",
       "    </tr>\n",
       "    <tr>\n",
       "      <th>2018-07-01 06:00:00</th>\n",
       "      <td>1605</td>\n",
       "    </tr>\n",
       "    <tr>\n",
       "      <th>2018-07-01 07:00:00</th>\n",
       "      <td>1707</td>\n",
       "    </tr>\n",
       "    <tr>\n",
       "      <th>2018-07-01 08:00:00</th>\n",
       "      <td>1916</td>\n",
       "    </tr>\n",
       "    <tr>\n",
       "      <th>2018-07-01 09:00:00</th>\n",
       "      <td>2145</td>\n",
       "    </tr>\n",
       "    <tr>\n",
       "      <th>...</th>\n",
       "      <td>...</td>\n",
       "    </tr>\n",
       "    <tr>\n",
       "      <th>2023-11-01 00:00:00</th>\n",
       "      <td>2156</td>\n",
       "    </tr>\n",
       "    <tr>\n",
       "      <th>2023-11-01 01:00:00</th>\n",
       "      <td>2167</td>\n",
       "    </tr>\n",
       "    <tr>\n",
       "      <th>2023-11-01 02:00:00</th>\n",
       "      <td>2116</td>\n",
       "    </tr>\n",
       "    <tr>\n",
       "      <th>2023-11-01 03:00:00</th>\n",
       "      <td>2046</td>\n",
       "    </tr>\n",
       "    <tr>\n",
       "      <th>2023-11-01 04:00:00</th>\n",
       "      <td>1962</td>\n",
       "    </tr>\n",
       "  </tbody>\n",
       "</table>\n",
       "<p>44904 rows × 1 columns</p>\n",
       "</div>"
      ],
      "text/plain": [
       "                      DAY\n",
       "period                   \n",
       "2018-07-01 05:00:00  1619\n",
       "2018-07-01 06:00:00  1605\n",
       "2018-07-01 07:00:00  1707\n",
       "2018-07-01 08:00:00  1916\n",
       "2018-07-01 09:00:00  2145\n",
       "...                   ...\n",
       "2023-11-01 00:00:00  2156\n",
       "2023-11-01 01:00:00  2167\n",
       "2023-11-01 02:00:00  2116\n",
       "2023-11-01 03:00:00  2046\n",
       "2023-11-01 04:00:00  1962\n",
       "\n",
       "[44904 rows x 1 columns]"
      ]
     },
     "execution_count": 5,
     "metadata": {},
     "output_type": "execute_result"
    }
   ],
   "source": [
    "df = df_base.loc[:, [region]]\n",
    "df"
   ]
  },
  {
   "attachments": {},
   "cell_type": "markdown",
   "id": "5037c6c5",
   "metadata": {
    "papermill": {
     "duration": 0.006,
     "end_time": "2023-12-13T13:05:43.561987",
     "exception": false,
     "start_time": "2023-12-13T13:05:43.555987",
     "status": "completed"
    },
    "tags": []
   },
   "source": [
    "## Data Preprocessing"
   ]
  },
  {
   "cell_type": "markdown",
   "id": "649192b5",
   "metadata": {
    "papermill": {
     "duration": 0.007001,
     "end_time": "2023-12-13T13:05:43.576577",
     "exception": false,
     "start_time": "2023-12-13T13:05:43.569576",
     "status": "completed"
    },
    "tags": []
   },
   "source": [
    "### Train Test Split"
   ]
  },
  {
   "cell_type": "code",
   "execution_count": 6,
   "id": "499c5f2a",
   "metadata": {
    "execution": {
     "iopub.execute_input": "2023-12-13T13:05:43.593582Z",
     "iopub.status.busy": "2023-12-13T13:05:43.592581Z",
     "iopub.status.idle": "2023-12-13T13:05:44.043826Z",
     "shell.execute_reply": "2023-12-13T13:05:44.043826Z"
    },
    "papermill": {
     "duration": 0.461251,
     "end_time": "2023-12-13T13:05:44.045831",
     "exception": false,
     "start_time": "2023-12-13T13:05:43.584580",
     "status": "completed"
    },
    "tags": []
   },
   "outputs": [],
   "source": [
    "from sklearn.model_selection import train_test_split\n",
    "\n",
    "train, test = train_test_split(df, test_size=0.3, shuffle=False)\n",
    "test, prod = train_test_split(test, test_size=0.5, shuffle=False)"
   ]
  },
  {
   "cell_type": "markdown",
   "id": "920e9308",
   "metadata": {
    "papermill": {
     "duration": 0.007002,
     "end_time": "2023-12-13T13:05:44.059834",
     "exception": false,
     "start_time": "2023-12-13T13:05:44.052832",
     "status": "completed"
    },
    "tags": []
   },
   "source": [
    "### Export Data"
   ]
  },
  {
   "cell_type": "code",
   "execution_count": 7,
   "id": "c20e9c18",
   "metadata": {
    "execution": {
     "iopub.execute_input": "2023-12-13T13:05:44.076838Z",
     "iopub.status.busy": "2023-12-13T13:05:44.075837Z",
     "iopub.status.idle": "2023-12-13T13:05:44.207935Z",
     "shell.execute_reply": "2023-12-13T13:05:44.207935Z"
    },
    "papermill": {
     "duration": 0.143986,
     "end_time": "2023-12-13T13:05:44.210822",
     "exception": false,
     "start_time": "2023-12-13T13:05:44.066836",
     "status": "completed"
    },
    "tags": []
   },
   "outputs": [],
   "source": [
    "import os\n",
    "\n",
    "path_region = f'../data/regions/{region}'\n",
    "\n",
    "if not os.path.exists(path_region):\n",
    "    os.makedirs(path_region)\n",
    "\n",
    "for df, name in zip([train, test, prod], ['train', 'test', 'prod']):\n",
    "    df.to_csv(f'{path_region}/{name}.csv')"
   ]
  },
  {
   "attachments": {},
   "cell_type": "markdown",
   "id": "dfae1370",
   "metadata": {
    "papermill": {
     "duration": 0.0,
     "end_time": "2023-12-13T13:05:44.217190",
     "exception": false,
     "start_time": "2023-12-13T13:05:44.217190",
     "status": "completed"
    },
    "tags": []
   },
   "source": [
    "### Scale Data"
   ]
  },
  {
   "cell_type": "code",
   "execution_count": 8,
   "id": "2b2630c9",
   "metadata": {
    "execution": {
     "iopub.execute_input": "2023-12-13T13:05:44.236382Z",
     "iopub.status.busy": "2023-12-13T13:05:44.236382Z",
     "iopub.status.idle": "2023-12-13T13:05:44.252037Z",
     "shell.execute_reply": "2023-12-13T13:05:44.250910Z"
    },
    "papermill": {
     "duration": 0.019297,
     "end_time": "2023-12-13T13:05:44.252675",
     "exception": false,
     "start_time": "2023-12-13T13:05:44.233378",
     "status": "completed"
    },
    "tags": []
   },
   "outputs": [],
   "source": [
    "from sklearn.preprocessing import MinMaxScaler\n",
    "\n",
    "scaler = MinMaxScaler(feature_range=(0, 1))\n",
    "\n",
    "train_norm = scaler.fit_transform(train)\n",
    "test_norm = scaler.transform(test)"
   ]
  },
  {
   "attachments": {},
   "cell_type": "markdown",
   "id": "70dedb12",
   "metadata": {
    "papermill": {
     "duration": 0.015662,
     "end_time": "2023-12-13T13:05:44.268337",
     "exception": false,
     "start_time": "2023-12-13T13:05:44.252675",
     "status": "completed"
    },
    "tags": []
   },
   "source": [
    "### Create Sequences"
   ]
  },
  {
   "cell_type": "code",
   "execution_count": 9,
   "id": "b80e8f4f",
   "metadata": {
    "execution": {
     "iopub.execute_input": "2023-12-13T13:05:44.284073Z",
     "iopub.status.busy": "2023-12-13T13:05:44.284073Z",
     "iopub.status.idle": "2023-12-13T13:05:44.366346Z",
     "shell.execute_reply": "2023-12-13T13:05:44.365342Z"
    },
    "papermill": {
     "duration": 0.092008,
     "end_time": "2023-12-13T13:05:44.368346",
     "exception": false,
     "start_time": "2023-12-13T13:05:44.276338",
     "status": "completed"
    },
    "tags": []
   },
   "outputs": [],
   "source": [
    "import numpy as np\n",
    "\n",
    "def create_sequences(data, sequence_length):\n",
    "    X, y = [], []\n",
    "    for i in range(len(data) - sequence_length):\n",
    "        X.append(data[i:i+sequence_length])\n",
    "        y.append(data[i+sequence_length])\n",
    "    return np.array(X), np.array(y)\n",
    "\n",
    "sequence_length = 24 # Use 24 hours prior to predict the following hour\n",
    "X_train, y_train = create_sequences(train_norm, sequence_length)\n",
    "X_test, y_test = create_sequences(test_norm, sequence_length)"
   ]
  },
  {
   "attachments": {},
   "cell_type": "markdown",
   "id": "7fae6e01",
   "metadata": {
    "papermill": {
     "duration": 0.010003,
     "end_time": "2023-12-13T13:05:44.385350",
     "exception": false,
     "start_time": "2023-12-13T13:05:44.375347",
     "status": "completed"
    },
    "tags": []
   },
   "source": [
    "## Modelling"
   ]
  },
  {
   "attachments": {},
   "cell_type": "markdown",
   "id": "b0822be9",
   "metadata": {
    "papermill": {
     "duration": 0.007004,
     "end_time": "2023-12-13T13:05:44.399355",
     "exception": false,
     "start_time": "2023-12-13T13:05:44.392351",
     "status": "completed"
    },
    "tags": []
   },
   "source": [
    "### Design NN Architecture"
   ]
  },
  {
   "cell_type": "code",
   "execution_count": 10,
   "id": "f86c48b8",
   "metadata": {
    "execution": {
     "iopub.execute_input": "2023-12-13T13:05:44.415405Z",
     "iopub.status.busy": "2023-12-13T13:05:44.415405Z",
     "iopub.status.idle": "2023-12-13T13:05:45.813664Z",
     "shell.execute_reply": "2023-12-13T13:05:45.813664Z"
    },
    "papermill": {
     "duration": 1.413742,
     "end_time": "2023-12-13T13:05:45.815667",
     "exception": false,
     "start_time": "2023-12-13T13:05:44.401925",
     "status": "completed"
    },
    "tags": []
   },
   "outputs": [
    {
     "name": "stderr",
     "output_type": "stream",
     "text": [
      "c:\\Users\\jesus\\miniconda3\\envs\\tf-base\\lib\\site-packages\\tensorflow\\python\\framework\\dtypes.py:516: FutureWarning: Passing (type, 1) or '1type' as a synonym of type is deprecated; in a future version of numpy, it will be understood as (type, (1,)) / '(1,)type'.\n",
      "  _np_qint8 = np.dtype([(\"qint8\", np.int8, 1)])\n",
      "c:\\Users\\jesus\\miniconda3\\envs\\tf-base\\lib\\site-packages\\tensorflow\\python\\framework\\dtypes.py:517: FutureWarning: Passing (type, 1) or '1type' as a synonym of type is deprecated; in a future version of numpy, it will be understood as (type, (1,)) / '(1,)type'.\n",
      "  _np_quint8 = np.dtype([(\"quint8\", np.uint8, 1)])\n",
      "c:\\Users\\jesus\\miniconda3\\envs\\tf-base\\lib\\site-packages\\tensorflow\\python\\framework\\dtypes.py:518: FutureWarning: Passing (type, 1) or '1type' as a synonym of type is deprecated; in a future version of numpy, it will be understood as (type, (1,)) / '(1,)type'.\n",
      "  _np_qint16 = np.dtype([(\"qint16\", np.int16, 1)])\n",
      "c:\\Users\\jesus\\miniconda3\\envs\\tf-base\\lib\\site-packages\\tensorflow\\python\\framework\\dtypes.py:519: FutureWarning: Passing (type, 1) or '1type' as a synonym of type is deprecated; in a future version of numpy, it will be understood as (type, (1,)) / '(1,)type'.\n",
      "  _np_quint16 = np.dtype([(\"quint16\", np.uint16, 1)])\n",
      "c:\\Users\\jesus\\miniconda3\\envs\\tf-base\\lib\\site-packages\\tensorflow\\python\\framework\\dtypes.py:520: FutureWarning: Passing (type, 1) or '1type' as a synonym of type is deprecated; in a future version of numpy, it will be understood as (type, (1,)) / '(1,)type'.\n",
      "  _np_qint32 = np.dtype([(\"qint32\", np.int32, 1)])\n",
      "c:\\Users\\jesus\\miniconda3\\envs\\tf-base\\lib\\site-packages\\tensorflow\\python\\framework\\dtypes.py:525: FutureWarning: Passing (type, 1) or '1type' as a synonym of type is deprecated; in a future version of numpy, it will be understood as (type, (1,)) / '(1,)type'.\n",
      "  np_resource = np.dtype([(\"resource\", np.ubyte, 1)])\n"
     ]
    },
    {
     "name": "stdout",
     "output_type": "stream",
     "text": [
      "WARNING:tensorflow:From c:\\Users\\jesus\\miniconda3\\envs\\tf-base\\lib\\site-packages\\tensorflow\\python\\ops\\init_ops.py:1251: calling VarianceScaling.__init__ (from tensorflow.python.ops.init_ops) with dtype is deprecated and will be removed in a future version.\n",
      "Instructions for updating:\n",
      "Call initializer instance with the dtype argument instead of passing it to the constructor\n"
     ]
    },
    {
     "name": "stderr",
     "output_type": "stream",
     "text": [
      "c:\\Users\\jesus\\miniconda3\\envs\\tf-base\\lib\\site-packages\\tensorboard\\compat\\tensorflow_stub\\dtypes.py:541: FutureWarning: Passing (type, 1) or '1type' as a synonym of type is deprecated; in a future version of numpy, it will be understood as (type, (1,)) / '(1,)type'.\n",
      "  _np_qint8 = np.dtype([(\"qint8\", np.int8, 1)])\n",
      "c:\\Users\\jesus\\miniconda3\\envs\\tf-base\\lib\\site-packages\\tensorboard\\compat\\tensorflow_stub\\dtypes.py:542: FutureWarning: Passing (type, 1) or '1type' as a synonym of type is deprecated; in a future version of numpy, it will be understood as (type, (1,)) / '(1,)type'.\n",
      "  _np_quint8 = np.dtype([(\"quint8\", np.uint8, 1)])\n",
      "c:\\Users\\jesus\\miniconda3\\envs\\tf-base\\lib\\site-packages\\tensorboard\\compat\\tensorflow_stub\\dtypes.py:543: FutureWarning: Passing (type, 1) or '1type' as a synonym of type is deprecated; in a future version of numpy, it will be understood as (type, (1,)) / '(1,)type'.\n",
      "  _np_qint16 = np.dtype([(\"qint16\", np.int16, 1)])\n",
      "c:\\Users\\jesus\\miniconda3\\envs\\tf-base\\lib\\site-packages\\tensorboard\\compat\\tensorflow_stub\\dtypes.py:544: FutureWarning: Passing (type, 1) or '1type' as a synonym of type is deprecated; in a future version of numpy, it will be understood as (type, (1,)) / '(1,)type'.\n",
      "  _np_quint16 = np.dtype([(\"quint16\", np.uint16, 1)])\n",
      "c:\\Users\\jesus\\miniconda3\\envs\\tf-base\\lib\\site-packages\\tensorboard\\compat\\tensorflow_stub\\dtypes.py:545: FutureWarning: Passing (type, 1) or '1type' as a synonym of type is deprecated; in a future version of numpy, it will be understood as (type, (1,)) / '(1,)type'.\n",
      "  _np_qint32 = np.dtype([(\"qint32\", np.int32, 1)])\n",
      "c:\\Users\\jesus\\miniconda3\\envs\\tf-base\\lib\\site-packages\\tensorboard\\compat\\tensorflow_stub\\dtypes.py:550: FutureWarning: Passing (type, 1) or '1type' as a synonym of type is deprecated; in a future version of numpy, it will be understood as (type, (1,)) / '(1,)type'.\n",
      "  np_resource = np.dtype([(\"resource\", np.ubyte, 1)])\n"
     ]
    }
   ],
   "source": [
    "from tensorflow.keras.models import Sequential\n",
    "from tensorflow.keras.layers import LSTM, Dense\n",
    "\n",
    "model = Sequential()\n",
    "model.add(LSTM(50, input_shape=(X_train.shape[1], X_train.shape[2])))\n",
    "model.add(Dense(1))\n",
    "model.compile(optimizer='adam', loss='mean_squared_error')"
   ]
  },
  {
   "attachments": {},
   "cell_type": "markdown",
   "id": "a3b2efa5",
   "metadata": {
    "papermill": {
     "duration": 0.007001,
     "end_time": "2023-12-13T13:05:45.830669",
     "exception": false,
     "start_time": "2023-12-13T13:05:45.823668",
     "status": "completed"
    },
    "tags": []
   },
   "source": [
    "### Train Model"
   ]
  },
  {
   "cell_type": "code",
   "execution_count": 11,
   "id": "467ab824",
   "metadata": {
    "execution": {
     "iopub.execute_input": "2023-12-13T13:05:45.846110Z",
     "iopub.status.busy": "2023-12-13T13:05:45.846110Z",
     "iopub.status.idle": "2023-12-13T13:09:15.066022Z",
     "shell.execute_reply": "2023-12-13T13:09:15.065019Z"
    },
    "papermill": {
     "duration": 209.228199,
     "end_time": "2023-12-13T13:09:15.066307",
     "exception": false,
     "start_time": "2023-12-13T13:05:45.838108",
     "status": "completed"
    },
    "tags": []
   },
   "outputs": [
    {
     "name": "stdout",
     "output_type": "stream",
     "text": [
      "WARNING:tensorflow:From c:\\Users\\jesus\\miniconda3\\envs\\tf-base\\lib\\site-packages\\tensorflow\\python\\ops\\math_grad.py:1250: add_dispatch_support.<locals>.wrapper (from tensorflow.python.ops.array_ops) is deprecated and will be removed in a future version.\n",
      "Instructions for updating:\n",
      "Use tf.where in 2.0, which has the same broadcast rule as np.where\n"
     ]
    }
   ],
   "source": [
    "from tensorflow.keras.callbacks import EarlyStopping\n",
    "\n",
    "early_stop = EarlyStopping(monitor='val_loss', patience=5)\n",
    "\n",
    "history = model.fit(\n",
    "    X_train, y_train, epochs=50, batch_size=64, verbose=0,\n",
    "    validation_data=(X_test, y_test), callbacks=[early_stop])"
   ]
  },
  {
   "attachments": {},
   "cell_type": "markdown",
   "id": "bfac5e36",
   "metadata": {
    "papermill": {
     "duration": 0.015403,
     "end_time": "2023-12-13T13:09:15.081710",
     "exception": false,
     "start_time": "2023-12-13T13:09:15.066307",
     "status": "completed"
    },
    "tags": []
   },
   "source": [
    "### Calculate Predictions"
   ]
  },
  {
   "cell_type": "code",
   "execution_count": 12,
   "id": "3c9142ba",
   "metadata": {
    "execution": {
     "iopub.execute_input": "2023-12-13T13:09:15.098439Z",
     "iopub.status.busy": "2023-12-13T13:09:15.098439Z",
     "iopub.status.idle": "2023-12-13T13:09:15.633523Z",
     "shell.execute_reply": "2023-12-13T13:09:15.631521Z"
    },
    "papermill": {
     "duration": 0.55239,
     "end_time": "2023-12-13T13:09:15.635523",
     "exception": false,
     "start_time": "2023-12-13T13:09:15.083133",
     "status": "completed"
    },
    "tags": []
   },
   "outputs": [
    {
     "data": {
      "text/plain": [
       "array([[0.1425047 ],\n",
       "       [0.15353996],\n",
       "       [0.17091784],\n",
       "       ...,\n",
       "       [0.35487056],\n",
       "       [0.44074643],\n",
       "       [0.49625245]], dtype=float32)"
      ]
     },
     "execution_count": 12,
     "metadata": {},
     "output_type": "execute_result"
    }
   ],
   "source": [
    "y_pred = model.predict(X_test)\n",
    "y_pred"
   ]
  },
  {
   "attachments": {},
   "cell_type": "markdown",
   "id": "870616a4",
   "metadata": {
    "papermill": {
     "duration": 0.007998,
     "end_time": "2023-12-13T13:09:15.652526",
     "exception": false,
     "start_time": "2023-12-13T13:09:15.644528",
     "status": "completed"
    },
    "tags": []
   },
   "source": [
    "### Comparison: Real Data & Prediction"
   ]
  },
  {
   "attachments": {},
   "cell_type": "markdown",
   "id": "dd0d3cf1",
   "metadata": {
    "papermill": {
     "duration": 0.008002,
     "end_time": "2023-12-13T13:09:15.667530",
     "exception": false,
     "start_time": "2023-12-13T13:09:15.659528",
     "status": "completed"
    },
    "tags": []
   },
   "source": [
    "#### Descale Data"
   ]
  },
  {
   "cell_type": "code",
   "execution_count": 13,
   "id": "dd01b16c",
   "metadata": {
    "execution": {
     "iopub.execute_input": "2023-12-13T13:09:15.684534Z",
     "iopub.status.busy": "2023-12-13T13:09:15.683535Z",
     "iopub.status.idle": "2023-12-13T13:09:15.695537Z",
     "shell.execute_reply": "2023-12-13T13:09:15.695537Z"
    },
    "papermill": {
     "duration": 0.023005,
     "end_time": "2023-12-13T13:09:15.697537",
     "exception": false,
     "start_time": "2023-12-13T13:09:15.674532",
     "status": "completed"
    },
    "tags": []
   },
   "outputs": [],
   "source": [
    "y_pred_scaled_inverse = scaler.inverse_transform(y_pred)\n",
    "y_true = scaler.inverse_transform(y_test)"
   ]
  },
  {
   "attachments": {},
   "cell_type": "markdown",
   "id": "4a6dcacf",
   "metadata": {
    "papermill": {
     "duration": 0.010003,
     "end_time": "2023-12-13T13:09:15.715541",
     "exception": false,
     "start_time": "2023-12-13T13:09:15.705538",
     "status": "completed"
    },
    "tags": []
   },
   "source": [
    "#### Create DataFrame"
   ]
  },
  {
   "cell_type": "code",
   "execution_count": 14,
   "id": "07a50847",
   "metadata": {
    "execution": {
     "iopub.execute_input": "2023-12-13T13:09:15.731544Z",
     "iopub.status.busy": "2023-12-13T13:09:15.731544Z",
     "iopub.status.idle": "2023-12-13T13:09:15.743547Z",
     "shell.execute_reply": "2023-12-13T13:09:15.743547Z"
    },
    "papermill": {
     "duration": 0.022004,
     "end_time": "2023-12-13T13:09:15.745547",
     "exception": false,
     "start_time": "2023-12-13T13:09:15.723543",
     "status": "completed"
    },
    "tags": []
   },
   "outputs": [
    {
     "data": {
      "text/html": [
       "<div>\n",
       "<style scoped>\n",
       "    .dataframe tbody tr th:only-of-type {\n",
       "        vertical-align: middle;\n",
       "    }\n",
       "\n",
       "    .dataframe tbody tr th {\n",
       "        vertical-align: top;\n",
       "    }\n",
       "\n",
       "    .dataframe thead th {\n",
       "        text-align: right;\n",
       "    }\n",
       "</style>\n",
       "<table border=\"1\" class=\"dataframe\">\n",
       "  <thead>\n",
       "    <tr style=\"text-align: right;\">\n",
       "      <th></th>\n",
       "      <th>y_pred</th>\n",
       "      <th>y_pred_scaled_inverse</th>\n",
       "      <th>y_true</th>\n",
       "    </tr>\n",
       "  </thead>\n",
       "  <tbody>\n",
       "    <tr>\n",
       "      <th>0</th>\n",
       "      <td>0.142505</td>\n",
       "      <td>1466.023560</td>\n",
       "      <td>1467.0</td>\n",
       "    </tr>\n",
       "    <tr>\n",
       "      <th>1</th>\n",
       "      <td>0.153540</td>\n",
       "      <td>1492.121948</td>\n",
       "      <td>1493.0</td>\n",
       "    </tr>\n",
       "    <tr>\n",
       "      <th>2</th>\n",
       "      <td>0.170918</td>\n",
       "      <td>1533.220703</td>\n",
       "      <td>1549.0</td>\n",
       "    </tr>\n",
       "    <tr>\n",
       "      <th>3</th>\n",
       "      <td>0.199120</td>\n",
       "      <td>1599.917603</td>\n",
       "      <td>1650.0</td>\n",
       "    </tr>\n",
       "    <tr>\n",
       "      <th>4</th>\n",
       "      <td>0.244996</td>\n",
       "      <td>1708.416016</td>\n",
       "      <td>1675.0</td>\n",
       "    </tr>\n",
       "    <tr>\n",
       "      <th>...</th>\n",
       "      <td>...</td>\n",
       "      <td>...</td>\n",
       "      <td>...</td>\n",
       "    </tr>\n",
       "    <tr>\n",
       "      <th>6707</th>\n",
       "      <td>0.309750</td>\n",
       "      <td>1861.557617</td>\n",
       "      <td>1865.0</td>\n",
       "    </tr>\n",
       "    <tr>\n",
       "      <th>6708</th>\n",
       "      <td>0.324742</td>\n",
       "      <td>1897.014282</td>\n",
       "      <td>1902.0</td>\n",
       "    </tr>\n",
       "    <tr>\n",
       "      <th>6709</th>\n",
       "      <td>0.354871</td>\n",
       "      <td>1968.268799</td>\n",
       "      <td>2026.0</td>\n",
       "    </tr>\n",
       "    <tr>\n",
       "      <th>6710</th>\n",
       "      <td>0.440746</td>\n",
       "      <td>2171.365234</td>\n",
       "      <td>2189.0</td>\n",
       "    </tr>\n",
       "    <tr>\n",
       "      <th>6711</th>\n",
       "      <td>0.496252</td>\n",
       "      <td>2302.637207</td>\n",
       "      <td>2315.0</td>\n",
       "    </tr>\n",
       "  </tbody>\n",
       "</table>\n",
       "<p>6712 rows × 3 columns</p>\n",
       "</div>"
      ],
      "text/plain": [
       "        y_pred  y_pred_scaled_inverse  y_true\n",
       "0     0.142505            1466.023560  1467.0\n",
       "1     0.153540            1492.121948  1493.0\n",
       "2     0.170918            1533.220703  1549.0\n",
       "3     0.199120            1599.917603  1650.0\n",
       "4     0.244996            1708.416016  1675.0\n",
       "...        ...                    ...     ...\n",
       "6707  0.309750            1861.557617  1865.0\n",
       "6708  0.324742            1897.014282  1902.0\n",
       "6709  0.354871            1968.268799  2026.0\n",
       "6710  0.440746            2171.365234  2189.0\n",
       "6711  0.496252            2302.637207  2315.0\n",
       "\n",
       "[6712 rows x 3 columns]"
      ]
     },
     "execution_count": 14,
     "metadata": {},
     "output_type": "execute_result"
    }
   ],
   "source": [
    "dic_pred = {\n",
    "    'y_pred': y_pred.flatten(),\n",
    "    'y_pred_scaled_inverse': y_pred_scaled_inverse.flatten(),\n",
    "    'y_true': y_true.flatten(),\n",
    "}\n",
    "\n",
    "df_pred = pd.DataFrame(dic_pred)\n",
    "df_pred"
   ]
  },
  {
   "attachments": {},
   "cell_type": "markdown",
   "id": "82961520",
   "metadata": {
    "papermill": {
     "duration": 0.007001,
     "end_time": "2023-12-13T13:09:15.761551",
     "exception": false,
     "start_time": "2023-12-13T13:09:15.754550",
     "status": "completed"
    },
    "tags": []
   },
   "source": [
    "#### Evaluate Model"
   ]
  },
  {
   "cell_type": "code",
   "execution_count": 15,
   "id": "37851658",
   "metadata": {
    "execution": {
     "iopub.execute_input": "2023-12-13T13:09:15.778555Z",
     "iopub.status.busy": "2023-12-13T13:09:15.777558Z",
     "iopub.status.idle": "2023-12-13T13:09:15.790460Z",
     "shell.execute_reply": "2023-12-13T13:09:15.789461Z"
    },
    "papermill": {
     "duration": 0.02191,
     "end_time": "2023-12-13T13:09:15.791463",
     "exception": false,
     "start_time": "2023-12-13T13:09:15.769553",
     "status": "completed"
    },
    "tags": []
   },
   "outputs": [],
   "source": [
    "from sklearn.metrics import mean_squared_error"
   ]
  },
  {
   "cell_type": "code",
   "execution_count": 16,
   "id": "3c874c4d",
   "metadata": {
    "execution": {
     "iopub.execute_input": "2023-12-13T13:09:15.808465Z",
     "iopub.status.busy": "2023-12-13T13:09:15.808465Z",
     "iopub.status.idle": "2023-12-13T13:09:15.821082Z",
     "shell.execute_reply": "2023-12-13T13:09:15.821082Z"
    },
    "papermill": {
     "duration": 0.02362,
     "end_time": "2023-12-13T13:09:15.823082",
     "exception": false,
     "start_time": "2023-12-13T13:09:15.799462",
     "status": "completed"
    },
    "tags": []
   },
   "outputs": [
    {
     "data": {
      "text/plain": [
       "25.684387155998756"
      ]
     },
     "execution_count": 16,
     "metadata": {},
     "output_type": "execute_result"
    }
   ],
   "source": [
    "mean_squared_error(df_pred.y_true, df_pred.y_pred_scaled_inverse, squared=False)"
   ]
  },
  {
   "cell_type": "code",
   "execution_count": 17,
   "id": "50e023ab",
   "metadata": {
    "execution": {
     "iopub.execute_input": "2023-12-13T13:09:15.840086Z",
     "iopub.status.busy": "2023-12-13T13:09:15.840086Z",
     "iopub.status.idle": "2023-12-13T13:09:15.934108Z",
     "shell.execute_reply": "2023-12-13T13:09:15.933108Z"
    },
    "papermill": {
     "duration": 0.105025,
     "end_time": "2023-12-13T13:09:15.935108",
     "exception": false,
     "start_time": "2023-12-13T13:09:15.830083",
     "status": "completed"
    },
    "tags": []
   },
   "outputs": [],
   "source": [
    "model.save(f'../models/{region}.keras')"
   ]
  }
 ],
 "metadata": {
  "kernelspec": {
   "display_name": "deep-learning",
   "language": "python",
   "name": "python3"
  },
  "language_info": {
   "codemirror_mode": {
    "name": "ipython",
    "version": 3
   },
   "file_extension": ".py",
   "mimetype": "text/x-python",
   "name": "python",
   "nbconvert_exporter": "python",
   "pygments_lexer": "ipython3",
   "version": "3.7.12"
  },
  "papermill": {
   "default_parameters": {},
   "duration": 214.736051,
   "end_time": "2023-12-13T13:09:16.400504",
   "environment_variables": {},
   "exception": null,
   "input_path": "Modelling.ipynb",
   "output_path": "outputs/DAY.ipynb",
   "parameters": {
    "region": "DAY"
   },
   "start_time": "2023-12-13T13:05:41.664453",
   "version": "2.4.0"
  }
 },
 "nbformat": 4,
 "nbformat_minor": 5
}