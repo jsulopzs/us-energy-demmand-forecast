{
 "cells": [
  {
   "attachments": {},
   "cell_type": "markdown",
   "id": "a2890961",
   "metadata": {
    "papermill": {
     "duration": 0.006005,
     "end_time": "2023-12-13T13:24:30.660134",
     "exception": false,
     "start_time": "2023-12-13T13:24:30.654129",
     "status": "completed"
    },
    "tags": []
   },
   "source": [
    "## Load data"
   ]
  },
  {
   "cell_type": "code",
   "execution_count": 1,
   "id": "2a731f57",
   "metadata": {
    "execution": {
     "iopub.execute_input": "2023-12-13T13:24:30.678139Z",
     "iopub.status.busy": "2023-12-13T13:24:30.677138Z",
     "iopub.status.idle": "2023-12-13T13:24:31.026210Z",
     "shell.execute_reply": "2023-12-13T13:24:31.026210Z"
    },
    "papermill": {
     "duration": 0.359748,
     "end_time": "2023-12-13T13:24:31.027885",
     "exception": false,
     "start_time": "2023-12-13T13:24:30.668137",
     "status": "completed"
    },
    "tags": []
   },
   "outputs": [],
   "source": [
    "import pandas as pd"
   ]
  },
  {
   "cell_type": "code",
   "execution_count": 2,
   "id": "12083f65",
   "metadata": {
    "execution": {
     "iopub.execute_input": "2023-12-13T13:24:31.043909Z",
     "iopub.status.busy": "2023-12-13T13:24:31.042890Z",
     "iopub.status.idle": "2023-12-13T13:24:31.161363Z",
     "shell.execute_reply": "2023-12-13T13:24:31.161363Z"
    },
    "papermill": {
     "duration": 0.133478,
     "end_time": "2023-12-13T13:24:31.161363",
     "exception": false,
     "start_time": "2023-12-13T13:24:31.027885",
     "status": "completed"
    },
    "tags": []
   },
   "outputs": [
    {
     "data": {
      "text/html": [
       "<div>\n",
       "<style scoped>\n",
       "    .dataframe tbody tr th:only-of-type {\n",
       "        vertical-align: middle;\n",
       "    }\n",
       "\n",
       "    .dataframe tbody tr th {\n",
       "        vertical-align: top;\n",
       "    }\n",
       "\n",
       "    .dataframe thead th {\n",
       "        text-align: right;\n",
       "    }\n",
       "</style>\n",
       "<table border=\"1\" class=\"dataframe\">\n",
       "  <thead>\n",
       "    <tr style=\"text-align: right;\">\n",
       "      <th></th>\n",
       "      <th>AE</th>\n",
       "      <th>AEP</th>\n",
       "      <th>AP</th>\n",
       "      <th>ATSI</th>\n",
       "      <th>BC</th>\n",
       "      <th>CE</th>\n",
       "      <th>DAY</th>\n",
       "      <th>DEOK</th>\n",
       "      <th>DOM</th>\n",
       "      <th>DPL</th>\n",
       "      <th>DUQ</th>\n",
       "      <th>EKPC</th>\n",
       "      <th>JC</th>\n",
       "      <th>ME</th>\n",
       "      <th>PE</th>\n",
       "      <th>PEP</th>\n",
       "      <th>PL</th>\n",
       "      <th>PN</th>\n",
       "      <th>PS</th>\n",
       "      <th>RECO</th>\n",
       "    </tr>\n",
       "    <tr>\n",
       "      <th>period</th>\n",
       "      <th></th>\n",
       "      <th></th>\n",
       "      <th></th>\n",
       "      <th></th>\n",
       "      <th></th>\n",
       "      <th></th>\n",
       "      <th></th>\n",
       "      <th></th>\n",
       "      <th></th>\n",
       "      <th></th>\n",
       "      <th></th>\n",
       "      <th></th>\n",
       "      <th></th>\n",
       "      <th></th>\n",
       "      <th></th>\n",
       "      <th></th>\n",
       "      <th></th>\n",
       "      <th></th>\n",
       "      <th></th>\n",
       "      <th></th>\n",
       "    </tr>\n",
       "  </thead>\n",
       "  <tbody>\n",
       "    <tr>\n",
       "      <th>2018-07-01 05:00:00</th>\n",
       "      <td>1301</td>\n",
       "      <td>12187</td>\n",
       "      <td>4384</td>\n",
       "      <td>6960</td>\n",
       "      <td>3134</td>\n",
       "      <td>12136</td>\n",
       "      <td>1619</td>\n",
       "      <td>2895</td>\n",
       "      <td>9775</td>\n",
       "      <td>1919</td>\n",
       "      <td>1466</td>\n",
       "      <td>1209</td>\n",
       "      <td>2388</td>\n",
       "      <td>1442</td>\n",
       "      <td>4397</td>\n",
       "      <td>3165</td>\n",
       "      <td>3835</td>\n",
       "      <td>1611</td>\n",
       "      <td>5009</td>\n",
       "      <td>186</td>\n",
       "    </tr>\n",
       "    <tr>\n",
       "      <th>2018-07-01 06:00:00</th>\n",
       "      <td>1314</td>\n",
       "      <td>11946</td>\n",
       "      <td>4391</td>\n",
       "      <td>6762</td>\n",
       "      <td>3139</td>\n",
       "      <td>11872</td>\n",
       "      <td>1605</td>\n",
       "      <td>2857</td>\n",
       "      <td>9787</td>\n",
       "      <td>1950</td>\n",
       "      <td>1455</td>\n",
       "      <td>1197</td>\n",
       "      <td>2416</td>\n",
       "      <td>1465</td>\n",
       "      <td>4423</td>\n",
       "      <td>3156</td>\n",
       "      <td>3901</td>\n",
       "      <td>1641</td>\n",
       "      <td>4990</td>\n",
       "      <td>187</td>\n",
       "    </tr>\n",
       "    <tr>\n",
       "      <th>2018-07-01 07:00:00</th>\n",
       "      <td>1410</td>\n",
       "      <td>12664</td>\n",
       "      <td>4757</td>\n",
       "      <td>6670</td>\n",
       "      <td>3377</td>\n",
       "      <td>11992</td>\n",
       "      <td>1707</td>\n",
       "      <td>2997</td>\n",
       "      <td>10453</td>\n",
       "      <td>2160</td>\n",
       "      <td>1528</td>\n",
       "      <td>1273</td>\n",
       "      <td>2644</td>\n",
       "      <td>1605</td>\n",
       "      <td>4743</td>\n",
       "      <td>3332</td>\n",
       "      <td>4232</td>\n",
       "      <td>1728</td>\n",
       "      <td>5267</td>\n",
       "      <td>202</td>\n",
       "    </tr>\n",
       "    <tr>\n",
       "      <th>2018-07-01 08:00:00</th>\n",
       "      <td>1567</td>\n",
       "      <td>14069</td>\n",
       "      <td>5308</td>\n",
       "      <td>7065</td>\n",
       "      <td>3788</td>\n",
       "      <td>12860</td>\n",
       "      <td>1916</td>\n",
       "      <td>3331</td>\n",
       "      <td>11734</td>\n",
       "      <td>2470</td>\n",
       "      <td>1688</td>\n",
       "      <td>1472</td>\n",
       "      <td>3064</td>\n",
       "      <td>1784</td>\n",
       "      <td>5230</td>\n",
       "      <td>3679</td>\n",
       "      <td>4613</td>\n",
       "      <td>1899</td>\n",
       "      <td>5735</td>\n",
       "      <td>230</td>\n",
       "    </tr>\n",
       "    <tr>\n",
       "      <th>2018-07-01 09:00:00</th>\n",
       "      <td>1749</td>\n",
       "      <td>15610</td>\n",
       "      <td>5862</td>\n",
       "      <td>7833</td>\n",
       "      <td>4262</td>\n",
       "      <td>14212</td>\n",
       "      <td>2145</td>\n",
       "      <td>3703</td>\n",
       "      <td>13084</td>\n",
       "      <td>2765</td>\n",
       "      <td>1875</td>\n",
       "      <td>1656</td>\n",
       "      <td>3569</td>\n",
       "      <td>1972</td>\n",
       "      <td>5752</td>\n",
       "      <td>4085</td>\n",
       "      <td>5014</td>\n",
       "      <td>2055</td>\n",
       "      <td>6299</td>\n",
       "      <td>259</td>\n",
       "    </tr>\n",
       "  </tbody>\n",
       "</table>\n",
       "</div>"
      ],
      "text/plain": [
       "                       AE    AEP    AP  ATSI    BC     CE   DAY  DEOK    DOM  \\\n",
       "period                                                                         \n",
       "2018-07-01 05:00:00  1301  12187  4384  6960  3134  12136  1619  2895   9775   \n",
       "2018-07-01 06:00:00  1314  11946  4391  6762  3139  11872  1605  2857   9787   \n",
       "2018-07-01 07:00:00  1410  12664  4757  6670  3377  11992  1707  2997  10453   \n",
       "2018-07-01 08:00:00  1567  14069  5308  7065  3788  12860  1916  3331  11734   \n",
       "2018-07-01 09:00:00  1749  15610  5862  7833  4262  14212  2145  3703  13084   \n",
       "\n",
       "                      DPL   DUQ  EKPC    JC    ME    PE   PEP    PL    PN  \\\n",
       "period                                                                      \n",
       "2018-07-01 05:00:00  1919  1466  1209  2388  1442  4397  3165  3835  1611   \n",
       "2018-07-01 06:00:00  1950  1455  1197  2416  1465  4423  3156  3901  1641   \n",
       "2018-07-01 07:00:00  2160  1528  1273  2644  1605  4743  3332  4232  1728   \n",
       "2018-07-01 08:00:00  2470  1688  1472  3064  1784  5230  3679  4613  1899   \n",
       "2018-07-01 09:00:00  2765  1875  1656  3569  1972  5752  4085  5014  2055   \n",
       "\n",
       "                       PS  RECO  \n",
       "period                           \n",
       "2018-07-01 05:00:00  5009   186  \n",
       "2018-07-01 06:00:00  4990   187  \n",
       "2018-07-01 07:00:00  5267   202  \n",
       "2018-07-01 08:00:00  5735   230  \n",
       "2018-07-01 09:00:00  6299   259  "
      ]
     },
     "execution_count": 2,
     "metadata": {},
     "output_type": "execute_result"
    }
   ],
   "source": [
    "df_base = pd.read_csv('../data/general/pjm_pivot.csv', index_col=0, parse_dates=True)\n",
    "df_base.head()"
   ]
  },
  {
   "attachments": {},
   "cell_type": "markdown",
   "id": "2869ebdc",
   "metadata": {
    "papermill": {
     "duration": 0.015774,
     "end_time": "2023-12-13T13:24:31.177137",
     "exception": false,
     "start_time": "2023-12-13T13:24:31.161363",
     "status": "completed"
    },
    "tags": []
   },
   "source": [
    "## Select region"
   ]
  },
  {
   "cell_type": "code",
   "execution_count": 3,
   "id": "66817dca",
   "metadata": {
    "execution": {
     "iopub.execute_input": "2023-12-13T13:24:31.194323Z",
     "iopub.status.busy": "2023-12-13T13:24:31.193322Z",
     "iopub.status.idle": "2023-12-13T13:24:31.207325Z",
     "shell.execute_reply": "2023-12-13T13:24:31.207325Z"
    },
    "papermill": {
     "duration": 0.026007,
     "end_time": "2023-12-13T13:24:31.210327",
     "exception": false,
     "start_time": "2023-12-13T13:24:31.184320",
     "status": "completed"
    },
    "tags": [
     "parameters"
    ]
   },
   "outputs": [],
   "source": [
    "region = 'AE'"
   ]
  },
  {
   "cell_type": "code",
   "execution_count": 4,
   "id": "5db59fdb",
   "metadata": {
    "execution": {
     "iopub.execute_input": "2023-12-13T13:24:31.225330Z",
     "iopub.status.busy": "2023-12-13T13:24:31.224329Z",
     "iopub.status.idle": "2023-12-13T13:24:31.244180Z",
     "shell.execute_reply": "2023-12-13T13:24:31.243336Z"
    },
    "papermill": {
     "duration": 0.029855,
     "end_time": "2023-12-13T13:24:31.246182",
     "exception": false,
     "start_time": "2023-12-13T13:24:31.216327",
     "status": "completed"
    },
    "tags": [
     "injected-parameters"
    ]
   },
   "outputs": [],
   "source": [
    "# Parameters\n",
    "region = \"JC\"\n"
   ]
  },
  {
   "cell_type": "code",
   "execution_count": 5,
   "id": "1f96a918",
   "metadata": {
    "execution": {
     "iopub.execute_input": "2023-12-13T13:24:31.261591Z",
     "iopub.status.busy": "2023-12-13T13:24:31.261591Z",
     "iopub.status.idle": "2023-12-13T13:24:31.277514Z",
     "shell.execute_reply": "2023-12-13T13:24:31.276594Z"
    },
    "papermill": {
     "duration": 0.030991,
     "end_time": "2023-12-13T13:24:31.278516",
     "exception": false,
     "start_time": "2023-12-13T13:24:31.247525",
     "status": "completed"
    },
    "tags": []
   },
   "outputs": [
    {
     "data": {
      "text/html": [
       "<div>\n",
       "<style scoped>\n",
       "    .dataframe tbody tr th:only-of-type {\n",
       "        vertical-align: middle;\n",
       "    }\n",
       "\n",
       "    .dataframe tbody tr th {\n",
       "        vertical-align: top;\n",
       "    }\n",
       "\n",
       "    .dataframe thead th {\n",
       "        text-align: right;\n",
       "    }\n",
       "</style>\n",
       "<table border=\"1\" class=\"dataframe\">\n",
       "  <thead>\n",
       "    <tr style=\"text-align: right;\">\n",
       "      <th></th>\n",
       "      <th>JC</th>\n",
       "    </tr>\n",
       "    <tr>\n",
       "      <th>period</th>\n",
       "      <th></th>\n",
       "    </tr>\n",
       "  </thead>\n",
       "  <tbody>\n",
       "    <tr>\n",
       "      <th>2018-07-01 05:00:00</th>\n",
       "      <td>2388</td>\n",
       "    </tr>\n",
       "    <tr>\n",
       "      <th>2018-07-01 06:00:00</th>\n",
       "      <td>2416</td>\n",
       "    </tr>\n",
       "    <tr>\n",
       "      <th>2018-07-01 07:00:00</th>\n",
       "      <td>2644</td>\n",
       "    </tr>\n",
       "    <tr>\n",
       "      <th>2018-07-01 08:00:00</th>\n",
       "      <td>3064</td>\n",
       "    </tr>\n",
       "    <tr>\n",
       "      <th>2018-07-01 09:00:00</th>\n",
       "      <td>3569</td>\n",
       "    </tr>\n",
       "    <tr>\n",
       "      <th>...</th>\n",
       "      <td>...</td>\n",
       "    </tr>\n",
       "    <tr>\n",
       "      <th>2023-11-01 00:00:00</th>\n",
       "      <td>2529</td>\n",
       "    </tr>\n",
       "    <tr>\n",
       "      <th>2023-11-01 01:00:00</th>\n",
       "      <td>2475</td>\n",
       "    </tr>\n",
       "    <tr>\n",
       "      <th>2023-11-01 02:00:00</th>\n",
       "      <td>2352</td>\n",
       "    </tr>\n",
       "    <tr>\n",
       "      <th>2023-11-01 03:00:00</th>\n",
       "      <td>2185</td>\n",
       "    </tr>\n",
       "    <tr>\n",
       "      <th>2023-11-01 04:00:00</th>\n",
       "      <td>2039</td>\n",
       "    </tr>\n",
       "  </tbody>\n",
       "</table>\n",
       "<p>44904 rows × 1 columns</p>\n",
       "</div>"
      ],
      "text/plain": [
       "                       JC\n",
       "period                   \n",
       "2018-07-01 05:00:00  2388\n",
       "2018-07-01 06:00:00  2416\n",
       "2018-07-01 07:00:00  2644\n",
       "2018-07-01 08:00:00  3064\n",
       "2018-07-01 09:00:00  3569\n",
       "...                   ...\n",
       "2023-11-01 00:00:00  2529\n",
       "2023-11-01 01:00:00  2475\n",
       "2023-11-01 02:00:00  2352\n",
       "2023-11-01 03:00:00  2185\n",
       "2023-11-01 04:00:00  2039\n",
       "\n",
       "[44904 rows x 1 columns]"
      ]
     },
     "execution_count": 5,
     "metadata": {},
     "output_type": "execute_result"
    }
   ],
   "source": [
    "df = df_base.loc[:, [region]]\n",
    "df"
   ]
  },
  {
   "attachments": {},
   "cell_type": "markdown",
   "id": "31b6e943",
   "metadata": {
    "papermill": {
     "duration": 0.017518,
     "end_time": "2023-12-13T13:24:31.296034",
     "exception": false,
     "start_time": "2023-12-13T13:24:31.278516",
     "status": "completed"
    },
    "tags": []
   },
   "source": [
    "## Data Preprocessing"
   ]
  },
  {
   "cell_type": "markdown",
   "id": "688a98a9",
   "metadata": {
    "papermill": {
     "duration": 0.009812,
     "end_time": "2023-12-13T13:24:31.313849",
     "exception": false,
     "start_time": "2023-12-13T13:24:31.304037",
     "status": "completed"
    },
    "tags": []
   },
   "source": [
    "### Train Test Split"
   ]
  },
  {
   "cell_type": "code",
   "execution_count": 6,
   "id": "5a37dcf2",
   "metadata": {
    "execution": {
     "iopub.execute_input": "2023-12-13T13:24:31.332854Z",
     "iopub.status.busy": "2023-12-13T13:24:31.332854Z",
     "iopub.status.idle": "2023-12-13T13:24:31.812286Z",
     "shell.execute_reply": "2023-12-13T13:24:31.811284Z"
    },
    "papermill": {
     "duration": 0.489295,
     "end_time": "2023-12-13T13:24:31.813146",
     "exception": false,
     "start_time": "2023-12-13T13:24:31.323851",
     "status": "completed"
    },
    "tags": []
   },
   "outputs": [],
   "source": [
    "from sklearn.model_selection import train_test_split\n",
    "\n",
    "train, test = train_test_split(df, test_size=0.3, shuffle=False)\n",
    "test, prod = train_test_split(test, test_size=0.5, shuffle=False)"
   ]
  },
  {
   "cell_type": "markdown",
   "id": "e18e886f",
   "metadata": {
    "papermill": {
     "duration": 0.0,
     "end_time": "2023-12-13T13:24:31.813146",
     "exception": false,
     "start_time": "2023-12-13T13:24:31.813146",
     "status": "completed"
    },
    "tags": []
   },
   "source": [
    "### Export Data"
   ]
  },
  {
   "cell_type": "code",
   "execution_count": 7,
   "id": "f674dc3a",
   "metadata": {
    "execution": {
     "iopub.execute_input": "2023-12-13T13:24:31.847976Z",
     "iopub.status.busy": "2023-12-13T13:24:31.847976Z",
     "iopub.status.idle": "2023-12-13T13:24:31.959565Z",
     "shell.execute_reply": "2023-12-13T13:24:31.959565Z"
    },
    "papermill": {
     "duration": 0.125596,
     "end_time": "2023-12-13T13:24:31.962568",
     "exception": false,
     "start_time": "2023-12-13T13:24:31.836972",
     "status": "completed"
    },
    "tags": []
   },
   "outputs": [],
   "source": [
    "import os\n",
    "\n",
    "path_region = f'../data/regions/{region}'\n",
    "\n",
    "if not os.path.exists(path_region):\n",
    "    os.makedirs(path_region)\n",
    "\n",
    "for df, name in zip([train, test, prod], ['train', 'test', 'prod']):\n",
    "    df.to_csv(f'{path_region}/{name}.csv')"
   ]
  },
  {
   "attachments": {},
   "cell_type": "markdown",
   "id": "9d890339",
   "metadata": {
    "papermill": {
     "duration": 0.008003,
     "end_time": "2023-12-13T13:24:31.978571",
     "exception": false,
     "start_time": "2023-12-13T13:24:31.970568",
     "status": "completed"
    },
    "tags": []
   },
   "source": [
    "### Scale Data"
   ]
  },
  {
   "cell_type": "code",
   "execution_count": 8,
   "id": "b27ad0b4",
   "metadata": {
    "execution": {
     "iopub.execute_input": "2023-12-13T13:24:31.992573Z",
     "iopub.status.busy": "2023-12-13T13:24:31.992573Z",
     "iopub.status.idle": "2023-12-13T13:24:32.005847Z",
     "shell.execute_reply": "2023-12-13T13:24:32.005847Z"
    },
    "papermill": {
     "duration": 0.022275,
     "end_time": "2023-12-13T13:24:32.007847",
     "exception": false,
     "start_time": "2023-12-13T13:24:31.985572",
     "status": "completed"
    },
    "tags": []
   },
   "outputs": [],
   "source": [
    "from sklearn.preprocessing import MinMaxScaler\n",
    "\n",
    "scaler = MinMaxScaler(feature_range=(0, 1))\n",
    "\n",
    "train_norm = scaler.fit_transform(train)\n",
    "test_norm = scaler.transform(test)"
   ]
  },
  {
   "attachments": {},
   "cell_type": "markdown",
   "id": "e19e93ae",
   "metadata": {
    "papermill": {
     "duration": 0.010975,
     "end_time": "2023-12-13T13:24:32.026313",
     "exception": false,
     "start_time": "2023-12-13T13:24:32.015338",
     "status": "completed"
    },
    "tags": []
   },
   "source": [
    "### Create Sequences"
   ]
  },
  {
   "cell_type": "code",
   "execution_count": 9,
   "id": "d3376c21",
   "metadata": {
    "execution": {
     "iopub.execute_input": "2023-12-13T13:24:32.050151Z",
     "iopub.status.busy": "2023-12-13T13:24:32.050151Z",
     "iopub.status.idle": "2023-12-13T13:24:32.129203Z",
     "shell.execute_reply": "2023-12-13T13:24:32.128200Z"
    },
    "papermill": {
     "duration": 0.08976,
     "end_time": "2023-12-13T13:24:32.130203",
     "exception": false,
     "start_time": "2023-12-13T13:24:32.040443",
     "status": "completed"
    },
    "tags": []
   },
   "outputs": [],
   "source": [
    "import numpy as np\n",
    "\n",
    "def create_sequences(data, sequence_length):\n",
    "    X, y = [], []\n",
    "    for i in range(len(data) - sequence_length):\n",
    "        X.append(data[i:i+sequence_length])\n",
    "        y.append(data[i+sequence_length])\n",
    "    return np.array(X), np.array(y)\n",
    "\n",
    "sequence_length = 24 # Use 24 hours prior to predict the following hour\n",
    "X_train, y_train = create_sequences(train_norm, sequence_length)\n",
    "X_test, y_test = create_sequences(test_norm, sequence_length)"
   ]
  },
  {
   "attachments": {},
   "cell_type": "markdown",
   "id": "d6f71b84",
   "metadata": {
    "papermill": {
     "duration": 0.009001,
     "end_time": "2023-12-13T13:24:32.147207",
     "exception": false,
     "start_time": "2023-12-13T13:24:32.138206",
     "status": "completed"
    },
    "tags": []
   },
   "source": [
    "## Modelling"
   ]
  },
  {
   "attachments": {},
   "cell_type": "markdown",
   "id": "349d8daa",
   "metadata": {
    "papermill": {
     "duration": 0.010136,
     "end_time": "2023-12-13T13:24:32.165345",
     "exception": false,
     "start_time": "2023-12-13T13:24:32.155209",
     "status": "completed"
    },
    "tags": []
   },
   "source": [
    "### Design NN Architecture"
   ]
  },
  {
   "cell_type": "code",
   "execution_count": 10,
   "id": "7f277b79",
   "metadata": {
    "execution": {
     "iopub.execute_input": "2023-12-13T13:24:32.181318Z",
     "iopub.status.busy": "2023-12-13T13:24:32.181318Z",
     "iopub.status.idle": "2023-12-13T13:24:33.657624Z",
     "shell.execute_reply": "2023-12-13T13:24:33.657624Z"
    },
    "papermill": {
     "duration": 1.487199,
     "end_time": "2023-12-13T13:24:33.659629",
     "exception": false,
     "start_time": "2023-12-13T13:24:32.172430",
     "status": "completed"
    },
    "tags": []
   },
   "outputs": [
    {
     "name": "stderr",
     "output_type": "stream",
     "text": [
      "c:\\Users\\jesus\\miniconda3\\envs\\tf-base\\lib\\site-packages\\tensorflow\\python\\framework\\dtypes.py:516: FutureWarning: Passing (type, 1) or '1type' as a synonym of type is deprecated; in a future version of numpy, it will be understood as (type, (1,)) / '(1,)type'.\n",
      "  _np_qint8 = np.dtype([(\"qint8\", np.int8, 1)])\n",
      "c:\\Users\\jesus\\miniconda3\\envs\\tf-base\\lib\\site-packages\\tensorflow\\python\\framework\\dtypes.py:517: FutureWarning: Passing (type, 1) or '1type' as a synonym of type is deprecated; in a future version of numpy, it will be understood as (type, (1,)) / '(1,)type'.\n",
      "  _np_quint8 = np.dtype([(\"quint8\", np.uint8, 1)])\n",
      "c:\\Users\\jesus\\miniconda3\\envs\\tf-base\\lib\\site-packages\\tensorflow\\python\\framework\\dtypes.py:518: FutureWarning: Passing (type, 1) or '1type' as a synonym of type is deprecated; in a future version of numpy, it will be understood as (type, (1,)) / '(1,)type'.\n",
      "  _np_qint16 = np.dtype([(\"qint16\", np.int16, 1)])\n",
      "c:\\Users\\jesus\\miniconda3\\envs\\tf-base\\lib\\site-packages\\tensorflow\\python\\framework\\dtypes.py:519: FutureWarning: Passing (type, 1) or '1type' as a synonym of type is deprecated; in a future version of numpy, it will be understood as (type, (1,)) / '(1,)type'.\n",
      "  _np_quint16 = np.dtype([(\"quint16\", np.uint16, 1)])\n",
      "c:\\Users\\jesus\\miniconda3\\envs\\tf-base\\lib\\site-packages\\tensorflow\\python\\framework\\dtypes.py:520: FutureWarning: Passing (type, 1) or '1type' as a synonym of type is deprecated; in a future version of numpy, it will be understood as (type, (1,)) / '(1,)type'.\n",
      "  _np_qint32 = np.dtype([(\"qint32\", np.int32, 1)])\n",
      "c:\\Users\\jesus\\miniconda3\\envs\\tf-base\\lib\\site-packages\\tensorflow\\python\\framework\\dtypes.py:525: FutureWarning: Passing (type, 1) or '1type' as a synonym of type is deprecated; in a future version of numpy, it will be understood as (type, (1,)) / '(1,)type'.\n",
      "  np_resource = np.dtype([(\"resource\", np.ubyte, 1)])\n"
     ]
    },
    {
     "name": "stdout",
     "output_type": "stream",
     "text": [
      "WARNING:tensorflow:From c:\\Users\\jesus\\miniconda3\\envs\\tf-base\\lib\\site-packages\\tensorflow\\python\\ops\\init_ops.py:1251: calling VarianceScaling.__init__ (from tensorflow.python.ops.init_ops) with dtype is deprecated and will be removed in a future version.\n",
      "Instructions for updating:\n",
      "Call initializer instance with the dtype argument instead of passing it to the constructor\n"
     ]
    },
    {
     "name": "stderr",
     "output_type": "stream",
     "text": [
      "c:\\Users\\jesus\\miniconda3\\envs\\tf-base\\lib\\site-packages\\tensorboard\\compat\\tensorflow_stub\\dtypes.py:541: FutureWarning: Passing (type, 1) or '1type' as a synonym of type is deprecated; in a future version of numpy, it will be understood as (type, (1,)) / '(1,)type'.\n",
      "  _np_qint8 = np.dtype([(\"qint8\", np.int8, 1)])\n",
      "c:\\Users\\jesus\\miniconda3\\envs\\tf-base\\lib\\site-packages\\tensorboard\\compat\\tensorflow_stub\\dtypes.py:542: FutureWarning: Passing (type, 1) or '1type' as a synonym of type is deprecated; in a future version of numpy, it will be understood as (type, (1,)) / '(1,)type'.\n",
      "  _np_quint8 = np.dtype([(\"quint8\", np.uint8, 1)])\n",
      "c:\\Users\\jesus\\miniconda3\\envs\\tf-base\\lib\\site-packages\\tensorboard\\compat\\tensorflow_stub\\dtypes.py:543: FutureWarning: Passing (type, 1) or '1type' as a synonym of type is deprecated; in a future version of numpy, it will be understood as (type, (1,)) / '(1,)type'.\n",
      "  _np_qint16 = np.dtype([(\"qint16\", np.int16, 1)])\n",
      "c:\\Users\\jesus\\miniconda3\\envs\\tf-base\\lib\\site-packages\\tensorboard\\compat\\tensorflow_stub\\dtypes.py:544: FutureWarning: Passing (type, 1) or '1type' as a synonym of type is deprecated; in a future version of numpy, it will be understood as (type, (1,)) / '(1,)type'.\n",
      "  _np_quint16 = np.dtype([(\"quint16\", np.uint16, 1)])\n",
      "c:\\Users\\jesus\\miniconda3\\envs\\tf-base\\lib\\site-packages\\tensorboard\\compat\\tensorflow_stub\\dtypes.py:545: FutureWarning: Passing (type, 1) or '1type' as a synonym of type is deprecated; in a future version of numpy, it will be understood as (type, (1,)) / '(1,)type'.\n",
      "  _np_qint32 = np.dtype([(\"qint32\", np.int32, 1)])\n",
      "c:\\Users\\jesus\\miniconda3\\envs\\tf-base\\lib\\site-packages\\tensorboard\\compat\\tensorflow_stub\\dtypes.py:550: FutureWarning: Passing (type, 1) or '1type' as a synonym of type is deprecated; in a future version of numpy, it will be understood as (type, (1,)) / '(1,)type'.\n",
      "  np_resource = np.dtype([(\"resource\", np.ubyte, 1)])\n"
     ]
    }
   ],
   "source": [
    "from tensorflow.keras.models import Sequential\n",
    "from tensorflow.keras.layers import LSTM, Dense\n",
    "\n",
    "model = Sequential()\n",
    "model.add(LSTM(50, input_shape=(X_train.shape[1], X_train.shape[2])))\n",
    "model.add(Dense(1))\n",
    "model.compile(optimizer='adam', loss='mean_squared_error')"
   ]
  },
  {
   "attachments": {},
   "cell_type": "markdown",
   "id": "8461dceb",
   "metadata": {
    "papermill": {
     "duration": 0.008002,
     "end_time": "2023-12-13T13:24:33.675632",
     "exception": false,
     "start_time": "2023-12-13T13:24:33.667630",
     "status": "completed"
    },
    "tags": []
   },
   "source": [
    "### Train Model"
   ]
  },
  {
   "cell_type": "code",
   "execution_count": 11,
   "id": "81c7f9d5",
   "metadata": {
    "execution": {
     "iopub.execute_input": "2023-12-13T13:24:33.695637Z",
     "iopub.status.busy": "2023-12-13T13:24:33.694636Z",
     "iopub.status.idle": "2023-12-13T13:28:43.652046Z",
     "shell.execute_reply": "2023-12-13T13:28:43.652046Z"
    },
    "papermill": {
     "duration": 249.969414,
     "end_time": "2023-12-13T13:28:43.654048",
     "exception": false,
     "start_time": "2023-12-13T13:24:33.684634",
     "status": "completed"
    },
    "tags": []
   },
   "outputs": [
    {
     "name": "stdout",
     "output_type": "stream",
     "text": [
      "WARNING:tensorflow:From c:\\Users\\jesus\\miniconda3\\envs\\tf-base\\lib\\site-packages\\tensorflow\\python\\ops\\math_grad.py:1250: add_dispatch_support.<locals>.wrapper (from tensorflow.python.ops.array_ops) is deprecated and will be removed in a future version.\n",
      "Instructions for updating:\n",
      "Use tf.where in 2.0, which has the same broadcast rule as np.where\n"
     ]
    }
   ],
   "source": [
    "from tensorflow.keras.callbacks import EarlyStopping\n",
    "\n",
    "early_stop = EarlyStopping(monitor='val_loss', patience=5)\n",
    "\n",
    "history = model.fit(\n",
    "    X_train, y_train, epochs=50, batch_size=64, verbose=0,\n",
    "    validation_data=(X_test, y_test), callbacks=[early_stop])"
   ]
  },
  {
   "attachments": {},
   "cell_type": "markdown",
   "id": "ef63118d",
   "metadata": {
    "papermill": {
     "duration": 0.007002,
     "end_time": "2023-12-13T13:28:43.669051",
     "exception": false,
     "start_time": "2023-12-13T13:28:43.662049",
     "status": "completed"
    },
    "tags": []
   },
   "source": [
    "### Calculate Predictions"
   ]
  },
  {
   "cell_type": "code",
   "execution_count": 12,
   "id": "4ffeb699",
   "metadata": {
    "execution": {
     "iopub.execute_input": "2023-12-13T13:28:43.685054Z",
     "iopub.status.busy": "2023-12-13T13:28:43.685054Z",
     "iopub.status.idle": "2023-12-13T13:28:44.222768Z",
     "shell.execute_reply": "2023-12-13T13:28:44.222768Z"
    },
    "papermill": {
     "duration": 0.548715,
     "end_time": "2023-12-13T13:28:44.224767",
     "exception": false,
     "start_time": "2023-12-13T13:28:43.676052",
     "status": "completed"
    },
    "tags": []
   },
   "outputs": [
    {
     "data": {
      "text/plain": [
       "array([[0.05395367],\n",
       "       [0.08380499],\n",
       "       [0.11963793],\n",
       "       ...,\n",
       "       [0.15562926],\n",
       "       [0.21002783],\n",
       "       [0.25711587]], dtype=float32)"
      ]
     },
     "execution_count": 12,
     "metadata": {},
     "output_type": "execute_result"
    }
   ],
   "source": [
    "y_pred = model.predict(X_test)\n",
    "y_pred"
   ]
  },
  {
   "attachments": {},
   "cell_type": "markdown",
   "id": "8a55fc16",
   "metadata": {
    "papermill": {
     "duration": 0.008001,
     "end_time": "2023-12-13T13:28:44.239771",
     "exception": false,
     "start_time": "2023-12-13T13:28:44.231770",
     "status": "completed"
    },
    "tags": []
   },
   "source": [
    "### Comparison: Real Data & Prediction"
   ]
  },
  {
   "attachments": {},
   "cell_type": "markdown",
   "id": "c3766794",
   "metadata": {
    "papermill": {
     "duration": 0.010003,
     "end_time": "2023-12-13T13:28:44.256775",
     "exception": false,
     "start_time": "2023-12-13T13:28:44.246772",
     "status": "completed"
    },
    "tags": []
   },
   "source": [
    "#### Descale Data"
   ]
  },
  {
   "cell_type": "code",
   "execution_count": 13,
   "id": "db64310e",
   "metadata": {
    "execution": {
     "iopub.execute_input": "2023-12-13T13:28:44.275779Z",
     "iopub.status.busy": "2023-12-13T13:28:44.275779Z",
     "iopub.status.idle": "2023-12-13T13:28:44.287782Z",
     "shell.execute_reply": "2023-12-13T13:28:44.286782Z"
    },
    "papermill": {
     "duration": 0.024005,
     "end_time": "2023-12-13T13:28:44.289783",
     "exception": false,
     "start_time": "2023-12-13T13:28:44.265778",
     "status": "completed"
    },
    "tags": []
   },
   "outputs": [],
   "source": [
    "y_pred_scaled_inverse = scaler.inverse_transform(y_pred)\n",
    "y_true = scaler.inverse_transform(y_test)"
   ]
  },
  {
   "attachments": {},
   "cell_type": "markdown",
   "id": "2b715f8a",
   "metadata": {
    "papermill": {
     "duration": 0.010002,
     "end_time": "2023-12-13T13:28:44.306787",
     "exception": false,
     "start_time": "2023-12-13T13:28:44.296785",
     "status": "completed"
    },
    "tags": []
   },
   "source": [
    "#### Create DataFrame"
   ]
  },
  {
   "cell_type": "code",
   "execution_count": 14,
   "id": "54bcfea3",
   "metadata": {
    "execution": {
     "iopub.execute_input": "2023-12-13T13:28:44.323926Z",
     "iopub.status.busy": "2023-12-13T13:28:44.323926Z",
     "iopub.status.idle": "2023-12-13T13:28:44.348936Z",
     "shell.execute_reply": "2023-12-13T13:28:44.348936Z"
    },
    "papermill": {
     "duration": 0.036012,
     "end_time": "2023-12-13T13:28:44.350937",
     "exception": false,
     "start_time": "2023-12-13T13:28:44.314925",
     "status": "completed"
    },
    "tags": []
   },
   "outputs": [
    {
     "data": {
      "text/html": [
       "<div>\n",
       "<style scoped>\n",
       "    .dataframe tbody tr th:only-of-type {\n",
       "        vertical-align: middle;\n",
       "    }\n",
       "\n",
       "    .dataframe tbody tr th {\n",
       "        vertical-align: top;\n",
       "    }\n",
       "\n",
       "    .dataframe thead th {\n",
       "        text-align: right;\n",
       "    }\n",
       "</style>\n",
       "<table border=\"1\" class=\"dataframe\">\n",
       "  <thead>\n",
       "    <tr style=\"text-align: right;\">\n",
       "      <th></th>\n",
       "      <th>y_pred</th>\n",
       "      <th>y_pred_scaled_inverse</th>\n",
       "      <th>y_true</th>\n",
       "    </tr>\n",
       "  </thead>\n",
       "  <tbody>\n",
       "    <tr>\n",
       "      <th>0</th>\n",
       "      <td>0.053954</td>\n",
       "      <td>1664.553467</td>\n",
       "      <td>1685.0</td>\n",
       "    </tr>\n",
       "    <tr>\n",
       "      <th>1</th>\n",
       "      <td>0.083805</td>\n",
       "      <td>1805.391968</td>\n",
       "      <td>1871.0</td>\n",
       "    </tr>\n",
       "    <tr>\n",
       "      <th>2</th>\n",
       "      <td>0.119638</td>\n",
       "      <td>1974.451782</td>\n",
       "      <td>2056.0</td>\n",
       "    </tr>\n",
       "    <tr>\n",
       "      <th>3</th>\n",
       "      <td>0.152119</td>\n",
       "      <td>2127.696045</td>\n",
       "      <td>2193.0</td>\n",
       "    </tr>\n",
       "    <tr>\n",
       "      <th>4</th>\n",
       "      <td>0.171159</td>\n",
       "      <td>2217.529541</td>\n",
       "      <td>2148.0</td>\n",
       "    </tr>\n",
       "    <tr>\n",
       "      <th>...</th>\n",
       "      <td>...</td>\n",
       "      <td>...</td>\n",
       "      <td>...</td>\n",
       "    </tr>\n",
       "    <tr>\n",
       "      <th>6707</th>\n",
       "      <td>0.124798</td>\n",
       "      <td>1998.797974</td>\n",
       "      <td>2064.0</td>\n",
       "    </tr>\n",
       "    <tr>\n",
       "      <th>6708</th>\n",
       "      <td>0.150165</td>\n",
       "      <td>2118.479248</td>\n",
       "      <td>2078.0</td>\n",
       "    </tr>\n",
       "    <tr>\n",
       "      <th>6709</th>\n",
       "      <td>0.155629</td>\n",
       "      <td>2144.258789</td>\n",
       "      <td>2239.0</td>\n",
       "    </tr>\n",
       "    <tr>\n",
       "      <th>6710</th>\n",
       "      <td>0.210028</td>\n",
       "      <td>2400.911377</td>\n",
       "      <td>2464.0</td>\n",
       "    </tr>\n",
       "    <tr>\n",
       "      <th>6711</th>\n",
       "      <td>0.257116</td>\n",
       "      <td>2623.072754</td>\n",
       "      <td>2621.0</td>\n",
       "    </tr>\n",
       "  </tbody>\n",
       "</table>\n",
       "<p>6712 rows × 3 columns</p>\n",
       "</div>"
      ],
      "text/plain": [
       "        y_pred  y_pred_scaled_inverse  y_true\n",
       "0     0.053954            1664.553467  1685.0\n",
       "1     0.083805            1805.391968  1871.0\n",
       "2     0.119638            1974.451782  2056.0\n",
       "3     0.152119            2127.696045  2193.0\n",
       "4     0.171159            2217.529541  2148.0\n",
       "...        ...                    ...     ...\n",
       "6707  0.124798            1998.797974  2064.0\n",
       "6708  0.150165            2118.479248  2078.0\n",
       "6709  0.155629            2144.258789  2239.0\n",
       "6710  0.210028            2400.911377  2464.0\n",
       "6711  0.257116            2623.072754  2621.0\n",
       "\n",
       "[6712 rows x 3 columns]"
      ]
     },
     "execution_count": 14,
     "metadata": {},
     "output_type": "execute_result"
    }
   ],
   "source": [
    "dic_pred = {\n",
    "    'y_pred': y_pred.flatten(),\n",
    "    'y_pred_scaled_inverse': y_pred_scaled_inverse.flatten(),\n",
    "    'y_true': y_true.flatten(),\n",
    "}\n",
    "\n",
    "df_pred = pd.DataFrame(dic_pred)\n",
    "df_pred"
   ]
  },
  {
   "attachments": {},
   "cell_type": "markdown",
   "id": "7c6a4917",
   "metadata": {
    "papermill": {
     "duration": 0.008002,
     "end_time": "2023-12-13T13:28:44.366941",
     "exception": false,
     "start_time": "2023-12-13T13:28:44.358939",
     "status": "completed"
    },
    "tags": []
   },
   "source": [
    "#### Evaluate Model"
   ]
  },
  {
   "cell_type": "code",
   "execution_count": 15,
   "id": "9a3287f5",
   "metadata": {
    "execution": {
     "iopub.execute_input": "2023-12-13T13:28:44.384944Z",
     "iopub.status.busy": "2023-12-13T13:28:44.384944Z",
     "iopub.status.idle": "2023-12-13T13:28:44.396094Z",
     "shell.execute_reply": "2023-12-13T13:28:44.396094Z"
    },
    "papermill": {
     "duration": 0.022154,
     "end_time": "2023-12-13T13:28:44.398096",
     "exception": false,
     "start_time": "2023-12-13T13:28:44.375942",
     "status": "completed"
    },
    "tags": []
   },
   "outputs": [],
   "source": [
    "from sklearn.metrics import mean_squared_error"
   ]
  },
  {
   "cell_type": "code",
   "execution_count": 16,
   "id": "a8dbd3ec",
   "metadata": {
    "execution": {
     "iopub.execute_input": "2023-12-13T13:28:44.416100Z",
     "iopub.status.busy": "2023-12-13T13:28:44.415100Z",
     "iopub.status.idle": "2023-12-13T13:28:44.427501Z",
     "shell.execute_reply": "2023-12-13T13:28:44.427501Z"
    },
    "papermill": {
     "duration": 0.024405,
     "end_time": "2023-12-13T13:28:44.429502",
     "exception": false,
     "start_time": "2023-12-13T13:28:44.405097",
     "status": "completed"
    },
    "tags": []
   },
   "outputs": [
    {
     "data": {
      "text/plain": [
       "56.95570682074171"
      ]
     },
     "execution_count": 16,
     "metadata": {},
     "output_type": "execute_result"
    }
   ],
   "source": [
    "mean_squared_error(df_pred.y_true, df_pred.y_pred_scaled_inverse, squared=False)"
   ]
  },
  {
   "cell_type": "code",
   "execution_count": 17,
   "id": "e7609524",
   "metadata": {
    "execution": {
     "iopub.execute_input": "2023-12-13T13:28:44.447506Z",
     "iopub.status.busy": "2023-12-13T13:28:44.447506Z",
     "iopub.status.idle": "2023-12-13T13:28:44.538295Z",
     "shell.execute_reply": "2023-12-13T13:28:44.538295Z"
    },
    "papermill": {
     "duration": 0.102793,
     "end_time": "2023-12-13T13:28:44.540296",
     "exception": false,
     "start_time": "2023-12-13T13:28:44.437503",
     "status": "completed"
    },
    "tags": []
   },
   "outputs": [],
   "source": [
    "model.save(f'../models/{region}.keras')"
   ]
  }
 ],
 "metadata": {
  "kernelspec": {
   "display_name": "deep-learning",
   "language": "python",
   "name": "python3"
  },
  "language_info": {
   "codemirror_mode": {
    "name": "ipython",
    "version": 3
   },
   "file_extension": ".py",
   "mimetype": "text/x-python",
   "name": "python",
   "nbconvert_exporter": "python",
   "pygments_lexer": "ipython3",
   "version": "3.7.12"
  },
  "papermill": {
   "default_parameters": {},
   "duration": 255.661677,
   "end_time": "2023-12-13T13:28:45.016382",
   "environment_variables": {},
   "exception": null,
   "input_path": "Modelling.ipynb",
   "output_path": "outputs/JC.ipynb",
   "parameters": {
    "region": "JC"
   },
   "start_time": "2023-12-13T13:24:29.354705",
   "version": "2.4.0"
  }
 },
 "nbformat": 4,
 "nbformat_minor": 5
}