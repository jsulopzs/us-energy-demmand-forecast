{
 "cells": [
  {
   "attachments": {},
   "cell_type": "markdown",
   "id": "0d912b25",
   "metadata": {
    "papermill": {
     "duration": 0.011196,
     "end_time": "2023-11-26T17:20:18.202485",
     "exception": false,
     "start_time": "2023-11-26T17:20:18.191289",
     "status": "completed"
    },
    "tags": []
   },
   "source": [
    "## Load data"
   ]
  },
  {
   "cell_type": "code",
   "execution_count": 1,
   "id": "3bb3d25d",
   "metadata": {
    "execution": {
     "iopub.execute_input": "2023-11-26T17:20:18.219948Z",
     "iopub.status.busy": "2023-11-26T17:20:18.219611Z",
     "iopub.status.idle": "2023-11-26T17:20:18.764061Z",
     "shell.execute_reply": "2023-11-26T17:20:18.763428Z"
    },
    "papermill": {
     "duration": 0.555488,
     "end_time": "2023-11-26T17:20:18.766155",
     "exception": false,
     "start_time": "2023-11-26T17:20:18.210667",
     "status": "completed"
    },
    "tags": []
   },
   "outputs": [],
   "source": [
    "import pandas as pd"
   ]
  },
  {
   "cell_type": "code",
   "execution_count": 2,
   "id": "0f33117d",
   "metadata": {
    "execution": {
     "iopub.execute_input": "2023-11-26T17:20:18.777012Z",
     "iopub.status.busy": "2023-11-26T17:20:18.776528Z",
     "iopub.status.idle": "2023-11-26T17:20:18.918119Z",
     "shell.execute_reply": "2023-11-26T17:20:18.917483Z"
    },
    "papermill": {
     "duration": 0.149439,
     "end_time": "2023-11-26T17:20:18.919923",
     "exception": false,
     "start_time": "2023-11-26T17:20:18.770484",
     "status": "completed"
    },
    "tags": []
   },
   "outputs": [
    {
     "data": {
      "text/html": [
       "<div>\n",
       "<style scoped>\n",
       "    .dataframe tbody tr th:only-of-type {\n",
       "        vertical-align: middle;\n",
       "    }\n",
       "\n",
       "    .dataframe tbody tr th {\n",
       "        vertical-align: top;\n",
       "    }\n",
       "\n",
       "    .dataframe thead th {\n",
       "        text-align: right;\n",
       "    }\n",
       "</style>\n",
       "<table border=\"1\" class=\"dataframe\">\n",
       "  <thead>\n",
       "    <tr style=\"text-align: right;\">\n",
       "      <th></th>\n",
       "      <th>AE</th>\n",
       "      <th>AEP</th>\n",
       "      <th>AP</th>\n",
       "      <th>ATSI</th>\n",
       "      <th>BC</th>\n",
       "      <th>CE</th>\n",
       "      <th>DAY</th>\n",
       "      <th>DEOK</th>\n",
       "      <th>DOM</th>\n",
       "      <th>DPL</th>\n",
       "      <th>DUQ</th>\n",
       "      <th>EKPC</th>\n",
       "      <th>JC</th>\n",
       "      <th>ME</th>\n",
       "      <th>PE</th>\n",
       "      <th>PEP</th>\n",
       "      <th>PL</th>\n",
       "      <th>PN</th>\n",
       "      <th>PS</th>\n",
       "      <th>RECO</th>\n",
       "    </tr>\n",
       "    <tr>\n",
       "      <th>period</th>\n",
       "      <th></th>\n",
       "      <th></th>\n",
       "      <th></th>\n",
       "      <th></th>\n",
       "      <th></th>\n",
       "      <th></th>\n",
       "      <th></th>\n",
       "      <th></th>\n",
       "      <th></th>\n",
       "      <th></th>\n",
       "      <th></th>\n",
       "      <th></th>\n",
       "      <th></th>\n",
       "      <th></th>\n",
       "      <th></th>\n",
       "      <th></th>\n",
       "      <th></th>\n",
       "      <th></th>\n",
       "      <th></th>\n",
       "      <th></th>\n",
       "    </tr>\n",
       "  </thead>\n",
       "  <tbody>\n",
       "    <tr>\n",
       "      <th>2018-07-01 05:00:00</th>\n",
       "      <td>1301</td>\n",
       "      <td>12187</td>\n",
       "      <td>4384</td>\n",
       "      <td>6960</td>\n",
       "      <td>3134</td>\n",
       "      <td>12136</td>\n",
       "      <td>1619</td>\n",
       "      <td>2895</td>\n",
       "      <td>9775</td>\n",
       "      <td>1919</td>\n",
       "      <td>1466</td>\n",
       "      <td>1209</td>\n",
       "      <td>2388</td>\n",
       "      <td>1442</td>\n",
       "      <td>4397</td>\n",
       "      <td>3165</td>\n",
       "      <td>3835</td>\n",
       "      <td>1611</td>\n",
       "      <td>5009</td>\n",
       "      <td>186</td>\n",
       "    </tr>\n",
       "    <tr>\n",
       "      <th>2018-07-01 06:00:00</th>\n",
       "      <td>1314</td>\n",
       "      <td>11946</td>\n",
       "      <td>4391</td>\n",
       "      <td>6762</td>\n",
       "      <td>3139</td>\n",
       "      <td>11872</td>\n",
       "      <td>1605</td>\n",
       "      <td>2857</td>\n",
       "      <td>9787</td>\n",
       "      <td>1950</td>\n",
       "      <td>1455</td>\n",
       "      <td>1197</td>\n",
       "      <td>2416</td>\n",
       "      <td>1465</td>\n",
       "      <td>4423</td>\n",
       "      <td>3156</td>\n",
       "      <td>3901</td>\n",
       "      <td>1641</td>\n",
       "      <td>4990</td>\n",
       "      <td>187</td>\n",
       "    </tr>\n",
       "    <tr>\n",
       "      <th>2018-07-01 07:00:00</th>\n",
       "      <td>1410</td>\n",
       "      <td>12664</td>\n",
       "      <td>4757</td>\n",
       "      <td>6670</td>\n",
       "      <td>3377</td>\n",
       "      <td>11992</td>\n",
       "      <td>1707</td>\n",
       "      <td>2997</td>\n",
       "      <td>10453</td>\n",
       "      <td>2160</td>\n",
       "      <td>1528</td>\n",
       "      <td>1273</td>\n",
       "      <td>2644</td>\n",
       "      <td>1605</td>\n",
       "      <td>4743</td>\n",
       "      <td>3332</td>\n",
       "      <td>4232</td>\n",
       "      <td>1728</td>\n",
       "      <td>5267</td>\n",
       "      <td>202</td>\n",
       "    </tr>\n",
       "    <tr>\n",
       "      <th>2018-07-01 08:00:00</th>\n",
       "      <td>1567</td>\n",
       "      <td>14069</td>\n",
       "      <td>5308</td>\n",
       "      <td>7065</td>\n",
       "      <td>3788</td>\n",
       "      <td>12860</td>\n",
       "      <td>1916</td>\n",
       "      <td>3331</td>\n",
       "      <td>11734</td>\n",
       "      <td>2470</td>\n",
       "      <td>1688</td>\n",
       "      <td>1472</td>\n",
       "      <td>3064</td>\n",
       "      <td>1784</td>\n",
       "      <td>5230</td>\n",
       "      <td>3679</td>\n",
       "      <td>4613</td>\n",
       "      <td>1899</td>\n",
       "      <td>5735</td>\n",
       "      <td>230</td>\n",
       "    </tr>\n",
       "    <tr>\n",
       "      <th>2018-07-01 09:00:00</th>\n",
       "      <td>1749</td>\n",
       "      <td>15610</td>\n",
       "      <td>5862</td>\n",
       "      <td>7833</td>\n",
       "      <td>4262</td>\n",
       "      <td>14212</td>\n",
       "      <td>2145</td>\n",
       "      <td>3703</td>\n",
       "      <td>13084</td>\n",
       "      <td>2765</td>\n",
       "      <td>1875</td>\n",
       "      <td>1656</td>\n",
       "      <td>3569</td>\n",
       "      <td>1972</td>\n",
       "      <td>5752</td>\n",
       "      <td>4085</td>\n",
       "      <td>5014</td>\n",
       "      <td>2055</td>\n",
       "      <td>6299</td>\n",
       "      <td>259</td>\n",
       "    </tr>\n",
       "  </tbody>\n",
       "</table>\n",
       "</div>"
      ],
      "text/plain": [
       "                       AE    AEP    AP  ATSI    BC     CE   DAY  DEOK    DOM  \\\n",
       "period                                                                         \n",
       "2018-07-01 05:00:00  1301  12187  4384  6960  3134  12136  1619  2895   9775   \n",
       "2018-07-01 06:00:00  1314  11946  4391  6762  3139  11872  1605  2857   9787   \n",
       "2018-07-01 07:00:00  1410  12664  4757  6670  3377  11992  1707  2997  10453   \n",
       "2018-07-01 08:00:00  1567  14069  5308  7065  3788  12860  1916  3331  11734   \n",
       "2018-07-01 09:00:00  1749  15610  5862  7833  4262  14212  2145  3703  13084   \n",
       "\n",
       "                      DPL   DUQ  EKPC    JC    ME    PE   PEP    PL    PN  \\\n",
       "period                                                                      \n",
       "2018-07-01 05:00:00  1919  1466  1209  2388  1442  4397  3165  3835  1611   \n",
       "2018-07-01 06:00:00  1950  1455  1197  2416  1465  4423  3156  3901  1641   \n",
       "2018-07-01 07:00:00  2160  1528  1273  2644  1605  4743  3332  4232  1728   \n",
       "2018-07-01 08:00:00  2470  1688  1472  3064  1784  5230  3679  4613  1899   \n",
       "2018-07-01 09:00:00  2765  1875  1656  3569  1972  5752  4085  5014  2055   \n",
       "\n",
       "                       PS  RECO  \n",
       "period                           \n",
       "2018-07-01 05:00:00  5009   186  \n",
       "2018-07-01 06:00:00  4990   187  \n",
       "2018-07-01 07:00:00  5267   202  \n",
       "2018-07-01 08:00:00  5735   230  \n",
       "2018-07-01 09:00:00  6299   259  "
      ]
     },
     "execution_count": 2,
     "metadata": {},
     "output_type": "execute_result"
    }
   ],
   "source": [
    "df_base = pd.read_csv('../data/pjm_pivot.csv', index_col=0, parse_dates=True)\n",
    "df_base.head()"
   ]
  },
  {
   "attachments": {},
   "cell_type": "markdown",
   "id": "1d0e375d",
   "metadata": {
    "papermill": {
     "duration": 0.005203,
     "end_time": "2023-11-26T17:20:18.930537",
     "exception": false,
     "start_time": "2023-11-26T17:20:18.925334",
     "status": "completed"
    },
    "tags": []
   },
   "source": [
    "## Select region"
   ]
  },
  {
   "cell_type": "code",
   "execution_count": 3,
   "id": "a0bf64a5",
   "metadata": {
    "execution": {
     "iopub.execute_input": "2023-11-26T17:20:18.940940Z",
     "iopub.status.busy": "2023-11-26T17:20:18.940366Z",
     "iopub.status.idle": "2023-11-26T17:20:18.945540Z",
     "shell.execute_reply": "2023-11-26T17:20:18.944829Z"
    },
    "papermill": {
     "duration": 0.01319,
     "end_time": "2023-11-26T17:20:18.947851",
     "exception": false,
     "start_time": "2023-11-26T17:20:18.934661",
     "status": "completed"
    },
    "tags": [
     "parameters"
    ]
   },
   "outputs": [],
   "source": [
    "region = 'AE'"
   ]
  },
  {
   "cell_type": "code",
   "execution_count": 4,
   "id": "8b6122fe",
   "metadata": {
    "execution": {
     "iopub.execute_input": "2023-11-26T17:20:18.972149Z",
     "iopub.status.busy": "2023-11-26T17:20:18.971815Z",
     "iopub.status.idle": "2023-11-26T17:20:18.975647Z",
     "shell.execute_reply": "2023-11-26T17:20:18.974798Z"
    },
    "papermill": {
     "duration": 0.012658,
     "end_time": "2023-11-26T17:20:18.977545",
     "exception": false,
     "start_time": "2023-11-26T17:20:18.964887",
     "status": "completed"
    },
    "tags": [
     "injected-parameters"
    ]
   },
   "outputs": [],
   "source": [
    "# Parameters\n",
    "region = \"JC\"\n"
   ]
  },
  {
   "cell_type": "code",
   "execution_count": 5,
   "id": "5c73b1e8",
   "metadata": {
    "execution": {
     "iopub.execute_input": "2023-11-26T17:20:18.986222Z",
     "iopub.status.busy": "2023-11-26T17:20:18.985819Z",
     "iopub.status.idle": "2023-11-26T17:20:18.994618Z",
     "shell.execute_reply": "2023-11-26T17:20:18.994085Z"
    },
    "papermill": {
     "duration": 0.015641,
     "end_time": "2023-11-26T17:20:18.996910",
     "exception": false,
     "start_time": "2023-11-26T17:20:18.981269",
     "status": "completed"
    },
    "tags": []
   },
   "outputs": [
    {
     "data": {
      "text/html": [
       "<div>\n",
       "<style scoped>\n",
       "    .dataframe tbody tr th:only-of-type {\n",
       "        vertical-align: middle;\n",
       "    }\n",
       "\n",
       "    .dataframe tbody tr th {\n",
       "        vertical-align: top;\n",
       "    }\n",
       "\n",
       "    .dataframe thead th {\n",
       "        text-align: right;\n",
       "    }\n",
       "</style>\n",
       "<table border=\"1\" class=\"dataframe\">\n",
       "  <thead>\n",
       "    <tr style=\"text-align: right;\">\n",
       "      <th></th>\n",
       "      <th>JC</th>\n",
       "    </tr>\n",
       "    <tr>\n",
       "      <th>period</th>\n",
       "      <th></th>\n",
       "    </tr>\n",
       "  </thead>\n",
       "  <tbody>\n",
       "    <tr>\n",
       "      <th>2018-07-01 05:00:00</th>\n",
       "      <td>2388</td>\n",
       "    </tr>\n",
       "    <tr>\n",
       "      <th>2018-07-01 06:00:00</th>\n",
       "      <td>2416</td>\n",
       "    </tr>\n",
       "    <tr>\n",
       "      <th>2018-07-01 07:00:00</th>\n",
       "      <td>2644</td>\n",
       "    </tr>\n",
       "    <tr>\n",
       "      <th>2018-07-01 08:00:00</th>\n",
       "      <td>3064</td>\n",
       "    </tr>\n",
       "    <tr>\n",
       "      <th>2018-07-01 09:00:00</th>\n",
       "      <td>3569</td>\n",
       "    </tr>\n",
       "    <tr>\n",
       "      <th>...</th>\n",
       "      <td>...</td>\n",
       "    </tr>\n",
       "    <tr>\n",
       "      <th>2023-11-01 00:00:00</th>\n",
       "      <td>2529</td>\n",
       "    </tr>\n",
       "    <tr>\n",
       "      <th>2023-11-01 01:00:00</th>\n",
       "      <td>2475</td>\n",
       "    </tr>\n",
       "    <tr>\n",
       "      <th>2023-11-01 02:00:00</th>\n",
       "      <td>2352</td>\n",
       "    </tr>\n",
       "    <tr>\n",
       "      <th>2023-11-01 03:00:00</th>\n",
       "      <td>2185</td>\n",
       "    </tr>\n",
       "    <tr>\n",
       "      <th>2023-11-01 04:00:00</th>\n",
       "      <td>2039</td>\n",
       "    </tr>\n",
       "  </tbody>\n",
       "</table>\n",
       "<p>44904 rows × 1 columns</p>\n",
       "</div>"
      ],
      "text/plain": [
       "                       JC\n",
       "period                   \n",
       "2018-07-01 05:00:00  2388\n",
       "2018-07-01 06:00:00  2416\n",
       "2018-07-01 07:00:00  2644\n",
       "2018-07-01 08:00:00  3064\n",
       "2018-07-01 09:00:00  3569\n",
       "...                   ...\n",
       "2023-11-01 00:00:00  2529\n",
       "2023-11-01 01:00:00  2475\n",
       "2023-11-01 02:00:00  2352\n",
       "2023-11-01 03:00:00  2185\n",
       "2023-11-01 04:00:00  2039\n",
       "\n",
       "[44904 rows x 1 columns]"
      ]
     },
     "execution_count": 5,
     "metadata": {},
     "output_type": "execute_result"
    }
   ],
   "source": [
    "df = df_base.loc[:, [region]]\n",
    "df"
   ]
  },
  {
   "attachments": {},
   "cell_type": "markdown",
   "id": "860f3441",
   "metadata": {
    "papermill": {
     "duration": 0.00385,
     "end_time": "2023-11-26T17:20:19.004811",
     "exception": false,
     "start_time": "2023-11-26T17:20:19.000961",
     "status": "completed"
    },
    "tags": []
   },
   "source": [
    "## Data Preprocessing"
   ]
  },
  {
   "attachments": {},
   "cell_type": "markdown",
   "id": "8d1d9ffe",
   "metadata": {
    "papermill": {
     "duration": 0.004647,
     "end_time": "2023-11-26T17:20:19.013851",
     "exception": false,
     "start_time": "2023-11-26T17:20:19.009204",
     "status": "completed"
    },
    "tags": []
   },
   "source": [
    "### Scale Data"
   ]
  },
  {
   "cell_type": "code",
   "execution_count": 6,
   "id": "09ae8f72",
   "metadata": {
    "execution": {
     "iopub.execute_input": "2023-11-26T17:20:19.023086Z",
     "iopub.status.busy": "2023-11-26T17:20:19.022452Z",
     "iopub.status.idle": "2023-11-26T17:20:19.648975Z",
     "shell.execute_reply": "2023-11-26T17:20:19.647920Z"
    },
    "papermill": {
     "duration": 0.633704,
     "end_time": "2023-11-26T17:20:19.651261",
     "exception": false,
     "start_time": "2023-11-26T17:20:19.017557",
     "status": "completed"
    },
    "tags": []
   },
   "outputs": [],
   "source": [
    "from sklearn.preprocessing import MinMaxScaler\n",
    "\n",
    "# Normalize data\n",
    "scaler = MinMaxScaler(feature_range=(0, 1))\n",
    "data_norm = scaler.fit_transform(df)"
   ]
  },
  {
   "attachments": {},
   "cell_type": "markdown",
   "id": "d7abb27d",
   "metadata": {
    "papermill": {
     "duration": 0.006131,
     "end_time": "2023-11-26T17:20:19.662823",
     "exception": false,
     "start_time": "2023-11-26T17:20:19.656692",
     "status": "completed"
    },
    "tags": []
   },
   "source": [
    "### Train Test Split"
   ]
  },
  {
   "cell_type": "code",
   "execution_count": 7,
   "id": "9ed9205b",
   "metadata": {
    "execution": {
     "iopub.execute_input": "2023-11-26T17:20:19.672993Z",
     "iopub.status.busy": "2023-11-26T17:20:19.672441Z",
     "iopub.status.idle": "2023-11-26T17:20:19.718382Z",
     "shell.execute_reply": "2023-11-26T17:20:19.717533Z"
    },
    "papermill": {
     "duration": 0.054004,
     "end_time": "2023-11-26T17:20:19.721076",
     "exception": false,
     "start_time": "2023-11-26T17:20:19.667072",
     "status": "completed"
    },
    "tags": []
   },
   "outputs": [],
   "source": [
    "from sklearn.model_selection import train_test_split\n",
    "\n",
    "train, test = train_test_split(data_norm, test_size=0.2, shuffle=False)"
   ]
  },
  {
   "attachments": {},
   "cell_type": "markdown",
   "id": "10d23bce",
   "metadata": {
    "papermill": {
     "duration": 0.004915,
     "end_time": "2023-11-26T17:20:19.730585",
     "exception": false,
     "start_time": "2023-11-26T17:20:19.725670",
     "status": "completed"
    },
    "tags": []
   },
   "source": [
    "### Create Sequences"
   ]
  },
  {
   "cell_type": "code",
   "execution_count": 8,
   "id": "b03a3833",
   "metadata": {
    "execution": {
     "iopub.execute_input": "2023-11-26T17:20:19.741673Z",
     "iopub.status.busy": "2023-11-26T17:20:19.741189Z",
     "iopub.status.idle": "2023-11-26T17:20:19.818423Z",
     "shell.execute_reply": "2023-11-26T17:20:19.817626Z"
    },
    "papermill": {
     "duration": 0.085794,
     "end_time": "2023-11-26T17:20:19.820542",
     "exception": false,
     "start_time": "2023-11-26T17:20:19.734748",
     "status": "completed"
    },
    "tags": []
   },
   "outputs": [],
   "source": [
    "import numpy as np\n",
    "\n",
    "def create_sequences(data, sequence_length):\n",
    "    X, y = [], []\n",
    "    for i in range(len(data) - sequence_length):\n",
    "        X.append(data[i:i+sequence_length])\n",
    "        y.append(data[i+sequence_length])\n",
    "    return np.array(X), np.array(y)\n",
    "\n",
    "sequence_length = 24 # Use 24 hours prior to predict the following hour\n",
    "X_train, y_train = create_sequences(train, sequence_length)\n",
    "X_test, y_test = create_sequences(test, sequence_length)"
   ]
  },
  {
   "attachments": {},
   "cell_type": "markdown",
   "id": "a1cdc84f",
   "metadata": {
    "papermill": {
     "duration": 0.026806,
     "end_time": "2023-11-26T17:20:19.873169",
     "exception": false,
     "start_time": "2023-11-26T17:20:19.846363",
     "status": "completed"
    },
    "tags": []
   },
   "source": [
    "## Modelling"
   ]
  },
  {
   "attachments": {},
   "cell_type": "markdown",
   "id": "d4659808",
   "metadata": {
    "papermill": {
     "duration": 0.025971,
     "end_time": "2023-11-26T17:20:19.924139",
     "exception": false,
     "start_time": "2023-11-26T17:20:19.898168",
     "status": "completed"
    },
    "tags": []
   },
   "source": [
    "### Design NN Architecture"
   ]
  },
  {
   "cell_type": "code",
   "execution_count": 9,
   "id": "6c141cba",
   "metadata": {
    "execution": {
     "iopub.execute_input": "2023-11-26T17:20:19.978711Z",
     "iopub.status.busy": "2023-11-26T17:20:19.977961Z",
     "iopub.status.idle": "2023-11-26T17:20:24.505878Z",
     "shell.execute_reply": "2023-11-26T17:20:24.504895Z"
    },
    "papermill": {
     "duration": 4.556802,
     "end_time": "2023-11-26T17:20:24.508653",
     "exception": false,
     "start_time": "2023-11-26T17:20:19.951851",
     "status": "completed"
    },
    "tags": []
   },
   "outputs": [
    {
     "name": "stderr",
     "output_type": "stream",
     "text": [
      "2023-11-26 18:20:22.285782: I tensorflow/core/platform/cpu_feature_guard.cc:182] This TensorFlow binary is optimized to use available CPU instructions in performance-critical operations.\n",
      "To enable the following instructions: AVX2 FMA, in other operations, rebuild TensorFlow with the appropriate compiler flags.\n"
     ]
    }
   ],
   "source": [
    "from keras.models import Sequential\n",
    "from keras.layers import LSTM, Dense\n",
    "\n",
    "model = Sequential()\n",
    "model.add(LSTM(50, input_shape=(X_train.shape[1], X_train.shape[2])))\n",
    "model.add(Dense(1))\n",
    "model.compile(optimizer='adam', loss='mean_squared_error')"
   ]
  },
  {
   "attachments": {},
   "cell_type": "markdown",
   "id": "478405c6",
   "metadata": {
    "papermill": {
     "duration": 0.004163,
     "end_time": "2023-11-26T17:20:24.517696",
     "exception": false,
     "start_time": "2023-11-26T17:20:24.513533",
     "status": "completed"
    },
    "tags": []
   },
   "source": [
    "### Train Model"
   ]
  },
  {
   "cell_type": "code",
   "execution_count": 10,
   "id": "ce205193",
   "metadata": {
    "execution": {
     "iopub.execute_input": "2023-11-26T17:20:24.530437Z",
     "iopub.status.busy": "2023-11-26T17:20:24.530143Z",
     "iopub.status.idle": "2023-11-26T17:21:46.478685Z",
     "shell.execute_reply": "2023-11-26T17:21:46.477839Z"
    },
    "papermill": {
     "duration": 81.957601,
     "end_time": "2023-11-26T17:21:46.480763",
     "exception": false,
     "start_time": "2023-11-26T17:20:24.523162",
     "status": "completed"
    },
    "tags": []
   },
   "outputs": [],
   "source": [
    "from keras.callbacks import EarlyStopping\n",
    "\n",
    "early_stop = EarlyStopping(monitor='val_loss', patience=5)\n",
    "\n",
    "history = model.fit(\n",
    "    X_train, y_train, epochs=50, batch_size=64, verbose=0,\n",
    "    validation_data=(X_test, y_test), callbacks=[early_stop])"
   ]
  },
  {
   "attachments": {},
   "cell_type": "markdown",
   "id": "e2abcbd3",
   "metadata": {
    "papermill": {
     "duration": 0.005514,
     "end_time": "2023-11-26T17:21:46.491468",
     "exception": false,
     "start_time": "2023-11-26T17:21:46.485954",
     "status": "completed"
    },
    "tags": []
   },
   "source": [
    "### Calculate Predictions"
   ]
  },
  {
   "cell_type": "code",
   "execution_count": 11,
   "id": "28c24843",
   "metadata": {
    "execution": {
     "iopub.execute_input": "2023-11-26T17:21:46.502524Z",
     "iopub.status.busy": "2023-11-26T17:21:46.502211Z",
     "iopub.status.idle": "2023-11-26T17:21:47.727594Z",
     "shell.execute_reply": "2023-11-26T17:21:47.727035Z"
    },
    "papermill": {
     "duration": 1.232836,
     "end_time": "2023-11-26T17:21:47.729352",
     "exception": false,
     "start_time": "2023-11-26T17:21:46.496516",
     "status": "completed"
    },
    "tags": []
   },
   "outputs": [
    {
     "name": "stdout",
     "output_type": "stream",
     "text": [
      "\r",
      "  1/280 [..............................] - ETA: 1:46"
     ]
    },
    {
     "name": "stdout",
     "output_type": "stream",
     "text": [
      "\b\b\b\b\b\b\b\b\b\b\b\b\b\b\b\b\b\b\b\b\b\b\b\b\b\b\b\b\b\b\b\b\b\b\b\b\b\b\b\b\b\b\b\b\b\b\b\b\b\b\b\b\r",
      " 22/280 [=>............................] - ETA: 0s  "
     ]
    },
    {
     "name": "stdout",
     "output_type": "stream",
     "text": [
      "\b\b\b\b\b\b\b\b\b\b\b\b\b\b\b\b\b\b\b\b\b\b\b\b\b\b\b\b\b\b\b\b\b\b\b\b\b\b\b\b\b\b\b\b\b\b\b\b\b\b\r",
      " 43/280 [===>..........................] - ETA: 0s"
     ]
    },
    {
     "name": "stdout",
     "output_type": "stream",
     "text": [
      "\b\b\b\b\b\b\b\b\b\b\b\b\b\b\b\b\b\b\b\b\b\b\b\b\b\b\b\b\b\b\b\b\b\b\b\b\b\b\b\b\b\b\b\b\b\b\b\b\b\b\r",
      " 64/280 [=====>........................] - ETA: 0s"
     ]
    },
    {
     "name": "stdout",
     "output_type": "stream",
     "text": [
      "\b\b\b\b\b\b\b\b\b\b\b\b\b\b\b\b\b\b\b\b\b\b\b\b\b\b\b\b\b\b\b\b\b\b\b\b\b\b\b\b\b\b\b\b\b\b\b\b\b\b\r",
      " 82/280 [=======>......................] - ETA: 0s"
     ]
    },
    {
     "name": "stdout",
     "output_type": "stream",
     "text": [
      "\b\b\b\b\b\b\b\b\b\b\b\b\b\b\b\b\b\b\b\b\b\b\b\b\b\b\b\b\b\b\b\b\b\b\b\b\b\b\b\b\b\b\b\b\b\b\b\b\b\b\r",
      "102/280 [=========>....................] - ETA: 0s"
     ]
    },
    {
     "name": "stdout",
     "output_type": "stream",
     "text": [
      "\b\b\b\b\b\b\b\b\b\b\b\b\b\b\b\b\b\b\b\b\b\b\b\b\b\b\b\b\b\b\b\b\b\b\b\b\b\b\b\b\b\b\b\b\b\b\b\b\b\b\r",
      "123/280 [============>.................] - ETA: 0s"
     ]
    },
    {
     "name": "stdout",
     "output_type": "stream",
     "text": [
      "\b\b\b\b\b\b\b\b\b\b\b\b\b\b\b\b\b\b\b\b\b\b\b\b\b\b\b\b\b\b\b\b\b\b\b\b\b\b\b\b\b\b\b\b\b\b\b\b\b\b\r",
      "144/280 [==============>...............] - ETA: 0s"
     ]
    },
    {
     "name": "stdout",
     "output_type": "stream",
     "text": [
      "\b\b\b\b\b\b\b\b\b\b\b\b\b\b\b\b\b\b\b\b\b\b\b\b\b\b\b\b\b\b\b\b\b\b\b\b\b\b\b\b\b\b\b\b\b\b\b\b\b\b\r",
      "165/280 [================>.............] - ETA: 0s"
     ]
    },
    {
     "name": "stdout",
     "output_type": "stream",
     "text": [
      "\b\b\b\b\b\b\b\b\b\b\b\b\b\b\b\b\b\b\b\b\b\b\b\b\b\b\b\b\b\b\b\b\b\b\b\b\b\b\b\b\b\b\b\b\b\b\b\b\b\b\r",
      "186/280 [==================>...........] - ETA: 0s"
     ]
    },
    {
     "name": "stdout",
     "output_type": "stream",
     "text": [
      "\b\b\b\b\b\b\b\b\b\b\b\b\b\b\b\b\b\b\b\b\b\b\b\b\b\b\b\b\b\b\b\b\b\b\b\b\b\b\b\b\b\b\b\b\b\b\b\b\b\b\r",
      "207/280 [=====================>........] - ETA: 0s"
     ]
    },
    {
     "name": "stdout",
     "output_type": "stream",
     "text": [
      "\b\b\b\b\b\b\b\b\b\b\b\b\b\b\b\b\b\b\b\b\b\b\b\b\b\b\b\b\b\b\b\b\b\b\b\b\b\b\b\b\b\b\b\b\b\b\b\b\b\b\r",
      "228/280 [=======================>......] - ETA: 0s"
     ]
    },
    {
     "name": "stdout",
     "output_type": "stream",
     "text": [
      "\b\b\b\b\b\b\b\b\b\b\b\b\b\b\b\b\b\b\b\b\b\b\b\b\b\b\b\b\b\b\b\b\b\b\b\b\b\b\b\b\b\b\b\b\b\b\b\b\b\b\r",
      "249/280 [=========================>....] - ETA: 0s"
     ]
    },
    {
     "name": "stdout",
     "output_type": "stream",
     "text": [
      "\b\b\b\b\b\b\b\b\b\b\b\b\b\b\b\b\b\b\b\b\b\b\b\b\b\b\b\b\b\b\b\b\b\b\b\b\b\b\b\b\b\b\b\b\b\b\b\b\b\b\r",
      "269/280 [===========================>..] - ETA: 0s"
     ]
    },
    {
     "name": "stdout",
     "output_type": "stream",
     "text": [
      "\b\b\b\b\b\b\b\b\b\b\b\b\b\b\b\b\b\b\b\b\b\b\b\b\b\b\b\b\b\b\b\b\b\b\b\b\b\b\b\b\b\b\b\b\b\b\b\b\b\b\r",
      "280/280 [==============================] - 1s 2ms/step\n"
     ]
    },
    {
     "data": {
      "text/plain": [
       "array([[0.23602712],\n",
       "       [0.19508097],\n",
       "       [0.18683994],\n",
       "       ...,\n",
       "       [0.22466484],\n",
       "       [0.19275694],\n",
       "       [0.15983412]], dtype=float32)"
      ]
     },
     "execution_count": 11,
     "metadata": {},
     "output_type": "execute_result"
    }
   ],
   "source": [
    "y_pred = model.predict(X_test)\n",
    "y_pred"
   ]
  },
  {
   "attachments": {},
   "cell_type": "markdown",
   "id": "f7fcc156",
   "metadata": {
    "papermill": {
     "duration": 0.005406,
     "end_time": "2023-11-26T17:21:47.740218",
     "exception": false,
     "start_time": "2023-11-26T17:21:47.734812",
     "status": "completed"
    },
    "tags": []
   },
   "source": [
    "### Comparison: Real Data & Prediction"
   ]
  },
  {
   "attachments": {},
   "cell_type": "markdown",
   "id": "93edc6bf",
   "metadata": {
    "papermill": {
     "duration": 0.005406,
     "end_time": "2023-11-26T17:21:47.750805",
     "exception": false,
     "start_time": "2023-11-26T17:21:47.745399",
     "status": "completed"
    },
    "tags": []
   },
   "source": [
    "#### Descale Data"
   ]
  },
  {
   "cell_type": "code",
   "execution_count": 12,
   "id": "9bd46dc3",
   "metadata": {
    "execution": {
     "iopub.execute_input": "2023-11-26T17:21:47.764089Z",
     "iopub.status.busy": "2023-11-26T17:21:47.763712Z",
     "iopub.status.idle": "2023-11-26T17:21:47.768193Z",
     "shell.execute_reply": "2023-11-26T17:21:47.767538Z"
    },
    "papermill": {
     "duration": 0.013834,
     "end_time": "2023-11-26T17:21:47.770040",
     "exception": false,
     "start_time": "2023-11-26T17:21:47.756206",
     "status": "completed"
    },
    "tags": []
   },
   "outputs": [],
   "source": [
    "y_pred_scaled_inverse = scaler.inverse_transform(y_pred)\n",
    "y_true = scaler.inverse_transform(y_test)"
   ]
  },
  {
   "attachments": {},
   "cell_type": "markdown",
   "id": "1fdc179e",
   "metadata": {
    "papermill": {
     "duration": 0.004726,
     "end_time": "2023-11-26T17:21:47.780076",
     "exception": false,
     "start_time": "2023-11-26T17:21:47.775350",
     "status": "completed"
    },
    "tags": []
   },
   "source": [
    "#### Create DataFrame"
   ]
  },
  {
   "cell_type": "code",
   "execution_count": 13,
   "id": "9301ba2f",
   "metadata": {
    "execution": {
     "iopub.execute_input": "2023-11-26T17:21:47.791976Z",
     "iopub.status.busy": "2023-11-26T17:21:47.791650Z",
     "iopub.status.idle": "2023-11-26T17:21:47.802521Z",
     "shell.execute_reply": "2023-11-26T17:21:47.801626Z"
    },
    "papermill": {
     "duration": 0.01995,
     "end_time": "2023-11-26T17:21:47.804543",
     "exception": false,
     "start_time": "2023-11-26T17:21:47.784593",
     "status": "completed"
    },
    "tags": []
   },
   "outputs": [
    {
     "data": {
      "text/html": [
       "<div>\n",
       "<style scoped>\n",
       "    .dataframe tbody tr th:only-of-type {\n",
       "        vertical-align: middle;\n",
       "    }\n",
       "\n",
       "    .dataframe tbody tr th {\n",
       "        vertical-align: top;\n",
       "    }\n",
       "\n",
       "    .dataframe thead th {\n",
       "        text-align: right;\n",
       "    }\n",
       "</style>\n",
       "<table border=\"1\" class=\"dataframe\">\n",
       "  <thead>\n",
       "    <tr style=\"text-align: right;\">\n",
       "      <th></th>\n",
       "      <th>y_pred</th>\n",
       "      <th>y_pred_scaled_inverse</th>\n",
       "      <th>y_true</th>\n",
       "    </tr>\n",
       "  </thead>\n",
       "  <tbody>\n",
       "    <tr>\n",
       "      <th>0</th>\n",
       "      <td>0.236027</td>\n",
       "      <td>2409.744141</td>\n",
       "      <td>2370.0</td>\n",
       "    </tr>\n",
       "    <tr>\n",
       "      <th>1</th>\n",
       "      <td>0.195081</td>\n",
       "      <td>2210.459229</td>\n",
       "      <td>2286.0</td>\n",
       "    </tr>\n",
       "    <tr>\n",
       "      <th>2</th>\n",
       "      <td>0.186840</td>\n",
       "      <td>2170.350098</td>\n",
       "      <td>2166.0</td>\n",
       "    </tr>\n",
       "    <tr>\n",
       "      <th>3</th>\n",
       "      <td>0.166445</td>\n",
       "      <td>2071.089600</td>\n",
       "      <td>2001.0</td>\n",
       "    </tr>\n",
       "    <tr>\n",
       "      <th>4</th>\n",
       "      <td>0.134448</td>\n",
       "      <td>1915.357666</td>\n",
       "      <td>1900.0</td>\n",
       "    </tr>\n",
       "    <tr>\n",
       "      <th>...</th>\n",
       "      <td>...</td>\n",
       "      <td>...</td>\n",
       "      <td>...</td>\n",
       "    </tr>\n",
       "    <tr>\n",
       "      <th>8952</th>\n",
       "      <td>0.259701</td>\n",
       "      <td>2524.964844</td>\n",
       "      <td>2529.0</td>\n",
       "    </tr>\n",
       "    <tr>\n",
       "      <th>8953</th>\n",
       "      <td>0.251112</td>\n",
       "      <td>2483.163818</td>\n",
       "      <td>2475.0</td>\n",
       "    </tr>\n",
       "    <tr>\n",
       "      <th>8954</th>\n",
       "      <td>0.224665</td>\n",
       "      <td>2354.443848</td>\n",
       "      <td>2352.0</td>\n",
       "    </tr>\n",
       "    <tr>\n",
       "      <th>8955</th>\n",
       "      <td>0.192757</td>\n",
       "      <td>2199.147949</td>\n",
       "      <td>2185.0</td>\n",
       "    </tr>\n",
       "    <tr>\n",
       "      <th>8956</th>\n",
       "      <td>0.159834</td>\n",
       "      <td>2038.912720</td>\n",
       "      <td>2039.0</td>\n",
       "    </tr>\n",
       "  </tbody>\n",
       "</table>\n",
       "<p>8957 rows × 3 columns</p>\n",
       "</div>"
      ],
      "text/plain": [
       "        y_pred  y_pred_scaled_inverse  y_true\n",
       "0     0.236027            2409.744141  2370.0\n",
       "1     0.195081            2210.459229  2286.0\n",
       "2     0.186840            2170.350098  2166.0\n",
       "3     0.166445            2071.089600  2001.0\n",
       "4     0.134448            1915.357666  1900.0\n",
       "...        ...                    ...     ...\n",
       "8952  0.259701            2524.964844  2529.0\n",
       "8953  0.251112            2483.163818  2475.0\n",
       "8954  0.224665            2354.443848  2352.0\n",
       "8955  0.192757            2199.147949  2185.0\n",
       "8956  0.159834            2038.912720  2039.0\n",
       "\n",
       "[8957 rows x 3 columns]"
      ]
     },
     "execution_count": 13,
     "metadata": {},
     "output_type": "execute_result"
    }
   ],
   "source": [
    "dic_pred = {\n",
    "    'y_pred': y_pred.flatten(),\n",
    "    'y_pred_scaled_inverse': y_pred_scaled_inverse.flatten(),\n",
    "    'y_true': y_true.flatten(),\n",
    "}\n",
    "\n",
    "df_pred = pd.DataFrame(dic_pred)\n",
    "df_pred"
   ]
  },
  {
   "attachments": {},
   "cell_type": "markdown",
   "id": "54f8aa6b",
   "metadata": {
    "papermill": {
     "duration": 0.005032,
     "end_time": "2023-11-26T17:21:47.815285",
     "exception": false,
     "start_time": "2023-11-26T17:21:47.810253",
     "status": "completed"
    },
    "tags": []
   },
   "source": [
    "#### Evaluate Model"
   ]
  },
  {
   "cell_type": "code",
   "execution_count": 14,
   "id": "11377392",
   "metadata": {
    "execution": {
     "iopub.execute_input": "2023-11-26T17:21:47.827690Z",
     "iopub.status.busy": "2023-11-26T17:21:47.827405Z",
     "iopub.status.idle": "2023-11-26T17:21:47.830360Z",
     "shell.execute_reply": "2023-11-26T17:21:47.829809Z"
    },
    "papermill": {
     "duration": 0.01171,
     "end_time": "2023-11-26T17:21:47.831974",
     "exception": false,
     "start_time": "2023-11-26T17:21:47.820264",
     "status": "completed"
    },
    "tags": []
   },
   "outputs": [],
   "source": [
    "from sklearn.metrics import mean_squared_error"
   ]
  },
  {
   "cell_type": "code",
   "execution_count": 15,
   "id": "02c47580",
   "metadata": {
    "execution": {
     "iopub.execute_input": "2023-11-26T17:21:47.845382Z",
     "iopub.status.busy": "2023-11-26T17:21:47.844676Z",
     "iopub.status.idle": "2023-11-26T17:21:47.850752Z",
     "shell.execute_reply": "2023-11-26T17:21:47.850204Z"
    },
    "papermill": {
     "duration": 0.014539,
     "end_time": "2023-11-26T17:21:47.852496",
     "exception": false,
     "start_time": "2023-11-26T17:21:47.837957",
     "status": "completed"
    },
    "tags": []
   },
   "outputs": [
    {
     "data": {
      "text/plain": [
       "58.77739463123247"
      ]
     },
     "execution_count": 15,
     "metadata": {},
     "output_type": "execute_result"
    }
   ],
   "source": [
    "mean_squared_error(df_pred.y_true, df_pred.y_pred_scaled_inverse, squared=False)"
   ]
  },
  {
   "cell_type": "code",
   "execution_count": 16,
   "id": "b322a1cb",
   "metadata": {
    "execution": {
     "iopub.execute_input": "2023-11-26T17:21:47.898386Z",
     "iopub.status.busy": "2023-11-26T17:21:47.897914Z",
     "iopub.status.idle": "2023-11-26T17:21:47.933635Z",
     "shell.execute_reply": "2023-11-26T17:21:47.932815Z"
    },
    "papermill": {
     "duration": 0.06375,
     "end_time": "2023-11-26T17:21:47.935887",
     "exception": false,
     "start_time": "2023-11-26T17:21:47.872137",
     "status": "completed"
    },
    "tags": []
   },
   "outputs": [],
   "source": [
    "model.save(f'../models/{region}.keras')"
   ]
  }
 ],
 "metadata": {
  "kernelspec": {
   "display_name": "deep-learning",
   "language": "python",
   "name": "python3"
  },
  "language_info": {
   "codemirror_mode": {
    "name": "ipython",
    "version": 3
   },
   "file_extension": ".py",
   "mimetype": "text/x-python",
   "name": "python",
   "nbconvert_exporter": "python",
   "pygments_lexer": "ipython3",
   "version": "3.9.18"
  },
  "papermill": {
   "default_parameters": {},
   "duration": 92.220504,
   "end_time": "2023-11-26T17:21:48.975738",
   "environment_variables": {},
   "exception": null,
   "input_path": "Modelling.ipynb",
   "output_path": "outputs/JC.ipynb",
   "parameters": {
    "region": "JC"
   },
   "start_time": "2023-11-26T17:20:16.755234",
   "version": "2.5.0"
  }
 },
 "nbformat": 4,
 "nbformat_minor": 5
}