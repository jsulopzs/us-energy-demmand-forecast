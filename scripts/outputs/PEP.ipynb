{
 "cells": [
  {
   "attachments": {},
   "cell_type": "markdown",
   "id": "188af934",
   "metadata": {
    "papermill": {
     "duration": 0.010446,
     "end_time": "2023-11-26T17:26:04.558540",
     "exception": false,
     "start_time": "2023-11-26T17:26:04.548094",
     "status": "completed"
    },
    "tags": []
   },
   "source": [
    "## Load data"
   ]
  },
  {
   "cell_type": "code",
   "execution_count": 1,
   "id": "22829b48",
   "metadata": {
    "execution": {
     "iopub.execute_input": "2023-11-26T17:26:04.573593Z",
     "iopub.status.busy": "2023-11-26T17:26:04.573194Z",
     "iopub.status.idle": "2023-11-26T17:26:05.114345Z",
     "shell.execute_reply": "2023-11-26T17:26:05.113327Z"
    },
    "papermill": {
     "duration": 0.552389,
     "end_time": "2023-11-26T17:26:05.116841",
     "exception": false,
     "start_time": "2023-11-26T17:26:04.564452",
     "status": "completed"
    },
    "tags": []
   },
   "outputs": [],
   "source": [
    "import pandas as pd"
   ]
  },
  {
   "cell_type": "code",
   "execution_count": 2,
   "id": "621fb5db",
   "metadata": {
    "execution": {
     "iopub.execute_input": "2023-11-26T17:26:05.127041Z",
     "iopub.status.busy": "2023-11-26T17:26:05.126729Z",
     "iopub.status.idle": "2023-11-26T17:26:05.263015Z",
     "shell.execute_reply": "2023-11-26T17:26:05.262121Z"
    },
    "papermill": {
     "duration": 0.143803,
     "end_time": "2023-11-26T17:26:05.265460",
     "exception": false,
     "start_time": "2023-11-26T17:26:05.121657",
     "status": "completed"
    },
    "tags": []
   },
   "outputs": [
    {
     "data": {
      "text/html": [
       "<div>\n",
       "<style scoped>\n",
       "    .dataframe tbody tr th:only-of-type {\n",
       "        vertical-align: middle;\n",
       "    }\n",
       "\n",
       "    .dataframe tbody tr th {\n",
       "        vertical-align: top;\n",
       "    }\n",
       "\n",
       "    .dataframe thead th {\n",
       "        text-align: right;\n",
       "    }\n",
       "</style>\n",
       "<table border=\"1\" class=\"dataframe\">\n",
       "  <thead>\n",
       "    <tr style=\"text-align: right;\">\n",
       "      <th></th>\n",
       "      <th>AE</th>\n",
       "      <th>AEP</th>\n",
       "      <th>AP</th>\n",
       "      <th>ATSI</th>\n",
       "      <th>BC</th>\n",
       "      <th>CE</th>\n",
       "      <th>DAY</th>\n",
       "      <th>DEOK</th>\n",
       "      <th>DOM</th>\n",
       "      <th>DPL</th>\n",
       "      <th>DUQ</th>\n",
       "      <th>EKPC</th>\n",
       "      <th>JC</th>\n",
       "      <th>ME</th>\n",
       "      <th>PE</th>\n",
       "      <th>PEP</th>\n",
       "      <th>PL</th>\n",
       "      <th>PN</th>\n",
       "      <th>PS</th>\n",
       "      <th>RECO</th>\n",
       "    </tr>\n",
       "    <tr>\n",
       "      <th>period</th>\n",
       "      <th></th>\n",
       "      <th></th>\n",
       "      <th></th>\n",
       "      <th></th>\n",
       "      <th></th>\n",
       "      <th></th>\n",
       "      <th></th>\n",
       "      <th></th>\n",
       "      <th></th>\n",
       "      <th></th>\n",
       "      <th></th>\n",
       "      <th></th>\n",
       "      <th></th>\n",
       "      <th></th>\n",
       "      <th></th>\n",
       "      <th></th>\n",
       "      <th></th>\n",
       "      <th></th>\n",
       "      <th></th>\n",
       "      <th></th>\n",
       "    </tr>\n",
       "  </thead>\n",
       "  <tbody>\n",
       "    <tr>\n",
       "      <th>2018-07-01 05:00:00</th>\n",
       "      <td>1301</td>\n",
       "      <td>12187</td>\n",
       "      <td>4384</td>\n",
       "      <td>6960</td>\n",
       "      <td>3134</td>\n",
       "      <td>12136</td>\n",
       "      <td>1619</td>\n",
       "      <td>2895</td>\n",
       "      <td>9775</td>\n",
       "      <td>1919</td>\n",
       "      <td>1466</td>\n",
       "      <td>1209</td>\n",
       "      <td>2388</td>\n",
       "      <td>1442</td>\n",
       "      <td>4397</td>\n",
       "      <td>3165</td>\n",
       "      <td>3835</td>\n",
       "      <td>1611</td>\n",
       "      <td>5009</td>\n",
       "      <td>186</td>\n",
       "    </tr>\n",
       "    <tr>\n",
       "      <th>2018-07-01 06:00:00</th>\n",
       "      <td>1314</td>\n",
       "      <td>11946</td>\n",
       "      <td>4391</td>\n",
       "      <td>6762</td>\n",
       "      <td>3139</td>\n",
       "      <td>11872</td>\n",
       "      <td>1605</td>\n",
       "      <td>2857</td>\n",
       "      <td>9787</td>\n",
       "      <td>1950</td>\n",
       "      <td>1455</td>\n",
       "      <td>1197</td>\n",
       "      <td>2416</td>\n",
       "      <td>1465</td>\n",
       "      <td>4423</td>\n",
       "      <td>3156</td>\n",
       "      <td>3901</td>\n",
       "      <td>1641</td>\n",
       "      <td>4990</td>\n",
       "      <td>187</td>\n",
       "    </tr>\n",
       "    <tr>\n",
       "      <th>2018-07-01 07:00:00</th>\n",
       "      <td>1410</td>\n",
       "      <td>12664</td>\n",
       "      <td>4757</td>\n",
       "      <td>6670</td>\n",
       "      <td>3377</td>\n",
       "      <td>11992</td>\n",
       "      <td>1707</td>\n",
       "      <td>2997</td>\n",
       "      <td>10453</td>\n",
       "      <td>2160</td>\n",
       "      <td>1528</td>\n",
       "      <td>1273</td>\n",
       "      <td>2644</td>\n",
       "      <td>1605</td>\n",
       "      <td>4743</td>\n",
       "      <td>3332</td>\n",
       "      <td>4232</td>\n",
       "      <td>1728</td>\n",
       "      <td>5267</td>\n",
       "      <td>202</td>\n",
       "    </tr>\n",
       "    <tr>\n",
       "      <th>2018-07-01 08:00:00</th>\n",
       "      <td>1567</td>\n",
       "      <td>14069</td>\n",
       "      <td>5308</td>\n",
       "      <td>7065</td>\n",
       "      <td>3788</td>\n",
       "      <td>12860</td>\n",
       "      <td>1916</td>\n",
       "      <td>3331</td>\n",
       "      <td>11734</td>\n",
       "      <td>2470</td>\n",
       "      <td>1688</td>\n",
       "      <td>1472</td>\n",
       "      <td>3064</td>\n",
       "      <td>1784</td>\n",
       "      <td>5230</td>\n",
       "      <td>3679</td>\n",
       "      <td>4613</td>\n",
       "      <td>1899</td>\n",
       "      <td>5735</td>\n",
       "      <td>230</td>\n",
       "    </tr>\n",
       "    <tr>\n",
       "      <th>2018-07-01 09:00:00</th>\n",
       "      <td>1749</td>\n",
       "      <td>15610</td>\n",
       "      <td>5862</td>\n",
       "      <td>7833</td>\n",
       "      <td>4262</td>\n",
       "      <td>14212</td>\n",
       "      <td>2145</td>\n",
       "      <td>3703</td>\n",
       "      <td>13084</td>\n",
       "      <td>2765</td>\n",
       "      <td>1875</td>\n",
       "      <td>1656</td>\n",
       "      <td>3569</td>\n",
       "      <td>1972</td>\n",
       "      <td>5752</td>\n",
       "      <td>4085</td>\n",
       "      <td>5014</td>\n",
       "      <td>2055</td>\n",
       "      <td>6299</td>\n",
       "      <td>259</td>\n",
       "    </tr>\n",
       "  </tbody>\n",
       "</table>\n",
       "</div>"
      ],
      "text/plain": [
       "                       AE    AEP    AP  ATSI    BC     CE   DAY  DEOK    DOM  \\\n",
       "period                                                                         \n",
       "2018-07-01 05:00:00  1301  12187  4384  6960  3134  12136  1619  2895   9775   \n",
       "2018-07-01 06:00:00  1314  11946  4391  6762  3139  11872  1605  2857   9787   \n",
       "2018-07-01 07:00:00  1410  12664  4757  6670  3377  11992  1707  2997  10453   \n",
       "2018-07-01 08:00:00  1567  14069  5308  7065  3788  12860  1916  3331  11734   \n",
       "2018-07-01 09:00:00  1749  15610  5862  7833  4262  14212  2145  3703  13084   \n",
       "\n",
       "                      DPL   DUQ  EKPC    JC    ME    PE   PEP    PL    PN  \\\n",
       "period                                                                      \n",
       "2018-07-01 05:00:00  1919  1466  1209  2388  1442  4397  3165  3835  1611   \n",
       "2018-07-01 06:00:00  1950  1455  1197  2416  1465  4423  3156  3901  1641   \n",
       "2018-07-01 07:00:00  2160  1528  1273  2644  1605  4743  3332  4232  1728   \n",
       "2018-07-01 08:00:00  2470  1688  1472  3064  1784  5230  3679  4613  1899   \n",
       "2018-07-01 09:00:00  2765  1875  1656  3569  1972  5752  4085  5014  2055   \n",
       "\n",
       "                       PS  RECO  \n",
       "period                           \n",
       "2018-07-01 05:00:00  5009   186  \n",
       "2018-07-01 06:00:00  4990   187  \n",
       "2018-07-01 07:00:00  5267   202  \n",
       "2018-07-01 08:00:00  5735   230  \n",
       "2018-07-01 09:00:00  6299   259  "
      ]
     },
     "execution_count": 2,
     "metadata": {},
     "output_type": "execute_result"
    }
   ],
   "source": [
    "df_base = pd.read_csv('../data/pjm_pivot.csv', index_col=0, parse_dates=True)\n",
    "df_base.head()"
   ]
  },
  {
   "attachments": {},
   "cell_type": "markdown",
   "id": "b9ffb7ba",
   "metadata": {
    "papermill": {
     "duration": 0.004202,
     "end_time": "2023-11-26T17:26:05.275020",
     "exception": false,
     "start_time": "2023-11-26T17:26:05.270818",
     "status": "completed"
    },
    "tags": []
   },
   "source": [
    "## Select region"
   ]
  },
  {
   "cell_type": "code",
   "execution_count": 3,
   "id": "938e4a47",
   "metadata": {
    "execution": {
     "iopub.execute_input": "2023-11-26T17:26:05.284825Z",
     "iopub.status.busy": "2023-11-26T17:26:05.284556Z",
     "iopub.status.idle": "2023-11-26T17:26:05.288668Z",
     "shell.execute_reply": "2023-11-26T17:26:05.287664Z"
    },
    "papermill": {
     "duration": 0.011884,
     "end_time": "2023-11-26T17:26:05.290576",
     "exception": false,
     "start_time": "2023-11-26T17:26:05.278692",
     "status": "completed"
    },
    "tags": [
     "parameters"
    ]
   },
   "outputs": [],
   "source": [
    "region = 'AE'"
   ]
  },
  {
   "cell_type": "code",
   "execution_count": 4,
   "id": "217521ad",
   "metadata": {
    "execution": {
     "iopub.execute_input": "2023-11-26T17:26:05.300202Z",
     "iopub.status.busy": "2023-11-26T17:26:05.299876Z",
     "iopub.status.idle": "2023-11-26T17:26:05.304528Z",
     "shell.execute_reply": "2023-11-26T17:26:05.303467Z"
    },
    "papermill": {
     "duration": 0.012879,
     "end_time": "2023-11-26T17:26:05.307081",
     "exception": false,
     "start_time": "2023-11-26T17:26:05.294202",
     "status": "completed"
    },
    "tags": [
     "injected-parameters"
    ]
   },
   "outputs": [],
   "source": [
    "# Parameters\n",
    "region = \"PEP\"\n"
   ]
  },
  {
   "cell_type": "code",
   "execution_count": 5,
   "id": "01fc49cb",
   "metadata": {
    "execution": {
     "iopub.execute_input": "2023-11-26T17:26:05.315949Z",
     "iopub.status.busy": "2023-11-26T17:26:05.315668Z",
     "iopub.status.idle": "2023-11-26T17:26:05.323933Z",
     "shell.execute_reply": "2023-11-26T17:26:05.323391Z"
    },
    "papermill": {
     "duration": 0.014666,
     "end_time": "2023-11-26T17:26:05.325585",
     "exception": false,
     "start_time": "2023-11-26T17:26:05.310919",
     "status": "completed"
    },
    "tags": []
   },
   "outputs": [
    {
     "data": {
      "text/html": [
       "<div>\n",
       "<style scoped>\n",
       "    .dataframe tbody tr th:only-of-type {\n",
       "        vertical-align: middle;\n",
       "    }\n",
       "\n",
       "    .dataframe tbody tr th {\n",
       "        vertical-align: top;\n",
       "    }\n",
       "\n",
       "    .dataframe thead th {\n",
       "        text-align: right;\n",
       "    }\n",
       "</style>\n",
       "<table border=\"1\" class=\"dataframe\">\n",
       "  <thead>\n",
       "    <tr style=\"text-align: right;\">\n",
       "      <th></th>\n",
       "      <th>PEP</th>\n",
       "    </tr>\n",
       "    <tr>\n",
       "      <th>period</th>\n",
       "      <th></th>\n",
       "    </tr>\n",
       "  </thead>\n",
       "  <tbody>\n",
       "    <tr>\n",
       "      <th>2018-07-01 05:00:00</th>\n",
       "      <td>3165</td>\n",
       "    </tr>\n",
       "    <tr>\n",
       "      <th>2018-07-01 06:00:00</th>\n",
       "      <td>3156</td>\n",
       "    </tr>\n",
       "    <tr>\n",
       "      <th>2018-07-01 07:00:00</th>\n",
       "      <td>3332</td>\n",
       "    </tr>\n",
       "    <tr>\n",
       "      <th>2018-07-01 08:00:00</th>\n",
       "      <td>3679</td>\n",
       "    </tr>\n",
       "    <tr>\n",
       "      <th>2018-07-01 09:00:00</th>\n",
       "      <td>4085</td>\n",
       "    </tr>\n",
       "    <tr>\n",
       "      <th>...</th>\n",
       "      <td>...</td>\n",
       "    </tr>\n",
       "    <tr>\n",
       "      <th>2023-11-01 00:00:00</th>\n",
       "      <td>3009</td>\n",
       "    </tr>\n",
       "    <tr>\n",
       "      <th>2023-11-01 01:00:00</th>\n",
       "      <td>2977</td>\n",
       "    </tr>\n",
       "    <tr>\n",
       "      <th>2023-11-01 02:00:00</th>\n",
       "      <td>2918</td>\n",
       "    </tr>\n",
       "    <tr>\n",
       "      <th>2023-11-01 03:00:00</th>\n",
       "      <td>2771</td>\n",
       "    </tr>\n",
       "    <tr>\n",
       "      <th>2023-11-01 04:00:00</th>\n",
       "      <td>2613</td>\n",
       "    </tr>\n",
       "  </tbody>\n",
       "</table>\n",
       "<p>44904 rows × 1 columns</p>\n",
       "</div>"
      ],
      "text/plain": [
       "                      PEP\n",
       "period                   \n",
       "2018-07-01 05:00:00  3165\n",
       "2018-07-01 06:00:00  3156\n",
       "2018-07-01 07:00:00  3332\n",
       "2018-07-01 08:00:00  3679\n",
       "2018-07-01 09:00:00  4085\n",
       "...                   ...\n",
       "2023-11-01 00:00:00  3009\n",
       "2023-11-01 01:00:00  2977\n",
       "2023-11-01 02:00:00  2918\n",
       "2023-11-01 03:00:00  2771\n",
       "2023-11-01 04:00:00  2613\n",
       "\n",
       "[44904 rows x 1 columns]"
      ]
     },
     "execution_count": 5,
     "metadata": {},
     "output_type": "execute_result"
    }
   ],
   "source": [
    "df = df_base.loc[:, [region]]\n",
    "df"
   ]
  },
  {
   "attachments": {},
   "cell_type": "markdown",
   "id": "9df74c83",
   "metadata": {
    "papermill": {
     "duration": 0.005555,
     "end_time": "2023-11-26T17:26:05.335221",
     "exception": false,
     "start_time": "2023-11-26T17:26:05.329666",
     "status": "completed"
    },
    "tags": []
   },
   "source": [
    "## Data Preprocessing"
   ]
  },
  {
   "attachments": {},
   "cell_type": "markdown",
   "id": "9a03f4da",
   "metadata": {
    "papermill": {
     "duration": 0.02569,
     "end_time": "2023-11-26T17:26:05.384833",
     "exception": false,
     "start_time": "2023-11-26T17:26:05.359143",
     "status": "completed"
    },
    "tags": []
   },
   "source": [
    "### Scale Data"
   ]
  },
  {
   "cell_type": "code",
   "execution_count": 6,
   "id": "f2b7ed15",
   "metadata": {
    "execution": {
     "iopub.execute_input": "2023-11-26T17:26:05.400167Z",
     "iopub.status.busy": "2023-11-26T17:26:05.399778Z",
     "iopub.status.idle": "2023-11-26T17:26:06.009640Z",
     "shell.execute_reply": "2023-11-26T17:26:06.008937Z"
    },
    "papermill": {
     "duration": 0.618637,
     "end_time": "2023-11-26T17:26:06.011721",
     "exception": false,
     "start_time": "2023-11-26T17:26:05.393084",
     "status": "completed"
    },
    "tags": []
   },
   "outputs": [],
   "source": [
    "from sklearn.preprocessing import MinMaxScaler\n",
    "\n",
    "# Normalize data\n",
    "scaler = MinMaxScaler(feature_range=(0, 1))\n",
    "data_norm = scaler.fit_transform(df)"
   ]
  },
  {
   "attachments": {},
   "cell_type": "markdown",
   "id": "b70cfbd7",
   "metadata": {
    "papermill": {
     "duration": 0.005132,
     "end_time": "2023-11-26T17:26:06.020969",
     "exception": false,
     "start_time": "2023-11-26T17:26:06.015837",
     "status": "completed"
    },
    "tags": []
   },
   "source": [
    "### Train Test Split"
   ]
  },
  {
   "cell_type": "code",
   "execution_count": 7,
   "id": "a8be360d",
   "metadata": {
    "execution": {
     "iopub.execute_input": "2023-11-26T17:26:06.031610Z",
     "iopub.status.busy": "2023-11-26T17:26:06.031138Z",
     "iopub.status.idle": "2023-11-26T17:26:06.082587Z",
     "shell.execute_reply": "2023-11-26T17:26:06.081971Z"
    },
    "papermill": {
     "duration": 0.059634,
     "end_time": "2023-11-26T17:26:06.084956",
     "exception": false,
     "start_time": "2023-11-26T17:26:06.025322",
     "status": "completed"
    },
    "tags": []
   },
   "outputs": [],
   "source": [
    "from sklearn.model_selection import train_test_split\n",
    "\n",
    "train, test = train_test_split(data_norm, test_size=0.2, shuffle=False)"
   ]
  },
  {
   "attachments": {},
   "cell_type": "markdown",
   "id": "88900b02",
   "metadata": {
    "papermill": {
     "duration": 0.004568,
     "end_time": "2023-11-26T17:26:06.094935",
     "exception": false,
     "start_time": "2023-11-26T17:26:06.090367",
     "status": "completed"
    },
    "tags": []
   },
   "source": [
    "### Create Sequences"
   ]
  },
  {
   "cell_type": "code",
   "execution_count": 8,
   "id": "dd6a2374",
   "metadata": {
    "execution": {
     "iopub.execute_input": "2023-11-26T17:26:06.105357Z",
     "iopub.status.busy": "2023-11-26T17:26:06.104978Z",
     "iopub.status.idle": "2023-11-26T17:26:06.181310Z",
     "shell.execute_reply": "2023-11-26T17:26:06.180366Z"
    },
    "papermill": {
     "duration": 0.084791,
     "end_time": "2023-11-26T17:26:06.184042",
     "exception": false,
     "start_time": "2023-11-26T17:26:06.099251",
     "status": "completed"
    },
    "tags": []
   },
   "outputs": [],
   "source": [
    "import numpy as np\n",
    "\n",
    "def create_sequences(data, sequence_length):\n",
    "    X, y = [], []\n",
    "    for i in range(len(data) - sequence_length):\n",
    "        X.append(data[i:i+sequence_length])\n",
    "        y.append(data[i+sequence_length])\n",
    "    return np.array(X), np.array(y)\n",
    "\n",
    "sequence_length = 24 # Use 24 hours prior to predict the following hour\n",
    "X_train, y_train = create_sequences(train, sequence_length)\n",
    "X_test, y_test = create_sequences(test, sequence_length)"
   ]
  },
  {
   "attachments": {},
   "cell_type": "markdown",
   "id": "0771b166",
   "metadata": {
    "papermill": {
     "duration": 0.00423,
     "end_time": "2023-11-26T17:26:06.193147",
     "exception": false,
     "start_time": "2023-11-26T17:26:06.188917",
     "status": "completed"
    },
    "tags": []
   },
   "source": [
    "## Modelling"
   ]
  },
  {
   "attachments": {},
   "cell_type": "markdown",
   "id": "68367d68",
   "metadata": {
    "papermill": {
     "duration": 0.005568,
     "end_time": "2023-11-26T17:26:06.203067",
     "exception": false,
     "start_time": "2023-11-26T17:26:06.197499",
     "status": "completed"
    },
    "tags": []
   },
   "source": [
    "### Design NN Architecture"
   ]
  },
  {
   "cell_type": "code",
   "execution_count": 9,
   "id": "4f6f2971",
   "metadata": {
    "execution": {
     "iopub.execute_input": "2023-11-26T17:26:06.212799Z",
     "iopub.status.busy": "2023-11-26T17:26:06.212436Z",
     "iopub.status.idle": "2023-11-26T17:26:11.466924Z",
     "shell.execute_reply": "2023-11-26T17:26:11.465876Z"
    },
    "papermill": {
     "duration": 5.262004,
     "end_time": "2023-11-26T17:26:11.469470",
     "exception": false,
     "start_time": "2023-11-26T17:26:06.207466",
     "status": "completed"
    },
    "tags": []
   },
   "outputs": [
    {
     "name": "stderr",
     "output_type": "stream",
     "text": [
      "2023-11-26 18:26:08.498322: I tensorflow/core/platform/cpu_feature_guard.cc:182] This TensorFlow binary is optimized to use available CPU instructions in performance-critical operations.\n",
      "To enable the following instructions: AVX2 FMA, in other operations, rebuild TensorFlow with the appropriate compiler flags.\n"
     ]
    }
   ],
   "source": [
    "from keras.models import Sequential\n",
    "from keras.layers import LSTM, Dense\n",
    "\n",
    "model = Sequential()\n",
    "model.add(LSTM(50, input_shape=(X_train.shape[1], X_train.shape[2])))\n",
    "model.add(Dense(1))\n",
    "model.compile(optimizer='adam', loss='mean_squared_error')"
   ]
  },
  {
   "attachments": {},
   "cell_type": "markdown",
   "id": "80f60ca8",
   "metadata": {
    "papermill": {
     "duration": 0.004361,
     "end_time": "2023-11-26T17:26:11.478791",
     "exception": false,
     "start_time": "2023-11-26T17:26:11.474430",
     "status": "completed"
    },
    "tags": []
   },
   "source": [
    "### Train Model"
   ]
  },
  {
   "cell_type": "code",
   "execution_count": 10,
   "id": "5921f5d9",
   "metadata": {
    "execution": {
     "iopub.execute_input": "2023-11-26T17:26:11.490009Z",
     "iopub.status.busy": "2023-11-26T17:26:11.489702Z",
     "iopub.status.idle": "2023-11-26T17:29:02.035415Z",
     "shell.execute_reply": "2023-11-26T17:29:02.034651Z"
    },
    "papermill": {
     "duration": 170.554633,
     "end_time": "2023-11-26T17:29:02.037737",
     "exception": false,
     "start_time": "2023-11-26T17:26:11.483104",
     "status": "completed"
    },
    "tags": []
   },
   "outputs": [],
   "source": [
    "from keras.callbacks import EarlyStopping\n",
    "\n",
    "early_stop = EarlyStopping(monitor='val_loss', patience=5)\n",
    "\n",
    "history = model.fit(\n",
    "    X_train, y_train, epochs=50, batch_size=64, verbose=0,\n",
    "    validation_data=(X_test, y_test), callbacks=[early_stop])"
   ]
  },
  {
   "attachments": {},
   "cell_type": "markdown",
   "id": "393cde77",
   "metadata": {
    "papermill": {
     "duration": 0.006076,
     "end_time": "2023-11-26T17:29:02.049120",
     "exception": false,
     "start_time": "2023-11-26T17:29:02.043044",
     "status": "completed"
    },
    "tags": []
   },
   "source": [
    "### Calculate Predictions"
   ]
  },
  {
   "cell_type": "code",
   "execution_count": 11,
   "id": "58e9c2d5",
   "metadata": {
    "execution": {
     "iopub.execute_input": "2023-11-26T17:29:02.059265Z",
     "iopub.status.busy": "2023-11-26T17:29:02.058962Z",
     "iopub.status.idle": "2023-11-26T17:29:03.322754Z",
     "shell.execute_reply": "2023-11-26T17:29:03.322155Z"
    },
    "papermill": {
     "duration": 1.270751,
     "end_time": "2023-11-26T17:29:03.324396",
     "exception": false,
     "start_time": "2023-11-26T17:29:02.053645",
     "status": "completed"
    },
    "tags": []
   },
   "outputs": [
    {
     "name": "stdout",
     "output_type": "stream",
     "text": [
      "\r",
      "  1/280 [..............................] - ETA: 1:47"
     ]
    },
    {
     "name": "stdout",
     "output_type": "stream",
     "text": [
      "\b\b\b\b\b\b\b\b\b\b\b\b\b\b\b\b\b\b\b\b\b\b\b\b\b\b\b\b\b\b\b\b\b\b\b\b\b\b\b\b\b\b\b\b\b\b\b\b\b\b\b\b\r",
      " 21/280 [=>............................] - ETA: 0s  "
     ]
    },
    {
     "name": "stdout",
     "output_type": "stream",
     "text": [
      "\b\b\b\b\b\b\b\b\b\b\b\b\b\b\b\b\b\b\b\b\b\b\b\b\b\b\b\b\b\b\b\b\b\b\b\b\b\b\b\b\b\b\b\b\b\b\b\b\b\b\r",
      " 35/280 [==>...........................] - ETA: 0s"
     ]
    },
    {
     "name": "stdout",
     "output_type": "stream",
     "text": [
      "\b\b\b\b\b\b\b\b\b\b\b\b\b\b\b\b\b\b\b\b\b\b\b\b\b\b\b\b\b\b\b\b\b\b\b\b\b\b\b\b\b\b\b\b\b\b\b\b\b\b\r",
      " 49/280 [====>.........................] - ETA: 0s"
     ]
    },
    {
     "name": "stdout",
     "output_type": "stream",
     "text": [
      "\b\b\b\b\b\b\b\b\b\b\b\b\b\b\b\b\b\b\b\b\b\b\b\b\b\b\b\b\b\b\b\b\b\b\b\b\b\b\b\b\b\b\b\b\b\b\b\b\b\b\r",
      " 68/280 [======>.......................] - ETA: 0s"
     ]
    },
    {
     "name": "stdout",
     "output_type": "stream",
     "text": [
      "\b\b\b\b\b\b\b\b\b\b\b\b\b\b\b\b\b\b\b\b\b\b\b\b\b\b\b\b\b\b\b\b\b\b\b\b\b\b\b\b\b\b\b\b\b\b\b\b\b\b\r",
      " 88/280 [========>.....................] - ETA: 0s"
     ]
    },
    {
     "name": "stdout",
     "output_type": "stream",
     "text": [
      "\b\b\b\b\b\b\b\b\b\b\b\b\b\b\b\b\b\b\b\b\b\b\b\b\b\b\b\b\b\b\b\b\b\b\b\b\b\b\b\b\b\b\b\b\b\b\b\b\b\b\r",
      "109/280 [==========>...................] - ETA: 0s"
     ]
    },
    {
     "name": "stdout",
     "output_type": "stream",
     "text": [
      "\b\b\b\b\b\b\b\b\b\b\b\b\b\b\b\b\b\b\b\b\b\b\b\b\b\b\b\b\b\b\b\b\b\b\b\b\b\b\b\b\b\b\b\b\b\b\b\b\b\b\r",
      "130/280 [============>.................] - ETA: 0s"
     ]
    },
    {
     "name": "stdout",
     "output_type": "stream",
     "text": [
      "\b\b\b\b\b\b\b\b\b\b\b\b\b\b\b\b\b\b\b\b\b\b\b\b\b\b\b\b\b\b\b\b\b\b\b\b\b\b\b\b\b\b\b\b\b\b\b\b\b\b\r",
      "150/280 [===============>..............] - ETA: 0s"
     ]
    },
    {
     "name": "stdout",
     "output_type": "stream",
     "text": [
      "\b\b\b\b\b\b\b\b\b\b\b\b\b\b\b\b\b\b\b\b\b\b\b\b\b\b\b\b\b\b\b\b\b\b\b\b\b\b\b\b\b\b\b\b\b\b\b\b\b\b\r",
      "171/280 [=================>............] - ETA: 0s"
     ]
    },
    {
     "name": "stdout",
     "output_type": "stream",
     "text": [
      "\b\b\b\b\b\b\b\b\b\b\b\b\b\b\b\b\b\b\b\b\b\b\b\b\b\b\b\b\b\b\b\b\b\b\b\b\b\b\b\b\b\b\b\b\b\b\b\b\b\b\r",
      "192/280 [===================>..........] - ETA: 0s"
     ]
    },
    {
     "name": "stdout",
     "output_type": "stream",
     "text": [
      "\b\b\b\b\b\b\b\b\b\b\b\b\b\b\b\b\b\b\b\b\b\b\b\b\b\b\b\b\b\b\b\b\b\b\b\b\b\b\b\b\b\b\b\b\b\b\b\b\b\b\r",
      "211/280 [=====================>........] - ETA: 0s"
     ]
    },
    {
     "name": "stdout",
     "output_type": "stream",
     "text": [
      "\b\b\b\b\b\b\b\b\b\b\b\b\b\b\b\b\b\b\b\b\b\b\b\b\b\b\b\b\b\b\b\b\b\b\b\b\b\b\b\b\b\b\b\b\b\b\b\b\b\b\r",
      "232/280 [=======================>......] - ETA: 0s"
     ]
    },
    {
     "name": "stdout",
     "output_type": "stream",
     "text": [
      "\b\b\b\b\b\b\b\b\b\b\b\b\b\b\b\b\b\b\b\b\b\b\b\b\b\b\b\b\b\b\b\b\b\b\b\b\b\b\b\b\b\b\b\b\b\b\b\b\b\b\r",
      "253/280 [==========================>...] - ETA: 0s"
     ]
    },
    {
     "name": "stdout",
     "output_type": "stream",
     "text": [
      "\b\b\b\b\b\b\b\b\b\b\b\b\b\b\b\b\b\b\b\b\b\b\b\b\b\b\b\b\b\b\b\b\b\b\b\b\b\b\b\b\b\b\b\b\b\b\b\b\b\b\r",
      "274/280 [============================>.] - ETA: 0s"
     ]
    },
    {
     "name": "stdout",
     "output_type": "stream",
     "text": [
      "\b\b\b\b\b\b\b\b\b\b\b\b\b\b\b\b\b\b\b\b\b\b\b\b\b\b\b\b\b\b\b\b\b\b\b\b\b\b\b\b\b\b\b\b\b\b\b\b\b\b\r",
      "280/280 [==============================] - 1s 3ms/step\n"
     ]
    },
    {
     "data": {
      "text/plain": [
       "array([[0.23266797],\n",
       "       [0.18843797],\n",
       "       [0.1747806 ],\n",
       "       ...,\n",
       "       [0.20670408],\n",
       "       [0.18887997],\n",
       "       [0.14828296]], dtype=float32)"
      ]
     },
     "execution_count": 11,
     "metadata": {},
     "output_type": "execute_result"
    }
   ],
   "source": [
    "y_pred = model.predict(X_test)\n",
    "y_pred"
   ]
  },
  {
   "attachments": {},
   "cell_type": "markdown",
   "id": "bce31636",
   "metadata": {
    "papermill": {
     "duration": 0.006428,
     "end_time": "2023-11-26T17:29:03.337479",
     "exception": false,
     "start_time": "2023-11-26T17:29:03.331051",
     "status": "completed"
    },
    "tags": []
   },
   "source": [
    "### Comparison: Real Data & Prediction"
   ]
  },
  {
   "attachments": {},
   "cell_type": "markdown",
   "id": "a755ed35",
   "metadata": {
    "papermill": {
     "duration": 0.025323,
     "end_time": "2023-11-26T17:29:03.367717",
     "exception": false,
     "start_time": "2023-11-26T17:29:03.342394",
     "status": "completed"
    },
    "tags": []
   },
   "source": [
    "#### Descale Data"
   ]
  },
  {
   "cell_type": "code",
   "execution_count": 12,
   "id": "f09b9746",
   "metadata": {
    "execution": {
     "iopub.execute_input": "2023-11-26T17:29:03.398803Z",
     "iopub.status.busy": "2023-11-26T17:29:03.398377Z",
     "iopub.status.idle": "2023-11-26T17:29:03.402957Z",
     "shell.execute_reply": "2023-11-26T17:29:03.402256Z"
    },
    "papermill": {
     "duration": 0.013695,
     "end_time": "2023-11-26T17:29:03.404716",
     "exception": false,
     "start_time": "2023-11-26T17:29:03.391021",
     "status": "completed"
    },
    "tags": []
   },
   "outputs": [],
   "source": [
    "y_pred_scaled_inverse = scaler.inverse_transform(y_pred)\n",
    "y_true = scaler.inverse_transform(y_test)"
   ]
  },
  {
   "attachments": {},
   "cell_type": "markdown",
   "id": "5d57976b",
   "metadata": {
    "papermill": {
     "duration": 0.00629,
     "end_time": "2023-11-26T17:29:03.415915",
     "exception": false,
     "start_time": "2023-11-26T17:29:03.409625",
     "status": "completed"
    },
    "tags": []
   },
   "source": [
    "#### Create DataFrame"
   ]
  },
  {
   "cell_type": "code",
   "execution_count": 13,
   "id": "a04af97d",
   "metadata": {
    "execution": {
     "iopub.execute_input": "2023-11-26T17:29:03.428058Z",
     "iopub.status.busy": "2023-11-26T17:29:03.427749Z",
     "iopub.status.idle": "2023-11-26T17:29:03.438808Z",
     "shell.execute_reply": "2023-11-26T17:29:03.438264Z"
    },
    "papermill": {
     "duration": 0.019514,
     "end_time": "2023-11-26T17:29:03.440541",
     "exception": false,
     "start_time": "2023-11-26T17:29:03.421027",
     "status": "completed"
    },
    "tags": []
   },
   "outputs": [
    {
     "data": {
      "text/html": [
       "<div>\n",
       "<style scoped>\n",
       "    .dataframe tbody tr th:only-of-type {\n",
       "        vertical-align: middle;\n",
       "    }\n",
       "\n",
       "    .dataframe tbody tr th {\n",
       "        vertical-align: top;\n",
       "    }\n",
       "\n",
       "    .dataframe thead th {\n",
       "        text-align: right;\n",
       "    }\n",
       "</style>\n",
       "<table border=\"1\" class=\"dataframe\">\n",
       "  <thead>\n",
       "    <tr style=\"text-align: right;\">\n",
       "      <th></th>\n",
       "      <th>y_pred</th>\n",
       "      <th>y_pred_scaled_inverse</th>\n",
       "      <th>y_true</th>\n",
       "    </tr>\n",
       "  </thead>\n",
       "  <tbody>\n",
       "    <tr>\n",
       "      <th>0</th>\n",
       "      <td>0.232668</td>\n",
       "      <td>2969.150146</td>\n",
       "      <td>2918.0</td>\n",
       "    </tr>\n",
       "    <tr>\n",
       "      <th>1</th>\n",
       "      <td>0.188438</td>\n",
       "      <td>2777.501709</td>\n",
       "      <td>2840.0</td>\n",
       "    </tr>\n",
       "    <tr>\n",
       "      <th>2</th>\n",
       "      <td>0.174781</td>\n",
       "      <td>2718.324463</td>\n",
       "      <td>2731.0</td>\n",
       "    </tr>\n",
       "    <tr>\n",
       "      <th>3</th>\n",
       "      <td>0.151703</td>\n",
       "      <td>2618.329834</td>\n",
       "      <td>2611.0</td>\n",
       "    </tr>\n",
       "    <tr>\n",
       "      <th>4</th>\n",
       "      <td>0.127484</td>\n",
       "      <td>2513.385986</td>\n",
       "      <td>2509.0</td>\n",
       "    </tr>\n",
       "    <tr>\n",
       "      <th>...</th>\n",
       "      <td>...</td>\n",
       "      <td>...</td>\n",
       "      <td>...</td>\n",
       "    </tr>\n",
       "    <tr>\n",
       "      <th>8952</th>\n",
       "      <td>0.253302</td>\n",
       "      <td>3058.555908</td>\n",
       "      <td>3009.0</td>\n",
       "    </tr>\n",
       "    <tr>\n",
       "      <th>8953</th>\n",
       "      <td>0.226380</td>\n",
       "      <td>2941.905273</td>\n",
       "      <td>2977.0</td>\n",
       "    </tr>\n",
       "    <tr>\n",
       "      <th>8954</th>\n",
       "      <td>0.206704</td>\n",
       "      <td>2856.648926</td>\n",
       "      <td>2918.0</td>\n",
       "    </tr>\n",
       "    <tr>\n",
       "      <th>8955</th>\n",
       "      <td>0.188880</td>\n",
       "      <td>2779.416992</td>\n",
       "      <td>2771.0</td>\n",
       "    </tr>\n",
       "    <tr>\n",
       "      <th>8956</th>\n",
       "      <td>0.148283</td>\n",
       "      <td>2603.510010</td>\n",
       "      <td>2613.0</td>\n",
       "    </tr>\n",
       "  </tbody>\n",
       "</table>\n",
       "<p>8957 rows × 3 columns</p>\n",
       "</div>"
      ],
      "text/plain": [
       "        y_pred  y_pred_scaled_inverse  y_true\n",
       "0     0.232668            2969.150146  2918.0\n",
       "1     0.188438            2777.501709  2840.0\n",
       "2     0.174781            2718.324463  2731.0\n",
       "3     0.151703            2618.329834  2611.0\n",
       "4     0.127484            2513.385986  2509.0\n",
       "...        ...                    ...     ...\n",
       "8952  0.253302            3058.555908  3009.0\n",
       "8953  0.226380            2941.905273  2977.0\n",
       "8954  0.206704            2856.648926  2918.0\n",
       "8955  0.188880            2779.416992  2771.0\n",
       "8956  0.148283            2603.510010  2613.0\n",
       "\n",
       "[8957 rows x 3 columns]"
      ]
     },
     "execution_count": 13,
     "metadata": {},
     "output_type": "execute_result"
    }
   ],
   "source": [
    "dic_pred = {\n",
    "    'y_pred': y_pred.flatten(),\n",
    "    'y_pred_scaled_inverse': y_pred_scaled_inverse.flatten(),\n",
    "    'y_true': y_true.flatten(),\n",
    "}\n",
    "\n",
    "df_pred = pd.DataFrame(dic_pred)\n",
    "df_pred"
   ]
  },
  {
   "attachments": {},
   "cell_type": "markdown",
   "id": "5115c602",
   "metadata": {
    "papermill": {
     "duration": 0.024475,
     "end_time": "2023-11-26T17:29:03.471797",
     "exception": false,
     "start_time": "2023-11-26T17:29:03.447322",
     "status": "completed"
    },
    "tags": []
   },
   "source": [
    "#### Evaluate Model"
   ]
  },
  {
   "cell_type": "code",
   "execution_count": 14,
   "id": "b780addf",
   "metadata": {
    "execution": {
     "iopub.execute_input": "2023-11-26T17:29:03.486572Z",
     "iopub.status.busy": "2023-11-26T17:29:03.486241Z",
     "iopub.status.idle": "2023-11-26T17:29:03.489665Z",
     "shell.execute_reply": "2023-11-26T17:29:03.489051Z"
    },
    "papermill": {
     "duration": 0.013567,
     "end_time": "2023-11-26T17:29:03.491346",
     "exception": false,
     "start_time": "2023-11-26T17:29:03.477779",
     "status": "completed"
    },
    "tags": []
   },
   "outputs": [],
   "source": [
    "from sklearn.metrics import mean_squared_error"
   ]
  },
  {
   "cell_type": "code",
   "execution_count": 15,
   "id": "a03ecd63",
   "metadata": {
    "execution": {
     "iopub.execute_input": "2023-11-26T17:29:03.504040Z",
     "iopub.status.busy": "2023-11-26T17:29:03.503692Z",
     "iopub.status.idle": "2023-11-26T17:29:03.510265Z",
     "shell.execute_reply": "2023-11-26T17:29:03.509091Z"
    },
    "papermill": {
     "duration": 0.016437,
     "end_time": "2023-11-26T17:29:03.512922",
     "exception": false,
     "start_time": "2023-11-26T17:29:03.496485",
     "status": "completed"
    },
    "tags": []
   },
   "outputs": [
    {
     "data": {
      "text/plain": [
       "49.92551953818154"
      ]
     },
     "execution_count": 15,
     "metadata": {},
     "output_type": "execute_result"
    }
   ],
   "source": [
    "mean_squared_error(df_pred.y_true, df_pred.y_pred_scaled_inverse, squared=False)"
   ]
  },
  {
   "cell_type": "code",
   "execution_count": 16,
   "id": "0ac1c22e",
   "metadata": {
    "execution": {
     "iopub.execute_input": "2023-11-26T17:29:03.525232Z",
     "iopub.status.busy": "2023-11-26T17:29:03.524956Z",
     "iopub.status.idle": "2023-11-26T17:29:03.575428Z",
     "shell.execute_reply": "2023-11-26T17:29:03.574386Z"
    },
    "papermill": {
     "duration": 0.059705,
     "end_time": "2023-11-26T17:29:03.578474",
     "exception": false,
     "start_time": "2023-11-26T17:29:03.518769",
     "status": "completed"
    },
    "tags": []
   },
   "outputs": [],
   "source": [
    "model.save(f'../models/{region}.keras')"
   ]
  }
 ],
 "metadata": {
  "kernelspec": {
   "display_name": "deep-learning",
   "language": "python",
   "name": "python3"
  },
  "language_info": {
   "codemirror_mode": {
    "name": "ipython",
    "version": 3
   },
   "file_extension": ".py",
   "mimetype": "text/x-python",
   "name": "python",
   "nbconvert_exporter": "python",
   "pygments_lexer": "ipython3",
   "version": "3.9.18"
  },
  "papermill": {
   "default_parameters": {},
   "duration": 181.248642,
   "end_time": "2023-11-26T17:29:04.616958",
   "environment_variables": {},
   "exception": null,
   "input_path": "Modelling.ipynb",
   "output_path": "outputs/PEP.ipynb",
   "parameters": {
    "region": "PEP"
   },
   "start_time": "2023-11-26T17:26:03.368316",
   "version": "2.5.0"
  }
 },
 "nbformat": 4,
 "nbformat_minor": 5
}