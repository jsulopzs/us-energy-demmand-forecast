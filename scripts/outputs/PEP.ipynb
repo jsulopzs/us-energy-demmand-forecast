{
 "cells": [
  {
   "attachments": {},
   "cell_type": "markdown",
   "id": "5f3f0302",
   "metadata": {
    "papermill": {
     "duration": 0.001029,
     "end_time": "2023-12-13T13:36:52.755618",
     "exception": false,
     "start_time": "2023-12-13T13:36:52.754589",
     "status": "completed"
    },
    "tags": []
   },
   "source": [
    "## Load data"
   ]
  },
  {
   "cell_type": "code",
   "execution_count": 1,
   "id": "0532a099",
   "metadata": {
    "execution": {
     "iopub.execute_input": "2023-12-13T13:36:52.772891Z",
     "iopub.status.busy": "2023-12-13T13:36:52.772891Z",
     "iopub.status.idle": "2023-12-13T13:36:53.145084Z",
     "shell.execute_reply": "2023-12-13T13:36:53.145084Z"
    },
    "papermill": {
     "duration": 0.389466,
     "end_time": "2023-12-13T13:36:53.145084",
     "exception": false,
     "start_time": "2023-12-13T13:36:52.755618",
     "status": "completed"
    },
    "tags": []
   },
   "outputs": [],
   "source": [
    "import pandas as pd"
   ]
  },
  {
   "cell_type": "code",
   "execution_count": 2,
   "id": "36e50bae",
   "metadata": {
    "execution": {
     "iopub.execute_input": "2023-12-13T13:36:53.162185Z",
     "iopub.status.busy": "2023-12-13T13:36:53.162185Z",
     "iopub.status.idle": "2023-12-13T13:36:53.289900Z",
     "shell.execute_reply": "2023-12-13T13:36:53.288899Z"
    },
    "papermill": {
     "duration": 0.146816,
     "end_time": "2023-12-13T13:36:53.291900",
     "exception": false,
     "start_time": "2023-12-13T13:36:53.145084",
     "status": "completed"
    },
    "tags": []
   },
   "outputs": [
    {
     "data": {
      "text/html": [
       "<div>\n",
       "<style scoped>\n",
       "    .dataframe tbody tr th:only-of-type {\n",
       "        vertical-align: middle;\n",
       "    }\n",
       "\n",
       "    .dataframe tbody tr th {\n",
       "        vertical-align: top;\n",
       "    }\n",
       "\n",
       "    .dataframe thead th {\n",
       "        text-align: right;\n",
       "    }\n",
       "</style>\n",
       "<table border=\"1\" class=\"dataframe\">\n",
       "  <thead>\n",
       "    <tr style=\"text-align: right;\">\n",
       "      <th></th>\n",
       "      <th>AE</th>\n",
       "      <th>AEP</th>\n",
       "      <th>AP</th>\n",
       "      <th>ATSI</th>\n",
       "      <th>BC</th>\n",
       "      <th>CE</th>\n",
       "      <th>DAY</th>\n",
       "      <th>DEOK</th>\n",
       "      <th>DOM</th>\n",
       "      <th>DPL</th>\n",
       "      <th>DUQ</th>\n",
       "      <th>EKPC</th>\n",
       "      <th>JC</th>\n",
       "      <th>ME</th>\n",
       "      <th>PE</th>\n",
       "      <th>PEP</th>\n",
       "      <th>PL</th>\n",
       "      <th>PN</th>\n",
       "      <th>PS</th>\n",
       "      <th>RECO</th>\n",
       "    </tr>\n",
       "    <tr>\n",
       "      <th>period</th>\n",
       "      <th></th>\n",
       "      <th></th>\n",
       "      <th></th>\n",
       "      <th></th>\n",
       "      <th></th>\n",
       "      <th></th>\n",
       "      <th></th>\n",
       "      <th></th>\n",
       "      <th></th>\n",
       "      <th></th>\n",
       "      <th></th>\n",
       "      <th></th>\n",
       "      <th></th>\n",
       "      <th></th>\n",
       "      <th></th>\n",
       "      <th></th>\n",
       "      <th></th>\n",
       "      <th></th>\n",
       "      <th></th>\n",
       "      <th></th>\n",
       "    </tr>\n",
       "  </thead>\n",
       "  <tbody>\n",
       "    <tr>\n",
       "      <th>2018-07-01 05:00:00</th>\n",
       "      <td>1301</td>\n",
       "      <td>12187</td>\n",
       "      <td>4384</td>\n",
       "      <td>6960</td>\n",
       "      <td>3134</td>\n",
       "      <td>12136</td>\n",
       "      <td>1619</td>\n",
       "      <td>2895</td>\n",
       "      <td>9775</td>\n",
       "      <td>1919</td>\n",
       "      <td>1466</td>\n",
       "      <td>1209</td>\n",
       "      <td>2388</td>\n",
       "      <td>1442</td>\n",
       "      <td>4397</td>\n",
       "      <td>3165</td>\n",
       "      <td>3835</td>\n",
       "      <td>1611</td>\n",
       "      <td>5009</td>\n",
       "      <td>186</td>\n",
       "    </tr>\n",
       "    <tr>\n",
       "      <th>2018-07-01 06:00:00</th>\n",
       "      <td>1314</td>\n",
       "      <td>11946</td>\n",
       "      <td>4391</td>\n",
       "      <td>6762</td>\n",
       "      <td>3139</td>\n",
       "      <td>11872</td>\n",
       "      <td>1605</td>\n",
       "      <td>2857</td>\n",
       "      <td>9787</td>\n",
       "      <td>1950</td>\n",
       "      <td>1455</td>\n",
       "      <td>1197</td>\n",
       "      <td>2416</td>\n",
       "      <td>1465</td>\n",
       "      <td>4423</td>\n",
       "      <td>3156</td>\n",
       "      <td>3901</td>\n",
       "      <td>1641</td>\n",
       "      <td>4990</td>\n",
       "      <td>187</td>\n",
       "    </tr>\n",
       "    <tr>\n",
       "      <th>2018-07-01 07:00:00</th>\n",
       "      <td>1410</td>\n",
       "      <td>12664</td>\n",
       "      <td>4757</td>\n",
       "      <td>6670</td>\n",
       "      <td>3377</td>\n",
       "      <td>11992</td>\n",
       "      <td>1707</td>\n",
       "      <td>2997</td>\n",
       "      <td>10453</td>\n",
       "      <td>2160</td>\n",
       "      <td>1528</td>\n",
       "      <td>1273</td>\n",
       "      <td>2644</td>\n",
       "      <td>1605</td>\n",
       "      <td>4743</td>\n",
       "      <td>3332</td>\n",
       "      <td>4232</td>\n",
       "      <td>1728</td>\n",
       "      <td>5267</td>\n",
       "      <td>202</td>\n",
       "    </tr>\n",
       "    <tr>\n",
       "      <th>2018-07-01 08:00:00</th>\n",
       "      <td>1567</td>\n",
       "      <td>14069</td>\n",
       "      <td>5308</td>\n",
       "      <td>7065</td>\n",
       "      <td>3788</td>\n",
       "      <td>12860</td>\n",
       "      <td>1916</td>\n",
       "      <td>3331</td>\n",
       "      <td>11734</td>\n",
       "      <td>2470</td>\n",
       "      <td>1688</td>\n",
       "      <td>1472</td>\n",
       "      <td>3064</td>\n",
       "      <td>1784</td>\n",
       "      <td>5230</td>\n",
       "      <td>3679</td>\n",
       "      <td>4613</td>\n",
       "      <td>1899</td>\n",
       "      <td>5735</td>\n",
       "      <td>230</td>\n",
       "    </tr>\n",
       "    <tr>\n",
       "      <th>2018-07-01 09:00:00</th>\n",
       "      <td>1749</td>\n",
       "      <td>15610</td>\n",
       "      <td>5862</td>\n",
       "      <td>7833</td>\n",
       "      <td>4262</td>\n",
       "      <td>14212</td>\n",
       "      <td>2145</td>\n",
       "      <td>3703</td>\n",
       "      <td>13084</td>\n",
       "      <td>2765</td>\n",
       "      <td>1875</td>\n",
       "      <td>1656</td>\n",
       "      <td>3569</td>\n",
       "      <td>1972</td>\n",
       "      <td>5752</td>\n",
       "      <td>4085</td>\n",
       "      <td>5014</td>\n",
       "      <td>2055</td>\n",
       "      <td>6299</td>\n",
       "      <td>259</td>\n",
       "    </tr>\n",
       "  </tbody>\n",
       "</table>\n",
       "</div>"
      ],
      "text/plain": [
       "                       AE    AEP    AP  ATSI    BC     CE   DAY  DEOK    DOM  \\\n",
       "period                                                                         \n",
       "2018-07-01 05:00:00  1301  12187  4384  6960  3134  12136  1619  2895   9775   \n",
       "2018-07-01 06:00:00  1314  11946  4391  6762  3139  11872  1605  2857   9787   \n",
       "2018-07-01 07:00:00  1410  12664  4757  6670  3377  11992  1707  2997  10453   \n",
       "2018-07-01 08:00:00  1567  14069  5308  7065  3788  12860  1916  3331  11734   \n",
       "2018-07-01 09:00:00  1749  15610  5862  7833  4262  14212  2145  3703  13084   \n",
       "\n",
       "                      DPL   DUQ  EKPC    JC    ME    PE   PEP    PL    PN  \\\n",
       "period                                                                      \n",
       "2018-07-01 05:00:00  1919  1466  1209  2388  1442  4397  3165  3835  1611   \n",
       "2018-07-01 06:00:00  1950  1455  1197  2416  1465  4423  3156  3901  1641   \n",
       "2018-07-01 07:00:00  2160  1528  1273  2644  1605  4743  3332  4232  1728   \n",
       "2018-07-01 08:00:00  2470  1688  1472  3064  1784  5230  3679  4613  1899   \n",
       "2018-07-01 09:00:00  2765  1875  1656  3569  1972  5752  4085  5014  2055   \n",
       "\n",
       "                       PS  RECO  \n",
       "period                           \n",
       "2018-07-01 05:00:00  5009   186  \n",
       "2018-07-01 06:00:00  4990   187  \n",
       "2018-07-01 07:00:00  5267   202  \n",
       "2018-07-01 08:00:00  5735   230  \n",
       "2018-07-01 09:00:00  6299   259  "
      ]
     },
     "execution_count": 2,
     "metadata": {},
     "output_type": "execute_result"
    }
   ],
   "source": [
    "df_base = pd.read_csv('../data/general/pjm_pivot.csv', index_col=0, parse_dates=True)\n",
    "df_base.head()"
   ]
  },
  {
   "attachments": {},
   "cell_type": "markdown",
   "id": "bac48004",
   "metadata": {
    "papermill": {
     "duration": 0.011403,
     "end_time": "2023-12-13T13:36:53.306361",
     "exception": false,
     "start_time": "2023-12-13T13:36:53.294958",
     "status": "completed"
    },
    "tags": []
   },
   "source": [
    "## Select region"
   ]
  },
  {
   "cell_type": "code",
   "execution_count": 3,
   "id": "2a9fce03",
   "metadata": {
    "execution": {
     "iopub.execute_input": "2023-12-13T13:36:53.324567Z",
     "iopub.status.busy": "2023-12-13T13:36:53.324028Z",
     "iopub.status.idle": "2023-12-13T13:36:53.329372Z",
     "shell.execute_reply": "2023-12-13T13:36:53.329372Z"
    },
    "papermill": {
     "duration": 0.02101,
     "end_time": "2023-12-13T13:36:53.329372",
     "exception": false,
     "start_time": "2023-12-13T13:36:53.308362",
     "status": "completed"
    },
    "tags": [
     "parameters"
    ]
   },
   "outputs": [],
   "source": [
    "region = 'AE'"
   ]
  },
  {
   "cell_type": "code",
   "execution_count": 4,
   "id": "5203f09a",
   "metadata": {
    "execution": {
     "iopub.execute_input": "2023-12-13T13:36:53.349195Z",
     "iopub.status.busy": "2023-12-13T13:36:53.349195Z",
     "iopub.status.idle": "2023-12-13T13:36:53.356516Z",
     "shell.execute_reply": "2023-12-13T13:36:53.356516Z"
    },
    "papermill": {
     "duration": 0.027144,
     "end_time": "2023-12-13T13:36:53.356516",
     "exception": false,
     "start_time": "2023-12-13T13:36:53.329372",
     "status": "completed"
    },
    "tags": [
     "injected-parameters"
    ]
   },
   "outputs": [],
   "source": [
    "# Parameters\n",
    "region = \"PEP\"\n"
   ]
  },
  {
   "cell_type": "code",
   "execution_count": 5,
   "id": "8d426270",
   "metadata": {
    "execution": {
     "iopub.execute_input": "2023-12-13T13:36:53.373293Z",
     "iopub.status.busy": "2023-12-13T13:36:53.373293Z",
     "iopub.status.idle": "2023-12-13T13:36:53.389974Z",
     "shell.execute_reply": "2023-12-13T13:36:53.388731Z"
    },
    "papermill": {
     "duration": 0.035067,
     "end_time": "2023-12-13T13:36:53.391583",
     "exception": false,
     "start_time": "2023-12-13T13:36:53.356516",
     "status": "completed"
    },
    "tags": []
   },
   "outputs": [
    {
     "data": {
      "text/html": [
       "<div>\n",
       "<style scoped>\n",
       "    .dataframe tbody tr th:only-of-type {\n",
       "        vertical-align: middle;\n",
       "    }\n",
       "\n",
       "    .dataframe tbody tr th {\n",
       "        vertical-align: top;\n",
       "    }\n",
       "\n",
       "    .dataframe thead th {\n",
       "        text-align: right;\n",
       "    }\n",
       "</style>\n",
       "<table border=\"1\" class=\"dataframe\">\n",
       "  <thead>\n",
       "    <tr style=\"text-align: right;\">\n",
       "      <th></th>\n",
       "      <th>PEP</th>\n",
       "    </tr>\n",
       "    <tr>\n",
       "      <th>period</th>\n",
       "      <th></th>\n",
       "    </tr>\n",
       "  </thead>\n",
       "  <tbody>\n",
       "    <tr>\n",
       "      <th>2018-07-01 05:00:00</th>\n",
       "      <td>3165</td>\n",
       "    </tr>\n",
       "    <tr>\n",
       "      <th>2018-07-01 06:00:00</th>\n",
       "      <td>3156</td>\n",
       "    </tr>\n",
       "    <tr>\n",
       "      <th>2018-07-01 07:00:00</th>\n",
       "      <td>3332</td>\n",
       "    </tr>\n",
       "    <tr>\n",
       "      <th>2018-07-01 08:00:00</th>\n",
       "      <td>3679</td>\n",
       "    </tr>\n",
       "    <tr>\n",
       "      <th>2018-07-01 09:00:00</th>\n",
       "      <td>4085</td>\n",
       "    </tr>\n",
       "    <tr>\n",
       "      <th>...</th>\n",
       "      <td>...</td>\n",
       "    </tr>\n",
       "    <tr>\n",
       "      <th>2023-11-01 00:00:00</th>\n",
       "      <td>3009</td>\n",
       "    </tr>\n",
       "    <tr>\n",
       "      <th>2023-11-01 01:00:00</th>\n",
       "      <td>2977</td>\n",
       "    </tr>\n",
       "    <tr>\n",
       "      <th>2023-11-01 02:00:00</th>\n",
       "      <td>2918</td>\n",
       "    </tr>\n",
       "    <tr>\n",
       "      <th>2023-11-01 03:00:00</th>\n",
       "      <td>2771</td>\n",
       "    </tr>\n",
       "    <tr>\n",
       "      <th>2023-11-01 04:00:00</th>\n",
       "      <td>2613</td>\n",
       "    </tr>\n",
       "  </tbody>\n",
       "</table>\n",
       "<p>44904 rows × 1 columns</p>\n",
       "</div>"
      ],
      "text/plain": [
       "                      PEP\n",
       "period                   \n",
       "2018-07-01 05:00:00  3165\n",
       "2018-07-01 06:00:00  3156\n",
       "2018-07-01 07:00:00  3332\n",
       "2018-07-01 08:00:00  3679\n",
       "2018-07-01 09:00:00  4085\n",
       "...                   ...\n",
       "2023-11-01 00:00:00  3009\n",
       "2023-11-01 01:00:00  2977\n",
       "2023-11-01 02:00:00  2918\n",
       "2023-11-01 03:00:00  2771\n",
       "2023-11-01 04:00:00  2613\n",
       "\n",
       "[44904 rows x 1 columns]"
      ]
     },
     "execution_count": 5,
     "metadata": {},
     "output_type": "execute_result"
    }
   ],
   "source": [
    "df = df_base.loc[:, [region]]\n",
    "df"
   ]
  },
  {
   "attachments": {},
   "cell_type": "markdown",
   "id": "3ec36b9b",
   "metadata": {
    "papermill": {
     "duration": 0.0,
     "end_time": "2023-12-13T13:36:53.391583",
     "exception": false,
     "start_time": "2023-12-13T13:36:53.391583",
     "status": "completed"
    },
    "tags": []
   },
   "source": [
    "## Data Preprocessing"
   ]
  },
  {
   "cell_type": "markdown",
   "id": "eaa61c6a",
   "metadata": {
    "papermill": {
     "duration": 0.0,
     "end_time": "2023-12-13T13:36:53.407889",
     "exception": false,
     "start_time": "2023-12-13T13:36:53.407889",
     "status": "completed"
    },
    "tags": []
   },
   "source": [
    "### Train Test Split"
   ]
  },
  {
   "cell_type": "code",
   "execution_count": 6,
   "id": "2f08e0eb",
   "metadata": {
    "execution": {
     "iopub.execute_input": "2023-12-13T13:36:53.423894Z",
     "iopub.status.busy": "2023-12-13T13:36:53.423894Z",
     "iopub.status.idle": "2023-12-13T13:36:53.872592Z",
     "shell.execute_reply": "2023-12-13T13:36:53.872412Z"
    },
    "papermill": {
     "duration": 0.450698,
     "end_time": "2023-12-13T13:36:53.874592",
     "exception": false,
     "start_time": "2023-12-13T13:36:53.423894",
     "status": "completed"
    },
    "tags": []
   },
   "outputs": [],
   "source": [
    "from sklearn.model_selection import train_test_split\n",
    "\n",
    "train, test = train_test_split(df, test_size=0.3, shuffle=False)\n",
    "test, prod = train_test_split(test, test_size=0.5, shuffle=False)"
   ]
  },
  {
   "cell_type": "markdown",
   "id": "9222ea32",
   "metadata": {
    "papermill": {
     "duration": 0.01352,
     "end_time": "2023-12-13T13:36:53.889198",
     "exception": false,
     "start_time": "2023-12-13T13:36:53.875678",
     "status": "completed"
    },
    "tags": []
   },
   "source": [
    "### Export Data"
   ]
  },
  {
   "cell_type": "code",
   "execution_count": 7,
   "id": "9d848eae",
   "metadata": {
    "execution": {
     "iopub.execute_input": "2023-12-13T13:36:53.905844Z",
     "iopub.status.busy": "2023-12-13T13:36:53.890268Z",
     "iopub.status.idle": "2023-12-13T13:36:54.018317Z",
     "shell.execute_reply": "2023-12-13T13:36:54.018317Z"
    },
    "papermill": {
     "duration": 0.130049,
     "end_time": "2023-12-13T13:36:54.020317",
     "exception": false,
     "start_time": "2023-12-13T13:36:53.890268",
     "status": "completed"
    },
    "tags": []
   },
   "outputs": [],
   "source": [
    "import os\n",
    "\n",
    "path_region = f'../data/regions/{region}'\n",
    "\n",
    "if not os.path.exists(path_region):\n",
    "    os.makedirs(path_region)\n",
    "\n",
    "for df, name in zip([train, test, prod], ['train', 'test', 'prod']):\n",
    "    df.to_csv(f'{path_region}/{name}.csv')"
   ]
  },
  {
   "attachments": {},
   "cell_type": "markdown",
   "id": "0e2f0b49",
   "metadata": {
    "papermill": {
     "duration": 0.007001,
     "end_time": "2023-12-13T13:36:54.035320",
     "exception": false,
     "start_time": "2023-12-13T13:36:54.028319",
     "status": "completed"
    },
    "tags": []
   },
   "source": [
    "### Scale Data"
   ]
  },
  {
   "cell_type": "code",
   "execution_count": 8,
   "id": "0ca7bd0d",
   "metadata": {
    "execution": {
     "iopub.execute_input": "2023-12-13T13:36:54.040321Z",
     "iopub.status.busy": "2023-12-13T13:36:54.040321Z",
     "iopub.status.idle": "2023-12-13T13:36:54.060909Z",
     "shell.execute_reply": "2023-12-13T13:36:54.060909Z"
    },
    "papermill": {
     "duration": 0.020588,
     "end_time": "2023-12-13T13:36:54.060909",
     "exception": false,
     "start_time": "2023-12-13T13:36:54.040321",
     "status": "completed"
    },
    "tags": []
   },
   "outputs": [],
   "source": [
    "from sklearn.preprocessing import MinMaxScaler\n",
    "\n",
    "scaler = MinMaxScaler(feature_range=(0, 1))\n",
    "\n",
    "train_norm = scaler.fit_transform(train)\n",
    "test_norm = scaler.transform(test)"
   ]
  },
  {
   "attachments": {},
   "cell_type": "markdown",
   "id": "a071dfa6",
   "metadata": {
    "papermill": {
     "duration": 0.014768,
     "end_time": "2023-12-13T13:36:54.075677",
     "exception": false,
     "start_time": "2023-12-13T13:36:54.060909",
     "status": "completed"
    },
    "tags": []
   },
   "source": [
    "### Create Sequences"
   ]
  },
  {
   "cell_type": "code",
   "execution_count": 9,
   "id": "7b41bffc",
   "metadata": {
    "execution": {
     "iopub.execute_input": "2023-12-13T13:36:54.092298Z",
     "iopub.status.busy": "2023-12-13T13:36:54.092298Z",
     "iopub.status.idle": "2023-12-13T13:36:54.171712Z",
     "shell.execute_reply": "2023-12-13T13:36:54.171712Z"
    },
    "papermill": {
     "duration": 0.088545,
     "end_time": "2023-12-13T13:36:54.174224",
     "exception": false,
     "start_time": "2023-12-13T13:36:54.085679",
     "status": "completed"
    },
    "tags": []
   },
   "outputs": [],
   "source": [
    "import numpy as np\n",
    "\n",
    "def create_sequences(data, sequence_length):\n",
    "    X, y = [], []\n",
    "    for i in range(len(data) - sequence_length):\n",
    "        X.append(data[i:i+sequence_length])\n",
    "        y.append(data[i+sequence_length])\n",
    "    return np.array(X), np.array(y)\n",
    "\n",
    "sequence_length = 24 # Use 24 hours prior to predict the following hour\n",
    "X_train, y_train = create_sequences(train_norm, sequence_length)\n",
    "X_test, y_test = create_sequences(test_norm, sequence_length)"
   ]
  },
  {
   "attachments": {},
   "cell_type": "markdown",
   "id": "adfd4a98",
   "metadata": {
    "papermill": {
     "duration": 0.007001,
     "end_time": "2023-12-13T13:36:54.188226",
     "exception": false,
     "start_time": "2023-12-13T13:36:54.181225",
     "status": "completed"
    },
    "tags": []
   },
   "source": [
    "## Modelling"
   ]
  },
  {
   "attachments": {},
   "cell_type": "markdown",
   "id": "ac1b048b",
   "metadata": {
    "papermill": {
     "duration": 0.008002,
     "end_time": "2023-12-13T13:36:54.205230",
     "exception": false,
     "start_time": "2023-12-13T13:36:54.197228",
     "status": "completed"
    },
    "tags": []
   },
   "source": [
    "### Design NN Architecture"
   ]
  },
  {
   "cell_type": "code",
   "execution_count": 10,
   "id": "bc02771e",
   "metadata": {
    "execution": {
     "iopub.execute_input": "2023-12-13T13:36:54.224353Z",
     "iopub.status.busy": "2023-12-13T13:36:54.208380Z",
     "iopub.status.idle": "2023-12-13T13:36:55.674715Z",
     "shell.execute_reply": "2023-12-13T13:36:55.673958Z"
    },
    "papermill": {
     "duration": 1.467793,
     "end_time": "2023-12-13T13:36:55.676173",
     "exception": false,
     "start_time": "2023-12-13T13:36:54.208380",
     "status": "completed"
    },
    "tags": []
   },
   "outputs": [
    {
     "name": "stderr",
     "output_type": "stream",
     "text": [
      "c:\\Users\\jesus\\miniconda3\\envs\\tf-base\\lib\\site-packages\\tensorflow\\python\\framework\\dtypes.py:516: FutureWarning: Passing (type, 1) or '1type' as a synonym of type is deprecated; in a future version of numpy, it will be understood as (type, (1,)) / '(1,)type'.\n",
      "  _np_qint8 = np.dtype([(\"qint8\", np.int8, 1)])\n",
      "c:\\Users\\jesus\\miniconda3\\envs\\tf-base\\lib\\site-packages\\tensorflow\\python\\framework\\dtypes.py:517: FutureWarning: Passing (type, 1) or '1type' as a synonym of type is deprecated; in a future version of numpy, it will be understood as (type, (1,)) / '(1,)type'.\n",
      "  _np_quint8 = np.dtype([(\"quint8\", np.uint8, 1)])\n",
      "c:\\Users\\jesus\\miniconda3\\envs\\tf-base\\lib\\site-packages\\tensorflow\\python\\framework\\dtypes.py:518: FutureWarning: Passing (type, 1) or '1type' as a synonym of type is deprecated; in a future version of numpy, it will be understood as (type, (1,)) / '(1,)type'.\n",
      "  _np_qint16 = np.dtype([(\"qint16\", np.int16, 1)])\n",
      "c:\\Users\\jesus\\miniconda3\\envs\\tf-base\\lib\\site-packages\\tensorflow\\python\\framework\\dtypes.py:519: FutureWarning: Passing (type, 1) or '1type' as a synonym of type is deprecated; in a future version of numpy, it will be understood as (type, (1,)) / '(1,)type'.\n",
      "  _np_quint16 = np.dtype([(\"quint16\", np.uint16, 1)])\n",
      "c:\\Users\\jesus\\miniconda3\\envs\\tf-base\\lib\\site-packages\\tensorflow\\python\\framework\\dtypes.py:520: FutureWarning: Passing (type, 1) or '1type' as a synonym of type is deprecated; in a future version of numpy, it will be understood as (type, (1,)) / '(1,)type'.\n",
      "  _np_qint32 = np.dtype([(\"qint32\", np.int32, 1)])\n",
      "c:\\Users\\jesus\\miniconda3\\envs\\tf-base\\lib\\site-packages\\tensorflow\\python\\framework\\dtypes.py:525: FutureWarning: Passing (type, 1) or '1type' as a synonym of type is deprecated; in a future version of numpy, it will be understood as (type, (1,)) / '(1,)type'.\n",
      "  np_resource = np.dtype([(\"resource\", np.ubyte, 1)])\n"
     ]
    },
    {
     "name": "stdout",
     "output_type": "stream",
     "text": [
      "WARNING:tensorflow:From c:\\Users\\jesus\\miniconda3\\envs\\tf-base\\lib\\site-packages\\tensorflow\\python\\ops\\init_ops.py:1251: calling VarianceScaling.__init__ (from tensorflow.python.ops.init_ops) with dtype is deprecated and will be removed in a future version.\n",
      "Instructions for updating:\n",
      "Call initializer instance with the dtype argument instead of passing it to the constructor\n"
     ]
    },
    {
     "name": "stderr",
     "output_type": "stream",
     "text": [
      "c:\\Users\\jesus\\miniconda3\\envs\\tf-base\\lib\\site-packages\\tensorboard\\compat\\tensorflow_stub\\dtypes.py:541: FutureWarning: Passing (type, 1) or '1type' as a synonym of type is deprecated; in a future version of numpy, it will be understood as (type, (1,)) / '(1,)type'.\n",
      "  _np_qint8 = np.dtype([(\"qint8\", np.int8, 1)])\n",
      "c:\\Users\\jesus\\miniconda3\\envs\\tf-base\\lib\\site-packages\\tensorboard\\compat\\tensorflow_stub\\dtypes.py:542: FutureWarning: Passing (type, 1) or '1type' as a synonym of type is deprecated; in a future version of numpy, it will be understood as (type, (1,)) / '(1,)type'.\n",
      "  _np_quint8 = np.dtype([(\"quint8\", np.uint8, 1)])\n",
      "c:\\Users\\jesus\\miniconda3\\envs\\tf-base\\lib\\site-packages\\tensorboard\\compat\\tensorflow_stub\\dtypes.py:543: FutureWarning: Passing (type, 1) or '1type' as a synonym of type is deprecated; in a future version of numpy, it will be understood as (type, (1,)) / '(1,)type'.\n",
      "  _np_qint16 = np.dtype([(\"qint16\", np.int16, 1)])\n",
      "c:\\Users\\jesus\\miniconda3\\envs\\tf-base\\lib\\site-packages\\tensorboard\\compat\\tensorflow_stub\\dtypes.py:544: FutureWarning: Passing (type, 1) or '1type' as a synonym of type is deprecated; in a future version of numpy, it will be understood as (type, (1,)) / '(1,)type'.\n",
      "  _np_quint16 = np.dtype([(\"quint16\", np.uint16, 1)])\n",
      "c:\\Users\\jesus\\miniconda3\\envs\\tf-base\\lib\\site-packages\\tensorboard\\compat\\tensorflow_stub\\dtypes.py:545: FutureWarning: Passing (type, 1) or '1type' as a synonym of type is deprecated; in a future version of numpy, it will be understood as (type, (1,)) / '(1,)type'.\n",
      "  _np_qint32 = np.dtype([(\"qint32\", np.int32, 1)])\n",
      "c:\\Users\\jesus\\miniconda3\\envs\\tf-base\\lib\\site-packages\\tensorboard\\compat\\tensorflow_stub\\dtypes.py:550: FutureWarning: Passing (type, 1) or '1type' as a synonym of type is deprecated; in a future version of numpy, it will be understood as (type, (1,)) / '(1,)type'.\n",
      "  np_resource = np.dtype([(\"resource\", np.ubyte, 1)])\n"
     ]
    }
   ],
   "source": [
    "from tensorflow.keras.models import Sequential\n",
    "from tensorflow.keras.layers import LSTM, Dense\n",
    "\n",
    "model = Sequential()\n",
    "model.add(LSTM(50, input_shape=(X_train.shape[1], X_train.shape[2])))\n",
    "model.add(Dense(1))\n",
    "model.compile(optimizer='adam', loss='mean_squared_error')"
   ]
  },
  {
   "attachments": {},
   "cell_type": "markdown",
   "id": "30bf73bf",
   "metadata": {
    "papermill": {
     "duration": 0.016605,
     "end_time": "2023-12-13T13:36:55.693781",
     "exception": false,
     "start_time": "2023-12-13T13:36:55.677176",
     "status": "completed"
    },
    "tags": []
   },
   "source": [
    "### Train Model"
   ]
  },
  {
   "cell_type": "code",
   "execution_count": 11,
   "id": "32b3262c",
   "metadata": {
    "execution": {
     "iopub.execute_input": "2023-12-13T13:36:55.713285Z",
     "iopub.status.busy": "2023-12-13T13:36:55.713285Z",
     "iopub.status.idle": "2023-12-13T13:39:34.677804Z",
     "shell.execute_reply": "2023-12-13T13:39:34.677804Z"
    },
    "papermill": {
     "duration": 158.985942,
     "end_time": "2023-12-13T13:39:34.679723",
     "exception": false,
     "start_time": "2023-12-13T13:36:55.693781",
     "status": "completed"
    },
    "tags": []
   },
   "outputs": [
    {
     "name": "stdout",
     "output_type": "stream",
     "text": [
      "WARNING:tensorflow:From c:\\Users\\jesus\\miniconda3\\envs\\tf-base\\lib\\site-packages\\tensorflow\\python\\ops\\math_grad.py:1250: add_dispatch_support.<locals>.wrapper (from tensorflow.python.ops.array_ops) is deprecated and will be removed in a future version.\n",
      "Instructions for updating:\n",
      "Use tf.where in 2.0, which has the same broadcast rule as np.where\n"
     ]
    }
   ],
   "source": [
    "from tensorflow.keras.callbacks import EarlyStopping\n",
    "\n",
    "early_stop = EarlyStopping(monitor='val_loss', patience=5)\n",
    "\n",
    "history = model.fit(\n",
    "    X_train, y_train, epochs=50, batch_size=64, verbose=0,\n",
    "    validation_data=(X_test, y_test), callbacks=[early_stop])"
   ]
  },
  {
   "attachments": {},
   "cell_type": "markdown",
   "id": "845d9650",
   "metadata": {
    "papermill": {
     "duration": 0.0,
     "end_time": "2023-12-13T13:39:34.679723",
     "exception": false,
     "start_time": "2023-12-13T13:39:34.679723",
     "status": "completed"
    },
    "tags": []
   },
   "source": [
    "### Calculate Predictions"
   ]
  },
  {
   "cell_type": "code",
   "execution_count": 12,
   "id": "a27e7c19",
   "metadata": {
    "execution": {
     "iopub.execute_input": "2023-12-13T13:39:34.712164Z",
     "iopub.status.busy": "2023-12-13T13:39:34.712164Z",
     "iopub.status.idle": "2023-12-13T13:39:35.262651Z",
     "shell.execute_reply": "2023-12-13T13:39:35.262159Z"
    },
    "papermill": {
     "duration": 0.56821,
     "end_time": "2023-12-13T13:39:35.264649",
     "exception": false,
     "start_time": "2023-12-13T13:39:34.696439",
     "status": "completed"
    },
    "tags": []
   },
   "outputs": [
    {
     "data": {
      "text/plain": [
       "array([[0.09079178],\n",
       "       [0.11651217],\n",
       "       [0.13553539],\n",
       "       ...,\n",
       "       [0.28472164],\n",
       "       [0.35308176],\n",
       "       [0.4580744 ]], dtype=float32)"
      ]
     },
     "execution_count": 12,
     "metadata": {},
     "output_type": "execute_result"
    }
   ],
   "source": [
    "y_pred = model.predict(X_test)\n",
    "y_pred"
   ]
  },
  {
   "attachments": {},
   "cell_type": "markdown",
   "id": "1ef4cd06",
   "metadata": {
    "papermill": {
     "duration": 0.012374,
     "end_time": "2023-12-13T13:39:35.279265",
     "exception": false,
     "start_time": "2023-12-13T13:39:35.266891",
     "status": "completed"
    },
    "tags": []
   },
   "source": [
    "### Comparison: Real Data & Prediction"
   ]
  },
  {
   "attachments": {},
   "cell_type": "markdown",
   "id": "910eff66",
   "metadata": {
    "papermill": {
     "duration": 0.0,
     "end_time": "2023-12-13T13:39:35.280027",
     "exception": false,
     "start_time": "2023-12-13T13:39:35.280027",
     "status": "completed"
    },
    "tags": []
   },
   "source": [
    "#### Descale Data"
   ]
  },
  {
   "cell_type": "code",
   "execution_count": 13,
   "id": "7194e278",
   "metadata": {
    "execution": {
     "iopub.execute_input": "2023-12-13T13:39:35.312695Z",
     "iopub.status.busy": "2023-12-13T13:39:35.312695Z",
     "iopub.status.idle": "2023-12-13T13:39:35.331463Z",
     "shell.execute_reply": "2023-12-13T13:39:35.331463Z"
    },
    "papermill": {
     "duration": 0.033491,
     "end_time": "2023-12-13T13:39:35.333464",
     "exception": false,
     "start_time": "2023-12-13T13:39:35.299973",
     "status": "completed"
    },
    "tags": []
   },
   "outputs": [],
   "source": [
    "y_pred_scaled_inverse = scaler.inverse_transform(y_pred)\n",
    "y_true = scaler.inverse_transform(y_test)"
   ]
  },
  {
   "attachments": {},
   "cell_type": "markdown",
   "id": "0aaebf97",
   "metadata": {
    "papermill": {
     "duration": 0.007001,
     "end_time": "2023-12-13T13:39:35.347466",
     "exception": false,
     "start_time": "2023-12-13T13:39:35.340465",
     "status": "completed"
    },
    "tags": []
   },
   "source": [
    "#### Create DataFrame"
   ]
  },
  {
   "cell_type": "code",
   "execution_count": 14,
   "id": "4e0be5b7",
   "metadata": {
    "execution": {
     "iopub.execute_input": "2023-12-13T13:39:35.364471Z",
     "iopub.status.busy": "2023-12-13T13:39:35.363470Z",
     "iopub.status.idle": "2023-12-13T13:39:35.379041Z",
     "shell.execute_reply": "2023-12-13T13:39:35.379041Z"
    },
    "papermill": {
     "duration": 0.026573,
     "end_time": "2023-12-13T13:39:35.381041",
     "exception": false,
     "start_time": "2023-12-13T13:39:35.354468",
     "status": "completed"
    },
    "tags": []
   },
   "outputs": [
    {
     "data": {
      "text/html": [
       "<div>\n",
       "<style scoped>\n",
       "    .dataframe tbody tr th:only-of-type {\n",
       "        vertical-align: middle;\n",
       "    }\n",
       "\n",
       "    .dataframe tbody tr th {\n",
       "        vertical-align: top;\n",
       "    }\n",
       "\n",
       "    .dataframe thead th {\n",
       "        text-align: right;\n",
       "    }\n",
       "</style>\n",
       "<table border=\"1\" class=\"dataframe\">\n",
       "  <thead>\n",
       "    <tr style=\"text-align: right;\">\n",
       "      <th></th>\n",
       "      <th>y_pred</th>\n",
       "      <th>y_pred_scaled_inverse</th>\n",
       "      <th>y_true</th>\n",
       "    </tr>\n",
       "  </thead>\n",
       "  <tbody>\n",
       "    <tr>\n",
       "      <th>0</th>\n",
       "      <td>0.090792</td>\n",
       "      <td>2354.400879</td>\n",
       "      <td>2352.0</td>\n",
       "    </tr>\n",
       "    <tr>\n",
       "      <th>1</th>\n",
       "      <td>0.116512</td>\n",
       "      <td>2465.847168</td>\n",
       "      <td>2458.0</td>\n",
       "    </tr>\n",
       "    <tr>\n",
       "      <th>2</th>\n",
       "      <td>0.135535</td>\n",
       "      <td>2548.274902</td>\n",
       "      <td>2574.0</td>\n",
       "    </tr>\n",
       "    <tr>\n",
       "      <th>3</th>\n",
       "      <td>0.156166</td>\n",
       "      <td>2637.666016</td>\n",
       "      <td>2696.0</td>\n",
       "    </tr>\n",
       "    <tr>\n",
       "      <th>4</th>\n",
       "      <td>0.177266</td>\n",
       "      <td>2729.094482</td>\n",
       "      <td>2669.0</td>\n",
       "    </tr>\n",
       "    <tr>\n",
       "      <th>...</th>\n",
       "      <td>...</td>\n",
       "      <td>...</td>\n",
       "      <td>...</td>\n",
       "    </tr>\n",
       "    <tr>\n",
       "      <th>6707</th>\n",
       "      <td>0.242990</td>\n",
       "      <td>3013.873779</td>\n",
       "      <td>2962.0</td>\n",
       "    </tr>\n",
       "    <tr>\n",
       "      <th>6708</th>\n",
       "      <td>0.252589</td>\n",
       "      <td>3055.468994</td>\n",
       "      <td>3027.0</td>\n",
       "    </tr>\n",
       "    <tr>\n",
       "      <th>6709</th>\n",
       "      <td>0.284722</td>\n",
       "      <td>3194.698975</td>\n",
       "      <td>3220.0</td>\n",
       "    </tr>\n",
       "    <tr>\n",
       "      <th>6710</th>\n",
       "      <td>0.353082</td>\n",
       "      <td>3490.903320</td>\n",
       "      <td>3587.0</td>\n",
       "    </tr>\n",
       "    <tr>\n",
       "      <th>6711</th>\n",
       "      <td>0.458074</td>\n",
       "      <td>3945.836426</td>\n",
       "      <td>3822.0</td>\n",
       "    </tr>\n",
       "  </tbody>\n",
       "</table>\n",
       "<p>6712 rows × 3 columns</p>\n",
       "</div>"
      ],
      "text/plain": [
       "        y_pred  y_pred_scaled_inverse  y_true\n",
       "0     0.090792            2354.400879  2352.0\n",
       "1     0.116512            2465.847168  2458.0\n",
       "2     0.135535            2548.274902  2574.0\n",
       "3     0.156166            2637.666016  2696.0\n",
       "4     0.177266            2729.094482  2669.0\n",
       "...        ...                    ...     ...\n",
       "6707  0.242990            3013.873779  2962.0\n",
       "6708  0.252589            3055.468994  3027.0\n",
       "6709  0.284722            3194.698975  3220.0\n",
       "6710  0.353082            3490.903320  3587.0\n",
       "6711  0.458074            3945.836426  3822.0\n",
       "\n",
       "[6712 rows x 3 columns]"
      ]
     },
     "execution_count": 14,
     "metadata": {},
     "output_type": "execute_result"
    }
   ],
   "source": [
    "dic_pred = {\n",
    "    'y_pred': y_pred.flatten(),\n",
    "    'y_pred_scaled_inverse': y_pred_scaled_inverse.flatten(),\n",
    "    'y_true': y_true.flatten(),\n",
    "}\n",
    "\n",
    "df_pred = pd.DataFrame(dic_pred)\n",
    "df_pred"
   ]
  },
  {
   "attachments": {},
   "cell_type": "markdown",
   "id": "7bce9a72",
   "metadata": {
    "papermill": {
     "duration": 0.014795,
     "end_time": "2023-12-13T13:39:35.397358",
     "exception": false,
     "start_time": "2023-12-13T13:39:35.382563",
     "status": "completed"
    },
    "tags": []
   },
   "source": [
    "#### Evaluate Model"
   ]
  },
  {
   "cell_type": "code",
   "execution_count": 15,
   "id": "398e8ee8",
   "metadata": {
    "execution": {
     "iopub.execute_input": "2023-12-13T13:39:35.415675Z",
     "iopub.status.busy": "2023-12-13T13:39:35.415675Z",
     "iopub.status.idle": "2023-12-13T13:39:35.432062Z",
     "shell.execute_reply": "2023-12-13T13:39:35.432062Z"
    },
    "papermill": {
     "duration": 0.036705,
     "end_time": "2023-12-13T13:39:35.434063",
     "exception": false,
     "start_time": "2023-12-13T13:39:35.397358",
     "status": "completed"
    },
    "tags": []
   },
   "outputs": [],
   "source": [
    "from sklearn.metrics import mean_squared_error"
   ]
  },
  {
   "cell_type": "code",
   "execution_count": 16,
   "id": "582d0df0",
   "metadata": {
    "execution": {
     "iopub.execute_input": "2023-12-13T13:39:35.446886Z",
     "iopub.status.busy": "2023-12-13T13:39:35.446886Z",
     "iopub.status.idle": "2023-12-13T13:39:35.461890Z",
     "shell.execute_reply": "2023-12-13T13:39:35.461890Z"
    },
    "papermill": {
     "duration": 0.022616,
     "end_time": "2023-12-13T13:39:35.463680",
     "exception": false,
     "start_time": "2023-12-13T13:39:35.441064",
     "status": "completed"
    },
    "tags": []
   },
   "outputs": [
    {
     "data": {
      "text/plain": [
       "58.8186370079529"
      ]
     },
     "execution_count": 16,
     "metadata": {},
     "output_type": "execute_result"
    }
   ],
   "source": [
    "mean_squared_error(df_pred.y_true, df_pred.y_pred_scaled_inverse, squared=False)"
   ]
  },
  {
   "cell_type": "code",
   "execution_count": 17,
   "id": "d9a4e769",
   "metadata": {
    "execution": {
     "iopub.execute_input": "2023-12-13T13:39:35.480440Z",
     "iopub.status.busy": "2023-12-13T13:39:35.480188Z",
     "iopub.status.idle": "2023-12-13T13:39:35.578325Z",
     "shell.execute_reply": "2023-12-13T13:39:35.578325Z"
    },
    "papermill": {
     "duration": 0.116763,
     "end_time": "2023-12-13T13:39:35.580443",
     "exception": false,
     "start_time": "2023-12-13T13:39:35.463680",
     "status": "completed"
    },
    "tags": []
   },
   "outputs": [],
   "source": [
    "model.save(f'../models/{region}.keras')"
   ]
  }
 ],
 "metadata": {
  "kernelspec": {
   "display_name": "deep-learning",
   "language": "python",
   "name": "python3"
  },
  "language_info": {
   "codemirror_mode": {
    "name": "ipython",
    "version": 3
   },
   "file_extension": ".py",
   "mimetype": "text/x-python",
   "name": "python",
   "nbconvert_exporter": "python",
   "pygments_lexer": "ipython3",
   "version": "3.7.12"
  },
  "papermill": {
   "default_parameters": {},
   "duration": 164.556487,
   "end_time": "2023-12-13T13:39:36.030888",
   "environment_variables": {},
   "exception": null,
   "input_path": "Modelling.ipynb",
   "output_path": "outputs/PEP.ipynb",
   "parameters": {
    "region": "PEP"
   },
   "start_time": "2023-12-13T13:36:51.474401",
   "version": "2.4.0"
  }
 },
 "nbformat": 4,
 "nbformat_minor": 5
}