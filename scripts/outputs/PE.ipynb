{
 "cells": [
  {
   "attachments": {},
   "cell_type": "markdown",
   "id": "ea9103a7",
   "metadata": {
    "papermill": {
     "duration": 0.008378,
     "end_time": "2023-11-26T17:24:04.182494",
     "exception": false,
     "start_time": "2023-11-26T17:24:04.174116",
     "status": "completed"
    },
    "tags": []
   },
   "source": [
    "## Load data"
   ]
  },
  {
   "cell_type": "code",
   "execution_count": 1,
   "id": "b954b4c4",
   "metadata": {
    "execution": {
     "iopub.execute_input": "2023-11-26T17:24:04.196355Z",
     "iopub.status.busy": "2023-11-26T17:24:04.196032Z",
     "iopub.status.idle": "2023-11-26T17:24:04.787341Z",
     "shell.execute_reply": "2023-11-26T17:24:04.786521Z"
    },
    "papermill": {
     "duration": 0.600774,
     "end_time": "2023-11-26T17:24:04.789640",
     "exception": false,
     "start_time": "2023-11-26T17:24:04.188866",
     "status": "completed"
    },
    "tags": []
   },
   "outputs": [],
   "source": [
    "import pandas as pd"
   ]
  },
  {
   "cell_type": "code",
   "execution_count": 2,
   "id": "70d04b40",
   "metadata": {
    "execution": {
     "iopub.execute_input": "2023-11-26T17:24:04.799412Z",
     "iopub.status.busy": "2023-11-26T17:24:04.799090Z",
     "iopub.status.idle": "2023-11-26T17:24:04.939929Z",
     "shell.execute_reply": "2023-11-26T17:24:04.938829Z"
    },
    "papermill": {
     "duration": 0.147486,
     "end_time": "2023-11-26T17:24:04.941848",
     "exception": false,
     "start_time": "2023-11-26T17:24:04.794362",
     "status": "completed"
    },
    "tags": []
   },
   "outputs": [
    {
     "data": {
      "text/html": [
       "<div>\n",
       "<style scoped>\n",
       "    .dataframe tbody tr th:only-of-type {\n",
       "        vertical-align: middle;\n",
       "    }\n",
       "\n",
       "    .dataframe tbody tr th {\n",
       "        vertical-align: top;\n",
       "    }\n",
       "\n",
       "    .dataframe thead th {\n",
       "        text-align: right;\n",
       "    }\n",
       "</style>\n",
       "<table border=\"1\" class=\"dataframe\">\n",
       "  <thead>\n",
       "    <tr style=\"text-align: right;\">\n",
       "      <th></th>\n",
       "      <th>AE</th>\n",
       "      <th>AEP</th>\n",
       "      <th>AP</th>\n",
       "      <th>ATSI</th>\n",
       "      <th>BC</th>\n",
       "      <th>CE</th>\n",
       "      <th>DAY</th>\n",
       "      <th>DEOK</th>\n",
       "      <th>DOM</th>\n",
       "      <th>DPL</th>\n",
       "      <th>DUQ</th>\n",
       "      <th>EKPC</th>\n",
       "      <th>JC</th>\n",
       "      <th>ME</th>\n",
       "      <th>PE</th>\n",
       "      <th>PEP</th>\n",
       "      <th>PL</th>\n",
       "      <th>PN</th>\n",
       "      <th>PS</th>\n",
       "      <th>RECO</th>\n",
       "    </tr>\n",
       "    <tr>\n",
       "      <th>period</th>\n",
       "      <th></th>\n",
       "      <th></th>\n",
       "      <th></th>\n",
       "      <th></th>\n",
       "      <th></th>\n",
       "      <th></th>\n",
       "      <th></th>\n",
       "      <th></th>\n",
       "      <th></th>\n",
       "      <th></th>\n",
       "      <th></th>\n",
       "      <th></th>\n",
       "      <th></th>\n",
       "      <th></th>\n",
       "      <th></th>\n",
       "      <th></th>\n",
       "      <th></th>\n",
       "      <th></th>\n",
       "      <th></th>\n",
       "      <th></th>\n",
       "    </tr>\n",
       "  </thead>\n",
       "  <tbody>\n",
       "    <tr>\n",
       "      <th>2018-07-01 05:00:00</th>\n",
       "      <td>1301</td>\n",
       "      <td>12187</td>\n",
       "      <td>4384</td>\n",
       "      <td>6960</td>\n",
       "      <td>3134</td>\n",
       "      <td>12136</td>\n",
       "      <td>1619</td>\n",
       "      <td>2895</td>\n",
       "      <td>9775</td>\n",
       "      <td>1919</td>\n",
       "      <td>1466</td>\n",
       "      <td>1209</td>\n",
       "      <td>2388</td>\n",
       "      <td>1442</td>\n",
       "      <td>4397</td>\n",
       "      <td>3165</td>\n",
       "      <td>3835</td>\n",
       "      <td>1611</td>\n",
       "      <td>5009</td>\n",
       "      <td>186</td>\n",
       "    </tr>\n",
       "    <tr>\n",
       "      <th>2018-07-01 06:00:00</th>\n",
       "      <td>1314</td>\n",
       "      <td>11946</td>\n",
       "      <td>4391</td>\n",
       "      <td>6762</td>\n",
       "      <td>3139</td>\n",
       "      <td>11872</td>\n",
       "      <td>1605</td>\n",
       "      <td>2857</td>\n",
       "      <td>9787</td>\n",
       "      <td>1950</td>\n",
       "      <td>1455</td>\n",
       "      <td>1197</td>\n",
       "      <td>2416</td>\n",
       "      <td>1465</td>\n",
       "      <td>4423</td>\n",
       "      <td>3156</td>\n",
       "      <td>3901</td>\n",
       "      <td>1641</td>\n",
       "      <td>4990</td>\n",
       "      <td>187</td>\n",
       "    </tr>\n",
       "    <tr>\n",
       "      <th>2018-07-01 07:00:00</th>\n",
       "      <td>1410</td>\n",
       "      <td>12664</td>\n",
       "      <td>4757</td>\n",
       "      <td>6670</td>\n",
       "      <td>3377</td>\n",
       "      <td>11992</td>\n",
       "      <td>1707</td>\n",
       "      <td>2997</td>\n",
       "      <td>10453</td>\n",
       "      <td>2160</td>\n",
       "      <td>1528</td>\n",
       "      <td>1273</td>\n",
       "      <td>2644</td>\n",
       "      <td>1605</td>\n",
       "      <td>4743</td>\n",
       "      <td>3332</td>\n",
       "      <td>4232</td>\n",
       "      <td>1728</td>\n",
       "      <td>5267</td>\n",
       "      <td>202</td>\n",
       "    </tr>\n",
       "    <tr>\n",
       "      <th>2018-07-01 08:00:00</th>\n",
       "      <td>1567</td>\n",
       "      <td>14069</td>\n",
       "      <td>5308</td>\n",
       "      <td>7065</td>\n",
       "      <td>3788</td>\n",
       "      <td>12860</td>\n",
       "      <td>1916</td>\n",
       "      <td>3331</td>\n",
       "      <td>11734</td>\n",
       "      <td>2470</td>\n",
       "      <td>1688</td>\n",
       "      <td>1472</td>\n",
       "      <td>3064</td>\n",
       "      <td>1784</td>\n",
       "      <td>5230</td>\n",
       "      <td>3679</td>\n",
       "      <td>4613</td>\n",
       "      <td>1899</td>\n",
       "      <td>5735</td>\n",
       "      <td>230</td>\n",
       "    </tr>\n",
       "    <tr>\n",
       "      <th>2018-07-01 09:00:00</th>\n",
       "      <td>1749</td>\n",
       "      <td>15610</td>\n",
       "      <td>5862</td>\n",
       "      <td>7833</td>\n",
       "      <td>4262</td>\n",
       "      <td>14212</td>\n",
       "      <td>2145</td>\n",
       "      <td>3703</td>\n",
       "      <td>13084</td>\n",
       "      <td>2765</td>\n",
       "      <td>1875</td>\n",
       "      <td>1656</td>\n",
       "      <td>3569</td>\n",
       "      <td>1972</td>\n",
       "      <td>5752</td>\n",
       "      <td>4085</td>\n",
       "      <td>5014</td>\n",
       "      <td>2055</td>\n",
       "      <td>6299</td>\n",
       "      <td>259</td>\n",
       "    </tr>\n",
       "  </tbody>\n",
       "</table>\n",
       "</div>"
      ],
      "text/plain": [
       "                       AE    AEP    AP  ATSI    BC     CE   DAY  DEOK    DOM  \\\n",
       "period                                                                         \n",
       "2018-07-01 05:00:00  1301  12187  4384  6960  3134  12136  1619  2895   9775   \n",
       "2018-07-01 06:00:00  1314  11946  4391  6762  3139  11872  1605  2857   9787   \n",
       "2018-07-01 07:00:00  1410  12664  4757  6670  3377  11992  1707  2997  10453   \n",
       "2018-07-01 08:00:00  1567  14069  5308  7065  3788  12860  1916  3331  11734   \n",
       "2018-07-01 09:00:00  1749  15610  5862  7833  4262  14212  2145  3703  13084   \n",
       "\n",
       "                      DPL   DUQ  EKPC    JC    ME    PE   PEP    PL    PN  \\\n",
       "period                                                                      \n",
       "2018-07-01 05:00:00  1919  1466  1209  2388  1442  4397  3165  3835  1611   \n",
       "2018-07-01 06:00:00  1950  1455  1197  2416  1465  4423  3156  3901  1641   \n",
       "2018-07-01 07:00:00  2160  1528  1273  2644  1605  4743  3332  4232  1728   \n",
       "2018-07-01 08:00:00  2470  1688  1472  3064  1784  5230  3679  4613  1899   \n",
       "2018-07-01 09:00:00  2765  1875  1656  3569  1972  5752  4085  5014  2055   \n",
       "\n",
       "                       PS  RECO  \n",
       "period                           \n",
       "2018-07-01 05:00:00  5009   186  \n",
       "2018-07-01 06:00:00  4990   187  \n",
       "2018-07-01 07:00:00  5267   202  \n",
       "2018-07-01 08:00:00  5735   230  \n",
       "2018-07-01 09:00:00  6299   259  "
      ]
     },
     "execution_count": 2,
     "metadata": {},
     "output_type": "execute_result"
    }
   ],
   "source": [
    "df_base = pd.read_csv('../data/pjm_pivot.csv', index_col=0, parse_dates=True)\n",
    "df_base.head()"
   ]
  },
  {
   "attachments": {},
   "cell_type": "markdown",
   "id": "2cf81001",
   "metadata": {
    "papermill": {
     "duration": 0.004109,
     "end_time": "2023-11-26T17:24:04.950393",
     "exception": false,
     "start_time": "2023-11-26T17:24:04.946284",
     "status": "completed"
    },
    "tags": []
   },
   "source": [
    "## Select region"
   ]
  },
  {
   "cell_type": "code",
   "execution_count": 3,
   "id": "ec49f854",
   "metadata": {
    "execution": {
     "iopub.execute_input": "2023-11-26T17:24:04.960233Z",
     "iopub.status.busy": "2023-11-26T17:24:04.959945Z",
     "iopub.status.idle": "2023-11-26T17:24:04.963056Z",
     "shell.execute_reply": "2023-11-26T17:24:04.962298Z"
    },
    "papermill": {
     "duration": 0.010864,
     "end_time": "2023-11-26T17:24:04.965451",
     "exception": false,
     "start_time": "2023-11-26T17:24:04.954587",
     "status": "completed"
    },
    "tags": [
     "parameters"
    ]
   },
   "outputs": [],
   "source": [
    "region = 'AE'"
   ]
  },
  {
   "cell_type": "code",
   "execution_count": 4,
   "id": "a073882e",
   "metadata": {
    "execution": {
     "iopub.execute_input": "2023-11-26T17:24:04.975594Z",
     "iopub.status.busy": "2023-11-26T17:24:04.975189Z",
     "iopub.status.idle": "2023-11-26T17:24:04.978845Z",
     "shell.execute_reply": "2023-11-26T17:24:04.978238Z"
    },
    "papermill": {
     "duration": 0.011167,
     "end_time": "2023-11-26T17:24:04.980562",
     "exception": false,
     "start_time": "2023-11-26T17:24:04.969395",
     "status": "completed"
    },
    "tags": [
     "injected-parameters"
    ]
   },
   "outputs": [],
   "source": [
    "# Parameters\n",
    "region = \"PE\"\n"
   ]
  },
  {
   "cell_type": "code",
   "execution_count": 5,
   "id": "18e31bfa",
   "metadata": {
    "execution": {
     "iopub.execute_input": "2023-11-26T17:24:04.990100Z",
     "iopub.status.busy": "2023-11-26T17:24:04.989823Z",
     "iopub.status.idle": "2023-11-26T17:24:04.997044Z",
     "shell.execute_reply": "2023-11-26T17:24:04.996431Z"
    },
    "papermill": {
     "duration": 0.015179,
     "end_time": "2023-11-26T17:24:04.999540",
     "exception": false,
     "start_time": "2023-11-26T17:24:04.984361",
     "status": "completed"
    },
    "tags": []
   },
   "outputs": [
    {
     "data": {
      "text/html": [
       "<div>\n",
       "<style scoped>\n",
       "    .dataframe tbody tr th:only-of-type {\n",
       "        vertical-align: middle;\n",
       "    }\n",
       "\n",
       "    .dataframe tbody tr th {\n",
       "        vertical-align: top;\n",
       "    }\n",
       "\n",
       "    .dataframe thead th {\n",
       "        text-align: right;\n",
       "    }\n",
       "</style>\n",
       "<table border=\"1\" class=\"dataframe\">\n",
       "  <thead>\n",
       "    <tr style=\"text-align: right;\">\n",
       "      <th></th>\n",
       "      <th>PE</th>\n",
       "    </tr>\n",
       "    <tr>\n",
       "      <th>period</th>\n",
       "      <th></th>\n",
       "    </tr>\n",
       "  </thead>\n",
       "  <tbody>\n",
       "    <tr>\n",
       "      <th>2018-07-01 05:00:00</th>\n",
       "      <td>4397</td>\n",
       "    </tr>\n",
       "    <tr>\n",
       "      <th>2018-07-01 06:00:00</th>\n",
       "      <td>4423</td>\n",
       "    </tr>\n",
       "    <tr>\n",
       "      <th>2018-07-01 07:00:00</th>\n",
       "      <td>4743</td>\n",
       "    </tr>\n",
       "    <tr>\n",
       "      <th>2018-07-01 08:00:00</th>\n",
       "      <td>5230</td>\n",
       "    </tr>\n",
       "    <tr>\n",
       "      <th>2018-07-01 09:00:00</th>\n",
       "      <td>5752</td>\n",
       "    </tr>\n",
       "    <tr>\n",
       "      <th>...</th>\n",
       "      <td>...</td>\n",
       "    </tr>\n",
       "    <tr>\n",
       "      <th>2023-11-01 00:00:00</th>\n",
       "      <td>4047</td>\n",
       "    </tr>\n",
       "    <tr>\n",
       "      <th>2023-11-01 01:00:00</th>\n",
       "      <td>3980</td>\n",
       "    </tr>\n",
       "    <tr>\n",
       "      <th>2023-11-01 02:00:00</th>\n",
       "      <td>3851</td>\n",
       "    </tr>\n",
       "    <tr>\n",
       "      <th>2023-11-01 03:00:00</th>\n",
       "      <td>3642</td>\n",
       "    </tr>\n",
       "    <tr>\n",
       "      <th>2023-11-01 04:00:00</th>\n",
       "      <td>3430</td>\n",
       "    </tr>\n",
       "  </tbody>\n",
       "</table>\n",
       "<p>44904 rows × 1 columns</p>\n",
       "</div>"
      ],
      "text/plain": [
       "                       PE\n",
       "period                   \n",
       "2018-07-01 05:00:00  4397\n",
       "2018-07-01 06:00:00  4423\n",
       "2018-07-01 07:00:00  4743\n",
       "2018-07-01 08:00:00  5230\n",
       "2018-07-01 09:00:00  5752\n",
       "...                   ...\n",
       "2023-11-01 00:00:00  4047\n",
       "2023-11-01 01:00:00  3980\n",
       "2023-11-01 02:00:00  3851\n",
       "2023-11-01 03:00:00  3642\n",
       "2023-11-01 04:00:00  3430\n",
       "\n",
       "[44904 rows x 1 columns]"
      ]
     },
     "execution_count": 5,
     "metadata": {},
     "output_type": "execute_result"
    }
   ],
   "source": [
    "df = df_base.loc[:, [region]]\n",
    "df"
   ]
  },
  {
   "attachments": {},
   "cell_type": "markdown",
   "id": "1e26fa71",
   "metadata": {
    "papermill": {
     "duration": 0.004721,
     "end_time": "2023-11-26T17:24:05.008241",
     "exception": false,
     "start_time": "2023-11-26T17:24:05.003520",
     "status": "completed"
    },
    "tags": []
   },
   "source": [
    "## Data Preprocessing"
   ]
  },
  {
   "attachments": {},
   "cell_type": "markdown",
   "id": "4cad79b0",
   "metadata": {
    "papermill": {
     "duration": 0.025799,
     "end_time": "2023-11-26T17:24:05.056835",
     "exception": false,
     "start_time": "2023-11-26T17:24:05.031036",
     "status": "completed"
    },
    "tags": []
   },
   "source": [
    "### Scale Data"
   ]
  },
  {
   "cell_type": "code",
   "execution_count": 6,
   "id": "86c605b4",
   "metadata": {
    "execution": {
     "iopub.execute_input": "2023-11-26T17:24:05.070674Z",
     "iopub.status.busy": "2023-11-26T17:24:05.070145Z",
     "iopub.status.idle": "2023-11-26T17:24:05.734161Z",
     "shell.execute_reply": "2023-11-26T17:24:05.733155Z"
    },
    "papermill": {
     "duration": 0.67297,
     "end_time": "2023-11-26T17:24:05.736828",
     "exception": false,
     "start_time": "2023-11-26T17:24:05.063858",
     "status": "completed"
    },
    "tags": []
   },
   "outputs": [],
   "source": [
    "from sklearn.preprocessing import MinMaxScaler\n",
    "\n",
    "# Normalize data\n",
    "scaler = MinMaxScaler(feature_range=(0, 1))\n",
    "data_norm = scaler.fit_transform(df)"
   ]
  },
  {
   "attachments": {},
   "cell_type": "markdown",
   "id": "0684204a",
   "metadata": {
    "papermill": {
     "duration": 0.004021,
     "end_time": "2023-11-26T17:24:05.745632",
     "exception": false,
     "start_time": "2023-11-26T17:24:05.741611",
     "status": "completed"
    },
    "tags": []
   },
   "source": [
    "### Train Test Split"
   ]
  },
  {
   "cell_type": "code",
   "execution_count": 7,
   "id": "c87c88d7",
   "metadata": {
    "execution": {
     "iopub.execute_input": "2023-11-26T17:24:05.756295Z",
     "iopub.status.busy": "2023-11-26T17:24:05.755929Z",
     "iopub.status.idle": "2023-11-26T17:24:05.814980Z",
     "shell.execute_reply": "2023-11-26T17:24:05.813916Z"
    },
    "papermill": {
     "duration": 0.068934,
     "end_time": "2023-11-26T17:24:05.818141",
     "exception": false,
     "start_time": "2023-11-26T17:24:05.749207",
     "status": "completed"
    },
    "tags": []
   },
   "outputs": [],
   "source": [
    "from sklearn.model_selection import train_test_split\n",
    "\n",
    "train, test = train_test_split(data_norm, test_size=0.2, shuffle=False)"
   ]
  },
  {
   "attachments": {},
   "cell_type": "markdown",
   "id": "dcd32380",
   "metadata": {
    "papermill": {
     "duration": 0.004647,
     "end_time": "2023-11-26T17:24:05.828864",
     "exception": false,
     "start_time": "2023-11-26T17:24:05.824217",
     "status": "completed"
    },
    "tags": []
   },
   "source": [
    "### Create Sequences"
   ]
  },
  {
   "cell_type": "code",
   "execution_count": 8,
   "id": "a3dcca75",
   "metadata": {
    "execution": {
     "iopub.execute_input": "2023-11-26T17:24:05.839911Z",
     "iopub.status.busy": "2023-11-26T17:24:05.839613Z",
     "iopub.status.idle": "2023-11-26T17:24:05.917667Z",
     "shell.execute_reply": "2023-11-26T17:24:05.916590Z"
    },
    "papermill": {
     "duration": 0.087583,
     "end_time": "2023-11-26T17:24:05.920496",
     "exception": false,
     "start_time": "2023-11-26T17:24:05.832913",
     "status": "completed"
    },
    "tags": []
   },
   "outputs": [],
   "source": [
    "import numpy as np\n",
    "\n",
    "def create_sequences(data, sequence_length):\n",
    "    X, y = [], []\n",
    "    for i in range(len(data) - sequence_length):\n",
    "        X.append(data[i:i+sequence_length])\n",
    "        y.append(data[i+sequence_length])\n",
    "    return np.array(X), np.array(y)\n",
    "\n",
    "sequence_length = 24 # Use 24 hours prior to predict the following hour\n",
    "X_train, y_train = create_sequences(train, sequence_length)\n",
    "X_test, y_test = create_sequences(test, sequence_length)"
   ]
  },
  {
   "attachments": {},
   "cell_type": "markdown",
   "id": "ff6e5a50",
   "metadata": {
    "papermill": {
     "duration": 0.004689,
     "end_time": "2023-11-26T17:24:05.930398",
     "exception": false,
     "start_time": "2023-11-26T17:24:05.925709",
     "status": "completed"
    },
    "tags": []
   },
   "source": [
    "## Modelling"
   ]
  },
  {
   "attachments": {},
   "cell_type": "markdown",
   "id": "7cda7686",
   "metadata": {
    "papermill": {
     "duration": 0.005245,
     "end_time": "2023-11-26T17:24:05.939899",
     "exception": false,
     "start_time": "2023-11-26T17:24:05.934654",
     "status": "completed"
    },
    "tags": []
   },
   "source": [
    "### Design NN Architecture"
   ]
  },
  {
   "cell_type": "code",
   "execution_count": 9,
   "id": "d739f4a9",
   "metadata": {
    "execution": {
     "iopub.execute_input": "2023-11-26T17:24:05.949938Z",
     "iopub.status.busy": "2023-11-26T17:24:05.949535Z",
     "iopub.status.idle": "2023-11-26T17:24:11.316586Z",
     "shell.execute_reply": "2023-11-26T17:24:11.315864Z"
    },
    "papermill": {
     "duration": 5.374435,
     "end_time": "2023-11-26T17:24:11.318739",
     "exception": false,
     "start_time": "2023-11-26T17:24:05.944304",
     "status": "completed"
    },
    "tags": []
   },
   "outputs": [
    {
     "name": "stderr",
     "output_type": "stream",
     "text": [
      "2023-11-26 18:24:08.258150: I tensorflow/core/platform/cpu_feature_guard.cc:182] This TensorFlow binary is optimized to use available CPU instructions in performance-critical operations.\n",
      "To enable the following instructions: AVX2 FMA, in other operations, rebuild TensorFlow with the appropriate compiler flags.\n"
     ]
    }
   ],
   "source": [
    "from keras.models import Sequential\n",
    "from keras.layers import LSTM, Dense\n",
    "\n",
    "model = Sequential()\n",
    "model.add(LSTM(50, input_shape=(X_train.shape[1], X_train.shape[2])))\n",
    "model.add(Dense(1))\n",
    "model.compile(optimizer='adam', loss='mean_squared_error')"
   ]
  },
  {
   "attachments": {},
   "cell_type": "markdown",
   "id": "e9b3fbc3",
   "metadata": {
    "papermill": {
     "duration": 0.004961,
     "end_time": "2023-11-26T17:24:11.329019",
     "exception": false,
     "start_time": "2023-11-26T17:24:11.324058",
     "status": "completed"
    },
    "tags": []
   },
   "source": [
    "### Train Model"
   ]
  },
  {
   "cell_type": "code",
   "execution_count": 10,
   "id": "b9ca8f03",
   "metadata": {
    "execution": {
     "iopub.execute_input": "2023-11-26T17:24:11.341353Z",
     "iopub.status.busy": "2023-11-26T17:24:11.340814Z",
     "iopub.status.idle": "2023-11-26T17:26:00.728652Z",
     "shell.execute_reply": "2023-11-26T17:26:00.727994Z"
    },
    "papermill": {
     "duration": 109.397899,
     "end_time": "2023-11-26T17:26:00.730902",
     "exception": false,
     "start_time": "2023-11-26T17:24:11.333003",
     "status": "completed"
    },
    "tags": []
   },
   "outputs": [],
   "source": [
    "from keras.callbacks import EarlyStopping\n",
    "\n",
    "early_stop = EarlyStopping(monitor='val_loss', patience=5)\n",
    "\n",
    "history = model.fit(\n",
    "    X_train, y_train, epochs=50, batch_size=64, verbose=0,\n",
    "    validation_data=(X_test, y_test), callbacks=[early_stop])"
   ]
  },
  {
   "attachments": {},
   "cell_type": "markdown",
   "id": "d97189bc",
   "metadata": {
    "papermill": {
     "duration": 0.005552,
     "end_time": "2023-11-26T17:26:00.742534",
     "exception": false,
     "start_time": "2023-11-26T17:26:00.736982",
     "status": "completed"
    },
    "tags": []
   },
   "source": [
    "### Calculate Predictions"
   ]
  },
  {
   "cell_type": "code",
   "execution_count": 11,
   "id": "6476bb3d",
   "metadata": {
    "execution": {
     "iopub.execute_input": "2023-11-26T17:26:00.754281Z",
     "iopub.status.busy": "2023-11-26T17:26:00.753928Z",
     "iopub.status.idle": "2023-11-26T17:26:02.028087Z",
     "shell.execute_reply": "2023-11-26T17:26:02.027471Z"
    },
    "papermill": {
     "duration": 1.282611,
     "end_time": "2023-11-26T17:26:02.029861",
     "exception": false,
     "start_time": "2023-11-26T17:26:00.747250",
     "status": "completed"
    },
    "tags": []
   },
   "outputs": [
    {
     "name": "stdout",
     "output_type": "stream",
     "text": [
      "\r",
      "  1/280 [..............................] - ETA: 1:58"
     ]
    },
    {
     "name": "stdout",
     "output_type": "stream",
     "text": [
      "\b\b\b\b\b\b\b\b\b\b\b\b\b\b\b\b\b\b\b\b\b\b\b\b\b\b\b\b\b\b\b\b\b\b\b\b\b\b\b\b\b\b\b\b\b\b\b\b\b\b\b\b\r",
      " 22/280 [=>............................] - ETA: 0s  "
     ]
    },
    {
     "name": "stdout",
     "output_type": "stream",
     "text": [
      "\b\b\b\b\b\b\b\b\b\b\b\b\b\b\b\b\b\b\b\b\b\b\b\b\b\b\b\b\b\b\b\b\b\b\b\b\b\b\b\b\b\b\b\b\b\b\b\b\b\b\r",
      " 43/280 [===>..........................] - ETA: 0s"
     ]
    },
    {
     "name": "stdout",
     "output_type": "stream",
     "text": [
      "\b\b\b\b\b\b\b\b\b\b\b\b\b\b\b\b\b\b\b\b\b\b\b\b\b\b\b\b\b\b\b\b\b\b\b\b\b\b\b\b\b\b\b\b\b\b\b\b\b\b\r",
      " 64/280 [=====>........................] - ETA: 0s"
     ]
    },
    {
     "name": "stdout",
     "output_type": "stream",
     "text": [
      "\b\b\b\b\b\b\b\b\b\b\b\b\b\b\b\b\b\b\b\b\b\b\b\b\b\b\b\b\b\b\b\b\b\b\b\b\b\b\b\b\b\b\b\b\b\b\b\b\b\b\r",
      " 85/280 [========>.....................] - ETA: 0s"
     ]
    },
    {
     "name": "stdout",
     "output_type": "stream",
     "text": [
      "\b\b\b\b\b\b\b\b\b\b\b\b\b\b\b\b\b\b\b\b\b\b\b\b\b\b\b\b\b\b\b\b\b\b\b\b\b\b\b\b\b\b\b\b\b\b\b\b\b\b\r",
      "106/280 [==========>...................] - ETA: 0s"
     ]
    },
    {
     "name": "stdout",
     "output_type": "stream",
     "text": [
      "\b\b\b\b\b\b\b\b\b\b\b\b\b\b\b\b\b\b\b\b\b\b\b\b\b\b\b\b\b\b\b\b\b\b\b\b\b\b\b\b\b\b\b\b\b\b\b\b\b\b\r",
      "127/280 [============>.................] - ETA: 0s"
     ]
    },
    {
     "name": "stdout",
     "output_type": "stream",
     "text": [
      "\b\b\b\b\b\b\b\b\b\b\b\b\b\b\b\b\b\b\b\b\b\b\b\b\b\b\b\b\b\b\b\b\b\b\b\b\b\b\b\b\b\b\b\b\b\b\b\b\b\b\r",
      "148/280 [==============>...............] - ETA: 0s"
     ]
    },
    {
     "name": "stdout",
     "output_type": "stream",
     "text": [
      "\b\b\b\b\b\b\b\b\b\b\b\b\b\b\b\b\b\b\b\b\b\b\b\b\b\b\b\b\b\b\b\b\b\b\b\b\b\b\b\b\b\b\b\b\b\b\b\b\b\b\r",
      "169/280 [=================>............] - ETA: 0s"
     ]
    },
    {
     "name": "stdout",
     "output_type": "stream",
     "text": [
      "\b\b\b\b\b\b\b\b\b\b\b\b\b\b\b\b\b\b\b\b\b\b\b\b\b\b\b\b\b\b\b\b\b\b\b\b\b\b\b\b\b\b\b\b\b\b\b\b\b\b\r",
      "189/280 [===================>..........] - ETA: 0s"
     ]
    },
    {
     "name": "stdout",
     "output_type": "stream",
     "text": [
      "\b\b\b\b\b\b\b\b\b\b\b\b\b\b\b\b\b\b\b\b\b\b\b\b\b\b\b\b\b\b\b\b\b\b\b\b\b\b\b\b\b\b\b\b\b\b\b\b\b\b\r",
      "203/280 [====================>.........] - ETA: 0s"
     ]
    },
    {
     "name": "stdout",
     "output_type": "stream",
     "text": [
      "\b\b\b\b\b\b\b\b\b\b\b\b\b\b\b\b\b\b\b\b\b\b\b\b\b\b\b\b\b\b\b\b\b\b\b\b\b\b\b\b\b\b\b\b\b\b\b\b\b\b\r",
      "223/280 [======================>.......] - ETA: 0s"
     ]
    },
    {
     "name": "stdout",
     "output_type": "stream",
     "text": [
      "\b\b\b\b\b\b\b\b\b\b\b\b\b\b\b\b\b\b\b\b\b\b\b\b\b\b\b\b\b\b\b\b\b\b\b\b\b\b\b\b\b\b\b\b\b\b\b\b\b\b\r",
      "243/280 [=========================>....] - ETA: 0s"
     ]
    },
    {
     "name": "stdout",
     "output_type": "stream",
     "text": [
      "\b\b\b\b\b\b\b\b\b\b\b\b\b\b\b\b\b\b\b\b\b\b\b\b\b\b\b\b\b\b\b\b\b\b\b\b\b\b\b\b\b\b\b\b\b\b\b\b\b\b\r",
      "264/280 [===========================>..] - ETA: 0s"
     ]
    },
    {
     "name": "stdout",
     "output_type": "stream",
     "text": [
      "\b\b\b\b\b\b\b\b\b\b\b\b\b\b\b\b\b\b\b\b\b\b\b\b\b\b\b\b\b\b\b\b\b\b\b\b\b\b\b\b\b\b\b\b\b\b\b\b\b\b\r",
      "280/280 [==============================] - 1s 3ms/step\n"
     ]
    },
    {
     "data": {
      "text/plain": [
       "array([[0.2537789 ],\n",
       "       [0.22721206],\n",
       "       [0.20410112],\n",
       "       ...,\n",
       "       [0.21813741],\n",
       "       [0.19188112],\n",
       "       [0.15768152]], dtype=float32)"
      ]
     },
     "execution_count": 11,
     "metadata": {},
     "output_type": "execute_result"
    }
   ],
   "source": [
    "y_pred = model.predict(X_test)\n",
    "y_pred"
   ]
  },
  {
   "attachments": {},
   "cell_type": "markdown",
   "id": "c29a9178",
   "metadata": {
    "papermill": {
     "duration": 0.005832,
     "end_time": "2023-11-26T17:26:02.042561",
     "exception": false,
     "start_time": "2023-11-26T17:26:02.036729",
     "status": "completed"
    },
    "tags": []
   },
   "source": [
    "### Comparison: Real Data & Prediction"
   ]
  },
  {
   "attachments": {},
   "cell_type": "markdown",
   "id": "531b9dd3",
   "metadata": {
    "papermill": {
     "duration": 0.005539,
     "end_time": "2023-11-26T17:26:02.053082",
     "exception": false,
     "start_time": "2023-11-26T17:26:02.047543",
     "status": "completed"
    },
    "tags": []
   },
   "source": [
    "#### Descale Data"
   ]
  },
  {
   "cell_type": "code",
   "execution_count": 12,
   "id": "31a2794e",
   "metadata": {
    "execution": {
     "iopub.execute_input": "2023-11-26T17:26:02.064534Z",
     "iopub.status.busy": "2023-11-26T17:26:02.064182Z",
     "iopub.status.idle": "2023-11-26T17:26:02.069026Z",
     "shell.execute_reply": "2023-11-26T17:26:02.068019Z"
    },
    "papermill": {
     "duration": 0.013918,
     "end_time": "2023-11-26T17:26:02.072014",
     "exception": false,
     "start_time": "2023-11-26T17:26:02.058096",
     "status": "completed"
    },
    "tags": []
   },
   "outputs": [],
   "source": [
    "y_pred_scaled_inverse = scaler.inverse_transform(y_pred)\n",
    "y_true = scaler.inverse_transform(y_test)"
   ]
  },
  {
   "attachments": {},
   "cell_type": "markdown",
   "id": "9e5b7f52",
   "metadata": {
    "papermill": {
     "duration": 0.027844,
     "end_time": "2023-11-26T17:26:02.116548",
     "exception": false,
     "start_time": "2023-11-26T17:26:02.088704",
     "status": "completed"
    },
    "tags": []
   },
   "source": [
    "#### Create DataFrame"
   ]
  },
  {
   "cell_type": "code",
   "execution_count": 13,
   "id": "4c4d546d",
   "metadata": {
    "execution": {
     "iopub.execute_input": "2023-11-26T17:26:02.133115Z",
     "iopub.status.busy": "2023-11-26T17:26:02.132813Z",
     "iopub.status.idle": "2023-11-26T17:26:02.144321Z",
     "shell.execute_reply": "2023-11-26T17:26:02.143773Z"
    },
    "papermill": {
     "duration": 0.02055,
     "end_time": "2023-11-26T17:26:02.146120",
     "exception": false,
     "start_time": "2023-11-26T17:26:02.125570",
     "status": "completed"
    },
    "tags": []
   },
   "outputs": [
    {
     "data": {
      "text/html": [
       "<div>\n",
       "<style scoped>\n",
       "    .dataframe tbody tr th:only-of-type {\n",
       "        vertical-align: middle;\n",
       "    }\n",
       "\n",
       "    .dataframe tbody tr th {\n",
       "        vertical-align: top;\n",
       "    }\n",
       "\n",
       "    .dataframe thead th {\n",
       "        text-align: right;\n",
       "    }\n",
       "</style>\n",
       "<table border=\"1\" class=\"dataframe\">\n",
       "  <thead>\n",
       "    <tr style=\"text-align: right;\">\n",
       "      <th></th>\n",
       "      <th>y_pred</th>\n",
       "      <th>y_pred_scaled_inverse</th>\n",
       "      <th>y_true</th>\n",
       "    </tr>\n",
       "  </thead>\n",
       "  <tbody>\n",
       "    <tr>\n",
       "      <th>0</th>\n",
       "      <td>0.253779</td>\n",
       "      <td>4023.936768</td>\n",
       "      <td>4011.0</td>\n",
       "    </tr>\n",
       "    <tr>\n",
       "      <th>1</th>\n",
       "      <td>0.227212</td>\n",
       "      <td>3859.169189</td>\n",
       "      <td>3876.0</td>\n",
       "    </tr>\n",
       "    <tr>\n",
       "      <th>2</th>\n",
       "      <td>0.204101</td>\n",
       "      <td>3715.835205</td>\n",
       "      <td>3707.0</td>\n",
       "    </tr>\n",
       "    <tr>\n",
       "      <th>3</th>\n",
       "      <td>0.177516</td>\n",
       "      <td>3550.953613</td>\n",
       "      <td>3529.0</td>\n",
       "    </tr>\n",
       "    <tr>\n",
       "      <th>4</th>\n",
       "      <td>0.153551</td>\n",
       "      <td>3402.324219</td>\n",
       "      <td>3341.0</td>\n",
       "    </tr>\n",
       "    <tr>\n",
       "      <th>...</th>\n",
       "      <td>...</td>\n",
       "      <td>...</td>\n",
       "      <td>...</td>\n",
       "    </tr>\n",
       "    <tr>\n",
       "      <th>8952</th>\n",
       "      <td>0.253486</td>\n",
       "      <td>4022.119873</td>\n",
       "      <td>4047.0</td>\n",
       "    </tr>\n",
       "    <tr>\n",
       "      <th>8953</th>\n",
       "      <td>0.237225</td>\n",
       "      <td>3921.267822</td>\n",
       "      <td>3980.0</td>\n",
       "    </tr>\n",
       "    <tr>\n",
       "      <th>8954</th>\n",
       "      <td>0.218137</td>\n",
       "      <td>3802.888184</td>\n",
       "      <td>3851.0</td>\n",
       "    </tr>\n",
       "    <tr>\n",
       "      <th>8955</th>\n",
       "      <td>0.191881</td>\n",
       "      <td>3640.046631</td>\n",
       "      <td>3642.0</td>\n",
       "    </tr>\n",
       "    <tr>\n",
       "      <th>8956</th>\n",
       "      <td>0.157682</td>\n",
       "      <td>3427.940674</td>\n",
       "      <td>3430.0</td>\n",
       "    </tr>\n",
       "  </tbody>\n",
       "</table>\n",
       "<p>8957 rows × 3 columns</p>\n",
       "</div>"
      ],
      "text/plain": [
       "        y_pred  y_pred_scaled_inverse  y_true\n",
       "0     0.253779            4023.936768  4011.0\n",
       "1     0.227212            3859.169189  3876.0\n",
       "2     0.204101            3715.835205  3707.0\n",
       "3     0.177516            3550.953613  3529.0\n",
       "4     0.153551            3402.324219  3341.0\n",
       "...        ...                    ...     ...\n",
       "8952  0.253486            4022.119873  4047.0\n",
       "8953  0.237225            3921.267822  3980.0\n",
       "8954  0.218137            3802.888184  3851.0\n",
       "8955  0.191881            3640.046631  3642.0\n",
       "8956  0.157682            3427.940674  3430.0\n",
       "\n",
       "[8957 rows x 3 columns]"
      ]
     },
     "execution_count": 13,
     "metadata": {},
     "output_type": "execute_result"
    }
   ],
   "source": [
    "dic_pred = {\n",
    "    'y_pred': y_pred.flatten(),\n",
    "    'y_pred_scaled_inverse': y_pred_scaled_inverse.flatten(),\n",
    "    'y_true': y_true.flatten(),\n",
    "}\n",
    "\n",
    "df_pred = pd.DataFrame(dic_pred)\n",
    "df_pred"
   ]
  },
  {
   "attachments": {},
   "cell_type": "markdown",
   "id": "eb655306",
   "metadata": {
    "papermill": {
     "duration": 0.006112,
     "end_time": "2023-11-26T17:26:02.158932",
     "exception": false,
     "start_time": "2023-11-26T17:26:02.152820",
     "status": "completed"
    },
    "tags": []
   },
   "source": [
    "#### Evaluate Model"
   ]
  },
  {
   "cell_type": "code",
   "execution_count": 14,
   "id": "31e3d483",
   "metadata": {
    "execution": {
     "iopub.execute_input": "2023-11-26T17:26:02.171096Z",
     "iopub.status.busy": "2023-11-26T17:26:02.170772Z",
     "iopub.status.idle": "2023-11-26T17:26:02.174622Z",
     "shell.execute_reply": "2023-11-26T17:26:02.173675Z"
    },
    "papermill": {
     "duration": 0.012521,
     "end_time": "2023-11-26T17:26:02.176583",
     "exception": false,
     "start_time": "2023-11-26T17:26:02.164062",
     "status": "completed"
    },
    "tags": []
   },
   "outputs": [],
   "source": [
    "from sklearn.metrics import mean_squared_error"
   ]
  },
  {
   "cell_type": "code",
   "execution_count": 15,
   "id": "b30daeb7",
   "metadata": {
    "execution": {
     "iopub.execute_input": "2023-11-26T17:26:02.225994Z",
     "iopub.status.busy": "2023-11-26T17:26:02.225593Z",
     "iopub.status.idle": "2023-11-26T17:26:02.232110Z",
     "shell.execute_reply": "2023-11-26T17:26:02.231430Z"
    },
    "papermill": {
     "duration": 0.037826,
     "end_time": "2023-11-26T17:26:02.234330",
     "exception": false,
     "start_time": "2023-11-26T17:26:02.196504",
     "status": "completed"
    },
    "tags": []
   },
   "outputs": [
    {
     "data": {
      "text/plain": [
       "61.24986167706522"
      ]
     },
     "execution_count": 15,
     "metadata": {},
     "output_type": "execute_result"
    }
   ],
   "source": [
    "mean_squared_error(df_pred.y_true, df_pred.y_pred_scaled_inverse, squared=False)"
   ]
  },
  {
   "cell_type": "code",
   "execution_count": 16,
   "id": "af07c7b6",
   "metadata": {
    "execution": {
     "iopub.execute_input": "2023-11-26T17:26:02.246659Z",
     "iopub.status.busy": "2023-11-26T17:26:02.246374Z",
     "iopub.status.idle": "2023-11-26T17:26:02.276277Z",
     "shell.execute_reply": "2023-11-26T17:26:02.275702Z"
    },
    "papermill": {
     "duration": 0.037713,
     "end_time": "2023-11-26T17:26:02.278147",
     "exception": false,
     "start_time": "2023-11-26T17:26:02.240434",
     "status": "completed"
    },
    "tags": []
   },
   "outputs": [],
   "source": [
    "model.save(f'../models/{region}.keras')"
   ]
  }
 ],
 "metadata": {
  "kernelspec": {
   "display_name": "deep-learning",
   "language": "python",
   "name": "python3"
  },
  "language_info": {
   "codemirror_mode": {
    "name": "ipython",
    "version": 3
   },
   "file_extension": ".py",
   "mimetype": "text/x-python",
   "name": "python",
   "nbconvert_exporter": "python",
   "pygments_lexer": "ipython3",
   "version": "3.9.18"
  },
  "papermill": {
   "default_parameters": {},
   "duration": 120.453293,
   "end_time": "2023-11-26T17:26:03.333705",
   "environment_variables": {},
   "exception": null,
   "input_path": "Modelling.ipynb",
   "output_path": "outputs/PE.ipynb",
   "parameters": {
    "region": "PE"
   },
   "start_time": "2023-11-26T17:24:02.880412",
   "version": "2.5.0"
  }
 },
 "nbformat": 4,
 "nbformat_minor": 5
}