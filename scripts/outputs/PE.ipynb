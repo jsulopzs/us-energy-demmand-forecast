{
 "cells": [
  {
   "attachments": {},
   "cell_type": "markdown",
   "id": "0063f88d",
   "metadata": {
    "papermill": {
     "duration": 0.006001,
     "end_time": "2023-12-13T13:33:32.804322",
     "exception": false,
     "start_time": "2023-12-13T13:33:32.798321",
     "status": "completed"
    },
    "tags": []
   },
   "source": [
    "## Load data"
   ]
  },
  {
   "cell_type": "code",
   "execution_count": 1,
   "id": "9ee92975",
   "metadata": {
    "execution": {
     "iopub.execute_input": "2023-12-13T13:33:32.820327Z",
     "iopub.status.busy": "2023-12-13T13:33:32.820327Z",
     "iopub.status.idle": "2023-12-13T13:33:33.181445Z",
     "shell.execute_reply": "2023-12-13T13:33:33.180906Z"
    },
    "papermill": {
     "duration": 0.37189,
     "end_time": "2023-12-13T13:33:33.183214",
     "exception": false,
     "start_time": "2023-12-13T13:33:32.811324",
     "status": "completed"
    },
    "tags": []
   },
   "outputs": [],
   "source": [
    "import pandas as pd"
   ]
  },
  {
   "cell_type": "code",
   "execution_count": 2,
   "id": "980dbf7b",
   "metadata": {
    "execution": {
     "iopub.execute_input": "2023-12-13T13:33:33.197217Z",
     "iopub.status.busy": "2023-12-13T13:33:33.197217Z",
     "iopub.status.idle": "2023-12-13T13:33:33.308284Z",
     "shell.execute_reply": "2023-12-13T13:33:33.308182Z"
    },
    "papermill": {
     "duration": 0.121071,
     "end_time": "2023-12-13T13:33:33.310286",
     "exception": false,
     "start_time": "2023-12-13T13:33:33.189215",
     "status": "completed"
    },
    "tags": []
   },
   "outputs": [
    {
     "data": {
      "text/html": [
       "<div>\n",
       "<style scoped>\n",
       "    .dataframe tbody tr th:only-of-type {\n",
       "        vertical-align: middle;\n",
       "    }\n",
       "\n",
       "    .dataframe tbody tr th {\n",
       "        vertical-align: top;\n",
       "    }\n",
       "\n",
       "    .dataframe thead th {\n",
       "        text-align: right;\n",
       "    }\n",
       "</style>\n",
       "<table border=\"1\" class=\"dataframe\">\n",
       "  <thead>\n",
       "    <tr style=\"text-align: right;\">\n",
       "      <th></th>\n",
       "      <th>AE</th>\n",
       "      <th>AEP</th>\n",
       "      <th>AP</th>\n",
       "      <th>ATSI</th>\n",
       "      <th>BC</th>\n",
       "      <th>CE</th>\n",
       "      <th>DAY</th>\n",
       "      <th>DEOK</th>\n",
       "      <th>DOM</th>\n",
       "      <th>DPL</th>\n",
       "      <th>DUQ</th>\n",
       "      <th>EKPC</th>\n",
       "      <th>JC</th>\n",
       "      <th>ME</th>\n",
       "      <th>PE</th>\n",
       "      <th>PEP</th>\n",
       "      <th>PL</th>\n",
       "      <th>PN</th>\n",
       "      <th>PS</th>\n",
       "      <th>RECO</th>\n",
       "    </tr>\n",
       "    <tr>\n",
       "      <th>period</th>\n",
       "      <th></th>\n",
       "      <th></th>\n",
       "      <th></th>\n",
       "      <th></th>\n",
       "      <th></th>\n",
       "      <th></th>\n",
       "      <th></th>\n",
       "      <th></th>\n",
       "      <th></th>\n",
       "      <th></th>\n",
       "      <th></th>\n",
       "      <th></th>\n",
       "      <th></th>\n",
       "      <th></th>\n",
       "      <th></th>\n",
       "      <th></th>\n",
       "      <th></th>\n",
       "      <th></th>\n",
       "      <th></th>\n",
       "      <th></th>\n",
       "    </tr>\n",
       "  </thead>\n",
       "  <tbody>\n",
       "    <tr>\n",
       "      <th>2018-07-01 05:00:00</th>\n",
       "      <td>1301</td>\n",
       "      <td>12187</td>\n",
       "      <td>4384</td>\n",
       "      <td>6960</td>\n",
       "      <td>3134</td>\n",
       "      <td>12136</td>\n",
       "      <td>1619</td>\n",
       "      <td>2895</td>\n",
       "      <td>9775</td>\n",
       "      <td>1919</td>\n",
       "      <td>1466</td>\n",
       "      <td>1209</td>\n",
       "      <td>2388</td>\n",
       "      <td>1442</td>\n",
       "      <td>4397</td>\n",
       "      <td>3165</td>\n",
       "      <td>3835</td>\n",
       "      <td>1611</td>\n",
       "      <td>5009</td>\n",
       "      <td>186</td>\n",
       "    </tr>\n",
       "    <tr>\n",
       "      <th>2018-07-01 06:00:00</th>\n",
       "      <td>1314</td>\n",
       "      <td>11946</td>\n",
       "      <td>4391</td>\n",
       "      <td>6762</td>\n",
       "      <td>3139</td>\n",
       "      <td>11872</td>\n",
       "      <td>1605</td>\n",
       "      <td>2857</td>\n",
       "      <td>9787</td>\n",
       "      <td>1950</td>\n",
       "      <td>1455</td>\n",
       "      <td>1197</td>\n",
       "      <td>2416</td>\n",
       "      <td>1465</td>\n",
       "      <td>4423</td>\n",
       "      <td>3156</td>\n",
       "      <td>3901</td>\n",
       "      <td>1641</td>\n",
       "      <td>4990</td>\n",
       "      <td>187</td>\n",
       "    </tr>\n",
       "    <tr>\n",
       "      <th>2018-07-01 07:00:00</th>\n",
       "      <td>1410</td>\n",
       "      <td>12664</td>\n",
       "      <td>4757</td>\n",
       "      <td>6670</td>\n",
       "      <td>3377</td>\n",
       "      <td>11992</td>\n",
       "      <td>1707</td>\n",
       "      <td>2997</td>\n",
       "      <td>10453</td>\n",
       "      <td>2160</td>\n",
       "      <td>1528</td>\n",
       "      <td>1273</td>\n",
       "      <td>2644</td>\n",
       "      <td>1605</td>\n",
       "      <td>4743</td>\n",
       "      <td>3332</td>\n",
       "      <td>4232</td>\n",
       "      <td>1728</td>\n",
       "      <td>5267</td>\n",
       "      <td>202</td>\n",
       "    </tr>\n",
       "    <tr>\n",
       "      <th>2018-07-01 08:00:00</th>\n",
       "      <td>1567</td>\n",
       "      <td>14069</td>\n",
       "      <td>5308</td>\n",
       "      <td>7065</td>\n",
       "      <td>3788</td>\n",
       "      <td>12860</td>\n",
       "      <td>1916</td>\n",
       "      <td>3331</td>\n",
       "      <td>11734</td>\n",
       "      <td>2470</td>\n",
       "      <td>1688</td>\n",
       "      <td>1472</td>\n",
       "      <td>3064</td>\n",
       "      <td>1784</td>\n",
       "      <td>5230</td>\n",
       "      <td>3679</td>\n",
       "      <td>4613</td>\n",
       "      <td>1899</td>\n",
       "      <td>5735</td>\n",
       "      <td>230</td>\n",
       "    </tr>\n",
       "    <tr>\n",
       "      <th>2018-07-01 09:00:00</th>\n",
       "      <td>1749</td>\n",
       "      <td>15610</td>\n",
       "      <td>5862</td>\n",
       "      <td>7833</td>\n",
       "      <td>4262</td>\n",
       "      <td>14212</td>\n",
       "      <td>2145</td>\n",
       "      <td>3703</td>\n",
       "      <td>13084</td>\n",
       "      <td>2765</td>\n",
       "      <td>1875</td>\n",
       "      <td>1656</td>\n",
       "      <td>3569</td>\n",
       "      <td>1972</td>\n",
       "      <td>5752</td>\n",
       "      <td>4085</td>\n",
       "      <td>5014</td>\n",
       "      <td>2055</td>\n",
       "      <td>6299</td>\n",
       "      <td>259</td>\n",
       "    </tr>\n",
       "  </tbody>\n",
       "</table>\n",
       "</div>"
      ],
      "text/plain": [
       "                       AE    AEP    AP  ATSI    BC     CE   DAY  DEOK    DOM  \\\n",
       "period                                                                         \n",
       "2018-07-01 05:00:00  1301  12187  4384  6960  3134  12136  1619  2895   9775   \n",
       "2018-07-01 06:00:00  1314  11946  4391  6762  3139  11872  1605  2857   9787   \n",
       "2018-07-01 07:00:00  1410  12664  4757  6670  3377  11992  1707  2997  10453   \n",
       "2018-07-01 08:00:00  1567  14069  5308  7065  3788  12860  1916  3331  11734   \n",
       "2018-07-01 09:00:00  1749  15610  5862  7833  4262  14212  2145  3703  13084   \n",
       "\n",
       "                      DPL   DUQ  EKPC    JC    ME    PE   PEP    PL    PN  \\\n",
       "period                                                                      \n",
       "2018-07-01 05:00:00  1919  1466  1209  2388  1442  4397  3165  3835  1611   \n",
       "2018-07-01 06:00:00  1950  1455  1197  2416  1465  4423  3156  3901  1641   \n",
       "2018-07-01 07:00:00  2160  1528  1273  2644  1605  4743  3332  4232  1728   \n",
       "2018-07-01 08:00:00  2470  1688  1472  3064  1784  5230  3679  4613  1899   \n",
       "2018-07-01 09:00:00  2765  1875  1656  3569  1972  5752  4085  5014  2055   \n",
       "\n",
       "                       PS  RECO  \n",
       "period                           \n",
       "2018-07-01 05:00:00  5009   186  \n",
       "2018-07-01 06:00:00  4990   187  \n",
       "2018-07-01 07:00:00  5267   202  \n",
       "2018-07-01 08:00:00  5735   230  \n",
       "2018-07-01 09:00:00  6299   259  "
      ]
     },
     "execution_count": 2,
     "metadata": {},
     "output_type": "execute_result"
    }
   ],
   "source": [
    "df_base = pd.read_csv('../data/general/pjm_pivot.csv', index_col=0, parse_dates=True)\n",
    "df_base.head()"
   ]
  },
  {
   "attachments": {},
   "cell_type": "markdown",
   "id": "4b023c99",
   "metadata": {
    "papermill": {
     "duration": 0.007,
     "end_time": "2023-12-13T13:33:33.323282",
     "exception": false,
     "start_time": "2023-12-13T13:33:33.316282",
     "status": "completed"
    },
    "tags": []
   },
   "source": [
    "## Select region"
   ]
  },
  {
   "cell_type": "code",
   "execution_count": 3,
   "id": "4124b71e",
   "metadata": {
    "execution": {
     "iopub.execute_input": "2023-12-13T13:33:33.340100Z",
     "iopub.status.busy": "2023-12-13T13:33:33.339098Z",
     "iopub.status.idle": "2023-12-13T13:33:33.357355Z",
     "shell.execute_reply": "2023-12-13T13:33:33.356354Z"
    },
    "papermill": {
     "duration": 0.027765,
     "end_time": "2023-12-13T13:33:33.358354",
     "exception": false,
     "start_time": "2023-12-13T13:33:33.330589",
     "status": "completed"
    },
    "tags": [
     "parameters"
    ]
   },
   "outputs": [],
   "source": [
    "region = 'AE'"
   ]
  },
  {
   "cell_type": "code",
   "execution_count": 4,
   "id": "0542e2e8",
   "metadata": {
    "execution": {
     "iopub.execute_input": "2023-12-13T13:33:33.374382Z",
     "iopub.status.busy": "2023-12-13T13:33:33.373382Z",
     "iopub.status.idle": "2023-12-13T13:33:33.380445Z",
     "shell.execute_reply": "2023-12-13T13:33:33.380354Z"
    },
    "papermill": {
     "duration": 0.017418,
     "end_time": "2023-12-13T13:33:33.382774",
     "exception": false,
     "start_time": "2023-12-13T13:33:33.365356",
     "status": "completed"
    },
    "tags": [
     "injected-parameters"
    ]
   },
   "outputs": [],
   "source": [
    "# Parameters\n",
    "region = \"PE\"\n"
   ]
  },
  {
   "cell_type": "code",
   "execution_count": 5,
   "id": "d726e07c",
   "metadata": {
    "execution": {
     "iopub.execute_input": "2023-12-13T13:33:33.396518Z",
     "iopub.status.busy": "2023-12-13T13:33:33.396518Z",
     "iopub.status.idle": "2023-12-13T13:33:33.416262Z",
     "shell.execute_reply": "2023-12-13T13:33:33.415341Z"
    },
    "papermill": {
     "duration": 0.028473,
     "end_time": "2023-12-13T13:33:33.417294",
     "exception": false,
     "start_time": "2023-12-13T13:33:33.388821",
     "status": "completed"
    },
    "tags": []
   },
   "outputs": [
    {
     "data": {
      "text/html": [
       "<div>\n",
       "<style scoped>\n",
       "    .dataframe tbody tr th:only-of-type {\n",
       "        vertical-align: middle;\n",
       "    }\n",
       "\n",
       "    .dataframe tbody tr th {\n",
       "        vertical-align: top;\n",
       "    }\n",
       "\n",
       "    .dataframe thead th {\n",
       "        text-align: right;\n",
       "    }\n",
       "</style>\n",
       "<table border=\"1\" class=\"dataframe\">\n",
       "  <thead>\n",
       "    <tr style=\"text-align: right;\">\n",
       "      <th></th>\n",
       "      <th>PE</th>\n",
       "    </tr>\n",
       "    <tr>\n",
       "      <th>period</th>\n",
       "      <th></th>\n",
       "    </tr>\n",
       "  </thead>\n",
       "  <tbody>\n",
       "    <tr>\n",
       "      <th>2018-07-01 05:00:00</th>\n",
       "      <td>4397</td>\n",
       "    </tr>\n",
       "    <tr>\n",
       "      <th>2018-07-01 06:00:00</th>\n",
       "      <td>4423</td>\n",
       "    </tr>\n",
       "    <tr>\n",
       "      <th>2018-07-01 07:00:00</th>\n",
       "      <td>4743</td>\n",
       "    </tr>\n",
       "    <tr>\n",
       "      <th>2018-07-01 08:00:00</th>\n",
       "      <td>5230</td>\n",
       "    </tr>\n",
       "    <tr>\n",
       "      <th>2018-07-01 09:00:00</th>\n",
       "      <td>5752</td>\n",
       "    </tr>\n",
       "    <tr>\n",
       "      <th>...</th>\n",
       "      <td>...</td>\n",
       "    </tr>\n",
       "    <tr>\n",
       "      <th>2023-11-01 00:00:00</th>\n",
       "      <td>4047</td>\n",
       "    </tr>\n",
       "    <tr>\n",
       "      <th>2023-11-01 01:00:00</th>\n",
       "      <td>3980</td>\n",
       "    </tr>\n",
       "    <tr>\n",
       "      <th>2023-11-01 02:00:00</th>\n",
       "      <td>3851</td>\n",
       "    </tr>\n",
       "    <tr>\n",
       "      <th>2023-11-01 03:00:00</th>\n",
       "      <td>3642</td>\n",
       "    </tr>\n",
       "    <tr>\n",
       "      <th>2023-11-01 04:00:00</th>\n",
       "      <td>3430</td>\n",
       "    </tr>\n",
       "  </tbody>\n",
       "</table>\n",
       "<p>44904 rows × 1 columns</p>\n",
       "</div>"
      ],
      "text/plain": [
       "                       PE\n",
       "period                   \n",
       "2018-07-01 05:00:00  4397\n",
       "2018-07-01 06:00:00  4423\n",
       "2018-07-01 07:00:00  4743\n",
       "2018-07-01 08:00:00  5230\n",
       "2018-07-01 09:00:00  5752\n",
       "...                   ...\n",
       "2023-11-01 00:00:00  4047\n",
       "2023-11-01 01:00:00  3980\n",
       "2023-11-01 02:00:00  3851\n",
       "2023-11-01 03:00:00  3642\n",
       "2023-11-01 04:00:00  3430\n",
       "\n",
       "[44904 rows x 1 columns]"
      ]
     },
     "execution_count": 5,
     "metadata": {},
     "output_type": "execute_result"
    }
   ],
   "source": [
    "df = df_base.loc[:, [region]]\n",
    "df"
   ]
  },
  {
   "attachments": {},
   "cell_type": "markdown",
   "id": "9b14e24e",
   "metadata": {
    "papermill": {
     "duration": 0.008503,
     "end_time": "2023-12-13T13:33:33.434841",
     "exception": false,
     "start_time": "2023-12-13T13:33:33.426338",
     "status": "completed"
    },
    "tags": []
   },
   "source": [
    "## Data Preprocessing"
   ]
  },
  {
   "cell_type": "markdown",
   "id": "468e0d3e",
   "metadata": {
    "papermill": {
     "duration": 0.010697,
     "end_time": "2023-12-13T13:33:33.453461",
     "exception": false,
     "start_time": "2023-12-13T13:33:33.442764",
     "status": "completed"
    },
    "tags": []
   },
   "source": [
    "### Train Test Split"
   ]
  },
  {
   "cell_type": "code",
   "execution_count": 6,
   "id": "0753cc1f",
   "metadata": {
    "execution": {
     "iopub.execute_input": "2023-12-13T13:33:33.470620Z",
     "iopub.status.busy": "2023-12-13T13:33:33.470620Z",
     "iopub.status.idle": "2023-12-13T13:33:33.900406Z",
     "shell.execute_reply": "2023-12-13T13:33:33.900406Z"
    },
    "papermill": {
     "duration": 0.441945,
     "end_time": "2023-12-13T13:33:33.902408",
     "exception": false,
     "start_time": "2023-12-13T13:33:33.460463",
     "status": "completed"
    },
    "tags": []
   },
   "outputs": [],
   "source": [
    "from sklearn.model_selection import train_test_split\n",
    "\n",
    "train, test = train_test_split(df, test_size=0.3, shuffle=False)\n",
    "test, prod = train_test_split(test, test_size=0.5, shuffle=False)"
   ]
  },
  {
   "cell_type": "markdown",
   "id": "723ef228",
   "metadata": {
    "papermill": {
     "duration": 0.008195,
     "end_time": "2023-12-13T13:33:33.917482",
     "exception": false,
     "start_time": "2023-12-13T13:33:33.909287",
     "status": "completed"
    },
    "tags": []
   },
   "source": [
    "### Export Data"
   ]
  },
  {
   "cell_type": "code",
   "execution_count": 7,
   "id": "c0b86f6e",
   "metadata": {
    "execution": {
     "iopub.execute_input": "2023-12-13T13:33:33.933488Z",
     "iopub.status.busy": "2023-12-13T13:33:33.933488Z",
     "iopub.status.idle": "2023-12-13T13:33:34.036319Z",
     "shell.execute_reply": "2023-12-13T13:33:34.036262Z"
    },
    "papermill": {
     "duration": 0.11409,
     "end_time": "2023-12-13T13:33:34.038318",
     "exception": false,
     "start_time": "2023-12-13T13:33:33.924228",
     "status": "completed"
    },
    "tags": []
   },
   "outputs": [],
   "source": [
    "import os\n",
    "\n",
    "path_region = f'../data/regions/{region}'\n",
    "\n",
    "if not os.path.exists(path_region):\n",
    "    os.makedirs(path_region)\n",
    "\n",
    "for df, name in zip([train, test, prod], ['train', 'test', 'prod']):\n",
    "    df.to_csv(f'{path_region}/{name}.csv')"
   ]
  },
  {
   "attachments": {},
   "cell_type": "markdown",
   "id": "1d08c5ce",
   "metadata": {
    "papermill": {
     "duration": 0.007484,
     "end_time": "2023-12-13T13:33:34.052804",
     "exception": false,
     "start_time": "2023-12-13T13:33:34.045320",
     "status": "completed"
    },
    "tags": []
   },
   "source": [
    "### Scale Data"
   ]
  },
  {
   "cell_type": "code",
   "execution_count": 8,
   "id": "e704b6a0",
   "metadata": {
    "execution": {
     "iopub.execute_input": "2023-12-13T13:33:34.067399Z",
     "iopub.status.busy": "2023-12-13T13:33:34.067399Z",
     "iopub.status.idle": "2023-12-13T13:33:34.083553Z",
     "shell.execute_reply": "2023-12-13T13:33:34.083024Z"
    },
    "papermill": {
     "duration": 0.027141,
     "end_time": "2023-12-13T13:33:34.085556",
     "exception": false,
     "start_time": "2023-12-13T13:33:34.058415",
     "status": "completed"
    },
    "tags": []
   },
   "outputs": [],
   "source": [
    "from sklearn.preprocessing import MinMaxScaler\n",
    "\n",
    "scaler = MinMaxScaler(feature_range=(0, 1))\n",
    "\n",
    "train_norm = scaler.fit_transform(train)\n",
    "test_norm = scaler.transform(test)"
   ]
  },
  {
   "attachments": {},
   "cell_type": "markdown",
   "id": "46f9dd08",
   "metadata": {
    "papermill": {
     "duration": 0.010002,
     "end_time": "2023-12-13T13:33:34.101559",
     "exception": false,
     "start_time": "2023-12-13T13:33:34.091557",
     "status": "completed"
    },
    "tags": []
   },
   "source": [
    "### Create Sequences"
   ]
  },
  {
   "cell_type": "code",
   "execution_count": 9,
   "id": "39bf2d38",
   "metadata": {
    "execution": {
     "iopub.execute_input": "2023-12-13T13:33:34.118711Z",
     "iopub.status.busy": "2023-12-13T13:33:34.118711Z",
     "iopub.status.idle": "2023-12-13T13:33:34.190550Z",
     "shell.execute_reply": "2023-12-13T13:33:34.189812Z"
    },
    "papermill": {
     "duration": 0.082038,
     "end_time": "2023-12-13T13:33:34.191599",
     "exception": false,
     "start_time": "2023-12-13T13:33:34.109561",
     "status": "completed"
    },
    "tags": []
   },
   "outputs": [],
   "source": [
    "import numpy as np\n",
    "\n",
    "def create_sequences(data, sequence_length):\n",
    "    X, y = [], []\n",
    "    for i in range(len(data) - sequence_length):\n",
    "        X.append(data[i:i+sequence_length])\n",
    "        y.append(data[i+sequence_length])\n",
    "    return np.array(X), np.array(y)\n",
    "\n",
    "sequence_length = 24 # Use 24 hours prior to predict the following hour\n",
    "X_train, y_train = create_sequences(train_norm, sequence_length)\n",
    "X_test, y_test = create_sequences(test_norm, sequence_length)"
   ]
  },
  {
   "attachments": {},
   "cell_type": "markdown",
   "id": "d710c58b",
   "metadata": {
    "papermill": {
     "duration": 0.007031,
     "end_time": "2023-12-13T13:33:34.206264",
     "exception": false,
     "start_time": "2023-12-13T13:33:34.199233",
     "status": "completed"
    },
    "tags": []
   },
   "source": [
    "## Modelling"
   ]
  },
  {
   "attachments": {},
   "cell_type": "markdown",
   "id": "fc1777a2",
   "metadata": {
    "papermill": {
     "duration": 0.008332,
     "end_time": "2023-12-13T13:33:34.221598",
     "exception": false,
     "start_time": "2023-12-13T13:33:34.213266",
     "status": "completed"
    },
    "tags": []
   },
   "source": [
    "### Design NN Architecture"
   ]
  },
  {
   "cell_type": "code",
   "execution_count": 10,
   "id": "9144e489",
   "metadata": {
    "execution": {
     "iopub.execute_input": "2023-12-13T13:33:34.238441Z",
     "iopub.status.busy": "2023-12-13T13:33:34.238441Z",
     "iopub.status.idle": "2023-12-13T13:33:35.664329Z",
     "shell.execute_reply": "2023-12-13T13:33:35.664223Z"
    },
    "papermill": {
     "duration": 1.437756,
     "end_time": "2023-12-13T13:33:35.666332",
     "exception": false,
     "start_time": "2023-12-13T13:33:34.228576",
     "status": "completed"
    },
    "tags": []
   },
   "outputs": [
    {
     "name": "stderr",
     "output_type": "stream",
     "text": [
      "c:\\Users\\jesus\\miniconda3\\envs\\tf-base\\lib\\site-packages\\tensorflow\\python\\framework\\dtypes.py:516: FutureWarning: Passing (type, 1) or '1type' as a synonym of type is deprecated; in a future version of numpy, it will be understood as (type, (1,)) / '(1,)type'.\n",
      "  _np_qint8 = np.dtype([(\"qint8\", np.int8, 1)])\n",
      "c:\\Users\\jesus\\miniconda3\\envs\\tf-base\\lib\\site-packages\\tensorflow\\python\\framework\\dtypes.py:517: FutureWarning: Passing (type, 1) or '1type' as a synonym of type is deprecated; in a future version of numpy, it will be understood as (type, (1,)) / '(1,)type'.\n",
      "  _np_quint8 = np.dtype([(\"quint8\", np.uint8, 1)])\n",
      "c:\\Users\\jesus\\miniconda3\\envs\\tf-base\\lib\\site-packages\\tensorflow\\python\\framework\\dtypes.py:518: FutureWarning: Passing (type, 1) or '1type' as a synonym of type is deprecated; in a future version of numpy, it will be understood as (type, (1,)) / '(1,)type'.\n",
      "  _np_qint16 = np.dtype([(\"qint16\", np.int16, 1)])\n",
      "c:\\Users\\jesus\\miniconda3\\envs\\tf-base\\lib\\site-packages\\tensorflow\\python\\framework\\dtypes.py:519: FutureWarning: Passing (type, 1) or '1type' as a synonym of type is deprecated; in a future version of numpy, it will be understood as (type, (1,)) / '(1,)type'.\n",
      "  _np_quint16 = np.dtype([(\"quint16\", np.uint16, 1)])\n",
      "c:\\Users\\jesus\\miniconda3\\envs\\tf-base\\lib\\site-packages\\tensorflow\\python\\framework\\dtypes.py:520: FutureWarning: Passing (type, 1) or '1type' as a synonym of type is deprecated; in a future version of numpy, it will be understood as (type, (1,)) / '(1,)type'.\n",
      "  _np_qint32 = np.dtype([(\"qint32\", np.int32, 1)])\n",
      "c:\\Users\\jesus\\miniconda3\\envs\\tf-base\\lib\\site-packages\\tensorflow\\python\\framework\\dtypes.py:525: FutureWarning: Passing (type, 1) or '1type' as a synonym of type is deprecated; in a future version of numpy, it will be understood as (type, (1,)) / '(1,)type'.\n",
      "  np_resource = np.dtype([(\"resource\", np.ubyte, 1)])\n"
     ]
    },
    {
     "name": "stdout",
     "output_type": "stream",
     "text": [
      "WARNING:tensorflow:From c:\\Users\\jesus\\miniconda3\\envs\\tf-base\\lib\\site-packages\\tensorflow\\python\\ops\\init_ops.py:1251: calling VarianceScaling.__init__ (from tensorflow.python.ops.init_ops) with dtype is deprecated and will be removed in a future version.\n",
      "Instructions for updating:\n",
      "Call initializer instance with the dtype argument instead of passing it to the constructor\n"
     ]
    },
    {
     "name": "stderr",
     "output_type": "stream",
     "text": [
      "c:\\Users\\jesus\\miniconda3\\envs\\tf-base\\lib\\site-packages\\tensorboard\\compat\\tensorflow_stub\\dtypes.py:541: FutureWarning: Passing (type, 1) or '1type' as a synonym of type is deprecated; in a future version of numpy, it will be understood as (type, (1,)) / '(1,)type'.\n",
      "  _np_qint8 = np.dtype([(\"qint8\", np.int8, 1)])\n",
      "c:\\Users\\jesus\\miniconda3\\envs\\tf-base\\lib\\site-packages\\tensorboard\\compat\\tensorflow_stub\\dtypes.py:542: FutureWarning: Passing (type, 1) or '1type' as a synonym of type is deprecated; in a future version of numpy, it will be understood as (type, (1,)) / '(1,)type'.\n",
      "  _np_quint8 = np.dtype([(\"quint8\", np.uint8, 1)])\n",
      "c:\\Users\\jesus\\miniconda3\\envs\\tf-base\\lib\\site-packages\\tensorboard\\compat\\tensorflow_stub\\dtypes.py:543: FutureWarning: Passing (type, 1) or '1type' as a synonym of type is deprecated; in a future version of numpy, it will be understood as (type, (1,)) / '(1,)type'.\n",
      "  _np_qint16 = np.dtype([(\"qint16\", np.int16, 1)])\n",
      "c:\\Users\\jesus\\miniconda3\\envs\\tf-base\\lib\\site-packages\\tensorboard\\compat\\tensorflow_stub\\dtypes.py:544: FutureWarning: Passing (type, 1) or '1type' as a synonym of type is deprecated; in a future version of numpy, it will be understood as (type, (1,)) / '(1,)type'.\n",
      "  _np_quint16 = np.dtype([(\"quint16\", np.uint16, 1)])\n",
      "c:\\Users\\jesus\\miniconda3\\envs\\tf-base\\lib\\site-packages\\tensorboard\\compat\\tensorflow_stub\\dtypes.py:545: FutureWarning: Passing (type, 1) or '1type' as a synonym of type is deprecated; in a future version of numpy, it will be understood as (type, (1,)) / '(1,)type'.\n",
      "  _np_qint32 = np.dtype([(\"qint32\", np.int32, 1)])\n",
      "c:\\Users\\jesus\\miniconda3\\envs\\tf-base\\lib\\site-packages\\tensorboard\\compat\\tensorflow_stub\\dtypes.py:550: FutureWarning: Passing (type, 1) or '1type' as a synonym of type is deprecated; in a future version of numpy, it will be understood as (type, (1,)) / '(1,)type'.\n",
      "  np_resource = np.dtype([(\"resource\", np.ubyte, 1)])\n"
     ]
    }
   ],
   "source": [
    "from tensorflow.keras.models import Sequential\n",
    "from tensorflow.keras.layers import LSTM, Dense\n",
    "\n",
    "model = Sequential()\n",
    "model.add(LSTM(50, input_shape=(X_train.shape[1], X_train.shape[2])))\n",
    "model.add(Dense(1))\n",
    "model.compile(optimizer='adam', loss='mean_squared_error')"
   ]
  },
  {
   "attachments": {},
   "cell_type": "markdown",
   "id": "ac5ced6a",
   "metadata": {
    "papermill": {
     "duration": 0.007104,
     "end_time": "2023-12-13T13:33:35.681600",
     "exception": false,
     "start_time": "2023-12-13T13:33:35.674496",
     "status": "completed"
    },
    "tags": []
   },
   "source": [
    "### Train Model"
   ]
  },
  {
   "cell_type": "code",
   "execution_count": 11,
   "id": "5cfa4dea",
   "metadata": {
    "execution": {
     "iopub.execute_input": "2023-12-13T13:33:35.696706Z",
     "iopub.status.busy": "2023-12-13T13:33:35.695644Z",
     "iopub.status.idle": "2023-12-13T13:36:50.106310Z",
     "shell.execute_reply": "2023-12-13T13:36:50.105308Z"
    },
    "papermill": {
     "duration": 194.418671,
     "end_time": "2023-12-13T13:36:50.107311",
     "exception": false,
     "start_time": "2023-12-13T13:33:35.688640",
     "status": "completed"
    },
    "tags": []
   },
   "outputs": [
    {
     "name": "stdout",
     "output_type": "stream",
     "text": [
      "WARNING:tensorflow:From c:\\Users\\jesus\\miniconda3\\envs\\tf-base\\lib\\site-packages\\tensorflow\\python\\ops\\math_grad.py:1250: add_dispatch_support.<locals>.wrapper (from tensorflow.python.ops.array_ops) is deprecated and will be removed in a future version.\n",
      "Instructions for updating:\n",
      "Use tf.where in 2.0, which has the same broadcast rule as np.where\n"
     ]
    }
   ],
   "source": [
    "from tensorflow.keras.callbacks import EarlyStopping\n",
    "\n",
    "early_stop = EarlyStopping(monitor='val_loss', patience=5)\n",
    "\n",
    "history = model.fit(\n",
    "    X_train, y_train, epochs=50, batch_size=64, verbose=0,\n",
    "    validation_data=(X_test, y_test), callbacks=[early_stop])"
   ]
  },
  {
   "attachments": {},
   "cell_type": "markdown",
   "id": "8b549007",
   "metadata": {
    "papermill": {
     "duration": 0.008349,
     "end_time": "2023-12-13T13:36:50.123661",
     "exception": false,
     "start_time": "2023-12-13T13:36:50.115312",
     "status": "completed"
    },
    "tags": []
   },
   "source": [
    "### Calculate Predictions"
   ]
  },
  {
   "cell_type": "code",
   "execution_count": 12,
   "id": "2c032b5d",
   "metadata": {
    "execution": {
     "iopub.execute_input": "2023-12-13T13:36:50.140765Z",
     "iopub.status.busy": "2023-12-13T13:36:50.140765Z",
     "iopub.status.idle": "2023-12-13T13:36:50.670232Z",
     "shell.execute_reply": "2023-12-13T13:36:50.670232Z"
    },
    "papermill": {
     "duration": 0.53957,
     "end_time": "2023-12-13T13:36:50.670232",
     "exception": false,
     "start_time": "2023-12-13T13:36:50.130662",
     "status": "completed"
    },
    "tags": []
   },
   "outputs": [
    {
     "data": {
      "text/plain": [
       "array([[0.1591324 ],\n",
       "       [0.16799632],\n",
       "       [0.17178062],\n",
       "       ...,\n",
       "       [0.2677354 ],\n",
       "       [0.32598493],\n",
       "       [0.39564347]], dtype=float32)"
      ]
     },
     "execution_count": 12,
     "metadata": {},
     "output_type": "execute_result"
    }
   ],
   "source": [
    "y_pred = model.predict(X_test)\n",
    "y_pred"
   ]
  },
  {
   "attachments": {},
   "cell_type": "markdown",
   "id": "79d4ba0d",
   "metadata": {
    "papermill": {
     "duration": 0.017009,
     "end_time": "2023-12-13T13:36:50.687241",
     "exception": false,
     "start_time": "2023-12-13T13:36:50.670232",
     "status": "completed"
    },
    "tags": []
   },
   "source": [
    "### Comparison: Real Data & Prediction"
   ]
  },
  {
   "attachments": {},
   "cell_type": "markdown",
   "id": "c6efd462",
   "metadata": {
    "papermill": {
     "duration": 0.015005,
     "end_time": "2023-12-13T13:36:50.702246",
     "exception": false,
     "start_time": "2023-12-13T13:36:50.687241",
     "status": "completed"
    },
    "tags": []
   },
   "source": [
    "#### Descale Data"
   ]
  },
  {
   "cell_type": "code",
   "execution_count": 13,
   "id": "00268712",
   "metadata": {
    "execution": {
     "iopub.execute_input": "2023-12-13T13:36:50.719821Z",
     "iopub.status.busy": "2023-12-13T13:36:50.719821Z",
     "iopub.status.idle": "2023-12-13T13:36:50.737193Z",
     "shell.execute_reply": "2023-12-13T13:36:50.737193Z"
    },
    "papermill": {
     "duration": 0.030652,
     "end_time": "2023-12-13T13:36:50.737193",
     "exception": false,
     "start_time": "2023-12-13T13:36:50.706541",
     "status": "completed"
    },
    "tags": []
   },
   "outputs": [],
   "source": [
    "y_pred_scaled_inverse = scaler.inverse_transform(y_pred)\n",
    "y_true = scaler.inverse_transform(y_test)"
   ]
  },
  {
   "attachments": {},
   "cell_type": "markdown",
   "id": "eb46bb21",
   "metadata": {
    "papermill": {
     "duration": 0.016751,
     "end_time": "2023-12-13T13:36:50.753944",
     "exception": false,
     "start_time": "2023-12-13T13:36:50.737193",
     "status": "completed"
    },
    "tags": []
   },
   "source": [
    "#### Create DataFrame"
   ]
  },
  {
   "cell_type": "code",
   "execution_count": 14,
   "id": "45ba8865",
   "metadata": {
    "execution": {
     "iopub.execute_input": "2023-12-13T13:36:50.770841Z",
     "iopub.status.busy": "2023-12-13T13:36:50.770841Z",
     "iopub.status.idle": "2023-12-13T13:36:50.786466Z",
     "shell.execute_reply": "2023-12-13T13:36:50.786466Z"
    },
    "papermill": {
     "duration": 0.034525,
     "end_time": "2023-12-13T13:36:50.788469",
     "exception": false,
     "start_time": "2023-12-13T13:36:50.753944",
     "status": "completed"
    },
    "tags": []
   },
   "outputs": [
    {
     "data": {
      "text/html": [
       "<div>\n",
       "<style scoped>\n",
       "    .dataframe tbody tr th:only-of-type {\n",
       "        vertical-align: middle;\n",
       "    }\n",
       "\n",
       "    .dataframe tbody tr th {\n",
       "        vertical-align: top;\n",
       "    }\n",
       "\n",
       "    .dataframe thead th {\n",
       "        text-align: right;\n",
       "    }\n",
       "</style>\n",
       "<table border=\"1\" class=\"dataframe\">\n",
       "  <thead>\n",
       "    <tr style=\"text-align: right;\">\n",
       "      <th></th>\n",
       "      <th>y_pred</th>\n",
       "      <th>y_pred_scaled_inverse</th>\n",
       "      <th>y_true</th>\n",
       "    </tr>\n",
       "  </thead>\n",
       "  <tbody>\n",
       "    <tr>\n",
       "      <th>0</th>\n",
       "      <td>0.159132</td>\n",
       "      <td>3400.656982</td>\n",
       "      <td>3420.0</td>\n",
       "    </tr>\n",
       "    <tr>\n",
       "      <th>1</th>\n",
       "      <td>0.167996</td>\n",
       "      <td>3453.610107</td>\n",
       "      <td>3454.0</td>\n",
       "    </tr>\n",
       "    <tr>\n",
       "      <th>2</th>\n",
       "      <td>0.171781</td>\n",
       "      <td>3476.217529</td>\n",
       "      <td>3572.0</td>\n",
       "    </tr>\n",
       "    <tr>\n",
       "      <th>3</th>\n",
       "      <td>0.196160</td>\n",
       "      <td>3621.861816</td>\n",
       "      <td>3752.0</td>\n",
       "    </tr>\n",
       "    <tr>\n",
       "      <th>4</th>\n",
       "      <td>0.224965</td>\n",
       "      <td>3793.938721</td>\n",
       "      <td>3738.0</td>\n",
       "    </tr>\n",
       "    <tr>\n",
       "      <th>...</th>\n",
       "      <td>...</td>\n",
       "      <td>...</td>\n",
       "      <td>...</td>\n",
       "    </tr>\n",
       "    <tr>\n",
       "      <th>6707</th>\n",
       "      <td>0.223490</td>\n",
       "      <td>3785.130615</td>\n",
       "      <td>3786.0</td>\n",
       "    </tr>\n",
       "    <tr>\n",
       "      <th>6708</th>\n",
       "      <td>0.232665</td>\n",
       "      <td>3839.937744</td>\n",
       "      <td>3881.0</td>\n",
       "    </tr>\n",
       "    <tr>\n",
       "      <th>6709</th>\n",
       "      <td>0.267735</td>\n",
       "      <td>4049.451416</td>\n",
       "      <td>4127.0</td>\n",
       "    </tr>\n",
       "    <tr>\n",
       "      <th>6710</th>\n",
       "      <td>0.325985</td>\n",
       "      <td>4397.434082</td>\n",
       "      <td>4528.0</td>\n",
       "    </tr>\n",
       "    <tr>\n",
       "      <th>6711</th>\n",
       "      <td>0.395643</td>\n",
       "      <td>4813.574219</td>\n",
       "      <td>4816.0</td>\n",
       "    </tr>\n",
       "  </tbody>\n",
       "</table>\n",
       "<p>6712 rows × 3 columns</p>\n",
       "</div>"
      ],
      "text/plain": [
       "        y_pred  y_pred_scaled_inverse  y_true\n",
       "0     0.159132            3400.656982  3420.0\n",
       "1     0.167996            3453.610107  3454.0\n",
       "2     0.171781            3476.217529  3572.0\n",
       "3     0.196160            3621.861816  3752.0\n",
       "4     0.224965            3793.938721  3738.0\n",
       "...        ...                    ...     ...\n",
       "6707  0.223490            3785.130615  3786.0\n",
       "6708  0.232665            3839.937744  3881.0\n",
       "6709  0.267735            4049.451416  4127.0\n",
       "6710  0.325985            4397.434082  4528.0\n",
       "6711  0.395643            4813.574219  4816.0\n",
       "\n",
       "[6712 rows x 3 columns]"
      ]
     },
     "execution_count": 14,
     "metadata": {},
     "output_type": "execute_result"
    }
   ],
   "source": [
    "dic_pred = {\n",
    "    'y_pred': y_pred.flatten(),\n",
    "    'y_pred_scaled_inverse': y_pred_scaled_inverse.flatten(),\n",
    "    'y_true': y_true.flatten(),\n",
    "}\n",
    "\n",
    "df_pred = pd.DataFrame(dic_pred)\n",
    "df_pred"
   ]
  },
  {
   "attachments": {},
   "cell_type": "markdown",
   "id": "c5147ede",
   "metadata": {
    "papermill": {
     "duration": 0.014626,
     "end_time": "2023-12-13T13:36:50.804639",
     "exception": false,
     "start_time": "2023-12-13T13:36:50.790013",
     "status": "completed"
    },
    "tags": []
   },
   "source": [
    "#### Evaluate Model"
   ]
  },
  {
   "cell_type": "code",
   "execution_count": 15,
   "id": "2cb28507",
   "metadata": {
    "execution": {
     "iopub.execute_input": "2023-12-13T13:36:50.821827Z",
     "iopub.status.busy": "2023-12-13T13:36:50.821827Z",
     "iopub.status.idle": "2023-12-13T13:36:50.826007Z",
     "shell.execute_reply": "2023-12-13T13:36:50.826007Z"
    },
    "papermill": {
     "duration": 0.021368,
     "end_time": "2023-12-13T13:36:50.826007",
     "exception": false,
     "start_time": "2023-12-13T13:36:50.804639",
     "status": "completed"
    },
    "tags": []
   },
   "outputs": [],
   "source": [
    "from sklearn.metrics import mean_squared_error"
   ]
  },
  {
   "cell_type": "code",
   "execution_count": 16,
   "id": "31f343e4",
   "metadata": {
    "execution": {
     "iopub.execute_input": "2023-12-13T13:36:50.843530Z",
     "iopub.status.busy": "2023-12-13T13:36:50.843530Z",
     "iopub.status.idle": "2023-12-13T13:36:50.853994Z",
     "shell.execute_reply": "2023-12-13T13:36:50.853994Z"
    },
    "papermill": {
     "duration": 0.027987,
     "end_time": "2023-12-13T13:36:50.853994",
     "exception": false,
     "start_time": "2023-12-13T13:36:50.826007",
     "status": "completed"
    },
    "tags": []
   },
   "outputs": [
    {
     "data": {
      "text/plain": [
       "65.95332341216432"
      ]
     },
     "execution_count": 16,
     "metadata": {},
     "output_type": "execute_result"
    }
   ],
   "source": [
    "mean_squared_error(df_pred.y_true, df_pred.y_pred_scaled_inverse, squared=False)"
   ]
  },
  {
   "cell_type": "code",
   "execution_count": 17,
   "id": "135a86ca",
   "metadata": {
    "execution": {
     "iopub.execute_input": "2023-12-13T13:36:50.870712Z",
     "iopub.status.busy": "2023-12-13T13:36:50.870712Z",
     "iopub.status.idle": "2023-12-13T13:36:50.972266Z",
     "shell.execute_reply": "2023-12-13T13:36:50.971265Z"
    },
    "papermill": {
     "duration": 0.120272,
     "end_time": "2023-12-13T13:36:50.974266",
     "exception": false,
     "start_time": "2023-12-13T13:36:50.853994",
     "status": "completed"
    },
    "tags": []
   },
   "outputs": [],
   "source": [
    "model.save(f'../models/{region}.keras')"
   ]
  }
 ],
 "metadata": {
  "kernelspec": {
   "display_name": "deep-learning",
   "language": "python",
   "name": "python3"
  },
  "language_info": {
   "codemirror_mode": {
    "name": "ipython",
    "version": 3
   },
   "file_extension": ".py",
   "mimetype": "text/x-python",
   "name": "python",
   "nbconvert_exporter": "python",
   "pygments_lexer": "ipython3",
   "version": "3.7.12"
  },
  "papermill": {
   "default_parameters": {},
   "duration": 199.942418,
   "end_time": "2023-12-13T13:36:51.454889",
   "environment_variables": {},
   "exception": null,
   "input_path": "Modelling.ipynb",
   "output_path": "outputs/PE.ipynb",
   "parameters": {
    "region": "PE"
   },
   "start_time": "2023-12-13T13:33:31.512471",
   "version": "2.4.0"
  }
 },
 "nbformat": 4,
 "nbformat_minor": 5
}