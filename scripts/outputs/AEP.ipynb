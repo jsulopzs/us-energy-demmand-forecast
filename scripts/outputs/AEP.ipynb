{
 "cells": [
  {
   "attachments": {},
   "cell_type": "markdown",
   "id": "ab15c5e5",
   "metadata": {
    "papermill": {
     "duration": 0.013339,
     "end_time": "2023-11-26T16:50:00.118128",
     "exception": false,
     "start_time": "2023-11-26T16:50:00.104789",
     "status": "completed"
    },
    "tags": []
   },
   "source": [
    "## Load data"
   ]
  },
  {
   "cell_type": "code",
   "execution_count": 1,
   "id": "a966c391",
   "metadata": {
    "execution": {
     "iopub.execute_input": "2023-11-26T16:50:00.135337Z",
     "iopub.status.busy": "2023-11-26T16:50:00.134883Z",
     "iopub.status.idle": "2023-11-26T16:50:00.685079Z",
     "shell.execute_reply": "2023-11-26T16:50:00.684460Z"
    },
    "papermill": {
     "duration": 0.563026,
     "end_time": "2023-11-26T16:50:00.687123",
     "exception": false,
     "start_time": "2023-11-26T16:50:00.124097",
     "status": "completed"
    },
    "tags": []
   },
   "outputs": [],
   "source": [
    "import pandas as pd"
   ]
  },
  {
   "cell_type": "code",
   "execution_count": 2,
   "id": "28d8d705",
   "metadata": {
    "execution": {
     "iopub.execute_input": "2023-11-26T16:50:00.698688Z",
     "iopub.status.busy": "2023-11-26T16:50:00.698034Z",
     "iopub.status.idle": "2023-11-26T16:50:00.838849Z",
     "shell.execute_reply": "2023-11-26T16:50:00.837946Z"
    },
    "papermill": {
     "duration": 0.149924,
     "end_time": "2023-11-26T16:50:00.841737",
     "exception": false,
     "start_time": "2023-11-26T16:50:00.691813",
     "status": "completed"
    },
    "tags": []
   },
   "outputs": [
    {
     "data": {
      "text/html": [
       "<div>\n",
       "<style scoped>\n",
       "    .dataframe tbody tr th:only-of-type {\n",
       "        vertical-align: middle;\n",
       "    }\n",
       "\n",
       "    .dataframe tbody tr th {\n",
       "        vertical-align: top;\n",
       "    }\n",
       "\n",
       "    .dataframe thead th {\n",
       "        text-align: right;\n",
       "    }\n",
       "</style>\n",
       "<table border=\"1\" class=\"dataframe\">\n",
       "  <thead>\n",
       "    <tr style=\"text-align: right;\">\n",
       "      <th></th>\n",
       "      <th>AE</th>\n",
       "      <th>AEP</th>\n",
       "      <th>AP</th>\n",
       "      <th>ATSI</th>\n",
       "      <th>BC</th>\n",
       "      <th>CE</th>\n",
       "      <th>DAY</th>\n",
       "      <th>DEOK</th>\n",
       "      <th>DOM</th>\n",
       "      <th>DPL</th>\n",
       "      <th>DUQ</th>\n",
       "      <th>EKPC</th>\n",
       "      <th>JC</th>\n",
       "      <th>ME</th>\n",
       "      <th>PE</th>\n",
       "      <th>PEP</th>\n",
       "      <th>PL</th>\n",
       "      <th>PN</th>\n",
       "      <th>PS</th>\n",
       "      <th>RECO</th>\n",
       "    </tr>\n",
       "    <tr>\n",
       "      <th>period</th>\n",
       "      <th></th>\n",
       "      <th></th>\n",
       "      <th></th>\n",
       "      <th></th>\n",
       "      <th></th>\n",
       "      <th></th>\n",
       "      <th></th>\n",
       "      <th></th>\n",
       "      <th></th>\n",
       "      <th></th>\n",
       "      <th></th>\n",
       "      <th></th>\n",
       "      <th></th>\n",
       "      <th></th>\n",
       "      <th></th>\n",
       "      <th></th>\n",
       "      <th></th>\n",
       "      <th></th>\n",
       "      <th></th>\n",
       "      <th></th>\n",
       "    </tr>\n",
       "  </thead>\n",
       "  <tbody>\n",
       "    <tr>\n",
       "      <th>2018-07-01 05:00:00</th>\n",
       "      <td>1301</td>\n",
       "      <td>12187</td>\n",
       "      <td>4384</td>\n",
       "      <td>6960</td>\n",
       "      <td>3134</td>\n",
       "      <td>12136</td>\n",
       "      <td>1619</td>\n",
       "      <td>2895</td>\n",
       "      <td>9775</td>\n",
       "      <td>1919</td>\n",
       "      <td>1466</td>\n",
       "      <td>1209</td>\n",
       "      <td>2388</td>\n",
       "      <td>1442</td>\n",
       "      <td>4397</td>\n",
       "      <td>3165</td>\n",
       "      <td>3835</td>\n",
       "      <td>1611</td>\n",
       "      <td>5009</td>\n",
       "      <td>186</td>\n",
       "    </tr>\n",
       "    <tr>\n",
       "      <th>2018-07-01 06:00:00</th>\n",
       "      <td>1314</td>\n",
       "      <td>11946</td>\n",
       "      <td>4391</td>\n",
       "      <td>6762</td>\n",
       "      <td>3139</td>\n",
       "      <td>11872</td>\n",
       "      <td>1605</td>\n",
       "      <td>2857</td>\n",
       "      <td>9787</td>\n",
       "      <td>1950</td>\n",
       "      <td>1455</td>\n",
       "      <td>1197</td>\n",
       "      <td>2416</td>\n",
       "      <td>1465</td>\n",
       "      <td>4423</td>\n",
       "      <td>3156</td>\n",
       "      <td>3901</td>\n",
       "      <td>1641</td>\n",
       "      <td>4990</td>\n",
       "      <td>187</td>\n",
       "    </tr>\n",
       "    <tr>\n",
       "      <th>2018-07-01 07:00:00</th>\n",
       "      <td>1410</td>\n",
       "      <td>12664</td>\n",
       "      <td>4757</td>\n",
       "      <td>6670</td>\n",
       "      <td>3377</td>\n",
       "      <td>11992</td>\n",
       "      <td>1707</td>\n",
       "      <td>2997</td>\n",
       "      <td>10453</td>\n",
       "      <td>2160</td>\n",
       "      <td>1528</td>\n",
       "      <td>1273</td>\n",
       "      <td>2644</td>\n",
       "      <td>1605</td>\n",
       "      <td>4743</td>\n",
       "      <td>3332</td>\n",
       "      <td>4232</td>\n",
       "      <td>1728</td>\n",
       "      <td>5267</td>\n",
       "      <td>202</td>\n",
       "    </tr>\n",
       "    <tr>\n",
       "      <th>2018-07-01 08:00:00</th>\n",
       "      <td>1567</td>\n",
       "      <td>14069</td>\n",
       "      <td>5308</td>\n",
       "      <td>7065</td>\n",
       "      <td>3788</td>\n",
       "      <td>12860</td>\n",
       "      <td>1916</td>\n",
       "      <td>3331</td>\n",
       "      <td>11734</td>\n",
       "      <td>2470</td>\n",
       "      <td>1688</td>\n",
       "      <td>1472</td>\n",
       "      <td>3064</td>\n",
       "      <td>1784</td>\n",
       "      <td>5230</td>\n",
       "      <td>3679</td>\n",
       "      <td>4613</td>\n",
       "      <td>1899</td>\n",
       "      <td>5735</td>\n",
       "      <td>230</td>\n",
       "    </tr>\n",
       "    <tr>\n",
       "      <th>2018-07-01 09:00:00</th>\n",
       "      <td>1749</td>\n",
       "      <td>15610</td>\n",
       "      <td>5862</td>\n",
       "      <td>7833</td>\n",
       "      <td>4262</td>\n",
       "      <td>14212</td>\n",
       "      <td>2145</td>\n",
       "      <td>3703</td>\n",
       "      <td>13084</td>\n",
       "      <td>2765</td>\n",
       "      <td>1875</td>\n",
       "      <td>1656</td>\n",
       "      <td>3569</td>\n",
       "      <td>1972</td>\n",
       "      <td>5752</td>\n",
       "      <td>4085</td>\n",
       "      <td>5014</td>\n",
       "      <td>2055</td>\n",
       "      <td>6299</td>\n",
       "      <td>259</td>\n",
       "    </tr>\n",
       "  </tbody>\n",
       "</table>\n",
       "</div>"
      ],
      "text/plain": [
       "                       AE    AEP    AP  ATSI    BC     CE   DAY  DEOK    DOM  \\\n",
       "period                                                                         \n",
       "2018-07-01 05:00:00  1301  12187  4384  6960  3134  12136  1619  2895   9775   \n",
       "2018-07-01 06:00:00  1314  11946  4391  6762  3139  11872  1605  2857   9787   \n",
       "2018-07-01 07:00:00  1410  12664  4757  6670  3377  11992  1707  2997  10453   \n",
       "2018-07-01 08:00:00  1567  14069  5308  7065  3788  12860  1916  3331  11734   \n",
       "2018-07-01 09:00:00  1749  15610  5862  7833  4262  14212  2145  3703  13084   \n",
       "\n",
       "                      DPL   DUQ  EKPC    JC    ME    PE   PEP    PL    PN  \\\n",
       "period                                                                      \n",
       "2018-07-01 05:00:00  1919  1466  1209  2388  1442  4397  3165  3835  1611   \n",
       "2018-07-01 06:00:00  1950  1455  1197  2416  1465  4423  3156  3901  1641   \n",
       "2018-07-01 07:00:00  2160  1528  1273  2644  1605  4743  3332  4232  1728   \n",
       "2018-07-01 08:00:00  2470  1688  1472  3064  1784  5230  3679  4613  1899   \n",
       "2018-07-01 09:00:00  2765  1875  1656  3569  1972  5752  4085  5014  2055   \n",
       "\n",
       "                       PS  RECO  \n",
       "period                           \n",
       "2018-07-01 05:00:00  5009   186  \n",
       "2018-07-01 06:00:00  4990   187  \n",
       "2018-07-01 07:00:00  5267   202  \n",
       "2018-07-01 08:00:00  5735   230  \n",
       "2018-07-01 09:00:00  6299   259  "
      ]
     },
     "execution_count": 2,
     "metadata": {},
     "output_type": "execute_result"
    }
   ],
   "source": [
    "df_base = pd.read_csv('../data/pjm_pivot.csv', index_col=0, parse_dates=True)\n",
    "df_base.head()"
   ]
  },
  {
   "attachments": {},
   "cell_type": "markdown",
   "id": "98b57c27",
   "metadata": {
    "papermill": {
     "duration": 0.004412,
     "end_time": "2023-11-26T16:50:00.851536",
     "exception": false,
     "start_time": "2023-11-26T16:50:00.847124",
     "status": "completed"
    },
    "tags": []
   },
   "source": [
    "## Select region"
   ]
  },
  {
   "cell_type": "code",
   "execution_count": 3,
   "id": "3fb14b30",
   "metadata": {
    "execution": {
     "iopub.execute_input": "2023-11-26T16:50:00.861548Z",
     "iopub.status.busy": "2023-11-26T16:50:00.861235Z",
     "iopub.status.idle": "2023-11-26T16:50:00.864819Z",
     "shell.execute_reply": "2023-11-26T16:50:00.863863Z"
    },
    "papermill": {
     "duration": 0.011398,
     "end_time": "2023-11-26T16:50:00.866837",
     "exception": false,
     "start_time": "2023-11-26T16:50:00.855439",
     "status": "completed"
    },
    "tags": [
     "parameters"
    ]
   },
   "outputs": [],
   "source": [
    "region = 'AE'"
   ]
  },
  {
   "cell_type": "code",
   "execution_count": 4,
   "id": "217453c0",
   "metadata": {
    "execution": {
     "iopub.execute_input": "2023-11-26T16:50:00.876355Z",
     "iopub.status.busy": "2023-11-26T16:50:00.876062Z",
     "iopub.status.idle": "2023-11-26T16:50:00.879367Z",
     "shell.execute_reply": "2023-11-26T16:50:00.878793Z"
    },
    "papermill": {
     "duration": 0.010383,
     "end_time": "2023-11-26T16:50:00.881018",
     "exception": false,
     "start_time": "2023-11-26T16:50:00.870635",
     "status": "completed"
    },
    "tags": [
     "injected-parameters"
    ]
   },
   "outputs": [],
   "source": [
    "# Parameters\n",
    "region = \"AEP\"\n"
   ]
  },
  {
   "cell_type": "code",
   "execution_count": 5,
   "id": "00816da6",
   "metadata": {
    "execution": {
     "iopub.execute_input": "2023-11-26T16:50:00.889968Z",
     "iopub.status.busy": "2023-11-26T16:50:00.889706Z",
     "iopub.status.idle": "2023-11-26T16:50:00.897867Z",
     "shell.execute_reply": "2023-11-26T16:50:00.897317Z"
    },
    "papermill": {
     "duration": 0.014932,
     "end_time": "2023-11-26T16:50:00.899710",
     "exception": false,
     "start_time": "2023-11-26T16:50:00.884778",
     "status": "completed"
    },
    "tags": []
   },
   "outputs": [
    {
     "data": {
      "text/html": [
       "<div>\n",
       "<style scoped>\n",
       "    .dataframe tbody tr th:only-of-type {\n",
       "        vertical-align: middle;\n",
       "    }\n",
       "\n",
       "    .dataframe tbody tr th {\n",
       "        vertical-align: top;\n",
       "    }\n",
       "\n",
       "    .dataframe thead th {\n",
       "        text-align: right;\n",
       "    }\n",
       "</style>\n",
       "<table border=\"1\" class=\"dataframe\">\n",
       "  <thead>\n",
       "    <tr style=\"text-align: right;\">\n",
       "      <th></th>\n",
       "      <th>AEP</th>\n",
       "    </tr>\n",
       "    <tr>\n",
       "      <th>period</th>\n",
       "      <th></th>\n",
       "    </tr>\n",
       "  </thead>\n",
       "  <tbody>\n",
       "    <tr>\n",
       "      <th>2018-07-01 05:00:00</th>\n",
       "      <td>12187</td>\n",
       "    </tr>\n",
       "    <tr>\n",
       "      <th>2018-07-01 06:00:00</th>\n",
       "      <td>11946</td>\n",
       "    </tr>\n",
       "    <tr>\n",
       "      <th>2018-07-01 07:00:00</th>\n",
       "      <td>12664</td>\n",
       "    </tr>\n",
       "    <tr>\n",
       "      <th>2018-07-01 08:00:00</th>\n",
       "      <td>14069</td>\n",
       "    </tr>\n",
       "    <tr>\n",
       "      <th>2018-07-01 09:00:00</th>\n",
       "      <td>15610</td>\n",
       "    </tr>\n",
       "    <tr>\n",
       "      <th>...</th>\n",
       "      <td>...</td>\n",
       "    </tr>\n",
       "    <tr>\n",
       "      <th>2023-11-01 00:00:00</th>\n",
       "      <td>15340</td>\n",
       "    </tr>\n",
       "    <tr>\n",
       "      <th>2023-11-01 01:00:00</th>\n",
       "      <td>15397</td>\n",
       "    </tr>\n",
       "    <tr>\n",
       "      <th>2023-11-01 02:00:00</th>\n",
       "      <td>15253</td>\n",
       "    </tr>\n",
       "    <tr>\n",
       "      <th>2023-11-01 03:00:00</th>\n",
       "      <td>14698</td>\n",
       "    </tr>\n",
       "    <tr>\n",
       "      <th>2023-11-01 04:00:00</th>\n",
       "      <td>14110</td>\n",
       "    </tr>\n",
       "  </tbody>\n",
       "</table>\n",
       "<p>44904 rows × 1 columns</p>\n",
       "</div>"
      ],
      "text/plain": [
       "                       AEP\n",
       "period                    \n",
       "2018-07-01 05:00:00  12187\n",
       "2018-07-01 06:00:00  11946\n",
       "2018-07-01 07:00:00  12664\n",
       "2018-07-01 08:00:00  14069\n",
       "2018-07-01 09:00:00  15610\n",
       "...                    ...\n",
       "2023-11-01 00:00:00  15340\n",
       "2023-11-01 01:00:00  15397\n",
       "2023-11-01 02:00:00  15253\n",
       "2023-11-01 03:00:00  14698\n",
       "2023-11-01 04:00:00  14110\n",
       "\n",
       "[44904 rows x 1 columns]"
      ]
     },
     "execution_count": 5,
     "metadata": {},
     "output_type": "execute_result"
    }
   ],
   "source": [
    "df = df_base.loc[:, [region]]\n",
    "df"
   ]
  },
  {
   "attachments": {},
   "cell_type": "markdown",
   "id": "4c562cbb",
   "metadata": {
    "papermill": {
     "duration": 0.024614,
     "end_time": "2023-11-26T16:50:00.928281",
     "exception": false,
     "start_time": "2023-11-26T16:50:00.903667",
     "status": "completed"
    },
    "tags": []
   },
   "source": [
    "## Data Preprocessing"
   ]
  },
  {
   "attachments": {},
   "cell_type": "markdown",
   "id": "df055990",
   "metadata": {
    "papermill": {
     "duration": 0.009219,
     "end_time": "2023-11-26T16:50:00.964157",
     "exception": false,
     "start_time": "2023-11-26T16:50:00.954938",
     "status": "completed"
    },
    "tags": []
   },
   "source": [
    "### Scale Data"
   ]
  },
  {
   "cell_type": "code",
   "execution_count": 6,
   "id": "e9287c56",
   "metadata": {
    "execution": {
     "iopub.execute_input": "2023-11-26T16:50:00.975127Z",
     "iopub.status.busy": "2023-11-26T16:50:00.974698Z",
     "iopub.status.idle": "2023-11-26T16:50:01.680620Z",
     "shell.execute_reply": "2023-11-26T16:50:01.679619Z"
    },
    "papermill": {
     "duration": 0.713944,
     "end_time": "2023-11-26T16:50:01.682991",
     "exception": false,
     "start_time": "2023-11-26T16:50:00.969047",
     "status": "completed"
    },
    "tags": []
   },
   "outputs": [],
   "source": [
    "from sklearn.preprocessing import MinMaxScaler\n",
    "\n",
    "# Normalize data\n",
    "scaler = MinMaxScaler(feature_range=(0, 1))\n",
    "data_norm = scaler.fit_transform(df)"
   ]
  },
  {
   "attachments": {},
   "cell_type": "markdown",
   "id": "af7f488c",
   "metadata": {
    "papermill": {
     "duration": 0.007386,
     "end_time": "2023-11-26T16:50:01.705544",
     "exception": false,
     "start_time": "2023-11-26T16:50:01.698158",
     "status": "completed"
    },
    "tags": []
   },
   "source": [
    "### Train Test Split"
   ]
  },
  {
   "cell_type": "code",
   "execution_count": 7,
   "id": "090d9479",
   "metadata": {
    "execution": {
     "iopub.execute_input": "2023-11-26T16:50:01.720085Z",
     "iopub.status.busy": "2023-11-26T16:50:01.719735Z",
     "iopub.status.idle": "2023-11-26T16:50:01.774966Z",
     "shell.execute_reply": "2023-11-26T16:50:01.774217Z"
    },
    "papermill": {
     "duration": 0.063628,
     "end_time": "2023-11-26T16:50:01.777539",
     "exception": false,
     "start_time": "2023-11-26T16:50:01.713911",
     "status": "completed"
    },
    "tags": []
   },
   "outputs": [],
   "source": [
    "from sklearn.model_selection import train_test_split\n",
    "\n",
    "train, test = train_test_split(data_norm, test_size=0.2, shuffle=False)"
   ]
  },
  {
   "attachments": {},
   "cell_type": "markdown",
   "id": "c2d11db8",
   "metadata": {
    "papermill": {
     "duration": 0.003842,
     "end_time": "2023-11-26T16:50:01.785541",
     "exception": false,
     "start_time": "2023-11-26T16:50:01.781699",
     "status": "completed"
    },
    "tags": []
   },
   "source": [
    "### Create Sequences"
   ]
  },
  {
   "cell_type": "code",
   "execution_count": 8,
   "id": "835d4496",
   "metadata": {
    "execution": {
     "iopub.execute_input": "2023-11-26T16:50:01.796227Z",
     "iopub.status.busy": "2023-11-26T16:50:01.795880Z",
     "iopub.status.idle": "2023-11-26T16:50:01.872016Z",
     "shell.execute_reply": "2023-11-26T16:50:01.870764Z"
    },
    "papermill": {
     "duration": 0.084847,
     "end_time": "2023-11-26T16:50:01.874901",
     "exception": false,
     "start_time": "2023-11-26T16:50:01.790054",
     "status": "completed"
    },
    "tags": []
   },
   "outputs": [],
   "source": [
    "import numpy as np\n",
    "\n",
    "def create_sequences(data, sequence_length):\n",
    "    X, y = [], []\n",
    "    for i in range(len(data) - sequence_length):\n",
    "        X.append(data[i:i+sequence_length])\n",
    "        y.append(data[i+sequence_length])\n",
    "    return np.array(X), np.array(y)\n",
    "\n",
    "sequence_length = 24 # Use 24 hours prior to predict the following hour\n",
    "X_train, y_train = create_sequences(train, sequence_length)\n",
    "X_test, y_test = create_sequences(test, sequence_length)"
   ]
  },
  {
   "attachments": {},
   "cell_type": "markdown",
   "id": "bf85f7e8",
   "metadata": {
    "papermill": {
     "duration": 0.004633,
     "end_time": "2023-11-26T16:50:01.885302",
     "exception": false,
     "start_time": "2023-11-26T16:50:01.880669",
     "status": "completed"
    },
    "tags": []
   },
   "source": [
    "## Modelling"
   ]
  },
  {
   "attachments": {},
   "cell_type": "markdown",
   "id": "47dadfb8",
   "metadata": {
    "papermill": {
     "duration": 0.005139,
     "end_time": "2023-11-26T16:50:01.894720",
     "exception": false,
     "start_time": "2023-11-26T16:50:01.889581",
     "status": "completed"
    },
    "tags": []
   },
   "source": [
    "### Design NN Architecture"
   ]
  },
  {
   "cell_type": "code",
   "execution_count": 9,
   "id": "f383badc",
   "metadata": {
    "execution": {
     "iopub.execute_input": "2023-11-26T16:50:01.905418Z",
     "iopub.status.busy": "2023-11-26T16:50:01.904772Z",
     "iopub.status.idle": "2023-11-26T16:50:07.354562Z",
     "shell.execute_reply": "2023-11-26T16:50:07.353403Z"
    },
    "papermill": {
     "duration": 5.457794,
     "end_time": "2023-11-26T16:50:07.356971",
     "exception": false,
     "start_time": "2023-11-26T16:50:01.899177",
     "status": "completed"
    },
    "tags": []
   },
   "outputs": [
    {
     "name": "stderr",
     "output_type": "stream",
     "text": [
      "2023-11-26 17:50:04.218326: I tensorflow/core/platform/cpu_feature_guard.cc:182] This TensorFlow binary is optimized to use available CPU instructions in performance-critical operations.\n",
      "To enable the following instructions: AVX2 FMA, in other operations, rebuild TensorFlow with the appropriate compiler flags.\n"
     ]
    }
   ],
   "source": [
    "from keras.models import Sequential\n",
    "from keras.layers import LSTM, Dense\n",
    "\n",
    "model = Sequential()\n",
    "model.add(LSTM(50, input_shape=(X_train.shape[1], X_train.shape[2])))\n",
    "model.add(Dense(1))\n",
    "model.compile(optimizer='adam', loss='mean_squared_error')"
   ]
  },
  {
   "attachments": {},
   "cell_type": "markdown",
   "id": "b8d942ac",
   "metadata": {
    "papermill": {
     "duration": 0.005157,
     "end_time": "2023-11-26T16:50:07.368386",
     "exception": false,
     "start_time": "2023-11-26T16:50:07.363229",
     "status": "completed"
    },
    "tags": []
   },
   "source": [
    "### Train Model"
   ]
  },
  {
   "cell_type": "code",
   "execution_count": 10,
   "id": "d63b9d77",
   "metadata": {
    "execution": {
     "iopub.execute_input": "2023-11-26T16:50:07.401723Z",
     "iopub.status.busy": "2023-11-26T16:50:07.401346Z",
     "iopub.status.idle": "2023-11-26T16:53:54.431437Z",
     "shell.execute_reply": "2023-11-26T16:53:54.430802Z"
    },
    "papermill": {
     "duration": 227.060506,
     "end_time": "2023-11-26T16:53:54.433546",
     "exception": false,
     "start_time": "2023-11-26T16:50:07.373040",
     "status": "completed"
    },
    "tags": []
   },
   "outputs": [],
   "source": [
    "from keras.callbacks import EarlyStopping\n",
    "\n",
    "early_stop = EarlyStopping(monitor='val_loss', patience=5)\n",
    "\n",
    "history = model.fit(\n",
    "    X_train, y_train, epochs=50, batch_size=64, verbose=0,\n",
    "    validation_data=(X_test, y_test), callbacks=[early_stop])"
   ]
  },
  {
   "attachments": {},
   "cell_type": "markdown",
   "id": "ef849c69",
   "metadata": {
    "papermill": {
     "duration": 0.005068,
     "end_time": "2023-11-26T16:53:54.445987",
     "exception": false,
     "start_time": "2023-11-26T16:53:54.440919",
     "status": "completed"
    },
    "tags": []
   },
   "source": [
    "### Calculate Predictions"
   ]
  },
  {
   "cell_type": "code",
   "execution_count": 11,
   "id": "dbfa7f94",
   "metadata": {
    "execution": {
     "iopub.execute_input": "2023-11-26T16:53:54.458003Z",
     "iopub.status.busy": "2023-11-26T16:53:54.457636Z",
     "iopub.status.idle": "2023-11-26T16:53:55.714654Z",
     "shell.execute_reply": "2023-11-26T16:53:55.713987Z"
    },
    "papermill": {
     "duration": 1.26551,
     "end_time": "2023-11-26T16:53:55.716731",
     "exception": false,
     "start_time": "2023-11-26T16:53:54.451221",
     "status": "completed"
    },
    "tags": []
   },
   "outputs": [
    {
     "name": "stdout",
     "output_type": "stream",
     "text": [
      "\r\n",
      "  1/280 [..............................] - ETA: 1:46"
     ]
    },
    {
     "name": "stdout",
     "output_type": "stream",
     "text": [
      "\b\b\b\b\b\b\b\b\b\b\b\b\b\b\b\b\b\b\b\b\b\b\b\b\b\b\b\b\b\b\b\b\b\b\b\b\b\b\b\b\b\b\b\b\b\b\b\b\b\b\b\b\r\n",
      " 21/280 [=>............................] - ETA: 0s  "
     ]
    },
    {
     "name": "stdout",
     "output_type": "stream",
     "text": [
      "\b\b\b\b\b\b\b\b\b\b\b\b\b\b\b\b\b\b\b\b\b\b\b\b\b\b\b\b\b\b\b\b\b\b\b\b\b\b\b\b\b\b\b\b\b\b\b\b\b\b\r\n",
      " 41/280 [===>..........................] - ETA: 0s"
     ]
    },
    {
     "name": "stdout",
     "output_type": "stream",
     "text": [
      "\b\b\b\b\b\b\b\b\b\b\b\b\b\b\b\b\b\b\b\b\b\b\b\b\b\b\b\b\b\b\b\b\b\b\b\b\b\b\b\b\b\b\b\b\b\b\b\b\b\b\r\n",
      " 62/280 [=====>........................] - ETA: 0s"
     ]
    },
    {
     "name": "stdout",
     "output_type": "stream",
     "text": [
      "\b\b\b\b\b\b\b\b\b\b\b\b\b\b\b\b\b\b\b\b\b\b\b\b\b\b\b\b\b\b\b\b\b\b\b\b\b\b\b\b\b\b\b\b\b\b\b\b\b\b\r\n",
      " 77/280 [=======>......................] - ETA: 0s"
     ]
    },
    {
     "name": "stdout",
     "output_type": "stream",
     "text": [
      "\b\b\b\b\b\b\b\b\b\b\b\b\b\b\b\b\b\b\b\b\b\b\b\b\b\b\b\b\b\b\b\b\b\b\b\b\b\b\b\b\b\b\b\b\b\b\b\b\b\b\r\n",
      " 97/280 [=========>....................] - ETA: 0s"
     ]
    },
    {
     "name": "stdout",
     "output_type": "stream",
     "text": [
      "\b\b\b\b\b\b\b\b\b\b\b\b\b\b\b\b\b\b\b\b\b\b\b\b\b\b\b\b\b\b\b\b\b\b\b\b\b\b\b\b\b\b\b\b\b\b\b\b\b\b\r\n",
      "118/280 [===========>..................] - ETA: 0s"
     ]
    },
    {
     "name": "stdout",
     "output_type": "stream",
     "text": [
      "\b\b\b\b\b\b\b\b\b\b\b\b\b\b\b\b\b\b\b\b\b\b\b\b\b\b\b\b\b\b\b\b\b\b\b\b\b\b\b\b\b\b\b\b\b\b\b\b\b\b\r\n",
      "138/280 [=============>................] - ETA: 0s"
     ]
    },
    {
     "name": "stdout",
     "output_type": "stream",
     "text": [
      "\b\b\b\b\b\b\b\b\b\b\b\b\b\b\b\b\b\b\b\b\b\b\b\b\b\b\b\b\b\b\b\b\b\b\b\b\b\b\b\b\b\b\b\b\b\b\b\b\b\b\r\n",
      "159/280 [================>.............] - ETA: 0s"
     ]
    },
    {
     "name": "stdout",
     "output_type": "stream",
     "text": [
      "\b\b\b\b\b\b\b\b\b\b\b\b\b\b\b\b\b\b\b\b\b\b\b\b\b\b\b\b\b\b\b\b\b\b\b\b\b\b\b\b\b\b\b\b\b\b\b\b\b\b\r\n",
      "180/280 [==================>...........] - ETA: 0s"
     ]
    },
    {
     "name": "stdout",
     "output_type": "stream",
     "text": [
      "\b\b\b\b\b\b\b\b\b\b\b\b\b\b\b\b\b\b\b\b\b\b\b\b\b\b\b\b\b\b\b\b\b\b\b\b\b\b\b\b\b\b\b\b\b\b\b\b\b\b\r\n",
      "201/280 [====================>.........] - ETA: 0s"
     ]
    },
    {
     "name": "stdout",
     "output_type": "stream",
     "text": [
      "\b\b\b\b\b\b\b\b\b\b\b\b\b\b\b\b\b\b\b\b\b\b\b\b\b\b\b\b\b\b\b\b\b\b\b\b\b\b\b\b\b\b\b\b\b\b\b\b\b\b\r\n",
      "222/280 [======================>.......] - ETA: 0s"
     ]
    },
    {
     "name": "stdout",
     "output_type": "stream",
     "text": [
      "\b\b\b\b\b\b\b\b\b\b\b\b\b\b\b\b\b\b\b\b\b\b\b\b\b\b\b\b\b\b\b\b\b\b\b\b\b\b\b\b\b\b\b\b\b\b\b\b\b\b\r\n",
      "241/280 [========================>.....] - ETA: 0s"
     ]
    },
    {
     "name": "stdout",
     "output_type": "stream",
     "text": [
      "\b\b\b\b\b\b\b\b\b\b\b\b\b\b\b\b\b\b\b\b\b\b\b\b\b\b\b\b\b\b\b\b\b\b\b\b\b\b\b\b\b\b\b\b\b\b\b\b\b\b\r\n",
      "262/280 [===========================>..] - ETA: 0s"
     ]
    },
    {
     "name": "stdout",
     "output_type": "stream",
     "text": [
      "\b\b\b\b\b\b\b\b\b\b\b\b\b\b\b\b\b\b\b\b\b\b\b\b\b\b\b\b\b\b\b\b\b\b\b\b\b\b\b\b\b\b\b\b\b\b\b\b\b\b\r\n",
      "276/280 [============================>.] - ETA: 0s"
     ]
    },
    {
     "name": "stdout",
     "output_type": "stream",
     "text": [
      "\b\b\b\b\b\b\b\b\b\b\b\b\b\b\b\b\b\b\b\b\b\b\b\b\b\b\b\b\b\b\b\b\b\b\b\b\b\b\b\b\b\b\b\b\b\b\b\b\b\b\r\n",
      "280/280 [==============================] - 1s 3ms/step\n"
     ]
    },
    {
     "data": {
      "text/plain": [
       "array([[0.19521067],\n",
       "       [0.17215766],\n",
       "       [0.1617968 ],\n",
       "       ...,\n",
       "       [0.2900616 ],\n",
       "       [0.2793294 ],\n",
       "       [0.24943133]], dtype=float32)"
      ]
     },
     "execution_count": 11,
     "metadata": {},
     "output_type": "execute_result"
    }
   ],
   "source": [
    "y_pred = model.predict(X_test)\n",
    "y_pred"
   ]
  },
  {
   "attachments": {},
   "cell_type": "markdown",
   "id": "19c3a048",
   "metadata": {
    "papermill": {
     "duration": 0.005861,
     "end_time": "2023-11-26T16:53:55.728895",
     "exception": false,
     "start_time": "2023-11-26T16:53:55.723034",
     "status": "completed"
    },
    "tags": []
   },
   "source": [
    "### Comparison: Real Data & Prediction"
   ]
  },
  {
   "attachments": {},
   "cell_type": "markdown",
   "id": "3f5a02ea",
   "metadata": {
    "papermill": {
     "duration": 0.006413,
     "end_time": "2023-11-26T16:53:55.740832",
     "exception": false,
     "start_time": "2023-11-26T16:53:55.734419",
     "status": "completed"
    },
    "tags": []
   },
   "source": [
    "#### Descale Data"
   ]
  },
  {
   "cell_type": "code",
   "execution_count": 12,
   "id": "114acad5",
   "metadata": {
    "execution": {
     "iopub.execute_input": "2023-11-26T16:53:55.752339Z",
     "iopub.status.busy": "2023-11-26T16:53:55.752014Z",
     "iopub.status.idle": "2023-11-26T16:53:55.756461Z",
     "shell.execute_reply": "2023-11-26T16:53:55.755794Z"
    },
    "papermill": {
     "duration": 0.012242,
     "end_time": "2023-11-26T16:53:55.758351",
     "exception": false,
     "start_time": "2023-11-26T16:53:55.746109",
     "status": "completed"
    },
    "tags": []
   },
   "outputs": [],
   "source": [
    "y_pred_scaled_inverse = scaler.inverse_transform(y_pred)\n",
    "y_true = scaler.inverse_transform(y_test)"
   ]
  },
  {
   "attachments": {},
   "cell_type": "markdown",
   "id": "965a863b",
   "metadata": {
    "papermill": {
     "duration": 0.005514,
     "end_time": "2023-11-26T16:53:55.769071",
     "exception": false,
     "start_time": "2023-11-26T16:53:55.763557",
     "status": "completed"
    },
    "tags": []
   },
   "source": [
    "#### Create DataFrame"
   ]
  },
  {
   "cell_type": "code",
   "execution_count": 13,
   "id": "e035dba7",
   "metadata": {
    "execution": {
     "iopub.execute_input": "2023-11-26T16:53:55.781369Z",
     "iopub.status.busy": "2023-11-26T16:53:55.781080Z",
     "iopub.status.idle": "2023-11-26T16:53:55.792799Z",
     "shell.execute_reply": "2023-11-26T16:53:55.792151Z"
    },
    "papermill": {
     "duration": 0.019512,
     "end_time": "2023-11-26T16:53:55.794441",
     "exception": false,
     "start_time": "2023-11-26T16:53:55.774929",
     "status": "completed"
    },
    "tags": []
   },
   "outputs": [
    {
     "data": {
      "text/html": [
       "<div>\n",
       "<style scoped>\n",
       "    .dataframe tbody tr th:only-of-type {\n",
       "        vertical-align: middle;\n",
       "    }\n",
       "\n",
       "    .dataframe tbody tr th {\n",
       "        vertical-align: top;\n",
       "    }\n",
       "\n",
       "    .dataframe thead th {\n",
       "        text-align: right;\n",
       "    }\n",
       "</style>\n",
       "<table border=\"1\" class=\"dataframe\">\n",
       "  <thead>\n",
       "    <tr style=\"text-align: right;\">\n",
       "      <th></th>\n",
       "      <th>y_pred</th>\n",
       "      <th>y_pred_scaled_inverse</th>\n",
       "      <th>y_true</th>\n",
       "    </tr>\n",
       "  </thead>\n",
       "  <tbody>\n",
       "    <tr>\n",
       "      <th>0</th>\n",
       "      <td>0.195211</td>\n",
       "      <td>13003.667969</td>\n",
       "      <td>12950.0</td>\n",
       "    </tr>\n",
       "    <tr>\n",
       "      <th>1</th>\n",
       "      <td>0.172158</td>\n",
       "      <td>12544.797852</td>\n",
       "      <td>12726.0</td>\n",
       "    </tr>\n",
       "    <tr>\n",
       "      <th>2</th>\n",
       "      <td>0.161797</td>\n",
       "      <td>12338.564453</td>\n",
       "      <td>12655.0</td>\n",
       "    </tr>\n",
       "    <tr>\n",
       "      <th>3</th>\n",
       "      <td>0.171771</td>\n",
       "      <td>12537.103516</td>\n",
       "      <td>11907.0</td>\n",
       "    </tr>\n",
       "    <tr>\n",
       "      <th>4</th>\n",
       "      <td>0.120555</td>\n",
       "      <td>11517.648438</td>\n",
       "      <td>11567.0</td>\n",
       "    </tr>\n",
       "    <tr>\n",
       "      <th>...</th>\n",
       "      <td>...</td>\n",
       "      <td>...</td>\n",
       "      <td>...</td>\n",
       "    </tr>\n",
       "    <tr>\n",
       "      <th>8952</th>\n",
       "      <td>0.302027</td>\n",
       "      <td>15129.849609</td>\n",
       "      <td>15340.0</td>\n",
       "    </tr>\n",
       "    <tr>\n",
       "      <th>8953</th>\n",
       "      <td>0.305065</td>\n",
       "      <td>15190.326172</td>\n",
       "      <td>15397.0</td>\n",
       "    </tr>\n",
       "    <tr>\n",
       "      <th>8954</th>\n",
       "      <td>0.290062</td>\n",
       "      <td>14891.676758</td>\n",
       "      <td>15253.0</td>\n",
       "    </tr>\n",
       "    <tr>\n",
       "      <th>8955</th>\n",
       "      <td>0.279329</td>\n",
       "      <td>14678.051758</td>\n",
       "      <td>14698.0</td>\n",
       "    </tr>\n",
       "    <tr>\n",
       "      <th>8956</th>\n",
       "      <td>0.249431</td>\n",
       "      <td>14082.930664</td>\n",
       "      <td>14110.0</td>\n",
       "    </tr>\n",
       "  </tbody>\n",
       "</table>\n",
       "<p>8957 rows × 3 columns</p>\n",
       "</div>"
      ],
      "text/plain": [
       "        y_pred  y_pred_scaled_inverse   y_true\n",
       "0     0.195211           13003.667969  12950.0\n",
       "1     0.172158           12544.797852  12726.0\n",
       "2     0.161797           12338.564453  12655.0\n",
       "3     0.171771           12537.103516  11907.0\n",
       "4     0.120555           11517.648438  11567.0\n",
       "...        ...                    ...      ...\n",
       "8952  0.302027           15129.849609  15340.0\n",
       "8953  0.305065           15190.326172  15397.0\n",
       "8954  0.290062           14891.676758  15253.0\n",
       "8955  0.279329           14678.051758  14698.0\n",
       "8956  0.249431           14082.930664  14110.0\n",
       "\n",
       "[8957 rows x 3 columns]"
      ]
     },
     "execution_count": 13,
     "metadata": {},
     "output_type": "execute_result"
    }
   ],
   "source": [
    "dic_pred = {\n",
    "    'y_pred': y_pred.flatten(),\n",
    "    'y_pred_scaled_inverse': y_pred_scaled_inverse.flatten(),\n",
    "    'y_true': y_true.flatten(),\n",
    "}\n",
    "\n",
    "df_pred = pd.DataFrame(dic_pred)\n",
    "df_pred"
   ]
  },
  {
   "attachments": {},
   "cell_type": "markdown",
   "id": "f4e89179",
   "metadata": {
    "papermill": {
     "duration": 0.005662,
     "end_time": "2023-11-26T16:53:55.805290",
     "exception": false,
     "start_time": "2023-11-26T16:53:55.799628",
     "status": "completed"
    },
    "tags": []
   },
   "source": [
    "#### Evaluate Model"
   ]
  },
  {
   "cell_type": "code",
   "execution_count": 14,
   "id": "5e6eb580",
   "metadata": {
    "execution": {
     "iopub.execute_input": "2023-11-26T16:53:55.817817Z",
     "iopub.status.busy": "2023-11-26T16:53:55.817520Z",
     "iopub.status.idle": "2023-11-26T16:53:55.821047Z",
     "shell.execute_reply": "2023-11-26T16:53:55.820122Z"
    },
    "papermill": {
     "duration": 0.011849,
     "end_time": "2023-11-26T16:53:55.823055",
     "exception": false,
     "start_time": "2023-11-26T16:53:55.811206",
     "status": "completed"
    },
    "tags": []
   },
   "outputs": [],
   "source": [
    "from sklearn.metrics import mean_squared_error"
   ]
  },
  {
   "cell_type": "code",
   "execution_count": 15,
   "id": "484c6519",
   "metadata": {
    "execution": {
     "iopub.execute_input": "2023-11-26T16:53:55.837610Z",
     "iopub.status.busy": "2023-11-26T16:53:55.837185Z",
     "iopub.status.idle": "2023-11-26T16:53:55.843887Z",
     "shell.execute_reply": "2023-11-26T16:53:55.843292Z"
    },
    "papermill": {
     "duration": 0.015953,
     "end_time": "2023-11-26T16:53:55.845533",
     "exception": false,
     "start_time": "2023-11-26T16:53:55.829580",
     "status": "completed"
    },
    "tags": []
   },
   "outputs": [
    {
     "data": {
      "text/plain": [
       "178.07943122567704"
      ]
     },
     "execution_count": 15,
     "metadata": {},
     "output_type": "execute_result"
    }
   ],
   "source": [
    "mean_squared_error(df_pred.y_true, df_pred.y_pred_scaled_inverse, squared=False)"
   ]
  },
  {
   "cell_type": "code",
   "execution_count": 16,
   "id": "6d2cd571",
   "metadata": {
    "execution": {
     "iopub.execute_input": "2023-11-26T16:53:55.888704Z",
     "iopub.status.busy": "2023-11-26T16:53:55.888111Z",
     "iopub.status.idle": "2023-11-26T16:53:55.921796Z",
     "shell.execute_reply": "2023-11-26T16:53:55.920787Z"
    },
    "papermill": {
     "duration": 0.063059,
     "end_time": "2023-11-26T16:53:55.924897",
     "exception": false,
     "start_time": "2023-11-26T16:53:55.861838",
     "status": "completed"
    },
    "tags": []
   },
   "outputs": [],
   "source": [
    "model.save(f'../models/{region}.keras')"
   ]
  }
 ],
 "metadata": {
  "kernelspec": {
   "display_name": "deep-learning",
   "language": "python",
   "name": "python3"
  },
  "language_info": {
   "codemirror_mode": {
    "name": "ipython",
    "version": 3
   },
   "file_extension": ".py",
   "mimetype": "text/x-python",
   "name": "python",
   "nbconvert_exporter": "python",
   "pygments_lexer": "ipython3",
   "version": "3.9.18"
  },
  "papermill": {
   "default_parameters": {},
   "duration": 238.522108,
   "end_time": "2023-11-26T16:53:57.066396",
   "environment_variables": {},
   "exception": null,
   "input_path": "Modelling.ipynb",
   "output_path": "outputs/AEP.ipynb",
   "parameters": {
    "region": "AEP"
   },
   "start_time": "2023-11-26T16:49:58.544288",
   "version": "2.5.0"
  }
 },
 "nbformat": 4,
 "nbformat_minor": 5
}
