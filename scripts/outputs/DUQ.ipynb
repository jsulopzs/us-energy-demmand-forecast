{
 "cells": [
  {
   "attachments": {},
   "cell_type": "markdown",
   "id": "da0fe413",
   "metadata": {
    "papermill": {
     "duration": 0.010038,
     "end_time": "2023-11-26T17:17:02.314393",
     "exception": false,
     "start_time": "2023-11-26T17:17:02.304355",
     "status": "completed"
    },
    "tags": []
   },
   "source": [
    "## Load data"
   ]
  },
  {
   "cell_type": "code",
   "execution_count": 1,
   "id": "94cb4d28",
   "metadata": {
    "execution": {
     "iopub.execute_input": "2023-11-26T17:17:02.332781Z",
     "iopub.status.busy": "2023-11-26T17:17:02.331750Z",
     "iopub.status.idle": "2023-11-26T17:17:02.875978Z",
     "shell.execute_reply": "2023-11-26T17:17:02.874968Z"
    },
    "papermill": {
     "duration": 0.55591,
     "end_time": "2023-11-26T17:17:02.878619",
     "exception": false,
     "start_time": "2023-11-26T17:17:02.322709",
     "status": "completed"
    },
    "tags": []
   },
   "outputs": [],
   "source": [
    "import pandas as pd"
   ]
  },
  {
   "cell_type": "code",
   "execution_count": 2,
   "id": "1ed9d3b5",
   "metadata": {
    "execution": {
     "iopub.execute_input": "2023-11-26T17:17:02.888646Z",
     "iopub.status.busy": "2023-11-26T17:17:02.888333Z",
     "iopub.status.idle": "2023-11-26T17:17:03.040883Z",
     "shell.execute_reply": "2023-11-26T17:17:03.040081Z"
    },
    "papermill": {
     "duration": 0.159617,
     "end_time": "2023-11-26T17:17:03.043048",
     "exception": false,
     "start_time": "2023-11-26T17:17:02.883431",
     "status": "completed"
    },
    "tags": []
   },
   "outputs": [
    {
     "data": {
      "text/html": [
       "<div>\n",
       "<style scoped>\n",
       "    .dataframe tbody tr th:only-of-type {\n",
       "        vertical-align: middle;\n",
       "    }\n",
       "\n",
       "    .dataframe tbody tr th {\n",
       "        vertical-align: top;\n",
       "    }\n",
       "\n",
       "    .dataframe thead th {\n",
       "        text-align: right;\n",
       "    }\n",
       "</style>\n",
       "<table border=\"1\" class=\"dataframe\">\n",
       "  <thead>\n",
       "    <tr style=\"text-align: right;\">\n",
       "      <th></th>\n",
       "      <th>AE</th>\n",
       "      <th>AEP</th>\n",
       "      <th>AP</th>\n",
       "      <th>ATSI</th>\n",
       "      <th>BC</th>\n",
       "      <th>CE</th>\n",
       "      <th>DAY</th>\n",
       "      <th>DEOK</th>\n",
       "      <th>DOM</th>\n",
       "      <th>DPL</th>\n",
       "      <th>DUQ</th>\n",
       "      <th>EKPC</th>\n",
       "      <th>JC</th>\n",
       "      <th>ME</th>\n",
       "      <th>PE</th>\n",
       "      <th>PEP</th>\n",
       "      <th>PL</th>\n",
       "      <th>PN</th>\n",
       "      <th>PS</th>\n",
       "      <th>RECO</th>\n",
       "    </tr>\n",
       "    <tr>\n",
       "      <th>period</th>\n",
       "      <th></th>\n",
       "      <th></th>\n",
       "      <th></th>\n",
       "      <th></th>\n",
       "      <th></th>\n",
       "      <th></th>\n",
       "      <th></th>\n",
       "      <th></th>\n",
       "      <th></th>\n",
       "      <th></th>\n",
       "      <th></th>\n",
       "      <th></th>\n",
       "      <th></th>\n",
       "      <th></th>\n",
       "      <th></th>\n",
       "      <th></th>\n",
       "      <th></th>\n",
       "      <th></th>\n",
       "      <th></th>\n",
       "      <th></th>\n",
       "    </tr>\n",
       "  </thead>\n",
       "  <tbody>\n",
       "    <tr>\n",
       "      <th>2018-07-01 05:00:00</th>\n",
       "      <td>1301</td>\n",
       "      <td>12187</td>\n",
       "      <td>4384</td>\n",
       "      <td>6960</td>\n",
       "      <td>3134</td>\n",
       "      <td>12136</td>\n",
       "      <td>1619</td>\n",
       "      <td>2895</td>\n",
       "      <td>9775</td>\n",
       "      <td>1919</td>\n",
       "      <td>1466</td>\n",
       "      <td>1209</td>\n",
       "      <td>2388</td>\n",
       "      <td>1442</td>\n",
       "      <td>4397</td>\n",
       "      <td>3165</td>\n",
       "      <td>3835</td>\n",
       "      <td>1611</td>\n",
       "      <td>5009</td>\n",
       "      <td>186</td>\n",
       "    </tr>\n",
       "    <tr>\n",
       "      <th>2018-07-01 06:00:00</th>\n",
       "      <td>1314</td>\n",
       "      <td>11946</td>\n",
       "      <td>4391</td>\n",
       "      <td>6762</td>\n",
       "      <td>3139</td>\n",
       "      <td>11872</td>\n",
       "      <td>1605</td>\n",
       "      <td>2857</td>\n",
       "      <td>9787</td>\n",
       "      <td>1950</td>\n",
       "      <td>1455</td>\n",
       "      <td>1197</td>\n",
       "      <td>2416</td>\n",
       "      <td>1465</td>\n",
       "      <td>4423</td>\n",
       "      <td>3156</td>\n",
       "      <td>3901</td>\n",
       "      <td>1641</td>\n",
       "      <td>4990</td>\n",
       "      <td>187</td>\n",
       "    </tr>\n",
       "    <tr>\n",
       "      <th>2018-07-01 07:00:00</th>\n",
       "      <td>1410</td>\n",
       "      <td>12664</td>\n",
       "      <td>4757</td>\n",
       "      <td>6670</td>\n",
       "      <td>3377</td>\n",
       "      <td>11992</td>\n",
       "      <td>1707</td>\n",
       "      <td>2997</td>\n",
       "      <td>10453</td>\n",
       "      <td>2160</td>\n",
       "      <td>1528</td>\n",
       "      <td>1273</td>\n",
       "      <td>2644</td>\n",
       "      <td>1605</td>\n",
       "      <td>4743</td>\n",
       "      <td>3332</td>\n",
       "      <td>4232</td>\n",
       "      <td>1728</td>\n",
       "      <td>5267</td>\n",
       "      <td>202</td>\n",
       "    </tr>\n",
       "    <tr>\n",
       "      <th>2018-07-01 08:00:00</th>\n",
       "      <td>1567</td>\n",
       "      <td>14069</td>\n",
       "      <td>5308</td>\n",
       "      <td>7065</td>\n",
       "      <td>3788</td>\n",
       "      <td>12860</td>\n",
       "      <td>1916</td>\n",
       "      <td>3331</td>\n",
       "      <td>11734</td>\n",
       "      <td>2470</td>\n",
       "      <td>1688</td>\n",
       "      <td>1472</td>\n",
       "      <td>3064</td>\n",
       "      <td>1784</td>\n",
       "      <td>5230</td>\n",
       "      <td>3679</td>\n",
       "      <td>4613</td>\n",
       "      <td>1899</td>\n",
       "      <td>5735</td>\n",
       "      <td>230</td>\n",
       "    </tr>\n",
       "    <tr>\n",
       "      <th>2018-07-01 09:00:00</th>\n",
       "      <td>1749</td>\n",
       "      <td>15610</td>\n",
       "      <td>5862</td>\n",
       "      <td>7833</td>\n",
       "      <td>4262</td>\n",
       "      <td>14212</td>\n",
       "      <td>2145</td>\n",
       "      <td>3703</td>\n",
       "      <td>13084</td>\n",
       "      <td>2765</td>\n",
       "      <td>1875</td>\n",
       "      <td>1656</td>\n",
       "      <td>3569</td>\n",
       "      <td>1972</td>\n",
       "      <td>5752</td>\n",
       "      <td>4085</td>\n",
       "      <td>5014</td>\n",
       "      <td>2055</td>\n",
       "      <td>6299</td>\n",
       "      <td>259</td>\n",
       "    </tr>\n",
       "  </tbody>\n",
       "</table>\n",
       "</div>"
      ],
      "text/plain": [
       "                       AE    AEP    AP  ATSI    BC     CE   DAY  DEOK    DOM  \\\n",
       "period                                                                         \n",
       "2018-07-01 05:00:00  1301  12187  4384  6960  3134  12136  1619  2895   9775   \n",
       "2018-07-01 06:00:00  1314  11946  4391  6762  3139  11872  1605  2857   9787   \n",
       "2018-07-01 07:00:00  1410  12664  4757  6670  3377  11992  1707  2997  10453   \n",
       "2018-07-01 08:00:00  1567  14069  5308  7065  3788  12860  1916  3331  11734   \n",
       "2018-07-01 09:00:00  1749  15610  5862  7833  4262  14212  2145  3703  13084   \n",
       "\n",
       "                      DPL   DUQ  EKPC    JC    ME    PE   PEP    PL    PN  \\\n",
       "period                                                                      \n",
       "2018-07-01 05:00:00  1919  1466  1209  2388  1442  4397  3165  3835  1611   \n",
       "2018-07-01 06:00:00  1950  1455  1197  2416  1465  4423  3156  3901  1641   \n",
       "2018-07-01 07:00:00  2160  1528  1273  2644  1605  4743  3332  4232  1728   \n",
       "2018-07-01 08:00:00  2470  1688  1472  3064  1784  5230  3679  4613  1899   \n",
       "2018-07-01 09:00:00  2765  1875  1656  3569  1972  5752  4085  5014  2055   \n",
       "\n",
       "                       PS  RECO  \n",
       "period                           \n",
       "2018-07-01 05:00:00  5009   186  \n",
       "2018-07-01 06:00:00  4990   187  \n",
       "2018-07-01 07:00:00  5267   202  \n",
       "2018-07-01 08:00:00  5735   230  \n",
       "2018-07-01 09:00:00  6299   259  "
      ]
     },
     "execution_count": 2,
     "metadata": {},
     "output_type": "execute_result"
    }
   ],
   "source": [
    "df_base = pd.read_csv('../data/pjm_pivot.csv', index_col=0, parse_dates=True)\n",
    "df_base.head()"
   ]
  },
  {
   "attachments": {},
   "cell_type": "markdown",
   "id": "b32af0fe",
   "metadata": {
    "papermill": {
     "duration": 0.026049,
     "end_time": "2023-11-26T17:17:03.090016",
     "exception": false,
     "start_time": "2023-11-26T17:17:03.063967",
     "status": "completed"
    },
    "tags": []
   },
   "source": [
    "## Select region"
   ]
  },
  {
   "cell_type": "code",
   "execution_count": 3,
   "id": "d61a803b",
   "metadata": {
    "execution": {
     "iopub.execute_input": "2023-11-26T17:17:03.145106Z",
     "iopub.status.busy": "2023-11-26T17:17:03.144291Z",
     "iopub.status.idle": "2023-11-26T17:17:03.150284Z",
     "shell.execute_reply": "2023-11-26T17:17:03.149362Z"
    },
    "papermill": {
     "duration": 0.036568,
     "end_time": "2023-11-26T17:17:03.152753",
     "exception": false,
     "start_time": "2023-11-26T17:17:03.116185",
     "status": "completed"
    },
    "tags": [
     "parameters"
    ]
   },
   "outputs": [],
   "source": [
    "region = 'AE'"
   ]
  },
  {
   "cell_type": "code",
   "execution_count": 4,
   "id": "46a3c5a8",
   "metadata": {
    "execution": {
     "iopub.execute_input": "2023-11-26T17:17:03.199146Z",
     "iopub.status.busy": "2023-11-26T17:17:03.198296Z",
     "iopub.status.idle": "2023-11-26T17:17:03.203294Z",
     "shell.execute_reply": "2023-11-26T17:17:03.202430Z"
    },
    "papermill": {
     "duration": 0.03699,
     "end_time": "2023-11-26T17:17:03.205527",
     "exception": false,
     "start_time": "2023-11-26T17:17:03.168537",
     "status": "completed"
    },
    "tags": [
     "injected-parameters"
    ]
   },
   "outputs": [],
   "source": [
    "# Parameters\n",
    "region = \"DUQ\"\n"
   ]
  },
  {
   "cell_type": "code",
   "execution_count": 5,
   "id": "7bbc3a0b",
   "metadata": {
    "execution": {
     "iopub.execute_input": "2023-11-26T17:17:03.248487Z",
     "iopub.status.busy": "2023-11-26T17:17:03.248060Z",
     "iopub.status.idle": "2023-11-26T17:17:03.258523Z",
     "shell.execute_reply": "2023-11-26T17:17:03.257786Z"
    },
    "papermill": {
     "duration": 0.03843,
     "end_time": "2023-11-26T17:17:03.260534",
     "exception": false,
     "start_time": "2023-11-26T17:17:03.222104",
     "status": "completed"
    },
    "tags": []
   },
   "outputs": [
    {
     "data": {
      "text/html": [
       "<div>\n",
       "<style scoped>\n",
       "    .dataframe tbody tr th:only-of-type {\n",
       "        vertical-align: middle;\n",
       "    }\n",
       "\n",
       "    .dataframe tbody tr th {\n",
       "        vertical-align: top;\n",
       "    }\n",
       "\n",
       "    .dataframe thead th {\n",
       "        text-align: right;\n",
       "    }\n",
       "</style>\n",
       "<table border=\"1\" class=\"dataframe\">\n",
       "  <thead>\n",
       "    <tr style=\"text-align: right;\">\n",
       "      <th></th>\n",
       "      <th>DUQ</th>\n",
       "    </tr>\n",
       "    <tr>\n",
       "      <th>period</th>\n",
       "      <th></th>\n",
       "    </tr>\n",
       "  </thead>\n",
       "  <tbody>\n",
       "    <tr>\n",
       "      <th>2018-07-01 05:00:00</th>\n",
       "      <td>1466</td>\n",
       "    </tr>\n",
       "    <tr>\n",
       "      <th>2018-07-01 06:00:00</th>\n",
       "      <td>1455</td>\n",
       "    </tr>\n",
       "    <tr>\n",
       "      <th>2018-07-01 07:00:00</th>\n",
       "      <td>1528</td>\n",
       "    </tr>\n",
       "    <tr>\n",
       "      <th>2018-07-01 08:00:00</th>\n",
       "      <td>1688</td>\n",
       "    </tr>\n",
       "    <tr>\n",
       "      <th>2018-07-01 09:00:00</th>\n",
       "      <td>1875</td>\n",
       "    </tr>\n",
       "    <tr>\n",
       "      <th>...</th>\n",
       "      <td>...</td>\n",
       "    </tr>\n",
       "    <tr>\n",
       "      <th>2023-11-01 00:00:00</th>\n",
       "      <td>1449</td>\n",
       "    </tr>\n",
       "    <tr>\n",
       "      <th>2023-11-01 01:00:00</th>\n",
       "      <td>1461</td>\n",
       "    </tr>\n",
       "    <tr>\n",
       "      <th>2023-11-01 02:00:00</th>\n",
       "      <td>1431</td>\n",
       "    </tr>\n",
       "    <tr>\n",
       "      <th>2023-11-01 03:00:00</th>\n",
       "      <td>1352</td>\n",
       "    </tr>\n",
       "    <tr>\n",
       "      <th>2023-11-01 04:00:00</th>\n",
       "      <td>1309</td>\n",
       "    </tr>\n",
       "  </tbody>\n",
       "</table>\n",
       "<p>44904 rows × 1 columns</p>\n",
       "</div>"
      ],
      "text/plain": [
       "                      DUQ\n",
       "period                   \n",
       "2018-07-01 05:00:00  1466\n",
       "2018-07-01 06:00:00  1455\n",
       "2018-07-01 07:00:00  1528\n",
       "2018-07-01 08:00:00  1688\n",
       "2018-07-01 09:00:00  1875\n",
       "...                   ...\n",
       "2023-11-01 00:00:00  1449\n",
       "2023-11-01 01:00:00  1461\n",
       "2023-11-01 02:00:00  1431\n",
       "2023-11-01 03:00:00  1352\n",
       "2023-11-01 04:00:00  1309\n",
       "\n",
       "[44904 rows x 1 columns]"
      ]
     },
     "execution_count": 5,
     "metadata": {},
     "output_type": "execute_result"
    }
   ],
   "source": [
    "df = df_base.loc[:, [region]]\n",
    "df"
   ]
  },
  {
   "attachments": {},
   "cell_type": "markdown",
   "id": "fae8cf57",
   "metadata": {
    "papermill": {
     "duration": 0.023896,
     "end_time": "2023-11-26T17:17:03.296048",
     "exception": false,
     "start_time": "2023-11-26T17:17:03.272152",
     "status": "completed"
    },
    "tags": []
   },
   "source": [
    "## Data Preprocessing"
   ]
  },
  {
   "attachments": {},
   "cell_type": "markdown",
   "id": "514b452b",
   "metadata": {
    "papermill": {
     "duration": 0.025279,
     "end_time": "2023-11-26T17:17:03.346325",
     "exception": false,
     "start_time": "2023-11-26T17:17:03.321046",
     "status": "completed"
    },
    "tags": []
   },
   "source": [
    "### Scale Data"
   ]
  },
  {
   "cell_type": "code",
   "execution_count": 6,
   "id": "cfbd85f6",
   "metadata": {
    "execution": {
     "iopub.execute_input": "2023-11-26T17:17:03.401331Z",
     "iopub.status.busy": "2023-11-26T17:17:03.400820Z",
     "iopub.status.idle": "2023-11-26T17:17:04.051958Z",
     "shell.execute_reply": "2023-11-26T17:17:04.050969Z"
    },
    "papermill": {
     "duration": 0.680256,
     "end_time": "2023-11-26T17:17:04.054179",
     "exception": false,
     "start_time": "2023-11-26T17:17:03.373923",
     "status": "completed"
    },
    "tags": []
   },
   "outputs": [],
   "source": [
    "from sklearn.preprocessing import MinMaxScaler\n",
    "\n",
    "# Normalize data\n",
    "scaler = MinMaxScaler(feature_range=(0, 1))\n",
    "data_norm = scaler.fit_transform(df)"
   ]
  },
  {
   "attachments": {},
   "cell_type": "markdown",
   "id": "81622fa4",
   "metadata": {
    "papermill": {
     "duration": 0.005169,
     "end_time": "2023-11-26T17:17:04.063693",
     "exception": false,
     "start_time": "2023-11-26T17:17:04.058524",
     "status": "completed"
    },
    "tags": []
   },
   "source": [
    "### Train Test Split"
   ]
  },
  {
   "cell_type": "code",
   "execution_count": 7,
   "id": "a8cd4ef4",
   "metadata": {
    "execution": {
     "iopub.execute_input": "2023-11-26T17:17:04.076057Z",
     "iopub.status.busy": "2023-11-26T17:17:04.075375Z",
     "iopub.status.idle": "2023-11-26T17:17:04.120591Z",
     "shell.execute_reply": "2023-11-26T17:17:04.119923Z"
    },
    "papermill": {
     "duration": 0.054118,
     "end_time": "2023-11-26T17:17:04.122866",
     "exception": false,
     "start_time": "2023-11-26T17:17:04.068748",
     "status": "completed"
    },
    "tags": []
   },
   "outputs": [],
   "source": [
    "from sklearn.model_selection import train_test_split\n",
    "\n",
    "train, test = train_test_split(data_norm, test_size=0.2, shuffle=False)"
   ]
  },
  {
   "attachments": {},
   "cell_type": "markdown",
   "id": "fdebd3e2",
   "metadata": {
    "papermill": {
     "duration": 0.004731,
     "end_time": "2023-11-26T17:17:04.133094",
     "exception": false,
     "start_time": "2023-11-26T17:17:04.128363",
     "status": "completed"
    },
    "tags": []
   },
   "source": [
    "### Create Sequences"
   ]
  },
  {
   "cell_type": "code",
   "execution_count": 8,
   "id": "58abbe60",
   "metadata": {
    "execution": {
     "iopub.execute_input": "2023-11-26T17:17:04.143014Z",
     "iopub.status.busy": "2023-11-26T17:17:04.142451Z",
     "iopub.status.idle": "2023-11-26T17:17:04.220514Z",
     "shell.execute_reply": "2023-11-26T17:17:04.219720Z"
    },
    "papermill": {
     "duration": 0.085424,
     "end_time": "2023-11-26T17:17:04.222518",
     "exception": false,
     "start_time": "2023-11-26T17:17:04.137094",
     "status": "completed"
    },
    "tags": []
   },
   "outputs": [],
   "source": [
    "import numpy as np\n",
    "\n",
    "def create_sequences(data, sequence_length):\n",
    "    X, y = [], []\n",
    "    for i in range(len(data) - sequence_length):\n",
    "        X.append(data[i:i+sequence_length])\n",
    "        y.append(data[i+sequence_length])\n",
    "    return np.array(X), np.array(y)\n",
    "\n",
    "sequence_length = 24 # Use 24 hours prior to predict the following hour\n",
    "X_train, y_train = create_sequences(train, sequence_length)\n",
    "X_test, y_test = create_sequences(test, sequence_length)"
   ]
  },
  {
   "attachments": {},
   "cell_type": "markdown",
   "id": "9f6170bf",
   "metadata": {
    "papermill": {
     "duration": 0.005431,
     "end_time": "2023-11-26T17:17:04.233826",
     "exception": false,
     "start_time": "2023-11-26T17:17:04.228395",
     "status": "completed"
    },
    "tags": []
   },
   "source": [
    "## Modelling"
   ]
  },
  {
   "attachments": {},
   "cell_type": "markdown",
   "id": "20c8ea3a",
   "metadata": {
    "papermill": {
     "duration": 0.004431,
     "end_time": "2023-11-26T17:17:04.242260",
     "exception": false,
     "start_time": "2023-11-26T17:17:04.237829",
     "status": "completed"
    },
    "tags": []
   },
   "source": [
    "### Design NN Architecture"
   ]
  },
  {
   "cell_type": "code",
   "execution_count": 9,
   "id": "fbb19175",
   "metadata": {
    "execution": {
     "iopub.execute_input": "2023-11-26T17:17:04.254749Z",
     "iopub.status.busy": "2023-11-26T17:17:04.254297Z",
     "iopub.status.idle": "2023-11-26T17:17:09.722207Z",
     "shell.execute_reply": "2023-11-26T17:17:09.721346Z"
    },
    "papermill": {
     "duration": 5.476441,
     "end_time": "2023-11-26T17:17:09.724517",
     "exception": false,
     "start_time": "2023-11-26T17:17:04.248076",
     "status": "completed"
    },
    "tags": []
   },
   "outputs": [
    {
     "name": "stderr",
     "output_type": "stream",
     "text": [
      "2023-11-26 18:17:06.546239: I tensorflow/core/platform/cpu_feature_guard.cc:182] This TensorFlow binary is optimized to use available CPU instructions in performance-critical operations.\n",
      "To enable the following instructions: AVX2 FMA, in other operations, rebuild TensorFlow with the appropriate compiler flags.\n"
     ]
    }
   ],
   "source": [
    "from keras.models import Sequential\n",
    "from keras.layers import LSTM, Dense\n",
    "\n",
    "model = Sequential()\n",
    "model.add(LSTM(50, input_shape=(X_train.shape[1], X_train.shape[2])))\n",
    "model.add(Dense(1))\n",
    "model.compile(optimizer='adam', loss='mean_squared_error')"
   ]
  },
  {
   "attachments": {},
   "cell_type": "markdown",
   "id": "6a0fb5c0",
   "metadata": {
    "papermill": {
     "duration": 0.005085,
     "end_time": "2023-11-26T17:17:09.735009",
     "exception": false,
     "start_time": "2023-11-26T17:17:09.729924",
     "status": "completed"
    },
    "tags": []
   },
   "source": [
    "### Train Model"
   ]
  },
  {
   "cell_type": "code",
   "execution_count": 10,
   "id": "dba3433d",
   "metadata": {
    "execution": {
     "iopub.execute_input": "2023-11-26T17:17:09.746579Z",
     "iopub.status.busy": "2023-11-26T17:17:09.746062Z",
     "iopub.status.idle": "2023-11-26T17:19:15.915260Z",
     "shell.execute_reply": "2023-11-26T17:19:15.914683Z"
    },
    "papermill": {
     "duration": 126.178131,
     "end_time": "2023-11-26T17:19:15.917291",
     "exception": false,
     "start_time": "2023-11-26T17:17:09.739160",
     "status": "completed"
    },
    "tags": []
   },
   "outputs": [],
   "source": [
    "from keras.callbacks import EarlyStopping\n",
    "\n",
    "early_stop = EarlyStopping(monitor='val_loss', patience=5)\n",
    "\n",
    "history = model.fit(\n",
    "    X_train, y_train, epochs=50, batch_size=64, verbose=0,\n",
    "    validation_data=(X_test, y_test), callbacks=[early_stop])"
   ]
  },
  {
   "attachments": {},
   "cell_type": "markdown",
   "id": "b5d1f52c",
   "metadata": {
    "papermill": {
     "duration": 0.006163,
     "end_time": "2023-11-26T17:19:15.929589",
     "exception": false,
     "start_time": "2023-11-26T17:19:15.923426",
     "status": "completed"
    },
    "tags": []
   },
   "source": [
    "### Calculate Predictions"
   ]
  },
  {
   "cell_type": "code",
   "execution_count": 11,
   "id": "6de7101a",
   "metadata": {
    "execution": {
     "iopub.execute_input": "2023-11-26T17:19:15.940332Z",
     "iopub.status.busy": "2023-11-26T17:19:15.939759Z",
     "iopub.status.idle": "2023-11-26T17:19:17.199570Z",
     "shell.execute_reply": "2023-11-26T17:19:17.198810Z"
    },
    "papermill": {
     "duration": 1.26737,
     "end_time": "2023-11-26T17:19:17.201597",
     "exception": false,
     "start_time": "2023-11-26T17:19:15.934227",
     "status": "completed"
    },
    "tags": []
   },
   "outputs": [
    {
     "name": "stdout",
     "output_type": "stream",
     "text": [
      "\r",
      "  1/280 [..............................] - ETA: 1:47"
     ]
    },
    {
     "name": "stdout",
     "output_type": "stream",
     "text": [
      "\b\b\b\b\b\b\b\b\b\b\b\b\b\b\b\b\b\b\b\b\b\b\b\b\b\b\b\b\b\b\b\b\b\b\b\b\b\b\b\b\b\b\b\b\b\b\b\b\b\b\b\b\r",
      " 21/280 [=>............................] - ETA: 0s  "
     ]
    },
    {
     "name": "stdout",
     "output_type": "stream",
     "text": [
      "\b\b\b\b\b\b\b\b\b\b\b\b\b\b\b\b\b\b\b\b\b\b\b\b\b\b\b\b\b\b\b\b\b\b\b\b\b\b\b\b\b\b\b\b\b\b\b\b\b\b\r",
      " 42/280 [===>..........................] - ETA: 0s"
     ]
    },
    {
     "name": "stdout",
     "output_type": "stream",
     "text": [
      "\b\b\b\b\b\b\b\b\b\b\b\b\b\b\b\b\b\b\b\b\b\b\b\b\b\b\b\b\b\b\b\b\b\b\b\b\b\b\b\b\b\b\b\b\b\b\b\b\b\b\r",
      " 58/280 [=====>........................] - ETA: 0s"
     ]
    },
    {
     "name": "stdout",
     "output_type": "stream",
     "text": [
      "\b\b\b\b\b\b\b\b\b\b\b\b\b\b\b\b\b\b\b\b\b\b\b\b\b\b\b\b\b\b\b\b\b\b\b\b\b\b\b\b\b\b\b\b\b\b\b\b\b\b\r",
      " 78/280 [=======>......................] - ETA: 0s"
     ]
    },
    {
     "name": "stdout",
     "output_type": "stream",
     "text": [
      "\b\b\b\b\b\b\b\b\b\b\b\b\b\b\b\b\b\b\b\b\b\b\b\b\b\b\b\b\b\b\b\b\b\b\b\b\b\b\b\b\b\b\b\b\b\b\b\b\b\b\r",
      " 99/280 [=========>....................] - ETA: 0s"
     ]
    },
    {
     "name": "stdout",
     "output_type": "stream",
     "text": [
      "\b\b\b\b\b\b\b\b\b\b\b\b\b\b\b\b\b\b\b\b\b\b\b\b\b\b\b\b\b\b\b\b\b\b\b\b\b\b\b\b\b\b\b\b\b\b\b\b\b\b\r",
      "120/280 [===========>..................] - ETA: 0s"
     ]
    },
    {
     "name": "stdout",
     "output_type": "stream",
     "text": [
      "\b\b\b\b\b\b\b\b\b\b\b\b\b\b\b\b\b\b\b\b\b\b\b\b\b\b\b\b\b\b\b\b\b\b\b\b\b\b\b\b\b\b\b\b\b\b\b\b\b\b\r",
      "142/280 [==============>...............] - ETA: 0s"
     ]
    },
    {
     "name": "stdout",
     "output_type": "stream",
     "text": [
      "\b\b\b\b\b\b\b\b\b\b\b\b\b\b\b\b\b\b\b\b\b\b\b\b\b\b\b\b\b\b\b\b\b\b\b\b\b\b\b\b\b\b\b\b\b\b\b\b\b\b\r",
      "164/280 [================>.............] - ETA: 0s"
     ]
    },
    {
     "name": "stdout",
     "output_type": "stream",
     "text": [
      "\b\b\b\b\b\b\b\b\b\b\b\b\b\b\b\b\b\b\b\b\b\b\b\b\b\b\b\b\b\b\b\b\b\b\b\b\b\b\b\b\b\b\b\b\b\b\b\b\b\b\r",
      "185/280 [==================>...........] - ETA: 0s"
     ]
    },
    {
     "name": "stdout",
     "output_type": "stream",
     "text": [
      "\b\b\b\b\b\b\b\b\b\b\b\b\b\b\b\b\b\b\b\b\b\b\b\b\b\b\b\b\b\b\b\b\b\b\b\b\b\b\b\b\b\b\b\b\b\b\b\b\b\b\r",
      "204/280 [====================>.........] - ETA: 0s"
     ]
    },
    {
     "name": "stdout",
     "output_type": "stream",
     "text": [
      "\b\b\b\b\b\b\b\b\b\b\b\b\b\b\b\b\b\b\b\b\b\b\b\b\b\b\b\b\b\b\b\b\b\b\b\b\b\b\b\b\b\b\b\b\b\b\b\b\b\b\r",
      "220/280 [======================>.......] - ETA: 0s"
     ]
    },
    {
     "name": "stdout",
     "output_type": "stream",
     "text": [
      "\b\b\b\b\b\b\b\b\b\b\b\b\b\b\b\b\b\b\b\b\b\b\b\b\b\b\b\b\b\b\b\b\b\b\b\b\b\b\b\b\b\b\b\b\b\b\b\b\b\b\r",
      "235/280 [========================>.....] - ETA: 0s"
     ]
    },
    {
     "name": "stdout",
     "output_type": "stream",
     "text": [
      "\b\b\b\b\b\b\b\b\b\b\b\b\b\b\b\b\b\b\b\b\b\b\b\b\b\b\b\b\b\b\b\b\b\b\b\b\b\b\b\b\b\b\b\b\b\b\b\b\b\b\r",
      "256/280 [==========================>...] - ETA: 0s"
     ]
    },
    {
     "name": "stdout",
     "output_type": "stream",
     "text": [
      "\b\b\b\b\b\b\b\b\b\b\b\b\b\b\b\b\b\b\b\b\b\b\b\b\b\b\b\b\b\b\b\b\b\b\b\b\b\b\b\b\b\b\b\b\b\b\b\b\b\b\r",
      "277/280 [============================>.] - ETA: 0s"
     ]
    },
    {
     "name": "stdout",
     "output_type": "stream",
     "text": [
      "\b\b\b\b\b\b\b\b\b\b\b\b\b\b\b\b\b\b\b\b\b\b\b\b\b\b\b\b\b\b\b\b\b\b\b\b\b\b\b\b\b\b\b\b\b\b\b\b\b\b\r",
      "280/280 [==============================] - 1s 3ms/step\n"
     ]
    },
    {
     "data": {
      "text/plain": [
       "array([[0.2290526 ],\n",
       "       [0.21661313],\n",
       "       [0.19158207],\n",
       "       ...,\n",
       "       [0.2576815 ],\n",
       "       [0.23096842],\n",
       "       [0.1831951 ]], dtype=float32)"
      ]
     },
     "execution_count": 11,
     "metadata": {},
     "output_type": "execute_result"
    }
   ],
   "source": [
    "y_pred = model.predict(X_test)\n",
    "y_pred"
   ]
  },
  {
   "attachments": {},
   "cell_type": "markdown",
   "id": "63bff6ff",
   "metadata": {
    "papermill": {
     "duration": 0.006172,
     "end_time": "2023-11-26T17:19:17.213779",
     "exception": false,
     "start_time": "2023-11-26T17:19:17.207607",
     "status": "completed"
    },
    "tags": []
   },
   "source": [
    "### Comparison: Real Data & Prediction"
   ]
  },
  {
   "attachments": {},
   "cell_type": "markdown",
   "id": "e31c331e",
   "metadata": {
    "papermill": {
     "duration": 0.005368,
     "end_time": "2023-11-26T17:19:17.224150",
     "exception": false,
     "start_time": "2023-11-26T17:19:17.218782",
     "status": "completed"
    },
    "tags": []
   },
   "source": [
    "#### Descale Data"
   ]
  },
  {
   "cell_type": "code",
   "execution_count": 12,
   "id": "17554a14",
   "metadata": {
    "execution": {
     "iopub.execute_input": "2023-11-26T17:19:17.237279Z",
     "iopub.status.busy": "2023-11-26T17:19:17.236827Z",
     "iopub.status.idle": "2023-11-26T17:19:17.241496Z",
     "shell.execute_reply": "2023-11-26T17:19:17.240676Z"
    },
    "papermill": {
     "duration": 0.013927,
     "end_time": "2023-11-26T17:19:17.244123",
     "exception": false,
     "start_time": "2023-11-26T17:19:17.230196",
     "status": "completed"
    },
    "tags": []
   },
   "outputs": [],
   "source": [
    "y_pred_scaled_inverse = scaler.inverse_transform(y_pred)\n",
    "y_true = scaler.inverse_transform(y_test)"
   ]
  },
  {
   "attachments": {},
   "cell_type": "markdown",
   "id": "db77a1d4",
   "metadata": {
    "papermill": {
     "duration": 0.005231,
     "end_time": "2023-11-26T17:19:17.254358",
     "exception": false,
     "start_time": "2023-11-26T17:19:17.249127",
     "status": "completed"
    },
    "tags": []
   },
   "source": [
    "#### Create DataFrame"
   ]
  },
  {
   "cell_type": "code",
   "execution_count": 13,
   "id": "76d70e0c",
   "metadata": {
    "execution": {
     "iopub.execute_input": "2023-11-26T17:19:17.267536Z",
     "iopub.status.busy": "2023-11-26T17:19:17.267234Z",
     "iopub.status.idle": "2023-11-26T17:19:17.278662Z",
     "shell.execute_reply": "2023-11-26T17:19:17.277855Z"
    },
    "papermill": {
     "duration": 0.019918,
     "end_time": "2023-11-26T17:19:17.280467",
     "exception": false,
     "start_time": "2023-11-26T17:19:17.260549",
     "status": "completed"
    },
    "tags": []
   },
   "outputs": [
    {
     "data": {
      "text/html": [
       "<div>\n",
       "<style scoped>\n",
       "    .dataframe tbody tr th:only-of-type {\n",
       "        vertical-align: middle;\n",
       "    }\n",
       "\n",
       "    .dataframe tbody tr th {\n",
       "        vertical-align: top;\n",
       "    }\n",
       "\n",
       "    .dataframe thead th {\n",
       "        text-align: right;\n",
       "    }\n",
       "</style>\n",
       "<table border=\"1\" class=\"dataframe\">\n",
       "  <thead>\n",
       "    <tr style=\"text-align: right;\">\n",
       "      <th></th>\n",
       "      <th>y_pred</th>\n",
       "      <th>y_pred_scaled_inverse</th>\n",
       "      <th>y_true</th>\n",
       "    </tr>\n",
       "  </thead>\n",
       "  <tbody>\n",
       "    <tr>\n",
       "      <th>0</th>\n",
       "      <td>0.229053</td>\n",
       "      <td>1367.294678</td>\n",
       "      <td>1382.0</td>\n",
       "    </tr>\n",
       "    <tr>\n",
       "      <th>1</th>\n",
       "      <td>0.216613</td>\n",
       "      <td>1344.903564</td>\n",
       "      <td>1351.0</td>\n",
       "    </tr>\n",
       "    <tr>\n",
       "      <th>2</th>\n",
       "      <td>0.191582</td>\n",
       "      <td>1299.847778</td>\n",
       "      <td>1306.0</td>\n",
       "    </tr>\n",
       "    <tr>\n",
       "      <th>3</th>\n",
       "      <td>0.167858</td>\n",
       "      <td>1257.144043</td>\n",
       "      <td>1232.0</td>\n",
       "    </tr>\n",
       "    <tr>\n",
       "      <th>4</th>\n",
       "      <td>0.125459</td>\n",
       "      <td>1180.825928</td>\n",
       "      <td>1200.0</td>\n",
       "    </tr>\n",
       "    <tr>\n",
       "      <th>...</th>\n",
       "      <td>...</td>\n",
       "      <td>...</td>\n",
       "      <td>...</td>\n",
       "    </tr>\n",
       "    <tr>\n",
       "      <th>8952</th>\n",
       "      <td>0.282756</td>\n",
       "      <td>1463.960938</td>\n",
       "      <td>1449.0</td>\n",
       "    </tr>\n",
       "    <tr>\n",
       "      <th>8953</th>\n",
       "      <td>0.247609</td>\n",
       "      <td>1400.696777</td>\n",
       "      <td>1461.0</td>\n",
       "    </tr>\n",
       "    <tr>\n",
       "      <th>8954</th>\n",
       "      <td>0.257681</td>\n",
       "      <td>1418.826660</td>\n",
       "      <td>1431.0</td>\n",
       "    </tr>\n",
       "    <tr>\n",
       "      <th>8955</th>\n",
       "      <td>0.230968</td>\n",
       "      <td>1370.743164</td>\n",
       "      <td>1352.0</td>\n",
       "    </tr>\n",
       "    <tr>\n",
       "      <th>8956</th>\n",
       "      <td>0.183195</td>\n",
       "      <td>1284.751221</td>\n",
       "      <td>1309.0</td>\n",
       "    </tr>\n",
       "  </tbody>\n",
       "</table>\n",
       "<p>8957 rows × 3 columns</p>\n",
       "</div>"
      ],
      "text/plain": [
       "        y_pred  y_pred_scaled_inverse  y_true\n",
       "0     0.229053            1367.294678  1382.0\n",
       "1     0.216613            1344.903564  1351.0\n",
       "2     0.191582            1299.847778  1306.0\n",
       "3     0.167858            1257.144043  1232.0\n",
       "4     0.125459            1180.825928  1200.0\n",
       "...        ...                    ...     ...\n",
       "8952  0.282756            1463.960938  1449.0\n",
       "8953  0.247609            1400.696777  1461.0\n",
       "8954  0.257681            1418.826660  1431.0\n",
       "8955  0.230968            1370.743164  1352.0\n",
       "8956  0.183195            1284.751221  1309.0\n",
       "\n",
       "[8957 rows x 3 columns]"
      ]
     },
     "execution_count": 13,
     "metadata": {},
     "output_type": "execute_result"
    }
   ],
   "source": [
    "dic_pred = {\n",
    "    'y_pred': y_pred.flatten(),\n",
    "    'y_pred_scaled_inverse': y_pred_scaled_inverse.flatten(),\n",
    "    'y_true': y_true.flatten(),\n",
    "}\n",
    "\n",
    "df_pred = pd.DataFrame(dic_pred)\n",
    "df_pred"
   ]
  },
  {
   "attachments": {},
   "cell_type": "markdown",
   "id": "2ef2be70",
   "metadata": {
    "papermill": {
     "duration": 0.005518,
     "end_time": "2023-11-26T17:19:17.291127",
     "exception": false,
     "start_time": "2023-11-26T17:19:17.285609",
     "status": "completed"
    },
    "tags": []
   },
   "source": [
    "#### Evaluate Model"
   ]
  },
  {
   "cell_type": "code",
   "execution_count": 14,
   "id": "bf47fcf6",
   "metadata": {
    "execution": {
     "iopub.execute_input": "2023-11-26T17:19:17.303518Z",
     "iopub.status.busy": "2023-11-26T17:19:17.303232Z",
     "iopub.status.idle": "2023-11-26T17:19:17.307445Z",
     "shell.execute_reply": "2023-11-26T17:19:17.306506Z"
    },
    "papermill": {
     "duration": 0.012338,
     "end_time": "2023-11-26T17:19:17.309502",
     "exception": false,
     "start_time": "2023-11-26T17:19:17.297164",
     "status": "completed"
    },
    "tags": []
   },
   "outputs": [],
   "source": [
    "from sklearn.metrics import mean_squared_error"
   ]
  },
  {
   "cell_type": "code",
   "execution_count": 15,
   "id": "67ecf561",
   "metadata": {
    "execution": {
     "iopub.execute_input": "2023-11-26T17:19:17.323299Z",
     "iopub.status.busy": "2023-11-26T17:19:17.322972Z",
     "iopub.status.idle": "2023-11-26T17:19:17.329218Z",
     "shell.execute_reply": "2023-11-26T17:19:17.328584Z"
    },
    "papermill": {
     "duration": 0.01547,
     "end_time": "2023-11-26T17:19:17.331345",
     "exception": false,
     "start_time": "2023-11-26T17:19:17.315875",
     "status": "completed"
    },
    "tags": []
   },
   "outputs": [
    {
     "data": {
      "text/plain": [
       "24.068790370315874"
      ]
     },
     "execution_count": 15,
     "metadata": {},
     "output_type": "execute_result"
    }
   ],
   "source": [
    "mean_squared_error(df_pred.y_true, df_pred.y_pred_scaled_inverse, squared=False)"
   ]
  },
  {
   "cell_type": "code",
   "execution_count": 16,
   "id": "6569344b",
   "metadata": {
    "execution": {
     "iopub.execute_input": "2023-11-26T17:19:17.376640Z",
     "iopub.status.busy": "2023-11-26T17:19:17.375753Z",
     "iopub.status.idle": "2023-11-26T17:19:17.409108Z",
     "shell.execute_reply": "2023-11-26T17:19:17.408121Z"
    },
    "papermill": {
     "duration": 0.06426,
     "end_time": "2023-11-26T17:19:17.411110",
     "exception": false,
     "start_time": "2023-11-26T17:19:17.346850",
     "status": "completed"
    },
    "tags": []
   },
   "outputs": [],
   "source": [
    "model.save(f'../models/{region}.keras')"
   ]
  }
 ],
 "metadata": {
  "kernelspec": {
   "display_name": "deep-learning",
   "language": "python",
   "name": "python3"
  },
  "language_info": {
   "codemirror_mode": {
    "name": "ipython",
    "version": 3
   },
   "file_extension": ".py",
   "mimetype": "text/x-python",
   "name": "python",
   "nbconvert_exporter": "python",
   "pygments_lexer": "ipython3",
   "version": "3.9.18"
  },
  "papermill": {
   "default_parameters": {},
   "duration": 137.578527,
   "end_time": "2023-11-26T17:19:18.445886",
   "environment_variables": {},
   "exception": null,
   "input_path": "Modelling.ipynb",
   "output_path": "outputs/DUQ.ipynb",
   "parameters": {
    "region": "DUQ"
   },
   "start_time": "2023-11-26T17:17:00.867359",
   "version": "2.5.0"
  }
 },
 "nbformat": 4,
 "nbformat_minor": 5
}