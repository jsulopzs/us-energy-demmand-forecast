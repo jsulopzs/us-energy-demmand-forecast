{
 "cells": [
  {
   "attachments": {},
   "cell_type": "markdown",
   "id": "52017c57",
   "metadata": {
    "papermill": {
     "duration": 0.0,
     "end_time": "2023-12-13T13:16:55.982588",
     "exception": false,
     "start_time": "2023-12-13T13:16:55.982588",
     "status": "completed"
    },
    "tags": []
   },
   "source": [
    "## Load data"
   ]
  },
  {
   "cell_type": "code",
   "execution_count": 1,
   "id": "0183004f",
   "metadata": {
    "execution": {
     "iopub.execute_input": "2023-12-13T13:16:56.001032Z",
     "iopub.status.busy": "2023-12-13T13:16:56.001032Z",
     "iopub.status.idle": "2023-12-13T13:16:56.382340Z",
     "shell.execute_reply": "2023-12-13T13:16:56.381634Z"
    },
    "papermill": {
     "duration": 0.401754,
     "end_time": "2023-12-13T13:16:56.384342",
     "exception": false,
     "start_time": "2023-12-13T13:16:55.982588",
     "status": "completed"
    },
    "tags": []
   },
   "outputs": [],
   "source": [
    "import pandas as pd"
   ]
  },
  {
   "cell_type": "code",
   "execution_count": 2,
   "id": "2d20de13",
   "metadata": {
    "execution": {
     "iopub.execute_input": "2023-12-13T13:16:56.385342Z",
     "iopub.status.busy": "2023-12-13T13:16:56.385342Z",
     "iopub.status.idle": "2023-12-13T13:16:56.517433Z",
     "shell.execute_reply": "2023-12-13T13:16:56.516796Z"
    },
    "papermill": {
     "duration": 0.132091,
     "end_time": "2023-12-13T13:16:56.517433",
     "exception": false,
     "start_time": "2023-12-13T13:16:56.385342",
     "status": "completed"
    },
    "tags": []
   },
   "outputs": [
    {
     "data": {
      "text/html": [
       "<div>\n",
       "<style scoped>\n",
       "    .dataframe tbody tr th:only-of-type {\n",
       "        vertical-align: middle;\n",
       "    }\n",
       "\n",
       "    .dataframe tbody tr th {\n",
       "        vertical-align: top;\n",
       "    }\n",
       "\n",
       "    .dataframe thead th {\n",
       "        text-align: right;\n",
       "    }\n",
       "</style>\n",
       "<table border=\"1\" class=\"dataframe\">\n",
       "  <thead>\n",
       "    <tr style=\"text-align: right;\">\n",
       "      <th></th>\n",
       "      <th>AE</th>\n",
       "      <th>AEP</th>\n",
       "      <th>AP</th>\n",
       "      <th>ATSI</th>\n",
       "      <th>BC</th>\n",
       "      <th>CE</th>\n",
       "      <th>DAY</th>\n",
       "      <th>DEOK</th>\n",
       "      <th>DOM</th>\n",
       "      <th>DPL</th>\n",
       "      <th>DUQ</th>\n",
       "      <th>EKPC</th>\n",
       "      <th>JC</th>\n",
       "      <th>ME</th>\n",
       "      <th>PE</th>\n",
       "      <th>PEP</th>\n",
       "      <th>PL</th>\n",
       "      <th>PN</th>\n",
       "      <th>PS</th>\n",
       "      <th>RECO</th>\n",
       "    </tr>\n",
       "    <tr>\n",
       "      <th>period</th>\n",
       "      <th></th>\n",
       "      <th></th>\n",
       "      <th></th>\n",
       "      <th></th>\n",
       "      <th></th>\n",
       "      <th></th>\n",
       "      <th></th>\n",
       "      <th></th>\n",
       "      <th></th>\n",
       "      <th></th>\n",
       "      <th></th>\n",
       "      <th></th>\n",
       "      <th></th>\n",
       "      <th></th>\n",
       "      <th></th>\n",
       "      <th></th>\n",
       "      <th></th>\n",
       "      <th></th>\n",
       "      <th></th>\n",
       "      <th></th>\n",
       "    </tr>\n",
       "  </thead>\n",
       "  <tbody>\n",
       "    <tr>\n",
       "      <th>2018-07-01 05:00:00</th>\n",
       "      <td>1301</td>\n",
       "      <td>12187</td>\n",
       "      <td>4384</td>\n",
       "      <td>6960</td>\n",
       "      <td>3134</td>\n",
       "      <td>12136</td>\n",
       "      <td>1619</td>\n",
       "      <td>2895</td>\n",
       "      <td>9775</td>\n",
       "      <td>1919</td>\n",
       "      <td>1466</td>\n",
       "      <td>1209</td>\n",
       "      <td>2388</td>\n",
       "      <td>1442</td>\n",
       "      <td>4397</td>\n",
       "      <td>3165</td>\n",
       "      <td>3835</td>\n",
       "      <td>1611</td>\n",
       "      <td>5009</td>\n",
       "      <td>186</td>\n",
       "    </tr>\n",
       "    <tr>\n",
       "      <th>2018-07-01 06:00:00</th>\n",
       "      <td>1314</td>\n",
       "      <td>11946</td>\n",
       "      <td>4391</td>\n",
       "      <td>6762</td>\n",
       "      <td>3139</td>\n",
       "      <td>11872</td>\n",
       "      <td>1605</td>\n",
       "      <td>2857</td>\n",
       "      <td>9787</td>\n",
       "      <td>1950</td>\n",
       "      <td>1455</td>\n",
       "      <td>1197</td>\n",
       "      <td>2416</td>\n",
       "      <td>1465</td>\n",
       "      <td>4423</td>\n",
       "      <td>3156</td>\n",
       "      <td>3901</td>\n",
       "      <td>1641</td>\n",
       "      <td>4990</td>\n",
       "      <td>187</td>\n",
       "    </tr>\n",
       "    <tr>\n",
       "      <th>2018-07-01 07:00:00</th>\n",
       "      <td>1410</td>\n",
       "      <td>12664</td>\n",
       "      <td>4757</td>\n",
       "      <td>6670</td>\n",
       "      <td>3377</td>\n",
       "      <td>11992</td>\n",
       "      <td>1707</td>\n",
       "      <td>2997</td>\n",
       "      <td>10453</td>\n",
       "      <td>2160</td>\n",
       "      <td>1528</td>\n",
       "      <td>1273</td>\n",
       "      <td>2644</td>\n",
       "      <td>1605</td>\n",
       "      <td>4743</td>\n",
       "      <td>3332</td>\n",
       "      <td>4232</td>\n",
       "      <td>1728</td>\n",
       "      <td>5267</td>\n",
       "      <td>202</td>\n",
       "    </tr>\n",
       "    <tr>\n",
       "      <th>2018-07-01 08:00:00</th>\n",
       "      <td>1567</td>\n",
       "      <td>14069</td>\n",
       "      <td>5308</td>\n",
       "      <td>7065</td>\n",
       "      <td>3788</td>\n",
       "      <td>12860</td>\n",
       "      <td>1916</td>\n",
       "      <td>3331</td>\n",
       "      <td>11734</td>\n",
       "      <td>2470</td>\n",
       "      <td>1688</td>\n",
       "      <td>1472</td>\n",
       "      <td>3064</td>\n",
       "      <td>1784</td>\n",
       "      <td>5230</td>\n",
       "      <td>3679</td>\n",
       "      <td>4613</td>\n",
       "      <td>1899</td>\n",
       "      <td>5735</td>\n",
       "      <td>230</td>\n",
       "    </tr>\n",
       "    <tr>\n",
       "      <th>2018-07-01 09:00:00</th>\n",
       "      <td>1749</td>\n",
       "      <td>15610</td>\n",
       "      <td>5862</td>\n",
       "      <td>7833</td>\n",
       "      <td>4262</td>\n",
       "      <td>14212</td>\n",
       "      <td>2145</td>\n",
       "      <td>3703</td>\n",
       "      <td>13084</td>\n",
       "      <td>2765</td>\n",
       "      <td>1875</td>\n",
       "      <td>1656</td>\n",
       "      <td>3569</td>\n",
       "      <td>1972</td>\n",
       "      <td>5752</td>\n",
       "      <td>4085</td>\n",
       "      <td>5014</td>\n",
       "      <td>2055</td>\n",
       "      <td>6299</td>\n",
       "      <td>259</td>\n",
       "    </tr>\n",
       "  </tbody>\n",
       "</table>\n",
       "</div>"
      ],
      "text/plain": [
       "                       AE    AEP    AP  ATSI    BC     CE   DAY  DEOK    DOM  \\\n",
       "period                                                                         \n",
       "2018-07-01 05:00:00  1301  12187  4384  6960  3134  12136  1619  2895   9775   \n",
       "2018-07-01 06:00:00  1314  11946  4391  6762  3139  11872  1605  2857   9787   \n",
       "2018-07-01 07:00:00  1410  12664  4757  6670  3377  11992  1707  2997  10453   \n",
       "2018-07-01 08:00:00  1567  14069  5308  7065  3788  12860  1916  3331  11734   \n",
       "2018-07-01 09:00:00  1749  15610  5862  7833  4262  14212  2145  3703  13084   \n",
       "\n",
       "                      DPL   DUQ  EKPC    JC    ME    PE   PEP    PL    PN  \\\n",
       "period                                                                      \n",
       "2018-07-01 05:00:00  1919  1466  1209  2388  1442  4397  3165  3835  1611   \n",
       "2018-07-01 06:00:00  1950  1455  1197  2416  1465  4423  3156  3901  1641   \n",
       "2018-07-01 07:00:00  2160  1528  1273  2644  1605  4743  3332  4232  1728   \n",
       "2018-07-01 08:00:00  2470  1688  1472  3064  1784  5230  3679  4613  1899   \n",
       "2018-07-01 09:00:00  2765  1875  1656  3569  1972  5752  4085  5014  2055   \n",
       "\n",
       "                       PS  RECO  \n",
       "period                           \n",
       "2018-07-01 05:00:00  5009   186  \n",
       "2018-07-01 06:00:00  4990   187  \n",
       "2018-07-01 07:00:00  5267   202  \n",
       "2018-07-01 08:00:00  5735   230  \n",
       "2018-07-01 09:00:00  6299   259  "
      ]
     },
     "execution_count": 2,
     "metadata": {},
     "output_type": "execute_result"
    }
   ],
   "source": [
    "df_base = pd.read_csv('../data/general/pjm_pivot.csv', index_col=0, parse_dates=True)\n",
    "df_base.head()"
   ]
  },
  {
   "attachments": {},
   "cell_type": "markdown",
   "id": "b29e61ee",
   "metadata": {
    "papermill": {
     "duration": 0.0,
     "end_time": "2023-12-13T13:16:56.517433",
     "exception": false,
     "start_time": "2023-12-13T13:16:56.517433",
     "status": "completed"
    },
    "tags": []
   },
   "source": [
    "## Select region"
   ]
  },
  {
   "cell_type": "code",
   "execution_count": 3,
   "id": "0dd8c331",
   "metadata": {
    "execution": {
     "iopub.execute_input": "2023-12-13T13:16:56.547544Z",
     "iopub.status.busy": "2023-12-13T13:16:56.547544Z",
     "iopub.status.idle": "2023-12-13T13:16:56.564211Z",
     "shell.execute_reply": "2023-12-13T13:16:56.564211Z"
    },
    "papermill": {
     "duration": 0.027355,
     "end_time": "2023-12-13T13:16:56.566897",
     "exception": false,
     "start_time": "2023-12-13T13:16:56.539542",
     "status": "completed"
    },
    "tags": [
     "parameters"
    ]
   },
   "outputs": [],
   "source": [
    "region = 'AE'"
   ]
  },
  {
   "cell_type": "code",
   "execution_count": 4,
   "id": "2e3beb25",
   "metadata": {
    "execution": {
     "iopub.execute_input": "2023-12-13T13:16:56.580900Z",
     "iopub.status.busy": "2023-12-13T13:16:56.580900Z",
     "iopub.status.idle": "2023-12-13T13:16:56.599256Z",
     "shell.execute_reply": "2023-12-13T13:16:56.598607Z"
    },
    "papermill": {
     "duration": 0.028361,
     "end_time": "2023-12-13T13:16:56.601259",
     "exception": false,
     "start_time": "2023-12-13T13:16:56.572898",
     "status": "completed"
    },
    "tags": [
     "injected-parameters"
    ]
   },
   "outputs": [],
   "source": [
    "# Parameters\n",
    "region = \"DUQ\"\n"
   ]
  },
  {
   "cell_type": "code",
   "execution_count": 5,
   "id": "8d0242e0",
   "metadata": {
    "execution": {
     "iopub.execute_input": "2023-12-13T13:16:56.615889Z",
     "iopub.status.busy": "2023-12-13T13:16:56.602736Z",
     "iopub.status.idle": "2023-12-13T13:16:56.632615Z",
     "shell.execute_reply": "2023-12-13T13:16:56.631873Z"
    },
    "papermill": {
     "duration": 0.030694,
     "end_time": "2023-12-13T13:16:56.633430",
     "exception": false,
     "start_time": "2023-12-13T13:16:56.602736",
     "status": "completed"
    },
    "tags": []
   },
   "outputs": [
    {
     "data": {
      "text/html": [
       "<div>\n",
       "<style scoped>\n",
       "    .dataframe tbody tr th:only-of-type {\n",
       "        vertical-align: middle;\n",
       "    }\n",
       "\n",
       "    .dataframe tbody tr th {\n",
       "        vertical-align: top;\n",
       "    }\n",
       "\n",
       "    .dataframe thead th {\n",
       "        text-align: right;\n",
       "    }\n",
       "</style>\n",
       "<table border=\"1\" class=\"dataframe\">\n",
       "  <thead>\n",
       "    <tr style=\"text-align: right;\">\n",
       "      <th></th>\n",
       "      <th>DUQ</th>\n",
       "    </tr>\n",
       "    <tr>\n",
       "      <th>period</th>\n",
       "      <th></th>\n",
       "    </tr>\n",
       "  </thead>\n",
       "  <tbody>\n",
       "    <tr>\n",
       "      <th>2018-07-01 05:00:00</th>\n",
       "      <td>1466</td>\n",
       "    </tr>\n",
       "    <tr>\n",
       "      <th>2018-07-01 06:00:00</th>\n",
       "      <td>1455</td>\n",
       "    </tr>\n",
       "    <tr>\n",
       "      <th>2018-07-01 07:00:00</th>\n",
       "      <td>1528</td>\n",
       "    </tr>\n",
       "    <tr>\n",
       "      <th>2018-07-01 08:00:00</th>\n",
       "      <td>1688</td>\n",
       "    </tr>\n",
       "    <tr>\n",
       "      <th>2018-07-01 09:00:00</th>\n",
       "      <td>1875</td>\n",
       "    </tr>\n",
       "    <tr>\n",
       "      <th>...</th>\n",
       "      <td>...</td>\n",
       "    </tr>\n",
       "    <tr>\n",
       "      <th>2023-11-01 00:00:00</th>\n",
       "      <td>1449</td>\n",
       "    </tr>\n",
       "    <tr>\n",
       "      <th>2023-11-01 01:00:00</th>\n",
       "      <td>1461</td>\n",
       "    </tr>\n",
       "    <tr>\n",
       "      <th>2023-11-01 02:00:00</th>\n",
       "      <td>1431</td>\n",
       "    </tr>\n",
       "    <tr>\n",
       "      <th>2023-11-01 03:00:00</th>\n",
       "      <td>1352</td>\n",
       "    </tr>\n",
       "    <tr>\n",
       "      <th>2023-11-01 04:00:00</th>\n",
       "      <td>1309</td>\n",
       "    </tr>\n",
       "  </tbody>\n",
       "</table>\n",
       "<p>44904 rows × 1 columns</p>\n",
       "</div>"
      ],
      "text/plain": [
       "                      DUQ\n",
       "period                   \n",
       "2018-07-01 05:00:00  1466\n",
       "2018-07-01 06:00:00  1455\n",
       "2018-07-01 07:00:00  1528\n",
       "2018-07-01 08:00:00  1688\n",
       "2018-07-01 09:00:00  1875\n",
       "...                   ...\n",
       "2023-11-01 00:00:00  1449\n",
       "2023-11-01 01:00:00  1461\n",
       "2023-11-01 02:00:00  1431\n",
       "2023-11-01 03:00:00  1352\n",
       "2023-11-01 04:00:00  1309\n",
       "\n",
       "[44904 rows x 1 columns]"
      ]
     },
     "execution_count": 5,
     "metadata": {},
     "output_type": "execute_result"
    }
   ],
   "source": [
    "df = df_base.loc[:, [region]]\n",
    "df"
   ]
  },
  {
   "attachments": {},
   "cell_type": "markdown",
   "id": "5dc315c1",
   "metadata": {
    "papermill": {
     "duration": 0.0,
     "end_time": "2023-12-13T13:16:56.633430",
     "exception": false,
     "start_time": "2023-12-13T13:16:56.633430",
     "status": "completed"
    },
    "tags": []
   },
   "source": [
    "## Data Preprocessing"
   ]
  },
  {
   "cell_type": "markdown",
   "id": "2321103d",
   "metadata": {
    "papermill": {
     "duration": 0.0,
     "end_time": "2023-12-13T13:16:56.650122",
     "exception": false,
     "start_time": "2023-12-13T13:16:56.650122",
     "status": "completed"
    },
    "tags": []
   },
   "source": [
    "### Train Test Split"
   ]
  },
  {
   "cell_type": "code",
   "execution_count": 6,
   "id": "47ba2f14",
   "metadata": {
    "execution": {
     "iopub.execute_input": "2023-12-13T13:16:56.668905Z",
     "iopub.status.busy": "2023-12-13T13:16:56.668905Z",
     "iopub.status.idle": "2023-12-13T13:16:57.117017Z",
     "shell.execute_reply": "2023-12-13T13:16:57.116578Z"
    },
    "papermill": {
     "duration": 0.448658,
     "end_time": "2023-12-13T13:16:57.117563",
     "exception": false,
     "start_time": "2023-12-13T13:16:56.668905",
     "status": "completed"
    },
    "tags": []
   },
   "outputs": [],
   "source": [
    "from sklearn.model_selection import train_test_split\n",
    "\n",
    "train, test = train_test_split(df, test_size=0.3, shuffle=False)\n",
    "test, prod = train_test_split(test, test_size=0.5, shuffle=False)"
   ]
  },
  {
   "cell_type": "markdown",
   "id": "f9c3f5d6",
   "metadata": {
    "papermill": {
     "duration": 0.015004,
     "end_time": "2023-12-13T13:16:57.132567",
     "exception": false,
     "start_time": "2023-12-13T13:16:57.117563",
     "status": "completed"
    },
    "tags": []
   },
   "source": [
    "### Export Data"
   ]
  },
  {
   "cell_type": "code",
   "execution_count": 7,
   "id": "10112d88",
   "metadata": {
    "execution": {
     "iopub.execute_input": "2023-12-13T13:16:57.137121Z",
     "iopub.status.busy": "2023-12-13T13:16:57.137121Z",
     "iopub.status.idle": "2023-12-13T13:16:57.266536Z",
     "shell.execute_reply": "2023-12-13T13:16:57.265653Z"
    },
    "papermill": {
     "duration": 0.13088,
     "end_time": "2023-12-13T13:16:57.268001",
     "exception": false,
     "start_time": "2023-12-13T13:16:57.137121",
     "status": "completed"
    },
    "tags": []
   },
   "outputs": [],
   "source": [
    "import os\n",
    "\n",
    "path_region = f'../data/regions/{region}'\n",
    "\n",
    "if not os.path.exists(path_region):\n",
    "    os.makedirs(path_region)\n",
    "\n",
    "for df, name in zip([train, test, prod], ['train', 'test', 'prod']):\n",
    "    df.to_csv(f'{path_region}/{name}.csv')"
   ]
  },
  {
   "attachments": {},
   "cell_type": "markdown",
   "id": "78da8658",
   "metadata": {
    "papermill": {
     "duration": 0.0,
     "end_time": "2023-12-13T13:16:57.268001",
     "exception": false,
     "start_time": "2023-12-13T13:16:57.268001",
     "status": "completed"
    },
    "tags": []
   },
   "source": [
    "### Scale Data"
   ]
  },
  {
   "cell_type": "code",
   "execution_count": 8,
   "id": "37afa358",
   "metadata": {
    "execution": {
     "iopub.execute_input": "2023-12-13T13:16:57.284518Z",
     "iopub.status.busy": "2023-12-13T13:16:57.284518Z",
     "iopub.status.idle": "2023-12-13T13:16:57.319551Z",
     "shell.execute_reply": "2023-12-13T13:16:57.319551Z"
    },
    "papermill": {
     "duration": 0.037033,
     "end_time": "2023-12-13T13:16:57.321551",
     "exception": false,
     "start_time": "2023-12-13T13:16:57.284518",
     "status": "completed"
    },
    "tags": []
   },
   "outputs": [],
   "source": [
    "from sklearn.preprocessing import MinMaxScaler\n",
    "\n",
    "scaler = MinMaxScaler(feature_range=(0, 1))\n",
    "\n",
    "train_norm = scaler.fit_transform(train)\n",
    "test_norm = scaler.transform(test)"
   ]
  },
  {
   "attachments": {},
   "cell_type": "markdown",
   "id": "8806d8a9",
   "metadata": {
    "papermill": {
     "duration": 0.007001,
     "end_time": "2023-12-13T13:16:57.335554",
     "exception": false,
     "start_time": "2023-12-13T13:16:57.328553",
     "status": "completed"
    },
    "tags": []
   },
   "source": [
    "### Create Sequences"
   ]
  },
  {
   "cell_type": "code",
   "execution_count": 9,
   "id": "0d56112f",
   "metadata": {
    "execution": {
     "iopub.execute_input": "2023-12-13T13:16:57.351204Z",
     "iopub.status.busy": "2023-12-13T13:16:57.351204Z",
     "iopub.status.idle": "2023-12-13T13:16:57.434497Z",
     "shell.execute_reply": "2023-12-13T13:16:57.433273Z"
    },
    "papermill": {
     "duration": 0.097313,
     "end_time": "2023-12-13T13:16:57.434497",
     "exception": false,
     "start_time": "2023-12-13T13:16:57.337184",
     "status": "completed"
    },
    "tags": []
   },
   "outputs": [],
   "source": [
    "import numpy as np\n",
    "\n",
    "def create_sequences(data, sequence_length):\n",
    "    X, y = [], []\n",
    "    for i in range(len(data) - sequence_length):\n",
    "        X.append(data[i:i+sequence_length])\n",
    "        y.append(data[i+sequence_length])\n",
    "    return np.array(X), np.array(y)\n",
    "\n",
    "sequence_length = 24 # Use 24 hours prior to predict the following hour\n",
    "X_train, y_train = create_sequences(train_norm, sequence_length)\n",
    "X_test, y_test = create_sequences(test_norm, sequence_length)"
   ]
  },
  {
   "attachments": {},
   "cell_type": "markdown",
   "id": "e33f5532",
   "metadata": {
    "papermill": {
     "duration": 0.015503,
     "end_time": "2023-12-13T13:16:57.450000",
     "exception": false,
     "start_time": "2023-12-13T13:16:57.434497",
     "status": "completed"
    },
    "tags": []
   },
   "source": [
    "## Modelling"
   ]
  },
  {
   "attachments": {},
   "cell_type": "markdown",
   "id": "75a50c23",
   "metadata": {
    "papermill": {
     "duration": 0.0,
     "end_time": "2023-12-13T13:16:57.454170",
     "exception": false,
     "start_time": "2023-12-13T13:16:57.454170",
     "status": "completed"
    },
    "tags": []
   },
   "source": [
    "### Design NN Architecture"
   ]
  },
  {
   "cell_type": "code",
   "execution_count": 10,
   "id": "c4207928",
   "metadata": {
    "execution": {
     "iopub.execute_input": "2023-12-13T13:16:57.471849Z",
     "iopub.status.busy": "2023-12-13T13:16:57.471849Z",
     "iopub.status.idle": "2023-12-13T13:16:58.866343Z",
     "shell.execute_reply": "2023-12-13T13:16:58.866343Z"
    },
    "papermill": {
     "duration": 1.396505,
     "end_time": "2023-12-13T13:16:58.868354",
     "exception": false,
     "start_time": "2023-12-13T13:16:57.471849",
     "status": "completed"
    },
    "tags": []
   },
   "outputs": [
    {
     "name": "stderr",
     "output_type": "stream",
     "text": [
      "c:\\Users\\jesus\\miniconda3\\envs\\tf-base\\lib\\site-packages\\tensorflow\\python\\framework\\dtypes.py:516: FutureWarning: Passing (type, 1) or '1type' as a synonym of type is deprecated; in a future version of numpy, it will be understood as (type, (1,)) / '(1,)type'.\n",
      "  _np_qint8 = np.dtype([(\"qint8\", np.int8, 1)])\n",
      "c:\\Users\\jesus\\miniconda3\\envs\\tf-base\\lib\\site-packages\\tensorflow\\python\\framework\\dtypes.py:517: FutureWarning: Passing (type, 1) or '1type' as a synonym of type is deprecated; in a future version of numpy, it will be understood as (type, (1,)) / '(1,)type'.\n",
      "  _np_quint8 = np.dtype([(\"quint8\", np.uint8, 1)])\n",
      "c:\\Users\\jesus\\miniconda3\\envs\\tf-base\\lib\\site-packages\\tensorflow\\python\\framework\\dtypes.py:518: FutureWarning: Passing (type, 1) or '1type' as a synonym of type is deprecated; in a future version of numpy, it will be understood as (type, (1,)) / '(1,)type'.\n",
      "  _np_qint16 = np.dtype([(\"qint16\", np.int16, 1)])\n",
      "c:\\Users\\jesus\\miniconda3\\envs\\tf-base\\lib\\site-packages\\tensorflow\\python\\framework\\dtypes.py:519: FutureWarning: Passing (type, 1) or '1type' as a synonym of type is deprecated; in a future version of numpy, it will be understood as (type, (1,)) / '(1,)type'.\n",
      "  _np_quint16 = np.dtype([(\"quint16\", np.uint16, 1)])\n",
      "c:\\Users\\jesus\\miniconda3\\envs\\tf-base\\lib\\site-packages\\tensorflow\\python\\framework\\dtypes.py:520: FutureWarning: Passing (type, 1) or '1type' as a synonym of type is deprecated; in a future version of numpy, it will be understood as (type, (1,)) / '(1,)type'.\n",
      "  _np_qint32 = np.dtype([(\"qint32\", np.int32, 1)])\n",
      "c:\\Users\\jesus\\miniconda3\\envs\\tf-base\\lib\\site-packages\\tensorflow\\python\\framework\\dtypes.py:525: FutureWarning: Passing (type, 1) or '1type' as a synonym of type is deprecated; in a future version of numpy, it will be understood as (type, (1,)) / '(1,)type'.\n",
      "  np_resource = np.dtype([(\"resource\", np.ubyte, 1)])\n"
     ]
    },
    {
     "name": "stdout",
     "output_type": "stream",
     "text": [
      "WARNING:tensorflow:From c:\\Users\\jesus\\miniconda3\\envs\\tf-base\\lib\\site-packages\\tensorflow\\python\\ops\\init_ops.py:1251: calling VarianceScaling.__init__ (from tensorflow.python.ops.init_ops) with dtype is deprecated and will be removed in a future version.\n",
      "Instructions for updating:\n",
      "Call initializer instance with the dtype argument instead of passing it to the constructor\n"
     ]
    },
    {
     "name": "stderr",
     "output_type": "stream",
     "text": [
      "c:\\Users\\jesus\\miniconda3\\envs\\tf-base\\lib\\site-packages\\tensorboard\\compat\\tensorflow_stub\\dtypes.py:541: FutureWarning: Passing (type, 1) or '1type' as a synonym of type is deprecated; in a future version of numpy, it will be understood as (type, (1,)) / '(1,)type'.\n",
      "  _np_qint8 = np.dtype([(\"qint8\", np.int8, 1)])\n",
      "c:\\Users\\jesus\\miniconda3\\envs\\tf-base\\lib\\site-packages\\tensorboard\\compat\\tensorflow_stub\\dtypes.py:542: FutureWarning: Passing (type, 1) or '1type' as a synonym of type is deprecated; in a future version of numpy, it will be understood as (type, (1,)) / '(1,)type'.\n",
      "  _np_quint8 = np.dtype([(\"quint8\", np.uint8, 1)])\n",
      "c:\\Users\\jesus\\miniconda3\\envs\\tf-base\\lib\\site-packages\\tensorboard\\compat\\tensorflow_stub\\dtypes.py:543: FutureWarning: Passing (type, 1) or '1type' as a synonym of type is deprecated; in a future version of numpy, it will be understood as (type, (1,)) / '(1,)type'.\n",
      "  _np_qint16 = np.dtype([(\"qint16\", np.int16, 1)])\n",
      "c:\\Users\\jesus\\miniconda3\\envs\\tf-base\\lib\\site-packages\\tensorboard\\compat\\tensorflow_stub\\dtypes.py:544: FutureWarning: Passing (type, 1) or '1type' as a synonym of type is deprecated; in a future version of numpy, it will be understood as (type, (1,)) / '(1,)type'.\n",
      "  _np_quint16 = np.dtype([(\"quint16\", np.uint16, 1)])\n",
      "c:\\Users\\jesus\\miniconda3\\envs\\tf-base\\lib\\site-packages\\tensorboard\\compat\\tensorflow_stub\\dtypes.py:545: FutureWarning: Passing (type, 1) or '1type' as a synonym of type is deprecated; in a future version of numpy, it will be understood as (type, (1,)) / '(1,)type'.\n",
      "  _np_qint32 = np.dtype([(\"qint32\", np.int32, 1)])\n",
      "c:\\Users\\jesus\\miniconda3\\envs\\tf-base\\lib\\site-packages\\tensorboard\\compat\\tensorflow_stub\\dtypes.py:550: FutureWarning: Passing (type, 1) or '1type' as a synonym of type is deprecated; in a future version of numpy, it will be understood as (type, (1,)) / '(1,)type'.\n",
      "  np_resource = np.dtype([(\"resource\", np.ubyte, 1)])\n"
     ]
    }
   ],
   "source": [
    "from tensorflow.keras.models import Sequential\n",
    "from tensorflow.keras.layers import LSTM, Dense\n",
    "\n",
    "model = Sequential()\n",
    "model.add(LSTM(50, input_shape=(X_train.shape[1], X_train.shape[2])))\n",
    "model.add(Dense(1))\n",
    "model.compile(optimizer='adam', loss='mean_squared_error')"
   ]
  },
  {
   "attachments": {},
   "cell_type": "markdown",
   "id": "beedd197",
   "metadata": {
    "papermill": {
     "duration": 0.008003,
     "end_time": "2023-12-13T13:16:58.883355",
     "exception": false,
     "start_time": "2023-12-13T13:16:58.875352",
     "status": "completed"
    },
    "tags": []
   },
   "source": [
    "### Train Model"
   ]
  },
  {
   "cell_type": "code",
   "execution_count": 11,
   "id": "8caf4749",
   "metadata": {
    "execution": {
     "iopub.execute_input": "2023-12-13T13:16:58.899358Z",
     "iopub.status.busy": "2023-12-13T13:16:58.899358Z",
     "iopub.status.idle": "2023-12-13T13:20:31.219930Z",
     "shell.execute_reply": "2023-12-13T13:20:31.219930Z"
    },
    "papermill": {
     "duration": 212.332098,
     "end_time": "2023-12-13T13:20:31.222453",
     "exception": false,
     "start_time": "2023-12-13T13:16:58.890355",
     "status": "completed"
    },
    "tags": []
   },
   "outputs": [
    {
     "name": "stdout",
     "output_type": "stream",
     "text": [
      "WARNING:tensorflow:From c:\\Users\\jesus\\miniconda3\\envs\\tf-base\\lib\\site-packages\\tensorflow\\python\\ops\\math_grad.py:1250: add_dispatch_support.<locals>.wrapper (from tensorflow.python.ops.array_ops) is deprecated and will be removed in a future version.\n",
      "Instructions for updating:\n",
      "Use tf.where in 2.0, which has the same broadcast rule as np.where\n"
     ]
    }
   ],
   "source": [
    "from tensorflow.keras.callbacks import EarlyStopping\n",
    "\n",
    "early_stop = EarlyStopping(monitor='val_loss', patience=5)\n",
    "\n",
    "history = model.fit(\n",
    "    X_train, y_train, epochs=50, batch_size=64, verbose=0,\n",
    "    validation_data=(X_test, y_test), callbacks=[early_stop])"
   ]
  },
  {
   "attachments": {},
   "cell_type": "markdown",
   "id": "e9fc3778",
   "metadata": {
    "papermill": {
     "duration": 0.014923,
     "end_time": "2023-12-13T13:20:31.237376",
     "exception": false,
     "start_time": "2023-12-13T13:20:31.222453",
     "status": "completed"
    },
    "tags": []
   },
   "source": [
    "### Calculate Predictions"
   ]
  },
  {
   "cell_type": "code",
   "execution_count": 12,
   "id": "a1ea6fc4",
   "metadata": {
    "execution": {
     "iopub.execute_input": "2023-12-13T13:20:31.254975Z",
     "iopub.status.busy": "2023-12-13T13:20:31.254975Z",
     "iopub.status.idle": "2023-12-13T13:20:31.796458Z",
     "shell.execute_reply": "2023-12-13T13:20:31.795459Z"
    },
    "papermill": {
     "duration": 0.558879,
     "end_time": "2023-12-13T13:20:31.797458",
     "exception": false,
     "start_time": "2023-12-13T13:20:31.238579",
     "status": "completed"
    },
    "tags": []
   },
   "outputs": [
    {
     "data": {
      "text/plain": [
       "array([[0.13401301],\n",
       "       [0.14411716],\n",
       "       [0.13959089],\n",
       "       ...,\n",
       "       [0.26376995],\n",
       "       [0.29595473],\n",
       "       [0.3236659 ]], dtype=float32)"
      ]
     },
     "execution_count": 12,
     "metadata": {},
     "output_type": "execute_result"
    }
   ],
   "source": [
    "y_pred = model.predict(X_test)\n",
    "y_pred"
   ]
  },
  {
   "attachments": {},
   "cell_type": "markdown",
   "id": "55b4429b",
   "metadata": {
    "papermill": {
     "duration": 0.008001,
     "end_time": "2023-12-13T13:20:31.813462",
     "exception": false,
     "start_time": "2023-12-13T13:20:31.805461",
     "status": "completed"
    },
    "tags": []
   },
   "source": [
    "### Comparison: Real Data & Prediction"
   ]
  },
  {
   "attachments": {},
   "cell_type": "markdown",
   "id": "9c8547aa",
   "metadata": {
    "papermill": {
     "duration": 0.008001,
     "end_time": "2023-12-13T13:20:31.829466",
     "exception": false,
     "start_time": "2023-12-13T13:20:31.821465",
     "status": "completed"
    },
    "tags": []
   },
   "source": [
    "#### Descale Data"
   ]
  },
  {
   "cell_type": "code",
   "execution_count": 13,
   "id": "4b54e629",
   "metadata": {
    "execution": {
     "iopub.execute_input": "2023-12-13T13:20:31.849470Z",
     "iopub.status.busy": "2023-12-13T13:20:31.848470Z",
     "iopub.status.idle": "2023-12-13T13:20:31.859473Z",
     "shell.execute_reply": "2023-12-13T13:20:31.859473Z"
    },
    "papermill": {
     "duration": 0.024004,
     "end_time": "2023-12-13T13:20:31.861473",
     "exception": false,
     "start_time": "2023-12-13T13:20:31.837469",
     "status": "completed"
    },
    "tags": []
   },
   "outputs": [],
   "source": [
    "y_pred_scaled_inverse = scaler.inverse_transform(y_pred)\n",
    "y_true = scaler.inverse_transform(y_test)"
   ]
  },
  {
   "attachments": {},
   "cell_type": "markdown",
   "id": "730ee2f1",
   "metadata": {
    "papermill": {
     "duration": 0.011003,
     "end_time": "2023-12-13T13:20:31.879477",
     "exception": false,
     "start_time": "2023-12-13T13:20:31.868474",
     "status": "completed"
    },
    "tags": []
   },
   "source": [
    "#### Create DataFrame"
   ]
  },
  {
   "cell_type": "code",
   "execution_count": 14,
   "id": "5d36591e",
   "metadata": {
    "execution": {
     "iopub.execute_input": "2023-12-13T13:20:31.896481Z",
     "iopub.status.busy": "2023-12-13T13:20:31.896481Z",
     "iopub.status.idle": "2023-12-13T13:20:31.922389Z",
     "shell.execute_reply": "2023-12-13T13:20:31.922389Z"
    },
    "papermill": {
     "duration": 0.03691,
     "end_time": "2023-12-13T13:20:31.924390",
     "exception": false,
     "start_time": "2023-12-13T13:20:31.887480",
     "status": "completed"
    },
    "tags": []
   },
   "outputs": [
    {
     "data": {
      "text/html": [
       "<div>\n",
       "<style scoped>\n",
       "    .dataframe tbody tr th:only-of-type {\n",
       "        vertical-align: middle;\n",
       "    }\n",
       "\n",
       "    .dataframe tbody tr th {\n",
       "        vertical-align: top;\n",
       "    }\n",
       "\n",
       "    .dataframe thead th {\n",
       "        text-align: right;\n",
       "    }\n",
       "</style>\n",
       "<table border=\"1\" class=\"dataframe\">\n",
       "  <thead>\n",
       "    <tr style=\"text-align: right;\">\n",
       "      <th></th>\n",
       "      <th>y_pred</th>\n",
       "      <th>y_pred_scaled_inverse</th>\n",
       "      <th>y_true</th>\n",
       "    </tr>\n",
       "  </thead>\n",
       "  <tbody>\n",
       "    <tr>\n",
       "      <th>0</th>\n",
       "      <td>0.134013</td>\n",
       "      <td>1196.223389</td>\n",
       "      <td>1192.0</td>\n",
       "    </tr>\n",
       "    <tr>\n",
       "      <th>1</th>\n",
       "      <td>0.144117</td>\n",
       "      <td>1214.410889</td>\n",
       "      <td>1187.0</td>\n",
       "    </tr>\n",
       "    <tr>\n",
       "      <th>2</th>\n",
       "      <td>0.139591</td>\n",
       "      <td>1206.263672</td>\n",
       "      <td>1224.0</td>\n",
       "    </tr>\n",
       "    <tr>\n",
       "      <th>3</th>\n",
       "      <td>0.168039</td>\n",
       "      <td>1257.470337</td>\n",
       "      <td>1294.0</td>\n",
       "    </tr>\n",
       "    <tr>\n",
       "      <th>4</th>\n",
       "      <td>0.204404</td>\n",
       "      <td>1322.927002</td>\n",
       "      <td>1307.0</td>\n",
       "    </tr>\n",
       "    <tr>\n",
       "      <th>...</th>\n",
       "      <td>...</td>\n",
       "      <td>...</td>\n",
       "      <td>...</td>\n",
       "    </tr>\n",
       "    <tr>\n",
       "      <th>6707</th>\n",
       "      <td>0.227596</td>\n",
       "      <td>1364.672852</td>\n",
       "      <td>1368.0</td>\n",
       "    </tr>\n",
       "    <tr>\n",
       "      <th>6708</th>\n",
       "      <td>0.234372</td>\n",
       "      <td>1376.869019</td>\n",
       "      <td>1394.0</td>\n",
       "    </tr>\n",
       "    <tr>\n",
       "      <th>6709</th>\n",
       "      <td>0.263770</td>\n",
       "      <td>1429.786011</td>\n",
       "      <td>1438.0</td>\n",
       "    </tr>\n",
       "    <tr>\n",
       "      <th>6710</th>\n",
       "      <td>0.295955</td>\n",
       "      <td>1487.718506</td>\n",
       "      <td>1488.0</td>\n",
       "    </tr>\n",
       "    <tr>\n",
       "      <th>6711</th>\n",
       "      <td>0.323666</td>\n",
       "      <td>1537.598633</td>\n",
       "      <td>1570.0</td>\n",
       "    </tr>\n",
       "  </tbody>\n",
       "</table>\n",
       "<p>6712 rows × 3 columns</p>\n",
       "</div>"
      ],
      "text/plain": [
       "        y_pred  y_pred_scaled_inverse  y_true\n",
       "0     0.134013            1196.223389  1192.0\n",
       "1     0.144117            1214.410889  1187.0\n",
       "2     0.139591            1206.263672  1224.0\n",
       "3     0.168039            1257.470337  1294.0\n",
       "4     0.204404            1322.927002  1307.0\n",
       "...        ...                    ...     ...\n",
       "6707  0.227596            1364.672852  1368.0\n",
       "6708  0.234372            1376.869019  1394.0\n",
       "6709  0.263770            1429.786011  1438.0\n",
       "6710  0.295955            1487.718506  1488.0\n",
       "6711  0.323666            1537.598633  1570.0\n",
       "\n",
       "[6712 rows x 3 columns]"
      ]
     },
     "execution_count": 14,
     "metadata": {},
     "output_type": "execute_result"
    }
   ],
   "source": [
    "dic_pred = {\n",
    "    'y_pred': y_pred.flatten(),\n",
    "    'y_pred_scaled_inverse': y_pred_scaled_inverse.flatten(),\n",
    "    'y_true': y_true.flatten(),\n",
    "}\n",
    "\n",
    "df_pred = pd.DataFrame(dic_pred)\n",
    "df_pred"
   ]
  },
  {
   "attachments": {},
   "cell_type": "markdown",
   "id": "33fd279a",
   "metadata": {
    "papermill": {
     "duration": 0.01044,
     "end_time": "2023-12-13T13:20:31.942832",
     "exception": false,
     "start_time": "2023-12-13T13:20:31.932392",
     "status": "completed"
    },
    "tags": []
   },
   "source": [
    "#### Evaluate Model"
   ]
  },
  {
   "cell_type": "code",
   "execution_count": 15,
   "id": "5aae2373",
   "metadata": {
    "execution": {
     "iopub.execute_input": "2023-12-13T13:20:31.960838Z",
     "iopub.status.busy": "2023-12-13T13:20:31.959837Z",
     "iopub.status.idle": "2023-12-13T13:20:31.968839Z",
     "shell.execute_reply": "2023-12-13T13:20:31.968839Z"
    },
    "papermill": {
     "duration": 0.021006,
     "end_time": "2023-12-13T13:20:31.970841",
     "exception": false,
     "start_time": "2023-12-13T13:20:31.949835",
     "status": "completed"
    },
    "tags": []
   },
   "outputs": [],
   "source": [
    "from sklearn.metrics import mean_squared_error"
   ]
  },
  {
   "cell_type": "code",
   "execution_count": 16,
   "id": "15e8386d",
   "metadata": {
    "execution": {
     "iopub.execute_input": "2023-12-13T13:20:31.989844Z",
     "iopub.status.busy": "2023-12-13T13:20:31.989844Z",
     "iopub.status.idle": "2023-12-13T13:20:32.000846Z",
     "shell.execute_reply": "2023-12-13T13:20:32.000846Z"
    },
    "papermill": {
     "duration": 0.024007,
     "end_time": "2023-12-13T13:20:32.002848",
     "exception": false,
     "start_time": "2023-12-13T13:20:31.978841",
     "status": "completed"
    },
    "tags": []
   },
   "outputs": [
    {
     "data": {
      "text/plain": [
       "25.365368672013346"
      ]
     },
     "execution_count": 16,
     "metadata": {},
     "output_type": "execute_result"
    }
   ],
   "source": [
    "mean_squared_error(df_pred.y_true, df_pred.y_pred_scaled_inverse, squared=False)"
   ]
  },
  {
   "cell_type": "code",
   "execution_count": 17,
   "id": "748deca7",
   "metadata": {
    "execution": {
     "iopub.execute_input": "2023-12-13T13:20:32.019852Z",
     "iopub.status.busy": "2023-12-13T13:20:32.018851Z",
     "iopub.status.idle": "2023-12-13T13:20:32.113855Z",
     "shell.execute_reply": "2023-12-13T13:20:32.112854Z"
    },
    "papermill": {
     "duration": 0.104006,
     "end_time": "2023-12-13T13:20:32.114855",
     "exception": false,
     "start_time": "2023-12-13T13:20:32.010849",
     "status": "completed"
    },
    "tags": []
   },
   "outputs": [],
   "source": [
    "model.save(f'../models/{region}.keras')"
   ]
  }
 ],
 "metadata": {
  "kernelspec": {
   "display_name": "deep-learning",
   "language": "python",
   "name": "python3"
  },
  "language_info": {
   "codemirror_mode": {
    "name": "ipython",
    "version": 3
   },
   "file_extension": ".py",
   "mimetype": "text/x-python",
   "name": "python",
   "nbconvert_exporter": "python",
   "pygments_lexer": "ipython3",
   "version": "3.7.12"
  },
  "papermill": {
   "default_parameters": {},
   "duration": 217.890081,
   "end_time": "2023-12-13T13:20:32.588844",
   "environment_variables": {},
   "exception": null,
   "input_path": "Modelling.ipynb",
   "output_path": "outputs/DUQ.ipynb",
   "parameters": {
    "region": "DUQ"
   },
   "start_time": "2023-12-13T13:16:54.698763",
   "version": "2.4.0"
  }
 },
 "nbformat": 4,
 "nbformat_minor": 5
}