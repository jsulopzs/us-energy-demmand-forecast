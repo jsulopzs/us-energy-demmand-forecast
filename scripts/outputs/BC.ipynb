{
 "cells": [
  {
   "attachments": {},
   "cell_type": "markdown",
   "id": "78947193",
   "metadata": {
    "papermill": {
     "duration": 0.006005,
     "end_time": "2023-12-13T12:58:08.248638",
     "exception": false,
     "start_time": "2023-12-13T12:58:08.242633",
     "status": "completed"
    },
    "tags": []
   },
   "source": [
    "## Load data"
   ]
  },
  {
   "cell_type": "code",
   "execution_count": 1,
   "id": "c227fec8",
   "metadata": {
    "execution": {
     "iopub.execute_input": "2023-12-13T12:58:08.265407Z",
     "iopub.status.busy": "2023-12-13T12:58:08.265407Z",
     "iopub.status.idle": "2023-12-13T12:58:08.618131Z",
     "shell.execute_reply": "2023-12-13T12:58:08.618060Z"
    },
    "papermill": {
     "duration": 0.363357,
     "end_time": "2023-12-13T12:58:08.619539",
     "exception": false,
     "start_time": "2023-12-13T12:58:08.256182",
     "status": "completed"
    },
    "tags": []
   },
   "outputs": [],
   "source": [
    "import pandas as pd"
   ]
  },
  {
   "cell_type": "code",
   "execution_count": 2,
   "id": "18604b54",
   "metadata": {
    "execution": {
     "iopub.execute_input": "2023-12-13T12:58:08.634394Z",
     "iopub.status.busy": "2023-12-13T12:58:08.633305Z",
     "iopub.status.idle": "2023-12-13T12:58:08.746125Z",
     "shell.execute_reply": "2023-12-13T12:58:08.746041Z"
    },
    "papermill": {
     "duration": 0.121826,
     "end_time": "2023-12-13T12:58:08.748127",
     "exception": false,
     "start_time": "2023-12-13T12:58:08.626301",
     "status": "completed"
    },
    "tags": []
   },
   "outputs": [
    {
     "data": {
      "text/html": [
       "<div>\n",
       "<style scoped>\n",
       "    .dataframe tbody tr th:only-of-type {\n",
       "        vertical-align: middle;\n",
       "    }\n",
       "\n",
       "    .dataframe tbody tr th {\n",
       "        vertical-align: top;\n",
       "    }\n",
       "\n",
       "    .dataframe thead th {\n",
       "        text-align: right;\n",
       "    }\n",
       "</style>\n",
       "<table border=\"1\" class=\"dataframe\">\n",
       "  <thead>\n",
       "    <tr style=\"text-align: right;\">\n",
       "      <th></th>\n",
       "      <th>AE</th>\n",
       "      <th>AEP</th>\n",
       "      <th>AP</th>\n",
       "      <th>ATSI</th>\n",
       "      <th>BC</th>\n",
       "      <th>CE</th>\n",
       "      <th>DAY</th>\n",
       "      <th>DEOK</th>\n",
       "      <th>DOM</th>\n",
       "      <th>DPL</th>\n",
       "      <th>DUQ</th>\n",
       "      <th>EKPC</th>\n",
       "      <th>JC</th>\n",
       "      <th>ME</th>\n",
       "      <th>PE</th>\n",
       "      <th>PEP</th>\n",
       "      <th>PL</th>\n",
       "      <th>PN</th>\n",
       "      <th>PS</th>\n",
       "      <th>RECO</th>\n",
       "    </tr>\n",
       "    <tr>\n",
       "      <th>period</th>\n",
       "      <th></th>\n",
       "      <th></th>\n",
       "      <th></th>\n",
       "      <th></th>\n",
       "      <th></th>\n",
       "      <th></th>\n",
       "      <th></th>\n",
       "      <th></th>\n",
       "      <th></th>\n",
       "      <th></th>\n",
       "      <th></th>\n",
       "      <th></th>\n",
       "      <th></th>\n",
       "      <th></th>\n",
       "      <th></th>\n",
       "      <th></th>\n",
       "      <th></th>\n",
       "      <th></th>\n",
       "      <th></th>\n",
       "      <th></th>\n",
       "    </tr>\n",
       "  </thead>\n",
       "  <tbody>\n",
       "    <tr>\n",
       "      <th>2018-07-01 05:00:00</th>\n",
       "      <td>1301</td>\n",
       "      <td>12187</td>\n",
       "      <td>4384</td>\n",
       "      <td>6960</td>\n",
       "      <td>3134</td>\n",
       "      <td>12136</td>\n",
       "      <td>1619</td>\n",
       "      <td>2895</td>\n",
       "      <td>9775</td>\n",
       "      <td>1919</td>\n",
       "      <td>1466</td>\n",
       "      <td>1209</td>\n",
       "      <td>2388</td>\n",
       "      <td>1442</td>\n",
       "      <td>4397</td>\n",
       "      <td>3165</td>\n",
       "      <td>3835</td>\n",
       "      <td>1611</td>\n",
       "      <td>5009</td>\n",
       "      <td>186</td>\n",
       "    </tr>\n",
       "    <tr>\n",
       "      <th>2018-07-01 06:00:00</th>\n",
       "      <td>1314</td>\n",
       "      <td>11946</td>\n",
       "      <td>4391</td>\n",
       "      <td>6762</td>\n",
       "      <td>3139</td>\n",
       "      <td>11872</td>\n",
       "      <td>1605</td>\n",
       "      <td>2857</td>\n",
       "      <td>9787</td>\n",
       "      <td>1950</td>\n",
       "      <td>1455</td>\n",
       "      <td>1197</td>\n",
       "      <td>2416</td>\n",
       "      <td>1465</td>\n",
       "      <td>4423</td>\n",
       "      <td>3156</td>\n",
       "      <td>3901</td>\n",
       "      <td>1641</td>\n",
       "      <td>4990</td>\n",
       "      <td>187</td>\n",
       "    </tr>\n",
       "    <tr>\n",
       "      <th>2018-07-01 07:00:00</th>\n",
       "      <td>1410</td>\n",
       "      <td>12664</td>\n",
       "      <td>4757</td>\n",
       "      <td>6670</td>\n",
       "      <td>3377</td>\n",
       "      <td>11992</td>\n",
       "      <td>1707</td>\n",
       "      <td>2997</td>\n",
       "      <td>10453</td>\n",
       "      <td>2160</td>\n",
       "      <td>1528</td>\n",
       "      <td>1273</td>\n",
       "      <td>2644</td>\n",
       "      <td>1605</td>\n",
       "      <td>4743</td>\n",
       "      <td>3332</td>\n",
       "      <td>4232</td>\n",
       "      <td>1728</td>\n",
       "      <td>5267</td>\n",
       "      <td>202</td>\n",
       "    </tr>\n",
       "    <tr>\n",
       "      <th>2018-07-01 08:00:00</th>\n",
       "      <td>1567</td>\n",
       "      <td>14069</td>\n",
       "      <td>5308</td>\n",
       "      <td>7065</td>\n",
       "      <td>3788</td>\n",
       "      <td>12860</td>\n",
       "      <td>1916</td>\n",
       "      <td>3331</td>\n",
       "      <td>11734</td>\n",
       "      <td>2470</td>\n",
       "      <td>1688</td>\n",
       "      <td>1472</td>\n",
       "      <td>3064</td>\n",
       "      <td>1784</td>\n",
       "      <td>5230</td>\n",
       "      <td>3679</td>\n",
       "      <td>4613</td>\n",
       "      <td>1899</td>\n",
       "      <td>5735</td>\n",
       "      <td>230</td>\n",
       "    </tr>\n",
       "    <tr>\n",
       "      <th>2018-07-01 09:00:00</th>\n",
       "      <td>1749</td>\n",
       "      <td>15610</td>\n",
       "      <td>5862</td>\n",
       "      <td>7833</td>\n",
       "      <td>4262</td>\n",
       "      <td>14212</td>\n",
       "      <td>2145</td>\n",
       "      <td>3703</td>\n",
       "      <td>13084</td>\n",
       "      <td>2765</td>\n",
       "      <td>1875</td>\n",
       "      <td>1656</td>\n",
       "      <td>3569</td>\n",
       "      <td>1972</td>\n",
       "      <td>5752</td>\n",
       "      <td>4085</td>\n",
       "      <td>5014</td>\n",
       "      <td>2055</td>\n",
       "      <td>6299</td>\n",
       "      <td>259</td>\n",
       "    </tr>\n",
       "  </tbody>\n",
       "</table>\n",
       "</div>"
      ],
      "text/plain": [
       "                       AE    AEP    AP  ATSI    BC     CE   DAY  DEOK    DOM  \\\n",
       "period                                                                         \n",
       "2018-07-01 05:00:00  1301  12187  4384  6960  3134  12136  1619  2895   9775   \n",
       "2018-07-01 06:00:00  1314  11946  4391  6762  3139  11872  1605  2857   9787   \n",
       "2018-07-01 07:00:00  1410  12664  4757  6670  3377  11992  1707  2997  10453   \n",
       "2018-07-01 08:00:00  1567  14069  5308  7065  3788  12860  1916  3331  11734   \n",
       "2018-07-01 09:00:00  1749  15610  5862  7833  4262  14212  2145  3703  13084   \n",
       "\n",
       "                      DPL   DUQ  EKPC    JC    ME    PE   PEP    PL    PN  \\\n",
       "period                                                                      \n",
       "2018-07-01 05:00:00  1919  1466  1209  2388  1442  4397  3165  3835  1611   \n",
       "2018-07-01 06:00:00  1950  1455  1197  2416  1465  4423  3156  3901  1641   \n",
       "2018-07-01 07:00:00  2160  1528  1273  2644  1605  4743  3332  4232  1728   \n",
       "2018-07-01 08:00:00  2470  1688  1472  3064  1784  5230  3679  4613  1899   \n",
       "2018-07-01 09:00:00  2765  1875  1656  3569  1972  5752  4085  5014  2055   \n",
       "\n",
       "                       PS  RECO  \n",
       "period                           \n",
       "2018-07-01 05:00:00  5009   186  \n",
       "2018-07-01 06:00:00  4990   187  \n",
       "2018-07-01 07:00:00  5267   202  \n",
       "2018-07-01 08:00:00  5735   230  \n",
       "2018-07-01 09:00:00  6299   259  "
      ]
     },
     "execution_count": 2,
     "metadata": {},
     "output_type": "execute_result"
    }
   ],
   "source": [
    "df_base = pd.read_csv('../data/general/pjm_pivot.csv', index_col=0, parse_dates=True)\n",
    "df_base.head()"
   ]
  },
  {
   "attachments": {},
   "cell_type": "markdown",
   "id": "a83cabb5",
   "metadata": {
    "papermill": {
     "duration": 0.006015,
     "end_time": "2023-12-13T12:58:08.760494",
     "exception": false,
     "start_time": "2023-12-13T12:58:08.754479",
     "status": "completed"
    },
    "tags": []
   },
   "source": [
    "## Select region"
   ]
  },
  {
   "cell_type": "code",
   "execution_count": 3,
   "id": "ef1c7838",
   "metadata": {
    "execution": {
     "iopub.execute_input": "2023-12-13T12:58:08.777065Z",
     "iopub.status.busy": "2023-12-13T12:58:08.777065Z",
     "iopub.status.idle": "2023-12-13T12:58:08.786401Z",
     "shell.execute_reply": "2023-12-13T12:58:08.786218Z"
    },
    "papermill": {
     "duration": 0.019945,
     "end_time": "2023-12-13T12:58:08.788400",
     "exception": false,
     "start_time": "2023-12-13T12:58:08.768455",
     "status": "completed"
    },
    "tags": [
     "parameters"
    ]
   },
   "outputs": [],
   "source": [
    "region = 'AE'"
   ]
  },
  {
   "cell_type": "code",
   "execution_count": 4,
   "id": "57095edb",
   "metadata": {
    "execution": {
     "iopub.execute_input": "2023-12-13T12:58:08.806778Z",
     "iopub.status.busy": "2023-12-13T12:58:08.806778Z",
     "iopub.status.idle": "2023-12-13T12:58:08.810233Z",
     "shell.execute_reply": "2023-12-13T12:58:08.810145Z"
    },
    "papermill": {
     "duration": 0.017832,
     "end_time": "2023-12-13T12:58:08.812233",
     "exception": false,
     "start_time": "2023-12-13T12:58:08.794401",
     "status": "completed"
    },
    "tags": [
     "injected-parameters"
    ]
   },
   "outputs": [],
   "source": [
    "# Parameters\n",
    "region = \"BC\"\n"
   ]
  },
  {
   "cell_type": "code",
   "execution_count": 5,
   "id": "dddda69a",
   "metadata": {
    "execution": {
     "iopub.execute_input": "2023-12-13T12:58:08.826378Z",
     "iopub.status.busy": "2023-12-13T12:58:08.825590Z",
     "iopub.status.idle": "2023-12-13T12:58:08.834306Z",
     "shell.execute_reply": "2023-12-13T12:58:08.834212Z"
    },
    "papermill": {
     "duration": 0.017985,
     "end_time": "2023-12-13T12:58:08.836308",
     "exception": false,
     "start_time": "2023-12-13T12:58:08.818323",
     "status": "completed"
    },
    "tags": []
   },
   "outputs": [
    {
     "data": {
      "text/html": [
       "<div>\n",
       "<style scoped>\n",
       "    .dataframe tbody tr th:only-of-type {\n",
       "        vertical-align: middle;\n",
       "    }\n",
       "\n",
       "    .dataframe tbody tr th {\n",
       "        vertical-align: top;\n",
       "    }\n",
       "\n",
       "    .dataframe thead th {\n",
       "        text-align: right;\n",
       "    }\n",
       "</style>\n",
       "<table border=\"1\" class=\"dataframe\">\n",
       "  <thead>\n",
       "    <tr style=\"text-align: right;\">\n",
       "      <th></th>\n",
       "      <th>BC</th>\n",
       "    </tr>\n",
       "    <tr>\n",
       "      <th>period</th>\n",
       "      <th></th>\n",
       "    </tr>\n",
       "  </thead>\n",
       "  <tbody>\n",
       "    <tr>\n",
       "      <th>2018-07-01 05:00:00</th>\n",
       "      <td>3134</td>\n",
       "    </tr>\n",
       "    <tr>\n",
       "      <th>2018-07-01 06:00:00</th>\n",
       "      <td>3139</td>\n",
       "    </tr>\n",
       "    <tr>\n",
       "      <th>2018-07-01 07:00:00</th>\n",
       "      <td>3377</td>\n",
       "    </tr>\n",
       "    <tr>\n",
       "      <th>2018-07-01 08:00:00</th>\n",
       "      <td>3788</td>\n",
       "    </tr>\n",
       "    <tr>\n",
       "      <th>2018-07-01 09:00:00</th>\n",
       "      <td>4262</td>\n",
       "    </tr>\n",
       "    <tr>\n",
       "      <th>...</th>\n",
       "      <td>...</td>\n",
       "    </tr>\n",
       "    <tr>\n",
       "      <th>2023-11-01 00:00:00</th>\n",
       "      <td>3187</td>\n",
       "    </tr>\n",
       "    <tr>\n",
       "      <th>2023-11-01 01:00:00</th>\n",
       "      <td>3212</td>\n",
       "    </tr>\n",
       "    <tr>\n",
       "      <th>2023-11-01 02:00:00</th>\n",
       "      <td>3156</td>\n",
       "    </tr>\n",
       "    <tr>\n",
       "      <th>2023-11-01 03:00:00</th>\n",
       "      <td>2986</td>\n",
       "    </tr>\n",
       "    <tr>\n",
       "      <th>2023-11-01 04:00:00</th>\n",
       "      <td>2809</td>\n",
       "    </tr>\n",
       "  </tbody>\n",
       "</table>\n",
       "<p>44904 rows × 1 columns</p>\n",
       "</div>"
      ],
      "text/plain": [
       "                       BC\n",
       "period                   \n",
       "2018-07-01 05:00:00  3134\n",
       "2018-07-01 06:00:00  3139\n",
       "2018-07-01 07:00:00  3377\n",
       "2018-07-01 08:00:00  3788\n",
       "2018-07-01 09:00:00  4262\n",
       "...                   ...\n",
       "2023-11-01 00:00:00  3187\n",
       "2023-11-01 01:00:00  3212\n",
       "2023-11-01 02:00:00  3156\n",
       "2023-11-01 03:00:00  2986\n",
       "2023-11-01 04:00:00  2809\n",
       "\n",
       "[44904 rows x 1 columns]"
      ]
     },
     "execution_count": 5,
     "metadata": {},
     "output_type": "execute_result"
    }
   ],
   "source": [
    "df = df_base.loc[:, [region]]\n",
    "df"
   ]
  },
  {
   "attachments": {},
   "cell_type": "markdown",
   "id": "136deaee",
   "metadata": {
    "papermill": {
     "duration": 0.009822,
     "end_time": "2023-12-13T12:58:08.852254",
     "exception": false,
     "start_time": "2023-12-13T12:58:08.842432",
     "status": "completed"
    },
    "tags": []
   },
   "source": [
    "## Data Preprocessing"
   ]
  },
  {
   "cell_type": "markdown",
   "id": "f29607b7",
   "metadata": {
    "papermill": {
     "duration": 0.006004,
     "end_time": "2023-12-13T12:58:08.866405",
     "exception": false,
     "start_time": "2023-12-13T12:58:08.860401",
     "status": "completed"
    },
    "tags": []
   },
   "source": [
    "### Train Test Split"
   ]
  },
  {
   "cell_type": "code",
   "execution_count": 6,
   "id": "ae8dcf8b",
   "metadata": {
    "execution": {
     "iopub.execute_input": "2023-12-13T12:58:08.883290Z",
     "iopub.status.busy": "2023-12-13T12:58:08.882288Z",
     "iopub.status.idle": "2023-12-13T12:58:09.338831Z",
     "shell.execute_reply": "2023-12-13T12:58:09.337831Z"
    },
    "papermill": {
     "duration": 0.465366,
     "end_time": "2023-12-13T12:58:09.339264",
     "exception": false,
     "start_time": "2023-12-13T12:58:08.873898",
     "status": "completed"
    },
    "tags": []
   },
   "outputs": [],
   "source": [
    "from sklearn.model_selection import train_test_split\n",
    "\n",
    "train, test = train_test_split(df, test_size=0.3, shuffle=False)\n",
    "test, prod = train_test_split(test, test_size=0.5, shuffle=False)"
   ]
  },
  {
   "cell_type": "markdown",
   "id": "7ab34efa",
   "metadata": {
    "papermill": {
     "duration": 0.019222,
     "end_time": "2023-12-13T12:58:09.358486",
     "exception": false,
     "start_time": "2023-12-13T12:58:09.339264",
     "status": "completed"
    },
    "tags": []
   },
   "source": [
    "### Export Data"
   ]
  },
  {
   "cell_type": "code",
   "execution_count": 7,
   "id": "768c691d",
   "metadata": {
    "execution": {
     "iopub.execute_input": "2023-12-13T12:58:09.389195Z",
     "iopub.status.busy": "2023-12-13T12:58:09.388658Z",
     "iopub.status.idle": "2023-12-13T12:58:09.520608Z",
     "shell.execute_reply": "2023-12-13T12:58:09.518607Z"
    },
    "papermill": {
     "duration": 0.150792,
     "end_time": "2023-12-13T12:58:09.523609",
     "exception": false,
     "start_time": "2023-12-13T12:58:09.372817",
     "status": "completed"
    },
    "tags": []
   },
   "outputs": [],
   "source": [
    "import os\n",
    "\n",
    "path_region = f'../data/regions/{region}'\n",
    "\n",
    "if not os.path.exists(path_region):\n",
    "    os.makedirs(path_region)\n",
    "\n",
    "for df, name in zip([train, test, prod], ['train', 'test', 'prod']):\n",
    "    df.to_csv(f'{path_region}/{name}.csv')"
   ]
  },
  {
   "attachments": {},
   "cell_type": "markdown",
   "id": "88192232",
   "metadata": {
    "papermill": {
     "duration": 0.010003,
     "end_time": "2023-12-13T12:58:09.543158",
     "exception": false,
     "start_time": "2023-12-13T12:58:09.533155",
     "status": "completed"
    },
    "tags": []
   },
   "source": [
    "### Scale Data"
   ]
  },
  {
   "cell_type": "code",
   "execution_count": 8,
   "id": "5f759a0e",
   "metadata": {
    "execution": {
     "iopub.execute_input": "2023-12-13T12:58:09.564162Z",
     "iopub.status.busy": "2023-12-13T12:58:09.563162Z",
     "iopub.status.idle": "2023-12-13T12:58:09.581166Z",
     "shell.execute_reply": "2023-12-13T12:58:09.580166Z"
    },
    "papermill": {
     "duration": 0.032009,
     "end_time": "2023-12-13T12:58:09.583167",
     "exception": false,
     "start_time": "2023-12-13T12:58:09.551158",
     "status": "completed"
    },
    "tags": []
   },
   "outputs": [],
   "source": [
    "from sklearn.preprocessing import MinMaxScaler\n",
    "\n",
    "scaler = MinMaxScaler(feature_range=(0, 1))\n",
    "\n",
    "train_norm = scaler.fit_transform(train)\n",
    "test_norm = scaler.transform(test)"
   ]
  },
  {
   "attachments": {},
   "cell_type": "markdown",
   "id": "665c3f3e",
   "metadata": {
    "papermill": {
     "duration": 0.007237,
     "end_time": "2023-12-13T12:58:09.597405",
     "exception": false,
     "start_time": "2023-12-13T12:58:09.590168",
     "status": "completed"
    },
    "tags": []
   },
   "source": [
    "### Create Sequences"
   ]
  },
  {
   "cell_type": "code",
   "execution_count": 9,
   "id": "13aab493",
   "metadata": {
    "execution": {
     "iopub.execute_input": "2023-12-13T12:58:09.616364Z",
     "iopub.status.busy": "2023-12-13T12:58:09.615363Z",
     "iopub.status.idle": "2023-12-13T12:58:09.685877Z",
     "shell.execute_reply": "2023-12-13T12:58:09.685877Z"
    },
    "papermill": {
     "duration": 0.083274,
     "end_time": "2023-12-13T12:58:09.687879",
     "exception": false,
     "start_time": "2023-12-13T12:58:09.604605",
     "status": "completed"
    },
    "tags": []
   },
   "outputs": [],
   "source": [
    "import numpy as np\n",
    "\n",
    "def create_sequences(data, sequence_length):\n",
    "    X, y = [], []\n",
    "    for i in range(len(data) - sequence_length):\n",
    "        X.append(data[i:i+sequence_length])\n",
    "        y.append(data[i+sequence_length])\n",
    "    return np.array(X), np.array(y)\n",
    "\n",
    "sequence_length = 24 # Use 24 hours prior to predict the following hour\n",
    "X_train, y_train = create_sequences(train_norm, sequence_length)\n",
    "X_test, y_test = create_sequences(test_norm, sequence_length)"
   ]
  },
  {
   "attachments": {},
   "cell_type": "markdown",
   "id": "da6d4732",
   "metadata": {
    "papermill": {
     "duration": 0.007002,
     "end_time": "2023-12-13T12:58:09.701882",
     "exception": false,
     "start_time": "2023-12-13T12:58:09.694880",
     "status": "completed"
    },
    "tags": []
   },
   "source": [
    "## Modelling"
   ]
  },
  {
   "attachments": {},
   "cell_type": "markdown",
   "id": "59cdede6",
   "metadata": {
    "papermill": {
     "duration": 0.007001,
     "end_time": "2023-12-13T12:58:09.716058",
     "exception": false,
     "start_time": "2023-12-13T12:58:09.709057",
     "status": "completed"
    },
    "tags": []
   },
   "source": [
    "### Design NN Architecture"
   ]
  },
  {
   "cell_type": "code",
   "execution_count": 10,
   "id": "d9bd6454",
   "metadata": {
    "execution": {
     "iopub.execute_input": "2023-12-13T12:58:09.732689Z",
     "iopub.status.busy": "2023-12-13T12:58:09.732689Z",
     "iopub.status.idle": "2023-12-13T12:58:11.119662Z",
     "shell.execute_reply": "2023-12-13T12:58:11.119662Z"
    },
    "papermill": {
     "duration": 1.399517,
     "end_time": "2023-12-13T12:58:11.122204",
     "exception": false,
     "start_time": "2023-12-13T12:58:09.722687",
     "status": "completed"
    },
    "tags": []
   },
   "outputs": [
    {
     "name": "stderr",
     "output_type": "stream",
     "text": [
      "c:\\Users\\jesus\\miniconda3\\envs\\tf-base\\lib\\site-packages\\tensorflow\\python\\framework\\dtypes.py:516: FutureWarning: Passing (type, 1) or '1type' as a synonym of type is deprecated; in a future version of numpy, it will be understood as (type, (1,)) / '(1,)type'.\n",
      "  _np_qint8 = np.dtype([(\"qint8\", np.int8, 1)])\n",
      "c:\\Users\\jesus\\miniconda3\\envs\\tf-base\\lib\\site-packages\\tensorflow\\python\\framework\\dtypes.py:517: FutureWarning: Passing (type, 1) or '1type' as a synonym of type is deprecated; in a future version of numpy, it will be understood as (type, (1,)) / '(1,)type'.\n",
      "  _np_quint8 = np.dtype([(\"quint8\", np.uint8, 1)])\n",
      "c:\\Users\\jesus\\miniconda3\\envs\\tf-base\\lib\\site-packages\\tensorflow\\python\\framework\\dtypes.py:518: FutureWarning: Passing (type, 1) or '1type' as a synonym of type is deprecated; in a future version of numpy, it will be understood as (type, (1,)) / '(1,)type'.\n",
      "  _np_qint16 = np.dtype([(\"qint16\", np.int16, 1)])\n",
      "c:\\Users\\jesus\\miniconda3\\envs\\tf-base\\lib\\site-packages\\tensorflow\\python\\framework\\dtypes.py:519: FutureWarning: Passing (type, 1) or '1type' as a synonym of type is deprecated; in a future version of numpy, it will be understood as (type, (1,)) / '(1,)type'.\n",
      "  _np_quint16 = np.dtype([(\"quint16\", np.uint16, 1)])\n",
      "c:\\Users\\jesus\\miniconda3\\envs\\tf-base\\lib\\site-packages\\tensorflow\\python\\framework\\dtypes.py:520: FutureWarning: Passing (type, 1) or '1type' as a synonym of type is deprecated; in a future version of numpy, it will be understood as (type, (1,)) / '(1,)type'.\n",
      "  _np_qint32 = np.dtype([(\"qint32\", np.int32, 1)])\n",
      "c:\\Users\\jesus\\miniconda3\\envs\\tf-base\\lib\\site-packages\\tensorflow\\python\\framework\\dtypes.py:525: FutureWarning: Passing (type, 1) or '1type' as a synonym of type is deprecated; in a future version of numpy, it will be understood as (type, (1,)) / '(1,)type'.\n",
      "  np_resource = np.dtype([(\"resource\", np.ubyte, 1)])\n"
     ]
    },
    {
     "name": "stdout",
     "output_type": "stream",
     "text": [
      "WARNING:tensorflow:From c:\\Users\\jesus\\miniconda3\\envs\\tf-base\\lib\\site-packages\\tensorflow\\python\\ops\\init_ops.py:1251: calling VarianceScaling.__init__ (from tensorflow.python.ops.init_ops) with dtype is deprecated and will be removed in a future version.\n",
      "Instructions for updating:\n",
      "Call initializer instance with the dtype argument instead of passing it to the constructor\n"
     ]
    },
    {
     "name": "stderr",
     "output_type": "stream",
     "text": [
      "c:\\Users\\jesus\\miniconda3\\envs\\tf-base\\lib\\site-packages\\tensorboard\\compat\\tensorflow_stub\\dtypes.py:541: FutureWarning: Passing (type, 1) or '1type' as a synonym of type is deprecated; in a future version of numpy, it will be understood as (type, (1,)) / '(1,)type'.\n",
      "  _np_qint8 = np.dtype([(\"qint8\", np.int8, 1)])\n",
      "c:\\Users\\jesus\\miniconda3\\envs\\tf-base\\lib\\site-packages\\tensorboard\\compat\\tensorflow_stub\\dtypes.py:542: FutureWarning: Passing (type, 1) or '1type' as a synonym of type is deprecated; in a future version of numpy, it will be understood as (type, (1,)) / '(1,)type'.\n",
      "  _np_quint8 = np.dtype([(\"quint8\", np.uint8, 1)])\n",
      "c:\\Users\\jesus\\miniconda3\\envs\\tf-base\\lib\\site-packages\\tensorboard\\compat\\tensorflow_stub\\dtypes.py:543: FutureWarning: Passing (type, 1) or '1type' as a synonym of type is deprecated; in a future version of numpy, it will be understood as (type, (1,)) / '(1,)type'.\n",
      "  _np_qint16 = np.dtype([(\"qint16\", np.int16, 1)])\n",
      "c:\\Users\\jesus\\miniconda3\\envs\\tf-base\\lib\\site-packages\\tensorboard\\compat\\tensorflow_stub\\dtypes.py:544: FutureWarning: Passing (type, 1) or '1type' as a synonym of type is deprecated; in a future version of numpy, it will be understood as (type, (1,)) / '(1,)type'.\n",
      "  _np_quint16 = np.dtype([(\"quint16\", np.uint16, 1)])\n",
      "c:\\Users\\jesus\\miniconda3\\envs\\tf-base\\lib\\site-packages\\tensorboard\\compat\\tensorflow_stub\\dtypes.py:545: FutureWarning: Passing (type, 1) or '1type' as a synonym of type is deprecated; in a future version of numpy, it will be understood as (type, (1,)) / '(1,)type'.\n",
      "  _np_qint32 = np.dtype([(\"qint32\", np.int32, 1)])\n",
      "c:\\Users\\jesus\\miniconda3\\envs\\tf-base\\lib\\site-packages\\tensorboard\\compat\\tensorflow_stub\\dtypes.py:550: FutureWarning: Passing (type, 1) or '1type' as a synonym of type is deprecated; in a future version of numpy, it will be understood as (type, (1,)) / '(1,)type'.\n",
      "  np_resource = np.dtype([(\"resource\", np.ubyte, 1)])\n"
     ]
    }
   ],
   "source": [
    "from tensorflow.keras.models import Sequential\n",
    "from tensorflow.keras.layers import LSTM, Dense\n",
    "\n",
    "model = Sequential()\n",
    "model.add(LSTM(50, input_shape=(X_train.shape[1], X_train.shape[2])))\n",
    "model.add(Dense(1))\n",
    "model.compile(optimizer='adam', loss='mean_squared_error')"
   ]
  },
  {
   "attachments": {},
   "cell_type": "markdown",
   "id": "507b53b8",
   "metadata": {
    "papermill": {
     "duration": 0.0,
     "end_time": "2023-12-13T12:58:11.122204",
     "exception": false,
     "start_time": "2023-12-13T12:58:11.122204",
     "status": "completed"
    },
    "tags": []
   },
   "source": [
    "### Train Model"
   ]
  },
  {
   "cell_type": "code",
   "execution_count": 11,
   "id": "d3a8c9e0",
   "metadata": {
    "execution": {
     "iopub.execute_input": "2023-12-13T12:58:11.151598Z",
     "iopub.status.busy": "2023-12-13T12:58:11.151598Z",
     "iopub.status.idle": "2023-12-13T13:00:40.733497Z",
     "shell.execute_reply": "2023-12-13T13:00:40.733082Z"
    },
    "papermill": {
     "duration": 149.591314,
     "end_time": "2023-12-13T13:00:40.734910",
     "exception": false,
     "start_time": "2023-12-13T12:58:11.143596",
     "status": "completed"
    },
    "tags": []
   },
   "outputs": [
    {
     "name": "stdout",
     "output_type": "stream",
     "text": [
      "WARNING:tensorflow:From c:\\Users\\jesus\\miniconda3\\envs\\tf-base\\lib\\site-packages\\tensorflow\\python\\ops\\math_grad.py:1250: add_dispatch_support.<locals>.wrapper (from tensorflow.python.ops.array_ops) is deprecated and will be removed in a future version.\n",
      "Instructions for updating:\n",
      "Use tf.where in 2.0, which has the same broadcast rule as np.where\n"
     ]
    }
   ],
   "source": [
    "from tensorflow.keras.callbacks import EarlyStopping\n",
    "\n",
    "early_stop = EarlyStopping(monitor='val_loss', patience=5)\n",
    "\n",
    "history = model.fit(\n",
    "    X_train, y_train, epochs=50, batch_size=64, verbose=0,\n",
    "    validation_data=(X_test, y_test), callbacks=[early_stop])"
   ]
  },
  {
   "attachments": {},
   "cell_type": "markdown",
   "id": "6c7d9166",
   "metadata": {
    "papermill": {
     "duration": 0.007,
     "end_time": "2023-12-13T13:00:40.749914",
     "exception": false,
     "start_time": "2023-12-13T13:00:40.742914",
     "status": "completed"
    },
    "tags": []
   },
   "source": [
    "### Calculate Predictions"
   ]
  },
  {
   "cell_type": "code",
   "execution_count": 12,
   "id": "acb46000",
   "metadata": {
    "execution": {
     "iopub.execute_input": "2023-12-13T13:00:40.767918Z",
     "iopub.status.busy": "2023-12-13T13:00:40.767918Z",
     "iopub.status.idle": "2023-12-13T13:00:41.300010Z",
     "shell.execute_reply": "2023-12-13T13:00:41.300010Z"
    },
    "papermill": {
     "duration": 0.5442,
     "end_time": "2023-12-13T13:00:41.302117",
     "exception": false,
     "start_time": "2023-12-13T13:00:40.757917",
     "status": "completed"
    },
    "tags": []
   },
   "outputs": [
    {
     "data": {
      "text/plain": [
       "array([[0.10144356],\n",
       "       [0.1266757 ],\n",
       "       [0.14458627],\n",
       "       ...,\n",
       "       [0.29737383],\n",
       "       [0.36084753],\n",
       "       [0.42365348]], dtype=float32)"
      ]
     },
     "execution_count": 12,
     "metadata": {},
     "output_type": "execute_result"
    }
   ],
   "source": [
    "y_pred = model.predict(X_test)\n",
    "y_pred"
   ]
  },
  {
   "attachments": {},
   "cell_type": "markdown",
   "id": "37b657bf",
   "metadata": {
    "papermill": {
     "duration": 0.015004,
     "end_time": "2023-12-13T13:00:41.318055",
     "exception": false,
     "start_time": "2023-12-13T13:00:41.303051",
     "status": "completed"
    },
    "tags": []
   },
   "source": [
    "### Comparison: Real Data & Prediction"
   ]
  },
  {
   "attachments": {},
   "cell_type": "markdown",
   "id": "8b1d5b49",
   "metadata": {
    "papermill": {
     "duration": 0.008002,
     "end_time": "2023-12-13T13:00:41.334321",
     "exception": false,
     "start_time": "2023-12-13T13:00:41.326319",
     "status": "completed"
    },
    "tags": []
   },
   "source": [
    "#### Descale Data"
   ]
  },
  {
   "cell_type": "code",
   "execution_count": 13,
   "id": "2891b4e2",
   "metadata": {
    "execution": {
     "iopub.execute_input": "2023-12-13T13:00:41.352326Z",
     "iopub.status.busy": "2023-12-13T13:00:41.351325Z",
     "iopub.status.idle": "2023-12-13T13:00:41.365329Z",
     "shell.execute_reply": "2023-12-13T13:00:41.364328Z"
    },
    "papermill": {
     "duration": 0.025006,
     "end_time": "2023-12-13T13:00:41.367329",
     "exception": false,
     "start_time": "2023-12-13T13:00:41.342323",
     "status": "completed"
    },
    "tags": []
   },
   "outputs": [],
   "source": [
    "y_pred_scaled_inverse = scaler.inverse_transform(y_pred)\n",
    "y_true = scaler.inverse_transform(y_test)"
   ]
  },
  {
   "attachments": {},
   "cell_type": "markdown",
   "id": "de2fa7bc",
   "metadata": {
    "papermill": {
     "duration": 0.007614,
     "end_time": "2023-12-13T13:00:41.385239",
     "exception": false,
     "start_time": "2023-12-13T13:00:41.377625",
     "status": "completed"
    },
    "tags": []
   },
   "source": [
    "#### Create DataFrame"
   ]
  },
  {
   "cell_type": "code",
   "execution_count": 14,
   "id": "c232e401",
   "metadata": {
    "execution": {
     "iopub.execute_input": "2023-12-13T13:00:41.402242Z",
     "iopub.status.busy": "2023-12-13T13:00:41.401243Z",
     "iopub.status.idle": "2023-12-13T13:00:41.425247Z",
     "shell.execute_reply": "2023-12-13T13:00:41.425247Z"
    },
    "papermill": {
     "duration": 0.034007,
     "end_time": "2023-12-13T13:00:41.427248",
     "exception": false,
     "start_time": "2023-12-13T13:00:41.393241",
     "status": "completed"
    },
    "tags": []
   },
   "outputs": [
    {
     "data": {
      "text/html": [
       "<div>\n",
       "<style scoped>\n",
       "    .dataframe tbody tr th:only-of-type {\n",
       "        vertical-align: middle;\n",
       "    }\n",
       "\n",
       "    .dataframe tbody tr th {\n",
       "        vertical-align: top;\n",
       "    }\n",
       "\n",
       "    .dataframe thead th {\n",
       "        text-align: right;\n",
       "    }\n",
       "</style>\n",
       "<table border=\"1\" class=\"dataframe\">\n",
       "  <thead>\n",
       "    <tr style=\"text-align: right;\">\n",
       "      <th></th>\n",
       "      <th>y_pred</th>\n",
       "      <th>y_pred_scaled_inverse</th>\n",
       "      <th>y_true</th>\n",
       "    </tr>\n",
       "  </thead>\n",
       "  <tbody>\n",
       "    <tr>\n",
       "      <th>0</th>\n",
       "      <td>0.101444</td>\n",
       "      <td>2576.205811</td>\n",
       "      <td>2560.0</td>\n",
       "    </tr>\n",
       "    <tr>\n",
       "      <th>1</th>\n",
       "      <td>0.126676</td>\n",
       "      <td>2691.667969</td>\n",
       "      <td>2656.0</td>\n",
       "    </tr>\n",
       "    <tr>\n",
       "      <th>2</th>\n",
       "      <td>0.144586</td>\n",
       "      <td>2773.626709</td>\n",
       "      <td>2793.0</td>\n",
       "    </tr>\n",
       "    <tr>\n",
       "      <th>3</th>\n",
       "      <td>0.174534</td>\n",
       "      <td>2910.666992</td>\n",
       "      <td>2961.0</td>\n",
       "    </tr>\n",
       "    <tr>\n",
       "      <th>4</th>\n",
       "      <td>0.205911</td>\n",
       "      <td>3054.250000</td>\n",
       "      <td>2934.0</td>\n",
       "    </tr>\n",
       "    <tr>\n",
       "      <th>...</th>\n",
       "      <td>...</td>\n",
       "      <td>...</td>\n",
       "      <td>...</td>\n",
       "    </tr>\n",
       "    <tr>\n",
       "      <th>6707</th>\n",
       "      <td>0.237647</td>\n",
       "      <td>3199.473633</td>\n",
       "      <td>3165.0</td>\n",
       "    </tr>\n",
       "    <tr>\n",
       "      <th>6708</th>\n",
       "      <td>0.256397</td>\n",
       "      <td>3285.274170</td>\n",
       "      <td>3272.0</td>\n",
       "    </tr>\n",
       "    <tr>\n",
       "      <th>6709</th>\n",
       "      <td>0.297374</td>\n",
       "      <td>3472.782471</td>\n",
       "      <td>3501.0</td>\n",
       "    </tr>\n",
       "    <tr>\n",
       "      <th>6710</th>\n",
       "      <td>0.360848</td>\n",
       "      <td>3763.238281</td>\n",
       "      <td>3814.0</td>\n",
       "    </tr>\n",
       "    <tr>\n",
       "      <th>6711</th>\n",
       "      <td>0.423653</td>\n",
       "      <td>4050.638184</td>\n",
       "      <td>4034.0</td>\n",
       "    </tr>\n",
       "  </tbody>\n",
       "</table>\n",
       "<p>6712 rows × 3 columns</p>\n",
       "</div>"
      ],
      "text/plain": [
       "        y_pred  y_pred_scaled_inverse  y_true\n",
       "0     0.101444            2576.205811  2560.0\n",
       "1     0.126676            2691.667969  2656.0\n",
       "2     0.144586            2773.626709  2793.0\n",
       "3     0.174534            2910.666992  2961.0\n",
       "4     0.205911            3054.250000  2934.0\n",
       "...        ...                    ...     ...\n",
       "6707  0.237647            3199.473633  3165.0\n",
       "6708  0.256397            3285.274170  3272.0\n",
       "6709  0.297374            3472.782471  3501.0\n",
       "6710  0.360848            3763.238281  3814.0\n",
       "6711  0.423653            4050.638184  4034.0\n",
       "\n",
       "[6712 rows x 3 columns]"
      ]
     },
     "execution_count": 14,
     "metadata": {},
     "output_type": "execute_result"
    }
   ],
   "source": [
    "dic_pred = {\n",
    "    'y_pred': y_pred.flatten(),\n",
    "    'y_pred_scaled_inverse': y_pred_scaled_inverse.flatten(),\n",
    "    'y_true': y_true.flatten(),\n",
    "}\n",
    "\n",
    "df_pred = pd.DataFrame(dic_pred)\n",
    "df_pred"
   ]
  },
  {
   "attachments": {},
   "cell_type": "markdown",
   "id": "e5dcec61",
   "metadata": {
    "papermill": {
     "duration": 0.008002,
     "end_time": "2023-12-13T13:00:41.443252",
     "exception": false,
     "start_time": "2023-12-13T13:00:41.435250",
     "status": "completed"
    },
    "tags": []
   },
   "source": [
    "#### Evaluate Model"
   ]
  },
  {
   "cell_type": "code",
   "execution_count": 15,
   "id": "c0c2b819",
   "metadata": {
    "execution": {
     "iopub.execute_input": "2023-12-13T13:00:41.462256Z",
     "iopub.status.busy": "2023-12-13T13:00:41.462256Z",
     "iopub.status.idle": "2023-12-13T13:00:41.474259Z",
     "shell.execute_reply": "2023-12-13T13:00:41.473259Z"
    },
    "papermill": {
     "duration": 0.022005,
     "end_time": "2023-12-13T13:00:41.475259",
     "exception": false,
     "start_time": "2023-12-13T13:00:41.453254",
     "status": "completed"
    },
    "tags": []
   },
   "outputs": [],
   "source": [
    "from sklearn.metrics import mean_squared_error"
   ]
  },
  {
   "cell_type": "code",
   "execution_count": 16,
   "id": "47e9e2c6",
   "metadata": {
    "execution": {
     "iopub.execute_input": "2023-12-13T13:00:41.492263Z",
     "iopub.status.busy": "2023-12-13T13:00:41.491263Z",
     "iopub.status.idle": "2023-12-13T13:00:41.504266Z",
     "shell.execute_reply": "2023-12-13T13:00:41.504266Z"
    },
    "papermill": {
     "duration": 0.023006,
     "end_time": "2023-12-13T13:00:41.506267",
     "exception": false,
     "start_time": "2023-12-13T13:00:41.483261",
     "status": "completed"
    },
    "tags": []
   },
   "outputs": [
    {
     "data": {
      "text/plain": [
       "60.38366945742933"
      ]
     },
     "execution_count": 16,
     "metadata": {},
     "output_type": "execute_result"
    }
   ],
   "source": [
    "mean_squared_error(df_pred.y_true, df_pred.y_pred_scaled_inverse, squared=False)"
   ]
  },
  {
   "cell_type": "code",
   "execution_count": 17,
   "id": "41283e5c",
   "metadata": {
    "execution": {
     "iopub.execute_input": "2023-12-13T13:00:41.524201Z",
     "iopub.status.busy": "2023-12-13T13:00:41.523201Z",
     "iopub.status.idle": "2023-12-13T13:00:41.628740Z",
     "shell.execute_reply": "2023-12-13T13:00:41.627740Z"
    },
    "papermill": {
     "duration": 0.115707,
     "end_time": "2023-12-13T13:00:41.629740",
     "exception": false,
     "start_time": "2023-12-13T13:00:41.514033",
     "status": "completed"
    },
    "tags": []
   },
   "outputs": [],
   "source": [
    "model.save(f'../models/{region}.keras')"
   ]
  }
 ],
 "metadata": {
  "kernelspec": {
   "display_name": "deep-learning",
   "language": "python",
   "name": "python3"
  },
  "language_info": {
   "codemirror_mode": {
    "name": "ipython",
    "version": 3
   },
   "file_extension": ".py",
   "mimetype": "text/x-python",
   "name": "python",
   "nbconvert_exporter": "python",
   "pygments_lexer": "ipython3",
   "version": "3.7.12"
  },
  "papermill": {
   "default_parameters": {},
   "duration": 155.122416,
   "end_time": "2023-12-13T13:00:42.108898",
   "environment_variables": {},
   "exception": null,
   "input_path": "Modelling.ipynb",
   "output_path": "outputs/BC.ipynb",
   "parameters": {
    "region": "BC"
   },
   "start_time": "2023-12-13T12:58:06.986482",
   "version": "2.4.0"
  }
 },
 "nbformat": 4,
 "nbformat_minor": 5
}