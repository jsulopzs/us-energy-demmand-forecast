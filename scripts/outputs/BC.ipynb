{
 "cells": [
  {
   "attachments": {},
   "cell_type": "markdown",
   "id": "8f5c2318",
   "metadata": {
    "papermill": {
     "duration": 0.009372,
     "end_time": "2023-11-26T17:00:14.719704",
     "exception": false,
     "start_time": "2023-11-26T17:00:14.710332",
     "status": "completed"
    },
    "tags": []
   },
   "source": [
    "## Load data"
   ]
  },
  {
   "cell_type": "code",
   "execution_count": 1,
   "id": "74f6b591",
   "metadata": {
    "execution": {
     "iopub.execute_input": "2023-11-26T17:00:14.756393Z",
     "iopub.status.busy": "2023-11-26T17:00:14.756059Z",
     "iopub.status.idle": "2023-11-26T17:00:15.141621Z",
     "shell.execute_reply": "2023-11-26T17:00:15.140732Z"
    },
    "papermill": {
     "duration": 0.400202,
     "end_time": "2023-11-26T17:00:15.144495",
     "exception": false,
     "start_time": "2023-11-26T17:00:14.744293",
     "status": "completed"
    },
    "tags": []
   },
   "outputs": [],
   "source": [
    "import pandas as pd"
   ]
  },
  {
   "cell_type": "code",
   "execution_count": 2,
   "id": "62b37823",
   "metadata": {
    "execution": {
     "iopub.execute_input": "2023-11-26T17:00:15.156103Z",
     "iopub.status.busy": "2023-11-26T17:00:15.155793Z",
     "iopub.status.idle": "2023-11-26T17:00:15.294148Z",
     "shell.execute_reply": "2023-11-26T17:00:15.293573Z"
    },
    "papermill": {
     "duration": 0.145778,
     "end_time": "2023-11-26T17:00:15.296387",
     "exception": false,
     "start_time": "2023-11-26T17:00:15.150609",
     "status": "completed"
    },
    "tags": []
   },
   "outputs": [
    {
     "data": {
      "text/html": [
       "<div>\n",
       "<style scoped>\n",
       "    .dataframe tbody tr th:only-of-type {\n",
       "        vertical-align: middle;\n",
       "    }\n",
       "\n",
       "    .dataframe tbody tr th {\n",
       "        vertical-align: top;\n",
       "    }\n",
       "\n",
       "    .dataframe thead th {\n",
       "        text-align: right;\n",
       "    }\n",
       "</style>\n",
       "<table border=\"1\" class=\"dataframe\">\n",
       "  <thead>\n",
       "    <tr style=\"text-align: right;\">\n",
       "      <th></th>\n",
       "      <th>AE</th>\n",
       "      <th>AEP</th>\n",
       "      <th>AP</th>\n",
       "      <th>ATSI</th>\n",
       "      <th>BC</th>\n",
       "      <th>CE</th>\n",
       "      <th>DAY</th>\n",
       "      <th>DEOK</th>\n",
       "      <th>DOM</th>\n",
       "      <th>DPL</th>\n",
       "      <th>DUQ</th>\n",
       "      <th>EKPC</th>\n",
       "      <th>JC</th>\n",
       "      <th>ME</th>\n",
       "      <th>PE</th>\n",
       "      <th>PEP</th>\n",
       "      <th>PL</th>\n",
       "      <th>PN</th>\n",
       "      <th>PS</th>\n",
       "      <th>RECO</th>\n",
       "    </tr>\n",
       "    <tr>\n",
       "      <th>period</th>\n",
       "      <th></th>\n",
       "      <th></th>\n",
       "      <th></th>\n",
       "      <th></th>\n",
       "      <th></th>\n",
       "      <th></th>\n",
       "      <th></th>\n",
       "      <th></th>\n",
       "      <th></th>\n",
       "      <th></th>\n",
       "      <th></th>\n",
       "      <th></th>\n",
       "      <th></th>\n",
       "      <th></th>\n",
       "      <th></th>\n",
       "      <th></th>\n",
       "      <th></th>\n",
       "      <th></th>\n",
       "      <th></th>\n",
       "      <th></th>\n",
       "    </tr>\n",
       "  </thead>\n",
       "  <tbody>\n",
       "    <tr>\n",
       "      <th>2018-07-01 05:00:00</th>\n",
       "      <td>1301</td>\n",
       "      <td>12187</td>\n",
       "      <td>4384</td>\n",
       "      <td>6960</td>\n",
       "      <td>3134</td>\n",
       "      <td>12136</td>\n",
       "      <td>1619</td>\n",
       "      <td>2895</td>\n",
       "      <td>9775</td>\n",
       "      <td>1919</td>\n",
       "      <td>1466</td>\n",
       "      <td>1209</td>\n",
       "      <td>2388</td>\n",
       "      <td>1442</td>\n",
       "      <td>4397</td>\n",
       "      <td>3165</td>\n",
       "      <td>3835</td>\n",
       "      <td>1611</td>\n",
       "      <td>5009</td>\n",
       "      <td>186</td>\n",
       "    </tr>\n",
       "    <tr>\n",
       "      <th>2018-07-01 06:00:00</th>\n",
       "      <td>1314</td>\n",
       "      <td>11946</td>\n",
       "      <td>4391</td>\n",
       "      <td>6762</td>\n",
       "      <td>3139</td>\n",
       "      <td>11872</td>\n",
       "      <td>1605</td>\n",
       "      <td>2857</td>\n",
       "      <td>9787</td>\n",
       "      <td>1950</td>\n",
       "      <td>1455</td>\n",
       "      <td>1197</td>\n",
       "      <td>2416</td>\n",
       "      <td>1465</td>\n",
       "      <td>4423</td>\n",
       "      <td>3156</td>\n",
       "      <td>3901</td>\n",
       "      <td>1641</td>\n",
       "      <td>4990</td>\n",
       "      <td>187</td>\n",
       "    </tr>\n",
       "    <tr>\n",
       "      <th>2018-07-01 07:00:00</th>\n",
       "      <td>1410</td>\n",
       "      <td>12664</td>\n",
       "      <td>4757</td>\n",
       "      <td>6670</td>\n",
       "      <td>3377</td>\n",
       "      <td>11992</td>\n",
       "      <td>1707</td>\n",
       "      <td>2997</td>\n",
       "      <td>10453</td>\n",
       "      <td>2160</td>\n",
       "      <td>1528</td>\n",
       "      <td>1273</td>\n",
       "      <td>2644</td>\n",
       "      <td>1605</td>\n",
       "      <td>4743</td>\n",
       "      <td>3332</td>\n",
       "      <td>4232</td>\n",
       "      <td>1728</td>\n",
       "      <td>5267</td>\n",
       "      <td>202</td>\n",
       "    </tr>\n",
       "    <tr>\n",
       "      <th>2018-07-01 08:00:00</th>\n",
       "      <td>1567</td>\n",
       "      <td>14069</td>\n",
       "      <td>5308</td>\n",
       "      <td>7065</td>\n",
       "      <td>3788</td>\n",
       "      <td>12860</td>\n",
       "      <td>1916</td>\n",
       "      <td>3331</td>\n",
       "      <td>11734</td>\n",
       "      <td>2470</td>\n",
       "      <td>1688</td>\n",
       "      <td>1472</td>\n",
       "      <td>3064</td>\n",
       "      <td>1784</td>\n",
       "      <td>5230</td>\n",
       "      <td>3679</td>\n",
       "      <td>4613</td>\n",
       "      <td>1899</td>\n",
       "      <td>5735</td>\n",
       "      <td>230</td>\n",
       "    </tr>\n",
       "    <tr>\n",
       "      <th>2018-07-01 09:00:00</th>\n",
       "      <td>1749</td>\n",
       "      <td>15610</td>\n",
       "      <td>5862</td>\n",
       "      <td>7833</td>\n",
       "      <td>4262</td>\n",
       "      <td>14212</td>\n",
       "      <td>2145</td>\n",
       "      <td>3703</td>\n",
       "      <td>13084</td>\n",
       "      <td>2765</td>\n",
       "      <td>1875</td>\n",
       "      <td>1656</td>\n",
       "      <td>3569</td>\n",
       "      <td>1972</td>\n",
       "      <td>5752</td>\n",
       "      <td>4085</td>\n",
       "      <td>5014</td>\n",
       "      <td>2055</td>\n",
       "      <td>6299</td>\n",
       "      <td>259</td>\n",
       "    </tr>\n",
       "  </tbody>\n",
       "</table>\n",
       "</div>"
      ],
      "text/plain": [
       "                       AE    AEP    AP  ATSI    BC     CE   DAY  DEOK    DOM  \\\n",
       "period                                                                         \n",
       "2018-07-01 05:00:00  1301  12187  4384  6960  3134  12136  1619  2895   9775   \n",
       "2018-07-01 06:00:00  1314  11946  4391  6762  3139  11872  1605  2857   9787   \n",
       "2018-07-01 07:00:00  1410  12664  4757  6670  3377  11992  1707  2997  10453   \n",
       "2018-07-01 08:00:00  1567  14069  5308  7065  3788  12860  1916  3331  11734   \n",
       "2018-07-01 09:00:00  1749  15610  5862  7833  4262  14212  2145  3703  13084   \n",
       "\n",
       "                      DPL   DUQ  EKPC    JC    ME    PE   PEP    PL    PN  \\\n",
       "period                                                                      \n",
       "2018-07-01 05:00:00  1919  1466  1209  2388  1442  4397  3165  3835  1611   \n",
       "2018-07-01 06:00:00  1950  1455  1197  2416  1465  4423  3156  3901  1641   \n",
       "2018-07-01 07:00:00  2160  1528  1273  2644  1605  4743  3332  4232  1728   \n",
       "2018-07-01 08:00:00  2470  1688  1472  3064  1784  5230  3679  4613  1899   \n",
       "2018-07-01 09:00:00  2765  1875  1656  3569  1972  5752  4085  5014  2055   \n",
       "\n",
       "                       PS  RECO  \n",
       "period                           \n",
       "2018-07-01 05:00:00  5009   186  \n",
       "2018-07-01 06:00:00  4990   187  \n",
       "2018-07-01 07:00:00  5267   202  \n",
       "2018-07-01 08:00:00  5735   230  \n",
       "2018-07-01 09:00:00  6299   259  "
      ]
     },
     "execution_count": 2,
     "metadata": {},
     "output_type": "execute_result"
    }
   ],
   "source": [
    "df_base = pd.read_csv('../data/pjm_pivot.csv', index_col=0, parse_dates=True)\n",
    "df_base.head()"
   ]
  },
  {
   "attachments": {},
   "cell_type": "markdown",
   "id": "fa7ee5a9",
   "metadata": {
    "papermill": {
     "duration": 0.004638,
     "end_time": "2023-11-26T17:00:15.305893",
     "exception": false,
     "start_time": "2023-11-26T17:00:15.301255",
     "status": "completed"
    },
    "tags": []
   },
   "source": [
    "## Select region"
   ]
  },
  {
   "cell_type": "code",
   "execution_count": 3,
   "id": "566b0cd1",
   "metadata": {
    "execution": {
     "iopub.execute_input": "2023-11-26T17:00:15.316047Z",
     "iopub.status.busy": "2023-11-26T17:00:15.315714Z",
     "iopub.status.idle": "2023-11-26T17:00:15.319384Z",
     "shell.execute_reply": "2023-11-26T17:00:15.318745Z"
    },
    "papermill": {
     "duration": 0.011921,
     "end_time": "2023-11-26T17:00:15.321538",
     "exception": false,
     "start_time": "2023-11-26T17:00:15.309617",
     "status": "completed"
    },
    "tags": [
     "parameters"
    ]
   },
   "outputs": [],
   "source": [
    "region = 'AE'"
   ]
  },
  {
   "cell_type": "code",
   "execution_count": 4,
   "id": "fd638afc",
   "metadata": {
    "execution": {
     "iopub.execute_input": "2023-11-26T17:00:15.331527Z",
     "iopub.status.busy": "2023-11-26T17:00:15.331231Z",
     "iopub.status.idle": "2023-11-26T17:00:15.334343Z",
     "shell.execute_reply": "2023-11-26T17:00:15.333742Z"
    },
    "papermill": {
     "duration": 0.010654,
     "end_time": "2023-11-26T17:00:15.336145",
     "exception": false,
     "start_time": "2023-11-26T17:00:15.325491",
     "status": "completed"
    },
    "tags": [
     "injected-parameters"
    ]
   },
   "outputs": [],
   "source": [
    "# Parameters\n",
    "region = \"BC\"\n"
   ]
  },
  {
   "cell_type": "code",
   "execution_count": 5,
   "id": "7ed2b849",
   "metadata": {
    "execution": {
     "iopub.execute_input": "2023-11-26T17:00:15.345737Z",
     "iopub.status.busy": "2023-11-26T17:00:15.345392Z",
     "iopub.status.idle": "2023-11-26T17:00:15.354311Z",
     "shell.execute_reply": "2023-11-26T17:00:15.353770Z"
    },
    "papermill": {
     "duration": 0.01588,
     "end_time": "2023-11-26T17:00:15.356117",
     "exception": false,
     "start_time": "2023-11-26T17:00:15.340237",
     "status": "completed"
    },
    "tags": []
   },
   "outputs": [
    {
     "data": {
      "text/html": [
       "<div>\n",
       "<style scoped>\n",
       "    .dataframe tbody tr th:only-of-type {\n",
       "        vertical-align: middle;\n",
       "    }\n",
       "\n",
       "    .dataframe tbody tr th {\n",
       "        vertical-align: top;\n",
       "    }\n",
       "\n",
       "    .dataframe thead th {\n",
       "        text-align: right;\n",
       "    }\n",
       "</style>\n",
       "<table border=\"1\" class=\"dataframe\">\n",
       "  <thead>\n",
       "    <tr style=\"text-align: right;\">\n",
       "      <th></th>\n",
       "      <th>BC</th>\n",
       "    </tr>\n",
       "    <tr>\n",
       "      <th>period</th>\n",
       "      <th></th>\n",
       "    </tr>\n",
       "  </thead>\n",
       "  <tbody>\n",
       "    <tr>\n",
       "      <th>2018-07-01 05:00:00</th>\n",
       "      <td>3134</td>\n",
       "    </tr>\n",
       "    <tr>\n",
       "      <th>2018-07-01 06:00:00</th>\n",
       "      <td>3139</td>\n",
       "    </tr>\n",
       "    <tr>\n",
       "      <th>2018-07-01 07:00:00</th>\n",
       "      <td>3377</td>\n",
       "    </tr>\n",
       "    <tr>\n",
       "      <th>2018-07-01 08:00:00</th>\n",
       "      <td>3788</td>\n",
       "    </tr>\n",
       "    <tr>\n",
       "      <th>2018-07-01 09:00:00</th>\n",
       "      <td>4262</td>\n",
       "    </tr>\n",
       "    <tr>\n",
       "      <th>...</th>\n",
       "      <td>...</td>\n",
       "    </tr>\n",
       "    <tr>\n",
       "      <th>2023-11-01 00:00:00</th>\n",
       "      <td>3187</td>\n",
       "    </tr>\n",
       "    <tr>\n",
       "      <th>2023-11-01 01:00:00</th>\n",
       "      <td>3212</td>\n",
       "    </tr>\n",
       "    <tr>\n",
       "      <th>2023-11-01 02:00:00</th>\n",
       "      <td>3156</td>\n",
       "    </tr>\n",
       "    <tr>\n",
       "      <th>2023-11-01 03:00:00</th>\n",
       "      <td>2986</td>\n",
       "    </tr>\n",
       "    <tr>\n",
       "      <th>2023-11-01 04:00:00</th>\n",
       "      <td>2809</td>\n",
       "    </tr>\n",
       "  </tbody>\n",
       "</table>\n",
       "<p>44904 rows × 1 columns</p>\n",
       "</div>"
      ],
      "text/plain": [
       "                       BC\n",
       "period                   \n",
       "2018-07-01 05:00:00  3134\n",
       "2018-07-01 06:00:00  3139\n",
       "2018-07-01 07:00:00  3377\n",
       "2018-07-01 08:00:00  3788\n",
       "2018-07-01 09:00:00  4262\n",
       "...                   ...\n",
       "2023-11-01 00:00:00  3187\n",
       "2023-11-01 01:00:00  3212\n",
       "2023-11-01 02:00:00  3156\n",
       "2023-11-01 03:00:00  2986\n",
       "2023-11-01 04:00:00  2809\n",
       "\n",
       "[44904 rows x 1 columns]"
      ]
     },
     "execution_count": 5,
     "metadata": {},
     "output_type": "execute_result"
    }
   ],
   "source": [
    "df = df_base.loc[:, [region]]\n",
    "df"
   ]
  },
  {
   "attachments": {},
   "cell_type": "markdown",
   "id": "37661de0",
   "metadata": {
    "papermill": {
     "duration": 0.028521,
     "end_time": "2023-11-26T17:00:15.407262",
     "exception": false,
     "start_time": "2023-11-26T17:00:15.378741",
     "status": "completed"
    },
    "tags": []
   },
   "source": [
    "## Data Preprocessing"
   ]
  },
  {
   "attachments": {},
   "cell_type": "markdown",
   "id": "742cd529",
   "metadata": {
    "papermill": {
     "duration": 0.024484,
     "end_time": "2023-11-26T17:00:15.458039",
     "exception": false,
     "start_time": "2023-11-26T17:00:15.433555",
     "status": "completed"
    },
    "tags": []
   },
   "source": [
    "### Scale Data"
   ]
  },
  {
   "cell_type": "code",
   "execution_count": 6,
   "id": "c5812ed6",
   "metadata": {
    "execution": {
     "iopub.execute_input": "2023-11-26T17:00:15.513462Z",
     "iopub.status.busy": "2023-11-26T17:00:15.512978Z",
     "iopub.status.idle": "2023-11-26T17:00:15.940949Z",
     "shell.execute_reply": "2023-11-26T17:00:15.939697Z"
    },
    "papermill": {
     "duration": 0.460939,
     "end_time": "2023-11-26T17:00:15.942978",
     "exception": false,
     "start_time": "2023-11-26T17:00:15.482039",
     "status": "completed"
    },
    "tags": []
   },
   "outputs": [],
   "source": [
    "from sklearn.preprocessing import MinMaxScaler\n",
    "\n",
    "# Normalize data\n",
    "scaler = MinMaxScaler(feature_range=(0, 1))\n",
    "data_norm = scaler.fit_transform(df)"
   ]
  },
  {
   "attachments": {},
   "cell_type": "markdown",
   "id": "27175bd7",
   "metadata": {
    "papermill": {
     "duration": 0.005156,
     "end_time": "2023-11-26T17:00:15.954159",
     "exception": false,
     "start_time": "2023-11-26T17:00:15.949003",
     "status": "completed"
    },
    "tags": []
   },
   "source": [
    "### Train Test Split"
   ]
  },
  {
   "cell_type": "code",
   "execution_count": 7,
   "id": "2bae0fef",
   "metadata": {
    "execution": {
     "iopub.execute_input": "2023-11-26T17:00:15.964424Z",
     "iopub.status.busy": "2023-11-26T17:00:15.963844Z",
     "iopub.status.idle": "2023-11-26T17:00:15.995917Z",
     "shell.execute_reply": "2023-11-26T17:00:15.995063Z"
    },
    "papermill": {
     "duration": 0.040479,
     "end_time": "2023-11-26T17:00:15.998519",
     "exception": false,
     "start_time": "2023-11-26T17:00:15.958040",
     "status": "completed"
    },
    "tags": []
   },
   "outputs": [],
   "source": [
    "from sklearn.model_selection import train_test_split\n",
    "\n",
    "train, test = train_test_split(data_norm, test_size=0.2, shuffle=False)"
   ]
  },
  {
   "attachments": {},
   "cell_type": "markdown",
   "id": "5227097b",
   "metadata": {
    "papermill": {
     "duration": 0.004486,
     "end_time": "2023-11-26T17:00:16.007033",
     "exception": false,
     "start_time": "2023-11-26T17:00:16.002547",
     "status": "completed"
    },
    "tags": []
   },
   "source": [
    "### Create Sequences"
   ]
  },
  {
   "cell_type": "code",
   "execution_count": 8,
   "id": "3e25fb82",
   "metadata": {
    "execution": {
     "iopub.execute_input": "2023-11-26T17:00:16.017778Z",
     "iopub.status.busy": "2023-11-26T17:00:16.017486Z",
     "iopub.status.idle": "2023-11-26T17:00:16.095130Z",
     "shell.execute_reply": "2023-11-26T17:00:16.094215Z"
    },
    "papermill": {
     "duration": 0.086292,
     "end_time": "2023-11-26T17:00:16.097686",
     "exception": false,
     "start_time": "2023-11-26T17:00:16.011394",
     "status": "completed"
    },
    "tags": []
   },
   "outputs": [],
   "source": [
    "import numpy as np\n",
    "\n",
    "def create_sequences(data, sequence_length):\n",
    "    X, y = [], []\n",
    "    for i in range(len(data) - sequence_length):\n",
    "        X.append(data[i:i+sequence_length])\n",
    "        y.append(data[i+sequence_length])\n",
    "    return np.array(X), np.array(y)\n",
    "\n",
    "sequence_length = 24 # Use 24 hours prior to predict the following hour\n",
    "X_train, y_train = create_sequences(train, sequence_length)\n",
    "X_test, y_test = create_sequences(test, sequence_length)"
   ]
  },
  {
   "attachments": {},
   "cell_type": "markdown",
   "id": "779ec6c4",
   "metadata": {
    "papermill": {
     "duration": 0.004976,
     "end_time": "2023-11-26T17:00:16.107811",
     "exception": false,
     "start_time": "2023-11-26T17:00:16.102835",
     "status": "completed"
    },
    "tags": []
   },
   "source": [
    "## Modelling"
   ]
  },
  {
   "attachments": {},
   "cell_type": "markdown",
   "id": "4d0faa73",
   "metadata": {
    "papermill": {
     "duration": 0.005786,
     "end_time": "2023-11-26T17:00:16.117856",
     "exception": false,
     "start_time": "2023-11-26T17:00:16.112070",
     "status": "completed"
    },
    "tags": []
   },
   "source": [
    "### Design NN Architecture"
   ]
  },
  {
   "cell_type": "code",
   "execution_count": 9,
   "id": "24457079",
   "metadata": {
    "execution": {
     "iopub.execute_input": "2023-11-26T17:00:16.130370Z",
     "iopub.status.busy": "2023-11-26T17:00:16.129796Z",
     "iopub.status.idle": "2023-11-26T17:00:20.345927Z",
     "shell.execute_reply": "2023-11-26T17:00:20.344925Z"
    },
    "papermill": {
     "duration": 4.226071,
     "end_time": "2023-11-26T17:00:20.348643",
     "exception": false,
     "start_time": "2023-11-26T17:00:16.122572",
     "status": "completed"
    },
    "tags": []
   },
   "outputs": [
    {
     "name": "stderr",
     "output_type": "stream",
     "text": [
      "2023-11-26 18:00:18.356084: I tensorflow/core/platform/cpu_feature_guard.cc:182] This TensorFlow binary is optimized to use available CPU instructions in performance-critical operations.\n",
      "To enable the following instructions: AVX2 FMA, in other operations, rebuild TensorFlow with the appropriate compiler flags.\n"
     ]
    }
   ],
   "source": [
    "from keras.models import Sequential\n",
    "from keras.layers import LSTM, Dense\n",
    "\n",
    "model = Sequential()\n",
    "model.add(LSTM(50, input_shape=(X_train.shape[1], X_train.shape[2])))\n",
    "model.add(Dense(1))\n",
    "model.compile(optimizer='adam', loss='mean_squared_error')"
   ]
  },
  {
   "attachments": {},
   "cell_type": "markdown",
   "id": "3cfe4da6",
   "metadata": {
    "papermill": {
     "duration": 0.005634,
     "end_time": "2023-11-26T17:00:20.359587",
     "exception": false,
     "start_time": "2023-11-26T17:00:20.353953",
     "status": "completed"
    },
    "tags": []
   },
   "source": [
    "### Train Model"
   ]
  },
  {
   "cell_type": "code",
   "execution_count": 10,
   "id": "13e51dfa",
   "metadata": {
    "execution": {
     "iopub.execute_input": "2023-11-26T17:00:20.370481Z",
     "iopub.status.busy": "2023-11-26T17:00:20.370085Z",
     "iopub.status.idle": "2023-11-26T17:03:05.211125Z",
     "shell.execute_reply": "2023-11-26T17:03:05.208288Z"
    },
    "papermill": {
     "duration": 164.85327,
     "end_time": "2023-11-26T17:03:05.217894",
     "exception": false,
     "start_time": "2023-11-26T17:00:20.364624",
     "status": "completed"
    },
    "tags": []
   },
   "outputs": [],
   "source": [
    "from keras.callbacks import EarlyStopping\n",
    "\n",
    "early_stop = EarlyStopping(monitor='val_loss', patience=5)\n",
    "\n",
    "history = model.fit(\n",
    "    X_train, y_train, epochs=50, batch_size=64, verbose=0,\n",
    "    validation_data=(X_test, y_test), callbacks=[early_stop])"
   ]
  },
  {
   "attachments": {},
   "cell_type": "markdown",
   "id": "06ae923e",
   "metadata": {
    "papermill": {
     "duration": 0.006197,
     "end_time": "2023-11-26T17:03:05.234433",
     "exception": false,
     "start_time": "2023-11-26T17:03:05.228236",
     "status": "completed"
    },
    "tags": []
   },
   "source": [
    "### Calculate Predictions"
   ]
  },
  {
   "cell_type": "code",
   "execution_count": 11,
   "id": "750678db",
   "metadata": {
    "execution": {
     "iopub.execute_input": "2023-11-26T17:03:05.247826Z",
     "iopub.status.busy": "2023-11-26T17:03:05.247184Z",
     "iopub.status.idle": "2023-11-26T17:03:06.519888Z",
     "shell.execute_reply": "2023-11-26T17:03:06.519117Z"
    },
    "papermill": {
     "duration": 1.282512,
     "end_time": "2023-11-26T17:03:06.521744",
     "exception": false,
     "start_time": "2023-11-26T17:03:05.239232",
     "status": "completed"
    },
    "tags": []
   },
   "outputs": [
    {
     "name": "stdout",
     "output_type": "stream",
     "text": [
      "\r",
      "  1/280 [..............................] - ETA: 1:53"
     ]
    },
    {
     "name": "stdout",
     "output_type": "stream",
     "text": [
      "\b\b\b\b\b\b\b\b\b\b\b\b\b\b\b\b\b\b\b\b\b\b\b\b\b\b\b\b\b\b\b\b\b\b\b\b\b\b\b\b\b\b\b\b\b\b\b\b\b\b\b\b\r",
      " 21/280 [=>............................] - ETA: 0s  "
     ]
    },
    {
     "name": "stdout",
     "output_type": "stream",
     "text": [
      "\b\b\b\b\b\b\b\b\b\b\b\b\b\b\b\b\b\b\b\b\b\b\b\b\b\b\b\b\b\b\b\b\b\b\b\b\b\b\b\b\b\b\b\b\b\b\b\b\b\b\r",
      " 42/280 [===>..........................] - ETA: 0s"
     ]
    },
    {
     "name": "stdout",
     "output_type": "stream",
     "text": [
      "\b\b\b\b\b\b\b\b\b\b\b\b\b\b\b\b\b\b\b\b\b\b\b\b\b\b\b\b\b\b\b\b\b\b\b\b\b\b\b\b\b\b\b\b\b\b\b\b\b\b\r",
      " 63/280 [=====>........................] - ETA: 0s"
     ]
    },
    {
     "name": "stdout",
     "output_type": "stream",
     "text": [
      "\b\b\b\b\b\b\b\b\b\b\b\b\b\b\b\b\b\b\b\b\b\b\b\b\b\b\b\b\b\b\b\b\b\b\b\b\b\b\b\b\b\b\b\b\b\b\b\b\b\b\r",
      " 84/280 [========>.....................] - ETA: 0s"
     ]
    },
    {
     "name": "stdout",
     "output_type": "stream",
     "text": [
      "\b\b\b\b\b\b\b\b\b\b\b\b\b\b\b\b\b\b\b\b\b\b\b\b\b\b\b\b\b\b\b\b\b\b\b\b\b\b\b\b\b\b\b\b\b\b\b\b\b\b\r",
      "106/280 [==========>...................] - ETA: 0s"
     ]
    },
    {
     "name": "stdout",
     "output_type": "stream",
     "text": [
      "\b\b\b\b\b\b\b\b\b\b\b\b\b\b\b\b\b\b\b\b\b\b\b\b\b\b\b\b\b\b\b\b\b\b\b\b\b\b\b\b\b\b\b\b\b\b\b\b\b\b\r",
      "127/280 [============>.................] - ETA: 0s"
     ]
    },
    {
     "name": "stdout",
     "output_type": "stream",
     "text": [
      "\b\b\b\b\b\b\b\b\b\b\b\b\b\b\b\b\b\b\b\b\b\b\b\b\b\b\b\b\b\b\b\b\b\b\b\b\b\b\b\b\b\b\b\b\b\b\b\b\b\b\r",
      "148/280 [==============>...............] - ETA: 0s"
     ]
    },
    {
     "name": "stdout",
     "output_type": "stream",
     "text": [
      "\b\b\b\b\b\b\b\b\b\b\b\b\b\b\b\b\b\b\b\b\b\b\b\b\b\b\b\b\b\b\b\b\b\b\b\b\b\b\b\b\b\b\b\b\b\b\b\b\b\b\r",
      "169/280 [=================>............] - ETA: 0s"
     ]
    },
    {
     "name": "stdout",
     "output_type": "stream",
     "text": [
      "\b\b\b\b\b\b\b\b\b\b\b\b\b\b\b\b\b\b\b\b\b\b\b\b\b\b\b\b\b\b\b\b\b\b\b\b\b\b\b\b\b\b\b\b\b\b\b\b\b\b\r",
      "191/280 [===================>..........] - ETA: 0s"
     ]
    },
    {
     "name": "stdout",
     "output_type": "stream",
     "text": [
      "\b\b\b\b\b\b\b\b\b\b\b\b\b\b\b\b\b\b\b\b\b\b\b\b\b\b\b\b\b\b\b\b\b\b\b\b\b\b\b\b\b\b\b\b\b\b\b\b\b\b\r",
      "212/280 [=====================>........] - ETA: 0s"
     ]
    },
    {
     "name": "stdout",
     "output_type": "stream",
     "text": [
      "\b\b\b\b\b\b\b\b\b\b\b\b\b\b\b\b\b\b\b\b\b\b\b\b\b\b\b\b\b\b\b\b\b\b\b\b\b\b\b\b\b\b\b\b\b\b\b\b\b\b\r",
      "232/280 [=======================>......] - ETA: 0s"
     ]
    },
    {
     "name": "stdout",
     "output_type": "stream",
     "text": [
      "\b\b\b\b\b\b\b\b\b\b\b\b\b\b\b\b\b\b\b\b\b\b\b\b\b\b\b\b\b\b\b\b\b\b\b\b\b\b\b\b\b\b\b\b\b\b\b\b\b\b\r",
      "247/280 [=========================>....] - ETA: 0s"
     ]
    },
    {
     "name": "stdout",
     "output_type": "stream",
     "text": [
      "\b\b\b\b\b\b\b\b\b\b\b\b\b\b\b\b\b\b\b\b\b\b\b\b\b\b\b\b\b\b\b\b\b\b\b\b\b\b\b\b\b\b\b\b\b\b\b\b\b\b\r",
      "266/280 [===========================>..] - ETA: 0s"
     ]
    },
    {
     "name": "stdout",
     "output_type": "stream",
     "text": [
      "\b\b\b\b\b\b\b\b\b\b\b\b\b\b\b\b\b\b\b\b\b\b\b\b\b\b\b\b\b\b\b\b\b\b\b\b\b\b\b\b\b\b\b\b\b\b\b\b\b\b\r",
      "280/280 [==============================] - 1s 3ms/step\n"
     ]
    },
    {
     "data": {
      "text/plain": [
       "array([[0.2241155 ],\n",
       "       [0.18129398],\n",
       "       [0.16828336],\n",
       "       ...,\n",
       "       [0.22090006],\n",
       "       [0.20300567],\n",
       "       [0.15971278]], dtype=float32)"
      ]
     },
     "execution_count": 11,
     "metadata": {},
     "output_type": "execute_result"
    }
   ],
   "source": [
    "y_pred = model.predict(X_test)\n",
    "y_pred"
   ]
  },
  {
   "attachments": {},
   "cell_type": "markdown",
   "id": "ea6d3b98",
   "metadata": {
    "papermill": {
     "duration": 0.006147,
     "end_time": "2023-11-26T17:03:06.534475",
     "exception": false,
     "start_time": "2023-11-26T17:03:06.528328",
     "status": "completed"
    },
    "tags": []
   },
   "source": [
    "### Comparison: Real Data & Prediction"
   ]
  },
  {
   "attachments": {},
   "cell_type": "markdown",
   "id": "994e01a7",
   "metadata": {
    "papermill": {
     "duration": 0.005416,
     "end_time": "2023-11-26T17:03:06.544760",
     "exception": false,
     "start_time": "2023-11-26T17:03:06.539344",
     "status": "completed"
    },
    "tags": []
   },
   "source": [
    "#### Descale Data"
   ]
  },
  {
   "cell_type": "code",
   "execution_count": 12,
   "id": "7bde0895",
   "metadata": {
    "execution": {
     "iopub.execute_input": "2023-11-26T17:03:06.557742Z",
     "iopub.status.busy": "2023-11-26T17:03:06.557292Z",
     "iopub.status.idle": "2023-11-26T17:03:06.562950Z",
     "shell.execute_reply": "2023-11-26T17:03:06.562241Z"
    },
    "papermill": {
     "duration": 0.014081,
     "end_time": "2023-11-26T17:03:06.564771",
     "exception": false,
     "start_time": "2023-11-26T17:03:06.550690",
     "status": "completed"
    },
    "tags": []
   },
   "outputs": [],
   "source": [
    "y_pred_scaled_inverse = scaler.inverse_transform(y_pred)\n",
    "y_true = scaler.inverse_transform(y_test)"
   ]
  },
  {
   "attachments": {},
   "cell_type": "markdown",
   "id": "04211ffd",
   "metadata": {
    "papermill": {
     "duration": 0.005091,
     "end_time": "2023-11-26T17:03:06.575346",
     "exception": false,
     "start_time": "2023-11-26T17:03:06.570255",
     "status": "completed"
    },
    "tags": []
   },
   "source": [
    "#### Create DataFrame"
   ]
  },
  {
   "cell_type": "code",
   "execution_count": 13,
   "id": "64e270b8",
   "metadata": {
    "execution": {
     "iopub.execute_input": "2023-11-26T17:03:06.588180Z",
     "iopub.status.busy": "2023-11-26T17:03:06.587888Z",
     "iopub.status.idle": "2023-11-26T17:03:06.604895Z",
     "shell.execute_reply": "2023-11-26T17:03:06.604288Z"
    },
    "papermill": {
     "duration": 0.025231,
     "end_time": "2023-11-26T17:03:06.606494",
     "exception": false,
     "start_time": "2023-11-26T17:03:06.581263",
     "status": "completed"
    },
    "tags": []
   },
   "outputs": [
    {
     "data": {
      "text/html": [
       "<div>\n",
       "<style scoped>\n",
       "    .dataframe tbody tr th:only-of-type {\n",
       "        vertical-align: middle;\n",
       "    }\n",
       "\n",
       "    .dataframe tbody tr th {\n",
       "        vertical-align: top;\n",
       "    }\n",
       "\n",
       "    .dataframe thead th {\n",
       "        text-align: right;\n",
       "    }\n",
       "</style>\n",
       "<table border=\"1\" class=\"dataframe\">\n",
       "  <thead>\n",
       "    <tr style=\"text-align: right;\">\n",
       "      <th></th>\n",
       "      <th>y_pred</th>\n",
       "      <th>y_pred_scaled_inverse</th>\n",
       "      <th>y_true</th>\n",
       "    </tr>\n",
       "  </thead>\n",
       "  <tbody>\n",
       "    <tr>\n",
       "      <th>0</th>\n",
       "      <td>0.224116</td>\n",
       "      <td>3137.552734</td>\n",
       "      <td>3068.0</td>\n",
       "    </tr>\n",
       "    <tr>\n",
       "      <th>1</th>\n",
       "      <td>0.181294</td>\n",
       "      <td>2941.601318</td>\n",
       "      <td>2982.0</td>\n",
       "    </tr>\n",
       "    <tr>\n",
       "      <th>2</th>\n",
       "      <td>0.168283</td>\n",
       "      <td>2882.064697</td>\n",
       "      <td>2856.0</td>\n",
       "    </tr>\n",
       "    <tr>\n",
       "      <th>3</th>\n",
       "      <td>0.141339</td>\n",
       "      <td>2758.768066</td>\n",
       "      <td>2716.0</td>\n",
       "    </tr>\n",
       "    <tr>\n",
       "      <th>4</th>\n",
       "      <td>0.115880</td>\n",
       "      <td>2642.265625</td>\n",
       "      <td>2608.0</td>\n",
       "    </tr>\n",
       "    <tr>\n",
       "      <th>...</th>\n",
       "      <td>...</td>\n",
       "      <td>...</td>\n",
       "      <td>...</td>\n",
       "    </tr>\n",
       "    <tr>\n",
       "      <th>8952</th>\n",
       "      <td>0.251481</td>\n",
       "      <td>3262.776123</td>\n",
       "      <td>3187.0</td>\n",
       "    </tr>\n",
       "    <tr>\n",
       "      <th>8953</th>\n",
       "      <td>0.229647</td>\n",
       "      <td>3162.864990</td>\n",
       "      <td>3212.0</td>\n",
       "    </tr>\n",
       "    <tr>\n",
       "      <th>8954</th>\n",
       "      <td>0.220900</td>\n",
       "      <td>3122.838623</td>\n",
       "      <td>3156.0</td>\n",
       "    </tr>\n",
       "    <tr>\n",
       "      <th>8955</th>\n",
       "      <td>0.203006</td>\n",
       "      <td>3040.953857</td>\n",
       "      <td>2986.0</td>\n",
       "    </tr>\n",
       "    <tr>\n",
       "      <th>8956</th>\n",
       "      <td>0.159713</td>\n",
       "      <td>2842.845703</td>\n",
       "      <td>2809.0</td>\n",
       "    </tr>\n",
       "  </tbody>\n",
       "</table>\n",
       "<p>8957 rows × 3 columns</p>\n",
       "</div>"
      ],
      "text/plain": [
       "        y_pred  y_pred_scaled_inverse  y_true\n",
       "0     0.224116            3137.552734  3068.0\n",
       "1     0.181294            2941.601318  2982.0\n",
       "2     0.168283            2882.064697  2856.0\n",
       "3     0.141339            2758.768066  2716.0\n",
       "4     0.115880            2642.265625  2608.0\n",
       "...        ...                    ...     ...\n",
       "8952  0.251481            3262.776123  3187.0\n",
       "8953  0.229647            3162.864990  3212.0\n",
       "8954  0.220900            3122.838623  3156.0\n",
       "8955  0.203006            3040.953857  2986.0\n",
       "8956  0.159713            2842.845703  2809.0\n",
       "\n",
       "[8957 rows x 3 columns]"
      ]
     },
     "execution_count": 13,
     "metadata": {},
     "output_type": "execute_result"
    }
   ],
   "source": [
    "dic_pred = {\n",
    "    'y_pred': y_pred.flatten(),\n",
    "    'y_pred_scaled_inverse': y_pred_scaled_inverse.flatten(),\n",
    "    'y_true': y_true.flatten(),\n",
    "}\n",
    "\n",
    "df_pred = pd.DataFrame(dic_pred)\n",
    "df_pred"
   ]
  },
  {
   "attachments": {},
   "cell_type": "markdown",
   "id": "8533899b",
   "metadata": {
    "papermill": {
     "duration": 0.005852,
     "end_time": "2023-11-26T17:03:06.617766",
     "exception": false,
     "start_time": "2023-11-26T17:03:06.611914",
     "status": "completed"
    },
    "tags": []
   },
   "source": [
    "#### Evaluate Model"
   ]
  },
  {
   "cell_type": "code",
   "execution_count": 14,
   "id": "d3f8a3d0",
   "metadata": {
    "execution": {
     "iopub.execute_input": "2023-11-26T17:03:06.630047Z",
     "iopub.status.busy": "2023-11-26T17:03:06.629695Z",
     "iopub.status.idle": "2023-11-26T17:03:06.633331Z",
     "shell.execute_reply": "2023-11-26T17:03:06.632715Z"
    },
    "papermill": {
     "duration": 0.012148,
     "end_time": "2023-11-26T17:03:06.635121",
     "exception": false,
     "start_time": "2023-11-26T17:03:06.622973",
     "status": "completed"
    },
    "tags": []
   },
   "outputs": [],
   "source": [
    "from sklearn.metrics import mean_squared_error"
   ]
  },
  {
   "cell_type": "code",
   "execution_count": 15,
   "id": "e616f567",
   "metadata": {
    "execution": {
     "iopub.execute_input": "2023-11-26T17:03:06.669280Z",
     "iopub.status.busy": "2023-11-26T17:03:06.668728Z",
     "iopub.status.idle": "2023-11-26T17:03:06.678324Z",
     "shell.execute_reply": "2023-11-26T17:03:06.677589Z"
    },
    "papermill": {
     "duration": 0.039243,
     "end_time": "2023-11-26T17:03:06.680591",
     "exception": false,
     "start_time": "2023-11-26T17:03:06.641348",
     "status": "completed"
    },
    "tags": []
   },
   "outputs": [
    {
     "data": {
      "text/plain": [
       "58.33715149629656"
      ]
     },
     "execution_count": 15,
     "metadata": {},
     "output_type": "execute_result"
    }
   ],
   "source": [
    "mean_squared_error(df_pred.y_true, df_pred.y_pred_scaled_inverse, squared=False)"
   ]
  },
  {
   "cell_type": "code",
   "execution_count": 16,
   "id": "e2a685c2",
   "metadata": {
    "execution": {
     "iopub.execute_input": "2023-11-26T17:03:06.700024Z",
     "iopub.status.busy": "2023-11-26T17:03:06.699710Z",
     "iopub.status.idle": "2023-11-26T17:03:06.732776Z",
     "shell.execute_reply": "2023-11-26T17:03:06.732144Z"
    },
    "papermill": {
     "duration": 0.043096,
     "end_time": "2023-11-26T17:03:06.734775",
     "exception": false,
     "start_time": "2023-11-26T17:03:06.691679",
     "status": "completed"
    },
    "tags": []
   },
   "outputs": [],
   "source": [
    "model.save(f'../models/{region}.keras')"
   ]
  }
 ],
 "metadata": {
  "kernelspec": {
   "display_name": "deep-learning",
   "language": "python",
   "name": "python3"
  },
  "language_info": {
   "codemirror_mode": {
    "name": "ipython",
    "version": 3
   },
   "file_extension": ".py",
   "mimetype": "text/x-python",
   "name": "python",
   "nbconvert_exporter": "python",
   "pygments_lexer": "ipython3",
   "version": "3.9.18"
  },
  "papermill": {
   "default_parameters": {},
   "duration": 174.271751,
   "end_time": "2023-11-26T17:03:07.970814",
   "environment_variables": {},
   "exception": null,
   "input_path": "Modelling.ipynb",
   "output_path": "outputs/BC.ipynb",
   "parameters": {
    "region": "BC"
   },
   "start_time": "2023-11-26T17:00:13.699063",
   "version": "2.5.0"
  }
 },
 "nbformat": 4,
 "nbformat_minor": 5
}