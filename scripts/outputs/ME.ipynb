{
 "cells": [
  {
   "attachments": {},
   "cell_type": "markdown",
   "id": "8e4db025",
   "metadata": {
    "papermill": {
     "duration": 0.011547,
     "end_time": "2023-11-26T17:21:50.574815",
     "exception": false,
     "start_time": "2023-11-26T17:21:50.563268",
     "status": "completed"
    },
    "tags": []
   },
   "source": [
    "## Load data"
   ]
  },
  {
   "cell_type": "code",
   "execution_count": 1,
   "id": "521d72bd",
   "metadata": {
    "execution": {
     "iopub.execute_input": "2023-11-26T17:21:50.590182Z",
     "iopub.status.busy": "2023-11-26T17:21:50.589619Z",
     "iopub.status.idle": "2023-11-26T17:21:51.129925Z",
     "shell.execute_reply": "2023-11-26T17:21:51.128945Z"
    },
    "papermill": {
     "duration": 0.549044,
     "end_time": "2023-11-26T17:21:51.131996",
     "exception": false,
     "start_time": "2023-11-26T17:21:50.582952",
     "status": "completed"
    },
    "tags": []
   },
   "outputs": [],
   "source": [
    "import pandas as pd"
   ]
  },
  {
   "cell_type": "code",
   "execution_count": 2,
   "id": "a19e68b2",
   "metadata": {
    "execution": {
     "iopub.execute_input": "2023-11-26T17:21:51.142230Z",
     "iopub.status.busy": "2023-11-26T17:21:51.141912Z",
     "iopub.status.idle": "2023-11-26T17:21:51.285804Z",
     "shell.execute_reply": "2023-11-26T17:21:51.285010Z"
    },
    "papermill": {
     "duration": 0.152899,
     "end_time": "2023-11-26T17:21:51.289126",
     "exception": false,
     "start_time": "2023-11-26T17:21:51.136227",
     "status": "completed"
    },
    "tags": []
   },
   "outputs": [
    {
     "data": {
      "text/html": [
       "<div>\n",
       "<style scoped>\n",
       "    .dataframe tbody tr th:only-of-type {\n",
       "        vertical-align: middle;\n",
       "    }\n",
       "\n",
       "    .dataframe tbody tr th {\n",
       "        vertical-align: top;\n",
       "    }\n",
       "\n",
       "    .dataframe thead th {\n",
       "        text-align: right;\n",
       "    }\n",
       "</style>\n",
       "<table border=\"1\" class=\"dataframe\">\n",
       "  <thead>\n",
       "    <tr style=\"text-align: right;\">\n",
       "      <th></th>\n",
       "      <th>AE</th>\n",
       "      <th>AEP</th>\n",
       "      <th>AP</th>\n",
       "      <th>ATSI</th>\n",
       "      <th>BC</th>\n",
       "      <th>CE</th>\n",
       "      <th>DAY</th>\n",
       "      <th>DEOK</th>\n",
       "      <th>DOM</th>\n",
       "      <th>DPL</th>\n",
       "      <th>DUQ</th>\n",
       "      <th>EKPC</th>\n",
       "      <th>JC</th>\n",
       "      <th>ME</th>\n",
       "      <th>PE</th>\n",
       "      <th>PEP</th>\n",
       "      <th>PL</th>\n",
       "      <th>PN</th>\n",
       "      <th>PS</th>\n",
       "      <th>RECO</th>\n",
       "    </tr>\n",
       "    <tr>\n",
       "      <th>period</th>\n",
       "      <th></th>\n",
       "      <th></th>\n",
       "      <th></th>\n",
       "      <th></th>\n",
       "      <th></th>\n",
       "      <th></th>\n",
       "      <th></th>\n",
       "      <th></th>\n",
       "      <th></th>\n",
       "      <th></th>\n",
       "      <th></th>\n",
       "      <th></th>\n",
       "      <th></th>\n",
       "      <th></th>\n",
       "      <th></th>\n",
       "      <th></th>\n",
       "      <th></th>\n",
       "      <th></th>\n",
       "      <th></th>\n",
       "      <th></th>\n",
       "    </tr>\n",
       "  </thead>\n",
       "  <tbody>\n",
       "    <tr>\n",
       "      <th>2018-07-01 05:00:00</th>\n",
       "      <td>1301</td>\n",
       "      <td>12187</td>\n",
       "      <td>4384</td>\n",
       "      <td>6960</td>\n",
       "      <td>3134</td>\n",
       "      <td>12136</td>\n",
       "      <td>1619</td>\n",
       "      <td>2895</td>\n",
       "      <td>9775</td>\n",
       "      <td>1919</td>\n",
       "      <td>1466</td>\n",
       "      <td>1209</td>\n",
       "      <td>2388</td>\n",
       "      <td>1442</td>\n",
       "      <td>4397</td>\n",
       "      <td>3165</td>\n",
       "      <td>3835</td>\n",
       "      <td>1611</td>\n",
       "      <td>5009</td>\n",
       "      <td>186</td>\n",
       "    </tr>\n",
       "    <tr>\n",
       "      <th>2018-07-01 06:00:00</th>\n",
       "      <td>1314</td>\n",
       "      <td>11946</td>\n",
       "      <td>4391</td>\n",
       "      <td>6762</td>\n",
       "      <td>3139</td>\n",
       "      <td>11872</td>\n",
       "      <td>1605</td>\n",
       "      <td>2857</td>\n",
       "      <td>9787</td>\n",
       "      <td>1950</td>\n",
       "      <td>1455</td>\n",
       "      <td>1197</td>\n",
       "      <td>2416</td>\n",
       "      <td>1465</td>\n",
       "      <td>4423</td>\n",
       "      <td>3156</td>\n",
       "      <td>3901</td>\n",
       "      <td>1641</td>\n",
       "      <td>4990</td>\n",
       "      <td>187</td>\n",
       "    </tr>\n",
       "    <tr>\n",
       "      <th>2018-07-01 07:00:00</th>\n",
       "      <td>1410</td>\n",
       "      <td>12664</td>\n",
       "      <td>4757</td>\n",
       "      <td>6670</td>\n",
       "      <td>3377</td>\n",
       "      <td>11992</td>\n",
       "      <td>1707</td>\n",
       "      <td>2997</td>\n",
       "      <td>10453</td>\n",
       "      <td>2160</td>\n",
       "      <td>1528</td>\n",
       "      <td>1273</td>\n",
       "      <td>2644</td>\n",
       "      <td>1605</td>\n",
       "      <td>4743</td>\n",
       "      <td>3332</td>\n",
       "      <td>4232</td>\n",
       "      <td>1728</td>\n",
       "      <td>5267</td>\n",
       "      <td>202</td>\n",
       "    </tr>\n",
       "    <tr>\n",
       "      <th>2018-07-01 08:00:00</th>\n",
       "      <td>1567</td>\n",
       "      <td>14069</td>\n",
       "      <td>5308</td>\n",
       "      <td>7065</td>\n",
       "      <td>3788</td>\n",
       "      <td>12860</td>\n",
       "      <td>1916</td>\n",
       "      <td>3331</td>\n",
       "      <td>11734</td>\n",
       "      <td>2470</td>\n",
       "      <td>1688</td>\n",
       "      <td>1472</td>\n",
       "      <td>3064</td>\n",
       "      <td>1784</td>\n",
       "      <td>5230</td>\n",
       "      <td>3679</td>\n",
       "      <td>4613</td>\n",
       "      <td>1899</td>\n",
       "      <td>5735</td>\n",
       "      <td>230</td>\n",
       "    </tr>\n",
       "    <tr>\n",
       "      <th>2018-07-01 09:00:00</th>\n",
       "      <td>1749</td>\n",
       "      <td>15610</td>\n",
       "      <td>5862</td>\n",
       "      <td>7833</td>\n",
       "      <td>4262</td>\n",
       "      <td>14212</td>\n",
       "      <td>2145</td>\n",
       "      <td>3703</td>\n",
       "      <td>13084</td>\n",
       "      <td>2765</td>\n",
       "      <td>1875</td>\n",
       "      <td>1656</td>\n",
       "      <td>3569</td>\n",
       "      <td>1972</td>\n",
       "      <td>5752</td>\n",
       "      <td>4085</td>\n",
       "      <td>5014</td>\n",
       "      <td>2055</td>\n",
       "      <td>6299</td>\n",
       "      <td>259</td>\n",
       "    </tr>\n",
       "  </tbody>\n",
       "</table>\n",
       "</div>"
      ],
      "text/plain": [
       "                       AE    AEP    AP  ATSI    BC     CE   DAY  DEOK    DOM  \\\n",
       "period                                                                         \n",
       "2018-07-01 05:00:00  1301  12187  4384  6960  3134  12136  1619  2895   9775   \n",
       "2018-07-01 06:00:00  1314  11946  4391  6762  3139  11872  1605  2857   9787   \n",
       "2018-07-01 07:00:00  1410  12664  4757  6670  3377  11992  1707  2997  10453   \n",
       "2018-07-01 08:00:00  1567  14069  5308  7065  3788  12860  1916  3331  11734   \n",
       "2018-07-01 09:00:00  1749  15610  5862  7833  4262  14212  2145  3703  13084   \n",
       "\n",
       "                      DPL   DUQ  EKPC    JC    ME    PE   PEP    PL    PN  \\\n",
       "period                                                                      \n",
       "2018-07-01 05:00:00  1919  1466  1209  2388  1442  4397  3165  3835  1611   \n",
       "2018-07-01 06:00:00  1950  1455  1197  2416  1465  4423  3156  3901  1641   \n",
       "2018-07-01 07:00:00  2160  1528  1273  2644  1605  4743  3332  4232  1728   \n",
       "2018-07-01 08:00:00  2470  1688  1472  3064  1784  5230  3679  4613  1899   \n",
       "2018-07-01 09:00:00  2765  1875  1656  3569  1972  5752  4085  5014  2055   \n",
       "\n",
       "                       PS  RECO  \n",
       "period                           \n",
       "2018-07-01 05:00:00  5009   186  \n",
       "2018-07-01 06:00:00  4990   187  \n",
       "2018-07-01 07:00:00  5267   202  \n",
       "2018-07-01 08:00:00  5735   230  \n",
       "2018-07-01 09:00:00  6299   259  "
      ]
     },
     "execution_count": 2,
     "metadata": {},
     "output_type": "execute_result"
    }
   ],
   "source": [
    "df_base = pd.read_csv('../data/pjm_pivot.csv', index_col=0, parse_dates=True)\n",
    "df_base.head()"
   ]
  },
  {
   "attachments": {},
   "cell_type": "markdown",
   "id": "2a01dd90",
   "metadata": {
    "papermill": {
     "duration": 0.004415,
     "end_time": "2023-11-26T17:21:51.298474",
     "exception": false,
     "start_time": "2023-11-26T17:21:51.294059",
     "status": "completed"
    },
    "tags": []
   },
   "source": [
    "## Select region"
   ]
  },
  {
   "cell_type": "code",
   "execution_count": 3,
   "id": "f2a37aa7",
   "metadata": {
    "execution": {
     "iopub.execute_input": "2023-11-26T17:21:51.307570Z",
     "iopub.status.busy": "2023-11-26T17:21:51.307284Z",
     "iopub.status.idle": "2023-11-26T17:21:51.311001Z",
     "shell.execute_reply": "2023-11-26T17:21:51.310212Z"
    },
    "papermill": {
     "duration": 0.01074,
     "end_time": "2023-11-26T17:21:51.312809",
     "exception": false,
     "start_time": "2023-11-26T17:21:51.302069",
     "status": "completed"
    },
    "tags": [
     "parameters"
    ]
   },
   "outputs": [],
   "source": [
    "region = 'AE'"
   ]
  },
  {
   "cell_type": "code",
   "execution_count": 4,
   "id": "97e0e3bb",
   "metadata": {
    "execution": {
     "iopub.execute_input": "2023-11-26T17:21:51.322578Z",
     "iopub.status.busy": "2023-11-26T17:21:51.322115Z",
     "iopub.status.idle": "2023-11-26T17:21:51.326617Z",
     "shell.execute_reply": "2023-11-26T17:21:51.325941Z"
    },
    "papermill": {
     "duration": 0.012037,
     "end_time": "2023-11-26T17:21:51.328532",
     "exception": false,
     "start_time": "2023-11-26T17:21:51.316495",
     "status": "completed"
    },
    "tags": [
     "injected-parameters"
    ]
   },
   "outputs": [],
   "source": [
    "# Parameters\n",
    "region = \"ME\"\n"
   ]
  },
  {
   "cell_type": "code",
   "execution_count": 5,
   "id": "6f4ffd9c",
   "metadata": {
    "execution": {
     "iopub.execute_input": "2023-11-26T17:21:51.337998Z",
     "iopub.status.busy": "2023-11-26T17:21:51.337583Z",
     "iopub.status.idle": "2023-11-26T17:21:51.345808Z",
     "shell.execute_reply": "2023-11-26T17:21:51.345237Z"
    },
    "papermill": {
     "duration": 0.014742,
     "end_time": "2023-11-26T17:21:51.347530",
     "exception": false,
     "start_time": "2023-11-26T17:21:51.332788",
     "status": "completed"
    },
    "tags": []
   },
   "outputs": [
    {
     "data": {
      "text/html": [
       "<div>\n",
       "<style scoped>\n",
       "    .dataframe tbody tr th:only-of-type {\n",
       "        vertical-align: middle;\n",
       "    }\n",
       "\n",
       "    .dataframe tbody tr th {\n",
       "        vertical-align: top;\n",
       "    }\n",
       "\n",
       "    .dataframe thead th {\n",
       "        text-align: right;\n",
       "    }\n",
       "</style>\n",
       "<table border=\"1\" class=\"dataframe\">\n",
       "  <thead>\n",
       "    <tr style=\"text-align: right;\">\n",
       "      <th></th>\n",
       "      <th>ME</th>\n",
       "    </tr>\n",
       "    <tr>\n",
       "      <th>period</th>\n",
       "      <th></th>\n",
       "    </tr>\n",
       "  </thead>\n",
       "  <tbody>\n",
       "    <tr>\n",
       "      <th>2018-07-01 05:00:00</th>\n",
       "      <td>1442</td>\n",
       "    </tr>\n",
       "    <tr>\n",
       "      <th>2018-07-01 06:00:00</th>\n",
       "      <td>1465</td>\n",
       "    </tr>\n",
       "    <tr>\n",
       "      <th>2018-07-01 07:00:00</th>\n",
       "      <td>1605</td>\n",
       "    </tr>\n",
       "    <tr>\n",
       "      <th>2018-07-01 08:00:00</th>\n",
       "      <td>1784</td>\n",
       "    </tr>\n",
       "    <tr>\n",
       "      <th>2018-07-01 09:00:00</th>\n",
       "      <td>1972</td>\n",
       "    </tr>\n",
       "    <tr>\n",
       "      <th>...</th>\n",
       "      <td>...</td>\n",
       "    </tr>\n",
       "    <tr>\n",
       "      <th>2023-11-01 00:00:00</th>\n",
       "      <td>1793</td>\n",
       "    </tr>\n",
       "    <tr>\n",
       "      <th>2023-11-01 01:00:00</th>\n",
       "      <td>1793</td>\n",
       "    </tr>\n",
       "    <tr>\n",
       "      <th>2023-11-01 02:00:00</th>\n",
       "      <td>1756</td>\n",
       "    </tr>\n",
       "    <tr>\n",
       "      <th>2023-11-01 03:00:00</th>\n",
       "      <td>1669</td>\n",
       "    </tr>\n",
       "    <tr>\n",
       "      <th>2023-11-01 04:00:00</th>\n",
       "      <td>1581</td>\n",
       "    </tr>\n",
       "  </tbody>\n",
       "</table>\n",
       "<p>44904 rows × 1 columns</p>\n",
       "</div>"
      ],
      "text/plain": [
       "                       ME\n",
       "period                   \n",
       "2018-07-01 05:00:00  1442\n",
       "2018-07-01 06:00:00  1465\n",
       "2018-07-01 07:00:00  1605\n",
       "2018-07-01 08:00:00  1784\n",
       "2018-07-01 09:00:00  1972\n",
       "...                   ...\n",
       "2023-11-01 00:00:00  1793\n",
       "2023-11-01 01:00:00  1793\n",
       "2023-11-01 02:00:00  1756\n",
       "2023-11-01 03:00:00  1669\n",
       "2023-11-01 04:00:00  1581\n",
       "\n",
       "[44904 rows x 1 columns]"
      ]
     },
     "execution_count": 5,
     "metadata": {},
     "output_type": "execute_result"
    }
   ],
   "source": [
    "df = df_base.loc[:, [region]]\n",
    "df"
   ]
  },
  {
   "attachments": {},
   "cell_type": "markdown",
   "id": "e3652f41",
   "metadata": {
    "papermill": {
     "duration": 0.021982,
     "end_time": "2023-11-26T17:21:51.373718",
     "exception": false,
     "start_time": "2023-11-26T17:21:51.351736",
     "status": "completed"
    },
    "tags": []
   },
   "source": [
    "## Data Preprocessing"
   ]
  },
  {
   "attachments": {},
   "cell_type": "markdown",
   "id": "68cb3d71",
   "metadata": {
    "papermill": {
     "duration": 0.00841,
     "end_time": "2023-11-26T17:21:51.408849",
     "exception": false,
     "start_time": "2023-11-26T17:21:51.400439",
     "status": "completed"
    },
    "tags": []
   },
   "source": [
    "### Scale Data"
   ]
  },
  {
   "cell_type": "code",
   "execution_count": 6,
   "id": "2799b0df",
   "metadata": {
    "execution": {
     "iopub.execute_input": "2023-11-26T17:21:51.419545Z",
     "iopub.status.busy": "2023-11-26T17:21:51.419241Z",
     "iopub.status.idle": "2023-11-26T17:21:52.036421Z",
     "shell.execute_reply": "2023-11-26T17:21:52.035281Z"
    },
    "papermill": {
     "duration": 0.624996,
     "end_time": "2023-11-26T17:21:52.039088",
     "exception": false,
     "start_time": "2023-11-26T17:21:51.414092",
     "status": "completed"
    },
    "tags": []
   },
   "outputs": [],
   "source": [
    "from sklearn.preprocessing import MinMaxScaler\n",
    "\n",
    "# Normalize data\n",
    "scaler = MinMaxScaler(feature_range=(0, 1))\n",
    "data_norm = scaler.fit_transform(df)"
   ]
  },
  {
   "attachments": {},
   "cell_type": "markdown",
   "id": "1a33c4dd",
   "metadata": {
    "papermill": {
     "duration": 0.004795,
     "end_time": "2023-11-26T17:21:52.048777",
     "exception": false,
     "start_time": "2023-11-26T17:21:52.043982",
     "status": "completed"
    },
    "tags": []
   },
   "source": [
    "### Train Test Split"
   ]
  },
  {
   "cell_type": "code",
   "execution_count": 7,
   "id": "740146c1",
   "metadata": {
    "execution": {
     "iopub.execute_input": "2023-11-26T17:21:52.082750Z",
     "iopub.status.busy": "2023-11-26T17:21:52.082289Z",
     "iopub.status.idle": "2023-11-26T17:21:52.132386Z",
     "shell.execute_reply": "2023-11-26T17:21:52.131654Z"
    },
    "papermill": {
     "duration": 0.080876,
     "end_time": "2023-11-26T17:21:52.134349",
     "exception": false,
     "start_time": "2023-11-26T17:21:52.053473",
     "status": "completed"
    },
    "tags": []
   },
   "outputs": [],
   "source": [
    "from sklearn.model_selection import train_test_split\n",
    "\n",
    "train, test = train_test_split(data_norm, test_size=0.2, shuffle=False)"
   ]
  },
  {
   "attachments": {},
   "cell_type": "markdown",
   "id": "a7eaf1b3",
   "metadata": {
    "papermill": {
     "duration": 0.00478,
     "end_time": "2023-11-26T17:21:52.143484",
     "exception": false,
     "start_time": "2023-11-26T17:21:52.138704",
     "status": "completed"
    },
    "tags": []
   },
   "source": [
    "### Create Sequences"
   ]
  },
  {
   "cell_type": "code",
   "execution_count": 8,
   "id": "29a8e464",
   "metadata": {
    "execution": {
     "iopub.execute_input": "2023-11-26T17:21:52.154128Z",
     "iopub.status.busy": "2023-11-26T17:21:52.153679Z",
     "iopub.status.idle": "2023-11-26T17:21:52.234451Z",
     "shell.execute_reply": "2023-11-26T17:21:52.233590Z"
    },
    "papermill": {
     "duration": 0.09017,
     "end_time": "2023-11-26T17:21:52.238015",
     "exception": false,
     "start_time": "2023-11-26T17:21:52.147845",
     "status": "completed"
    },
    "tags": []
   },
   "outputs": [],
   "source": [
    "import numpy as np\n",
    "\n",
    "def create_sequences(data, sequence_length):\n",
    "    X, y = [], []\n",
    "    for i in range(len(data) - sequence_length):\n",
    "        X.append(data[i:i+sequence_length])\n",
    "        y.append(data[i+sequence_length])\n",
    "    return np.array(X), np.array(y)\n",
    "\n",
    "sequence_length = 24 # Use 24 hours prior to predict the following hour\n",
    "X_train, y_train = create_sequences(train, sequence_length)\n",
    "X_test, y_test = create_sequences(test, sequence_length)"
   ]
  },
  {
   "attachments": {},
   "cell_type": "markdown",
   "id": "347f5eec",
   "metadata": {
    "papermill": {
     "duration": 0.004621,
     "end_time": "2023-11-26T17:21:52.248033",
     "exception": false,
     "start_time": "2023-11-26T17:21:52.243412",
     "status": "completed"
    },
    "tags": []
   },
   "source": [
    "## Modelling"
   ]
  },
  {
   "attachments": {},
   "cell_type": "markdown",
   "id": "d02d1240",
   "metadata": {
    "papermill": {
     "duration": 0.0048,
     "end_time": "2023-11-26T17:21:52.256734",
     "exception": false,
     "start_time": "2023-11-26T17:21:52.251934",
     "status": "completed"
    },
    "tags": []
   },
   "source": [
    "### Design NN Architecture"
   ]
  },
  {
   "cell_type": "code",
   "execution_count": 9,
   "id": "0c86403c",
   "metadata": {
    "execution": {
     "iopub.execute_input": "2023-11-26T17:21:52.308722Z",
     "iopub.status.busy": "2023-11-26T17:21:52.308090Z",
     "iopub.status.idle": "2023-11-26T17:21:57.337204Z",
     "shell.execute_reply": "2023-11-26T17:21:57.336375Z"
    },
    "papermill": {
     "duration": 5.06086,
     "end_time": "2023-11-26T17:21:57.340251",
     "exception": false,
     "start_time": "2023-11-26T17:21:52.279391",
     "status": "completed"
    },
    "tags": []
   },
   "outputs": [
    {
     "name": "stderr",
     "output_type": "stream",
     "text": [
      "2023-11-26 18:21:54.619166: I tensorflow/core/platform/cpu_feature_guard.cc:182] This TensorFlow binary is optimized to use available CPU instructions in performance-critical operations.\n",
      "To enable the following instructions: AVX2 FMA, in other operations, rebuild TensorFlow with the appropriate compiler flags.\n"
     ]
    }
   ],
   "source": [
    "from keras.models import Sequential\n",
    "from keras.layers import LSTM, Dense\n",
    "\n",
    "model = Sequential()\n",
    "model.add(LSTM(50, input_shape=(X_train.shape[1], X_train.shape[2])))\n",
    "model.add(Dense(1))\n",
    "model.compile(optimizer='adam', loss='mean_squared_error')"
   ]
  },
  {
   "attachments": {},
   "cell_type": "markdown",
   "id": "ba001f56",
   "metadata": {
    "papermill": {
     "duration": 0.005227,
     "end_time": "2023-11-26T17:21:57.350788",
     "exception": false,
     "start_time": "2023-11-26T17:21:57.345561",
     "status": "completed"
    },
    "tags": []
   },
   "source": [
    "### Train Model"
   ]
  },
  {
   "cell_type": "code",
   "execution_count": 10,
   "id": "27e05477",
   "metadata": {
    "execution": {
     "iopub.execute_input": "2023-11-26T17:21:57.387077Z",
     "iopub.status.busy": "2023-11-26T17:21:57.386545Z",
     "iopub.status.idle": "2023-11-26T17:24:00.333220Z",
     "shell.execute_reply": "2023-11-26T17:24:00.332251Z"
    },
    "papermill": {
     "duration": 122.975821,
     "end_time": "2023-11-26T17:24:00.335504",
     "exception": false,
     "start_time": "2023-11-26T17:21:57.359683",
     "status": "completed"
    },
    "tags": []
   },
   "outputs": [],
   "source": [
    "from keras.callbacks import EarlyStopping\n",
    "\n",
    "early_stop = EarlyStopping(monitor='val_loss', patience=5)\n",
    "\n",
    "history = model.fit(\n",
    "    X_train, y_train, epochs=50, batch_size=64, verbose=0,\n",
    "    validation_data=(X_test, y_test), callbacks=[early_stop])"
   ]
  },
  {
   "attachments": {},
   "cell_type": "markdown",
   "id": "e1e7d3e8",
   "metadata": {
    "papermill": {
     "duration": 0.004905,
     "end_time": "2023-11-26T17:24:00.346216",
     "exception": false,
     "start_time": "2023-11-26T17:24:00.341311",
     "status": "completed"
    },
    "tags": []
   },
   "source": [
    "### Calculate Predictions"
   ]
  },
  {
   "cell_type": "code",
   "execution_count": 11,
   "id": "6a4d4ff9",
   "metadata": {
    "execution": {
     "iopub.execute_input": "2023-11-26T17:24:00.357123Z",
     "iopub.status.busy": "2023-11-26T17:24:00.356683Z",
     "iopub.status.idle": "2023-11-26T17:24:01.608767Z",
     "shell.execute_reply": "2023-11-26T17:24:01.608141Z"
    },
    "papermill": {
     "duration": 1.260365,
     "end_time": "2023-11-26T17:24:01.610928",
     "exception": false,
     "start_time": "2023-11-26T17:24:00.350563",
     "status": "completed"
    },
    "tags": []
   },
   "outputs": [
    {
     "name": "stdout",
     "output_type": "stream",
     "text": [
      "\r",
      "  1/280 [..............................] - ETA: 1:55"
     ]
    },
    {
     "name": "stdout",
     "output_type": "stream",
     "text": [
      "\b\b\b\b\b\b\b\b\b\b\b\b\b\b\b\b\b\b\b\b\b\b\b\b\b\b\b\b\b\b\b\b\b\b\b\b\b\b\b\b\b\b\b\b\b\b\b\b\b\b\b\b\r",
      " 21/280 [=>............................] - ETA: 0s  "
     ]
    },
    {
     "name": "stdout",
     "output_type": "stream",
     "text": [
      "\b\b\b\b\b\b\b\b\b\b\b\b\b\b\b\b\b\b\b\b\b\b\b\b\b\b\b\b\b\b\b\b\b\b\b\b\b\b\b\b\b\b\b\b\b\b\b\b\b\b\r",
      " 42/280 [===>..........................] - ETA: 0s"
     ]
    },
    {
     "name": "stdout",
     "output_type": "stream",
     "text": [
      "\b\b\b\b\b\b\b\b\b\b\b\b\b\b\b\b\b\b\b\b\b\b\b\b\b\b\b\b\b\b\b\b\b\b\b\b\b\b\b\b\b\b\b\b\b\b\b\b\b\b\r",
      " 63/280 [=====>........................] - ETA: 0s"
     ]
    },
    {
     "name": "stdout",
     "output_type": "stream",
     "text": [
      "\b\b\b\b\b\b\b\b\b\b\b\b\b\b\b\b\b\b\b\b\b\b\b\b\b\b\b\b\b\b\b\b\b\b\b\b\b\b\b\b\b\b\b\b\b\b\b\b\b\b\r",
      " 84/280 [========>.....................] - ETA: 0s"
     ]
    },
    {
     "name": "stdout",
     "output_type": "stream",
     "text": [
      "\b\b\b\b\b\b\b\b\b\b\b\b\b\b\b\b\b\b\b\b\b\b\b\b\b\b\b\b\b\b\b\b\b\b\b\b\b\b\b\b\b\b\b\b\b\b\b\b\b\b\r",
      "105/280 [==========>...................] - ETA: 0s"
     ]
    },
    {
     "name": "stdout",
     "output_type": "stream",
     "text": [
      "\b\b\b\b\b\b\b\b\b\b\b\b\b\b\b\b\b\b\b\b\b\b\b\b\b\b\b\b\b\b\b\b\b\b\b\b\b\b\b\b\b\b\b\b\b\b\b\b\b\b\r",
      "126/280 [============>.................] - ETA: 0s"
     ]
    },
    {
     "name": "stdout",
     "output_type": "stream",
     "text": [
      "\b\b\b\b\b\b\b\b\b\b\b\b\b\b\b\b\b\b\b\b\b\b\b\b\b\b\b\b\b\b\b\b\b\b\b\b\b\b\b\b\b\b\b\b\b\b\b\b\b\b\r",
      "147/280 [==============>...............] - ETA: 0s"
     ]
    },
    {
     "name": "stdout",
     "output_type": "stream",
     "text": [
      "\b\b\b\b\b\b\b\b\b\b\b\b\b\b\b\b\b\b\b\b\b\b\b\b\b\b\b\b\b\b\b\b\b\b\b\b\b\b\b\b\b\b\b\b\b\b\b\b\b\b\r",
      "168/280 [=================>............] - ETA: 0s"
     ]
    },
    {
     "name": "stdout",
     "output_type": "stream",
     "text": [
      "\b\b\b\b\b\b\b\b\b\b\b\b\b\b\b\b\b\b\b\b\b\b\b\b\b\b\b\b\b\b\b\b\b\b\b\b\b\b\b\b\b\b\b\b\b\b\b\b\b\b\r",
      "189/280 [===================>..........] - ETA: 0s"
     ]
    },
    {
     "name": "stdout",
     "output_type": "stream",
     "text": [
      "\b\b\b\b\b\b\b\b\b\b\b\b\b\b\b\b\b\b\b\b\b\b\b\b\b\b\b\b\b\b\b\b\b\b\b\b\b\b\b\b\b\b\b\b\b\b\b\b\b\b\r",
      "210/280 [=====================>........] - ETA: 0s"
     ]
    },
    {
     "name": "stdout",
     "output_type": "stream",
     "text": [
      "\b\b\b\b\b\b\b\b\b\b\b\b\b\b\b\b\b\b\b\b\b\b\b\b\b\b\b\b\b\b\b\b\b\b\b\b\b\b\b\b\b\b\b\b\b\b\b\b\b\b\r",
      "231/280 [=======================>......] - ETA: 0s"
     ]
    },
    {
     "name": "stdout",
     "output_type": "stream",
     "text": [
      "\b\b\b\b\b\b\b\b\b\b\b\b\b\b\b\b\b\b\b\b\b\b\b\b\b\b\b\b\b\b\b\b\b\b\b\b\b\b\b\b\b\b\b\b\b\b\b\b\b\b\r",
      "252/280 [==========================>...] - ETA: 0s"
     ]
    },
    {
     "name": "stdout",
     "output_type": "stream",
     "text": [
      "\b\b\b\b\b\b\b\b\b\b\b\b\b\b\b\b\b\b\b\b\b\b\b\b\b\b\b\b\b\b\b\b\b\b\b\b\b\b\b\b\b\b\b\b\b\b\b\b\b\b\r",
      "273/280 [============================>.] - ETA: 0s"
     ]
    },
    {
     "name": "stdout",
     "output_type": "stream",
     "text": [
      "\b\b\b\b\b\b\b\b\b\b\b\b\b\b\b\b\b\b\b\b\b\b\b\b\b\b\b\b\b\b\b\b\b\b\b\b\b\b\b\b\b\b\b\b\b\b\b\b\b\b\r",
      "280/280 [==============================] - 1s 2ms/step\n"
     ]
    },
    {
     "data": {
      "text/plain": [
       "array([[0.44565955],\n",
       "       [0.41585758],\n",
       "       [0.39188707],\n",
       "       ...,\n",
       "       [0.4677714 ],\n",
       "       [0.4467133 ],\n",
       "       [0.4130051 ]], dtype=float32)"
      ]
     },
     "execution_count": 11,
     "metadata": {},
     "output_type": "execute_result"
    }
   ],
   "source": [
    "y_pred = model.predict(X_test)\n",
    "y_pred"
   ]
  },
  {
   "attachments": {},
   "cell_type": "markdown",
   "id": "6d052d7d",
   "metadata": {
    "papermill": {
     "duration": 0.006023,
     "end_time": "2023-11-26T17:24:01.622974",
     "exception": false,
     "start_time": "2023-11-26T17:24:01.616951",
     "status": "completed"
    },
    "tags": []
   },
   "source": [
    "### Comparison: Real Data & Prediction"
   ]
  },
  {
   "attachments": {},
   "cell_type": "markdown",
   "id": "a045a05f",
   "metadata": {
    "papermill": {
     "duration": 0.004807,
     "end_time": "2023-11-26T17:24:01.633037",
     "exception": false,
     "start_time": "2023-11-26T17:24:01.628230",
     "status": "completed"
    },
    "tags": []
   },
   "source": [
    "#### Descale Data"
   ]
  },
  {
   "cell_type": "code",
   "execution_count": 12,
   "id": "0c1693f3",
   "metadata": {
    "execution": {
     "iopub.execute_input": "2023-11-26T17:24:01.646100Z",
     "iopub.status.busy": "2023-11-26T17:24:01.645590Z",
     "iopub.status.idle": "2023-11-26T17:24:01.652071Z",
     "shell.execute_reply": "2023-11-26T17:24:01.651177Z"
    },
    "papermill": {
     "duration": 0.015768,
     "end_time": "2023-11-26T17:24:01.654110",
     "exception": false,
     "start_time": "2023-11-26T17:24:01.638342",
     "status": "completed"
    },
    "tags": []
   },
   "outputs": [],
   "source": [
    "y_pred_scaled_inverse = scaler.inverse_transform(y_pred)\n",
    "y_true = scaler.inverse_transform(y_test)"
   ]
  },
  {
   "attachments": {},
   "cell_type": "markdown",
   "id": "305e20ad",
   "metadata": {
    "papermill": {
     "duration": 0.004833,
     "end_time": "2023-11-26T17:24:01.664787",
     "exception": false,
     "start_time": "2023-11-26T17:24:01.659954",
     "status": "completed"
    },
    "tags": []
   },
   "source": [
    "#### Create DataFrame"
   ]
  },
  {
   "cell_type": "code",
   "execution_count": 13,
   "id": "6a3240b6",
   "metadata": {
    "execution": {
     "iopub.execute_input": "2023-11-26T17:24:01.676423Z",
     "iopub.status.busy": "2023-11-26T17:24:01.676136Z",
     "iopub.status.idle": "2023-11-26T17:24:01.689101Z",
     "shell.execute_reply": "2023-11-26T17:24:01.688150Z"
    },
    "papermill": {
     "duration": 0.021411,
     "end_time": "2023-11-26T17:24:01.691196",
     "exception": false,
     "start_time": "2023-11-26T17:24:01.669785",
     "status": "completed"
    },
    "tags": []
   },
   "outputs": [
    {
     "data": {
      "text/html": [
       "<div>\n",
       "<style scoped>\n",
       "    .dataframe tbody tr th:only-of-type {\n",
       "        vertical-align: middle;\n",
       "    }\n",
       "\n",
       "    .dataframe tbody tr th {\n",
       "        vertical-align: top;\n",
       "    }\n",
       "\n",
       "    .dataframe thead th {\n",
       "        text-align: right;\n",
       "    }\n",
       "</style>\n",
       "<table border=\"1\" class=\"dataframe\">\n",
       "  <thead>\n",
       "    <tr style=\"text-align: right;\">\n",
       "      <th></th>\n",
       "      <th>y_pred</th>\n",
       "      <th>y_pred_scaled_inverse</th>\n",
       "      <th>y_true</th>\n",
       "    </tr>\n",
       "  </thead>\n",
       "  <tbody>\n",
       "    <tr>\n",
       "      <th>0</th>\n",
       "      <td>0.445660</td>\n",
       "      <td>1667.844727</td>\n",
       "      <td>1663.0</td>\n",
       "    </tr>\n",
       "    <tr>\n",
       "      <th>1</th>\n",
       "      <td>0.415858</td>\n",
       "      <td>1592.624512</td>\n",
       "      <td>1609.0</td>\n",
       "    </tr>\n",
       "    <tr>\n",
       "      <th>2</th>\n",
       "      <td>0.391887</td>\n",
       "      <td>1532.122925</td>\n",
       "      <td>1530.0</td>\n",
       "    </tr>\n",
       "    <tr>\n",
       "      <th>3</th>\n",
       "      <td>0.364749</td>\n",
       "      <td>1463.627319</td>\n",
       "      <td>1454.0</td>\n",
       "    </tr>\n",
       "    <tr>\n",
       "      <th>4</th>\n",
       "      <td>0.342885</td>\n",
       "      <td>1408.442627</td>\n",
       "      <td>1399.0</td>\n",
       "    </tr>\n",
       "    <tr>\n",
       "      <th>...</th>\n",
       "      <td>...</td>\n",
       "      <td>...</td>\n",
       "      <td>...</td>\n",
       "    </tr>\n",
       "    <tr>\n",
       "      <th>8952</th>\n",
       "      <td>0.491468</td>\n",
       "      <td>1783.465210</td>\n",
       "      <td>1793.0</td>\n",
       "    </tr>\n",
       "    <tr>\n",
       "      <th>8953</th>\n",
       "      <td>0.482040</td>\n",
       "      <td>1759.667603</td>\n",
       "      <td>1793.0</td>\n",
       "    </tr>\n",
       "    <tr>\n",
       "      <th>8954</th>\n",
       "      <td>0.467771</td>\n",
       "      <td>1723.655029</td>\n",
       "      <td>1756.0</td>\n",
       "    </tr>\n",
       "    <tr>\n",
       "      <th>8955</th>\n",
       "      <td>0.446713</td>\n",
       "      <td>1670.504395</td>\n",
       "      <td>1669.0</td>\n",
       "    </tr>\n",
       "    <tr>\n",
       "      <th>8956</th>\n",
       "      <td>0.413005</td>\n",
       "      <td>1585.424805</td>\n",
       "      <td>1581.0</td>\n",
       "    </tr>\n",
       "  </tbody>\n",
       "</table>\n",
       "<p>8957 rows × 3 columns</p>\n",
       "</div>"
      ],
      "text/plain": [
       "        y_pred  y_pred_scaled_inverse  y_true\n",
       "0     0.445660            1667.844727  1663.0\n",
       "1     0.415858            1592.624512  1609.0\n",
       "2     0.391887            1532.122925  1530.0\n",
       "3     0.364749            1463.627319  1454.0\n",
       "4     0.342885            1408.442627  1399.0\n",
       "...        ...                    ...     ...\n",
       "8952  0.491468            1783.465210  1793.0\n",
       "8953  0.482040            1759.667603  1793.0\n",
       "8954  0.467771            1723.655029  1756.0\n",
       "8955  0.446713            1670.504395  1669.0\n",
       "8956  0.413005            1585.424805  1581.0\n",
       "\n",
       "[8957 rows x 3 columns]"
      ]
     },
     "execution_count": 13,
     "metadata": {},
     "output_type": "execute_result"
    }
   ],
   "source": [
    "dic_pred = {\n",
    "    'y_pred': y_pred.flatten(),\n",
    "    'y_pred_scaled_inverse': y_pred_scaled_inverse.flatten(),\n",
    "    'y_true': y_true.flatten(),\n",
    "}\n",
    "\n",
    "df_pred = pd.DataFrame(dic_pred)\n",
    "df_pred"
   ]
  },
  {
   "attachments": {},
   "cell_type": "markdown",
   "id": "2febca46",
   "metadata": {
    "papermill": {
     "duration": 0.005255,
     "end_time": "2023-11-26T17:24:01.701905",
     "exception": false,
     "start_time": "2023-11-26T17:24:01.696650",
     "status": "completed"
    },
    "tags": []
   },
   "source": [
    "#### Evaluate Model"
   ]
  },
  {
   "cell_type": "code",
   "execution_count": 14,
   "id": "664754e0",
   "metadata": {
    "execution": {
     "iopub.execute_input": "2023-11-26T17:24:01.714449Z",
     "iopub.status.busy": "2023-11-26T17:24:01.714019Z",
     "iopub.status.idle": "2023-11-26T17:24:01.718514Z",
     "shell.execute_reply": "2023-11-26T17:24:01.717524Z"
    },
    "papermill": {
     "duration": 0.014297,
     "end_time": "2023-11-26T17:24:01.721607",
     "exception": false,
     "start_time": "2023-11-26T17:24:01.707310",
     "status": "completed"
    },
    "tags": []
   },
   "outputs": [],
   "source": [
    "from sklearn.metrics import mean_squared_error"
   ]
  },
  {
   "cell_type": "code",
   "execution_count": 15,
   "id": "3d88286b",
   "metadata": {
    "execution": {
     "iopub.execute_input": "2023-11-26T17:24:01.757502Z",
     "iopub.status.busy": "2023-11-26T17:24:01.757031Z",
     "iopub.status.idle": "2023-11-26T17:24:01.764712Z",
     "shell.execute_reply": "2023-11-26T17:24:01.763950Z"
    },
    "papermill": {
     "duration": 0.039459,
     "end_time": "2023-11-26T17:24:01.767545",
     "exception": false,
     "start_time": "2023-11-26T17:24:01.728086",
     "status": "completed"
    },
    "tags": []
   },
   "outputs": [
    {
     "data": {
      "text/plain": [
       "24.83503670180484"
      ]
     },
     "execution_count": 15,
     "metadata": {},
     "output_type": "execute_result"
    }
   ],
   "source": [
    "mean_squared_error(df_pred.y_true, df_pred.y_pred_scaled_inverse, squared=False)"
   ]
  },
  {
   "cell_type": "code",
   "execution_count": 16,
   "id": "3f1a6599",
   "metadata": {
    "execution": {
     "iopub.execute_input": "2023-11-26T17:24:01.788692Z",
     "iopub.status.busy": "2023-11-26T17:24:01.788350Z",
     "iopub.status.idle": "2023-11-26T17:24:01.819334Z",
     "shell.execute_reply": "2023-11-26T17:24:01.818551Z"
    },
    "papermill": {
     "duration": 0.041942,
     "end_time": "2023-11-26T17:24:01.821598",
     "exception": false,
     "start_time": "2023-11-26T17:24:01.779656",
     "status": "completed"
    },
    "tags": []
   },
   "outputs": [],
   "source": [
    "model.save(f'../models/{region}.keras')"
   ]
  }
 ],
 "metadata": {
  "kernelspec": {
   "display_name": "deep-learning",
   "language": "python",
   "name": "python3"
  },
  "language_info": {
   "codemirror_mode": {
    "name": "ipython",
    "version": 3
   },
   "file_extension": ".py",
   "mimetype": "text/x-python",
   "name": "python",
   "nbconvert_exporter": "python",
   "pygments_lexer": "ipython3",
   "version": "3.9.18"
  },
  "papermill": {
   "default_parameters": {},
   "duration": 133.857206,
   "end_time": "2023-11-26T17:24:02.858576",
   "environment_variables": {},
   "exception": null,
   "input_path": "Modelling.ipynb",
   "output_path": "outputs/ME.ipynb",
   "parameters": {
    "region": "ME"
   },
   "start_time": "2023-11-26T17:21:49.001370",
   "version": "2.5.0"
  }
 },
 "nbformat": 4,
 "nbformat_minor": 5
}