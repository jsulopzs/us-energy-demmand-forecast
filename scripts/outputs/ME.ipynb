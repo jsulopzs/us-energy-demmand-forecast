{
 "cells": [
  {
   "attachments": {},
   "cell_type": "markdown",
   "id": "be8471a6",
   "metadata": {
    "papermill": {
     "duration": 0.006115,
     "end_time": "2023-12-13T13:28:46.394766",
     "exception": false,
     "start_time": "2023-12-13T13:28:46.388651",
     "status": "completed"
    },
    "tags": []
   },
   "source": [
    "## Load data"
   ]
  },
  {
   "cell_type": "code",
   "execution_count": 1,
   "id": "01538778",
   "metadata": {
    "execution": {
     "iopub.execute_input": "2023-12-13T13:28:46.412768Z",
     "iopub.status.busy": "2023-12-13T13:28:46.412768Z",
     "iopub.status.idle": "2023-12-13T13:28:46.768264Z",
     "shell.execute_reply": "2023-12-13T13:28:46.767264Z"
    },
    "papermill": {
     "duration": 0.366499,
     "end_time": "2023-12-13T13:28:46.769264",
     "exception": false,
     "start_time": "2023-12-13T13:28:46.402765",
     "status": "completed"
    },
    "tags": []
   },
   "outputs": [],
   "source": [
    "import pandas as pd"
   ]
  },
  {
   "cell_type": "code",
   "execution_count": 2,
   "id": "d826b9d7",
   "metadata": {
    "execution": {
     "iopub.execute_input": "2023-12-13T13:28:46.785267Z",
     "iopub.status.busy": "2023-12-13T13:28:46.784268Z",
     "iopub.status.idle": "2023-12-13T13:28:46.911113Z",
     "shell.execute_reply": "2023-12-13T13:28:46.911113Z"
    },
    "papermill": {
     "duration": 0.136851,
     "end_time": "2023-12-13T13:28:46.913116",
     "exception": false,
     "start_time": "2023-12-13T13:28:46.776265",
     "status": "completed"
    },
    "tags": []
   },
   "outputs": [
    {
     "data": {
      "text/html": [
       "<div>\n",
       "<style scoped>\n",
       "    .dataframe tbody tr th:only-of-type {\n",
       "        vertical-align: middle;\n",
       "    }\n",
       "\n",
       "    .dataframe tbody tr th {\n",
       "        vertical-align: top;\n",
       "    }\n",
       "\n",
       "    .dataframe thead th {\n",
       "        text-align: right;\n",
       "    }\n",
       "</style>\n",
       "<table border=\"1\" class=\"dataframe\">\n",
       "  <thead>\n",
       "    <tr style=\"text-align: right;\">\n",
       "      <th></th>\n",
       "      <th>AE</th>\n",
       "      <th>AEP</th>\n",
       "      <th>AP</th>\n",
       "      <th>ATSI</th>\n",
       "      <th>BC</th>\n",
       "      <th>CE</th>\n",
       "      <th>DAY</th>\n",
       "      <th>DEOK</th>\n",
       "      <th>DOM</th>\n",
       "      <th>DPL</th>\n",
       "      <th>DUQ</th>\n",
       "      <th>EKPC</th>\n",
       "      <th>JC</th>\n",
       "      <th>ME</th>\n",
       "      <th>PE</th>\n",
       "      <th>PEP</th>\n",
       "      <th>PL</th>\n",
       "      <th>PN</th>\n",
       "      <th>PS</th>\n",
       "      <th>RECO</th>\n",
       "    </tr>\n",
       "    <tr>\n",
       "      <th>period</th>\n",
       "      <th></th>\n",
       "      <th></th>\n",
       "      <th></th>\n",
       "      <th></th>\n",
       "      <th></th>\n",
       "      <th></th>\n",
       "      <th></th>\n",
       "      <th></th>\n",
       "      <th></th>\n",
       "      <th></th>\n",
       "      <th></th>\n",
       "      <th></th>\n",
       "      <th></th>\n",
       "      <th></th>\n",
       "      <th></th>\n",
       "      <th></th>\n",
       "      <th></th>\n",
       "      <th></th>\n",
       "      <th></th>\n",
       "      <th></th>\n",
       "    </tr>\n",
       "  </thead>\n",
       "  <tbody>\n",
       "    <tr>\n",
       "      <th>2018-07-01 05:00:00</th>\n",
       "      <td>1301</td>\n",
       "      <td>12187</td>\n",
       "      <td>4384</td>\n",
       "      <td>6960</td>\n",
       "      <td>3134</td>\n",
       "      <td>12136</td>\n",
       "      <td>1619</td>\n",
       "      <td>2895</td>\n",
       "      <td>9775</td>\n",
       "      <td>1919</td>\n",
       "      <td>1466</td>\n",
       "      <td>1209</td>\n",
       "      <td>2388</td>\n",
       "      <td>1442</td>\n",
       "      <td>4397</td>\n",
       "      <td>3165</td>\n",
       "      <td>3835</td>\n",
       "      <td>1611</td>\n",
       "      <td>5009</td>\n",
       "      <td>186</td>\n",
       "    </tr>\n",
       "    <tr>\n",
       "      <th>2018-07-01 06:00:00</th>\n",
       "      <td>1314</td>\n",
       "      <td>11946</td>\n",
       "      <td>4391</td>\n",
       "      <td>6762</td>\n",
       "      <td>3139</td>\n",
       "      <td>11872</td>\n",
       "      <td>1605</td>\n",
       "      <td>2857</td>\n",
       "      <td>9787</td>\n",
       "      <td>1950</td>\n",
       "      <td>1455</td>\n",
       "      <td>1197</td>\n",
       "      <td>2416</td>\n",
       "      <td>1465</td>\n",
       "      <td>4423</td>\n",
       "      <td>3156</td>\n",
       "      <td>3901</td>\n",
       "      <td>1641</td>\n",
       "      <td>4990</td>\n",
       "      <td>187</td>\n",
       "    </tr>\n",
       "    <tr>\n",
       "      <th>2018-07-01 07:00:00</th>\n",
       "      <td>1410</td>\n",
       "      <td>12664</td>\n",
       "      <td>4757</td>\n",
       "      <td>6670</td>\n",
       "      <td>3377</td>\n",
       "      <td>11992</td>\n",
       "      <td>1707</td>\n",
       "      <td>2997</td>\n",
       "      <td>10453</td>\n",
       "      <td>2160</td>\n",
       "      <td>1528</td>\n",
       "      <td>1273</td>\n",
       "      <td>2644</td>\n",
       "      <td>1605</td>\n",
       "      <td>4743</td>\n",
       "      <td>3332</td>\n",
       "      <td>4232</td>\n",
       "      <td>1728</td>\n",
       "      <td>5267</td>\n",
       "      <td>202</td>\n",
       "    </tr>\n",
       "    <tr>\n",
       "      <th>2018-07-01 08:00:00</th>\n",
       "      <td>1567</td>\n",
       "      <td>14069</td>\n",
       "      <td>5308</td>\n",
       "      <td>7065</td>\n",
       "      <td>3788</td>\n",
       "      <td>12860</td>\n",
       "      <td>1916</td>\n",
       "      <td>3331</td>\n",
       "      <td>11734</td>\n",
       "      <td>2470</td>\n",
       "      <td>1688</td>\n",
       "      <td>1472</td>\n",
       "      <td>3064</td>\n",
       "      <td>1784</td>\n",
       "      <td>5230</td>\n",
       "      <td>3679</td>\n",
       "      <td>4613</td>\n",
       "      <td>1899</td>\n",
       "      <td>5735</td>\n",
       "      <td>230</td>\n",
       "    </tr>\n",
       "    <tr>\n",
       "      <th>2018-07-01 09:00:00</th>\n",
       "      <td>1749</td>\n",
       "      <td>15610</td>\n",
       "      <td>5862</td>\n",
       "      <td>7833</td>\n",
       "      <td>4262</td>\n",
       "      <td>14212</td>\n",
       "      <td>2145</td>\n",
       "      <td>3703</td>\n",
       "      <td>13084</td>\n",
       "      <td>2765</td>\n",
       "      <td>1875</td>\n",
       "      <td>1656</td>\n",
       "      <td>3569</td>\n",
       "      <td>1972</td>\n",
       "      <td>5752</td>\n",
       "      <td>4085</td>\n",
       "      <td>5014</td>\n",
       "      <td>2055</td>\n",
       "      <td>6299</td>\n",
       "      <td>259</td>\n",
       "    </tr>\n",
       "  </tbody>\n",
       "</table>\n",
       "</div>"
      ],
      "text/plain": [
       "                       AE    AEP    AP  ATSI    BC     CE   DAY  DEOK    DOM  \\\n",
       "period                                                                         \n",
       "2018-07-01 05:00:00  1301  12187  4384  6960  3134  12136  1619  2895   9775   \n",
       "2018-07-01 06:00:00  1314  11946  4391  6762  3139  11872  1605  2857   9787   \n",
       "2018-07-01 07:00:00  1410  12664  4757  6670  3377  11992  1707  2997  10453   \n",
       "2018-07-01 08:00:00  1567  14069  5308  7065  3788  12860  1916  3331  11734   \n",
       "2018-07-01 09:00:00  1749  15610  5862  7833  4262  14212  2145  3703  13084   \n",
       "\n",
       "                      DPL   DUQ  EKPC    JC    ME    PE   PEP    PL    PN  \\\n",
       "period                                                                      \n",
       "2018-07-01 05:00:00  1919  1466  1209  2388  1442  4397  3165  3835  1611   \n",
       "2018-07-01 06:00:00  1950  1455  1197  2416  1465  4423  3156  3901  1641   \n",
       "2018-07-01 07:00:00  2160  1528  1273  2644  1605  4743  3332  4232  1728   \n",
       "2018-07-01 08:00:00  2470  1688  1472  3064  1784  5230  3679  4613  1899   \n",
       "2018-07-01 09:00:00  2765  1875  1656  3569  1972  5752  4085  5014  2055   \n",
       "\n",
       "                       PS  RECO  \n",
       "period                           \n",
       "2018-07-01 05:00:00  5009   186  \n",
       "2018-07-01 06:00:00  4990   187  \n",
       "2018-07-01 07:00:00  5267   202  \n",
       "2018-07-01 08:00:00  5735   230  \n",
       "2018-07-01 09:00:00  6299   259  "
      ]
     },
     "execution_count": 2,
     "metadata": {},
     "output_type": "execute_result"
    }
   ],
   "source": [
    "df_base = pd.read_csv('../data/general/pjm_pivot.csv', index_col=0, parse_dates=True)\n",
    "df_base.head()"
   ]
  },
  {
   "attachments": {},
   "cell_type": "markdown",
   "id": "4c26ef1f",
   "metadata": {
    "papermill": {
     "duration": 0.007002,
     "end_time": "2023-12-13T13:28:46.926119",
     "exception": false,
     "start_time": "2023-12-13T13:28:46.919117",
     "status": "completed"
    },
    "tags": []
   },
   "source": [
    "## Select region"
   ]
  },
  {
   "cell_type": "code",
   "execution_count": 3,
   "id": "7633bea9",
   "metadata": {
    "execution": {
     "iopub.execute_input": "2023-12-13T13:28:46.942123Z",
     "iopub.status.busy": "2023-12-13T13:28:46.942123Z",
     "iopub.status.idle": "2023-12-13T13:28:46.957636Z",
     "shell.execute_reply": "2023-12-13T13:28:46.957636Z"
    },
    "papermill": {
     "duration": 0.026516,
     "end_time": "2023-12-13T13:28:46.959637",
     "exception": false,
     "start_time": "2023-12-13T13:28:46.933121",
     "status": "completed"
    },
    "tags": [
     "parameters"
    ]
   },
   "outputs": [],
   "source": [
    "region = 'AE'"
   ]
  },
  {
   "cell_type": "code",
   "execution_count": 4,
   "id": "5d5edf42",
   "metadata": {
    "execution": {
     "iopub.execute_input": "2023-12-13T13:28:46.974640Z",
     "iopub.status.busy": "2023-12-13T13:28:46.973639Z",
     "iopub.status.idle": "2023-12-13T13:28:46.989707Z",
     "shell.execute_reply": "2023-12-13T13:28:46.989707Z"
    },
    "papermill": {
     "duration": 0.026069,
     "end_time": "2023-12-13T13:28:46.991707",
     "exception": false,
     "start_time": "2023-12-13T13:28:46.965638",
     "status": "completed"
    },
    "tags": [
     "injected-parameters"
    ]
   },
   "outputs": [],
   "source": [
    "# Parameters\n",
    "region = \"ME\"\n"
   ]
  },
  {
   "cell_type": "code",
   "execution_count": 5,
   "id": "1a7294ce",
   "metadata": {
    "execution": {
     "iopub.execute_input": "2023-12-13T13:28:47.006711Z",
     "iopub.status.busy": "2023-12-13T13:28:47.005710Z",
     "iopub.status.idle": "2023-12-13T13:28:47.021714Z",
     "shell.execute_reply": "2023-12-13T13:28:47.021714Z"
    },
    "papermill": {
     "duration": 0.026006,
     "end_time": "2023-12-13T13:28:47.023715",
     "exception": false,
     "start_time": "2023-12-13T13:28:46.997709",
     "status": "completed"
    },
    "tags": []
   },
   "outputs": [
    {
     "data": {
      "text/html": [
       "<div>\n",
       "<style scoped>\n",
       "    .dataframe tbody tr th:only-of-type {\n",
       "        vertical-align: middle;\n",
       "    }\n",
       "\n",
       "    .dataframe tbody tr th {\n",
       "        vertical-align: top;\n",
       "    }\n",
       "\n",
       "    .dataframe thead th {\n",
       "        text-align: right;\n",
       "    }\n",
       "</style>\n",
       "<table border=\"1\" class=\"dataframe\">\n",
       "  <thead>\n",
       "    <tr style=\"text-align: right;\">\n",
       "      <th></th>\n",
       "      <th>ME</th>\n",
       "    </tr>\n",
       "    <tr>\n",
       "      <th>period</th>\n",
       "      <th></th>\n",
       "    </tr>\n",
       "  </thead>\n",
       "  <tbody>\n",
       "    <tr>\n",
       "      <th>2018-07-01 05:00:00</th>\n",
       "      <td>1442</td>\n",
       "    </tr>\n",
       "    <tr>\n",
       "      <th>2018-07-01 06:00:00</th>\n",
       "      <td>1465</td>\n",
       "    </tr>\n",
       "    <tr>\n",
       "      <th>2018-07-01 07:00:00</th>\n",
       "      <td>1605</td>\n",
       "    </tr>\n",
       "    <tr>\n",
       "      <th>2018-07-01 08:00:00</th>\n",
       "      <td>1784</td>\n",
       "    </tr>\n",
       "    <tr>\n",
       "      <th>2018-07-01 09:00:00</th>\n",
       "      <td>1972</td>\n",
       "    </tr>\n",
       "    <tr>\n",
       "      <th>...</th>\n",
       "      <td>...</td>\n",
       "    </tr>\n",
       "    <tr>\n",
       "      <th>2023-11-01 00:00:00</th>\n",
       "      <td>1793</td>\n",
       "    </tr>\n",
       "    <tr>\n",
       "      <th>2023-11-01 01:00:00</th>\n",
       "      <td>1793</td>\n",
       "    </tr>\n",
       "    <tr>\n",
       "      <th>2023-11-01 02:00:00</th>\n",
       "      <td>1756</td>\n",
       "    </tr>\n",
       "    <tr>\n",
       "      <th>2023-11-01 03:00:00</th>\n",
       "      <td>1669</td>\n",
       "    </tr>\n",
       "    <tr>\n",
       "      <th>2023-11-01 04:00:00</th>\n",
       "      <td>1581</td>\n",
       "    </tr>\n",
       "  </tbody>\n",
       "</table>\n",
       "<p>44904 rows × 1 columns</p>\n",
       "</div>"
      ],
      "text/plain": [
       "                       ME\n",
       "period                   \n",
       "2018-07-01 05:00:00  1442\n",
       "2018-07-01 06:00:00  1465\n",
       "2018-07-01 07:00:00  1605\n",
       "2018-07-01 08:00:00  1784\n",
       "2018-07-01 09:00:00  1972\n",
       "...                   ...\n",
       "2023-11-01 00:00:00  1793\n",
       "2023-11-01 01:00:00  1793\n",
       "2023-11-01 02:00:00  1756\n",
       "2023-11-01 03:00:00  1669\n",
       "2023-11-01 04:00:00  1581\n",
       "\n",
       "[44904 rows x 1 columns]"
      ]
     },
     "execution_count": 5,
     "metadata": {},
     "output_type": "execute_result"
    }
   ],
   "source": [
    "df = df_base.loc[:, [region]]\n",
    "df"
   ]
  },
  {
   "attachments": {},
   "cell_type": "markdown",
   "id": "8b150331",
   "metadata": {
    "papermill": {
     "duration": 0.006001,
     "end_time": "2023-12-13T13:28:47.036718",
     "exception": false,
     "start_time": "2023-12-13T13:28:47.030717",
     "status": "completed"
    },
    "tags": []
   },
   "source": [
    "## Data Preprocessing"
   ]
  },
  {
   "cell_type": "markdown",
   "id": "bc4d33e6",
   "metadata": {
    "papermill": {
     "duration": 0.007001,
     "end_time": "2023-12-13T13:28:47.051721",
     "exception": false,
     "start_time": "2023-12-13T13:28:47.044720",
     "status": "completed"
    },
    "tags": []
   },
   "source": [
    "### Train Test Split"
   ]
  },
  {
   "cell_type": "code",
   "execution_count": 6,
   "id": "2db1a4a7",
   "metadata": {
    "execution": {
     "iopub.execute_input": "2023-12-13T13:28:47.067724Z",
     "iopub.status.busy": "2023-12-13T13:28:47.067724Z",
     "iopub.status.idle": "2023-12-13T13:28:47.516213Z",
     "shell.execute_reply": "2023-12-13T13:28:47.516213Z"
    },
    "papermill": {
     "duration": 0.458489,
     "end_time": "2023-12-13T13:28:47.518213",
     "exception": false,
     "start_time": "2023-12-13T13:28:47.059724",
     "status": "completed"
    },
    "tags": []
   },
   "outputs": [],
   "source": [
    "from sklearn.model_selection import train_test_split\n",
    "\n",
    "train, test = train_test_split(df, test_size=0.3, shuffle=False)\n",
    "test, prod = train_test_split(test, test_size=0.5, shuffle=False)"
   ]
  },
  {
   "cell_type": "markdown",
   "id": "464f12fb",
   "metadata": {
    "papermill": {
     "duration": 0.007001,
     "end_time": "2023-12-13T13:28:47.532216",
     "exception": false,
     "start_time": "2023-12-13T13:28:47.525215",
     "status": "completed"
    },
    "tags": []
   },
   "source": [
    "### Export Data"
   ]
  },
  {
   "cell_type": "code",
   "execution_count": 7,
   "id": "78e0f51b",
   "metadata": {
    "execution": {
     "iopub.execute_input": "2023-12-13T13:28:47.546220Z",
     "iopub.status.busy": "2023-12-13T13:28:47.546220Z",
     "iopub.status.idle": "2023-12-13T13:28:47.659455Z",
     "shell.execute_reply": "2023-12-13T13:28:47.659455Z"
    },
    "papermill": {
     "duration": 0.122241,
     "end_time": "2023-12-13T13:28:47.661459",
     "exception": false,
     "start_time": "2023-12-13T13:28:47.539218",
     "status": "completed"
    },
    "tags": []
   },
   "outputs": [],
   "source": [
    "import os\n",
    "\n",
    "path_region = f'../data/regions/{region}'\n",
    "\n",
    "if not os.path.exists(path_region):\n",
    "    os.makedirs(path_region)\n",
    "\n",
    "for df, name in zip([train, test, prod], ['train', 'test', 'prod']):\n",
    "    df.to_csv(f'{path_region}/{name}.csv')"
   ]
  },
  {
   "attachments": {},
   "cell_type": "markdown",
   "id": "db77000c",
   "metadata": {
    "papermill": {
     "duration": 0.007002,
     "end_time": "2023-12-13T13:28:47.675462",
     "exception": false,
     "start_time": "2023-12-13T13:28:47.668460",
     "status": "completed"
    },
    "tags": []
   },
   "source": [
    "### Scale Data"
   ]
  },
  {
   "cell_type": "code",
   "execution_count": 8,
   "id": "cd107eef",
   "metadata": {
    "execution": {
     "iopub.execute_input": "2023-12-13T13:28:47.689465Z",
     "iopub.status.busy": "2023-12-13T13:28:47.689465Z",
     "iopub.status.idle": "2023-12-13T13:28:47.706464Z",
     "shell.execute_reply": "2023-12-13T13:28:47.706464Z"
    },
    "papermill": {
     "duration": 0.027001,
     "end_time": "2023-12-13T13:28:47.708464",
     "exception": false,
     "start_time": "2023-12-13T13:28:47.681463",
     "status": "completed"
    },
    "tags": []
   },
   "outputs": [],
   "source": [
    "from sklearn.preprocessing import MinMaxScaler\n",
    "\n",
    "scaler = MinMaxScaler(feature_range=(0, 1))\n",
    "\n",
    "train_norm = scaler.fit_transform(train)\n",
    "test_norm = scaler.transform(test)"
   ]
  },
  {
   "attachments": {},
   "cell_type": "markdown",
   "id": "7a7a9d4c",
   "metadata": {
    "papermill": {
     "duration": 0.007003,
     "end_time": "2023-12-13T13:28:47.721468",
     "exception": false,
     "start_time": "2023-12-13T13:28:47.714465",
     "status": "completed"
    },
    "tags": []
   },
   "source": [
    "### Create Sequences"
   ]
  },
  {
   "cell_type": "code",
   "execution_count": 9,
   "id": "5c01ccac",
   "metadata": {
    "execution": {
     "iopub.execute_input": "2023-12-13T13:28:47.790834Z",
     "iopub.status.busy": "2023-12-13T13:28:47.789834Z",
     "iopub.status.idle": "2023-12-13T13:28:47.863850Z",
     "shell.execute_reply": "2023-12-13T13:28:47.863850Z"
    },
    "papermill": {
     "duration": 0.084018,
     "end_time": "2023-12-13T13:28:47.865850",
     "exception": false,
     "start_time": "2023-12-13T13:28:47.781832",
     "status": "completed"
    },
    "tags": []
   },
   "outputs": [],
   "source": [
    "import numpy as np\n",
    "\n",
    "def create_sequences(data, sequence_length):\n",
    "    X, y = [], []\n",
    "    for i in range(len(data) - sequence_length):\n",
    "        X.append(data[i:i+sequence_length])\n",
    "        y.append(data[i+sequence_length])\n",
    "    return np.array(X), np.array(y)\n",
    "\n",
    "sequence_length = 24 # Use 24 hours prior to predict the following hour\n",
    "X_train, y_train = create_sequences(train_norm, sequence_length)\n",
    "X_test, y_test = create_sequences(test_norm, sequence_length)"
   ]
  },
  {
   "attachments": {},
   "cell_type": "markdown",
   "id": "383d7eee",
   "metadata": {
    "papermill": {
     "duration": 0.008002,
     "end_time": "2023-12-13T13:28:47.880854",
     "exception": false,
     "start_time": "2023-12-13T13:28:47.872852",
     "status": "completed"
    },
    "tags": []
   },
   "source": [
    "## Modelling"
   ]
  },
  {
   "attachments": {},
   "cell_type": "markdown",
   "id": "3c153819",
   "metadata": {
    "papermill": {
     "duration": 0.009002,
     "end_time": "2023-12-13T13:28:47.897857",
     "exception": false,
     "start_time": "2023-12-13T13:28:47.888855",
     "status": "completed"
    },
    "tags": []
   },
   "source": [
    "### Design NN Architecture"
   ]
  },
  {
   "cell_type": "code",
   "execution_count": 10,
   "id": "0cfcd182",
   "metadata": {
    "execution": {
     "iopub.execute_input": "2023-12-13T13:28:47.913863Z",
     "iopub.status.busy": "2023-12-13T13:28:47.913863Z",
     "iopub.status.idle": "2023-12-13T13:28:49.308217Z",
     "shell.execute_reply": "2023-12-13T13:28:49.308217Z"
    },
    "papermill": {
     "duration": 1.405359,
     "end_time": "2023-12-13T13:28:49.310219",
     "exception": false,
     "start_time": "2023-12-13T13:28:47.904860",
     "status": "completed"
    },
    "tags": []
   },
   "outputs": [
    {
     "name": "stderr",
     "output_type": "stream",
     "text": [
      "c:\\Users\\jesus\\miniconda3\\envs\\tf-base\\lib\\site-packages\\tensorflow\\python\\framework\\dtypes.py:516: FutureWarning: Passing (type, 1) or '1type' as a synonym of type is deprecated; in a future version of numpy, it will be understood as (type, (1,)) / '(1,)type'.\n",
      "  _np_qint8 = np.dtype([(\"qint8\", np.int8, 1)])\n",
      "c:\\Users\\jesus\\miniconda3\\envs\\tf-base\\lib\\site-packages\\tensorflow\\python\\framework\\dtypes.py:517: FutureWarning: Passing (type, 1) or '1type' as a synonym of type is deprecated; in a future version of numpy, it will be understood as (type, (1,)) / '(1,)type'.\n",
      "  _np_quint8 = np.dtype([(\"quint8\", np.uint8, 1)])\n",
      "c:\\Users\\jesus\\miniconda3\\envs\\tf-base\\lib\\site-packages\\tensorflow\\python\\framework\\dtypes.py:518: FutureWarning: Passing (type, 1) or '1type' as a synonym of type is deprecated; in a future version of numpy, it will be understood as (type, (1,)) / '(1,)type'.\n",
      "  _np_qint16 = np.dtype([(\"qint16\", np.int16, 1)])\n",
      "c:\\Users\\jesus\\miniconda3\\envs\\tf-base\\lib\\site-packages\\tensorflow\\python\\framework\\dtypes.py:519: FutureWarning: Passing (type, 1) or '1type' as a synonym of type is deprecated; in a future version of numpy, it will be understood as (type, (1,)) / '(1,)type'.\n",
      "  _np_quint16 = np.dtype([(\"quint16\", np.uint16, 1)])\n",
      "c:\\Users\\jesus\\miniconda3\\envs\\tf-base\\lib\\site-packages\\tensorflow\\python\\framework\\dtypes.py:520: FutureWarning: Passing (type, 1) or '1type' as a synonym of type is deprecated; in a future version of numpy, it will be understood as (type, (1,)) / '(1,)type'.\n",
      "  _np_qint32 = np.dtype([(\"qint32\", np.int32, 1)])\n",
      "c:\\Users\\jesus\\miniconda3\\envs\\tf-base\\lib\\site-packages\\tensorflow\\python\\framework\\dtypes.py:525: FutureWarning: Passing (type, 1) or '1type' as a synonym of type is deprecated; in a future version of numpy, it will be understood as (type, (1,)) / '(1,)type'.\n",
      "  np_resource = np.dtype([(\"resource\", np.ubyte, 1)])\n"
     ]
    },
    {
     "name": "stdout",
     "output_type": "stream",
     "text": [
      "WARNING:tensorflow:From c:\\Users\\jesus\\miniconda3\\envs\\tf-base\\lib\\site-packages\\tensorflow\\python\\ops\\init_ops.py:1251: calling VarianceScaling.__init__ (from tensorflow.python.ops.init_ops) with dtype is deprecated and will be removed in a future version.\n",
      "Instructions for updating:\n",
      "Call initializer instance with the dtype argument instead of passing it to the constructor\n"
     ]
    },
    {
     "name": "stderr",
     "output_type": "stream",
     "text": [
      "c:\\Users\\jesus\\miniconda3\\envs\\tf-base\\lib\\site-packages\\tensorboard\\compat\\tensorflow_stub\\dtypes.py:541: FutureWarning: Passing (type, 1) or '1type' as a synonym of type is deprecated; in a future version of numpy, it will be understood as (type, (1,)) / '(1,)type'.\n",
      "  _np_qint8 = np.dtype([(\"qint8\", np.int8, 1)])\n",
      "c:\\Users\\jesus\\miniconda3\\envs\\tf-base\\lib\\site-packages\\tensorboard\\compat\\tensorflow_stub\\dtypes.py:542: FutureWarning: Passing (type, 1) or '1type' as a synonym of type is deprecated; in a future version of numpy, it will be understood as (type, (1,)) / '(1,)type'.\n",
      "  _np_quint8 = np.dtype([(\"quint8\", np.uint8, 1)])\n",
      "c:\\Users\\jesus\\miniconda3\\envs\\tf-base\\lib\\site-packages\\tensorboard\\compat\\tensorflow_stub\\dtypes.py:543: FutureWarning: Passing (type, 1) or '1type' as a synonym of type is deprecated; in a future version of numpy, it will be understood as (type, (1,)) / '(1,)type'.\n",
      "  _np_qint16 = np.dtype([(\"qint16\", np.int16, 1)])\n",
      "c:\\Users\\jesus\\miniconda3\\envs\\tf-base\\lib\\site-packages\\tensorboard\\compat\\tensorflow_stub\\dtypes.py:544: FutureWarning: Passing (type, 1) or '1type' as a synonym of type is deprecated; in a future version of numpy, it will be understood as (type, (1,)) / '(1,)type'.\n",
      "  _np_quint16 = np.dtype([(\"quint16\", np.uint16, 1)])\n",
      "c:\\Users\\jesus\\miniconda3\\envs\\tf-base\\lib\\site-packages\\tensorboard\\compat\\tensorflow_stub\\dtypes.py:545: FutureWarning: Passing (type, 1) or '1type' as a synonym of type is deprecated; in a future version of numpy, it will be understood as (type, (1,)) / '(1,)type'.\n",
      "  _np_qint32 = np.dtype([(\"qint32\", np.int32, 1)])\n",
      "c:\\Users\\jesus\\miniconda3\\envs\\tf-base\\lib\\site-packages\\tensorboard\\compat\\tensorflow_stub\\dtypes.py:550: FutureWarning: Passing (type, 1) or '1type' as a synonym of type is deprecated; in a future version of numpy, it will be understood as (type, (1,)) / '(1,)type'.\n",
      "  np_resource = np.dtype([(\"resource\", np.ubyte, 1)])\n"
     ]
    }
   ],
   "source": [
    "from tensorflow.keras.models import Sequential\n",
    "from tensorflow.keras.layers import LSTM, Dense\n",
    "\n",
    "model = Sequential()\n",
    "model.add(LSTM(50, input_shape=(X_train.shape[1], X_train.shape[2])))\n",
    "model.add(Dense(1))\n",
    "model.compile(optimizer='adam', loss='mean_squared_error')"
   ]
  },
  {
   "attachments": {},
   "cell_type": "markdown",
   "id": "45d727c2",
   "metadata": {
    "papermill": {
     "duration": 0.007001,
     "end_time": "2023-12-13T13:28:49.325221",
     "exception": false,
     "start_time": "2023-12-13T13:28:49.318220",
     "status": "completed"
    },
    "tags": []
   },
   "source": [
    "### Train Model"
   ]
  },
  {
   "cell_type": "code",
   "execution_count": 11,
   "id": "98f9ea25",
   "metadata": {
    "execution": {
     "iopub.execute_input": "2023-12-13T13:28:49.343226Z",
     "iopub.status.busy": "2023-12-13T13:28:49.342226Z",
     "iopub.status.idle": "2023-12-13T13:33:30.143802Z",
     "shell.execute_reply": "2023-12-13T13:33:30.143802Z"
    },
    "papermill": {
     "duration": 280.812783,
     "end_time": "2023-12-13T13:33:30.146007",
     "exception": false,
     "start_time": "2023-12-13T13:28:49.333224",
     "status": "completed"
    },
    "tags": []
   },
   "outputs": [
    {
     "name": "stdout",
     "output_type": "stream",
     "text": [
      "WARNING:tensorflow:From c:\\Users\\jesus\\miniconda3\\envs\\tf-base\\lib\\site-packages\\tensorflow\\python\\ops\\math_grad.py:1250: add_dispatch_support.<locals>.wrapper (from tensorflow.python.ops.array_ops) is deprecated and will be removed in a future version.\n",
      "Instructions for updating:\n",
      "Use tf.where in 2.0, which has the same broadcast rule as np.where\n"
     ]
    }
   ],
   "source": [
    "from tensorflow.keras.callbacks import EarlyStopping\n",
    "\n",
    "early_stop = EarlyStopping(monitor='val_loss', patience=5)\n",
    "\n",
    "history = model.fit(\n",
    "    X_train, y_train, epochs=50, batch_size=64, verbose=0,\n",
    "    validation_data=(X_test, y_test), callbacks=[early_stop])"
   ]
  },
  {
   "attachments": {},
   "cell_type": "markdown",
   "id": "cc914f05",
   "metadata": {
    "papermill": {
     "duration": 0.007002,
     "end_time": "2023-12-13T13:33:30.160041",
     "exception": false,
     "start_time": "2023-12-13T13:33:30.153039",
     "status": "completed"
    },
    "tags": []
   },
   "source": [
    "### Calculate Predictions"
   ]
  },
  {
   "cell_type": "code",
   "execution_count": 12,
   "id": "d7ebabbc",
   "metadata": {
    "execution": {
     "iopub.execute_input": "2023-12-13T13:33:30.178004Z",
     "iopub.status.busy": "2023-12-13T13:33:30.178004Z",
     "iopub.status.idle": "2023-12-13T13:33:30.697921Z",
     "shell.execute_reply": "2023-12-13T13:33:30.697921Z"
    },
    "papermill": {
     "duration": 0.530964,
     "end_time": "2023-12-13T13:33:30.699965",
     "exception": false,
     "start_time": "2023-12-13T13:33:30.169001",
     "status": "completed"
    },
    "tags": []
   },
   "outputs": [
    {
     "data": {
      "text/plain": [
       "array([[0.29759374],\n",
       "       [0.31567174],\n",
       "       [0.32710928],\n",
       "       ...,\n",
       "       [0.50034493],\n",
       "       [0.5585053 ],\n",
       "       [0.6195149 ]], dtype=float32)"
      ]
     },
     "execution_count": 12,
     "metadata": {},
     "output_type": "execute_result"
    }
   ],
   "source": [
    "y_pred = model.predict(X_test)\n",
    "y_pred"
   ]
  },
  {
   "attachments": {},
   "cell_type": "markdown",
   "id": "1ee260b3",
   "metadata": {
    "papermill": {
     "duration": 0.009205,
     "end_time": "2023-12-13T13:33:30.716105",
     "exception": false,
     "start_time": "2023-12-13T13:33:30.706900",
     "status": "completed"
    },
    "tags": []
   },
   "source": [
    "### Comparison: Real Data & Prediction"
   ]
  },
  {
   "attachments": {},
   "cell_type": "markdown",
   "id": "0be601e1",
   "metadata": {
    "papermill": {
     "duration": 0.008001,
     "end_time": "2023-12-13T13:33:30.732058",
     "exception": false,
     "start_time": "2023-12-13T13:33:30.724057",
     "status": "completed"
    },
    "tags": []
   },
   "source": [
    "#### Descale Data"
   ]
  },
  {
   "cell_type": "code",
   "execution_count": 13,
   "id": "69be8c6e",
   "metadata": {
    "execution": {
     "iopub.execute_input": "2023-12-13T13:33:30.749063Z",
     "iopub.status.busy": "2023-12-13T13:33:30.749063Z",
     "iopub.status.idle": "2023-12-13T13:33:30.769067Z",
     "shell.execute_reply": "2023-12-13T13:33:30.768067Z"
    },
    "papermill": {
     "duration": 0.032008,
     "end_time": "2023-12-13T13:33:30.771068",
     "exception": false,
     "start_time": "2023-12-13T13:33:30.739060",
     "status": "completed"
    },
    "tags": []
   },
   "outputs": [],
   "source": [
    "y_pred_scaled_inverse = scaler.inverse_transform(y_pred)\n",
    "y_true = scaler.inverse_transform(y_test)"
   ]
  },
  {
   "attachments": {},
   "cell_type": "markdown",
   "id": "6cebb090",
   "metadata": {
    "papermill": {
     "duration": 0.007002,
     "end_time": "2023-12-13T13:33:30.787072",
     "exception": false,
     "start_time": "2023-12-13T13:33:30.780070",
     "status": "completed"
    },
    "tags": []
   },
   "source": [
    "#### Create DataFrame"
   ]
  },
  {
   "cell_type": "code",
   "execution_count": 14,
   "id": "ba82d464",
   "metadata": {
    "execution": {
     "iopub.execute_input": "2023-12-13T13:33:30.805076Z",
     "iopub.status.busy": "2023-12-13T13:33:30.805076Z",
     "iopub.status.idle": "2023-12-13T13:33:30.816078Z",
     "shell.execute_reply": "2023-12-13T13:33:30.816078Z"
    },
    "papermill": {
     "duration": 0.023005,
     "end_time": "2023-12-13T13:33:30.818079",
     "exception": false,
     "start_time": "2023-12-13T13:33:30.795074",
     "status": "completed"
    },
    "tags": []
   },
   "outputs": [
    {
     "data": {
      "text/html": [
       "<div>\n",
       "<style scoped>\n",
       "    .dataframe tbody tr th:only-of-type {\n",
       "        vertical-align: middle;\n",
       "    }\n",
       "\n",
       "    .dataframe tbody tr th {\n",
       "        vertical-align: top;\n",
       "    }\n",
       "\n",
       "    .dataframe thead th {\n",
       "        text-align: right;\n",
       "    }\n",
       "</style>\n",
       "<table border=\"1\" class=\"dataframe\">\n",
       "  <thead>\n",
       "    <tr style=\"text-align: right;\">\n",
       "      <th></th>\n",
       "      <th>y_pred</th>\n",
       "      <th>y_pred_scaled_inverse</th>\n",
       "      <th>y_true</th>\n",
       "    </tr>\n",
       "  </thead>\n",
       "  <tbody>\n",
       "    <tr>\n",
       "      <th>0</th>\n",
       "      <td>0.297594</td>\n",
       "      <td>1294.126587</td>\n",
       "      <td>1306.0</td>\n",
       "    </tr>\n",
       "    <tr>\n",
       "      <th>1</th>\n",
       "      <td>0.315672</td>\n",
       "      <td>1339.755371</td>\n",
       "      <td>1342.0</td>\n",
       "    </tr>\n",
       "    <tr>\n",
       "      <th>2</th>\n",
       "      <td>0.327109</td>\n",
       "      <td>1368.623779</td>\n",
       "      <td>1404.0</td>\n",
       "    </tr>\n",
       "    <tr>\n",
       "      <th>3</th>\n",
       "      <td>0.351943</td>\n",
       "      <td>1431.305298</td>\n",
       "      <td>1492.0</td>\n",
       "    </tr>\n",
       "    <tr>\n",
       "      <th>4</th>\n",
       "      <td>0.381459</td>\n",
       "      <td>1505.803101</td>\n",
       "      <td>1475.0</td>\n",
       "    </tr>\n",
       "    <tr>\n",
       "      <th>...</th>\n",
       "      <td>...</td>\n",
       "      <td>...</td>\n",
       "      <td>...</td>\n",
       "    </tr>\n",
       "    <tr>\n",
       "      <th>6707</th>\n",
       "      <td>0.445587</td>\n",
       "      <td>1667.661621</td>\n",
       "      <td>1663.0</td>\n",
       "    </tr>\n",
       "    <tr>\n",
       "      <th>6708</th>\n",
       "      <td>0.464605</td>\n",
       "      <td>1715.663940</td>\n",
       "      <td>1712.0</td>\n",
       "    </tr>\n",
       "    <tr>\n",
       "      <th>6709</th>\n",
       "      <td>0.500345</td>\n",
       "      <td>1805.870483</td>\n",
       "      <td>1824.0</td>\n",
       "    </tr>\n",
       "    <tr>\n",
       "      <th>6710</th>\n",
       "      <td>0.558505</td>\n",
       "      <td>1952.667358</td>\n",
       "      <td>1986.0</td>\n",
       "    </tr>\n",
       "    <tr>\n",
       "      <th>6711</th>\n",
       "      <td>0.619515</td>\n",
       "      <td>2106.655518</td>\n",
       "      <td>2094.0</td>\n",
       "    </tr>\n",
       "  </tbody>\n",
       "</table>\n",
       "<p>6712 rows × 3 columns</p>\n",
       "</div>"
      ],
      "text/plain": [
       "        y_pred  y_pred_scaled_inverse  y_true\n",
       "0     0.297594            1294.126587  1306.0\n",
       "1     0.315672            1339.755371  1342.0\n",
       "2     0.327109            1368.623779  1404.0\n",
       "3     0.351943            1431.305298  1492.0\n",
       "4     0.381459            1505.803101  1475.0\n",
       "...        ...                    ...     ...\n",
       "6707  0.445587            1667.661621  1663.0\n",
       "6708  0.464605            1715.663940  1712.0\n",
       "6709  0.500345            1805.870483  1824.0\n",
       "6710  0.558505            1952.667358  1986.0\n",
       "6711  0.619515            2106.655518  2094.0\n",
       "\n",
       "[6712 rows x 3 columns]"
      ]
     },
     "execution_count": 14,
     "metadata": {},
     "output_type": "execute_result"
    }
   ],
   "source": [
    "dic_pred = {\n",
    "    'y_pred': y_pred.flatten(),\n",
    "    'y_pred_scaled_inverse': y_pred_scaled_inverse.flatten(),\n",
    "    'y_true': y_true.flatten(),\n",
    "}\n",
    "\n",
    "df_pred = pd.DataFrame(dic_pred)\n",
    "df_pred"
   ]
  },
  {
   "attachments": {},
   "cell_type": "markdown",
   "id": "32bab387",
   "metadata": {
    "papermill": {
     "duration": 0.008002,
     "end_time": "2023-12-13T13:33:30.834082",
     "exception": false,
     "start_time": "2023-12-13T13:33:30.826080",
     "status": "completed"
    },
    "tags": []
   },
   "source": [
    "#### Evaluate Model"
   ]
  },
  {
   "cell_type": "code",
   "execution_count": 15,
   "id": "caae61a3",
   "metadata": {
    "execution": {
     "iopub.execute_input": "2023-12-13T13:33:30.851087Z",
     "iopub.status.busy": "2023-12-13T13:33:30.851087Z",
     "iopub.status.idle": "2023-12-13T13:33:30.865092Z",
     "shell.execute_reply": "2023-12-13T13:33:30.864092Z"
    },
    "papermill": {
     "duration": 0.025008,
     "end_time": "2023-12-13T13:33:30.867092",
     "exception": false,
     "start_time": "2023-12-13T13:33:30.842084",
     "status": "completed"
    },
    "tags": []
   },
   "outputs": [],
   "source": [
    "from sklearn.metrics import mean_squared_error"
   ]
  },
  {
   "cell_type": "code",
   "execution_count": 16,
   "id": "5c49bfe3",
   "metadata": {
    "execution": {
     "iopub.execute_input": "2023-12-13T13:33:30.885097Z",
     "iopub.status.busy": "2023-12-13T13:33:30.885097Z",
     "iopub.status.idle": "2023-12-13T13:33:30.894098Z",
     "shell.execute_reply": "2023-12-13T13:33:30.894098Z"
    },
    "papermill": {
     "duration": 0.020005,
     "end_time": "2023-12-13T13:33:30.896099",
     "exception": false,
     "start_time": "2023-12-13T13:33:30.876094",
     "status": "completed"
    },
    "tags": []
   },
   "outputs": [
    {
     "data": {
      "text/plain": [
       "23.850989911523218"
      ]
     },
     "execution_count": 16,
     "metadata": {},
     "output_type": "execute_result"
    }
   ],
   "source": [
    "mean_squared_error(df_pred.y_true, df_pred.y_pred_scaled_inverse, squared=False)"
   ]
  },
  {
   "cell_type": "code",
   "execution_count": 17,
   "id": "700f0e9c",
   "metadata": {
    "execution": {
     "iopub.execute_input": "2023-12-13T13:33:30.915103Z",
     "iopub.status.busy": "2023-12-13T13:33:30.914104Z",
     "iopub.status.idle": "2023-12-13T13:33:31.006111Z",
     "shell.execute_reply": "2023-12-13T13:33:31.006111Z"
    },
    "papermill": {
     "duration": 0.105011,
     "end_time": "2023-12-13T13:33:31.008111",
     "exception": false,
     "start_time": "2023-12-13T13:33:30.903100",
     "status": "completed"
    },
    "tags": []
   },
   "outputs": [],
   "source": [
    "model.save(f'../models/{region}.keras')"
   ]
  }
 ],
 "metadata": {
  "kernelspec": {
   "display_name": "deep-learning",
   "language": "python",
   "name": "python3"
  },
  "language_info": {
   "codemirror_mode": {
    "name": "ipython",
    "version": 3
   },
   "file_extension": ".py",
   "mimetype": "text/x-python",
   "name": "python",
   "nbconvert_exporter": "python",
   "pygments_lexer": "ipython3",
   "version": "3.7.12"
  },
  "papermill": {
   "default_parameters": {},
   "duration": 286.444077,
   "end_time": "2023-12-13T13:33:31.484465",
   "environment_variables": {},
   "exception": null,
   "input_path": "Modelling.ipynb",
   "output_path": "outputs/ME.ipynb",
   "parameters": {
    "region": "ME"
   },
   "start_time": "2023-12-13T13:28:45.040388",
   "version": "2.4.0"
  }
 },
 "nbformat": 4,
 "nbformat_minor": 5
}