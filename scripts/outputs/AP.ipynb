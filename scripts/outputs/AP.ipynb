{
 "cells": [
  {
   "attachments": {},
   "cell_type": "markdown",
   "id": "826138ba",
   "metadata": {
    "papermill": {
     "duration": 0.006079,
     "end_time": "2023-12-13T12:50:25.775308",
     "exception": false,
     "start_time": "2023-12-13T12:50:25.769229",
     "status": "completed"
    },
    "tags": []
   },
   "source": [
    "## Load data"
   ]
  },
  {
   "cell_type": "code",
   "execution_count": 1,
   "id": "bbe0ff82",
   "metadata": {
    "execution": {
     "iopub.execute_input": "2023-12-13T12:50:25.791390Z",
     "iopub.status.busy": "2023-12-13T12:50:25.791390Z",
     "iopub.status.idle": "2023-12-13T12:50:26.148144Z",
     "shell.execute_reply": "2023-12-13T12:50:26.148144Z"
    },
    "papermill": {
     "duration": 0.367756,
     "end_time": "2023-12-13T12:50:26.150144",
     "exception": false,
     "start_time": "2023-12-13T12:50:25.782388",
     "status": "completed"
    },
    "tags": []
   },
   "outputs": [],
   "source": [
    "import pandas as pd"
   ]
  },
  {
   "cell_type": "code",
   "execution_count": 2,
   "id": "ef173a20",
   "metadata": {
    "execution": {
     "iopub.execute_input": "2023-12-13T12:50:26.164148Z",
     "iopub.status.busy": "2023-12-13T12:50:26.164148Z",
     "iopub.status.idle": "2023-12-13T12:50:26.288559Z",
     "shell.execute_reply": "2023-12-13T12:50:26.288559Z"
    },
    "papermill": {
     "duration": 0.133413,
     "end_time": "2023-12-13T12:50:26.290559",
     "exception": false,
     "start_time": "2023-12-13T12:50:26.157146",
     "status": "completed"
    },
    "tags": []
   },
   "outputs": [
    {
     "data": {
      "text/html": [
       "<div>\n",
       "<style scoped>\n",
       "    .dataframe tbody tr th:only-of-type {\n",
       "        vertical-align: middle;\n",
       "    }\n",
       "\n",
       "    .dataframe tbody tr th {\n",
       "        vertical-align: top;\n",
       "    }\n",
       "\n",
       "    .dataframe thead th {\n",
       "        text-align: right;\n",
       "    }\n",
       "</style>\n",
       "<table border=\"1\" class=\"dataframe\">\n",
       "  <thead>\n",
       "    <tr style=\"text-align: right;\">\n",
       "      <th></th>\n",
       "      <th>AE</th>\n",
       "      <th>AEP</th>\n",
       "      <th>AP</th>\n",
       "      <th>ATSI</th>\n",
       "      <th>BC</th>\n",
       "      <th>CE</th>\n",
       "      <th>DAY</th>\n",
       "      <th>DEOK</th>\n",
       "      <th>DOM</th>\n",
       "      <th>DPL</th>\n",
       "      <th>DUQ</th>\n",
       "      <th>EKPC</th>\n",
       "      <th>JC</th>\n",
       "      <th>ME</th>\n",
       "      <th>PE</th>\n",
       "      <th>PEP</th>\n",
       "      <th>PL</th>\n",
       "      <th>PN</th>\n",
       "      <th>PS</th>\n",
       "      <th>RECO</th>\n",
       "    </tr>\n",
       "    <tr>\n",
       "      <th>period</th>\n",
       "      <th></th>\n",
       "      <th></th>\n",
       "      <th></th>\n",
       "      <th></th>\n",
       "      <th></th>\n",
       "      <th></th>\n",
       "      <th></th>\n",
       "      <th></th>\n",
       "      <th></th>\n",
       "      <th></th>\n",
       "      <th></th>\n",
       "      <th></th>\n",
       "      <th></th>\n",
       "      <th></th>\n",
       "      <th></th>\n",
       "      <th></th>\n",
       "      <th></th>\n",
       "      <th></th>\n",
       "      <th></th>\n",
       "      <th></th>\n",
       "    </tr>\n",
       "  </thead>\n",
       "  <tbody>\n",
       "    <tr>\n",
       "      <th>2018-07-01 05:00:00</th>\n",
       "      <td>1301</td>\n",
       "      <td>12187</td>\n",
       "      <td>4384</td>\n",
       "      <td>6960</td>\n",
       "      <td>3134</td>\n",
       "      <td>12136</td>\n",
       "      <td>1619</td>\n",
       "      <td>2895</td>\n",
       "      <td>9775</td>\n",
       "      <td>1919</td>\n",
       "      <td>1466</td>\n",
       "      <td>1209</td>\n",
       "      <td>2388</td>\n",
       "      <td>1442</td>\n",
       "      <td>4397</td>\n",
       "      <td>3165</td>\n",
       "      <td>3835</td>\n",
       "      <td>1611</td>\n",
       "      <td>5009</td>\n",
       "      <td>186</td>\n",
       "    </tr>\n",
       "    <tr>\n",
       "      <th>2018-07-01 06:00:00</th>\n",
       "      <td>1314</td>\n",
       "      <td>11946</td>\n",
       "      <td>4391</td>\n",
       "      <td>6762</td>\n",
       "      <td>3139</td>\n",
       "      <td>11872</td>\n",
       "      <td>1605</td>\n",
       "      <td>2857</td>\n",
       "      <td>9787</td>\n",
       "      <td>1950</td>\n",
       "      <td>1455</td>\n",
       "      <td>1197</td>\n",
       "      <td>2416</td>\n",
       "      <td>1465</td>\n",
       "      <td>4423</td>\n",
       "      <td>3156</td>\n",
       "      <td>3901</td>\n",
       "      <td>1641</td>\n",
       "      <td>4990</td>\n",
       "      <td>187</td>\n",
       "    </tr>\n",
       "    <tr>\n",
       "      <th>2018-07-01 07:00:00</th>\n",
       "      <td>1410</td>\n",
       "      <td>12664</td>\n",
       "      <td>4757</td>\n",
       "      <td>6670</td>\n",
       "      <td>3377</td>\n",
       "      <td>11992</td>\n",
       "      <td>1707</td>\n",
       "      <td>2997</td>\n",
       "      <td>10453</td>\n",
       "      <td>2160</td>\n",
       "      <td>1528</td>\n",
       "      <td>1273</td>\n",
       "      <td>2644</td>\n",
       "      <td>1605</td>\n",
       "      <td>4743</td>\n",
       "      <td>3332</td>\n",
       "      <td>4232</td>\n",
       "      <td>1728</td>\n",
       "      <td>5267</td>\n",
       "      <td>202</td>\n",
       "    </tr>\n",
       "    <tr>\n",
       "      <th>2018-07-01 08:00:00</th>\n",
       "      <td>1567</td>\n",
       "      <td>14069</td>\n",
       "      <td>5308</td>\n",
       "      <td>7065</td>\n",
       "      <td>3788</td>\n",
       "      <td>12860</td>\n",
       "      <td>1916</td>\n",
       "      <td>3331</td>\n",
       "      <td>11734</td>\n",
       "      <td>2470</td>\n",
       "      <td>1688</td>\n",
       "      <td>1472</td>\n",
       "      <td>3064</td>\n",
       "      <td>1784</td>\n",
       "      <td>5230</td>\n",
       "      <td>3679</td>\n",
       "      <td>4613</td>\n",
       "      <td>1899</td>\n",
       "      <td>5735</td>\n",
       "      <td>230</td>\n",
       "    </tr>\n",
       "    <tr>\n",
       "      <th>2018-07-01 09:00:00</th>\n",
       "      <td>1749</td>\n",
       "      <td>15610</td>\n",
       "      <td>5862</td>\n",
       "      <td>7833</td>\n",
       "      <td>4262</td>\n",
       "      <td>14212</td>\n",
       "      <td>2145</td>\n",
       "      <td>3703</td>\n",
       "      <td>13084</td>\n",
       "      <td>2765</td>\n",
       "      <td>1875</td>\n",
       "      <td>1656</td>\n",
       "      <td>3569</td>\n",
       "      <td>1972</td>\n",
       "      <td>5752</td>\n",
       "      <td>4085</td>\n",
       "      <td>5014</td>\n",
       "      <td>2055</td>\n",
       "      <td>6299</td>\n",
       "      <td>259</td>\n",
       "    </tr>\n",
       "  </tbody>\n",
       "</table>\n",
       "</div>"
      ],
      "text/plain": [
       "                       AE    AEP    AP  ATSI    BC     CE   DAY  DEOK    DOM  \\\n",
       "period                                                                         \n",
       "2018-07-01 05:00:00  1301  12187  4384  6960  3134  12136  1619  2895   9775   \n",
       "2018-07-01 06:00:00  1314  11946  4391  6762  3139  11872  1605  2857   9787   \n",
       "2018-07-01 07:00:00  1410  12664  4757  6670  3377  11992  1707  2997  10453   \n",
       "2018-07-01 08:00:00  1567  14069  5308  7065  3788  12860  1916  3331  11734   \n",
       "2018-07-01 09:00:00  1749  15610  5862  7833  4262  14212  2145  3703  13084   \n",
       "\n",
       "                      DPL   DUQ  EKPC    JC    ME    PE   PEP    PL    PN  \\\n",
       "period                                                                      \n",
       "2018-07-01 05:00:00  1919  1466  1209  2388  1442  4397  3165  3835  1611   \n",
       "2018-07-01 06:00:00  1950  1455  1197  2416  1465  4423  3156  3901  1641   \n",
       "2018-07-01 07:00:00  2160  1528  1273  2644  1605  4743  3332  4232  1728   \n",
       "2018-07-01 08:00:00  2470  1688  1472  3064  1784  5230  3679  4613  1899   \n",
       "2018-07-01 09:00:00  2765  1875  1656  3569  1972  5752  4085  5014  2055   \n",
       "\n",
       "                       PS  RECO  \n",
       "period                           \n",
       "2018-07-01 05:00:00  5009   186  \n",
       "2018-07-01 06:00:00  4990   187  \n",
       "2018-07-01 07:00:00  5267   202  \n",
       "2018-07-01 08:00:00  5735   230  \n",
       "2018-07-01 09:00:00  6299   259  "
      ]
     },
     "execution_count": 2,
     "metadata": {},
     "output_type": "execute_result"
    }
   ],
   "source": [
    "df_base = pd.read_csv('../data/general/pjm_pivot.csv', index_col=0, parse_dates=True)\n",
    "df_base.head()"
   ]
  },
  {
   "attachments": {},
   "cell_type": "markdown",
   "id": "a059cce1",
   "metadata": {
    "papermill": {
     "duration": 0.007165,
     "end_time": "2023-12-13T12:50:26.304726",
     "exception": false,
     "start_time": "2023-12-13T12:50:26.297561",
     "status": "completed"
    },
    "tags": []
   },
   "source": [
    "## Select region"
   ]
  },
  {
   "cell_type": "code",
   "execution_count": 3,
   "id": "f1f3a8c4",
   "metadata": {
    "execution": {
     "iopub.execute_input": "2023-12-13T12:50:26.323842Z",
     "iopub.status.busy": "2023-12-13T12:50:26.323842Z",
     "iopub.status.idle": "2023-12-13T12:50:26.336845Z",
     "shell.execute_reply": "2023-12-13T12:50:26.335845Z"
    },
    "papermill": {
     "duration": 0.026006,
     "end_time": "2023-12-13T12:50:26.338846",
     "exception": false,
     "start_time": "2023-12-13T12:50:26.312840",
     "status": "completed"
    },
    "tags": [
     "parameters"
    ]
   },
   "outputs": [],
   "source": [
    "region = 'AE'"
   ]
  },
  {
   "cell_type": "code",
   "execution_count": 4,
   "id": "ab6cf21d",
   "metadata": {
    "execution": {
     "iopub.execute_input": "2023-12-13T12:50:26.354849Z",
     "iopub.status.busy": "2023-12-13T12:50:26.354849Z",
     "iopub.status.idle": "2023-12-13T12:50:26.368852Z",
     "shell.execute_reply": "2023-12-13T12:50:26.367852Z"
    },
    "papermill": {
     "duration": 0.026007,
     "end_time": "2023-12-13T12:50:26.370853",
     "exception": false,
     "start_time": "2023-12-13T12:50:26.344846",
     "status": "completed"
    },
    "tags": [
     "injected-parameters"
    ]
   },
   "outputs": [],
   "source": [
    "# Parameters\n",
    "region = \"AP\"\n"
   ]
  },
  {
   "cell_type": "code",
   "execution_count": 5,
   "id": "095d5448",
   "metadata": {
    "execution": {
     "iopub.execute_input": "2023-12-13T12:50:26.387856Z",
     "iopub.status.busy": "2023-12-13T12:50:26.387856Z",
     "iopub.status.idle": "2023-12-13T12:50:26.399935Z",
     "shell.execute_reply": "2023-12-13T12:50:26.399935Z"
    },
    "papermill": {
     "duration": 0.023079,
     "end_time": "2023-12-13T12:50:26.401934",
     "exception": false,
     "start_time": "2023-12-13T12:50:26.378855",
     "status": "completed"
    },
    "tags": []
   },
   "outputs": [
    {
     "data": {
      "text/html": [
       "<div>\n",
       "<style scoped>\n",
       "    .dataframe tbody tr th:only-of-type {\n",
       "        vertical-align: middle;\n",
       "    }\n",
       "\n",
       "    .dataframe tbody tr th {\n",
       "        vertical-align: top;\n",
       "    }\n",
       "\n",
       "    .dataframe thead th {\n",
       "        text-align: right;\n",
       "    }\n",
       "</style>\n",
       "<table border=\"1\" class=\"dataframe\">\n",
       "  <thead>\n",
       "    <tr style=\"text-align: right;\">\n",
       "      <th></th>\n",
       "      <th>AP</th>\n",
       "    </tr>\n",
       "    <tr>\n",
       "      <th>period</th>\n",
       "      <th></th>\n",
       "    </tr>\n",
       "  </thead>\n",
       "  <tbody>\n",
       "    <tr>\n",
       "      <th>2018-07-01 05:00:00</th>\n",
       "      <td>4384</td>\n",
       "    </tr>\n",
       "    <tr>\n",
       "      <th>2018-07-01 06:00:00</th>\n",
       "      <td>4391</td>\n",
       "    </tr>\n",
       "    <tr>\n",
       "      <th>2018-07-01 07:00:00</th>\n",
       "      <td>4757</td>\n",
       "    </tr>\n",
       "    <tr>\n",
       "      <th>2018-07-01 08:00:00</th>\n",
       "      <td>5308</td>\n",
       "    </tr>\n",
       "    <tr>\n",
       "      <th>2018-07-01 09:00:00</th>\n",
       "      <td>5862</td>\n",
       "    </tr>\n",
       "    <tr>\n",
       "      <th>...</th>\n",
       "      <td>...</td>\n",
       "    </tr>\n",
       "    <tr>\n",
       "      <th>2023-11-01 00:00:00</th>\n",
       "      <td>5798</td>\n",
       "    </tr>\n",
       "    <tr>\n",
       "      <th>2023-11-01 01:00:00</th>\n",
       "      <td>5856</td>\n",
       "    </tr>\n",
       "    <tr>\n",
       "      <th>2023-11-01 02:00:00</th>\n",
       "      <td>5757</td>\n",
       "    </tr>\n",
       "    <tr>\n",
       "      <th>2023-11-01 03:00:00</th>\n",
       "      <td>5463</td>\n",
       "    </tr>\n",
       "    <tr>\n",
       "      <th>2023-11-01 04:00:00</th>\n",
       "      <td>5263</td>\n",
       "    </tr>\n",
       "  </tbody>\n",
       "</table>\n",
       "<p>44904 rows × 1 columns</p>\n",
       "</div>"
      ],
      "text/plain": [
       "                       AP\n",
       "period                   \n",
       "2018-07-01 05:00:00  4384\n",
       "2018-07-01 06:00:00  4391\n",
       "2018-07-01 07:00:00  4757\n",
       "2018-07-01 08:00:00  5308\n",
       "2018-07-01 09:00:00  5862\n",
       "...                   ...\n",
       "2023-11-01 00:00:00  5798\n",
       "2023-11-01 01:00:00  5856\n",
       "2023-11-01 02:00:00  5757\n",
       "2023-11-01 03:00:00  5463\n",
       "2023-11-01 04:00:00  5263\n",
       "\n",
       "[44904 rows x 1 columns]"
      ]
     },
     "execution_count": 5,
     "metadata": {},
     "output_type": "execute_result"
    }
   ],
   "source": [
    "df = df_base.loc[:, [region]]\n",
    "df"
   ]
  },
  {
   "attachments": {},
   "cell_type": "markdown",
   "id": "7130da54",
   "metadata": {
    "papermill": {
     "duration": 0.006003,
     "end_time": "2023-12-13T12:50:26.415939",
     "exception": false,
     "start_time": "2023-12-13T12:50:26.409936",
     "status": "completed"
    },
    "tags": []
   },
   "source": [
    "## Data Preprocessing"
   ]
  },
  {
   "cell_type": "markdown",
   "id": "915c7077",
   "metadata": {
    "papermill": {
     "duration": 0.007,
     "end_time": "2023-12-13T12:50:26.430941",
     "exception": false,
     "start_time": "2023-12-13T12:50:26.423941",
     "status": "completed"
    },
    "tags": []
   },
   "source": [
    "### Train Test Split"
   ]
  },
  {
   "cell_type": "code",
   "execution_count": 6,
   "id": "61360a19",
   "metadata": {
    "execution": {
     "iopub.execute_input": "2023-12-13T12:50:26.448945Z",
     "iopub.status.busy": "2023-12-13T12:50:26.448945Z",
     "iopub.status.idle": "2023-12-13T12:50:26.893470Z",
     "shell.execute_reply": "2023-12-13T12:50:26.893470Z"
    },
    "papermill": {
     "duration": 0.455528,
     "end_time": "2023-12-13T12:50:26.895471",
     "exception": false,
     "start_time": "2023-12-13T12:50:26.439943",
     "status": "completed"
    },
    "tags": []
   },
   "outputs": [],
   "source": [
    "from sklearn.model_selection import train_test_split\n",
    "\n",
    "train, test = train_test_split(df, test_size=0.3, shuffle=False)\n",
    "test, prod = train_test_split(test, test_size=0.5, shuffle=False)"
   ]
  },
  {
   "cell_type": "markdown",
   "id": "71f82777",
   "metadata": {
    "papermill": {
     "duration": 0.007078,
     "end_time": "2023-12-13T12:50:26.909551",
     "exception": false,
     "start_time": "2023-12-13T12:50:26.902473",
     "status": "completed"
    },
    "tags": []
   },
   "source": [
    "### Export Data"
   ]
  },
  {
   "cell_type": "code",
   "execution_count": 7,
   "id": "23612c34",
   "metadata": {
    "execution": {
     "iopub.execute_input": "2023-12-13T12:50:26.925635Z",
     "iopub.status.busy": "2023-12-13T12:50:26.925635Z",
     "iopub.status.idle": "2023-12-13T12:50:27.035003Z",
     "shell.execute_reply": "2023-12-13T12:50:27.035003Z"
    },
    "papermill": {
     "duration": 0.120412,
     "end_time": "2023-12-13T12:50:27.037044",
     "exception": false,
     "start_time": "2023-12-13T12:50:26.916632",
     "status": "completed"
    },
    "tags": []
   },
   "outputs": [],
   "source": [
    "import os\n",
    "\n",
    "path_region = f'../data/regions/{region}'\n",
    "\n",
    "if not os.path.exists(path_region):\n",
    "    os.makedirs(path_region)\n",
    "\n",
    "for df, name in zip([train, test, prod], ['train', 'test', 'prod']):\n",
    "    df.to_csv(f'{path_region}/{name}.csv')"
   ]
  },
  {
   "attachments": {},
   "cell_type": "markdown",
   "id": "cc3b2cad",
   "metadata": {
    "papermill": {
     "duration": 0.006001,
     "end_time": "2023-12-13T12:50:27.051046",
     "exception": false,
     "start_time": "2023-12-13T12:50:27.045045",
     "status": "completed"
    },
    "tags": []
   },
   "source": [
    "### Scale Data"
   ]
  },
  {
   "cell_type": "code",
   "execution_count": 8,
   "id": "0c863053",
   "metadata": {
    "execution": {
     "iopub.execute_input": "2023-12-13T12:50:27.069051Z",
     "iopub.status.busy": "2023-12-13T12:50:27.069051Z",
     "iopub.status.idle": "2023-12-13T12:50:27.082054Z",
     "shell.execute_reply": "2023-12-13T12:50:27.082054Z"
    },
    "papermill": {
     "duration": 0.023006,
     "end_time": "2023-12-13T12:50:27.084055",
     "exception": false,
     "start_time": "2023-12-13T12:50:27.061049",
     "status": "completed"
    },
    "tags": []
   },
   "outputs": [],
   "source": [
    "from sklearn.preprocessing import MinMaxScaler\n",
    "\n",
    "scaler = MinMaxScaler(feature_range=(0, 1))\n",
    "\n",
    "train_norm = scaler.fit_transform(train)\n",
    "test_norm = scaler.transform(test)"
   ]
  },
  {
   "attachments": {},
   "cell_type": "markdown",
   "id": "b74976ed",
   "metadata": {
    "papermill": {
     "duration": 0.008002,
     "end_time": "2023-12-13T12:50:27.099058",
     "exception": false,
     "start_time": "2023-12-13T12:50:27.091056",
     "status": "completed"
    },
    "tags": []
   },
   "source": [
    "### Create Sequences"
   ]
  },
  {
   "cell_type": "code",
   "execution_count": 9,
   "id": "8ad788bb",
   "metadata": {
    "execution": {
     "iopub.execute_input": "2023-12-13T12:50:27.115061Z",
     "iopub.status.busy": "2023-12-13T12:50:27.115061Z",
     "iopub.status.idle": "2023-12-13T12:50:27.194082Z",
     "shell.execute_reply": "2023-12-13T12:50:27.194082Z"
    },
    "papermill": {
     "duration": 0.090023,
     "end_time": "2023-12-13T12:50:27.196082",
     "exception": false,
     "start_time": "2023-12-13T12:50:27.106059",
     "status": "completed"
    },
    "tags": []
   },
   "outputs": [],
   "source": [
    "import numpy as np\n",
    "\n",
    "def create_sequences(data, sequence_length):\n",
    "    X, y = [], []\n",
    "    for i in range(len(data) - sequence_length):\n",
    "        X.append(data[i:i+sequence_length])\n",
    "        y.append(data[i+sequence_length])\n",
    "    return np.array(X), np.array(y)\n",
    "\n",
    "sequence_length = 24 # Use 24 hours prior to predict the following hour\n",
    "X_train, y_train = create_sequences(train_norm, sequence_length)\n",
    "X_test, y_test = create_sequences(test_norm, sequence_length)"
   ]
  },
  {
   "attachments": {},
   "cell_type": "markdown",
   "id": "c62b086a",
   "metadata": {
    "papermill": {
     "duration": 0.007001,
     "end_time": "2023-12-13T12:50:27.211085",
     "exception": false,
     "start_time": "2023-12-13T12:50:27.204084",
     "status": "completed"
    },
    "tags": []
   },
   "source": [
    "## Modelling"
   ]
  },
  {
   "attachments": {},
   "cell_type": "markdown",
   "id": "1dacc143",
   "metadata": {
    "papermill": {
     "duration": 0.010002,
     "end_time": "2023-12-13T12:50:27.228089",
     "exception": false,
     "start_time": "2023-12-13T12:50:27.218087",
     "status": "completed"
    },
    "tags": []
   },
   "source": [
    "### Design NN Architecture"
   ]
  },
  {
   "cell_type": "code",
   "execution_count": 10,
   "id": "0c7f641e",
   "metadata": {
    "execution": {
     "iopub.execute_input": "2023-12-13T12:50:27.244094Z",
     "iopub.status.busy": "2023-12-13T12:50:27.243093Z",
     "iopub.status.idle": "2023-12-13T12:50:28.624991Z",
     "shell.execute_reply": "2023-12-13T12:50:28.624991Z"
    },
    "papermill": {
     "duration": 1.391901,
     "end_time": "2023-12-13T12:50:28.626992",
     "exception": false,
     "start_time": "2023-12-13T12:50:27.235091",
     "status": "completed"
    },
    "tags": []
   },
   "outputs": [
    {
     "name": "stderr",
     "output_type": "stream",
     "text": [
      "c:\\Users\\jesus\\miniconda3\\envs\\tf-base\\lib\\site-packages\\tensorflow\\python\\framework\\dtypes.py:516: FutureWarning: Passing (type, 1) or '1type' as a synonym of type is deprecated; in a future version of numpy, it will be understood as (type, (1,)) / '(1,)type'.\n",
      "  _np_qint8 = np.dtype([(\"qint8\", np.int8, 1)])\n",
      "c:\\Users\\jesus\\miniconda3\\envs\\tf-base\\lib\\site-packages\\tensorflow\\python\\framework\\dtypes.py:517: FutureWarning: Passing (type, 1) or '1type' as a synonym of type is deprecated; in a future version of numpy, it will be understood as (type, (1,)) / '(1,)type'.\n",
      "  _np_quint8 = np.dtype([(\"quint8\", np.uint8, 1)])\n",
      "c:\\Users\\jesus\\miniconda3\\envs\\tf-base\\lib\\site-packages\\tensorflow\\python\\framework\\dtypes.py:518: FutureWarning: Passing (type, 1) or '1type' as a synonym of type is deprecated; in a future version of numpy, it will be understood as (type, (1,)) / '(1,)type'.\n",
      "  _np_qint16 = np.dtype([(\"qint16\", np.int16, 1)])\n",
      "c:\\Users\\jesus\\miniconda3\\envs\\tf-base\\lib\\site-packages\\tensorflow\\python\\framework\\dtypes.py:519: FutureWarning: Passing (type, 1) or '1type' as a synonym of type is deprecated; in a future version of numpy, it will be understood as (type, (1,)) / '(1,)type'.\n",
      "  _np_quint16 = np.dtype([(\"quint16\", np.uint16, 1)])\n",
      "c:\\Users\\jesus\\miniconda3\\envs\\tf-base\\lib\\site-packages\\tensorflow\\python\\framework\\dtypes.py:520: FutureWarning: Passing (type, 1) or '1type' as a synonym of type is deprecated; in a future version of numpy, it will be understood as (type, (1,)) / '(1,)type'.\n",
      "  _np_qint32 = np.dtype([(\"qint32\", np.int32, 1)])\n",
      "c:\\Users\\jesus\\miniconda3\\envs\\tf-base\\lib\\site-packages\\tensorflow\\python\\framework\\dtypes.py:525: FutureWarning: Passing (type, 1) or '1type' as a synonym of type is deprecated; in a future version of numpy, it will be understood as (type, (1,)) / '(1,)type'.\n",
      "  np_resource = np.dtype([(\"resource\", np.ubyte, 1)])\n"
     ]
    },
    {
     "name": "stdout",
     "output_type": "stream",
     "text": [
      "WARNING:tensorflow:From c:\\Users\\jesus\\miniconda3\\envs\\tf-base\\lib\\site-packages\\tensorflow\\python\\ops\\init_ops.py:1251: calling VarianceScaling.__init__ (from tensorflow.python.ops.init_ops) with dtype is deprecated and will be removed in a future version.\n",
      "Instructions for updating:\n",
      "Call initializer instance with the dtype argument instead of passing it to the constructor\n"
     ]
    },
    {
     "name": "stderr",
     "output_type": "stream",
     "text": [
      "c:\\Users\\jesus\\miniconda3\\envs\\tf-base\\lib\\site-packages\\tensorboard\\compat\\tensorflow_stub\\dtypes.py:541: FutureWarning: Passing (type, 1) or '1type' as a synonym of type is deprecated; in a future version of numpy, it will be understood as (type, (1,)) / '(1,)type'.\n",
      "  _np_qint8 = np.dtype([(\"qint8\", np.int8, 1)])\n",
      "c:\\Users\\jesus\\miniconda3\\envs\\tf-base\\lib\\site-packages\\tensorboard\\compat\\tensorflow_stub\\dtypes.py:542: FutureWarning: Passing (type, 1) or '1type' as a synonym of type is deprecated; in a future version of numpy, it will be understood as (type, (1,)) / '(1,)type'.\n",
      "  _np_quint8 = np.dtype([(\"quint8\", np.uint8, 1)])\n",
      "c:\\Users\\jesus\\miniconda3\\envs\\tf-base\\lib\\site-packages\\tensorboard\\compat\\tensorflow_stub\\dtypes.py:543: FutureWarning: Passing (type, 1) or '1type' as a synonym of type is deprecated; in a future version of numpy, it will be understood as (type, (1,)) / '(1,)type'.\n",
      "  _np_qint16 = np.dtype([(\"qint16\", np.int16, 1)])\n",
      "c:\\Users\\jesus\\miniconda3\\envs\\tf-base\\lib\\site-packages\\tensorboard\\compat\\tensorflow_stub\\dtypes.py:544: FutureWarning: Passing (type, 1) or '1type' as a synonym of type is deprecated; in a future version of numpy, it will be understood as (type, (1,)) / '(1,)type'.\n",
      "  _np_quint16 = np.dtype([(\"quint16\", np.uint16, 1)])\n",
      "c:\\Users\\jesus\\miniconda3\\envs\\tf-base\\lib\\site-packages\\tensorboard\\compat\\tensorflow_stub\\dtypes.py:545: FutureWarning: Passing (type, 1) or '1type' as a synonym of type is deprecated; in a future version of numpy, it will be understood as (type, (1,)) / '(1,)type'.\n",
      "  _np_qint32 = np.dtype([(\"qint32\", np.int32, 1)])\n",
      "c:\\Users\\jesus\\miniconda3\\envs\\tf-base\\lib\\site-packages\\tensorboard\\compat\\tensorflow_stub\\dtypes.py:550: FutureWarning: Passing (type, 1) or '1type' as a synonym of type is deprecated; in a future version of numpy, it will be understood as (type, (1,)) / '(1,)type'.\n",
      "  np_resource = np.dtype([(\"resource\", np.ubyte, 1)])\n"
     ]
    }
   ],
   "source": [
    "from tensorflow.keras.models import Sequential\n",
    "from tensorflow.keras.layers import LSTM, Dense\n",
    "\n",
    "model = Sequential()\n",
    "model.add(LSTM(50, input_shape=(X_train.shape[1], X_train.shape[2])))\n",
    "model.add(Dense(1))\n",
    "model.compile(optimizer='adam', loss='mean_squared_error')"
   ]
  },
  {
   "attachments": {},
   "cell_type": "markdown",
   "id": "c3455191",
   "metadata": {
    "papermill": {
     "duration": 0.008002,
     "end_time": "2023-12-13T12:50:28.641995",
     "exception": false,
     "start_time": "2023-12-13T12:50:28.633993",
     "status": "completed"
    },
    "tags": []
   },
   "source": [
    "### Train Model"
   ]
  },
  {
   "cell_type": "code",
   "execution_count": 11,
   "id": "16ff412b",
   "metadata": {
    "execution": {
     "iopub.execute_input": "2023-12-13T12:50:28.657999Z",
     "iopub.status.busy": "2023-12-13T12:50:28.657999Z",
     "iopub.status.idle": "2023-12-13T12:53:08.397770Z",
     "shell.execute_reply": "2023-12-13T12:53:08.397770Z"
    },
    "papermill": {
     "duration": 159.750777,
     "end_time": "2023-12-13T12:53:08.399774",
     "exception": false,
     "start_time": "2023-12-13T12:50:28.648997",
     "status": "completed"
    },
    "tags": []
   },
   "outputs": [
    {
     "name": "stdout",
     "output_type": "stream",
     "text": [
      "WARNING:tensorflow:From c:\\Users\\jesus\\miniconda3\\envs\\tf-base\\lib\\site-packages\\tensorflow\\python\\ops\\math_grad.py:1250: add_dispatch_support.<locals>.wrapper (from tensorflow.python.ops.array_ops) is deprecated and will be removed in a future version.\n",
      "Instructions for updating:\n",
      "Use tf.where in 2.0, which has the same broadcast rule as np.where\n"
     ]
    }
   ],
   "source": [
    "from tensorflow.keras.callbacks import EarlyStopping\n",
    "\n",
    "early_stop = EarlyStopping(monitor='val_loss', patience=5)\n",
    "\n",
    "history = model.fit(\n",
    "    X_train, y_train, epochs=50, batch_size=64, verbose=0,\n",
    "    validation_data=(X_test, y_test), callbacks=[early_stop])"
   ]
  },
  {
   "attachments": {},
   "cell_type": "markdown",
   "id": "25d0a71d",
   "metadata": {
    "papermill": {
     "duration": 0.008003,
     "end_time": "2023-12-13T12:53:08.414778",
     "exception": false,
     "start_time": "2023-12-13T12:53:08.406775",
     "status": "completed"
    },
    "tags": []
   },
   "source": [
    "### Calculate Predictions"
   ]
  },
  {
   "cell_type": "code",
   "execution_count": 12,
   "id": "b5c5d6c3",
   "metadata": {
    "execution": {
     "iopub.execute_input": "2023-12-13T12:53:08.432782Z",
     "iopub.status.busy": "2023-12-13T12:53:08.431781Z",
     "iopub.status.idle": "2023-12-13T12:53:08.959811Z",
     "shell.execute_reply": "2023-12-13T12:53:08.959811Z"
    },
    "papermill": {
     "duration": 0.539033,
     "end_time": "2023-12-13T12:53:08.961812",
     "exception": false,
     "start_time": "2023-12-13T12:53:08.422779",
     "status": "completed"
    },
    "tags": []
   },
   "outputs": [
    {
     "data": {
      "text/plain": [
       "array([[0.12185993],\n",
       "       [0.13592766],\n",
       "       [0.15930565],\n",
       "       ...,\n",
       "       [0.3962701 ],\n",
       "       [0.45811343],\n",
       "       [0.5224418 ]], dtype=float32)"
      ]
     },
     "execution_count": 12,
     "metadata": {},
     "output_type": "execute_result"
    }
   ],
   "source": [
    "y_pred = model.predict(X_test)\n",
    "y_pred"
   ]
  },
  {
   "attachments": {},
   "cell_type": "markdown",
   "id": "c68b0c07",
   "metadata": {
    "papermill": {
     "duration": 0.008004,
     "end_time": "2023-12-13T12:53:08.977816",
     "exception": false,
     "start_time": "2023-12-13T12:53:08.969812",
     "status": "completed"
    },
    "tags": []
   },
   "source": [
    "### Comparison: Real Data & Prediction"
   ]
  },
  {
   "attachments": {},
   "cell_type": "markdown",
   "id": "f8e78dc5",
   "metadata": {
    "papermill": {
     "duration": 0.008003,
     "end_time": "2023-12-13T12:53:08.992819",
     "exception": false,
     "start_time": "2023-12-13T12:53:08.984816",
     "status": "completed"
    },
    "tags": []
   },
   "source": [
    "#### Descale Data"
   ]
  },
  {
   "cell_type": "code",
   "execution_count": 13,
   "id": "c788bdae",
   "metadata": {
    "execution": {
     "iopub.execute_input": "2023-12-13T12:53:09.008822Z",
     "iopub.status.busy": "2023-12-13T12:53:09.008822Z",
     "iopub.status.idle": "2023-12-13T12:53:09.024825Z",
     "shell.execute_reply": "2023-12-13T12:53:09.023825Z"
    },
    "papermill": {
     "duration": 0.026007,
     "end_time": "2023-12-13T12:53:09.026827",
     "exception": false,
     "start_time": "2023-12-13T12:53:09.000820",
     "status": "completed"
    },
    "tags": []
   },
   "outputs": [],
   "source": [
    "y_pred_scaled_inverse = scaler.inverse_transform(y_pred)\n",
    "y_true = scaler.inverse_transform(y_test)"
   ]
  },
  {
   "attachments": {},
   "cell_type": "markdown",
   "id": "8524b90c",
   "metadata": {
    "papermill": {
     "duration": 0.007002,
     "end_time": "2023-12-13T12:53:09.040830",
     "exception": false,
     "start_time": "2023-12-13T12:53:09.033828",
     "status": "completed"
    },
    "tags": []
   },
   "source": [
    "#### Create DataFrame"
   ]
  },
  {
   "cell_type": "code",
   "execution_count": 14,
   "id": "8ab85797",
   "metadata": {
    "execution": {
     "iopub.execute_input": "2023-12-13T12:53:09.056834Z",
     "iopub.status.busy": "2023-12-13T12:53:09.055833Z",
     "iopub.status.idle": "2023-12-13T12:53:09.071777Z",
     "shell.execute_reply": "2023-12-13T12:53:09.071777Z"
    },
    "papermill": {
     "duration": 0.025947,
     "end_time": "2023-12-13T12:53:09.073778",
     "exception": false,
     "start_time": "2023-12-13T12:53:09.047831",
     "status": "completed"
    },
    "tags": []
   },
   "outputs": [
    {
     "data": {
      "text/html": [
       "<div>\n",
       "<style scoped>\n",
       "    .dataframe tbody tr th:only-of-type {\n",
       "        vertical-align: middle;\n",
       "    }\n",
       "\n",
       "    .dataframe tbody tr th {\n",
       "        vertical-align: top;\n",
       "    }\n",
       "\n",
       "    .dataframe thead th {\n",
       "        text-align: right;\n",
       "    }\n",
       "</style>\n",
       "<table border=\"1\" class=\"dataframe\">\n",
       "  <thead>\n",
       "    <tr style=\"text-align: right;\">\n",
       "      <th></th>\n",
       "      <th>y_pred</th>\n",
       "      <th>y_pred_scaled_inverse</th>\n",
       "      <th>y_true</th>\n",
       "    </tr>\n",
       "  </thead>\n",
       "  <tbody>\n",
       "    <tr>\n",
       "      <th>0</th>\n",
       "      <td>0.121860</td>\n",
       "      <td>4343.645996</td>\n",
       "      <td>4367.0</td>\n",
       "    </tr>\n",
       "    <tr>\n",
       "      <th>1</th>\n",
       "      <td>0.135928</td>\n",
       "      <td>4432.033203</td>\n",
       "      <td>4469.0</td>\n",
       "    </tr>\n",
       "    <tr>\n",
       "      <th>2</th>\n",
       "      <td>0.159306</td>\n",
       "      <td>4578.917480</td>\n",
       "      <td>4676.0</td>\n",
       "    </tr>\n",
       "    <tr>\n",
       "      <th>3</th>\n",
       "      <td>0.194594</td>\n",
       "      <td>4800.632324</td>\n",
       "      <td>4986.0</td>\n",
       "    </tr>\n",
       "    <tr>\n",
       "      <th>4</th>\n",
       "      <td>0.241146</td>\n",
       "      <td>5093.120605</td>\n",
       "      <td>4996.0</td>\n",
       "    </tr>\n",
       "    <tr>\n",
       "      <th>...</th>\n",
       "      <td>...</td>\n",
       "      <td>...</td>\n",
       "      <td>...</td>\n",
       "    </tr>\n",
       "    <tr>\n",
       "      <th>6707</th>\n",
       "      <td>0.346905</td>\n",
       "      <td>5757.602539</td>\n",
       "      <td>5699.0</td>\n",
       "    </tr>\n",
       "    <tr>\n",
       "      <th>6708</th>\n",
       "      <td>0.359611</td>\n",
       "      <td>5837.437012</td>\n",
       "      <td>5841.0</td>\n",
       "    </tr>\n",
       "    <tr>\n",
       "      <th>6709</th>\n",
       "      <td>0.396270</td>\n",
       "      <td>6067.765137</td>\n",
       "      <td>6168.0</td>\n",
       "    </tr>\n",
       "    <tr>\n",
       "      <th>6710</th>\n",
       "      <td>0.458113</td>\n",
       "      <td>6456.326660</td>\n",
       "      <td>6599.0</td>\n",
       "    </tr>\n",
       "    <tr>\n",
       "      <th>6711</th>\n",
       "      <td>0.522442</td>\n",
       "      <td>6860.501953</td>\n",
       "      <td>6910.0</td>\n",
       "    </tr>\n",
       "  </tbody>\n",
       "</table>\n",
       "<p>6712 rows × 3 columns</p>\n",
       "</div>"
      ],
      "text/plain": [
       "        y_pred  y_pred_scaled_inverse  y_true\n",
       "0     0.121860            4343.645996  4367.0\n",
       "1     0.135928            4432.033203  4469.0\n",
       "2     0.159306            4578.917480  4676.0\n",
       "3     0.194594            4800.632324  4986.0\n",
       "4     0.241146            5093.120605  4996.0\n",
       "...        ...                    ...     ...\n",
       "6707  0.346905            5757.602539  5699.0\n",
       "6708  0.359611            5837.437012  5841.0\n",
       "6709  0.396270            6067.765137  6168.0\n",
       "6710  0.458113            6456.326660  6599.0\n",
       "6711  0.522442            6860.501953  6910.0\n",
       "\n",
       "[6712 rows x 3 columns]"
      ]
     },
     "execution_count": 14,
     "metadata": {},
     "output_type": "execute_result"
    }
   ],
   "source": [
    "dic_pred = {\n",
    "    'y_pred': y_pred.flatten(),\n",
    "    'y_pred_scaled_inverse': y_pred_scaled_inverse.flatten(),\n",
    "    'y_true': y_true.flatten(),\n",
    "}\n",
    "\n",
    "df_pred = pd.DataFrame(dic_pred)\n",
    "df_pred"
   ]
  },
  {
   "attachments": {},
   "cell_type": "markdown",
   "id": "2a59cf19",
   "metadata": {
    "papermill": {
     "duration": 0.010002,
     "end_time": "2023-12-13T12:53:09.091781",
     "exception": false,
     "start_time": "2023-12-13T12:53:09.081779",
     "status": "completed"
    },
    "tags": []
   },
   "source": [
    "#### Evaluate Model"
   ]
  },
  {
   "cell_type": "code",
   "execution_count": 15,
   "id": "e2bdfcd9",
   "metadata": {
    "execution": {
     "iopub.execute_input": "2023-12-13T12:53:09.110785Z",
     "iopub.status.busy": "2023-12-13T12:53:09.109785Z",
     "iopub.status.idle": "2023-12-13T12:53:09.117787Z",
     "shell.execute_reply": "2023-12-13T12:53:09.117787Z"
    },
    "papermill": {
     "duration": 0.020004,
     "end_time": "2023-12-13T12:53:09.119787",
     "exception": false,
     "start_time": "2023-12-13T12:53:09.099783",
     "status": "completed"
    },
    "tags": []
   },
   "outputs": [],
   "source": [
    "from sklearn.metrics import mean_squared_error"
   ]
  },
  {
   "cell_type": "code",
   "execution_count": 16,
   "id": "d47be457",
   "metadata": {
    "execution": {
     "iopub.execute_input": "2023-12-13T12:53:09.138791Z",
     "iopub.status.busy": "2023-12-13T12:53:09.138791Z",
     "iopub.status.idle": "2023-12-13T12:53:09.149794Z",
     "shell.execute_reply": "2023-12-13T12:53:09.149794Z"
    },
    "papermill": {
     "duration": 0.025006,
     "end_time": "2023-12-13T12:53:09.151795",
     "exception": false,
     "start_time": "2023-12-13T12:53:09.126789",
     "status": "completed"
    },
    "tags": []
   },
   "outputs": [
    {
     "data": {
      "text/plain": [
       "82.12473207662127"
      ]
     },
     "execution_count": 16,
     "metadata": {},
     "output_type": "execute_result"
    }
   ],
   "source": [
    "mean_squared_error(df_pred.y_true, df_pred.y_pred_scaled_inverse, squared=False)"
   ]
  },
  {
   "cell_type": "code",
   "execution_count": 17,
   "id": "b97aeb70",
   "metadata": {
    "execution": {
     "iopub.execute_input": "2023-12-13T12:53:09.168798Z",
     "iopub.status.busy": "2023-12-13T12:53:09.167798Z",
     "iopub.status.idle": "2023-12-13T12:53:09.278823Z",
     "shell.execute_reply": "2023-12-13T12:53:09.277824Z"
    },
    "papermill": {
     "duration": 0.121027,
     "end_time": "2023-12-13T12:53:09.280824",
     "exception": false,
     "start_time": "2023-12-13T12:53:09.159797",
     "status": "completed"
    },
    "tags": []
   },
   "outputs": [],
   "source": [
    "model.save(f'../models/{region}.keras')"
   ]
  }
 ],
 "metadata": {
  "kernelspec": {
   "display_name": "deep-learning",
   "language": "python",
   "name": "python3"
  },
  "language_info": {
   "codemirror_mode": {
    "name": "ipython",
    "version": 3
   },
   "file_extension": ".py",
   "mimetype": "text/x-python",
   "name": "python",
   "nbconvert_exporter": "python",
   "pygments_lexer": "ipython3",
   "version": "3.7.12"
  },
  "papermill": {
   "default_parameters": {},
   "duration": 165.243916,
   "end_time": "2023-12-13T12:53:09.722224",
   "environment_variables": {},
   "exception": null,
   "input_path": "Modelling.ipynb",
   "output_path": "outputs/AP.ipynb",
   "parameters": {
    "region": "AP"
   },
   "start_time": "2023-12-13T12:50:24.478308",
   "version": "2.4.0"
  }
 },
 "nbformat": 4,
 "nbformat_minor": 5
}