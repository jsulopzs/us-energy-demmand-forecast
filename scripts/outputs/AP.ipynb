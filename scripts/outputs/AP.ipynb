{
 "cells": [
  {
   "attachments": {},
   "cell_type": "markdown",
   "id": "10937ff3",
   "metadata": {
    "papermill": {
     "duration": 0.014414,
     "end_time": "2023-11-26T16:53:58.448750",
     "exception": false,
     "start_time": "2023-11-26T16:53:58.434336",
     "status": "completed"
    },
    "tags": []
   },
   "source": [
    "## Load data"
   ]
  },
  {
   "cell_type": "code",
   "execution_count": 1,
   "id": "a77ea579",
   "metadata": {
    "execution": {
     "iopub.execute_input": "2023-11-26T16:53:58.462746Z",
     "iopub.status.busy": "2023-11-26T16:53:58.462434Z",
     "iopub.status.idle": "2023-11-26T16:53:59.037019Z",
     "shell.execute_reply": "2023-11-26T16:53:59.036112Z"
    },
    "papermill": {
     "duration": 0.584052,
     "end_time": "2023-11-26T16:53:59.039365",
     "exception": false,
     "start_time": "2023-11-26T16:53:58.455313",
     "status": "completed"
    },
    "tags": []
   },
   "outputs": [],
   "source": [
    "import pandas as pd"
   ]
  },
  {
   "cell_type": "code",
   "execution_count": 2,
   "id": "239e5525",
   "metadata": {
    "execution": {
     "iopub.execute_input": "2023-11-26T16:53:59.049993Z",
     "iopub.status.busy": "2023-11-26T16:53:59.049681Z",
     "iopub.status.idle": "2023-11-26T16:53:59.194605Z",
     "shell.execute_reply": "2023-11-26T16:53:59.194084Z"
    },
    "papermill": {
     "duration": 0.15204,
     "end_time": "2023-11-26T16:53:59.196360",
     "exception": false,
     "start_time": "2023-11-26T16:53:59.044320",
     "status": "completed"
    },
    "tags": []
   },
   "outputs": [
    {
     "data": {
      "text/html": [
       "<div>\n",
       "<style scoped>\n",
       "    .dataframe tbody tr th:only-of-type {\n",
       "        vertical-align: middle;\n",
       "    }\n",
       "\n",
       "    .dataframe tbody tr th {\n",
       "        vertical-align: top;\n",
       "    }\n",
       "\n",
       "    .dataframe thead th {\n",
       "        text-align: right;\n",
       "    }\n",
       "</style>\n",
       "<table border=\"1\" class=\"dataframe\">\n",
       "  <thead>\n",
       "    <tr style=\"text-align: right;\">\n",
       "      <th></th>\n",
       "      <th>AE</th>\n",
       "      <th>AEP</th>\n",
       "      <th>AP</th>\n",
       "      <th>ATSI</th>\n",
       "      <th>BC</th>\n",
       "      <th>CE</th>\n",
       "      <th>DAY</th>\n",
       "      <th>DEOK</th>\n",
       "      <th>DOM</th>\n",
       "      <th>DPL</th>\n",
       "      <th>DUQ</th>\n",
       "      <th>EKPC</th>\n",
       "      <th>JC</th>\n",
       "      <th>ME</th>\n",
       "      <th>PE</th>\n",
       "      <th>PEP</th>\n",
       "      <th>PL</th>\n",
       "      <th>PN</th>\n",
       "      <th>PS</th>\n",
       "      <th>RECO</th>\n",
       "    </tr>\n",
       "    <tr>\n",
       "      <th>period</th>\n",
       "      <th></th>\n",
       "      <th></th>\n",
       "      <th></th>\n",
       "      <th></th>\n",
       "      <th></th>\n",
       "      <th></th>\n",
       "      <th></th>\n",
       "      <th></th>\n",
       "      <th></th>\n",
       "      <th></th>\n",
       "      <th></th>\n",
       "      <th></th>\n",
       "      <th></th>\n",
       "      <th></th>\n",
       "      <th></th>\n",
       "      <th></th>\n",
       "      <th></th>\n",
       "      <th></th>\n",
       "      <th></th>\n",
       "      <th></th>\n",
       "    </tr>\n",
       "  </thead>\n",
       "  <tbody>\n",
       "    <tr>\n",
       "      <th>2018-07-01 05:00:00</th>\n",
       "      <td>1301</td>\n",
       "      <td>12187</td>\n",
       "      <td>4384</td>\n",
       "      <td>6960</td>\n",
       "      <td>3134</td>\n",
       "      <td>12136</td>\n",
       "      <td>1619</td>\n",
       "      <td>2895</td>\n",
       "      <td>9775</td>\n",
       "      <td>1919</td>\n",
       "      <td>1466</td>\n",
       "      <td>1209</td>\n",
       "      <td>2388</td>\n",
       "      <td>1442</td>\n",
       "      <td>4397</td>\n",
       "      <td>3165</td>\n",
       "      <td>3835</td>\n",
       "      <td>1611</td>\n",
       "      <td>5009</td>\n",
       "      <td>186</td>\n",
       "    </tr>\n",
       "    <tr>\n",
       "      <th>2018-07-01 06:00:00</th>\n",
       "      <td>1314</td>\n",
       "      <td>11946</td>\n",
       "      <td>4391</td>\n",
       "      <td>6762</td>\n",
       "      <td>3139</td>\n",
       "      <td>11872</td>\n",
       "      <td>1605</td>\n",
       "      <td>2857</td>\n",
       "      <td>9787</td>\n",
       "      <td>1950</td>\n",
       "      <td>1455</td>\n",
       "      <td>1197</td>\n",
       "      <td>2416</td>\n",
       "      <td>1465</td>\n",
       "      <td>4423</td>\n",
       "      <td>3156</td>\n",
       "      <td>3901</td>\n",
       "      <td>1641</td>\n",
       "      <td>4990</td>\n",
       "      <td>187</td>\n",
       "    </tr>\n",
       "    <tr>\n",
       "      <th>2018-07-01 07:00:00</th>\n",
       "      <td>1410</td>\n",
       "      <td>12664</td>\n",
       "      <td>4757</td>\n",
       "      <td>6670</td>\n",
       "      <td>3377</td>\n",
       "      <td>11992</td>\n",
       "      <td>1707</td>\n",
       "      <td>2997</td>\n",
       "      <td>10453</td>\n",
       "      <td>2160</td>\n",
       "      <td>1528</td>\n",
       "      <td>1273</td>\n",
       "      <td>2644</td>\n",
       "      <td>1605</td>\n",
       "      <td>4743</td>\n",
       "      <td>3332</td>\n",
       "      <td>4232</td>\n",
       "      <td>1728</td>\n",
       "      <td>5267</td>\n",
       "      <td>202</td>\n",
       "    </tr>\n",
       "    <tr>\n",
       "      <th>2018-07-01 08:00:00</th>\n",
       "      <td>1567</td>\n",
       "      <td>14069</td>\n",
       "      <td>5308</td>\n",
       "      <td>7065</td>\n",
       "      <td>3788</td>\n",
       "      <td>12860</td>\n",
       "      <td>1916</td>\n",
       "      <td>3331</td>\n",
       "      <td>11734</td>\n",
       "      <td>2470</td>\n",
       "      <td>1688</td>\n",
       "      <td>1472</td>\n",
       "      <td>3064</td>\n",
       "      <td>1784</td>\n",
       "      <td>5230</td>\n",
       "      <td>3679</td>\n",
       "      <td>4613</td>\n",
       "      <td>1899</td>\n",
       "      <td>5735</td>\n",
       "      <td>230</td>\n",
       "    </tr>\n",
       "    <tr>\n",
       "      <th>2018-07-01 09:00:00</th>\n",
       "      <td>1749</td>\n",
       "      <td>15610</td>\n",
       "      <td>5862</td>\n",
       "      <td>7833</td>\n",
       "      <td>4262</td>\n",
       "      <td>14212</td>\n",
       "      <td>2145</td>\n",
       "      <td>3703</td>\n",
       "      <td>13084</td>\n",
       "      <td>2765</td>\n",
       "      <td>1875</td>\n",
       "      <td>1656</td>\n",
       "      <td>3569</td>\n",
       "      <td>1972</td>\n",
       "      <td>5752</td>\n",
       "      <td>4085</td>\n",
       "      <td>5014</td>\n",
       "      <td>2055</td>\n",
       "      <td>6299</td>\n",
       "      <td>259</td>\n",
       "    </tr>\n",
       "  </tbody>\n",
       "</table>\n",
       "</div>"
      ],
      "text/plain": [
       "                       AE    AEP    AP  ATSI    BC     CE   DAY  DEOK    DOM  \\\n",
       "period                                                                         \n",
       "2018-07-01 05:00:00  1301  12187  4384  6960  3134  12136  1619  2895   9775   \n",
       "2018-07-01 06:00:00  1314  11946  4391  6762  3139  11872  1605  2857   9787   \n",
       "2018-07-01 07:00:00  1410  12664  4757  6670  3377  11992  1707  2997  10453   \n",
       "2018-07-01 08:00:00  1567  14069  5308  7065  3788  12860  1916  3331  11734   \n",
       "2018-07-01 09:00:00  1749  15610  5862  7833  4262  14212  2145  3703  13084   \n",
       "\n",
       "                      DPL   DUQ  EKPC    JC    ME    PE   PEP    PL    PN  \\\n",
       "period                                                                      \n",
       "2018-07-01 05:00:00  1919  1466  1209  2388  1442  4397  3165  3835  1611   \n",
       "2018-07-01 06:00:00  1950  1455  1197  2416  1465  4423  3156  3901  1641   \n",
       "2018-07-01 07:00:00  2160  1528  1273  2644  1605  4743  3332  4232  1728   \n",
       "2018-07-01 08:00:00  2470  1688  1472  3064  1784  5230  3679  4613  1899   \n",
       "2018-07-01 09:00:00  2765  1875  1656  3569  1972  5752  4085  5014  2055   \n",
       "\n",
       "                       PS  RECO  \n",
       "period                           \n",
       "2018-07-01 05:00:00  5009   186  \n",
       "2018-07-01 06:00:00  4990   187  \n",
       "2018-07-01 07:00:00  5267   202  \n",
       "2018-07-01 08:00:00  5735   230  \n",
       "2018-07-01 09:00:00  6299   259  "
      ]
     },
     "execution_count": 2,
     "metadata": {},
     "output_type": "execute_result"
    }
   ],
   "source": [
    "df_base = pd.read_csv('../data/pjm_pivot.csv', index_col=0, parse_dates=True)\n",
    "df_base.head()"
   ]
  },
  {
   "attachments": {},
   "cell_type": "markdown",
   "id": "21060f48",
   "metadata": {
    "papermill": {
     "duration": 0.022608,
     "end_time": "2023-11-26T16:53:59.226498",
     "exception": false,
     "start_time": "2023-11-26T16:53:59.203890",
     "status": "completed"
    },
    "tags": []
   },
   "source": [
    "## Select region"
   ]
  },
  {
   "cell_type": "code",
   "execution_count": 3,
   "id": "e5928ffc",
   "metadata": {
    "execution": {
     "iopub.execute_input": "2023-11-26T16:53:59.236416Z",
     "iopub.status.busy": "2023-11-26T16:53:59.236117Z",
     "iopub.status.idle": "2023-11-26T16:53:59.240038Z",
     "shell.execute_reply": "2023-11-26T16:53:59.239423Z"
    },
    "papermill": {
     "duration": 0.01094,
     "end_time": "2023-11-26T16:53:59.241872",
     "exception": false,
     "start_time": "2023-11-26T16:53:59.230932",
     "status": "completed"
    },
    "tags": [
     "parameters"
    ]
   },
   "outputs": [],
   "source": [
    "region = 'AE'"
   ]
  },
  {
   "cell_type": "code",
   "execution_count": 4,
   "id": "7c567234",
   "metadata": {
    "execution": {
     "iopub.execute_input": "2023-11-26T16:53:59.251976Z",
     "iopub.status.busy": "2023-11-26T16:53:59.251242Z",
     "iopub.status.idle": "2023-11-26T16:53:59.255421Z",
     "shell.execute_reply": "2023-11-26T16:53:59.254432Z"
    },
    "papermill": {
     "duration": 0.013029,
     "end_time": "2023-11-26T16:53:59.259011",
     "exception": false,
     "start_time": "2023-11-26T16:53:59.245982",
     "status": "completed"
    },
    "tags": [
     "injected-parameters"
    ]
   },
   "outputs": [],
   "source": [
    "# Parameters\n",
    "region = \"AP\"\n"
   ]
  },
  {
   "cell_type": "code",
   "execution_count": 5,
   "id": "24591d46",
   "metadata": {
    "execution": {
     "iopub.execute_input": "2023-11-26T16:53:59.311528Z",
     "iopub.status.busy": "2023-11-26T16:53:59.311042Z",
     "iopub.status.idle": "2023-11-26T16:53:59.322366Z",
     "shell.execute_reply": "2023-11-26T16:53:59.321621Z"
    },
    "papermill": {
     "duration": 0.042504,
     "end_time": "2023-11-26T16:53:59.324370",
     "exception": false,
     "start_time": "2023-11-26T16:53:59.281866",
     "status": "completed"
    },
    "tags": []
   },
   "outputs": [
    {
     "data": {
      "text/html": [
       "<div>\n",
       "<style scoped>\n",
       "    .dataframe tbody tr th:only-of-type {\n",
       "        vertical-align: middle;\n",
       "    }\n",
       "\n",
       "    .dataframe tbody tr th {\n",
       "        vertical-align: top;\n",
       "    }\n",
       "\n",
       "    .dataframe thead th {\n",
       "        text-align: right;\n",
       "    }\n",
       "</style>\n",
       "<table border=\"1\" class=\"dataframe\">\n",
       "  <thead>\n",
       "    <tr style=\"text-align: right;\">\n",
       "      <th></th>\n",
       "      <th>AP</th>\n",
       "    </tr>\n",
       "    <tr>\n",
       "      <th>period</th>\n",
       "      <th></th>\n",
       "    </tr>\n",
       "  </thead>\n",
       "  <tbody>\n",
       "    <tr>\n",
       "      <th>2018-07-01 05:00:00</th>\n",
       "      <td>4384</td>\n",
       "    </tr>\n",
       "    <tr>\n",
       "      <th>2018-07-01 06:00:00</th>\n",
       "      <td>4391</td>\n",
       "    </tr>\n",
       "    <tr>\n",
       "      <th>2018-07-01 07:00:00</th>\n",
       "      <td>4757</td>\n",
       "    </tr>\n",
       "    <tr>\n",
       "      <th>2018-07-01 08:00:00</th>\n",
       "      <td>5308</td>\n",
       "    </tr>\n",
       "    <tr>\n",
       "      <th>2018-07-01 09:00:00</th>\n",
       "      <td>5862</td>\n",
       "    </tr>\n",
       "    <tr>\n",
       "      <th>...</th>\n",
       "      <td>...</td>\n",
       "    </tr>\n",
       "    <tr>\n",
       "      <th>2023-11-01 00:00:00</th>\n",
       "      <td>5798</td>\n",
       "    </tr>\n",
       "    <tr>\n",
       "      <th>2023-11-01 01:00:00</th>\n",
       "      <td>5856</td>\n",
       "    </tr>\n",
       "    <tr>\n",
       "      <th>2023-11-01 02:00:00</th>\n",
       "      <td>5757</td>\n",
       "    </tr>\n",
       "    <tr>\n",
       "      <th>2023-11-01 03:00:00</th>\n",
       "      <td>5463</td>\n",
       "    </tr>\n",
       "    <tr>\n",
       "      <th>2023-11-01 04:00:00</th>\n",
       "      <td>5263</td>\n",
       "    </tr>\n",
       "  </tbody>\n",
       "</table>\n",
       "<p>44904 rows × 1 columns</p>\n",
       "</div>"
      ],
      "text/plain": [
       "                       AP\n",
       "period                   \n",
       "2018-07-01 05:00:00  4384\n",
       "2018-07-01 06:00:00  4391\n",
       "2018-07-01 07:00:00  4757\n",
       "2018-07-01 08:00:00  5308\n",
       "2018-07-01 09:00:00  5862\n",
       "...                   ...\n",
       "2023-11-01 00:00:00  5798\n",
       "2023-11-01 01:00:00  5856\n",
       "2023-11-01 02:00:00  5757\n",
       "2023-11-01 03:00:00  5463\n",
       "2023-11-01 04:00:00  5263\n",
       "\n",
       "[44904 rows x 1 columns]"
      ]
     },
     "execution_count": 5,
     "metadata": {},
     "output_type": "execute_result"
    }
   ],
   "source": [
    "df = df_base.loc[:, [region]]\n",
    "df"
   ]
  },
  {
   "attachments": {},
   "cell_type": "markdown",
   "id": "06b0811f",
   "metadata": {
    "papermill": {
     "duration": 0.005139,
     "end_time": "2023-11-26T16:53:59.334967",
     "exception": false,
     "start_time": "2023-11-26T16:53:59.329828",
     "status": "completed"
    },
    "tags": []
   },
   "source": [
    "## Data Preprocessing"
   ]
  },
  {
   "attachments": {},
   "cell_type": "markdown",
   "id": "a4bd1272",
   "metadata": {
    "papermill": {
     "duration": 0.004737,
     "end_time": "2023-11-26T16:53:59.344453",
     "exception": false,
     "start_time": "2023-11-26T16:53:59.339716",
     "status": "completed"
    },
    "tags": []
   },
   "source": [
    "### Scale Data"
   ]
  },
  {
   "cell_type": "code",
   "execution_count": 6,
   "id": "7401def6",
   "metadata": {
    "execution": {
     "iopub.execute_input": "2023-11-26T16:53:59.355723Z",
     "iopub.status.busy": "2023-11-26T16:53:59.355203Z",
     "iopub.status.idle": "2023-11-26T16:54:00.011098Z",
     "shell.execute_reply": "2023-11-26T16:54:00.010262Z"
    },
    "papermill": {
     "duration": 0.665012,
     "end_time": "2023-11-26T16:54:00.013348",
     "exception": false,
     "start_time": "2023-11-26T16:53:59.348336",
     "status": "completed"
    },
    "tags": []
   },
   "outputs": [],
   "source": [
    "from sklearn.preprocessing import MinMaxScaler\n",
    "\n",
    "# Normalize data\n",
    "scaler = MinMaxScaler(feature_range=(0, 1))\n",
    "data_norm = scaler.fit_transform(df)"
   ]
  },
  {
   "attachments": {},
   "cell_type": "markdown",
   "id": "9d080e5b",
   "metadata": {
    "papermill": {
     "duration": 0.005413,
     "end_time": "2023-11-26T16:54:00.023920",
     "exception": false,
     "start_time": "2023-11-26T16:54:00.018507",
     "status": "completed"
    },
    "tags": []
   },
   "source": [
    "### Train Test Split"
   ]
  },
  {
   "cell_type": "code",
   "execution_count": 7,
   "id": "198e99ca",
   "metadata": {
    "execution": {
     "iopub.execute_input": "2023-11-26T16:54:00.033935Z",
     "iopub.status.busy": "2023-11-26T16:54:00.033397Z",
     "iopub.status.idle": "2023-11-26T16:54:00.088047Z",
     "shell.execute_reply": "2023-11-26T16:54:00.087214Z"
    },
    "papermill": {
     "duration": 0.061779,
     "end_time": "2023-11-26T16:54:00.090127",
     "exception": false,
     "start_time": "2023-11-26T16:54:00.028348",
     "status": "completed"
    },
    "tags": []
   },
   "outputs": [],
   "source": [
    "from sklearn.model_selection import train_test_split\n",
    "\n",
    "train, test = train_test_split(data_norm, test_size=0.2, shuffle=False)"
   ]
  },
  {
   "attachments": {},
   "cell_type": "markdown",
   "id": "0435e77f",
   "metadata": {
    "papermill": {
     "duration": 0.004013,
     "end_time": "2023-11-26T16:54:00.098628",
     "exception": false,
     "start_time": "2023-11-26T16:54:00.094615",
     "status": "completed"
    },
    "tags": []
   },
   "source": [
    "### Create Sequences"
   ]
  },
  {
   "cell_type": "code",
   "execution_count": 8,
   "id": "450c9f41",
   "metadata": {
    "execution": {
     "iopub.execute_input": "2023-11-26T16:54:00.110783Z",
     "iopub.status.busy": "2023-11-26T16:54:00.110279Z",
     "iopub.status.idle": "2023-11-26T16:54:00.190235Z",
     "shell.execute_reply": "2023-11-26T16:54:00.189638Z"
    },
    "papermill": {
     "duration": 0.089756,
     "end_time": "2023-11-26T16:54:00.192747",
     "exception": false,
     "start_time": "2023-11-26T16:54:00.102991",
     "status": "completed"
    },
    "tags": []
   },
   "outputs": [],
   "source": [
    "import numpy as np\n",
    "\n",
    "def create_sequences(data, sequence_length):\n",
    "    X, y = [], []\n",
    "    for i in range(len(data) - sequence_length):\n",
    "        X.append(data[i:i+sequence_length])\n",
    "        y.append(data[i+sequence_length])\n",
    "    return np.array(X), np.array(y)\n",
    "\n",
    "sequence_length = 24 # Use 24 hours prior to predict the following hour\n",
    "X_train, y_train = create_sequences(train, sequence_length)\n",
    "X_test, y_test = create_sequences(test, sequence_length)"
   ]
  },
  {
   "attachments": {},
   "cell_type": "markdown",
   "id": "023f6fb1",
   "metadata": {
    "papermill": {
     "duration": 0.005087,
     "end_time": "2023-11-26T16:54:00.202584",
     "exception": false,
     "start_time": "2023-11-26T16:54:00.197497",
     "status": "completed"
    },
    "tags": []
   },
   "source": [
    "## Modelling"
   ]
  },
  {
   "attachments": {},
   "cell_type": "markdown",
   "id": "61ddef96",
   "metadata": {
    "papermill": {
     "duration": 0.004811,
     "end_time": "2023-11-26T16:54:00.212398",
     "exception": false,
     "start_time": "2023-11-26T16:54:00.207587",
     "status": "completed"
    },
    "tags": []
   },
   "source": [
    "### Design NN Architecture"
   ]
  },
  {
   "cell_type": "code",
   "execution_count": 9,
   "id": "8252cf9f",
   "metadata": {
    "execution": {
     "iopub.execute_input": "2023-11-26T16:54:00.223647Z",
     "iopub.status.busy": "2023-11-26T16:54:00.223121Z",
     "iopub.status.idle": "2023-11-26T16:54:05.673781Z",
     "shell.execute_reply": "2023-11-26T16:54:05.673115Z"
    },
    "papermill": {
     "duration": 5.459998,
     "end_time": "2023-11-26T16:54:05.676269",
     "exception": false,
     "start_time": "2023-11-26T16:54:00.216271",
     "status": "completed"
    },
    "tags": []
   },
   "outputs": [
    {
     "name": "stderr",
     "output_type": "stream",
     "text": [
      "2023-11-26 17:54:02.567114: I tensorflow/core/platform/cpu_feature_guard.cc:182] This TensorFlow binary is optimized to use available CPU instructions in performance-critical operations.\n",
      "To enable the following instructions: AVX2 FMA, in other operations, rebuild TensorFlow with the appropriate compiler flags.\n"
     ]
    }
   ],
   "source": [
    "from keras.models import Sequential\n",
    "from keras.layers import LSTM, Dense\n",
    "\n",
    "model = Sequential()\n",
    "model.add(LSTM(50, input_shape=(X_train.shape[1], X_train.shape[2])))\n",
    "model.add(Dense(1))\n",
    "model.compile(optimizer='adam', loss='mean_squared_error')"
   ]
  },
  {
   "attachments": {},
   "cell_type": "markdown",
   "id": "8c1d929a",
   "metadata": {
    "papermill": {
     "duration": 0.005005,
     "end_time": "2023-11-26T16:54:05.686706",
     "exception": false,
     "start_time": "2023-11-26T16:54:05.681701",
     "status": "completed"
    },
    "tags": []
   },
   "source": [
    "### Train Model"
   ]
  },
  {
   "cell_type": "code",
   "execution_count": 10,
   "id": "53c33d7a",
   "metadata": {
    "execution": {
     "iopub.execute_input": "2023-11-26T16:54:05.699462Z",
     "iopub.status.busy": "2023-11-26T16:54:05.698488Z",
     "iopub.status.idle": "2023-11-26T16:57:51.709186Z",
     "shell.execute_reply": "2023-11-26T16:57:51.706896Z"
    },
    "papermill": {
     "duration": 226.020394,
     "end_time": "2023-11-26T16:57:51.712005",
     "exception": false,
     "start_time": "2023-11-26T16:54:05.691611",
     "status": "completed"
    },
    "tags": []
   },
   "outputs": [],
   "source": [
    "from keras.callbacks import EarlyStopping\n",
    "\n",
    "early_stop = EarlyStopping(monitor='val_loss', patience=5)\n",
    "\n",
    "history = model.fit(\n",
    "    X_train, y_train, epochs=50, batch_size=64, verbose=0,\n",
    "    validation_data=(X_test, y_test), callbacks=[early_stop])"
   ]
  },
  {
   "attachments": {},
   "cell_type": "markdown",
   "id": "f9ab1403",
   "metadata": {
    "papermill": {
     "duration": 0.005254,
     "end_time": "2023-11-26T16:57:51.725359",
     "exception": false,
     "start_time": "2023-11-26T16:57:51.720105",
     "status": "completed"
    },
    "tags": []
   },
   "source": [
    "### Calculate Predictions"
   ]
  },
  {
   "cell_type": "code",
   "execution_count": 11,
   "id": "8bf39156",
   "metadata": {
    "execution": {
     "iopub.execute_input": "2023-11-26T16:57:51.738705Z",
     "iopub.status.busy": "2023-11-26T16:57:51.738304Z",
     "iopub.status.idle": "2023-11-26T16:57:53.187735Z",
     "shell.execute_reply": "2023-11-26T16:57:53.186699Z"
    },
    "papermill": {
     "duration": 1.459748,
     "end_time": "2023-11-26T16:57:53.189777",
     "exception": false,
     "start_time": "2023-11-26T16:57:51.730029",
     "status": "completed"
    },
    "tags": []
   },
   "outputs": [
    {
     "name": "stdout",
     "output_type": "stream",
     "text": [
      "\r",
      "  1/280 [..............................] - ETA: 2:05"
     ]
    },
    {
     "name": "stdout",
     "output_type": "stream",
     "text": [
      "\b\b\b\b\b\b\b\b\b\b\b\b\b\b\b\b\b\b\b\b\b\b\b\b\b\b\b\b\b\b\b\b\b\b\b\b\b\b\b\b\b\b\b\b\b\b\b\b\b\b\b\b\r",
      " 21/280 [=>............................] - ETA: 0s  "
     ]
    },
    {
     "name": "stdout",
     "output_type": "stream",
     "text": [
      "\b\b\b\b\b\b\b\b\b\b\b\b\b\b\b\b\b\b\b\b\b\b\b\b\b\b\b\b\b\b\b\b\b\b\b\b\b\b\b\b\b\b\b\b\b\b\b\b\b\b\r",
      " 42/280 [===>..........................] - ETA: 0s"
     ]
    },
    {
     "name": "stdout",
     "output_type": "stream",
     "text": [
      "\b\b\b\b\b\b\b\b\b\b\b\b\b\b\b\b\b\b\b\b\b\b\b\b\b\b\b\b\b\b\b\b\b\b\b\b\b\b\b\b\b\b\b\b\b\b\b\b\b\b\r",
      " 59/280 [=====>........................] - ETA: 0s"
     ]
    },
    {
     "name": "stdout",
     "output_type": "stream",
     "text": [
      "\b\b\b\b\b\b\b\b\b\b\b\b\b\b\b\b\b\b\b\b\b\b\b\b\b\b\b\b\b\b\b\b\b\b\b\b\b\b\b\b\b\b\b\b\b\b\b\b\b\b\r",
      " 81/280 [=======>......................] - ETA: 0s"
     ]
    },
    {
     "name": "stdout",
     "output_type": "stream",
     "text": [
      "\b\b\b\b\b\b\b\b\b\b\b\b\b\b\b\b\b\b\b\b\b\b\b\b\b\b\b\b\b\b\b\b\b\b\b\b\b\b\b\b\b\b\b\b\b\b\b\b\b\b\r",
      "102/280 [=========>....................] - ETA: 0s"
     ]
    },
    {
     "name": "stdout",
     "output_type": "stream",
     "text": [
      "\b\b\b\b\b\b\b\b\b\b\b\b\b\b\b\b\b\b\b\b\b\b\b\b\b\b\b\b\b\b\b\b\b\b\b\b\b\b\b\b\b\b\b\b\b\b\b\b\b\b\r",
      "116/280 [===========>..................] - ETA: 0s"
     ]
    },
    {
     "name": "stdout",
     "output_type": "stream",
     "text": [
      "\b\b\b\b\b\b\b\b\b\b\b\b\b\b\b\b\b\b\b\b\b\b\b\b\b\b\b\b\b\b\b\b\b\b\b\b\b\b\b\b\b\b\b\b\b\b\b\b\b\b\r",
      "127/280 [============>.................] - ETA: 0s"
     ]
    },
    {
     "name": "stdout",
     "output_type": "stream",
     "text": [
      "\b\b\b\b\b\b\b\b\b\b\b\b\b\b\b\b\b\b\b\b\b\b\b\b\b\b\b\b\b\b\b\b\b\b\b\b\b\b\b\b\b\b\b\b\b\b\b\b\b\b\r",
      "142/280 [==============>...............] - ETA: 0s"
     ]
    },
    {
     "name": "stdout",
     "output_type": "stream",
     "text": [
      "\b\b\b\b\b\b\b\b\b\b\b\b\b\b\b\b\b\b\b\b\b\b\b\b\b\b\b\b\b\b\b\b\b\b\b\b\b\b\b\b\b\b\b\b\b\b\b\b\b\b\r",
      "158/280 [===============>..............] - ETA: 0s"
     ]
    },
    {
     "name": "stdout",
     "output_type": "stream",
     "text": [
      "\b\b\b\b\b\b\b\b\b\b\b\b\b\b\b\b\b\b\b\b\b\b\b\b\b\b\b\b\b\b\b\b\b\b\b\b\b\b\b\b\b\b\b\b\b\b\b\b\b\b\r",
      "174/280 [=================>............] - ETA: 0s"
     ]
    },
    {
     "name": "stdout",
     "output_type": "stream",
     "text": [
      "\b\b\b\b\b\b\b\b\b\b\b\b\b\b\b\b\b\b\b\b\b\b\b\b\b\b\b\b\b\b\b\b\b\b\b\b\b\b\b\b\b\b\b\b\b\b\b\b\b\b\r",
      "188/280 [===================>..........] - ETA: 0s"
     ]
    },
    {
     "name": "stdout",
     "output_type": "stream",
     "text": [
      "\b\b\b\b\b\b\b\b\b\b\b\b\b\b\b\b\b\b\b\b\b\b\b\b\b\b\b\b\b\b\b\b\b\b\b\b\b\b\b\b\b\b\b\b\b\b\b\b\b\b\r",
      "204/280 [====================>.........] - ETA: 0s"
     ]
    },
    {
     "name": "stdout",
     "output_type": "stream",
     "text": [
      "\b\b\b\b\b\b\b\b\b\b\b\b\b\b\b\b\b\b\b\b\b\b\b\b\b\b\b\b\b\b\b\b\b\b\b\b\b\b\b\b\b\b\b\b\b\b\b\b\b\b\r",
      "220/280 [======================>.......] - ETA: 0s"
     ]
    },
    {
     "name": "stdout",
     "output_type": "stream",
     "text": [
      "\b\b\b\b\b\b\b\b\b\b\b\b\b\b\b\b\b\b\b\b\b\b\b\b\b\b\b\b\b\b\b\b\b\b\b\b\b\b\b\b\b\b\b\b\b\b\b\b\b\b\r",
      "236/280 [========================>.....] - ETA: 0s"
     ]
    },
    {
     "name": "stdout",
     "output_type": "stream",
     "text": [
      "\b\b\b\b\b\b\b\b\b\b\b\b\b\b\b\b\b\b\b\b\b\b\b\b\b\b\b\b\b\b\b\b\b\b\b\b\b\b\b\b\b\b\b\b\b\b\b\b\b\b\r",
      "252/280 [==========================>...] - ETA: 0s"
     ]
    },
    {
     "name": "stdout",
     "output_type": "stream",
     "text": [
      "\b\b\b\b\b\b\b\b\b\b\b\b\b\b\b\b\b\b\b\b\b\b\b\b\b\b\b\b\b\b\b\b\b\b\b\b\b\b\b\b\b\b\b\b\b\b\b\b\b\b\r",
      "271/280 [============================>.] - ETA: 0s"
     ]
    },
    {
     "name": "stdout",
     "output_type": "stream",
     "text": [
      "\b\b\b\b\b\b\b\b\b\b\b\b\b\b\b\b\b\b\b\b\b\b\b\b\b\b\b\b\b\b\b\b\b\b\b\b\b\b\b\b\b\b\b\b\b\b\b\b\b\b\r",
      "280/280 [==============================] - 1s 3ms/step\n"
     ]
    },
    {
     "data": {
      "text/plain": [
       "array([[0.27668884],\n",
       "       [0.23592606],\n",
       "       [0.21991166],\n",
       "       ...,\n",
       "       [0.3318693 ],\n",
       "       [0.3104923 ],\n",
       "       [0.26345867]], dtype=float32)"
      ]
     },
     "execution_count": 11,
     "metadata": {},
     "output_type": "execute_result"
    }
   ],
   "source": [
    "y_pred = model.predict(X_test)\n",
    "y_pred"
   ]
  },
  {
   "attachments": {},
   "cell_type": "markdown",
   "id": "5ec252eb",
   "metadata": {
    "papermill": {
     "duration": 0.00602,
     "end_time": "2023-11-26T16:57:53.201939",
     "exception": false,
     "start_time": "2023-11-26T16:57:53.195919",
     "status": "completed"
    },
    "tags": []
   },
   "source": [
    "### Comparison: Real Data & Prediction"
   ]
  },
  {
   "attachments": {},
   "cell_type": "markdown",
   "id": "3a3cba22",
   "metadata": {
    "papermill": {
     "duration": 0.005373,
     "end_time": "2023-11-26T16:57:53.213024",
     "exception": false,
     "start_time": "2023-11-26T16:57:53.207651",
     "status": "completed"
    },
    "tags": []
   },
   "source": [
    "#### Descale Data"
   ]
  },
  {
   "cell_type": "code",
   "execution_count": 12,
   "id": "9a68b80c",
   "metadata": {
    "execution": {
     "iopub.execute_input": "2023-11-26T16:57:53.226613Z",
     "iopub.status.busy": "2023-11-26T16:57:53.226309Z",
     "iopub.status.idle": "2023-11-26T16:57:53.230918Z",
     "shell.execute_reply": "2023-11-26T16:57:53.230072Z"
    },
    "papermill": {
     "duration": 0.013608,
     "end_time": "2023-11-26T16:57:53.233034",
     "exception": false,
     "start_time": "2023-11-26T16:57:53.219426",
     "status": "completed"
    },
    "tags": []
   },
   "outputs": [],
   "source": [
    "y_pred_scaled_inverse = scaler.inverse_transform(y_pred)\n",
    "y_true = scaler.inverse_transform(y_test)"
   ]
  },
  {
   "attachments": {},
   "cell_type": "markdown",
   "id": "cbf59f77",
   "metadata": {
    "papermill": {
     "duration": 0.005786,
     "end_time": "2023-11-26T16:57:53.244232",
     "exception": false,
     "start_time": "2023-11-26T16:57:53.238446",
     "status": "completed"
    },
    "tags": []
   },
   "source": [
    "#### Create DataFrame"
   ]
  },
  {
   "cell_type": "code",
   "execution_count": 13,
   "id": "89c28e8d",
   "metadata": {
    "execution": {
     "iopub.execute_input": "2023-11-26T16:57:53.257701Z",
     "iopub.status.busy": "2023-11-26T16:57:53.257406Z",
     "iopub.status.idle": "2023-11-26T16:57:53.273621Z",
     "shell.execute_reply": "2023-11-26T16:57:53.273026Z"
    },
    "papermill": {
     "duration": 0.025206,
     "end_time": "2023-11-26T16:57:53.275497",
     "exception": false,
     "start_time": "2023-11-26T16:57:53.250291",
     "status": "completed"
    },
    "tags": []
   },
   "outputs": [
    {
     "data": {
      "text/html": [
       "<div>\n",
       "<style scoped>\n",
       "    .dataframe tbody tr th:only-of-type {\n",
       "        vertical-align: middle;\n",
       "    }\n",
       "\n",
       "    .dataframe tbody tr th {\n",
       "        vertical-align: top;\n",
       "    }\n",
       "\n",
       "    .dataframe thead th {\n",
       "        text-align: right;\n",
       "    }\n",
       "</style>\n",
       "<table border=\"1\" class=\"dataframe\">\n",
       "  <thead>\n",
       "    <tr style=\"text-align: right;\">\n",
       "      <th></th>\n",
       "      <th>y_pred</th>\n",
       "      <th>y_pred_scaled_inverse</th>\n",
       "      <th>y_true</th>\n",
       "    </tr>\n",
       "  </thead>\n",
       "  <tbody>\n",
       "    <tr>\n",
       "      <th>0</th>\n",
       "      <td>0.276689</td>\n",
       "      <td>5316.436035</td>\n",
       "      <td>5213.0</td>\n",
       "    </tr>\n",
       "    <tr>\n",
       "      <th>1</th>\n",
       "      <td>0.235926</td>\n",
       "      <td>5060.323242</td>\n",
       "      <td>5106.0</td>\n",
       "    </tr>\n",
       "    <tr>\n",
       "      <th>2</th>\n",
       "      <td>0.219912</td>\n",
       "      <td>4959.705078</td>\n",
       "      <td>4940.0</td>\n",
       "    </tr>\n",
       "    <tr>\n",
       "      <th>3</th>\n",
       "      <td>0.198227</td>\n",
       "      <td>4823.458496</td>\n",
       "      <td>4764.0</td>\n",
       "    </tr>\n",
       "    <tr>\n",
       "      <th>4</th>\n",
       "      <td>0.176814</td>\n",
       "      <td>4688.923828</td>\n",
       "      <td>4614.0</td>\n",
       "    </tr>\n",
       "    <tr>\n",
       "      <th>...</th>\n",
       "      <td>...</td>\n",
       "      <td>...</td>\n",
       "      <td>...</td>\n",
       "    </tr>\n",
       "    <tr>\n",
       "      <th>8952</th>\n",
       "      <td>0.345747</td>\n",
       "      <td>5750.329102</td>\n",
       "      <td>5798.0</td>\n",
       "    </tr>\n",
       "    <tr>\n",
       "      <th>8953</th>\n",
       "      <td>0.339647</td>\n",
       "      <td>5712.002930</td>\n",
       "      <td>5856.0</td>\n",
       "    </tr>\n",
       "    <tr>\n",
       "      <th>8954</th>\n",
       "      <td>0.331869</td>\n",
       "      <td>5663.134766</td>\n",
       "      <td>5757.0</td>\n",
       "    </tr>\n",
       "    <tr>\n",
       "      <th>8955</th>\n",
       "      <td>0.310492</td>\n",
       "      <td>5528.823242</td>\n",
       "      <td>5463.0</td>\n",
       "    </tr>\n",
       "    <tr>\n",
       "      <th>8956</th>\n",
       "      <td>0.263459</td>\n",
       "      <td>5233.311035</td>\n",
       "      <td>5263.0</td>\n",
       "    </tr>\n",
       "  </tbody>\n",
       "</table>\n",
       "<p>8957 rows × 3 columns</p>\n",
       "</div>"
      ],
      "text/plain": [
       "        y_pred  y_pred_scaled_inverse  y_true\n",
       "0     0.276689            5316.436035  5213.0\n",
       "1     0.235926            5060.323242  5106.0\n",
       "2     0.219912            4959.705078  4940.0\n",
       "3     0.198227            4823.458496  4764.0\n",
       "4     0.176814            4688.923828  4614.0\n",
       "...        ...                    ...     ...\n",
       "8952  0.345747            5750.329102  5798.0\n",
       "8953  0.339647            5712.002930  5856.0\n",
       "8954  0.331869            5663.134766  5757.0\n",
       "8955  0.310492            5528.823242  5463.0\n",
       "8956  0.263459            5233.311035  5263.0\n",
       "\n",
       "[8957 rows x 3 columns]"
      ]
     },
     "execution_count": 13,
     "metadata": {},
     "output_type": "execute_result"
    }
   ],
   "source": [
    "dic_pred = {\n",
    "    'y_pred': y_pred.flatten(),\n",
    "    'y_pred_scaled_inverse': y_pred_scaled_inverse.flatten(),\n",
    "    'y_true': y_true.flatten(),\n",
    "}\n",
    "\n",
    "df_pred = pd.DataFrame(dic_pred)\n",
    "df_pred"
   ]
  },
  {
   "attachments": {},
   "cell_type": "markdown",
   "id": "24c0fddb",
   "metadata": {
    "papermill": {
     "duration": 0.00627,
     "end_time": "2023-11-26T16:57:53.287254",
     "exception": false,
     "start_time": "2023-11-26T16:57:53.280984",
     "status": "completed"
    },
    "tags": []
   },
   "source": [
    "#### Evaluate Model"
   ]
  },
  {
   "cell_type": "code",
   "execution_count": 14,
   "id": "5ff0601a",
   "metadata": {
    "execution": {
     "iopub.execute_input": "2023-11-26T16:57:53.300260Z",
     "iopub.status.busy": "2023-11-26T16:57:53.299866Z",
     "iopub.status.idle": "2023-11-26T16:57:53.303834Z",
     "shell.execute_reply": "2023-11-26T16:57:53.303203Z"
    },
    "papermill": {
     "duration": 0.012674,
     "end_time": "2023-11-26T16:57:53.305969",
     "exception": false,
     "start_time": "2023-11-26T16:57:53.293295",
     "status": "completed"
    },
    "tags": []
   },
   "outputs": [],
   "source": [
    "from sklearn.metrics import mean_squared_error"
   ]
  },
  {
   "cell_type": "code",
   "execution_count": 15,
   "id": "ce301446",
   "metadata": {
    "execution": {
     "iopub.execute_input": "2023-11-26T16:57:53.363577Z",
     "iopub.status.busy": "2023-11-26T16:57:53.363184Z",
     "iopub.status.idle": "2023-11-26T16:57:53.372456Z",
     "shell.execute_reply": "2023-11-26T16:57:53.371745Z"
    },
    "papermill": {
     "duration": 0.038006,
     "end_time": "2023-11-26T16:57:53.374302",
     "exception": false,
     "start_time": "2023-11-26T16:57:53.336296",
     "status": "completed"
    },
    "tags": []
   },
   "outputs": [
    {
     "data": {
      "text/plain": [
       "72.79515199203921"
      ]
     },
     "execution_count": 15,
     "metadata": {},
     "output_type": "execute_result"
    }
   ],
   "source": [
    "mean_squared_error(df_pred.y_true, df_pred.y_pred_scaled_inverse, squared=False)"
   ]
  },
  {
   "cell_type": "code",
   "execution_count": 16,
   "id": "cccbc3fc",
   "metadata": {
    "execution": {
     "iopub.execute_input": "2023-11-26T16:57:53.387301Z",
     "iopub.status.busy": "2023-11-26T16:57:53.387009Z",
     "iopub.status.idle": "2023-11-26T16:57:53.437665Z",
     "shell.execute_reply": "2023-11-26T16:57:53.436047Z"
    },
    "papermill": {
     "duration": 0.06112,
     "end_time": "2023-11-26T16:57:53.440876",
     "exception": false,
     "start_time": "2023-11-26T16:57:53.379756",
     "status": "completed"
    },
    "tags": []
   },
   "outputs": [],
   "source": [
    "model.save(f'../models/{region}.keras')"
   ]
  }
 ],
 "metadata": {
  "kernelspec": {
   "display_name": "deep-learning",
   "language": "python",
   "name": "python3"
  },
  "language_info": {
   "codemirror_mode": {
    "name": "ipython",
    "version": 3
   },
   "file_extension": ".py",
   "mimetype": "text/x-python",
   "name": "python",
   "nbconvert_exporter": "python",
   "pygments_lexer": "ipython3",
   "version": "3.9.18"
  },
  "papermill": {
   "default_parameters": {},
   "duration": 237.503834,
   "end_time": "2023-11-26T16:57:54.590894",
   "environment_variables": {},
   "exception": null,
   "input_path": "Modelling.ipynb",
   "output_path": "outputs/AP.ipynb",
   "parameters": {
    "region": "AP"
   },
   "start_time": "2023-11-26T16:53:57.087060",
   "version": "2.5.0"
  }
 },
 "nbformat": 4,
 "nbformat_minor": 5
}