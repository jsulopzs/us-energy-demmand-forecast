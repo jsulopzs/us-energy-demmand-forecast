{
 "cells": [
  {
   "attachments": {},
   "cell_type": "markdown",
   "id": "d1ef9e90",
   "metadata": {
    "papermill": {
     "duration": 0.001916,
     "end_time": "2023-12-13T13:13:25.183103",
     "exception": false,
     "start_time": "2023-12-13T13:13:25.181187",
     "status": "completed"
    },
    "tags": []
   },
   "source": [
    "## Load data"
   ]
  },
  {
   "cell_type": "code",
   "execution_count": 1,
   "id": "f7114825",
   "metadata": {
    "execution": {
     "iopub.execute_input": "2023-12-13T13:13:25.202488Z",
     "iopub.status.busy": "2023-12-13T13:13:25.202488Z",
     "iopub.status.idle": "2023-12-13T13:13:25.565897Z",
     "shell.execute_reply": "2023-12-13T13:13:25.565018Z"
    },
    "papermill": {
     "duration": 0.384047,
     "end_time": "2023-12-13T13:13:25.567150",
     "exception": false,
     "start_time": "2023-12-13T13:13:25.183103",
     "status": "completed"
    },
    "tags": []
   },
   "outputs": [],
   "source": [
    "import pandas as pd"
   ]
  },
  {
   "cell_type": "code",
   "execution_count": 2,
   "id": "bcf1fdd3",
   "metadata": {
    "execution": {
     "iopub.execute_input": "2023-12-13T13:13:25.567150Z",
     "iopub.status.busy": "2023-12-13T13:13:25.567150Z",
     "iopub.status.idle": "2023-12-13T13:13:25.699439Z",
     "shell.execute_reply": "2023-12-13T13:13:25.699439Z"
    },
    "papermill": {
     "duration": 0.133614,
     "end_time": "2023-12-13T13:13:25.700764",
     "exception": false,
     "start_time": "2023-12-13T13:13:25.567150",
     "status": "completed"
    },
    "tags": []
   },
   "outputs": [
    {
     "data": {
      "text/html": [
       "<div>\n",
       "<style scoped>\n",
       "    .dataframe tbody tr th:only-of-type {\n",
       "        vertical-align: middle;\n",
       "    }\n",
       "\n",
       "    .dataframe tbody tr th {\n",
       "        vertical-align: top;\n",
       "    }\n",
       "\n",
       "    .dataframe thead th {\n",
       "        text-align: right;\n",
       "    }\n",
       "</style>\n",
       "<table border=\"1\" class=\"dataframe\">\n",
       "  <thead>\n",
       "    <tr style=\"text-align: right;\">\n",
       "      <th></th>\n",
       "      <th>AE</th>\n",
       "      <th>AEP</th>\n",
       "      <th>AP</th>\n",
       "      <th>ATSI</th>\n",
       "      <th>BC</th>\n",
       "      <th>CE</th>\n",
       "      <th>DAY</th>\n",
       "      <th>DEOK</th>\n",
       "      <th>DOM</th>\n",
       "      <th>DPL</th>\n",
       "      <th>DUQ</th>\n",
       "      <th>EKPC</th>\n",
       "      <th>JC</th>\n",
       "      <th>ME</th>\n",
       "      <th>PE</th>\n",
       "      <th>PEP</th>\n",
       "      <th>PL</th>\n",
       "      <th>PN</th>\n",
       "      <th>PS</th>\n",
       "      <th>RECO</th>\n",
       "    </tr>\n",
       "    <tr>\n",
       "      <th>period</th>\n",
       "      <th></th>\n",
       "      <th></th>\n",
       "      <th></th>\n",
       "      <th></th>\n",
       "      <th></th>\n",
       "      <th></th>\n",
       "      <th></th>\n",
       "      <th></th>\n",
       "      <th></th>\n",
       "      <th></th>\n",
       "      <th></th>\n",
       "      <th></th>\n",
       "      <th></th>\n",
       "      <th></th>\n",
       "      <th></th>\n",
       "      <th></th>\n",
       "      <th></th>\n",
       "      <th></th>\n",
       "      <th></th>\n",
       "      <th></th>\n",
       "    </tr>\n",
       "  </thead>\n",
       "  <tbody>\n",
       "    <tr>\n",
       "      <th>2018-07-01 05:00:00</th>\n",
       "      <td>1301</td>\n",
       "      <td>12187</td>\n",
       "      <td>4384</td>\n",
       "      <td>6960</td>\n",
       "      <td>3134</td>\n",
       "      <td>12136</td>\n",
       "      <td>1619</td>\n",
       "      <td>2895</td>\n",
       "      <td>9775</td>\n",
       "      <td>1919</td>\n",
       "      <td>1466</td>\n",
       "      <td>1209</td>\n",
       "      <td>2388</td>\n",
       "      <td>1442</td>\n",
       "      <td>4397</td>\n",
       "      <td>3165</td>\n",
       "      <td>3835</td>\n",
       "      <td>1611</td>\n",
       "      <td>5009</td>\n",
       "      <td>186</td>\n",
       "    </tr>\n",
       "    <tr>\n",
       "      <th>2018-07-01 06:00:00</th>\n",
       "      <td>1314</td>\n",
       "      <td>11946</td>\n",
       "      <td>4391</td>\n",
       "      <td>6762</td>\n",
       "      <td>3139</td>\n",
       "      <td>11872</td>\n",
       "      <td>1605</td>\n",
       "      <td>2857</td>\n",
       "      <td>9787</td>\n",
       "      <td>1950</td>\n",
       "      <td>1455</td>\n",
       "      <td>1197</td>\n",
       "      <td>2416</td>\n",
       "      <td>1465</td>\n",
       "      <td>4423</td>\n",
       "      <td>3156</td>\n",
       "      <td>3901</td>\n",
       "      <td>1641</td>\n",
       "      <td>4990</td>\n",
       "      <td>187</td>\n",
       "    </tr>\n",
       "    <tr>\n",
       "      <th>2018-07-01 07:00:00</th>\n",
       "      <td>1410</td>\n",
       "      <td>12664</td>\n",
       "      <td>4757</td>\n",
       "      <td>6670</td>\n",
       "      <td>3377</td>\n",
       "      <td>11992</td>\n",
       "      <td>1707</td>\n",
       "      <td>2997</td>\n",
       "      <td>10453</td>\n",
       "      <td>2160</td>\n",
       "      <td>1528</td>\n",
       "      <td>1273</td>\n",
       "      <td>2644</td>\n",
       "      <td>1605</td>\n",
       "      <td>4743</td>\n",
       "      <td>3332</td>\n",
       "      <td>4232</td>\n",
       "      <td>1728</td>\n",
       "      <td>5267</td>\n",
       "      <td>202</td>\n",
       "    </tr>\n",
       "    <tr>\n",
       "      <th>2018-07-01 08:00:00</th>\n",
       "      <td>1567</td>\n",
       "      <td>14069</td>\n",
       "      <td>5308</td>\n",
       "      <td>7065</td>\n",
       "      <td>3788</td>\n",
       "      <td>12860</td>\n",
       "      <td>1916</td>\n",
       "      <td>3331</td>\n",
       "      <td>11734</td>\n",
       "      <td>2470</td>\n",
       "      <td>1688</td>\n",
       "      <td>1472</td>\n",
       "      <td>3064</td>\n",
       "      <td>1784</td>\n",
       "      <td>5230</td>\n",
       "      <td>3679</td>\n",
       "      <td>4613</td>\n",
       "      <td>1899</td>\n",
       "      <td>5735</td>\n",
       "      <td>230</td>\n",
       "    </tr>\n",
       "    <tr>\n",
       "      <th>2018-07-01 09:00:00</th>\n",
       "      <td>1749</td>\n",
       "      <td>15610</td>\n",
       "      <td>5862</td>\n",
       "      <td>7833</td>\n",
       "      <td>4262</td>\n",
       "      <td>14212</td>\n",
       "      <td>2145</td>\n",
       "      <td>3703</td>\n",
       "      <td>13084</td>\n",
       "      <td>2765</td>\n",
       "      <td>1875</td>\n",
       "      <td>1656</td>\n",
       "      <td>3569</td>\n",
       "      <td>1972</td>\n",
       "      <td>5752</td>\n",
       "      <td>4085</td>\n",
       "      <td>5014</td>\n",
       "      <td>2055</td>\n",
       "      <td>6299</td>\n",
       "      <td>259</td>\n",
       "    </tr>\n",
       "  </tbody>\n",
       "</table>\n",
       "</div>"
      ],
      "text/plain": [
       "                       AE    AEP    AP  ATSI    BC     CE   DAY  DEOK    DOM  \\\n",
       "period                                                                         \n",
       "2018-07-01 05:00:00  1301  12187  4384  6960  3134  12136  1619  2895   9775   \n",
       "2018-07-01 06:00:00  1314  11946  4391  6762  3139  11872  1605  2857   9787   \n",
       "2018-07-01 07:00:00  1410  12664  4757  6670  3377  11992  1707  2997  10453   \n",
       "2018-07-01 08:00:00  1567  14069  5308  7065  3788  12860  1916  3331  11734   \n",
       "2018-07-01 09:00:00  1749  15610  5862  7833  4262  14212  2145  3703  13084   \n",
       "\n",
       "                      DPL   DUQ  EKPC    JC    ME    PE   PEP    PL    PN  \\\n",
       "period                                                                      \n",
       "2018-07-01 05:00:00  1919  1466  1209  2388  1442  4397  3165  3835  1611   \n",
       "2018-07-01 06:00:00  1950  1455  1197  2416  1465  4423  3156  3901  1641   \n",
       "2018-07-01 07:00:00  2160  1528  1273  2644  1605  4743  3332  4232  1728   \n",
       "2018-07-01 08:00:00  2470  1688  1472  3064  1784  5230  3679  4613  1899   \n",
       "2018-07-01 09:00:00  2765  1875  1656  3569  1972  5752  4085  5014  2055   \n",
       "\n",
       "                       PS  RECO  \n",
       "period                           \n",
       "2018-07-01 05:00:00  5009   186  \n",
       "2018-07-01 06:00:00  4990   187  \n",
       "2018-07-01 07:00:00  5267   202  \n",
       "2018-07-01 08:00:00  5735   230  \n",
       "2018-07-01 09:00:00  6299   259  "
      ]
     },
     "execution_count": 2,
     "metadata": {},
     "output_type": "execute_result"
    }
   ],
   "source": [
    "df_base = pd.read_csv('../data/general/pjm_pivot.csv', index_col=0, parse_dates=True)\n",
    "df_base.head()"
   ]
  },
  {
   "attachments": {},
   "cell_type": "markdown",
   "id": "63d0289a",
   "metadata": {
    "papermill": {
     "duration": 0.011003,
     "end_time": "2023-12-13T13:13:25.719373",
     "exception": false,
     "start_time": "2023-12-13T13:13:25.708370",
     "status": "completed"
    },
    "tags": []
   },
   "source": [
    "## Select region"
   ]
  },
  {
   "cell_type": "code",
   "execution_count": 3,
   "id": "f43af0ab",
   "metadata": {
    "execution": {
     "iopub.execute_input": "2023-12-13T13:13:25.735376Z",
     "iopub.status.busy": "2023-12-13T13:13:25.735376Z",
     "iopub.status.idle": "2023-12-13T13:13:25.747952Z",
     "shell.execute_reply": "2023-12-13T13:13:25.747952Z"
    },
    "papermill": {
     "duration": 0.024578,
     "end_time": "2023-12-13T13:13:25.750952",
     "exception": false,
     "start_time": "2023-12-13T13:13:25.726374",
     "status": "completed"
    },
    "tags": [
     "parameters"
    ]
   },
   "outputs": [],
   "source": [
    "region = 'AE'"
   ]
  },
  {
   "cell_type": "code",
   "execution_count": 4,
   "id": "6b845ce6",
   "metadata": {
    "execution": {
     "iopub.execute_input": "2023-12-13T13:13:25.768956Z",
     "iopub.status.busy": "2023-12-13T13:13:25.767956Z",
     "iopub.status.idle": "2023-12-13T13:13:25.779938Z",
     "shell.execute_reply": "2023-12-13T13:13:25.779938Z"
    },
    "papermill": {
     "duration": 0.023984,
     "end_time": "2023-12-13T13:13:25.781938",
     "exception": false,
     "start_time": "2023-12-13T13:13:25.757954",
     "status": "completed"
    },
    "tags": [
     "injected-parameters"
    ]
   },
   "outputs": [],
   "source": [
    "# Parameters\n",
    "region = \"DPL\"\n"
   ]
  },
  {
   "cell_type": "code",
   "execution_count": 5,
   "id": "5ff97582",
   "metadata": {
    "execution": {
     "iopub.execute_input": "2023-12-13T13:13:25.796942Z",
     "iopub.status.busy": "2023-12-13T13:13:25.795941Z",
     "iopub.status.idle": "2023-12-13T13:13:25.817413Z",
     "shell.execute_reply": "2023-12-13T13:13:25.816172Z"
    },
    "papermill": {
     "duration": 0.028473,
     "end_time": "2023-12-13T13:13:25.817413",
     "exception": false,
     "start_time": "2023-12-13T13:13:25.788940",
     "status": "completed"
    },
    "tags": []
   },
   "outputs": [
    {
     "data": {
      "text/html": [
       "<div>\n",
       "<style scoped>\n",
       "    .dataframe tbody tr th:only-of-type {\n",
       "        vertical-align: middle;\n",
       "    }\n",
       "\n",
       "    .dataframe tbody tr th {\n",
       "        vertical-align: top;\n",
       "    }\n",
       "\n",
       "    .dataframe thead th {\n",
       "        text-align: right;\n",
       "    }\n",
       "</style>\n",
       "<table border=\"1\" class=\"dataframe\">\n",
       "  <thead>\n",
       "    <tr style=\"text-align: right;\">\n",
       "      <th></th>\n",
       "      <th>DPL</th>\n",
       "    </tr>\n",
       "    <tr>\n",
       "      <th>period</th>\n",
       "      <th></th>\n",
       "    </tr>\n",
       "  </thead>\n",
       "  <tbody>\n",
       "    <tr>\n",
       "      <th>2018-07-01 05:00:00</th>\n",
       "      <td>1919</td>\n",
       "    </tr>\n",
       "    <tr>\n",
       "      <th>2018-07-01 06:00:00</th>\n",
       "      <td>1950</td>\n",
       "    </tr>\n",
       "    <tr>\n",
       "      <th>2018-07-01 07:00:00</th>\n",
       "      <td>2160</td>\n",
       "    </tr>\n",
       "    <tr>\n",
       "      <th>2018-07-01 08:00:00</th>\n",
       "      <td>2470</td>\n",
       "    </tr>\n",
       "    <tr>\n",
       "      <th>2018-07-01 09:00:00</th>\n",
       "      <td>2765</td>\n",
       "    </tr>\n",
       "    <tr>\n",
       "      <th>...</th>\n",
       "      <td>...</td>\n",
       "    </tr>\n",
       "    <tr>\n",
       "      <th>2023-11-01 00:00:00</th>\n",
       "      <td>1936</td>\n",
       "    </tr>\n",
       "    <tr>\n",
       "      <th>2023-11-01 01:00:00</th>\n",
       "      <td>1934</td>\n",
       "    </tr>\n",
       "    <tr>\n",
       "      <th>2023-11-01 02:00:00</th>\n",
       "      <td>1876</td>\n",
       "    </tr>\n",
       "    <tr>\n",
       "      <th>2023-11-01 03:00:00</th>\n",
       "      <td>1756</td>\n",
       "    </tr>\n",
       "    <tr>\n",
       "      <th>2023-11-01 04:00:00</th>\n",
       "      <td>1638</td>\n",
       "    </tr>\n",
       "  </tbody>\n",
       "</table>\n",
       "<p>44904 rows × 1 columns</p>\n",
       "</div>"
      ],
      "text/plain": [
       "                      DPL\n",
       "period                   \n",
       "2018-07-01 05:00:00  1919\n",
       "2018-07-01 06:00:00  1950\n",
       "2018-07-01 07:00:00  2160\n",
       "2018-07-01 08:00:00  2470\n",
       "2018-07-01 09:00:00  2765\n",
       "...                   ...\n",
       "2023-11-01 00:00:00  1936\n",
       "2023-11-01 01:00:00  1934\n",
       "2023-11-01 02:00:00  1876\n",
       "2023-11-01 03:00:00  1756\n",
       "2023-11-01 04:00:00  1638\n",
       "\n",
       "[44904 rows x 1 columns]"
      ]
     },
     "execution_count": 5,
     "metadata": {},
     "output_type": "execute_result"
    }
   ],
   "source": [
    "df = df_base.loc[:, [region]]\n",
    "df"
   ]
  },
  {
   "attachments": {},
   "cell_type": "markdown",
   "id": "ce071b33",
   "metadata": {
    "papermill": {
     "duration": 0.0,
     "end_time": "2023-12-13T13:13:25.817413",
     "exception": false,
     "start_time": "2023-12-13T13:13:25.817413",
     "status": "completed"
    },
    "tags": []
   },
   "source": [
    "## Data Preprocessing"
   ]
  },
  {
   "cell_type": "markdown",
   "id": "70f9825a",
   "metadata": {
    "papermill": {
     "duration": 0.0,
     "end_time": "2023-12-13T13:13:25.837070",
     "exception": false,
     "start_time": "2023-12-13T13:13:25.837070",
     "status": "completed"
    },
    "tags": []
   },
   "source": [
    "### Train Test Split"
   ]
  },
  {
   "cell_type": "code",
   "execution_count": 6,
   "id": "259e1ccb",
   "metadata": {
    "execution": {
     "iopub.execute_input": "2023-12-13T13:13:25.850527Z",
     "iopub.status.busy": "2023-12-13T13:13:25.850527Z",
     "iopub.status.idle": "2023-12-13T13:13:26.300924Z",
     "shell.execute_reply": "2023-12-13T13:13:26.299920Z"
    },
    "papermill": {
     "duration": 0.450642,
     "end_time": "2023-12-13T13:13:26.301169",
     "exception": false,
     "start_time": "2023-12-13T13:13:25.850527",
     "status": "completed"
    },
    "tags": []
   },
   "outputs": [],
   "source": [
    "from sklearn.model_selection import train_test_split\n",
    "\n",
    "train, test = train_test_split(df, test_size=0.3, shuffle=False)\n",
    "test, prod = train_test_split(test, test_size=0.5, shuffle=False)"
   ]
  },
  {
   "cell_type": "markdown",
   "id": "776a7943",
   "metadata": {
    "papermill": {
     "duration": 0.0,
     "end_time": "2023-12-13T13:13:26.301169",
     "exception": false,
     "start_time": "2023-12-13T13:13:26.301169",
     "status": "completed"
    },
    "tags": []
   },
   "source": [
    "### Export Data"
   ]
  },
  {
   "cell_type": "code",
   "execution_count": 7,
   "id": "d0f1f708",
   "metadata": {
    "execution": {
     "iopub.execute_input": "2023-12-13T13:13:26.318276Z",
     "iopub.status.busy": "2023-12-13T13:13:26.318276Z",
     "iopub.status.idle": "2023-12-13T13:13:26.451133Z",
     "shell.execute_reply": "2023-12-13T13:13:26.450058Z"
    },
    "papermill": {
     "duration": 0.133216,
     "end_time": "2023-12-13T13:13:26.451492",
     "exception": false,
     "start_time": "2023-12-13T13:13:26.318276",
     "status": "completed"
    },
    "tags": []
   },
   "outputs": [],
   "source": [
    "import os\n",
    "\n",
    "path_region = f'../data/regions/{region}'\n",
    "\n",
    "if not os.path.exists(path_region):\n",
    "    os.makedirs(path_region)\n",
    "\n",
    "for df, name in zip([train, test, prod], ['train', 'test', 'prod']):\n",
    "    df.to_csv(f'{path_region}/{name}.csv')"
   ]
  },
  {
   "attachments": {},
   "cell_type": "markdown",
   "id": "59f4a465",
   "metadata": {
    "papermill": {
     "duration": 0.015626,
     "end_time": "2023-12-13T13:13:26.467118",
     "exception": false,
     "start_time": "2023-12-13T13:13:26.451492",
     "status": "completed"
    },
    "tags": []
   },
   "source": [
    "### Scale Data"
   ]
  },
  {
   "cell_type": "code",
   "execution_count": 8,
   "id": "24fc16a4",
   "metadata": {
    "execution": {
     "iopub.execute_input": "2023-12-13T13:13:26.484721Z",
     "iopub.status.busy": "2023-12-13T13:13:26.484721Z",
     "iopub.status.idle": "2023-12-13T13:13:26.506159Z",
     "shell.execute_reply": "2023-12-13T13:13:26.505158Z"
    },
    "papermill": {
     "duration": 0.037454,
     "end_time": "2023-12-13T13:13:26.508159",
     "exception": false,
     "start_time": "2023-12-13T13:13:26.470705",
     "status": "completed"
    },
    "tags": []
   },
   "outputs": [],
   "source": [
    "from sklearn.preprocessing import MinMaxScaler\n",
    "\n",
    "scaler = MinMaxScaler(feature_range=(0, 1))\n",
    "\n",
    "train_norm = scaler.fit_transform(train)\n",
    "test_norm = scaler.transform(test)"
   ]
  },
  {
   "attachments": {},
   "cell_type": "markdown",
   "id": "60b868e6",
   "metadata": {
    "papermill": {
     "duration": 0.0,
     "end_time": "2023-12-13T13:13:26.518305",
     "exception": false,
     "start_time": "2023-12-13T13:13:26.518305",
     "status": "completed"
    },
    "tags": []
   },
   "source": [
    "### Create Sequences"
   ]
  },
  {
   "cell_type": "code",
   "execution_count": 9,
   "id": "2b7346fa",
   "metadata": {
    "execution": {
     "iopub.execute_input": "2023-12-13T13:13:26.535167Z",
     "iopub.status.busy": "2023-12-13T13:13:26.535167Z",
     "iopub.status.idle": "2023-12-13T13:13:26.617816Z",
     "shell.execute_reply": "2023-12-13T13:13:26.617083Z"
    },
    "papermill": {
     "duration": 0.082929,
     "end_time": "2023-12-13T13:13:26.618096",
     "exception": false,
     "start_time": "2023-12-13T13:13:26.535167",
     "status": "completed"
    },
    "tags": []
   },
   "outputs": [],
   "source": [
    "import numpy as np\n",
    "\n",
    "def create_sequences(data, sequence_length):\n",
    "    X, y = [], []\n",
    "    for i in range(len(data) - sequence_length):\n",
    "        X.append(data[i:i+sequence_length])\n",
    "        y.append(data[i+sequence_length])\n",
    "    return np.array(X), np.array(y)\n",
    "\n",
    "sequence_length = 24 # Use 24 hours prior to predict the following hour\n",
    "X_train, y_train = create_sequences(train_norm, sequence_length)\n",
    "X_test, y_test = create_sequences(test_norm, sequence_length)"
   ]
  },
  {
   "attachments": {},
   "cell_type": "markdown",
   "id": "67763f96",
   "metadata": {
    "papermill": {
     "duration": 0.015483,
     "end_time": "2023-12-13T13:13:26.633579",
     "exception": false,
     "start_time": "2023-12-13T13:13:26.618096",
     "status": "completed"
    },
    "tags": []
   },
   "source": [
    "## Modelling"
   ]
  },
  {
   "attachments": {},
   "cell_type": "markdown",
   "id": "7043657c",
   "metadata": {
    "papermill": {
     "duration": 0.016881,
     "end_time": "2023-12-13T13:13:26.651465",
     "exception": false,
     "start_time": "2023-12-13T13:13:26.634584",
     "status": "completed"
    },
    "tags": []
   },
   "source": [
    "### Design NN Architecture"
   ]
  },
  {
   "cell_type": "code",
   "execution_count": 10,
   "id": "2337ebc6",
   "metadata": {
    "execution": {
     "iopub.execute_input": "2023-12-13T13:13:26.670981Z",
     "iopub.status.busy": "2023-12-13T13:13:26.669982Z",
     "iopub.status.idle": "2023-12-13T13:13:28.218210Z",
     "shell.execute_reply": "2023-12-13T13:13:28.217537Z"
    },
    "papermill": {
     "duration": 1.563895,
     "end_time": "2023-12-13T13:13:28.218982",
     "exception": false,
     "start_time": "2023-12-13T13:13:26.655087",
     "status": "completed"
    },
    "tags": []
   },
   "outputs": [
    {
     "name": "stderr",
     "output_type": "stream",
     "text": [
      "c:\\Users\\jesus\\miniconda3\\envs\\tf-base\\lib\\site-packages\\tensorflow\\python\\framework\\dtypes.py:516: FutureWarning: Passing (type, 1) or '1type' as a synonym of type is deprecated; in a future version of numpy, it will be understood as (type, (1,)) / '(1,)type'.\n",
      "  _np_qint8 = np.dtype([(\"qint8\", np.int8, 1)])\n",
      "c:\\Users\\jesus\\miniconda3\\envs\\tf-base\\lib\\site-packages\\tensorflow\\python\\framework\\dtypes.py:517: FutureWarning: Passing (type, 1) or '1type' as a synonym of type is deprecated; in a future version of numpy, it will be understood as (type, (1,)) / '(1,)type'.\n",
      "  _np_quint8 = np.dtype([(\"quint8\", np.uint8, 1)])\n",
      "c:\\Users\\jesus\\miniconda3\\envs\\tf-base\\lib\\site-packages\\tensorflow\\python\\framework\\dtypes.py:518: FutureWarning: Passing (type, 1) or '1type' as a synonym of type is deprecated; in a future version of numpy, it will be understood as (type, (1,)) / '(1,)type'.\n",
      "  _np_qint16 = np.dtype([(\"qint16\", np.int16, 1)])\n",
      "c:\\Users\\jesus\\miniconda3\\envs\\tf-base\\lib\\site-packages\\tensorflow\\python\\framework\\dtypes.py:519: FutureWarning: Passing (type, 1) or '1type' as a synonym of type is deprecated; in a future version of numpy, it will be understood as (type, (1,)) / '(1,)type'.\n",
      "  _np_quint16 = np.dtype([(\"quint16\", np.uint16, 1)])\n",
      "c:\\Users\\jesus\\miniconda3\\envs\\tf-base\\lib\\site-packages\\tensorflow\\python\\framework\\dtypes.py:520: FutureWarning: Passing (type, 1) or '1type' as a synonym of type is deprecated; in a future version of numpy, it will be understood as (type, (1,)) / '(1,)type'.\n",
      "  _np_qint32 = np.dtype([(\"qint32\", np.int32, 1)])\n",
      "c:\\Users\\jesus\\miniconda3\\envs\\tf-base\\lib\\site-packages\\tensorflow\\python\\framework\\dtypes.py:525: FutureWarning: Passing (type, 1) or '1type' as a synonym of type is deprecated; in a future version of numpy, it will be understood as (type, (1,)) / '(1,)type'.\n",
      "  np_resource = np.dtype([(\"resource\", np.ubyte, 1)])\n"
     ]
    },
    {
     "name": "stdout",
     "output_type": "stream",
     "text": [
      "WARNING:tensorflow:From c:\\Users\\jesus\\miniconda3\\envs\\tf-base\\lib\\site-packages\\tensorflow\\python\\ops\\init_ops.py:1251: calling VarianceScaling.__init__ (from tensorflow.python.ops.init_ops) with dtype is deprecated and will be removed in a future version.\n",
      "Instructions for updating:\n",
      "Call initializer instance with the dtype argument instead of passing it to the constructor\n"
     ]
    },
    {
     "name": "stderr",
     "output_type": "stream",
     "text": [
      "c:\\Users\\jesus\\miniconda3\\envs\\tf-base\\lib\\site-packages\\tensorboard\\compat\\tensorflow_stub\\dtypes.py:541: FutureWarning: Passing (type, 1) or '1type' as a synonym of type is deprecated; in a future version of numpy, it will be understood as (type, (1,)) / '(1,)type'.\n",
      "  _np_qint8 = np.dtype([(\"qint8\", np.int8, 1)])\n",
      "c:\\Users\\jesus\\miniconda3\\envs\\tf-base\\lib\\site-packages\\tensorboard\\compat\\tensorflow_stub\\dtypes.py:542: FutureWarning: Passing (type, 1) or '1type' as a synonym of type is deprecated; in a future version of numpy, it will be understood as (type, (1,)) / '(1,)type'.\n",
      "  _np_quint8 = np.dtype([(\"quint8\", np.uint8, 1)])\n",
      "c:\\Users\\jesus\\miniconda3\\envs\\tf-base\\lib\\site-packages\\tensorboard\\compat\\tensorflow_stub\\dtypes.py:543: FutureWarning: Passing (type, 1) or '1type' as a synonym of type is deprecated; in a future version of numpy, it will be understood as (type, (1,)) / '(1,)type'.\n",
      "  _np_qint16 = np.dtype([(\"qint16\", np.int16, 1)])\n",
      "c:\\Users\\jesus\\miniconda3\\envs\\tf-base\\lib\\site-packages\\tensorboard\\compat\\tensorflow_stub\\dtypes.py:544: FutureWarning: Passing (type, 1) or '1type' as a synonym of type is deprecated; in a future version of numpy, it will be understood as (type, (1,)) / '(1,)type'.\n",
      "  _np_quint16 = np.dtype([(\"quint16\", np.uint16, 1)])\n",
      "c:\\Users\\jesus\\miniconda3\\envs\\tf-base\\lib\\site-packages\\tensorboard\\compat\\tensorflow_stub\\dtypes.py:545: FutureWarning: Passing (type, 1) or '1type' as a synonym of type is deprecated; in a future version of numpy, it will be understood as (type, (1,)) / '(1,)type'.\n",
      "  _np_qint32 = np.dtype([(\"qint32\", np.int32, 1)])\n",
      "c:\\Users\\jesus\\miniconda3\\envs\\tf-base\\lib\\site-packages\\tensorboard\\compat\\tensorflow_stub\\dtypes.py:550: FutureWarning: Passing (type, 1) or '1type' as a synonym of type is deprecated; in a future version of numpy, it will be understood as (type, (1,)) / '(1,)type'.\n",
      "  np_resource = np.dtype([(\"resource\", np.ubyte, 1)])\n"
     ]
    }
   ],
   "source": [
    "from tensorflow.keras.models import Sequential\n",
    "from tensorflow.keras.layers import LSTM, Dense\n",
    "\n",
    "model = Sequential()\n",
    "model.add(LSTM(50, input_shape=(X_train.shape[1], X_train.shape[2])))\n",
    "model.add(Dense(1))\n",
    "model.compile(optimizer='adam', loss='mean_squared_error')"
   ]
  },
  {
   "attachments": {},
   "cell_type": "markdown",
   "id": "66f41f02",
   "metadata": {
    "papermill": {
     "duration": 0.018005,
     "end_time": "2023-12-13T13:13:28.236987",
     "exception": false,
     "start_time": "2023-12-13T13:13:28.218982",
     "status": "completed"
    },
    "tags": []
   },
   "source": [
    "### Train Model"
   ]
  },
  {
   "cell_type": "code",
   "execution_count": 11,
   "id": "d3f527d8",
   "metadata": {
    "execution": {
     "iopub.execute_input": "2023-12-13T13:13:28.257708Z",
     "iopub.status.busy": "2023-12-13T13:13:28.257206Z",
     "iopub.status.idle": "2023-12-13T13:16:53.347884Z",
     "shell.execute_reply": "2023-12-13T13:16:53.347441Z"
    },
    "papermill": {
     "duration": 205.101895,
     "end_time": "2023-12-13T13:16:53.347884",
     "exception": false,
     "start_time": "2023-12-13T13:13:28.245989",
     "status": "completed"
    },
    "tags": []
   },
   "outputs": [
    {
     "name": "stdout",
     "output_type": "stream",
     "text": [
      "WARNING:tensorflow:From c:\\Users\\jesus\\miniconda3\\envs\\tf-base\\lib\\site-packages\\tensorflow\\python\\ops\\math_grad.py:1250: add_dispatch_support.<locals>.wrapper (from tensorflow.python.ops.array_ops) is deprecated and will be removed in a future version.\n",
      "Instructions for updating:\n",
      "Use tf.where in 2.0, which has the same broadcast rule as np.where\n"
     ]
    }
   ],
   "source": [
    "from tensorflow.keras.callbacks import EarlyStopping\n",
    "\n",
    "early_stop = EarlyStopping(monitor='val_loss', patience=5)\n",
    "\n",
    "history = model.fit(\n",
    "    X_train, y_train, epochs=50, batch_size=64, verbose=0,\n",
    "    validation_data=(X_test, y_test), callbacks=[early_stop])"
   ]
  },
  {
   "attachments": {},
   "cell_type": "markdown",
   "id": "5d35229a",
   "metadata": {
    "papermill": {
     "duration": 0.017169,
     "end_time": "2023-12-13T13:16:53.365053",
     "exception": false,
     "start_time": "2023-12-13T13:16:53.347884",
     "status": "completed"
    },
    "tags": []
   },
   "source": [
    "### Calculate Predictions"
   ]
  },
  {
   "cell_type": "code",
   "execution_count": 12,
   "id": "ed85fa6b",
   "metadata": {
    "execution": {
     "iopub.execute_input": "2023-12-13T13:16:53.381056Z",
     "iopub.status.busy": "2023-12-13T13:16:53.381056Z",
     "iopub.status.idle": "2023-12-13T13:16:53.930143Z",
     "shell.execute_reply": "2023-12-13T13:16:53.929250Z"
    },
    "papermill": {
     "duration": 0.559092,
     "end_time": "2023-12-13T13:16:53.931146",
     "exception": false,
     "start_time": "2023-12-13T13:16:53.372054",
     "status": "completed"
    },
    "tags": []
   },
   "outputs": [
    {
     "data": {
      "text/plain": [
       "array([[0.23404957],\n",
       "       [0.25328425],\n",
       "       [0.27905726],\n",
       "       ...,\n",
       "       [0.4008604 ],\n",
       "       [0.4507832 ],\n",
       "       [0.50870365]], dtype=float32)"
      ]
     },
     "execution_count": 12,
     "metadata": {},
     "output_type": "execute_result"
    }
   ],
   "source": [
    "y_pred = model.predict(X_test)\n",
    "y_pred"
   ]
  },
  {
   "attachments": {},
   "cell_type": "markdown",
   "id": "20a95d4c",
   "metadata": {
    "papermill": {
     "duration": 0.008002,
     "end_time": "2023-12-13T13:16:53.947148",
     "exception": false,
     "start_time": "2023-12-13T13:16:53.939146",
     "status": "completed"
    },
    "tags": []
   },
   "source": [
    "### Comparison: Real Data & Prediction"
   ]
  },
  {
   "attachments": {},
   "cell_type": "markdown",
   "id": "960f2960",
   "metadata": {
    "papermill": {
     "duration": 0.0,
     "end_time": "2023-12-13T13:16:53.948150",
     "exception": false,
     "start_time": "2023-12-13T13:16:53.948150",
     "status": "completed"
    },
    "tags": []
   },
   "source": [
    "#### Descale Data"
   ]
  },
  {
   "cell_type": "code",
   "execution_count": 13,
   "id": "a9fcd487",
   "metadata": {
    "execution": {
     "iopub.execute_input": "2023-12-13T13:16:53.967496Z",
     "iopub.status.busy": "2023-12-13T13:16:53.967496Z",
     "iopub.status.idle": "2023-12-13T13:16:53.983339Z",
     "shell.execute_reply": "2023-12-13T13:16:53.983339Z"
    },
    "papermill": {
     "duration": 0.017841,
     "end_time": "2023-12-13T13:16:53.985337",
     "exception": false,
     "start_time": "2023-12-13T13:16:53.967496",
     "status": "completed"
    },
    "tags": []
   },
   "outputs": [],
   "source": [
    "y_pred_scaled_inverse = scaler.inverse_transform(y_pred)\n",
    "y_true = scaler.inverse_transform(y_test)"
   ]
  },
  {
   "attachments": {},
   "cell_type": "markdown",
   "id": "91ff4094",
   "metadata": {
    "papermill": {
     "duration": 0.004665,
     "end_time": "2023-12-13T13:16:53.998005",
     "exception": false,
     "start_time": "2023-12-13T13:16:53.993340",
     "status": "completed"
    },
    "tags": []
   },
   "source": [
    "#### Create DataFrame"
   ]
  },
  {
   "cell_type": "code",
   "execution_count": 14,
   "id": "76f16626",
   "metadata": {
    "execution": {
     "iopub.execute_input": "2023-12-13T13:16:54.015124Z",
     "iopub.status.busy": "2023-12-13T13:16:54.015124Z",
     "iopub.status.idle": "2023-12-13T13:16:54.031352Z",
     "shell.execute_reply": "2023-12-13T13:16:54.030348Z"
    },
    "papermill": {
     "duration": 0.034348,
     "end_time": "2023-12-13T13:16:54.032353",
     "exception": false,
     "start_time": "2023-12-13T13:16:53.998005",
     "status": "completed"
    },
    "tags": []
   },
   "outputs": [
    {
     "data": {
      "text/html": [
       "<div>\n",
       "<style scoped>\n",
       "    .dataframe tbody tr th:only-of-type {\n",
       "        vertical-align: middle;\n",
       "    }\n",
       "\n",
       "    .dataframe tbody tr th {\n",
       "        vertical-align: top;\n",
       "    }\n",
       "\n",
       "    .dataframe thead th {\n",
       "        text-align: right;\n",
       "    }\n",
       "</style>\n",
       "<table border=\"1\" class=\"dataframe\">\n",
       "  <thead>\n",
       "    <tr style=\"text-align: right;\">\n",
       "      <th></th>\n",
       "      <th>y_pred</th>\n",
       "      <th>y_pred_scaled_inverse</th>\n",
       "      <th>y_true</th>\n",
       "    </tr>\n",
       "  </thead>\n",
       "  <tbody>\n",
       "    <tr>\n",
       "      <th>0</th>\n",
       "      <td>0.234050</td>\n",
       "      <td>1422.408203</td>\n",
       "      <td>1439.0</td>\n",
       "    </tr>\n",
       "    <tr>\n",
       "      <th>1</th>\n",
       "      <td>0.253284</td>\n",
       "      <td>1491.556885</td>\n",
       "      <td>1523.0</td>\n",
       "    </tr>\n",
       "    <tr>\n",
       "      <th>2</th>\n",
       "      <td>0.279057</td>\n",
       "      <td>1584.210815</td>\n",
       "      <td>1628.0</td>\n",
       "    </tr>\n",
       "    <tr>\n",
       "      <th>3</th>\n",
       "      <td>0.300492</td>\n",
       "      <td>1661.268677</td>\n",
       "      <td>1729.0</td>\n",
       "    </tr>\n",
       "    <tr>\n",
       "      <th>4</th>\n",
       "      <td>0.320348</td>\n",
       "      <td>1732.652344</td>\n",
       "      <td>1702.0</td>\n",
       "    </tr>\n",
       "    <tr>\n",
       "      <th>...</th>\n",
       "      <td>...</td>\n",
       "      <td>...</td>\n",
       "      <td>...</td>\n",
       "    </tr>\n",
       "    <tr>\n",
       "      <th>6707</th>\n",
       "      <td>0.357081</td>\n",
       "      <td>1864.704834</td>\n",
       "      <td>1861.0</td>\n",
       "    </tr>\n",
       "    <tr>\n",
       "      <th>6708</th>\n",
       "      <td>0.370583</td>\n",
       "      <td>1913.244385</td>\n",
       "      <td>1923.0</td>\n",
       "    </tr>\n",
       "    <tr>\n",
       "      <th>6709</th>\n",
       "      <td>0.400860</td>\n",
       "      <td>2022.093262</td>\n",
       "      <td>2061.0</td>\n",
       "    </tr>\n",
       "    <tr>\n",
       "      <th>6710</th>\n",
       "      <td>0.450783</td>\n",
       "      <td>2201.565674</td>\n",
       "      <td>2277.0</td>\n",
       "    </tr>\n",
       "    <tr>\n",
       "      <th>6711</th>\n",
       "      <td>0.508704</td>\n",
       "      <td>2409.789551</td>\n",
       "      <td>2388.0</td>\n",
       "    </tr>\n",
       "  </tbody>\n",
       "</table>\n",
       "<p>6712 rows × 3 columns</p>\n",
       "</div>"
      ],
      "text/plain": [
       "        y_pred  y_pred_scaled_inverse  y_true\n",
       "0     0.234050            1422.408203  1439.0\n",
       "1     0.253284            1491.556885  1523.0\n",
       "2     0.279057            1584.210815  1628.0\n",
       "3     0.300492            1661.268677  1729.0\n",
       "4     0.320348            1732.652344  1702.0\n",
       "...        ...                    ...     ...\n",
       "6707  0.357081            1864.704834  1861.0\n",
       "6708  0.370583            1913.244385  1923.0\n",
       "6709  0.400860            2022.093262  2061.0\n",
       "6710  0.450783            2201.565674  2277.0\n",
       "6711  0.508704            2409.789551  2388.0\n",
       "\n",
       "[6712 rows x 3 columns]"
      ]
     },
     "execution_count": 14,
     "metadata": {},
     "output_type": "execute_result"
    }
   ],
   "source": [
    "dic_pred = {\n",
    "    'y_pred': y_pred.flatten(),\n",
    "    'y_pred_scaled_inverse': y_pred_scaled_inverse.flatten(),\n",
    "    'y_true': y_true.flatten(),\n",
    "}\n",
    "\n",
    "df_pred = pd.DataFrame(dic_pred)\n",
    "df_pred"
   ]
  },
  {
   "attachments": {},
   "cell_type": "markdown",
   "id": "e37f052f",
   "metadata": {
    "papermill": {
     "duration": 0.007591,
     "end_time": "2023-12-13T13:16:54.047944",
     "exception": false,
     "start_time": "2023-12-13T13:16:54.040353",
     "status": "completed"
    },
    "tags": []
   },
   "source": [
    "#### Evaluate Model"
   ]
  },
  {
   "cell_type": "code",
   "execution_count": 15,
   "id": "ce011393",
   "metadata": {
    "execution": {
     "iopub.execute_input": "2023-12-13T13:16:54.065427Z",
     "iopub.status.busy": "2023-12-13T13:16:54.065005Z",
     "iopub.status.idle": "2023-12-13T13:16:54.084401Z",
     "shell.execute_reply": "2023-12-13T13:16:54.083402Z"
    },
    "papermill": {
     "duration": 0.038458,
     "end_time": "2023-12-13T13:16:54.086402",
     "exception": false,
     "start_time": "2023-12-13T13:16:54.047944",
     "status": "completed"
    },
    "tags": []
   },
   "outputs": [],
   "source": [
    "from sklearn.metrics import mean_squared_error"
   ]
  },
  {
   "cell_type": "code",
   "execution_count": 16,
   "id": "430c96fc",
   "metadata": {
    "execution": {
     "iopub.execute_input": "2023-12-13T13:16:54.097901Z",
     "iopub.status.busy": "2023-12-13T13:16:54.097901Z",
     "iopub.status.idle": "2023-12-13T13:16:54.113850Z",
     "shell.execute_reply": "2023-12-13T13:16:54.113527Z"
    },
    "papermill": {
     "duration": 0.021282,
     "end_time": "2023-12-13T13:16:54.114685",
     "exception": false,
     "start_time": "2023-12-13T13:16:54.093403",
     "status": "completed"
    },
    "tags": []
   },
   "outputs": [
    {
     "data": {
      "text/plain": [
       "36.87950213518873"
      ]
     },
     "execution_count": 16,
     "metadata": {},
     "output_type": "execute_result"
    }
   ],
   "source": [
    "mean_squared_error(df_pred.y_true, df_pred.y_pred_scaled_inverse, squared=False)"
   ]
  },
  {
   "cell_type": "code",
   "execution_count": 17,
   "id": "6b2a73db",
   "metadata": {
    "execution": {
     "iopub.execute_input": "2023-12-13T13:16:54.132432Z",
     "iopub.status.busy": "2023-12-13T13:16:54.132432Z",
     "iopub.status.idle": "2023-12-13T13:16:54.231576Z",
     "shell.execute_reply": "2023-12-13T13:16:54.230578Z"
    },
    "papermill": {
     "duration": 0.117891,
     "end_time": "2023-12-13T13:16:54.232576",
     "exception": false,
     "start_time": "2023-12-13T13:16:54.114685",
     "status": "completed"
    },
    "tags": []
   },
   "outputs": [],
   "source": [
    "model.save(f'../models/{region}.keras')"
   ]
  }
 ],
 "metadata": {
  "kernelspec": {
   "display_name": "deep-learning",
   "language": "python",
   "name": "python3"
  },
  "language_info": {
   "codemirror_mode": {
    "name": "ipython",
    "version": 3
   },
   "file_extension": ".py",
   "mimetype": "text/x-python",
   "name": "python",
   "nbconvert_exporter": "python",
   "pygments_lexer": "ipython3",
   "version": "3.7.12"
  },
  "papermill": {
   "default_parameters": {},
   "duration": 210.815418,
   "end_time": "2023-12-13T13:16:54.680845",
   "environment_variables": {},
   "exception": null,
   "input_path": "Modelling.ipynb",
   "output_path": "outputs/DPL.ipynb",
   "parameters": {
    "region": "DPL"
   },
   "start_time": "2023-12-13T13:13:23.865427",
   "version": "2.4.0"
  }
 },
 "nbformat": 4,
 "nbformat_minor": 5
}