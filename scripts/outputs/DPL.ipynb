{
 "cells": [
  {
   "attachments": {},
   "cell_type": "markdown",
   "id": "ed513a98",
   "metadata": {
    "papermill": {
     "duration": 0.012527,
     "end_time": "2023-11-26T17:14:04.502752",
     "exception": false,
     "start_time": "2023-11-26T17:14:04.490225",
     "status": "completed"
    },
    "tags": []
   },
   "source": [
    "## Load data"
   ]
  },
  {
   "cell_type": "code",
   "execution_count": 1,
   "id": "7c4627eb",
   "metadata": {
    "execution": {
     "iopub.execute_input": "2023-11-26T17:14:04.520598Z",
     "iopub.status.busy": "2023-11-26T17:14:04.520160Z",
     "iopub.status.idle": "2023-11-26T17:14:05.103007Z",
     "shell.execute_reply": "2023-11-26T17:14:05.102304Z"
    },
    "papermill": {
     "duration": 0.594978,
     "end_time": "2023-11-26T17:14:05.105192",
     "exception": false,
     "start_time": "2023-11-26T17:14:04.510214",
     "status": "completed"
    },
    "tags": []
   },
   "outputs": [],
   "source": [
    "import pandas as pd"
   ]
  },
  {
   "cell_type": "code",
   "execution_count": 2,
   "id": "7bb46cda",
   "metadata": {
    "execution": {
     "iopub.execute_input": "2023-11-26T17:14:05.116259Z",
     "iopub.status.busy": "2023-11-26T17:14:05.115946Z",
     "iopub.status.idle": "2023-11-26T17:14:05.257093Z",
     "shell.execute_reply": "2023-11-26T17:14:05.256433Z"
    },
    "papermill": {
     "duration": 0.148719,
     "end_time": "2023-11-26T17:14:05.259075",
     "exception": false,
     "start_time": "2023-11-26T17:14:05.110356",
     "status": "completed"
    },
    "tags": []
   },
   "outputs": [
    {
     "data": {
      "text/html": [
       "<div>\n",
       "<style scoped>\n",
       "    .dataframe tbody tr th:only-of-type {\n",
       "        vertical-align: middle;\n",
       "    }\n",
       "\n",
       "    .dataframe tbody tr th {\n",
       "        vertical-align: top;\n",
       "    }\n",
       "\n",
       "    .dataframe thead th {\n",
       "        text-align: right;\n",
       "    }\n",
       "</style>\n",
       "<table border=\"1\" class=\"dataframe\">\n",
       "  <thead>\n",
       "    <tr style=\"text-align: right;\">\n",
       "      <th></th>\n",
       "      <th>AE</th>\n",
       "      <th>AEP</th>\n",
       "      <th>AP</th>\n",
       "      <th>ATSI</th>\n",
       "      <th>BC</th>\n",
       "      <th>CE</th>\n",
       "      <th>DAY</th>\n",
       "      <th>DEOK</th>\n",
       "      <th>DOM</th>\n",
       "      <th>DPL</th>\n",
       "      <th>DUQ</th>\n",
       "      <th>EKPC</th>\n",
       "      <th>JC</th>\n",
       "      <th>ME</th>\n",
       "      <th>PE</th>\n",
       "      <th>PEP</th>\n",
       "      <th>PL</th>\n",
       "      <th>PN</th>\n",
       "      <th>PS</th>\n",
       "      <th>RECO</th>\n",
       "    </tr>\n",
       "    <tr>\n",
       "      <th>period</th>\n",
       "      <th></th>\n",
       "      <th></th>\n",
       "      <th></th>\n",
       "      <th></th>\n",
       "      <th></th>\n",
       "      <th></th>\n",
       "      <th></th>\n",
       "      <th></th>\n",
       "      <th></th>\n",
       "      <th></th>\n",
       "      <th></th>\n",
       "      <th></th>\n",
       "      <th></th>\n",
       "      <th></th>\n",
       "      <th></th>\n",
       "      <th></th>\n",
       "      <th></th>\n",
       "      <th></th>\n",
       "      <th></th>\n",
       "      <th></th>\n",
       "    </tr>\n",
       "  </thead>\n",
       "  <tbody>\n",
       "    <tr>\n",
       "      <th>2018-07-01 05:00:00</th>\n",
       "      <td>1301</td>\n",
       "      <td>12187</td>\n",
       "      <td>4384</td>\n",
       "      <td>6960</td>\n",
       "      <td>3134</td>\n",
       "      <td>12136</td>\n",
       "      <td>1619</td>\n",
       "      <td>2895</td>\n",
       "      <td>9775</td>\n",
       "      <td>1919</td>\n",
       "      <td>1466</td>\n",
       "      <td>1209</td>\n",
       "      <td>2388</td>\n",
       "      <td>1442</td>\n",
       "      <td>4397</td>\n",
       "      <td>3165</td>\n",
       "      <td>3835</td>\n",
       "      <td>1611</td>\n",
       "      <td>5009</td>\n",
       "      <td>186</td>\n",
       "    </tr>\n",
       "    <tr>\n",
       "      <th>2018-07-01 06:00:00</th>\n",
       "      <td>1314</td>\n",
       "      <td>11946</td>\n",
       "      <td>4391</td>\n",
       "      <td>6762</td>\n",
       "      <td>3139</td>\n",
       "      <td>11872</td>\n",
       "      <td>1605</td>\n",
       "      <td>2857</td>\n",
       "      <td>9787</td>\n",
       "      <td>1950</td>\n",
       "      <td>1455</td>\n",
       "      <td>1197</td>\n",
       "      <td>2416</td>\n",
       "      <td>1465</td>\n",
       "      <td>4423</td>\n",
       "      <td>3156</td>\n",
       "      <td>3901</td>\n",
       "      <td>1641</td>\n",
       "      <td>4990</td>\n",
       "      <td>187</td>\n",
       "    </tr>\n",
       "    <tr>\n",
       "      <th>2018-07-01 07:00:00</th>\n",
       "      <td>1410</td>\n",
       "      <td>12664</td>\n",
       "      <td>4757</td>\n",
       "      <td>6670</td>\n",
       "      <td>3377</td>\n",
       "      <td>11992</td>\n",
       "      <td>1707</td>\n",
       "      <td>2997</td>\n",
       "      <td>10453</td>\n",
       "      <td>2160</td>\n",
       "      <td>1528</td>\n",
       "      <td>1273</td>\n",
       "      <td>2644</td>\n",
       "      <td>1605</td>\n",
       "      <td>4743</td>\n",
       "      <td>3332</td>\n",
       "      <td>4232</td>\n",
       "      <td>1728</td>\n",
       "      <td>5267</td>\n",
       "      <td>202</td>\n",
       "    </tr>\n",
       "    <tr>\n",
       "      <th>2018-07-01 08:00:00</th>\n",
       "      <td>1567</td>\n",
       "      <td>14069</td>\n",
       "      <td>5308</td>\n",
       "      <td>7065</td>\n",
       "      <td>3788</td>\n",
       "      <td>12860</td>\n",
       "      <td>1916</td>\n",
       "      <td>3331</td>\n",
       "      <td>11734</td>\n",
       "      <td>2470</td>\n",
       "      <td>1688</td>\n",
       "      <td>1472</td>\n",
       "      <td>3064</td>\n",
       "      <td>1784</td>\n",
       "      <td>5230</td>\n",
       "      <td>3679</td>\n",
       "      <td>4613</td>\n",
       "      <td>1899</td>\n",
       "      <td>5735</td>\n",
       "      <td>230</td>\n",
       "    </tr>\n",
       "    <tr>\n",
       "      <th>2018-07-01 09:00:00</th>\n",
       "      <td>1749</td>\n",
       "      <td>15610</td>\n",
       "      <td>5862</td>\n",
       "      <td>7833</td>\n",
       "      <td>4262</td>\n",
       "      <td>14212</td>\n",
       "      <td>2145</td>\n",
       "      <td>3703</td>\n",
       "      <td>13084</td>\n",
       "      <td>2765</td>\n",
       "      <td>1875</td>\n",
       "      <td>1656</td>\n",
       "      <td>3569</td>\n",
       "      <td>1972</td>\n",
       "      <td>5752</td>\n",
       "      <td>4085</td>\n",
       "      <td>5014</td>\n",
       "      <td>2055</td>\n",
       "      <td>6299</td>\n",
       "      <td>259</td>\n",
       "    </tr>\n",
       "  </tbody>\n",
       "</table>\n",
       "</div>"
      ],
      "text/plain": [
       "                       AE    AEP    AP  ATSI    BC     CE   DAY  DEOK    DOM  \\\n",
       "period                                                                         \n",
       "2018-07-01 05:00:00  1301  12187  4384  6960  3134  12136  1619  2895   9775   \n",
       "2018-07-01 06:00:00  1314  11946  4391  6762  3139  11872  1605  2857   9787   \n",
       "2018-07-01 07:00:00  1410  12664  4757  6670  3377  11992  1707  2997  10453   \n",
       "2018-07-01 08:00:00  1567  14069  5308  7065  3788  12860  1916  3331  11734   \n",
       "2018-07-01 09:00:00  1749  15610  5862  7833  4262  14212  2145  3703  13084   \n",
       "\n",
       "                      DPL   DUQ  EKPC    JC    ME    PE   PEP    PL    PN  \\\n",
       "period                                                                      \n",
       "2018-07-01 05:00:00  1919  1466  1209  2388  1442  4397  3165  3835  1611   \n",
       "2018-07-01 06:00:00  1950  1455  1197  2416  1465  4423  3156  3901  1641   \n",
       "2018-07-01 07:00:00  2160  1528  1273  2644  1605  4743  3332  4232  1728   \n",
       "2018-07-01 08:00:00  2470  1688  1472  3064  1784  5230  3679  4613  1899   \n",
       "2018-07-01 09:00:00  2765  1875  1656  3569  1972  5752  4085  5014  2055   \n",
       "\n",
       "                       PS  RECO  \n",
       "period                           \n",
       "2018-07-01 05:00:00  5009   186  \n",
       "2018-07-01 06:00:00  4990   187  \n",
       "2018-07-01 07:00:00  5267   202  \n",
       "2018-07-01 08:00:00  5735   230  \n",
       "2018-07-01 09:00:00  6299   259  "
      ]
     },
     "execution_count": 2,
     "metadata": {},
     "output_type": "execute_result"
    }
   ],
   "source": [
    "df_base = pd.read_csv('../data/pjm_pivot.csv', index_col=0, parse_dates=True)\n",
    "df_base.head()"
   ]
  },
  {
   "attachments": {},
   "cell_type": "markdown",
   "id": "e6c050f5",
   "metadata": {
    "papermill": {
     "duration": 0.004617,
     "end_time": "2023-11-26T17:14:05.268355",
     "exception": false,
     "start_time": "2023-11-26T17:14:05.263738",
     "status": "completed"
    },
    "tags": []
   },
   "source": [
    "## Select region"
   ]
  },
  {
   "cell_type": "code",
   "execution_count": 3,
   "id": "a19766a0",
   "metadata": {
    "execution": {
     "iopub.execute_input": "2023-11-26T17:14:05.279457Z",
     "iopub.status.busy": "2023-11-26T17:14:05.279057Z",
     "iopub.status.idle": "2023-11-26T17:14:05.283733Z",
     "shell.execute_reply": "2023-11-26T17:14:05.283077Z"
    },
    "papermill": {
     "duration": 0.013448,
     "end_time": "2023-11-26T17:14:05.285465",
     "exception": false,
     "start_time": "2023-11-26T17:14:05.272017",
     "status": "completed"
    },
    "tags": [
     "parameters"
    ]
   },
   "outputs": [],
   "source": [
    "region = 'AE'"
   ]
  },
  {
   "cell_type": "code",
   "execution_count": 4,
   "id": "6ad562f9",
   "metadata": {
    "execution": {
     "iopub.execute_input": "2023-11-26T17:14:05.307076Z",
     "iopub.status.busy": "2023-11-26T17:14:05.306731Z",
     "iopub.status.idle": "2023-11-26T17:14:05.310443Z",
     "shell.execute_reply": "2023-11-26T17:14:05.309436Z"
    },
    "papermill": {
     "duration": 0.010816,
     "end_time": "2023-11-26T17:14:05.312501",
     "exception": false,
     "start_time": "2023-11-26T17:14:05.301685",
     "status": "completed"
    },
    "tags": [
     "injected-parameters"
    ]
   },
   "outputs": [],
   "source": [
    "# Parameters\n",
    "region = \"DPL\"\n"
   ]
  },
  {
   "cell_type": "code",
   "execution_count": 5,
   "id": "8d5f7ac2",
   "metadata": {
    "execution": {
     "iopub.execute_input": "2023-11-26T17:14:05.322346Z",
     "iopub.status.busy": "2023-11-26T17:14:05.322070Z",
     "iopub.status.idle": "2023-11-26T17:14:05.330824Z",
     "shell.execute_reply": "2023-11-26T17:14:05.329896Z"
    },
    "papermill": {
     "duration": 0.017017,
     "end_time": "2023-11-26T17:14:05.333635",
     "exception": false,
     "start_time": "2023-11-26T17:14:05.316618",
     "status": "completed"
    },
    "tags": []
   },
   "outputs": [
    {
     "data": {
      "text/html": [
       "<div>\n",
       "<style scoped>\n",
       "    .dataframe tbody tr th:only-of-type {\n",
       "        vertical-align: middle;\n",
       "    }\n",
       "\n",
       "    .dataframe tbody tr th {\n",
       "        vertical-align: top;\n",
       "    }\n",
       "\n",
       "    .dataframe thead th {\n",
       "        text-align: right;\n",
       "    }\n",
       "</style>\n",
       "<table border=\"1\" class=\"dataframe\">\n",
       "  <thead>\n",
       "    <tr style=\"text-align: right;\">\n",
       "      <th></th>\n",
       "      <th>DPL</th>\n",
       "    </tr>\n",
       "    <tr>\n",
       "      <th>period</th>\n",
       "      <th></th>\n",
       "    </tr>\n",
       "  </thead>\n",
       "  <tbody>\n",
       "    <tr>\n",
       "      <th>2018-07-01 05:00:00</th>\n",
       "      <td>1919</td>\n",
       "    </tr>\n",
       "    <tr>\n",
       "      <th>2018-07-01 06:00:00</th>\n",
       "      <td>1950</td>\n",
       "    </tr>\n",
       "    <tr>\n",
       "      <th>2018-07-01 07:00:00</th>\n",
       "      <td>2160</td>\n",
       "    </tr>\n",
       "    <tr>\n",
       "      <th>2018-07-01 08:00:00</th>\n",
       "      <td>2470</td>\n",
       "    </tr>\n",
       "    <tr>\n",
       "      <th>2018-07-01 09:00:00</th>\n",
       "      <td>2765</td>\n",
       "    </tr>\n",
       "    <tr>\n",
       "      <th>...</th>\n",
       "      <td>...</td>\n",
       "    </tr>\n",
       "    <tr>\n",
       "      <th>2023-11-01 00:00:00</th>\n",
       "      <td>1936</td>\n",
       "    </tr>\n",
       "    <tr>\n",
       "      <th>2023-11-01 01:00:00</th>\n",
       "      <td>1934</td>\n",
       "    </tr>\n",
       "    <tr>\n",
       "      <th>2023-11-01 02:00:00</th>\n",
       "      <td>1876</td>\n",
       "    </tr>\n",
       "    <tr>\n",
       "      <th>2023-11-01 03:00:00</th>\n",
       "      <td>1756</td>\n",
       "    </tr>\n",
       "    <tr>\n",
       "      <th>2023-11-01 04:00:00</th>\n",
       "      <td>1638</td>\n",
       "    </tr>\n",
       "  </tbody>\n",
       "</table>\n",
       "<p>44904 rows × 1 columns</p>\n",
       "</div>"
      ],
      "text/plain": [
       "                      DPL\n",
       "period                   \n",
       "2018-07-01 05:00:00  1919\n",
       "2018-07-01 06:00:00  1950\n",
       "2018-07-01 07:00:00  2160\n",
       "2018-07-01 08:00:00  2470\n",
       "2018-07-01 09:00:00  2765\n",
       "...                   ...\n",
       "2023-11-01 00:00:00  1936\n",
       "2023-11-01 01:00:00  1934\n",
       "2023-11-01 02:00:00  1876\n",
       "2023-11-01 03:00:00  1756\n",
       "2023-11-01 04:00:00  1638\n",
       "\n",
       "[44904 rows x 1 columns]"
      ]
     },
     "execution_count": 5,
     "metadata": {},
     "output_type": "execute_result"
    }
   ],
   "source": [
    "df = df_base.loc[:, [region]]\n",
    "df"
   ]
  },
  {
   "attachments": {},
   "cell_type": "markdown",
   "id": "0f98a081",
   "metadata": {
    "papermill": {
     "duration": 0.003842,
     "end_time": "2023-11-26T17:14:05.341660",
     "exception": false,
     "start_time": "2023-11-26T17:14:05.337818",
     "status": "completed"
    },
    "tags": []
   },
   "source": [
    "## Data Preprocessing"
   ]
  },
  {
   "attachments": {},
   "cell_type": "markdown",
   "id": "9158b475",
   "metadata": {
    "papermill": {
     "duration": 0.006874,
     "end_time": "2023-11-26T17:14:05.353313",
     "exception": false,
     "start_time": "2023-11-26T17:14:05.346439",
     "status": "completed"
    },
    "tags": []
   },
   "source": [
    "### Scale Data"
   ]
  },
  {
   "cell_type": "code",
   "execution_count": 6,
   "id": "d6b5b338",
   "metadata": {
    "execution": {
     "iopub.execute_input": "2023-11-26T17:14:05.365713Z",
     "iopub.status.busy": "2023-11-26T17:14:05.365287Z",
     "iopub.status.idle": "2023-11-26T17:14:06.025797Z",
     "shell.execute_reply": "2023-11-26T17:14:06.025047Z"
    },
    "papermill": {
     "duration": 0.669854,
     "end_time": "2023-11-26T17:14:06.027977",
     "exception": false,
     "start_time": "2023-11-26T17:14:05.358123",
     "status": "completed"
    },
    "tags": []
   },
   "outputs": [],
   "source": [
    "from sklearn.preprocessing import MinMaxScaler\n",
    "\n",
    "# Normalize data\n",
    "scaler = MinMaxScaler(feature_range=(0, 1))\n",
    "data_norm = scaler.fit_transform(df)"
   ]
  },
  {
   "attachments": {},
   "cell_type": "markdown",
   "id": "de231e8d",
   "metadata": {
    "papermill": {
     "duration": 0.004687,
     "end_time": "2023-11-26T17:14:06.038227",
     "exception": false,
     "start_time": "2023-11-26T17:14:06.033540",
     "status": "completed"
    },
    "tags": []
   },
   "source": [
    "### Train Test Split"
   ]
  },
  {
   "cell_type": "code",
   "execution_count": 7,
   "id": "1980ae28",
   "metadata": {
    "execution": {
     "iopub.execute_input": "2023-11-26T17:14:06.049742Z",
     "iopub.status.busy": "2023-11-26T17:14:06.049236Z",
     "iopub.status.idle": "2023-11-26T17:14:06.098616Z",
     "shell.execute_reply": "2023-11-26T17:14:06.097607Z"
    },
    "papermill": {
     "duration": 0.058891,
     "end_time": "2023-11-26T17:14:06.101377",
     "exception": false,
     "start_time": "2023-11-26T17:14:06.042486",
     "status": "completed"
    },
    "tags": []
   },
   "outputs": [],
   "source": [
    "from sklearn.model_selection import train_test_split\n",
    "\n",
    "train, test = train_test_split(data_norm, test_size=0.2, shuffle=False)"
   ]
  },
  {
   "attachments": {},
   "cell_type": "markdown",
   "id": "574d7777",
   "metadata": {
    "papermill": {
     "duration": 0.004231,
     "end_time": "2023-11-26T17:14:06.110130",
     "exception": false,
     "start_time": "2023-11-26T17:14:06.105899",
     "status": "completed"
    },
    "tags": []
   },
   "source": [
    "### Create Sequences"
   ]
  },
  {
   "cell_type": "code",
   "execution_count": 8,
   "id": "895edadd",
   "metadata": {
    "execution": {
     "iopub.execute_input": "2023-11-26T17:14:06.120742Z",
     "iopub.status.busy": "2023-11-26T17:14:06.120339Z",
     "iopub.status.idle": "2023-11-26T17:14:06.197177Z",
     "shell.execute_reply": "2023-11-26T17:14:06.196421Z"
    },
    "papermill": {
     "duration": 0.085342,
     "end_time": "2023-11-26T17:14:06.199511",
     "exception": false,
     "start_time": "2023-11-26T17:14:06.114169",
     "status": "completed"
    },
    "tags": []
   },
   "outputs": [],
   "source": [
    "import numpy as np\n",
    "\n",
    "def create_sequences(data, sequence_length):\n",
    "    X, y = [], []\n",
    "    for i in range(len(data) - sequence_length):\n",
    "        X.append(data[i:i+sequence_length])\n",
    "        y.append(data[i+sequence_length])\n",
    "    return np.array(X), np.array(y)\n",
    "\n",
    "sequence_length = 24 # Use 24 hours prior to predict the following hour\n",
    "X_train, y_train = create_sequences(train, sequence_length)\n",
    "X_test, y_test = create_sequences(test, sequence_length)"
   ]
  },
  {
   "attachments": {},
   "cell_type": "markdown",
   "id": "7913bf95",
   "metadata": {
    "papermill": {
     "duration": 0.004347,
     "end_time": "2023-11-26T17:14:06.209024",
     "exception": false,
     "start_time": "2023-11-26T17:14:06.204677",
     "status": "completed"
    },
    "tags": []
   },
   "source": [
    "## Modelling"
   ]
  },
  {
   "attachments": {},
   "cell_type": "markdown",
   "id": "dac3aa19",
   "metadata": {
    "papermill": {
     "duration": 0.005538,
     "end_time": "2023-11-26T17:14:06.218599",
     "exception": false,
     "start_time": "2023-11-26T17:14:06.213061",
     "status": "completed"
    },
    "tags": []
   },
   "source": [
    "### Design NN Architecture"
   ]
  },
  {
   "cell_type": "code",
   "execution_count": 9,
   "id": "8883ec8d",
   "metadata": {
    "execution": {
     "iopub.execute_input": "2023-11-26T17:14:06.229569Z",
     "iopub.status.busy": "2023-11-26T17:14:06.229248Z",
     "iopub.status.idle": "2023-11-26T17:14:11.461711Z",
     "shell.execute_reply": "2023-11-26T17:14:11.460895Z"
    },
    "papermill": {
     "duration": 5.240629,
     "end_time": "2023-11-26T17:14:11.464047",
     "exception": false,
     "start_time": "2023-11-26T17:14:06.223418",
     "status": "completed"
    },
    "tags": []
   },
   "outputs": [
    {
     "name": "stderr",
     "output_type": "stream",
     "text": [
      "2023-11-26 18:14:08.559119: I tensorflow/core/platform/cpu_feature_guard.cc:182] This TensorFlow binary is optimized to use available CPU instructions in performance-critical operations.\n",
      "To enable the following instructions: AVX2 FMA, in other operations, rebuild TensorFlow with the appropriate compiler flags.\n"
     ]
    }
   ],
   "source": [
    "from keras.models import Sequential\n",
    "from keras.layers import LSTM, Dense\n",
    "\n",
    "model = Sequential()\n",
    "model.add(LSTM(50, input_shape=(X_train.shape[1], X_train.shape[2])))\n",
    "model.add(Dense(1))\n",
    "model.compile(optimizer='adam', loss='mean_squared_error')"
   ]
  },
  {
   "attachments": {},
   "cell_type": "markdown",
   "id": "03c6baf6",
   "metadata": {
    "papermill": {
     "duration": 0.004959,
     "end_time": "2023-11-26T17:14:11.475224",
     "exception": false,
     "start_time": "2023-11-26T17:14:11.470265",
     "status": "completed"
    },
    "tags": []
   },
   "source": [
    "### Train Model"
   ]
  },
  {
   "cell_type": "code",
   "execution_count": 10,
   "id": "ab5916ee",
   "metadata": {
    "execution": {
     "iopub.execute_input": "2023-11-26T17:14:11.509908Z",
     "iopub.status.busy": "2023-11-26T17:14:11.509224Z",
     "iopub.status.idle": "2023-11-26T17:16:58.293826Z",
     "shell.execute_reply": "2023-11-26T17:16:58.293034Z"
    },
    "papermill": {
     "duration": 166.815179,
     "end_time": "2023-11-26T17:16:58.296137",
     "exception": false,
     "start_time": "2023-11-26T17:14:11.480958",
     "status": "completed"
    },
    "tags": []
   },
   "outputs": [],
   "source": [
    "from keras.callbacks import EarlyStopping\n",
    "\n",
    "early_stop = EarlyStopping(monitor='val_loss', patience=5)\n",
    "\n",
    "history = model.fit(\n",
    "    X_train, y_train, epochs=50, batch_size=64, verbose=0,\n",
    "    validation_data=(X_test, y_test), callbacks=[early_stop])"
   ]
  },
  {
   "attachments": {},
   "cell_type": "markdown",
   "id": "bb03dae0",
   "metadata": {
    "papermill": {
     "duration": 0.005367,
     "end_time": "2023-11-26T17:16:58.307356",
     "exception": false,
     "start_time": "2023-11-26T17:16:58.301989",
     "status": "completed"
    },
    "tags": []
   },
   "source": [
    "### Calculate Predictions"
   ]
  },
  {
   "cell_type": "code",
   "execution_count": 11,
   "id": "26881fa9",
   "metadata": {
    "execution": {
     "iopub.execute_input": "2023-11-26T17:16:58.319091Z",
     "iopub.status.busy": "2023-11-26T17:16:58.318706Z",
     "iopub.status.idle": "2023-11-26T17:16:59.548962Z",
     "shell.execute_reply": "2023-11-26T17:16:59.548253Z"
    },
    "papermill": {
     "duration": 1.23853,
     "end_time": "2023-11-26T17:16:59.550778",
     "exception": false,
     "start_time": "2023-11-26T17:16:58.312248",
     "status": "completed"
    },
    "tags": []
   },
   "outputs": [
    {
     "name": "stdout",
     "output_type": "stream",
     "text": [
      "\r",
      "  1/280 [..............................] - ETA: 1:44"
     ]
    },
    {
     "name": "stdout",
     "output_type": "stream",
     "text": [
      "\b\b\b\b\b\b\b\b\b\b\b\b\b\b\b\b\b\b\b\b\b\b\b\b\b\b\b\b\b\b\b\b\b\b\b\b\b\b\b\b\b\b\b\b\b\b\b\b\b\b\b\b\r",
      " 22/280 [=>............................] - ETA: 0s  "
     ]
    },
    {
     "name": "stdout",
     "output_type": "stream",
     "text": [
      "\b\b\b\b\b\b\b\b\b\b\b\b\b\b\b\b\b\b\b\b\b\b\b\b\b\b\b\b\b\b\b\b\b\b\b\b\b\b\b\b\b\b\b\b\b\b\b\b\b\b\r",
      " 43/280 [===>..........................] - ETA: 0s"
     ]
    },
    {
     "name": "stdout",
     "output_type": "stream",
     "text": [
      "\b\b\b\b\b\b\b\b\b\b\b\b\b\b\b\b\b\b\b\b\b\b\b\b\b\b\b\b\b\b\b\b\b\b\b\b\b\b\b\b\b\b\b\b\b\b\b\b\b\b\r",
      " 65/280 [=====>........................] - ETA: 0s"
     ]
    },
    {
     "name": "stdout",
     "output_type": "stream",
     "text": [
      "\b\b\b\b\b\b\b\b\b\b\b\b\b\b\b\b\b\b\b\b\b\b\b\b\b\b\b\b\b\b\b\b\b\b\b\b\b\b\b\b\b\b\b\b\b\b\b\b\b\b\r",
      " 86/280 [========>.....................] - ETA: 0s"
     ]
    },
    {
     "name": "stdout",
     "output_type": "stream",
     "text": [
      "\b\b\b\b\b\b\b\b\b\b\b\b\b\b\b\b\b\b\b\b\b\b\b\b\b\b\b\b\b\b\b\b\b\b\b\b\b\b\b\b\b\b\b\b\b\b\b\b\b\b\r",
      "101/280 [=========>....................] - ETA: 0s"
     ]
    },
    {
     "name": "stdout",
     "output_type": "stream",
     "text": [
      "\b\b\b\b\b\b\b\b\b\b\b\b\b\b\b\b\b\b\b\b\b\b\b\b\b\b\b\b\b\b\b\b\b\b\b\b\b\b\b\b\b\b\b\b\b\b\b\b\b\b\r",
      "118/280 [===========>..................] - ETA: 0s"
     ]
    },
    {
     "name": "stdout",
     "output_type": "stream",
     "text": [
      "\b\b\b\b\b\b\b\b\b\b\b\b\b\b\b\b\b\b\b\b\b\b\b\b\b\b\b\b\b\b\b\b\b\b\b\b\b\b\b\b\b\b\b\b\b\b\b\b\b\b\r",
      "139/280 [=============>................] - ETA: 0s"
     ]
    },
    {
     "name": "stdout",
     "output_type": "stream",
     "text": [
      "\b\b\b\b\b\b\b\b\b\b\b\b\b\b\b\b\b\b\b\b\b\b\b\b\b\b\b\b\b\b\b\b\b\b\b\b\b\b\b\b\b\b\b\b\b\b\b\b\b\b\r",
      "160/280 [================>.............] - ETA: 0s"
     ]
    },
    {
     "name": "stdout",
     "output_type": "stream",
     "text": [
      "\b\b\b\b\b\b\b\b\b\b\b\b\b\b\b\b\b\b\b\b\b\b\b\b\b\b\b\b\b\b\b\b\b\b\b\b\b\b\b\b\b\b\b\b\b\b\b\b\b\b\r",
      "181/280 [==================>...........] - ETA: 0s"
     ]
    },
    {
     "name": "stdout",
     "output_type": "stream",
     "text": [
      "\b\b\b\b\b\b\b\b\b\b\b\b\b\b\b\b\b\b\b\b\b\b\b\b\b\b\b\b\b\b\b\b\b\b\b\b\b\b\b\b\b\b\b\b\b\b\b\b\b\b\r",
      "202/280 [====================>.........] - ETA: 0s"
     ]
    },
    {
     "name": "stdout",
     "output_type": "stream",
     "text": [
      "\b\b\b\b\b\b\b\b\b\b\b\b\b\b\b\b\b\b\b\b\b\b\b\b\b\b\b\b\b\b\b\b\b\b\b\b\b\b\b\b\b\b\b\b\b\b\b\b\b\b\r",
      "223/280 [======================>.......] - ETA: 0s"
     ]
    },
    {
     "name": "stdout",
     "output_type": "stream",
     "text": [
      "\b\b\b\b\b\b\b\b\b\b\b\b\b\b\b\b\b\b\b\b\b\b\b\b\b\b\b\b\b\b\b\b\b\b\b\b\b\b\b\b\b\b\b\b\b\b\b\b\b\b\r",
      "243/280 [=========================>....] - ETA: 0s"
     ]
    },
    {
     "name": "stdout",
     "output_type": "stream",
     "text": [
      "\b\b\b\b\b\b\b\b\b\b\b\b\b\b\b\b\b\b\b\b\b\b\b\b\b\b\b\b\b\b\b\b\b\b\b\b\b\b\b\b\b\b\b\b\b\b\b\b\b\b\r",
      "264/280 [===========================>..] - ETA: 0s"
     ]
    },
    {
     "name": "stdout",
     "output_type": "stream",
     "text": [
      "\b\b\b\b\b\b\b\b\b\b\b\b\b\b\b\b\b\b\b\b\b\b\b\b\b\b\b\b\b\b\b\b\b\b\b\b\b\b\b\b\b\b\b\b\b\b\b\b\b\b\r",
      "280/280 [==============================] - 1s 3ms/step\n"
     ]
    },
    {
     "data": {
      "text/plain": [
       "array([[0.3510457 ],\n",
       "       [0.32985523],\n",
       "       [0.31862321],\n",
       "       ...,\n",
       "       [0.35491177],\n",
       "       [0.3293341 ],\n",
       "       [0.29558355]], dtype=float32)"
      ]
     },
     "execution_count": 11,
     "metadata": {},
     "output_type": "execute_result"
    }
   ],
   "source": [
    "y_pred = model.predict(X_test)\n",
    "y_pred"
   ]
  },
  {
   "attachments": {},
   "cell_type": "markdown",
   "id": "2458d357",
   "metadata": {
    "papermill": {
     "duration": 0.005731,
     "end_time": "2023-11-26T17:16:59.562315",
     "exception": false,
     "start_time": "2023-11-26T17:16:59.556584",
     "status": "completed"
    },
    "tags": []
   },
   "source": [
    "### Comparison: Real Data & Prediction"
   ]
  },
  {
   "attachments": {},
   "cell_type": "markdown",
   "id": "40dbe872",
   "metadata": {
    "papermill": {
     "duration": 0.005047,
     "end_time": "2023-11-26T17:16:59.572655",
     "exception": false,
     "start_time": "2023-11-26T17:16:59.567608",
     "status": "completed"
    },
    "tags": []
   },
   "source": [
    "#### Descale Data"
   ]
  },
  {
   "cell_type": "code",
   "execution_count": 12,
   "id": "ca40c393",
   "metadata": {
    "execution": {
     "iopub.execute_input": "2023-11-26T17:16:59.585108Z",
     "iopub.status.busy": "2023-11-26T17:16:59.584819Z",
     "iopub.status.idle": "2023-11-26T17:16:59.588889Z",
     "shell.execute_reply": "2023-11-26T17:16:59.588131Z"
    },
    "papermill": {
     "duration": 0.012799,
     "end_time": "2023-11-26T17:16:59.590920",
     "exception": false,
     "start_time": "2023-11-26T17:16:59.578121",
     "status": "completed"
    },
    "tags": []
   },
   "outputs": [],
   "source": [
    "y_pred_scaled_inverse = scaler.inverse_transform(y_pred)\n",
    "y_true = scaler.inverse_transform(y_test)"
   ]
  },
  {
   "attachments": {},
   "cell_type": "markdown",
   "id": "149c7c61",
   "metadata": {
    "papermill": {
     "duration": 0.005445,
     "end_time": "2023-11-26T17:16:59.601877",
     "exception": false,
     "start_time": "2023-11-26T17:16:59.596432",
     "status": "completed"
    },
    "tags": []
   },
   "source": [
    "#### Create DataFrame"
   ]
  },
  {
   "cell_type": "code",
   "execution_count": 13,
   "id": "3e0b2773",
   "metadata": {
    "execution": {
     "iopub.execute_input": "2023-11-26T17:16:59.617416Z",
     "iopub.status.busy": "2023-11-26T17:16:59.617093Z",
     "iopub.status.idle": "2023-11-26T17:16:59.631971Z",
     "shell.execute_reply": "2023-11-26T17:16:59.631319Z"
    },
    "papermill": {
     "duration": 0.027727,
     "end_time": "2023-11-26T17:16:59.634392",
     "exception": false,
     "start_time": "2023-11-26T17:16:59.606665",
     "status": "completed"
    },
    "tags": []
   },
   "outputs": [
    {
     "data": {
      "text/html": [
       "<div>\n",
       "<style scoped>\n",
       "    .dataframe tbody tr th:only-of-type {\n",
       "        vertical-align: middle;\n",
       "    }\n",
       "\n",
       "    .dataframe tbody tr th {\n",
       "        vertical-align: top;\n",
       "    }\n",
       "\n",
       "    .dataframe thead th {\n",
       "        text-align: right;\n",
       "    }\n",
       "</style>\n",
       "<table border=\"1\" class=\"dataframe\">\n",
       "  <thead>\n",
       "    <tr style=\"text-align: right;\">\n",
       "      <th></th>\n",
       "      <th>y_pred</th>\n",
       "      <th>y_pred_scaled_inverse</th>\n",
       "      <th>y_true</th>\n",
       "    </tr>\n",
       "  </thead>\n",
       "  <tbody>\n",
       "    <tr>\n",
       "      <th>0</th>\n",
       "      <td>0.351046</td>\n",
       "      <td>1843.009399</td>\n",
       "      <td>1846.0</td>\n",
       "    </tr>\n",
       "    <tr>\n",
       "      <th>1</th>\n",
       "      <td>0.329855</td>\n",
       "      <td>1766.829590</td>\n",
       "      <td>1796.0</td>\n",
       "    </tr>\n",
       "    <tr>\n",
       "      <th>2</th>\n",
       "      <td>0.318623</td>\n",
       "      <td>1726.450439</td>\n",
       "      <td>1722.0</td>\n",
       "    </tr>\n",
       "    <tr>\n",
       "      <th>3</th>\n",
       "      <td>0.298857</td>\n",
       "      <td>1655.390747</td>\n",
       "      <td>1640.0</td>\n",
       "    </tr>\n",
       "    <tr>\n",
       "      <th>4</th>\n",
       "      <td>0.279058</td>\n",
       "      <td>1584.213013</td>\n",
       "      <td>1576.0</td>\n",
       "    </tr>\n",
       "    <tr>\n",
       "      <th>...</th>\n",
       "      <td>...</td>\n",
       "      <td>...</td>\n",
       "      <td>...</td>\n",
       "    </tr>\n",
       "    <tr>\n",
       "      <th>8952</th>\n",
       "      <td>0.376944</td>\n",
       "      <td>1936.112793</td>\n",
       "      <td>1936.0</td>\n",
       "    </tr>\n",
       "    <tr>\n",
       "      <th>8953</th>\n",
       "      <td>0.355974</td>\n",
       "      <td>1860.727173</td>\n",
       "      <td>1934.0</td>\n",
       "    </tr>\n",
       "    <tr>\n",
       "      <th>8954</th>\n",
       "      <td>0.354912</td>\n",
       "      <td>1856.907959</td>\n",
       "      <td>1876.0</td>\n",
       "    </tr>\n",
       "    <tr>\n",
       "      <th>8955</th>\n",
       "      <td>0.329334</td>\n",
       "      <td>1764.956055</td>\n",
       "      <td>1756.0</td>\n",
       "    </tr>\n",
       "    <tr>\n",
       "      <th>8956</th>\n",
       "      <td>0.295584</td>\n",
       "      <td>1643.622803</td>\n",
       "      <td>1638.0</td>\n",
       "    </tr>\n",
       "  </tbody>\n",
       "</table>\n",
       "<p>8957 rows × 3 columns</p>\n",
       "</div>"
      ],
      "text/plain": [
       "        y_pred  y_pred_scaled_inverse  y_true\n",
       "0     0.351046            1843.009399  1846.0\n",
       "1     0.329855            1766.829590  1796.0\n",
       "2     0.318623            1726.450439  1722.0\n",
       "3     0.298857            1655.390747  1640.0\n",
       "4     0.279058            1584.213013  1576.0\n",
       "...        ...                    ...     ...\n",
       "8952  0.376944            1936.112793  1936.0\n",
       "8953  0.355974            1860.727173  1934.0\n",
       "8954  0.354912            1856.907959  1876.0\n",
       "8955  0.329334            1764.956055  1756.0\n",
       "8956  0.295584            1643.622803  1638.0\n",
       "\n",
       "[8957 rows x 3 columns]"
      ]
     },
     "execution_count": 13,
     "metadata": {},
     "output_type": "execute_result"
    }
   ],
   "source": [
    "dic_pred = {\n",
    "    'y_pred': y_pred.flatten(),\n",
    "    'y_pred_scaled_inverse': y_pred_scaled_inverse.flatten(),\n",
    "    'y_true': y_true.flatten(),\n",
    "}\n",
    "\n",
    "df_pred = pd.DataFrame(dic_pred)\n",
    "df_pred"
   ]
  },
  {
   "attachments": {},
   "cell_type": "markdown",
   "id": "bdb37bfa",
   "metadata": {
    "papermill": {
     "duration": 0.005745,
     "end_time": "2023-11-26T17:16:59.645275",
     "exception": false,
     "start_time": "2023-11-26T17:16:59.639530",
     "status": "completed"
    },
    "tags": []
   },
   "source": [
    "#### Evaluate Model"
   ]
  },
  {
   "cell_type": "code",
   "execution_count": 14,
   "id": "8feaa2e8",
   "metadata": {
    "execution": {
     "iopub.execute_input": "2023-11-26T17:16:59.659051Z",
     "iopub.status.busy": "2023-11-26T17:16:59.658656Z",
     "iopub.status.idle": "2023-11-26T17:16:59.662385Z",
     "shell.execute_reply": "2023-11-26T17:16:59.661572Z"
    },
    "papermill": {
     "duration": 0.013796,
     "end_time": "2023-11-26T17:16:59.664887",
     "exception": false,
     "start_time": "2023-11-26T17:16:59.651091",
     "status": "completed"
    },
    "tags": []
   },
   "outputs": [],
   "source": [
    "from sklearn.metrics import mean_squared_error"
   ]
  },
  {
   "cell_type": "code",
   "execution_count": 15,
   "id": "071bd2ac",
   "metadata": {
    "execution": {
     "iopub.execute_input": "2023-11-26T17:16:59.721517Z",
     "iopub.status.busy": "2023-11-26T17:16:59.721172Z",
     "iopub.status.idle": "2023-11-26T17:16:59.728135Z",
     "shell.execute_reply": "2023-11-26T17:16:59.726940Z"
    },
    "papermill": {
     "duration": 0.035703,
     "end_time": "2023-11-26T17:16:59.731045",
     "exception": false,
     "start_time": "2023-11-26T17:16:59.695342",
     "status": "completed"
    },
    "tags": []
   },
   "outputs": [
    {
     "data": {
      "text/plain": [
       "37.50987029827574"
      ]
     },
     "execution_count": 15,
     "metadata": {},
     "output_type": "execute_result"
    }
   ],
   "source": [
    "mean_squared_error(df_pred.y_true, df_pred.y_pred_scaled_inverse, squared=False)"
   ]
  },
  {
   "cell_type": "code",
   "execution_count": 16,
   "id": "75b9be2c",
   "metadata": {
    "execution": {
     "iopub.execute_input": "2023-11-26T17:16:59.744165Z",
     "iopub.status.busy": "2023-11-26T17:16:59.743772Z",
     "iopub.status.idle": "2023-11-26T17:16:59.773005Z",
     "shell.execute_reply": "2023-11-26T17:16:59.772373Z"
    },
    "papermill": {
     "duration": 0.037713,
     "end_time": "2023-11-26T17:16:59.775201",
     "exception": false,
     "start_time": "2023-11-26T17:16:59.737488",
     "status": "completed"
    },
    "tags": []
   },
   "outputs": [],
   "source": [
    "model.save(f'../models/{region}.keras')"
   ]
  }
 ],
 "metadata": {
  "kernelspec": {
   "display_name": "deep-learning",
   "language": "python",
   "name": "python3"
  },
  "language_info": {
   "codemirror_mode": {
    "name": "ipython",
    "version": 3
   },
   "file_extension": ".py",
   "mimetype": "text/x-python",
   "name": "python",
   "nbconvert_exporter": "python",
   "pygments_lexer": "ipython3",
   "version": "3.9.18"
  },
  "papermill": {
   "default_parameters": {},
   "duration": 177.884756,
   "end_time": "2023-11-26T17:17:00.847678",
   "environment_variables": {},
   "exception": null,
   "input_path": "Modelling.ipynb",
   "output_path": "outputs/DPL.ipynb",
   "parameters": {
    "region": "DPL"
   },
   "start_time": "2023-11-26T17:14:02.962922",
   "version": "2.5.0"
  }
 },
 "nbformat": 4,
 "nbformat_minor": 5
}