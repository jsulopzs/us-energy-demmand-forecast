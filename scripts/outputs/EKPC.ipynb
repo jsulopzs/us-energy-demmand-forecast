{
 "cells": [
  {
   "attachments": {},
   "cell_type": "markdown",
   "id": "191fac98",
   "metadata": {
    "papermill": {
     "duration": 0.010847,
     "end_time": "2023-11-26T17:19:20.038515",
     "exception": false,
     "start_time": "2023-11-26T17:19:20.027668",
     "status": "completed"
    },
    "tags": []
   },
   "source": [
    "## Load data"
   ]
  },
  {
   "cell_type": "code",
   "execution_count": 1,
   "id": "24f0a7cc",
   "metadata": {
    "execution": {
     "iopub.execute_input": "2023-11-26T17:19:20.056794Z",
     "iopub.status.busy": "2023-11-26T17:19:20.056038Z",
     "iopub.status.idle": "2023-11-26T17:19:20.634765Z",
     "shell.execute_reply": "2023-11-26T17:19:20.633858Z"
    },
    "papermill": {
     "duration": 0.591334,
     "end_time": "2023-11-26T17:19:20.637032",
     "exception": false,
     "start_time": "2023-11-26T17:19:20.045698",
     "status": "completed"
    },
    "tags": []
   },
   "outputs": [],
   "source": [
    "import pandas as pd"
   ]
  },
  {
   "cell_type": "code",
   "execution_count": 2,
   "id": "7f409163",
   "metadata": {
    "execution": {
     "iopub.execute_input": "2023-11-26T17:19:20.648409Z",
     "iopub.status.busy": "2023-11-26T17:19:20.647783Z",
     "iopub.status.idle": "2023-11-26T17:19:20.794402Z",
     "shell.execute_reply": "2023-11-26T17:19:20.793729Z"
    },
    "papermill": {
     "duration": 0.154303,
     "end_time": "2023-11-26T17:19:20.796267",
     "exception": false,
     "start_time": "2023-11-26T17:19:20.641964",
     "status": "completed"
    },
    "tags": []
   },
   "outputs": [
    {
     "data": {
      "text/html": [
       "<div>\n",
       "<style scoped>\n",
       "    .dataframe tbody tr th:only-of-type {\n",
       "        vertical-align: middle;\n",
       "    }\n",
       "\n",
       "    .dataframe tbody tr th {\n",
       "        vertical-align: top;\n",
       "    }\n",
       "\n",
       "    .dataframe thead th {\n",
       "        text-align: right;\n",
       "    }\n",
       "</style>\n",
       "<table border=\"1\" class=\"dataframe\">\n",
       "  <thead>\n",
       "    <tr style=\"text-align: right;\">\n",
       "      <th></th>\n",
       "      <th>AE</th>\n",
       "      <th>AEP</th>\n",
       "      <th>AP</th>\n",
       "      <th>ATSI</th>\n",
       "      <th>BC</th>\n",
       "      <th>CE</th>\n",
       "      <th>DAY</th>\n",
       "      <th>DEOK</th>\n",
       "      <th>DOM</th>\n",
       "      <th>DPL</th>\n",
       "      <th>DUQ</th>\n",
       "      <th>EKPC</th>\n",
       "      <th>JC</th>\n",
       "      <th>ME</th>\n",
       "      <th>PE</th>\n",
       "      <th>PEP</th>\n",
       "      <th>PL</th>\n",
       "      <th>PN</th>\n",
       "      <th>PS</th>\n",
       "      <th>RECO</th>\n",
       "    </tr>\n",
       "    <tr>\n",
       "      <th>period</th>\n",
       "      <th></th>\n",
       "      <th></th>\n",
       "      <th></th>\n",
       "      <th></th>\n",
       "      <th></th>\n",
       "      <th></th>\n",
       "      <th></th>\n",
       "      <th></th>\n",
       "      <th></th>\n",
       "      <th></th>\n",
       "      <th></th>\n",
       "      <th></th>\n",
       "      <th></th>\n",
       "      <th></th>\n",
       "      <th></th>\n",
       "      <th></th>\n",
       "      <th></th>\n",
       "      <th></th>\n",
       "      <th></th>\n",
       "      <th></th>\n",
       "    </tr>\n",
       "  </thead>\n",
       "  <tbody>\n",
       "    <tr>\n",
       "      <th>2018-07-01 05:00:00</th>\n",
       "      <td>1301</td>\n",
       "      <td>12187</td>\n",
       "      <td>4384</td>\n",
       "      <td>6960</td>\n",
       "      <td>3134</td>\n",
       "      <td>12136</td>\n",
       "      <td>1619</td>\n",
       "      <td>2895</td>\n",
       "      <td>9775</td>\n",
       "      <td>1919</td>\n",
       "      <td>1466</td>\n",
       "      <td>1209</td>\n",
       "      <td>2388</td>\n",
       "      <td>1442</td>\n",
       "      <td>4397</td>\n",
       "      <td>3165</td>\n",
       "      <td>3835</td>\n",
       "      <td>1611</td>\n",
       "      <td>5009</td>\n",
       "      <td>186</td>\n",
       "    </tr>\n",
       "    <tr>\n",
       "      <th>2018-07-01 06:00:00</th>\n",
       "      <td>1314</td>\n",
       "      <td>11946</td>\n",
       "      <td>4391</td>\n",
       "      <td>6762</td>\n",
       "      <td>3139</td>\n",
       "      <td>11872</td>\n",
       "      <td>1605</td>\n",
       "      <td>2857</td>\n",
       "      <td>9787</td>\n",
       "      <td>1950</td>\n",
       "      <td>1455</td>\n",
       "      <td>1197</td>\n",
       "      <td>2416</td>\n",
       "      <td>1465</td>\n",
       "      <td>4423</td>\n",
       "      <td>3156</td>\n",
       "      <td>3901</td>\n",
       "      <td>1641</td>\n",
       "      <td>4990</td>\n",
       "      <td>187</td>\n",
       "    </tr>\n",
       "    <tr>\n",
       "      <th>2018-07-01 07:00:00</th>\n",
       "      <td>1410</td>\n",
       "      <td>12664</td>\n",
       "      <td>4757</td>\n",
       "      <td>6670</td>\n",
       "      <td>3377</td>\n",
       "      <td>11992</td>\n",
       "      <td>1707</td>\n",
       "      <td>2997</td>\n",
       "      <td>10453</td>\n",
       "      <td>2160</td>\n",
       "      <td>1528</td>\n",
       "      <td>1273</td>\n",
       "      <td>2644</td>\n",
       "      <td>1605</td>\n",
       "      <td>4743</td>\n",
       "      <td>3332</td>\n",
       "      <td>4232</td>\n",
       "      <td>1728</td>\n",
       "      <td>5267</td>\n",
       "      <td>202</td>\n",
       "    </tr>\n",
       "    <tr>\n",
       "      <th>2018-07-01 08:00:00</th>\n",
       "      <td>1567</td>\n",
       "      <td>14069</td>\n",
       "      <td>5308</td>\n",
       "      <td>7065</td>\n",
       "      <td>3788</td>\n",
       "      <td>12860</td>\n",
       "      <td>1916</td>\n",
       "      <td>3331</td>\n",
       "      <td>11734</td>\n",
       "      <td>2470</td>\n",
       "      <td>1688</td>\n",
       "      <td>1472</td>\n",
       "      <td>3064</td>\n",
       "      <td>1784</td>\n",
       "      <td>5230</td>\n",
       "      <td>3679</td>\n",
       "      <td>4613</td>\n",
       "      <td>1899</td>\n",
       "      <td>5735</td>\n",
       "      <td>230</td>\n",
       "    </tr>\n",
       "    <tr>\n",
       "      <th>2018-07-01 09:00:00</th>\n",
       "      <td>1749</td>\n",
       "      <td>15610</td>\n",
       "      <td>5862</td>\n",
       "      <td>7833</td>\n",
       "      <td>4262</td>\n",
       "      <td>14212</td>\n",
       "      <td>2145</td>\n",
       "      <td>3703</td>\n",
       "      <td>13084</td>\n",
       "      <td>2765</td>\n",
       "      <td>1875</td>\n",
       "      <td>1656</td>\n",
       "      <td>3569</td>\n",
       "      <td>1972</td>\n",
       "      <td>5752</td>\n",
       "      <td>4085</td>\n",
       "      <td>5014</td>\n",
       "      <td>2055</td>\n",
       "      <td>6299</td>\n",
       "      <td>259</td>\n",
       "    </tr>\n",
       "  </tbody>\n",
       "</table>\n",
       "</div>"
      ],
      "text/plain": [
       "                       AE    AEP    AP  ATSI    BC     CE   DAY  DEOK    DOM  \\\n",
       "period                                                                         \n",
       "2018-07-01 05:00:00  1301  12187  4384  6960  3134  12136  1619  2895   9775   \n",
       "2018-07-01 06:00:00  1314  11946  4391  6762  3139  11872  1605  2857   9787   \n",
       "2018-07-01 07:00:00  1410  12664  4757  6670  3377  11992  1707  2997  10453   \n",
       "2018-07-01 08:00:00  1567  14069  5308  7065  3788  12860  1916  3331  11734   \n",
       "2018-07-01 09:00:00  1749  15610  5862  7833  4262  14212  2145  3703  13084   \n",
       "\n",
       "                      DPL   DUQ  EKPC    JC    ME    PE   PEP    PL    PN  \\\n",
       "period                                                                      \n",
       "2018-07-01 05:00:00  1919  1466  1209  2388  1442  4397  3165  3835  1611   \n",
       "2018-07-01 06:00:00  1950  1455  1197  2416  1465  4423  3156  3901  1641   \n",
       "2018-07-01 07:00:00  2160  1528  1273  2644  1605  4743  3332  4232  1728   \n",
       "2018-07-01 08:00:00  2470  1688  1472  3064  1784  5230  3679  4613  1899   \n",
       "2018-07-01 09:00:00  2765  1875  1656  3569  1972  5752  4085  5014  2055   \n",
       "\n",
       "                       PS  RECO  \n",
       "period                           \n",
       "2018-07-01 05:00:00  5009   186  \n",
       "2018-07-01 06:00:00  4990   187  \n",
       "2018-07-01 07:00:00  5267   202  \n",
       "2018-07-01 08:00:00  5735   230  \n",
       "2018-07-01 09:00:00  6299   259  "
      ]
     },
     "execution_count": 2,
     "metadata": {},
     "output_type": "execute_result"
    }
   ],
   "source": [
    "df_base = pd.read_csv('../data/pjm_pivot.csv', index_col=0, parse_dates=True)\n",
    "df_base.head()"
   ]
  },
  {
   "attachments": {},
   "cell_type": "markdown",
   "id": "f6f46178",
   "metadata": {
    "papermill": {
     "duration": 0.004336,
     "end_time": "2023-11-26T17:19:20.805481",
     "exception": false,
     "start_time": "2023-11-26T17:19:20.801145",
     "status": "completed"
    },
    "tags": []
   },
   "source": [
    "## Select region"
   ]
  },
  {
   "cell_type": "code",
   "execution_count": 3,
   "id": "49723afd",
   "metadata": {
    "execution": {
     "iopub.execute_input": "2023-11-26T17:19:20.814967Z",
     "iopub.status.busy": "2023-11-26T17:19:20.814683Z",
     "iopub.status.idle": "2023-11-26T17:19:20.817864Z",
     "shell.execute_reply": "2023-11-26T17:19:20.817031Z"
    },
    "papermill": {
     "duration": 0.010293,
     "end_time": "2023-11-26T17:19:20.819628",
     "exception": false,
     "start_time": "2023-11-26T17:19:20.809335",
     "status": "completed"
    },
    "tags": [
     "parameters"
    ]
   },
   "outputs": [],
   "source": [
    "region = 'AE'"
   ]
  },
  {
   "cell_type": "code",
   "execution_count": 4,
   "id": "50bd8dfe",
   "metadata": {
    "execution": {
     "iopub.execute_input": "2023-11-26T17:19:20.828838Z",
     "iopub.status.busy": "2023-11-26T17:19:20.828509Z",
     "iopub.status.idle": "2023-11-26T17:19:20.858833Z",
     "shell.execute_reply": "2023-11-26T17:19:20.853639Z"
    },
    "papermill": {
     "duration": 0.050075,
     "end_time": "2023-11-26T17:19:20.873525",
     "exception": false,
     "start_time": "2023-11-26T17:19:20.823450",
     "status": "completed"
    },
    "tags": [
     "injected-parameters"
    ]
   },
   "outputs": [],
   "source": [
    "# Parameters\n",
    "region = \"EKPC\"\n"
   ]
  },
  {
   "cell_type": "code",
   "execution_count": 5,
   "id": "50dac272",
   "metadata": {
    "execution": {
     "iopub.execute_input": "2023-11-26T17:19:20.921284Z",
     "iopub.status.busy": "2023-11-26T17:19:20.920443Z",
     "iopub.status.idle": "2023-11-26T17:19:20.931838Z",
     "shell.execute_reply": "2023-11-26T17:19:20.931019Z"
    },
    "papermill": {
     "duration": 0.040765,
     "end_time": "2023-11-26T17:19:20.933904",
     "exception": false,
     "start_time": "2023-11-26T17:19:20.893139",
     "status": "completed"
    },
    "tags": []
   },
   "outputs": [
    {
     "data": {
      "text/html": [
       "<div>\n",
       "<style scoped>\n",
       "    .dataframe tbody tr th:only-of-type {\n",
       "        vertical-align: middle;\n",
       "    }\n",
       "\n",
       "    .dataframe tbody tr th {\n",
       "        vertical-align: top;\n",
       "    }\n",
       "\n",
       "    .dataframe thead th {\n",
       "        text-align: right;\n",
       "    }\n",
       "</style>\n",
       "<table border=\"1\" class=\"dataframe\">\n",
       "  <thead>\n",
       "    <tr style=\"text-align: right;\">\n",
       "      <th></th>\n",
       "      <th>EKPC</th>\n",
       "    </tr>\n",
       "    <tr>\n",
       "      <th>period</th>\n",
       "      <th></th>\n",
       "    </tr>\n",
       "  </thead>\n",
       "  <tbody>\n",
       "    <tr>\n",
       "      <th>2018-07-01 05:00:00</th>\n",
       "      <td>1209</td>\n",
       "    </tr>\n",
       "    <tr>\n",
       "      <th>2018-07-01 06:00:00</th>\n",
       "      <td>1197</td>\n",
       "    </tr>\n",
       "    <tr>\n",
       "      <th>2018-07-01 07:00:00</th>\n",
       "      <td>1273</td>\n",
       "    </tr>\n",
       "    <tr>\n",
       "      <th>2018-07-01 08:00:00</th>\n",
       "      <td>1472</td>\n",
       "    </tr>\n",
       "    <tr>\n",
       "      <th>2018-07-01 09:00:00</th>\n",
       "      <td>1656</td>\n",
       "    </tr>\n",
       "    <tr>\n",
       "      <th>...</th>\n",
       "      <td>...</td>\n",
       "    </tr>\n",
       "    <tr>\n",
       "      <th>2023-11-01 00:00:00</th>\n",
       "      <td>1737</td>\n",
       "    </tr>\n",
       "    <tr>\n",
       "      <th>2023-11-01 01:00:00</th>\n",
       "      <td>1898</td>\n",
       "    </tr>\n",
       "    <tr>\n",
       "      <th>2023-11-01 02:00:00</th>\n",
       "      <td>1896</td>\n",
       "    </tr>\n",
       "    <tr>\n",
       "      <th>2023-11-01 03:00:00</th>\n",
       "      <td>1737</td>\n",
       "    </tr>\n",
       "    <tr>\n",
       "      <th>2023-11-01 04:00:00</th>\n",
       "      <td>1775</td>\n",
       "    </tr>\n",
       "  </tbody>\n",
       "</table>\n",
       "<p>44904 rows × 1 columns</p>\n",
       "</div>"
      ],
      "text/plain": [
       "                     EKPC\n",
       "period                   \n",
       "2018-07-01 05:00:00  1209\n",
       "2018-07-01 06:00:00  1197\n",
       "2018-07-01 07:00:00  1273\n",
       "2018-07-01 08:00:00  1472\n",
       "2018-07-01 09:00:00  1656\n",
       "...                   ...\n",
       "2023-11-01 00:00:00  1737\n",
       "2023-11-01 01:00:00  1898\n",
       "2023-11-01 02:00:00  1896\n",
       "2023-11-01 03:00:00  1737\n",
       "2023-11-01 04:00:00  1775\n",
       "\n",
       "[44904 rows x 1 columns]"
      ]
     },
     "execution_count": 5,
     "metadata": {},
     "output_type": "execute_result"
    }
   ],
   "source": [
    "df = df_base.loc[:, [region]]\n",
    "df"
   ]
  },
  {
   "attachments": {},
   "cell_type": "markdown",
   "id": "d24915af",
   "metadata": {
    "papermill": {
     "duration": 0.004551,
     "end_time": "2023-11-26T17:19:20.943375",
     "exception": false,
     "start_time": "2023-11-26T17:19:20.938824",
     "status": "completed"
    },
    "tags": []
   },
   "source": [
    "## Data Preprocessing"
   ]
  },
  {
   "attachments": {},
   "cell_type": "markdown",
   "id": "b0a090fd",
   "metadata": {
    "papermill": {
     "duration": 0.004118,
     "end_time": "2023-11-26T17:19:20.951812",
     "exception": false,
     "start_time": "2023-11-26T17:19:20.947694",
     "status": "completed"
    },
    "tags": []
   },
   "source": [
    "### Scale Data"
   ]
  },
  {
   "cell_type": "code",
   "execution_count": 6,
   "id": "7078e704",
   "metadata": {
    "execution": {
     "iopub.execute_input": "2023-11-26T17:19:20.962747Z",
     "iopub.status.busy": "2023-11-26T17:19:20.962275Z",
     "iopub.status.idle": "2023-11-26T17:19:21.646114Z",
     "shell.execute_reply": "2023-11-26T17:19:21.644877Z"
    },
    "papermill": {
     "duration": 0.692023,
     "end_time": "2023-11-26T17:19:21.648290",
     "exception": false,
     "start_time": "2023-11-26T17:19:20.956267",
     "status": "completed"
    },
    "tags": []
   },
   "outputs": [],
   "source": [
    "from sklearn.preprocessing import MinMaxScaler\n",
    "\n",
    "# Normalize data\n",
    "scaler = MinMaxScaler(feature_range=(0, 1))\n",
    "data_norm = scaler.fit_transform(df)"
   ]
  },
  {
   "attachments": {},
   "cell_type": "markdown",
   "id": "03c47e18",
   "metadata": {
    "papermill": {
     "duration": 0.0051,
     "end_time": "2023-11-26T17:19:21.658223",
     "exception": false,
     "start_time": "2023-11-26T17:19:21.653123",
     "status": "completed"
    },
    "tags": []
   },
   "source": [
    "### Train Test Split"
   ]
  },
  {
   "cell_type": "code",
   "execution_count": 7,
   "id": "471000ec",
   "metadata": {
    "execution": {
     "iopub.execute_input": "2023-11-26T17:19:21.668671Z",
     "iopub.status.busy": "2023-11-26T17:19:21.668229Z",
     "iopub.status.idle": "2023-11-26T17:19:21.719434Z",
     "shell.execute_reply": "2023-11-26T17:19:21.718614Z"
    },
    "papermill": {
     "duration": 0.058482,
     "end_time": "2023-11-26T17:19:21.721505",
     "exception": false,
     "start_time": "2023-11-26T17:19:21.663023",
     "status": "completed"
    },
    "tags": []
   },
   "outputs": [],
   "source": [
    "from sklearn.model_selection import train_test_split\n",
    "\n",
    "train, test = train_test_split(data_norm, test_size=0.2, shuffle=False)"
   ]
  },
  {
   "attachments": {},
   "cell_type": "markdown",
   "id": "1d9ac989",
   "metadata": {
    "papermill": {
     "duration": 0.004798,
     "end_time": "2023-11-26T17:19:21.731289",
     "exception": false,
     "start_time": "2023-11-26T17:19:21.726491",
     "status": "completed"
    },
    "tags": []
   },
   "source": [
    "### Create Sequences"
   ]
  },
  {
   "cell_type": "code",
   "execution_count": 8,
   "id": "4a833b9f",
   "metadata": {
    "execution": {
     "iopub.execute_input": "2023-11-26T17:19:21.740882Z",
     "iopub.status.busy": "2023-11-26T17:19:21.740380Z",
     "iopub.status.idle": "2023-11-26T17:19:21.816092Z",
     "shell.execute_reply": "2023-11-26T17:19:21.815288Z"
    },
    "papermill": {
     "duration": 0.083063,
     "end_time": "2023-11-26T17:19:21.818142",
     "exception": false,
     "start_time": "2023-11-26T17:19:21.735079",
     "status": "completed"
    },
    "tags": []
   },
   "outputs": [],
   "source": [
    "import numpy as np\n",
    "\n",
    "def create_sequences(data, sequence_length):\n",
    "    X, y = [], []\n",
    "    for i in range(len(data) - sequence_length):\n",
    "        X.append(data[i:i+sequence_length])\n",
    "        y.append(data[i+sequence_length])\n",
    "    return np.array(X), np.array(y)\n",
    "\n",
    "sequence_length = 24 # Use 24 hours prior to predict the following hour\n",
    "X_train, y_train = create_sequences(train, sequence_length)\n",
    "X_test, y_test = create_sequences(test, sequence_length)"
   ]
  },
  {
   "attachments": {},
   "cell_type": "markdown",
   "id": "d6da4df8",
   "metadata": {
    "papermill": {
     "duration": 0.005259,
     "end_time": "2023-11-26T17:19:21.828598",
     "exception": false,
     "start_time": "2023-11-26T17:19:21.823339",
     "status": "completed"
    },
    "tags": []
   },
   "source": [
    "## Modelling"
   ]
  },
  {
   "attachments": {},
   "cell_type": "markdown",
   "id": "c8328e8e",
   "metadata": {
    "papermill": {
     "duration": 0.00438,
     "end_time": "2023-11-26T17:19:21.837252",
     "exception": false,
     "start_time": "2023-11-26T17:19:21.832872",
     "status": "completed"
    },
    "tags": []
   },
   "source": [
    "### Design NN Architecture"
   ]
  },
  {
   "cell_type": "code",
   "execution_count": 9,
   "id": "fec9343f",
   "metadata": {
    "execution": {
     "iopub.execute_input": "2023-11-26T17:19:21.849641Z",
     "iopub.status.busy": "2023-11-26T17:19:21.849038Z",
     "iopub.status.idle": "2023-11-26T17:19:27.101571Z",
     "shell.execute_reply": "2023-11-26T17:19:27.100733Z"
    },
    "papermill": {
     "duration": 5.261079,
     "end_time": "2023-11-26T17:19:27.103658",
     "exception": false,
     "start_time": "2023-11-26T17:19:21.842579",
     "status": "completed"
    },
    "tags": []
   },
   "outputs": [
    {
     "name": "stderr",
     "output_type": "stream",
     "text": [
      "2023-11-26 18:19:24.165074: I tensorflow/core/platform/cpu_feature_guard.cc:182] This TensorFlow binary is optimized to use available CPU instructions in performance-critical operations.\n",
      "To enable the following instructions: AVX2 FMA, in other operations, rebuild TensorFlow with the appropriate compiler flags.\n"
     ]
    }
   ],
   "source": [
    "from keras.models import Sequential\n",
    "from keras.layers import LSTM, Dense\n",
    "\n",
    "model = Sequential()\n",
    "model.add(LSTM(50, input_shape=(X_train.shape[1], X_train.shape[2])))\n",
    "model.add(Dense(1))\n",
    "model.compile(optimizer='adam', loss='mean_squared_error')"
   ]
  },
  {
   "attachments": {},
   "cell_type": "markdown",
   "id": "085f56bc",
   "metadata": {
    "papermill": {
     "duration": 0.005568,
     "end_time": "2023-11-26T17:19:27.115200",
     "exception": false,
     "start_time": "2023-11-26T17:19:27.109632",
     "status": "completed"
    },
    "tags": []
   },
   "source": [
    "### Train Model"
   ]
  },
  {
   "cell_type": "code",
   "execution_count": 10,
   "id": "88e0634c",
   "metadata": {
    "execution": {
     "iopub.execute_input": "2023-11-26T17:19:27.126082Z",
     "iopub.status.busy": "2023-11-26T17:19:27.125285Z",
     "iopub.status.idle": "2023-11-26T17:20:14.252661Z",
     "shell.execute_reply": "2023-11-26T17:20:14.252028Z"
    },
    "papermill": {
     "duration": 47.135462,
     "end_time": "2023-11-26T17:20:14.254737",
     "exception": false,
     "start_time": "2023-11-26T17:19:27.119275",
     "status": "completed"
    },
    "tags": []
   },
   "outputs": [],
   "source": [
    "from keras.callbacks import EarlyStopping\n",
    "\n",
    "early_stop = EarlyStopping(monitor='val_loss', patience=5)\n",
    "\n",
    "history = model.fit(\n",
    "    X_train, y_train, epochs=50, batch_size=64, verbose=0,\n",
    "    validation_data=(X_test, y_test), callbacks=[early_stop])"
   ]
  },
  {
   "attachments": {},
   "cell_type": "markdown",
   "id": "debd83ec",
   "metadata": {
    "papermill": {
     "duration": 0.004861,
     "end_time": "2023-11-26T17:20:14.265453",
     "exception": false,
     "start_time": "2023-11-26T17:20:14.260592",
     "status": "completed"
    },
    "tags": []
   },
   "source": [
    "### Calculate Predictions"
   ]
  },
  {
   "cell_type": "code",
   "execution_count": 11,
   "id": "92fb9767",
   "metadata": {
    "execution": {
     "iopub.execute_input": "2023-11-26T17:20:14.276406Z",
     "iopub.status.busy": "2023-11-26T17:20:14.275774Z",
     "iopub.status.idle": "2023-11-26T17:20:15.487349Z",
     "shell.execute_reply": "2023-11-26T17:20:15.485974Z"
    },
    "papermill": {
     "duration": 1.220541,
     "end_time": "2023-11-26T17:20:15.490307",
     "exception": false,
     "start_time": "2023-11-26T17:20:14.269766",
     "status": "completed"
    },
    "tags": []
   },
   "outputs": [
    {
     "name": "stdout",
     "output_type": "stream",
     "text": [
      "\r",
      "  1/280 [..............................] - ETA: 1:41"
     ]
    },
    {
     "name": "stdout",
     "output_type": "stream",
     "text": [
      "\b\b\b\b\b\b\b\b\b\b\b\b\b\b\b\b\b\b\b\b\b\b\b\b\b\b\b\b\b\b\b\b\b\b\b\b\b\b\b\b\b\b\b\b\b\b\b\b\b\b\b\b\r",
      " 21/280 [=>............................] - ETA: 0s  "
     ]
    },
    {
     "name": "stdout",
     "output_type": "stream",
     "text": [
      "\b\b\b\b\b\b\b\b\b\b\b\b\b\b\b\b\b\b\b\b\b\b\b\b\b\b\b\b\b\b\b\b\b\b\b\b\b\b\b\b\b\b\b\b\b\b\b\b\b\b\r",
      " 42/280 [===>..........................] - ETA: 0s"
     ]
    },
    {
     "name": "stdout",
     "output_type": "stream",
     "text": [
      "\b\b\b\b\b\b\b\b\b\b\b\b\b\b\b\b\b\b\b\b\b\b\b\b\b\b\b\b\b\b\b\b\b\b\b\b\b\b\b\b\b\b\b\b\b\b\b\b\b\b\r",
      " 63/280 [=====>........................] - ETA: 0s"
     ]
    },
    {
     "name": "stdout",
     "output_type": "stream",
     "text": [
      "\b\b\b\b\b\b\b\b\b\b\b\b\b\b\b\b\b\b\b\b\b\b\b\b\b\b\b\b\b\b\b\b\b\b\b\b\b\b\b\b\b\b\b\b\b\b\b\b\b\b\r",
      " 84/280 [========>.....................] - ETA: 0s"
     ]
    },
    {
     "name": "stdout",
     "output_type": "stream",
     "text": [
      "\b\b\b\b\b\b\b\b\b\b\b\b\b\b\b\b\b\b\b\b\b\b\b\b\b\b\b\b\b\b\b\b\b\b\b\b\b\b\b\b\b\b\b\b\b\b\b\b\b\b\r",
      " 99/280 [=========>....................] - ETA: 0s"
     ]
    },
    {
     "name": "stdout",
     "output_type": "stream",
     "text": [
      "\b\b\b\b\b\b\b\b\b\b\b\b\b\b\b\b\b\b\b\b\b\b\b\b\b\b\b\b\b\b\b\b\b\b\b\b\b\b\b\b\b\b\b\b\b\b\b\b\b\b\r",
      "119/280 [===========>..................] - ETA: 0s"
     ]
    },
    {
     "name": "stdout",
     "output_type": "stream",
     "text": [
      "\b\b\b\b\b\b\b\b\b\b\b\b\b\b\b\b\b\b\b\b\b\b\b\b\b\b\b\b\b\b\b\b\b\b\b\b\b\b\b\b\b\b\b\b\b\b\b\b\b\b\r",
      "141/280 [==============>...............] - ETA: 0s"
     ]
    },
    {
     "name": "stdout",
     "output_type": "stream",
     "text": [
      "\b\b\b\b\b\b\b\b\b\b\b\b\b\b\b\b\b\b\b\b\b\b\b\b\b\b\b\b\b\b\b\b\b\b\b\b\b\b\b\b\b\b\b\b\b\b\b\b\b\b\r",
      "161/280 [================>.............] - ETA: 0s"
     ]
    },
    {
     "name": "stdout",
     "output_type": "stream",
     "text": [
      "\b\b\b\b\b\b\b\b\b\b\b\b\b\b\b\b\b\b\b\b\b\b\b\b\b\b\b\b\b\b\b\b\b\b\b\b\b\b\b\b\b\b\b\b\b\b\b\b\b\b\r",
      "182/280 [==================>...........] - ETA: 0s"
     ]
    },
    {
     "name": "stdout",
     "output_type": "stream",
     "text": [
      "\b\b\b\b\b\b\b\b\b\b\b\b\b\b\b\b\b\b\b\b\b\b\b\b\b\b\b\b\b\b\b\b\b\b\b\b\b\b\b\b\b\b\b\b\b\b\b\b\b\b\r",
      "203/280 [====================>.........] - ETA: 0s"
     ]
    },
    {
     "name": "stdout",
     "output_type": "stream",
     "text": [
      "\b\b\b\b\b\b\b\b\b\b\b\b\b\b\b\b\b\b\b\b\b\b\b\b\b\b\b\b\b\b\b\b\b\b\b\b\b\b\b\b\b\b\b\b\b\b\b\b\b\b\r",
      "224/280 [=======================>......] - ETA: 0s"
     ]
    },
    {
     "name": "stdout",
     "output_type": "stream",
     "text": [
      "\b\b\b\b\b\b\b\b\b\b\b\b\b\b\b\b\b\b\b\b\b\b\b\b\b\b\b\b\b\b\b\b\b\b\b\b\b\b\b\b\b\b\b\b\b\b\b\b\b\b\r",
      "244/280 [=========================>....] - ETA: 0s"
     ]
    },
    {
     "name": "stdout",
     "output_type": "stream",
     "text": [
      "\b\b\b\b\b\b\b\b\b\b\b\b\b\b\b\b\b\b\b\b\b\b\b\b\b\b\b\b\b\b\b\b\b\b\b\b\b\b\b\b\b\b\b\b\b\b\b\b\b\b\r",
      "265/280 [===========================>..] - ETA: 0s"
     ]
    },
    {
     "name": "stdout",
     "output_type": "stream",
     "text": [
      "\b\b\b\b\b\b\b\b\b\b\b\b\b\b\b\b\b\b\b\b\b\b\b\b\b\b\b\b\b\b\b\b\b\b\b\b\b\b\b\b\b\b\b\b\b\b\b\b\b\b\r",
      "280/280 [==============================] - 1s 3ms/step\n"
     ]
    },
    {
     "data": {
      "text/plain": [
       "array([[0.15323801],\n",
       "       [0.18375053],\n",
       "       [0.18247324],\n",
       "       ...,\n",
       "       [0.38844898],\n",
       "       [0.3572654 ],\n",
       "       [0.27909985]], dtype=float32)"
      ]
     },
     "execution_count": 11,
     "metadata": {},
     "output_type": "execute_result"
    }
   ],
   "source": [
    "y_pred = model.predict(X_test)\n",
    "y_pred"
   ]
  },
  {
   "attachments": {},
   "cell_type": "markdown",
   "id": "95ec5f18",
   "metadata": {
    "papermill": {
     "duration": 0.005408,
     "end_time": "2023-11-26T17:20:15.502328",
     "exception": false,
     "start_time": "2023-11-26T17:20:15.496920",
     "status": "completed"
    },
    "tags": []
   },
   "source": [
    "### Comparison: Real Data & Prediction"
   ]
  },
  {
   "attachments": {},
   "cell_type": "markdown",
   "id": "5ab2dc0b",
   "metadata": {
    "papermill": {
     "duration": 0.005445,
     "end_time": "2023-11-26T17:20:15.513937",
     "exception": false,
     "start_time": "2023-11-26T17:20:15.508492",
     "status": "completed"
    },
    "tags": []
   },
   "source": [
    "#### Descale Data"
   ]
  },
  {
   "cell_type": "code",
   "execution_count": 12,
   "id": "10f91e89",
   "metadata": {
    "execution": {
     "iopub.execute_input": "2023-11-26T17:20:15.526214Z",
     "iopub.status.busy": "2023-11-26T17:20:15.525605Z",
     "iopub.status.idle": "2023-11-26T17:20:15.531060Z",
     "shell.execute_reply": "2023-11-26T17:20:15.530195Z"
    },
    "papermill": {
     "duration": 0.013916,
     "end_time": "2023-11-26T17:20:15.532809",
     "exception": false,
     "start_time": "2023-11-26T17:20:15.518893",
     "status": "completed"
    },
    "tags": []
   },
   "outputs": [],
   "source": [
    "y_pred_scaled_inverse = scaler.inverse_transform(y_pred)\n",
    "y_true = scaler.inverse_transform(y_test)"
   ]
  },
  {
   "attachments": {},
   "cell_type": "markdown",
   "id": "9009116a",
   "metadata": {
    "papermill": {
     "duration": 0.005929,
     "end_time": "2023-11-26T17:20:15.543682",
     "exception": false,
     "start_time": "2023-11-26T17:20:15.537753",
     "status": "completed"
    },
    "tags": []
   },
   "source": [
    "#### Create DataFrame"
   ]
  },
  {
   "cell_type": "code",
   "execution_count": 13,
   "id": "82c2d7f5",
   "metadata": {
    "execution": {
     "iopub.execute_input": "2023-11-26T17:20:15.555636Z",
     "iopub.status.busy": "2023-11-26T17:20:15.555204Z",
     "iopub.status.idle": "2023-11-26T17:20:15.568025Z",
     "shell.execute_reply": "2023-11-26T17:20:15.567381Z"
    },
    "papermill": {
     "duration": 0.021625,
     "end_time": "2023-11-26T17:20:15.569746",
     "exception": false,
     "start_time": "2023-11-26T17:20:15.548121",
     "status": "completed"
    },
    "tags": []
   },
   "outputs": [
    {
     "data": {
      "text/html": [
       "<div>\n",
       "<style scoped>\n",
       "    .dataframe tbody tr th:only-of-type {\n",
       "        vertical-align: middle;\n",
       "    }\n",
       "\n",
       "    .dataframe tbody tr th {\n",
       "        vertical-align: top;\n",
       "    }\n",
       "\n",
       "    .dataframe thead th {\n",
       "        text-align: right;\n",
       "    }\n",
       "</style>\n",
       "<table border=\"1\" class=\"dataframe\">\n",
       "  <thead>\n",
       "    <tr style=\"text-align: right;\">\n",
       "      <th></th>\n",
       "      <th>y_pred</th>\n",
       "      <th>y_pred_scaled_inverse</th>\n",
       "      <th>y_true</th>\n",
       "    </tr>\n",
       "  </thead>\n",
       "  <tbody>\n",
       "    <tr>\n",
       "      <th>0</th>\n",
       "      <td>0.153238</td>\n",
       "      <td>1220.609741</td>\n",
       "      <td>1294.0</td>\n",
       "    </tr>\n",
       "    <tr>\n",
       "      <th>1</th>\n",
       "      <td>0.183751</td>\n",
       "      <td>1313.520386</td>\n",
       "      <td>1311.0</td>\n",
       "    </tr>\n",
       "    <tr>\n",
       "      <th>2</th>\n",
       "      <td>0.182473</td>\n",
       "      <td>1309.630981</td>\n",
       "      <td>1288.0</td>\n",
       "    </tr>\n",
       "    <tr>\n",
       "      <th>3</th>\n",
       "      <td>0.170224</td>\n",
       "      <td>1272.333496</td>\n",
       "      <td>1247.0</td>\n",
       "    </tr>\n",
       "    <tr>\n",
       "      <th>4</th>\n",
       "      <td>0.154963</td>\n",
       "      <td>1225.862061</td>\n",
       "      <td>1205.0</td>\n",
       "    </tr>\n",
       "    <tr>\n",
       "      <th>...</th>\n",
       "      <td>...</td>\n",
       "      <td>...</td>\n",
       "      <td>...</td>\n",
       "    </tr>\n",
       "    <tr>\n",
       "      <th>8952</th>\n",
       "      <td>0.307940</td>\n",
       "      <td>1691.676392</td>\n",
       "      <td>1737.0</td>\n",
       "    </tr>\n",
       "    <tr>\n",
       "      <th>8953</th>\n",
       "      <td>0.324487</td>\n",
       "      <td>1742.064453</td>\n",
       "      <td>1898.0</td>\n",
       "    </tr>\n",
       "    <tr>\n",
       "      <th>8954</th>\n",
       "      <td>0.388449</td>\n",
       "      <td>1936.827148</td>\n",
       "      <td>1896.0</td>\n",
       "    </tr>\n",
       "    <tr>\n",
       "      <th>8955</th>\n",
       "      <td>0.357265</td>\n",
       "      <td>1841.873169</td>\n",
       "      <td>1737.0</td>\n",
       "    </tr>\n",
       "    <tr>\n",
       "      <th>8956</th>\n",
       "      <td>0.279100</td>\n",
       "      <td>1603.859131</td>\n",
       "      <td>1775.0</td>\n",
       "    </tr>\n",
       "  </tbody>\n",
       "</table>\n",
       "<p>8957 rows × 3 columns</p>\n",
       "</div>"
      ],
      "text/plain": [
       "        y_pred  y_pred_scaled_inverse  y_true\n",
       "0     0.153238            1220.609741  1294.0\n",
       "1     0.183751            1313.520386  1311.0\n",
       "2     0.182473            1309.630981  1288.0\n",
       "3     0.170224            1272.333496  1247.0\n",
       "4     0.154963            1225.862061  1205.0\n",
       "...        ...                    ...     ...\n",
       "8952  0.307940            1691.676392  1737.0\n",
       "8953  0.324487            1742.064453  1898.0\n",
       "8954  0.388449            1936.827148  1896.0\n",
       "8955  0.357265            1841.873169  1737.0\n",
       "8956  0.279100            1603.859131  1775.0\n",
       "\n",
       "[8957 rows x 3 columns]"
      ]
     },
     "execution_count": 13,
     "metadata": {},
     "output_type": "execute_result"
    }
   ],
   "source": [
    "dic_pred = {\n",
    "    'y_pred': y_pred.flatten(),\n",
    "    'y_pred_scaled_inverse': y_pred_scaled_inverse.flatten(),\n",
    "    'y_true': y_true.flatten(),\n",
    "}\n",
    "\n",
    "df_pred = pd.DataFrame(dic_pred)\n",
    "df_pred"
   ]
  },
  {
   "attachments": {},
   "cell_type": "markdown",
   "id": "6582e421",
   "metadata": {
    "papermill": {
     "duration": 0.005683,
     "end_time": "2023-11-26T17:20:15.580785",
     "exception": false,
     "start_time": "2023-11-26T17:20:15.575102",
     "status": "completed"
    },
    "tags": []
   },
   "source": [
    "#### Evaluate Model"
   ]
  },
  {
   "cell_type": "code",
   "execution_count": 14,
   "id": "f3405627",
   "metadata": {
    "execution": {
     "iopub.execute_input": "2023-11-26T17:20:15.593326Z",
     "iopub.status.busy": "2023-11-26T17:20:15.592605Z",
     "iopub.status.idle": "2023-11-26T17:20:15.596713Z",
     "shell.execute_reply": "2023-11-26T17:20:15.596091Z"
    },
    "papermill": {
     "duration": 0.013142,
     "end_time": "2023-11-26T17:20:15.598836",
     "exception": false,
     "start_time": "2023-11-26T17:20:15.585694",
     "status": "completed"
    },
    "tags": []
   },
   "outputs": [],
   "source": [
    "from sklearn.metrics import mean_squared_error"
   ]
  },
  {
   "cell_type": "code",
   "execution_count": 15,
   "id": "77c17d0c",
   "metadata": {
    "execution": {
     "iopub.execute_input": "2023-11-26T17:20:15.612301Z",
     "iopub.status.busy": "2023-11-26T17:20:15.612026Z",
     "iopub.status.idle": "2023-11-26T17:20:15.617129Z",
     "shell.execute_reply": "2023-11-26T17:20:15.616574Z"
    },
    "papermill": {
     "duration": 0.014068,
     "end_time": "2023-11-26T17:20:15.618775",
     "exception": false,
     "start_time": "2023-11-26T17:20:15.604707",
     "status": "completed"
    },
    "tags": []
   },
   "outputs": [
    {
     "data": {
      "text/plain": [
       "67.71826475199839"
      ]
     },
     "execution_count": 15,
     "metadata": {},
     "output_type": "execute_result"
    }
   ],
   "source": [
    "mean_squared_error(df_pred.y_true, df_pred.y_pred_scaled_inverse, squared=False)"
   ]
  },
  {
   "cell_type": "code",
   "execution_count": 16,
   "id": "63bc230b",
   "metadata": {
    "execution": {
     "iopub.execute_input": "2023-11-26T17:20:15.660585Z",
     "iopub.status.busy": "2023-11-26T17:20:15.659907Z",
     "iopub.status.idle": "2023-11-26T17:20:15.692313Z",
     "shell.execute_reply": "2023-11-26T17:20:15.691113Z"
    },
    "papermill": {
     "duration": 0.061313,
     "end_time": "2023-11-26T17:20:15.695104",
     "exception": false,
     "start_time": "2023-11-26T17:20:15.633791",
     "status": "completed"
    },
    "tags": []
   },
   "outputs": [],
   "source": [
    "model.save(f'../models/{region}.keras')"
   ]
  }
 ],
 "metadata": {
  "kernelspec": {
   "display_name": "deep-learning",
   "language": "python",
   "name": "python3"
  },
  "language_info": {
   "codemirror_mode": {
    "name": "ipython",
    "version": 3
   },
   "file_extension": ".py",
   "mimetype": "text/x-python",
   "name": "python",
   "nbconvert_exporter": "python",
   "pygments_lexer": "ipython3",
   "version": "3.9.18"
  },
  "papermill": {
   "default_parameters": {},
   "duration": 58.266166,
   "end_time": "2023-11-26T17:20:16.735009",
   "environment_variables": {},
   "exception": null,
   "input_path": "Modelling.ipynb",
   "output_path": "outputs/EKPC.ipynb",
   "parameters": {
    "region": "EKPC"
   },
   "start_time": "2023-11-26T17:19:18.468843",
   "version": "2.5.0"
  }
 },
 "nbformat": 4,
 "nbformat_minor": 5
}