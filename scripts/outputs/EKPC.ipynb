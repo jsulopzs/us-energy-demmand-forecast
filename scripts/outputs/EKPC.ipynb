{
 "cells": [
  {
   "attachments": {},
   "cell_type": "markdown",
   "id": "c70d9785",
   "metadata": {
    "papermill": {
     "duration": 0.005496,
     "end_time": "2023-12-13T13:20:33.889916",
     "exception": false,
     "start_time": "2023-12-13T13:20:33.884420",
     "status": "completed"
    },
    "tags": []
   },
   "source": [
    "## Load data"
   ]
  },
  {
   "cell_type": "code",
   "execution_count": 1,
   "id": "7e9626f7",
   "metadata": {
    "execution": {
     "iopub.execute_input": "2023-12-13T13:20:33.906629Z",
     "iopub.status.busy": "2023-12-13T13:20:33.906629Z",
     "iopub.status.idle": "2023-12-13T13:20:34.246242Z",
     "shell.execute_reply": "2023-12-13T13:20:34.246242Z"
    },
    "papermill": {
     "duration": 0.350325,
     "end_time": "2023-12-13T13:20:34.248243",
     "exception": false,
     "start_time": "2023-12-13T13:20:33.897918",
     "status": "completed"
    },
    "tags": []
   },
   "outputs": [],
   "source": [
    "import pandas as pd"
   ]
  },
  {
   "cell_type": "code",
   "execution_count": 2,
   "id": "e8d1b64c",
   "metadata": {
    "execution": {
     "iopub.execute_input": "2023-12-13T13:20:34.262936Z",
     "iopub.status.busy": "2023-12-13T13:20:34.262936Z",
     "iopub.status.idle": "2023-12-13T13:20:34.371377Z",
     "shell.execute_reply": "2023-12-13T13:20:34.371377Z"
    },
    "papermill": {
     "duration": 0.118444,
     "end_time": "2023-12-13T13:20:34.373377",
     "exception": false,
     "start_time": "2023-12-13T13:20:34.254933",
     "status": "completed"
    },
    "tags": []
   },
   "outputs": [
    {
     "data": {
      "text/html": [
       "<div>\n",
       "<style scoped>\n",
       "    .dataframe tbody tr th:only-of-type {\n",
       "        vertical-align: middle;\n",
       "    }\n",
       "\n",
       "    .dataframe tbody tr th {\n",
       "        vertical-align: top;\n",
       "    }\n",
       "\n",
       "    .dataframe thead th {\n",
       "        text-align: right;\n",
       "    }\n",
       "</style>\n",
       "<table border=\"1\" class=\"dataframe\">\n",
       "  <thead>\n",
       "    <tr style=\"text-align: right;\">\n",
       "      <th></th>\n",
       "      <th>AE</th>\n",
       "      <th>AEP</th>\n",
       "      <th>AP</th>\n",
       "      <th>ATSI</th>\n",
       "      <th>BC</th>\n",
       "      <th>CE</th>\n",
       "      <th>DAY</th>\n",
       "      <th>DEOK</th>\n",
       "      <th>DOM</th>\n",
       "      <th>DPL</th>\n",
       "      <th>DUQ</th>\n",
       "      <th>EKPC</th>\n",
       "      <th>JC</th>\n",
       "      <th>ME</th>\n",
       "      <th>PE</th>\n",
       "      <th>PEP</th>\n",
       "      <th>PL</th>\n",
       "      <th>PN</th>\n",
       "      <th>PS</th>\n",
       "      <th>RECO</th>\n",
       "    </tr>\n",
       "    <tr>\n",
       "      <th>period</th>\n",
       "      <th></th>\n",
       "      <th></th>\n",
       "      <th></th>\n",
       "      <th></th>\n",
       "      <th></th>\n",
       "      <th></th>\n",
       "      <th></th>\n",
       "      <th></th>\n",
       "      <th></th>\n",
       "      <th></th>\n",
       "      <th></th>\n",
       "      <th></th>\n",
       "      <th></th>\n",
       "      <th></th>\n",
       "      <th></th>\n",
       "      <th></th>\n",
       "      <th></th>\n",
       "      <th></th>\n",
       "      <th></th>\n",
       "      <th></th>\n",
       "    </tr>\n",
       "  </thead>\n",
       "  <tbody>\n",
       "    <tr>\n",
       "      <th>2018-07-01 05:00:00</th>\n",
       "      <td>1301</td>\n",
       "      <td>12187</td>\n",
       "      <td>4384</td>\n",
       "      <td>6960</td>\n",
       "      <td>3134</td>\n",
       "      <td>12136</td>\n",
       "      <td>1619</td>\n",
       "      <td>2895</td>\n",
       "      <td>9775</td>\n",
       "      <td>1919</td>\n",
       "      <td>1466</td>\n",
       "      <td>1209</td>\n",
       "      <td>2388</td>\n",
       "      <td>1442</td>\n",
       "      <td>4397</td>\n",
       "      <td>3165</td>\n",
       "      <td>3835</td>\n",
       "      <td>1611</td>\n",
       "      <td>5009</td>\n",
       "      <td>186</td>\n",
       "    </tr>\n",
       "    <tr>\n",
       "      <th>2018-07-01 06:00:00</th>\n",
       "      <td>1314</td>\n",
       "      <td>11946</td>\n",
       "      <td>4391</td>\n",
       "      <td>6762</td>\n",
       "      <td>3139</td>\n",
       "      <td>11872</td>\n",
       "      <td>1605</td>\n",
       "      <td>2857</td>\n",
       "      <td>9787</td>\n",
       "      <td>1950</td>\n",
       "      <td>1455</td>\n",
       "      <td>1197</td>\n",
       "      <td>2416</td>\n",
       "      <td>1465</td>\n",
       "      <td>4423</td>\n",
       "      <td>3156</td>\n",
       "      <td>3901</td>\n",
       "      <td>1641</td>\n",
       "      <td>4990</td>\n",
       "      <td>187</td>\n",
       "    </tr>\n",
       "    <tr>\n",
       "      <th>2018-07-01 07:00:00</th>\n",
       "      <td>1410</td>\n",
       "      <td>12664</td>\n",
       "      <td>4757</td>\n",
       "      <td>6670</td>\n",
       "      <td>3377</td>\n",
       "      <td>11992</td>\n",
       "      <td>1707</td>\n",
       "      <td>2997</td>\n",
       "      <td>10453</td>\n",
       "      <td>2160</td>\n",
       "      <td>1528</td>\n",
       "      <td>1273</td>\n",
       "      <td>2644</td>\n",
       "      <td>1605</td>\n",
       "      <td>4743</td>\n",
       "      <td>3332</td>\n",
       "      <td>4232</td>\n",
       "      <td>1728</td>\n",
       "      <td>5267</td>\n",
       "      <td>202</td>\n",
       "    </tr>\n",
       "    <tr>\n",
       "      <th>2018-07-01 08:00:00</th>\n",
       "      <td>1567</td>\n",
       "      <td>14069</td>\n",
       "      <td>5308</td>\n",
       "      <td>7065</td>\n",
       "      <td>3788</td>\n",
       "      <td>12860</td>\n",
       "      <td>1916</td>\n",
       "      <td>3331</td>\n",
       "      <td>11734</td>\n",
       "      <td>2470</td>\n",
       "      <td>1688</td>\n",
       "      <td>1472</td>\n",
       "      <td>3064</td>\n",
       "      <td>1784</td>\n",
       "      <td>5230</td>\n",
       "      <td>3679</td>\n",
       "      <td>4613</td>\n",
       "      <td>1899</td>\n",
       "      <td>5735</td>\n",
       "      <td>230</td>\n",
       "    </tr>\n",
       "    <tr>\n",
       "      <th>2018-07-01 09:00:00</th>\n",
       "      <td>1749</td>\n",
       "      <td>15610</td>\n",
       "      <td>5862</td>\n",
       "      <td>7833</td>\n",
       "      <td>4262</td>\n",
       "      <td>14212</td>\n",
       "      <td>2145</td>\n",
       "      <td>3703</td>\n",
       "      <td>13084</td>\n",
       "      <td>2765</td>\n",
       "      <td>1875</td>\n",
       "      <td>1656</td>\n",
       "      <td>3569</td>\n",
       "      <td>1972</td>\n",
       "      <td>5752</td>\n",
       "      <td>4085</td>\n",
       "      <td>5014</td>\n",
       "      <td>2055</td>\n",
       "      <td>6299</td>\n",
       "      <td>259</td>\n",
       "    </tr>\n",
       "  </tbody>\n",
       "</table>\n",
       "</div>"
      ],
      "text/plain": [
       "                       AE    AEP    AP  ATSI    BC     CE   DAY  DEOK    DOM  \\\n",
       "period                                                                         \n",
       "2018-07-01 05:00:00  1301  12187  4384  6960  3134  12136  1619  2895   9775   \n",
       "2018-07-01 06:00:00  1314  11946  4391  6762  3139  11872  1605  2857   9787   \n",
       "2018-07-01 07:00:00  1410  12664  4757  6670  3377  11992  1707  2997  10453   \n",
       "2018-07-01 08:00:00  1567  14069  5308  7065  3788  12860  1916  3331  11734   \n",
       "2018-07-01 09:00:00  1749  15610  5862  7833  4262  14212  2145  3703  13084   \n",
       "\n",
       "                      DPL   DUQ  EKPC    JC    ME    PE   PEP    PL    PN  \\\n",
       "period                                                                      \n",
       "2018-07-01 05:00:00  1919  1466  1209  2388  1442  4397  3165  3835  1611   \n",
       "2018-07-01 06:00:00  1950  1455  1197  2416  1465  4423  3156  3901  1641   \n",
       "2018-07-01 07:00:00  2160  1528  1273  2644  1605  4743  3332  4232  1728   \n",
       "2018-07-01 08:00:00  2470  1688  1472  3064  1784  5230  3679  4613  1899   \n",
       "2018-07-01 09:00:00  2765  1875  1656  3569  1972  5752  4085  5014  2055   \n",
       "\n",
       "                       PS  RECO  \n",
       "period                           \n",
       "2018-07-01 05:00:00  5009   186  \n",
       "2018-07-01 06:00:00  4990   187  \n",
       "2018-07-01 07:00:00  5267   202  \n",
       "2018-07-01 08:00:00  5735   230  \n",
       "2018-07-01 09:00:00  6299   259  "
      ]
     },
     "execution_count": 2,
     "metadata": {},
     "output_type": "execute_result"
    }
   ],
   "source": [
    "df_base = pd.read_csv('../data/general/pjm_pivot.csv', index_col=0, parse_dates=True)\n",
    "df_base.head()"
   ]
  },
  {
   "attachments": {},
   "cell_type": "markdown",
   "id": "284abce5",
   "metadata": {
    "papermill": {
     "duration": 0.006002,
     "end_time": "2023-12-13T13:20:34.386381",
     "exception": false,
     "start_time": "2023-12-13T13:20:34.380379",
     "status": "completed"
    },
    "tags": []
   },
   "source": [
    "## Select region"
   ]
  },
  {
   "cell_type": "code",
   "execution_count": 3,
   "id": "07e101b0",
   "metadata": {
    "execution": {
     "iopub.execute_input": "2023-12-13T13:20:34.400384Z",
     "iopub.status.busy": "2023-12-13T13:20:34.400384Z",
     "iopub.status.idle": "2023-12-13T13:20:34.403385Z",
     "shell.execute_reply": "2023-12-13T13:20:34.403385Z"
    },
    "papermill": {
     "duration": 0.014003,
     "end_time": "2023-12-13T13:20:34.406385",
     "exception": false,
     "start_time": "2023-12-13T13:20:34.392382",
     "status": "completed"
    },
    "tags": [
     "parameters"
    ]
   },
   "outputs": [],
   "source": [
    "region = 'AE'"
   ]
  },
  {
   "cell_type": "code",
   "execution_count": 4,
   "id": "5c2713c6",
   "metadata": {
    "execution": {
     "iopub.execute_input": "2023-12-13T13:20:34.420389Z",
     "iopub.status.busy": "2023-12-13T13:20:34.419388Z",
     "iopub.status.idle": "2023-12-13T13:20:34.436405Z",
     "shell.execute_reply": "2023-12-13T13:20:34.435403Z"
    },
    "papermill": {
     "duration": 0.025019,
     "end_time": "2023-12-13T13:20:34.437406",
     "exception": false,
     "start_time": "2023-12-13T13:20:34.412387",
     "status": "completed"
    },
    "tags": [
     "injected-parameters"
    ]
   },
   "outputs": [],
   "source": [
    "# Parameters\n",
    "region = \"EKPC\"\n"
   ]
  },
  {
   "cell_type": "code",
   "execution_count": 5,
   "id": "0e326237",
   "metadata": {
    "execution": {
     "iopub.execute_input": "2023-12-13T13:20:34.452409Z",
     "iopub.status.busy": "2023-12-13T13:20:34.451408Z",
     "iopub.status.idle": "2023-12-13T13:20:34.465735Z",
     "shell.execute_reply": "2023-12-13T13:20:34.465735Z"
    },
    "papermill": {
     "duration": 0.023329,
     "end_time": "2023-12-13T13:20:34.467736",
     "exception": false,
     "start_time": "2023-12-13T13:20:34.444407",
     "status": "completed"
    },
    "tags": []
   },
   "outputs": [
    {
     "data": {
      "text/html": [
       "<div>\n",
       "<style scoped>\n",
       "    .dataframe tbody tr th:only-of-type {\n",
       "        vertical-align: middle;\n",
       "    }\n",
       "\n",
       "    .dataframe tbody tr th {\n",
       "        vertical-align: top;\n",
       "    }\n",
       "\n",
       "    .dataframe thead th {\n",
       "        text-align: right;\n",
       "    }\n",
       "</style>\n",
       "<table border=\"1\" class=\"dataframe\">\n",
       "  <thead>\n",
       "    <tr style=\"text-align: right;\">\n",
       "      <th></th>\n",
       "      <th>EKPC</th>\n",
       "    </tr>\n",
       "    <tr>\n",
       "      <th>period</th>\n",
       "      <th></th>\n",
       "    </tr>\n",
       "  </thead>\n",
       "  <tbody>\n",
       "    <tr>\n",
       "      <th>2018-07-01 05:00:00</th>\n",
       "      <td>1209</td>\n",
       "    </tr>\n",
       "    <tr>\n",
       "      <th>2018-07-01 06:00:00</th>\n",
       "      <td>1197</td>\n",
       "    </tr>\n",
       "    <tr>\n",
       "      <th>2018-07-01 07:00:00</th>\n",
       "      <td>1273</td>\n",
       "    </tr>\n",
       "    <tr>\n",
       "      <th>2018-07-01 08:00:00</th>\n",
       "      <td>1472</td>\n",
       "    </tr>\n",
       "    <tr>\n",
       "      <th>2018-07-01 09:00:00</th>\n",
       "      <td>1656</td>\n",
       "    </tr>\n",
       "    <tr>\n",
       "      <th>...</th>\n",
       "      <td>...</td>\n",
       "    </tr>\n",
       "    <tr>\n",
       "      <th>2023-11-01 00:00:00</th>\n",
       "      <td>1737</td>\n",
       "    </tr>\n",
       "    <tr>\n",
       "      <th>2023-11-01 01:00:00</th>\n",
       "      <td>1898</td>\n",
       "    </tr>\n",
       "    <tr>\n",
       "      <th>2023-11-01 02:00:00</th>\n",
       "      <td>1896</td>\n",
       "    </tr>\n",
       "    <tr>\n",
       "      <th>2023-11-01 03:00:00</th>\n",
       "      <td>1737</td>\n",
       "    </tr>\n",
       "    <tr>\n",
       "      <th>2023-11-01 04:00:00</th>\n",
       "      <td>1775</td>\n",
       "    </tr>\n",
       "  </tbody>\n",
       "</table>\n",
       "<p>44904 rows × 1 columns</p>\n",
       "</div>"
      ],
      "text/plain": [
       "                     EKPC\n",
       "period                   \n",
       "2018-07-01 05:00:00  1209\n",
       "2018-07-01 06:00:00  1197\n",
       "2018-07-01 07:00:00  1273\n",
       "2018-07-01 08:00:00  1472\n",
       "2018-07-01 09:00:00  1656\n",
       "...                   ...\n",
       "2023-11-01 00:00:00  1737\n",
       "2023-11-01 01:00:00  1898\n",
       "2023-11-01 02:00:00  1896\n",
       "2023-11-01 03:00:00  1737\n",
       "2023-11-01 04:00:00  1775\n",
       "\n",
       "[44904 rows x 1 columns]"
      ]
     },
     "execution_count": 5,
     "metadata": {},
     "output_type": "execute_result"
    }
   ],
   "source": [
    "df = df_base.loc[:, [region]]\n",
    "df"
   ]
  },
  {
   "attachments": {},
   "cell_type": "markdown",
   "id": "c60eee25",
   "metadata": {
    "papermill": {
     "duration": 0.008003,
     "end_time": "2023-12-13T13:20:34.481805",
     "exception": false,
     "start_time": "2023-12-13T13:20:34.473802",
     "status": "completed"
    },
    "tags": []
   },
   "source": [
    "## Data Preprocessing"
   ]
  },
  {
   "cell_type": "markdown",
   "id": "1b6f5c99",
   "metadata": {
    "papermill": {
     "duration": 0.006001,
     "end_time": "2023-12-13T13:20:34.496486",
     "exception": false,
     "start_time": "2023-12-13T13:20:34.490485",
     "status": "completed"
    },
    "tags": []
   },
   "source": [
    "### Train Test Split"
   ]
  },
  {
   "cell_type": "code",
   "execution_count": 6,
   "id": "9c6a8d4b",
   "metadata": {
    "execution": {
     "iopub.execute_input": "2023-12-13T13:20:34.513171Z",
     "iopub.status.busy": "2023-12-13T13:20:34.512171Z",
     "iopub.status.idle": "2023-12-13T13:20:34.957835Z",
     "shell.execute_reply": "2023-12-13T13:20:34.957835Z"
    },
    "papermill": {
     "duration": 0.456348,
     "end_time": "2023-12-13T13:20:34.959836",
     "exception": false,
     "start_time": "2023-12-13T13:20:34.503488",
     "status": "completed"
    },
    "tags": []
   },
   "outputs": [],
   "source": [
    "from sklearn.model_selection import train_test_split\n",
    "\n",
    "train, test = train_test_split(df, test_size=0.3, shuffle=False)\n",
    "test, prod = train_test_split(test, test_size=0.5, shuffle=False)"
   ]
  },
  {
   "cell_type": "markdown",
   "id": "ad0f8d48",
   "metadata": {
    "papermill": {
     "duration": 0.007002,
     "end_time": "2023-12-13T13:20:34.973840",
     "exception": false,
     "start_time": "2023-12-13T13:20:34.966838",
     "status": "completed"
    },
    "tags": []
   },
   "source": [
    "### Export Data"
   ]
  },
  {
   "cell_type": "code",
   "execution_count": 7,
   "id": "762fc3ef",
   "metadata": {
    "execution": {
     "iopub.execute_input": "2023-12-13T13:20:34.991908Z",
     "iopub.status.busy": "2023-12-13T13:20:34.991908Z",
     "iopub.status.idle": "2023-12-13T13:20:35.097647Z",
     "shell.execute_reply": "2023-12-13T13:20:35.097647Z"
    },
    "papermill": {
     "duration": 0.116805,
     "end_time": "2023-12-13T13:20:35.099646",
     "exception": false,
     "start_time": "2023-12-13T13:20:34.982841",
     "status": "completed"
    },
    "tags": []
   },
   "outputs": [],
   "source": [
    "import os\n",
    "\n",
    "path_region = f'../data/regions/{region}'\n",
    "\n",
    "if not os.path.exists(path_region):\n",
    "    os.makedirs(path_region)\n",
    "\n",
    "for df, name in zip([train, test, prod], ['train', 'test', 'prod']):\n",
    "    df.to_csv(f'{path_region}/{name}.csv')"
   ]
  },
  {
   "attachments": {},
   "cell_type": "markdown",
   "id": "2379e173",
   "metadata": {
    "papermill": {
     "duration": 0.007,
     "end_time": "2023-12-13T13:20:35.113708",
     "exception": false,
     "start_time": "2023-12-13T13:20:35.106708",
     "status": "completed"
    },
    "tags": []
   },
   "source": [
    "### Scale Data"
   ]
  },
  {
   "cell_type": "code",
   "execution_count": 8,
   "id": "ad290300",
   "metadata": {
    "execution": {
     "iopub.execute_input": "2023-12-13T13:20:35.128712Z",
     "iopub.status.busy": "2023-12-13T13:20:35.128712Z",
     "iopub.status.idle": "2023-12-13T13:20:35.145032Z",
     "shell.execute_reply": "2023-12-13T13:20:35.144033Z"
    },
    "papermill": {
     "duration": 0.026323,
     "end_time": "2023-12-13T13:20:35.147033",
     "exception": false,
     "start_time": "2023-12-13T13:20:35.120710",
     "status": "completed"
    },
    "tags": []
   },
   "outputs": [],
   "source": [
    "from sklearn.preprocessing import MinMaxScaler\n",
    "\n",
    "scaler = MinMaxScaler(feature_range=(0, 1))\n",
    "\n",
    "train_norm = scaler.fit_transform(train)\n",
    "test_norm = scaler.transform(test)"
   ]
  },
  {
   "attachments": {},
   "cell_type": "markdown",
   "id": "d65afa1e",
   "metadata": {
    "papermill": {
     "duration": 0.007664,
     "end_time": "2023-12-13T13:20:35.160699",
     "exception": false,
     "start_time": "2023-12-13T13:20:35.153035",
     "status": "completed"
    },
    "tags": []
   },
   "source": [
    "### Create Sequences"
   ]
  },
  {
   "cell_type": "code",
   "execution_count": 9,
   "id": "ec32720e",
   "metadata": {
    "execution": {
     "iopub.execute_input": "2023-12-13T13:20:35.175703Z",
     "iopub.status.busy": "2023-12-13T13:20:35.175703Z",
     "iopub.status.idle": "2023-12-13T13:20:35.254367Z",
     "shell.execute_reply": "2023-12-13T13:20:35.254367Z"
    },
    "papermill": {
     "duration": 0.090033,
     "end_time": "2023-12-13T13:20:35.256733",
     "exception": false,
     "start_time": "2023-12-13T13:20:35.166700",
     "status": "completed"
    },
    "tags": []
   },
   "outputs": [],
   "source": [
    "import numpy as np\n",
    "\n",
    "def create_sequences(data, sequence_length):\n",
    "    X, y = [], []\n",
    "    for i in range(len(data) - sequence_length):\n",
    "        X.append(data[i:i+sequence_length])\n",
    "        y.append(data[i+sequence_length])\n",
    "    return np.array(X), np.array(y)\n",
    "\n",
    "sequence_length = 24 # Use 24 hours prior to predict the following hour\n",
    "X_train, y_train = create_sequences(train_norm, sequence_length)\n",
    "X_test, y_test = create_sequences(test_norm, sequence_length)"
   ]
  },
  {
   "attachments": {},
   "cell_type": "markdown",
   "id": "9a0046ac",
   "metadata": {
    "papermill": {
     "duration": 0.007001,
     "end_time": "2023-12-13T13:20:35.270736",
     "exception": false,
     "start_time": "2023-12-13T13:20:35.263735",
     "status": "completed"
    },
    "tags": []
   },
   "source": [
    "## Modelling"
   ]
  },
  {
   "attachments": {},
   "cell_type": "markdown",
   "id": "59a058ec",
   "metadata": {
    "papermill": {
     "duration": 0.007,
     "end_time": "2023-12-13T13:20:35.285468",
     "exception": false,
     "start_time": "2023-12-13T13:20:35.278468",
     "status": "completed"
    },
    "tags": []
   },
   "source": [
    "### Design NN Architecture"
   ]
  },
  {
   "cell_type": "code",
   "execution_count": 10,
   "id": "b9eea168",
   "metadata": {
    "execution": {
     "iopub.execute_input": "2023-12-13T13:20:35.302472Z",
     "iopub.status.busy": "2023-12-13T13:20:35.301471Z",
     "iopub.status.idle": "2023-12-13T13:20:36.682827Z",
     "shell.execute_reply": "2023-12-13T13:20:36.682827Z"
    },
    "papermill": {
     "duration": 1.39136,
     "end_time": "2023-12-13T13:20:36.684830",
     "exception": false,
     "start_time": "2023-12-13T13:20:35.293470",
     "status": "completed"
    },
    "tags": []
   },
   "outputs": [
    {
     "name": "stderr",
     "output_type": "stream",
     "text": [
      "c:\\Users\\jesus\\miniconda3\\envs\\tf-base\\lib\\site-packages\\tensorflow\\python\\framework\\dtypes.py:516: FutureWarning: Passing (type, 1) or '1type' as a synonym of type is deprecated; in a future version of numpy, it will be understood as (type, (1,)) / '(1,)type'.\n",
      "  _np_qint8 = np.dtype([(\"qint8\", np.int8, 1)])\n",
      "c:\\Users\\jesus\\miniconda3\\envs\\tf-base\\lib\\site-packages\\tensorflow\\python\\framework\\dtypes.py:517: FutureWarning: Passing (type, 1) or '1type' as a synonym of type is deprecated; in a future version of numpy, it will be understood as (type, (1,)) / '(1,)type'.\n",
      "  _np_quint8 = np.dtype([(\"quint8\", np.uint8, 1)])\n",
      "c:\\Users\\jesus\\miniconda3\\envs\\tf-base\\lib\\site-packages\\tensorflow\\python\\framework\\dtypes.py:518: FutureWarning: Passing (type, 1) or '1type' as a synonym of type is deprecated; in a future version of numpy, it will be understood as (type, (1,)) / '(1,)type'.\n",
      "  _np_qint16 = np.dtype([(\"qint16\", np.int16, 1)])\n",
      "c:\\Users\\jesus\\miniconda3\\envs\\tf-base\\lib\\site-packages\\tensorflow\\python\\framework\\dtypes.py:519: FutureWarning: Passing (type, 1) or '1type' as a synonym of type is deprecated; in a future version of numpy, it will be understood as (type, (1,)) / '(1,)type'.\n",
      "  _np_quint16 = np.dtype([(\"quint16\", np.uint16, 1)])\n",
      "c:\\Users\\jesus\\miniconda3\\envs\\tf-base\\lib\\site-packages\\tensorflow\\python\\framework\\dtypes.py:520: FutureWarning: Passing (type, 1) or '1type' as a synonym of type is deprecated; in a future version of numpy, it will be understood as (type, (1,)) / '(1,)type'.\n",
      "  _np_qint32 = np.dtype([(\"qint32\", np.int32, 1)])\n",
      "c:\\Users\\jesus\\miniconda3\\envs\\tf-base\\lib\\site-packages\\tensorflow\\python\\framework\\dtypes.py:525: FutureWarning: Passing (type, 1) or '1type' as a synonym of type is deprecated; in a future version of numpy, it will be understood as (type, (1,)) / '(1,)type'.\n",
      "  np_resource = np.dtype([(\"resource\", np.ubyte, 1)])\n"
     ]
    },
    {
     "name": "stdout",
     "output_type": "stream",
     "text": [
      "WARNING:tensorflow:From c:\\Users\\jesus\\miniconda3\\envs\\tf-base\\lib\\site-packages\\tensorflow\\python\\ops\\init_ops.py:1251: calling VarianceScaling.__init__ (from tensorflow.python.ops.init_ops) with dtype is deprecated and will be removed in a future version.\n",
      "Instructions for updating:\n",
      "Call initializer instance with the dtype argument instead of passing it to the constructor\n"
     ]
    },
    {
     "name": "stderr",
     "output_type": "stream",
     "text": [
      "c:\\Users\\jesus\\miniconda3\\envs\\tf-base\\lib\\site-packages\\tensorboard\\compat\\tensorflow_stub\\dtypes.py:541: FutureWarning: Passing (type, 1) or '1type' as a synonym of type is deprecated; in a future version of numpy, it will be understood as (type, (1,)) / '(1,)type'.\n",
      "  _np_qint8 = np.dtype([(\"qint8\", np.int8, 1)])\n",
      "c:\\Users\\jesus\\miniconda3\\envs\\tf-base\\lib\\site-packages\\tensorboard\\compat\\tensorflow_stub\\dtypes.py:542: FutureWarning: Passing (type, 1) or '1type' as a synonym of type is deprecated; in a future version of numpy, it will be understood as (type, (1,)) / '(1,)type'.\n",
      "  _np_quint8 = np.dtype([(\"quint8\", np.uint8, 1)])\n",
      "c:\\Users\\jesus\\miniconda3\\envs\\tf-base\\lib\\site-packages\\tensorboard\\compat\\tensorflow_stub\\dtypes.py:543: FutureWarning: Passing (type, 1) or '1type' as a synonym of type is deprecated; in a future version of numpy, it will be understood as (type, (1,)) / '(1,)type'.\n",
      "  _np_qint16 = np.dtype([(\"qint16\", np.int16, 1)])\n",
      "c:\\Users\\jesus\\miniconda3\\envs\\tf-base\\lib\\site-packages\\tensorboard\\compat\\tensorflow_stub\\dtypes.py:544: FutureWarning: Passing (type, 1) or '1type' as a synonym of type is deprecated; in a future version of numpy, it will be understood as (type, (1,)) / '(1,)type'.\n",
      "  _np_quint16 = np.dtype([(\"quint16\", np.uint16, 1)])\n",
      "c:\\Users\\jesus\\miniconda3\\envs\\tf-base\\lib\\site-packages\\tensorboard\\compat\\tensorflow_stub\\dtypes.py:545: FutureWarning: Passing (type, 1) or '1type' as a synonym of type is deprecated; in a future version of numpy, it will be understood as (type, (1,)) / '(1,)type'.\n",
      "  _np_qint32 = np.dtype([(\"qint32\", np.int32, 1)])\n",
      "c:\\Users\\jesus\\miniconda3\\envs\\tf-base\\lib\\site-packages\\tensorboard\\compat\\tensorflow_stub\\dtypes.py:550: FutureWarning: Passing (type, 1) or '1type' as a synonym of type is deprecated; in a future version of numpy, it will be understood as (type, (1,)) / '(1,)type'.\n",
      "  np_resource = np.dtype([(\"resource\", np.ubyte, 1)])\n"
     ]
    }
   ],
   "source": [
    "from tensorflow.keras.models import Sequential\n",
    "from tensorflow.keras.layers import LSTM, Dense\n",
    "\n",
    "model = Sequential()\n",
    "model.add(LSTM(50, input_shape=(X_train.shape[1], X_train.shape[2])))\n",
    "model.add(Dense(1))\n",
    "model.compile(optimizer='adam', loss='mean_squared_error')"
   ]
  },
  {
   "attachments": {},
   "cell_type": "markdown",
   "id": "2571d1f8",
   "metadata": {
    "papermill": {
     "duration": 0.007002,
     "end_time": "2023-12-13T13:20:36.699315",
     "exception": false,
     "start_time": "2023-12-13T13:20:36.692313",
     "status": "completed"
    },
    "tags": []
   },
   "source": [
    "### Train Model"
   ]
  },
  {
   "cell_type": "code",
   "execution_count": 11,
   "id": "132e32c9",
   "metadata": {
    "execution": {
     "iopub.execute_input": "2023-12-13T13:20:36.715082Z",
     "iopub.status.busy": "2023-12-13T13:20:36.715082Z",
     "iopub.status.idle": "2023-12-13T13:24:28.006968Z",
     "shell.execute_reply": "2023-12-13T13:24:28.006968Z"
    },
    "papermill": {
     "duration": 231.302291,
     "end_time": "2023-12-13T13:24:28.008608",
     "exception": false,
     "start_time": "2023-12-13T13:20:36.706317",
     "status": "completed"
    },
    "tags": []
   },
   "outputs": [
    {
     "name": "stdout",
     "output_type": "stream",
     "text": [
      "WARNING:tensorflow:From c:\\Users\\jesus\\miniconda3\\envs\\tf-base\\lib\\site-packages\\tensorflow\\python\\ops\\math_grad.py:1250: add_dispatch_support.<locals>.wrapper (from tensorflow.python.ops.array_ops) is deprecated and will be removed in a future version.\n",
      "Instructions for updating:\n",
      "Use tf.where in 2.0, which has the same broadcast rule as np.where\n"
     ]
    }
   ],
   "source": [
    "from tensorflow.keras.callbacks import EarlyStopping\n",
    "\n",
    "early_stop = EarlyStopping(monitor='val_loss', patience=5)\n",
    "\n",
    "history = model.fit(\n",
    "    X_train, y_train, epochs=50, batch_size=64, verbose=0,\n",
    "    validation_data=(X_test, y_test), callbacks=[early_stop])"
   ]
  },
  {
   "attachments": {},
   "cell_type": "markdown",
   "id": "0a157c70",
   "metadata": {
    "papermill": {
     "duration": 0.015002,
     "end_time": "2023-12-13T13:24:28.023610",
     "exception": false,
     "start_time": "2023-12-13T13:24:28.008608",
     "status": "completed"
    },
    "tags": []
   },
   "source": [
    "### Calculate Predictions"
   ]
  },
  {
   "cell_type": "code",
   "execution_count": 12,
   "id": "c92fc2a7",
   "metadata": {
    "execution": {
     "iopub.execute_input": "2023-12-13T13:24:28.025395Z",
     "iopub.status.busy": "2023-12-13T13:24:28.025395Z",
     "iopub.status.idle": "2023-12-13T13:24:28.540352Z",
     "shell.execute_reply": "2023-12-13T13:24:28.540352Z"
    },
    "papermill": {
     "duration": 0.516314,
     "end_time": "2023-12-13T13:24:28.541709",
     "exception": false,
     "start_time": "2023-12-13T13:24:28.025395",
     "status": "completed"
    },
    "tags": []
   },
   "outputs": [
    {
     "data": {
      "text/plain": [
       "array([[0.22682112],\n",
       "       [0.23781256],\n",
       "       [0.2584264 ],\n",
       "       ...,\n",
       "       [0.47133863],\n",
       "       [0.5379035 ],\n",
       "       [0.61895347]], dtype=float32)"
      ]
     },
     "execution_count": 12,
     "metadata": {},
     "output_type": "execute_result"
    }
   ],
   "source": [
    "y_pred = model.predict(X_test)\n",
    "y_pred"
   ]
  },
  {
   "attachments": {},
   "cell_type": "markdown",
   "id": "6104533b",
   "metadata": {
    "papermill": {
     "duration": 0.0,
     "end_time": "2023-12-13T13:24:28.542393",
     "exception": false,
     "start_time": "2023-12-13T13:24:28.542393",
     "status": "completed"
    },
    "tags": []
   },
   "source": [
    "### Comparison: Real Data & Prediction"
   ]
  },
  {
   "attachments": {},
   "cell_type": "markdown",
   "id": "b4434a6f",
   "metadata": {
    "papermill": {
     "duration": 0.01323,
     "end_time": "2023-12-13T13:24:28.574641",
     "exception": false,
     "start_time": "2023-12-13T13:24:28.561411",
     "status": "completed"
    },
    "tags": []
   },
   "source": [
    "#### Descale Data"
   ]
  },
  {
   "cell_type": "code",
   "execution_count": 13,
   "id": "2a4b5ac1",
   "metadata": {
    "execution": {
     "iopub.execute_input": "2023-12-13T13:24:28.596646Z",
     "iopub.status.busy": "2023-12-13T13:24:28.595645Z",
     "iopub.status.idle": "2023-12-13T13:24:28.609647Z",
     "shell.execute_reply": "2023-12-13T13:24:28.608648Z"
    },
    "papermill": {
     "duration": 0.026006,
     "end_time": "2023-12-13T13:24:28.610649",
     "exception": false,
     "start_time": "2023-12-13T13:24:28.584643",
     "status": "completed"
    },
    "tags": []
   },
   "outputs": [],
   "source": [
    "y_pred_scaled_inverse = scaler.inverse_transform(y_pred)\n",
    "y_true = scaler.inverse_transform(y_test)"
   ]
  },
  {
   "attachments": {},
   "cell_type": "markdown",
   "id": "a2ffe6bb",
   "metadata": {
    "papermill": {
     "duration": 0.008002,
     "end_time": "2023-12-13T13:24:28.625652",
     "exception": false,
     "start_time": "2023-12-13T13:24:28.617650",
     "status": "completed"
    },
    "tags": []
   },
   "source": [
    "#### Create DataFrame"
   ]
  },
  {
   "cell_type": "code",
   "execution_count": 14,
   "id": "a54412ba",
   "metadata": {
    "execution": {
     "iopub.execute_input": "2023-12-13T13:24:28.641654Z",
     "iopub.status.busy": "2023-12-13T13:24:28.641654Z",
     "iopub.status.idle": "2023-12-13T13:24:28.655658Z",
     "shell.execute_reply": "2023-12-13T13:24:28.655658Z"
    },
    "papermill": {
     "duration": 0.025007,
     "end_time": "2023-12-13T13:24:28.657659",
     "exception": false,
     "start_time": "2023-12-13T13:24:28.632652",
     "status": "completed"
    },
    "tags": []
   },
   "outputs": [
    {
     "data": {
      "text/html": [
       "<div>\n",
       "<style scoped>\n",
       "    .dataframe tbody tr th:only-of-type {\n",
       "        vertical-align: middle;\n",
       "    }\n",
       "\n",
       "    .dataframe tbody tr th {\n",
       "        vertical-align: top;\n",
       "    }\n",
       "\n",
       "    .dataframe thead th {\n",
       "        text-align: right;\n",
       "    }\n",
       "</style>\n",
       "<table border=\"1\" class=\"dataframe\">\n",
       "  <thead>\n",
       "    <tr style=\"text-align: right;\">\n",
       "      <th></th>\n",
       "      <th>y_pred</th>\n",
       "      <th>y_pred_scaled_inverse</th>\n",
       "      <th>y_true</th>\n",
       "    </tr>\n",
       "  </thead>\n",
       "  <tbody>\n",
       "    <tr>\n",
       "      <th>0</th>\n",
       "      <td>0.226821</td>\n",
       "      <td>1276.595825</td>\n",
       "      <td>1276.0</td>\n",
       "    </tr>\n",
       "    <tr>\n",
       "      <th>1</th>\n",
       "      <td>0.237813</td>\n",
       "      <td>1301.920166</td>\n",
       "      <td>1319.0</td>\n",
       "    </tr>\n",
       "    <tr>\n",
       "      <th>2</th>\n",
       "      <td>0.258426</td>\n",
       "      <td>1349.414429</td>\n",
       "      <td>1398.0</td>\n",
       "    </tr>\n",
       "    <tr>\n",
       "      <th>3</th>\n",
       "      <td>0.288053</td>\n",
       "      <td>1417.674561</td>\n",
       "      <td>1486.0</td>\n",
       "    </tr>\n",
       "    <tr>\n",
       "      <th>4</th>\n",
       "      <td>0.310410</td>\n",
       "      <td>1469.185791</td>\n",
       "      <td>1481.0</td>\n",
       "    </tr>\n",
       "    <tr>\n",
       "      <th>...</th>\n",
       "      <td>...</td>\n",
       "      <td>...</td>\n",
       "      <td>...</td>\n",
       "    </tr>\n",
       "    <tr>\n",
       "      <th>6707</th>\n",
       "      <td>0.474209</td>\n",
       "      <td>1846.577148</td>\n",
       "      <td>1831.0</td>\n",
       "    </tr>\n",
       "    <tr>\n",
       "      <th>6708</th>\n",
       "      <td>0.486428</td>\n",
       "      <td>1874.729126</td>\n",
       "      <td>1825.0</td>\n",
       "    </tr>\n",
       "    <tr>\n",
       "      <th>6709</th>\n",
       "      <td>0.471339</td>\n",
       "      <td>1839.964111</td>\n",
       "      <td>1935.0</td>\n",
       "    </tr>\n",
       "    <tr>\n",
       "      <th>6710</th>\n",
       "      <td>0.537903</td>\n",
       "      <td>1993.329590</td>\n",
       "      <td>2102.0</td>\n",
       "    </tr>\n",
       "    <tr>\n",
       "      <th>6711</th>\n",
       "      <td>0.618953</td>\n",
       "      <td>2180.068848</td>\n",
       "      <td>2161.0</td>\n",
       "    </tr>\n",
       "  </tbody>\n",
       "</table>\n",
       "<p>6712 rows × 3 columns</p>\n",
       "</div>"
      ],
      "text/plain": [
       "        y_pred  y_pred_scaled_inverse  y_true\n",
       "0     0.226821            1276.595825  1276.0\n",
       "1     0.237813            1301.920166  1319.0\n",
       "2     0.258426            1349.414429  1398.0\n",
       "3     0.288053            1417.674561  1486.0\n",
       "4     0.310410            1469.185791  1481.0\n",
       "...        ...                    ...     ...\n",
       "6707  0.474209            1846.577148  1831.0\n",
       "6708  0.486428            1874.729126  1825.0\n",
       "6709  0.471339            1839.964111  1935.0\n",
       "6710  0.537903            1993.329590  2102.0\n",
       "6711  0.618953            2180.068848  2161.0\n",
       "\n",
       "[6712 rows x 3 columns]"
      ]
     },
     "execution_count": 14,
     "metadata": {},
     "output_type": "execute_result"
    }
   ],
   "source": [
    "dic_pred = {\n",
    "    'y_pred': y_pred.flatten(),\n",
    "    'y_pred_scaled_inverse': y_pred_scaled_inverse.flatten(),\n",
    "    'y_true': y_true.flatten(),\n",
    "}\n",
    "\n",
    "df_pred = pd.DataFrame(dic_pred)\n",
    "df_pred"
   ]
  },
  {
   "attachments": {},
   "cell_type": "markdown",
   "id": "0aeea2a2",
   "metadata": {
    "papermill": {
     "duration": 0.008002,
     "end_time": "2023-12-13T13:24:28.673662",
     "exception": false,
     "start_time": "2023-12-13T13:24:28.665660",
     "status": "completed"
    },
    "tags": []
   },
   "source": [
    "#### Evaluate Model"
   ]
  },
  {
   "cell_type": "code",
   "execution_count": 15,
   "id": "0644b390",
   "metadata": {
    "execution": {
     "iopub.execute_input": "2023-12-13T13:24:28.690666Z",
     "iopub.status.busy": "2023-12-13T13:24:28.690666Z",
     "iopub.status.idle": "2023-12-13T13:24:28.703134Z",
     "shell.execute_reply": "2023-12-13T13:24:28.702133Z"
    },
    "papermill": {
     "duration": 0.02247,
     "end_time": "2023-12-13T13:24:28.704135",
     "exception": false,
     "start_time": "2023-12-13T13:24:28.681665",
     "status": "completed"
    },
    "tags": []
   },
   "outputs": [],
   "source": [
    "from sklearn.metrics import mean_squared_error"
   ]
  },
  {
   "cell_type": "code",
   "execution_count": 16,
   "id": "bb7ecdda",
   "metadata": {
    "execution": {
     "iopub.execute_input": "2023-12-13T13:24:28.721139Z",
     "iopub.status.busy": "2023-12-13T13:24:28.721139Z",
     "iopub.status.idle": "2023-12-13T13:24:28.733592Z",
     "shell.execute_reply": "2023-12-13T13:24:28.733592Z"
    },
    "papermill": {
     "duration": 0.023455,
     "end_time": "2023-12-13T13:24:28.735592",
     "exception": false,
     "start_time": "2023-12-13T13:24:28.712137",
     "status": "completed"
    },
    "tags": []
   },
   "outputs": [
    {
     "data": {
      "text/plain": [
       "51.78935339037686"
      ]
     },
     "execution_count": 16,
     "metadata": {},
     "output_type": "execute_result"
    }
   ],
   "source": [
    "mean_squared_error(df_pred.y_true, df_pred.y_pred_scaled_inverse, squared=False)"
   ]
  },
  {
   "cell_type": "code",
   "execution_count": 17,
   "id": "0a197dbf",
   "metadata": {
    "execution": {
     "iopub.execute_input": "2023-12-13T13:24:28.751595Z",
     "iopub.status.busy": "2023-12-13T13:24:28.751595Z",
     "iopub.status.idle": "2023-12-13T13:24:28.845591Z",
     "shell.execute_reply": "2023-12-13T13:24:28.845591Z"
    },
    "papermill": {
     "duration": 0.104997,
     "end_time": "2023-12-13T13:24:28.847591",
     "exception": false,
     "start_time": "2023-12-13T13:24:28.742594",
     "status": "completed"
    },
    "tags": []
   },
   "outputs": [],
   "source": [
    "model.save(f'../models/{region}.keras')"
   ]
  }
 ],
 "metadata": {
  "kernelspec": {
   "display_name": "deep-learning",
   "language": "python",
   "name": "python3"
  },
  "language_info": {
   "codemirror_mode": {
    "name": "ipython",
    "version": 3
   },
   "file_extension": ".py",
   "mimetype": "text/x-python",
   "name": "python",
   "nbconvert_exporter": "python",
   "pygments_lexer": "ipython3",
   "version": "3.7.12"
  },
  "papermill": {
   "default_parameters": {},
   "duration": 236.718188,
   "end_time": "2023-12-13T13:24:29.324698",
   "environment_variables": {},
   "exception": null,
   "input_path": "Modelling.ipynb",
   "output_path": "outputs/EKPC.ipynb",
   "parameters": {
    "region": "EKPC"
   },
   "start_time": "2023-12-13T13:20:32.606510",
   "version": "2.4.0"
  }
 },
 "nbformat": 4,
 "nbformat_minor": 5
}