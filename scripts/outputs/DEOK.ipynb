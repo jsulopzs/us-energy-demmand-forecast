{
 "cells": [
  {
   "attachments": {},
   "cell_type": "markdown",
   "id": "6fe441ea",
   "metadata": {
    "papermill": {
     "duration": 0.010781,
     "end_time": "2023-11-26T17:10:41.187954",
     "exception": false,
     "start_time": "2023-11-26T17:10:41.177173",
     "status": "completed"
    },
    "tags": []
   },
   "source": [
    "## Load data"
   ]
  },
  {
   "cell_type": "code",
   "execution_count": 1,
   "id": "07e1b3e8",
   "metadata": {
    "execution": {
     "iopub.execute_input": "2023-11-26T17:10:41.208341Z",
     "iopub.status.busy": "2023-11-26T17:10:41.207646Z",
     "iopub.status.idle": "2023-11-26T17:10:41.808574Z",
     "shell.execute_reply": "2023-11-26T17:10:41.807579Z"
    },
    "papermill": {
     "duration": 0.61451,
     "end_time": "2023-11-26T17:10:41.810772",
     "exception": false,
     "start_time": "2023-11-26T17:10:41.196262",
     "status": "completed"
    },
    "tags": []
   },
   "outputs": [],
   "source": [
    "import pandas as pd"
   ]
  },
  {
   "cell_type": "code",
   "execution_count": 2,
   "id": "99e1eab9",
   "metadata": {
    "execution": {
     "iopub.execute_input": "2023-11-26T17:10:41.821491Z",
     "iopub.status.busy": "2023-11-26T17:10:41.821153Z",
     "iopub.status.idle": "2023-11-26T17:10:41.962406Z",
     "shell.execute_reply": "2023-11-26T17:10:41.961660Z"
    },
    "papermill": {
     "duration": 0.149182,
     "end_time": "2023-11-26T17:10:41.964587",
     "exception": false,
     "start_time": "2023-11-26T17:10:41.815405",
     "status": "completed"
    },
    "tags": []
   },
   "outputs": [
    {
     "data": {
      "text/html": [
       "<div>\n",
       "<style scoped>\n",
       "    .dataframe tbody tr th:only-of-type {\n",
       "        vertical-align: middle;\n",
       "    }\n",
       "\n",
       "    .dataframe tbody tr th {\n",
       "        vertical-align: top;\n",
       "    }\n",
       "\n",
       "    .dataframe thead th {\n",
       "        text-align: right;\n",
       "    }\n",
       "</style>\n",
       "<table border=\"1\" class=\"dataframe\">\n",
       "  <thead>\n",
       "    <tr style=\"text-align: right;\">\n",
       "      <th></th>\n",
       "      <th>AE</th>\n",
       "      <th>AEP</th>\n",
       "      <th>AP</th>\n",
       "      <th>ATSI</th>\n",
       "      <th>BC</th>\n",
       "      <th>CE</th>\n",
       "      <th>DAY</th>\n",
       "      <th>DEOK</th>\n",
       "      <th>DOM</th>\n",
       "      <th>DPL</th>\n",
       "      <th>DUQ</th>\n",
       "      <th>EKPC</th>\n",
       "      <th>JC</th>\n",
       "      <th>ME</th>\n",
       "      <th>PE</th>\n",
       "      <th>PEP</th>\n",
       "      <th>PL</th>\n",
       "      <th>PN</th>\n",
       "      <th>PS</th>\n",
       "      <th>RECO</th>\n",
       "    </tr>\n",
       "    <tr>\n",
       "      <th>period</th>\n",
       "      <th></th>\n",
       "      <th></th>\n",
       "      <th></th>\n",
       "      <th></th>\n",
       "      <th></th>\n",
       "      <th></th>\n",
       "      <th></th>\n",
       "      <th></th>\n",
       "      <th></th>\n",
       "      <th></th>\n",
       "      <th></th>\n",
       "      <th></th>\n",
       "      <th></th>\n",
       "      <th></th>\n",
       "      <th></th>\n",
       "      <th></th>\n",
       "      <th></th>\n",
       "      <th></th>\n",
       "      <th></th>\n",
       "      <th></th>\n",
       "    </tr>\n",
       "  </thead>\n",
       "  <tbody>\n",
       "    <tr>\n",
       "      <th>2018-07-01 05:00:00</th>\n",
       "      <td>1301</td>\n",
       "      <td>12187</td>\n",
       "      <td>4384</td>\n",
       "      <td>6960</td>\n",
       "      <td>3134</td>\n",
       "      <td>12136</td>\n",
       "      <td>1619</td>\n",
       "      <td>2895</td>\n",
       "      <td>9775</td>\n",
       "      <td>1919</td>\n",
       "      <td>1466</td>\n",
       "      <td>1209</td>\n",
       "      <td>2388</td>\n",
       "      <td>1442</td>\n",
       "      <td>4397</td>\n",
       "      <td>3165</td>\n",
       "      <td>3835</td>\n",
       "      <td>1611</td>\n",
       "      <td>5009</td>\n",
       "      <td>186</td>\n",
       "    </tr>\n",
       "    <tr>\n",
       "      <th>2018-07-01 06:00:00</th>\n",
       "      <td>1314</td>\n",
       "      <td>11946</td>\n",
       "      <td>4391</td>\n",
       "      <td>6762</td>\n",
       "      <td>3139</td>\n",
       "      <td>11872</td>\n",
       "      <td>1605</td>\n",
       "      <td>2857</td>\n",
       "      <td>9787</td>\n",
       "      <td>1950</td>\n",
       "      <td>1455</td>\n",
       "      <td>1197</td>\n",
       "      <td>2416</td>\n",
       "      <td>1465</td>\n",
       "      <td>4423</td>\n",
       "      <td>3156</td>\n",
       "      <td>3901</td>\n",
       "      <td>1641</td>\n",
       "      <td>4990</td>\n",
       "      <td>187</td>\n",
       "    </tr>\n",
       "    <tr>\n",
       "      <th>2018-07-01 07:00:00</th>\n",
       "      <td>1410</td>\n",
       "      <td>12664</td>\n",
       "      <td>4757</td>\n",
       "      <td>6670</td>\n",
       "      <td>3377</td>\n",
       "      <td>11992</td>\n",
       "      <td>1707</td>\n",
       "      <td>2997</td>\n",
       "      <td>10453</td>\n",
       "      <td>2160</td>\n",
       "      <td>1528</td>\n",
       "      <td>1273</td>\n",
       "      <td>2644</td>\n",
       "      <td>1605</td>\n",
       "      <td>4743</td>\n",
       "      <td>3332</td>\n",
       "      <td>4232</td>\n",
       "      <td>1728</td>\n",
       "      <td>5267</td>\n",
       "      <td>202</td>\n",
       "    </tr>\n",
       "    <tr>\n",
       "      <th>2018-07-01 08:00:00</th>\n",
       "      <td>1567</td>\n",
       "      <td>14069</td>\n",
       "      <td>5308</td>\n",
       "      <td>7065</td>\n",
       "      <td>3788</td>\n",
       "      <td>12860</td>\n",
       "      <td>1916</td>\n",
       "      <td>3331</td>\n",
       "      <td>11734</td>\n",
       "      <td>2470</td>\n",
       "      <td>1688</td>\n",
       "      <td>1472</td>\n",
       "      <td>3064</td>\n",
       "      <td>1784</td>\n",
       "      <td>5230</td>\n",
       "      <td>3679</td>\n",
       "      <td>4613</td>\n",
       "      <td>1899</td>\n",
       "      <td>5735</td>\n",
       "      <td>230</td>\n",
       "    </tr>\n",
       "    <tr>\n",
       "      <th>2018-07-01 09:00:00</th>\n",
       "      <td>1749</td>\n",
       "      <td>15610</td>\n",
       "      <td>5862</td>\n",
       "      <td>7833</td>\n",
       "      <td>4262</td>\n",
       "      <td>14212</td>\n",
       "      <td>2145</td>\n",
       "      <td>3703</td>\n",
       "      <td>13084</td>\n",
       "      <td>2765</td>\n",
       "      <td>1875</td>\n",
       "      <td>1656</td>\n",
       "      <td>3569</td>\n",
       "      <td>1972</td>\n",
       "      <td>5752</td>\n",
       "      <td>4085</td>\n",
       "      <td>5014</td>\n",
       "      <td>2055</td>\n",
       "      <td>6299</td>\n",
       "      <td>259</td>\n",
       "    </tr>\n",
       "  </tbody>\n",
       "</table>\n",
       "</div>"
      ],
      "text/plain": [
       "                       AE    AEP    AP  ATSI    BC     CE   DAY  DEOK    DOM  \\\n",
       "period                                                                         \n",
       "2018-07-01 05:00:00  1301  12187  4384  6960  3134  12136  1619  2895   9775   \n",
       "2018-07-01 06:00:00  1314  11946  4391  6762  3139  11872  1605  2857   9787   \n",
       "2018-07-01 07:00:00  1410  12664  4757  6670  3377  11992  1707  2997  10453   \n",
       "2018-07-01 08:00:00  1567  14069  5308  7065  3788  12860  1916  3331  11734   \n",
       "2018-07-01 09:00:00  1749  15610  5862  7833  4262  14212  2145  3703  13084   \n",
       "\n",
       "                      DPL   DUQ  EKPC    JC    ME    PE   PEP    PL    PN  \\\n",
       "period                                                                      \n",
       "2018-07-01 05:00:00  1919  1466  1209  2388  1442  4397  3165  3835  1611   \n",
       "2018-07-01 06:00:00  1950  1455  1197  2416  1465  4423  3156  3901  1641   \n",
       "2018-07-01 07:00:00  2160  1528  1273  2644  1605  4743  3332  4232  1728   \n",
       "2018-07-01 08:00:00  2470  1688  1472  3064  1784  5230  3679  4613  1899   \n",
       "2018-07-01 09:00:00  2765  1875  1656  3569  1972  5752  4085  5014  2055   \n",
       "\n",
       "                       PS  RECO  \n",
       "period                           \n",
       "2018-07-01 05:00:00  5009   186  \n",
       "2018-07-01 06:00:00  4990   187  \n",
       "2018-07-01 07:00:00  5267   202  \n",
       "2018-07-01 08:00:00  5735   230  \n",
       "2018-07-01 09:00:00  6299   259  "
      ]
     },
     "execution_count": 2,
     "metadata": {},
     "output_type": "execute_result"
    }
   ],
   "source": [
    "df_base = pd.read_csv('../data/pjm_pivot.csv', index_col=0, parse_dates=True)\n",
    "df_base.head()"
   ]
  },
  {
   "attachments": {},
   "cell_type": "markdown",
   "id": "803356c4",
   "metadata": {
    "papermill": {
     "duration": 0.025839,
     "end_time": "2023-11-26T17:10:41.997684",
     "exception": false,
     "start_time": "2023-11-26T17:10:41.971845",
     "status": "completed"
    },
    "tags": []
   },
   "source": [
    "## Select region"
   ]
  },
  {
   "cell_type": "code",
   "execution_count": 3,
   "id": "94436022",
   "metadata": {
    "execution": {
     "iopub.execute_input": "2023-11-26T17:10:42.051844Z",
     "iopub.status.busy": "2023-11-26T17:10:42.051347Z",
     "iopub.status.idle": "2023-11-26T17:10:42.056243Z",
     "shell.execute_reply": "2023-11-26T17:10:42.055537Z"
    },
    "papermill": {
     "duration": 0.035646,
     "end_time": "2023-11-26T17:10:42.058568",
     "exception": false,
     "start_time": "2023-11-26T17:10:42.022922",
     "status": "completed"
    },
    "tags": [
     "parameters"
    ]
   },
   "outputs": [],
   "source": [
    "region = 'AE'"
   ]
  },
  {
   "cell_type": "code",
   "execution_count": 4,
   "id": "6431dee5",
   "metadata": {
    "execution": {
     "iopub.execute_input": "2023-11-26T17:10:42.101383Z",
     "iopub.status.busy": "2023-11-26T17:10:42.100700Z",
     "iopub.status.idle": "2023-11-26T17:10:42.109214Z",
     "shell.execute_reply": "2023-11-26T17:10:42.106167Z"
    },
    "papermill": {
     "duration": 0.036729,
     "end_time": "2023-11-26T17:10:42.112236",
     "exception": false,
     "start_time": "2023-11-26T17:10:42.075507",
     "status": "completed"
    },
    "tags": [
     "injected-parameters"
    ]
   },
   "outputs": [],
   "source": [
    "# Parameters\n",
    "region = \"DEOK\"\n"
   ]
  },
  {
   "cell_type": "code",
   "execution_count": 5,
   "id": "467163eb",
   "metadata": {
    "execution": {
     "iopub.execute_input": "2023-11-26T17:10:42.147480Z",
     "iopub.status.busy": "2023-11-26T17:10:42.147010Z",
     "iopub.status.idle": "2023-11-26T17:10:42.157864Z",
     "shell.execute_reply": "2023-11-26T17:10:42.157120Z"
    },
    "papermill": {
     "duration": 0.037114,
     "end_time": "2023-11-26T17:10:42.159785",
     "exception": false,
     "start_time": "2023-11-26T17:10:42.122671",
     "status": "completed"
    },
    "tags": []
   },
   "outputs": [
    {
     "data": {
      "text/html": [
       "<div>\n",
       "<style scoped>\n",
       "    .dataframe tbody tr th:only-of-type {\n",
       "        vertical-align: middle;\n",
       "    }\n",
       "\n",
       "    .dataframe tbody tr th {\n",
       "        vertical-align: top;\n",
       "    }\n",
       "\n",
       "    .dataframe thead th {\n",
       "        text-align: right;\n",
       "    }\n",
       "</style>\n",
       "<table border=\"1\" class=\"dataframe\">\n",
       "  <thead>\n",
       "    <tr style=\"text-align: right;\">\n",
       "      <th></th>\n",
       "      <th>DEOK</th>\n",
       "    </tr>\n",
       "    <tr>\n",
       "      <th>period</th>\n",
       "      <th></th>\n",
       "    </tr>\n",
       "  </thead>\n",
       "  <tbody>\n",
       "    <tr>\n",
       "      <th>2018-07-01 05:00:00</th>\n",
       "      <td>2895</td>\n",
       "    </tr>\n",
       "    <tr>\n",
       "      <th>2018-07-01 06:00:00</th>\n",
       "      <td>2857</td>\n",
       "    </tr>\n",
       "    <tr>\n",
       "      <th>2018-07-01 07:00:00</th>\n",
       "      <td>2997</td>\n",
       "    </tr>\n",
       "    <tr>\n",
       "      <th>2018-07-01 08:00:00</th>\n",
       "      <td>3331</td>\n",
       "    </tr>\n",
       "    <tr>\n",
       "      <th>2018-07-01 09:00:00</th>\n",
       "      <td>3703</td>\n",
       "    </tr>\n",
       "    <tr>\n",
       "      <th>...</th>\n",
       "      <td>...</td>\n",
       "    </tr>\n",
       "    <tr>\n",
       "      <th>2023-11-01 00:00:00</th>\n",
       "      <td>2992</td>\n",
       "    </tr>\n",
       "    <tr>\n",
       "      <th>2023-11-01 01:00:00</th>\n",
       "      <td>3026</td>\n",
       "    </tr>\n",
       "    <tr>\n",
       "      <th>2023-11-01 02:00:00</th>\n",
       "      <td>2993</td>\n",
       "    </tr>\n",
       "    <tr>\n",
       "      <th>2023-11-01 03:00:00</th>\n",
       "      <td>2849</td>\n",
       "    </tr>\n",
       "    <tr>\n",
       "      <th>2023-11-01 04:00:00</th>\n",
       "      <td>2727</td>\n",
       "    </tr>\n",
       "  </tbody>\n",
       "</table>\n",
       "<p>44904 rows × 1 columns</p>\n",
       "</div>"
      ],
      "text/plain": [
       "                     DEOK\n",
       "period                   \n",
       "2018-07-01 05:00:00  2895\n",
       "2018-07-01 06:00:00  2857\n",
       "2018-07-01 07:00:00  2997\n",
       "2018-07-01 08:00:00  3331\n",
       "2018-07-01 09:00:00  3703\n",
       "...                   ...\n",
       "2023-11-01 00:00:00  2992\n",
       "2023-11-01 01:00:00  3026\n",
       "2023-11-01 02:00:00  2993\n",
       "2023-11-01 03:00:00  2849\n",
       "2023-11-01 04:00:00  2727\n",
       "\n",
       "[44904 rows x 1 columns]"
      ]
     },
     "execution_count": 5,
     "metadata": {},
     "output_type": "execute_result"
    }
   ],
   "source": [
    "df = df_base.loc[:, [region]]\n",
    "df"
   ]
  },
  {
   "attachments": {},
   "cell_type": "markdown",
   "id": "ef9a9237",
   "metadata": {
    "papermill": {
     "duration": 0.023621,
     "end_time": "2023-11-26T17:10:42.193366",
     "exception": false,
     "start_time": "2023-11-26T17:10:42.169745",
     "status": "completed"
    },
    "tags": []
   },
   "source": [
    "## Data Preprocessing"
   ]
  },
  {
   "attachments": {},
   "cell_type": "markdown",
   "id": "122a0e94",
   "metadata": {
    "papermill": {
     "duration": 0.023674,
     "end_time": "2023-11-26T17:10:42.244706",
     "exception": false,
     "start_time": "2023-11-26T17:10:42.221032",
     "status": "completed"
    },
    "tags": []
   },
   "source": [
    "### Scale Data"
   ]
  },
  {
   "cell_type": "code",
   "execution_count": 6,
   "id": "afca0319",
   "metadata": {
    "execution": {
     "iopub.execute_input": "2023-11-26T17:10:42.300288Z",
     "iopub.status.busy": "2023-11-26T17:10:42.299664Z",
     "iopub.status.idle": "2023-11-26T17:10:43.030770Z",
     "shell.execute_reply": "2023-11-26T17:10:43.029576Z"
    },
    "papermill": {
     "duration": 0.761626,
     "end_time": "2023-11-26T17:10:43.033552",
     "exception": false,
     "start_time": "2023-11-26T17:10:42.271926",
     "status": "completed"
    },
    "tags": []
   },
   "outputs": [],
   "source": [
    "from sklearn.preprocessing import MinMaxScaler\n",
    "\n",
    "# Normalize data\n",
    "scaler = MinMaxScaler(feature_range=(0, 1))\n",
    "data_norm = scaler.fit_transform(df)"
   ]
  },
  {
   "attachments": {},
   "cell_type": "markdown",
   "id": "a14d1e9f",
   "metadata": {
    "papermill": {
     "duration": 0.004884,
     "end_time": "2023-11-26T17:10:43.044458",
     "exception": false,
     "start_time": "2023-11-26T17:10:43.039574",
     "status": "completed"
    },
    "tags": []
   },
   "source": [
    "### Train Test Split"
   ]
  },
  {
   "cell_type": "code",
   "execution_count": 7,
   "id": "d781f020",
   "metadata": {
    "execution": {
     "iopub.execute_input": "2023-11-26T17:10:43.056232Z",
     "iopub.status.busy": "2023-11-26T17:10:43.055741Z",
     "iopub.status.idle": "2023-11-26T17:10:43.115559Z",
     "shell.execute_reply": "2023-11-26T17:10:43.114548Z"
    },
    "papermill": {
     "duration": 0.069402,
     "end_time": "2023-11-26T17:10:43.117849",
     "exception": false,
     "start_time": "2023-11-26T17:10:43.048447",
     "status": "completed"
    },
    "tags": []
   },
   "outputs": [],
   "source": [
    "from sklearn.model_selection import train_test_split\n",
    "\n",
    "train, test = train_test_split(data_norm, test_size=0.2, shuffle=False)"
   ]
  },
  {
   "attachments": {},
   "cell_type": "markdown",
   "id": "edde2d0f",
   "metadata": {
    "papermill": {
     "duration": 0.004528,
     "end_time": "2023-11-26T17:10:43.127086",
     "exception": false,
     "start_time": "2023-11-26T17:10:43.122558",
     "status": "completed"
    },
    "tags": []
   },
   "source": [
    "### Create Sequences"
   ]
  },
  {
   "cell_type": "code",
   "execution_count": 8,
   "id": "328dd500",
   "metadata": {
    "execution": {
     "iopub.execute_input": "2023-11-26T17:10:43.137599Z",
     "iopub.status.busy": "2023-11-26T17:10:43.137304Z",
     "iopub.status.idle": "2023-11-26T17:10:43.212804Z",
     "shell.execute_reply": "2023-11-26T17:10:43.211953Z"
    },
    "papermill": {
     "duration": 0.083967,
     "end_time": "2023-11-26T17:10:43.215178",
     "exception": false,
     "start_time": "2023-11-26T17:10:43.131211",
     "status": "completed"
    },
    "tags": []
   },
   "outputs": [],
   "source": [
    "import numpy as np\n",
    "\n",
    "def create_sequences(data, sequence_length):\n",
    "    X, y = [], []\n",
    "    for i in range(len(data) - sequence_length):\n",
    "        X.append(data[i:i+sequence_length])\n",
    "        y.append(data[i+sequence_length])\n",
    "    return np.array(X), np.array(y)\n",
    "\n",
    "sequence_length = 24 # Use 24 hours prior to predict the following hour\n",
    "X_train, y_train = create_sequences(train, sequence_length)\n",
    "X_test, y_test = create_sequences(test, sequence_length)"
   ]
  },
  {
   "attachments": {},
   "cell_type": "markdown",
   "id": "f6d63531",
   "metadata": {
    "papermill": {
     "duration": 0.005004,
     "end_time": "2023-11-26T17:10:43.226093",
     "exception": false,
     "start_time": "2023-11-26T17:10:43.221089",
     "status": "completed"
    },
    "tags": []
   },
   "source": [
    "## Modelling"
   ]
  },
  {
   "attachments": {},
   "cell_type": "markdown",
   "id": "6c79134f",
   "metadata": {
    "papermill": {
     "duration": 0.007384,
     "end_time": "2023-11-26T17:10:43.239047",
     "exception": false,
     "start_time": "2023-11-26T17:10:43.231663",
     "status": "completed"
    },
    "tags": []
   },
   "source": [
    "### Design NN Architecture"
   ]
  },
  {
   "cell_type": "code",
   "execution_count": 9,
   "id": "ef6a7531",
   "metadata": {
    "execution": {
     "iopub.execute_input": "2023-11-26T17:10:43.252364Z",
     "iopub.status.busy": "2023-11-26T17:10:43.251692Z",
     "iopub.status.idle": "2023-11-26T17:10:48.587790Z",
     "shell.execute_reply": "2023-11-26T17:10:48.586634Z"
    },
    "papermill": {
     "duration": 5.345539,
     "end_time": "2023-11-26T17:10:48.590487",
     "exception": false,
     "start_time": "2023-11-26T17:10:43.244948",
     "status": "completed"
    },
    "tags": []
   },
   "outputs": [
    {
     "name": "stderr",
     "output_type": "stream",
     "text": [
      "2023-11-26 18:10:45.616224: I tensorflow/core/platform/cpu_feature_guard.cc:182] This TensorFlow binary is optimized to use available CPU instructions in performance-critical operations.\n",
      "To enable the following instructions: AVX2 FMA, in other operations, rebuild TensorFlow with the appropriate compiler flags.\n"
     ]
    }
   ],
   "source": [
    "from keras.models import Sequential\n",
    "from keras.layers import LSTM, Dense\n",
    "\n",
    "model = Sequential()\n",
    "model.add(LSTM(50, input_shape=(X_train.shape[1], X_train.shape[2])))\n",
    "model.add(Dense(1))\n",
    "model.compile(optimizer='adam', loss='mean_squared_error')"
   ]
  },
  {
   "attachments": {},
   "cell_type": "markdown",
   "id": "58b89470",
   "metadata": {
    "papermill": {
     "duration": 0.005008,
     "end_time": "2023-11-26T17:10:48.600558",
     "exception": false,
     "start_time": "2023-11-26T17:10:48.595550",
     "status": "completed"
    },
    "tags": []
   },
   "source": [
    "### Train Model"
   ]
  },
  {
   "cell_type": "code",
   "execution_count": 10,
   "id": "b1942bee",
   "metadata": {
    "execution": {
     "iopub.execute_input": "2023-11-26T17:10:48.611650Z",
     "iopub.status.busy": "2023-11-26T17:10:48.611358Z",
     "iopub.status.idle": "2023-11-26T17:12:36.374129Z",
     "shell.execute_reply": "2023-11-26T17:12:36.373312Z"
    },
    "papermill": {
     "duration": 107.77105,
     "end_time": "2023-11-26T17:12:36.376285",
     "exception": false,
     "start_time": "2023-11-26T17:10:48.605235",
     "status": "completed"
    },
    "tags": []
   },
   "outputs": [],
   "source": [
    "from keras.callbacks import EarlyStopping\n",
    "\n",
    "early_stop = EarlyStopping(monitor='val_loss', patience=5)\n",
    "\n",
    "history = model.fit(\n",
    "    X_train, y_train, epochs=50, batch_size=64, verbose=0,\n",
    "    validation_data=(X_test, y_test), callbacks=[early_stop])"
   ]
  },
  {
   "attachments": {},
   "cell_type": "markdown",
   "id": "9c820bf1",
   "metadata": {
    "papermill": {
     "duration": 0.005166,
     "end_time": "2023-11-26T17:12:36.386901",
     "exception": false,
     "start_time": "2023-11-26T17:12:36.381735",
     "status": "completed"
    },
    "tags": []
   },
   "source": [
    "### Calculate Predictions"
   ]
  },
  {
   "cell_type": "code",
   "execution_count": 11,
   "id": "6261c93a",
   "metadata": {
    "execution": {
     "iopub.execute_input": "2023-11-26T17:12:36.398311Z",
     "iopub.status.busy": "2023-11-26T17:12:36.397596Z",
     "iopub.status.idle": "2023-11-26T17:12:37.616206Z",
     "shell.execute_reply": "2023-11-26T17:12:37.615501Z"
    },
    "papermill": {
     "duration": 1.2263,
     "end_time": "2023-11-26T17:12:37.618067",
     "exception": false,
     "start_time": "2023-11-26T17:12:36.391767",
     "status": "completed"
    },
    "tags": []
   },
   "outputs": [
    {
     "name": "stdout",
     "output_type": "stream",
     "text": [
      "\r",
      "  1/280 [..............................] - ETA: 1:46"
     ]
    },
    {
     "name": "stdout",
     "output_type": "stream",
     "text": [
      "\b\b\b\b\b\b\b\b\b\b\b\b\b\b\b\b\b\b\b\b\b\b\b\b\b\b\b\b\b\b\b\b\b\b\b\b\b\b\b\b\b\b\b\b\b\b\b\b\b\b\b\b\r",
      " 22/280 [=>............................] - ETA: 0s  "
     ]
    },
    {
     "name": "stdout",
     "output_type": "stream",
     "text": [
      "\b\b\b\b\b\b\b\b\b\b\b\b\b\b\b\b\b\b\b\b\b\b\b\b\b\b\b\b\b\b\b\b\b\b\b\b\b\b\b\b\b\b\b\b\b\b\b\b\b\b\r",
      " 43/280 [===>..........................] - ETA: 0s"
     ]
    },
    {
     "name": "stdout",
     "output_type": "stream",
     "text": [
      "\b\b\b\b\b\b\b\b\b\b\b\b\b\b\b\b\b\b\b\b\b\b\b\b\b\b\b\b\b\b\b\b\b\b\b\b\b\b\b\b\b\b\b\b\b\b\b\b\b\b\r",
      " 64/280 [=====>........................] - ETA: 0s"
     ]
    },
    {
     "name": "stdout",
     "output_type": "stream",
     "text": [
      "\b\b\b\b\b\b\b\b\b\b\b\b\b\b\b\b\b\b\b\b\b\b\b\b\b\b\b\b\b\b\b\b\b\b\b\b\b\b\b\b\b\b\b\b\b\b\b\b\b\b\r",
      " 80/280 [=======>......................] - ETA: 0s"
     ]
    },
    {
     "name": "stdout",
     "output_type": "stream",
     "text": [
      "\b\b\b\b\b\b\b\b\b\b\b\b\b\b\b\b\b\b\b\b\b\b\b\b\b\b\b\b\b\b\b\b\b\b\b\b\b\b\b\b\b\b\b\b\b\b\b\b\b\b\r",
      "101/280 [=========>....................] - ETA: 0s"
     ]
    },
    {
     "name": "stdout",
     "output_type": "stream",
     "text": [
      "\b\b\b\b\b\b\b\b\b\b\b\b\b\b\b\b\b\b\b\b\b\b\b\b\b\b\b\b\b\b\b\b\b\b\b\b\b\b\b\b\b\b\b\b\b\b\b\b\b\b\r",
      "122/280 [============>.................] - ETA: 0s"
     ]
    },
    {
     "name": "stdout",
     "output_type": "stream",
     "text": [
      "\b\b\b\b\b\b\b\b\b\b\b\b\b\b\b\b\b\b\b\b\b\b\b\b\b\b\b\b\b\b\b\b\b\b\b\b\b\b\b\b\b\b\b\b\b\b\b\b\b\b\r",
      "144/280 [==============>...............] - ETA: 0s"
     ]
    },
    {
     "name": "stdout",
     "output_type": "stream",
     "text": [
      "\b\b\b\b\b\b\b\b\b\b\b\b\b\b\b\b\b\b\b\b\b\b\b\b\b\b\b\b\b\b\b\b\b\b\b\b\b\b\b\b\b\b\b\b\b\b\b\b\b\b\r",
      "165/280 [================>.............] - ETA: 0s"
     ]
    },
    {
     "name": "stdout",
     "output_type": "stream",
     "text": [
      "\b\b\b\b\b\b\b\b\b\b\b\b\b\b\b\b\b\b\b\b\b\b\b\b\b\b\b\b\b\b\b\b\b\b\b\b\b\b\b\b\b\b\b\b\b\b\b\b\b\b\r",
      "186/280 [==================>...........] - ETA: 0s"
     ]
    },
    {
     "name": "stdout",
     "output_type": "stream",
     "text": [
      "\b\b\b\b\b\b\b\b\b\b\b\b\b\b\b\b\b\b\b\b\b\b\b\b\b\b\b\b\b\b\b\b\b\b\b\b\b\b\b\b\b\b\b\b\b\b\b\b\b\b\r",
      "207/280 [=====================>........] - ETA: 0s"
     ]
    },
    {
     "name": "stdout",
     "output_type": "stream",
     "text": [
      "\b\b\b\b\b\b\b\b\b\b\b\b\b\b\b\b\b\b\b\b\b\b\b\b\b\b\b\b\b\b\b\b\b\b\b\b\b\b\b\b\b\b\b\b\b\b\b\b\b\b\r",
      "228/280 [=======================>......] - ETA: 0s"
     ]
    },
    {
     "name": "stdout",
     "output_type": "stream",
     "text": [
      "\b\b\b\b\b\b\b\b\b\b\b\b\b\b\b\b\b\b\b\b\b\b\b\b\b\b\b\b\b\b\b\b\b\b\b\b\b\b\b\b\b\b\b\b\b\b\b\b\b\b\r",
      "249/280 [=========================>....] - ETA: 0s"
     ]
    },
    {
     "name": "stdout",
     "output_type": "stream",
     "text": [
      "\b\b\b\b\b\b\b\b\b\b\b\b\b\b\b\b\b\b\b\b\b\b\b\b\b\b\b\b\b\b\b\b\b\b\b\b\b\b\b\b\b\b\b\b\b\b\b\b\b\b\r",
      "270/280 [===========================>..] - ETA: 0s"
     ]
    },
    {
     "name": "stdout",
     "output_type": "stream",
     "text": [
      "\b\b\b\b\b\b\b\b\b\b\b\b\b\b\b\b\b\b\b\b\b\b\b\b\b\b\b\b\b\b\b\b\b\b\b\b\b\b\b\b\b\b\b\b\b\b\b\b\b\b\r",
      "280/280 [==============================] - 1s 2ms/step\n"
     ]
    },
    {
     "data": {
      "text/plain": [
       "array([[0.24300097],\n",
       "       [0.1949998 ],\n",
       "       [0.16714115],\n",
       "       ...,\n",
       "       [0.31358525],\n",
       "       [0.29961297],\n",
       "       [0.25619823]], dtype=float32)"
      ]
     },
     "execution_count": 11,
     "metadata": {},
     "output_type": "execute_result"
    }
   ],
   "source": [
    "y_pred = model.predict(X_test)\n",
    "y_pred"
   ]
  },
  {
   "attachments": {},
   "cell_type": "markdown",
   "id": "d3e1d077",
   "metadata": {
    "papermill": {
     "duration": 0.005341,
     "end_time": "2023-11-26T17:12:37.629578",
     "exception": false,
     "start_time": "2023-11-26T17:12:37.624237",
     "status": "completed"
    },
    "tags": []
   },
   "source": [
    "### Comparison: Real Data & Prediction"
   ]
  },
  {
   "attachments": {},
   "cell_type": "markdown",
   "id": "8864d00a",
   "metadata": {
    "papermill": {
     "duration": 0.005279,
     "end_time": "2023-11-26T17:12:37.639981",
     "exception": false,
     "start_time": "2023-11-26T17:12:37.634702",
     "status": "completed"
    },
    "tags": []
   },
   "source": [
    "#### Descale Data"
   ]
  },
  {
   "cell_type": "code",
   "execution_count": 12,
   "id": "b0437cd4",
   "metadata": {
    "execution": {
     "iopub.execute_input": "2023-11-26T17:12:37.653071Z",
     "iopub.status.busy": "2023-11-26T17:12:37.652523Z",
     "iopub.status.idle": "2023-11-26T17:12:37.657118Z",
     "shell.execute_reply": "2023-11-26T17:12:37.656586Z"
    },
    "papermill": {
     "duration": 0.013705,
     "end_time": "2023-11-26T17:12:37.658762",
     "exception": false,
     "start_time": "2023-11-26T17:12:37.645057",
     "status": "completed"
    },
    "tags": []
   },
   "outputs": [],
   "source": [
    "y_pred_scaled_inverse = scaler.inverse_transform(y_pred)\n",
    "y_true = scaler.inverse_transform(y_test)"
   ]
  },
  {
   "attachments": {},
   "cell_type": "markdown",
   "id": "e16107e8",
   "metadata": {
    "papermill": {
     "duration": 0.005605,
     "end_time": "2023-11-26T17:12:37.669333",
     "exception": false,
     "start_time": "2023-11-26T17:12:37.663728",
     "status": "completed"
    },
    "tags": []
   },
   "source": [
    "#### Create DataFrame"
   ]
  },
  {
   "cell_type": "code",
   "execution_count": 13,
   "id": "5bfb8075",
   "metadata": {
    "execution": {
     "iopub.execute_input": "2023-11-26T17:12:37.680732Z",
     "iopub.status.busy": "2023-11-26T17:12:37.680317Z",
     "iopub.status.idle": "2023-11-26T17:12:37.691229Z",
     "shell.execute_reply": "2023-11-26T17:12:37.690578Z"
    },
    "papermill": {
     "duration": 0.019104,
     "end_time": "2023-11-26T17:12:37.692981",
     "exception": false,
     "start_time": "2023-11-26T17:12:37.673877",
     "status": "completed"
    },
    "tags": []
   },
   "outputs": [
    {
     "data": {
      "text/html": [
       "<div>\n",
       "<style scoped>\n",
       "    .dataframe tbody tr th:only-of-type {\n",
       "        vertical-align: middle;\n",
       "    }\n",
       "\n",
       "    .dataframe tbody tr th {\n",
       "        vertical-align: top;\n",
       "    }\n",
       "\n",
       "    .dataframe thead th {\n",
       "        text-align: right;\n",
       "    }\n",
       "</style>\n",
       "<table border=\"1\" class=\"dataframe\">\n",
       "  <thead>\n",
       "    <tr style=\"text-align: right;\">\n",
       "      <th></th>\n",
       "      <th>y_pred</th>\n",
       "      <th>y_pred_scaled_inverse</th>\n",
       "      <th>y_true</th>\n",
       "    </tr>\n",
       "  </thead>\n",
       "  <tbody>\n",
       "    <tr>\n",
       "      <th>0</th>\n",
       "      <td>0.243001</td>\n",
       "      <td>2692.867188</td>\n",
       "      <td>2613.0</td>\n",
       "    </tr>\n",
       "    <tr>\n",
       "      <th>1</th>\n",
       "      <td>0.195000</td>\n",
       "      <td>2527.359375</td>\n",
       "      <td>2526.0</td>\n",
       "    </tr>\n",
       "    <tr>\n",
       "      <th>2</th>\n",
       "      <td>0.167141</td>\n",
       "      <td>2431.302734</td>\n",
       "      <td>2423.0</td>\n",
       "    </tr>\n",
       "    <tr>\n",
       "      <th>3</th>\n",
       "      <td>0.139616</td>\n",
       "      <td>2336.396240</td>\n",
       "      <td>2286.0</td>\n",
       "    </tr>\n",
       "    <tr>\n",
       "      <th>4</th>\n",
       "      <td>0.103117</td>\n",
       "      <td>2210.545898</td>\n",
       "      <td>2203.0</td>\n",
       "    </tr>\n",
       "    <tr>\n",
       "      <th>...</th>\n",
       "      <td>...</td>\n",
       "      <td>...</td>\n",
       "      <td>...</td>\n",
       "    </tr>\n",
       "    <tr>\n",
       "      <th>8952</th>\n",
       "      <td>0.298092</td>\n",
       "      <td>2882.820312</td>\n",
       "      <td>2992.0</td>\n",
       "    </tr>\n",
       "    <tr>\n",
       "      <th>8953</th>\n",
       "      <td>0.342266</td>\n",
       "      <td>3035.131836</td>\n",
       "      <td>3026.0</td>\n",
       "    </tr>\n",
       "    <tr>\n",
       "      <th>8954</th>\n",
       "      <td>0.313585</td>\n",
       "      <td>2936.241943</td>\n",
       "      <td>2993.0</td>\n",
       "    </tr>\n",
       "    <tr>\n",
       "      <th>8955</th>\n",
       "      <td>0.299613</td>\n",
       "      <td>2888.065430</td>\n",
       "      <td>2849.0</td>\n",
       "    </tr>\n",
       "    <tr>\n",
       "      <th>8956</th>\n",
       "      <td>0.256198</td>\n",
       "      <td>2738.371338</td>\n",
       "      <td>2727.0</td>\n",
       "    </tr>\n",
       "  </tbody>\n",
       "</table>\n",
       "<p>8957 rows × 3 columns</p>\n",
       "</div>"
      ],
      "text/plain": [
       "        y_pred  y_pred_scaled_inverse  y_true\n",
       "0     0.243001            2692.867188  2613.0\n",
       "1     0.195000            2527.359375  2526.0\n",
       "2     0.167141            2431.302734  2423.0\n",
       "3     0.139616            2336.396240  2286.0\n",
       "4     0.103117            2210.545898  2203.0\n",
       "...        ...                    ...     ...\n",
       "8952  0.298092            2882.820312  2992.0\n",
       "8953  0.342266            3035.131836  3026.0\n",
       "8954  0.313585            2936.241943  2993.0\n",
       "8955  0.299613            2888.065430  2849.0\n",
       "8956  0.256198            2738.371338  2727.0\n",
       "\n",
       "[8957 rows x 3 columns]"
      ]
     },
     "execution_count": 13,
     "metadata": {},
     "output_type": "execute_result"
    }
   ],
   "source": [
    "dic_pred = {\n",
    "    'y_pred': y_pred.flatten(),\n",
    "    'y_pred_scaled_inverse': y_pred_scaled_inverse.flatten(),\n",
    "    'y_true': y_true.flatten(),\n",
    "}\n",
    "\n",
    "df_pred = pd.DataFrame(dic_pred)\n",
    "df_pred"
   ]
  },
  {
   "attachments": {},
   "cell_type": "markdown",
   "id": "6cf740e4",
   "metadata": {
    "papermill": {
     "duration": 0.005534,
     "end_time": "2023-11-26T17:12:37.703697",
     "exception": false,
     "start_time": "2023-11-26T17:12:37.698163",
     "status": "completed"
    },
    "tags": []
   },
   "source": [
    "#### Evaluate Model"
   ]
  },
  {
   "cell_type": "code",
   "execution_count": 14,
   "id": "7bea0bad",
   "metadata": {
    "execution": {
     "iopub.execute_input": "2023-11-26T17:12:37.715647Z",
     "iopub.status.busy": "2023-11-26T17:12:37.715334Z",
     "iopub.status.idle": "2023-11-26T17:12:37.719044Z",
     "shell.execute_reply": "2023-11-26T17:12:37.718441Z"
    },
    "papermill": {
     "duration": 0.012059,
     "end_time": "2023-11-26T17:12:37.721228",
     "exception": false,
     "start_time": "2023-11-26T17:12:37.709169",
     "status": "completed"
    },
    "tags": []
   },
   "outputs": [],
   "source": [
    "from sklearn.metrics import mean_squared_error"
   ]
  },
  {
   "cell_type": "code",
   "execution_count": 15,
   "id": "e69b70cc",
   "metadata": {
    "execution": {
     "iopub.execute_input": "2023-11-26T17:12:37.734137Z",
     "iopub.status.busy": "2023-11-26T17:12:37.733863Z",
     "iopub.status.idle": "2023-11-26T17:12:37.739855Z",
     "shell.execute_reply": "2023-11-26T17:12:37.739280Z"
    },
    "papermill": {
     "duration": 0.014281,
     "end_time": "2023-11-26T17:12:37.741482",
     "exception": false,
     "start_time": "2023-11-26T17:12:37.727201",
     "status": "completed"
    },
    "tags": []
   },
   "outputs": [
    {
     "data": {
      "text/plain": [
       "40.771842094993346"
      ]
     },
     "execution_count": 15,
     "metadata": {},
     "output_type": "execute_result"
    }
   ],
   "source": [
    "mean_squared_error(df_pred.y_true, df_pred.y_pred_scaled_inverse, squared=False)"
   ]
  },
  {
   "cell_type": "code",
   "execution_count": 16,
   "id": "03bd0990",
   "metadata": {
    "execution": {
     "iopub.execute_input": "2023-11-26T17:12:37.788982Z",
     "iopub.status.busy": "2023-11-26T17:12:37.788197Z",
     "iopub.status.idle": "2023-11-26T17:12:37.820679Z",
     "shell.execute_reply": "2023-11-26T17:12:37.819766Z"
    },
    "papermill": {
     "duration": 0.061596,
     "end_time": "2023-11-26T17:12:37.823002",
     "exception": false,
     "start_time": "2023-11-26T17:12:37.761406",
     "status": "completed"
    },
    "tags": []
   },
   "outputs": [],
   "source": [
    "model.save(f'../models/{region}.keras')"
   ]
  }
 ],
 "metadata": {
  "kernelspec": {
   "display_name": "deep-learning",
   "language": "python",
   "name": "python3"
  },
  "language_info": {
   "codemirror_mode": {
    "name": "ipython",
    "version": 3
   },
   "file_extension": ".py",
   "mimetype": "text/x-python",
   "name": "python",
   "nbconvert_exporter": "python",
   "pygments_lexer": "ipython3",
   "version": "3.9.18"
  },
  "papermill": {
   "default_parameters": {},
   "duration": 119.402981,
   "end_time": "2023-11-26T17:12:38.864175",
   "environment_variables": {},
   "exception": null,
   "input_path": "Modelling.ipynb",
   "output_path": "outputs/DEOK.ipynb",
   "parameters": {
    "region": "DEOK"
   },
   "start_time": "2023-11-26T17:10:39.461194",
   "version": "2.5.0"
  }
 },
 "nbformat": 4,
 "nbformat_minor": 5
}