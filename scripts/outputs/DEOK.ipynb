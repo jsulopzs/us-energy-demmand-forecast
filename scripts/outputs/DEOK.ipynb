{
 "cells": [
  {
   "attachments": {},
   "cell_type": "markdown",
   "id": "c253873f",
   "metadata": {
    "papermill": {
     "duration": 0.002526,
     "end_time": "2023-12-13T13:09:17.718780",
     "exception": false,
     "start_time": "2023-12-13T13:09:17.716254",
     "status": "completed"
    },
    "tags": []
   },
   "source": [
    "## Load data"
   ]
  },
  {
   "cell_type": "code",
   "execution_count": 1,
   "id": "828e91c8",
   "metadata": {
    "execution": {
     "iopub.execute_input": "2023-12-13T13:09:17.735909Z",
     "iopub.status.busy": "2023-12-13T13:09:17.735909Z",
     "iopub.status.idle": "2023-12-13T13:09:18.082673Z",
     "shell.execute_reply": "2023-12-13T13:09:18.082673Z"
    },
    "papermill": {
     "duration": 0.365565,
     "end_time": "2023-12-13T13:09:18.084345",
     "exception": false,
     "start_time": "2023-12-13T13:09:17.718780",
     "status": "completed"
    },
    "tags": []
   },
   "outputs": [],
   "source": [
    "import pandas as pd"
   ]
  },
  {
   "cell_type": "code",
   "execution_count": 2,
   "id": "8dfbfa05",
   "metadata": {
    "execution": {
     "iopub.execute_input": "2023-12-13T13:09:18.099366Z",
     "iopub.status.busy": "2023-12-13T13:09:18.099366Z",
     "iopub.status.idle": "2023-12-13T13:09:18.218519Z",
     "shell.execute_reply": "2023-12-13T13:09:18.218519Z"
    },
    "papermill": {
     "duration": 0.127155,
     "end_time": "2023-12-13T13:09:18.218519",
     "exception": false,
     "start_time": "2023-12-13T13:09:18.091364",
     "status": "completed"
    },
    "tags": []
   },
   "outputs": [
    {
     "data": {
      "text/html": [
       "<div>\n",
       "<style scoped>\n",
       "    .dataframe tbody tr th:only-of-type {\n",
       "        vertical-align: middle;\n",
       "    }\n",
       "\n",
       "    .dataframe tbody tr th {\n",
       "        vertical-align: top;\n",
       "    }\n",
       "\n",
       "    .dataframe thead th {\n",
       "        text-align: right;\n",
       "    }\n",
       "</style>\n",
       "<table border=\"1\" class=\"dataframe\">\n",
       "  <thead>\n",
       "    <tr style=\"text-align: right;\">\n",
       "      <th></th>\n",
       "      <th>AE</th>\n",
       "      <th>AEP</th>\n",
       "      <th>AP</th>\n",
       "      <th>ATSI</th>\n",
       "      <th>BC</th>\n",
       "      <th>CE</th>\n",
       "      <th>DAY</th>\n",
       "      <th>DEOK</th>\n",
       "      <th>DOM</th>\n",
       "      <th>DPL</th>\n",
       "      <th>DUQ</th>\n",
       "      <th>EKPC</th>\n",
       "      <th>JC</th>\n",
       "      <th>ME</th>\n",
       "      <th>PE</th>\n",
       "      <th>PEP</th>\n",
       "      <th>PL</th>\n",
       "      <th>PN</th>\n",
       "      <th>PS</th>\n",
       "      <th>RECO</th>\n",
       "    </tr>\n",
       "    <tr>\n",
       "      <th>period</th>\n",
       "      <th></th>\n",
       "      <th></th>\n",
       "      <th></th>\n",
       "      <th></th>\n",
       "      <th></th>\n",
       "      <th></th>\n",
       "      <th></th>\n",
       "      <th></th>\n",
       "      <th></th>\n",
       "      <th></th>\n",
       "      <th></th>\n",
       "      <th></th>\n",
       "      <th></th>\n",
       "      <th></th>\n",
       "      <th></th>\n",
       "      <th></th>\n",
       "      <th></th>\n",
       "      <th></th>\n",
       "      <th></th>\n",
       "      <th></th>\n",
       "    </tr>\n",
       "  </thead>\n",
       "  <tbody>\n",
       "    <tr>\n",
       "      <th>2018-07-01 05:00:00</th>\n",
       "      <td>1301</td>\n",
       "      <td>12187</td>\n",
       "      <td>4384</td>\n",
       "      <td>6960</td>\n",
       "      <td>3134</td>\n",
       "      <td>12136</td>\n",
       "      <td>1619</td>\n",
       "      <td>2895</td>\n",
       "      <td>9775</td>\n",
       "      <td>1919</td>\n",
       "      <td>1466</td>\n",
       "      <td>1209</td>\n",
       "      <td>2388</td>\n",
       "      <td>1442</td>\n",
       "      <td>4397</td>\n",
       "      <td>3165</td>\n",
       "      <td>3835</td>\n",
       "      <td>1611</td>\n",
       "      <td>5009</td>\n",
       "      <td>186</td>\n",
       "    </tr>\n",
       "    <tr>\n",
       "      <th>2018-07-01 06:00:00</th>\n",
       "      <td>1314</td>\n",
       "      <td>11946</td>\n",
       "      <td>4391</td>\n",
       "      <td>6762</td>\n",
       "      <td>3139</td>\n",
       "      <td>11872</td>\n",
       "      <td>1605</td>\n",
       "      <td>2857</td>\n",
       "      <td>9787</td>\n",
       "      <td>1950</td>\n",
       "      <td>1455</td>\n",
       "      <td>1197</td>\n",
       "      <td>2416</td>\n",
       "      <td>1465</td>\n",
       "      <td>4423</td>\n",
       "      <td>3156</td>\n",
       "      <td>3901</td>\n",
       "      <td>1641</td>\n",
       "      <td>4990</td>\n",
       "      <td>187</td>\n",
       "    </tr>\n",
       "    <tr>\n",
       "      <th>2018-07-01 07:00:00</th>\n",
       "      <td>1410</td>\n",
       "      <td>12664</td>\n",
       "      <td>4757</td>\n",
       "      <td>6670</td>\n",
       "      <td>3377</td>\n",
       "      <td>11992</td>\n",
       "      <td>1707</td>\n",
       "      <td>2997</td>\n",
       "      <td>10453</td>\n",
       "      <td>2160</td>\n",
       "      <td>1528</td>\n",
       "      <td>1273</td>\n",
       "      <td>2644</td>\n",
       "      <td>1605</td>\n",
       "      <td>4743</td>\n",
       "      <td>3332</td>\n",
       "      <td>4232</td>\n",
       "      <td>1728</td>\n",
       "      <td>5267</td>\n",
       "      <td>202</td>\n",
       "    </tr>\n",
       "    <tr>\n",
       "      <th>2018-07-01 08:00:00</th>\n",
       "      <td>1567</td>\n",
       "      <td>14069</td>\n",
       "      <td>5308</td>\n",
       "      <td>7065</td>\n",
       "      <td>3788</td>\n",
       "      <td>12860</td>\n",
       "      <td>1916</td>\n",
       "      <td>3331</td>\n",
       "      <td>11734</td>\n",
       "      <td>2470</td>\n",
       "      <td>1688</td>\n",
       "      <td>1472</td>\n",
       "      <td>3064</td>\n",
       "      <td>1784</td>\n",
       "      <td>5230</td>\n",
       "      <td>3679</td>\n",
       "      <td>4613</td>\n",
       "      <td>1899</td>\n",
       "      <td>5735</td>\n",
       "      <td>230</td>\n",
       "    </tr>\n",
       "    <tr>\n",
       "      <th>2018-07-01 09:00:00</th>\n",
       "      <td>1749</td>\n",
       "      <td>15610</td>\n",
       "      <td>5862</td>\n",
       "      <td>7833</td>\n",
       "      <td>4262</td>\n",
       "      <td>14212</td>\n",
       "      <td>2145</td>\n",
       "      <td>3703</td>\n",
       "      <td>13084</td>\n",
       "      <td>2765</td>\n",
       "      <td>1875</td>\n",
       "      <td>1656</td>\n",
       "      <td>3569</td>\n",
       "      <td>1972</td>\n",
       "      <td>5752</td>\n",
       "      <td>4085</td>\n",
       "      <td>5014</td>\n",
       "      <td>2055</td>\n",
       "      <td>6299</td>\n",
       "      <td>259</td>\n",
       "    </tr>\n",
       "  </tbody>\n",
       "</table>\n",
       "</div>"
      ],
      "text/plain": [
       "                       AE    AEP    AP  ATSI    BC     CE   DAY  DEOK    DOM  \\\n",
       "period                                                                         \n",
       "2018-07-01 05:00:00  1301  12187  4384  6960  3134  12136  1619  2895   9775   \n",
       "2018-07-01 06:00:00  1314  11946  4391  6762  3139  11872  1605  2857   9787   \n",
       "2018-07-01 07:00:00  1410  12664  4757  6670  3377  11992  1707  2997  10453   \n",
       "2018-07-01 08:00:00  1567  14069  5308  7065  3788  12860  1916  3331  11734   \n",
       "2018-07-01 09:00:00  1749  15610  5862  7833  4262  14212  2145  3703  13084   \n",
       "\n",
       "                      DPL   DUQ  EKPC    JC    ME    PE   PEP    PL    PN  \\\n",
       "period                                                                      \n",
       "2018-07-01 05:00:00  1919  1466  1209  2388  1442  4397  3165  3835  1611   \n",
       "2018-07-01 06:00:00  1950  1455  1197  2416  1465  4423  3156  3901  1641   \n",
       "2018-07-01 07:00:00  2160  1528  1273  2644  1605  4743  3332  4232  1728   \n",
       "2018-07-01 08:00:00  2470  1688  1472  3064  1784  5230  3679  4613  1899   \n",
       "2018-07-01 09:00:00  2765  1875  1656  3569  1972  5752  4085  5014  2055   \n",
       "\n",
       "                       PS  RECO  \n",
       "period                           \n",
       "2018-07-01 05:00:00  5009   186  \n",
       "2018-07-01 06:00:00  4990   187  \n",
       "2018-07-01 07:00:00  5267   202  \n",
       "2018-07-01 08:00:00  5735   230  \n",
       "2018-07-01 09:00:00  6299   259  "
      ]
     },
     "execution_count": 2,
     "metadata": {},
     "output_type": "execute_result"
    }
   ],
   "source": [
    "df_base = pd.read_csv('../data/general/pjm_pivot.csv', index_col=0, parse_dates=True)\n",
    "df_base.head()"
   ]
  },
  {
   "attachments": {},
   "cell_type": "markdown",
   "id": "1459e6fc",
   "metadata": {
    "papermill": {
     "duration": 0.015004,
     "end_time": "2023-12-13T13:09:18.233523",
     "exception": false,
     "start_time": "2023-12-13T13:09:18.218519",
     "status": "completed"
    },
    "tags": []
   },
   "source": [
    "## Select region"
   ]
  },
  {
   "cell_type": "code",
   "execution_count": 3,
   "id": "9dad81ff",
   "metadata": {
    "execution": {
     "iopub.execute_input": "2023-12-13T13:09:18.235369Z",
     "iopub.status.busy": "2023-12-13T13:09:18.235369Z",
     "iopub.status.idle": "2023-12-13T13:09:18.254218Z",
     "shell.execute_reply": "2023-12-13T13:09:18.254218Z"
    },
    "papermill": {
     "duration": 0.018849,
     "end_time": "2023-12-13T13:09:18.254218",
     "exception": false,
     "start_time": "2023-12-13T13:09:18.235369",
     "status": "completed"
    },
    "tags": [
     "parameters"
    ]
   },
   "outputs": [],
   "source": [
    "region = 'AE'"
   ]
  },
  {
   "cell_type": "code",
   "execution_count": 4,
   "id": "ed8a69ef",
   "metadata": {
    "execution": {
     "iopub.execute_input": "2023-12-13T13:09:18.269887Z",
     "iopub.status.busy": "2023-12-13T13:09:18.268885Z",
     "iopub.status.idle": "2023-12-13T13:09:18.286021Z",
     "shell.execute_reply": "2023-12-13T13:09:18.285640Z"
    },
    "papermill": {
     "duration": 0.031803,
     "end_time": "2023-12-13T13:09:18.286021",
     "exception": false,
     "start_time": "2023-12-13T13:09:18.254218",
     "status": "completed"
    },
    "tags": [
     "injected-parameters"
    ]
   },
   "outputs": [],
   "source": [
    "# Parameters\n",
    "region = \"DEOK\"\n"
   ]
  },
  {
   "cell_type": "code",
   "execution_count": 5,
   "id": "ffb39faa",
   "metadata": {
    "execution": {
     "iopub.execute_input": "2023-12-13T13:09:18.302468Z",
     "iopub.status.busy": "2023-12-13T13:09:18.302468Z",
     "iopub.status.idle": "2023-12-13T13:09:18.318920Z",
     "shell.execute_reply": "2023-12-13T13:09:18.317915Z"
    },
    "papermill": {
     "duration": 0.034898,
     "end_time": "2023-12-13T13:09:18.320919",
     "exception": false,
     "start_time": "2023-12-13T13:09:18.286021",
     "status": "completed"
    },
    "tags": []
   },
   "outputs": [
    {
     "data": {
      "text/html": [
       "<div>\n",
       "<style scoped>\n",
       "    .dataframe tbody tr th:only-of-type {\n",
       "        vertical-align: middle;\n",
       "    }\n",
       "\n",
       "    .dataframe tbody tr th {\n",
       "        vertical-align: top;\n",
       "    }\n",
       "\n",
       "    .dataframe thead th {\n",
       "        text-align: right;\n",
       "    }\n",
       "</style>\n",
       "<table border=\"1\" class=\"dataframe\">\n",
       "  <thead>\n",
       "    <tr style=\"text-align: right;\">\n",
       "      <th></th>\n",
       "      <th>DEOK</th>\n",
       "    </tr>\n",
       "    <tr>\n",
       "      <th>period</th>\n",
       "      <th></th>\n",
       "    </tr>\n",
       "  </thead>\n",
       "  <tbody>\n",
       "    <tr>\n",
       "      <th>2018-07-01 05:00:00</th>\n",
       "      <td>2895</td>\n",
       "    </tr>\n",
       "    <tr>\n",
       "      <th>2018-07-01 06:00:00</th>\n",
       "      <td>2857</td>\n",
       "    </tr>\n",
       "    <tr>\n",
       "      <th>2018-07-01 07:00:00</th>\n",
       "      <td>2997</td>\n",
       "    </tr>\n",
       "    <tr>\n",
       "      <th>2018-07-01 08:00:00</th>\n",
       "      <td>3331</td>\n",
       "    </tr>\n",
       "    <tr>\n",
       "      <th>2018-07-01 09:00:00</th>\n",
       "      <td>3703</td>\n",
       "    </tr>\n",
       "    <tr>\n",
       "      <th>...</th>\n",
       "      <td>...</td>\n",
       "    </tr>\n",
       "    <tr>\n",
       "      <th>2023-11-01 00:00:00</th>\n",
       "      <td>2992</td>\n",
       "    </tr>\n",
       "    <tr>\n",
       "      <th>2023-11-01 01:00:00</th>\n",
       "      <td>3026</td>\n",
       "    </tr>\n",
       "    <tr>\n",
       "      <th>2023-11-01 02:00:00</th>\n",
       "      <td>2993</td>\n",
       "    </tr>\n",
       "    <tr>\n",
       "      <th>2023-11-01 03:00:00</th>\n",
       "      <td>2849</td>\n",
       "    </tr>\n",
       "    <tr>\n",
       "      <th>2023-11-01 04:00:00</th>\n",
       "      <td>2727</td>\n",
       "    </tr>\n",
       "  </tbody>\n",
       "</table>\n",
       "<p>44904 rows × 1 columns</p>\n",
       "</div>"
      ],
      "text/plain": [
       "                     DEOK\n",
       "period                   \n",
       "2018-07-01 05:00:00  2895\n",
       "2018-07-01 06:00:00  2857\n",
       "2018-07-01 07:00:00  2997\n",
       "2018-07-01 08:00:00  3331\n",
       "2018-07-01 09:00:00  3703\n",
       "...                   ...\n",
       "2023-11-01 00:00:00  2992\n",
       "2023-11-01 01:00:00  3026\n",
       "2023-11-01 02:00:00  2993\n",
       "2023-11-01 03:00:00  2849\n",
       "2023-11-01 04:00:00  2727\n",
       "\n",
       "[44904 rows x 1 columns]"
      ]
     },
     "execution_count": 5,
     "metadata": {},
     "output_type": "execute_result"
    }
   ],
   "source": [
    "df = df_base.loc[:, [region]]\n",
    "df"
   ]
  },
  {
   "attachments": {},
   "cell_type": "markdown",
   "id": "77985bc8",
   "metadata": {
    "papermill": {
     "duration": 0.013696,
     "end_time": "2023-12-13T13:09:18.335615",
     "exception": false,
     "start_time": "2023-12-13T13:09:18.321919",
     "status": "completed"
    },
    "tags": []
   },
   "source": [
    "## Data Preprocessing"
   ]
  },
  {
   "cell_type": "markdown",
   "id": "2a3534a9",
   "metadata": {
    "papermill": {
     "duration": 0.006001,
     "end_time": "2023-12-13T13:09:18.349623",
     "exception": false,
     "start_time": "2023-12-13T13:09:18.343622",
     "status": "completed"
    },
    "tags": []
   },
   "source": [
    "### Train Test Split"
   ]
  },
  {
   "cell_type": "code",
   "execution_count": 6,
   "id": "4b8bae2b",
   "metadata": {
    "execution": {
     "iopub.execute_input": "2023-12-13T13:09:18.368629Z",
     "iopub.status.busy": "2023-12-13T13:09:18.368629Z",
     "iopub.status.idle": "2023-12-13T13:09:18.800660Z",
     "shell.execute_reply": "2023-12-13T13:09:18.800660Z"
    },
    "papermill": {
     "duration": 0.442748,
     "end_time": "2023-12-13T13:09:18.802374",
     "exception": false,
     "start_time": "2023-12-13T13:09:18.359626",
     "status": "completed"
    },
    "tags": []
   },
   "outputs": [],
   "source": [
    "from sklearn.model_selection import train_test_split\n",
    "\n",
    "train, test = train_test_split(df, test_size=0.3, shuffle=False)\n",
    "test, prod = train_test_split(test, test_size=0.5, shuffle=False)"
   ]
  },
  {
   "cell_type": "markdown",
   "id": "064c0123",
   "metadata": {
    "papermill": {
     "duration": 0.0,
     "end_time": "2023-12-13T13:09:18.802374",
     "exception": false,
     "start_time": "2023-12-13T13:09:18.802374",
     "status": "completed"
    },
    "tags": []
   },
   "source": [
    "### Export Data"
   ]
  },
  {
   "cell_type": "code",
   "execution_count": 7,
   "id": "a3685398",
   "metadata": {
    "execution": {
     "iopub.execute_input": "2023-12-13T13:09:18.819171Z",
     "iopub.status.busy": "2023-12-13T13:09:18.819171Z",
     "iopub.status.idle": "2023-12-13T13:09:18.951770Z",
     "shell.execute_reply": "2023-12-13T13:09:18.950883Z"
    },
    "papermill": {
     "duration": 0.134603,
     "end_time": "2023-12-13T13:09:18.953774",
     "exception": false,
     "start_time": "2023-12-13T13:09:18.819171",
     "status": "completed"
    },
    "tags": []
   },
   "outputs": [],
   "source": [
    "import os\n",
    "\n",
    "path_region = f'../data/regions/{region}'\n",
    "\n",
    "if not os.path.exists(path_region):\n",
    "    os.makedirs(path_region)\n",
    "\n",
    "for df, name in zip([train, test, prod], ['train', 'test', 'prod']):\n",
    "    df.to_csv(f'{path_region}/{name}.csv')"
   ]
  },
  {
   "attachments": {},
   "cell_type": "markdown",
   "id": "a79003ac",
   "metadata": {
    "papermill": {
     "duration": 0.0,
     "end_time": "2023-12-13T13:09:18.955003",
     "exception": false,
     "start_time": "2023-12-13T13:09:18.955003",
     "status": "completed"
    },
    "tags": []
   },
   "source": [
    "### Scale Data"
   ]
  },
  {
   "cell_type": "code",
   "execution_count": 8,
   "id": "38a45ce7",
   "metadata": {
    "execution": {
     "iopub.execute_input": "2023-12-13T13:09:18.969453Z",
     "iopub.status.busy": "2023-12-13T13:09:18.969453Z",
     "iopub.status.idle": "2023-12-13T13:09:19.004820Z",
     "shell.execute_reply": "2023-12-13T13:09:19.003820Z"
    },
    "papermill": {
     "duration": 0.036367,
     "end_time": "2023-12-13T13:09:19.005820",
     "exception": false,
     "start_time": "2023-12-13T13:09:18.969453",
     "status": "completed"
    },
    "tags": []
   },
   "outputs": [],
   "source": [
    "from sklearn.preprocessing import MinMaxScaler\n",
    "\n",
    "scaler = MinMaxScaler(feature_range=(0, 1))\n",
    "\n",
    "train_norm = scaler.fit_transform(train)\n",
    "test_norm = scaler.transform(test)"
   ]
  },
  {
   "attachments": {},
   "cell_type": "markdown",
   "id": "afc1f4b4",
   "metadata": {
    "papermill": {
     "duration": 0.006546,
     "end_time": "2023-12-13T13:09:19.019367",
     "exception": false,
     "start_time": "2023-12-13T13:09:19.012821",
     "status": "completed"
    },
    "tags": []
   },
   "source": [
    "### Create Sequences"
   ]
  },
  {
   "cell_type": "code",
   "execution_count": 9,
   "id": "da5daaf7",
   "metadata": {
    "execution": {
     "iopub.execute_input": "2023-12-13T13:09:19.035240Z",
     "iopub.status.busy": "2023-12-13T13:09:19.035240Z",
     "iopub.status.idle": "2023-12-13T13:09:19.101910Z",
     "shell.execute_reply": "2023-12-13T13:09:19.101101Z"
    },
    "papermill": {
     "duration": 0.083439,
     "end_time": "2023-12-13T13:09:19.102806",
     "exception": false,
     "start_time": "2023-12-13T13:09:19.019367",
     "status": "completed"
    },
    "tags": []
   },
   "outputs": [],
   "source": [
    "import numpy as np\n",
    "\n",
    "def create_sequences(data, sequence_length):\n",
    "    X, y = [], []\n",
    "    for i in range(len(data) - sequence_length):\n",
    "        X.append(data[i:i+sequence_length])\n",
    "        y.append(data[i+sequence_length])\n",
    "    return np.array(X), np.array(y)\n",
    "\n",
    "sequence_length = 24 # Use 24 hours prior to predict the following hour\n",
    "X_train, y_train = create_sequences(train_norm, sequence_length)\n",
    "X_test, y_test = create_sequences(test_norm, sequence_length)"
   ]
  },
  {
   "attachments": {},
   "cell_type": "markdown",
   "id": "4e6d2fd2",
   "metadata": {
    "papermill": {
     "duration": 0.0,
     "end_time": "2023-12-13T13:09:19.102806",
     "exception": false,
     "start_time": "2023-12-13T13:09:19.102806",
     "status": "completed"
    },
    "tags": []
   },
   "source": [
    "## Modelling"
   ]
  },
  {
   "attachments": {},
   "cell_type": "markdown",
   "id": "8ab487ec",
   "metadata": {
    "papermill": {
     "duration": 0.0,
     "end_time": "2023-12-13T13:09:19.119616",
     "exception": false,
     "start_time": "2023-12-13T13:09:19.119616",
     "status": "completed"
    },
    "tags": []
   },
   "source": [
    "### Design NN Architecture"
   ]
  },
  {
   "cell_type": "code",
   "execution_count": 10,
   "id": "0812cdca",
   "metadata": {
    "execution": {
     "iopub.execute_input": "2023-12-13T13:09:19.156021Z",
     "iopub.status.busy": "2023-12-13T13:09:19.155023Z",
     "iopub.status.idle": "2023-12-13T13:09:20.556008Z",
     "shell.execute_reply": "2023-12-13T13:09:20.556008Z"
    },
    "papermill": {
     "duration": 1.416304,
     "end_time": "2023-12-13T13:09:20.556008",
     "exception": false,
     "start_time": "2023-12-13T13:09:19.139704",
     "status": "completed"
    },
    "tags": []
   },
   "outputs": [
    {
     "name": "stderr",
     "output_type": "stream",
     "text": [
      "c:\\Users\\jesus\\miniconda3\\envs\\tf-base\\lib\\site-packages\\tensorflow\\python\\framework\\dtypes.py:516: FutureWarning: Passing (type, 1) or '1type' as a synonym of type is deprecated; in a future version of numpy, it will be understood as (type, (1,)) / '(1,)type'.\n",
      "  _np_qint8 = np.dtype([(\"qint8\", np.int8, 1)])\n",
      "c:\\Users\\jesus\\miniconda3\\envs\\tf-base\\lib\\site-packages\\tensorflow\\python\\framework\\dtypes.py:517: FutureWarning: Passing (type, 1) or '1type' as a synonym of type is deprecated; in a future version of numpy, it will be understood as (type, (1,)) / '(1,)type'.\n",
      "  _np_quint8 = np.dtype([(\"quint8\", np.uint8, 1)])\n",
      "c:\\Users\\jesus\\miniconda3\\envs\\tf-base\\lib\\site-packages\\tensorflow\\python\\framework\\dtypes.py:518: FutureWarning: Passing (type, 1) or '1type' as a synonym of type is deprecated; in a future version of numpy, it will be understood as (type, (1,)) / '(1,)type'.\n",
      "  _np_qint16 = np.dtype([(\"qint16\", np.int16, 1)])\n",
      "c:\\Users\\jesus\\miniconda3\\envs\\tf-base\\lib\\site-packages\\tensorflow\\python\\framework\\dtypes.py:519: FutureWarning: Passing (type, 1) or '1type' as a synonym of type is deprecated; in a future version of numpy, it will be understood as (type, (1,)) / '(1,)type'.\n",
      "  _np_quint16 = np.dtype([(\"quint16\", np.uint16, 1)])\n",
      "c:\\Users\\jesus\\miniconda3\\envs\\tf-base\\lib\\site-packages\\tensorflow\\python\\framework\\dtypes.py:520: FutureWarning: Passing (type, 1) or '1type' as a synonym of type is deprecated; in a future version of numpy, it will be understood as (type, (1,)) / '(1,)type'.\n",
      "  _np_qint32 = np.dtype([(\"qint32\", np.int32, 1)])\n",
      "c:\\Users\\jesus\\miniconda3\\envs\\tf-base\\lib\\site-packages\\tensorflow\\python\\framework\\dtypes.py:525: FutureWarning: Passing (type, 1) or '1type' as a synonym of type is deprecated; in a future version of numpy, it will be understood as (type, (1,)) / '(1,)type'.\n",
      "  np_resource = np.dtype([(\"resource\", np.ubyte, 1)])\n"
     ]
    },
    {
     "name": "stdout",
     "output_type": "stream",
     "text": [
      "WARNING:tensorflow:From c:\\Users\\jesus\\miniconda3\\envs\\tf-base\\lib\\site-packages\\tensorflow\\python\\ops\\init_ops.py:1251: calling VarianceScaling.__init__ (from tensorflow.python.ops.init_ops) with dtype is deprecated and will be removed in a future version.\n",
      "Instructions for updating:\n",
      "Call initializer instance with the dtype argument instead of passing it to the constructor\n"
     ]
    },
    {
     "name": "stderr",
     "output_type": "stream",
     "text": [
      "c:\\Users\\jesus\\miniconda3\\envs\\tf-base\\lib\\site-packages\\tensorboard\\compat\\tensorflow_stub\\dtypes.py:541: FutureWarning: Passing (type, 1) or '1type' as a synonym of type is deprecated; in a future version of numpy, it will be understood as (type, (1,)) / '(1,)type'.\n",
      "  _np_qint8 = np.dtype([(\"qint8\", np.int8, 1)])\n",
      "c:\\Users\\jesus\\miniconda3\\envs\\tf-base\\lib\\site-packages\\tensorboard\\compat\\tensorflow_stub\\dtypes.py:542: FutureWarning: Passing (type, 1) or '1type' as a synonym of type is deprecated; in a future version of numpy, it will be understood as (type, (1,)) / '(1,)type'.\n",
      "  _np_quint8 = np.dtype([(\"quint8\", np.uint8, 1)])\n",
      "c:\\Users\\jesus\\miniconda3\\envs\\tf-base\\lib\\site-packages\\tensorboard\\compat\\tensorflow_stub\\dtypes.py:543: FutureWarning: Passing (type, 1) or '1type' as a synonym of type is deprecated; in a future version of numpy, it will be understood as (type, (1,)) / '(1,)type'.\n",
      "  _np_qint16 = np.dtype([(\"qint16\", np.int16, 1)])\n",
      "c:\\Users\\jesus\\miniconda3\\envs\\tf-base\\lib\\site-packages\\tensorboard\\compat\\tensorflow_stub\\dtypes.py:544: FutureWarning: Passing (type, 1) or '1type' as a synonym of type is deprecated; in a future version of numpy, it will be understood as (type, (1,)) / '(1,)type'.\n",
      "  _np_quint16 = np.dtype([(\"quint16\", np.uint16, 1)])\n",
      "c:\\Users\\jesus\\miniconda3\\envs\\tf-base\\lib\\site-packages\\tensorboard\\compat\\tensorflow_stub\\dtypes.py:545: FutureWarning: Passing (type, 1) or '1type' as a synonym of type is deprecated; in a future version of numpy, it will be understood as (type, (1,)) / '(1,)type'.\n",
      "  _np_qint32 = np.dtype([(\"qint32\", np.int32, 1)])\n",
      "c:\\Users\\jesus\\miniconda3\\envs\\tf-base\\lib\\site-packages\\tensorboard\\compat\\tensorflow_stub\\dtypes.py:550: FutureWarning: Passing (type, 1) or '1type' as a synonym of type is deprecated; in a future version of numpy, it will be understood as (type, (1,)) / '(1,)type'.\n",
      "  np_resource = np.dtype([(\"resource\", np.ubyte, 1)])\n"
     ]
    }
   ],
   "source": [
    "from tensorflow.keras.models import Sequential\n",
    "from tensorflow.keras.layers import LSTM, Dense\n",
    "\n",
    "model = Sequential()\n",
    "model.add(LSTM(50, input_shape=(X_train.shape[1], X_train.shape[2])))\n",
    "model.add(Dense(1))\n",
    "model.compile(optimizer='adam', loss='mean_squared_error')"
   ]
  },
  {
   "attachments": {},
   "cell_type": "markdown",
   "id": "0285eabe",
   "metadata": {
    "papermill": {
     "duration": 0.015092,
     "end_time": "2023-12-13T13:09:20.571100",
     "exception": false,
     "start_time": "2023-12-13T13:09:20.556008",
     "status": "completed"
    },
    "tags": []
   },
   "source": [
    "### Train Model"
   ]
  },
  {
   "cell_type": "code",
   "execution_count": 11,
   "id": "bb8221fd",
   "metadata": {
    "execution": {
     "iopub.execute_input": "2023-12-13T13:09:20.588923Z",
     "iopub.status.busy": "2023-12-13T13:09:20.588923Z",
     "iopub.status.idle": "2023-12-13T13:12:14.504203Z",
     "shell.execute_reply": "2023-12-13T13:12:14.503317Z"
    },
    "papermill": {
     "duration": 173.933957,
     "end_time": "2023-12-13T13:12:14.505057",
     "exception": false,
     "start_time": "2023-12-13T13:09:20.571100",
     "status": "completed"
    },
    "tags": []
   },
   "outputs": [
    {
     "name": "stdout",
     "output_type": "stream",
     "text": [
      "WARNING:tensorflow:From c:\\Users\\jesus\\miniconda3\\envs\\tf-base\\lib\\site-packages\\tensorflow\\python\\ops\\math_grad.py:1250: add_dispatch_support.<locals>.wrapper (from tensorflow.python.ops.array_ops) is deprecated and will be removed in a future version.\n",
      "Instructions for updating:\n",
      "Use tf.where in 2.0, which has the same broadcast rule as np.where\n"
     ]
    }
   ],
   "source": [
    "from tensorflow.keras.callbacks import EarlyStopping\n",
    "\n",
    "early_stop = EarlyStopping(monitor='val_loss', patience=5)\n",
    "\n",
    "history = model.fit(\n",
    "    X_train, y_train, epochs=50, batch_size=64, verbose=0,\n",
    "    validation_data=(X_test, y_test), callbacks=[early_stop])"
   ]
  },
  {
   "attachments": {},
   "cell_type": "markdown",
   "id": "264fb69e",
   "metadata": {
    "papermill": {
     "duration": 0.016861,
     "end_time": "2023-12-13T13:12:14.521918",
     "exception": false,
     "start_time": "2023-12-13T13:12:14.505057",
     "status": "completed"
    },
    "tags": []
   },
   "source": [
    "### Calculate Predictions"
   ]
  },
  {
   "cell_type": "code",
   "execution_count": 12,
   "id": "02512829",
   "metadata": {
    "execution": {
     "iopub.execute_input": "2023-12-13T13:12:14.538713Z",
     "iopub.status.busy": "2023-12-13T13:12:14.537715Z",
     "iopub.status.idle": "2023-12-13T13:12:15.087491Z",
     "shell.execute_reply": "2023-12-13T13:12:15.086490Z"
    },
    "papermill": {
     "duration": 0.567493,
     "end_time": "2023-12-13T13:12:15.089490",
     "exception": false,
     "start_time": "2023-12-13T13:12:14.521997",
     "status": "completed"
    },
    "tags": []
   },
   "outputs": [
    {
     "data": {
      "text/plain": [
       "array([[0.1507275 ],\n",
       "       [0.15121245],\n",
       "       [0.15671927],\n",
       "       ...,\n",
       "       [0.30802408],\n",
       "       [0.38278687],\n",
       "       [0.46263954]], dtype=float32)"
      ]
     },
     "execution_count": 12,
     "metadata": {},
     "output_type": "execute_result"
    }
   ],
   "source": [
    "y_pred = model.predict(X_test)\n",
    "y_pred"
   ]
  },
  {
   "attachments": {},
   "cell_type": "markdown",
   "id": "c1940a03",
   "metadata": {
    "papermill": {
     "duration": 0.010139,
     "end_time": "2023-12-13T13:12:15.108631",
     "exception": false,
     "start_time": "2023-12-13T13:12:15.098492",
     "status": "completed"
    },
    "tags": []
   },
   "source": [
    "### Comparison: Real Data & Prediction"
   ]
  },
  {
   "attachments": {},
   "cell_type": "markdown",
   "id": "8c231e16",
   "metadata": {
    "papermill": {
     "duration": 0.007551,
     "end_time": "2023-12-13T13:12:15.125184",
     "exception": false,
     "start_time": "2023-12-13T13:12:15.117633",
     "status": "completed"
    },
    "tags": []
   },
   "source": [
    "#### Descale Data"
   ]
  },
  {
   "cell_type": "code",
   "execution_count": 13,
   "id": "50eb8e39",
   "metadata": {
    "execution": {
     "iopub.execute_input": "2023-12-13T13:12:15.153188Z",
     "iopub.status.busy": "2023-12-13T13:12:15.152188Z",
     "iopub.status.idle": "2023-12-13T13:12:15.171515Z",
     "shell.execute_reply": "2023-12-13T13:12:15.170892Z"
    },
    "papermill": {
     "duration": 0.031333,
     "end_time": "2023-12-13T13:12:15.173518",
     "exception": false,
     "start_time": "2023-12-13T13:12:15.142185",
     "status": "completed"
    },
    "tags": []
   },
   "outputs": [],
   "source": [
    "y_pred_scaled_inverse = scaler.inverse_transform(y_pred)\n",
    "y_true = scaler.inverse_transform(y_test)"
   ]
  },
  {
   "attachments": {},
   "cell_type": "markdown",
   "id": "d1a7f94e",
   "metadata": {
    "papermill": {
     "duration": 0.008001,
     "end_time": "2023-12-13T13:12:15.188521",
     "exception": false,
     "start_time": "2023-12-13T13:12:15.180520",
     "status": "completed"
    },
    "tags": []
   },
   "source": [
    "#### Create DataFrame"
   ]
  },
  {
   "cell_type": "code",
   "execution_count": 14,
   "id": "d989608f",
   "metadata": {
    "execution": {
     "iopub.execute_input": "2023-12-13T13:12:15.205908Z",
     "iopub.status.busy": "2023-12-13T13:12:15.204906Z",
     "iopub.status.idle": "2023-12-13T13:12:15.222443Z",
     "shell.execute_reply": "2023-12-13T13:12:15.222443Z"
    },
    "papermill": {
     "duration": 0.033083,
     "end_time": "2023-12-13T13:12:15.222443",
     "exception": false,
     "start_time": "2023-12-13T13:12:15.189360",
     "status": "completed"
    },
    "tags": []
   },
   "outputs": [
    {
     "data": {
      "text/html": [
       "<div>\n",
       "<style scoped>\n",
       "    .dataframe tbody tr th:only-of-type {\n",
       "        vertical-align: middle;\n",
       "    }\n",
       "\n",
       "    .dataframe tbody tr th {\n",
       "        vertical-align: top;\n",
       "    }\n",
       "\n",
       "    .dataframe thead th {\n",
       "        text-align: right;\n",
       "    }\n",
       "</style>\n",
       "<table border=\"1\" class=\"dataframe\">\n",
       "  <thead>\n",
       "    <tr style=\"text-align: right;\">\n",
       "      <th></th>\n",
       "      <th>y_pred</th>\n",
       "      <th>y_pred_scaled_inverse</th>\n",
       "      <th>y_true</th>\n",
       "    </tr>\n",
       "  </thead>\n",
       "  <tbody>\n",
       "    <tr>\n",
       "      <th>0</th>\n",
       "      <td>0.150727</td>\n",
       "      <td>2374.708252</td>\n",
       "      <td>2341.0</td>\n",
       "    </tr>\n",
       "    <tr>\n",
       "      <th>1</th>\n",
       "      <td>0.151212</td>\n",
       "      <td>2376.380371</td>\n",
       "      <td>2351.0</td>\n",
       "    </tr>\n",
       "    <tr>\n",
       "      <th>2</th>\n",
       "      <td>0.156719</td>\n",
       "      <td>2395.367920</td>\n",
       "      <td>2408.0</td>\n",
       "    </tr>\n",
       "    <tr>\n",
       "      <th>3</th>\n",
       "      <td>0.181552</td>\n",
       "      <td>2480.992676</td>\n",
       "      <td>2551.0</td>\n",
       "    </tr>\n",
       "    <tr>\n",
       "      <th>4</th>\n",
       "      <td>0.224068</td>\n",
       "      <td>2627.585205</td>\n",
       "      <td>2586.0</td>\n",
       "    </tr>\n",
       "    <tr>\n",
       "      <th>...</th>\n",
       "      <td>...</td>\n",
       "      <td>...</td>\n",
       "      <td>...</td>\n",
       "    </tr>\n",
       "    <tr>\n",
       "      <th>6707</th>\n",
       "      <td>0.259601</td>\n",
       "      <td>2750.104492</td>\n",
       "      <td>2743.0</td>\n",
       "    </tr>\n",
       "    <tr>\n",
       "      <th>6708</th>\n",
       "      <td>0.269053</td>\n",
       "      <td>2782.694092</td>\n",
       "      <td>2811.0</td>\n",
       "    </tr>\n",
       "    <tr>\n",
       "      <th>6709</th>\n",
       "      <td>0.308024</td>\n",
       "      <td>2917.067139</td>\n",
       "      <td>2978.0</td>\n",
       "    </tr>\n",
       "    <tr>\n",
       "      <th>6710</th>\n",
       "      <td>0.382787</td>\n",
       "      <td>3174.849121</td>\n",
       "      <td>3230.0</td>\n",
       "    </tr>\n",
       "    <tr>\n",
       "      <th>6711</th>\n",
       "      <td>0.462640</td>\n",
       "      <td>3450.180908</td>\n",
       "      <td>3369.0</td>\n",
       "    </tr>\n",
       "  </tbody>\n",
       "</table>\n",
       "<p>6712 rows × 3 columns</p>\n",
       "</div>"
      ],
      "text/plain": [
       "        y_pred  y_pred_scaled_inverse  y_true\n",
       "0     0.150727            2374.708252  2341.0\n",
       "1     0.151212            2376.380371  2351.0\n",
       "2     0.156719            2395.367920  2408.0\n",
       "3     0.181552            2480.992676  2551.0\n",
       "4     0.224068            2627.585205  2586.0\n",
       "...        ...                    ...     ...\n",
       "6707  0.259601            2750.104492  2743.0\n",
       "6708  0.269053            2782.694092  2811.0\n",
       "6709  0.308024            2917.067139  2978.0\n",
       "6710  0.382787            3174.849121  3230.0\n",
       "6711  0.462640            3450.180908  3369.0\n",
       "\n",
       "[6712 rows x 3 columns]"
      ]
     },
     "execution_count": 14,
     "metadata": {},
     "output_type": "execute_result"
    }
   ],
   "source": [
    "dic_pred = {\n",
    "    'y_pred': y_pred.flatten(),\n",
    "    'y_pred_scaled_inverse': y_pred_scaled_inverse.flatten(),\n",
    "    'y_true': y_true.flatten(),\n",
    "}\n",
    "\n",
    "df_pred = pd.DataFrame(dic_pred)\n",
    "df_pred"
   ]
  },
  {
   "attachments": {},
   "cell_type": "markdown",
   "id": "3029ee1e",
   "metadata": {
    "papermill": {
     "duration": 0.016643,
     "end_time": "2023-12-13T13:12:15.239086",
     "exception": false,
     "start_time": "2023-12-13T13:12:15.222443",
     "status": "completed"
    },
    "tags": []
   },
   "source": [
    "#### Evaluate Model"
   ]
  },
  {
   "cell_type": "code",
   "execution_count": 15,
   "id": "5e0892d6",
   "metadata": {
    "execution": {
     "iopub.execute_input": "2023-12-13T13:12:15.258116Z",
     "iopub.status.busy": "2023-12-13T13:12:15.258116Z",
     "iopub.status.idle": "2023-12-13T13:12:15.273579Z",
     "shell.execute_reply": "2023-12-13T13:12:15.273579Z"
    },
    "papermill": {
     "duration": 0.036493,
     "end_time": "2023-12-13T13:12:15.275579",
     "exception": false,
     "start_time": "2023-12-13T13:12:15.239086",
     "status": "completed"
    },
    "tags": []
   },
   "outputs": [],
   "source": [
    "from sklearn.metrics import mean_squared_error"
   ]
  },
  {
   "cell_type": "code",
   "execution_count": 16,
   "id": "4ae7483f",
   "metadata": {
    "execution": {
     "iopub.execute_input": "2023-12-13T13:12:15.289375Z",
     "iopub.status.busy": "2023-12-13T13:12:15.289375Z",
     "iopub.status.idle": "2023-12-13T13:12:15.304982Z",
     "shell.execute_reply": "2023-12-13T13:12:15.304380Z"
    },
    "papermill": {
     "duration": 0.024403,
     "end_time": "2023-12-13T13:12:15.306984",
     "exception": false,
     "start_time": "2023-12-13T13:12:15.282581",
     "status": "completed"
    },
    "tags": []
   },
   "outputs": [
    {
     "data": {
      "text/plain": [
       "44.47707914241907"
      ]
     },
     "execution_count": 16,
     "metadata": {},
     "output_type": "execute_result"
    }
   ],
   "source": [
    "mean_squared_error(df_pred.y_true, df_pred.y_pred_scaled_inverse, squared=False)"
   ]
  },
  {
   "cell_type": "code",
   "execution_count": 17,
   "id": "d162fa02",
   "metadata": {
    "execution": {
     "iopub.execute_input": "2023-12-13T13:12:15.328314Z",
     "iopub.status.busy": "2023-12-13T13:12:15.328314Z",
     "iopub.status.idle": "2023-12-13T13:12:15.434337Z",
     "shell.execute_reply": "2023-12-13T13:12:15.434337Z"
    },
    "papermill": {
     "duration": 0.127637,
     "end_time": "2023-12-13T13:12:15.436337",
     "exception": false,
     "start_time": "2023-12-13T13:12:15.308700",
     "status": "completed"
    },
    "tags": []
   },
   "outputs": [],
   "source": [
    "model.save(f'../models/{region}.keras')"
   ]
  }
 ],
 "metadata": {
  "kernelspec": {
   "display_name": "deep-learning",
   "language": "python",
   "name": "python3"
  },
  "language_info": {
   "codemirror_mode": {
    "name": "ipython",
    "version": 3
   },
   "file_extension": ".py",
   "mimetype": "text/x-python",
   "name": "python",
   "nbconvert_exporter": "python",
   "pygments_lexer": "ipython3",
   "version": "3.7.12"
  },
  "papermill": {
   "default_parameters": {},
   "duration": 179.594028,
   "end_time": "2023-12-13T13:12:16.017555",
   "environment_variables": {},
   "exception": null,
   "input_path": "Modelling.ipynb",
   "output_path": "outputs/DEOK.ipynb",
   "parameters": {
    "region": "DEOK"
   },
   "start_time": "2023-12-13T13:09:16.423527",
   "version": "2.4.0"
  }
 },
 "nbformat": 4,
 "nbformat_minor": 5
}