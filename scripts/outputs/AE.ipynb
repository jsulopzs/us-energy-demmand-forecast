{
 "cells": [
  {
   "attachments": {},
   "cell_type": "markdown",
   "id": "69ccfc1b",
   "metadata": {
    "papermill": {
     "duration": 0.00732,
     "end_time": "2023-11-26T16:46:48.359243",
     "exception": false,
     "start_time": "2023-11-26T16:46:48.351923",
     "status": "completed"
    },
    "tags": []
   },
   "source": [
    "## Load data"
   ]
  },
  {
   "cell_type": "code",
   "execution_count": 1,
   "id": "3450e7b0",
   "metadata": {
    "execution": {
     "iopub.execute_input": "2023-11-26T16:46:48.375196Z",
     "iopub.status.busy": "2023-11-26T16:46:48.374652Z",
     "iopub.status.idle": "2023-11-26T16:46:48.987887Z",
     "shell.execute_reply": "2023-11-26T16:46:48.987248Z"
    },
    "papermill": {
     "duration": 0.623256,
     "end_time": "2023-11-26T16:46:48.990128",
     "exception": false,
     "start_time": "2023-11-26T16:46:48.366872",
     "status": "completed"
    },
    "tags": []
   },
   "outputs": [],
   "source": [
    "import pandas as pd"
   ]
  },
  {
   "cell_type": "code",
   "execution_count": 2,
   "id": "bdb06583",
   "metadata": {
    "execution": {
     "iopub.execute_input": "2023-11-26T16:46:49.000597Z",
     "iopub.status.busy": "2023-11-26T16:46:49.000286Z",
     "iopub.status.idle": "2023-11-26T16:46:49.145178Z",
     "shell.execute_reply": "2023-11-26T16:46:49.144519Z"
    },
    "papermill": {
     "duration": 0.152275,
     "end_time": "2023-11-26T16:46:49.147298",
     "exception": false,
     "start_time": "2023-11-26T16:46:48.995023",
     "status": "completed"
    },
    "tags": []
   },
   "outputs": [
    {
     "data": {
      "text/html": [
       "<div>\n",
       "<style scoped>\n",
       "    .dataframe tbody tr th:only-of-type {\n",
       "        vertical-align: middle;\n",
       "    }\n",
       "\n",
       "    .dataframe tbody tr th {\n",
       "        vertical-align: top;\n",
       "    }\n",
       "\n",
       "    .dataframe thead th {\n",
       "        text-align: right;\n",
       "    }\n",
       "</style>\n",
       "<table border=\"1\" class=\"dataframe\">\n",
       "  <thead>\n",
       "    <tr style=\"text-align: right;\">\n",
       "      <th></th>\n",
       "      <th>AE</th>\n",
       "      <th>AEP</th>\n",
       "      <th>AP</th>\n",
       "      <th>ATSI</th>\n",
       "      <th>BC</th>\n",
       "      <th>CE</th>\n",
       "      <th>DAY</th>\n",
       "      <th>DEOK</th>\n",
       "      <th>DOM</th>\n",
       "      <th>DPL</th>\n",
       "      <th>DUQ</th>\n",
       "      <th>EKPC</th>\n",
       "      <th>JC</th>\n",
       "      <th>ME</th>\n",
       "      <th>PE</th>\n",
       "      <th>PEP</th>\n",
       "      <th>PL</th>\n",
       "      <th>PN</th>\n",
       "      <th>PS</th>\n",
       "      <th>RECO</th>\n",
       "    </tr>\n",
       "    <tr>\n",
       "      <th>period</th>\n",
       "      <th></th>\n",
       "      <th></th>\n",
       "      <th></th>\n",
       "      <th></th>\n",
       "      <th></th>\n",
       "      <th></th>\n",
       "      <th></th>\n",
       "      <th></th>\n",
       "      <th></th>\n",
       "      <th></th>\n",
       "      <th></th>\n",
       "      <th></th>\n",
       "      <th></th>\n",
       "      <th></th>\n",
       "      <th></th>\n",
       "      <th></th>\n",
       "      <th></th>\n",
       "      <th></th>\n",
       "      <th></th>\n",
       "      <th></th>\n",
       "    </tr>\n",
       "  </thead>\n",
       "  <tbody>\n",
       "    <tr>\n",
       "      <th>2018-07-01 05:00:00</th>\n",
       "      <td>1301</td>\n",
       "      <td>12187</td>\n",
       "      <td>4384</td>\n",
       "      <td>6960</td>\n",
       "      <td>3134</td>\n",
       "      <td>12136</td>\n",
       "      <td>1619</td>\n",
       "      <td>2895</td>\n",
       "      <td>9775</td>\n",
       "      <td>1919</td>\n",
       "      <td>1466</td>\n",
       "      <td>1209</td>\n",
       "      <td>2388</td>\n",
       "      <td>1442</td>\n",
       "      <td>4397</td>\n",
       "      <td>3165</td>\n",
       "      <td>3835</td>\n",
       "      <td>1611</td>\n",
       "      <td>5009</td>\n",
       "      <td>186</td>\n",
       "    </tr>\n",
       "    <tr>\n",
       "      <th>2018-07-01 06:00:00</th>\n",
       "      <td>1314</td>\n",
       "      <td>11946</td>\n",
       "      <td>4391</td>\n",
       "      <td>6762</td>\n",
       "      <td>3139</td>\n",
       "      <td>11872</td>\n",
       "      <td>1605</td>\n",
       "      <td>2857</td>\n",
       "      <td>9787</td>\n",
       "      <td>1950</td>\n",
       "      <td>1455</td>\n",
       "      <td>1197</td>\n",
       "      <td>2416</td>\n",
       "      <td>1465</td>\n",
       "      <td>4423</td>\n",
       "      <td>3156</td>\n",
       "      <td>3901</td>\n",
       "      <td>1641</td>\n",
       "      <td>4990</td>\n",
       "      <td>187</td>\n",
       "    </tr>\n",
       "    <tr>\n",
       "      <th>2018-07-01 07:00:00</th>\n",
       "      <td>1410</td>\n",
       "      <td>12664</td>\n",
       "      <td>4757</td>\n",
       "      <td>6670</td>\n",
       "      <td>3377</td>\n",
       "      <td>11992</td>\n",
       "      <td>1707</td>\n",
       "      <td>2997</td>\n",
       "      <td>10453</td>\n",
       "      <td>2160</td>\n",
       "      <td>1528</td>\n",
       "      <td>1273</td>\n",
       "      <td>2644</td>\n",
       "      <td>1605</td>\n",
       "      <td>4743</td>\n",
       "      <td>3332</td>\n",
       "      <td>4232</td>\n",
       "      <td>1728</td>\n",
       "      <td>5267</td>\n",
       "      <td>202</td>\n",
       "    </tr>\n",
       "    <tr>\n",
       "      <th>2018-07-01 08:00:00</th>\n",
       "      <td>1567</td>\n",
       "      <td>14069</td>\n",
       "      <td>5308</td>\n",
       "      <td>7065</td>\n",
       "      <td>3788</td>\n",
       "      <td>12860</td>\n",
       "      <td>1916</td>\n",
       "      <td>3331</td>\n",
       "      <td>11734</td>\n",
       "      <td>2470</td>\n",
       "      <td>1688</td>\n",
       "      <td>1472</td>\n",
       "      <td>3064</td>\n",
       "      <td>1784</td>\n",
       "      <td>5230</td>\n",
       "      <td>3679</td>\n",
       "      <td>4613</td>\n",
       "      <td>1899</td>\n",
       "      <td>5735</td>\n",
       "      <td>230</td>\n",
       "    </tr>\n",
       "    <tr>\n",
       "      <th>2018-07-01 09:00:00</th>\n",
       "      <td>1749</td>\n",
       "      <td>15610</td>\n",
       "      <td>5862</td>\n",
       "      <td>7833</td>\n",
       "      <td>4262</td>\n",
       "      <td>14212</td>\n",
       "      <td>2145</td>\n",
       "      <td>3703</td>\n",
       "      <td>13084</td>\n",
       "      <td>2765</td>\n",
       "      <td>1875</td>\n",
       "      <td>1656</td>\n",
       "      <td>3569</td>\n",
       "      <td>1972</td>\n",
       "      <td>5752</td>\n",
       "      <td>4085</td>\n",
       "      <td>5014</td>\n",
       "      <td>2055</td>\n",
       "      <td>6299</td>\n",
       "      <td>259</td>\n",
       "    </tr>\n",
       "  </tbody>\n",
       "</table>\n",
       "</div>"
      ],
      "text/plain": [
       "                       AE    AEP    AP  ATSI    BC     CE   DAY  DEOK    DOM  \\\n",
       "period                                                                         \n",
       "2018-07-01 05:00:00  1301  12187  4384  6960  3134  12136  1619  2895   9775   \n",
       "2018-07-01 06:00:00  1314  11946  4391  6762  3139  11872  1605  2857   9787   \n",
       "2018-07-01 07:00:00  1410  12664  4757  6670  3377  11992  1707  2997  10453   \n",
       "2018-07-01 08:00:00  1567  14069  5308  7065  3788  12860  1916  3331  11734   \n",
       "2018-07-01 09:00:00  1749  15610  5862  7833  4262  14212  2145  3703  13084   \n",
       "\n",
       "                      DPL   DUQ  EKPC    JC    ME    PE   PEP    PL    PN  \\\n",
       "period                                                                      \n",
       "2018-07-01 05:00:00  1919  1466  1209  2388  1442  4397  3165  3835  1611   \n",
       "2018-07-01 06:00:00  1950  1455  1197  2416  1465  4423  3156  3901  1641   \n",
       "2018-07-01 07:00:00  2160  1528  1273  2644  1605  4743  3332  4232  1728   \n",
       "2018-07-01 08:00:00  2470  1688  1472  3064  1784  5230  3679  4613  1899   \n",
       "2018-07-01 09:00:00  2765  1875  1656  3569  1972  5752  4085  5014  2055   \n",
       "\n",
       "                       PS  RECO  \n",
       "period                           \n",
       "2018-07-01 05:00:00  5009   186  \n",
       "2018-07-01 06:00:00  4990   187  \n",
       "2018-07-01 07:00:00  5267   202  \n",
       "2018-07-01 08:00:00  5735   230  \n",
       "2018-07-01 09:00:00  6299   259  "
      ]
     },
     "execution_count": 2,
     "metadata": {},
     "output_type": "execute_result"
    }
   ],
   "source": [
    "df_base = pd.read_csv('../data/pjm_pivot.csv', index_col=0, parse_dates=True)\n",
    "df_base.head()"
   ]
  },
  {
   "attachments": {},
   "cell_type": "markdown",
   "id": "970b4f94",
   "metadata": {
    "papermill": {
     "duration": 0.004284,
     "end_time": "2023-11-26T16:46:49.156796",
     "exception": false,
     "start_time": "2023-11-26T16:46:49.152512",
     "status": "completed"
    },
    "tags": []
   },
   "source": [
    "## Select region"
   ]
  },
  {
   "cell_type": "code",
   "execution_count": 3,
   "id": "d071dd40",
   "metadata": {
    "execution": {
     "iopub.execute_input": "2023-11-26T16:46:49.167738Z",
     "iopub.status.busy": "2023-11-26T16:46:49.167352Z",
     "iopub.status.idle": "2023-11-26T16:46:49.171464Z",
     "shell.execute_reply": "2023-11-26T16:46:49.170806Z"
    },
    "papermill": {
     "duration": 0.012214,
     "end_time": "2023-11-26T16:46:49.173165",
     "exception": false,
     "start_time": "2023-11-26T16:46:49.160951",
     "status": "completed"
    },
    "tags": [
     "parameters"
    ]
   },
   "outputs": [],
   "source": [
    "region = 'AE'"
   ]
  },
  {
   "cell_type": "code",
   "execution_count": 4,
   "id": "c0056a25",
   "metadata": {
    "execution": {
     "iopub.execute_input": "2023-11-26T16:46:49.183085Z",
     "iopub.status.busy": "2023-11-26T16:46:49.182563Z",
     "iopub.status.idle": "2023-11-26T16:46:49.185981Z",
     "shell.execute_reply": "2023-11-26T16:46:49.185341Z"
    },
    "papermill": {
     "duration": 0.010169,
     "end_time": "2023-11-26T16:46:49.187674",
     "exception": false,
     "start_time": "2023-11-26T16:46:49.177505",
     "status": "completed"
    },
    "tags": [
     "injected-parameters"
    ]
   },
   "outputs": [],
   "source": [
    "# Parameters\n",
    "region = \"AE\"\n"
   ]
  },
  {
   "cell_type": "code",
   "execution_count": 5,
   "id": "1e13aabb",
   "metadata": {
    "execution": {
     "iopub.execute_input": "2023-11-26T16:46:49.197612Z",
     "iopub.status.busy": "2023-11-26T16:46:49.197305Z",
     "iopub.status.idle": "2023-11-26T16:46:49.205793Z",
     "shell.execute_reply": "2023-11-26T16:46:49.205145Z"
    },
    "papermill": {
     "duration": 0.016189,
     "end_time": "2023-11-26T16:46:49.207807",
     "exception": false,
     "start_time": "2023-11-26T16:46:49.191618",
     "status": "completed"
    },
    "tags": []
   },
   "outputs": [
    {
     "data": {
      "text/html": [
       "<div>\n",
       "<style scoped>\n",
       "    .dataframe tbody tr th:only-of-type {\n",
       "        vertical-align: middle;\n",
       "    }\n",
       "\n",
       "    .dataframe tbody tr th {\n",
       "        vertical-align: top;\n",
       "    }\n",
       "\n",
       "    .dataframe thead th {\n",
       "        text-align: right;\n",
       "    }\n",
       "</style>\n",
       "<table border=\"1\" class=\"dataframe\">\n",
       "  <thead>\n",
       "    <tr style=\"text-align: right;\">\n",
       "      <th></th>\n",
       "      <th>AE</th>\n",
       "    </tr>\n",
       "    <tr>\n",
       "      <th>period</th>\n",
       "      <th></th>\n",
       "    </tr>\n",
       "  </thead>\n",
       "  <tbody>\n",
       "    <tr>\n",
       "      <th>2018-07-01 05:00:00</th>\n",
       "      <td>1301</td>\n",
       "    </tr>\n",
       "    <tr>\n",
       "      <th>2018-07-01 06:00:00</th>\n",
       "      <td>1314</td>\n",
       "    </tr>\n",
       "    <tr>\n",
       "      <th>2018-07-01 07:00:00</th>\n",
       "      <td>1410</td>\n",
       "    </tr>\n",
       "    <tr>\n",
       "      <th>2018-07-01 08:00:00</th>\n",
       "      <td>1567</td>\n",
       "    </tr>\n",
       "    <tr>\n",
       "      <th>2018-07-01 09:00:00</th>\n",
       "      <td>1749</td>\n",
       "    </tr>\n",
       "    <tr>\n",
       "      <th>...</th>\n",
       "      <td>...</td>\n",
       "    </tr>\n",
       "    <tr>\n",
       "      <th>2023-11-01 00:00:00</th>\n",
       "      <td>1160</td>\n",
       "    </tr>\n",
       "    <tr>\n",
       "      <th>2023-11-01 01:00:00</th>\n",
       "      <td>1152</td>\n",
       "    </tr>\n",
       "    <tr>\n",
       "      <th>2023-11-01 02:00:00</th>\n",
       "      <td>1113</td>\n",
       "    </tr>\n",
       "    <tr>\n",
       "      <th>2023-11-01 03:00:00</th>\n",
       "      <td>1049</td>\n",
       "    </tr>\n",
       "    <tr>\n",
       "      <th>2023-11-01 04:00:00</th>\n",
       "      <td>990</td>\n",
       "    </tr>\n",
       "  </tbody>\n",
       "</table>\n",
       "<p>44904 rows × 1 columns</p>\n",
       "</div>"
      ],
      "text/plain": [
       "                       AE\n",
       "period                   \n",
       "2018-07-01 05:00:00  1301\n",
       "2018-07-01 06:00:00  1314\n",
       "2018-07-01 07:00:00  1410\n",
       "2018-07-01 08:00:00  1567\n",
       "2018-07-01 09:00:00  1749\n",
       "...                   ...\n",
       "2023-11-01 00:00:00  1160\n",
       "2023-11-01 01:00:00  1152\n",
       "2023-11-01 02:00:00  1113\n",
       "2023-11-01 03:00:00  1049\n",
       "2023-11-01 04:00:00   990\n",
       "\n",
       "[44904 rows x 1 columns]"
      ]
     },
     "execution_count": 5,
     "metadata": {},
     "output_type": "execute_result"
    }
   ],
   "source": [
    "df = df_base.loc[:, [region]]\n",
    "df"
   ]
  },
  {
   "attachments": {},
   "cell_type": "markdown",
   "id": "00dfb866",
   "metadata": {
    "papermill": {
     "duration": 0.025909,
     "end_time": "2023-11-26T16:46:49.257278",
     "exception": false,
     "start_time": "2023-11-26T16:46:49.231369",
     "status": "completed"
    },
    "tags": []
   },
   "source": [
    "## Data Preprocessing"
   ]
  },
  {
   "attachments": {},
   "cell_type": "markdown",
   "id": "ae40e99c",
   "metadata": {
    "papermill": {
     "duration": 0.006167,
     "end_time": "2023-11-26T16:46:49.272349",
     "exception": false,
     "start_time": "2023-11-26T16:46:49.266182",
     "status": "completed"
    },
    "tags": []
   },
   "source": [
    "### Scale Data"
   ]
  },
  {
   "cell_type": "code",
   "execution_count": 6,
   "id": "ed9748ce",
   "metadata": {
    "execution": {
     "iopub.execute_input": "2023-11-26T16:46:49.282868Z",
     "iopub.status.busy": "2023-11-26T16:46:49.282407Z",
     "iopub.status.idle": "2023-11-26T16:46:49.885024Z",
     "shell.execute_reply": "2023-11-26T16:46:49.884360Z"
    },
    "papermill": {
     "duration": 0.610088,
     "end_time": "2023-11-26T16:46:49.887097",
     "exception": false,
     "start_time": "2023-11-26T16:46:49.277009",
     "status": "completed"
    },
    "tags": []
   },
   "outputs": [],
   "source": [
    "from sklearn.preprocessing import MinMaxScaler\n",
    "\n",
    "# Normalize data\n",
    "scaler = MinMaxScaler(feature_range=(0, 1))\n",
    "data_norm = scaler.fit_transform(df)"
   ]
  },
  {
   "attachments": {},
   "cell_type": "markdown",
   "id": "2bb62bc6",
   "metadata": {
    "papermill": {
     "duration": 0.026999,
     "end_time": "2023-11-26T16:46:49.936650",
     "exception": false,
     "start_time": "2023-11-26T16:46:49.909651",
     "status": "completed"
    },
    "tags": []
   },
   "source": [
    "### Train Test Split"
   ]
  },
  {
   "cell_type": "code",
   "execution_count": 7,
   "id": "e0c6b9d5",
   "metadata": {
    "execution": {
     "iopub.execute_input": "2023-11-26T16:46:49.989204Z",
     "iopub.status.busy": "2023-11-26T16:46:49.988594Z",
     "iopub.status.idle": "2023-11-26T16:46:50.039971Z",
     "shell.execute_reply": "2023-11-26T16:46:50.039118Z"
    },
    "papermill": {
     "duration": 0.081919,
     "end_time": "2023-11-26T16:46:50.042405",
     "exception": false,
     "start_time": "2023-11-26T16:46:49.960486",
     "status": "completed"
    },
    "tags": []
   },
   "outputs": [],
   "source": [
    "from sklearn.model_selection import train_test_split\n",
    "\n",
    "train, test = train_test_split(data_norm, test_size=0.2, shuffle=False)"
   ]
  },
  {
   "attachments": {},
   "cell_type": "markdown",
   "id": "7d569ea9",
   "metadata": {
    "papermill": {
     "duration": 0.005031,
     "end_time": "2023-11-26T16:46:50.052378",
     "exception": false,
     "start_time": "2023-11-26T16:46:50.047347",
     "status": "completed"
    },
    "tags": []
   },
   "source": [
    "### Create Sequences"
   ]
  },
  {
   "cell_type": "code",
   "execution_count": 8,
   "id": "204529eb",
   "metadata": {
    "execution": {
     "iopub.execute_input": "2023-11-26T16:46:50.062388Z",
     "iopub.status.busy": "2023-11-26T16:46:50.062091Z",
     "iopub.status.idle": "2023-11-26T16:46:50.139180Z",
     "shell.execute_reply": "2023-11-26T16:46:50.138230Z"
    },
    "papermill": {
     "duration": 0.085897,
     "end_time": "2023-11-26T16:46:50.142348",
     "exception": false,
     "start_time": "2023-11-26T16:46:50.056451",
     "status": "completed"
    },
    "tags": []
   },
   "outputs": [],
   "source": [
    "import numpy as np\n",
    "\n",
    "def create_sequences(data, sequence_length):\n",
    "    X, y = [], []\n",
    "    for i in range(len(data) - sequence_length):\n",
    "        X.append(data[i:i+sequence_length])\n",
    "        y.append(data[i+sequence_length])\n",
    "    return np.array(X), np.array(y)\n",
    "\n",
    "sequence_length = 24 # Use 24 hours prior to predict the following hour\n",
    "X_train, y_train = create_sequences(train, sequence_length)\n",
    "X_test, y_test = create_sequences(test, sequence_length)"
   ]
  },
  {
   "attachments": {},
   "cell_type": "markdown",
   "id": "bab620e0",
   "metadata": {
    "papermill": {
     "duration": 0.005217,
     "end_time": "2023-11-26T16:46:50.152989",
     "exception": false,
     "start_time": "2023-11-26T16:46:50.147772",
     "status": "completed"
    },
    "tags": []
   },
   "source": [
    "## Modelling"
   ]
  },
  {
   "attachments": {},
   "cell_type": "markdown",
   "id": "07d1dfc6",
   "metadata": {
    "papermill": {
     "duration": 0.004584,
     "end_time": "2023-11-26T16:46:50.161773",
     "exception": false,
     "start_time": "2023-11-26T16:46:50.157189",
     "status": "completed"
    },
    "tags": []
   },
   "source": [
    "### Design NN Architecture"
   ]
  },
  {
   "cell_type": "code",
   "execution_count": 9,
   "id": "60e68727",
   "metadata": {
    "execution": {
     "iopub.execute_input": "2023-11-26T16:46:50.172375Z",
     "iopub.status.busy": "2023-11-26T16:46:50.172064Z",
     "iopub.status.idle": "2023-11-26T16:46:55.346548Z",
     "shell.execute_reply": "2023-11-26T16:46:55.345861Z"
    },
    "papermill": {
     "duration": 5.182769,
     "end_time": "2023-11-26T16:46:55.348869",
     "exception": false,
     "start_time": "2023-11-26T16:46:50.166100",
     "status": "completed"
    },
    "tags": []
   },
   "outputs": [
    {
     "name": "stderr",
     "output_type": "stream",
     "text": [
      "2023-11-26 17:46:52.479585: I tensorflow/core/platform/cpu_feature_guard.cc:182] This TensorFlow binary is optimized to use available CPU instructions in performance-critical operations.\n",
      "To enable the following instructions: AVX2 FMA, in other operations, rebuild TensorFlow with the appropriate compiler flags.\n"
     ]
    }
   ],
   "source": [
    "from keras.models import Sequential\n",
    "from keras.layers import LSTM, Dense\n",
    "\n",
    "model = Sequential()\n",
    "model.add(LSTM(50, input_shape=(X_train.shape[1], X_train.shape[2])))\n",
    "model.add(Dense(1))\n",
    "model.compile(optimizer='adam', loss='mean_squared_error')"
   ]
  },
  {
   "attachments": {},
   "cell_type": "markdown",
   "id": "e4613568",
   "metadata": {
    "papermill": {
     "duration": 0.005474,
     "end_time": "2023-11-26T16:46:55.370761",
     "exception": false,
     "start_time": "2023-11-26T16:46:55.365287",
     "status": "completed"
    },
    "tags": []
   },
   "source": [
    "### Train Model"
   ]
  },
  {
   "cell_type": "code",
   "execution_count": 10,
   "id": "fd6aefd9",
   "metadata": {
    "execution": {
     "iopub.execute_input": "2023-11-26T16:46:55.384041Z",
     "iopub.status.busy": "2023-11-26T16:46:55.383301Z",
     "iopub.status.idle": "2023-11-26T16:49:55.649975Z",
     "shell.execute_reply": "2023-11-26T16:49:55.648876Z"
    },
    "papermill": {
     "duration": 180.27806,
     "end_time": "2023-11-26T16:49:55.653368",
     "exception": false,
     "start_time": "2023-11-26T16:46:55.375308",
     "status": "completed"
    },
    "tags": []
   },
   "outputs": [],
   "source": [
    "from keras.callbacks import EarlyStopping\n",
    "\n",
    "early_stop = EarlyStopping(monitor='val_loss', patience=5)\n",
    "\n",
    "history = model.fit(\n",
    "    X_train, y_train, epochs=50, batch_size=64, verbose=0,\n",
    "    validation_data=(X_test, y_test), callbacks=[early_stop])"
   ]
  },
  {
   "attachments": {},
   "cell_type": "markdown",
   "id": "c9a9f080",
   "metadata": {
    "papermill": {
     "duration": 0.005438,
     "end_time": "2023-11-26T16:49:55.667794",
     "exception": false,
     "start_time": "2023-11-26T16:49:55.662356",
     "status": "completed"
    },
    "tags": []
   },
   "source": [
    "### Calculate Predictions"
   ]
  },
  {
   "cell_type": "code",
   "execution_count": 11,
   "id": "80b5a0c8",
   "metadata": {
    "execution": {
     "iopub.execute_input": "2023-11-26T16:49:55.680575Z",
     "iopub.status.busy": "2023-11-26T16:49:55.680166Z",
     "iopub.status.idle": "2023-11-26T16:49:56.947399Z",
     "shell.execute_reply": "2023-11-26T16:49:56.946851Z"
    },
    "papermill": {
     "duration": 1.276639,
     "end_time": "2023-11-26T16:49:56.949163",
     "exception": false,
     "start_time": "2023-11-26T16:49:55.672524",
     "status": "completed"
    },
    "tags": []
   },
   "outputs": [
    {
     "name": "stdout",
     "output_type": "stream",
     "text": [
      "\r",
      "  1/280 [..............................] - ETA: 1:55"
     ]
    },
    {
     "name": "stdout",
     "output_type": "stream",
     "text": [
      "\b\b\b\b\b\b\b\b\b\b\b\b\b\b\b\b\b\b\b\b\b\b\b\b\b\b\b\b\b\b\b\b\b\b\b\b\b\b\b\b\b\b\b\b\b\b\b\b\b\b\b\b\r",
      " 21/280 [=>............................] - ETA: 0s  "
     ]
    },
    {
     "name": "stdout",
     "output_type": "stream",
     "text": [
      "\b\b\b\b\b\b\b\b\b\b\b\b\b\b\b\b\b\b\b\b\b\b\b\b\b\b\b\b\b\b\b\b\b\b\b\b\b\b\b\b\b\b\b\b\b\b\b\b\b\b\r",
      " 42/280 [===>..........................] - ETA: 0s"
     ]
    },
    {
     "name": "stdout",
     "output_type": "stream",
     "text": [
      "\b\b\b\b\b\b\b\b\b\b\b\b\b\b\b\b\b\b\b\b\b\b\b\b\b\b\b\b\b\b\b\b\b\b\b\b\b\b\b\b\b\b\b\b\b\b\b\b\b\b\r",
      " 62/280 [=====>........................] - ETA: 0s"
     ]
    },
    {
     "name": "stdout",
     "output_type": "stream",
     "text": [
      "\b\b\b\b\b\b\b\b\b\b\b\b\b\b\b\b\b\b\b\b\b\b\b\b\b\b\b\b\b\b\b\b\b\b\b\b\b\b\b\b\b\b\b\b\b\b\b\b\b\b\r",
      " 83/280 [=======>......................] - ETA: 0s"
     ]
    },
    {
     "name": "stdout",
     "output_type": "stream",
     "text": [
      "\b\b\b\b\b\b\b\b\b\b\b\b\b\b\b\b\b\b\b\b\b\b\b\b\b\b\b\b\b\b\b\b\b\b\b\b\b\b\b\b\b\b\b\b\b\b\b\b\b\b\r",
      "104/280 [==========>...................] - ETA: 0s"
     ]
    },
    {
     "name": "stdout",
     "output_type": "stream",
     "text": [
      "\b\b\b\b\b\b\b\b\b\b\b\b\b\b\b\b\b\b\b\b\b\b\b\b\b\b\b\b\b\b\b\b\b\b\b\b\b\b\b\b\b\b\b\b\b\b\b\b\b\b\r",
      "125/280 [============>.................] - ETA: 0s"
     ]
    },
    {
     "name": "stdout",
     "output_type": "stream",
     "text": [
      "\b\b\b\b\b\b\b\b\b\b\b\b\b\b\b\b\b\b\b\b\b\b\b\b\b\b\b\b\b\b\b\b\b\b\b\b\b\b\b\b\b\b\b\b\b\b\b\b\b\b\r",
      "145/280 [==============>...............] - ETA: 0s"
     ]
    },
    {
     "name": "stdout",
     "output_type": "stream",
     "text": [
      "\b\b\b\b\b\b\b\b\b\b\b\b\b\b\b\b\b\b\b\b\b\b\b\b\b\b\b\b\b\b\b\b\b\b\b\b\b\b\b\b\b\b\b\b\b\b\b\b\b\b\r",
      "165/280 [================>.............] - ETA: 0s"
     ]
    },
    {
     "name": "stdout",
     "output_type": "stream",
     "text": [
      "\b\b\b\b\b\b\b\b\b\b\b\b\b\b\b\b\b\b\b\b\b\b\b\b\b\b\b\b\b\b\b\b\b\b\b\b\b\b\b\b\b\b\b\b\b\b\b\b\b\b\r",
      "186/280 [==================>...........] - ETA: 0s"
     ]
    },
    {
     "name": "stdout",
     "output_type": "stream",
     "text": [
      "\b\b\b\b\b\b\b\b\b\b\b\b\b\b\b\b\b\b\b\b\b\b\b\b\b\b\b\b\b\b\b\b\b\b\b\b\b\b\b\b\b\b\b\b\b\b\b\b\b\b\r",
      "207/280 [=====================>........] - ETA: 0s"
     ]
    },
    {
     "name": "stdout",
     "output_type": "stream",
     "text": [
      "\b\b\b\b\b\b\b\b\b\b\b\b\b\b\b\b\b\b\b\b\b\b\b\b\b\b\b\b\b\b\b\b\b\b\b\b\b\b\b\b\b\b\b\b\b\b\b\b\b\b\r",
      "228/280 [=======================>......] - ETA: 0s"
     ]
    },
    {
     "name": "stdout",
     "output_type": "stream",
     "text": [
      "\b\b\b\b\b\b\b\b\b\b\b\b\b\b\b\b\b\b\b\b\b\b\b\b\b\b\b\b\b\b\b\b\b\b\b\b\b\b\b\b\b\b\b\b\b\b\b\b\b\b\r",
      "248/280 [=========================>....] - ETA: 0s"
     ]
    },
    {
     "name": "stdout",
     "output_type": "stream",
     "text": [
      "\b\b\b\b\b\b\b\b\b\b\b\b\b\b\b\b\b\b\b\b\b\b\b\b\b\b\b\b\b\b\b\b\b\b\b\b\b\b\b\b\b\b\b\b\b\b\b\b\b\b\r",
      "268/280 [===========================>..] - ETA: 0s"
     ]
    },
    {
     "name": "stdout",
     "output_type": "stream",
     "text": [
      "\b\b\b\b\b\b\b\b\b\b\b\b\b\b\b\b\b\b\b\b\b\b\b\b\b\b\b\b\b\b\b\b\b\b\b\b\b\b\b\b\b\b\b\b\b\b\b\b\b\b\r",
      "280/280 [==============================] - 1s 2ms/step\n"
     ]
    },
    {
     "data": {
      "text/plain": [
       "array([[0.2874407 ],\n",
       "       [0.27006194],\n",
       "       [0.24917369],\n",
       "       ...,\n",
       "       [0.26254278],\n",
       "       [0.23791753],\n",
       "       [0.21225582]], dtype=float32)"
      ]
     },
     "execution_count": 11,
     "metadata": {},
     "output_type": "execute_result"
    }
   ],
   "source": [
    "y_pred = model.predict(X_test)\n",
    "y_pred"
   ]
  },
  {
   "attachments": {},
   "cell_type": "markdown",
   "id": "6961b2d3",
   "metadata": {
    "papermill": {
     "duration": 0.006293,
     "end_time": "2023-11-26T16:49:56.961101",
     "exception": false,
     "start_time": "2023-11-26T16:49:56.954808",
     "status": "completed"
    },
    "tags": []
   },
   "source": [
    "### Comparison: Real Data & Prediction"
   ]
  },
  {
   "attachments": {},
   "cell_type": "markdown",
   "id": "2c56eac1",
   "metadata": {
    "papermill": {
     "duration": 0.004843,
     "end_time": "2023-11-26T16:49:56.971596",
     "exception": false,
     "start_time": "2023-11-26T16:49:56.966753",
     "status": "completed"
    },
    "tags": []
   },
   "source": [
    "#### Descale Data"
   ]
  },
  {
   "cell_type": "code",
   "execution_count": 12,
   "id": "fcf137f2",
   "metadata": {
    "execution": {
     "iopub.execute_input": "2023-11-26T16:49:56.985019Z",
     "iopub.status.busy": "2023-11-26T16:49:56.984711Z",
     "iopub.status.idle": "2023-11-26T16:49:56.990957Z",
     "shell.execute_reply": "2023-11-26T16:49:56.989406Z"
    },
    "papermill": {
     "duration": 0.015973,
     "end_time": "2023-11-26T16:49:56.994157",
     "exception": false,
     "start_time": "2023-11-26T16:49:56.978184",
     "status": "completed"
    },
    "tags": []
   },
   "outputs": [],
   "source": [
    "y_pred_scaled_inverse = scaler.inverse_transform(y_pred)\n",
    "y_true = scaler.inverse_transform(y_test)"
   ]
  },
  {
   "attachments": {},
   "cell_type": "markdown",
   "id": "3f6be814",
   "metadata": {
    "papermill": {
     "duration": 0.133125,
     "end_time": "2023-11-26T16:49:57.133423",
     "exception": false,
     "start_time": "2023-11-26T16:49:57.000298",
     "status": "completed"
    },
    "tags": []
   },
   "source": [
    "#### Create DataFrame"
   ]
  },
  {
   "cell_type": "code",
   "execution_count": 13,
   "id": "bb17479a",
   "metadata": {
    "execution": {
     "iopub.execute_input": "2023-11-26T16:49:57.150145Z",
     "iopub.status.busy": "2023-11-26T16:49:57.149605Z",
     "iopub.status.idle": "2023-11-26T16:49:57.166556Z",
     "shell.execute_reply": "2023-11-26T16:49:57.165761Z"
    },
    "papermill": {
     "duration": 0.027928,
     "end_time": "2023-11-26T16:49:57.168935",
     "exception": false,
     "start_time": "2023-11-26T16:49:57.141007",
     "status": "completed"
    },
    "tags": []
   },
   "outputs": [
    {
     "data": {
      "text/html": [
       "<div>\n",
       "<style scoped>\n",
       "    .dataframe tbody tr th:only-of-type {\n",
       "        vertical-align: middle;\n",
       "    }\n",
       "\n",
       "    .dataframe tbody tr th {\n",
       "        vertical-align: top;\n",
       "    }\n",
       "\n",
       "    .dataframe thead th {\n",
       "        text-align: right;\n",
       "    }\n",
       "</style>\n",
       "<table border=\"1\" class=\"dataframe\">\n",
       "  <thead>\n",
       "    <tr style=\"text-align: right;\">\n",
       "      <th></th>\n",
       "      <th>y_pred</th>\n",
       "      <th>y_pred_scaled_inverse</th>\n",
       "      <th>y_true</th>\n",
       "    </tr>\n",
       "  </thead>\n",
       "  <tbody>\n",
       "    <tr>\n",
       "      <th>0</th>\n",
       "      <td>0.287441</td>\n",
       "      <td>1159.862427</td>\n",
       "      <td>1170.0</td>\n",
       "    </tr>\n",
       "    <tr>\n",
       "      <th>1</th>\n",
       "      <td>0.270062</td>\n",
       "      <td>1119.543701</td>\n",
       "      <td>1134.0</td>\n",
       "    </tr>\n",
       "    <tr>\n",
       "      <th>2</th>\n",
       "      <td>0.249174</td>\n",
       "      <td>1071.082886</td>\n",
       "      <td>1083.0</td>\n",
       "    </tr>\n",
       "    <tr>\n",
       "      <th>3</th>\n",
       "      <td>0.228453</td>\n",
       "      <td>1023.012024</td>\n",
       "      <td>1034.0</td>\n",
       "    </tr>\n",
       "    <tr>\n",
       "      <th>4</th>\n",
       "      <td>0.215618</td>\n",
       "      <td>993.234131</td>\n",
       "      <td>978.0</td>\n",
       "    </tr>\n",
       "    <tr>\n",
       "      <th>...</th>\n",
       "      <td>...</td>\n",
       "      <td>...</td>\n",
       "      <td>...</td>\n",
       "    </tr>\n",
       "    <tr>\n",
       "      <th>8952</th>\n",
       "      <td>0.286276</td>\n",
       "      <td>1157.161133</td>\n",
       "      <td>1160.0</td>\n",
       "    </tr>\n",
       "    <tr>\n",
       "      <th>8953</th>\n",
       "      <td>0.269338</td>\n",
       "      <td>1117.864380</td>\n",
       "      <td>1152.0</td>\n",
       "    </tr>\n",
       "    <tr>\n",
       "      <th>8954</th>\n",
       "      <td>0.262543</td>\n",
       "      <td>1102.099243</td>\n",
       "      <td>1113.0</td>\n",
       "    </tr>\n",
       "    <tr>\n",
       "      <th>8955</th>\n",
       "      <td>0.237918</td>\n",
       "      <td>1044.968628</td>\n",
       "      <td>1049.0</td>\n",
       "    </tr>\n",
       "    <tr>\n",
       "      <th>8956</th>\n",
       "      <td>0.212256</td>\n",
       "      <td>985.433472</td>\n",
       "      <td>990.0</td>\n",
       "    </tr>\n",
       "  </tbody>\n",
       "</table>\n",
       "<p>8957 rows × 3 columns</p>\n",
       "</div>"
      ],
      "text/plain": [
       "        y_pred  y_pred_scaled_inverse  y_true\n",
       "0     0.287441            1159.862427  1170.0\n",
       "1     0.270062            1119.543701  1134.0\n",
       "2     0.249174            1071.082886  1083.0\n",
       "3     0.228453            1023.012024  1034.0\n",
       "4     0.215618             993.234131   978.0\n",
       "...        ...                    ...     ...\n",
       "8952  0.286276            1157.161133  1160.0\n",
       "8953  0.269338            1117.864380  1152.0\n",
       "8954  0.262543            1102.099243  1113.0\n",
       "8955  0.237918            1044.968628  1049.0\n",
       "8956  0.212256             985.433472   990.0\n",
       "\n",
       "[8957 rows x 3 columns]"
      ]
     },
     "execution_count": 13,
     "metadata": {},
     "output_type": "execute_result"
    }
   ],
   "source": [
    "dic_pred = {\n",
    "    'y_pred': y_pred.flatten(),\n",
    "    'y_pred_scaled_inverse': y_pred_scaled_inverse.flatten(),\n",
    "    'y_true': y_true.flatten(),\n",
    "}\n",
    "\n",
    "df_pred = pd.DataFrame(dic_pred)\n",
    "df_pred"
   ]
  },
  {
   "attachments": {},
   "cell_type": "markdown",
   "id": "1fa30a5c",
   "metadata": {
    "papermill": {
     "duration": 0.027437,
     "end_time": "2023-11-26T16:49:57.219654",
     "exception": false,
     "start_time": "2023-11-26T16:49:57.192217",
     "status": "completed"
    },
    "tags": []
   },
   "source": [
    "#### Evaluate Model"
   ]
  },
  {
   "cell_type": "code",
   "execution_count": 14,
   "id": "44717c4d",
   "metadata": {
    "execution": {
     "iopub.execute_input": "2023-11-26T16:49:57.238585Z",
     "iopub.status.busy": "2023-11-26T16:49:57.238138Z",
     "iopub.status.idle": "2023-11-26T16:49:57.241858Z",
     "shell.execute_reply": "2023-11-26T16:49:57.241223Z"
    },
    "papermill": {
     "duration": 0.014008,
     "end_time": "2023-11-26T16:49:57.244518",
     "exception": false,
     "start_time": "2023-11-26T16:49:57.230510",
     "status": "completed"
    },
    "tags": []
   },
   "outputs": [],
   "source": [
    "from sklearn.metrics import mean_squared_error"
   ]
  },
  {
   "cell_type": "code",
   "execution_count": 15,
   "id": "a38a889d",
   "metadata": {
    "execution": {
     "iopub.execute_input": "2023-11-26T16:49:57.257531Z",
     "iopub.status.busy": "2023-11-26T16:49:57.257198Z",
     "iopub.status.idle": "2023-11-26T16:49:57.263651Z",
     "shell.execute_reply": "2023-11-26T16:49:57.263131Z"
    },
    "papermill": {
     "duration": 0.014982,
     "end_time": "2023-11-26T16:49:57.265361",
     "exception": false,
     "start_time": "2023-11-26T16:49:57.250379",
     "status": "completed"
    },
    "tags": []
   },
   "outputs": [
    {
     "data": {
      "text/plain": [
       "25.799893625767005"
      ]
     },
     "execution_count": 15,
     "metadata": {},
     "output_type": "execute_result"
    }
   ],
   "source": [
    "mean_squared_error(df_pred.y_true, df_pred.y_pred_scaled_inverse, squared=False)"
   ]
  },
  {
   "cell_type": "code",
   "execution_count": 16,
   "id": "2fe41dbf",
   "metadata": {
    "execution": {
     "iopub.execute_input": "2023-11-26T16:49:57.323518Z",
     "iopub.status.busy": "2023-11-26T16:49:57.322768Z",
     "iopub.status.idle": "2023-11-26T16:49:57.363834Z",
     "shell.execute_reply": "2023-11-26T16:49:57.362988Z"
    },
    "papermill": {
     "duration": 0.073899,
     "end_time": "2023-11-26T16:49:57.365858",
     "exception": false,
     "start_time": "2023-11-26T16:49:57.291959",
     "status": "completed"
    },
    "tags": []
   },
   "outputs": [],
   "source": [
    "model.save(f'../models/{region}.keras')"
   ]
  }
 ],
 "metadata": {
  "kernelspec": {
   "display_name": "deep-learning",
   "language": "python",
   "name": "python3"
  },
  "language_info": {
   "codemirror_mode": {
    "name": "ipython",
    "version": 3
   },
   "file_extension": ".py",
   "mimetype": "text/x-python",
   "name": "python",
   "nbconvert_exporter": "python",
   "pygments_lexer": "ipython3",
   "version": "3.9.18"
  },
  "papermill": {
   "default_parameters": {},
   "duration": 191.836017,
   "end_time": "2023-11-26T16:49:58.504243",
   "environment_variables": {},
   "exception": null,
   "input_path": "Modelling.ipynb",
   "output_path": "outputs/AE.ipynb",
   "parameters": {
    "region": "AE"
   },
   "start_time": "2023-11-26T16:46:46.668226",
   "version": "2.5.0"
  }
 },
 "nbformat": 4,
 "nbformat_minor": 5
}