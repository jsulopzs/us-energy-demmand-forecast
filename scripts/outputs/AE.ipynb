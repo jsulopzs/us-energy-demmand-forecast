{
 "cells": [
  {
   "attachments": {},
   "cell_type": "markdown",
   "id": "9a0e8c33",
   "metadata": {
    "papermill": {
     "duration": 0.006003,
     "end_time": "2023-12-13T12:45:36.544910",
     "exception": false,
     "start_time": "2023-12-13T12:45:36.538907",
     "status": "completed"
    },
    "tags": []
   },
   "source": [
    "## Load data"
   ]
  },
  {
   "cell_type": "code",
   "execution_count": 1,
   "id": "92882046",
   "metadata": {
    "execution": {
     "iopub.execute_input": "2023-12-13T12:45:36.560914Z",
     "iopub.status.busy": "2023-12-13T12:45:36.560914Z",
     "iopub.status.idle": "2023-12-13T12:45:36.935694Z",
     "shell.execute_reply": "2023-12-13T12:45:36.935694Z"
    },
    "papermill": {
     "duration": 0.384783,
     "end_time": "2023-12-13T12:45:36.937696",
     "exception": false,
     "start_time": "2023-12-13T12:45:36.552913",
     "status": "completed"
    },
    "tags": []
   },
   "outputs": [],
   "source": [
    "import pandas as pd"
   ]
  },
  {
   "cell_type": "code",
   "execution_count": 2,
   "id": "dc91d953",
   "metadata": {
    "execution": {
     "iopub.execute_input": "2023-12-13T12:45:36.955700Z",
     "iopub.status.busy": "2023-12-13T12:45:36.954700Z",
     "iopub.status.idle": "2023-12-13T12:45:37.076906Z",
     "shell.execute_reply": "2023-12-13T12:45:37.076906Z"
    },
    "papermill": {
     "duration": 0.13421,
     "end_time": "2023-12-13T12:45:37.078908",
     "exception": false,
     "start_time": "2023-12-13T12:45:36.944698",
     "status": "completed"
    },
    "tags": []
   },
   "outputs": [
    {
     "data": {
      "text/html": [
       "<div>\n",
       "<style scoped>\n",
       "    .dataframe tbody tr th:only-of-type {\n",
       "        vertical-align: middle;\n",
       "    }\n",
       "\n",
       "    .dataframe tbody tr th {\n",
       "        vertical-align: top;\n",
       "    }\n",
       "\n",
       "    .dataframe thead th {\n",
       "        text-align: right;\n",
       "    }\n",
       "</style>\n",
       "<table border=\"1\" class=\"dataframe\">\n",
       "  <thead>\n",
       "    <tr style=\"text-align: right;\">\n",
       "      <th></th>\n",
       "      <th>AE</th>\n",
       "      <th>AEP</th>\n",
       "      <th>AP</th>\n",
       "      <th>ATSI</th>\n",
       "      <th>BC</th>\n",
       "      <th>CE</th>\n",
       "      <th>DAY</th>\n",
       "      <th>DEOK</th>\n",
       "      <th>DOM</th>\n",
       "      <th>DPL</th>\n",
       "      <th>DUQ</th>\n",
       "      <th>EKPC</th>\n",
       "      <th>JC</th>\n",
       "      <th>ME</th>\n",
       "      <th>PE</th>\n",
       "      <th>PEP</th>\n",
       "      <th>PL</th>\n",
       "      <th>PN</th>\n",
       "      <th>PS</th>\n",
       "      <th>RECO</th>\n",
       "    </tr>\n",
       "    <tr>\n",
       "      <th>period</th>\n",
       "      <th></th>\n",
       "      <th></th>\n",
       "      <th></th>\n",
       "      <th></th>\n",
       "      <th></th>\n",
       "      <th></th>\n",
       "      <th></th>\n",
       "      <th></th>\n",
       "      <th></th>\n",
       "      <th></th>\n",
       "      <th></th>\n",
       "      <th></th>\n",
       "      <th></th>\n",
       "      <th></th>\n",
       "      <th></th>\n",
       "      <th></th>\n",
       "      <th></th>\n",
       "      <th></th>\n",
       "      <th></th>\n",
       "      <th></th>\n",
       "    </tr>\n",
       "  </thead>\n",
       "  <tbody>\n",
       "    <tr>\n",
       "      <th>2018-07-01 05:00:00</th>\n",
       "      <td>1301</td>\n",
       "      <td>12187</td>\n",
       "      <td>4384</td>\n",
       "      <td>6960</td>\n",
       "      <td>3134</td>\n",
       "      <td>12136</td>\n",
       "      <td>1619</td>\n",
       "      <td>2895</td>\n",
       "      <td>9775</td>\n",
       "      <td>1919</td>\n",
       "      <td>1466</td>\n",
       "      <td>1209</td>\n",
       "      <td>2388</td>\n",
       "      <td>1442</td>\n",
       "      <td>4397</td>\n",
       "      <td>3165</td>\n",
       "      <td>3835</td>\n",
       "      <td>1611</td>\n",
       "      <td>5009</td>\n",
       "      <td>186</td>\n",
       "    </tr>\n",
       "    <tr>\n",
       "      <th>2018-07-01 06:00:00</th>\n",
       "      <td>1314</td>\n",
       "      <td>11946</td>\n",
       "      <td>4391</td>\n",
       "      <td>6762</td>\n",
       "      <td>3139</td>\n",
       "      <td>11872</td>\n",
       "      <td>1605</td>\n",
       "      <td>2857</td>\n",
       "      <td>9787</td>\n",
       "      <td>1950</td>\n",
       "      <td>1455</td>\n",
       "      <td>1197</td>\n",
       "      <td>2416</td>\n",
       "      <td>1465</td>\n",
       "      <td>4423</td>\n",
       "      <td>3156</td>\n",
       "      <td>3901</td>\n",
       "      <td>1641</td>\n",
       "      <td>4990</td>\n",
       "      <td>187</td>\n",
       "    </tr>\n",
       "    <tr>\n",
       "      <th>2018-07-01 07:00:00</th>\n",
       "      <td>1410</td>\n",
       "      <td>12664</td>\n",
       "      <td>4757</td>\n",
       "      <td>6670</td>\n",
       "      <td>3377</td>\n",
       "      <td>11992</td>\n",
       "      <td>1707</td>\n",
       "      <td>2997</td>\n",
       "      <td>10453</td>\n",
       "      <td>2160</td>\n",
       "      <td>1528</td>\n",
       "      <td>1273</td>\n",
       "      <td>2644</td>\n",
       "      <td>1605</td>\n",
       "      <td>4743</td>\n",
       "      <td>3332</td>\n",
       "      <td>4232</td>\n",
       "      <td>1728</td>\n",
       "      <td>5267</td>\n",
       "      <td>202</td>\n",
       "    </tr>\n",
       "    <tr>\n",
       "      <th>2018-07-01 08:00:00</th>\n",
       "      <td>1567</td>\n",
       "      <td>14069</td>\n",
       "      <td>5308</td>\n",
       "      <td>7065</td>\n",
       "      <td>3788</td>\n",
       "      <td>12860</td>\n",
       "      <td>1916</td>\n",
       "      <td>3331</td>\n",
       "      <td>11734</td>\n",
       "      <td>2470</td>\n",
       "      <td>1688</td>\n",
       "      <td>1472</td>\n",
       "      <td>3064</td>\n",
       "      <td>1784</td>\n",
       "      <td>5230</td>\n",
       "      <td>3679</td>\n",
       "      <td>4613</td>\n",
       "      <td>1899</td>\n",
       "      <td>5735</td>\n",
       "      <td>230</td>\n",
       "    </tr>\n",
       "    <tr>\n",
       "      <th>2018-07-01 09:00:00</th>\n",
       "      <td>1749</td>\n",
       "      <td>15610</td>\n",
       "      <td>5862</td>\n",
       "      <td>7833</td>\n",
       "      <td>4262</td>\n",
       "      <td>14212</td>\n",
       "      <td>2145</td>\n",
       "      <td>3703</td>\n",
       "      <td>13084</td>\n",
       "      <td>2765</td>\n",
       "      <td>1875</td>\n",
       "      <td>1656</td>\n",
       "      <td>3569</td>\n",
       "      <td>1972</td>\n",
       "      <td>5752</td>\n",
       "      <td>4085</td>\n",
       "      <td>5014</td>\n",
       "      <td>2055</td>\n",
       "      <td>6299</td>\n",
       "      <td>259</td>\n",
       "    </tr>\n",
       "  </tbody>\n",
       "</table>\n",
       "</div>"
      ],
      "text/plain": [
       "                       AE    AEP    AP  ATSI    BC     CE   DAY  DEOK    DOM  \\\n",
       "period                                                                         \n",
       "2018-07-01 05:00:00  1301  12187  4384  6960  3134  12136  1619  2895   9775   \n",
       "2018-07-01 06:00:00  1314  11946  4391  6762  3139  11872  1605  2857   9787   \n",
       "2018-07-01 07:00:00  1410  12664  4757  6670  3377  11992  1707  2997  10453   \n",
       "2018-07-01 08:00:00  1567  14069  5308  7065  3788  12860  1916  3331  11734   \n",
       "2018-07-01 09:00:00  1749  15610  5862  7833  4262  14212  2145  3703  13084   \n",
       "\n",
       "                      DPL   DUQ  EKPC    JC    ME    PE   PEP    PL    PN  \\\n",
       "period                                                                      \n",
       "2018-07-01 05:00:00  1919  1466  1209  2388  1442  4397  3165  3835  1611   \n",
       "2018-07-01 06:00:00  1950  1455  1197  2416  1465  4423  3156  3901  1641   \n",
       "2018-07-01 07:00:00  2160  1528  1273  2644  1605  4743  3332  4232  1728   \n",
       "2018-07-01 08:00:00  2470  1688  1472  3064  1784  5230  3679  4613  1899   \n",
       "2018-07-01 09:00:00  2765  1875  1656  3569  1972  5752  4085  5014  2055   \n",
       "\n",
       "                       PS  RECO  \n",
       "period                           \n",
       "2018-07-01 05:00:00  5009   186  \n",
       "2018-07-01 06:00:00  4990   187  \n",
       "2018-07-01 07:00:00  5267   202  \n",
       "2018-07-01 08:00:00  5735   230  \n",
       "2018-07-01 09:00:00  6299   259  "
      ]
     },
     "execution_count": 2,
     "metadata": {},
     "output_type": "execute_result"
    }
   ],
   "source": [
    "df_base = pd.read_csv('../data/general/pjm_pivot.csv', index_col=0, parse_dates=True)\n",
    "df_base.head()"
   ]
  },
  {
   "attachments": {},
   "cell_type": "markdown",
   "id": "70499816",
   "metadata": {
    "papermill": {
     "duration": 0.007001,
     "end_time": "2023-12-13T12:45:37.092912",
     "exception": false,
     "start_time": "2023-12-13T12:45:37.085911",
     "status": "completed"
    },
    "tags": []
   },
   "source": [
    "## Select region"
   ]
  },
  {
   "cell_type": "code",
   "execution_count": 3,
   "id": "1e6e2fc4",
   "metadata": {
    "execution": {
     "iopub.execute_input": "2023-12-13T12:45:37.109916Z",
     "iopub.status.busy": "2023-12-13T12:45:37.109916Z",
     "iopub.status.idle": "2023-12-13T12:45:37.124554Z",
     "shell.execute_reply": "2023-12-13T12:45:37.124554Z"
    },
    "papermill": {
     "duration": 0.02564,
     "end_time": "2023-12-13T12:45:37.126554",
     "exception": false,
     "start_time": "2023-12-13T12:45:37.100914",
     "status": "completed"
    },
    "tags": [
     "parameters"
    ]
   },
   "outputs": [],
   "source": [
    "region = 'AE'"
   ]
  },
  {
   "cell_type": "code",
   "execution_count": 4,
   "id": "02424a9b",
   "metadata": {
    "execution": {
     "iopub.execute_input": "2023-12-13T12:45:37.141558Z",
     "iopub.status.busy": "2023-12-13T12:45:37.141558Z",
     "iopub.status.idle": "2023-12-13T12:45:37.155550Z",
     "shell.execute_reply": "2023-12-13T12:45:37.155550Z"
    },
    "papermill": {
     "duration": 0.024994,
     "end_time": "2023-12-13T12:45:37.157550",
     "exception": false,
     "start_time": "2023-12-13T12:45:37.132556",
     "status": "completed"
    },
    "tags": [
     "injected-parameters"
    ]
   },
   "outputs": [],
   "source": [
    "# Parameters\n",
    "region = \"AE\"\n"
   ]
  },
  {
   "cell_type": "code",
   "execution_count": 5,
   "id": "15316e62",
   "metadata": {
    "execution": {
     "iopub.execute_input": "2023-12-13T12:45:37.172553Z",
     "iopub.status.busy": "2023-12-13T12:45:37.172553Z",
     "iopub.status.idle": "2023-12-13T12:45:37.187507Z",
     "shell.execute_reply": "2023-12-13T12:45:37.187507Z"
    },
    "papermill": {
     "duration": 0.025957,
     "end_time": "2023-12-13T12:45:37.189508",
     "exception": false,
     "start_time": "2023-12-13T12:45:37.163551",
     "status": "completed"
    },
    "tags": []
   },
   "outputs": [
    {
     "data": {
      "text/html": [
       "<div>\n",
       "<style scoped>\n",
       "    .dataframe tbody tr th:only-of-type {\n",
       "        vertical-align: middle;\n",
       "    }\n",
       "\n",
       "    .dataframe tbody tr th {\n",
       "        vertical-align: top;\n",
       "    }\n",
       "\n",
       "    .dataframe thead th {\n",
       "        text-align: right;\n",
       "    }\n",
       "</style>\n",
       "<table border=\"1\" class=\"dataframe\">\n",
       "  <thead>\n",
       "    <tr style=\"text-align: right;\">\n",
       "      <th></th>\n",
       "      <th>AE</th>\n",
       "    </tr>\n",
       "    <tr>\n",
       "      <th>period</th>\n",
       "      <th></th>\n",
       "    </tr>\n",
       "  </thead>\n",
       "  <tbody>\n",
       "    <tr>\n",
       "      <th>2018-07-01 05:00:00</th>\n",
       "      <td>1301</td>\n",
       "    </tr>\n",
       "    <tr>\n",
       "      <th>2018-07-01 06:00:00</th>\n",
       "      <td>1314</td>\n",
       "    </tr>\n",
       "    <tr>\n",
       "      <th>2018-07-01 07:00:00</th>\n",
       "      <td>1410</td>\n",
       "    </tr>\n",
       "    <tr>\n",
       "      <th>2018-07-01 08:00:00</th>\n",
       "      <td>1567</td>\n",
       "    </tr>\n",
       "    <tr>\n",
       "      <th>2018-07-01 09:00:00</th>\n",
       "      <td>1749</td>\n",
       "    </tr>\n",
       "    <tr>\n",
       "      <th>...</th>\n",
       "      <td>...</td>\n",
       "    </tr>\n",
       "    <tr>\n",
       "      <th>2023-11-01 00:00:00</th>\n",
       "      <td>1160</td>\n",
       "    </tr>\n",
       "    <tr>\n",
       "      <th>2023-11-01 01:00:00</th>\n",
       "      <td>1152</td>\n",
       "    </tr>\n",
       "    <tr>\n",
       "      <th>2023-11-01 02:00:00</th>\n",
       "      <td>1113</td>\n",
       "    </tr>\n",
       "    <tr>\n",
       "      <th>2023-11-01 03:00:00</th>\n",
       "      <td>1049</td>\n",
       "    </tr>\n",
       "    <tr>\n",
       "      <th>2023-11-01 04:00:00</th>\n",
       "      <td>990</td>\n",
       "    </tr>\n",
       "  </tbody>\n",
       "</table>\n",
       "<p>44904 rows × 1 columns</p>\n",
       "</div>"
      ],
      "text/plain": [
       "                       AE\n",
       "period                   \n",
       "2018-07-01 05:00:00  1301\n",
       "2018-07-01 06:00:00  1314\n",
       "2018-07-01 07:00:00  1410\n",
       "2018-07-01 08:00:00  1567\n",
       "2018-07-01 09:00:00  1749\n",
       "...                   ...\n",
       "2023-11-01 00:00:00  1160\n",
       "2023-11-01 01:00:00  1152\n",
       "2023-11-01 02:00:00  1113\n",
       "2023-11-01 03:00:00  1049\n",
       "2023-11-01 04:00:00   990\n",
       "\n",
       "[44904 rows x 1 columns]"
      ]
     },
     "execution_count": 5,
     "metadata": {},
     "output_type": "execute_result"
    }
   ],
   "source": [
    "df = df_base.loc[:, [region]]\n",
    "df"
   ]
  },
  {
   "attachments": {},
   "cell_type": "markdown",
   "id": "273820bd",
   "metadata": {
    "papermill": {
     "duration": 0.007005,
     "end_time": "2023-12-13T12:45:37.203514",
     "exception": false,
     "start_time": "2023-12-13T12:45:37.196509",
     "status": "completed"
    },
    "tags": []
   },
   "source": [
    "## Data Preprocessing"
   ]
  },
  {
   "cell_type": "markdown",
   "id": "92d17c52",
   "metadata": {
    "papermill": {
     "duration": 0.007506,
     "end_time": "2023-12-13T12:45:37.219021",
     "exception": false,
     "start_time": "2023-12-13T12:45:37.211515",
     "status": "completed"
    },
    "tags": []
   },
   "source": [
    "### Train Test Split"
   ]
  },
  {
   "cell_type": "code",
   "execution_count": 6,
   "id": "b0060bc2",
   "metadata": {
    "execution": {
     "iopub.execute_input": "2023-12-13T12:45:37.238025Z",
     "iopub.status.busy": "2023-12-13T12:45:37.238025Z",
     "iopub.status.idle": "2023-12-13T12:45:37.709880Z",
     "shell.execute_reply": "2023-12-13T12:45:37.709880Z"
    },
    "papermill": {
     "duration": 0.483856,
     "end_time": "2023-12-13T12:45:37.711880",
     "exception": false,
     "start_time": "2023-12-13T12:45:37.228024",
     "status": "completed"
    },
    "tags": []
   },
   "outputs": [],
   "source": [
    "from sklearn.model_selection import train_test_split\n",
    "\n",
    "train, test = train_test_split(df, test_size=0.3, shuffle=False)\n",
    "test, prod = train_test_split(test, test_size=0.5, shuffle=False)"
   ]
  },
  {
   "cell_type": "markdown",
   "id": "165a3f1d",
   "metadata": {
    "papermill": {
     "duration": 0.007001,
     "end_time": "2023-12-13T12:45:37.726388",
     "exception": false,
     "start_time": "2023-12-13T12:45:37.719387",
     "status": "completed"
    },
    "tags": []
   },
   "source": [
    "### Export Data"
   ]
  },
  {
   "cell_type": "code",
   "execution_count": 7,
   "id": "4b86d510",
   "metadata": {
    "execution": {
     "iopub.execute_input": "2023-12-13T12:45:37.743393Z",
     "iopub.status.busy": "2023-12-13T12:45:37.742391Z",
     "iopub.status.idle": "2023-12-13T12:45:37.853915Z",
     "shell.execute_reply": "2023-12-13T12:45:37.852915Z"
    },
    "papermill": {
     "duration": 0.121524,
     "end_time": "2023-12-13T12:45:37.855915",
     "exception": false,
     "start_time": "2023-12-13T12:45:37.734391",
     "status": "completed"
    },
    "tags": []
   },
   "outputs": [],
   "source": [
    "import os\n",
    "\n",
    "path_region = f'../data/regions/{region}'\n",
    "\n",
    "if not os.path.exists(path_region):\n",
    "    os.makedirs(path_region)\n",
    "\n",
    "for df, name in zip([train, test, prod], ['train', 'test', 'prod']):\n",
    "    df.to_csv(f'{path_region}/{name}.csv')"
   ]
  },
  {
   "attachments": {},
   "cell_type": "markdown",
   "id": "9b990fc2",
   "metadata": {
    "papermill": {
     "duration": 0.007002,
     "end_time": "2023-12-13T12:45:37.869919",
     "exception": false,
     "start_time": "2023-12-13T12:45:37.862917",
     "status": "completed"
    },
    "tags": []
   },
   "source": [
    "### Scale Data"
   ]
  },
  {
   "cell_type": "code",
   "execution_count": 8,
   "id": "7958c771",
   "metadata": {
    "execution": {
     "iopub.execute_input": "2023-12-13T12:45:37.883922Z",
     "iopub.status.busy": "2023-12-13T12:45:37.883922Z",
     "iopub.status.idle": "2023-12-13T12:45:37.901927Z",
     "shell.execute_reply": "2023-12-13T12:45:37.900926Z"
    },
    "papermill": {
     "duration": 0.028007,
     "end_time": "2023-12-13T12:45:37.903927",
     "exception": false,
     "start_time": "2023-12-13T12:45:37.875920",
     "status": "completed"
    },
    "tags": []
   },
   "outputs": [],
   "source": [
    "from sklearn.preprocessing import MinMaxScaler\n",
    "\n",
    "scaler = MinMaxScaler(feature_range=(0, 1))\n",
    "\n",
    "train_norm = scaler.fit_transform(train)\n",
    "test_norm = scaler.transform(test)"
   ]
  },
  {
   "attachments": {},
   "cell_type": "markdown",
   "id": "dc9bcbe8",
   "metadata": {
    "papermill": {
     "duration": 0.006506,
     "end_time": "2023-12-13T12:45:37.916434",
     "exception": false,
     "start_time": "2023-12-13T12:45:37.909928",
     "status": "completed"
    },
    "tags": []
   },
   "source": [
    "### Create Sequences"
   ]
  },
  {
   "cell_type": "code",
   "execution_count": 9,
   "id": "14f7d094",
   "metadata": {
    "execution": {
     "iopub.execute_input": "2023-12-13T12:45:37.938440Z",
     "iopub.status.busy": "2023-12-13T12:45:37.937438Z",
     "iopub.status.idle": "2023-12-13T12:45:38.012456Z",
     "shell.execute_reply": "2023-12-13T12:45:38.012456Z"
    },
    "papermill": {
     "duration": 0.087021,
     "end_time": "2023-12-13T12:45:38.014457",
     "exception": false,
     "start_time": "2023-12-13T12:45:37.927436",
     "status": "completed"
    },
    "tags": []
   },
   "outputs": [],
   "source": [
    "import numpy as np\n",
    "\n",
    "def create_sequences(data, sequence_length):\n",
    "    X, y = [], []\n",
    "    for i in range(len(data) - sequence_length):\n",
    "        X.append(data[i:i+sequence_length])\n",
    "        y.append(data[i+sequence_length])\n",
    "    return np.array(X), np.array(y)\n",
    "\n",
    "sequence_length = 24 # Use 24 hours prior to predict the following hour\n",
    "X_train, y_train = create_sequences(train_norm, sequence_length)\n",
    "X_test, y_test = create_sequences(test_norm, sequence_length)"
   ]
  },
  {
   "attachments": {},
   "cell_type": "markdown",
   "id": "cb812fab",
   "metadata": {
    "papermill": {
     "duration": 0.007002,
     "end_time": "2023-12-13T12:45:38.029736",
     "exception": false,
     "start_time": "2023-12-13T12:45:38.022734",
     "status": "completed"
    },
    "tags": []
   },
   "source": [
    "## Modelling"
   ]
  },
  {
   "attachments": {},
   "cell_type": "markdown",
   "id": "c90ccb2a",
   "metadata": {
    "papermill": {
     "duration": 0.009002,
     "end_time": "2023-12-13T12:45:38.046739",
     "exception": false,
     "start_time": "2023-12-13T12:45:38.037737",
     "status": "completed"
    },
    "tags": []
   },
   "source": [
    "### Design NN Architecture"
   ]
  },
  {
   "cell_type": "code",
   "execution_count": 10,
   "id": "7b7cb28c",
   "metadata": {
    "execution": {
     "iopub.execute_input": "2023-12-13T12:45:38.065744Z",
     "iopub.status.busy": "2023-12-13T12:45:38.065744Z",
     "iopub.status.idle": "2023-12-13T12:45:39.577908Z",
     "shell.execute_reply": "2023-12-13T12:45:39.577908Z"
    },
    "papermill": {
     "duration": 1.524168,
     "end_time": "2023-12-13T12:45:39.579910",
     "exception": false,
     "start_time": "2023-12-13T12:45:38.055742",
     "status": "completed"
    },
    "tags": []
   },
   "outputs": [
    {
     "name": "stderr",
     "output_type": "stream",
     "text": [
      "c:\\Users\\jesus\\miniconda3\\envs\\tf-base\\lib\\site-packages\\tensorflow\\python\\framework\\dtypes.py:516: FutureWarning: Passing (type, 1) or '1type' as a synonym of type is deprecated; in a future version of numpy, it will be understood as (type, (1,)) / '(1,)type'.\n",
      "  _np_qint8 = np.dtype([(\"qint8\", np.int8, 1)])\n",
      "c:\\Users\\jesus\\miniconda3\\envs\\tf-base\\lib\\site-packages\\tensorflow\\python\\framework\\dtypes.py:517: FutureWarning: Passing (type, 1) or '1type' as a synonym of type is deprecated; in a future version of numpy, it will be understood as (type, (1,)) / '(1,)type'.\n",
      "  _np_quint8 = np.dtype([(\"quint8\", np.uint8, 1)])\n",
      "c:\\Users\\jesus\\miniconda3\\envs\\tf-base\\lib\\site-packages\\tensorflow\\python\\framework\\dtypes.py:518: FutureWarning: Passing (type, 1) or '1type' as a synonym of type is deprecated; in a future version of numpy, it will be understood as (type, (1,)) / '(1,)type'.\n",
      "  _np_qint16 = np.dtype([(\"qint16\", np.int16, 1)])\n",
      "c:\\Users\\jesus\\miniconda3\\envs\\tf-base\\lib\\site-packages\\tensorflow\\python\\framework\\dtypes.py:519: FutureWarning: Passing (type, 1) or '1type' as a synonym of type is deprecated; in a future version of numpy, it will be understood as (type, (1,)) / '(1,)type'.\n",
      "  _np_quint16 = np.dtype([(\"quint16\", np.uint16, 1)])\n",
      "c:\\Users\\jesus\\miniconda3\\envs\\tf-base\\lib\\site-packages\\tensorflow\\python\\framework\\dtypes.py:520: FutureWarning: Passing (type, 1) or '1type' as a synonym of type is deprecated; in a future version of numpy, it will be understood as (type, (1,)) / '(1,)type'.\n",
      "  _np_qint32 = np.dtype([(\"qint32\", np.int32, 1)])\n",
      "c:\\Users\\jesus\\miniconda3\\envs\\tf-base\\lib\\site-packages\\tensorflow\\python\\framework\\dtypes.py:525: FutureWarning: Passing (type, 1) or '1type' as a synonym of type is deprecated; in a future version of numpy, it will be understood as (type, (1,)) / '(1,)type'.\n",
      "  np_resource = np.dtype([(\"resource\", np.ubyte, 1)])\n"
     ]
    },
    {
     "name": "stdout",
     "output_type": "stream",
     "text": [
      "WARNING:tensorflow:From c:\\Users\\jesus\\miniconda3\\envs\\tf-base\\lib\\site-packages\\tensorflow\\python\\ops\\init_ops.py:1251: calling VarianceScaling.__init__ (from tensorflow.python.ops.init_ops) with dtype is deprecated and will be removed in a future version.\n",
      "Instructions for updating:\n",
      "Call initializer instance with the dtype argument instead of passing it to the constructor\n"
     ]
    },
    {
     "name": "stderr",
     "output_type": "stream",
     "text": [
      "c:\\Users\\jesus\\miniconda3\\envs\\tf-base\\lib\\site-packages\\tensorboard\\compat\\tensorflow_stub\\dtypes.py:541: FutureWarning: Passing (type, 1) or '1type' as a synonym of type is deprecated; in a future version of numpy, it will be understood as (type, (1,)) / '(1,)type'.\n",
      "  _np_qint8 = np.dtype([(\"qint8\", np.int8, 1)])\n",
      "c:\\Users\\jesus\\miniconda3\\envs\\tf-base\\lib\\site-packages\\tensorboard\\compat\\tensorflow_stub\\dtypes.py:542: FutureWarning: Passing (type, 1) or '1type' as a synonym of type is deprecated; in a future version of numpy, it will be understood as (type, (1,)) / '(1,)type'.\n",
      "  _np_quint8 = np.dtype([(\"quint8\", np.uint8, 1)])\n",
      "c:\\Users\\jesus\\miniconda3\\envs\\tf-base\\lib\\site-packages\\tensorboard\\compat\\tensorflow_stub\\dtypes.py:543: FutureWarning: Passing (type, 1) or '1type' as a synonym of type is deprecated; in a future version of numpy, it will be understood as (type, (1,)) / '(1,)type'.\n",
      "  _np_qint16 = np.dtype([(\"qint16\", np.int16, 1)])\n",
      "c:\\Users\\jesus\\miniconda3\\envs\\tf-base\\lib\\site-packages\\tensorboard\\compat\\tensorflow_stub\\dtypes.py:544: FutureWarning: Passing (type, 1) or '1type' as a synonym of type is deprecated; in a future version of numpy, it will be understood as (type, (1,)) / '(1,)type'.\n",
      "  _np_quint16 = np.dtype([(\"quint16\", np.uint16, 1)])\n",
      "c:\\Users\\jesus\\miniconda3\\envs\\tf-base\\lib\\site-packages\\tensorboard\\compat\\tensorflow_stub\\dtypes.py:545: FutureWarning: Passing (type, 1) or '1type' as a synonym of type is deprecated; in a future version of numpy, it will be understood as (type, (1,)) / '(1,)type'.\n",
      "  _np_qint32 = np.dtype([(\"qint32\", np.int32, 1)])\n",
      "c:\\Users\\jesus\\miniconda3\\envs\\tf-base\\lib\\site-packages\\tensorboard\\compat\\tensorflow_stub\\dtypes.py:550: FutureWarning: Passing (type, 1) or '1type' as a synonym of type is deprecated; in a future version of numpy, it will be understood as (type, (1,)) / '(1,)type'.\n",
      "  np_resource = np.dtype([(\"resource\", np.ubyte, 1)])\n"
     ]
    }
   ],
   "source": [
    "from tensorflow.keras.models import Sequential\n",
    "from tensorflow.keras.layers import LSTM, Dense\n",
    "\n",
    "model = Sequential()\n",
    "model.add(LSTM(50, input_shape=(X_train.shape[1], X_train.shape[2])))\n",
    "model.add(Dense(1))\n",
    "model.compile(optimizer='adam', loss='mean_squared_error')"
   ]
  },
  {
   "attachments": {},
   "cell_type": "markdown",
   "id": "c63188f0",
   "metadata": {
    "papermill": {
     "duration": 0.007002,
     "end_time": "2023-12-13T12:45:39.594913",
     "exception": false,
     "start_time": "2023-12-13T12:45:39.587911",
     "status": "completed"
    },
    "tags": []
   },
   "source": [
    "### Train Model"
   ]
  },
  {
   "cell_type": "code",
   "execution_count": 11,
   "id": "84b93a7f",
   "metadata": {
    "execution": {
     "iopub.execute_input": "2023-12-13T12:45:39.612918Z",
     "iopub.status.busy": "2023-12-13T12:45:39.611918Z",
     "iopub.status.idle": "2023-12-13T12:47:41.607071Z",
     "shell.execute_reply": "2023-12-13T12:47:41.607071Z"
    },
    "papermill": {
     "duration": 122.004608,
     "end_time": "2023-12-13T12:47:41.608523",
     "exception": false,
     "start_time": "2023-12-13T12:45:39.603915",
     "status": "completed"
    },
    "tags": []
   },
   "outputs": [
    {
     "name": "stdout",
     "output_type": "stream",
     "text": [
      "WARNING:tensorflow:From c:\\Users\\jesus\\miniconda3\\envs\\tf-base\\lib\\site-packages\\tensorflow\\python\\ops\\math_grad.py:1250: add_dispatch_support.<locals>.wrapper (from tensorflow.python.ops.array_ops) is deprecated and will be removed in a future version.\n",
      "Instructions for updating:\n",
      "Use tf.where in 2.0, which has the same broadcast rule as np.where\n"
     ]
    }
   ],
   "source": [
    "from tensorflow.keras.callbacks import EarlyStopping\n",
    "\n",
    "early_stop = EarlyStopping(monitor='val_loss', patience=5)\n",
    "\n",
    "history = model.fit(\n",
    "    X_train, y_train, epochs=50, batch_size=64, verbose=0,\n",
    "    validation_data=(X_test, y_test), callbacks=[early_stop])"
   ]
  },
  {
   "attachments": {},
   "cell_type": "markdown",
   "id": "ca4b4ac3",
   "metadata": {
    "papermill": {
     "duration": 0.0,
     "end_time": "2023-12-13T12:47:41.608523",
     "exception": false,
     "start_time": "2023-12-13T12:47:41.608523",
     "status": "completed"
    },
    "tags": []
   },
   "source": [
    "### Calculate Predictions"
   ]
  },
  {
   "cell_type": "code",
   "execution_count": 12,
   "id": "a0328350",
   "metadata": {
    "execution": {
     "iopub.execute_input": "2023-12-13T12:47:41.625646Z",
     "iopub.status.busy": "2023-12-13T12:47:41.625646Z",
     "iopub.status.idle": "2023-12-13T12:47:42.195890Z",
     "shell.execute_reply": "2023-12-13T12:47:42.194889Z"
    },
    "papermill": {
     "duration": 0.570665,
     "end_time": "2023-12-13T12:47:42.196311",
     "exception": false,
     "start_time": "2023-12-13T12:47:41.625646",
     "status": "completed"
    },
    "tags": []
   },
   "outputs": [
    {
     "data": {
      "text/plain": [
       "array([[0.12257965],\n",
       "       [0.15864669],\n",
       "       [0.20693189],\n",
       "       ...,\n",
       "       [0.23250999],\n",
       "       [0.26075056],\n",
       "       [0.30175987]], dtype=float32)"
      ]
     },
     "execution_count": 12,
     "metadata": {},
     "output_type": "execute_result"
    }
   ],
   "source": [
    "y_pred = model.predict(X_test)\n",
    "y_pred"
   ]
  },
  {
   "attachments": {},
   "cell_type": "markdown",
   "id": "1a1d90d0",
   "metadata": {
    "papermill": {
     "duration": 0.013527,
     "end_time": "2023-12-13T12:47:42.209838",
     "exception": false,
     "start_time": "2023-12-13T12:47:42.196311",
     "status": "completed"
    },
    "tags": []
   },
   "source": [
    "### Comparison: Real Data & Prediction"
   ]
  },
  {
   "attachments": {},
   "cell_type": "markdown",
   "id": "9f25b14d",
   "metadata": {
    "papermill": {
     "duration": 0.018386,
     "end_time": "2023-12-13T12:47:42.228224",
     "exception": false,
     "start_time": "2023-12-13T12:47:42.209838",
     "status": "completed"
    },
    "tags": []
   },
   "source": [
    "#### Descale Data"
   ]
  },
  {
   "cell_type": "code",
   "execution_count": 13,
   "id": "12d0106a",
   "metadata": {
    "execution": {
     "iopub.execute_input": "2023-12-13T12:47:42.247944Z",
     "iopub.status.busy": "2023-12-13T12:47:42.246943Z",
     "iopub.status.idle": "2023-12-13T12:47:42.259838Z",
     "shell.execute_reply": "2023-12-13T12:47:42.259838Z"
    },
    "papermill": {
     "duration": 0.026126,
     "end_time": "2023-12-13T12:47:42.259838",
     "exception": false,
     "start_time": "2023-12-13T12:47:42.233712",
     "status": "completed"
    },
    "tags": []
   },
   "outputs": [],
   "source": [
    "y_pred_scaled_inverse = scaler.inverse_transform(y_pred)\n",
    "y_true = scaler.inverse_transform(y_test)"
   ]
  },
  {
   "attachments": {},
   "cell_type": "markdown",
   "id": "c04b0a06",
   "metadata": {
    "papermill": {
     "duration": 0.016636,
     "end_time": "2023-12-13T12:47:42.276474",
     "exception": false,
     "start_time": "2023-12-13T12:47:42.259838",
     "status": "completed"
    },
    "tags": []
   },
   "source": [
    "#### Create DataFrame"
   ]
  },
  {
   "cell_type": "code",
   "execution_count": 14,
   "id": "4917bcfa",
   "metadata": {
    "execution": {
     "iopub.execute_input": "2023-12-13T12:47:42.294968Z",
     "iopub.status.busy": "2023-12-13T12:47:42.294968Z",
     "iopub.status.idle": "2023-12-13T12:47:42.306971Z",
     "shell.execute_reply": "2023-12-13T12:47:42.306971Z"
    },
    "papermill": {
     "duration": 0.032496,
     "end_time": "2023-12-13T12:47:42.308970",
     "exception": false,
     "start_time": "2023-12-13T12:47:42.276474",
     "status": "completed"
    },
    "tags": []
   },
   "outputs": [
    {
     "data": {
      "text/html": [
       "<div>\n",
       "<style scoped>\n",
       "    .dataframe tbody tr th:only-of-type {\n",
       "        vertical-align: middle;\n",
       "    }\n",
       "\n",
       "    .dataframe tbody tr th {\n",
       "        vertical-align: top;\n",
       "    }\n",
       "\n",
       "    .dataframe thead th {\n",
       "        text-align: right;\n",
       "    }\n",
       "</style>\n",
       "<table border=\"1\" class=\"dataframe\">\n",
       "  <thead>\n",
       "    <tr style=\"text-align: right;\">\n",
       "      <th></th>\n",
       "      <th>y_pred</th>\n",
       "      <th>y_pred_scaled_inverse</th>\n",
       "      <th>y_true</th>\n",
       "    </tr>\n",
       "  </thead>\n",
       "  <tbody>\n",
       "    <tr>\n",
       "      <th>0</th>\n",
       "      <td>0.122580</td>\n",
       "      <td>784.404175</td>\n",
       "      <td>782.0</td>\n",
       "    </tr>\n",
       "    <tr>\n",
       "      <th>1</th>\n",
       "      <td>0.158647</td>\n",
       "      <td>867.791138</td>\n",
       "      <td>889.0</td>\n",
       "    </tr>\n",
       "    <tr>\n",
       "      <th>2</th>\n",
       "      <td>0.206932</td>\n",
       "      <td>979.426514</td>\n",
       "      <td>986.0</td>\n",
       "    </tr>\n",
       "    <tr>\n",
       "      <th>3</th>\n",
       "      <td>0.237210</td>\n",
       "      <td>1049.428833</td>\n",
       "      <td>1055.0</td>\n",
       "    </tr>\n",
       "    <tr>\n",
       "      <th>4</th>\n",
       "      <td>0.252809</td>\n",
       "      <td>1085.494385</td>\n",
       "      <td>1041.0</td>\n",
       "    </tr>\n",
       "    <tr>\n",
       "      <th>...</th>\n",
       "      <td>...</td>\n",
       "      <td>...</td>\n",
       "      <td>...</td>\n",
       "    </tr>\n",
       "    <tr>\n",
       "      <th>6707</th>\n",
       "      <td>0.209255</td>\n",
       "      <td>984.797180</td>\n",
       "      <td>969.0</td>\n",
       "    </tr>\n",
       "    <tr>\n",
       "      <th>6708</th>\n",
       "      <td>0.214262</td>\n",
       "      <td>996.373047</td>\n",
       "      <td>992.0</td>\n",
       "    </tr>\n",
       "    <tr>\n",
       "      <th>6709</th>\n",
       "      <td>0.232510</td>\n",
       "      <td>1038.563110</td>\n",
       "      <td>1046.0</td>\n",
       "    </tr>\n",
       "    <tr>\n",
       "      <th>6710</th>\n",
       "      <td>0.260751</td>\n",
       "      <td>1103.855225</td>\n",
       "      <td>1136.0</td>\n",
       "    </tr>\n",
       "    <tr>\n",
       "      <th>6711</th>\n",
       "      <td>0.301760</td>\n",
       "      <td>1198.668823</td>\n",
       "      <td>1194.0</td>\n",
       "    </tr>\n",
       "  </tbody>\n",
       "</table>\n",
       "<p>6712 rows × 3 columns</p>\n",
       "</div>"
      ],
      "text/plain": [
       "        y_pred  y_pred_scaled_inverse  y_true\n",
       "0     0.122580             784.404175   782.0\n",
       "1     0.158647             867.791138   889.0\n",
       "2     0.206932             979.426514   986.0\n",
       "3     0.237210            1049.428833  1055.0\n",
       "4     0.252809            1085.494385  1041.0\n",
       "...        ...                    ...     ...\n",
       "6707  0.209255             984.797180   969.0\n",
       "6708  0.214262             996.373047   992.0\n",
       "6709  0.232510            1038.563110  1046.0\n",
       "6710  0.260751            1103.855225  1136.0\n",
       "6711  0.301760            1198.668823  1194.0\n",
       "\n",
       "[6712 rows x 3 columns]"
      ]
     },
     "execution_count": 14,
     "metadata": {},
     "output_type": "execute_result"
    }
   ],
   "source": [
    "dic_pred = {\n",
    "    'y_pred': y_pred.flatten(),\n",
    "    'y_pred_scaled_inverse': y_pred_scaled_inverse.flatten(),\n",
    "    'y_true': y_true.flatten(),\n",
    "}\n",
    "\n",
    "df_pred = pd.DataFrame(dic_pred)\n",
    "df_pred"
   ]
  },
  {
   "attachments": {},
   "cell_type": "markdown",
   "id": "1e69680a",
   "metadata": {
    "papermill": {
     "duration": 0.008003,
     "end_time": "2023-12-13T12:47:42.324975",
     "exception": false,
     "start_time": "2023-12-13T12:47:42.316972",
     "status": "completed"
    },
    "tags": []
   },
   "source": [
    "#### Evaluate Model"
   ]
  },
  {
   "cell_type": "code",
   "execution_count": 15,
   "id": "4dd92bce",
   "metadata": {
    "execution": {
     "iopub.execute_input": "2023-12-13T12:47:42.326901Z",
     "iopub.status.busy": "2023-12-13T12:47:42.326901Z",
     "iopub.status.idle": "2023-12-13T12:47:42.345329Z",
     "shell.execute_reply": "2023-12-13T12:47:42.345329Z"
    },
    "papermill": {
     "duration": 0.018428,
     "end_time": "2023-12-13T12:47:42.345329",
     "exception": false,
     "start_time": "2023-12-13T12:47:42.326901",
     "status": "completed"
    },
    "tags": []
   },
   "outputs": [],
   "source": [
    "from sklearn.metrics import mean_squared_error"
   ]
  },
  {
   "cell_type": "code",
   "execution_count": 16,
   "id": "5eb6c524",
   "metadata": {
    "execution": {
     "iopub.execute_input": "2023-12-13T12:47:42.363673Z",
     "iopub.status.busy": "2023-12-13T12:47:42.362672Z",
     "iopub.status.idle": "2023-12-13T12:47:42.376369Z",
     "shell.execute_reply": "2023-12-13T12:47:42.376369Z"
    },
    "papermill": {
     "duration": 0.033041,
     "end_time": "2023-12-13T12:47:42.378370",
     "exception": false,
     "start_time": "2023-12-13T12:47:42.345329",
     "status": "completed"
    },
    "tags": []
   },
   "outputs": [
    {
     "data": {
      "text/plain": [
       "27.03775275943564"
      ]
     },
     "execution_count": 16,
     "metadata": {},
     "output_type": "execute_result"
    }
   ],
   "source": [
    "mean_squared_error(df_pred.y_true, df_pred.y_pred_scaled_inverse, squared=False)"
   ]
  },
  {
   "cell_type": "code",
   "execution_count": 17,
   "id": "ece8d9be",
   "metadata": {
    "execution": {
     "iopub.execute_input": "2023-12-13T12:47:42.395068Z",
     "iopub.status.busy": "2023-12-13T12:47:42.395068Z",
     "iopub.status.idle": "2023-12-13T12:47:42.493076Z",
     "shell.execute_reply": "2023-12-13T12:47:42.493076Z"
    },
    "papermill": {
     "duration": 0.110706,
     "end_time": "2023-12-13T12:47:42.496078",
     "exception": false,
     "start_time": "2023-12-13T12:47:42.385372",
     "status": "completed"
    },
    "tags": []
   },
   "outputs": [],
   "source": [
    "model.save(f'../models/{region}.keras')"
   ]
  }
 ],
 "metadata": {
  "kernelspec": {
   "display_name": "deep-learning",
   "language": "python",
   "name": "python3"
  },
  "language_info": {
   "codemirror_mode": {
    "name": "ipython",
    "version": 3
   },
   "file_extension": ".py",
   "mimetype": "text/x-python",
   "name": "python",
   "nbconvert_exporter": "python",
   "pygments_lexer": "ipython3",
   "version": "3.7.12"
  },
  "papermill": {
   "default_parameters": {},
   "duration": 127.785352,
   "end_time": "2023-12-13T12:47:42.944300",
   "environment_variables": {},
   "exception": null,
   "input_path": "Modelling.ipynb",
   "output_path": "outputs/AE.ipynb",
   "parameters": {
    "region": "AE"
   },
   "start_time": "2023-12-13T12:45:35.158948",
   "version": "2.4.0"
  }
 },
 "nbformat": 4,
 "nbformat_minor": 5
}