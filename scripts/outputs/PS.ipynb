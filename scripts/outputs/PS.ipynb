{
 "cells": [
  {
   "attachments": {},
   "cell_type": "markdown",
   "id": "4006b940",
   "metadata": {
    "papermill": {
     "duration": 0.008007,
     "end_time": "2023-11-26T17:35:32.532543",
     "exception": false,
     "start_time": "2023-11-26T17:35:32.524536",
     "status": "completed"
    },
    "tags": []
   },
   "source": [
    "## Load data"
   ]
  },
  {
   "cell_type": "code",
   "execution_count": 1,
   "id": "50f94437",
   "metadata": {
    "execution": {
     "iopub.execute_input": "2023-11-26T17:35:32.547417Z",
     "iopub.status.busy": "2023-11-26T17:35:32.547083Z",
     "iopub.status.idle": "2023-11-26T17:35:33.132003Z",
     "shell.execute_reply": "2023-11-26T17:35:33.131230Z"
    },
    "papermill": {
     "duration": 0.595845,
     "end_time": "2023-11-26T17:35:33.134133",
     "exception": false,
     "start_time": "2023-11-26T17:35:32.538288",
     "status": "completed"
    },
    "tags": []
   },
   "outputs": [],
   "source": [
    "import pandas as pd"
   ]
  },
  {
   "cell_type": "code",
   "execution_count": 2,
   "id": "e72cdb76",
   "metadata": {
    "execution": {
     "iopub.execute_input": "2023-11-26T17:35:33.145066Z",
     "iopub.status.busy": "2023-11-26T17:35:33.144710Z",
     "iopub.status.idle": "2023-11-26T17:35:33.281458Z",
     "shell.execute_reply": "2023-11-26T17:35:33.280915Z"
    },
    "papermill": {
     "duration": 0.14459,
     "end_time": "2023-11-26T17:35:33.283144",
     "exception": false,
     "start_time": "2023-11-26T17:35:33.138554",
     "status": "completed"
    },
    "tags": []
   },
   "outputs": [
    {
     "data": {
      "text/html": [
       "<div>\n",
       "<style scoped>\n",
       "    .dataframe tbody tr th:only-of-type {\n",
       "        vertical-align: middle;\n",
       "    }\n",
       "\n",
       "    .dataframe tbody tr th {\n",
       "        vertical-align: top;\n",
       "    }\n",
       "\n",
       "    .dataframe thead th {\n",
       "        text-align: right;\n",
       "    }\n",
       "</style>\n",
       "<table border=\"1\" class=\"dataframe\">\n",
       "  <thead>\n",
       "    <tr style=\"text-align: right;\">\n",
       "      <th></th>\n",
       "      <th>AE</th>\n",
       "      <th>AEP</th>\n",
       "      <th>AP</th>\n",
       "      <th>ATSI</th>\n",
       "      <th>BC</th>\n",
       "      <th>CE</th>\n",
       "      <th>DAY</th>\n",
       "      <th>DEOK</th>\n",
       "      <th>DOM</th>\n",
       "      <th>DPL</th>\n",
       "      <th>DUQ</th>\n",
       "      <th>EKPC</th>\n",
       "      <th>JC</th>\n",
       "      <th>ME</th>\n",
       "      <th>PE</th>\n",
       "      <th>PEP</th>\n",
       "      <th>PL</th>\n",
       "      <th>PN</th>\n",
       "      <th>PS</th>\n",
       "      <th>RECO</th>\n",
       "    </tr>\n",
       "    <tr>\n",
       "      <th>period</th>\n",
       "      <th></th>\n",
       "      <th></th>\n",
       "      <th></th>\n",
       "      <th></th>\n",
       "      <th></th>\n",
       "      <th></th>\n",
       "      <th></th>\n",
       "      <th></th>\n",
       "      <th></th>\n",
       "      <th></th>\n",
       "      <th></th>\n",
       "      <th></th>\n",
       "      <th></th>\n",
       "      <th></th>\n",
       "      <th></th>\n",
       "      <th></th>\n",
       "      <th></th>\n",
       "      <th></th>\n",
       "      <th></th>\n",
       "      <th></th>\n",
       "    </tr>\n",
       "  </thead>\n",
       "  <tbody>\n",
       "    <tr>\n",
       "      <th>2018-07-01 05:00:00</th>\n",
       "      <td>1301</td>\n",
       "      <td>12187</td>\n",
       "      <td>4384</td>\n",
       "      <td>6960</td>\n",
       "      <td>3134</td>\n",
       "      <td>12136</td>\n",
       "      <td>1619</td>\n",
       "      <td>2895</td>\n",
       "      <td>9775</td>\n",
       "      <td>1919</td>\n",
       "      <td>1466</td>\n",
       "      <td>1209</td>\n",
       "      <td>2388</td>\n",
       "      <td>1442</td>\n",
       "      <td>4397</td>\n",
       "      <td>3165</td>\n",
       "      <td>3835</td>\n",
       "      <td>1611</td>\n",
       "      <td>5009</td>\n",
       "      <td>186</td>\n",
       "    </tr>\n",
       "    <tr>\n",
       "      <th>2018-07-01 06:00:00</th>\n",
       "      <td>1314</td>\n",
       "      <td>11946</td>\n",
       "      <td>4391</td>\n",
       "      <td>6762</td>\n",
       "      <td>3139</td>\n",
       "      <td>11872</td>\n",
       "      <td>1605</td>\n",
       "      <td>2857</td>\n",
       "      <td>9787</td>\n",
       "      <td>1950</td>\n",
       "      <td>1455</td>\n",
       "      <td>1197</td>\n",
       "      <td>2416</td>\n",
       "      <td>1465</td>\n",
       "      <td>4423</td>\n",
       "      <td>3156</td>\n",
       "      <td>3901</td>\n",
       "      <td>1641</td>\n",
       "      <td>4990</td>\n",
       "      <td>187</td>\n",
       "    </tr>\n",
       "    <tr>\n",
       "      <th>2018-07-01 07:00:00</th>\n",
       "      <td>1410</td>\n",
       "      <td>12664</td>\n",
       "      <td>4757</td>\n",
       "      <td>6670</td>\n",
       "      <td>3377</td>\n",
       "      <td>11992</td>\n",
       "      <td>1707</td>\n",
       "      <td>2997</td>\n",
       "      <td>10453</td>\n",
       "      <td>2160</td>\n",
       "      <td>1528</td>\n",
       "      <td>1273</td>\n",
       "      <td>2644</td>\n",
       "      <td>1605</td>\n",
       "      <td>4743</td>\n",
       "      <td>3332</td>\n",
       "      <td>4232</td>\n",
       "      <td>1728</td>\n",
       "      <td>5267</td>\n",
       "      <td>202</td>\n",
       "    </tr>\n",
       "    <tr>\n",
       "      <th>2018-07-01 08:00:00</th>\n",
       "      <td>1567</td>\n",
       "      <td>14069</td>\n",
       "      <td>5308</td>\n",
       "      <td>7065</td>\n",
       "      <td>3788</td>\n",
       "      <td>12860</td>\n",
       "      <td>1916</td>\n",
       "      <td>3331</td>\n",
       "      <td>11734</td>\n",
       "      <td>2470</td>\n",
       "      <td>1688</td>\n",
       "      <td>1472</td>\n",
       "      <td>3064</td>\n",
       "      <td>1784</td>\n",
       "      <td>5230</td>\n",
       "      <td>3679</td>\n",
       "      <td>4613</td>\n",
       "      <td>1899</td>\n",
       "      <td>5735</td>\n",
       "      <td>230</td>\n",
       "    </tr>\n",
       "    <tr>\n",
       "      <th>2018-07-01 09:00:00</th>\n",
       "      <td>1749</td>\n",
       "      <td>15610</td>\n",
       "      <td>5862</td>\n",
       "      <td>7833</td>\n",
       "      <td>4262</td>\n",
       "      <td>14212</td>\n",
       "      <td>2145</td>\n",
       "      <td>3703</td>\n",
       "      <td>13084</td>\n",
       "      <td>2765</td>\n",
       "      <td>1875</td>\n",
       "      <td>1656</td>\n",
       "      <td>3569</td>\n",
       "      <td>1972</td>\n",
       "      <td>5752</td>\n",
       "      <td>4085</td>\n",
       "      <td>5014</td>\n",
       "      <td>2055</td>\n",
       "      <td>6299</td>\n",
       "      <td>259</td>\n",
       "    </tr>\n",
       "  </tbody>\n",
       "</table>\n",
       "</div>"
      ],
      "text/plain": [
       "                       AE    AEP    AP  ATSI    BC     CE   DAY  DEOK    DOM  \\\n",
       "period                                                                         \n",
       "2018-07-01 05:00:00  1301  12187  4384  6960  3134  12136  1619  2895   9775   \n",
       "2018-07-01 06:00:00  1314  11946  4391  6762  3139  11872  1605  2857   9787   \n",
       "2018-07-01 07:00:00  1410  12664  4757  6670  3377  11992  1707  2997  10453   \n",
       "2018-07-01 08:00:00  1567  14069  5308  7065  3788  12860  1916  3331  11734   \n",
       "2018-07-01 09:00:00  1749  15610  5862  7833  4262  14212  2145  3703  13084   \n",
       "\n",
       "                      DPL   DUQ  EKPC    JC    ME    PE   PEP    PL    PN  \\\n",
       "period                                                                      \n",
       "2018-07-01 05:00:00  1919  1466  1209  2388  1442  4397  3165  3835  1611   \n",
       "2018-07-01 06:00:00  1950  1455  1197  2416  1465  4423  3156  3901  1641   \n",
       "2018-07-01 07:00:00  2160  1528  1273  2644  1605  4743  3332  4232  1728   \n",
       "2018-07-01 08:00:00  2470  1688  1472  3064  1784  5230  3679  4613  1899   \n",
       "2018-07-01 09:00:00  2765  1875  1656  3569  1972  5752  4085  5014  2055   \n",
       "\n",
       "                       PS  RECO  \n",
       "period                           \n",
       "2018-07-01 05:00:00  5009   186  \n",
       "2018-07-01 06:00:00  4990   187  \n",
       "2018-07-01 07:00:00  5267   202  \n",
       "2018-07-01 08:00:00  5735   230  \n",
       "2018-07-01 09:00:00  6299   259  "
      ]
     },
     "execution_count": 2,
     "metadata": {},
     "output_type": "execute_result"
    }
   ],
   "source": [
    "df_base = pd.read_csv('../data/pjm_pivot.csv', index_col=0, parse_dates=True)\n",
    "df_base.head()"
   ]
  },
  {
   "attachments": {},
   "cell_type": "markdown",
   "id": "88ed6874",
   "metadata": {
    "papermill": {
     "duration": 0.004567,
     "end_time": "2023-11-26T17:35:33.292459",
     "exception": false,
     "start_time": "2023-11-26T17:35:33.287892",
     "status": "completed"
    },
    "tags": []
   },
   "source": [
    "## Select region"
   ]
  },
  {
   "cell_type": "code",
   "execution_count": 3,
   "id": "c452e014",
   "metadata": {
    "execution": {
     "iopub.execute_input": "2023-11-26T17:35:33.301350Z",
     "iopub.status.busy": "2023-11-26T17:35:33.301079Z",
     "iopub.status.idle": "2023-11-26T17:35:33.305491Z",
     "shell.execute_reply": "2023-11-26T17:35:33.304360Z"
    },
    "papermill": {
     "duration": 0.011807,
     "end_time": "2023-11-26T17:35:33.308015",
     "exception": false,
     "start_time": "2023-11-26T17:35:33.296208",
     "status": "completed"
    },
    "tags": [
     "parameters"
    ]
   },
   "outputs": [],
   "source": [
    "region = 'AE'"
   ]
  },
  {
   "cell_type": "code",
   "execution_count": 4,
   "id": "e943c17e",
   "metadata": {
    "execution": {
     "iopub.execute_input": "2023-11-26T17:35:33.317213Z",
     "iopub.status.busy": "2023-11-26T17:35:33.316887Z",
     "iopub.status.idle": "2023-11-26T17:35:33.321996Z",
     "shell.execute_reply": "2023-11-26T17:35:33.321213Z"
    },
    "papermill": {
     "duration": 0.012221,
     "end_time": "2023-11-26T17:35:33.324182",
     "exception": false,
     "start_time": "2023-11-26T17:35:33.311961",
     "status": "completed"
    },
    "tags": [
     "injected-parameters"
    ]
   },
   "outputs": [],
   "source": [
    "# Parameters\n",
    "region = \"PS\"\n"
   ]
  },
  {
   "cell_type": "code",
   "execution_count": 5,
   "id": "5e0dfd46",
   "metadata": {
    "execution": {
     "iopub.execute_input": "2023-11-26T17:35:33.333228Z",
     "iopub.status.busy": "2023-11-26T17:35:33.332947Z",
     "iopub.status.idle": "2023-11-26T17:35:33.343309Z",
     "shell.execute_reply": "2023-11-26T17:35:33.342364Z"
    },
    "papermill": {
     "duration": 0.017493,
     "end_time": "2023-11-26T17:35:33.345685",
     "exception": false,
     "start_time": "2023-11-26T17:35:33.328192",
     "status": "completed"
    },
    "tags": []
   },
   "outputs": [
    {
     "data": {
      "text/html": [
       "<div>\n",
       "<style scoped>\n",
       "    .dataframe tbody tr th:only-of-type {\n",
       "        vertical-align: middle;\n",
       "    }\n",
       "\n",
       "    .dataframe tbody tr th {\n",
       "        vertical-align: top;\n",
       "    }\n",
       "\n",
       "    .dataframe thead th {\n",
       "        text-align: right;\n",
       "    }\n",
       "</style>\n",
       "<table border=\"1\" class=\"dataframe\">\n",
       "  <thead>\n",
       "    <tr style=\"text-align: right;\">\n",
       "      <th></th>\n",
       "      <th>PS</th>\n",
       "    </tr>\n",
       "    <tr>\n",
       "      <th>period</th>\n",
       "      <th></th>\n",
       "    </tr>\n",
       "  </thead>\n",
       "  <tbody>\n",
       "    <tr>\n",
       "      <th>2018-07-01 05:00:00</th>\n",
       "      <td>5009</td>\n",
       "    </tr>\n",
       "    <tr>\n",
       "      <th>2018-07-01 06:00:00</th>\n",
       "      <td>4990</td>\n",
       "    </tr>\n",
       "    <tr>\n",
       "      <th>2018-07-01 07:00:00</th>\n",
       "      <td>5267</td>\n",
       "    </tr>\n",
       "    <tr>\n",
       "      <th>2018-07-01 08:00:00</th>\n",
       "      <td>5735</td>\n",
       "    </tr>\n",
       "    <tr>\n",
       "      <th>2018-07-01 09:00:00</th>\n",
       "      <td>6299</td>\n",
       "    </tr>\n",
       "    <tr>\n",
       "      <th>...</th>\n",
       "      <td>...</td>\n",
       "    </tr>\n",
       "    <tr>\n",
       "      <th>2023-11-01 00:00:00</th>\n",
       "      <td>4847</td>\n",
       "    </tr>\n",
       "    <tr>\n",
       "      <th>2023-11-01 01:00:00</th>\n",
       "      <td>4772</td>\n",
       "    </tr>\n",
       "    <tr>\n",
       "      <th>2023-11-01 02:00:00</th>\n",
       "      <td>4627</td>\n",
       "    </tr>\n",
       "    <tr>\n",
       "      <th>2023-11-01 03:00:00</th>\n",
       "      <td>4393</td>\n",
       "    </tr>\n",
       "    <tr>\n",
       "      <th>2023-11-01 04:00:00</th>\n",
       "      <td>4147</td>\n",
       "    </tr>\n",
       "  </tbody>\n",
       "</table>\n",
       "<p>44904 rows × 1 columns</p>\n",
       "</div>"
      ],
      "text/plain": [
       "                       PS\n",
       "period                   \n",
       "2018-07-01 05:00:00  5009\n",
       "2018-07-01 06:00:00  4990\n",
       "2018-07-01 07:00:00  5267\n",
       "2018-07-01 08:00:00  5735\n",
       "2018-07-01 09:00:00  6299\n",
       "...                   ...\n",
       "2023-11-01 00:00:00  4847\n",
       "2023-11-01 01:00:00  4772\n",
       "2023-11-01 02:00:00  4627\n",
       "2023-11-01 03:00:00  4393\n",
       "2023-11-01 04:00:00  4147\n",
       "\n",
       "[44904 rows x 1 columns]"
      ]
     },
     "execution_count": 5,
     "metadata": {},
     "output_type": "execute_result"
    }
   ],
   "source": [
    "df = df_base.loc[:, [region]]\n",
    "df"
   ]
  },
  {
   "attachments": {},
   "cell_type": "markdown",
   "id": "e8b496bc",
   "metadata": {
    "papermill": {
     "duration": 0.024962,
     "end_time": "2023-11-26T17:35:33.374571",
     "exception": false,
     "start_time": "2023-11-26T17:35:33.349609",
     "status": "completed"
    },
    "tags": []
   },
   "source": [
    "## Data Preprocessing"
   ]
  },
  {
   "attachments": {},
   "cell_type": "markdown",
   "id": "25045a3b",
   "metadata": {
    "papermill": {
     "duration": 0.008765,
     "end_time": "2023-11-26T17:35:33.411119",
     "exception": false,
     "start_time": "2023-11-26T17:35:33.402354",
     "status": "completed"
    },
    "tags": []
   },
   "source": [
    "### Scale Data"
   ]
  },
  {
   "cell_type": "code",
   "execution_count": 6,
   "id": "55fdb6b6",
   "metadata": {
    "execution": {
     "iopub.execute_input": "2023-11-26T17:35:33.422612Z",
     "iopub.status.busy": "2023-11-26T17:35:33.422033Z",
     "iopub.status.idle": "2023-11-26T17:35:34.087883Z",
     "shell.execute_reply": "2023-11-26T17:35:34.086997Z"
    },
    "papermill": {
     "duration": 0.674604,
     "end_time": "2023-11-26T17:35:34.090611",
     "exception": false,
     "start_time": "2023-11-26T17:35:33.416007",
     "status": "completed"
    },
    "tags": []
   },
   "outputs": [],
   "source": [
    "from sklearn.preprocessing import MinMaxScaler\n",
    "\n",
    "# Normalize data\n",
    "scaler = MinMaxScaler(feature_range=(0, 1))\n",
    "data_norm = scaler.fit_transform(df)"
   ]
  },
  {
   "attachments": {},
   "cell_type": "markdown",
   "id": "c738b183",
   "metadata": {
    "papermill": {
     "duration": 0.004857,
     "end_time": "2023-11-26T17:35:34.100763",
     "exception": false,
     "start_time": "2023-11-26T17:35:34.095906",
     "status": "completed"
    },
    "tags": []
   },
   "source": [
    "### Train Test Split"
   ]
  },
  {
   "cell_type": "code",
   "execution_count": 7,
   "id": "4b8e15c2",
   "metadata": {
    "execution": {
     "iopub.execute_input": "2023-11-26T17:35:34.204446Z",
     "iopub.status.busy": "2023-11-26T17:35:34.191013Z",
     "iopub.status.idle": "2023-11-26T17:35:34.275763Z",
     "shell.execute_reply": "2023-11-26T17:35:34.274838Z"
    },
    "papermill": {
     "duration": 0.15095,
     "end_time": "2023-11-26T17:35:34.277867",
     "exception": false,
     "start_time": "2023-11-26T17:35:34.126917",
     "status": "completed"
    },
    "tags": []
   },
   "outputs": [],
   "source": [
    "from sklearn.model_selection import train_test_split\n",
    "\n",
    "train, test = train_test_split(data_norm, test_size=0.2, shuffle=False)"
   ]
  },
  {
   "attachments": {},
   "cell_type": "markdown",
   "id": "604a5520",
   "metadata": {
    "papermill": {
     "duration": 0.006119,
     "end_time": "2023-11-26T17:35:34.288957",
     "exception": false,
     "start_time": "2023-11-26T17:35:34.282838",
     "status": "completed"
    },
    "tags": []
   },
   "source": [
    "### Create Sequences"
   ]
  },
  {
   "cell_type": "code",
   "execution_count": 8,
   "id": "90a9864d",
   "metadata": {
    "execution": {
     "iopub.execute_input": "2023-11-26T17:35:34.299670Z",
     "iopub.status.busy": "2023-11-26T17:35:34.299358Z",
     "iopub.status.idle": "2023-11-26T17:35:34.375436Z",
     "shell.execute_reply": "2023-11-26T17:35:34.374584Z"
    },
    "papermill": {
     "duration": 0.08355,
     "end_time": "2023-11-26T17:35:34.377760",
     "exception": false,
     "start_time": "2023-11-26T17:35:34.294210",
     "status": "completed"
    },
    "tags": []
   },
   "outputs": [],
   "source": [
    "import numpy as np\n",
    "\n",
    "def create_sequences(data, sequence_length):\n",
    "    X, y = [], []\n",
    "    for i in range(len(data) - sequence_length):\n",
    "        X.append(data[i:i+sequence_length])\n",
    "        y.append(data[i+sequence_length])\n",
    "    return np.array(X), np.array(y)\n",
    "\n",
    "sequence_length = 24 # Use 24 hours prior to predict the following hour\n",
    "X_train, y_train = create_sequences(train, sequence_length)\n",
    "X_test, y_test = create_sequences(test, sequence_length)"
   ]
  },
  {
   "attachments": {},
   "cell_type": "markdown",
   "id": "9250fe69",
   "metadata": {
    "papermill": {
     "duration": 0.003891,
     "end_time": "2023-11-26T17:35:34.385590",
     "exception": false,
     "start_time": "2023-11-26T17:35:34.381699",
     "status": "completed"
    },
    "tags": []
   },
   "source": [
    "## Modelling"
   ]
  },
  {
   "attachments": {},
   "cell_type": "markdown",
   "id": "ce60b6f0",
   "metadata": {
    "papermill": {
     "duration": 0.005068,
     "end_time": "2023-11-26T17:35:34.396195",
     "exception": false,
     "start_time": "2023-11-26T17:35:34.391127",
     "status": "completed"
    },
    "tags": []
   },
   "source": [
    "### Design NN Architecture"
   ]
  },
  {
   "cell_type": "code",
   "execution_count": 9,
   "id": "aa666dfa",
   "metadata": {
    "execution": {
     "iopub.execute_input": "2023-11-26T17:35:34.406292Z",
     "iopub.status.busy": "2023-11-26T17:35:34.405912Z",
     "iopub.status.idle": "2023-11-26T17:35:39.918503Z",
     "shell.execute_reply": "2023-11-26T17:35:39.917692Z"
    },
    "papermill": {
     "duration": 5.521149,
     "end_time": "2023-11-26T17:35:39.921265",
     "exception": false,
     "start_time": "2023-11-26T17:35:34.400116",
     "status": "completed"
    },
    "tags": []
   },
   "outputs": [
    {
     "name": "stderr",
     "output_type": "stream",
     "text": [
      "2023-11-26 18:35:36.737449: I tensorflow/core/platform/cpu_feature_guard.cc:182] This TensorFlow binary is optimized to use available CPU instructions in performance-critical operations.\n",
      "To enable the following instructions: AVX2 FMA, in other operations, rebuild TensorFlow with the appropriate compiler flags.\n"
     ]
    }
   ],
   "source": [
    "from keras.models import Sequential\n",
    "from keras.layers import LSTM, Dense\n",
    "\n",
    "model = Sequential()\n",
    "model.add(LSTM(50, input_shape=(X_train.shape[1], X_train.shape[2])))\n",
    "model.add(Dense(1))\n",
    "model.compile(optimizer='adam', loss='mean_squared_error')"
   ]
  },
  {
   "attachments": {},
   "cell_type": "markdown",
   "id": "a9e704e8",
   "metadata": {
    "papermill": {
     "duration": 0.004979,
     "end_time": "2023-11-26T17:35:39.932440",
     "exception": false,
     "start_time": "2023-11-26T17:35:39.927461",
     "status": "completed"
    },
    "tags": []
   },
   "source": [
    "### Train Model"
   ]
  },
  {
   "cell_type": "code",
   "execution_count": 10,
   "id": "e202f58c",
   "metadata": {
    "execution": {
     "iopub.execute_input": "2023-11-26T17:35:39.943991Z",
     "iopub.status.busy": "2023-11-26T17:35:39.943613Z",
     "iopub.status.idle": "2023-11-26T17:37:19.682810Z",
     "shell.execute_reply": "2023-11-26T17:37:19.680355Z"
    },
    "papermill": {
     "duration": 99.755323,
     "end_time": "2023-11-26T17:37:19.691837",
     "exception": false,
     "start_time": "2023-11-26T17:35:39.936514",
     "status": "completed"
    },
    "tags": []
   },
   "outputs": [],
   "source": [
    "from keras.callbacks import EarlyStopping\n",
    "\n",
    "early_stop = EarlyStopping(monitor='val_loss', patience=5)\n",
    "\n",
    "history = model.fit(\n",
    "    X_train, y_train, epochs=50, batch_size=64, verbose=0,\n",
    "    validation_data=(X_test, y_test), callbacks=[early_stop])"
   ]
  },
  {
   "attachments": {},
   "cell_type": "markdown",
   "id": "0580f6d8",
   "metadata": {
    "papermill": {
     "duration": 0.006336,
     "end_time": "2023-11-26T17:37:19.711434",
     "exception": false,
     "start_time": "2023-11-26T17:37:19.705098",
     "status": "completed"
    },
    "tags": []
   },
   "source": [
    "### Calculate Predictions"
   ]
  },
  {
   "cell_type": "code",
   "execution_count": 11,
   "id": "7ee9a385",
   "metadata": {
    "execution": {
     "iopub.execute_input": "2023-11-26T17:37:19.726070Z",
     "iopub.status.busy": "2023-11-26T17:37:19.725583Z",
     "iopub.status.idle": "2023-11-26T17:37:21.247080Z",
     "shell.execute_reply": "2023-11-26T17:37:21.246439Z"
    },
    "papermill": {
     "duration": 1.532617,
     "end_time": "2023-11-26T17:37:21.248882",
     "exception": false,
     "start_time": "2023-11-26T17:37:19.716265",
     "status": "completed"
    },
    "tags": []
   },
   "outputs": [
    {
     "name": "stdout",
     "output_type": "stream",
     "text": [
      "\r",
      "  1/280 [..............................] - ETA: 2:37"
     ]
    },
    {
     "name": "stdout",
     "output_type": "stream",
     "text": [
      "\b\b\b\b\b\b\b\b\b\b\b\b\b\b\b\b\b\b\b\b\b\b\b\b\b\b\b\b\b\b\b\b\b\b\b\b\b\b\b\b\b\b\b\b\b\b\b\b\b\b\b\b\r",
      " 20/280 [=>............................] - ETA: 0s  "
     ]
    },
    {
     "name": "stdout",
     "output_type": "stream",
     "text": [
      "\b\b\b\b\b\b\b\b\b\b\b\b\b\b\b\b\b\b\b\b\b\b\b\b\b\b\b\b\b\b\b\b\b\b\b\b\b\b\b\b\b\b\b\b\b\b\b\b\b\b\r",
      " 40/280 [===>..........................] - ETA: 0s"
     ]
    },
    {
     "name": "stdout",
     "output_type": "stream",
     "text": [
      "\b\b\b\b\b\b\b\b\b\b\b\b\b\b\b\b\b\b\b\b\b\b\b\b\b\b\b\b\b\b\b\b\b\b\b\b\b\b\b\b\b\b\b\b\b\b\b\b\b\b\r",
      " 60/280 [=====>........................] - ETA: 0s"
     ]
    },
    {
     "name": "stdout",
     "output_type": "stream",
     "text": [
      "\b\b\b\b\b\b\b\b\b\b\b\b\b\b\b\b\b\b\b\b\b\b\b\b\b\b\b\b\b\b\b\b\b\b\b\b\b\b\b\b\b\b\b\b\b\b\b\b\b\b\r",
      " 80/280 [=======>......................] - ETA: 0s"
     ]
    },
    {
     "name": "stdout",
     "output_type": "stream",
     "text": [
      "\b\b\b\b\b\b\b\b\b\b\b\b\b\b\b\b\b\b\b\b\b\b\b\b\b\b\b\b\b\b\b\b\b\b\b\b\b\b\b\b\b\b\b\b\b\b\b\b\b\b\r",
      "100/280 [=========>....................] - ETA: 0s"
     ]
    },
    {
     "name": "stdout",
     "output_type": "stream",
     "text": [
      "\b\b\b\b\b\b\b\b\b\b\b\b\b\b\b\b\b\b\b\b\b\b\b\b\b\b\b\b\b\b\b\b\b\b\b\b\b\b\b\b\b\b\b\b\b\b\b\b\b\b\r",
      "119/280 [===========>..................] - ETA: 0s"
     ]
    },
    {
     "name": "stdout",
     "output_type": "stream",
     "text": [
      "\b\b\b\b\b\b\b\b\b\b\b\b\b\b\b\b\b\b\b\b\b\b\b\b\b\b\b\b\b\b\b\b\b\b\b\b\b\b\b\b\b\b\b\b\b\b\b\b\b\b\r",
      "139/280 [=============>................] - ETA: 0s"
     ]
    },
    {
     "name": "stdout",
     "output_type": "stream",
     "text": [
      "\b\b\b\b\b\b\b\b\b\b\b\b\b\b\b\b\b\b\b\b\b\b\b\b\b\b\b\b\b\b\b\b\b\b\b\b\b\b\b\b\b\b\b\b\b\b\b\b\b\b\r",
      "158/280 [===============>..............] - ETA: 0s"
     ]
    },
    {
     "name": "stdout",
     "output_type": "stream",
     "text": [
      "\b\b\b\b\b\b\b\b\b\b\b\b\b\b\b\b\b\b\b\b\b\b\b\b\b\b\b\b\b\b\b\b\b\b\b\b\b\b\b\b\b\b\b\b\b\b\b\b\b\b\r",
      "177/280 [=================>............] - ETA: 0s"
     ]
    },
    {
     "name": "stdout",
     "output_type": "stream",
     "text": [
      "\b\b\b\b\b\b\b\b\b\b\b\b\b\b\b\b\b\b\b\b\b\b\b\b\b\b\b\b\b\b\b\b\b\b\b\b\b\b\b\b\b\b\b\b\b\b\b\b\b\b\r",
      "197/280 [====================>.........] - ETA: 0s"
     ]
    },
    {
     "name": "stdout",
     "output_type": "stream",
     "text": [
      "\b\b\b\b\b\b\b\b\b\b\b\b\b\b\b\b\b\b\b\b\b\b\b\b\b\b\b\b\b\b\b\b\b\b\b\b\b\b\b\b\b\b\b\b\b\b\b\b\b\b\r",
      "217/280 [======================>.......] - ETA: 0s"
     ]
    },
    {
     "name": "stdout",
     "output_type": "stream",
     "text": [
      "\b\b\b\b\b\b\b\b\b\b\b\b\b\b\b\b\b\b\b\b\b\b\b\b\b\b\b\b\b\b\b\b\b\b\b\b\b\b\b\b\b\b\b\b\b\b\b\b\b\b\r",
      "234/280 [========================>.....] - ETA: 0s"
     ]
    },
    {
     "name": "stdout",
     "output_type": "stream",
     "text": [
      "\b\b\b\b\b\b\b\b\b\b\b\b\b\b\b\b\b\b\b\b\b\b\b\b\b\b\b\b\b\b\b\b\b\b\b\b\b\b\b\b\b\b\b\b\b\b\b\b\b\b\r",
      "247/280 [=========================>....] - ETA: 0s"
     ]
    },
    {
     "name": "stdout",
     "output_type": "stream",
     "text": [
      "\b\b\b\b\b\b\b\b\b\b\b\b\b\b\b\b\b\b\b\b\b\b\b\b\b\b\b\b\b\b\b\b\b\b\b\b\b\b\b\b\b\b\b\b\b\b\b\b\b\b\r",
      "258/280 [==========================>...] - ETA: 0s"
     ]
    },
    {
     "name": "stdout",
     "output_type": "stream",
     "text": [
      "\b\b\b\b\b\b\b\b\b\b\b\b\b\b\b\b\b\b\b\b\b\b\b\b\b\b\b\b\b\b\b\b\b\b\b\b\b\b\b\b\b\b\b\b\b\b\b\b\b\b\r",
      "278/280 [============================>.] - ETA: 0s"
     ]
    },
    {
     "name": "stdout",
     "output_type": "stream",
     "text": [
      "\b\b\b\b\b\b\b\b\b\b\b\b\b\b\b\b\b\b\b\b\b\b\b\b\b\b\b\b\b\b\b\b\b\b\b\b\b\b\b\b\b\b\b\b\b\b\b\b\b\b\r",
      "280/280 [==============================] - 1s 3ms/step\n"
     ]
    },
    {
     "data": {
      "text/plain": [
       "array([[0.27263695],\n",
       "       [0.25183353],\n",
       "       [0.232858  ],\n",
       "       ...,\n",
       "       [0.25692716],\n",
       "       [0.23219375],\n",
       "       [0.19682865]], dtype=float32)"
      ]
     },
     "execution_count": 11,
     "metadata": {},
     "output_type": "execute_result"
    }
   ],
   "source": [
    "y_pred = model.predict(X_test)\n",
    "y_pred"
   ]
  },
  {
   "attachments": {},
   "cell_type": "markdown",
   "id": "b0f51302",
   "metadata": {
    "papermill": {
     "duration": 0.005621,
     "end_time": "2023-11-26T17:37:21.261825",
     "exception": false,
     "start_time": "2023-11-26T17:37:21.256204",
     "status": "completed"
    },
    "tags": []
   },
   "source": [
    "### Comparison: Real Data & Prediction"
   ]
  },
  {
   "attachments": {},
   "cell_type": "markdown",
   "id": "3128b073",
   "metadata": {
    "papermill": {
     "duration": 0.005651,
     "end_time": "2023-11-26T17:37:21.272489",
     "exception": false,
     "start_time": "2023-11-26T17:37:21.266838",
     "status": "completed"
    },
    "tags": []
   },
   "source": [
    "#### Descale Data"
   ]
  },
  {
   "cell_type": "code",
   "execution_count": 12,
   "id": "ba518f09",
   "metadata": {
    "execution": {
     "iopub.execute_input": "2023-11-26T17:37:21.287296Z",
     "iopub.status.busy": "2023-11-26T17:37:21.286859Z",
     "iopub.status.idle": "2023-11-26T17:37:21.293418Z",
     "shell.execute_reply": "2023-11-26T17:37:21.292722Z"
    },
    "papermill": {
     "duration": 0.017357,
     "end_time": "2023-11-26T17:37:21.295508",
     "exception": false,
     "start_time": "2023-11-26T17:37:21.278151",
     "status": "completed"
    },
    "tags": []
   },
   "outputs": [],
   "source": [
    "y_pred_scaled_inverse = scaler.inverse_transform(y_pred)\n",
    "y_true = scaler.inverse_transform(y_test)"
   ]
  },
  {
   "attachments": {},
   "cell_type": "markdown",
   "id": "c951425e",
   "metadata": {
    "papermill": {
     "duration": 0.005566,
     "end_time": "2023-11-26T17:37:21.306536",
     "exception": false,
     "start_time": "2023-11-26T17:37:21.300970",
     "status": "completed"
    },
    "tags": []
   },
   "source": [
    "#### Create DataFrame"
   ]
  },
  {
   "cell_type": "code",
   "execution_count": 13,
   "id": "df15d1f5",
   "metadata": {
    "execution": {
     "iopub.execute_input": "2023-11-26T17:37:21.318464Z",
     "iopub.status.busy": "2023-11-26T17:37:21.318176Z",
     "iopub.status.idle": "2023-11-26T17:37:21.336628Z",
     "shell.execute_reply": "2023-11-26T17:37:21.336004Z"
    },
    "papermill": {
     "duration": 0.027189,
     "end_time": "2023-11-26T17:37:21.338884",
     "exception": false,
     "start_time": "2023-11-26T17:37:21.311695",
     "status": "completed"
    },
    "tags": []
   },
   "outputs": [
    {
     "data": {
      "text/html": [
       "<div>\n",
       "<style scoped>\n",
       "    .dataframe tbody tr th:only-of-type {\n",
       "        vertical-align: middle;\n",
       "    }\n",
       "\n",
       "    .dataframe tbody tr th {\n",
       "        vertical-align: top;\n",
       "    }\n",
       "\n",
       "    .dataframe thead th {\n",
       "        text-align: right;\n",
       "    }\n",
       "</style>\n",
       "<table border=\"1\" class=\"dataframe\">\n",
       "  <thead>\n",
       "    <tr style=\"text-align: right;\">\n",
       "      <th></th>\n",
       "      <th>y_pred</th>\n",
       "      <th>y_pred_scaled_inverse</th>\n",
       "      <th>y_true</th>\n",
       "    </tr>\n",
       "  </thead>\n",
       "  <tbody>\n",
       "    <tr>\n",
       "      <th>0</th>\n",
       "      <td>0.272637</td>\n",
       "      <td>4745.419922</td>\n",
       "      <td>4753.0</td>\n",
       "    </tr>\n",
       "    <tr>\n",
       "      <th>1</th>\n",
       "      <td>0.251834</td>\n",
       "      <td>4590.871094</td>\n",
       "      <td>4620.0</td>\n",
       "    </tr>\n",
       "    <tr>\n",
       "      <th>2</th>\n",
       "      <td>0.232858</td>\n",
       "      <td>4449.902344</td>\n",
       "      <td>4419.0</td>\n",
       "    </tr>\n",
       "    <tr>\n",
       "      <th>3</th>\n",
       "      <td>0.202208</td>\n",
       "      <td>4222.206543</td>\n",
       "      <td>4202.0</td>\n",
       "    </tr>\n",
       "    <tr>\n",
       "      <th>4</th>\n",
       "      <td>0.177930</td>\n",
       "      <td>4041.845215</td>\n",
       "      <td>4013.0</td>\n",
       "    </tr>\n",
       "    <tr>\n",
       "      <th>...</th>\n",
       "      <td>...</td>\n",
       "      <td>...</td>\n",
       "      <td>...</td>\n",
       "    </tr>\n",
       "    <tr>\n",
       "      <th>8952</th>\n",
       "      <td>0.292677</td>\n",
       "      <td>4894.300293</td>\n",
       "      <td>4847.0</td>\n",
       "    </tr>\n",
       "    <tr>\n",
       "      <th>8953</th>\n",
       "      <td>0.267902</td>\n",
       "      <td>4710.246094</td>\n",
       "      <td>4772.0</td>\n",
       "    </tr>\n",
       "    <tr>\n",
       "      <th>8954</th>\n",
       "      <td>0.256927</td>\n",
       "      <td>4628.711914</td>\n",
       "      <td>4627.0</td>\n",
       "    </tr>\n",
       "    <tr>\n",
       "      <th>8955</th>\n",
       "      <td>0.232194</td>\n",
       "      <td>4444.967773</td>\n",
       "      <td>4393.0</td>\n",
       "    </tr>\n",
       "    <tr>\n",
       "      <th>8956</th>\n",
       "      <td>0.196829</td>\n",
       "      <td>4182.240234</td>\n",
       "      <td>4147.0</td>\n",
       "    </tr>\n",
       "  </tbody>\n",
       "</table>\n",
       "<p>8957 rows × 3 columns</p>\n",
       "</div>"
      ],
      "text/plain": [
       "        y_pred  y_pred_scaled_inverse  y_true\n",
       "0     0.272637            4745.419922  4753.0\n",
       "1     0.251834            4590.871094  4620.0\n",
       "2     0.232858            4449.902344  4419.0\n",
       "3     0.202208            4222.206543  4202.0\n",
       "4     0.177930            4041.845215  4013.0\n",
       "...        ...                    ...     ...\n",
       "8952  0.292677            4894.300293  4847.0\n",
       "8953  0.267902            4710.246094  4772.0\n",
       "8954  0.256927            4628.711914  4627.0\n",
       "8955  0.232194            4444.967773  4393.0\n",
       "8956  0.196829            4182.240234  4147.0\n",
       "\n",
       "[8957 rows x 3 columns]"
      ]
     },
     "execution_count": 13,
     "metadata": {},
     "output_type": "execute_result"
    }
   ],
   "source": [
    "dic_pred = {\n",
    "    'y_pred': y_pred.flatten(),\n",
    "    'y_pred_scaled_inverse': y_pred_scaled_inverse.flatten(),\n",
    "    'y_true': y_true.flatten(),\n",
    "}\n",
    "\n",
    "df_pred = pd.DataFrame(dic_pred)\n",
    "df_pred"
   ]
  },
  {
   "attachments": {},
   "cell_type": "markdown",
   "id": "d976746d",
   "metadata": {
    "papermill": {
     "duration": 0.005291,
     "end_time": "2023-11-26T17:37:21.349570",
     "exception": false,
     "start_time": "2023-11-26T17:37:21.344279",
     "status": "completed"
    },
    "tags": []
   },
   "source": [
    "#### Evaluate Model"
   ]
  },
  {
   "cell_type": "code",
   "execution_count": 14,
   "id": "d6eb5cde",
   "metadata": {
    "execution": {
     "iopub.execute_input": "2023-11-26T17:37:21.389099Z",
     "iopub.status.busy": "2023-11-26T17:37:21.388016Z",
     "iopub.status.idle": "2023-11-26T17:37:21.394555Z",
     "shell.execute_reply": "2023-11-26T17:37:21.393770Z"
    },
    "papermill": {
     "duration": 0.04194,
     "end_time": "2023-11-26T17:37:21.396729",
     "exception": false,
     "start_time": "2023-11-26T17:37:21.354789",
     "status": "completed"
    },
    "tags": []
   },
   "outputs": [],
   "source": [
    "from sklearn.metrics import mean_squared_error"
   ]
  },
  {
   "cell_type": "code",
   "execution_count": 15,
   "id": "6e80b1c6",
   "metadata": {
    "execution": {
     "iopub.execute_input": "2023-11-26T17:37:21.421510Z",
     "iopub.status.busy": "2023-11-26T17:37:21.421159Z",
     "iopub.status.idle": "2023-11-26T17:37:21.428201Z",
     "shell.execute_reply": "2023-11-26T17:37:21.427690Z"
    },
    "papermill": {
     "duration": 0.017583,
     "end_time": "2023-11-26T17:37:21.429865",
     "exception": false,
     "start_time": "2023-11-26T17:37:21.412282",
     "status": "completed"
    },
    "tags": []
   },
   "outputs": [
    {
     "data": {
      "text/plain": [
       "83.61483448321799"
      ]
     },
     "execution_count": 15,
     "metadata": {},
     "output_type": "execute_result"
    }
   ],
   "source": [
    "mean_squared_error(df_pred.y_true, df_pred.y_pred_scaled_inverse, squared=False)"
   ]
  },
  {
   "cell_type": "code",
   "execution_count": 16,
   "id": "e2a5a3cf",
   "metadata": {
    "execution": {
     "iopub.execute_input": "2023-11-26T17:37:21.486981Z",
     "iopub.status.busy": "2023-11-26T17:37:21.485332Z",
     "iopub.status.idle": "2023-11-26T17:37:21.601606Z",
     "shell.execute_reply": "2023-11-26T17:37:21.600426Z"
    },
    "papermill": {
     "duration": 0.166807,
     "end_time": "2023-11-26T17:37:21.604320",
     "exception": false,
     "start_time": "2023-11-26T17:37:21.437513",
     "status": "completed"
    },
    "tags": []
   },
   "outputs": [],
   "source": [
    "model.save(f'../models/{region}.keras')"
   ]
  }
 ],
 "metadata": {
  "kernelspec": {
   "display_name": "deep-learning",
   "language": "python",
   "name": "python3"
  },
  "language_info": {
   "codemirror_mode": {
    "name": "ipython",
    "version": 3
   },
   "file_extension": ".py",
   "mimetype": "text/x-python",
   "name": "python",
   "nbconvert_exporter": "python",
   "pygments_lexer": "ipython3",
   "version": "3.9.18"
  },
  "papermill": {
   "default_parameters": {},
   "duration": 111.786063,
   "end_time": "2023-11-26T17:37:22.961153",
   "environment_variables": {},
   "exception": null,
   "input_path": "Modelling.ipynb",
   "output_path": "outputs/PS.ipynb",
   "parameters": {
    "region": "PS"
   },
   "start_time": "2023-11-26T17:35:31.175090",
   "version": "2.5.0"
  }
 },
 "nbformat": 4,
 "nbformat_minor": 5
}