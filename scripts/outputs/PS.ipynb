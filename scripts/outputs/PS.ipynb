{
 "cells": [
  {
   "attachments": {},
   "cell_type": "markdown",
   "id": "22471bfe",
   "metadata": {
    "papermill": {
     "duration": 0.006002,
     "end_time": "2023-12-13T13:48:17.323983",
     "exception": false,
     "start_time": "2023-12-13T13:48:17.317981",
     "status": "completed"
    },
    "tags": []
   },
   "source": [
    "## Load data"
   ]
  },
  {
   "cell_type": "code",
   "execution_count": 1,
   "id": "8b17ceef",
   "metadata": {
    "execution": {
     "iopub.execute_input": "2023-12-13T13:48:17.341004Z",
     "iopub.status.busy": "2023-12-13T13:48:17.341004Z",
     "iopub.status.idle": "2023-12-13T13:48:17.683260Z",
     "shell.execute_reply": "2023-12-13T13:48:17.683260Z"
    },
    "papermill": {
     "duration": 0.35226,
     "end_time": "2023-12-13T13:48:17.685261",
     "exception": false,
     "start_time": "2023-12-13T13:48:17.333001",
     "status": "completed"
    },
    "tags": []
   },
   "outputs": [],
   "source": [
    "import pandas as pd"
   ]
  },
  {
   "cell_type": "code",
   "execution_count": 2,
   "id": "fa228602",
   "metadata": {
    "execution": {
     "iopub.execute_input": "2023-12-13T13:48:17.699851Z",
     "iopub.status.busy": "2023-12-13T13:48:17.699851Z",
     "iopub.status.idle": "2023-12-13T13:48:17.812131Z",
     "shell.execute_reply": "2023-12-13T13:48:17.812032Z"
    },
    "papermill": {
     "duration": 0.120868,
     "end_time": "2023-12-13T13:48:17.813130",
     "exception": false,
     "start_time": "2023-12-13T13:48:17.692262",
     "status": "completed"
    },
    "tags": []
   },
   "outputs": [
    {
     "data": {
      "text/html": [
       "<div>\n",
       "<style scoped>\n",
       "    .dataframe tbody tr th:only-of-type {\n",
       "        vertical-align: middle;\n",
       "    }\n",
       "\n",
       "    .dataframe tbody tr th {\n",
       "        vertical-align: top;\n",
       "    }\n",
       "\n",
       "    .dataframe thead th {\n",
       "        text-align: right;\n",
       "    }\n",
       "</style>\n",
       "<table border=\"1\" class=\"dataframe\">\n",
       "  <thead>\n",
       "    <tr style=\"text-align: right;\">\n",
       "      <th></th>\n",
       "      <th>AE</th>\n",
       "      <th>AEP</th>\n",
       "      <th>AP</th>\n",
       "      <th>ATSI</th>\n",
       "      <th>BC</th>\n",
       "      <th>CE</th>\n",
       "      <th>DAY</th>\n",
       "      <th>DEOK</th>\n",
       "      <th>DOM</th>\n",
       "      <th>DPL</th>\n",
       "      <th>DUQ</th>\n",
       "      <th>EKPC</th>\n",
       "      <th>JC</th>\n",
       "      <th>ME</th>\n",
       "      <th>PE</th>\n",
       "      <th>PEP</th>\n",
       "      <th>PL</th>\n",
       "      <th>PN</th>\n",
       "      <th>PS</th>\n",
       "      <th>RECO</th>\n",
       "    </tr>\n",
       "    <tr>\n",
       "      <th>period</th>\n",
       "      <th></th>\n",
       "      <th></th>\n",
       "      <th></th>\n",
       "      <th></th>\n",
       "      <th></th>\n",
       "      <th></th>\n",
       "      <th></th>\n",
       "      <th></th>\n",
       "      <th></th>\n",
       "      <th></th>\n",
       "      <th></th>\n",
       "      <th></th>\n",
       "      <th></th>\n",
       "      <th></th>\n",
       "      <th></th>\n",
       "      <th></th>\n",
       "      <th></th>\n",
       "      <th></th>\n",
       "      <th></th>\n",
       "      <th></th>\n",
       "    </tr>\n",
       "  </thead>\n",
       "  <tbody>\n",
       "    <tr>\n",
       "      <th>2018-07-01 05:00:00</th>\n",
       "      <td>1301</td>\n",
       "      <td>12187</td>\n",
       "      <td>4384</td>\n",
       "      <td>6960</td>\n",
       "      <td>3134</td>\n",
       "      <td>12136</td>\n",
       "      <td>1619</td>\n",
       "      <td>2895</td>\n",
       "      <td>9775</td>\n",
       "      <td>1919</td>\n",
       "      <td>1466</td>\n",
       "      <td>1209</td>\n",
       "      <td>2388</td>\n",
       "      <td>1442</td>\n",
       "      <td>4397</td>\n",
       "      <td>3165</td>\n",
       "      <td>3835</td>\n",
       "      <td>1611</td>\n",
       "      <td>5009</td>\n",
       "      <td>186</td>\n",
       "    </tr>\n",
       "    <tr>\n",
       "      <th>2018-07-01 06:00:00</th>\n",
       "      <td>1314</td>\n",
       "      <td>11946</td>\n",
       "      <td>4391</td>\n",
       "      <td>6762</td>\n",
       "      <td>3139</td>\n",
       "      <td>11872</td>\n",
       "      <td>1605</td>\n",
       "      <td>2857</td>\n",
       "      <td>9787</td>\n",
       "      <td>1950</td>\n",
       "      <td>1455</td>\n",
       "      <td>1197</td>\n",
       "      <td>2416</td>\n",
       "      <td>1465</td>\n",
       "      <td>4423</td>\n",
       "      <td>3156</td>\n",
       "      <td>3901</td>\n",
       "      <td>1641</td>\n",
       "      <td>4990</td>\n",
       "      <td>187</td>\n",
       "    </tr>\n",
       "    <tr>\n",
       "      <th>2018-07-01 07:00:00</th>\n",
       "      <td>1410</td>\n",
       "      <td>12664</td>\n",
       "      <td>4757</td>\n",
       "      <td>6670</td>\n",
       "      <td>3377</td>\n",
       "      <td>11992</td>\n",
       "      <td>1707</td>\n",
       "      <td>2997</td>\n",
       "      <td>10453</td>\n",
       "      <td>2160</td>\n",
       "      <td>1528</td>\n",
       "      <td>1273</td>\n",
       "      <td>2644</td>\n",
       "      <td>1605</td>\n",
       "      <td>4743</td>\n",
       "      <td>3332</td>\n",
       "      <td>4232</td>\n",
       "      <td>1728</td>\n",
       "      <td>5267</td>\n",
       "      <td>202</td>\n",
       "    </tr>\n",
       "    <tr>\n",
       "      <th>2018-07-01 08:00:00</th>\n",
       "      <td>1567</td>\n",
       "      <td>14069</td>\n",
       "      <td>5308</td>\n",
       "      <td>7065</td>\n",
       "      <td>3788</td>\n",
       "      <td>12860</td>\n",
       "      <td>1916</td>\n",
       "      <td>3331</td>\n",
       "      <td>11734</td>\n",
       "      <td>2470</td>\n",
       "      <td>1688</td>\n",
       "      <td>1472</td>\n",
       "      <td>3064</td>\n",
       "      <td>1784</td>\n",
       "      <td>5230</td>\n",
       "      <td>3679</td>\n",
       "      <td>4613</td>\n",
       "      <td>1899</td>\n",
       "      <td>5735</td>\n",
       "      <td>230</td>\n",
       "    </tr>\n",
       "    <tr>\n",
       "      <th>2018-07-01 09:00:00</th>\n",
       "      <td>1749</td>\n",
       "      <td>15610</td>\n",
       "      <td>5862</td>\n",
       "      <td>7833</td>\n",
       "      <td>4262</td>\n",
       "      <td>14212</td>\n",
       "      <td>2145</td>\n",
       "      <td>3703</td>\n",
       "      <td>13084</td>\n",
       "      <td>2765</td>\n",
       "      <td>1875</td>\n",
       "      <td>1656</td>\n",
       "      <td>3569</td>\n",
       "      <td>1972</td>\n",
       "      <td>5752</td>\n",
       "      <td>4085</td>\n",
       "      <td>5014</td>\n",
       "      <td>2055</td>\n",
       "      <td>6299</td>\n",
       "      <td>259</td>\n",
       "    </tr>\n",
       "  </tbody>\n",
       "</table>\n",
       "</div>"
      ],
      "text/plain": [
       "                       AE    AEP    AP  ATSI    BC     CE   DAY  DEOK    DOM  \\\n",
       "period                                                                         \n",
       "2018-07-01 05:00:00  1301  12187  4384  6960  3134  12136  1619  2895   9775   \n",
       "2018-07-01 06:00:00  1314  11946  4391  6762  3139  11872  1605  2857   9787   \n",
       "2018-07-01 07:00:00  1410  12664  4757  6670  3377  11992  1707  2997  10453   \n",
       "2018-07-01 08:00:00  1567  14069  5308  7065  3788  12860  1916  3331  11734   \n",
       "2018-07-01 09:00:00  1749  15610  5862  7833  4262  14212  2145  3703  13084   \n",
       "\n",
       "                      DPL   DUQ  EKPC    JC    ME    PE   PEP    PL    PN  \\\n",
       "period                                                                      \n",
       "2018-07-01 05:00:00  1919  1466  1209  2388  1442  4397  3165  3835  1611   \n",
       "2018-07-01 06:00:00  1950  1455  1197  2416  1465  4423  3156  3901  1641   \n",
       "2018-07-01 07:00:00  2160  1528  1273  2644  1605  4743  3332  4232  1728   \n",
       "2018-07-01 08:00:00  2470  1688  1472  3064  1784  5230  3679  4613  1899   \n",
       "2018-07-01 09:00:00  2765  1875  1656  3569  1972  5752  4085  5014  2055   \n",
       "\n",
       "                       PS  RECO  \n",
       "period                           \n",
       "2018-07-01 05:00:00  5009   186  \n",
       "2018-07-01 06:00:00  4990   187  \n",
       "2018-07-01 07:00:00  5267   202  \n",
       "2018-07-01 08:00:00  5735   230  \n",
       "2018-07-01 09:00:00  6299   259  "
      ]
     },
     "execution_count": 2,
     "metadata": {},
     "output_type": "execute_result"
    }
   ],
   "source": [
    "df_base = pd.read_csv('../data/general/pjm_pivot.csv', index_col=0, parse_dates=True)\n",
    "df_base.head()"
   ]
  },
  {
   "attachments": {},
   "cell_type": "markdown",
   "id": "a1f83548",
   "metadata": {
    "papermill": {
     "duration": 0.006027,
     "end_time": "2023-12-13T13:48:17.826328",
     "exception": false,
     "start_time": "2023-12-13T13:48:17.820301",
     "status": "completed"
    },
    "tags": []
   },
   "source": [
    "## Select region"
   ]
  },
  {
   "cell_type": "code",
   "execution_count": 3,
   "id": "6353fb4e",
   "metadata": {
    "execution": {
     "iopub.execute_input": "2023-12-13T13:48:17.844208Z",
     "iopub.status.busy": "2023-12-13T13:48:17.843207Z",
     "iopub.status.idle": "2023-12-13T13:48:17.849208Z",
     "shell.execute_reply": "2023-12-13T13:48:17.849208Z"
    },
    "papermill": {
     "duration": 0.016004,
     "end_time": "2023-12-13T13:48:17.851210",
     "exception": false,
     "start_time": "2023-12-13T13:48:17.835206",
     "status": "completed"
    },
    "tags": [
     "parameters"
    ]
   },
   "outputs": [],
   "source": [
    "region = 'AE'"
   ]
  },
  {
   "cell_type": "code",
   "execution_count": 4,
   "id": "bb8bac57",
   "metadata": {
    "execution": {
     "iopub.execute_input": "2023-12-13T13:48:17.864212Z",
     "iopub.status.busy": "2023-12-13T13:48:17.864212Z",
     "iopub.status.idle": "2023-12-13T13:48:17.881216Z",
     "shell.execute_reply": "2023-12-13T13:48:17.881216Z"
    },
    "papermill": {
     "duration": 0.026675,
     "end_time": "2023-12-13T13:48:17.883885",
     "exception": false,
     "start_time": "2023-12-13T13:48:17.857210",
     "status": "completed"
    },
    "tags": [
     "injected-parameters"
    ]
   },
   "outputs": [],
   "source": [
    "# Parameters\n",
    "region = \"PS\"\n"
   ]
  },
  {
   "cell_type": "code",
   "execution_count": 5,
   "id": "614821df",
   "metadata": {
    "execution": {
     "iopub.execute_input": "2023-12-13T13:48:17.883885Z",
     "iopub.status.busy": "2023-12-13T13:48:17.883885Z",
     "iopub.status.idle": "2023-12-13T13:48:17.916687Z",
     "shell.execute_reply": "2023-12-13T13:48:17.915944Z"
    },
    "papermill": {
     "duration": 0.034816,
     "end_time": "2023-12-13T13:48:17.918701",
     "exception": false,
     "start_time": "2023-12-13T13:48:17.883885",
     "status": "completed"
    },
    "tags": []
   },
   "outputs": [
    {
     "data": {
      "text/html": [
       "<div>\n",
       "<style scoped>\n",
       "    .dataframe tbody tr th:only-of-type {\n",
       "        vertical-align: middle;\n",
       "    }\n",
       "\n",
       "    .dataframe tbody tr th {\n",
       "        vertical-align: top;\n",
       "    }\n",
       "\n",
       "    .dataframe thead th {\n",
       "        text-align: right;\n",
       "    }\n",
       "</style>\n",
       "<table border=\"1\" class=\"dataframe\">\n",
       "  <thead>\n",
       "    <tr style=\"text-align: right;\">\n",
       "      <th></th>\n",
       "      <th>PS</th>\n",
       "    </tr>\n",
       "    <tr>\n",
       "      <th>period</th>\n",
       "      <th></th>\n",
       "    </tr>\n",
       "  </thead>\n",
       "  <tbody>\n",
       "    <tr>\n",
       "      <th>2018-07-01 05:00:00</th>\n",
       "      <td>5009</td>\n",
       "    </tr>\n",
       "    <tr>\n",
       "      <th>2018-07-01 06:00:00</th>\n",
       "      <td>4990</td>\n",
       "    </tr>\n",
       "    <tr>\n",
       "      <th>2018-07-01 07:00:00</th>\n",
       "      <td>5267</td>\n",
       "    </tr>\n",
       "    <tr>\n",
       "      <th>2018-07-01 08:00:00</th>\n",
       "      <td>5735</td>\n",
       "    </tr>\n",
       "    <tr>\n",
       "      <th>2018-07-01 09:00:00</th>\n",
       "      <td>6299</td>\n",
       "    </tr>\n",
       "    <tr>\n",
       "      <th>...</th>\n",
       "      <td>...</td>\n",
       "    </tr>\n",
       "    <tr>\n",
       "      <th>2023-11-01 00:00:00</th>\n",
       "      <td>4847</td>\n",
       "    </tr>\n",
       "    <tr>\n",
       "      <th>2023-11-01 01:00:00</th>\n",
       "      <td>4772</td>\n",
       "    </tr>\n",
       "    <tr>\n",
       "      <th>2023-11-01 02:00:00</th>\n",
       "      <td>4627</td>\n",
       "    </tr>\n",
       "    <tr>\n",
       "      <th>2023-11-01 03:00:00</th>\n",
       "      <td>4393</td>\n",
       "    </tr>\n",
       "    <tr>\n",
       "      <th>2023-11-01 04:00:00</th>\n",
       "      <td>4147</td>\n",
       "    </tr>\n",
       "  </tbody>\n",
       "</table>\n",
       "<p>44904 rows × 1 columns</p>\n",
       "</div>"
      ],
      "text/plain": [
       "                       PS\n",
       "period                   \n",
       "2018-07-01 05:00:00  5009\n",
       "2018-07-01 06:00:00  4990\n",
       "2018-07-01 07:00:00  5267\n",
       "2018-07-01 08:00:00  5735\n",
       "2018-07-01 09:00:00  6299\n",
       "...                   ...\n",
       "2023-11-01 00:00:00  4847\n",
       "2023-11-01 01:00:00  4772\n",
       "2023-11-01 02:00:00  4627\n",
       "2023-11-01 03:00:00  4393\n",
       "2023-11-01 04:00:00  4147\n",
       "\n",
       "[44904 rows x 1 columns]"
      ]
     },
     "execution_count": 5,
     "metadata": {},
     "output_type": "execute_result"
    }
   ],
   "source": [
    "df = df_base.loc[:, [region]]\n",
    "df"
   ]
  },
  {
   "attachments": {},
   "cell_type": "markdown",
   "id": "af92b172",
   "metadata": {
    "papermill": {
     "duration": 0.00731,
     "end_time": "2023-12-13T13:48:17.932580",
     "exception": false,
     "start_time": "2023-12-13T13:48:17.925270",
     "status": "completed"
    },
    "tags": []
   },
   "source": [
    "## Data Preprocessing"
   ]
  },
  {
   "cell_type": "markdown",
   "id": "c0171961",
   "metadata": {
    "papermill": {
     "duration": 0.0,
     "end_time": "2023-12-13T13:48:17.939301",
     "exception": false,
     "start_time": "2023-12-13T13:48:17.939301",
     "status": "completed"
    },
    "tags": []
   },
   "source": [
    "### Train Test Split"
   ]
  },
  {
   "cell_type": "code",
   "execution_count": 6,
   "id": "9c4489f2",
   "metadata": {
    "execution": {
     "iopub.execute_input": "2023-12-13T13:48:17.968771Z",
     "iopub.status.busy": "2023-12-13T13:48:17.967793Z",
     "iopub.status.idle": "2023-12-13T13:48:18.417574Z",
     "shell.execute_reply": "2023-12-13T13:48:18.416573Z"
    },
    "papermill": {
     "duration": 0.458805,
     "end_time": "2023-12-13T13:48:18.418575",
     "exception": false,
     "start_time": "2023-12-13T13:48:17.959770",
     "status": "completed"
    },
    "tags": []
   },
   "outputs": [],
   "source": [
    "from sklearn.model_selection import train_test_split\n",
    "\n",
    "train, test = train_test_split(df, test_size=0.3, shuffle=False)\n",
    "test, prod = train_test_split(test, test_size=0.5, shuffle=False)"
   ]
  },
  {
   "cell_type": "markdown",
   "id": "72bf70ea",
   "metadata": {
    "papermill": {
     "duration": 0.007001,
     "end_time": "2023-12-13T13:48:18.433578",
     "exception": false,
     "start_time": "2023-12-13T13:48:18.426577",
     "status": "completed"
    },
    "tags": []
   },
   "source": [
    "### Export Data"
   ]
  },
  {
   "cell_type": "code",
   "execution_count": 7,
   "id": "72978762",
   "metadata": {
    "execution": {
     "iopub.execute_input": "2023-12-13T13:48:18.454582Z",
     "iopub.status.busy": "2023-12-13T13:48:18.454582Z",
     "iopub.status.idle": "2023-12-13T13:48:18.568115Z",
     "shell.execute_reply": "2023-12-13T13:48:18.567110Z"
    },
    "papermill": {
     "duration": 0.127536,
     "end_time": "2023-12-13T13:48:18.570115",
     "exception": false,
     "start_time": "2023-12-13T13:48:18.442579",
     "status": "completed"
    },
    "tags": []
   },
   "outputs": [],
   "source": [
    "import os\n",
    "\n",
    "path_region = f'../data/regions/{region}'\n",
    "\n",
    "if not os.path.exists(path_region):\n",
    "    os.makedirs(path_region)\n",
    "\n",
    "for df, name in zip([train, test, prod], ['train', 'test', 'prod']):\n",
    "    df.to_csv(f'{path_region}/{name}.csv')"
   ]
  },
  {
   "attachments": {},
   "cell_type": "markdown",
   "id": "331e9439",
   "metadata": {
    "papermill": {
     "duration": 0.007777,
     "end_time": "2023-12-13T13:48:18.586056",
     "exception": false,
     "start_time": "2023-12-13T13:48:18.578279",
     "status": "completed"
    },
    "tags": []
   },
   "source": [
    "### Scale Data"
   ]
  },
  {
   "cell_type": "code",
   "execution_count": 8,
   "id": "561a881e",
   "metadata": {
    "execution": {
     "iopub.execute_input": "2023-12-13T13:48:18.601110Z",
     "iopub.status.busy": "2023-12-13T13:48:18.600058Z",
     "iopub.status.idle": "2023-12-13T13:48:18.622276Z",
     "shell.execute_reply": "2023-12-13T13:48:18.621275Z"
    },
    "papermill": {
     "duration": 0.030219,
     "end_time": "2023-12-13T13:48:18.623276",
     "exception": false,
     "start_time": "2023-12-13T13:48:18.593057",
     "status": "completed"
    },
    "tags": []
   },
   "outputs": [],
   "source": [
    "from sklearn.preprocessing import MinMaxScaler\n",
    "\n",
    "scaler = MinMaxScaler(feature_range=(0, 1))\n",
    "\n",
    "train_norm = scaler.fit_transform(train)\n",
    "test_norm = scaler.transform(test)"
   ]
  },
  {
   "attachments": {},
   "cell_type": "markdown",
   "id": "99c021d2",
   "metadata": {
    "papermill": {
     "duration": 0.004306,
     "end_time": "2023-12-13T13:48:18.634583",
     "exception": false,
     "start_time": "2023-12-13T13:48:18.630277",
     "status": "completed"
    },
    "tags": []
   },
   "source": [
    "### Create Sequences"
   ]
  },
  {
   "cell_type": "code",
   "execution_count": 9,
   "id": "6951cc38",
   "metadata": {
    "execution": {
     "iopub.execute_input": "2023-12-13T13:48:18.653976Z",
     "iopub.status.busy": "2023-12-13T13:48:18.653976Z",
     "iopub.status.idle": "2023-12-13T13:48:18.732954Z",
     "shell.execute_reply": "2023-12-13T13:48:18.732954Z"
    },
    "papermill": {
     "duration": 0.099958,
     "end_time": "2023-12-13T13:48:18.734541",
     "exception": false,
     "start_time": "2023-12-13T13:48:18.634583",
     "status": "completed"
    },
    "tags": []
   },
   "outputs": [],
   "source": [
    "import numpy as np\n",
    "\n",
    "def create_sequences(data, sequence_length):\n",
    "    X, y = [], []\n",
    "    for i in range(len(data) - sequence_length):\n",
    "        X.append(data[i:i+sequence_length])\n",
    "        y.append(data[i+sequence_length])\n",
    "    return np.array(X), np.array(y)\n",
    "\n",
    "sequence_length = 24 # Use 24 hours prior to predict the following hour\n",
    "X_train, y_train = create_sequences(train_norm, sequence_length)\n",
    "X_test, y_test = create_sequences(test_norm, sequence_length)"
   ]
  },
  {
   "attachments": {},
   "cell_type": "markdown",
   "id": "d032b48d",
   "metadata": {
    "papermill": {
     "duration": 0.0,
     "end_time": "2023-12-13T13:48:18.734541",
     "exception": false,
     "start_time": "2023-12-13T13:48:18.734541",
     "status": "completed"
    },
    "tags": []
   },
   "source": [
    "## Modelling"
   ]
  },
  {
   "attachments": {},
   "cell_type": "markdown",
   "id": "e761021e",
   "metadata": {
    "papermill": {
     "duration": 0.0,
     "end_time": "2023-12-13T13:48:18.753976",
     "exception": false,
     "start_time": "2023-12-13T13:48:18.753976",
     "status": "completed"
    },
    "tags": []
   },
   "source": [
    "### Design NN Architecture"
   ]
  },
  {
   "cell_type": "code",
   "execution_count": 10,
   "id": "43241245",
   "metadata": {
    "execution": {
     "iopub.execute_input": "2023-12-13T13:48:18.772597Z",
     "iopub.status.busy": "2023-12-13T13:48:18.772597Z",
     "iopub.status.idle": "2023-12-13T13:48:20.215035Z",
     "shell.execute_reply": "2023-12-13T13:48:20.215035Z"
    },
    "papermill": {
     "duration": 1.44444,
     "end_time": "2023-12-13T13:48:20.217037",
     "exception": false,
     "start_time": "2023-12-13T13:48:18.772597",
     "status": "completed"
    },
    "tags": []
   },
   "outputs": [
    {
     "name": "stderr",
     "output_type": "stream",
     "text": [
      "c:\\Users\\jesus\\miniconda3\\envs\\tf-base\\lib\\site-packages\\tensorflow\\python\\framework\\dtypes.py:516: FutureWarning: Passing (type, 1) or '1type' as a synonym of type is deprecated; in a future version of numpy, it will be understood as (type, (1,)) / '(1,)type'.\n",
      "  _np_qint8 = np.dtype([(\"qint8\", np.int8, 1)])\n",
      "c:\\Users\\jesus\\miniconda3\\envs\\tf-base\\lib\\site-packages\\tensorflow\\python\\framework\\dtypes.py:517: FutureWarning: Passing (type, 1) or '1type' as a synonym of type is deprecated; in a future version of numpy, it will be understood as (type, (1,)) / '(1,)type'.\n",
      "  _np_quint8 = np.dtype([(\"quint8\", np.uint8, 1)])\n",
      "c:\\Users\\jesus\\miniconda3\\envs\\tf-base\\lib\\site-packages\\tensorflow\\python\\framework\\dtypes.py:518: FutureWarning: Passing (type, 1) or '1type' as a synonym of type is deprecated; in a future version of numpy, it will be understood as (type, (1,)) / '(1,)type'.\n",
      "  _np_qint16 = np.dtype([(\"qint16\", np.int16, 1)])\n",
      "c:\\Users\\jesus\\miniconda3\\envs\\tf-base\\lib\\site-packages\\tensorflow\\python\\framework\\dtypes.py:519: FutureWarning: Passing (type, 1) or '1type' as a synonym of type is deprecated; in a future version of numpy, it will be understood as (type, (1,)) / '(1,)type'.\n",
      "  _np_quint16 = np.dtype([(\"quint16\", np.uint16, 1)])\n",
      "c:\\Users\\jesus\\miniconda3\\envs\\tf-base\\lib\\site-packages\\tensorflow\\python\\framework\\dtypes.py:520: FutureWarning: Passing (type, 1) or '1type' as a synonym of type is deprecated; in a future version of numpy, it will be understood as (type, (1,)) / '(1,)type'.\n",
      "  _np_qint32 = np.dtype([(\"qint32\", np.int32, 1)])\n",
      "c:\\Users\\jesus\\miniconda3\\envs\\tf-base\\lib\\site-packages\\tensorflow\\python\\framework\\dtypes.py:525: FutureWarning: Passing (type, 1) or '1type' as a synonym of type is deprecated; in a future version of numpy, it will be understood as (type, (1,)) / '(1,)type'.\n",
      "  np_resource = np.dtype([(\"resource\", np.ubyte, 1)])\n"
     ]
    },
    {
     "name": "stdout",
     "output_type": "stream",
     "text": [
      "WARNING:tensorflow:From c:\\Users\\jesus\\miniconda3\\envs\\tf-base\\lib\\site-packages\\tensorflow\\python\\ops\\init_ops.py:1251: calling VarianceScaling.__init__ (from tensorflow.python.ops.init_ops) with dtype is deprecated and will be removed in a future version.\n",
      "Instructions for updating:\n",
      "Call initializer instance with the dtype argument instead of passing it to the constructor\n"
     ]
    },
    {
     "name": "stderr",
     "output_type": "stream",
     "text": [
      "c:\\Users\\jesus\\miniconda3\\envs\\tf-base\\lib\\site-packages\\tensorboard\\compat\\tensorflow_stub\\dtypes.py:541: FutureWarning: Passing (type, 1) or '1type' as a synonym of type is deprecated; in a future version of numpy, it will be understood as (type, (1,)) / '(1,)type'.\n",
      "  _np_qint8 = np.dtype([(\"qint8\", np.int8, 1)])\n",
      "c:\\Users\\jesus\\miniconda3\\envs\\tf-base\\lib\\site-packages\\tensorboard\\compat\\tensorflow_stub\\dtypes.py:542: FutureWarning: Passing (type, 1) or '1type' as a synonym of type is deprecated; in a future version of numpy, it will be understood as (type, (1,)) / '(1,)type'.\n",
      "  _np_quint8 = np.dtype([(\"quint8\", np.uint8, 1)])\n",
      "c:\\Users\\jesus\\miniconda3\\envs\\tf-base\\lib\\site-packages\\tensorboard\\compat\\tensorflow_stub\\dtypes.py:543: FutureWarning: Passing (type, 1) or '1type' as a synonym of type is deprecated; in a future version of numpy, it will be understood as (type, (1,)) / '(1,)type'.\n",
      "  _np_qint16 = np.dtype([(\"qint16\", np.int16, 1)])\n",
      "c:\\Users\\jesus\\miniconda3\\envs\\tf-base\\lib\\site-packages\\tensorboard\\compat\\tensorflow_stub\\dtypes.py:544: FutureWarning: Passing (type, 1) or '1type' as a synonym of type is deprecated; in a future version of numpy, it will be understood as (type, (1,)) / '(1,)type'.\n",
      "  _np_quint16 = np.dtype([(\"quint16\", np.uint16, 1)])\n",
      "c:\\Users\\jesus\\miniconda3\\envs\\tf-base\\lib\\site-packages\\tensorboard\\compat\\tensorflow_stub\\dtypes.py:545: FutureWarning: Passing (type, 1) or '1type' as a synonym of type is deprecated; in a future version of numpy, it will be understood as (type, (1,)) / '(1,)type'.\n",
      "  _np_qint32 = np.dtype([(\"qint32\", np.int32, 1)])\n",
      "c:\\Users\\jesus\\miniconda3\\envs\\tf-base\\lib\\site-packages\\tensorboard\\compat\\tensorflow_stub\\dtypes.py:550: FutureWarning: Passing (type, 1) or '1type' as a synonym of type is deprecated; in a future version of numpy, it will be understood as (type, (1,)) / '(1,)type'.\n",
      "  np_resource = np.dtype([(\"resource\", np.ubyte, 1)])\n"
     ]
    }
   ],
   "source": [
    "from tensorflow.keras.models import Sequential\n",
    "from tensorflow.keras.layers import LSTM, Dense\n",
    "\n",
    "model = Sequential()\n",
    "model.add(LSTM(50, input_shape=(X_train.shape[1], X_train.shape[2])))\n",
    "model.add(Dense(1))\n",
    "model.compile(optimizer='adam', loss='mean_squared_error')"
   ]
  },
  {
   "attachments": {},
   "cell_type": "markdown",
   "id": "bee28ed6",
   "metadata": {
    "papermill": {
     "duration": 0.007001,
     "end_time": "2023-12-13T13:48:20.233039",
     "exception": false,
     "start_time": "2023-12-13T13:48:20.226038",
     "status": "completed"
    },
    "tags": []
   },
   "source": [
    "### Train Model"
   ]
  },
  {
   "cell_type": "code",
   "execution_count": 11,
   "id": "01c9b17d",
   "metadata": {
    "execution": {
     "iopub.execute_input": "2023-12-13T13:48:20.250044Z",
     "iopub.status.busy": "2023-12-13T13:48:20.249043Z",
     "iopub.status.idle": "2023-12-13T13:50:22.820151Z",
     "shell.execute_reply": "2023-12-13T13:50:22.820151Z"
    },
    "papermill": {
     "duration": 122.58111,
     "end_time": "2023-12-13T13:50:22.822151",
     "exception": false,
     "start_time": "2023-12-13T13:48:20.241041",
     "status": "completed"
    },
    "tags": []
   },
   "outputs": [
    {
     "name": "stdout",
     "output_type": "stream",
     "text": [
      "WARNING:tensorflow:From c:\\Users\\jesus\\miniconda3\\envs\\tf-base\\lib\\site-packages\\tensorflow\\python\\ops\\math_grad.py:1250: add_dispatch_support.<locals>.wrapper (from tensorflow.python.ops.array_ops) is deprecated and will be removed in a future version.\n",
      "Instructions for updating:\n",
      "Use tf.where in 2.0, which has the same broadcast rule as np.where\n"
     ]
    }
   ],
   "source": [
    "from tensorflow.keras.callbacks import EarlyStopping\n",
    "\n",
    "early_stop = EarlyStopping(monitor='val_loss', patience=5)\n",
    "\n",
    "history = model.fit(\n",
    "    X_train, y_train, epochs=50, batch_size=64, verbose=0,\n",
    "    validation_data=(X_test, y_test), callbacks=[early_stop])"
   ]
  },
  {
   "attachments": {},
   "cell_type": "markdown",
   "id": "1852ddf0",
   "metadata": {
    "papermill": {
     "duration": 0.012003,
     "end_time": "2023-12-13T13:50:23.527764",
     "exception": false,
     "start_time": "2023-12-13T13:50:23.515761",
     "status": "completed"
    },
    "tags": []
   },
   "source": [
    "### Calculate Predictions"
   ]
  },
  {
   "cell_type": "code",
   "execution_count": 12,
   "id": "53cce961",
   "metadata": {
    "execution": {
     "iopub.execute_input": "2023-12-13T13:50:23.545768Z",
     "iopub.status.busy": "2023-12-13T13:50:23.545768Z",
     "iopub.status.idle": "2023-12-13T13:50:24.183911Z",
     "shell.execute_reply": "2023-12-13T13:50:24.183911Z"
    },
    "papermill": {
     "duration": 0.650146,
     "end_time": "2023-12-13T13:50:24.185912",
     "exception": false,
     "start_time": "2023-12-13T13:50:23.535766",
     "status": "completed"
    },
    "tags": []
   },
   "outputs": [
    {
     "data": {
      "text/plain": [
       "array([[0.05760485],\n",
       "       [0.09446632],\n",
       "       [0.13129728],\n",
       "       ...,\n",
       "       [0.17769377],\n",
       "       [0.22062024],\n",
       "       [0.28325638]], dtype=float32)"
      ]
     },
     "execution_count": 12,
     "metadata": {},
     "output_type": "execute_result"
    }
   ],
   "source": [
    "y_pred = model.predict(X_test)\n",
    "y_pred"
   ]
  },
  {
   "attachments": {},
   "cell_type": "markdown",
   "id": "20aac83c",
   "metadata": {
    "papermill": {
     "duration": 0.010002,
     "end_time": "2023-12-13T13:50:24.203916",
     "exception": false,
     "start_time": "2023-12-13T13:50:24.193914",
     "status": "completed"
    },
    "tags": []
   },
   "source": [
    "### Comparison: Real Data & Prediction"
   ]
  },
  {
   "attachments": {},
   "cell_type": "markdown",
   "id": "af5a6ec4",
   "metadata": {
    "papermill": {
     "duration": 0.013002,
     "end_time": "2023-12-13T13:50:24.228922",
     "exception": false,
     "start_time": "2023-12-13T13:50:24.215920",
     "status": "completed"
    },
    "tags": []
   },
   "source": [
    "#### Descale Data"
   ]
  },
  {
   "cell_type": "code",
   "execution_count": 13,
   "id": "2e995507",
   "metadata": {
    "execution": {
     "iopub.execute_input": "2023-12-13T13:50:24.252927Z",
     "iopub.status.busy": "2023-12-13T13:50:24.251927Z",
     "iopub.status.idle": "2023-12-13T13:50:24.263930Z",
     "shell.execute_reply": "2023-12-13T13:50:24.263930Z"
    },
    "papermill": {
     "duration": 0.025006,
     "end_time": "2023-12-13T13:50:24.265930",
     "exception": false,
     "start_time": "2023-12-13T13:50:24.240924",
     "status": "completed"
    },
    "tags": []
   },
   "outputs": [],
   "source": [
    "y_pred_scaled_inverse = scaler.inverse_transform(y_pred)\n",
    "y_true = scaler.inverse_transform(y_test)"
   ]
  },
  {
   "attachments": {},
   "cell_type": "markdown",
   "id": "46933926",
   "metadata": {
    "papermill": {
     "duration": 0.011003,
     "end_time": "2023-12-13T13:50:24.285935",
     "exception": false,
     "start_time": "2023-12-13T13:50:24.274932",
     "status": "completed"
    },
    "tags": []
   },
   "source": [
    "#### Create DataFrame"
   ]
  },
  {
   "cell_type": "code",
   "execution_count": 14,
   "id": "94403045",
   "metadata": {
    "execution": {
     "iopub.execute_input": "2023-12-13T13:50:24.306939Z",
     "iopub.status.busy": "2023-12-13T13:50:24.306939Z",
     "iopub.status.idle": "2023-12-13T13:50:24.328608Z",
     "shell.execute_reply": "2023-12-13T13:50:24.327608Z"
    },
    "papermill": {
     "duration": 0.035672,
     "end_time": "2023-12-13T13:50:24.330608",
     "exception": false,
     "start_time": "2023-12-13T13:50:24.294936",
     "status": "completed"
    },
    "tags": []
   },
   "outputs": [
    {
     "data": {
      "text/html": [
       "<div>\n",
       "<style scoped>\n",
       "    .dataframe tbody tr th:only-of-type {\n",
       "        vertical-align: middle;\n",
       "    }\n",
       "\n",
       "    .dataframe tbody tr th {\n",
       "        vertical-align: top;\n",
       "    }\n",
       "\n",
       "    .dataframe thead th {\n",
       "        text-align: right;\n",
       "    }\n",
       "</style>\n",
       "<table border=\"1\" class=\"dataframe\">\n",
       "  <thead>\n",
       "    <tr style=\"text-align: right;\">\n",
       "      <th></th>\n",
       "      <th>y_pred</th>\n",
       "      <th>y_pred_scaled_inverse</th>\n",
       "      <th>y_true</th>\n",
       "    </tr>\n",
       "  </thead>\n",
       "  <tbody>\n",
       "    <tr>\n",
       "      <th>0</th>\n",
       "      <td>0.057605</td>\n",
       "      <td>3323.989746</td>\n",
       "      <td>3428.0</td>\n",
       "    </tr>\n",
       "    <tr>\n",
       "      <th>1</th>\n",
       "      <td>0.094466</td>\n",
       "      <td>3587.623291</td>\n",
       "      <td>3686.0</td>\n",
       "    </tr>\n",
       "    <tr>\n",
       "      <th>2</th>\n",
       "      <td>0.131297</td>\n",
       "      <td>3851.037842</td>\n",
       "      <td>3953.0</td>\n",
       "    </tr>\n",
       "    <tr>\n",
       "      <th>3</th>\n",
       "      <td>0.165361</td>\n",
       "      <td>4094.662842</td>\n",
       "      <td>4169.0</td>\n",
       "    </tr>\n",
       "    <tr>\n",
       "      <th>4</th>\n",
       "      <td>0.186611</td>\n",
       "      <td>4246.639648</td>\n",
       "      <td>4129.0</td>\n",
       "    </tr>\n",
       "    <tr>\n",
       "      <th>...</th>\n",
       "      <td>...</td>\n",
       "      <td>...</td>\n",
       "      <td>...</td>\n",
       "    </tr>\n",
       "    <tr>\n",
       "      <th>6707</th>\n",
       "      <td>0.147077</td>\n",
       "      <td>3963.892822</td>\n",
       "      <td>4005.0</td>\n",
       "    </tr>\n",
       "    <tr>\n",
       "      <th>6708</th>\n",
       "      <td>0.153169</td>\n",
       "      <td>4007.468018</td>\n",
       "      <td>4096.0</td>\n",
       "    </tr>\n",
       "    <tr>\n",
       "      <th>6709</th>\n",
       "      <td>0.177694</td>\n",
       "      <td>4182.865723</td>\n",
       "      <td>4326.0</td>\n",
       "    </tr>\n",
       "    <tr>\n",
       "      <th>6710</th>\n",
       "      <td>0.220620</td>\n",
       "      <td>4489.875977</td>\n",
       "      <td>4707.0</td>\n",
       "    </tr>\n",
       "    <tr>\n",
       "      <th>6711</th>\n",
       "      <td>0.283256</td>\n",
       "      <td>4937.849609</td>\n",
       "      <td>5026.0</td>\n",
       "    </tr>\n",
       "  </tbody>\n",
       "</table>\n",
       "<p>6712 rows × 3 columns</p>\n",
       "</div>"
      ],
      "text/plain": [
       "        y_pred  y_pred_scaled_inverse  y_true\n",
       "0     0.057605            3323.989746  3428.0\n",
       "1     0.094466            3587.623291  3686.0\n",
       "2     0.131297            3851.037842  3953.0\n",
       "3     0.165361            4094.662842  4169.0\n",
       "4     0.186611            4246.639648  4129.0\n",
       "...        ...                    ...     ...\n",
       "6707  0.147077            3963.892822  4005.0\n",
       "6708  0.153169            4007.468018  4096.0\n",
       "6709  0.177694            4182.865723  4326.0\n",
       "6710  0.220620            4489.875977  4707.0\n",
       "6711  0.283256            4937.849609  5026.0\n",
       "\n",
       "[6712 rows x 3 columns]"
      ]
     },
     "execution_count": 14,
     "metadata": {},
     "output_type": "execute_result"
    }
   ],
   "source": [
    "dic_pred = {\n",
    "    'y_pred': y_pred.flatten(),\n",
    "    'y_pred_scaled_inverse': y_pred_scaled_inverse.flatten(),\n",
    "    'y_true': y_true.flatten(),\n",
    "}\n",
    "\n",
    "df_pred = pd.DataFrame(dic_pred)\n",
    "df_pred"
   ]
  },
  {
   "attachments": {},
   "cell_type": "markdown",
   "id": "253fa837",
   "metadata": {
    "papermill": {
     "duration": 0.012003,
     "end_time": "2023-12-13T13:50:24.351613",
     "exception": false,
     "start_time": "2023-12-13T13:50:24.339610",
     "status": "completed"
    },
    "tags": []
   },
   "source": [
    "#### Evaluate Model"
   ]
  },
  {
   "cell_type": "code",
   "execution_count": 15,
   "id": "c421e3a3",
   "metadata": {
    "execution": {
     "iopub.execute_input": "2023-12-13T13:50:24.374619Z",
     "iopub.status.busy": "2023-12-13T13:50:24.373619Z",
     "iopub.status.idle": "2023-12-13T13:50:24.392623Z",
     "shell.execute_reply": "2023-12-13T13:50:24.391623Z"
    },
    "papermill": {
     "duration": 0.034009,
     "end_time": "2023-12-13T13:50:24.395624",
     "exception": false,
     "start_time": "2023-12-13T13:50:24.361615",
     "status": "completed"
    },
    "tags": []
   },
   "outputs": [],
   "source": [
    "from sklearn.metrics import mean_squared_error"
   ]
  },
  {
   "cell_type": "code",
   "execution_count": 16,
   "id": "b9022fb9",
   "metadata": {
    "execution": {
     "iopub.execute_input": "2023-12-13T13:50:24.417628Z",
     "iopub.status.busy": "2023-12-13T13:50:24.417628Z",
     "iopub.status.idle": "2023-12-13T13:50:24.440657Z",
     "shell.execute_reply": "2023-12-13T13:50:24.439656Z"
    },
    "papermill": {
     "duration": 0.036032,
     "end_time": "2023-12-13T13:50:24.443657",
     "exception": false,
     "start_time": "2023-12-13T13:50:24.407625",
     "status": "completed"
    },
    "tags": []
   },
   "outputs": [
    {
     "data": {
      "text/plain": [
       "91.7755953073676"
      ]
     },
     "execution_count": 16,
     "metadata": {},
     "output_type": "execute_result"
    }
   ],
   "source": [
    "mean_squared_error(df_pred.y_true, df_pred.y_pred_scaled_inverse, squared=False)"
   ]
  },
  {
   "cell_type": "code",
   "execution_count": 17,
   "id": "b7cd0507",
   "metadata": {
    "execution": {
     "iopub.execute_input": "2023-12-13T13:50:24.461661Z",
     "iopub.status.busy": "2023-12-13T13:50:24.461661Z",
     "iopub.status.idle": "2023-12-13T13:50:24.596754Z",
     "shell.execute_reply": "2023-12-13T13:50:24.595754Z"
    },
    "papermill": {
     "duration": 0.146095,
     "end_time": "2023-12-13T13:50:24.597754",
     "exception": false,
     "start_time": "2023-12-13T13:50:24.451659",
     "status": "completed"
    },
    "tags": []
   },
   "outputs": [],
   "source": [
    "model.save(f'../models/{region}.keras')"
   ]
  }
 ],
 "metadata": {
  "kernelspec": {
   "display_name": "deep-learning",
   "language": "python",
   "name": "python3"
  },
  "language_info": {
   "codemirror_mode": {
    "name": "ipython",
    "version": 3
   },
   "file_extension": ".py",
   "mimetype": "text/x-python",
   "name": "python",
   "nbconvert_exporter": "python",
   "pygments_lexer": "ipython3",
   "version": "3.7.12"
  },
  "papermill": {
   "default_parameters": {},
   "duration": 129.133503,
   "end_time": "2023-12-13T13:50:25.182636",
   "environment_variables": {},
   "exception": null,
   "input_path": "Modelling.ipynb",
   "output_path": "outputs/PS.ipynb",
   "parameters": {
    "region": "PS"
   },
   "start_time": "2023-12-13T13:48:16.049133",
   "version": "2.4.0"
  }
 },
 "nbformat": 4,
 "nbformat_minor": 5
}