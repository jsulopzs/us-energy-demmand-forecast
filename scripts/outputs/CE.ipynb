{
 "cells": [
  {
   "attachments": {},
   "cell_type": "markdown",
   "id": "f2a9dae4",
   "metadata": {
    "papermill": {
     "duration": 0.011884,
     "end_time": "2023-11-26T17:03:09.530727",
     "exception": false,
     "start_time": "2023-11-26T17:03:09.518843",
     "status": "completed"
    },
    "tags": []
   },
   "source": [
    "## Load data"
   ]
  },
  {
   "cell_type": "code",
   "execution_count": 1,
   "id": "2ab85181",
   "metadata": {
    "execution": {
     "iopub.execute_input": "2023-11-26T17:03:09.550542Z",
     "iopub.status.busy": "2023-11-26T17:03:09.549895Z",
     "iopub.status.idle": "2023-11-26T17:03:10.141228Z",
     "shell.execute_reply": "2023-11-26T17:03:10.140330Z"
    },
    "papermill": {
     "duration": 0.604748,
     "end_time": "2023-11-26T17:03:10.143553",
     "exception": false,
     "start_time": "2023-11-26T17:03:09.538805",
     "status": "completed"
    },
    "tags": []
   },
   "outputs": [],
   "source": [
    "import pandas as pd"
   ]
  },
  {
   "cell_type": "code",
   "execution_count": 2,
   "id": "8308ba14",
   "metadata": {
    "execution": {
     "iopub.execute_input": "2023-11-26T17:03:10.154075Z",
     "iopub.status.busy": "2023-11-26T17:03:10.153761Z",
     "iopub.status.idle": "2023-11-26T17:03:10.303059Z",
     "shell.execute_reply": "2023-11-26T17:03:10.302303Z"
    },
    "papermill": {
     "duration": 0.156374,
     "end_time": "2023-11-26T17:03:10.305258",
     "exception": false,
     "start_time": "2023-11-26T17:03:10.148884",
     "status": "completed"
    },
    "tags": []
   },
   "outputs": [
    {
     "data": {
      "text/html": [
       "<div>\n",
       "<style scoped>\n",
       "    .dataframe tbody tr th:only-of-type {\n",
       "        vertical-align: middle;\n",
       "    }\n",
       "\n",
       "    .dataframe tbody tr th {\n",
       "        vertical-align: top;\n",
       "    }\n",
       "\n",
       "    .dataframe thead th {\n",
       "        text-align: right;\n",
       "    }\n",
       "</style>\n",
       "<table border=\"1\" class=\"dataframe\">\n",
       "  <thead>\n",
       "    <tr style=\"text-align: right;\">\n",
       "      <th></th>\n",
       "      <th>AE</th>\n",
       "      <th>AEP</th>\n",
       "      <th>AP</th>\n",
       "      <th>ATSI</th>\n",
       "      <th>BC</th>\n",
       "      <th>CE</th>\n",
       "      <th>DAY</th>\n",
       "      <th>DEOK</th>\n",
       "      <th>DOM</th>\n",
       "      <th>DPL</th>\n",
       "      <th>DUQ</th>\n",
       "      <th>EKPC</th>\n",
       "      <th>JC</th>\n",
       "      <th>ME</th>\n",
       "      <th>PE</th>\n",
       "      <th>PEP</th>\n",
       "      <th>PL</th>\n",
       "      <th>PN</th>\n",
       "      <th>PS</th>\n",
       "      <th>RECO</th>\n",
       "    </tr>\n",
       "    <tr>\n",
       "      <th>period</th>\n",
       "      <th></th>\n",
       "      <th></th>\n",
       "      <th></th>\n",
       "      <th></th>\n",
       "      <th></th>\n",
       "      <th></th>\n",
       "      <th></th>\n",
       "      <th></th>\n",
       "      <th></th>\n",
       "      <th></th>\n",
       "      <th></th>\n",
       "      <th></th>\n",
       "      <th></th>\n",
       "      <th></th>\n",
       "      <th></th>\n",
       "      <th></th>\n",
       "      <th></th>\n",
       "      <th></th>\n",
       "      <th></th>\n",
       "      <th></th>\n",
       "    </tr>\n",
       "  </thead>\n",
       "  <tbody>\n",
       "    <tr>\n",
       "      <th>2018-07-01 05:00:00</th>\n",
       "      <td>1301</td>\n",
       "      <td>12187</td>\n",
       "      <td>4384</td>\n",
       "      <td>6960</td>\n",
       "      <td>3134</td>\n",
       "      <td>12136</td>\n",
       "      <td>1619</td>\n",
       "      <td>2895</td>\n",
       "      <td>9775</td>\n",
       "      <td>1919</td>\n",
       "      <td>1466</td>\n",
       "      <td>1209</td>\n",
       "      <td>2388</td>\n",
       "      <td>1442</td>\n",
       "      <td>4397</td>\n",
       "      <td>3165</td>\n",
       "      <td>3835</td>\n",
       "      <td>1611</td>\n",
       "      <td>5009</td>\n",
       "      <td>186</td>\n",
       "    </tr>\n",
       "    <tr>\n",
       "      <th>2018-07-01 06:00:00</th>\n",
       "      <td>1314</td>\n",
       "      <td>11946</td>\n",
       "      <td>4391</td>\n",
       "      <td>6762</td>\n",
       "      <td>3139</td>\n",
       "      <td>11872</td>\n",
       "      <td>1605</td>\n",
       "      <td>2857</td>\n",
       "      <td>9787</td>\n",
       "      <td>1950</td>\n",
       "      <td>1455</td>\n",
       "      <td>1197</td>\n",
       "      <td>2416</td>\n",
       "      <td>1465</td>\n",
       "      <td>4423</td>\n",
       "      <td>3156</td>\n",
       "      <td>3901</td>\n",
       "      <td>1641</td>\n",
       "      <td>4990</td>\n",
       "      <td>187</td>\n",
       "    </tr>\n",
       "    <tr>\n",
       "      <th>2018-07-01 07:00:00</th>\n",
       "      <td>1410</td>\n",
       "      <td>12664</td>\n",
       "      <td>4757</td>\n",
       "      <td>6670</td>\n",
       "      <td>3377</td>\n",
       "      <td>11992</td>\n",
       "      <td>1707</td>\n",
       "      <td>2997</td>\n",
       "      <td>10453</td>\n",
       "      <td>2160</td>\n",
       "      <td>1528</td>\n",
       "      <td>1273</td>\n",
       "      <td>2644</td>\n",
       "      <td>1605</td>\n",
       "      <td>4743</td>\n",
       "      <td>3332</td>\n",
       "      <td>4232</td>\n",
       "      <td>1728</td>\n",
       "      <td>5267</td>\n",
       "      <td>202</td>\n",
       "    </tr>\n",
       "    <tr>\n",
       "      <th>2018-07-01 08:00:00</th>\n",
       "      <td>1567</td>\n",
       "      <td>14069</td>\n",
       "      <td>5308</td>\n",
       "      <td>7065</td>\n",
       "      <td>3788</td>\n",
       "      <td>12860</td>\n",
       "      <td>1916</td>\n",
       "      <td>3331</td>\n",
       "      <td>11734</td>\n",
       "      <td>2470</td>\n",
       "      <td>1688</td>\n",
       "      <td>1472</td>\n",
       "      <td>3064</td>\n",
       "      <td>1784</td>\n",
       "      <td>5230</td>\n",
       "      <td>3679</td>\n",
       "      <td>4613</td>\n",
       "      <td>1899</td>\n",
       "      <td>5735</td>\n",
       "      <td>230</td>\n",
       "    </tr>\n",
       "    <tr>\n",
       "      <th>2018-07-01 09:00:00</th>\n",
       "      <td>1749</td>\n",
       "      <td>15610</td>\n",
       "      <td>5862</td>\n",
       "      <td>7833</td>\n",
       "      <td>4262</td>\n",
       "      <td>14212</td>\n",
       "      <td>2145</td>\n",
       "      <td>3703</td>\n",
       "      <td>13084</td>\n",
       "      <td>2765</td>\n",
       "      <td>1875</td>\n",
       "      <td>1656</td>\n",
       "      <td>3569</td>\n",
       "      <td>1972</td>\n",
       "      <td>5752</td>\n",
       "      <td>4085</td>\n",
       "      <td>5014</td>\n",
       "      <td>2055</td>\n",
       "      <td>6299</td>\n",
       "      <td>259</td>\n",
       "    </tr>\n",
       "  </tbody>\n",
       "</table>\n",
       "</div>"
      ],
      "text/plain": [
       "                       AE    AEP    AP  ATSI    BC     CE   DAY  DEOK    DOM  \\\n",
       "period                                                                         \n",
       "2018-07-01 05:00:00  1301  12187  4384  6960  3134  12136  1619  2895   9775   \n",
       "2018-07-01 06:00:00  1314  11946  4391  6762  3139  11872  1605  2857   9787   \n",
       "2018-07-01 07:00:00  1410  12664  4757  6670  3377  11992  1707  2997  10453   \n",
       "2018-07-01 08:00:00  1567  14069  5308  7065  3788  12860  1916  3331  11734   \n",
       "2018-07-01 09:00:00  1749  15610  5862  7833  4262  14212  2145  3703  13084   \n",
       "\n",
       "                      DPL   DUQ  EKPC    JC    ME    PE   PEP    PL    PN  \\\n",
       "period                                                                      \n",
       "2018-07-01 05:00:00  1919  1466  1209  2388  1442  4397  3165  3835  1611   \n",
       "2018-07-01 06:00:00  1950  1455  1197  2416  1465  4423  3156  3901  1641   \n",
       "2018-07-01 07:00:00  2160  1528  1273  2644  1605  4743  3332  4232  1728   \n",
       "2018-07-01 08:00:00  2470  1688  1472  3064  1784  5230  3679  4613  1899   \n",
       "2018-07-01 09:00:00  2765  1875  1656  3569  1972  5752  4085  5014  2055   \n",
       "\n",
       "                       PS  RECO  \n",
       "period                           \n",
       "2018-07-01 05:00:00  5009   186  \n",
       "2018-07-01 06:00:00  4990   187  \n",
       "2018-07-01 07:00:00  5267   202  \n",
       "2018-07-01 08:00:00  5735   230  \n",
       "2018-07-01 09:00:00  6299   259  "
      ]
     },
     "execution_count": 2,
     "metadata": {},
     "output_type": "execute_result"
    }
   ],
   "source": [
    "df_base = pd.read_csv('../data/pjm_pivot.csv', index_col=0, parse_dates=True)\n",
    "df_base.head()"
   ]
  },
  {
   "attachments": {},
   "cell_type": "markdown",
   "id": "283c46c5",
   "metadata": {
    "papermill": {
     "duration": 0.00491,
     "end_time": "2023-11-26T17:03:10.317694",
     "exception": false,
     "start_time": "2023-11-26T17:03:10.312784",
     "status": "completed"
    },
    "tags": []
   },
   "source": [
    "## Select region"
   ]
  },
  {
   "cell_type": "code",
   "execution_count": 3,
   "id": "d42759c0",
   "metadata": {
    "execution": {
     "iopub.execute_input": "2023-11-26T17:03:10.328958Z",
     "iopub.status.busy": "2023-11-26T17:03:10.328449Z",
     "iopub.status.idle": "2023-11-26T17:03:10.332592Z",
     "shell.execute_reply": "2023-11-26T17:03:10.331981Z"
    },
    "papermill": {
     "duration": 0.012818,
     "end_time": "2023-11-26T17:03:10.334326",
     "exception": false,
     "start_time": "2023-11-26T17:03:10.321508",
     "status": "completed"
    },
    "tags": [
     "parameters"
    ]
   },
   "outputs": [],
   "source": [
    "region = 'AE'"
   ]
  },
  {
   "cell_type": "code",
   "execution_count": 4,
   "id": "336bea4d",
   "metadata": {
    "execution": {
     "iopub.execute_input": "2023-11-26T17:03:10.379353Z",
     "iopub.status.busy": "2023-11-26T17:03:10.378730Z",
     "iopub.status.idle": "2023-11-26T17:03:10.384765Z",
     "shell.execute_reply": "2023-11-26T17:03:10.383946Z"
    },
    "papermill": {
     "duration": 0.037103,
     "end_time": "2023-11-26T17:03:10.387302",
     "exception": false,
     "start_time": "2023-11-26T17:03:10.350199",
     "status": "completed"
    },
    "tags": [
     "injected-parameters"
    ]
   },
   "outputs": [],
   "source": [
    "# Parameters\n",
    "region = \"CE\"\n"
   ]
  },
  {
   "cell_type": "code",
   "execution_count": 5,
   "id": "1735ae4e",
   "metadata": {
    "execution": {
     "iopub.execute_input": "2023-11-26T17:03:10.431144Z",
     "iopub.status.busy": "2023-11-26T17:03:10.430392Z",
     "iopub.status.idle": "2023-11-26T17:03:10.443174Z",
     "shell.execute_reply": "2023-11-26T17:03:10.442249Z"
    },
    "papermill": {
     "duration": 0.041694,
     "end_time": "2023-11-26T17:03:10.445509",
     "exception": false,
     "start_time": "2023-11-26T17:03:10.403815",
     "status": "completed"
    },
    "tags": []
   },
   "outputs": [
    {
     "data": {
      "text/html": [
       "<div>\n",
       "<style scoped>\n",
       "    .dataframe tbody tr th:only-of-type {\n",
       "        vertical-align: middle;\n",
       "    }\n",
       "\n",
       "    .dataframe tbody tr th {\n",
       "        vertical-align: top;\n",
       "    }\n",
       "\n",
       "    .dataframe thead th {\n",
       "        text-align: right;\n",
       "    }\n",
       "</style>\n",
       "<table border=\"1\" class=\"dataframe\">\n",
       "  <thead>\n",
       "    <tr style=\"text-align: right;\">\n",
       "      <th></th>\n",
       "      <th>CE</th>\n",
       "    </tr>\n",
       "    <tr>\n",
       "      <th>period</th>\n",
       "      <th></th>\n",
       "    </tr>\n",
       "  </thead>\n",
       "  <tbody>\n",
       "    <tr>\n",
       "      <th>2018-07-01 05:00:00</th>\n",
       "      <td>12136</td>\n",
       "    </tr>\n",
       "    <tr>\n",
       "      <th>2018-07-01 06:00:00</th>\n",
       "      <td>11872</td>\n",
       "    </tr>\n",
       "    <tr>\n",
       "      <th>2018-07-01 07:00:00</th>\n",
       "      <td>11992</td>\n",
       "    </tr>\n",
       "    <tr>\n",
       "      <th>2018-07-01 08:00:00</th>\n",
       "      <td>12860</td>\n",
       "    </tr>\n",
       "    <tr>\n",
       "      <th>2018-07-01 09:00:00</th>\n",
       "      <td>14212</td>\n",
       "    </tr>\n",
       "    <tr>\n",
       "      <th>...</th>\n",
       "      <td>...</td>\n",
       "    </tr>\n",
       "    <tr>\n",
       "      <th>2023-11-01 00:00:00</th>\n",
       "      <td>11485</td>\n",
       "    </tr>\n",
       "    <tr>\n",
       "      <th>2023-11-01 01:00:00</th>\n",
       "      <td>11327</td>\n",
       "    </tr>\n",
       "    <tr>\n",
       "      <th>2023-11-01 02:00:00</th>\n",
       "      <td>11104</td>\n",
       "    </tr>\n",
       "    <tr>\n",
       "      <th>2023-11-01 03:00:00</th>\n",
       "      <td>10780</td>\n",
       "    </tr>\n",
       "    <tr>\n",
       "      <th>2023-11-01 04:00:00</th>\n",
       "      <td>10229</td>\n",
       "    </tr>\n",
       "  </tbody>\n",
       "</table>\n",
       "<p>44904 rows × 1 columns</p>\n",
       "</div>"
      ],
      "text/plain": [
       "                        CE\n",
       "period                    \n",
       "2018-07-01 05:00:00  12136\n",
       "2018-07-01 06:00:00  11872\n",
       "2018-07-01 07:00:00  11992\n",
       "2018-07-01 08:00:00  12860\n",
       "2018-07-01 09:00:00  14212\n",
       "...                    ...\n",
       "2023-11-01 00:00:00  11485\n",
       "2023-11-01 01:00:00  11327\n",
       "2023-11-01 02:00:00  11104\n",
       "2023-11-01 03:00:00  10780\n",
       "2023-11-01 04:00:00  10229\n",
       "\n",
       "[44904 rows x 1 columns]"
      ]
     },
     "execution_count": 5,
     "metadata": {},
     "output_type": "execute_result"
    }
   ],
   "source": [
    "df = df_base.loc[:, [region]]\n",
    "df"
   ]
  },
  {
   "attachments": {},
   "cell_type": "markdown",
   "id": "14a27e8b",
   "metadata": {
    "papermill": {
     "duration": 0.025019,
     "end_time": "2023-11-26T17:03:10.486443",
     "exception": false,
     "start_time": "2023-11-26T17:03:10.461424",
     "status": "completed"
    },
    "tags": []
   },
   "source": [
    "## Data Preprocessing"
   ]
  },
  {
   "attachments": {},
   "cell_type": "markdown",
   "id": "ece2ec59",
   "metadata": {
    "papermill": {
     "duration": 0.028661,
     "end_time": "2023-11-26T17:03:10.539048",
     "exception": false,
     "start_time": "2023-11-26T17:03:10.510387",
     "status": "completed"
    },
    "tags": []
   },
   "source": [
    "### Scale Data"
   ]
  },
  {
   "cell_type": "code",
   "execution_count": 6,
   "id": "9630bd8a",
   "metadata": {
    "execution": {
     "iopub.execute_input": "2023-11-26T17:03:10.595617Z",
     "iopub.status.busy": "2023-11-26T17:03:10.595082Z",
     "iopub.status.idle": "2023-11-26T17:03:11.370711Z",
     "shell.execute_reply": "2023-11-26T17:03:11.369550Z"
    },
    "papermill": {
     "duration": 0.806496,
     "end_time": "2023-11-26T17:03:11.373123",
     "exception": false,
     "start_time": "2023-11-26T17:03:10.566627",
     "status": "completed"
    },
    "tags": []
   },
   "outputs": [],
   "source": [
    "from sklearn.preprocessing import MinMaxScaler\n",
    "\n",
    "# Normalize data\n",
    "scaler = MinMaxScaler(feature_range=(0, 1))\n",
    "data_norm = scaler.fit_transform(df)"
   ]
  },
  {
   "attachments": {},
   "cell_type": "markdown",
   "id": "50c807e6",
   "metadata": {
    "papermill": {
     "duration": 0.004749,
     "end_time": "2023-11-26T17:03:11.382952",
     "exception": false,
     "start_time": "2023-11-26T17:03:11.378203",
     "status": "completed"
    },
    "tags": []
   },
   "source": [
    "### Train Test Split"
   ]
  },
  {
   "cell_type": "code",
   "execution_count": 7,
   "id": "b21dd1ea",
   "metadata": {
    "execution": {
     "iopub.execute_input": "2023-11-26T17:03:11.395956Z",
     "iopub.status.busy": "2023-11-26T17:03:11.395329Z",
     "iopub.status.idle": "2023-11-26T17:03:11.445690Z",
     "shell.execute_reply": "2023-11-26T17:03:11.444913Z"
    },
    "papermill": {
     "duration": 0.060485,
     "end_time": "2023-11-26T17:03:11.447814",
     "exception": false,
     "start_time": "2023-11-26T17:03:11.387329",
     "status": "completed"
    },
    "tags": []
   },
   "outputs": [],
   "source": [
    "from sklearn.model_selection import train_test_split\n",
    "\n",
    "train, test = train_test_split(data_norm, test_size=0.2, shuffle=False)"
   ]
  },
  {
   "attachments": {},
   "cell_type": "markdown",
   "id": "640343a9",
   "metadata": {
    "papermill": {
     "duration": 0.004098,
     "end_time": "2023-11-26T17:03:11.456321",
     "exception": false,
     "start_time": "2023-11-26T17:03:11.452223",
     "status": "completed"
    },
    "tags": []
   },
   "source": [
    "### Create Sequences"
   ]
  },
  {
   "cell_type": "code",
   "execution_count": 8,
   "id": "e8794882",
   "metadata": {
    "execution": {
     "iopub.execute_input": "2023-11-26T17:03:11.469074Z",
     "iopub.status.busy": "2023-11-26T17:03:11.468787Z",
     "iopub.status.idle": "2023-11-26T17:03:11.547867Z",
     "shell.execute_reply": "2023-11-26T17:03:11.547072Z"
    },
    "papermill": {
     "duration": 0.088563,
     "end_time": "2023-11-26T17:03:11.549899",
     "exception": false,
     "start_time": "2023-11-26T17:03:11.461336",
     "status": "completed"
    },
    "tags": []
   },
   "outputs": [],
   "source": [
    "import numpy as np\n",
    "\n",
    "def create_sequences(data, sequence_length):\n",
    "    X, y = [], []\n",
    "    for i in range(len(data) - sequence_length):\n",
    "        X.append(data[i:i+sequence_length])\n",
    "        y.append(data[i+sequence_length])\n",
    "    return np.array(X), np.array(y)\n",
    "\n",
    "sequence_length = 24 # Use 24 hours prior to predict the following hour\n",
    "X_train, y_train = create_sequences(train, sequence_length)\n",
    "X_test, y_test = create_sequences(test, sequence_length)"
   ]
  },
  {
   "attachments": {},
   "cell_type": "markdown",
   "id": "844b2c9d",
   "metadata": {
    "papermill": {
     "duration": 0.005497,
     "end_time": "2023-11-26T17:03:11.560149",
     "exception": false,
     "start_time": "2023-11-26T17:03:11.554652",
     "status": "completed"
    },
    "tags": []
   },
   "source": [
    "## Modelling"
   ]
  },
  {
   "attachments": {},
   "cell_type": "markdown",
   "id": "12f3c4f6",
   "metadata": {
    "papermill": {
     "duration": 0.004701,
     "end_time": "2023-11-26T17:03:11.570117",
     "exception": false,
     "start_time": "2023-11-26T17:03:11.565416",
     "status": "completed"
    },
    "tags": []
   },
   "source": [
    "### Design NN Architecture"
   ]
  },
  {
   "cell_type": "code",
   "execution_count": 9,
   "id": "dda21841",
   "metadata": {
    "execution": {
     "iopub.execute_input": "2023-11-26T17:03:11.582124Z",
     "iopub.status.busy": "2023-11-26T17:03:11.581643Z",
     "iopub.status.idle": "2023-11-26T17:03:17.039100Z",
     "shell.execute_reply": "2023-11-26T17:03:17.038267Z"
    },
    "papermill": {
     "duration": 5.467453,
     "end_time": "2023-11-26T17:03:17.041889",
     "exception": false,
     "start_time": "2023-11-26T17:03:11.574436",
     "status": "completed"
    },
    "tags": []
   },
   "outputs": [
    {
     "name": "stderr",
     "output_type": "stream",
     "text": [
      "2023-11-26 18:03:13.908105: I tensorflow/core/platform/cpu_feature_guard.cc:182] This TensorFlow binary is optimized to use available CPU instructions in performance-critical operations.\n",
      "To enable the following instructions: AVX2 FMA, in other operations, rebuild TensorFlow with the appropriate compiler flags.\n"
     ]
    }
   ],
   "source": [
    "from keras.models import Sequential\n",
    "from keras.layers import LSTM, Dense\n",
    "\n",
    "model = Sequential()\n",
    "model.add(LSTM(50, input_shape=(X_train.shape[1], X_train.shape[2])))\n",
    "model.add(Dense(1))\n",
    "model.compile(optimizer='adam', loss='mean_squared_error')"
   ]
  },
  {
   "attachments": {},
   "cell_type": "markdown",
   "id": "e34ce642",
   "metadata": {
    "papermill": {
     "duration": 0.004384,
     "end_time": "2023-11-26T17:03:17.052654",
     "exception": false,
     "start_time": "2023-11-26T17:03:17.048270",
     "status": "completed"
    },
    "tags": []
   },
   "source": [
    "### Train Model"
   ]
  },
  {
   "cell_type": "code",
   "execution_count": 10,
   "id": "88a3ac50",
   "metadata": {
    "execution": {
     "iopub.execute_input": "2023-11-26T17:03:17.064092Z",
     "iopub.status.busy": "2023-11-26T17:03:17.063428Z",
     "iopub.status.idle": "2023-11-26T17:07:07.068312Z",
     "shell.execute_reply": "2023-11-26T17:07:07.066071Z"
    },
    "papermill": {
     "duration": 230.015201,
     "end_time": "2023-11-26T17:07:07.071981",
     "exception": false,
     "start_time": "2023-11-26T17:03:17.056780",
     "status": "completed"
    },
    "tags": []
   },
   "outputs": [],
   "source": [
    "from keras.callbacks import EarlyStopping\n",
    "\n",
    "early_stop = EarlyStopping(monitor='val_loss', patience=5)\n",
    "\n",
    "history = model.fit(\n",
    "    X_train, y_train, epochs=50, batch_size=64, verbose=0,\n",
    "    validation_data=(X_test, y_test), callbacks=[early_stop])"
   ]
  },
  {
   "attachments": {},
   "cell_type": "markdown",
   "id": "8b772ee8",
   "metadata": {
    "papermill": {
     "duration": 0.005104,
     "end_time": "2023-11-26T17:07:07.084447",
     "exception": false,
     "start_time": "2023-11-26T17:07:07.079343",
     "status": "completed"
    },
    "tags": []
   },
   "source": [
    "### Calculate Predictions"
   ]
  },
  {
   "cell_type": "code",
   "execution_count": 11,
   "id": "eed07d49",
   "metadata": {
    "execution": {
     "iopub.execute_input": "2023-11-26T17:07:07.098459Z",
     "iopub.status.busy": "2023-11-26T17:07:07.098093Z",
     "iopub.status.idle": "2023-11-26T17:07:08.386616Z",
     "shell.execute_reply": "2023-11-26T17:07:08.385759Z"
    },
    "papermill": {
     "duration": 1.297949,
     "end_time": "2023-11-26T17:07:08.388669",
     "exception": false,
     "start_time": "2023-11-26T17:07:07.090720",
     "status": "completed"
    },
    "tags": []
   },
   "outputs": [
    {
     "name": "stdout",
     "output_type": "stream",
     "text": [
      "\r",
      "  1/280 [..............................] - ETA: 1:56"
     ]
    },
    {
     "name": "stdout",
     "output_type": "stream",
     "text": [
      "\b\b\b\b\b\b\b\b\b\b\b\b\b\b\b\b\b\b\b\b\b\b\b\b\b\b\b\b\b\b\b\b\b\b\b\b\b\b\b\b\b\b\b\b\b\b\b\b\b\b\b\b\r",
      " 22/280 [=>............................] - ETA: 0s  "
     ]
    },
    {
     "name": "stdout",
     "output_type": "stream",
     "text": [
      "\b\b\b\b\b\b\b\b\b\b\b\b\b\b\b\b\b\b\b\b\b\b\b\b\b\b\b\b\b\b\b\b\b\b\b\b\b\b\b\b\b\b\b\b\b\b\b\b\b\b\r",
      " 43/280 [===>..........................] - ETA: 0s"
     ]
    },
    {
     "name": "stdout",
     "output_type": "stream",
     "text": [
      "\b\b\b\b\b\b\b\b\b\b\b\b\b\b\b\b\b\b\b\b\b\b\b\b\b\b\b\b\b\b\b\b\b\b\b\b\b\b\b\b\b\b\b\b\b\b\b\b\b\b\r",
      " 62/280 [=====>........................] - ETA: 0s"
     ]
    },
    {
     "name": "stdout",
     "output_type": "stream",
     "text": [
      "\b\b\b\b\b\b\b\b\b\b\b\b\b\b\b\b\b\b\b\b\b\b\b\b\b\b\b\b\b\b\b\b\b\b\b\b\b\b\b\b\b\b\b\b\b\b\b\b\b\b\r",
      " 82/280 [=======>......................] - ETA: 0s"
     ]
    },
    {
     "name": "stdout",
     "output_type": "stream",
     "text": [
      "\b\b\b\b\b\b\b\b\b\b\b\b\b\b\b\b\b\b\b\b\b\b\b\b\b\b\b\b\b\b\b\b\b\b\b\b\b\b\b\b\b\b\b\b\b\b\b\b\b\b\r",
      "101/280 [=========>....................] - ETA: 0s"
     ]
    },
    {
     "name": "stdout",
     "output_type": "stream",
     "text": [
      "\b\b\b\b\b\b\b\b\b\b\b\b\b\b\b\b\b\b\b\b\b\b\b\b\b\b\b\b\b\b\b\b\b\b\b\b\b\b\b\b\b\b\b\b\b\b\b\b\b\b\r",
      "115/280 [===========>..................] - ETA: 0s"
     ]
    },
    {
     "name": "stdout",
     "output_type": "stream",
     "text": [
      "\b\b\b\b\b\b\b\b\b\b\b\b\b\b\b\b\b\b\b\b\b\b\b\b\b\b\b\b\b\b\b\b\b\b\b\b\b\b\b\b\b\b\b\b\b\b\b\b\b\b\r",
      "136/280 [=============>................] - ETA: 0s"
     ]
    },
    {
     "name": "stdout",
     "output_type": "stream",
     "text": [
      "\b\b\b\b\b\b\b\b\b\b\b\b\b\b\b\b\b\b\b\b\b\b\b\b\b\b\b\b\b\b\b\b\b\b\b\b\b\b\b\b\b\b\b\b\b\b\b\b\b\b\r",
      "157/280 [===============>..............] - ETA: 0s"
     ]
    },
    {
     "name": "stdout",
     "output_type": "stream",
     "text": [
      "\b\b\b\b\b\b\b\b\b\b\b\b\b\b\b\b\b\b\b\b\b\b\b\b\b\b\b\b\b\b\b\b\b\b\b\b\b\b\b\b\b\b\b\b\b\b\b\b\b\b\r",
      "178/280 [==================>...........] - ETA: 0s"
     ]
    },
    {
     "name": "stdout",
     "output_type": "stream",
     "text": [
      "\b\b\b\b\b\b\b\b\b\b\b\b\b\b\b\b\b\b\b\b\b\b\b\b\b\b\b\b\b\b\b\b\b\b\b\b\b\b\b\b\b\b\b\b\b\b\b\b\b\b\r",
      "199/280 [====================>.........] - ETA: 0s"
     ]
    },
    {
     "name": "stdout",
     "output_type": "stream",
     "text": [
      "\b\b\b\b\b\b\b\b\b\b\b\b\b\b\b\b\b\b\b\b\b\b\b\b\b\b\b\b\b\b\b\b\b\b\b\b\b\b\b\b\b\b\b\b\b\b\b\b\b\b\r",
      "220/280 [======================>.......] - ETA: 0s"
     ]
    },
    {
     "name": "stdout",
     "output_type": "stream",
     "text": [
      "\b\b\b\b\b\b\b\b\b\b\b\b\b\b\b\b\b\b\b\b\b\b\b\b\b\b\b\b\b\b\b\b\b\b\b\b\b\b\b\b\b\b\b\b\b\b\b\b\b\b\r",
      "241/280 [========================>.....] - ETA: 0s"
     ]
    },
    {
     "name": "stdout",
     "output_type": "stream",
     "text": [
      "\b\b\b\b\b\b\b\b\b\b\b\b\b\b\b\b\b\b\b\b\b\b\b\b\b\b\b\b\b\b\b\b\b\b\b\b\b\b\b\b\b\b\b\b\b\b\b\b\b\b\r",
      "262/280 [===========================>..] - ETA: 0s"
     ]
    },
    {
     "name": "stdout",
     "output_type": "stream",
     "text": [
      "\b\b\b\b\b\b\b\b\b\b\b\b\b\b\b\b\b\b\b\b\b\b\b\b\b\b\b\b\b\b\b\b\b\b\b\b\b\b\b\b\b\b\b\b\b\b\b\b\b\b\r",
      "280/280 [==============================] - 1s 3ms/step\n"
     ]
    },
    {
     "data": {
      "text/plain": [
       "array([[0.02445922],\n",
       "       [0.02278739],\n",
       "       [0.01980934],\n",
       "       ...,\n",
       "       [0.03196932],\n",
       "       [0.02960133],\n",
       "       [0.02675447]], dtype=float32)"
      ]
     },
     "execution_count": 11,
     "metadata": {},
     "output_type": "execute_result"
    }
   ],
   "source": [
    "y_pred = model.predict(X_test)\n",
    "y_pred"
   ]
  },
  {
   "attachments": {},
   "cell_type": "markdown",
   "id": "5e33d656",
   "metadata": {
    "papermill": {
     "duration": 0.005447,
     "end_time": "2023-11-26T17:07:08.400670",
     "exception": false,
     "start_time": "2023-11-26T17:07:08.395223",
     "status": "completed"
    },
    "tags": []
   },
   "source": [
    "### Comparison: Real Data & Prediction"
   ]
  },
  {
   "attachments": {},
   "cell_type": "markdown",
   "id": "a0a7c717",
   "metadata": {
    "papermill": {
     "duration": 0.0057,
     "end_time": "2023-11-26T17:07:08.411952",
     "exception": false,
     "start_time": "2023-11-26T17:07:08.406252",
     "status": "completed"
    },
    "tags": []
   },
   "source": [
    "#### Descale Data"
   ]
  },
  {
   "cell_type": "code",
   "execution_count": 12,
   "id": "dc814b27",
   "metadata": {
    "execution": {
     "iopub.execute_input": "2023-11-26T17:07:08.425773Z",
     "iopub.status.busy": "2023-11-26T17:07:08.425390Z",
     "iopub.status.idle": "2023-11-26T17:07:08.429970Z",
     "shell.execute_reply": "2023-11-26T17:07:08.429336Z"
    },
    "papermill": {
     "duration": 0.014116,
     "end_time": "2023-11-26T17:07:08.431767",
     "exception": false,
     "start_time": "2023-11-26T17:07:08.417651",
     "status": "completed"
    },
    "tags": []
   },
   "outputs": [],
   "source": [
    "y_pred_scaled_inverse = scaler.inverse_transform(y_pred)\n",
    "y_true = scaler.inverse_transform(y_test)"
   ]
  },
  {
   "attachments": {},
   "cell_type": "markdown",
   "id": "07dabc66",
   "metadata": {
    "papermill": {
     "duration": 0.005754,
     "end_time": "2023-11-26T17:07:08.442580",
     "exception": false,
     "start_time": "2023-11-26T17:07:08.436826",
     "status": "completed"
    },
    "tags": []
   },
   "source": [
    "#### Create DataFrame"
   ]
  },
  {
   "cell_type": "code",
   "execution_count": 13,
   "id": "9536ba49",
   "metadata": {
    "execution": {
     "iopub.execute_input": "2023-11-26T17:07:08.454829Z",
     "iopub.status.busy": "2023-11-26T17:07:08.454525Z",
     "iopub.status.idle": "2023-11-26T17:07:08.470474Z",
     "shell.execute_reply": "2023-11-26T17:07:08.469642Z"
    },
    "papermill": {
     "duration": 0.025889,
     "end_time": "2023-11-26T17:07:08.473469",
     "exception": false,
     "start_time": "2023-11-26T17:07:08.447580",
     "status": "completed"
    },
    "tags": []
   },
   "outputs": [
    {
     "data": {
      "text/html": [
       "<div>\n",
       "<style scoped>\n",
       "    .dataframe tbody tr th:only-of-type {\n",
       "        vertical-align: middle;\n",
       "    }\n",
       "\n",
       "    .dataframe tbody tr th {\n",
       "        vertical-align: top;\n",
       "    }\n",
       "\n",
       "    .dataframe thead th {\n",
       "        text-align: right;\n",
       "    }\n",
       "</style>\n",
       "<table border=\"1\" class=\"dataframe\">\n",
       "  <thead>\n",
       "    <tr style=\"text-align: right;\">\n",
       "      <th></th>\n",
       "      <th>y_pred</th>\n",
       "      <th>y_pred_scaled_inverse</th>\n",
       "      <th>y_true</th>\n",
       "    </tr>\n",
       "  </thead>\n",
       "  <tbody>\n",
       "    <tr>\n",
       "      <th>0</th>\n",
       "      <td>0.024459</td>\n",
       "      <td>10132.797852</td>\n",
       "      <td>10132.0</td>\n",
       "    </tr>\n",
       "    <tr>\n",
       "      <th>1</th>\n",
       "      <td>0.022787</td>\n",
       "      <td>9906.566406</td>\n",
       "      <td>9826.0</td>\n",
       "    </tr>\n",
       "    <tr>\n",
       "      <th>2</th>\n",
       "      <td>0.019809</td>\n",
       "      <td>9503.580078</td>\n",
       "      <td>9507.0</td>\n",
       "    </tr>\n",
       "    <tr>\n",
       "      <th>3</th>\n",
       "      <td>0.017151</td>\n",
       "      <td>9143.838867</td>\n",
       "      <td>9081.0</td>\n",
       "    </tr>\n",
       "    <tr>\n",
       "      <th>4</th>\n",
       "      <td>0.014260</td>\n",
       "      <td>8752.597656</td>\n",
       "      <td>8636.0</td>\n",
       "    </tr>\n",
       "    <tr>\n",
       "      <th>...</th>\n",
       "      <td>...</td>\n",
       "      <td>...</td>\n",
       "      <td>...</td>\n",
       "    </tr>\n",
       "    <tr>\n",
       "      <th>8952</th>\n",
       "      <td>0.032883</td>\n",
       "      <td>11272.669922</td>\n",
       "      <td>11485.0</td>\n",
       "    </tr>\n",
       "    <tr>\n",
       "      <th>8953</th>\n",
       "      <td>0.033643</td>\n",
       "      <td>11375.479492</td>\n",
       "      <td>11327.0</td>\n",
       "    </tr>\n",
       "    <tr>\n",
       "      <th>8954</th>\n",
       "      <td>0.031969</td>\n",
       "      <td>11149.056641</td>\n",
       "      <td>11104.0</td>\n",
       "    </tr>\n",
       "    <tr>\n",
       "      <th>8955</th>\n",
       "      <td>0.029601</td>\n",
       "      <td>10828.623047</td>\n",
       "      <td>10780.0</td>\n",
       "    </tr>\n",
       "    <tr>\n",
       "      <th>8956</th>\n",
       "      <td>0.026754</td>\n",
       "      <td>10443.387695</td>\n",
       "      <td>10229.0</td>\n",
       "    </tr>\n",
       "  </tbody>\n",
       "</table>\n",
       "<p>8957 rows × 3 columns</p>\n",
       "</div>"
      ],
      "text/plain": [
       "        y_pred  y_pred_scaled_inverse   y_true\n",
       "0     0.024459           10132.797852  10132.0\n",
       "1     0.022787            9906.566406   9826.0\n",
       "2     0.019809            9503.580078   9507.0\n",
       "3     0.017151            9143.838867   9081.0\n",
       "4     0.014260            8752.597656   8636.0\n",
       "...        ...                    ...      ...\n",
       "8952  0.032883           11272.669922  11485.0\n",
       "8953  0.033643           11375.479492  11327.0\n",
       "8954  0.031969           11149.056641  11104.0\n",
       "8955  0.029601           10828.623047  10780.0\n",
       "8956  0.026754           10443.387695  10229.0\n",
       "\n",
       "[8957 rows x 3 columns]"
      ]
     },
     "execution_count": 13,
     "metadata": {},
     "output_type": "execute_result"
    }
   ],
   "source": [
    "dic_pred = {\n",
    "    'y_pred': y_pred.flatten(),\n",
    "    'y_pred_scaled_inverse': y_pred_scaled_inverse.flatten(),\n",
    "    'y_true': y_true.flatten(),\n",
    "}\n",
    "\n",
    "df_pred = pd.DataFrame(dic_pred)\n",
    "df_pred"
   ]
  },
  {
   "attachments": {},
   "cell_type": "markdown",
   "id": "45d50993",
   "metadata": {
    "papermill": {
     "duration": 0.027821,
     "end_time": "2023-11-26T17:07:08.525027",
     "exception": false,
     "start_time": "2023-11-26T17:07:08.497206",
     "status": "completed"
    },
    "tags": []
   },
   "source": [
    "#### Evaluate Model"
   ]
  },
  {
   "cell_type": "code",
   "execution_count": 14,
   "id": "fad604df",
   "metadata": {
    "execution": {
     "iopub.execute_input": "2023-11-26T17:07:08.541275Z",
     "iopub.status.busy": "2023-11-26T17:07:08.540802Z",
     "iopub.status.idle": "2023-11-26T17:07:08.544643Z",
     "shell.execute_reply": "2023-11-26T17:07:08.543971Z"
    },
    "papermill": {
     "duration": 0.014162,
     "end_time": "2023-11-26T17:07:08.547063",
     "exception": false,
     "start_time": "2023-11-26T17:07:08.532901",
     "status": "completed"
    },
    "tags": []
   },
   "outputs": [],
   "source": [
    "from sklearn.metrics import mean_squared_error"
   ]
  },
  {
   "cell_type": "code",
   "execution_count": 15,
   "id": "7a06e66e",
   "metadata": {
    "execution": {
     "iopub.execute_input": "2023-11-26T17:07:08.559161Z",
     "iopub.status.busy": "2023-11-26T17:07:08.558881Z",
     "iopub.status.idle": "2023-11-26T17:07:08.564815Z",
     "shell.execute_reply": "2023-11-26T17:07:08.564261Z"
    },
    "papermill": {
     "duration": 0.014429,
     "end_time": "2023-11-26T17:07:08.566691",
     "exception": false,
     "start_time": "2023-11-26T17:07:08.552262",
     "status": "completed"
    },
    "tags": []
   },
   "outputs": [
    {
     "data": {
      "text/plain": [
       "185.48645937024276"
      ]
     },
     "execution_count": 15,
     "metadata": {},
     "output_type": "execute_result"
    }
   ],
   "source": [
    "mean_squared_error(df_pred.y_true, df_pred.y_pred_scaled_inverse, squared=False)"
   ]
  },
  {
   "cell_type": "code",
   "execution_count": 16,
   "id": "22a9d097",
   "metadata": {
    "execution": {
     "iopub.execute_input": "2023-11-26T17:07:08.599462Z",
     "iopub.status.busy": "2023-11-26T17:07:08.598998Z",
     "iopub.status.idle": "2023-11-26T17:07:08.631928Z",
     "shell.execute_reply": "2023-11-26T17:07:08.631146Z"
    },
    "papermill": {
     "duration": 0.059512,
     "end_time": "2023-11-26T17:07:08.633918",
     "exception": false,
     "start_time": "2023-11-26T17:07:08.574406",
     "status": "completed"
    },
    "tags": []
   },
   "outputs": [],
   "source": [
    "model.save(f'../models/{region}.keras')"
   ]
  }
 ],
 "metadata": {
  "kernelspec": {
   "display_name": "deep-learning",
   "language": "python",
   "name": "python3"
  },
  "language_info": {
   "codemirror_mode": {
    "name": "ipython",
    "version": 3
   },
   "file_extension": ".py",
   "mimetype": "text/x-python",
   "name": "python",
   "nbconvert_exporter": "python",
   "pygments_lexer": "ipython3",
   "version": "3.9.18"
  },
  "papermill": {
   "default_parameters": {},
   "duration": 241.78223,
   "end_time": "2023-11-26T17:07:09.775469",
   "environment_variables": {},
   "exception": null,
   "input_path": "Modelling.ipynb",
   "output_path": "outputs/CE.ipynb",
   "parameters": {
    "region": "CE"
   },
   "start_time": "2023-11-26T17:03:07.993239",
   "version": "2.5.0"
  }
 },
 "nbformat": 4,
 "nbformat_minor": 5
}