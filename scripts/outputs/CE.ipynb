{
 "cells": [
  {
   "attachments": {},
   "cell_type": "markdown",
   "id": "d216fd51",
   "metadata": {
    "papermill": {
     "duration": 0.001357,
     "end_time": "2023-12-13T13:00:43.421306",
     "exception": false,
     "start_time": "2023-12-13T13:00:43.419949",
     "status": "completed"
    },
    "tags": []
   },
   "source": [
    "## Load data"
   ]
  },
  {
   "cell_type": "code",
   "execution_count": 1,
   "id": "9972a109",
   "metadata": {
    "execution": {
     "iopub.execute_input": "2023-12-13T13:00:43.442962Z",
     "iopub.status.busy": "2023-12-13T13:00:43.441962Z",
     "iopub.status.idle": "2023-12-13T13:00:43.799881Z",
     "shell.execute_reply": "2023-12-13T13:00:43.799881Z"
    },
    "papermill": {
     "duration": 0.368923,
     "end_time": "2023-12-13T13:00:43.801884",
     "exception": false,
     "start_time": "2023-12-13T13:00:43.432961",
     "status": "completed"
    },
    "tags": []
   },
   "outputs": [],
   "source": [
    "import pandas as pd"
   ]
  },
  {
   "cell_type": "code",
   "execution_count": 2,
   "id": "bf8d6b1d",
   "metadata": {
    "execution": {
     "iopub.execute_input": "2023-12-13T13:00:43.816888Z",
     "iopub.status.busy": "2023-12-13T13:00:43.815887Z",
     "iopub.status.idle": "2023-12-13T13:00:43.937721Z",
     "shell.execute_reply": "2023-12-13T13:00:43.937351Z"
    },
    "papermill": {
     "duration": 0.130541,
     "end_time": "2023-12-13T13:00:43.939427",
     "exception": false,
     "start_time": "2023-12-13T13:00:43.808886",
     "status": "completed"
    },
    "tags": []
   },
   "outputs": [
    {
     "data": {
      "text/html": [
       "<div>\n",
       "<style scoped>\n",
       "    .dataframe tbody tr th:only-of-type {\n",
       "        vertical-align: middle;\n",
       "    }\n",
       "\n",
       "    .dataframe tbody tr th {\n",
       "        vertical-align: top;\n",
       "    }\n",
       "\n",
       "    .dataframe thead th {\n",
       "        text-align: right;\n",
       "    }\n",
       "</style>\n",
       "<table border=\"1\" class=\"dataframe\">\n",
       "  <thead>\n",
       "    <tr style=\"text-align: right;\">\n",
       "      <th></th>\n",
       "      <th>AE</th>\n",
       "      <th>AEP</th>\n",
       "      <th>AP</th>\n",
       "      <th>ATSI</th>\n",
       "      <th>BC</th>\n",
       "      <th>CE</th>\n",
       "      <th>DAY</th>\n",
       "      <th>DEOK</th>\n",
       "      <th>DOM</th>\n",
       "      <th>DPL</th>\n",
       "      <th>DUQ</th>\n",
       "      <th>EKPC</th>\n",
       "      <th>JC</th>\n",
       "      <th>ME</th>\n",
       "      <th>PE</th>\n",
       "      <th>PEP</th>\n",
       "      <th>PL</th>\n",
       "      <th>PN</th>\n",
       "      <th>PS</th>\n",
       "      <th>RECO</th>\n",
       "    </tr>\n",
       "    <tr>\n",
       "      <th>period</th>\n",
       "      <th></th>\n",
       "      <th></th>\n",
       "      <th></th>\n",
       "      <th></th>\n",
       "      <th></th>\n",
       "      <th></th>\n",
       "      <th></th>\n",
       "      <th></th>\n",
       "      <th></th>\n",
       "      <th></th>\n",
       "      <th></th>\n",
       "      <th></th>\n",
       "      <th></th>\n",
       "      <th></th>\n",
       "      <th></th>\n",
       "      <th></th>\n",
       "      <th></th>\n",
       "      <th></th>\n",
       "      <th></th>\n",
       "      <th></th>\n",
       "    </tr>\n",
       "  </thead>\n",
       "  <tbody>\n",
       "    <tr>\n",
       "      <th>2018-07-01 05:00:00</th>\n",
       "      <td>1301</td>\n",
       "      <td>12187</td>\n",
       "      <td>4384</td>\n",
       "      <td>6960</td>\n",
       "      <td>3134</td>\n",
       "      <td>12136</td>\n",
       "      <td>1619</td>\n",
       "      <td>2895</td>\n",
       "      <td>9775</td>\n",
       "      <td>1919</td>\n",
       "      <td>1466</td>\n",
       "      <td>1209</td>\n",
       "      <td>2388</td>\n",
       "      <td>1442</td>\n",
       "      <td>4397</td>\n",
       "      <td>3165</td>\n",
       "      <td>3835</td>\n",
       "      <td>1611</td>\n",
       "      <td>5009</td>\n",
       "      <td>186</td>\n",
       "    </tr>\n",
       "    <tr>\n",
       "      <th>2018-07-01 06:00:00</th>\n",
       "      <td>1314</td>\n",
       "      <td>11946</td>\n",
       "      <td>4391</td>\n",
       "      <td>6762</td>\n",
       "      <td>3139</td>\n",
       "      <td>11872</td>\n",
       "      <td>1605</td>\n",
       "      <td>2857</td>\n",
       "      <td>9787</td>\n",
       "      <td>1950</td>\n",
       "      <td>1455</td>\n",
       "      <td>1197</td>\n",
       "      <td>2416</td>\n",
       "      <td>1465</td>\n",
       "      <td>4423</td>\n",
       "      <td>3156</td>\n",
       "      <td>3901</td>\n",
       "      <td>1641</td>\n",
       "      <td>4990</td>\n",
       "      <td>187</td>\n",
       "    </tr>\n",
       "    <tr>\n",
       "      <th>2018-07-01 07:00:00</th>\n",
       "      <td>1410</td>\n",
       "      <td>12664</td>\n",
       "      <td>4757</td>\n",
       "      <td>6670</td>\n",
       "      <td>3377</td>\n",
       "      <td>11992</td>\n",
       "      <td>1707</td>\n",
       "      <td>2997</td>\n",
       "      <td>10453</td>\n",
       "      <td>2160</td>\n",
       "      <td>1528</td>\n",
       "      <td>1273</td>\n",
       "      <td>2644</td>\n",
       "      <td>1605</td>\n",
       "      <td>4743</td>\n",
       "      <td>3332</td>\n",
       "      <td>4232</td>\n",
       "      <td>1728</td>\n",
       "      <td>5267</td>\n",
       "      <td>202</td>\n",
       "    </tr>\n",
       "    <tr>\n",
       "      <th>2018-07-01 08:00:00</th>\n",
       "      <td>1567</td>\n",
       "      <td>14069</td>\n",
       "      <td>5308</td>\n",
       "      <td>7065</td>\n",
       "      <td>3788</td>\n",
       "      <td>12860</td>\n",
       "      <td>1916</td>\n",
       "      <td>3331</td>\n",
       "      <td>11734</td>\n",
       "      <td>2470</td>\n",
       "      <td>1688</td>\n",
       "      <td>1472</td>\n",
       "      <td>3064</td>\n",
       "      <td>1784</td>\n",
       "      <td>5230</td>\n",
       "      <td>3679</td>\n",
       "      <td>4613</td>\n",
       "      <td>1899</td>\n",
       "      <td>5735</td>\n",
       "      <td>230</td>\n",
       "    </tr>\n",
       "    <tr>\n",
       "      <th>2018-07-01 09:00:00</th>\n",
       "      <td>1749</td>\n",
       "      <td>15610</td>\n",
       "      <td>5862</td>\n",
       "      <td>7833</td>\n",
       "      <td>4262</td>\n",
       "      <td>14212</td>\n",
       "      <td>2145</td>\n",
       "      <td>3703</td>\n",
       "      <td>13084</td>\n",
       "      <td>2765</td>\n",
       "      <td>1875</td>\n",
       "      <td>1656</td>\n",
       "      <td>3569</td>\n",
       "      <td>1972</td>\n",
       "      <td>5752</td>\n",
       "      <td>4085</td>\n",
       "      <td>5014</td>\n",
       "      <td>2055</td>\n",
       "      <td>6299</td>\n",
       "      <td>259</td>\n",
       "    </tr>\n",
       "  </tbody>\n",
       "</table>\n",
       "</div>"
      ],
      "text/plain": [
       "                       AE    AEP    AP  ATSI    BC     CE   DAY  DEOK    DOM  \\\n",
       "period                                                                         \n",
       "2018-07-01 05:00:00  1301  12187  4384  6960  3134  12136  1619  2895   9775   \n",
       "2018-07-01 06:00:00  1314  11946  4391  6762  3139  11872  1605  2857   9787   \n",
       "2018-07-01 07:00:00  1410  12664  4757  6670  3377  11992  1707  2997  10453   \n",
       "2018-07-01 08:00:00  1567  14069  5308  7065  3788  12860  1916  3331  11734   \n",
       "2018-07-01 09:00:00  1749  15610  5862  7833  4262  14212  2145  3703  13084   \n",
       "\n",
       "                      DPL   DUQ  EKPC    JC    ME    PE   PEP    PL    PN  \\\n",
       "period                                                                      \n",
       "2018-07-01 05:00:00  1919  1466  1209  2388  1442  4397  3165  3835  1611   \n",
       "2018-07-01 06:00:00  1950  1455  1197  2416  1465  4423  3156  3901  1641   \n",
       "2018-07-01 07:00:00  2160  1528  1273  2644  1605  4743  3332  4232  1728   \n",
       "2018-07-01 08:00:00  2470  1688  1472  3064  1784  5230  3679  4613  1899   \n",
       "2018-07-01 09:00:00  2765  1875  1656  3569  1972  5752  4085  5014  2055   \n",
       "\n",
       "                       PS  RECO  \n",
       "period                           \n",
       "2018-07-01 05:00:00  5009   186  \n",
       "2018-07-01 06:00:00  4990   187  \n",
       "2018-07-01 07:00:00  5267   202  \n",
       "2018-07-01 08:00:00  5735   230  \n",
       "2018-07-01 09:00:00  6299   259  "
      ]
     },
     "execution_count": 2,
     "metadata": {},
     "output_type": "execute_result"
    }
   ],
   "source": [
    "df_base = pd.read_csv('../data/general/pjm_pivot.csv', index_col=0, parse_dates=True)\n",
    "df_base.head()"
   ]
  },
  {
   "attachments": {},
   "cell_type": "markdown",
   "id": "d1668f4a",
   "metadata": {
    "papermill": {
     "duration": 0.006001,
     "end_time": "2023-12-13T13:00:43.952430",
     "exception": false,
     "start_time": "2023-12-13T13:00:43.946429",
     "status": "completed"
    },
    "tags": []
   },
   "source": [
    "## Select region"
   ]
  },
  {
   "cell_type": "code",
   "execution_count": 3,
   "id": "e92a7d42",
   "metadata": {
    "execution": {
     "iopub.execute_input": "2023-12-13T13:00:43.968489Z",
     "iopub.status.busy": "2023-12-13T13:00:43.967490Z",
     "iopub.status.idle": "2023-12-13T13:00:43.984493Z",
     "shell.execute_reply": "2023-12-13T13:00:43.984493Z"
    },
    "papermill": {
     "duration": 0.026007,
     "end_time": "2023-12-13T13:00:43.986494",
     "exception": false,
     "start_time": "2023-12-13T13:00:43.960487",
     "status": "completed"
    },
    "tags": [
     "parameters"
    ]
   },
   "outputs": [],
   "source": [
    "region = 'AE'"
   ]
  },
  {
   "cell_type": "code",
   "execution_count": 4,
   "id": "438a1daf",
   "metadata": {
    "execution": {
     "iopub.execute_input": "2023-12-13T13:00:44.004498Z",
     "iopub.status.busy": "2023-12-13T13:00:44.004498Z",
     "iopub.status.idle": "2023-12-13T13:00:44.010050Z",
     "shell.execute_reply": "2023-12-13T13:00:44.009797Z"
    },
    "papermill": {
     "duration": 0.019557,
     "end_time": "2023-12-13T13:00:44.012051",
     "exception": false,
     "start_time": "2023-12-13T13:00:43.992494",
     "status": "completed"
    },
    "tags": [
     "injected-parameters"
    ]
   },
   "outputs": [],
   "source": [
    "# Parameters\n",
    "region = \"CE\"\n"
   ]
  },
  {
   "cell_type": "code",
   "execution_count": 5,
   "id": "1c4f333e",
   "metadata": {
    "execution": {
     "iopub.execute_input": "2023-12-13T13:00:44.025560Z",
     "iopub.status.busy": "2023-12-13T13:00:44.025560Z",
     "iopub.status.idle": "2023-12-13T13:00:44.037939Z",
     "shell.execute_reply": "2023-12-13T13:00:44.037939Z"
    },
    "papermill": {
     "duration": 0.022539,
     "end_time": "2023-12-13T13:00:44.040097",
     "exception": false,
     "start_time": "2023-12-13T13:00:44.017558",
     "status": "completed"
    },
    "tags": []
   },
   "outputs": [
    {
     "data": {
      "text/html": [
       "<div>\n",
       "<style scoped>\n",
       "    .dataframe tbody tr th:only-of-type {\n",
       "        vertical-align: middle;\n",
       "    }\n",
       "\n",
       "    .dataframe tbody tr th {\n",
       "        vertical-align: top;\n",
       "    }\n",
       "\n",
       "    .dataframe thead th {\n",
       "        text-align: right;\n",
       "    }\n",
       "</style>\n",
       "<table border=\"1\" class=\"dataframe\">\n",
       "  <thead>\n",
       "    <tr style=\"text-align: right;\">\n",
       "      <th></th>\n",
       "      <th>CE</th>\n",
       "    </tr>\n",
       "    <tr>\n",
       "      <th>period</th>\n",
       "      <th></th>\n",
       "    </tr>\n",
       "  </thead>\n",
       "  <tbody>\n",
       "    <tr>\n",
       "      <th>2018-07-01 05:00:00</th>\n",
       "      <td>12136</td>\n",
       "    </tr>\n",
       "    <tr>\n",
       "      <th>2018-07-01 06:00:00</th>\n",
       "      <td>11872</td>\n",
       "    </tr>\n",
       "    <tr>\n",
       "      <th>2018-07-01 07:00:00</th>\n",
       "      <td>11992</td>\n",
       "    </tr>\n",
       "    <tr>\n",
       "      <th>2018-07-01 08:00:00</th>\n",
       "      <td>12860</td>\n",
       "    </tr>\n",
       "    <tr>\n",
       "      <th>2018-07-01 09:00:00</th>\n",
       "      <td>14212</td>\n",
       "    </tr>\n",
       "    <tr>\n",
       "      <th>...</th>\n",
       "      <td>...</td>\n",
       "    </tr>\n",
       "    <tr>\n",
       "      <th>2023-11-01 00:00:00</th>\n",
       "      <td>11485</td>\n",
       "    </tr>\n",
       "    <tr>\n",
       "      <th>2023-11-01 01:00:00</th>\n",
       "      <td>11327</td>\n",
       "    </tr>\n",
       "    <tr>\n",
       "      <th>2023-11-01 02:00:00</th>\n",
       "      <td>11104</td>\n",
       "    </tr>\n",
       "    <tr>\n",
       "      <th>2023-11-01 03:00:00</th>\n",
       "      <td>10780</td>\n",
       "    </tr>\n",
       "    <tr>\n",
       "      <th>2023-11-01 04:00:00</th>\n",
       "      <td>10229</td>\n",
       "    </tr>\n",
       "  </tbody>\n",
       "</table>\n",
       "<p>44904 rows × 1 columns</p>\n",
       "</div>"
      ],
      "text/plain": [
       "                        CE\n",
       "period                    \n",
       "2018-07-01 05:00:00  12136\n",
       "2018-07-01 06:00:00  11872\n",
       "2018-07-01 07:00:00  11992\n",
       "2018-07-01 08:00:00  12860\n",
       "2018-07-01 09:00:00  14212\n",
       "...                    ...\n",
       "2023-11-01 00:00:00  11485\n",
       "2023-11-01 01:00:00  11327\n",
       "2023-11-01 02:00:00  11104\n",
       "2023-11-01 03:00:00  10780\n",
       "2023-11-01 04:00:00  10229\n",
       "\n",
       "[44904 rows x 1 columns]"
      ]
     },
     "execution_count": 5,
     "metadata": {},
     "output_type": "execute_result"
    }
   ],
   "source": [
    "df = df_base.loc[:, [region]]\n",
    "df"
   ]
  },
  {
   "attachments": {},
   "cell_type": "markdown",
   "id": "3e6b64b0",
   "metadata": {
    "papermill": {
     "duration": 0.006002,
     "end_time": "2023-12-13T13:00:44.053100",
     "exception": false,
     "start_time": "2023-12-13T13:00:44.047098",
     "status": "completed"
    },
    "tags": []
   },
   "source": [
    "## Data Preprocessing"
   ]
  },
  {
   "cell_type": "markdown",
   "id": "26f0f4eb",
   "metadata": {
    "papermill": {
     "duration": 0.007001,
     "end_time": "2023-12-13T13:00:44.068572",
     "exception": false,
     "start_time": "2023-12-13T13:00:44.061571",
     "status": "completed"
    },
    "tags": []
   },
   "source": [
    "### Train Test Split"
   ]
  },
  {
   "cell_type": "code",
   "execution_count": 6,
   "id": "6eee28a3",
   "metadata": {
    "execution": {
     "iopub.execute_input": "2023-12-13T13:00:44.083576Z",
     "iopub.status.busy": "2023-12-13T13:00:44.083576Z",
     "iopub.status.idle": "2023-12-13T13:00:44.533357Z",
     "shell.execute_reply": "2023-12-13T13:00:44.532321Z"
    },
    "papermill": {
     "duration": 0.458783,
     "end_time": "2023-12-13T13:00:44.534357",
     "exception": false,
     "start_time": "2023-12-13T13:00:44.075574",
     "status": "completed"
    },
    "tags": []
   },
   "outputs": [],
   "source": [
    "from sklearn.model_selection import train_test_split\n",
    "\n",
    "train, test = train_test_split(df, test_size=0.3, shuffle=False)\n",
    "test, prod = train_test_split(test, test_size=0.5, shuffle=False)"
   ]
  },
  {
   "cell_type": "markdown",
   "id": "82e0bf84",
   "metadata": {
    "papermill": {
     "duration": 0.007001,
     "end_time": "2023-12-13T13:00:44.549181",
     "exception": false,
     "start_time": "2023-12-13T13:00:44.542180",
     "status": "completed"
    },
    "tags": []
   },
   "source": [
    "### Export Data"
   ]
  },
  {
   "cell_type": "code",
   "execution_count": 7,
   "id": "ca052f63",
   "metadata": {
    "execution": {
     "iopub.execute_input": "2023-12-13T13:00:44.569011Z",
     "iopub.status.busy": "2023-12-13T13:00:44.568012Z",
     "iopub.status.idle": "2023-12-13T13:00:44.688299Z",
     "shell.execute_reply": "2023-12-13T13:00:44.687298Z"
    },
    "papermill": {
     "duration": 0.13229,
     "end_time": "2023-12-13T13:00:44.690298",
     "exception": false,
     "start_time": "2023-12-13T13:00:44.558008",
     "status": "completed"
    },
    "tags": []
   },
   "outputs": [],
   "source": [
    "import os\n",
    "\n",
    "path_region = f'../data/regions/{region}'\n",
    "\n",
    "if not os.path.exists(path_region):\n",
    "    os.makedirs(path_region)\n",
    "\n",
    "for df, name in zip([train, test, prod], ['train', 'test', 'prod']):\n",
    "    df.to_csv(f'{path_region}/{name}.csv')"
   ]
  },
  {
   "attachments": {},
   "cell_type": "markdown",
   "id": "16295faf",
   "metadata": {
    "papermill": {
     "duration": 0.006001,
     "end_time": "2023-12-13T13:00:44.703301",
     "exception": false,
     "start_time": "2023-12-13T13:00:44.697300",
     "status": "completed"
    },
    "tags": []
   },
   "source": [
    "### Scale Data"
   ]
  },
  {
   "cell_type": "code",
   "execution_count": 8,
   "id": "1a822b2e",
   "metadata": {
    "execution": {
     "iopub.execute_input": "2023-12-13T13:00:44.718193Z",
     "iopub.status.busy": "2023-12-13T13:00:44.718193Z",
     "iopub.status.idle": "2023-12-13T13:00:44.740389Z",
     "shell.execute_reply": "2023-12-13T13:00:44.739386Z"
    },
    "papermill": {
     "duration": 0.032199,
     "end_time": "2023-12-13T13:00:44.742390",
     "exception": false,
     "start_time": "2023-12-13T13:00:44.710191",
     "status": "completed"
    },
    "tags": []
   },
   "outputs": [],
   "source": [
    "from sklearn.preprocessing import MinMaxScaler\n",
    "\n",
    "scaler = MinMaxScaler(feature_range=(0, 1))\n",
    "\n",
    "train_norm = scaler.fit_transform(train)\n",
    "test_norm = scaler.transform(test)"
   ]
  },
  {
   "attachments": {},
   "cell_type": "markdown",
   "id": "c270b73b",
   "metadata": {
    "papermill": {
     "duration": 0.007002,
     "end_time": "2023-12-13T13:00:44.756392",
     "exception": false,
     "start_time": "2023-12-13T13:00:44.749390",
     "status": "completed"
    },
    "tags": []
   },
   "source": [
    "### Create Sequences"
   ]
  },
  {
   "cell_type": "code",
   "execution_count": 9,
   "id": "428877d6",
   "metadata": {
    "execution": {
     "iopub.execute_input": "2023-12-13T13:00:44.775871Z",
     "iopub.status.busy": "2023-12-13T13:00:44.775871Z",
     "iopub.status.idle": "2023-12-13T13:00:44.852510Z",
     "shell.execute_reply": "2023-12-13T13:00:44.852510Z"
    },
    "papermill": {
     "duration": 0.090117,
     "end_time": "2023-12-13T13:00:44.854511",
     "exception": false,
     "start_time": "2023-12-13T13:00:44.764394",
     "status": "completed"
    },
    "tags": []
   },
   "outputs": [],
   "source": [
    "import numpy as np\n",
    "\n",
    "def create_sequences(data, sequence_length):\n",
    "    X, y = [], []\n",
    "    for i in range(len(data) - sequence_length):\n",
    "        X.append(data[i:i+sequence_length])\n",
    "        y.append(data[i+sequence_length])\n",
    "    return np.array(X), np.array(y)\n",
    "\n",
    "sequence_length = 24 # Use 24 hours prior to predict the following hour\n",
    "X_train, y_train = create_sequences(train_norm, sequence_length)\n",
    "X_test, y_test = create_sequences(test_norm, sequence_length)"
   ]
  },
  {
   "attachments": {},
   "cell_type": "markdown",
   "id": "756d7e57",
   "metadata": {
    "papermill": {
     "duration": 0.006189,
     "end_time": "2023-12-13T13:00:44.868211",
     "exception": false,
     "start_time": "2023-12-13T13:00:44.862022",
     "status": "completed"
    },
    "tags": []
   },
   "source": [
    "## Modelling"
   ]
  },
  {
   "attachments": {},
   "cell_type": "markdown",
   "id": "68dbf729",
   "metadata": {
    "papermill": {
     "duration": 0.007969,
     "end_time": "2023-12-13T13:00:44.886221",
     "exception": false,
     "start_time": "2023-12-13T13:00:44.878252",
     "status": "completed"
    },
    "tags": []
   },
   "source": [
    "### Design NN Architecture"
   ]
  },
  {
   "cell_type": "code",
   "execution_count": 10,
   "id": "28ab5f8b",
   "metadata": {
    "execution": {
     "iopub.execute_input": "2023-12-13T13:00:44.902225Z",
     "iopub.status.busy": "2023-12-13T13:00:44.902225Z",
     "iopub.status.idle": "2023-12-13T13:00:46.318479Z",
     "shell.execute_reply": "2023-12-13T13:00:46.317479Z"
    },
    "papermill": {
     "duration": 1.425257,
     "end_time": "2023-12-13T13:00:46.319480",
     "exception": false,
     "start_time": "2023-12-13T13:00:44.894223",
     "status": "completed"
    },
    "tags": []
   },
   "outputs": [
    {
     "name": "stderr",
     "output_type": "stream",
     "text": [
      "c:\\Users\\jesus\\miniconda3\\envs\\tf-base\\lib\\site-packages\\tensorflow\\python\\framework\\dtypes.py:516: FutureWarning: Passing (type, 1) or '1type' as a synonym of type is deprecated; in a future version of numpy, it will be understood as (type, (1,)) / '(1,)type'.\n",
      "  _np_qint8 = np.dtype([(\"qint8\", np.int8, 1)])\n",
      "c:\\Users\\jesus\\miniconda3\\envs\\tf-base\\lib\\site-packages\\tensorflow\\python\\framework\\dtypes.py:517: FutureWarning: Passing (type, 1) or '1type' as a synonym of type is deprecated; in a future version of numpy, it will be understood as (type, (1,)) / '(1,)type'.\n",
      "  _np_quint8 = np.dtype([(\"quint8\", np.uint8, 1)])\n",
      "c:\\Users\\jesus\\miniconda3\\envs\\tf-base\\lib\\site-packages\\tensorflow\\python\\framework\\dtypes.py:518: FutureWarning: Passing (type, 1) or '1type' as a synonym of type is deprecated; in a future version of numpy, it will be understood as (type, (1,)) / '(1,)type'.\n",
      "  _np_qint16 = np.dtype([(\"qint16\", np.int16, 1)])\n",
      "c:\\Users\\jesus\\miniconda3\\envs\\tf-base\\lib\\site-packages\\tensorflow\\python\\framework\\dtypes.py:519: FutureWarning: Passing (type, 1) or '1type' as a synonym of type is deprecated; in a future version of numpy, it will be understood as (type, (1,)) / '(1,)type'.\n",
      "  _np_quint16 = np.dtype([(\"quint16\", np.uint16, 1)])\n",
      "c:\\Users\\jesus\\miniconda3\\envs\\tf-base\\lib\\site-packages\\tensorflow\\python\\framework\\dtypes.py:520: FutureWarning: Passing (type, 1) or '1type' as a synonym of type is deprecated; in a future version of numpy, it will be understood as (type, (1,)) / '(1,)type'.\n",
      "  _np_qint32 = np.dtype([(\"qint32\", np.int32, 1)])\n",
      "c:\\Users\\jesus\\miniconda3\\envs\\tf-base\\lib\\site-packages\\tensorflow\\python\\framework\\dtypes.py:525: FutureWarning: Passing (type, 1) or '1type' as a synonym of type is deprecated; in a future version of numpy, it will be understood as (type, (1,)) / '(1,)type'.\n",
      "  np_resource = np.dtype([(\"resource\", np.ubyte, 1)])\n"
     ]
    },
    {
     "name": "stdout",
     "output_type": "stream",
     "text": [
      "WARNING:tensorflow:From c:\\Users\\jesus\\miniconda3\\envs\\tf-base\\lib\\site-packages\\tensorflow\\python\\ops\\init_ops.py:1251: calling VarianceScaling.__init__ (from tensorflow.python.ops.init_ops) with dtype is deprecated and will be removed in a future version.\n",
      "Instructions for updating:\n",
      "Call initializer instance with the dtype argument instead of passing it to the constructor\n"
     ]
    },
    {
     "name": "stderr",
     "output_type": "stream",
     "text": [
      "c:\\Users\\jesus\\miniconda3\\envs\\tf-base\\lib\\site-packages\\tensorboard\\compat\\tensorflow_stub\\dtypes.py:541: FutureWarning: Passing (type, 1) or '1type' as a synonym of type is deprecated; in a future version of numpy, it will be understood as (type, (1,)) / '(1,)type'.\n",
      "  _np_qint8 = np.dtype([(\"qint8\", np.int8, 1)])\n",
      "c:\\Users\\jesus\\miniconda3\\envs\\tf-base\\lib\\site-packages\\tensorboard\\compat\\tensorflow_stub\\dtypes.py:542: FutureWarning: Passing (type, 1) or '1type' as a synonym of type is deprecated; in a future version of numpy, it will be understood as (type, (1,)) / '(1,)type'.\n",
      "  _np_quint8 = np.dtype([(\"quint8\", np.uint8, 1)])\n",
      "c:\\Users\\jesus\\miniconda3\\envs\\tf-base\\lib\\site-packages\\tensorboard\\compat\\tensorflow_stub\\dtypes.py:543: FutureWarning: Passing (type, 1) or '1type' as a synonym of type is deprecated; in a future version of numpy, it will be understood as (type, (1,)) / '(1,)type'.\n",
      "  _np_qint16 = np.dtype([(\"qint16\", np.int16, 1)])\n",
      "c:\\Users\\jesus\\miniconda3\\envs\\tf-base\\lib\\site-packages\\tensorboard\\compat\\tensorflow_stub\\dtypes.py:544: FutureWarning: Passing (type, 1) or '1type' as a synonym of type is deprecated; in a future version of numpy, it will be understood as (type, (1,)) / '(1,)type'.\n",
      "  _np_quint16 = np.dtype([(\"quint16\", np.uint16, 1)])\n",
      "c:\\Users\\jesus\\miniconda3\\envs\\tf-base\\lib\\site-packages\\tensorboard\\compat\\tensorflow_stub\\dtypes.py:545: FutureWarning: Passing (type, 1) or '1type' as a synonym of type is deprecated; in a future version of numpy, it will be understood as (type, (1,)) / '(1,)type'.\n",
      "  _np_qint32 = np.dtype([(\"qint32\", np.int32, 1)])\n",
      "c:\\Users\\jesus\\miniconda3\\envs\\tf-base\\lib\\site-packages\\tensorboard\\compat\\tensorflow_stub\\dtypes.py:550: FutureWarning: Passing (type, 1) or '1type' as a synonym of type is deprecated; in a future version of numpy, it will be understood as (type, (1,)) / '(1,)type'.\n",
      "  np_resource = np.dtype([(\"resource\", np.ubyte, 1)])\n"
     ]
    }
   ],
   "source": [
    "from tensorflow.keras.models import Sequential\n",
    "from tensorflow.keras.layers import LSTM, Dense\n",
    "\n",
    "model = Sequential()\n",
    "model.add(LSTM(50, input_shape=(X_train.shape[1], X_train.shape[2])))\n",
    "model.add(Dense(1))\n",
    "model.compile(optimizer='adam', loss='mean_squared_error')"
   ]
  },
  {
   "attachments": {},
   "cell_type": "markdown",
   "id": "e364c429",
   "metadata": {
    "papermill": {
     "duration": 0.007451,
     "end_time": "2023-12-13T13:00:46.334586",
     "exception": false,
     "start_time": "2023-12-13T13:00:46.327135",
     "status": "completed"
    },
    "tags": []
   },
   "source": [
    "### Train Model"
   ]
  },
  {
   "cell_type": "code",
   "execution_count": 11,
   "id": "c4869a83",
   "metadata": {
    "execution": {
     "iopub.execute_input": "2023-12-13T13:00:46.353422Z",
     "iopub.status.busy": "2023-12-13T13:00:46.353422Z",
     "iopub.status.idle": "2023-12-13T13:05:40.322137Z",
     "shell.execute_reply": "2023-12-13T13:05:40.322137Z"
    },
    "papermill": {
     "duration": 293.979971,
     "end_time": "2023-12-13T13:05:40.324138",
     "exception": false,
     "start_time": "2023-12-13T13:00:46.344167",
     "status": "completed"
    },
    "tags": []
   },
   "outputs": [
    {
     "name": "stdout",
     "output_type": "stream",
     "text": [
      "WARNING:tensorflow:From c:\\Users\\jesus\\miniconda3\\envs\\tf-base\\lib\\site-packages\\tensorflow\\python\\ops\\math_grad.py:1250: add_dispatch_support.<locals>.wrapper (from tensorflow.python.ops.array_ops) is deprecated and will be removed in a future version.\n",
      "Instructions for updating:\n",
      "Use tf.where in 2.0, which has the same broadcast rule as np.where\n"
     ]
    }
   ],
   "source": [
    "from tensorflow.keras.callbacks import EarlyStopping\n",
    "\n",
    "early_stop = EarlyStopping(monitor='val_loss', patience=5)\n",
    "\n",
    "history = model.fit(\n",
    "    X_train, y_train, epochs=50, batch_size=64, verbose=0,\n",
    "    validation_data=(X_test, y_test), callbacks=[early_stop])"
   ]
  },
  {
   "attachments": {},
   "cell_type": "markdown",
   "id": "76880c7d",
   "metadata": {
    "papermill": {
     "duration": 0.008002,
     "end_time": "2023-12-13T13:05:40.339141",
     "exception": false,
     "start_time": "2023-12-13T13:05:40.331139",
     "status": "completed"
    },
    "tags": []
   },
   "source": [
    "### Calculate Predictions"
   ]
  },
  {
   "cell_type": "code",
   "execution_count": 12,
   "id": "11bf3ce3",
   "metadata": {
    "execution": {
     "iopub.execute_input": "2023-12-13T13:05:40.357146Z",
     "iopub.status.busy": "2023-12-13T13:05:40.356146Z",
     "iopub.status.idle": "2023-12-13T13:05:40.879033Z",
     "shell.execute_reply": "2023-12-13T13:05:40.879033Z"
    },
    "papermill": {
     "duration": 0.533924,
     "end_time": "2023-12-13T13:05:40.881067",
     "exception": false,
     "start_time": "2023-12-13T13:05:40.347143",
     "status": "completed"
    },
    "tags": []
   },
   "outputs": [
    {
     "data": {
      "text/plain": [
       "array([[0.01221094],\n",
       "       [0.01271159],\n",
       "       [0.01325246],\n",
       "       ...,\n",
       "       [0.02077968],\n",
       "       [0.02338726],\n",
       "       [0.02796365]], dtype=float32)"
      ]
     },
     "execution_count": 12,
     "metadata": {},
     "output_type": "execute_result"
    }
   ],
   "source": [
    "y_pred = model.predict(X_test)\n",
    "y_pred"
   ]
  },
  {
   "attachments": {},
   "cell_type": "markdown",
   "id": "f70bbcfe",
   "metadata": {
    "papermill": {
     "duration": 0.007691,
     "end_time": "2023-12-13T13:05:40.896760",
     "exception": false,
     "start_time": "2023-12-13T13:05:40.889069",
     "status": "completed"
    },
    "tags": []
   },
   "source": [
    "### Comparison: Real Data & Prediction"
   ]
  },
  {
   "attachments": {},
   "cell_type": "markdown",
   "id": "9bb5e9a0",
   "metadata": {
    "papermill": {
     "duration": 0.007001,
     "end_time": "2023-12-13T13:05:40.910806",
     "exception": false,
     "start_time": "2023-12-13T13:05:40.903805",
     "status": "completed"
    },
    "tags": []
   },
   "source": [
    "#### Descale Data"
   ]
  },
  {
   "cell_type": "code",
   "execution_count": 13,
   "id": "7da85b78",
   "metadata": {
    "execution": {
     "iopub.execute_input": "2023-12-13T13:05:40.927810Z",
     "iopub.status.busy": "2023-12-13T13:05:40.926810Z",
     "iopub.status.idle": "2023-12-13T13:05:40.943814Z",
     "shell.execute_reply": "2023-12-13T13:05:40.942814Z"
    },
    "papermill": {
     "duration": 0.026006,
     "end_time": "2023-12-13T13:05:40.944814",
     "exception": false,
     "start_time": "2023-12-13T13:05:40.918808",
     "status": "completed"
    },
    "tags": []
   },
   "outputs": [],
   "source": [
    "y_pred_scaled_inverse = scaler.inverse_transform(y_pred)\n",
    "y_true = scaler.inverse_transform(y_test)"
   ]
  },
  {
   "attachments": {},
   "cell_type": "markdown",
   "id": "c58def69",
   "metadata": {
    "papermill": {
     "duration": 0.007001,
     "end_time": "2023-12-13T13:05:40.958817",
     "exception": false,
     "start_time": "2023-12-13T13:05:40.951816",
     "status": "completed"
    },
    "tags": []
   },
   "source": [
    "#### Create DataFrame"
   ]
  },
  {
   "cell_type": "code",
   "execution_count": 14,
   "id": "8fd9990b",
   "metadata": {
    "execution": {
     "iopub.execute_input": "2023-12-13T13:05:40.976821Z",
     "iopub.status.busy": "2023-12-13T13:05:40.976821Z",
     "iopub.status.idle": "2023-12-13T13:05:40.988559Z",
     "shell.execute_reply": "2023-12-13T13:05:40.988559Z"
    },
    "papermill": {
     "duration": 0.023741,
     "end_time": "2023-12-13T13:05:40.990560",
     "exception": false,
     "start_time": "2023-12-13T13:05:40.966819",
     "status": "completed"
    },
    "tags": []
   },
   "outputs": [
    {
     "data": {
      "text/html": [
       "<div>\n",
       "<style scoped>\n",
       "    .dataframe tbody tr th:only-of-type {\n",
       "        vertical-align: middle;\n",
       "    }\n",
       "\n",
       "    .dataframe tbody tr th {\n",
       "        vertical-align: top;\n",
       "    }\n",
       "\n",
       "    .dataframe thead th {\n",
       "        text-align: right;\n",
       "    }\n",
       "</style>\n",
       "<table border=\"1\" class=\"dataframe\">\n",
       "  <thead>\n",
       "    <tr style=\"text-align: right;\">\n",
       "      <th></th>\n",
       "      <th>y_pred</th>\n",
       "      <th>y_pred_scaled_inverse</th>\n",
       "      <th>y_true</th>\n",
       "    </tr>\n",
       "  </thead>\n",
       "  <tbody>\n",
       "    <tr>\n",
       "      <th>0</th>\n",
       "      <td>0.012211</td>\n",
       "      <td>8475.372070</td>\n",
       "      <td>8282.0</td>\n",
       "    </tr>\n",
       "    <tr>\n",
       "      <th>1</th>\n",
       "      <td>0.012712</td>\n",
       "      <td>8543.120117</td>\n",
       "      <td>8403.0</td>\n",
       "    </tr>\n",
       "    <tr>\n",
       "      <th>2</th>\n",
       "      <td>0.013252</td>\n",
       "      <td>8616.309570</td>\n",
       "      <td>8643.0</td>\n",
       "    </tr>\n",
       "    <tr>\n",
       "      <th>3</th>\n",
       "      <td>0.014500</td>\n",
       "      <td>8785.177734</td>\n",
       "      <td>9050.0</td>\n",
       "    </tr>\n",
       "    <tr>\n",
       "      <th>4</th>\n",
       "      <td>0.017160</td>\n",
       "      <td>9145.075195</td>\n",
       "      <td>9206.0</td>\n",
       "    </tr>\n",
       "    <tr>\n",
       "      <th>...</th>\n",
       "      <td>...</td>\n",
       "      <td>...</td>\n",
       "      <td>...</td>\n",
       "    </tr>\n",
       "    <tr>\n",
       "      <th>6707</th>\n",
       "      <td>0.017695</td>\n",
       "      <td>9217.537109</td>\n",
       "      <td>9250.0</td>\n",
       "    </tr>\n",
       "    <tr>\n",
       "      <th>6708</th>\n",
       "      <td>0.018912</td>\n",
       "      <td>9382.104492</td>\n",
       "      <td>9382.0</td>\n",
       "    </tr>\n",
       "    <tr>\n",
       "      <th>6709</th>\n",
       "      <td>0.020780</td>\n",
       "      <td>9634.885742</td>\n",
       "      <td>9690.0</td>\n",
       "    </tr>\n",
       "    <tr>\n",
       "      <th>6710</th>\n",
       "      <td>0.023387</td>\n",
       "      <td>9987.740234</td>\n",
       "      <td>10341.0</td>\n",
       "    </tr>\n",
       "    <tr>\n",
       "      <th>6711</th>\n",
       "      <td>0.027964</td>\n",
       "      <td>10607.013672</td>\n",
       "      <td>11295.0</td>\n",
       "    </tr>\n",
       "  </tbody>\n",
       "</table>\n",
       "<p>6712 rows × 3 columns</p>\n",
       "</div>"
      ],
      "text/plain": [
       "        y_pred  y_pred_scaled_inverse   y_true\n",
       "0     0.012211            8475.372070   8282.0\n",
       "1     0.012712            8543.120117   8403.0\n",
       "2     0.013252            8616.309570   8643.0\n",
       "3     0.014500            8785.177734   9050.0\n",
       "4     0.017160            9145.075195   9206.0\n",
       "...        ...                    ...      ...\n",
       "6707  0.017695            9217.537109   9250.0\n",
       "6708  0.018912            9382.104492   9382.0\n",
       "6709  0.020780            9634.885742   9690.0\n",
       "6710  0.023387            9987.740234  10341.0\n",
       "6711  0.027964           10607.013672  11295.0\n",
       "\n",
       "[6712 rows x 3 columns]"
      ]
     },
     "execution_count": 14,
     "metadata": {},
     "output_type": "execute_result"
    }
   ],
   "source": [
    "dic_pred = {\n",
    "    'y_pred': y_pred.flatten(),\n",
    "    'y_pred_scaled_inverse': y_pred_scaled_inverse.flatten(),\n",
    "    'y_true': y_true.flatten(),\n",
    "}\n",
    "\n",
    "df_pred = pd.DataFrame(dic_pred)\n",
    "df_pred"
   ]
  },
  {
   "attachments": {},
   "cell_type": "markdown",
   "id": "b34ab846",
   "metadata": {
    "papermill": {
     "duration": 0.008002,
     "end_time": "2023-12-13T13:05:41.007564",
     "exception": false,
     "start_time": "2023-12-13T13:05:40.999562",
     "status": "completed"
    },
    "tags": []
   },
   "source": [
    "#### Evaluate Model"
   ]
  },
  {
   "cell_type": "code",
   "execution_count": 15,
   "id": "86ca2b85",
   "metadata": {
    "execution": {
     "iopub.execute_input": "2023-12-13T13:05:41.024568Z",
     "iopub.status.busy": "2023-12-13T13:05:41.023568Z",
     "iopub.status.idle": "2023-12-13T13:05:41.036571Z",
     "shell.execute_reply": "2023-12-13T13:05:41.036571Z"
    },
    "papermill": {
     "duration": 0.024006,
     "end_time": "2023-12-13T13:05:41.039571",
     "exception": false,
     "start_time": "2023-12-13T13:05:41.015565",
     "status": "completed"
    },
    "tags": []
   },
   "outputs": [],
   "source": [
    "from sklearn.metrics import mean_squared_error"
   ]
  },
  {
   "cell_type": "code",
   "execution_count": 16,
   "id": "ad5a303d",
   "metadata": {
    "execution": {
     "iopub.execute_input": "2023-12-13T13:05:41.057805Z",
     "iopub.status.busy": "2023-12-13T13:05:41.057805Z",
     "iopub.status.idle": "2023-12-13T13:05:41.064011Z",
     "shell.execute_reply": "2023-12-13T13:05:41.063345Z"
    },
    "papermill": {
     "duration": 0.01737,
     "end_time": "2023-12-13T13:05:41.066062",
     "exception": false,
     "start_time": "2023-12-13T13:05:41.048692",
     "status": "completed"
    },
    "tags": []
   },
   "outputs": [
    {
     "data": {
      "text/plain": [
       "234.02761966866873"
      ]
     },
     "execution_count": 16,
     "metadata": {},
     "output_type": "execute_result"
    }
   ],
   "source": [
    "mean_squared_error(df_pred.y_true, df_pred.y_pred_scaled_inverse, squared=False)"
   ]
  },
  {
   "cell_type": "code",
   "execution_count": 17,
   "id": "158464b7",
   "metadata": {
    "execution": {
     "iopub.execute_input": "2023-12-13T13:05:41.082407Z",
     "iopub.status.busy": "2023-12-13T13:05:41.081375Z",
     "iopub.status.idle": "2023-12-13T13:05:41.177496Z",
     "shell.execute_reply": "2023-12-13T13:05:41.177496Z"
    },
    "papermill": {
     "duration": 0.106995,
     "end_time": "2023-12-13T13:05:41.180058",
     "exception": false,
     "start_time": "2023-12-13T13:05:41.073063",
     "status": "completed"
    },
    "tags": []
   },
   "outputs": [],
   "source": [
    "model.save(f'../models/{region}.keras')"
   ]
  }
 ],
 "metadata": {
  "kernelspec": {
   "display_name": "deep-learning",
   "language": "python",
   "name": "python3"
  },
  "language_info": {
   "codemirror_mode": {
    "name": "ipython",
    "version": 3
   },
   "file_extension": ".py",
   "mimetype": "text/x-python",
   "name": "python",
   "nbconvert_exporter": "python",
   "pygments_lexer": "ipython3",
   "version": "3.7.12"
  },
  "papermill": {
   "default_parameters": {},
   "duration": 299.509173,
   "end_time": "2023-12-13T13:05:41.646078",
   "environment_variables": {},
   "exception": null,
   "input_path": "Modelling.ipynb",
   "output_path": "outputs/CE.ipynb",
   "parameters": {
    "region": "CE"
   },
   "start_time": "2023-12-13T13:00:42.136905",
   "version": "2.4.0"
  }
 },
 "nbformat": 4,
 "nbformat_minor": 5
}