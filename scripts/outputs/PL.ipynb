{
 "cells": [
  {
   "attachments": {},
   "cell_type": "markdown",
   "id": "9fdcb180",
   "metadata": {
    "papermill": {
     "duration": 0.000972,
     "end_time": "2023-12-13T13:39:37.348151",
     "exception": false,
     "start_time": "2023-12-13T13:39:37.347179",
     "status": "completed"
    },
    "tags": []
   },
   "source": [
    "## Load data"
   ]
  },
  {
   "cell_type": "code",
   "execution_count": 1,
   "id": "be847092",
   "metadata": {
    "execution": {
     "iopub.execute_input": "2023-12-13T13:39:37.365885Z",
     "iopub.status.busy": "2023-12-13T13:39:37.365885Z",
     "iopub.status.idle": "2023-12-13T13:39:37.715304Z",
     "shell.execute_reply": "2023-12-13T13:39:37.715304Z"
    },
    "papermill": {
     "duration": 0.367153,
     "end_time": "2023-12-13T13:39:37.715304",
     "exception": false,
     "start_time": "2023-12-13T13:39:37.348151",
     "status": "completed"
    },
    "tags": []
   },
   "outputs": [],
   "source": [
    "import pandas as pd"
   ]
  },
  {
   "cell_type": "code",
   "execution_count": 2,
   "id": "a35e207d",
   "metadata": {
    "execution": {
     "iopub.execute_input": "2023-12-13T13:39:37.730809Z",
     "iopub.status.busy": "2023-12-13T13:39:37.730809Z",
     "iopub.status.idle": "2023-12-13T13:39:37.848895Z",
     "shell.execute_reply": "2023-12-13T13:39:37.848134Z"
    },
    "papermill": {
     "duration": 0.133591,
     "end_time": "2023-12-13T13:39:37.848895",
     "exception": false,
     "start_time": "2023-12-13T13:39:37.715304",
     "status": "completed"
    },
    "tags": []
   },
   "outputs": [
    {
     "data": {
      "text/html": [
       "<div>\n",
       "<style scoped>\n",
       "    .dataframe tbody tr th:only-of-type {\n",
       "        vertical-align: middle;\n",
       "    }\n",
       "\n",
       "    .dataframe tbody tr th {\n",
       "        vertical-align: top;\n",
       "    }\n",
       "\n",
       "    .dataframe thead th {\n",
       "        text-align: right;\n",
       "    }\n",
       "</style>\n",
       "<table border=\"1\" class=\"dataframe\">\n",
       "  <thead>\n",
       "    <tr style=\"text-align: right;\">\n",
       "      <th></th>\n",
       "      <th>AE</th>\n",
       "      <th>AEP</th>\n",
       "      <th>AP</th>\n",
       "      <th>ATSI</th>\n",
       "      <th>BC</th>\n",
       "      <th>CE</th>\n",
       "      <th>DAY</th>\n",
       "      <th>DEOK</th>\n",
       "      <th>DOM</th>\n",
       "      <th>DPL</th>\n",
       "      <th>DUQ</th>\n",
       "      <th>EKPC</th>\n",
       "      <th>JC</th>\n",
       "      <th>ME</th>\n",
       "      <th>PE</th>\n",
       "      <th>PEP</th>\n",
       "      <th>PL</th>\n",
       "      <th>PN</th>\n",
       "      <th>PS</th>\n",
       "      <th>RECO</th>\n",
       "    </tr>\n",
       "    <tr>\n",
       "      <th>period</th>\n",
       "      <th></th>\n",
       "      <th></th>\n",
       "      <th></th>\n",
       "      <th></th>\n",
       "      <th></th>\n",
       "      <th></th>\n",
       "      <th></th>\n",
       "      <th></th>\n",
       "      <th></th>\n",
       "      <th></th>\n",
       "      <th></th>\n",
       "      <th></th>\n",
       "      <th></th>\n",
       "      <th></th>\n",
       "      <th></th>\n",
       "      <th></th>\n",
       "      <th></th>\n",
       "      <th></th>\n",
       "      <th></th>\n",
       "      <th></th>\n",
       "    </tr>\n",
       "  </thead>\n",
       "  <tbody>\n",
       "    <tr>\n",
       "      <th>2018-07-01 05:00:00</th>\n",
       "      <td>1301</td>\n",
       "      <td>12187</td>\n",
       "      <td>4384</td>\n",
       "      <td>6960</td>\n",
       "      <td>3134</td>\n",
       "      <td>12136</td>\n",
       "      <td>1619</td>\n",
       "      <td>2895</td>\n",
       "      <td>9775</td>\n",
       "      <td>1919</td>\n",
       "      <td>1466</td>\n",
       "      <td>1209</td>\n",
       "      <td>2388</td>\n",
       "      <td>1442</td>\n",
       "      <td>4397</td>\n",
       "      <td>3165</td>\n",
       "      <td>3835</td>\n",
       "      <td>1611</td>\n",
       "      <td>5009</td>\n",
       "      <td>186</td>\n",
       "    </tr>\n",
       "    <tr>\n",
       "      <th>2018-07-01 06:00:00</th>\n",
       "      <td>1314</td>\n",
       "      <td>11946</td>\n",
       "      <td>4391</td>\n",
       "      <td>6762</td>\n",
       "      <td>3139</td>\n",
       "      <td>11872</td>\n",
       "      <td>1605</td>\n",
       "      <td>2857</td>\n",
       "      <td>9787</td>\n",
       "      <td>1950</td>\n",
       "      <td>1455</td>\n",
       "      <td>1197</td>\n",
       "      <td>2416</td>\n",
       "      <td>1465</td>\n",
       "      <td>4423</td>\n",
       "      <td>3156</td>\n",
       "      <td>3901</td>\n",
       "      <td>1641</td>\n",
       "      <td>4990</td>\n",
       "      <td>187</td>\n",
       "    </tr>\n",
       "    <tr>\n",
       "      <th>2018-07-01 07:00:00</th>\n",
       "      <td>1410</td>\n",
       "      <td>12664</td>\n",
       "      <td>4757</td>\n",
       "      <td>6670</td>\n",
       "      <td>3377</td>\n",
       "      <td>11992</td>\n",
       "      <td>1707</td>\n",
       "      <td>2997</td>\n",
       "      <td>10453</td>\n",
       "      <td>2160</td>\n",
       "      <td>1528</td>\n",
       "      <td>1273</td>\n",
       "      <td>2644</td>\n",
       "      <td>1605</td>\n",
       "      <td>4743</td>\n",
       "      <td>3332</td>\n",
       "      <td>4232</td>\n",
       "      <td>1728</td>\n",
       "      <td>5267</td>\n",
       "      <td>202</td>\n",
       "    </tr>\n",
       "    <tr>\n",
       "      <th>2018-07-01 08:00:00</th>\n",
       "      <td>1567</td>\n",
       "      <td>14069</td>\n",
       "      <td>5308</td>\n",
       "      <td>7065</td>\n",
       "      <td>3788</td>\n",
       "      <td>12860</td>\n",
       "      <td>1916</td>\n",
       "      <td>3331</td>\n",
       "      <td>11734</td>\n",
       "      <td>2470</td>\n",
       "      <td>1688</td>\n",
       "      <td>1472</td>\n",
       "      <td>3064</td>\n",
       "      <td>1784</td>\n",
       "      <td>5230</td>\n",
       "      <td>3679</td>\n",
       "      <td>4613</td>\n",
       "      <td>1899</td>\n",
       "      <td>5735</td>\n",
       "      <td>230</td>\n",
       "    </tr>\n",
       "    <tr>\n",
       "      <th>2018-07-01 09:00:00</th>\n",
       "      <td>1749</td>\n",
       "      <td>15610</td>\n",
       "      <td>5862</td>\n",
       "      <td>7833</td>\n",
       "      <td>4262</td>\n",
       "      <td>14212</td>\n",
       "      <td>2145</td>\n",
       "      <td>3703</td>\n",
       "      <td>13084</td>\n",
       "      <td>2765</td>\n",
       "      <td>1875</td>\n",
       "      <td>1656</td>\n",
       "      <td>3569</td>\n",
       "      <td>1972</td>\n",
       "      <td>5752</td>\n",
       "      <td>4085</td>\n",
       "      <td>5014</td>\n",
       "      <td>2055</td>\n",
       "      <td>6299</td>\n",
       "      <td>259</td>\n",
       "    </tr>\n",
       "  </tbody>\n",
       "</table>\n",
       "</div>"
      ],
      "text/plain": [
       "                       AE    AEP    AP  ATSI    BC     CE   DAY  DEOK    DOM  \\\n",
       "period                                                                         \n",
       "2018-07-01 05:00:00  1301  12187  4384  6960  3134  12136  1619  2895   9775   \n",
       "2018-07-01 06:00:00  1314  11946  4391  6762  3139  11872  1605  2857   9787   \n",
       "2018-07-01 07:00:00  1410  12664  4757  6670  3377  11992  1707  2997  10453   \n",
       "2018-07-01 08:00:00  1567  14069  5308  7065  3788  12860  1916  3331  11734   \n",
       "2018-07-01 09:00:00  1749  15610  5862  7833  4262  14212  2145  3703  13084   \n",
       "\n",
       "                      DPL   DUQ  EKPC    JC    ME    PE   PEP    PL    PN  \\\n",
       "period                                                                      \n",
       "2018-07-01 05:00:00  1919  1466  1209  2388  1442  4397  3165  3835  1611   \n",
       "2018-07-01 06:00:00  1950  1455  1197  2416  1465  4423  3156  3901  1641   \n",
       "2018-07-01 07:00:00  2160  1528  1273  2644  1605  4743  3332  4232  1728   \n",
       "2018-07-01 08:00:00  2470  1688  1472  3064  1784  5230  3679  4613  1899   \n",
       "2018-07-01 09:00:00  2765  1875  1656  3569  1972  5752  4085  5014  2055   \n",
       "\n",
       "                       PS  RECO  \n",
       "period                           \n",
       "2018-07-01 05:00:00  5009   186  \n",
       "2018-07-01 06:00:00  4990   187  \n",
       "2018-07-01 07:00:00  5267   202  \n",
       "2018-07-01 08:00:00  5735   230  \n",
       "2018-07-01 09:00:00  6299   259  "
      ]
     },
     "execution_count": 2,
     "metadata": {},
     "output_type": "execute_result"
    }
   ],
   "source": [
    "df_base = pd.read_csv('../data/general/pjm_pivot.csv', index_col=0, parse_dates=True)\n",
    "df_base.head()"
   ]
  },
  {
   "attachments": {},
   "cell_type": "markdown",
   "id": "22d782be",
   "metadata": {
    "papermill": {
     "duration": 0.0,
     "end_time": "2023-12-13T13:39:37.848895",
     "exception": false,
     "start_time": "2023-12-13T13:39:37.848895",
     "status": "completed"
    },
    "tags": []
   },
   "source": [
    "## Select region"
   ]
  },
  {
   "cell_type": "code",
   "execution_count": 3,
   "id": "20591ec7",
   "metadata": {
    "execution": {
     "iopub.execute_input": "2023-12-13T13:39:37.865569Z",
     "iopub.status.busy": "2023-12-13T13:39:37.865569Z",
     "iopub.status.idle": "2023-12-13T13:39:37.880575Z",
     "shell.execute_reply": "2023-12-13T13:39:37.880575Z"
    },
    "papermill": {
     "duration": 0.016956,
     "end_time": "2023-12-13T13:39:37.882525",
     "exception": false,
     "start_time": "2023-12-13T13:39:37.865569",
     "status": "completed"
    },
    "tags": [
     "parameters"
    ]
   },
   "outputs": [],
   "source": [
    "region = 'AE'"
   ]
  },
  {
   "cell_type": "code",
   "execution_count": 4,
   "id": "596fd07a",
   "metadata": {
    "execution": {
     "iopub.execute_input": "2023-12-13T13:39:37.884620Z",
     "iopub.status.busy": "2023-12-13T13:39:37.884620Z",
     "iopub.status.idle": "2023-12-13T13:39:37.900280Z",
     "shell.execute_reply": "2023-12-13T13:39:37.900280Z"
    },
    "papermill": {
     "duration": 0.017661,
     "end_time": "2023-12-13T13:39:37.902281",
     "exception": false,
     "start_time": "2023-12-13T13:39:37.884620",
     "status": "completed"
    },
    "tags": [
     "injected-parameters"
    ]
   },
   "outputs": [],
   "source": [
    "# Parameters\n",
    "region = \"PL\"\n"
   ]
  },
  {
   "cell_type": "code",
   "execution_count": 5,
   "id": "25f1f4c2",
   "metadata": {
    "execution": {
     "iopub.execute_input": "2023-12-13T13:39:37.915752Z",
     "iopub.status.busy": "2023-12-13T13:39:37.915752Z",
     "iopub.status.idle": "2023-12-13T13:39:37.931684Z",
     "shell.execute_reply": "2023-12-13T13:39:37.931376Z"
    },
    "papermill": {
     "duration": 0.024144,
     "end_time": "2023-12-13T13:39:37.932425",
     "exception": false,
     "start_time": "2023-12-13T13:39:37.908281",
     "status": "completed"
    },
    "tags": []
   },
   "outputs": [
    {
     "data": {
      "text/html": [
       "<div>\n",
       "<style scoped>\n",
       "    .dataframe tbody tr th:only-of-type {\n",
       "        vertical-align: middle;\n",
       "    }\n",
       "\n",
       "    .dataframe tbody tr th {\n",
       "        vertical-align: top;\n",
       "    }\n",
       "\n",
       "    .dataframe thead th {\n",
       "        text-align: right;\n",
       "    }\n",
       "</style>\n",
       "<table border=\"1\" class=\"dataframe\">\n",
       "  <thead>\n",
       "    <tr style=\"text-align: right;\">\n",
       "      <th></th>\n",
       "      <th>PL</th>\n",
       "    </tr>\n",
       "    <tr>\n",
       "      <th>period</th>\n",
       "      <th></th>\n",
       "    </tr>\n",
       "  </thead>\n",
       "  <tbody>\n",
       "    <tr>\n",
       "      <th>2018-07-01 05:00:00</th>\n",
       "      <td>3835</td>\n",
       "    </tr>\n",
       "    <tr>\n",
       "      <th>2018-07-01 06:00:00</th>\n",
       "      <td>3901</td>\n",
       "    </tr>\n",
       "    <tr>\n",
       "      <th>2018-07-01 07:00:00</th>\n",
       "      <td>4232</td>\n",
       "    </tr>\n",
       "    <tr>\n",
       "      <th>2018-07-01 08:00:00</th>\n",
       "      <td>4613</td>\n",
       "    </tr>\n",
       "    <tr>\n",
       "      <th>2018-07-01 09:00:00</th>\n",
       "      <td>5014</td>\n",
       "    </tr>\n",
       "    <tr>\n",
       "      <th>...</th>\n",
       "      <td>...</td>\n",
       "    </tr>\n",
       "    <tr>\n",
       "      <th>2023-11-01 00:00:00</th>\n",
       "      <td>4579</td>\n",
       "    </tr>\n",
       "    <tr>\n",
       "      <th>2023-11-01 01:00:00</th>\n",
       "      <td>4550</td>\n",
       "    </tr>\n",
       "    <tr>\n",
       "      <th>2023-11-01 02:00:00</th>\n",
       "      <td>4418</td>\n",
       "    </tr>\n",
       "    <tr>\n",
       "      <th>2023-11-01 03:00:00</th>\n",
       "      <td>4178</td>\n",
       "    </tr>\n",
       "    <tr>\n",
       "      <th>2023-11-01 04:00:00</th>\n",
       "      <td>3982</td>\n",
       "    </tr>\n",
       "  </tbody>\n",
       "</table>\n",
       "<p>44904 rows × 1 columns</p>\n",
       "</div>"
      ],
      "text/plain": [
       "                       PL\n",
       "period                   \n",
       "2018-07-01 05:00:00  3835\n",
       "2018-07-01 06:00:00  3901\n",
       "2018-07-01 07:00:00  4232\n",
       "2018-07-01 08:00:00  4613\n",
       "2018-07-01 09:00:00  5014\n",
       "...                   ...\n",
       "2023-11-01 00:00:00  4579\n",
       "2023-11-01 01:00:00  4550\n",
       "2023-11-01 02:00:00  4418\n",
       "2023-11-01 03:00:00  4178\n",
       "2023-11-01 04:00:00  3982\n",
       "\n",
       "[44904 rows x 1 columns]"
      ]
     },
     "execution_count": 5,
     "metadata": {},
     "output_type": "execute_result"
    }
   ],
   "source": [
    "df = df_base.loc[:, [region]]\n",
    "df"
   ]
  },
  {
   "attachments": {},
   "cell_type": "markdown",
   "id": "848ab269",
   "metadata": {
    "papermill": {
     "duration": 0.015004,
     "end_time": "2023-12-13T13:39:37.947429",
     "exception": false,
     "start_time": "2023-12-13T13:39:37.932425",
     "status": "completed"
    },
    "tags": []
   },
   "source": [
    "## Data Preprocessing"
   ]
  },
  {
   "cell_type": "markdown",
   "id": "56928aa0",
   "metadata": {
    "papermill": {
     "duration": 0.015004,
     "end_time": "2023-12-13T13:39:37.963993",
     "exception": false,
     "start_time": "2023-12-13T13:39:37.948989",
     "status": "completed"
    },
    "tags": []
   },
   "source": [
    "### Train Test Split"
   ]
  },
  {
   "cell_type": "code",
   "execution_count": 6,
   "id": "5b411372",
   "metadata": {
    "execution": {
     "iopub.execute_input": "2023-12-13T13:39:37.965691Z",
     "iopub.status.busy": "2023-12-13T13:39:37.965691Z",
     "iopub.status.idle": "2023-12-13T13:39:38.398634Z",
     "shell.execute_reply": "2023-12-13T13:39:38.397981Z"
    },
    "papermill": {
     "duration": 0.433631,
     "end_time": "2023-12-13T13:39:38.399322",
     "exception": false,
     "start_time": "2023-12-13T13:39:37.965691",
     "status": "completed"
    },
    "tags": []
   },
   "outputs": [],
   "source": [
    "from sklearn.model_selection import train_test_split\n",
    "\n",
    "train, test = train_test_split(df, test_size=0.3, shuffle=False)\n",
    "test, prod = train_test_split(test, test_size=0.5, shuffle=False)"
   ]
  },
  {
   "cell_type": "markdown",
   "id": "89dd67d5",
   "metadata": {
    "papermill": {
     "duration": 0.0,
     "end_time": "2023-12-13T13:39:38.399322",
     "exception": false,
     "start_time": "2023-12-13T13:39:38.399322",
     "status": "completed"
    },
    "tags": []
   },
   "source": [
    "### Export Data"
   ]
  },
  {
   "cell_type": "code",
   "execution_count": 7,
   "id": "245fa9cb",
   "metadata": {
    "execution": {
     "iopub.execute_input": "2023-12-13T13:39:38.418576Z",
     "iopub.status.busy": "2023-12-13T13:39:38.418576Z",
     "iopub.status.idle": "2023-12-13T13:39:38.535409Z",
     "shell.execute_reply": "2023-12-13T13:39:38.535409Z"
    },
    "papermill": {
     "duration": 0.119833,
     "end_time": "2023-12-13T13:39:38.538409",
     "exception": false,
     "start_time": "2023-12-13T13:39:38.418576",
     "status": "completed"
    },
    "tags": []
   },
   "outputs": [],
   "source": [
    "import os\n",
    "\n",
    "path_region = f'../data/regions/{region}'\n",
    "\n",
    "if not os.path.exists(path_region):\n",
    "    os.makedirs(path_region)\n",
    "\n",
    "for df, name in zip([train, test, prod], ['train', 'test', 'prod']):\n",
    "    df.to_csv(f'{path_region}/{name}.csv')"
   ]
  },
  {
   "attachments": {},
   "cell_type": "markdown",
   "id": "fea2b3a4",
   "metadata": {
    "papermill": {
     "duration": 0.007001,
     "end_time": "2023-12-13T13:39:38.553412",
     "exception": false,
     "start_time": "2023-12-13T13:39:38.546411",
     "status": "completed"
    },
    "tags": []
   },
   "source": [
    "### Scale Data"
   ]
  },
  {
   "cell_type": "code",
   "execution_count": 8,
   "id": "6fbaad9f",
   "metadata": {
    "execution": {
     "iopub.execute_input": "2023-12-13T13:39:38.566151Z",
     "iopub.status.busy": "2023-12-13T13:39:38.566151Z",
     "iopub.status.idle": "2023-12-13T13:39:38.582189Z",
     "shell.execute_reply": "2023-12-13T13:39:38.581154Z"
    },
    "papermill": {
     "duration": 0.024158,
     "end_time": "2023-12-13T13:39:38.584571",
     "exception": false,
     "start_time": "2023-12-13T13:39:38.560413",
     "status": "completed"
    },
    "tags": []
   },
   "outputs": [],
   "source": [
    "from sklearn.preprocessing import MinMaxScaler\n",
    "\n",
    "scaler = MinMaxScaler(feature_range=(0, 1))\n",
    "\n",
    "train_norm = scaler.fit_transform(train)\n",
    "test_norm = scaler.transform(test)"
   ]
  },
  {
   "attachments": {},
   "cell_type": "markdown",
   "id": "6170d0ae",
   "metadata": {
    "papermill": {
     "duration": 0.013873,
     "end_time": "2023-12-13T13:39:38.599686",
     "exception": false,
     "start_time": "2023-12-13T13:39:38.585813",
     "status": "completed"
    },
    "tags": []
   },
   "source": [
    "### Create Sequences"
   ]
  },
  {
   "cell_type": "code",
   "execution_count": 9,
   "id": "f8375da8",
   "metadata": {
    "execution": {
     "iopub.execute_input": "2023-12-13T13:39:38.619511Z",
     "iopub.status.busy": "2023-12-13T13:39:38.618695Z",
     "iopub.status.idle": "2023-12-13T13:39:38.699536Z",
     "shell.execute_reply": "2023-12-13T13:39:38.698864Z"
    },
    "papermill": {
     "duration": 0.091845,
     "end_time": "2023-12-13T13:39:38.699536",
     "exception": false,
     "start_time": "2023-12-13T13:39:38.607691",
     "status": "completed"
    },
    "tags": []
   },
   "outputs": [],
   "source": [
    "import numpy as np\n",
    "\n",
    "def create_sequences(data, sequence_length):\n",
    "    X, y = [], []\n",
    "    for i in range(len(data) - sequence_length):\n",
    "        X.append(data[i:i+sequence_length])\n",
    "        y.append(data[i+sequence_length])\n",
    "    return np.array(X), np.array(y)\n",
    "\n",
    "sequence_length = 24 # Use 24 hours prior to predict the following hour\n",
    "X_train, y_train = create_sequences(train_norm, sequence_length)\n",
    "X_test, y_test = create_sequences(test_norm, sequence_length)"
   ]
  },
  {
   "attachments": {},
   "cell_type": "markdown",
   "id": "0df9e453",
   "metadata": {
    "papermill": {
     "duration": 0.015003,
     "end_time": "2023-12-13T13:39:38.714539",
     "exception": false,
     "start_time": "2023-12-13T13:39:38.699536",
     "status": "completed"
    },
    "tags": []
   },
   "source": [
    "## Modelling"
   ]
  },
  {
   "attachments": {},
   "cell_type": "markdown",
   "id": "ce9dc58c",
   "metadata": {
    "papermill": {
     "duration": 0.006412,
     "end_time": "2023-12-13T13:39:38.729053",
     "exception": false,
     "start_time": "2023-12-13T13:39:38.722641",
     "status": "completed"
    },
    "tags": []
   },
   "source": [
    "### Design NN Architecture"
   ]
  },
  {
   "cell_type": "code",
   "execution_count": 10,
   "id": "e2e4e404",
   "metadata": {
    "execution": {
     "iopub.execute_input": "2023-12-13T13:39:38.746313Z",
     "iopub.status.busy": "2023-12-13T13:39:38.745312Z",
     "iopub.status.idle": "2023-12-13T13:39:40.129503Z",
     "shell.execute_reply": "2023-12-13T13:39:40.129503Z"
    },
    "papermill": {
     "duration": 1.394194,
     "end_time": "2023-12-13T13:39:40.131504",
     "exception": false,
     "start_time": "2023-12-13T13:39:38.737310",
     "status": "completed"
    },
    "tags": []
   },
   "outputs": [
    {
     "name": "stderr",
     "output_type": "stream",
     "text": [
      "c:\\Users\\jesus\\miniconda3\\envs\\tf-base\\lib\\site-packages\\tensorflow\\python\\framework\\dtypes.py:516: FutureWarning: Passing (type, 1) or '1type' as a synonym of type is deprecated; in a future version of numpy, it will be understood as (type, (1,)) / '(1,)type'.\n",
      "  _np_qint8 = np.dtype([(\"qint8\", np.int8, 1)])\n",
      "c:\\Users\\jesus\\miniconda3\\envs\\tf-base\\lib\\site-packages\\tensorflow\\python\\framework\\dtypes.py:517: FutureWarning: Passing (type, 1) or '1type' as a synonym of type is deprecated; in a future version of numpy, it will be understood as (type, (1,)) / '(1,)type'.\n",
      "  _np_quint8 = np.dtype([(\"quint8\", np.uint8, 1)])\n",
      "c:\\Users\\jesus\\miniconda3\\envs\\tf-base\\lib\\site-packages\\tensorflow\\python\\framework\\dtypes.py:518: FutureWarning: Passing (type, 1) or '1type' as a synonym of type is deprecated; in a future version of numpy, it will be understood as (type, (1,)) / '(1,)type'.\n",
      "  _np_qint16 = np.dtype([(\"qint16\", np.int16, 1)])\n",
      "c:\\Users\\jesus\\miniconda3\\envs\\tf-base\\lib\\site-packages\\tensorflow\\python\\framework\\dtypes.py:519: FutureWarning: Passing (type, 1) or '1type' as a synonym of type is deprecated; in a future version of numpy, it will be understood as (type, (1,)) / '(1,)type'.\n",
      "  _np_quint16 = np.dtype([(\"quint16\", np.uint16, 1)])\n",
      "c:\\Users\\jesus\\miniconda3\\envs\\tf-base\\lib\\site-packages\\tensorflow\\python\\framework\\dtypes.py:520: FutureWarning: Passing (type, 1) or '1type' as a synonym of type is deprecated; in a future version of numpy, it will be understood as (type, (1,)) / '(1,)type'.\n",
      "  _np_qint32 = np.dtype([(\"qint32\", np.int32, 1)])\n",
      "c:\\Users\\jesus\\miniconda3\\envs\\tf-base\\lib\\site-packages\\tensorflow\\python\\framework\\dtypes.py:525: FutureWarning: Passing (type, 1) or '1type' as a synonym of type is deprecated; in a future version of numpy, it will be understood as (type, (1,)) / '(1,)type'.\n",
      "  np_resource = np.dtype([(\"resource\", np.ubyte, 1)])\n"
     ]
    },
    {
     "name": "stdout",
     "output_type": "stream",
     "text": [
      "WARNING:tensorflow:From c:\\Users\\jesus\\miniconda3\\envs\\tf-base\\lib\\site-packages\\tensorflow\\python\\ops\\init_ops.py:1251: calling VarianceScaling.__init__ (from tensorflow.python.ops.init_ops) with dtype is deprecated and will be removed in a future version.\n",
      "Instructions for updating:\n",
      "Call initializer instance with the dtype argument instead of passing it to the constructor\n"
     ]
    },
    {
     "name": "stderr",
     "output_type": "stream",
     "text": [
      "c:\\Users\\jesus\\miniconda3\\envs\\tf-base\\lib\\site-packages\\tensorboard\\compat\\tensorflow_stub\\dtypes.py:541: FutureWarning: Passing (type, 1) or '1type' as a synonym of type is deprecated; in a future version of numpy, it will be understood as (type, (1,)) / '(1,)type'.\n",
      "  _np_qint8 = np.dtype([(\"qint8\", np.int8, 1)])\n",
      "c:\\Users\\jesus\\miniconda3\\envs\\tf-base\\lib\\site-packages\\tensorboard\\compat\\tensorflow_stub\\dtypes.py:542: FutureWarning: Passing (type, 1) or '1type' as a synonym of type is deprecated; in a future version of numpy, it will be understood as (type, (1,)) / '(1,)type'.\n",
      "  _np_quint8 = np.dtype([(\"quint8\", np.uint8, 1)])\n",
      "c:\\Users\\jesus\\miniconda3\\envs\\tf-base\\lib\\site-packages\\tensorboard\\compat\\tensorflow_stub\\dtypes.py:543: FutureWarning: Passing (type, 1) or '1type' as a synonym of type is deprecated; in a future version of numpy, it will be understood as (type, (1,)) / '(1,)type'.\n",
      "  _np_qint16 = np.dtype([(\"qint16\", np.int16, 1)])\n",
      "c:\\Users\\jesus\\miniconda3\\envs\\tf-base\\lib\\site-packages\\tensorboard\\compat\\tensorflow_stub\\dtypes.py:544: FutureWarning: Passing (type, 1) or '1type' as a synonym of type is deprecated; in a future version of numpy, it will be understood as (type, (1,)) / '(1,)type'.\n",
      "  _np_quint16 = np.dtype([(\"quint16\", np.uint16, 1)])\n",
      "c:\\Users\\jesus\\miniconda3\\envs\\tf-base\\lib\\site-packages\\tensorboard\\compat\\tensorflow_stub\\dtypes.py:545: FutureWarning: Passing (type, 1) or '1type' as a synonym of type is deprecated; in a future version of numpy, it will be understood as (type, (1,)) / '(1,)type'.\n",
      "  _np_qint32 = np.dtype([(\"qint32\", np.int32, 1)])\n",
      "c:\\Users\\jesus\\miniconda3\\envs\\tf-base\\lib\\site-packages\\tensorboard\\compat\\tensorflow_stub\\dtypes.py:550: FutureWarning: Passing (type, 1) or '1type' as a synonym of type is deprecated; in a future version of numpy, it will be understood as (type, (1,)) / '(1,)type'.\n",
      "  np_resource = np.dtype([(\"resource\", np.ubyte, 1)])\n"
     ]
    }
   ],
   "source": [
    "from tensorflow.keras.models import Sequential\n",
    "from tensorflow.keras.layers import LSTM, Dense\n",
    "\n",
    "model = Sequential()\n",
    "model.add(LSTM(50, input_shape=(X_train.shape[1], X_train.shape[2])))\n",
    "model.add(Dense(1))\n",
    "model.compile(optimizer='adam', loss='mean_squared_error')"
   ]
  },
  {
   "attachments": {},
   "cell_type": "markdown",
   "id": "d9737298",
   "metadata": {
    "papermill": {
     "duration": 0.008003,
     "end_time": "2023-12-13T13:39:40.146508",
     "exception": false,
     "start_time": "2023-12-13T13:39:40.138505",
     "status": "completed"
    },
    "tags": []
   },
   "source": [
    "### Train Model"
   ]
  },
  {
   "cell_type": "code",
   "execution_count": 11,
   "id": "7016d5b3",
   "metadata": {
    "execution": {
     "iopub.execute_input": "2023-12-13T13:39:40.162511Z",
     "iopub.status.busy": "2023-12-13T13:39:40.162511Z",
     "iopub.status.idle": "2023-12-13T13:44:30.868051Z",
     "shell.execute_reply": "2023-12-13T13:44:30.868051Z"
    },
    "papermill": {
     "duration": 290.716546,
     "end_time": "2023-12-13T13:44:30.870055",
     "exception": false,
     "start_time": "2023-12-13T13:39:40.153509",
     "status": "completed"
    },
    "tags": []
   },
   "outputs": [
    {
     "name": "stdout",
     "output_type": "stream",
     "text": [
      "WARNING:tensorflow:From c:\\Users\\jesus\\miniconda3\\envs\\tf-base\\lib\\site-packages\\tensorflow\\python\\ops\\math_grad.py:1250: add_dispatch_support.<locals>.wrapper (from tensorflow.python.ops.array_ops) is deprecated and will be removed in a future version.\n",
      "Instructions for updating:\n",
      "Use tf.where in 2.0, which has the same broadcast rule as np.where\n"
     ]
    }
   ],
   "source": [
    "from tensorflow.keras.callbacks import EarlyStopping\n",
    "\n",
    "early_stop = EarlyStopping(monitor='val_loss', patience=5)\n",
    "\n",
    "history = model.fit(\n",
    "    X_train, y_train, epochs=50, batch_size=64, verbose=0,\n",
    "    validation_data=(X_test, y_test), callbacks=[early_stop])"
   ]
  },
  {
   "attachments": {},
   "cell_type": "markdown",
   "id": "f759354e",
   "metadata": {
    "papermill": {
     "duration": 0.008002,
     "end_time": "2023-12-13T13:44:30.886058",
     "exception": false,
     "start_time": "2023-12-13T13:44:30.878056",
     "status": "completed"
    },
    "tags": []
   },
   "source": [
    "### Calculate Predictions"
   ]
  },
  {
   "cell_type": "code",
   "execution_count": 12,
   "id": "7ba45437",
   "metadata": {
    "execution": {
     "iopub.execute_input": "2023-12-13T13:44:30.905062Z",
     "iopub.status.busy": "2023-12-13T13:44:30.905062Z",
     "iopub.status.idle": "2023-12-13T13:44:31.464452Z",
     "shell.execute_reply": "2023-12-13T13:44:31.464452Z"
    },
    "papermill": {
     "duration": 0.572394,
     "end_time": "2023-12-13T13:44:31.466455",
     "exception": false,
     "start_time": "2023-12-13T13:44:30.894061",
     "status": "completed"
    },
    "tags": []
   },
   "outputs": [
    {
     "data": {
      "text/plain": [
       "array([[0.1761751 ],\n",
       "       [0.17756777],\n",
       "       [0.19398765],\n",
       "       ...,\n",
       "       [0.28532425],\n",
       "       [0.32414535],\n",
       "       [0.37180537]], dtype=float32)"
      ]
     },
     "execution_count": 12,
     "metadata": {},
     "output_type": "execute_result"
    }
   ],
   "source": [
    "y_pred = model.predict(X_test)\n",
    "y_pred"
   ]
  },
  {
   "attachments": {},
   "cell_type": "markdown",
   "id": "e7258226",
   "metadata": {
    "papermill": {
     "duration": 0.008002,
     "end_time": "2023-12-13T13:44:31.482459",
     "exception": false,
     "start_time": "2023-12-13T13:44:31.474457",
     "status": "completed"
    },
    "tags": []
   },
   "source": [
    "### Comparison: Real Data & Prediction"
   ]
  },
  {
   "attachments": {},
   "cell_type": "markdown",
   "id": "46b5fd36",
   "metadata": {
    "papermill": {
     "duration": 0.009002,
     "end_time": "2023-12-13T13:44:31.499462",
     "exception": false,
     "start_time": "2023-12-13T13:44:31.490460",
     "status": "completed"
    },
    "tags": []
   },
   "source": [
    "#### Descale Data"
   ]
  },
  {
   "cell_type": "code",
   "execution_count": 13,
   "id": "ba1cf583",
   "metadata": {
    "execution": {
     "iopub.execute_input": "2023-12-13T13:44:31.516466Z",
     "iopub.status.busy": "2023-12-13T13:44:31.516466Z",
     "iopub.status.idle": "2023-12-13T13:44:31.527468Z",
     "shell.execute_reply": "2023-12-13T13:44:31.527468Z"
    },
    "papermill": {
     "duration": 0.022005,
     "end_time": "2023-12-13T13:44:31.529469",
     "exception": false,
     "start_time": "2023-12-13T13:44:31.507464",
     "status": "completed"
    },
    "tags": []
   },
   "outputs": [],
   "source": [
    "y_pred_scaled_inverse = scaler.inverse_transform(y_pred)\n",
    "y_true = scaler.inverse_transform(y_test)"
   ]
  },
  {
   "attachments": {},
   "cell_type": "markdown",
   "id": "9e987acb",
   "metadata": {
    "papermill": {
     "duration": 0.008001,
     "end_time": "2023-12-13T13:44:31.545472",
     "exception": false,
     "start_time": "2023-12-13T13:44:31.537471",
     "status": "completed"
    },
    "tags": []
   },
   "source": [
    "#### Create DataFrame"
   ]
  },
  {
   "cell_type": "code",
   "execution_count": 14,
   "id": "6bf3b7ad",
   "metadata": {
    "execution": {
     "iopub.execute_input": "2023-12-13T13:44:31.561477Z",
     "iopub.status.busy": "2023-12-13T13:44:31.561477Z",
     "iopub.status.idle": "2023-12-13T13:44:31.575479Z",
     "shell.execute_reply": "2023-12-13T13:44:31.575479Z"
    },
    "papermill": {
     "duration": 0.025006,
     "end_time": "2023-12-13T13:44:31.577480",
     "exception": false,
     "start_time": "2023-12-13T13:44:31.552474",
     "status": "completed"
    },
    "tags": []
   },
   "outputs": [
    {
     "data": {
      "text/html": [
       "<div>\n",
       "<style scoped>\n",
       "    .dataframe tbody tr th:only-of-type {\n",
       "        vertical-align: middle;\n",
       "    }\n",
       "\n",
       "    .dataframe tbody tr th {\n",
       "        vertical-align: top;\n",
       "    }\n",
       "\n",
       "    .dataframe thead th {\n",
       "        text-align: right;\n",
       "    }\n",
       "</style>\n",
       "<table border=\"1\" class=\"dataframe\">\n",
       "  <thead>\n",
       "    <tr style=\"text-align: right;\">\n",
       "      <th></th>\n",
       "      <th>y_pred</th>\n",
       "      <th>y_pred_scaled_inverse</th>\n",
       "      <th>y_true</th>\n",
       "    </tr>\n",
       "  </thead>\n",
       "  <tbody>\n",
       "    <tr>\n",
       "      <th>0</th>\n",
       "      <td>0.176175</td>\n",
       "      <td>3881.833008</td>\n",
       "      <td>3851.0</td>\n",
       "    </tr>\n",
       "    <tr>\n",
       "      <th>1</th>\n",
       "      <td>0.177568</td>\n",
       "      <td>3894.819580</td>\n",
       "      <td>3948.0</td>\n",
       "    </tr>\n",
       "    <tr>\n",
       "      <th>2</th>\n",
       "      <td>0.193988</td>\n",
       "      <td>4047.935059</td>\n",
       "      <td>4103.0</td>\n",
       "    </tr>\n",
       "    <tr>\n",
       "      <th>3</th>\n",
       "      <td>0.209745</td>\n",
       "      <td>4194.871094</td>\n",
       "      <td>4319.0</td>\n",
       "    </tr>\n",
       "    <tr>\n",
       "      <th>4</th>\n",
       "      <td>0.230370</td>\n",
       "      <td>4387.201660</td>\n",
       "      <td>4278.0</td>\n",
       "    </tr>\n",
       "    <tr>\n",
       "      <th>...</th>\n",
       "      <td>...</td>\n",
       "      <td>...</td>\n",
       "      <td>...</td>\n",
       "    </tr>\n",
       "    <tr>\n",
       "      <th>6707</th>\n",
       "      <td>0.246290</td>\n",
       "      <td>4535.652344</td>\n",
       "      <td>4498.0</td>\n",
       "    </tr>\n",
       "    <tr>\n",
       "      <th>6708</th>\n",
       "      <td>0.259100</td>\n",
       "      <td>4655.108398</td>\n",
       "      <td>4621.0</td>\n",
       "    </tr>\n",
       "    <tr>\n",
       "      <th>6709</th>\n",
       "      <td>0.285324</td>\n",
       "      <td>4899.648926</td>\n",
       "      <td>4914.0</td>\n",
       "    </tr>\n",
       "    <tr>\n",
       "      <th>6710</th>\n",
       "      <td>0.324145</td>\n",
       "      <td>5261.655762</td>\n",
       "      <td>5394.0</td>\n",
       "    </tr>\n",
       "    <tr>\n",
       "      <th>6711</th>\n",
       "      <td>0.371805</td>\n",
       "      <td>5706.084961</td>\n",
       "      <td>5682.0</td>\n",
       "    </tr>\n",
       "  </tbody>\n",
       "</table>\n",
       "<p>6712 rows × 3 columns</p>\n",
       "</div>"
      ],
      "text/plain": [
       "        y_pred  y_pred_scaled_inverse  y_true\n",
       "0     0.176175            3881.833008  3851.0\n",
       "1     0.177568            3894.819580  3948.0\n",
       "2     0.193988            4047.935059  4103.0\n",
       "3     0.209745            4194.871094  4319.0\n",
       "4     0.230370            4387.201660  4278.0\n",
       "...        ...                    ...     ...\n",
       "6707  0.246290            4535.652344  4498.0\n",
       "6708  0.259100            4655.108398  4621.0\n",
       "6709  0.285324            4899.648926  4914.0\n",
       "6710  0.324145            5261.655762  5394.0\n",
       "6711  0.371805            5706.084961  5682.0\n",
       "\n",
       "[6712 rows x 3 columns]"
      ]
     },
     "execution_count": 14,
     "metadata": {},
     "output_type": "execute_result"
    }
   ],
   "source": [
    "dic_pred = {\n",
    "    'y_pred': y_pred.flatten(),\n",
    "    'y_pred_scaled_inverse': y_pred_scaled_inverse.flatten(),\n",
    "    'y_true': y_true.flatten(),\n",
    "}\n",
    "\n",
    "df_pred = pd.DataFrame(dic_pred)\n",
    "df_pred"
   ]
  },
  {
   "attachments": {},
   "cell_type": "markdown",
   "id": "8e629ba0",
   "metadata": {
    "papermill": {
     "duration": 0.008003,
     "end_time": "2023-12-13T13:44:31.593484",
     "exception": false,
     "start_time": "2023-12-13T13:44:31.585481",
     "status": "completed"
    },
    "tags": []
   },
   "source": [
    "#### Evaluate Model"
   ]
  },
  {
   "cell_type": "code",
   "execution_count": 15,
   "id": "6b621fa1",
   "metadata": {
    "execution": {
     "iopub.execute_input": "2023-12-13T13:44:31.612488Z",
     "iopub.status.busy": "2023-12-13T13:44:31.611488Z",
     "iopub.status.idle": "2023-12-13T13:44:31.623489Z",
     "shell.execute_reply": "2023-12-13T13:44:31.623489Z"
    },
    "papermill": {
     "duration": 0.023006,
     "end_time": "2023-12-13T13:44:31.625491",
     "exception": false,
     "start_time": "2023-12-13T13:44:31.602485",
     "status": "completed"
    },
    "tags": []
   },
   "outputs": [],
   "source": [
    "from sklearn.metrics import mean_squared_error"
   ]
  },
  {
   "cell_type": "code",
   "execution_count": 16,
   "id": "ca71a92a",
   "metadata": {
    "execution": {
     "iopub.execute_input": "2023-12-13T13:44:31.642495Z",
     "iopub.status.busy": "2023-12-13T13:44:31.641495Z",
     "iopub.status.idle": "2023-12-13T13:44:31.654686Z",
     "shell.execute_reply": "2023-12-13T13:44:31.654686Z"
    },
    "papermill": {
     "duration": 0.024193,
     "end_time": "2023-12-13T13:44:31.656686",
     "exception": false,
     "start_time": "2023-12-13T13:44:31.632493",
     "status": "completed"
    },
    "tags": []
   },
   "outputs": [
    {
     "data": {
      "text/plain": [
       "65.33973547727666"
      ]
     },
     "execution_count": 16,
     "metadata": {},
     "output_type": "execute_result"
    }
   ],
   "source": [
    "mean_squared_error(df_pred.y_true, df_pred.y_pred_scaled_inverse, squared=False)"
   ]
  },
  {
   "cell_type": "code",
   "execution_count": 17,
   "id": "77efc069",
   "metadata": {
    "execution": {
     "iopub.execute_input": "2023-12-13T13:44:31.677691Z",
     "iopub.status.busy": "2023-12-13T13:44:31.676691Z",
     "iopub.status.idle": "2023-12-13T13:44:31.780910Z",
     "shell.execute_reply": "2023-12-13T13:44:31.780910Z"
    },
    "papermill": {
     "duration": 0.119223,
     "end_time": "2023-12-13T13:44:31.783910",
     "exception": false,
     "start_time": "2023-12-13T13:44:31.664687",
     "status": "completed"
    },
    "tags": []
   },
   "outputs": [],
   "source": [
    "model.save(f'../models/{region}.keras')"
   ]
  }
 ],
 "metadata": {
  "kernelspec": {
   "display_name": "deep-learning",
   "language": "python",
   "name": "python3"
  },
  "language_info": {
   "codemirror_mode": {
    "name": "ipython",
    "version": 3
   },
   "file_extension": ".py",
   "mimetype": "text/x-python",
   "name": "python",
   "nbconvert_exporter": "python",
   "pygments_lexer": "ipython3",
   "version": "3.7.12"
  },
  "papermill": {
   "default_parameters": {},
   "duration": 296.190193,
   "end_time": "2023-12-13T13:44:32.251169",
   "environment_variables": {},
   "exception": null,
   "input_path": "Modelling.ipynb",
   "output_path": "outputs/PL.ipynb",
   "parameters": {
    "region": "PL"
   },
   "start_time": "2023-12-13T13:39:36.060976",
   "version": "2.4.0"
  }
 },
 "nbformat": 4,
 "nbformat_minor": 5
}