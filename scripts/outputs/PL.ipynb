{
 "cells": [
  {
   "attachments": {},
   "cell_type": "markdown",
   "id": "3d8e5148",
   "metadata": {
    "papermill": {
     "duration": 0.010547,
     "end_time": "2023-11-26T17:29:05.537474",
     "exception": false,
     "start_time": "2023-11-26T17:29:05.526927",
     "status": "completed"
    },
    "tags": []
   },
   "source": [
    "## Load data"
   ]
  },
  {
   "cell_type": "code",
   "execution_count": 1,
   "id": "843a5b39",
   "metadata": {
    "execution": {
     "iopub.execute_input": "2023-11-26T17:29:05.550779Z",
     "iopub.status.busy": "2023-11-26T17:29:05.550377Z",
     "iopub.status.idle": "2023-11-26T17:29:05.939220Z",
     "shell.execute_reply": "2023-11-26T17:29:05.938331Z"
    },
    "papermill": {
     "duration": 0.398562,
     "end_time": "2023-11-26T17:29:05.941635",
     "exception": false,
     "start_time": "2023-11-26T17:29:05.543073",
     "status": "completed"
    },
    "tags": []
   },
   "outputs": [],
   "source": [
    "import pandas as pd"
   ]
  },
  {
   "cell_type": "code",
   "execution_count": 2,
   "id": "7c81e89c",
   "metadata": {
    "execution": {
     "iopub.execute_input": "2023-11-26T17:29:05.952974Z",
     "iopub.status.busy": "2023-11-26T17:29:05.952539Z",
     "iopub.status.idle": "2023-11-26T17:29:06.090141Z",
     "shell.execute_reply": "2023-11-26T17:29:06.089494Z"
    },
    "papermill": {
     "duration": 0.14577,
     "end_time": "2023-11-26T17:29:06.092129",
     "exception": false,
     "start_time": "2023-11-26T17:29:05.946359",
     "status": "completed"
    },
    "tags": []
   },
   "outputs": [
    {
     "data": {
      "text/html": [
       "<div>\n",
       "<style scoped>\n",
       "    .dataframe tbody tr th:only-of-type {\n",
       "        vertical-align: middle;\n",
       "    }\n",
       "\n",
       "    .dataframe tbody tr th {\n",
       "        vertical-align: top;\n",
       "    }\n",
       "\n",
       "    .dataframe thead th {\n",
       "        text-align: right;\n",
       "    }\n",
       "</style>\n",
       "<table border=\"1\" class=\"dataframe\">\n",
       "  <thead>\n",
       "    <tr style=\"text-align: right;\">\n",
       "      <th></th>\n",
       "      <th>AE</th>\n",
       "      <th>AEP</th>\n",
       "      <th>AP</th>\n",
       "      <th>ATSI</th>\n",
       "      <th>BC</th>\n",
       "      <th>CE</th>\n",
       "      <th>DAY</th>\n",
       "      <th>DEOK</th>\n",
       "      <th>DOM</th>\n",
       "      <th>DPL</th>\n",
       "      <th>DUQ</th>\n",
       "      <th>EKPC</th>\n",
       "      <th>JC</th>\n",
       "      <th>ME</th>\n",
       "      <th>PE</th>\n",
       "      <th>PEP</th>\n",
       "      <th>PL</th>\n",
       "      <th>PN</th>\n",
       "      <th>PS</th>\n",
       "      <th>RECO</th>\n",
       "    </tr>\n",
       "    <tr>\n",
       "      <th>period</th>\n",
       "      <th></th>\n",
       "      <th></th>\n",
       "      <th></th>\n",
       "      <th></th>\n",
       "      <th></th>\n",
       "      <th></th>\n",
       "      <th></th>\n",
       "      <th></th>\n",
       "      <th></th>\n",
       "      <th></th>\n",
       "      <th></th>\n",
       "      <th></th>\n",
       "      <th></th>\n",
       "      <th></th>\n",
       "      <th></th>\n",
       "      <th></th>\n",
       "      <th></th>\n",
       "      <th></th>\n",
       "      <th></th>\n",
       "      <th></th>\n",
       "    </tr>\n",
       "  </thead>\n",
       "  <tbody>\n",
       "    <tr>\n",
       "      <th>2018-07-01 05:00:00</th>\n",
       "      <td>1301</td>\n",
       "      <td>12187</td>\n",
       "      <td>4384</td>\n",
       "      <td>6960</td>\n",
       "      <td>3134</td>\n",
       "      <td>12136</td>\n",
       "      <td>1619</td>\n",
       "      <td>2895</td>\n",
       "      <td>9775</td>\n",
       "      <td>1919</td>\n",
       "      <td>1466</td>\n",
       "      <td>1209</td>\n",
       "      <td>2388</td>\n",
       "      <td>1442</td>\n",
       "      <td>4397</td>\n",
       "      <td>3165</td>\n",
       "      <td>3835</td>\n",
       "      <td>1611</td>\n",
       "      <td>5009</td>\n",
       "      <td>186</td>\n",
       "    </tr>\n",
       "    <tr>\n",
       "      <th>2018-07-01 06:00:00</th>\n",
       "      <td>1314</td>\n",
       "      <td>11946</td>\n",
       "      <td>4391</td>\n",
       "      <td>6762</td>\n",
       "      <td>3139</td>\n",
       "      <td>11872</td>\n",
       "      <td>1605</td>\n",
       "      <td>2857</td>\n",
       "      <td>9787</td>\n",
       "      <td>1950</td>\n",
       "      <td>1455</td>\n",
       "      <td>1197</td>\n",
       "      <td>2416</td>\n",
       "      <td>1465</td>\n",
       "      <td>4423</td>\n",
       "      <td>3156</td>\n",
       "      <td>3901</td>\n",
       "      <td>1641</td>\n",
       "      <td>4990</td>\n",
       "      <td>187</td>\n",
       "    </tr>\n",
       "    <tr>\n",
       "      <th>2018-07-01 07:00:00</th>\n",
       "      <td>1410</td>\n",
       "      <td>12664</td>\n",
       "      <td>4757</td>\n",
       "      <td>6670</td>\n",
       "      <td>3377</td>\n",
       "      <td>11992</td>\n",
       "      <td>1707</td>\n",
       "      <td>2997</td>\n",
       "      <td>10453</td>\n",
       "      <td>2160</td>\n",
       "      <td>1528</td>\n",
       "      <td>1273</td>\n",
       "      <td>2644</td>\n",
       "      <td>1605</td>\n",
       "      <td>4743</td>\n",
       "      <td>3332</td>\n",
       "      <td>4232</td>\n",
       "      <td>1728</td>\n",
       "      <td>5267</td>\n",
       "      <td>202</td>\n",
       "    </tr>\n",
       "    <tr>\n",
       "      <th>2018-07-01 08:00:00</th>\n",
       "      <td>1567</td>\n",
       "      <td>14069</td>\n",
       "      <td>5308</td>\n",
       "      <td>7065</td>\n",
       "      <td>3788</td>\n",
       "      <td>12860</td>\n",
       "      <td>1916</td>\n",
       "      <td>3331</td>\n",
       "      <td>11734</td>\n",
       "      <td>2470</td>\n",
       "      <td>1688</td>\n",
       "      <td>1472</td>\n",
       "      <td>3064</td>\n",
       "      <td>1784</td>\n",
       "      <td>5230</td>\n",
       "      <td>3679</td>\n",
       "      <td>4613</td>\n",
       "      <td>1899</td>\n",
       "      <td>5735</td>\n",
       "      <td>230</td>\n",
       "    </tr>\n",
       "    <tr>\n",
       "      <th>2018-07-01 09:00:00</th>\n",
       "      <td>1749</td>\n",
       "      <td>15610</td>\n",
       "      <td>5862</td>\n",
       "      <td>7833</td>\n",
       "      <td>4262</td>\n",
       "      <td>14212</td>\n",
       "      <td>2145</td>\n",
       "      <td>3703</td>\n",
       "      <td>13084</td>\n",
       "      <td>2765</td>\n",
       "      <td>1875</td>\n",
       "      <td>1656</td>\n",
       "      <td>3569</td>\n",
       "      <td>1972</td>\n",
       "      <td>5752</td>\n",
       "      <td>4085</td>\n",
       "      <td>5014</td>\n",
       "      <td>2055</td>\n",
       "      <td>6299</td>\n",
       "      <td>259</td>\n",
       "    </tr>\n",
       "  </tbody>\n",
       "</table>\n",
       "</div>"
      ],
      "text/plain": [
       "                       AE    AEP    AP  ATSI    BC     CE   DAY  DEOK    DOM  \\\n",
       "period                                                                         \n",
       "2018-07-01 05:00:00  1301  12187  4384  6960  3134  12136  1619  2895   9775   \n",
       "2018-07-01 06:00:00  1314  11946  4391  6762  3139  11872  1605  2857   9787   \n",
       "2018-07-01 07:00:00  1410  12664  4757  6670  3377  11992  1707  2997  10453   \n",
       "2018-07-01 08:00:00  1567  14069  5308  7065  3788  12860  1916  3331  11734   \n",
       "2018-07-01 09:00:00  1749  15610  5862  7833  4262  14212  2145  3703  13084   \n",
       "\n",
       "                      DPL   DUQ  EKPC    JC    ME    PE   PEP    PL    PN  \\\n",
       "period                                                                      \n",
       "2018-07-01 05:00:00  1919  1466  1209  2388  1442  4397  3165  3835  1611   \n",
       "2018-07-01 06:00:00  1950  1455  1197  2416  1465  4423  3156  3901  1641   \n",
       "2018-07-01 07:00:00  2160  1528  1273  2644  1605  4743  3332  4232  1728   \n",
       "2018-07-01 08:00:00  2470  1688  1472  3064  1784  5230  3679  4613  1899   \n",
       "2018-07-01 09:00:00  2765  1875  1656  3569  1972  5752  4085  5014  2055   \n",
       "\n",
       "                       PS  RECO  \n",
       "period                           \n",
       "2018-07-01 05:00:00  5009   186  \n",
       "2018-07-01 06:00:00  4990   187  \n",
       "2018-07-01 07:00:00  5267   202  \n",
       "2018-07-01 08:00:00  5735   230  \n",
       "2018-07-01 09:00:00  6299   259  "
      ]
     },
     "execution_count": 2,
     "metadata": {},
     "output_type": "execute_result"
    }
   ],
   "source": [
    "df_base = pd.read_csv('../data/pjm_pivot.csv', index_col=0, parse_dates=True)\n",
    "df_base.head()"
   ]
  },
  {
   "attachments": {},
   "cell_type": "markdown",
   "id": "8f144a2d",
   "metadata": {
    "papermill": {
     "duration": 0.004782,
     "end_time": "2023-11-26T17:29:06.102135",
     "exception": false,
     "start_time": "2023-11-26T17:29:06.097353",
     "status": "completed"
    },
    "tags": []
   },
   "source": [
    "## Select region"
   ]
  },
  {
   "cell_type": "code",
   "execution_count": 3,
   "id": "54bf3fbe",
   "metadata": {
    "execution": {
     "iopub.execute_input": "2023-11-26T17:29:06.112863Z",
     "iopub.status.busy": "2023-11-26T17:29:06.112418Z",
     "iopub.status.idle": "2023-11-26T17:29:06.117689Z",
     "shell.execute_reply": "2023-11-26T17:29:06.116641Z"
    },
    "papermill": {
     "duration": 0.01368,
     "end_time": "2023-11-26T17:29:06.119755",
     "exception": false,
     "start_time": "2023-11-26T17:29:06.106075",
     "status": "completed"
    },
    "tags": [
     "parameters"
    ]
   },
   "outputs": [],
   "source": [
    "region = 'AE'"
   ]
  },
  {
   "cell_type": "code",
   "execution_count": 4,
   "id": "518785f0",
   "metadata": {
    "execution": {
     "iopub.execute_input": "2023-11-26T17:29:06.157413Z",
     "iopub.status.busy": "2023-11-26T17:29:06.156731Z",
     "iopub.status.idle": "2023-11-26T17:29:06.160630Z",
     "shell.execute_reply": "2023-11-26T17:29:06.159904Z"
    },
    "papermill": {
     "duration": 0.031148,
     "end_time": "2023-11-26T17:29:06.162810",
     "exception": false,
     "start_time": "2023-11-26T17:29:06.131662",
     "status": "completed"
    },
    "tags": [
     "injected-parameters"
    ]
   },
   "outputs": [],
   "source": [
    "# Parameters\n",
    "region = \"PL\"\n"
   ]
  },
  {
   "cell_type": "code",
   "execution_count": 5,
   "id": "1d3011bc",
   "metadata": {
    "execution": {
     "iopub.execute_input": "2023-11-26T17:29:06.172910Z",
     "iopub.status.busy": "2023-11-26T17:29:06.172634Z",
     "iopub.status.idle": "2023-11-26T17:29:06.181767Z",
     "shell.execute_reply": "2023-11-26T17:29:06.180795Z"
    },
    "papermill": {
     "duration": 0.016819,
     "end_time": "2023-11-26T17:29:06.184027",
     "exception": false,
     "start_time": "2023-11-26T17:29:06.167208",
     "status": "completed"
    },
    "tags": []
   },
   "outputs": [
    {
     "data": {
      "text/html": [
       "<div>\n",
       "<style scoped>\n",
       "    .dataframe tbody tr th:only-of-type {\n",
       "        vertical-align: middle;\n",
       "    }\n",
       "\n",
       "    .dataframe tbody tr th {\n",
       "        vertical-align: top;\n",
       "    }\n",
       "\n",
       "    .dataframe thead th {\n",
       "        text-align: right;\n",
       "    }\n",
       "</style>\n",
       "<table border=\"1\" class=\"dataframe\">\n",
       "  <thead>\n",
       "    <tr style=\"text-align: right;\">\n",
       "      <th></th>\n",
       "      <th>PL</th>\n",
       "    </tr>\n",
       "    <tr>\n",
       "      <th>period</th>\n",
       "      <th></th>\n",
       "    </tr>\n",
       "  </thead>\n",
       "  <tbody>\n",
       "    <tr>\n",
       "      <th>2018-07-01 05:00:00</th>\n",
       "      <td>3835</td>\n",
       "    </tr>\n",
       "    <tr>\n",
       "      <th>2018-07-01 06:00:00</th>\n",
       "      <td>3901</td>\n",
       "    </tr>\n",
       "    <tr>\n",
       "      <th>2018-07-01 07:00:00</th>\n",
       "      <td>4232</td>\n",
       "    </tr>\n",
       "    <tr>\n",
       "      <th>2018-07-01 08:00:00</th>\n",
       "      <td>4613</td>\n",
       "    </tr>\n",
       "    <tr>\n",
       "      <th>2018-07-01 09:00:00</th>\n",
       "      <td>5014</td>\n",
       "    </tr>\n",
       "    <tr>\n",
       "      <th>...</th>\n",
       "      <td>...</td>\n",
       "    </tr>\n",
       "    <tr>\n",
       "      <th>2023-11-01 00:00:00</th>\n",
       "      <td>4579</td>\n",
       "    </tr>\n",
       "    <tr>\n",
       "      <th>2023-11-01 01:00:00</th>\n",
       "      <td>4550</td>\n",
       "    </tr>\n",
       "    <tr>\n",
       "      <th>2023-11-01 02:00:00</th>\n",
       "      <td>4418</td>\n",
       "    </tr>\n",
       "    <tr>\n",
       "      <th>2023-11-01 03:00:00</th>\n",
       "      <td>4178</td>\n",
       "    </tr>\n",
       "    <tr>\n",
       "      <th>2023-11-01 04:00:00</th>\n",
       "      <td>3982</td>\n",
       "    </tr>\n",
       "  </tbody>\n",
       "</table>\n",
       "<p>44904 rows × 1 columns</p>\n",
       "</div>"
      ],
      "text/plain": [
       "                       PL\n",
       "period                   \n",
       "2018-07-01 05:00:00  3835\n",
       "2018-07-01 06:00:00  3901\n",
       "2018-07-01 07:00:00  4232\n",
       "2018-07-01 08:00:00  4613\n",
       "2018-07-01 09:00:00  5014\n",
       "...                   ...\n",
       "2023-11-01 00:00:00  4579\n",
       "2023-11-01 01:00:00  4550\n",
       "2023-11-01 02:00:00  4418\n",
       "2023-11-01 03:00:00  4178\n",
       "2023-11-01 04:00:00  3982\n",
       "\n",
       "[44904 rows x 1 columns]"
      ]
     },
     "execution_count": 5,
     "metadata": {},
     "output_type": "execute_result"
    }
   ],
   "source": [
    "df = df_base.loc[:, [region]]\n",
    "df"
   ]
  },
  {
   "attachments": {},
   "cell_type": "markdown",
   "id": "f6063112",
   "metadata": {
    "papermill": {
     "duration": 0.003684,
     "end_time": "2023-11-26T17:29:06.191862",
     "exception": false,
     "start_time": "2023-11-26T17:29:06.188178",
     "status": "completed"
    },
    "tags": []
   },
   "source": [
    "## Data Preprocessing"
   ]
  },
  {
   "attachments": {},
   "cell_type": "markdown",
   "id": "91283520",
   "metadata": {
    "papermill": {
     "duration": 0.005941,
     "end_time": "2023-11-26T17:29:06.201593",
     "exception": false,
     "start_time": "2023-11-26T17:29:06.195652",
     "status": "completed"
    },
    "tags": []
   },
   "source": [
    "### Scale Data"
   ]
  },
  {
   "cell_type": "code",
   "execution_count": 6,
   "id": "97779f47",
   "metadata": {
    "execution": {
     "iopub.execute_input": "2023-11-26T17:29:06.213958Z",
     "iopub.status.busy": "2023-11-26T17:29:06.213271Z",
     "iopub.status.idle": "2023-11-26T17:29:06.647137Z",
     "shell.execute_reply": "2023-11-26T17:29:06.646428Z"
    },
    "papermill": {
     "duration": 0.442979,
     "end_time": "2023-11-26T17:29:06.649716",
     "exception": false,
     "start_time": "2023-11-26T17:29:06.206737",
     "status": "completed"
    },
    "tags": []
   },
   "outputs": [],
   "source": [
    "from sklearn.preprocessing import MinMaxScaler\n",
    "\n",
    "# Normalize data\n",
    "scaler = MinMaxScaler(feature_range=(0, 1))\n",
    "data_norm = scaler.fit_transform(df)"
   ]
  },
  {
   "attachments": {},
   "cell_type": "markdown",
   "id": "90d6fc54",
   "metadata": {
    "papermill": {
     "duration": 0.0047,
     "end_time": "2023-11-26T17:29:06.658949",
     "exception": false,
     "start_time": "2023-11-26T17:29:06.654249",
     "status": "completed"
    },
    "tags": []
   },
   "source": [
    "### Train Test Split"
   ]
  },
  {
   "cell_type": "code",
   "execution_count": 7,
   "id": "2b82dc7f",
   "metadata": {
    "execution": {
     "iopub.execute_input": "2023-11-26T17:29:06.669451Z",
     "iopub.status.busy": "2023-11-26T17:29:06.669061Z",
     "iopub.status.idle": "2023-11-26T17:29:06.700024Z",
     "shell.execute_reply": "2023-11-26T17:29:06.699442Z"
    },
    "papermill": {
     "duration": 0.039421,
     "end_time": "2023-11-26T17:29:06.702577",
     "exception": false,
     "start_time": "2023-11-26T17:29:06.663156",
     "status": "completed"
    },
    "tags": []
   },
   "outputs": [],
   "source": [
    "from sklearn.model_selection import train_test_split\n",
    "\n",
    "train, test = train_test_split(data_norm, test_size=0.2, shuffle=False)"
   ]
  },
  {
   "attachments": {},
   "cell_type": "markdown",
   "id": "c4367a77",
   "metadata": {
    "papermill": {
     "duration": 0.005176,
     "end_time": "2023-11-26T17:29:06.713275",
     "exception": false,
     "start_time": "2023-11-26T17:29:06.708099",
     "status": "completed"
    },
    "tags": []
   },
   "source": [
    "### Create Sequences"
   ]
  },
  {
   "cell_type": "code",
   "execution_count": 8,
   "id": "2af4b2e5",
   "metadata": {
    "execution": {
     "iopub.execute_input": "2023-11-26T17:29:06.724205Z",
     "iopub.status.busy": "2023-11-26T17:29:06.723917Z",
     "iopub.status.idle": "2023-11-26T17:29:06.799201Z",
     "shell.execute_reply": "2023-11-26T17:29:06.798506Z"
    },
    "papermill": {
     "duration": 0.082969,
     "end_time": "2023-11-26T17:29:06.801406",
     "exception": false,
     "start_time": "2023-11-26T17:29:06.718437",
     "status": "completed"
    },
    "tags": []
   },
   "outputs": [],
   "source": [
    "import numpy as np\n",
    "\n",
    "def create_sequences(data, sequence_length):\n",
    "    X, y = [], []\n",
    "    for i in range(len(data) - sequence_length):\n",
    "        X.append(data[i:i+sequence_length])\n",
    "        y.append(data[i+sequence_length])\n",
    "    return np.array(X), np.array(y)\n",
    "\n",
    "sequence_length = 24 # Use 24 hours prior to predict the following hour\n",
    "X_train, y_train = create_sequences(train, sequence_length)\n",
    "X_test, y_test = create_sequences(test, sequence_length)"
   ]
  },
  {
   "attachments": {},
   "cell_type": "markdown",
   "id": "605a424e",
   "metadata": {
    "papermill": {
     "duration": 0.004218,
     "end_time": "2023-11-26T17:29:06.809965",
     "exception": false,
     "start_time": "2023-11-26T17:29:06.805747",
     "status": "completed"
    },
    "tags": []
   },
   "source": [
    "## Modelling"
   ]
  },
  {
   "attachments": {},
   "cell_type": "markdown",
   "id": "44819a79",
   "metadata": {
    "papermill": {
     "duration": 0.004965,
     "end_time": "2023-11-26T17:29:06.820703",
     "exception": false,
     "start_time": "2023-11-26T17:29:06.815738",
     "status": "completed"
    },
    "tags": []
   },
   "source": [
    "### Design NN Architecture"
   ]
  },
  {
   "cell_type": "code",
   "execution_count": 9,
   "id": "20f8293f",
   "metadata": {
    "execution": {
     "iopub.execute_input": "2023-11-26T17:29:06.830982Z",
     "iopub.status.busy": "2023-11-26T17:29:06.830533Z",
     "iopub.status.idle": "2023-11-26T17:29:11.094495Z",
     "shell.execute_reply": "2023-11-26T17:29:11.093694Z"
    },
    "papermill": {
     "duration": 4.272744,
     "end_time": "2023-11-26T17:29:11.097343",
     "exception": false,
     "start_time": "2023-11-26T17:29:06.824599",
     "status": "completed"
    },
    "tags": []
   },
   "outputs": [
    {
     "name": "stderr",
     "output_type": "stream",
     "text": [
      "2023-11-26 18:29:09.070267: I tensorflow/core/platform/cpu_feature_guard.cc:182] This TensorFlow binary is optimized to use available CPU instructions in performance-critical operations.\n",
      "To enable the following instructions: AVX2 FMA, in other operations, rebuild TensorFlow with the appropriate compiler flags.\n"
     ]
    }
   ],
   "source": [
    "from keras.models import Sequential\n",
    "from keras.layers import LSTM, Dense\n",
    "\n",
    "model = Sequential()\n",
    "model.add(LSTM(50, input_shape=(X_train.shape[1], X_train.shape[2])))\n",
    "model.add(Dense(1))\n",
    "model.compile(optimizer='adam', loss='mean_squared_error')"
   ]
  },
  {
   "attachments": {},
   "cell_type": "markdown",
   "id": "f3b006ef",
   "metadata": {
    "papermill": {
     "duration": 0.004049,
     "end_time": "2023-11-26T17:29:11.106281",
     "exception": false,
     "start_time": "2023-11-26T17:29:11.102232",
     "status": "completed"
    },
    "tags": []
   },
   "source": [
    "### Train Model"
   ]
  },
  {
   "cell_type": "code",
   "execution_count": 10,
   "id": "10e39bb7",
   "metadata": {
    "execution": {
     "iopub.execute_input": "2023-11-26T17:29:11.120435Z",
     "iopub.status.busy": "2023-11-26T17:29:11.120127Z",
     "iopub.status.idle": "2023-11-26T17:32:10.723017Z",
     "shell.execute_reply": "2023-11-26T17:32:10.722402Z"
    },
    "papermill": {
     "duration": 179.614779,
     "end_time": "2023-11-26T17:32:10.725678",
     "exception": false,
     "start_time": "2023-11-26T17:29:11.110899",
     "status": "completed"
    },
    "tags": []
   },
   "outputs": [],
   "source": [
    "from keras.callbacks import EarlyStopping\n",
    "\n",
    "early_stop = EarlyStopping(monitor='val_loss', patience=5)\n",
    "\n",
    "history = model.fit(\n",
    "    X_train, y_train, epochs=50, batch_size=64, verbose=0,\n",
    "    validation_data=(X_test, y_test), callbacks=[early_stop])"
   ]
  },
  {
   "attachments": {},
   "cell_type": "markdown",
   "id": "d20b5d12",
   "metadata": {
    "papermill": {
     "duration": 0.005045,
     "end_time": "2023-11-26T17:32:10.736709",
     "exception": false,
     "start_time": "2023-11-26T17:32:10.731664",
     "status": "completed"
    },
    "tags": []
   },
   "source": [
    "### Calculate Predictions"
   ]
  },
  {
   "cell_type": "code",
   "execution_count": 11,
   "id": "ced8553d",
   "metadata": {
    "execution": {
     "iopub.execute_input": "2023-11-26T17:32:10.748216Z",
     "iopub.status.busy": "2023-11-26T17:32:10.747858Z",
     "iopub.status.idle": "2023-11-26T17:32:11.965399Z",
     "shell.execute_reply": "2023-11-26T17:32:11.964737Z"
    },
    "papermill": {
     "duration": 1.226256,
     "end_time": "2023-11-26T17:32:11.967403",
     "exception": false,
     "start_time": "2023-11-26T17:32:10.741147",
     "status": "completed"
    },
    "tags": []
   },
   "outputs": [
    {
     "name": "stdout",
     "output_type": "stream",
     "text": [
      "\r",
      "  1/280 [..............................] - ETA: 1:49"
     ]
    },
    {
     "name": "stdout",
     "output_type": "stream",
     "text": [
      "\b\b\b\b\b\b\b\b\b\b\b\b\b\b\b\b\b\b\b\b\b\b\b\b\b\b\b\b\b\b\b\b\b\b\b\b\b\b\b\b\b\b\b\b\b\b\b\b\b\b\b\b\r",
      " 21/280 [=>............................] - ETA: 0s  "
     ]
    },
    {
     "name": "stdout",
     "output_type": "stream",
     "text": [
      "\b\b\b\b\b\b\b\b\b\b\b\b\b\b\b\b\b\b\b\b\b\b\b\b\b\b\b\b\b\b\b\b\b\b\b\b\b\b\b\b\b\b\b\b\b\b\b\b\b\b\r",
      " 42/280 [===>..........................] - ETA: 0s"
     ]
    },
    {
     "name": "stdout",
     "output_type": "stream",
     "text": [
      "\b\b\b\b\b\b\b\b\b\b\b\b\b\b\b\b\b\b\b\b\b\b\b\b\b\b\b\b\b\b\b\b\b\b\b\b\b\b\b\b\b\b\b\b\b\b\b\b\b\b\r",
      " 63/280 [=====>........................] - ETA: 0s"
     ]
    },
    {
     "name": "stdout",
     "output_type": "stream",
     "text": [
      "\b\b\b\b\b\b\b\b\b\b\b\b\b\b\b\b\b\b\b\b\b\b\b\b\b\b\b\b\b\b\b\b\b\b\b\b\b\b\b\b\b\b\b\b\b\b\b\b\b\b\r",
      " 85/280 [========>.....................] - ETA: 0s"
     ]
    },
    {
     "name": "stdout",
     "output_type": "stream",
     "text": [
      "\b\b\b\b\b\b\b\b\b\b\b\b\b\b\b\b\b\b\b\b\b\b\b\b\b\b\b\b\b\b\b\b\b\b\b\b\b\b\b\b\b\b\b\b\b\b\b\b\b\b\r",
      "105/280 [==========>...................] - ETA: 0s"
     ]
    },
    {
     "name": "stdout",
     "output_type": "stream",
     "text": [
      "\b\b\b\b\b\b\b\b\b\b\b\b\b\b\b\b\b\b\b\b\b\b\b\b\b\b\b\b\b\b\b\b\b\b\b\b\b\b\b\b\b\b\b\b\b\b\b\b\b\b\r",
      "126/280 [============>.................] - ETA: 0s"
     ]
    },
    {
     "name": "stdout",
     "output_type": "stream",
     "text": [
      "\b\b\b\b\b\b\b\b\b\b\b\b\b\b\b\b\b\b\b\b\b\b\b\b\b\b\b\b\b\b\b\b\b\b\b\b\b\b\b\b\b\b\b\b\b\b\b\b\b\b\r",
      "147/280 [==============>...............] - ETA: 0s"
     ]
    },
    {
     "name": "stdout",
     "output_type": "stream",
     "text": [
      "\b\b\b\b\b\b\b\b\b\b\b\b\b\b\b\b\b\b\b\b\b\b\b\b\b\b\b\b\b\b\b\b\b\b\b\b\b\b\b\b\b\b\b\b\b\b\b\b\b\b\r",
      "169/280 [=================>............] - ETA: 0s"
     ]
    },
    {
     "name": "stdout",
     "output_type": "stream",
     "text": [
      "\b\b\b\b\b\b\b\b\b\b\b\b\b\b\b\b\b\b\b\b\b\b\b\b\b\b\b\b\b\b\b\b\b\b\b\b\b\b\b\b\b\b\b\b\b\b\b\b\b\b\r",
      "190/280 [===================>..........] - ETA: 0s"
     ]
    },
    {
     "name": "stdout",
     "output_type": "stream",
     "text": [
      "\b\b\b\b\b\b\b\b\b\b\b\b\b\b\b\b\b\b\b\b\b\b\b\b\b\b\b\b\b\b\b\b\b\b\b\b\b\b\b\b\b\b\b\b\b\b\b\b\b\b\r",
      "212/280 [=====================>........] - ETA: 0s"
     ]
    },
    {
     "name": "stdout",
     "output_type": "stream",
     "text": [
      "\b\b\b\b\b\b\b\b\b\b\b\b\b\b\b\b\b\b\b\b\b\b\b\b\b\b\b\b\b\b\b\b\b\b\b\b\b\b\b\b\b\b\b\b\b\b\b\b\b\b\r",
      "233/280 [=======================>......] - ETA: 0s"
     ]
    },
    {
     "name": "stdout",
     "output_type": "stream",
     "text": [
      "\b\b\b\b\b\b\b\b\b\b\b\b\b\b\b\b\b\b\b\b\b\b\b\b\b\b\b\b\b\b\b\b\b\b\b\b\b\b\b\b\b\b\b\b\b\b\b\b\b\b\r",
      "254/280 [==========================>...] - ETA: 0s"
     ]
    },
    {
     "name": "stdout",
     "output_type": "stream",
     "text": [
      "\b\b\b\b\b\b\b\b\b\b\b\b\b\b\b\b\b\b\b\b\b\b\b\b\b\b\b\b\b\b\b\b\b\b\b\b\b\b\b\b\b\b\b\b\b\b\b\b\b\b\r",
      "276/280 [============================>.] - ETA: 0s"
     ]
    },
    {
     "name": "stdout",
     "output_type": "stream",
     "text": [
      "\b\b\b\b\b\b\b\b\b\b\b\b\b\b\b\b\b\b\b\b\b\b\b\b\b\b\b\b\b\b\b\b\b\b\b\b\b\b\b\b\b\b\b\b\b\b\b\b\b\b\r",
      "280/280 [==============================] - 1s 2ms/step\n"
     ]
    },
    {
     "data": {
      "text/plain": [
       "array([[0.23124498],\n",
       "       [0.20527399],\n",
       "       [0.19190925],\n",
       "       ...,\n",
       "       [0.23104516],\n",
       "       [0.21093833],\n",
       "       [0.18804249]], dtype=float32)"
      ]
     },
     "execution_count": 11,
     "metadata": {},
     "output_type": "execute_result"
    }
   ],
   "source": [
    "y_pred = model.predict(X_test)\n",
    "y_pred"
   ]
  },
  {
   "attachments": {},
   "cell_type": "markdown",
   "id": "eb8200d8",
   "metadata": {
    "papermill": {
     "duration": 0.005651,
     "end_time": "2023-11-26T17:32:11.978619",
     "exception": false,
     "start_time": "2023-11-26T17:32:11.972968",
     "status": "completed"
    },
    "tags": []
   },
   "source": [
    "### Comparison: Real Data & Prediction"
   ]
  },
  {
   "attachments": {},
   "cell_type": "markdown",
   "id": "7e799225",
   "metadata": {
    "papermill": {
     "duration": 0.005282,
     "end_time": "2023-11-26T17:32:11.988948",
     "exception": false,
     "start_time": "2023-11-26T17:32:11.983666",
     "status": "completed"
    },
    "tags": []
   },
   "source": [
    "#### Descale Data"
   ]
  },
  {
   "cell_type": "code",
   "execution_count": 12,
   "id": "ff0f07ab",
   "metadata": {
    "execution": {
     "iopub.execute_input": "2023-11-26T17:32:12.003159Z",
     "iopub.status.busy": "2023-11-26T17:32:12.002740Z",
     "iopub.status.idle": "2023-11-26T17:32:12.007514Z",
     "shell.execute_reply": "2023-11-26T17:32:12.006510Z"
    },
    "papermill": {
     "duration": 0.014675,
     "end_time": "2023-11-26T17:32:12.010268",
     "exception": false,
     "start_time": "2023-11-26T17:32:11.995593",
     "status": "completed"
    },
    "tags": []
   },
   "outputs": [],
   "source": [
    "y_pred_scaled_inverse = scaler.inverse_transform(y_pred)\n",
    "y_true = scaler.inverse_transform(y_test)"
   ]
  },
  {
   "attachments": {},
   "cell_type": "markdown",
   "id": "1f54d913",
   "metadata": {
    "papermill": {
     "duration": 0.004626,
     "end_time": "2023-11-26T17:32:12.020353",
     "exception": false,
     "start_time": "2023-11-26T17:32:12.015727",
     "status": "completed"
    },
    "tags": []
   },
   "source": [
    "#### Create DataFrame"
   ]
  },
  {
   "cell_type": "code",
   "execution_count": 13,
   "id": "08f1c121",
   "metadata": {
    "execution": {
     "iopub.execute_input": "2023-11-26T17:32:12.033425Z",
     "iopub.status.busy": "2023-11-26T17:32:12.033101Z",
     "iopub.status.idle": "2023-11-26T17:32:12.044442Z",
     "shell.execute_reply": "2023-11-26T17:32:12.043135Z"
    },
    "papermill": {
     "duration": 0.021426,
     "end_time": "2023-11-26T17:32:12.047053",
     "exception": false,
     "start_time": "2023-11-26T17:32:12.025627",
     "status": "completed"
    },
    "tags": []
   },
   "outputs": [
    {
     "data": {
      "text/html": [
       "<div>\n",
       "<style scoped>\n",
       "    .dataframe tbody tr th:only-of-type {\n",
       "        vertical-align: middle;\n",
       "    }\n",
       "\n",
       "    .dataframe tbody tr th {\n",
       "        vertical-align: top;\n",
       "    }\n",
       "\n",
       "    .dataframe thead th {\n",
       "        text-align: right;\n",
       "    }\n",
       "</style>\n",
       "<table border=\"1\" class=\"dataframe\">\n",
       "  <thead>\n",
       "    <tr style=\"text-align: right;\">\n",
       "      <th></th>\n",
       "      <th>y_pred</th>\n",
       "      <th>y_pred_scaled_inverse</th>\n",
       "      <th>y_true</th>\n",
       "    </tr>\n",
       "  </thead>\n",
       "  <tbody>\n",
       "    <tr>\n",
       "      <th>0</th>\n",
       "      <td>0.231245</td>\n",
       "      <td>4395.359375</td>\n",
       "      <td>4344.0</td>\n",
       "    </tr>\n",
       "    <tr>\n",
       "      <th>1</th>\n",
       "      <td>0.205274</td>\n",
       "      <td>4153.179688</td>\n",
       "      <td>4206.0</td>\n",
       "    </tr>\n",
       "    <tr>\n",
       "      <th>2</th>\n",
       "      <td>0.191909</td>\n",
       "      <td>4028.553711</td>\n",
       "      <td>4024.0</td>\n",
       "    </tr>\n",
       "    <tr>\n",
       "      <th>3</th>\n",
       "      <td>0.176914</td>\n",
       "      <td>3888.723145</td>\n",
       "      <td>3836.0</td>\n",
       "    </tr>\n",
       "    <tr>\n",
       "      <th>4</th>\n",
       "      <td>0.164661</td>\n",
       "      <td>3774.463379</td>\n",
       "      <td>3692.0</td>\n",
       "    </tr>\n",
       "    <tr>\n",
       "      <th>...</th>\n",
       "      <td>...</td>\n",
       "      <td>...</td>\n",
       "      <td>...</td>\n",
       "    </tr>\n",
       "    <tr>\n",
       "      <th>8952</th>\n",
       "      <td>0.255883</td>\n",
       "      <td>4625.108887</td>\n",
       "      <td>4579.0</td>\n",
       "    </tr>\n",
       "    <tr>\n",
       "      <th>8953</th>\n",
       "      <td>0.239246</td>\n",
       "      <td>4469.969238</td>\n",
       "      <td>4550.0</td>\n",
       "    </tr>\n",
       "    <tr>\n",
       "      <th>8954</th>\n",
       "      <td>0.231045</td>\n",
       "      <td>4393.496094</td>\n",
       "      <td>4418.0</td>\n",
       "    </tr>\n",
       "    <tr>\n",
       "      <th>8955</th>\n",
       "      <td>0.210938</td>\n",
       "      <td>4206.000000</td>\n",
       "      <td>4178.0</td>\n",
       "    </tr>\n",
       "    <tr>\n",
       "      <th>8956</th>\n",
       "      <td>0.188042</td>\n",
       "      <td>3992.496338</td>\n",
       "      <td>3982.0</td>\n",
       "    </tr>\n",
       "  </tbody>\n",
       "</table>\n",
       "<p>8957 rows × 3 columns</p>\n",
       "</div>"
      ],
      "text/plain": [
       "        y_pred  y_pred_scaled_inverse  y_true\n",
       "0     0.231245            4395.359375  4344.0\n",
       "1     0.205274            4153.179688  4206.0\n",
       "2     0.191909            4028.553711  4024.0\n",
       "3     0.176914            3888.723145  3836.0\n",
       "4     0.164661            3774.463379  3692.0\n",
       "...        ...                    ...     ...\n",
       "8952  0.255883            4625.108887  4579.0\n",
       "8953  0.239246            4469.969238  4550.0\n",
       "8954  0.231045            4393.496094  4418.0\n",
       "8955  0.210938            4206.000000  4178.0\n",
       "8956  0.188042            3992.496338  3982.0\n",
       "\n",
       "[8957 rows x 3 columns]"
      ]
     },
     "execution_count": 13,
     "metadata": {},
     "output_type": "execute_result"
    }
   ],
   "source": [
    "dic_pred = {\n",
    "    'y_pred': y_pred.flatten(),\n",
    "    'y_pred_scaled_inverse': y_pred_scaled_inverse.flatten(),\n",
    "    'y_true': y_true.flatten(),\n",
    "}\n",
    "\n",
    "df_pred = pd.DataFrame(dic_pred)\n",
    "df_pred"
   ]
  },
  {
   "attachments": {},
   "cell_type": "markdown",
   "id": "ee55c35b",
   "metadata": {
    "papermill": {
     "duration": 0.005189,
     "end_time": "2023-11-26T17:32:12.057440",
     "exception": false,
     "start_time": "2023-11-26T17:32:12.052251",
     "status": "completed"
    },
    "tags": []
   },
   "source": [
    "#### Evaluate Model"
   ]
  },
  {
   "cell_type": "code",
   "execution_count": 14,
   "id": "b614eadc",
   "metadata": {
    "execution": {
     "iopub.execute_input": "2023-11-26T17:32:12.070719Z",
     "iopub.status.busy": "2023-11-26T17:32:12.070431Z",
     "iopub.status.idle": "2023-11-26T17:32:12.074072Z",
     "shell.execute_reply": "2023-11-26T17:32:12.072875Z"
    },
    "papermill": {
     "duration": 0.012881,
     "end_time": "2023-11-26T17:32:12.076076",
     "exception": false,
     "start_time": "2023-11-26T17:32:12.063195",
     "status": "completed"
    },
    "tags": []
   },
   "outputs": [],
   "source": [
    "from sklearn.metrics import mean_squared_error"
   ]
  },
  {
   "cell_type": "code",
   "execution_count": 15,
   "id": "2a3bddfa",
   "metadata": {
    "execution": {
     "iopub.execute_input": "2023-11-26T17:32:12.089741Z",
     "iopub.status.busy": "2023-11-26T17:32:12.089468Z",
     "iopub.status.idle": "2023-11-26T17:32:12.095563Z",
     "shell.execute_reply": "2023-11-26T17:32:12.094946Z"
    },
    "papermill": {
     "duration": 0.014577,
     "end_time": "2023-11-26T17:32:12.097476",
     "exception": false,
     "start_time": "2023-11-26T17:32:12.082899",
     "status": "completed"
    },
    "tags": []
   },
   "outputs": [
    {
     "data": {
      "text/plain": [
       "69.85830609046039"
      ]
     },
     "execution_count": 15,
     "metadata": {},
     "output_type": "execute_result"
    }
   ],
   "source": [
    "mean_squared_error(df_pred.y_true, df_pred.y_pred_scaled_inverse, squared=False)"
   ]
  },
  {
   "cell_type": "code",
   "execution_count": 16,
   "id": "b519c503",
   "metadata": {
    "execution": {
     "iopub.execute_input": "2023-11-26T17:32:12.141709Z",
     "iopub.status.busy": "2023-11-26T17:32:12.141148Z",
     "iopub.status.idle": "2023-11-26T17:32:12.174843Z",
     "shell.execute_reply": "2023-11-26T17:32:12.172511Z"
    },
    "papermill": {
     "duration": 0.063752,
     "end_time": "2023-11-26T17:32:12.176920",
     "exception": false,
     "start_time": "2023-11-26T17:32:12.113168",
     "status": "completed"
    },
    "tags": []
   },
   "outputs": [],
   "source": [
    "model.save(f'../models/{region}.keras')"
   ]
  }
 ],
 "metadata": {
  "kernelspec": {
   "display_name": "deep-learning",
   "language": "python",
   "name": "python3"
  },
  "language_info": {
   "codemirror_mode": {
    "name": "ipython",
    "version": 3
   },
   "file_extension": ".py",
   "mimetype": "text/x-python",
   "name": "python",
   "nbconvert_exporter": "python",
   "pygments_lexer": "ipython3",
   "version": "3.9.18"
  },
  "papermill": {
   "default_parameters": {},
   "duration": 188.576854,
   "end_time": "2023-11-26T17:32:13.214787",
   "environment_variables": {},
   "exception": null,
   "input_path": "Modelling.ipynb",
   "output_path": "outputs/PL.ipynb",
   "parameters": {
    "region": "PL"
   },
   "start_time": "2023-11-26T17:29:04.637933",
   "version": "2.5.0"
  }
 },
 "nbformat": 4,
 "nbformat_minor": 5
}