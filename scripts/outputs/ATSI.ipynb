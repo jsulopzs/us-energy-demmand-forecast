{
 "cells": [
  {
   "attachments": {},
   "cell_type": "markdown",
   "id": "bcbad322",
   "metadata": {
    "papermill": {
     "duration": 0.006004,
     "end_time": "2023-12-13T12:53:11.033599",
     "exception": false,
     "start_time": "2023-12-13T12:53:11.027595",
     "status": "completed"
    },
    "tags": []
   },
   "source": [
    "## Load data"
   ]
  },
  {
   "cell_type": "code",
   "execution_count": 1,
   "id": "3e098b0e",
   "metadata": {
    "execution": {
     "iopub.execute_input": "2023-12-13T12:53:11.049884Z",
     "iopub.status.busy": "2023-12-13T12:53:11.048884Z",
     "iopub.status.idle": "2023-12-13T12:53:11.390784Z",
     "shell.execute_reply": "2023-12-13T12:53:11.390784Z"
    },
    "papermill": {
     "duration": 0.352906,
     "end_time": "2023-12-13T12:53:11.393789",
     "exception": false,
     "start_time": "2023-12-13T12:53:11.040883",
     "status": "completed"
    },
    "tags": []
   },
   "outputs": [],
   "source": [
    "import pandas as pd"
   ]
  },
  {
   "cell_type": "code",
   "execution_count": 2,
   "id": "c8395da3",
   "metadata": {
    "execution": {
     "iopub.execute_input": "2023-12-13T12:53:11.407937Z",
     "iopub.status.busy": "2023-12-13T12:53:11.407937Z",
     "iopub.status.idle": "2023-12-13T12:53:11.529443Z",
     "shell.execute_reply": "2023-12-13T12:53:11.529443Z"
    },
    "papermill": {
     "duration": 0.131507,
     "end_time": "2023-12-13T12:53:11.531444",
     "exception": false,
     "start_time": "2023-12-13T12:53:11.399937",
     "status": "completed"
    },
    "tags": []
   },
   "outputs": [
    {
     "data": {
      "text/html": [
       "<div>\n",
       "<style scoped>\n",
       "    .dataframe tbody tr th:only-of-type {\n",
       "        vertical-align: middle;\n",
       "    }\n",
       "\n",
       "    .dataframe tbody tr th {\n",
       "        vertical-align: top;\n",
       "    }\n",
       "\n",
       "    .dataframe thead th {\n",
       "        text-align: right;\n",
       "    }\n",
       "</style>\n",
       "<table border=\"1\" class=\"dataframe\">\n",
       "  <thead>\n",
       "    <tr style=\"text-align: right;\">\n",
       "      <th></th>\n",
       "      <th>AE</th>\n",
       "      <th>AEP</th>\n",
       "      <th>AP</th>\n",
       "      <th>ATSI</th>\n",
       "      <th>BC</th>\n",
       "      <th>CE</th>\n",
       "      <th>DAY</th>\n",
       "      <th>DEOK</th>\n",
       "      <th>DOM</th>\n",
       "      <th>DPL</th>\n",
       "      <th>DUQ</th>\n",
       "      <th>EKPC</th>\n",
       "      <th>JC</th>\n",
       "      <th>ME</th>\n",
       "      <th>PE</th>\n",
       "      <th>PEP</th>\n",
       "      <th>PL</th>\n",
       "      <th>PN</th>\n",
       "      <th>PS</th>\n",
       "      <th>RECO</th>\n",
       "    </tr>\n",
       "    <tr>\n",
       "      <th>period</th>\n",
       "      <th></th>\n",
       "      <th></th>\n",
       "      <th></th>\n",
       "      <th></th>\n",
       "      <th></th>\n",
       "      <th></th>\n",
       "      <th></th>\n",
       "      <th></th>\n",
       "      <th></th>\n",
       "      <th></th>\n",
       "      <th></th>\n",
       "      <th></th>\n",
       "      <th></th>\n",
       "      <th></th>\n",
       "      <th></th>\n",
       "      <th></th>\n",
       "      <th></th>\n",
       "      <th></th>\n",
       "      <th></th>\n",
       "      <th></th>\n",
       "    </tr>\n",
       "  </thead>\n",
       "  <tbody>\n",
       "    <tr>\n",
       "      <th>2018-07-01 05:00:00</th>\n",
       "      <td>1301</td>\n",
       "      <td>12187</td>\n",
       "      <td>4384</td>\n",
       "      <td>6960</td>\n",
       "      <td>3134</td>\n",
       "      <td>12136</td>\n",
       "      <td>1619</td>\n",
       "      <td>2895</td>\n",
       "      <td>9775</td>\n",
       "      <td>1919</td>\n",
       "      <td>1466</td>\n",
       "      <td>1209</td>\n",
       "      <td>2388</td>\n",
       "      <td>1442</td>\n",
       "      <td>4397</td>\n",
       "      <td>3165</td>\n",
       "      <td>3835</td>\n",
       "      <td>1611</td>\n",
       "      <td>5009</td>\n",
       "      <td>186</td>\n",
       "    </tr>\n",
       "    <tr>\n",
       "      <th>2018-07-01 06:00:00</th>\n",
       "      <td>1314</td>\n",
       "      <td>11946</td>\n",
       "      <td>4391</td>\n",
       "      <td>6762</td>\n",
       "      <td>3139</td>\n",
       "      <td>11872</td>\n",
       "      <td>1605</td>\n",
       "      <td>2857</td>\n",
       "      <td>9787</td>\n",
       "      <td>1950</td>\n",
       "      <td>1455</td>\n",
       "      <td>1197</td>\n",
       "      <td>2416</td>\n",
       "      <td>1465</td>\n",
       "      <td>4423</td>\n",
       "      <td>3156</td>\n",
       "      <td>3901</td>\n",
       "      <td>1641</td>\n",
       "      <td>4990</td>\n",
       "      <td>187</td>\n",
       "    </tr>\n",
       "    <tr>\n",
       "      <th>2018-07-01 07:00:00</th>\n",
       "      <td>1410</td>\n",
       "      <td>12664</td>\n",
       "      <td>4757</td>\n",
       "      <td>6670</td>\n",
       "      <td>3377</td>\n",
       "      <td>11992</td>\n",
       "      <td>1707</td>\n",
       "      <td>2997</td>\n",
       "      <td>10453</td>\n",
       "      <td>2160</td>\n",
       "      <td>1528</td>\n",
       "      <td>1273</td>\n",
       "      <td>2644</td>\n",
       "      <td>1605</td>\n",
       "      <td>4743</td>\n",
       "      <td>3332</td>\n",
       "      <td>4232</td>\n",
       "      <td>1728</td>\n",
       "      <td>5267</td>\n",
       "      <td>202</td>\n",
       "    </tr>\n",
       "    <tr>\n",
       "      <th>2018-07-01 08:00:00</th>\n",
       "      <td>1567</td>\n",
       "      <td>14069</td>\n",
       "      <td>5308</td>\n",
       "      <td>7065</td>\n",
       "      <td>3788</td>\n",
       "      <td>12860</td>\n",
       "      <td>1916</td>\n",
       "      <td>3331</td>\n",
       "      <td>11734</td>\n",
       "      <td>2470</td>\n",
       "      <td>1688</td>\n",
       "      <td>1472</td>\n",
       "      <td>3064</td>\n",
       "      <td>1784</td>\n",
       "      <td>5230</td>\n",
       "      <td>3679</td>\n",
       "      <td>4613</td>\n",
       "      <td>1899</td>\n",
       "      <td>5735</td>\n",
       "      <td>230</td>\n",
       "    </tr>\n",
       "    <tr>\n",
       "      <th>2018-07-01 09:00:00</th>\n",
       "      <td>1749</td>\n",
       "      <td>15610</td>\n",
       "      <td>5862</td>\n",
       "      <td>7833</td>\n",
       "      <td>4262</td>\n",
       "      <td>14212</td>\n",
       "      <td>2145</td>\n",
       "      <td>3703</td>\n",
       "      <td>13084</td>\n",
       "      <td>2765</td>\n",
       "      <td>1875</td>\n",
       "      <td>1656</td>\n",
       "      <td>3569</td>\n",
       "      <td>1972</td>\n",
       "      <td>5752</td>\n",
       "      <td>4085</td>\n",
       "      <td>5014</td>\n",
       "      <td>2055</td>\n",
       "      <td>6299</td>\n",
       "      <td>259</td>\n",
       "    </tr>\n",
       "  </tbody>\n",
       "</table>\n",
       "</div>"
      ],
      "text/plain": [
       "                       AE    AEP    AP  ATSI    BC     CE   DAY  DEOK    DOM  \\\n",
       "period                                                                         \n",
       "2018-07-01 05:00:00  1301  12187  4384  6960  3134  12136  1619  2895   9775   \n",
       "2018-07-01 06:00:00  1314  11946  4391  6762  3139  11872  1605  2857   9787   \n",
       "2018-07-01 07:00:00  1410  12664  4757  6670  3377  11992  1707  2997  10453   \n",
       "2018-07-01 08:00:00  1567  14069  5308  7065  3788  12860  1916  3331  11734   \n",
       "2018-07-01 09:00:00  1749  15610  5862  7833  4262  14212  2145  3703  13084   \n",
       "\n",
       "                      DPL   DUQ  EKPC    JC    ME    PE   PEP    PL    PN  \\\n",
       "period                                                                      \n",
       "2018-07-01 05:00:00  1919  1466  1209  2388  1442  4397  3165  3835  1611   \n",
       "2018-07-01 06:00:00  1950  1455  1197  2416  1465  4423  3156  3901  1641   \n",
       "2018-07-01 07:00:00  2160  1528  1273  2644  1605  4743  3332  4232  1728   \n",
       "2018-07-01 08:00:00  2470  1688  1472  3064  1784  5230  3679  4613  1899   \n",
       "2018-07-01 09:00:00  2765  1875  1656  3569  1972  5752  4085  5014  2055   \n",
       "\n",
       "                       PS  RECO  \n",
       "period                           \n",
       "2018-07-01 05:00:00  5009   186  \n",
       "2018-07-01 06:00:00  4990   187  \n",
       "2018-07-01 07:00:00  5267   202  \n",
       "2018-07-01 08:00:00  5735   230  \n",
       "2018-07-01 09:00:00  6299   259  "
      ]
     },
     "execution_count": 2,
     "metadata": {},
     "output_type": "execute_result"
    }
   ],
   "source": [
    "df_base = pd.read_csv('../data/general/pjm_pivot.csv', index_col=0, parse_dates=True)\n",
    "df_base.head()"
   ]
  },
  {
   "attachments": {},
   "cell_type": "markdown",
   "id": "fc82c536",
   "metadata": {
    "papermill": {
     "duration": 0.007323,
     "end_time": "2023-12-13T12:53:11.544767",
     "exception": false,
     "start_time": "2023-12-13T12:53:11.537444",
     "status": "completed"
    },
    "tags": []
   },
   "source": [
    "## Select region"
   ]
  },
  {
   "cell_type": "code",
   "execution_count": 3,
   "id": "116d5f39",
   "metadata": {
    "execution": {
     "iopub.execute_input": "2023-12-13T12:53:11.560771Z",
     "iopub.status.busy": "2023-12-13T12:53:11.560771Z",
     "iopub.status.idle": "2023-12-13T12:53:11.579139Z",
     "shell.execute_reply": "2023-12-13T12:53:11.578136Z"
    },
    "papermill": {
     "duration": 0.028371,
     "end_time": "2023-12-13T12:53:11.581140",
     "exception": false,
     "start_time": "2023-12-13T12:53:11.552769",
     "status": "completed"
    },
    "tags": [
     "parameters"
    ]
   },
   "outputs": [],
   "source": [
    "region = 'AE'"
   ]
  },
  {
   "cell_type": "code",
   "execution_count": 4,
   "id": "40f2f786",
   "metadata": {
    "execution": {
     "iopub.execute_input": "2023-12-13T12:53:11.597143Z",
     "iopub.status.busy": "2023-12-13T12:53:11.597143Z",
     "iopub.status.idle": "2023-12-13T12:53:11.611146Z",
     "shell.execute_reply": "2023-12-13T12:53:11.610146Z"
    },
    "papermill": {
     "duration": 0.024006,
     "end_time": "2023-12-13T12:53:11.612147",
     "exception": false,
     "start_time": "2023-12-13T12:53:11.588141",
     "status": "completed"
    },
    "tags": [
     "injected-parameters"
    ]
   },
   "outputs": [],
   "source": [
    "# Parameters\n",
    "region = \"ATSI\"\n"
   ]
  },
  {
   "cell_type": "code",
   "execution_count": 5,
   "id": "12815a7c",
   "metadata": {
    "execution": {
     "iopub.execute_input": "2023-12-13T12:53:11.629191Z",
     "iopub.status.busy": "2023-12-13T12:53:11.628187Z",
     "iopub.status.idle": "2023-12-13T12:53:11.643489Z",
     "shell.execute_reply": "2023-12-13T12:53:11.643489Z"
    },
    "papermill": {
     "duration": 0.030343,
     "end_time": "2023-12-13T12:53:11.645490",
     "exception": false,
     "start_time": "2023-12-13T12:53:11.615147",
     "status": "completed"
    },
    "tags": []
   },
   "outputs": [
    {
     "data": {
      "text/html": [
       "<div>\n",
       "<style scoped>\n",
       "    .dataframe tbody tr th:only-of-type {\n",
       "        vertical-align: middle;\n",
       "    }\n",
       "\n",
       "    .dataframe tbody tr th {\n",
       "        vertical-align: top;\n",
       "    }\n",
       "\n",
       "    .dataframe thead th {\n",
       "        text-align: right;\n",
       "    }\n",
       "</style>\n",
       "<table border=\"1\" class=\"dataframe\">\n",
       "  <thead>\n",
       "    <tr style=\"text-align: right;\">\n",
       "      <th></th>\n",
       "      <th>ATSI</th>\n",
       "    </tr>\n",
       "    <tr>\n",
       "      <th>period</th>\n",
       "      <th></th>\n",
       "    </tr>\n",
       "  </thead>\n",
       "  <tbody>\n",
       "    <tr>\n",
       "      <th>2018-07-01 05:00:00</th>\n",
       "      <td>6960</td>\n",
       "    </tr>\n",
       "    <tr>\n",
       "      <th>2018-07-01 06:00:00</th>\n",
       "      <td>6762</td>\n",
       "    </tr>\n",
       "    <tr>\n",
       "      <th>2018-07-01 07:00:00</th>\n",
       "      <td>6670</td>\n",
       "    </tr>\n",
       "    <tr>\n",
       "      <th>2018-07-01 08:00:00</th>\n",
       "      <td>7065</td>\n",
       "    </tr>\n",
       "    <tr>\n",
       "      <th>2018-07-01 09:00:00</th>\n",
       "      <td>7833</td>\n",
       "    </tr>\n",
       "    <tr>\n",
       "      <th>...</th>\n",
       "      <td>...</td>\n",
       "    </tr>\n",
       "    <tr>\n",
       "      <th>2023-11-01 00:00:00</th>\n",
       "      <td>7795</td>\n",
       "    </tr>\n",
       "    <tr>\n",
       "      <th>2023-11-01 01:00:00</th>\n",
       "      <td>7805</td>\n",
       "    </tr>\n",
       "    <tr>\n",
       "      <th>2023-11-01 02:00:00</th>\n",
       "      <td>7638</td>\n",
       "    </tr>\n",
       "    <tr>\n",
       "      <th>2023-11-01 03:00:00</th>\n",
       "      <td>7290</td>\n",
       "    </tr>\n",
       "    <tr>\n",
       "      <th>2023-11-01 04:00:00</th>\n",
       "      <td>6949</td>\n",
       "    </tr>\n",
       "  </tbody>\n",
       "</table>\n",
       "<p>44904 rows × 1 columns</p>\n",
       "</div>"
      ],
      "text/plain": [
       "                     ATSI\n",
       "period                   \n",
       "2018-07-01 05:00:00  6960\n",
       "2018-07-01 06:00:00  6762\n",
       "2018-07-01 07:00:00  6670\n",
       "2018-07-01 08:00:00  7065\n",
       "2018-07-01 09:00:00  7833\n",
       "...                   ...\n",
       "2023-11-01 00:00:00  7795\n",
       "2023-11-01 01:00:00  7805\n",
       "2023-11-01 02:00:00  7638\n",
       "2023-11-01 03:00:00  7290\n",
       "2023-11-01 04:00:00  6949\n",
       "\n",
       "[44904 rows x 1 columns]"
      ]
     },
     "execution_count": 5,
     "metadata": {},
     "output_type": "execute_result"
    }
   ],
   "source": [
    "df = df_base.loc[:, [region]]\n",
    "df"
   ]
  },
  {
   "attachments": {},
   "cell_type": "markdown",
   "id": "74bf5d65",
   "metadata": {
    "papermill": {
     "duration": 0.010002,
     "end_time": "2023-12-13T12:53:11.662494",
     "exception": false,
     "start_time": "2023-12-13T12:53:11.652492",
     "status": "completed"
    },
    "tags": []
   },
   "source": [
    "## Data Preprocessing"
   ]
  },
  {
   "cell_type": "markdown",
   "id": "b6266b25",
   "metadata": {
    "papermill": {
     "duration": 0.009003,
     "end_time": "2023-12-13T12:53:11.679498",
     "exception": false,
     "start_time": "2023-12-13T12:53:11.670495",
     "status": "completed"
    },
    "tags": []
   },
   "source": [
    "### Train Test Split"
   ]
  },
  {
   "cell_type": "code",
   "execution_count": 6,
   "id": "c1b55c61",
   "metadata": {
    "execution": {
     "iopub.execute_input": "2023-12-13T12:53:11.699501Z",
     "iopub.status.busy": "2023-12-13T12:53:11.698502Z",
     "iopub.status.idle": "2023-12-13T12:53:12.156406Z",
     "shell.execute_reply": "2023-12-13T12:53:12.156406Z"
    },
    "papermill": {
     "duration": 0.469906,
     "end_time": "2023-12-13T12:53:12.158406",
     "exception": false,
     "start_time": "2023-12-13T12:53:11.688500",
     "status": "completed"
    },
    "tags": []
   },
   "outputs": [],
   "source": [
    "from sklearn.model_selection import train_test_split\n",
    "\n",
    "train, test = train_test_split(df, test_size=0.3, shuffle=False)\n",
    "test, prod = train_test_split(test, test_size=0.5, shuffle=False)"
   ]
  },
  {
   "cell_type": "markdown",
   "id": "e23ecf27",
   "metadata": {
    "papermill": {
     "duration": 0.00615,
     "end_time": "2023-12-13T12:53:12.171557",
     "exception": false,
     "start_time": "2023-12-13T12:53:12.165407",
     "status": "completed"
    },
    "tags": []
   },
   "source": [
    "### Export Data"
   ]
  },
  {
   "cell_type": "code",
   "execution_count": 7,
   "id": "1f5007b1",
   "metadata": {
    "execution": {
     "iopub.execute_input": "2023-12-13T12:53:12.188560Z",
     "iopub.status.busy": "2023-12-13T12:53:12.188560Z",
     "iopub.status.idle": "2023-12-13T12:53:12.306889Z",
     "shell.execute_reply": "2023-12-13T12:53:12.306889Z"
    },
    "papermill": {
     "duration": 0.129331,
     "end_time": "2023-12-13T12:53:12.308889",
     "exception": false,
     "start_time": "2023-12-13T12:53:12.179558",
     "status": "completed"
    },
    "tags": []
   },
   "outputs": [],
   "source": [
    "import os\n",
    "\n",
    "path_region = f'../data/regions/{region}'\n",
    "\n",
    "if not os.path.exists(path_region):\n",
    "    os.makedirs(path_region)\n",
    "\n",
    "for df, name in zip([train, test, prod], ['train', 'test', 'prod']):\n",
    "    df.to_csv(f'{path_region}/{name}.csv')"
   ]
  },
  {
   "attachments": {},
   "cell_type": "markdown",
   "id": "5a5b2bd2",
   "metadata": {
    "papermill": {
     "duration": 0.0,
     "end_time": "2023-12-13T12:53:12.316561",
     "exception": false,
     "start_time": "2023-12-13T12:53:12.316561",
     "status": "completed"
    },
    "tags": []
   },
   "source": [
    "### Scale Data"
   ]
  },
  {
   "cell_type": "code",
   "execution_count": 8,
   "id": "4342aca3",
   "metadata": {
    "execution": {
     "iopub.execute_input": "2023-12-13T12:53:12.336789Z",
     "iopub.status.busy": "2023-12-13T12:53:12.336789Z",
     "iopub.status.idle": "2023-12-13T12:53:12.347488Z",
     "shell.execute_reply": "2023-12-13T12:53:12.347488Z"
    },
    "papermill": {
     "duration": 0.019699,
     "end_time": "2023-12-13T12:53:12.349488",
     "exception": false,
     "start_time": "2023-12-13T12:53:12.329789",
     "status": "completed"
    },
    "tags": []
   },
   "outputs": [],
   "source": [
    "from sklearn.preprocessing import MinMaxScaler\n",
    "\n",
    "scaler = MinMaxScaler(feature_range=(0, 1))\n",
    "\n",
    "train_norm = scaler.fit_transform(train)\n",
    "test_norm = scaler.transform(test)"
   ]
  },
  {
   "attachments": {},
   "cell_type": "markdown",
   "id": "ec1e28d2",
   "metadata": {
    "papermill": {
     "duration": 0.006133,
     "end_time": "2023-12-13T12:53:12.363624",
     "exception": false,
     "start_time": "2023-12-13T12:53:12.357491",
     "status": "completed"
    },
    "tags": []
   },
   "source": [
    "### Create Sequences"
   ]
  },
  {
   "cell_type": "code",
   "execution_count": 9,
   "id": "1f882c00",
   "metadata": {
    "execution": {
     "iopub.execute_input": "2023-12-13T12:53:12.380627Z",
     "iopub.status.busy": "2023-12-13T12:53:12.380627Z",
     "iopub.status.idle": "2023-12-13T12:53:12.458651Z",
     "shell.execute_reply": "2023-12-13T12:53:12.458651Z"
    },
    "papermill": {
     "duration": 0.090031,
     "end_time": "2023-12-13T12:53:12.460655",
     "exception": false,
     "start_time": "2023-12-13T12:53:12.370624",
     "status": "completed"
    },
    "tags": []
   },
   "outputs": [],
   "source": [
    "import numpy as np\n",
    "\n",
    "def create_sequences(data, sequence_length):\n",
    "    X, y = [], []\n",
    "    for i in range(len(data) - sequence_length):\n",
    "        X.append(data[i:i+sequence_length])\n",
    "        y.append(data[i+sequence_length])\n",
    "    return np.array(X), np.array(y)\n",
    "\n",
    "sequence_length = 24 # Use 24 hours prior to predict the following hour\n",
    "X_train, y_train = create_sequences(train_norm, sequence_length)\n",
    "X_test, y_test = create_sequences(test_norm, sequence_length)"
   ]
  },
  {
   "attachments": {},
   "cell_type": "markdown",
   "id": "08ae9aff",
   "metadata": {
    "papermill": {
     "duration": 0.007001,
     "end_time": "2023-12-13T12:53:12.474658",
     "exception": false,
     "start_time": "2023-12-13T12:53:12.467657",
     "status": "completed"
    },
    "tags": []
   },
   "source": [
    "## Modelling"
   ]
  },
  {
   "attachments": {},
   "cell_type": "markdown",
   "id": "ae4baf35",
   "metadata": {
    "papermill": {
     "duration": 0.008001,
     "end_time": "2023-12-13T12:53:12.489787",
     "exception": false,
     "start_time": "2023-12-13T12:53:12.481786",
     "status": "completed"
    },
    "tags": []
   },
   "source": [
    "### Design NN Architecture"
   ]
  },
  {
   "cell_type": "code",
   "execution_count": 10,
   "id": "d60ffaa2",
   "metadata": {
    "execution": {
     "iopub.execute_input": "2023-12-13T12:53:12.506792Z",
     "iopub.status.busy": "2023-12-13T12:53:12.506792Z",
     "iopub.status.idle": "2023-12-13T12:53:13.877312Z",
     "shell.execute_reply": "2023-12-13T12:53:13.877312Z"
    },
    "papermill": {
     "duration": 1.381526,
     "end_time": "2023-12-13T12:53:13.879315",
     "exception": false,
     "start_time": "2023-12-13T12:53:12.497789",
     "status": "completed"
    },
    "tags": []
   },
   "outputs": [
    {
     "name": "stderr",
     "output_type": "stream",
     "text": [
      "c:\\Users\\jesus\\miniconda3\\envs\\tf-base\\lib\\site-packages\\tensorflow\\python\\framework\\dtypes.py:516: FutureWarning: Passing (type, 1) or '1type' as a synonym of type is deprecated; in a future version of numpy, it will be understood as (type, (1,)) / '(1,)type'.\n",
      "  _np_qint8 = np.dtype([(\"qint8\", np.int8, 1)])\n",
      "c:\\Users\\jesus\\miniconda3\\envs\\tf-base\\lib\\site-packages\\tensorflow\\python\\framework\\dtypes.py:517: FutureWarning: Passing (type, 1) or '1type' as a synonym of type is deprecated; in a future version of numpy, it will be understood as (type, (1,)) / '(1,)type'.\n",
      "  _np_quint8 = np.dtype([(\"quint8\", np.uint8, 1)])\n",
      "c:\\Users\\jesus\\miniconda3\\envs\\tf-base\\lib\\site-packages\\tensorflow\\python\\framework\\dtypes.py:518: FutureWarning: Passing (type, 1) or '1type' as a synonym of type is deprecated; in a future version of numpy, it will be understood as (type, (1,)) / '(1,)type'.\n",
      "  _np_qint16 = np.dtype([(\"qint16\", np.int16, 1)])\n",
      "c:\\Users\\jesus\\miniconda3\\envs\\tf-base\\lib\\site-packages\\tensorflow\\python\\framework\\dtypes.py:519: FutureWarning: Passing (type, 1) or '1type' as a synonym of type is deprecated; in a future version of numpy, it will be understood as (type, (1,)) / '(1,)type'.\n",
      "  _np_quint16 = np.dtype([(\"quint16\", np.uint16, 1)])\n",
      "c:\\Users\\jesus\\miniconda3\\envs\\tf-base\\lib\\site-packages\\tensorflow\\python\\framework\\dtypes.py:520: FutureWarning: Passing (type, 1) or '1type' as a synonym of type is deprecated; in a future version of numpy, it will be understood as (type, (1,)) / '(1,)type'.\n",
      "  _np_qint32 = np.dtype([(\"qint32\", np.int32, 1)])\n",
      "c:\\Users\\jesus\\miniconda3\\envs\\tf-base\\lib\\site-packages\\tensorflow\\python\\framework\\dtypes.py:525: FutureWarning: Passing (type, 1) or '1type' as a synonym of type is deprecated; in a future version of numpy, it will be understood as (type, (1,)) / '(1,)type'.\n",
      "  np_resource = np.dtype([(\"resource\", np.ubyte, 1)])\n"
     ]
    },
    {
     "name": "stdout",
     "output_type": "stream",
     "text": [
      "WARNING:tensorflow:From c:\\Users\\jesus\\miniconda3\\envs\\tf-base\\lib\\site-packages\\tensorflow\\python\\ops\\init_ops.py:1251: calling VarianceScaling.__init__ (from tensorflow.python.ops.init_ops) with dtype is deprecated and will be removed in a future version.\n",
      "Instructions for updating:\n",
      "Call initializer instance with the dtype argument instead of passing it to the constructor\n"
     ]
    },
    {
     "name": "stderr",
     "output_type": "stream",
     "text": [
      "c:\\Users\\jesus\\miniconda3\\envs\\tf-base\\lib\\site-packages\\tensorboard\\compat\\tensorflow_stub\\dtypes.py:541: FutureWarning: Passing (type, 1) or '1type' as a synonym of type is deprecated; in a future version of numpy, it will be understood as (type, (1,)) / '(1,)type'.\n",
      "  _np_qint8 = np.dtype([(\"qint8\", np.int8, 1)])\n",
      "c:\\Users\\jesus\\miniconda3\\envs\\tf-base\\lib\\site-packages\\tensorboard\\compat\\tensorflow_stub\\dtypes.py:542: FutureWarning: Passing (type, 1) or '1type' as a synonym of type is deprecated; in a future version of numpy, it will be understood as (type, (1,)) / '(1,)type'.\n",
      "  _np_quint8 = np.dtype([(\"quint8\", np.uint8, 1)])\n",
      "c:\\Users\\jesus\\miniconda3\\envs\\tf-base\\lib\\site-packages\\tensorboard\\compat\\tensorflow_stub\\dtypes.py:543: FutureWarning: Passing (type, 1) or '1type' as a synonym of type is deprecated; in a future version of numpy, it will be understood as (type, (1,)) / '(1,)type'.\n",
      "  _np_qint16 = np.dtype([(\"qint16\", np.int16, 1)])\n",
      "c:\\Users\\jesus\\miniconda3\\envs\\tf-base\\lib\\site-packages\\tensorboard\\compat\\tensorflow_stub\\dtypes.py:544: FutureWarning: Passing (type, 1) or '1type' as a synonym of type is deprecated; in a future version of numpy, it will be understood as (type, (1,)) / '(1,)type'.\n",
      "  _np_quint16 = np.dtype([(\"quint16\", np.uint16, 1)])\n",
      "c:\\Users\\jesus\\miniconda3\\envs\\tf-base\\lib\\site-packages\\tensorboard\\compat\\tensorflow_stub\\dtypes.py:545: FutureWarning: Passing (type, 1) or '1type' as a synonym of type is deprecated; in a future version of numpy, it will be understood as (type, (1,)) / '(1,)type'.\n",
      "  _np_qint32 = np.dtype([(\"qint32\", np.int32, 1)])\n",
      "c:\\Users\\jesus\\miniconda3\\envs\\tf-base\\lib\\site-packages\\tensorboard\\compat\\tensorflow_stub\\dtypes.py:550: FutureWarning: Passing (type, 1) or '1type' as a synonym of type is deprecated; in a future version of numpy, it will be understood as (type, (1,)) / '(1,)type'.\n",
      "  np_resource = np.dtype([(\"resource\", np.ubyte, 1)])\n"
     ]
    }
   ],
   "source": [
    "from tensorflow.keras.models import Sequential\n",
    "from tensorflow.keras.layers import LSTM, Dense\n",
    "\n",
    "model = Sequential()\n",
    "model.add(LSTM(50, input_shape=(X_train.shape[1], X_train.shape[2])))\n",
    "model.add(Dense(1))\n",
    "model.compile(optimizer='adam', loss='mean_squared_error')"
   ]
  },
  {
   "attachments": {},
   "cell_type": "markdown",
   "id": "4636e9dd",
   "metadata": {
    "papermill": {
     "duration": 0.007003,
     "end_time": "2023-12-13T12:53:13.893319",
     "exception": false,
     "start_time": "2023-12-13T12:53:13.886316",
     "status": "completed"
    },
    "tags": []
   },
   "source": [
    "### Train Model"
   ]
  },
  {
   "cell_type": "code",
   "execution_count": 11,
   "id": "751049d4",
   "metadata": {
    "execution": {
     "iopub.execute_input": "2023-12-13T12:53:13.908918Z",
     "iopub.status.busy": "2023-12-13T12:53:13.908918Z",
     "iopub.status.idle": "2023-12-13T12:58:05.615454Z",
     "shell.execute_reply": "2023-12-13T12:58:05.615454Z"
    },
    "papermill": {
     "duration": 291.716541,
     "end_time": "2023-12-13T12:58:05.617458",
     "exception": false,
     "start_time": "2023-12-13T12:53:13.900917",
     "status": "completed"
    },
    "tags": []
   },
   "outputs": [
    {
     "name": "stdout",
     "output_type": "stream",
     "text": [
      "WARNING:tensorflow:From c:\\Users\\jesus\\miniconda3\\envs\\tf-base\\lib\\site-packages\\tensorflow\\python\\ops\\math_grad.py:1250: add_dispatch_support.<locals>.wrapper (from tensorflow.python.ops.array_ops) is deprecated and will be removed in a future version.\n",
      "Instructions for updating:\n",
      "Use tf.where in 2.0, which has the same broadcast rule as np.where\n"
     ]
    }
   ],
   "source": [
    "from tensorflow.keras.callbacks import EarlyStopping\n",
    "\n",
    "early_stop = EarlyStopping(monitor='val_loss', patience=5)\n",
    "\n",
    "history = model.fit(\n",
    "    X_train, y_train, epochs=50, batch_size=64, verbose=0,\n",
    "    validation_data=(X_test, y_test), callbacks=[early_stop])"
   ]
  },
  {
   "attachments": {},
   "cell_type": "markdown",
   "id": "1d2c32bc",
   "metadata": {
    "papermill": {
     "duration": 0.007001,
     "end_time": "2023-12-13T12:58:05.632460",
     "exception": false,
     "start_time": "2023-12-13T12:58:05.625459",
     "status": "completed"
    },
    "tags": []
   },
   "source": [
    "### Calculate Predictions"
   ]
  },
  {
   "cell_type": "code",
   "execution_count": 12,
   "id": "b0f97e6d",
   "metadata": {
    "execution": {
     "iopub.execute_input": "2023-12-13T12:58:05.650465Z",
     "iopub.status.busy": "2023-12-13T12:58:05.649464Z",
     "iopub.status.idle": "2023-12-13T12:58:06.182929Z",
     "shell.execute_reply": "2023-12-13T12:58:06.182929Z"
    },
    "papermill": {
     "duration": 0.544698,
     "end_time": "2023-12-13T12:58:06.185160",
     "exception": false,
     "start_time": "2023-12-13T12:58:05.640462",
     "status": "completed"
    },
    "tags": []
   },
   "outputs": [
    {
     "data": {
      "text/plain": [
       "array([[0.16405895],\n",
       "       [0.17646629],\n",
       "       [0.1975985 ],\n",
       "       ...,\n",
       "       [0.36900473],\n",
       "       [0.4301697 ],\n",
       "       [0.51486367]], dtype=float32)"
      ]
     },
     "execution_count": 12,
     "metadata": {},
     "output_type": "execute_result"
    }
   ],
   "source": [
    "y_pred = model.predict(X_test)\n",
    "y_pred"
   ]
  },
  {
   "attachments": {},
   "cell_type": "markdown",
   "id": "28560651",
   "metadata": {
    "papermill": {
     "duration": 0.008003,
     "end_time": "2023-12-13T12:58:06.200164",
     "exception": false,
     "start_time": "2023-12-13T12:58:06.192161",
     "status": "completed"
    },
    "tags": []
   },
   "source": [
    "### Comparison: Real Data & Prediction"
   ]
  },
  {
   "attachments": {},
   "cell_type": "markdown",
   "id": "e617fe75",
   "metadata": {
    "papermill": {
     "duration": 0.007002,
     "end_time": "2023-12-13T12:58:06.214264",
     "exception": false,
     "start_time": "2023-12-13T12:58:06.207262",
     "status": "completed"
    },
    "tags": []
   },
   "source": [
    "#### Descale Data"
   ]
  },
  {
   "cell_type": "code",
   "execution_count": 13,
   "id": "73e69c49",
   "metadata": {
    "execution": {
     "iopub.execute_input": "2023-12-13T12:58:06.229717Z",
     "iopub.status.busy": "2023-12-13T12:58:06.229717Z",
     "iopub.status.idle": "2023-12-13T12:58:06.232718Z",
     "shell.execute_reply": "2023-12-13T12:58:06.232718Z"
    },
    "papermill": {
     "duration": 0.012571,
     "end_time": "2023-12-13T12:58:06.234286",
     "exception": false,
     "start_time": "2023-12-13T12:58:06.221715",
     "status": "completed"
    },
    "tags": []
   },
   "outputs": [],
   "source": [
    "y_pred_scaled_inverse = scaler.inverse_transform(y_pred)\n",
    "y_true = scaler.inverse_transform(y_test)"
   ]
  },
  {
   "attachments": {},
   "cell_type": "markdown",
   "id": "e61fd7a2",
   "metadata": {
    "papermill": {
     "duration": 0.008002,
     "end_time": "2023-12-13T12:58:06.250292",
     "exception": false,
     "start_time": "2023-12-13T12:58:06.242290",
     "status": "completed"
    },
    "tags": []
   },
   "source": [
    "#### Create DataFrame"
   ]
  },
  {
   "cell_type": "code",
   "execution_count": 14,
   "id": "7bca2c4c",
   "metadata": {
    "execution": {
     "iopub.execute_input": "2023-12-13T12:58:06.268223Z",
     "iopub.status.busy": "2023-12-13T12:58:06.268223Z",
     "iopub.status.idle": "2023-12-13T12:58:06.283226Z",
     "shell.execute_reply": "2023-12-13T12:58:06.283226Z"
    },
    "papermill": {
     "duration": 0.033713,
     "end_time": "2023-12-13T12:58:06.285351",
     "exception": false,
     "start_time": "2023-12-13T12:58:06.251638",
     "status": "completed"
    },
    "tags": []
   },
   "outputs": [
    {
     "data": {
      "text/html": [
       "<div>\n",
       "<style scoped>\n",
       "    .dataframe tbody tr th:only-of-type {\n",
       "        vertical-align: middle;\n",
       "    }\n",
       "\n",
       "    .dataframe tbody tr th {\n",
       "        vertical-align: top;\n",
       "    }\n",
       "\n",
       "    .dataframe thead th {\n",
       "        text-align: right;\n",
       "    }\n",
       "</style>\n",
       "<table border=\"1\" class=\"dataframe\">\n",
       "  <thead>\n",
       "    <tr style=\"text-align: right;\">\n",
       "      <th></th>\n",
       "      <th>y_pred</th>\n",
       "      <th>y_pred_scaled_inverse</th>\n",
       "      <th>y_true</th>\n",
       "    </tr>\n",
       "  </thead>\n",
       "  <tbody>\n",
       "    <tr>\n",
       "      <th>0</th>\n",
       "      <td>0.164059</td>\n",
       "      <td>5882.697754</td>\n",
       "      <td>5908.0</td>\n",
       "    </tr>\n",
       "    <tr>\n",
       "      <th>1</th>\n",
       "      <td>0.176466</td>\n",
       "      <td>5983.259277</td>\n",
       "      <td>6003.0</td>\n",
       "    </tr>\n",
       "    <tr>\n",
       "      <th>2</th>\n",
       "      <td>0.197599</td>\n",
       "      <td>6154.535645</td>\n",
       "      <td>6159.0</td>\n",
       "    </tr>\n",
       "    <tr>\n",
       "      <th>3</th>\n",
       "      <td>0.214974</td>\n",
       "      <td>6295.362793</td>\n",
       "      <td>6612.0</td>\n",
       "    </tr>\n",
       "    <tr>\n",
       "      <th>4</th>\n",
       "      <td>0.281076</td>\n",
       "      <td>6831.117676</td>\n",
       "      <td>6641.0</td>\n",
       "    </tr>\n",
       "    <tr>\n",
       "      <th>...</th>\n",
       "      <td>...</td>\n",
       "      <td>...</td>\n",
       "      <td>...</td>\n",
       "    </tr>\n",
       "    <tr>\n",
       "      <th>6707</th>\n",
       "      <td>0.304847</td>\n",
       "      <td>7023.782715</td>\n",
       "      <td>7049.0</td>\n",
       "    </tr>\n",
       "    <tr>\n",
       "      <th>6708</th>\n",
       "      <td>0.326716</td>\n",
       "      <td>7201.036133</td>\n",
       "      <td>7229.0</td>\n",
       "    </tr>\n",
       "    <tr>\n",
       "      <th>6709</th>\n",
       "      <td>0.369005</td>\n",
       "      <td>7543.783203</td>\n",
       "      <td>7572.0</td>\n",
       "    </tr>\n",
       "    <tr>\n",
       "      <th>6710</th>\n",
       "      <td>0.430170</td>\n",
       "      <td>8039.525391</td>\n",
       "      <td>8218.0</td>\n",
       "    </tr>\n",
       "    <tr>\n",
       "      <th>6711</th>\n",
       "      <td>0.514864</td>\n",
       "      <td>8725.969727</td>\n",
       "      <td>8629.0</td>\n",
       "    </tr>\n",
       "  </tbody>\n",
       "</table>\n",
       "<p>6712 rows × 3 columns</p>\n",
       "</div>"
      ],
      "text/plain": [
       "        y_pred  y_pred_scaled_inverse  y_true\n",
       "0     0.164059            5882.697754  5908.0\n",
       "1     0.176466            5983.259277  6003.0\n",
       "2     0.197599            6154.535645  6159.0\n",
       "3     0.214974            6295.362793  6612.0\n",
       "4     0.281076            6831.117676  6641.0\n",
       "...        ...                    ...     ...\n",
       "6707  0.304847            7023.782715  7049.0\n",
       "6708  0.326716            7201.036133  7229.0\n",
       "6709  0.369005            7543.783203  7572.0\n",
       "6710  0.430170            8039.525391  8218.0\n",
       "6711  0.514864            8725.969727  8629.0\n",
       "\n",
       "[6712 rows x 3 columns]"
      ]
     },
     "execution_count": 14,
     "metadata": {},
     "output_type": "execute_result"
    }
   ],
   "source": [
    "dic_pred = {\n",
    "    'y_pred': y_pred.flatten(),\n",
    "    'y_pred_scaled_inverse': y_pred_scaled_inverse.flatten(),\n",
    "    'y_true': y_true.flatten(),\n",
    "}\n",
    "\n",
    "df_pred = pd.DataFrame(dic_pred)\n",
    "df_pred"
   ]
  },
  {
   "attachments": {},
   "cell_type": "markdown",
   "id": "ae9a7351",
   "metadata": {
    "papermill": {
     "duration": 0.015005,
     "end_time": "2023-12-13T12:58:06.302008",
     "exception": false,
     "start_time": "2023-12-13T12:58:06.287003",
     "status": "completed"
    },
    "tags": []
   },
   "source": [
    "#### Evaluate Model"
   ]
  },
  {
   "cell_type": "code",
   "execution_count": 15,
   "id": "5442adbf",
   "metadata": {
    "execution": {
     "iopub.execute_input": "2023-12-13T12:58:06.320492Z",
     "iopub.status.busy": "2023-12-13T12:58:06.320492Z",
     "iopub.status.idle": "2023-12-13T12:58:06.333129Z",
     "shell.execute_reply": "2023-12-13T12:58:06.333129Z"
    },
    "papermill": {
     "duration": 0.033132,
     "end_time": "2023-12-13T12:58:06.335140",
     "exception": false,
     "start_time": "2023-12-13T12:58:06.302008",
     "status": "completed"
    },
    "tags": []
   },
   "outputs": [],
   "source": [
    "from sklearn.metrics import mean_squared_error"
   ]
  },
  {
   "cell_type": "code",
   "execution_count": 16,
   "id": "81273257",
   "metadata": {
    "execution": {
     "iopub.execute_input": "2023-12-13T12:58:06.350979Z",
     "iopub.status.busy": "2023-12-13T12:58:06.350979Z",
     "iopub.status.idle": "2023-12-13T12:58:06.365507Z",
     "shell.execute_reply": "2023-12-13T12:58:06.365507Z"
    },
    "papermill": {
     "duration": 0.024365,
     "end_time": "2023-12-13T12:58:06.367508",
     "exception": false,
     "start_time": "2023-12-13T12:58:06.343143",
     "status": "completed"
    },
    "tags": []
   },
   "outputs": [
    {
     "data": {
      "text/plain": [
       "92.18382466942975"
      ]
     },
     "execution_count": 16,
     "metadata": {},
     "output_type": "execute_result"
    }
   ],
   "source": [
    "mean_squared_error(df_pred.y_true, df_pred.y_pred_scaled_inverse, squared=False)"
   ]
  },
  {
   "cell_type": "code",
   "execution_count": 17,
   "id": "5318e856",
   "metadata": {
    "execution": {
     "iopub.execute_input": "2023-12-13T12:58:06.387273Z",
     "iopub.status.busy": "2023-12-13T12:58:06.387273Z",
     "iopub.status.idle": "2023-12-13T12:58:06.481588Z",
     "shell.execute_reply": "2023-12-13T12:58:06.481588Z"
    },
    "papermill": {
     "duration": 0.115181,
     "end_time": "2023-12-13T12:58:06.483588",
     "exception": false,
     "start_time": "2023-12-13T12:58:06.368407",
     "status": "completed"
    },
    "tags": []
   },
   "outputs": [],
   "source": [
    "model.save(f'../models/{region}.keras')"
   ]
  }
 ],
 "metadata": {
  "kernelspec": {
   "display_name": "deep-learning",
   "language": "python",
   "name": "python3"
  },
  "language_info": {
   "codemirror_mode": {
    "name": "ipython",
    "version": 3
   },
   "file_extension": ".py",
   "mimetype": "text/x-python",
   "name": "python",
   "nbconvert_exporter": "python",
   "pygments_lexer": "ipython3",
   "version": "3.7.12"
  },
  "papermill": {
   "default_parameters": {},
   "duration": 297.210048,
   "end_time": "2023-12-13T12:58:06.958476",
   "environment_variables": {},
   "exception": null,
   "input_path": "Modelling.ipynb",
   "output_path": "outputs/ATSI.ipynb",
   "parameters": {
    "region": "ATSI"
   },
   "start_time": "2023-12-13T12:53:09.748428",
   "version": "2.4.0"
  }
 },
 "nbformat": 4,
 "nbformat_minor": 5
}