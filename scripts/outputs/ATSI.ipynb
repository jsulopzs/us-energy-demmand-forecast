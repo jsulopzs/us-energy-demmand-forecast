{
 "cells": [
  {
   "attachments": {},
   "cell_type": "markdown",
   "id": "89f596a9",
   "metadata": {
    "papermill": {
     "duration": 0.012029,
     "end_time": "2023-11-26T16:57:56.035717",
     "exception": false,
     "start_time": "2023-11-26T16:57:56.023688",
     "status": "completed"
    },
    "tags": []
   },
   "source": [
    "## Load data"
   ]
  },
  {
   "cell_type": "code",
   "execution_count": 1,
   "id": "7bf5ab65",
   "metadata": {
    "execution": {
     "iopub.execute_input": "2023-11-26T16:57:56.048717Z",
     "iopub.status.busy": "2023-11-26T16:57:56.048416Z",
     "iopub.status.idle": "2023-11-26T16:57:56.598072Z",
     "shell.execute_reply": "2023-11-26T16:57:56.597259Z"
    },
    "papermill": {
     "duration": 0.557707,
     "end_time": "2023-11-26T16:57:56.600346",
     "exception": false,
     "start_time": "2023-11-26T16:57:56.042639",
     "status": "completed"
    },
    "tags": []
   },
   "outputs": [],
   "source": [
    "import pandas as pd"
   ]
  },
  {
   "cell_type": "code",
   "execution_count": 2,
   "id": "95e0cbce",
   "metadata": {
    "execution": {
     "iopub.execute_input": "2023-11-26T16:57:56.610360Z",
     "iopub.status.busy": "2023-11-26T16:57:56.610016Z",
     "iopub.status.idle": "2023-11-26T16:57:56.747213Z",
     "shell.execute_reply": "2023-11-26T16:57:56.746360Z"
    },
    "papermill": {
     "duration": 0.144076,
     "end_time": "2023-11-26T16:57:56.749102",
     "exception": false,
     "start_time": "2023-11-26T16:57:56.605026",
     "status": "completed"
    },
    "tags": []
   },
   "outputs": [
    {
     "data": {
      "text/html": [
       "<div>\n",
       "<style scoped>\n",
       "    .dataframe tbody tr th:only-of-type {\n",
       "        vertical-align: middle;\n",
       "    }\n",
       "\n",
       "    .dataframe tbody tr th {\n",
       "        vertical-align: top;\n",
       "    }\n",
       "\n",
       "    .dataframe thead th {\n",
       "        text-align: right;\n",
       "    }\n",
       "</style>\n",
       "<table border=\"1\" class=\"dataframe\">\n",
       "  <thead>\n",
       "    <tr style=\"text-align: right;\">\n",
       "      <th></th>\n",
       "      <th>AE</th>\n",
       "      <th>AEP</th>\n",
       "      <th>AP</th>\n",
       "      <th>ATSI</th>\n",
       "      <th>BC</th>\n",
       "      <th>CE</th>\n",
       "      <th>DAY</th>\n",
       "      <th>DEOK</th>\n",
       "      <th>DOM</th>\n",
       "      <th>DPL</th>\n",
       "      <th>DUQ</th>\n",
       "      <th>EKPC</th>\n",
       "      <th>JC</th>\n",
       "      <th>ME</th>\n",
       "      <th>PE</th>\n",
       "      <th>PEP</th>\n",
       "      <th>PL</th>\n",
       "      <th>PN</th>\n",
       "      <th>PS</th>\n",
       "      <th>RECO</th>\n",
       "    </tr>\n",
       "    <tr>\n",
       "      <th>period</th>\n",
       "      <th></th>\n",
       "      <th></th>\n",
       "      <th></th>\n",
       "      <th></th>\n",
       "      <th></th>\n",
       "      <th></th>\n",
       "      <th></th>\n",
       "      <th></th>\n",
       "      <th></th>\n",
       "      <th></th>\n",
       "      <th></th>\n",
       "      <th></th>\n",
       "      <th></th>\n",
       "      <th></th>\n",
       "      <th></th>\n",
       "      <th></th>\n",
       "      <th></th>\n",
       "      <th></th>\n",
       "      <th></th>\n",
       "      <th></th>\n",
       "    </tr>\n",
       "  </thead>\n",
       "  <tbody>\n",
       "    <tr>\n",
       "      <th>2018-07-01 05:00:00</th>\n",
       "      <td>1301</td>\n",
       "      <td>12187</td>\n",
       "      <td>4384</td>\n",
       "      <td>6960</td>\n",
       "      <td>3134</td>\n",
       "      <td>12136</td>\n",
       "      <td>1619</td>\n",
       "      <td>2895</td>\n",
       "      <td>9775</td>\n",
       "      <td>1919</td>\n",
       "      <td>1466</td>\n",
       "      <td>1209</td>\n",
       "      <td>2388</td>\n",
       "      <td>1442</td>\n",
       "      <td>4397</td>\n",
       "      <td>3165</td>\n",
       "      <td>3835</td>\n",
       "      <td>1611</td>\n",
       "      <td>5009</td>\n",
       "      <td>186</td>\n",
       "    </tr>\n",
       "    <tr>\n",
       "      <th>2018-07-01 06:00:00</th>\n",
       "      <td>1314</td>\n",
       "      <td>11946</td>\n",
       "      <td>4391</td>\n",
       "      <td>6762</td>\n",
       "      <td>3139</td>\n",
       "      <td>11872</td>\n",
       "      <td>1605</td>\n",
       "      <td>2857</td>\n",
       "      <td>9787</td>\n",
       "      <td>1950</td>\n",
       "      <td>1455</td>\n",
       "      <td>1197</td>\n",
       "      <td>2416</td>\n",
       "      <td>1465</td>\n",
       "      <td>4423</td>\n",
       "      <td>3156</td>\n",
       "      <td>3901</td>\n",
       "      <td>1641</td>\n",
       "      <td>4990</td>\n",
       "      <td>187</td>\n",
       "    </tr>\n",
       "    <tr>\n",
       "      <th>2018-07-01 07:00:00</th>\n",
       "      <td>1410</td>\n",
       "      <td>12664</td>\n",
       "      <td>4757</td>\n",
       "      <td>6670</td>\n",
       "      <td>3377</td>\n",
       "      <td>11992</td>\n",
       "      <td>1707</td>\n",
       "      <td>2997</td>\n",
       "      <td>10453</td>\n",
       "      <td>2160</td>\n",
       "      <td>1528</td>\n",
       "      <td>1273</td>\n",
       "      <td>2644</td>\n",
       "      <td>1605</td>\n",
       "      <td>4743</td>\n",
       "      <td>3332</td>\n",
       "      <td>4232</td>\n",
       "      <td>1728</td>\n",
       "      <td>5267</td>\n",
       "      <td>202</td>\n",
       "    </tr>\n",
       "    <tr>\n",
       "      <th>2018-07-01 08:00:00</th>\n",
       "      <td>1567</td>\n",
       "      <td>14069</td>\n",
       "      <td>5308</td>\n",
       "      <td>7065</td>\n",
       "      <td>3788</td>\n",
       "      <td>12860</td>\n",
       "      <td>1916</td>\n",
       "      <td>3331</td>\n",
       "      <td>11734</td>\n",
       "      <td>2470</td>\n",
       "      <td>1688</td>\n",
       "      <td>1472</td>\n",
       "      <td>3064</td>\n",
       "      <td>1784</td>\n",
       "      <td>5230</td>\n",
       "      <td>3679</td>\n",
       "      <td>4613</td>\n",
       "      <td>1899</td>\n",
       "      <td>5735</td>\n",
       "      <td>230</td>\n",
       "    </tr>\n",
       "    <tr>\n",
       "      <th>2018-07-01 09:00:00</th>\n",
       "      <td>1749</td>\n",
       "      <td>15610</td>\n",
       "      <td>5862</td>\n",
       "      <td>7833</td>\n",
       "      <td>4262</td>\n",
       "      <td>14212</td>\n",
       "      <td>2145</td>\n",
       "      <td>3703</td>\n",
       "      <td>13084</td>\n",
       "      <td>2765</td>\n",
       "      <td>1875</td>\n",
       "      <td>1656</td>\n",
       "      <td>3569</td>\n",
       "      <td>1972</td>\n",
       "      <td>5752</td>\n",
       "      <td>4085</td>\n",
       "      <td>5014</td>\n",
       "      <td>2055</td>\n",
       "      <td>6299</td>\n",
       "      <td>259</td>\n",
       "    </tr>\n",
       "  </tbody>\n",
       "</table>\n",
       "</div>"
      ],
      "text/plain": [
       "                       AE    AEP    AP  ATSI    BC     CE   DAY  DEOK    DOM  \\\n",
       "period                                                                         \n",
       "2018-07-01 05:00:00  1301  12187  4384  6960  3134  12136  1619  2895   9775   \n",
       "2018-07-01 06:00:00  1314  11946  4391  6762  3139  11872  1605  2857   9787   \n",
       "2018-07-01 07:00:00  1410  12664  4757  6670  3377  11992  1707  2997  10453   \n",
       "2018-07-01 08:00:00  1567  14069  5308  7065  3788  12860  1916  3331  11734   \n",
       "2018-07-01 09:00:00  1749  15610  5862  7833  4262  14212  2145  3703  13084   \n",
       "\n",
       "                      DPL   DUQ  EKPC    JC    ME    PE   PEP    PL    PN  \\\n",
       "period                                                                      \n",
       "2018-07-01 05:00:00  1919  1466  1209  2388  1442  4397  3165  3835  1611   \n",
       "2018-07-01 06:00:00  1950  1455  1197  2416  1465  4423  3156  3901  1641   \n",
       "2018-07-01 07:00:00  2160  1528  1273  2644  1605  4743  3332  4232  1728   \n",
       "2018-07-01 08:00:00  2470  1688  1472  3064  1784  5230  3679  4613  1899   \n",
       "2018-07-01 09:00:00  2765  1875  1656  3569  1972  5752  4085  5014  2055   \n",
       "\n",
       "                       PS  RECO  \n",
       "period                           \n",
       "2018-07-01 05:00:00  5009   186  \n",
       "2018-07-01 06:00:00  4990   187  \n",
       "2018-07-01 07:00:00  5267   202  \n",
       "2018-07-01 08:00:00  5735   230  \n",
       "2018-07-01 09:00:00  6299   259  "
      ]
     },
     "execution_count": 2,
     "metadata": {},
     "output_type": "execute_result"
    }
   ],
   "source": [
    "df_base = pd.read_csv('../data/pjm_pivot.csv', index_col=0, parse_dates=True)\n",
    "df_base.head()"
   ]
  },
  {
   "attachments": {},
   "cell_type": "markdown",
   "id": "fa6464e9",
   "metadata": {
    "papermill": {
     "duration": 0.00433,
     "end_time": "2023-11-26T16:57:56.758506",
     "exception": false,
     "start_time": "2023-11-26T16:57:56.754176",
     "status": "completed"
    },
    "tags": []
   },
   "source": [
    "## Select region"
   ]
  },
  {
   "cell_type": "code",
   "execution_count": 3,
   "id": "569e85e2",
   "metadata": {
    "execution": {
     "iopub.execute_input": "2023-11-26T16:57:56.768283Z",
     "iopub.status.busy": "2023-11-26T16:57:56.767899Z",
     "iopub.status.idle": "2023-11-26T16:57:56.771890Z",
     "shell.execute_reply": "2023-11-26T16:57:56.771110Z"
    },
    "papermill": {
     "duration": 0.012132,
     "end_time": "2023-11-26T16:57:56.774242",
     "exception": false,
     "start_time": "2023-11-26T16:57:56.762110",
     "status": "completed"
    },
    "tags": [
     "parameters"
    ]
   },
   "outputs": [],
   "source": [
    "region = 'AE'"
   ]
  },
  {
   "cell_type": "code",
   "execution_count": 4,
   "id": "72793724",
   "metadata": {
    "execution": {
     "iopub.execute_input": "2023-11-26T16:57:56.810996Z",
     "iopub.status.busy": "2023-11-26T16:57:56.807751Z",
     "iopub.status.idle": "2023-11-26T16:57:56.894463Z",
     "shell.execute_reply": "2023-11-26T16:57:56.866866Z"
    },
    "papermill": {
     "duration": 0.125314,
     "end_time": "2023-11-26T16:57:56.903980",
     "exception": false,
     "start_time": "2023-11-26T16:57:56.778666",
     "status": "completed"
    },
    "tags": [
     "injected-parameters"
    ]
   },
   "outputs": [],
   "source": [
    "# Parameters\n",
    "region = \"ATSI\"\n"
   ]
  },
  {
   "cell_type": "code",
   "execution_count": 5,
   "id": "be2c2d89",
   "metadata": {
    "execution": {
     "iopub.execute_input": "2023-11-26T16:57:56.940905Z",
     "iopub.status.busy": "2023-11-26T16:57:56.940527Z",
     "iopub.status.idle": "2023-11-26T16:57:56.949680Z",
     "shell.execute_reply": "2023-11-26T16:57:56.948625Z"
    },
    "papermill": {
     "duration": 0.022114,
     "end_time": "2023-11-26T16:57:56.952445",
     "exception": false,
     "start_time": "2023-11-26T16:57:56.930331",
     "status": "completed"
    },
    "tags": []
   },
   "outputs": [
    {
     "data": {
      "text/html": [
       "<div>\n",
       "<style scoped>\n",
       "    .dataframe tbody tr th:only-of-type {\n",
       "        vertical-align: middle;\n",
       "    }\n",
       "\n",
       "    .dataframe tbody tr th {\n",
       "        vertical-align: top;\n",
       "    }\n",
       "\n",
       "    .dataframe thead th {\n",
       "        text-align: right;\n",
       "    }\n",
       "</style>\n",
       "<table border=\"1\" class=\"dataframe\">\n",
       "  <thead>\n",
       "    <tr style=\"text-align: right;\">\n",
       "      <th></th>\n",
       "      <th>ATSI</th>\n",
       "    </tr>\n",
       "    <tr>\n",
       "      <th>period</th>\n",
       "      <th></th>\n",
       "    </tr>\n",
       "  </thead>\n",
       "  <tbody>\n",
       "    <tr>\n",
       "      <th>2018-07-01 05:00:00</th>\n",
       "      <td>6960</td>\n",
       "    </tr>\n",
       "    <tr>\n",
       "      <th>2018-07-01 06:00:00</th>\n",
       "      <td>6762</td>\n",
       "    </tr>\n",
       "    <tr>\n",
       "      <th>2018-07-01 07:00:00</th>\n",
       "      <td>6670</td>\n",
       "    </tr>\n",
       "    <tr>\n",
       "      <th>2018-07-01 08:00:00</th>\n",
       "      <td>7065</td>\n",
       "    </tr>\n",
       "    <tr>\n",
       "      <th>2018-07-01 09:00:00</th>\n",
       "      <td>7833</td>\n",
       "    </tr>\n",
       "    <tr>\n",
       "      <th>...</th>\n",
       "      <td>...</td>\n",
       "    </tr>\n",
       "    <tr>\n",
       "      <th>2023-11-01 00:00:00</th>\n",
       "      <td>7795</td>\n",
       "    </tr>\n",
       "    <tr>\n",
       "      <th>2023-11-01 01:00:00</th>\n",
       "      <td>7805</td>\n",
       "    </tr>\n",
       "    <tr>\n",
       "      <th>2023-11-01 02:00:00</th>\n",
       "      <td>7638</td>\n",
       "    </tr>\n",
       "    <tr>\n",
       "      <th>2023-11-01 03:00:00</th>\n",
       "      <td>7290</td>\n",
       "    </tr>\n",
       "    <tr>\n",
       "      <th>2023-11-01 04:00:00</th>\n",
       "      <td>6949</td>\n",
       "    </tr>\n",
       "  </tbody>\n",
       "</table>\n",
       "<p>44904 rows × 1 columns</p>\n",
       "</div>"
      ],
      "text/plain": [
       "                     ATSI\n",
       "period                   \n",
       "2018-07-01 05:00:00  6960\n",
       "2018-07-01 06:00:00  6762\n",
       "2018-07-01 07:00:00  6670\n",
       "2018-07-01 08:00:00  7065\n",
       "2018-07-01 09:00:00  7833\n",
       "...                   ...\n",
       "2023-11-01 00:00:00  7795\n",
       "2023-11-01 01:00:00  7805\n",
       "2023-11-01 02:00:00  7638\n",
       "2023-11-01 03:00:00  7290\n",
       "2023-11-01 04:00:00  6949\n",
       "\n",
       "[44904 rows x 1 columns]"
      ]
     },
     "execution_count": 5,
     "metadata": {},
     "output_type": "execute_result"
    }
   ],
   "source": [
    "df = df_base.loc[:, [region]]\n",
    "df"
   ]
  },
  {
   "attachments": {},
   "cell_type": "markdown",
   "id": "15c9fb47",
   "metadata": {
    "papermill": {
     "duration": 0.005006,
     "end_time": "2023-11-26T16:57:56.970497",
     "exception": false,
     "start_time": "2023-11-26T16:57:56.965491",
     "status": "completed"
    },
    "tags": []
   },
   "source": [
    "## Data Preprocessing"
   ]
  },
  {
   "attachments": {},
   "cell_type": "markdown",
   "id": "b770ccec",
   "metadata": {
    "papermill": {
     "duration": 0.009657,
     "end_time": "2023-11-26T16:57:56.985755",
     "exception": false,
     "start_time": "2023-11-26T16:57:56.976098",
     "status": "completed"
    },
    "tags": []
   },
   "source": [
    "### Scale Data"
   ]
  },
  {
   "cell_type": "code",
   "execution_count": 6,
   "id": "6efe07c1",
   "metadata": {
    "execution": {
     "iopub.execute_input": "2023-11-26T16:57:56.998685Z",
     "iopub.status.busy": "2023-11-26T16:57:56.997961Z",
     "iopub.status.idle": "2023-11-26T16:57:57.674522Z",
     "shell.execute_reply": "2023-11-26T16:57:57.673619Z"
    },
    "papermill": {
     "duration": 0.685173,
     "end_time": "2023-11-26T16:57:57.676724",
     "exception": false,
     "start_time": "2023-11-26T16:57:56.991551",
     "status": "completed"
    },
    "tags": []
   },
   "outputs": [],
   "source": [
    "from sklearn.preprocessing import MinMaxScaler\n",
    "\n",
    "# Normalize data\n",
    "scaler = MinMaxScaler(feature_range=(0, 1))\n",
    "data_norm = scaler.fit_transform(df)"
   ]
  },
  {
   "attachments": {},
   "cell_type": "markdown",
   "id": "494d0012",
   "metadata": {
    "papermill": {
     "duration": 0.005728,
     "end_time": "2023-11-26T16:57:57.687930",
     "exception": false,
     "start_time": "2023-11-26T16:57:57.682202",
     "status": "completed"
    },
    "tags": []
   },
   "source": [
    "### Train Test Split"
   ]
  },
  {
   "cell_type": "code",
   "execution_count": 7,
   "id": "7e518f09",
   "metadata": {
    "execution": {
     "iopub.execute_input": "2023-11-26T16:57:57.719560Z",
     "iopub.status.busy": "2023-11-26T16:57:57.719034Z",
     "iopub.status.idle": "2023-11-26T16:57:57.775543Z",
     "shell.execute_reply": "2023-11-26T16:57:57.774946Z"
    },
    "papermill": {
     "duration": 0.085414,
     "end_time": "2023-11-26T16:57:57.777694",
     "exception": false,
     "start_time": "2023-11-26T16:57:57.692280",
     "status": "completed"
    },
    "tags": []
   },
   "outputs": [],
   "source": [
    "from sklearn.model_selection import train_test_split\n",
    "\n",
    "train, test = train_test_split(data_norm, test_size=0.2, shuffle=False)"
   ]
  },
  {
   "attachments": {},
   "cell_type": "markdown",
   "id": "f7ceefed",
   "metadata": {
    "papermill": {
     "duration": 0.025523,
     "end_time": "2023-11-26T16:57:57.827040",
     "exception": false,
     "start_time": "2023-11-26T16:57:57.801517",
     "status": "completed"
    },
    "tags": []
   },
   "source": [
    "### Create Sequences"
   ]
  },
  {
   "cell_type": "code",
   "execution_count": 8,
   "id": "a7405d7e",
   "metadata": {
    "execution": {
     "iopub.execute_input": "2023-11-26T16:57:57.860481Z",
     "iopub.status.busy": "2023-11-26T16:57:57.860017Z",
     "iopub.status.idle": "2023-11-26T16:57:57.937726Z",
     "shell.execute_reply": "2023-11-26T16:57:57.936740Z"
    },
    "papermill": {
     "duration": 0.089579,
     "end_time": "2023-11-26T16:57:57.939879",
     "exception": false,
     "start_time": "2023-11-26T16:57:57.850300",
     "status": "completed"
    },
    "tags": []
   },
   "outputs": [],
   "source": [
    "import numpy as np\n",
    "\n",
    "def create_sequences(data, sequence_length):\n",
    "    X, y = [], []\n",
    "    for i in range(len(data) - sequence_length):\n",
    "        X.append(data[i:i+sequence_length])\n",
    "        y.append(data[i+sequence_length])\n",
    "    return np.array(X), np.array(y)\n",
    "\n",
    "sequence_length = 24 # Use 24 hours prior to predict the following hour\n",
    "X_train, y_train = create_sequences(train, sequence_length)\n",
    "X_test, y_test = create_sequences(test, sequence_length)"
   ]
  },
  {
   "attachments": {},
   "cell_type": "markdown",
   "id": "bcefa5c9",
   "metadata": {
    "papermill": {
     "duration": 0.005673,
     "end_time": "2023-11-26T16:57:57.950372",
     "exception": false,
     "start_time": "2023-11-26T16:57:57.944699",
     "status": "completed"
    },
    "tags": []
   },
   "source": [
    "## Modelling"
   ]
  },
  {
   "attachments": {},
   "cell_type": "markdown",
   "id": "8dc0267d",
   "metadata": {
    "papermill": {
     "duration": 0.004496,
     "end_time": "2023-11-26T16:57:57.960168",
     "exception": false,
     "start_time": "2023-11-26T16:57:57.955672",
     "status": "completed"
    },
    "tags": []
   },
   "source": [
    "### Design NN Architecture"
   ]
  },
  {
   "cell_type": "code",
   "execution_count": 9,
   "id": "11175d34",
   "metadata": {
    "execution": {
     "iopub.execute_input": "2023-11-26T16:57:57.970947Z",
     "iopub.status.busy": "2023-11-26T16:57:57.970631Z",
     "iopub.status.idle": "2023-11-26T16:58:03.474855Z",
     "shell.execute_reply": "2023-11-26T16:58:03.473934Z"
    },
    "papermill": {
     "duration": 5.512642,
     "end_time": "2023-11-26T16:58:03.476919",
     "exception": false,
     "start_time": "2023-11-26T16:57:57.964277",
     "status": "completed"
    },
    "tags": []
   },
   "outputs": [
    {
     "name": "stderr",
     "output_type": "stream",
     "text": [
      "2023-11-26 17:58:00.271719: I tensorflow/core/platform/cpu_feature_guard.cc:182] This TensorFlow binary is optimized to use available CPU instructions in performance-critical operations.\n",
      "To enable the following instructions: AVX2 FMA, in other operations, rebuild TensorFlow with the appropriate compiler flags.\n"
     ]
    }
   ],
   "source": [
    "from keras.models import Sequential\n",
    "from keras.layers import LSTM, Dense\n",
    "\n",
    "model = Sequential()\n",
    "model.add(LSTM(50, input_shape=(X_train.shape[1], X_train.shape[2])))\n",
    "model.add(Dense(1))\n",
    "model.compile(optimizer='adam', loss='mean_squared_error')"
   ]
  },
  {
   "attachments": {},
   "cell_type": "markdown",
   "id": "3639598f",
   "metadata": {
    "papermill": {
     "duration": 0.00541,
     "end_time": "2023-11-26T16:58:03.490192",
     "exception": false,
     "start_time": "2023-11-26T16:58:03.484782",
     "status": "completed"
    },
    "tags": []
   },
   "source": [
    "### Train Model"
   ]
  },
  {
   "cell_type": "code",
   "execution_count": 10,
   "id": "12bd5920",
   "metadata": {
    "execution": {
     "iopub.execute_input": "2023-11-26T16:58:03.500944Z",
     "iopub.status.busy": "2023-11-26T16:58:03.500561Z",
     "iopub.status.idle": "2023-11-26T17:00:11.152294Z",
     "shell.execute_reply": "2023-11-26T17:00:11.151721Z"
    },
    "papermill": {
     "duration": 127.659783,
     "end_time": "2023-11-26T17:00:11.154291",
     "exception": false,
     "start_time": "2023-11-26T16:58:03.494508",
     "status": "completed"
    },
    "tags": []
   },
   "outputs": [],
   "source": [
    "from keras.callbacks import EarlyStopping\n",
    "\n",
    "early_stop = EarlyStopping(monitor='val_loss', patience=5)\n",
    "\n",
    "history = model.fit(\n",
    "    X_train, y_train, epochs=50, batch_size=64, verbose=0,\n",
    "    validation_data=(X_test, y_test), callbacks=[early_stop])"
   ]
  },
  {
   "attachments": {},
   "cell_type": "markdown",
   "id": "3107d85e",
   "metadata": {
    "papermill": {
     "duration": 0.005648,
     "end_time": "2023-11-26T17:00:11.165291",
     "exception": false,
     "start_time": "2023-11-26T17:00:11.159643",
     "status": "completed"
    },
    "tags": []
   },
   "source": [
    "### Calculate Predictions"
   ]
  },
  {
   "cell_type": "code",
   "execution_count": 11,
   "id": "dff26ffe",
   "metadata": {
    "execution": {
     "iopub.execute_input": "2023-11-26T17:00:11.176131Z",
     "iopub.status.busy": "2023-11-26T17:00:11.175833Z",
     "iopub.status.idle": "2023-11-26T17:00:12.430213Z",
     "shell.execute_reply": "2023-11-26T17:00:12.429479Z"
    },
    "papermill": {
     "duration": 1.26295,
     "end_time": "2023-11-26T17:00:12.432998",
     "exception": false,
     "start_time": "2023-11-26T17:00:11.170048",
     "status": "completed"
    },
    "tags": []
   },
   "outputs": [
    {
     "name": "stdout",
     "output_type": "stream",
     "text": [
      "\r",
      "  1/280 [..............................] - ETA: 1:47"
     ]
    },
    {
     "name": "stdout",
     "output_type": "stream",
     "text": [
      "\b\b\b\b\b\b\b\b\b\b\b\b\b\b\b\b\b\b\b\b\b\b\b\b\b\b\b\b\b\b\b\b\b\b\b\b\b\b\b\b\b\b\b\b\b\b\b\b\b\b\b\b\r",
      " 21/280 [=>............................] - ETA: 0s  "
     ]
    },
    {
     "name": "stdout",
     "output_type": "stream",
     "text": [
      "\b\b\b\b\b\b\b\b\b\b\b\b\b\b\b\b\b\b\b\b\b\b\b\b\b\b\b\b\b\b\b\b\b\b\b\b\b\b\b\b\b\b\b\b\b\b\b\b\b\b\r",
      " 42/280 [===>..........................] - ETA: 0s"
     ]
    },
    {
     "name": "stdout",
     "output_type": "stream",
     "text": [
      "\b\b\b\b\b\b\b\b\b\b\b\b\b\b\b\b\b\b\b\b\b\b\b\b\b\b\b\b\b\b\b\b\b\b\b\b\b\b\b\b\b\b\b\b\b\b\b\b\b\b\r",
      " 62/280 [=====>........................] - ETA: 0s"
     ]
    },
    {
     "name": "stdout",
     "output_type": "stream",
     "text": [
      "\b\b\b\b\b\b\b\b\b\b\b\b\b\b\b\b\b\b\b\b\b\b\b\b\b\b\b\b\b\b\b\b\b\b\b\b\b\b\b\b\b\b\b\b\b\b\b\b\b\b\r",
      " 82/280 [=======>......................] - ETA: 0s"
     ]
    },
    {
     "name": "stdout",
     "output_type": "stream",
     "text": [
      "\b\b\b\b\b\b\b\b\b\b\b\b\b\b\b\b\b\b\b\b\b\b\b\b\b\b\b\b\b\b\b\b\b\b\b\b\b\b\b\b\b\b\b\b\b\b\b\b\b\b\r",
      "103/280 [==========>...................] - ETA: 0s"
     ]
    },
    {
     "name": "stdout",
     "output_type": "stream",
     "text": [
      "\b\b\b\b\b\b\b\b\b\b\b\b\b\b\b\b\b\b\b\b\b\b\b\b\b\b\b\b\b\b\b\b\b\b\b\b\b\b\b\b\b\b\b\b\b\b\b\b\b\b\r",
      "123/280 [============>.................] - ETA: 0s"
     ]
    },
    {
     "name": "stdout",
     "output_type": "stream",
     "text": [
      "\b\b\b\b\b\b\b\b\b\b\b\b\b\b\b\b\b\b\b\b\b\b\b\b\b\b\b\b\b\b\b\b\b\b\b\b\b\b\b\b\b\b\b\b\b\b\b\b\b\b\r",
      "143/280 [==============>...............] - ETA: 0s"
     ]
    },
    {
     "name": "stdout",
     "output_type": "stream",
     "text": [
      "\b\b\b\b\b\b\b\b\b\b\b\b\b\b\b\b\b\b\b\b\b\b\b\b\b\b\b\b\b\b\b\b\b\b\b\b\b\b\b\b\b\b\b\b\b\b\b\b\b\b\r",
      "161/280 [================>.............] - ETA: 0s"
     ]
    },
    {
     "name": "stdout",
     "output_type": "stream",
     "text": [
      "\b\b\b\b\b\b\b\b\b\b\b\b\b\b\b\b\b\b\b\b\b\b\b\b\b\b\b\b\b\b\b\b\b\b\b\b\b\b\b\b\b\b\b\b\b\b\b\b\b\b\r",
      "180/280 [==================>...........] - ETA: 0s"
     ]
    },
    {
     "name": "stdout",
     "output_type": "stream",
     "text": [
      "\b\b\b\b\b\b\b\b\b\b\b\b\b\b\b\b\b\b\b\b\b\b\b\b\b\b\b\b\b\b\b\b\b\b\b\b\b\b\b\b\b\b\b\b\b\b\b\b\b\b\r",
      "201/280 [====================>.........] - ETA: 0s"
     ]
    },
    {
     "name": "stdout",
     "output_type": "stream",
     "text": [
      "\b\b\b\b\b\b\b\b\b\b\b\b\b\b\b\b\b\b\b\b\b\b\b\b\b\b\b\b\b\b\b\b\b\b\b\b\b\b\b\b\b\b\b\b\b\b\b\b\b\b\r",
      "222/280 [======================>.......] - ETA: 0s"
     ]
    },
    {
     "name": "stdout",
     "output_type": "stream",
     "text": [
      "\b\b\b\b\b\b\b\b\b\b\b\b\b\b\b\b\b\b\b\b\b\b\b\b\b\b\b\b\b\b\b\b\b\b\b\b\b\b\b\b\b\b\b\b\b\b\b\b\b\b\r",
      "242/280 [========================>.....] - ETA: 0s"
     ]
    },
    {
     "name": "stdout",
     "output_type": "stream",
     "text": [
      "\b\b\b\b\b\b\b\b\b\b\b\b\b\b\b\b\b\b\b\b\b\b\b\b\b\b\b\b\b\b\b\b\b\b\b\b\b\b\b\b\b\b\b\b\b\b\b\b\b\b\r",
      "263/280 [===========================>..] - ETA: 0s"
     ]
    },
    {
     "name": "stdout",
     "output_type": "stream",
     "text": [
      "\b\b\b\b\b\b\b\b\b\b\b\b\b\b\b\b\b\b\b\b\b\b\b\b\b\b\b\b\b\b\b\b\b\b\b\b\b\b\b\b\b\b\b\b\b\b\b\b\b\b\r",
      "280/280 [==============================] - 1s 3ms/step\n"
     ]
    },
    {
     "data": {
      "text/plain": [
       "array([[0.31422547],\n",
       "       [0.26097327],\n",
       "       [0.23513266],\n",
       "       ...,\n",
       "       [0.36358407],\n",
       "       [0.33724082],\n",
       "       [0.29669452]], dtype=float32)"
      ]
     },
     "execution_count": 11,
     "metadata": {},
     "output_type": "execute_result"
    }
   ],
   "source": [
    "y_pred = model.predict(X_test)\n",
    "y_pred"
   ]
  },
  {
   "attachments": {},
   "cell_type": "markdown",
   "id": "d554492b",
   "metadata": {
    "papermill": {
     "duration": 0.005819,
     "end_time": "2023-11-26T17:00:12.444977",
     "exception": false,
     "start_time": "2023-11-26T17:00:12.439158",
     "status": "completed"
    },
    "tags": []
   },
   "source": [
    "### Comparison: Real Data & Prediction"
   ]
  },
  {
   "attachments": {},
   "cell_type": "markdown",
   "id": "aaa8d730",
   "metadata": {
    "papermill": {
     "duration": 0.005668,
     "end_time": "2023-11-26T17:00:12.456454",
     "exception": false,
     "start_time": "2023-11-26T17:00:12.450786",
     "status": "completed"
    },
    "tags": []
   },
   "source": [
    "#### Descale Data"
   ]
  },
  {
   "cell_type": "code",
   "execution_count": 12,
   "id": "8ec33eca",
   "metadata": {
    "execution": {
     "iopub.execute_input": "2023-11-26T17:00:12.471835Z",
     "iopub.status.busy": "2023-11-26T17:00:12.471506Z",
     "iopub.status.idle": "2023-11-26T17:00:12.475875Z",
     "shell.execute_reply": "2023-11-26T17:00:12.475260Z"
    },
    "papermill": {
     "duration": 0.016202,
     "end_time": "2023-11-26T17:00:12.478513",
     "exception": false,
     "start_time": "2023-11-26T17:00:12.462311",
     "status": "completed"
    },
    "tags": []
   },
   "outputs": [],
   "source": [
    "y_pred_scaled_inverse = scaler.inverse_transform(y_pred)\n",
    "y_true = scaler.inverse_transform(y_test)"
   ]
  },
  {
   "attachments": {},
   "cell_type": "markdown",
   "id": "4b2e2c6d",
   "metadata": {
    "papermill": {
     "duration": 0.005493,
     "end_time": "2023-11-26T17:00:12.489487",
     "exception": false,
     "start_time": "2023-11-26T17:00:12.483994",
     "status": "completed"
    },
    "tags": []
   },
   "source": [
    "#### Create DataFrame"
   ]
  },
  {
   "cell_type": "code",
   "execution_count": 13,
   "id": "26f8897e",
   "metadata": {
    "execution": {
     "iopub.execute_input": "2023-11-26T17:00:12.502730Z",
     "iopub.status.busy": "2023-11-26T17:00:12.502149Z",
     "iopub.status.idle": "2023-11-26T17:00:12.514004Z",
     "shell.execute_reply": "2023-11-26T17:00:12.513099Z"
    },
    "papermill": {
     "duration": 0.021711,
     "end_time": "2023-11-26T17:00:12.516186",
     "exception": false,
     "start_time": "2023-11-26T17:00:12.494475",
     "status": "completed"
    },
    "tags": []
   },
   "outputs": [
    {
     "data": {
      "text/html": [
       "<div>\n",
       "<style scoped>\n",
       "    .dataframe tbody tr th:only-of-type {\n",
       "        vertical-align: middle;\n",
       "    }\n",
       "\n",
       "    .dataframe tbody tr th {\n",
       "        vertical-align: top;\n",
       "    }\n",
       "\n",
       "    .dataframe thead th {\n",
       "        text-align: right;\n",
       "    }\n",
       "</style>\n",
       "<table border=\"1\" class=\"dataframe\">\n",
       "  <thead>\n",
       "    <tr style=\"text-align: right;\">\n",
       "      <th></th>\n",
       "      <th>y_pred</th>\n",
       "      <th>y_pred_scaled_inverse</th>\n",
       "      <th>y_true</th>\n",
       "    </tr>\n",
       "  </thead>\n",
       "  <tbody>\n",
       "    <tr>\n",
       "      <th>0</th>\n",
       "      <td>0.314225</td>\n",
       "      <td>7148.502441</td>\n",
       "      <td>6946.0</td>\n",
       "    </tr>\n",
       "    <tr>\n",
       "      <th>1</th>\n",
       "      <td>0.260973</td>\n",
       "      <td>6708.639160</td>\n",
       "      <td>6715.0</td>\n",
       "    </tr>\n",
       "    <tr>\n",
       "      <th>2</th>\n",
       "      <td>0.235133</td>\n",
       "      <td>6495.195801</td>\n",
       "      <td>6509.0</td>\n",
       "    </tr>\n",
       "    <tr>\n",
       "      <th>3</th>\n",
       "      <td>0.216936</td>\n",
       "      <td>6344.895020</td>\n",
       "      <td>6203.0</td>\n",
       "    </tr>\n",
       "    <tr>\n",
       "      <th>4</th>\n",
       "      <td>0.177421</td>\n",
       "      <td>6018.495117</td>\n",
       "      <td>5951.0</td>\n",
       "    </tr>\n",
       "    <tr>\n",
       "      <th>...</th>\n",
       "      <td>...</td>\n",
       "      <td>...</td>\n",
       "      <td>...</td>\n",
       "    </tr>\n",
       "    <tr>\n",
       "      <th>8952</th>\n",
       "      <td>0.382456</td>\n",
       "      <td>7712.090332</td>\n",
       "      <td>7795.0</td>\n",
       "    </tr>\n",
       "    <tr>\n",
       "      <th>8953</th>\n",
       "      <td>0.377577</td>\n",
       "      <td>7671.788574</td>\n",
       "      <td>7805.0</td>\n",
       "    </tr>\n",
       "    <tr>\n",
       "      <th>8954</th>\n",
       "      <td>0.363584</td>\n",
       "      <td>7556.204590</td>\n",
       "      <td>7638.0</td>\n",
       "    </tr>\n",
       "    <tr>\n",
       "      <th>8955</th>\n",
       "      <td>0.337241</td>\n",
       "      <td>7338.608887</td>\n",
       "      <td>7290.0</td>\n",
       "    </tr>\n",
       "    <tr>\n",
       "      <th>8956</th>\n",
       "      <td>0.296695</td>\n",
       "      <td>7003.696777</td>\n",
       "      <td>6949.0</td>\n",
       "    </tr>\n",
       "  </tbody>\n",
       "</table>\n",
       "<p>8957 rows × 3 columns</p>\n",
       "</div>"
      ],
      "text/plain": [
       "        y_pred  y_pred_scaled_inverse  y_true\n",
       "0     0.314225            7148.502441  6946.0\n",
       "1     0.260973            6708.639160  6715.0\n",
       "2     0.235133            6495.195801  6509.0\n",
       "3     0.216936            6344.895020  6203.0\n",
       "4     0.177421            6018.495117  5951.0\n",
       "...        ...                    ...     ...\n",
       "8952  0.382456            7712.090332  7795.0\n",
       "8953  0.377577            7671.788574  7805.0\n",
       "8954  0.363584            7556.204590  7638.0\n",
       "8955  0.337241            7338.608887  7290.0\n",
       "8956  0.296695            7003.696777  6949.0\n",
       "\n",
       "[8957 rows x 3 columns]"
      ]
     },
     "execution_count": 13,
     "metadata": {},
     "output_type": "execute_result"
    }
   ],
   "source": [
    "dic_pred = {\n",
    "    'y_pred': y_pred.flatten(),\n",
    "    'y_pred_scaled_inverse': y_pred_scaled_inverse.flatten(),\n",
    "    'y_true': y_true.flatten(),\n",
    "}\n",
    "\n",
    "df_pred = pd.DataFrame(dic_pred)\n",
    "df_pred"
   ]
  },
  {
   "attachments": {},
   "cell_type": "markdown",
   "id": "8c4c450e",
   "metadata": {
    "papermill": {
     "duration": 0.00495,
     "end_time": "2023-11-26T17:00:12.526782",
     "exception": false,
     "start_time": "2023-11-26T17:00:12.521832",
     "status": "completed"
    },
    "tags": []
   },
   "source": [
    "#### Evaluate Model"
   ]
  },
  {
   "cell_type": "code",
   "execution_count": 14,
   "id": "a1f70138",
   "metadata": {
    "execution": {
     "iopub.execute_input": "2023-11-26T17:00:12.540090Z",
     "iopub.status.busy": "2023-11-26T17:00:12.539806Z",
     "iopub.status.idle": "2023-11-26T17:00:12.543566Z",
     "shell.execute_reply": "2023-11-26T17:00:12.542684Z"
    },
    "papermill": {
     "duration": 0.0132,
     "end_time": "2023-11-26T17:00:12.546392",
     "exception": false,
     "start_time": "2023-11-26T17:00:12.533192",
     "status": "completed"
    },
    "tags": []
   },
   "outputs": [],
   "source": [
    "from sklearn.metrics import mean_squared_error"
   ]
  },
  {
   "cell_type": "code",
   "execution_count": 15,
   "id": "e0da8461",
   "metadata": {
    "execution": {
     "iopub.execute_input": "2023-11-26T17:00:12.577666Z",
     "iopub.status.busy": "2023-11-26T17:00:12.577122Z",
     "iopub.status.idle": "2023-11-26T17:00:12.583915Z",
     "shell.execute_reply": "2023-11-26T17:00:12.583349Z"
    },
    "papermill": {
     "duration": 0.032961,
     "end_time": "2023-11-26T17:00:12.586002",
     "exception": false,
     "start_time": "2023-11-26T17:00:12.553041",
     "status": "completed"
    },
    "tags": []
   },
   "outputs": [
    {
     "data": {
      "text/plain": [
       "104.86316639440014"
      ]
     },
     "execution_count": 15,
     "metadata": {},
     "output_type": "execute_result"
    }
   ],
   "source": [
    "mean_squared_error(df_pred.y_true, df_pred.y_pred_scaled_inverse, squared=False)"
   ]
  },
  {
   "cell_type": "code",
   "execution_count": 16,
   "id": "65cd3f49",
   "metadata": {
    "execution": {
     "iopub.execute_input": "2023-11-26T17:00:12.606795Z",
     "iopub.status.busy": "2023-11-26T17:00:12.606282Z",
     "iopub.status.idle": "2023-11-26T17:00:12.636620Z",
     "shell.execute_reply": "2023-11-26T17:00:12.635879Z"
    },
    "papermill": {
     "duration": 0.039575,
     "end_time": "2023-11-26T17:00:12.638888",
     "exception": false,
     "start_time": "2023-11-26T17:00:12.599313",
     "status": "completed"
    },
    "tags": []
   },
   "outputs": [],
   "source": [
    "model.save(f'../models/{region}.keras')"
   ]
  }
 ],
 "metadata": {
  "kernelspec": {
   "display_name": "deep-learning",
   "language": "python",
   "name": "python3"
  },
  "language_info": {
   "codemirror_mode": {
    "name": "ipython",
    "version": 3
   },
   "file_extension": ".py",
   "mimetype": "text/x-python",
   "name": "python",
   "nbconvert_exporter": "python",
   "pygments_lexer": "ipython3",
   "version": "3.9.18"
  },
  "papermill": {
   "default_parameters": {},
   "duration": 139.061687,
   "end_time": "2023-11-26T17:00:13.677150",
   "environment_variables": {},
   "exception": null,
   "input_path": "Modelling.ipynb",
   "output_path": "outputs/ATSI.ipynb",
   "parameters": {
    "region": "ATSI"
   },
   "start_time": "2023-11-26T16:57:54.615463",
   "version": "2.5.0"
  }
 },
 "nbformat": 4,
 "nbformat_minor": 5
}