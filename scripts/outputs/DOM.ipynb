{
 "cells": [
  {
   "attachments": {},
   "cell_type": "markdown",
   "id": "3ac123f7",
   "metadata": {
    "papermill": {
     "duration": 0.007134,
     "end_time": "2023-11-26T17:12:40.051505",
     "exception": false,
     "start_time": "2023-11-26T17:12:40.044371",
     "status": "completed"
    },
    "tags": []
   },
   "source": [
    "## Load data"
   ]
  },
  {
   "cell_type": "code",
   "execution_count": 1,
   "id": "d3032b03",
   "metadata": {
    "execution": {
     "iopub.execute_input": "2023-11-26T17:12:40.066846Z",
     "iopub.status.busy": "2023-11-26T17:12:40.066167Z",
     "iopub.status.idle": "2023-11-26T17:12:40.606235Z",
     "shell.execute_reply": "2023-11-26T17:12:40.605610Z"
    },
    "papermill": {
     "duration": 0.549348,
     "end_time": "2023-11-26T17:12:40.608227",
     "exception": false,
     "start_time": "2023-11-26T17:12:40.058879",
     "status": "completed"
    },
    "tags": []
   },
   "outputs": [],
   "source": [
    "import pandas as pd"
   ]
  },
  {
   "cell_type": "code",
   "execution_count": 2,
   "id": "756071cb",
   "metadata": {
    "execution": {
     "iopub.execute_input": "2023-11-26T17:12:40.619494Z",
     "iopub.status.busy": "2023-11-26T17:12:40.619101Z",
     "iopub.status.idle": "2023-11-26T17:12:40.758210Z",
     "shell.execute_reply": "2023-11-26T17:12:40.757695Z"
    },
    "papermill": {
     "duration": 0.1471,
     "end_time": "2023-11-26T17:12:40.759923",
     "exception": false,
     "start_time": "2023-11-26T17:12:40.612823",
     "status": "completed"
    },
    "tags": []
   },
   "outputs": [
    {
     "data": {
      "text/html": [
       "<div>\n",
       "<style scoped>\n",
       "    .dataframe tbody tr th:only-of-type {\n",
       "        vertical-align: middle;\n",
       "    }\n",
       "\n",
       "    .dataframe tbody tr th {\n",
       "        vertical-align: top;\n",
       "    }\n",
       "\n",
       "    .dataframe thead th {\n",
       "        text-align: right;\n",
       "    }\n",
       "</style>\n",
       "<table border=\"1\" class=\"dataframe\">\n",
       "  <thead>\n",
       "    <tr style=\"text-align: right;\">\n",
       "      <th></th>\n",
       "      <th>AE</th>\n",
       "      <th>AEP</th>\n",
       "      <th>AP</th>\n",
       "      <th>ATSI</th>\n",
       "      <th>BC</th>\n",
       "      <th>CE</th>\n",
       "      <th>DAY</th>\n",
       "      <th>DEOK</th>\n",
       "      <th>DOM</th>\n",
       "      <th>DPL</th>\n",
       "      <th>DUQ</th>\n",
       "      <th>EKPC</th>\n",
       "      <th>JC</th>\n",
       "      <th>ME</th>\n",
       "      <th>PE</th>\n",
       "      <th>PEP</th>\n",
       "      <th>PL</th>\n",
       "      <th>PN</th>\n",
       "      <th>PS</th>\n",
       "      <th>RECO</th>\n",
       "    </tr>\n",
       "    <tr>\n",
       "      <th>period</th>\n",
       "      <th></th>\n",
       "      <th></th>\n",
       "      <th></th>\n",
       "      <th></th>\n",
       "      <th></th>\n",
       "      <th></th>\n",
       "      <th></th>\n",
       "      <th></th>\n",
       "      <th></th>\n",
       "      <th></th>\n",
       "      <th></th>\n",
       "      <th></th>\n",
       "      <th></th>\n",
       "      <th></th>\n",
       "      <th></th>\n",
       "      <th></th>\n",
       "      <th></th>\n",
       "      <th></th>\n",
       "      <th></th>\n",
       "      <th></th>\n",
       "    </tr>\n",
       "  </thead>\n",
       "  <tbody>\n",
       "    <tr>\n",
       "      <th>2018-07-01 05:00:00</th>\n",
       "      <td>1301</td>\n",
       "      <td>12187</td>\n",
       "      <td>4384</td>\n",
       "      <td>6960</td>\n",
       "      <td>3134</td>\n",
       "      <td>12136</td>\n",
       "      <td>1619</td>\n",
       "      <td>2895</td>\n",
       "      <td>9775</td>\n",
       "      <td>1919</td>\n",
       "      <td>1466</td>\n",
       "      <td>1209</td>\n",
       "      <td>2388</td>\n",
       "      <td>1442</td>\n",
       "      <td>4397</td>\n",
       "      <td>3165</td>\n",
       "      <td>3835</td>\n",
       "      <td>1611</td>\n",
       "      <td>5009</td>\n",
       "      <td>186</td>\n",
       "    </tr>\n",
       "    <tr>\n",
       "      <th>2018-07-01 06:00:00</th>\n",
       "      <td>1314</td>\n",
       "      <td>11946</td>\n",
       "      <td>4391</td>\n",
       "      <td>6762</td>\n",
       "      <td>3139</td>\n",
       "      <td>11872</td>\n",
       "      <td>1605</td>\n",
       "      <td>2857</td>\n",
       "      <td>9787</td>\n",
       "      <td>1950</td>\n",
       "      <td>1455</td>\n",
       "      <td>1197</td>\n",
       "      <td>2416</td>\n",
       "      <td>1465</td>\n",
       "      <td>4423</td>\n",
       "      <td>3156</td>\n",
       "      <td>3901</td>\n",
       "      <td>1641</td>\n",
       "      <td>4990</td>\n",
       "      <td>187</td>\n",
       "    </tr>\n",
       "    <tr>\n",
       "      <th>2018-07-01 07:00:00</th>\n",
       "      <td>1410</td>\n",
       "      <td>12664</td>\n",
       "      <td>4757</td>\n",
       "      <td>6670</td>\n",
       "      <td>3377</td>\n",
       "      <td>11992</td>\n",
       "      <td>1707</td>\n",
       "      <td>2997</td>\n",
       "      <td>10453</td>\n",
       "      <td>2160</td>\n",
       "      <td>1528</td>\n",
       "      <td>1273</td>\n",
       "      <td>2644</td>\n",
       "      <td>1605</td>\n",
       "      <td>4743</td>\n",
       "      <td>3332</td>\n",
       "      <td>4232</td>\n",
       "      <td>1728</td>\n",
       "      <td>5267</td>\n",
       "      <td>202</td>\n",
       "    </tr>\n",
       "    <tr>\n",
       "      <th>2018-07-01 08:00:00</th>\n",
       "      <td>1567</td>\n",
       "      <td>14069</td>\n",
       "      <td>5308</td>\n",
       "      <td>7065</td>\n",
       "      <td>3788</td>\n",
       "      <td>12860</td>\n",
       "      <td>1916</td>\n",
       "      <td>3331</td>\n",
       "      <td>11734</td>\n",
       "      <td>2470</td>\n",
       "      <td>1688</td>\n",
       "      <td>1472</td>\n",
       "      <td>3064</td>\n",
       "      <td>1784</td>\n",
       "      <td>5230</td>\n",
       "      <td>3679</td>\n",
       "      <td>4613</td>\n",
       "      <td>1899</td>\n",
       "      <td>5735</td>\n",
       "      <td>230</td>\n",
       "    </tr>\n",
       "    <tr>\n",
       "      <th>2018-07-01 09:00:00</th>\n",
       "      <td>1749</td>\n",
       "      <td>15610</td>\n",
       "      <td>5862</td>\n",
       "      <td>7833</td>\n",
       "      <td>4262</td>\n",
       "      <td>14212</td>\n",
       "      <td>2145</td>\n",
       "      <td>3703</td>\n",
       "      <td>13084</td>\n",
       "      <td>2765</td>\n",
       "      <td>1875</td>\n",
       "      <td>1656</td>\n",
       "      <td>3569</td>\n",
       "      <td>1972</td>\n",
       "      <td>5752</td>\n",
       "      <td>4085</td>\n",
       "      <td>5014</td>\n",
       "      <td>2055</td>\n",
       "      <td>6299</td>\n",
       "      <td>259</td>\n",
       "    </tr>\n",
       "  </tbody>\n",
       "</table>\n",
       "</div>"
      ],
      "text/plain": [
       "                       AE    AEP    AP  ATSI    BC     CE   DAY  DEOK    DOM  \\\n",
       "period                                                                         \n",
       "2018-07-01 05:00:00  1301  12187  4384  6960  3134  12136  1619  2895   9775   \n",
       "2018-07-01 06:00:00  1314  11946  4391  6762  3139  11872  1605  2857   9787   \n",
       "2018-07-01 07:00:00  1410  12664  4757  6670  3377  11992  1707  2997  10453   \n",
       "2018-07-01 08:00:00  1567  14069  5308  7065  3788  12860  1916  3331  11734   \n",
       "2018-07-01 09:00:00  1749  15610  5862  7833  4262  14212  2145  3703  13084   \n",
       "\n",
       "                      DPL   DUQ  EKPC    JC    ME    PE   PEP    PL    PN  \\\n",
       "period                                                                      \n",
       "2018-07-01 05:00:00  1919  1466  1209  2388  1442  4397  3165  3835  1611   \n",
       "2018-07-01 06:00:00  1950  1455  1197  2416  1465  4423  3156  3901  1641   \n",
       "2018-07-01 07:00:00  2160  1528  1273  2644  1605  4743  3332  4232  1728   \n",
       "2018-07-01 08:00:00  2470  1688  1472  3064  1784  5230  3679  4613  1899   \n",
       "2018-07-01 09:00:00  2765  1875  1656  3569  1972  5752  4085  5014  2055   \n",
       "\n",
       "                       PS  RECO  \n",
       "period                           \n",
       "2018-07-01 05:00:00  5009   186  \n",
       "2018-07-01 06:00:00  4990   187  \n",
       "2018-07-01 07:00:00  5267   202  \n",
       "2018-07-01 08:00:00  5735   230  \n",
       "2018-07-01 09:00:00  6299   259  "
      ]
     },
     "execution_count": 2,
     "metadata": {},
     "output_type": "execute_result"
    }
   ],
   "source": [
    "df_base = pd.read_csv('../data/pjm_pivot.csv', index_col=0, parse_dates=True)\n",
    "df_base.head()"
   ]
  },
  {
   "attachments": {},
   "cell_type": "markdown",
   "id": "d059f76b",
   "metadata": {
    "papermill": {
     "duration": 0.023082,
     "end_time": "2023-11-26T17:12:40.788768",
     "exception": false,
     "start_time": "2023-11-26T17:12:40.765686",
     "status": "completed"
    },
    "tags": []
   },
   "source": [
    "## Select region"
   ]
  },
  {
   "cell_type": "code",
   "execution_count": 3,
   "id": "f86937f0",
   "metadata": {
    "execution": {
     "iopub.execute_input": "2023-11-26T17:12:40.801067Z",
     "iopub.status.busy": "2023-11-26T17:12:40.800765Z",
     "iopub.status.idle": "2023-11-26T17:12:40.803972Z",
     "shell.execute_reply": "2023-11-26T17:12:40.803306Z"
    },
    "papermill": {
     "duration": 0.011823,
     "end_time": "2023-11-26T17:12:40.805766",
     "exception": false,
     "start_time": "2023-11-26T17:12:40.793943",
     "status": "completed"
    },
    "tags": [
     "parameters"
    ]
   },
   "outputs": [],
   "source": [
    "region = 'AE'"
   ]
  },
  {
   "cell_type": "code",
   "execution_count": 4,
   "id": "7ce65a89",
   "metadata": {
    "execution": {
     "iopub.execute_input": "2023-11-26T17:12:40.815553Z",
     "iopub.status.busy": "2023-11-26T17:12:40.815170Z",
     "iopub.status.idle": "2023-11-26T17:12:40.818624Z",
     "shell.execute_reply": "2023-11-26T17:12:40.818008Z"
    },
    "papermill": {
     "duration": 0.010289,
     "end_time": "2023-11-26T17:12:40.820268",
     "exception": false,
     "start_time": "2023-11-26T17:12:40.809979",
     "status": "completed"
    },
    "tags": [
     "injected-parameters"
    ]
   },
   "outputs": [],
   "source": [
    "# Parameters\n",
    "region = \"DOM\"\n"
   ]
  },
  {
   "cell_type": "code",
   "execution_count": 5,
   "id": "8ce14612",
   "metadata": {
    "execution": {
     "iopub.execute_input": "2023-11-26T17:12:40.851707Z",
     "iopub.status.busy": "2023-11-26T17:12:40.850505Z",
     "iopub.status.idle": "2023-11-26T17:12:40.862434Z",
     "shell.execute_reply": "2023-11-26T17:12:40.861551Z"
    },
    "papermill": {
     "duration": 0.040915,
     "end_time": "2023-11-26T17:12:40.864806",
     "exception": false,
     "start_time": "2023-11-26T17:12:40.823891",
     "status": "completed"
    },
    "tags": []
   },
   "outputs": [
    {
     "data": {
      "text/html": [
       "<div>\n",
       "<style scoped>\n",
       "    .dataframe tbody tr th:only-of-type {\n",
       "        vertical-align: middle;\n",
       "    }\n",
       "\n",
       "    .dataframe tbody tr th {\n",
       "        vertical-align: top;\n",
       "    }\n",
       "\n",
       "    .dataframe thead th {\n",
       "        text-align: right;\n",
       "    }\n",
       "</style>\n",
       "<table border=\"1\" class=\"dataframe\">\n",
       "  <thead>\n",
       "    <tr style=\"text-align: right;\">\n",
       "      <th></th>\n",
       "      <th>DOM</th>\n",
       "    </tr>\n",
       "    <tr>\n",
       "      <th>period</th>\n",
       "      <th></th>\n",
       "    </tr>\n",
       "  </thead>\n",
       "  <tbody>\n",
       "    <tr>\n",
       "      <th>2018-07-01 05:00:00</th>\n",
       "      <td>9775</td>\n",
       "    </tr>\n",
       "    <tr>\n",
       "      <th>2018-07-01 06:00:00</th>\n",
       "      <td>9787</td>\n",
       "    </tr>\n",
       "    <tr>\n",
       "      <th>2018-07-01 07:00:00</th>\n",
       "      <td>10453</td>\n",
       "    </tr>\n",
       "    <tr>\n",
       "      <th>2018-07-01 08:00:00</th>\n",
       "      <td>11734</td>\n",
       "    </tr>\n",
       "    <tr>\n",
       "      <th>2018-07-01 09:00:00</th>\n",
       "      <td>13084</td>\n",
       "    </tr>\n",
       "    <tr>\n",
       "      <th>...</th>\n",
       "      <td>...</td>\n",
       "    </tr>\n",
       "    <tr>\n",
       "      <th>2023-11-01 00:00:00</th>\n",
       "      <td>13226</td>\n",
       "    </tr>\n",
       "    <tr>\n",
       "      <th>2023-11-01 01:00:00</th>\n",
       "      <td>13185</td>\n",
       "    </tr>\n",
       "    <tr>\n",
       "      <th>2023-11-01 02:00:00</th>\n",
       "      <td>12906</td>\n",
       "    </tr>\n",
       "    <tr>\n",
       "      <th>2023-11-01 03:00:00</th>\n",
       "      <td>12399</td>\n",
       "    </tr>\n",
       "    <tr>\n",
       "      <th>2023-11-01 04:00:00</th>\n",
       "      <td>11821</td>\n",
       "    </tr>\n",
       "  </tbody>\n",
       "</table>\n",
       "<p>44904 rows × 1 columns</p>\n",
       "</div>"
      ],
      "text/plain": [
       "                       DOM\n",
       "period                    \n",
       "2018-07-01 05:00:00   9775\n",
       "2018-07-01 06:00:00   9787\n",
       "2018-07-01 07:00:00  10453\n",
       "2018-07-01 08:00:00  11734\n",
       "2018-07-01 09:00:00  13084\n",
       "...                    ...\n",
       "2023-11-01 00:00:00  13226\n",
       "2023-11-01 01:00:00  13185\n",
       "2023-11-01 02:00:00  12906\n",
       "2023-11-01 03:00:00  12399\n",
       "2023-11-01 04:00:00  11821\n",
       "\n",
       "[44904 rows x 1 columns]"
      ]
     },
     "execution_count": 5,
     "metadata": {},
     "output_type": "execute_result"
    }
   ],
   "source": [
    "df = df_base.loc[:, [region]]\n",
    "df"
   ]
  },
  {
   "attachments": {},
   "cell_type": "markdown",
   "id": "c27f9ada",
   "metadata": {
    "papermill": {
     "duration": 0.006699,
     "end_time": "2023-11-26T17:12:40.881854",
     "exception": false,
     "start_time": "2023-11-26T17:12:40.875155",
     "status": "completed"
    },
    "tags": []
   },
   "source": [
    "## Data Preprocessing"
   ]
  },
  {
   "attachments": {},
   "cell_type": "markdown",
   "id": "db9967de",
   "metadata": {
    "papermill": {
     "duration": 0.00486,
     "end_time": "2023-11-26T17:12:40.891693",
     "exception": false,
     "start_time": "2023-11-26T17:12:40.886833",
     "status": "completed"
    },
    "tags": []
   },
   "source": [
    "### Scale Data"
   ]
  },
  {
   "cell_type": "code",
   "execution_count": 6,
   "id": "13b31c63",
   "metadata": {
    "execution": {
     "iopub.execute_input": "2023-11-26T17:12:40.903087Z",
     "iopub.status.busy": "2023-11-26T17:12:40.902568Z",
     "iopub.status.idle": "2023-11-26T17:12:41.579851Z",
     "shell.execute_reply": "2023-11-26T17:12:41.579076Z"
    },
    "papermill": {
     "duration": 0.686699,
     "end_time": "2023-11-26T17:12:41.582094",
     "exception": false,
     "start_time": "2023-11-26T17:12:40.895395",
     "status": "completed"
    },
    "tags": []
   },
   "outputs": [],
   "source": [
    "from sklearn.preprocessing import MinMaxScaler\n",
    "\n",
    "# Normalize data\n",
    "scaler = MinMaxScaler(feature_range=(0, 1))\n",
    "data_norm = scaler.fit_transform(df)"
   ]
  },
  {
   "attachments": {},
   "cell_type": "markdown",
   "id": "0108fea3",
   "metadata": {
    "papermill": {
     "duration": 0.006957,
     "end_time": "2023-11-26T17:12:41.603135",
     "exception": false,
     "start_time": "2023-11-26T17:12:41.596178",
     "status": "completed"
    },
    "tags": []
   },
   "source": [
    "### Train Test Split"
   ]
  },
  {
   "cell_type": "code",
   "execution_count": 7,
   "id": "64948987",
   "metadata": {
    "execution": {
     "iopub.execute_input": "2023-11-26T17:12:41.691434Z",
     "iopub.status.busy": "2023-11-26T17:12:41.691010Z",
     "iopub.status.idle": "2023-11-26T17:12:41.735830Z",
     "shell.execute_reply": "2023-11-26T17:12:41.735044Z"
    },
    "papermill": {
     "duration": 0.074313,
     "end_time": "2023-11-26T17:12:41.737960",
     "exception": false,
     "start_time": "2023-11-26T17:12:41.663647",
     "status": "completed"
    },
    "tags": []
   },
   "outputs": [],
   "source": [
    "from sklearn.model_selection import train_test_split\n",
    "\n",
    "train, test = train_test_split(data_norm, test_size=0.2, shuffle=False)"
   ]
  },
  {
   "attachments": {},
   "cell_type": "markdown",
   "id": "58cf3e30",
   "metadata": {
    "papermill": {
     "duration": 0.004831,
     "end_time": "2023-11-26T17:12:41.747989",
     "exception": false,
     "start_time": "2023-11-26T17:12:41.743158",
     "status": "completed"
    },
    "tags": []
   },
   "source": [
    "### Create Sequences"
   ]
  },
  {
   "cell_type": "code",
   "execution_count": 8,
   "id": "d60e937c",
   "metadata": {
    "execution": {
     "iopub.execute_input": "2023-11-26T17:12:41.758343Z",
     "iopub.status.busy": "2023-11-26T17:12:41.758059Z",
     "iopub.status.idle": "2023-11-26T17:12:41.834111Z",
     "shell.execute_reply": "2023-11-26T17:12:41.832815Z"
    },
    "papermill": {
     "duration": 0.084661,
     "end_time": "2023-11-26T17:12:41.836983",
     "exception": false,
     "start_time": "2023-11-26T17:12:41.752322",
     "status": "completed"
    },
    "tags": []
   },
   "outputs": [],
   "source": [
    "import numpy as np\n",
    "\n",
    "def create_sequences(data, sequence_length):\n",
    "    X, y = [], []\n",
    "    for i in range(len(data) - sequence_length):\n",
    "        X.append(data[i:i+sequence_length])\n",
    "        y.append(data[i+sequence_length])\n",
    "    return np.array(X), np.array(y)\n",
    "\n",
    "sequence_length = 24 # Use 24 hours prior to predict the following hour\n",
    "X_train, y_train = create_sequences(train, sequence_length)\n",
    "X_test, y_test = create_sequences(test, sequence_length)"
   ]
  },
  {
   "attachments": {},
   "cell_type": "markdown",
   "id": "f2c8e976",
   "metadata": {
    "papermill": {
     "duration": 0.004064,
     "end_time": "2023-11-26T17:12:41.845393",
     "exception": false,
     "start_time": "2023-11-26T17:12:41.841329",
     "status": "completed"
    },
    "tags": []
   },
   "source": [
    "## Modelling"
   ]
  },
  {
   "attachments": {},
   "cell_type": "markdown",
   "id": "47df6d45",
   "metadata": {
    "papermill": {
     "duration": 0.022546,
     "end_time": "2023-11-26T17:12:41.873589",
     "exception": false,
     "start_time": "2023-11-26T17:12:41.851043",
     "status": "completed"
    },
    "tags": []
   },
   "source": [
    "### Design NN Architecture"
   ]
  },
  {
   "cell_type": "code",
   "execution_count": 9,
   "id": "6e9a15d8",
   "metadata": {
    "execution": {
     "iopub.execute_input": "2023-11-26T17:12:41.887765Z",
     "iopub.status.busy": "2023-11-26T17:12:41.887366Z",
     "iopub.status.idle": "2023-11-26T17:12:47.286017Z",
     "shell.execute_reply": "2023-11-26T17:12:47.285251Z"
    },
    "papermill": {
     "duration": 5.408375,
     "end_time": "2023-11-26T17:12:47.288387",
     "exception": false,
     "start_time": "2023-11-26T17:12:41.880012",
     "status": "completed"
    },
    "tags": []
   },
   "outputs": [
    {
     "name": "stderr",
     "output_type": "stream",
     "text": [
      "2023-11-26 18:12:44.200506: I tensorflow/core/platform/cpu_feature_guard.cc:182] This TensorFlow binary is optimized to use available CPU instructions in performance-critical operations.\n",
      "To enable the following instructions: AVX2 FMA, in other operations, rebuild TensorFlow with the appropriate compiler flags.\n"
     ]
    }
   ],
   "source": [
    "from keras.models import Sequential\n",
    "from keras.layers import LSTM, Dense\n",
    "\n",
    "model = Sequential()\n",
    "model.add(LSTM(50, input_shape=(X_train.shape[1], X_train.shape[2])))\n",
    "model.add(Dense(1))\n",
    "model.compile(optimizer='adam', loss='mean_squared_error')"
   ]
  },
  {
   "attachments": {},
   "cell_type": "markdown",
   "id": "3f68769d",
   "metadata": {
    "papermill": {
     "duration": 0.00621,
     "end_time": "2023-11-26T17:12:47.301021",
     "exception": false,
     "start_time": "2023-11-26T17:12:47.294811",
     "status": "completed"
    },
    "tags": []
   },
   "source": [
    "### Train Model"
   ]
  },
  {
   "cell_type": "code",
   "execution_count": 10,
   "id": "2ccc4b0a",
   "metadata": {
    "execution": {
     "iopub.execute_input": "2023-11-26T17:12:47.312284Z",
     "iopub.status.busy": "2023-11-26T17:12:47.311890Z",
     "iopub.status.idle": "2023-11-26T17:14:00.418558Z",
     "shell.execute_reply": "2023-11-26T17:14:00.417978Z"
    },
    "papermill": {
     "duration": 73.114745,
     "end_time": "2023-11-26T17:14:00.420624",
     "exception": false,
     "start_time": "2023-11-26T17:12:47.305879",
     "status": "completed"
    },
    "tags": []
   },
   "outputs": [],
   "source": [
    "from keras.callbacks import EarlyStopping\n",
    "\n",
    "early_stop = EarlyStopping(monitor='val_loss', patience=5)\n",
    "\n",
    "history = model.fit(\n",
    "    X_train, y_train, epochs=50, batch_size=64, verbose=0,\n",
    "    validation_data=(X_test, y_test), callbacks=[early_stop])"
   ]
  },
  {
   "attachments": {},
   "cell_type": "markdown",
   "id": "0c5a2bf9",
   "metadata": {
    "papermill": {
     "duration": 0.005447,
     "end_time": "2023-11-26T17:14:00.431257",
     "exception": false,
     "start_time": "2023-11-26T17:14:00.425810",
     "status": "completed"
    },
    "tags": []
   },
   "source": [
    "### Calculate Predictions"
   ]
  },
  {
   "cell_type": "code",
   "execution_count": 11,
   "id": "5520973a",
   "metadata": {
    "execution": {
     "iopub.execute_input": "2023-11-26T17:14:00.442282Z",
     "iopub.status.busy": "2023-11-26T17:14:00.441972Z",
     "iopub.status.idle": "2023-11-26T17:14:01.689251Z",
     "shell.execute_reply": "2023-11-26T17:14:01.688634Z"
    },
    "papermill": {
     "duration": 1.254894,
     "end_time": "2023-11-26T17:14:01.690993",
     "exception": false,
     "start_time": "2023-11-26T17:14:00.436099",
     "status": "completed"
    },
    "tags": []
   },
   "outputs": [
    {
     "name": "stdout",
     "output_type": "stream",
     "text": [
      "\r",
      "  1/280 [..............................] - ETA: 1:49"
     ]
    },
    {
     "name": "stdout",
     "output_type": "stream",
     "text": [
      "\b\b\b\b\b\b\b\b\b\b\b\b\b\b\b\b\b\b\b\b\b\b\b\b\b\b\b\b\b\b\b\b\b\b\b\b\b\b\b\b\b\b\b\b\b\b\b\b\b\b\b\b\r",
      " 22/280 [=>............................] - ETA: 0s  "
     ]
    },
    {
     "name": "stdout",
     "output_type": "stream",
     "text": [
      "\b\b\b\b\b\b\b\b\b\b\b\b\b\b\b\b\b\b\b\b\b\b\b\b\b\b\b\b\b\b\b\b\b\b\b\b\b\b\b\b\b\b\b\b\b\b\b\b\b\b\r",
      " 43/280 [===>..........................] - ETA: 0s"
     ]
    },
    {
     "name": "stdout",
     "output_type": "stream",
     "text": [
      "\b\b\b\b\b\b\b\b\b\b\b\b\b\b\b\b\b\b\b\b\b\b\b\b\b\b\b\b\b\b\b\b\b\b\b\b\b\b\b\b\b\b\b\b\b\b\b\b\b\b\r",
      " 65/280 [=====>........................] - ETA: 0s"
     ]
    },
    {
     "name": "stdout",
     "output_type": "stream",
     "text": [
      "\b\b\b\b\b\b\b\b\b\b\b\b\b\b\b\b\b\b\b\b\b\b\b\b\b\b\b\b\b\b\b\b\b\b\b\b\b\b\b\b\b\b\b\b\b\b\b\b\b\b\r",
      " 86/280 [========>.....................] - ETA: 0s"
     ]
    },
    {
     "name": "stdout",
     "output_type": "stream",
     "text": [
      "\b\b\b\b\b\b\b\b\b\b\b\b\b\b\b\b\b\b\b\b\b\b\b\b\b\b\b\b\b\b\b\b\b\b\b\b\b\b\b\b\b\b\b\b\b\b\b\b\b\b\r",
      "108/280 [==========>...................] - ETA: 0s"
     ]
    },
    {
     "name": "stdout",
     "output_type": "stream",
     "text": [
      "\b\b\b\b\b\b\b\b\b\b\b\b\b\b\b\b\b\b\b\b\b\b\b\b\b\b\b\b\b\b\b\b\b\b\b\b\b\b\b\b\b\b\b\b\b\b\b\b\b\b\r",
      "129/280 [============>.................] - ETA: 0s"
     ]
    },
    {
     "name": "stdout",
     "output_type": "stream",
     "text": [
      "\b\b\b\b\b\b\b\b\b\b\b\b\b\b\b\b\b\b\b\b\b\b\b\b\b\b\b\b\b\b\b\b\b\b\b\b\b\b\b\b\b\b\b\b\b\b\b\b\b\b\r",
      "150/280 [===============>..............] - ETA: 0s"
     ]
    },
    {
     "name": "stdout",
     "output_type": "stream",
     "text": [
      "\b\b\b\b\b\b\b\b\b\b\b\b\b\b\b\b\b\b\b\b\b\b\b\b\b\b\b\b\b\b\b\b\b\b\b\b\b\b\b\b\b\b\b\b\b\b\b\b\b\b\r",
      "170/280 [=================>............] - ETA: 0s"
     ]
    },
    {
     "name": "stdout",
     "output_type": "stream",
     "text": [
      "\b\b\b\b\b\b\b\b\b\b\b\b\b\b\b\b\b\b\b\b\b\b\b\b\b\b\b\b\b\b\b\b\b\b\b\b\b\b\b\b\b\b\b\b\b\b\b\b\b\b\r",
      "189/280 [===================>..........] - ETA: 0s"
     ]
    },
    {
     "name": "stdout",
     "output_type": "stream",
     "text": [
      "\b\b\b\b\b\b\b\b\b\b\b\b\b\b\b\b\b\b\b\b\b\b\b\b\b\b\b\b\b\b\b\b\b\b\b\b\b\b\b\b\b\b\b\b\b\b\b\b\b\b\r",
      "206/280 [=====================>........] - ETA: 0s"
     ]
    },
    {
     "name": "stdout",
     "output_type": "stream",
     "text": [
      "\b\b\b\b\b\b\b\b\b\b\b\b\b\b\b\b\b\b\b\b\b\b\b\b\b\b\b\b\b\b\b\b\b\b\b\b\b\b\b\b\b\b\b\b\b\b\b\b\b\b\r",
      "225/280 [=======================>......] - ETA: 0s"
     ]
    },
    {
     "name": "stdout",
     "output_type": "stream",
     "text": [
      "\b\b\b\b\b\b\b\b\b\b\b\b\b\b\b\b\b\b\b\b\b\b\b\b\b\b\b\b\b\b\b\b\b\b\b\b\b\b\b\b\b\b\b\b\b\b\b\b\b\b\r",
      "243/280 [=========================>....] - ETA: 0s"
     ]
    },
    {
     "name": "stdout",
     "output_type": "stream",
     "text": [
      "\b\b\b\b\b\b\b\b\b\b\b\b\b\b\b\b\b\b\b\b\b\b\b\b\b\b\b\b\b\b\b\b\b\b\b\b\b\b\b\b\b\b\b\b\b\b\b\b\b\b\r",
      "263/280 [===========================>..] - ETA: 0s"
     ]
    },
    {
     "name": "stdout",
     "output_type": "stream",
     "text": [
      "\b\b\b\b\b\b\b\b\b\b\b\b\b\b\b\b\b\b\b\b\b\b\b\b\b\b\b\b\b\b\b\b\b\b\b\b\b\b\b\b\b\b\b\b\b\b\b\b\b\b\r",
      "280/280 [==============================] - 1s 3ms/step\n"
     ]
    },
    {
     "data": {
      "text/plain": [
       "array([[3.3042743e-06],\n",
       "       [3.2494427e-06],\n",
       "       [3.1917589e-06],\n",
       "       ...,\n",
       "       [3.5790727e-06],\n",
       "       [3.4757541e-06],\n",
       "       [3.3350661e-06]], dtype=float32)"
      ]
     },
     "execution_count": 11,
     "metadata": {},
     "output_type": "execute_result"
    }
   ],
   "source": [
    "y_pred = model.predict(X_test)\n",
    "y_pred"
   ]
  },
  {
   "attachments": {},
   "cell_type": "markdown",
   "id": "890bb585",
   "metadata": {
    "papermill": {
     "duration": 0.006111,
     "end_time": "2023-11-26T17:14:01.702970",
     "exception": false,
     "start_time": "2023-11-26T17:14:01.696859",
     "status": "completed"
    },
    "tags": []
   },
   "source": [
    "### Comparison: Real Data & Prediction"
   ]
  },
  {
   "attachments": {},
   "cell_type": "markdown",
   "id": "49aabb45",
   "metadata": {
    "papermill": {
     "duration": 0.00491,
     "end_time": "2023-11-26T17:14:01.712790",
     "exception": false,
     "start_time": "2023-11-26T17:14:01.707880",
     "status": "completed"
    },
    "tags": []
   },
   "source": [
    "#### Descale Data"
   ]
  },
  {
   "cell_type": "code",
   "execution_count": 12,
   "id": "28ccf90a",
   "metadata": {
    "execution": {
     "iopub.execute_input": "2023-11-26T17:14:01.724644Z",
     "iopub.status.busy": "2023-11-26T17:14:01.724354Z",
     "iopub.status.idle": "2023-11-26T17:14:01.729612Z",
     "shell.execute_reply": "2023-11-26T17:14:01.728110Z"
    },
    "papermill": {
     "duration": 0.013672,
     "end_time": "2023-11-26T17:14:01.731914",
     "exception": false,
     "start_time": "2023-11-26T17:14:01.718242",
     "status": "completed"
    },
    "tags": []
   },
   "outputs": [],
   "source": [
    "y_pred_scaled_inverse = scaler.inverse_transform(y_pred)\n",
    "y_true = scaler.inverse_transform(y_test)"
   ]
  },
  {
   "attachments": {},
   "cell_type": "markdown",
   "id": "1aee7e69",
   "metadata": {
    "papermill": {
     "duration": 0.004776,
     "end_time": "2023-11-26T17:14:01.742292",
     "exception": false,
     "start_time": "2023-11-26T17:14:01.737516",
     "status": "completed"
    },
    "tags": []
   },
   "source": [
    "#### Create DataFrame"
   ]
  },
  {
   "cell_type": "code",
   "execution_count": 13,
   "id": "12f9903b",
   "metadata": {
    "execution": {
     "iopub.execute_input": "2023-11-26T17:14:01.754029Z",
     "iopub.status.busy": "2023-11-26T17:14:01.753744Z",
     "iopub.status.idle": "2023-11-26T17:14:01.764379Z",
     "shell.execute_reply": "2023-11-26T17:14:01.763732Z"
    },
    "papermill": {
     "duration": 0.018656,
     "end_time": "2023-11-26T17:14:01.766079",
     "exception": false,
     "start_time": "2023-11-26T17:14:01.747423",
     "status": "completed"
    },
    "tags": []
   },
   "outputs": [
    {
     "data": {
      "text/html": [
       "<div>\n",
       "<style scoped>\n",
       "    .dataframe tbody tr th:only-of-type {\n",
       "        vertical-align: middle;\n",
       "    }\n",
       "\n",
       "    .dataframe tbody tr th {\n",
       "        vertical-align: top;\n",
       "    }\n",
       "\n",
       "    .dataframe thead th {\n",
       "        text-align: right;\n",
       "    }\n",
       "</style>\n",
       "<table border=\"1\" class=\"dataframe\">\n",
       "  <thead>\n",
       "    <tr style=\"text-align: right;\">\n",
       "      <th></th>\n",
       "      <th>y_pred</th>\n",
       "      <th>y_pred_scaled_inverse</th>\n",
       "      <th>y_true</th>\n",
       "    </tr>\n",
       "  </thead>\n",
       "  <tbody>\n",
       "    <tr>\n",
       "      <th>0</th>\n",
       "      <td>0.000003</td>\n",
       "      <td>12211.413086</td>\n",
       "      <td>11905.0</td>\n",
       "    </tr>\n",
       "    <tr>\n",
       "      <th>1</th>\n",
       "      <td>0.000003</td>\n",
       "      <td>12127.705078</td>\n",
       "      <td>11675.0</td>\n",
       "    </tr>\n",
       "    <tr>\n",
       "      <th>2</th>\n",
       "      <td>0.000003</td>\n",
       "      <td>12039.643555</td>\n",
       "      <td>11291.0</td>\n",
       "    </tr>\n",
       "    <tr>\n",
       "      <th>3</th>\n",
       "      <td>0.000003</td>\n",
       "      <td>11864.141602</td>\n",
       "      <td>10929.0</td>\n",
       "    </tr>\n",
       "    <tr>\n",
       "      <th>4</th>\n",
       "      <td>0.000003</td>\n",
       "      <td>11742.223633</td>\n",
       "      <td>10653.0</td>\n",
       "    </tr>\n",
       "    <tr>\n",
       "      <th>...</th>\n",
       "      <td>...</td>\n",
       "      <td>...</td>\n",
       "      <td>...</td>\n",
       "    </tr>\n",
       "    <tr>\n",
       "      <th>8952</th>\n",
       "      <td>0.000004</td>\n",
       "      <td>12675.715820</td>\n",
       "      <td>13226.0</td>\n",
       "    </tr>\n",
       "    <tr>\n",
       "      <th>8953</th>\n",
       "      <td>0.000004</td>\n",
       "      <td>12639.282227</td>\n",
       "      <td>13185.0</td>\n",
       "    </tr>\n",
       "    <tr>\n",
       "      <th>8954</th>\n",
       "      <td>0.000004</td>\n",
       "      <td>12630.929688</td>\n",
       "      <td>12906.0</td>\n",
       "    </tr>\n",
       "    <tr>\n",
       "      <th>8955</th>\n",
       "      <td>0.000003</td>\n",
       "      <td>12473.200195</td>\n",
       "      <td>12399.0</td>\n",
       "    </tr>\n",
       "    <tr>\n",
       "      <th>8956</th>\n",
       "      <td>0.000003</td>\n",
       "      <td>12258.420898</td>\n",
       "      <td>11821.0</td>\n",
       "    </tr>\n",
       "  </tbody>\n",
       "</table>\n",
       "<p>8957 rows × 3 columns</p>\n",
       "</div>"
      ],
      "text/plain": [
       "        y_pred  y_pred_scaled_inverse   y_true\n",
       "0     0.000003           12211.413086  11905.0\n",
       "1     0.000003           12127.705078  11675.0\n",
       "2     0.000003           12039.643555  11291.0\n",
       "3     0.000003           11864.141602  10929.0\n",
       "4     0.000003           11742.223633  10653.0\n",
       "...        ...                    ...      ...\n",
       "8952  0.000004           12675.715820  13226.0\n",
       "8953  0.000004           12639.282227  13185.0\n",
       "8954  0.000004           12630.929688  12906.0\n",
       "8955  0.000003           12473.200195  12399.0\n",
       "8956  0.000003           12258.420898  11821.0\n",
       "\n",
       "[8957 rows x 3 columns]"
      ]
     },
     "execution_count": 13,
     "metadata": {},
     "output_type": "execute_result"
    }
   ],
   "source": [
    "dic_pred = {\n",
    "    'y_pred': y_pred.flatten(),\n",
    "    'y_pred_scaled_inverse': y_pred_scaled_inverse.flatten(),\n",
    "    'y_true': y_true.flatten(),\n",
    "}\n",
    "\n",
    "df_pred = pd.DataFrame(dic_pred)\n",
    "df_pred"
   ]
  },
  {
   "attachments": {},
   "cell_type": "markdown",
   "id": "797d6dfa",
   "metadata": {
    "papermill": {
     "duration": 0.004943,
     "end_time": "2023-11-26T17:14:01.776662",
     "exception": false,
     "start_time": "2023-11-26T17:14:01.771719",
     "status": "completed"
    },
    "tags": []
   },
   "source": [
    "#### Evaluate Model"
   ]
  },
  {
   "cell_type": "code",
   "execution_count": 14,
   "id": "2e1598fd",
   "metadata": {
    "execution": {
     "iopub.execute_input": "2023-11-26T17:14:01.789323Z",
     "iopub.status.busy": "2023-11-26T17:14:01.789035Z",
     "iopub.status.idle": "2023-11-26T17:14:01.792350Z",
     "shell.execute_reply": "2023-11-26T17:14:01.791732Z"
    },
    "papermill": {
     "duration": 0.012029,
     "end_time": "2023-11-26T17:14:01.794155",
     "exception": false,
     "start_time": "2023-11-26T17:14:01.782126",
     "status": "completed"
    },
    "tags": []
   },
   "outputs": [],
   "source": [
    "from sklearn.metrics import mean_squared_error"
   ]
  },
  {
   "cell_type": "code",
   "execution_count": 15,
   "id": "df4cb4b7",
   "metadata": {
    "execution": {
     "iopub.execute_input": "2023-11-26T17:14:01.807972Z",
     "iopub.status.busy": "2023-11-26T17:14:01.807691Z",
     "iopub.status.idle": "2023-11-26T17:14:01.813870Z",
     "shell.execute_reply": "2023-11-26T17:14:01.813298Z"
    },
    "papermill": {
     "duration": 0.01473,
     "end_time": "2023-11-26T17:14:01.815651",
     "exception": false,
     "start_time": "2023-11-26T17:14:01.800921",
     "status": "completed"
    },
    "tags": []
   },
   "outputs": [
    {
     "data": {
      "text/plain": [
       "1544.041459700122"
      ]
     },
     "execution_count": 15,
     "metadata": {},
     "output_type": "execute_result"
    }
   ],
   "source": [
    "mean_squared_error(df_pred.y_true, df_pred.y_pred_scaled_inverse, squared=False)"
   ]
  },
  {
   "cell_type": "code",
   "execution_count": 16,
   "id": "b9b93237",
   "metadata": {
    "execution": {
     "iopub.execute_input": "2023-11-26T17:14:01.860717Z",
     "iopub.status.busy": "2023-11-26T17:14:01.860127Z",
     "iopub.status.idle": "2023-11-26T17:14:01.893436Z",
     "shell.execute_reply": "2023-11-26T17:14:01.892522Z"
    },
    "papermill": {
     "duration": 0.060562,
     "end_time": "2023-11-26T17:14:01.895810",
     "exception": false,
     "start_time": "2023-11-26T17:14:01.835248",
     "status": "completed"
    },
    "tags": []
   },
   "outputs": [],
   "source": [
    "model.save(f'../models/{region}.keras')"
   ]
  }
 ],
 "metadata": {
  "kernelspec": {
   "display_name": "deep-learning",
   "language": "python",
   "name": "python3"
  },
  "language_info": {
   "codemirror_mode": {
    "name": "ipython",
    "version": 3
   },
   "file_extension": ".py",
   "mimetype": "text/x-python",
   "name": "python",
   "nbconvert_exporter": "python",
   "pygments_lexer": "ipython3",
   "version": "3.9.18"
  },
  "papermill": {
   "default_parameters": {},
   "duration": 84.053623,
   "end_time": "2023-11-26T17:14:02.941160",
   "environment_variables": {},
   "exception": null,
   "input_path": "Modelling.ipynb",
   "output_path": "outputs/DOM.ipynb",
   "parameters": {
    "region": "DOM"
   },
   "start_time": "2023-11-26T17:12:38.887537",
   "version": "2.5.0"
  }
 },
 "nbformat": 4,
 "nbformat_minor": 5
}