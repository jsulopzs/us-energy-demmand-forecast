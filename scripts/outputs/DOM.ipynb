{
 "cells": [
  {
   "attachments": {},
   "cell_type": "markdown",
   "id": "b7824ecb",
   "metadata": {
    "papermill": {
     "duration": 0.00098,
     "end_time": "2023-12-13T13:12:17.324299",
     "exception": false,
     "start_time": "2023-12-13T13:12:17.323319",
     "status": "completed"
    },
    "tags": []
   },
   "source": [
    "## Load data"
   ]
  },
  {
   "cell_type": "code",
   "execution_count": 1,
   "id": "c9d0ff25",
   "metadata": {
    "execution": {
     "iopub.execute_input": "2023-12-13T13:12:17.347145Z",
     "iopub.status.busy": "2023-12-13T13:12:17.347145Z",
     "iopub.status.idle": "2023-12-13T13:12:17.741386Z",
     "shell.execute_reply": "2023-12-13T13:12:17.740384Z"
    },
    "papermill": {
     "duration": 0.406245,
     "end_time": "2023-12-13T13:12:17.743387",
     "exception": false,
     "start_time": "2023-12-13T13:12:17.337142",
     "status": "completed"
    },
    "tags": []
   },
   "outputs": [],
   "source": [
    "import pandas as pd"
   ]
  },
  {
   "cell_type": "code",
   "execution_count": 2,
   "id": "d6197c8e",
   "metadata": {
    "execution": {
     "iopub.execute_input": "2023-12-13T13:12:17.761074Z",
     "iopub.status.busy": "2023-12-13T13:12:17.761074Z",
     "iopub.status.idle": "2023-12-13T13:12:17.890513Z",
     "shell.execute_reply": "2023-12-13T13:12:17.889773Z"
    },
    "papermill": {
     "duration": 0.146906,
     "end_time": "2023-12-13T13:12:17.891444",
     "exception": false,
     "start_time": "2023-12-13T13:12:17.744538",
     "status": "completed"
    },
    "tags": []
   },
   "outputs": [
    {
     "data": {
      "text/html": [
       "<div>\n",
       "<style scoped>\n",
       "    .dataframe tbody tr th:only-of-type {\n",
       "        vertical-align: middle;\n",
       "    }\n",
       "\n",
       "    .dataframe tbody tr th {\n",
       "        vertical-align: top;\n",
       "    }\n",
       "\n",
       "    .dataframe thead th {\n",
       "        text-align: right;\n",
       "    }\n",
       "</style>\n",
       "<table border=\"1\" class=\"dataframe\">\n",
       "  <thead>\n",
       "    <tr style=\"text-align: right;\">\n",
       "      <th></th>\n",
       "      <th>AE</th>\n",
       "      <th>AEP</th>\n",
       "      <th>AP</th>\n",
       "      <th>ATSI</th>\n",
       "      <th>BC</th>\n",
       "      <th>CE</th>\n",
       "      <th>DAY</th>\n",
       "      <th>DEOK</th>\n",
       "      <th>DOM</th>\n",
       "      <th>DPL</th>\n",
       "      <th>DUQ</th>\n",
       "      <th>EKPC</th>\n",
       "      <th>JC</th>\n",
       "      <th>ME</th>\n",
       "      <th>PE</th>\n",
       "      <th>PEP</th>\n",
       "      <th>PL</th>\n",
       "      <th>PN</th>\n",
       "      <th>PS</th>\n",
       "      <th>RECO</th>\n",
       "    </tr>\n",
       "    <tr>\n",
       "      <th>period</th>\n",
       "      <th></th>\n",
       "      <th></th>\n",
       "      <th></th>\n",
       "      <th></th>\n",
       "      <th></th>\n",
       "      <th></th>\n",
       "      <th></th>\n",
       "      <th></th>\n",
       "      <th></th>\n",
       "      <th></th>\n",
       "      <th></th>\n",
       "      <th></th>\n",
       "      <th></th>\n",
       "      <th></th>\n",
       "      <th></th>\n",
       "      <th></th>\n",
       "      <th></th>\n",
       "      <th></th>\n",
       "      <th></th>\n",
       "      <th></th>\n",
       "    </tr>\n",
       "  </thead>\n",
       "  <tbody>\n",
       "    <tr>\n",
       "      <th>2018-07-01 05:00:00</th>\n",
       "      <td>1301</td>\n",
       "      <td>12187</td>\n",
       "      <td>4384</td>\n",
       "      <td>6960</td>\n",
       "      <td>3134</td>\n",
       "      <td>12136</td>\n",
       "      <td>1619</td>\n",
       "      <td>2895</td>\n",
       "      <td>9775</td>\n",
       "      <td>1919</td>\n",
       "      <td>1466</td>\n",
       "      <td>1209</td>\n",
       "      <td>2388</td>\n",
       "      <td>1442</td>\n",
       "      <td>4397</td>\n",
       "      <td>3165</td>\n",
       "      <td>3835</td>\n",
       "      <td>1611</td>\n",
       "      <td>5009</td>\n",
       "      <td>186</td>\n",
       "    </tr>\n",
       "    <tr>\n",
       "      <th>2018-07-01 06:00:00</th>\n",
       "      <td>1314</td>\n",
       "      <td>11946</td>\n",
       "      <td>4391</td>\n",
       "      <td>6762</td>\n",
       "      <td>3139</td>\n",
       "      <td>11872</td>\n",
       "      <td>1605</td>\n",
       "      <td>2857</td>\n",
       "      <td>9787</td>\n",
       "      <td>1950</td>\n",
       "      <td>1455</td>\n",
       "      <td>1197</td>\n",
       "      <td>2416</td>\n",
       "      <td>1465</td>\n",
       "      <td>4423</td>\n",
       "      <td>3156</td>\n",
       "      <td>3901</td>\n",
       "      <td>1641</td>\n",
       "      <td>4990</td>\n",
       "      <td>187</td>\n",
       "    </tr>\n",
       "    <tr>\n",
       "      <th>2018-07-01 07:00:00</th>\n",
       "      <td>1410</td>\n",
       "      <td>12664</td>\n",
       "      <td>4757</td>\n",
       "      <td>6670</td>\n",
       "      <td>3377</td>\n",
       "      <td>11992</td>\n",
       "      <td>1707</td>\n",
       "      <td>2997</td>\n",
       "      <td>10453</td>\n",
       "      <td>2160</td>\n",
       "      <td>1528</td>\n",
       "      <td>1273</td>\n",
       "      <td>2644</td>\n",
       "      <td>1605</td>\n",
       "      <td>4743</td>\n",
       "      <td>3332</td>\n",
       "      <td>4232</td>\n",
       "      <td>1728</td>\n",
       "      <td>5267</td>\n",
       "      <td>202</td>\n",
       "    </tr>\n",
       "    <tr>\n",
       "      <th>2018-07-01 08:00:00</th>\n",
       "      <td>1567</td>\n",
       "      <td>14069</td>\n",
       "      <td>5308</td>\n",
       "      <td>7065</td>\n",
       "      <td>3788</td>\n",
       "      <td>12860</td>\n",
       "      <td>1916</td>\n",
       "      <td>3331</td>\n",
       "      <td>11734</td>\n",
       "      <td>2470</td>\n",
       "      <td>1688</td>\n",
       "      <td>1472</td>\n",
       "      <td>3064</td>\n",
       "      <td>1784</td>\n",
       "      <td>5230</td>\n",
       "      <td>3679</td>\n",
       "      <td>4613</td>\n",
       "      <td>1899</td>\n",
       "      <td>5735</td>\n",
       "      <td>230</td>\n",
       "    </tr>\n",
       "    <tr>\n",
       "      <th>2018-07-01 09:00:00</th>\n",
       "      <td>1749</td>\n",
       "      <td>15610</td>\n",
       "      <td>5862</td>\n",
       "      <td>7833</td>\n",
       "      <td>4262</td>\n",
       "      <td>14212</td>\n",
       "      <td>2145</td>\n",
       "      <td>3703</td>\n",
       "      <td>13084</td>\n",
       "      <td>2765</td>\n",
       "      <td>1875</td>\n",
       "      <td>1656</td>\n",
       "      <td>3569</td>\n",
       "      <td>1972</td>\n",
       "      <td>5752</td>\n",
       "      <td>4085</td>\n",
       "      <td>5014</td>\n",
       "      <td>2055</td>\n",
       "      <td>6299</td>\n",
       "      <td>259</td>\n",
       "    </tr>\n",
       "  </tbody>\n",
       "</table>\n",
       "</div>"
      ],
      "text/plain": [
       "                       AE    AEP    AP  ATSI    BC     CE   DAY  DEOK    DOM  \\\n",
       "period                                                                         \n",
       "2018-07-01 05:00:00  1301  12187  4384  6960  3134  12136  1619  2895   9775   \n",
       "2018-07-01 06:00:00  1314  11946  4391  6762  3139  11872  1605  2857   9787   \n",
       "2018-07-01 07:00:00  1410  12664  4757  6670  3377  11992  1707  2997  10453   \n",
       "2018-07-01 08:00:00  1567  14069  5308  7065  3788  12860  1916  3331  11734   \n",
       "2018-07-01 09:00:00  1749  15610  5862  7833  4262  14212  2145  3703  13084   \n",
       "\n",
       "                      DPL   DUQ  EKPC    JC    ME    PE   PEP    PL    PN  \\\n",
       "period                                                                      \n",
       "2018-07-01 05:00:00  1919  1466  1209  2388  1442  4397  3165  3835  1611   \n",
       "2018-07-01 06:00:00  1950  1455  1197  2416  1465  4423  3156  3901  1641   \n",
       "2018-07-01 07:00:00  2160  1528  1273  2644  1605  4743  3332  4232  1728   \n",
       "2018-07-01 08:00:00  2470  1688  1472  3064  1784  5230  3679  4613  1899   \n",
       "2018-07-01 09:00:00  2765  1875  1656  3569  1972  5752  4085  5014  2055   \n",
       "\n",
       "                       PS  RECO  \n",
       "period                           \n",
       "2018-07-01 05:00:00  5009   186  \n",
       "2018-07-01 06:00:00  4990   187  \n",
       "2018-07-01 07:00:00  5267   202  \n",
       "2018-07-01 08:00:00  5735   230  \n",
       "2018-07-01 09:00:00  6299   259  "
      ]
     },
     "execution_count": 2,
     "metadata": {},
     "output_type": "execute_result"
    }
   ],
   "source": [
    "df_base = pd.read_csv('../data/general/pjm_pivot.csv', index_col=0, parse_dates=True)\n",
    "df_base.head()"
   ]
  },
  {
   "attachments": {},
   "cell_type": "markdown",
   "id": "14490812",
   "metadata": {
    "papermill": {
     "duration": 0.0,
     "end_time": "2023-12-13T13:12:17.891444",
     "exception": false,
     "start_time": "2023-12-13T13:12:17.891444",
     "status": "completed"
    },
    "tags": []
   },
   "source": [
    "## Select region"
   ]
  },
  {
   "cell_type": "code",
   "execution_count": 3,
   "id": "48d3a8b8",
   "metadata": {
    "execution": {
     "iopub.execute_input": "2023-12-13T13:12:17.926065Z",
     "iopub.status.busy": "2023-12-13T13:12:17.925678Z",
     "iopub.status.idle": "2023-12-13T13:12:17.943622Z",
     "shell.execute_reply": "2023-12-13T13:12:17.942622Z"
    },
    "papermill": {
     "duration": 0.035534,
     "end_time": "2023-12-13T13:12:17.944622",
     "exception": false,
     "start_time": "2023-12-13T13:12:17.909088",
     "status": "completed"
    },
    "tags": [
     "parameters"
    ]
   },
   "outputs": [],
   "source": [
    "region = 'AE'"
   ]
  },
  {
   "cell_type": "code",
   "execution_count": 4,
   "id": "ae82c8a3",
   "metadata": {
    "execution": {
     "iopub.execute_input": "2023-12-13T13:12:17.958144Z",
     "iopub.status.busy": "2023-12-13T13:12:17.958144Z",
     "iopub.status.idle": "2023-12-13T13:12:17.973648Z",
     "shell.execute_reply": "2023-12-13T13:12:17.973648Z"
    },
    "papermill": {
     "duration": 0.023552,
     "end_time": "2023-12-13T13:12:17.975175",
     "exception": false,
     "start_time": "2023-12-13T13:12:17.951623",
     "status": "completed"
    },
    "tags": [
     "injected-parameters"
    ]
   },
   "outputs": [],
   "source": [
    "# Parameters\n",
    "region = \"DOM\"\n"
   ]
  },
  {
   "cell_type": "code",
   "execution_count": 5,
   "id": "3282b116",
   "metadata": {
    "execution": {
     "iopub.execute_input": "2023-12-13T13:12:17.975175Z",
     "iopub.status.busy": "2023-12-13T13:12:17.975175Z",
     "iopub.status.idle": "2023-12-13T13:12:18.008416Z",
     "shell.execute_reply": "2023-12-13T13:12:18.007275Z"
    },
    "papermill": {
     "duration": 0.033241,
     "end_time": "2023-12-13T13:12:18.008416",
     "exception": false,
     "start_time": "2023-12-13T13:12:17.975175",
     "status": "completed"
    },
    "tags": []
   },
   "outputs": [
    {
     "data": {
      "text/html": [
       "<div>\n",
       "<style scoped>\n",
       "    .dataframe tbody tr th:only-of-type {\n",
       "        vertical-align: middle;\n",
       "    }\n",
       "\n",
       "    .dataframe tbody tr th {\n",
       "        vertical-align: top;\n",
       "    }\n",
       "\n",
       "    .dataframe thead th {\n",
       "        text-align: right;\n",
       "    }\n",
       "</style>\n",
       "<table border=\"1\" class=\"dataframe\">\n",
       "  <thead>\n",
       "    <tr style=\"text-align: right;\">\n",
       "      <th></th>\n",
       "      <th>DOM</th>\n",
       "    </tr>\n",
       "    <tr>\n",
       "      <th>period</th>\n",
       "      <th></th>\n",
       "    </tr>\n",
       "  </thead>\n",
       "  <tbody>\n",
       "    <tr>\n",
       "      <th>2018-07-01 05:00:00</th>\n",
       "      <td>9775</td>\n",
       "    </tr>\n",
       "    <tr>\n",
       "      <th>2018-07-01 06:00:00</th>\n",
       "      <td>9787</td>\n",
       "    </tr>\n",
       "    <tr>\n",
       "      <th>2018-07-01 07:00:00</th>\n",
       "      <td>10453</td>\n",
       "    </tr>\n",
       "    <tr>\n",
       "      <th>2018-07-01 08:00:00</th>\n",
       "      <td>11734</td>\n",
       "    </tr>\n",
       "    <tr>\n",
       "      <th>2018-07-01 09:00:00</th>\n",
       "      <td>13084</td>\n",
       "    </tr>\n",
       "    <tr>\n",
       "      <th>...</th>\n",
       "      <td>...</td>\n",
       "    </tr>\n",
       "    <tr>\n",
       "      <th>2023-11-01 00:00:00</th>\n",
       "      <td>13226</td>\n",
       "    </tr>\n",
       "    <tr>\n",
       "      <th>2023-11-01 01:00:00</th>\n",
       "      <td>13185</td>\n",
       "    </tr>\n",
       "    <tr>\n",
       "      <th>2023-11-01 02:00:00</th>\n",
       "      <td>12906</td>\n",
       "    </tr>\n",
       "    <tr>\n",
       "      <th>2023-11-01 03:00:00</th>\n",
       "      <td>12399</td>\n",
       "    </tr>\n",
       "    <tr>\n",
       "      <th>2023-11-01 04:00:00</th>\n",
       "      <td>11821</td>\n",
       "    </tr>\n",
       "  </tbody>\n",
       "</table>\n",
       "<p>44904 rows × 1 columns</p>\n",
       "</div>"
      ],
      "text/plain": [
       "                       DOM\n",
       "period                    \n",
       "2018-07-01 05:00:00   9775\n",
       "2018-07-01 06:00:00   9787\n",
       "2018-07-01 07:00:00  10453\n",
       "2018-07-01 08:00:00  11734\n",
       "2018-07-01 09:00:00  13084\n",
       "...                    ...\n",
       "2023-11-01 00:00:00  13226\n",
       "2023-11-01 01:00:00  13185\n",
       "2023-11-01 02:00:00  12906\n",
       "2023-11-01 03:00:00  12399\n",
       "2023-11-01 04:00:00  11821\n",
       "\n",
       "[44904 rows x 1 columns]"
      ]
     },
     "execution_count": 5,
     "metadata": {},
     "output_type": "execute_result"
    }
   ],
   "source": [
    "df = df_base.loc[:, [region]]\n",
    "df"
   ]
  },
  {
   "attachments": {},
   "cell_type": "markdown",
   "id": "9ca83b3b",
   "metadata": {
    "papermill": {
     "duration": 0.016592,
     "end_time": "2023-12-13T13:12:18.025008",
     "exception": false,
     "start_time": "2023-12-13T13:12:18.008416",
     "status": "completed"
    },
    "tags": []
   },
   "source": [
    "## Data Preprocessing"
   ]
  },
  {
   "cell_type": "markdown",
   "id": "d59253a2",
   "metadata": {
    "papermill": {
     "duration": 0.020771,
     "end_time": "2023-12-13T13:12:18.045779",
     "exception": false,
     "start_time": "2023-12-13T13:12:18.025008",
     "status": "completed"
    },
    "tags": []
   },
   "source": [
    "### Train Test Split"
   ]
  },
  {
   "cell_type": "code",
   "execution_count": 6,
   "id": "75158376",
   "metadata": {
    "execution": {
     "iopub.execute_input": "2023-12-13T13:12:18.061393Z",
     "iopub.status.busy": "2023-12-13T13:12:18.061393Z",
     "iopub.status.idle": "2023-12-13T13:12:18.524796Z",
     "shell.execute_reply": "2023-12-13T13:12:18.524796Z"
    },
    "papermill": {
     "duration": 0.477384,
     "end_time": "2023-12-13T13:12:18.524796",
     "exception": false,
     "start_time": "2023-12-13T13:12:18.047412",
     "status": "completed"
    },
    "tags": []
   },
   "outputs": [],
   "source": [
    "from sklearn.model_selection import train_test_split\n",
    "\n",
    "train, test = train_test_split(df, test_size=0.3, shuffle=False)\n",
    "test, prod = train_test_split(test, test_size=0.5, shuffle=False)"
   ]
  },
  {
   "cell_type": "markdown",
   "id": "cc34c71b",
   "metadata": {
    "papermill": {
     "duration": 0.011182,
     "end_time": "2023-12-13T13:12:18.541983",
     "exception": false,
     "start_time": "2023-12-13T13:12:18.530801",
     "status": "completed"
    },
    "tags": []
   },
   "source": [
    "### Export Data"
   ]
  },
  {
   "cell_type": "code",
   "execution_count": 7,
   "id": "8a9b1e8e",
   "metadata": {
    "execution": {
     "iopub.execute_input": "2023-12-13T13:12:18.562254Z",
     "iopub.status.busy": "2023-12-13T13:12:18.562254Z",
     "iopub.status.idle": "2023-12-13T13:12:18.674963Z",
     "shell.execute_reply": "2023-12-13T13:12:18.673963Z"
    },
    "papermill": {
     "duration": 0.13498,
     "end_time": "2023-12-13T13:12:18.676963",
     "exception": false,
     "start_time": "2023-12-13T13:12:18.541983",
     "status": "completed"
    },
    "tags": []
   },
   "outputs": [],
   "source": [
    "import os\n",
    "\n",
    "path_region = f'../data/regions/{region}'\n",
    "\n",
    "if not os.path.exists(path_region):\n",
    "    os.makedirs(path_region)\n",
    "\n",
    "for df, name in zip([train, test, prod], ['train', 'test', 'prod']):\n",
    "    df.to_csv(f'{path_region}/{name}.csv')"
   ]
  },
  {
   "attachments": {},
   "cell_type": "markdown",
   "id": "bd5f9dcc",
   "metadata": {
    "papermill": {
     "duration": 0.0,
     "end_time": "2023-12-13T13:12:18.725492",
     "exception": false,
     "start_time": "2023-12-13T13:12:18.725492",
     "status": "completed"
    },
    "tags": []
   },
   "source": [
    "### Scale Data"
   ]
  },
  {
   "cell_type": "code",
   "execution_count": 8,
   "id": "936fd433",
   "metadata": {
    "execution": {
     "iopub.execute_input": "2023-12-13T13:12:18.742264Z",
     "iopub.status.busy": "2023-12-13T13:12:18.742264Z",
     "iopub.status.idle": "2023-12-13T13:12:18.762161Z",
     "shell.execute_reply": "2023-12-13T13:12:18.762161Z"
    },
    "papermill": {
     "duration": 0.019897,
     "end_time": "2023-12-13T13:12:18.762161",
     "exception": false,
     "start_time": "2023-12-13T13:12:18.742264",
     "status": "completed"
    },
    "tags": []
   },
   "outputs": [],
   "source": [
    "from sklearn.preprocessing import MinMaxScaler\n",
    "\n",
    "scaler = MinMaxScaler(feature_range=(0, 1))\n",
    "\n",
    "train_norm = scaler.fit_transform(train)\n",
    "test_norm = scaler.transform(test)"
   ]
  },
  {
   "attachments": {},
   "cell_type": "markdown",
   "id": "9db3b166",
   "metadata": {
    "papermill": {
     "duration": 0.017344,
     "end_time": "2023-12-13T13:12:18.779505",
     "exception": false,
     "start_time": "2023-12-13T13:12:18.762161",
     "status": "completed"
    },
    "tags": []
   },
   "source": [
    "### Create Sequences"
   ]
  },
  {
   "cell_type": "code",
   "execution_count": 9,
   "id": "a6cff73d",
   "metadata": {
    "execution": {
     "iopub.execute_input": "2023-12-13T13:12:18.792363Z",
     "iopub.status.busy": "2023-12-13T13:12:18.792363Z",
     "iopub.status.idle": "2023-12-13T13:12:18.873496Z",
     "shell.execute_reply": "2023-12-13T13:12:18.873496Z"
    },
    "papermill": {
     "duration": 0.085211,
     "end_time": "2023-12-13T13:12:18.875717",
     "exception": false,
     "start_time": "2023-12-13T13:12:18.790506",
     "status": "completed"
    },
    "tags": []
   },
   "outputs": [],
   "source": [
    "import numpy as np\n",
    "\n",
    "def create_sequences(data, sequence_length):\n",
    "    X, y = [], []\n",
    "    for i in range(len(data) - sequence_length):\n",
    "        X.append(data[i:i+sequence_length])\n",
    "        y.append(data[i+sequence_length])\n",
    "    return np.array(X), np.array(y)\n",
    "\n",
    "sequence_length = 24 # Use 24 hours prior to predict the following hour\n",
    "X_train, y_train = create_sequences(train_norm, sequence_length)\n",
    "X_test, y_test = create_sequences(test_norm, sequence_length)"
   ]
  },
  {
   "attachments": {},
   "cell_type": "markdown",
   "id": "2cafe75d",
   "metadata": {
    "papermill": {
     "duration": 0.0,
     "end_time": "2023-12-13T13:12:18.878403",
     "exception": false,
     "start_time": "2023-12-13T13:12:18.878403",
     "status": "completed"
    },
    "tags": []
   },
   "source": [
    "## Modelling"
   ]
  },
  {
   "attachments": {},
   "cell_type": "markdown",
   "id": "8439801f",
   "metadata": {
    "papermill": {
     "duration": 0.0,
     "end_time": "2023-12-13T13:12:18.892853",
     "exception": false,
     "start_time": "2023-12-13T13:12:18.892853",
     "status": "completed"
    },
    "tags": []
   },
   "source": [
    "### Design NN Architecture"
   ]
  },
  {
   "cell_type": "code",
   "execution_count": 10,
   "id": "59c78c29",
   "metadata": {
    "execution": {
     "iopub.execute_input": "2023-12-13T13:12:18.924774Z",
     "iopub.status.busy": "2023-12-13T13:12:18.912556Z",
     "iopub.status.idle": "2023-12-13T13:12:20.436909Z",
     "shell.execute_reply": "2023-12-13T13:12:20.435909Z"
    },
    "papermill": {
     "duration": 1.525354,
     "end_time": "2023-12-13T13:12:20.437910",
     "exception": false,
     "start_time": "2023-12-13T13:12:18.912556",
     "status": "completed"
    },
    "tags": []
   },
   "outputs": [
    {
     "name": "stderr",
     "output_type": "stream",
     "text": [
      "c:\\Users\\jesus\\miniconda3\\envs\\tf-base\\lib\\site-packages\\tensorflow\\python\\framework\\dtypes.py:516: FutureWarning: Passing (type, 1) or '1type' as a synonym of type is deprecated; in a future version of numpy, it will be understood as (type, (1,)) / '(1,)type'.\n",
      "  _np_qint8 = np.dtype([(\"qint8\", np.int8, 1)])\n",
      "c:\\Users\\jesus\\miniconda3\\envs\\tf-base\\lib\\site-packages\\tensorflow\\python\\framework\\dtypes.py:517: FutureWarning: Passing (type, 1) or '1type' as a synonym of type is deprecated; in a future version of numpy, it will be understood as (type, (1,)) / '(1,)type'.\n",
      "  _np_quint8 = np.dtype([(\"quint8\", np.uint8, 1)])\n",
      "c:\\Users\\jesus\\miniconda3\\envs\\tf-base\\lib\\site-packages\\tensorflow\\python\\framework\\dtypes.py:518: FutureWarning: Passing (type, 1) or '1type' as a synonym of type is deprecated; in a future version of numpy, it will be understood as (type, (1,)) / '(1,)type'.\n",
      "  _np_qint16 = np.dtype([(\"qint16\", np.int16, 1)])\n",
      "c:\\Users\\jesus\\miniconda3\\envs\\tf-base\\lib\\site-packages\\tensorflow\\python\\framework\\dtypes.py:519: FutureWarning: Passing (type, 1) or '1type' as a synonym of type is deprecated; in a future version of numpy, it will be understood as (type, (1,)) / '(1,)type'.\n",
      "  _np_quint16 = np.dtype([(\"quint16\", np.uint16, 1)])\n",
      "c:\\Users\\jesus\\miniconda3\\envs\\tf-base\\lib\\site-packages\\tensorflow\\python\\framework\\dtypes.py:520: FutureWarning: Passing (type, 1) or '1type' as a synonym of type is deprecated; in a future version of numpy, it will be understood as (type, (1,)) / '(1,)type'.\n",
      "  _np_qint32 = np.dtype([(\"qint32\", np.int32, 1)])\n",
      "c:\\Users\\jesus\\miniconda3\\envs\\tf-base\\lib\\site-packages\\tensorflow\\python\\framework\\dtypes.py:525: FutureWarning: Passing (type, 1) or '1type' as a synonym of type is deprecated; in a future version of numpy, it will be understood as (type, (1,)) / '(1,)type'.\n",
      "  np_resource = np.dtype([(\"resource\", np.ubyte, 1)])\n"
     ]
    },
    {
     "name": "stdout",
     "output_type": "stream",
     "text": [
      "WARNING:tensorflow:From c:\\Users\\jesus\\miniconda3\\envs\\tf-base\\lib\\site-packages\\tensorflow\\python\\ops\\init_ops.py:1251: calling VarianceScaling.__init__ (from tensorflow.python.ops.init_ops) with dtype is deprecated and will be removed in a future version.\n",
      "Instructions for updating:\n",
      "Call initializer instance with the dtype argument instead of passing it to the constructor\n"
     ]
    },
    {
     "name": "stderr",
     "output_type": "stream",
     "text": [
      "c:\\Users\\jesus\\miniconda3\\envs\\tf-base\\lib\\site-packages\\tensorboard\\compat\\tensorflow_stub\\dtypes.py:541: FutureWarning: Passing (type, 1) or '1type' as a synonym of type is deprecated; in a future version of numpy, it will be understood as (type, (1,)) / '(1,)type'.\n",
      "  _np_qint8 = np.dtype([(\"qint8\", np.int8, 1)])\n",
      "c:\\Users\\jesus\\miniconda3\\envs\\tf-base\\lib\\site-packages\\tensorboard\\compat\\tensorflow_stub\\dtypes.py:542: FutureWarning: Passing (type, 1) or '1type' as a synonym of type is deprecated; in a future version of numpy, it will be understood as (type, (1,)) / '(1,)type'.\n",
      "  _np_quint8 = np.dtype([(\"quint8\", np.uint8, 1)])\n",
      "c:\\Users\\jesus\\miniconda3\\envs\\tf-base\\lib\\site-packages\\tensorboard\\compat\\tensorflow_stub\\dtypes.py:543: FutureWarning: Passing (type, 1) or '1type' as a synonym of type is deprecated; in a future version of numpy, it will be understood as (type, (1,)) / '(1,)type'.\n",
      "  _np_qint16 = np.dtype([(\"qint16\", np.int16, 1)])\n",
      "c:\\Users\\jesus\\miniconda3\\envs\\tf-base\\lib\\site-packages\\tensorboard\\compat\\tensorflow_stub\\dtypes.py:544: FutureWarning: Passing (type, 1) or '1type' as a synonym of type is deprecated; in a future version of numpy, it will be understood as (type, (1,)) / '(1,)type'.\n",
      "  _np_quint16 = np.dtype([(\"quint16\", np.uint16, 1)])\n",
      "c:\\Users\\jesus\\miniconda3\\envs\\tf-base\\lib\\site-packages\\tensorboard\\compat\\tensorflow_stub\\dtypes.py:545: FutureWarning: Passing (type, 1) or '1type' as a synonym of type is deprecated; in a future version of numpy, it will be understood as (type, (1,)) / '(1,)type'.\n",
      "  _np_qint32 = np.dtype([(\"qint32\", np.int32, 1)])\n",
      "c:\\Users\\jesus\\miniconda3\\envs\\tf-base\\lib\\site-packages\\tensorboard\\compat\\tensorflow_stub\\dtypes.py:550: FutureWarning: Passing (type, 1) or '1type' as a synonym of type is deprecated; in a future version of numpy, it will be understood as (type, (1,)) / '(1,)type'.\n",
      "  np_resource = np.dtype([(\"resource\", np.ubyte, 1)])\n"
     ]
    }
   ],
   "source": [
    "from tensorflow.keras.models import Sequential\n",
    "from tensorflow.keras.layers import LSTM, Dense\n",
    "\n",
    "model = Sequential()\n",
    "model.add(LSTM(50, input_shape=(X_train.shape[1], X_train.shape[2])))\n",
    "model.add(Dense(1))\n",
    "model.compile(optimizer='adam', loss='mean_squared_error')"
   ]
  },
  {
   "attachments": {},
   "cell_type": "markdown",
   "id": "944061f8",
   "metadata": {
    "papermill": {
     "duration": 0.007003,
     "end_time": "2023-12-13T13:12:20.452914",
     "exception": false,
     "start_time": "2023-12-13T13:12:20.445911",
     "status": "completed"
    },
    "tags": []
   },
   "source": [
    "### Train Model"
   ]
  },
  {
   "cell_type": "code",
   "execution_count": 11,
   "id": "0239d5df",
   "metadata": {
    "execution": {
     "iopub.execute_input": "2023-12-13T13:12:20.471918Z",
     "iopub.status.busy": "2023-12-13T13:12:20.470918Z",
     "iopub.status.idle": "2023-12-13T13:13:22.414628Z",
     "shell.execute_reply": "2023-12-13T13:13:22.413760Z"
    },
    "papermill": {
     "duration": 61.954715,
     "end_time": "2023-12-13T13:13:22.416630",
     "exception": false,
     "start_time": "2023-12-13T13:12:20.461915",
     "status": "completed"
    },
    "tags": []
   },
   "outputs": [
    {
     "name": "stdout",
     "output_type": "stream",
     "text": [
      "WARNING:tensorflow:From c:\\Users\\jesus\\miniconda3\\envs\\tf-base\\lib\\site-packages\\tensorflow\\python\\ops\\math_grad.py:1250: add_dispatch_support.<locals>.wrapper (from tensorflow.python.ops.array_ops) is deprecated and will be removed in a future version.\n",
      "Instructions for updating:\n",
      "Use tf.where in 2.0, which has the same broadcast rule as np.where\n"
     ]
    }
   ],
   "source": [
    "from tensorflow.keras.callbacks import EarlyStopping\n",
    "\n",
    "early_stop = EarlyStopping(monitor='val_loss', patience=5)\n",
    "\n",
    "history = model.fit(\n",
    "    X_train, y_train, epochs=50, batch_size=64, verbose=0,\n",
    "    validation_data=(X_test, y_test), callbacks=[early_stop])"
   ]
  },
  {
   "attachments": {},
   "cell_type": "markdown",
   "id": "30b4e8ed",
   "metadata": {
    "papermill": {
     "duration": 0.008002,
     "end_time": "2023-12-13T13:13:22.431633",
     "exception": false,
     "start_time": "2023-12-13T13:13:22.423631",
     "status": "completed"
    },
    "tags": []
   },
   "source": [
    "### Calculate Predictions"
   ]
  },
  {
   "cell_type": "code",
   "execution_count": 12,
   "id": "c3434f81",
   "metadata": {
    "execution": {
     "iopub.execute_input": "2023-12-13T13:13:22.450676Z",
     "iopub.status.busy": "2023-12-13T13:13:22.449948Z",
     "iopub.status.idle": "2023-12-13T13:13:23.029228Z",
     "shell.execute_reply": "2023-12-13T13:13:23.029228Z"
    },
    "papermill": {
     "duration": 0.590593,
     "end_time": "2023-12-13T13:13:23.031228",
     "exception": false,
     "start_time": "2023-12-13T13:13:22.440635",
     "status": "completed"
    },
    "tags": []
   },
   "outputs": [
    {
     "data": {
      "text/plain": [
       "array([[1.09887333e-05],\n",
       "       [1.09673128e-05],\n",
       "       [1.10773253e-05],\n",
       "       ...,\n",
       "       [1.16101583e-05],\n",
       "       [1.18159805e-05],\n",
       "       [1.20804762e-05]], dtype=float32)"
      ]
     },
     "execution_count": 12,
     "metadata": {},
     "output_type": "execute_result"
    }
   ],
   "source": [
    "y_pred = model.predict(X_test)\n",
    "y_pred"
   ]
  },
  {
   "attachments": {},
   "cell_type": "markdown",
   "id": "3e9a202a",
   "metadata": {
    "papermill": {
     "duration": 0.008002,
     "end_time": "2023-12-13T13:13:23.047232",
     "exception": false,
     "start_time": "2023-12-13T13:13:23.039230",
     "status": "completed"
    },
    "tags": []
   },
   "source": [
    "### Comparison: Real Data & Prediction"
   ]
  },
  {
   "attachments": {},
   "cell_type": "markdown",
   "id": "0201b525",
   "metadata": {
    "papermill": {
     "duration": 0.008001,
     "end_time": "2023-12-13T13:13:23.065236",
     "exception": false,
     "start_time": "2023-12-13T13:13:23.057235",
     "status": "completed"
    },
    "tags": []
   },
   "source": [
    "#### Descale Data"
   ]
  },
  {
   "cell_type": "code",
   "execution_count": 13,
   "id": "34d14823",
   "metadata": {
    "execution": {
     "iopub.execute_input": "2023-12-13T13:13:23.081240Z",
     "iopub.status.busy": "2023-12-13T13:13:23.081240Z",
     "iopub.status.idle": "2023-12-13T13:13:23.091532Z",
     "shell.execute_reply": "2023-12-13T13:13:23.091532Z"
    },
    "papermill": {
     "duration": 0.021295,
     "end_time": "2023-12-13T13:13:23.093533",
     "exception": false,
     "start_time": "2023-12-13T13:13:23.072238",
     "status": "completed"
    },
    "tags": []
   },
   "outputs": [],
   "source": [
    "y_pred_scaled_inverse = scaler.inverse_transform(y_pred)\n",
    "y_true = scaler.inverse_transform(y_test)"
   ]
  },
  {
   "attachments": {},
   "cell_type": "markdown",
   "id": "a755191c",
   "metadata": {
    "papermill": {
     "duration": 0.009002,
     "end_time": "2023-12-13T13:13:23.109537",
     "exception": false,
     "start_time": "2023-12-13T13:13:23.100535",
     "status": "completed"
    },
    "tags": []
   },
   "source": [
    "#### Create DataFrame"
   ]
  },
  {
   "cell_type": "code",
   "execution_count": 14,
   "id": "29e40722",
   "metadata": {
    "execution": {
     "iopub.execute_input": "2023-12-13T13:13:23.127541Z",
     "iopub.status.busy": "2023-12-13T13:13:23.127541Z",
     "iopub.status.idle": "2023-12-13T13:13:23.154410Z",
     "shell.execute_reply": "2023-12-13T13:13:23.154410Z"
    },
    "papermill": {
     "duration": 0.037871,
     "end_time": "2023-12-13T13:13:23.156410",
     "exception": false,
     "start_time": "2023-12-13T13:13:23.118539",
     "status": "completed"
    },
    "tags": []
   },
   "outputs": [
    {
     "data": {
      "text/html": [
       "<div>\n",
       "<style scoped>\n",
       "    .dataframe tbody tr th:only-of-type {\n",
       "        vertical-align: middle;\n",
       "    }\n",
       "\n",
       "    .dataframe tbody tr th {\n",
       "        vertical-align: top;\n",
       "    }\n",
       "\n",
       "    .dataframe thead th {\n",
       "        text-align: right;\n",
       "    }\n",
       "</style>\n",
       "<table border=\"1\" class=\"dataframe\">\n",
       "  <thead>\n",
       "    <tr style=\"text-align: right;\">\n",
       "      <th></th>\n",
       "      <th>y_pred</th>\n",
       "      <th>y_pred_scaled_inverse</th>\n",
       "      <th>y_true</th>\n",
       "    </tr>\n",
       "  </thead>\n",
       "  <tbody>\n",
       "    <tr>\n",
       "      <th>0</th>\n",
       "      <td>0.000011</td>\n",
       "      <td>23942.761719</td>\n",
       "      <td>10041.0</td>\n",
       "    </tr>\n",
       "    <tr>\n",
       "      <th>1</th>\n",
       "      <td>0.000011</td>\n",
       "      <td>23910.060547</td>\n",
       "      <td>10317.0</td>\n",
       "    </tr>\n",
       "    <tr>\n",
       "      <th>2</th>\n",
       "      <td>0.000011</td>\n",
       "      <td>24078.009766</td>\n",
       "      <td>10728.0</td>\n",
       "    </tr>\n",
       "    <tr>\n",
       "      <th>3</th>\n",
       "      <td>0.000011</td>\n",
       "      <td>24208.281250</td>\n",
       "      <td>11160.0</td>\n",
       "    </tr>\n",
       "    <tr>\n",
       "      <th>4</th>\n",
       "      <td>0.000011</td>\n",
       "      <td>24371.609375</td>\n",
       "      <td>10953.0</td>\n",
       "    </tr>\n",
       "    <tr>\n",
       "      <th>...</th>\n",
       "      <td>...</td>\n",
       "      <td>...</td>\n",
       "      <td>...</td>\n",
       "    </tr>\n",
       "    <tr>\n",
       "      <th>6707</th>\n",
       "      <td>0.000011</td>\n",
       "      <td>24692.578125</td>\n",
       "      <td>12312.0</td>\n",
       "    </tr>\n",
       "    <tr>\n",
       "      <th>6708</th>\n",
       "      <td>0.000011</td>\n",
       "      <td>24694.976562</td>\n",
       "      <td>12673.0</td>\n",
       "    </tr>\n",
       "    <tr>\n",
       "      <th>6709</th>\n",
       "      <td>0.000012</td>\n",
       "      <td>24891.449219</td>\n",
       "      <td>13446.0</td>\n",
       "    </tr>\n",
       "    <tr>\n",
       "      <th>6710</th>\n",
       "      <td>0.000012</td>\n",
       "      <td>25205.664062</td>\n",
       "      <td>14501.0</td>\n",
       "    </tr>\n",
       "    <tr>\n",
       "      <th>6711</th>\n",
       "      <td>0.000012</td>\n",
       "      <td>25609.453125</td>\n",
       "      <td>15078.0</td>\n",
       "    </tr>\n",
       "  </tbody>\n",
       "</table>\n",
       "<p>6712 rows × 3 columns</p>\n",
       "</div>"
      ],
      "text/plain": [
       "        y_pred  y_pred_scaled_inverse   y_true\n",
       "0     0.000011           23942.761719  10041.0\n",
       "1     0.000011           23910.060547  10317.0\n",
       "2     0.000011           24078.009766  10728.0\n",
       "3     0.000011           24208.281250  11160.0\n",
       "4     0.000011           24371.609375  10953.0\n",
       "...        ...                    ...      ...\n",
       "6707  0.000011           24692.578125  12312.0\n",
       "6708  0.000011           24694.976562  12673.0\n",
       "6709  0.000012           24891.449219  13446.0\n",
       "6710  0.000012           25205.664062  14501.0\n",
       "6711  0.000012           25609.453125  15078.0\n",
       "\n",
       "[6712 rows x 3 columns]"
      ]
     },
     "execution_count": 14,
     "metadata": {},
     "output_type": "execute_result"
    }
   ],
   "source": [
    "dic_pred = {\n",
    "    'y_pred': y_pred.flatten(),\n",
    "    'y_pred_scaled_inverse': y_pred_scaled_inverse.flatten(),\n",
    "    'y_true': y_true.flatten(),\n",
    "}\n",
    "\n",
    "df_pred = pd.DataFrame(dic_pred)\n",
    "df_pred"
   ]
  },
  {
   "attachments": {},
   "cell_type": "markdown",
   "id": "d82c7f64",
   "metadata": {
    "papermill": {
     "duration": 0.010003,
     "end_time": "2023-12-13T13:13:23.174415",
     "exception": false,
     "start_time": "2023-12-13T13:13:23.164412",
     "status": "completed"
    },
    "tags": []
   },
   "source": [
    "#### Evaluate Model"
   ]
  },
  {
   "cell_type": "code",
   "execution_count": 15,
   "id": "ddf248bf",
   "metadata": {
    "execution": {
     "iopub.execute_input": "2023-12-13T13:13:23.192419Z",
     "iopub.status.busy": "2023-12-13T13:13:23.192419Z",
     "iopub.status.idle": "2023-12-13T13:13:23.202421Z",
     "shell.execute_reply": "2023-12-13T13:13:23.202421Z"
    },
    "papermill": {
     "duration": 0.022003,
     "end_time": "2023-12-13T13:13:23.204421",
     "exception": false,
     "start_time": "2023-12-13T13:13:23.182418",
     "status": "completed"
    },
    "tags": []
   },
   "outputs": [],
   "source": [
    "from sklearn.metrics import mean_squared_error"
   ]
  },
  {
   "cell_type": "code",
   "execution_count": 16,
   "id": "78f1debf",
   "metadata": {
    "execution": {
     "iopub.execute_input": "2023-12-13T13:13:23.236176Z",
     "iopub.status.busy": "2023-12-13T13:13:23.235176Z",
     "iopub.status.idle": "2023-12-13T13:13:23.249181Z",
     "shell.execute_reply": "2023-12-13T13:13:23.249181Z"
    },
    "papermill": {
     "duration": 0.025009,
     "end_time": "2023-12-13T13:13:23.251181",
     "exception": false,
     "start_time": "2023-12-13T13:13:23.226172",
     "status": "completed"
    },
    "tags": []
   },
   "outputs": [
    {
     "data": {
      "text/plain": [
       "11926.042663641"
      ]
     },
     "execution_count": 16,
     "metadata": {},
     "output_type": "execute_result"
    }
   ],
   "source": [
    "mean_squared_error(df_pred.y_true, df_pred.y_pred_scaled_inverse, squared=False)"
   ]
  },
  {
   "cell_type": "code",
   "execution_count": 17,
   "id": "cdfd5636",
   "metadata": {
    "execution": {
     "iopub.execute_input": "2023-12-13T13:13:23.268185Z",
     "iopub.status.busy": "2023-12-13T13:13:23.268185Z",
     "iopub.status.idle": "2023-12-13T13:13:23.375523Z",
     "shell.execute_reply": "2023-12-13T13:13:23.374522Z"
    },
    "papermill": {
     "duration": 0.118339,
     "end_time": "2023-12-13T13:13:23.376522",
     "exception": false,
     "start_time": "2023-12-13T13:13:23.258183",
     "status": "completed"
    },
    "tags": []
   },
   "outputs": [],
   "source": [
    "model.save(f'../models/{region}.keras')"
   ]
  }
 ],
 "metadata": {
  "kernelspec": {
   "display_name": "deep-learning",
   "language": "python",
   "name": "python3"
  },
  "language_info": {
   "codemirror_mode": {
    "name": "ipython",
    "version": 3
   },
   "file_extension": ".py",
   "mimetype": "text/x-python",
   "name": "python",
   "nbconvert_exporter": "python",
   "pygments_lexer": "ipython3",
   "version": "3.7.12"
  },
  "papermill": {
   "default_parameters": {},
   "duration": 67.807049,
   "end_time": "2023-12-13T13:13:23.848609",
   "environment_variables": {},
   "exception": null,
   "input_path": "Modelling.ipynb",
   "output_path": "outputs/DOM.ipynb",
   "parameters": {
    "region": "DOM"
   },
   "start_time": "2023-12-13T13:12:16.041560",
   "version": "2.4.0"
  }
 },
 "nbformat": 4,
 "nbformat_minor": 5
}